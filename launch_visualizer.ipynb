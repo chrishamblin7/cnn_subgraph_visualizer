{
 "cells": [
  {
   "cell_type": "code",
   "execution_count": 1,
   "metadata": {},
   "outputs": [
    {
     "data": {
      "text/html": [
       "        <script type=\"text/javascript\">\n",
       "        window.PlotlyConfig = {MathJaxConfig: 'local'};\n",
       "        if (window.MathJax) {MathJax.Hub.Config({SVG: {font: \"STIX-Web\"}});}\n",
       "        if (typeof require !== 'undefined') {\n",
       "        require.undef(\"plotly\");\n",
       "        requirejs.config({\n",
       "            paths: {\n",
       "                'plotly': ['https://cdn.plot.ly/plotly-latest.min']\n",
       "            }\n",
       "        });\n",
       "        require(['plotly'], function(Plotly) {\n",
       "            window._Plotly = Plotly;\n",
       "        });\n",
       "        }\n",
       "        </script>\n",
       "        "
      ]
     },
     "metadata": {},
     "output_type": "display_data"
    },
    {
     "name": "stdout",
     "output_type": "stream",
     "text": [
      "possible models to visualizer are:\n",
      "['mnist_resize', 'mnist_old', '.keep', 'mnist', 'alexnet10', 'alexnet10_test_old', 'letter_mixed_not_trained', 'alexnet10_test', 'alexnet_old', 'mnist.tgz', 'alexnet', 'letter_mixed', 'googlenet10_test', 'cifar10_old', 'googlenet10']\n",
      "\n",
      "You've chosen to visualize alexnet\n"
     ]
    }
   ],
   "source": [
    "#fetch command line argument (prepped model)\n",
    "#%reset\n",
    "import sys\n",
    "import os\n",
    "from copy import deepcopy\n",
    "import pickle\n",
    "import torch\n",
    "import plotly.offline as py\n",
    "import plotly.graph_objs as go\n",
    "\n",
    "\n",
    "sys.path.insert(0, os.path.abspath('./prep_model_scripts/'))\n",
    "sys.path.insert(0, os.path.abspath('./visualizer_scripts/'))\n",
    "from visualizer_helper_functions import *\n",
    "from contrast_helper_functions import *\n",
    "from featureviz_helper_functions import *\n",
    "from dissected_Conv2d import *\n",
    "from copy import deepcopy\n",
    "\n",
    "\n",
    "py.init_notebook_mode(connected=True)   #jupyter notebook only\n",
    "\n",
    "prepped_model_folder = 'alexnet'    #set this to a subfolder of prunned_models\n",
    "\n",
    "full_prepped_model_folder = os.path.abspath('prepped_models/%s'%prepped_model_folder)\n",
    "\n",
    "possible_models = os.listdir('prepped_models')\n",
    "print('possible models to visualizer are:')\n",
    "print(possible_models)\n",
    "\n",
    "print('\\nYou\\'ve chosen to visualize %s'%prepped_model_folder)\n",
    "\n",
    "\n",
    "sys.path.insert(0,'prepped_models/%s'%prepped_model_folder)\n",
    "\n",
    "import prep_model_params_used as prep_model_params\n",
    "\n",
    "params = {}\n",
    "params['prepped_model'] = prepped_model_folder\n",
    "params['prepped_model_path'] = full_prepped_model_folder"
   ]
  },
  {
   "cell_type": "code",
   "execution_count": 2,
   "metadata": {},
   "outputs": [],
   "source": [
    "#Parameters\n",
    "\n",
    "#Non-GUI parameters\n",
    "\n",
    "#deepviz\n",
    "params['deepviz_param'] = None\n",
    "params['deepviz_optim'] = None\n",
    "params['deepviz_transforms'] = None\n",
    "\n",
    "#backend\n",
    "params['cuda'] = prep_model_params.cuda    #use gpu acceleration when running model forward\n",
    "params['input_image_directory'] = prep_model_params.input_img_path+'/'   #path to directory of imput images you want fed through the network\n",
    "params['preprocess'] = prep_model_params.preprocess     #torchvision transfrom to pass input images through\n",
    "params['label_file_path'] = prep_model_params.label_file_path\n",
    "params['criterion'] = prep_model_params.criterion\n",
    "params['rank_img_path'] = prep_model_params.rank_img_path\n",
    "params['num_workers'] = prep_model_params.num_workers\n",
    "params['seed'] = prep_model_params.seed\n",
    "params['batch_size'] = prep_model_params.batch_size\n",
    "#params['dynamic_act_cache_num'] = 4  #max number of input image activations 'dynamic_activations' will have simultaneously\n",
    "\n",
    " \n",
    "#aesthetic \n",
    "\n",
    "params['node_size'] = 12\n",
    "params['edge_size'] = 1\n",
    "params['max_node_inputs'] = 20    #there is a dropdown showing the top weighted edge inputs to nodes, how many maps in dropdown?\n",
    "params['layer_colors'] = ['rgba(31,119,180,', \n",
    "                          'rgba(255,127,14,',\n",
    "                          'rgba(44,160,44,', \n",
    "                          'rgba(214,39,40,',\n",
    "                          'rgba(39, 208, 214,', \n",
    "                          'rgba(242, 250, 17,',\n",
    "                          'rgba(196, 94, 255,',\n",
    "                          'rgba(193, 245, 5,',\n",
    "                          'rgba(245, 85, 5,',\n",
    "                          'rgba(5, 165, 245,',\n",
    "                          'rgba(245, 5, 105,',\n",
    "                          'rgba(218, 232, 23,',\n",
    "                          'rgba(148, 23, 232,',\n",
    "                          'rgba(23, 232, 166,',]\n",
    "\n",
    "\n",
    "\n",
    "\n",
    "#GUI parameters initialization (these parameters can be set in the GUI, but what values should they be initialized to?)\n",
    "target_category = 'overall'     #category of images edges and nodes are weighted based on (which subgraph) \n",
    "rank_type = 'actxgrad'       #weighting criterion (actxgrad, act, grad, or weight)\n",
    "projection = 'MDS'           #how nodes within a layer are projected into the 2d plane (MDS or Grid)\n",
    "edge_threshold = [.1,1]     #what range do edge ranks need to be in to be visualized\n",
    "\n",
    "\n",
    "#### DONT EDIT BELOW initializations\n",
    "\n",
    "figure_init = go.Figure()\n",
    "figure_init.add_trace(go.Scatter(\n",
    "            x=[],\n",
    "            y=[]))\n",
    "figure_init.update_layout(xaxis=dict(visible=False),\n",
    "                  yaxis=dict(visible=False),\n",
    "                  annotations = [dict(text=\"No Inputs\",\n",
    "                                      xref=\"paper\",\n",
    "                                      yref=\"paper\",\n",
    "                                      showarrow=False,\n",
    "                                      font=dict(size=28))]\n",
    "                 )\n",
    "\n",
    "params['max_edge_weight'] = 1  #for the edge threshold slider, this dynamically adjusted its max value to max edge rank\n",
    "                     #before there were multiple rank criterions, which made things confusing\n",
    "                     #so well just fix it to 1 for now"
   ]
  },
  {
   "cell_type": "code",
   "execution_count": 3,
   "metadata": {},
   "outputs": [
    {
     "name": "stdout",
     "output_type": "stream",
     "text": [
      "loaded model:\n",
      "AlexNet(\n",
      "  (features): Sequential(\n",
      "    (0): Conv2d(3, 64, kernel_size=(11, 11), stride=(4, 4), padding=(2, 2))\n",
      "    (1): ReLU(inplace=True)\n",
      "    (2): MaxPool2d(kernel_size=3, stride=2, padding=0, dilation=1, ceil_mode=False)\n",
      "    (3): Conv2d(64, 192, kernel_size=(5, 5), stride=(1, 1), padding=(2, 2))\n",
      "    (4): ReLU(inplace=True)\n",
      "    (5): MaxPool2d(kernel_size=3, stride=2, padding=0, dilation=1, ceil_mode=False)\n",
      "    (6): Conv2d(192, 384, kernel_size=(3, 3), stride=(1, 1), padding=(1, 1))\n",
      "    (7): ReLU(inplace=True)\n",
      "    (8): Conv2d(384, 256, kernel_size=(3, 3), stride=(1, 1), padding=(1, 1))\n",
      "    (9): ReLU(inplace=True)\n",
      "    (10): Conv2d(256, 256, kernel_size=(3, 3), stride=(1, 1), padding=(1, 1))\n",
      "    (11): ReLU(inplace=True)\n",
      "    (12): MaxPool2d(kernel_size=3, stride=2, padding=0, dilation=1, ceil_mode=False)\n",
      "  )\n",
      "  (avgpool): AdaptiveAvgPool2d(output_size=(6, 6))\n",
      "  (classifier): Sequential(\n",
      "    (0): Dropout(p=0.5, inplace=False)\n",
      "    (1): Linear(in_features=9216, out_features=4096, bias=True)\n",
      "    (2): ReLU(inplace=True)\n",
      "    (3): Dropout(p=0.5, inplace=False)\n",
      "    (4): Linear(in_features=4096, out_features=4096, bias=True)\n",
      "    (5): ReLU(inplace=True)\n",
      "    (6): Linear(in_features=4096, out_features=1000, bias=True)\n",
      "  )\n",
      ")\n"
     ]
    }
   ],
   "source": [
    "#load Model\n",
    "\n",
    "model_dis = dissect_model(deepcopy(prep_model_params.model),store_ranks=True,clear_ranks=True,cuda=params['cuda']) #version of model with accessible preadd activations in Conv2d modules \n",
    "if params['cuda']:\n",
    "    model_dis.cuda()\n",
    "model_dis = model_dis.eval()    \n",
    "\n",
    "print('loaded model:')\n",
    "print(prep_model_params.model)\n",
    "        \n",
    "#del prep_model_params.model\n",
    "model = prep_model_params.model\n",
    "if params['cuda']:\n",
    "    model.cuda()\n",
    "model = model.eval()\n"
   ]
  },
  {
   "cell_type": "code",
   "execution_count": 4,
   "metadata": {},
   "outputs": [
    {
     "name": "stdout",
     "output_type": "stream",
     "text": [
      "loading misc graph data\n",
      "model has categories:\n",
      "['overall', 'Afghan_hound', 'African_chameleon', 'African_crocodile', 'African_elephant', 'African_grey', 'African_hunting_dog', 'Airedale', 'American_Staffordshire_terrier', 'American_alligator', 'American_black_bear', 'American_chameleon', 'American_coot', 'American_egret', 'American_lobster', 'Angora', 'Appenzeller', 'Arabian_camel', 'Arctic_fox', 'Australian_terrier', 'Band_Aid', 'Bedlington_terrier', 'Bernese_mountain_dog', 'Blenheim_spaniel', 'Border_collie', 'Border_terrier', 'Boston_bull', 'Bouvier_des_Flandres', 'Brabancon_griffon', 'Brittany_spaniel', 'CD_player', 'Cardigan_corgi', 'Chesapeake_Bay_retriever', 'Chihuahua', 'Christmas_stocking', 'Crock_Pot', 'Dandie_Dinmont', 'Doberman', 'Dungeness_crab', 'Dutch_oven', 'Egyptian_cat', 'English_foxhound', 'English_setter', 'English_springer', 'EntleBucher', 'Eskimo_dog', 'European_fire_salamander', 'European_gallinule', 'French_bulldog', 'French_horn', 'French_loaf', 'German_shepherd', 'German_short_haired_pointer', 'Gila_monster', 'Gordon_setter', 'Granny_Smith', 'Great_Dane', 'Great_Pyrenees', 'Greater_Swiss_Mountain_dog', 'Ibizan_hound', 'Indian_cobra', 'Indian_elephant', 'Irish_setter', 'Irish_terrier', 'Irish_water_spaniel', 'Irish_wolfhound', 'Italian_greyhound', 'Japanese_spaniel', 'Kerry_blue_terrier', 'Komodo_dragon', 'Labrador_retriever', 'Lakeland_terrier', 'Leonberg', 'Lhasa', 'Loafer', 'Madagascar_cat', 'Maltese_dog', 'Mexican_hairless', 'Model_T', 'Newfoundland', 'Norfolk_terrier', 'Norwegian_elkhound', 'Norwich_terrier', 'Old_English_sheepdog', 'Pekinese', 'Pembroke', 'Persian_cat', 'Petri_dish', 'Polaroid_camera', 'Pomeranian', 'Rhodesian_ridgeback', 'Rottweiler', 'Saint_Bernard', 'Saluki', 'Samoyed', 'Scotch_terrier', 'Scottish_deerhound', 'Sealyham_terrier', 'Shetland_sheepdog', 'Shih_Tzu', 'Siamese_cat', 'Siberian_husky', 'Staffordshire_bullterrier', 'Sussex_spaniel', 'Tibetan_mastiff', 'Tibetan_terrier', 'Walker_hound', 'Weimaraner', 'Welsh_springer_spaniel', 'West_Highland_white_terrier', 'Windsor_tie', 'Yorkshire_terrier', 'abacus', 'abaya', 'academic_gown', 'accordion', 'acorn', 'acorn_squash', 'acoustic_guitar', 'admiral', 'affenpinscher', 'agama', 'agaric', 'aircraft_carrier', 'airliner', 'airship', 'albatross', 'alligator_lizard', 'alp', 'altar', 'ambulance', 'amphibian', 'analog_clock', 'anemone_fish', 'ant', 'apiary', 'apron', 'armadillo', 'artichoke', 'ashcan', 'assault_rifle', 'axolotl', 'baboon', 'backpack', 'badger', 'bagel', 'bakery', 'balance_beam', 'bald_eagle', 'balloon', 'ballplayer', 'ballpoint', 'banana', 'banded_gecko', 'banjo', 'bannister', 'barbell', 'barber_chair', 'barbershop', 'barn', 'barn_spider', 'barometer', 'barracouta', 'barrel', 'barrow', 'baseball', 'basenji', 'basketball', 'basset', 'bassinet', 'bassoon', 'bath_towel', 'bathing_cap', 'bathtub', 'beach_wagon', 'beacon', 'beagle', 'beaker', 'bearskin', 'beaver', 'bee', 'bee_eater', 'beer_bottle', 'beer_glass', 'bell_cote', 'bell_pepper', 'bib', 'bicycle_built_for_two', 'bighorn', 'bikini', 'binder', 'binoculars', 'birdhouse', 'bison', 'bittern', 'black_and_gold_garden_spider', 'black_and_tan_coonhound', 'black_footed_ferret', 'black_grouse', 'black_stork', 'black_swan', 'black_widow', 'bloodhound', 'bluetick', 'boa_constrictor', 'boathouse', 'bobsled', 'bolete', 'bolo_tie', 'bonnet', 'book_jacket', 'bookcase', 'bookshop', 'borzoi', 'bottlecap', 'bow', 'bow_tie', 'box_turtle', 'boxer', 'brain_coral', 'brambling', 'brass', 'brassiere', 'breakwater', 'breastplate', 'briard', 'broccoli', 'broom', 'brown_bear', 'bubble', 'bucket', 'buckeye', 'buckle', 'bulbul', 'bull_mastiff', 'bullet_train', 'bulletproof_vest', 'bullfrog', 'burrito', 'bustard', 'butcher_shop', 'butternut_squash', 'cab', 'cabbage_butterfly', 'cairn', 'caldron', 'can_opener', 'candle', 'cannon', 'canoe', 'capuchin', 'car_mirror', 'car_wheel', 'carbonara', 'cardigan_sweater', 'cardoon', 'carousel', 'carpenters_kit', 'carton', 'cash_machine', 'cassette', 'cassette_player', 'castle', 'catamaran', 'cauliflower', 'cello', 'cellular_telephone', 'centipede', 'chain', 'chain_mail', 'chain_saw', 'chainlink_fence', 'chambered_nautilus', 'cheeseburger', 'cheetah', 'chest', 'chickadee', 'chiffonier', 'chime', 'chimpanzee', 'china_cabinet', 'chiton', 'chocolate_sauce', 'chow', 'church', 'cicada', 'cinema', 'cleaver', 'cliff', 'cliff_dwelling', 'cloak', 'clog', 'clumber', 'cocker_spaniel', 'cockroach', 'cocktail_shaker', 'coffee_mug', 'coffeepot', 'coho', 'coil', 'collie', 'colobus', 'combination_lock', 'comic_book', 'common_iguana', 'common_newt', 'computer_keyboard', 'conch', 'confectionery', 'consomme', 'container_ship', 'convertible', 'coral_fungus', 'coral_reef', 'corkscrew', 'corn', 'cornet', 'coucal', 'cougar', 'cowboy_boot', 'cowboy_hat', 'coyote', 'cradle', 'crane_bird', 'crane_equipment', 'crash_helmet', 'crate', 'crayfish', 'crib', 'cricket', 'croquet_ball', 'crossword_puzzle', 'crutch', 'cucumber', 'cuirass', 'cup', 'curly_coated_retriever', 'custard_apple', 'daisy', 'dalmatian', 'dam', 'damselfly', 'desk', 'desktop_computer', 'dhole', 'dial_telephone', 'diamondback', 'diaper', 'digital_clock', 'digital_watch', 'dingo', 'dining_table', 'dishrag', 'dishwasher', 'disk_brake', 'dock', 'dogsled', 'dome', 'doormat', 'dough', 'dowitcher', 'dragonfly', 'drake', 'drilling_platform', 'drum', 'drumstick', 'dugong', 'dumbbell', 'dung_beetle', 'ear', 'earthstar', 'echidna', 'eel', 'eft', 'eggnog', 'electric_fan', 'electric_guitar', 'electric_locomotive', 'electric_ray', 'entertainment_center', 'envelope', 'espresso', 'espresso_maker', 'face_powder', 'feather_boa', 'fiddler_crab', 'fig', 'file', 'fire_engine', 'fire_screen', 'fireboat', 'flagpole', 'flamingo', 'flat_coated_retriever', 'flatworm', 'flute', 'fly', 'folding_chair', 'football_helmet', 'forklift', 'fountain', 'fountain_pen', 'four_poster', 'fox_squirrel', 'freight_car', 'frilled_lizard', 'frying_pan', 'fur_coat', 'gar', 'garbage_truck', 'garden_spider', 'garter_snake', 'gas_pump', 'gasmask', 'gazelle', 'geyser', 'giant_panda', 'giant_schnauzer', 'gibbon', 'go_kart', 'goblet', 'golden_retriever', 'goldfinch', 'goldfish', 'golf_ball', 'golfcart', 'gondola', 'gong', 'goose', 'gorilla', 'gown', 'grand_piano', 'grasshopper', 'great_grey_owl', 'great_white_shark', 'green_lizard', 'green_mamba', 'green_snake', 'greenhouse', 'grey_fox', 'grey_whale', 'grille', 'grocery_store', 'groenendael', 'groom', 'ground_beetle', 'guacamole', 'guenon', 'guillotine', 'guinea_pig', 'gyromitra', 'hair_slide', 'hair_spray', 'half_track', 'hammer', 'hammerhead', 'hamper', 'hamster', 'hand_blower', 'hand_held_computer', 'handkerchief', 'hard_disc', 'hare', 'harmonica', 'harp', 'hartebeest', 'harvester', 'harvestman', 'hatchet', 'hay', 'head_cabbage', 'hen', 'hen_of_the_woods', 'hermit_crab', 'hip', 'hippopotamus', 'hog', 'hognose_snake', 'holster', 'home_theater', 'honeycomb', 'hook', 'hoopskirt', 'horizontal_bar', 'hornbill', 'horned_viper', 'horse_cart', 'hot_pot', 'hotdog', 'hourglass', 'house_finch', 'howler_monkey', 'hummingbird', 'hyena', 'iPod', 'ibex', 'ice_bear', 'ice_cream', 'ice_lolly', 'impala', 'indigo_bunting', 'indri', 'iron', 'isopod', 'jacamar', 'jack_o_lantern', 'jackfruit', 'jaguar', 'jay', 'jean', 'jeep', 'jellyfish', 'jersey', 'jigsaw_puzzle', 'jinrikisha', 'joystick', 'junco', 'keeshond', 'kelpie', 'killer_whale', 'kimono', 'king_crab', 'king_penguin', 'king_snake', 'kit_fox', 'kite', 'knee_pad', 'knot', 'koala', 'komondor', 'kuvasz', 'lab_coat', 'lacewing', 'ladle', 'ladybug', 'lakeside', 'lampshade', 'langur', 'laptop', 'lawn_mower', 'leaf_beetle', 'leafhopper', 'leatherback_turtle', 'lemon', 'lens_cap', 'leopard', 'lesser_panda', 'letter_opener', 'library', 'lifeboat', 'lighter', 'limousine', 'limpkin', 'liner', 'lion', 'lionfish', 'lipstick', 'little_blue_heron', 'llama', 'loggerhead', 'long_horned_beetle', 'lorikeet', 'lotion', 'loudspeaker', 'loupe', 'lumbermill', 'lycaenid', 'lynx', 'macaque', 'macaw', 'magnetic_compass', 'magpie', 'mailbag', 'mailbox', 'maillot_1', 'maillot_2', 'malamute', 'malinois', 'manhole_cover', 'mantis', 'maraca', 'marimba', 'marmoset', 'marmot', 'mashed_potato', 'mask', 'matchstick', 'maypole', 'maze', 'measuring_cup', 'meat_loaf', 'medicine_chest', 'meerkat', 'megalith', 'menu', 'microphone', 'microwave', 'military_uniform', 'milk_can', 'miniature_pinscher', 'miniature_poodle', 'miniature_schnauzer', 'minibus', 'miniskirt', 'minivan', 'mink', 'missile', 'mitten', 'mixing_bowl', 'mobile_home', 'modem', 'monarch', 'monastery', 'mongoose', 'monitor', 'moped', 'mortar', 'mortarboard', 'mosque', 'mosquito_net', 'motor_scooter', 'mountain_bike', 'mountain_tent', 'mouse', 'mousetrap', 'moving_van', 'mud_turtle', 'mushroom', 'muzzle', 'nail', 'neck_brace', 'necklace', 'nematode', 'night_snake', 'nipple', 'notebook', 'obelisk', 'oboe', 'ocarina', 'odometer', 'oil_filter', 'orange', 'orangutan', 'organ', 'oscilloscope', 'ostrich', 'otter', 'otterhound', 'overskirt', 'ox', 'oxcart', 'oxygen_mask', 'oystercatcher', 'packet', 'paddle', 'paddlewheel', 'padlock', 'paintbrush', 'pajama', 'palace', 'panpipe', 'paper_towel', 'papillon', 'parachute', 'parallel_bars', 'park_bench', 'parking_meter', 'partridge', 'passenger_car', 'patas', 'patio', 'pay_phone', 'peacock', 'pedestal', 'pelican', 'pencil_box', 'pencil_sharpener', 'perfume', 'photocopier', 'pick', 'pickelhaube', 'picket_fence', 'pickup', 'pier', 'piggy_bank', 'pill_bottle', 'pillow', 'pineapple', 'ping_pong_ball', 'pinwheel', 'pirate', 'pitcher', 'pizza', 'plane', 'planetarium', 'plastic_bag', 'plate', 'plate_rack', 'platypus', 'plow', 'plunger', 'pole', 'polecat', 'police_van', 'pomegranate', 'poncho', 'pool_table', 'pop_bottle', 'porcupine', 'pot', 'potpie', 'potters_wheel', 'power_drill', 'prairie_chicken', 'prayer_rug', 'pretzel', 'printer', 'prison', 'proboscis_monkey', 'projectile', 'projector', 'promontory', 'ptarmigan', 'puck', 'puffer', 'pug', 'punching_bag', 'purse', 'quail', 'quill', 'quilt', 'racer', 'racket', 'radiator', 'radio', 'radio_telescope', 'rain_barrel', 'ram', 'rapeseed', 'recreational_vehicle', 'red_backed_sandpiper', 'red_breasted_merganser', 'red_fox', 'red_wine', 'red_wolf', 'redbone', 'redshank', 'reel', 'reflex_camera', 'refrigerator', 'remote_control', 'restaurant', 'revolver', 'rhinoceros_beetle', 'rifle', 'ringlet', 'ringneck_snake', 'robin', 'rock_beauty', 'rock_crab', 'rock_python', 'rocking_chair', 'rooster', 'rotisserie', 'rubber_eraser', 'ruddy_turnstone', 'ruffed_grouse', 'rugby_ball', 'rule', 'running_shoe', 'safe', 'safety_pin', 'saltshaker', 'sandal', 'sandbar', 'sarong', 'sax', 'scabbard', 'scale', 'schipperke', 'school_bus', 'schooner', 'scoreboard', 'scorpion', 'screen', 'screw', 'screwdriver', 'scuba_diver', 'sea_anemone', 'sea_cucumber', 'sea_lion', 'sea_slug', 'sea_snake', 'sea_urchin', 'seashore', 'seat_belt', 'sewing_machine', 'shield', 'shoe_shop', 'shoji', 'shopping_basket', 'shopping_cart', 'shovel', 'shower_cap', 'shower_curtain', 'siamang', 'sidewinder', 'silky_terrier', 'ski', 'ski_mask', 'skunk', 'sleeping_bag', 'slide_rule', 'sliding_door', 'slot', 'sloth_bear', 'slug', 'snail', 'snorkel', 'snow_leopard', 'snowmobile', 'snowplow', 'soap_dispenser', 'soccer_ball', 'sock', 'soft_coated_wheaten_terrier', 'solar_dish', 'sombrero', 'sorrel', 'soup_bowl', 'space_bar', 'space_heater', 'space_shuttle', 'spaghetti_squash', 'spatula', 'speedboat', 'spider_monkey', 'spider_web', 'spindle', 'spiny_lobster', 'spoonbill', 'sports_car', 'spotlight', 'spotted_salamander', 'squirrel_monkey', 'stage', 'standard_poodle', 'standard_schnauzer', 'starfish', 'steam_locomotive', 'steel_arch_bridge', 'steel_drum', 'stethoscope', 'stingray', 'stinkhorn', 'stole', 'stone_wall', 'stopwatch', 'stove', 'strainer', 'strawberry', 'street_sign', 'streetcar', 'stretcher', 'studio_couch', 'stupa', 'sturgeon', 'submarine', 'suit', 'sulphur_butterfly', 'sulphur_crested_cockatoo', 'sundial', 'sunglass', 'sunglasses', 'sunscreen', 'suspension_bridge', 'swab', 'sweatshirt', 'swimming_trunks', 'swing', 'switch', 'syringe', 'tabby', 'table_lamp', 'tailed_frog', 'tank', 'tape_player', 'tarantula', 'teapot', 'teddy', 'television', 'tench', 'tennis_ball', 'terrapin', 'thatch', 'theater_curtain', 'thimble', 'three_toed_sloth', 'thresher', 'throne', 'thunder_snake', 'tick', 'tiger', 'tiger_beetle', 'tiger_cat', 'tiger_shark', 'tile_roof', 'timber_wolf', 'titi', 'toaster', 'tobacco_shop', 'toilet_seat', 'toilet_tissue', 'torch', 'totem_pole', 'toucan', 'tow_truck', 'toy_poodle', 'toy_terrier', 'toyshop', 'tractor', 'traffic_light', 'trailer_truck', 'tray', 'tree_frog', 'trench_coat', 'triceratops', 'tricycle', 'trifle', 'trilobite', 'trimaran', 'tripod', 'triumphal_arch', 'trolleybus', 'trombone', 'tub', 'turnstile', 'tusker', 'typewriter_keyboard', 'umbrella', 'unicycle', 'upright', 'vacuum', 'valley', 'vase', 'vault', 'velvet', 'vending_machine', 'vestment', 'viaduct', 'vine_snake', 'violin', 'vizsla', 'volcano', 'volleyball', 'vulture', 'waffle_iron', 'walking_stick', 'wall_clock', 'wallaby', 'wallet', 'wardrobe', 'warplane', 'warthog', 'washbasin', 'washer', 'water_bottle', 'water_buffalo', 'water_jug', 'water_ouzel', 'water_snake', 'water_tower', 'weasel', 'web_site', 'weevil', 'whippet', 'whiptail', 'whiskey_jug', 'whistle', 'white_stork', 'white_wolf', 'wig', 'wild_boar', 'window_screen', 'window_shade', 'wine_bottle', 'wing', 'wire_haired_fox_terrier', 'wok', 'wolf_spider', 'wombat', 'wood_rabbit', 'wooden_spoon', 'wool', 'worm_fence', 'wreck', 'yawl', 'yellow_ladys_slipper', 'yurt', 'zebra', 'zucchini']\n"
     ]
    }
   ],
   "source": [
    "#load misc graph data\n",
    "print('loading misc graph data')\n",
    "misc_data = pickle.load(open('./prepped_models/%s/misc_graph_data.pkl'%prepped_model_folder,'rb'))\n",
    "params['layer_nodes'] = misc_data['layer_nodes']\n",
    "params['num_layers'] = misc_data['num_layers']\n",
    "params['num_nodes'] = misc_data['num_nodes']\n",
    "params['categories'] = misc_data['categories']\n",
    "params['num_img_chan'] = misc_data['num_img_chan']\n",
    "params['imgnode_positions'] = misc_data['imgnode_positions']\n",
    "params['imgnode_colors'] = misc_data['imgnode_colors']\n",
    "params['imgnode_names'] = misc_data['imgnode_names']\n",
    "params['prepped_model_path'] = full_prepped_model_folder\n",
    "params['ranks_data_path'] = full_prepped_model_folder+'/ranks/'\n",
    "\n",
    "\n",
    "print('model has categories:')\n",
    "print(params['categories'])"
   ]
  },
  {
   "cell_type": "code",
   "execution_count": 5,
   "metadata": {},
   "outputs": [
    {
     "name": "stdout",
     "output_type": "stream",
     "text": [
      "loading nodes rank data\n",
      "loading node position data\n"
     ]
    }
   ],
   "source": [
    "#load nodes df\n",
    "print('loading nodes rank data')\n",
    "target_node = 'loss'\n",
    "\n",
    "categories_nodes_df = pd.read_csv('prepped_models/%s/ranks/categories_nodes_ranks.csv'%prepped_model_folder)\n",
    "target_nodes_df = categories_nodes_df.loc[categories_nodes_df['category']==target_category]\n",
    "\n",
    "weight_nodes_df = pd.read_csv('prepped_models/%s/ranks/weight_nodes_ranks.csv'%prepped_model_folder)\n",
    "\n",
    "node_colors,node_weights = gen_node_colors(target_nodes_df,rank_type,params) \n",
    "\n",
    "#load node positions\n",
    "print('loading node position data')\n",
    "all_node_positions = pickle.load(open('./prepped_models/%s/node_positions.pkl'%prepped_model_folder,'rb'))\n",
    "\n",
    "if projection == 'MDS':\n",
    "    node_positions = all_node_positions[projection][rank_type+'_norm']\n",
    "else:\n",
    "    node_positions = all_node_positions[projection]\n",
    "\n"
   ]
  },
  {
   "cell_type": "code",
   "execution_count": 6,
   "metadata": {},
   "outputs": [
    {
     "name": "stdout",
     "output_type": "stream",
     "text": [
      "loading edge data\n"
     ]
    }
   ],
   "source": [
    "#load edges\n",
    "print('loading edge data')\n",
    "\n",
    "categories_edges_df = None\n",
    "if os.path.exists('prepped_models/%s/edge_ranks.csv'%prepped_model_folder):\n",
    "    categories_edges_df = pd.read_csv('prepped_models/%s/ranks/categories_edges_ranks.csv'%prepped_model_folder)   #load edges\n",
    "\n",
    "if categories_edges_df is not None:\n",
    "    #overall_edges_df = categories_edges_df.loc[categories_edges_df['category']=='overall']\n",
    "    target_edges_df = categories_edges_df.loc[categories_edges_df['category']==target_category]\n",
    "else:\n",
    "    #overall_edges_df = rank_file_2_df(os.path.join(params['ranks_data_path'],'categories_edges','overall_edges_rank.pt'))\n",
    "    target_edges_df = rank_file_2_df(os.path.join(params['ranks_data_path'],'categories_edges','%s_edges_rank.pt'%target_category))\n",
    "\n",
    "    \n",
    "weight_edges_df = pd.read_csv('prepped_models/%s/ranks/weight_edges_ranks.csv'%prepped_model_folder)\n",
    "    \n",
    "edges_thresholded_df = get_thresholded_edges(edge_threshold,rank_type,target_edges_df,target_category)\n",
    "    \n",
    "num_edges = len(target_edges_df)\n",
    "edges_df_columns = list(target_edges_df.columns)\n",
    "\n",
    "edge_positions, edge_colors, edge_widths, edge_weights, edge_names, max_edge_width_indices = gen_edge_graphdata(edges_thresholded_df, node_positions, rank_type, target_category,params)"
   ]
  },
  {
   "cell_type": "code",
   "execution_count": 7,
   "metadata": {},
   "outputs": [
    {
     "name": "stdout",
     "output_type": "stream",
     "text": [
      "loading convolutional kernels\n"
     ]
    }
   ],
   "source": [
    "#Load Edge Kernels\n",
    "print('loading convolutional kernels')\n",
    "kernels = torch.load('prepped_models/%s/kernels.pt'%prepped_model_folder)"
   ]
  },
  {
   "cell_type": "code",
   "execution_count": 8,
   "metadata": {},
   "outputs": [],
   "source": [
    "#Input Image names\n",
    "params['input_image_directory'] = prep_model_params.input_img_path+'/'\n",
    "params['input_image_list'] = os.listdir(params['input_image_directory'])\n",
    "params['input_image_list'].sort()\n",
    "input_image_name = params['input_image_list'][0]"
   ]
  },
  {
   "cell_type": "code",
   "execution_count": 9,
   "metadata": {},
   "outputs": [
    {
     "name": "stdout",
     "output_type": "stream",
     "text": [
      "loading activation maps\n"
     ]
    }
   ],
   "source": [
    "#Format Node Feature Maps\n",
    "print('loading activation maps')\n",
    "\n",
    "all_activations = {'nodes':{},'edges_in':{},'edges_out':{}}\n",
    "if os.path.exists('prepped_models/%s/input_img_activations.pt'%prepped_model_folder):\n",
    "    all_activations = torch.load('prepped_models/%s/input_img_activations.pt'%prepped_model_folder)\n"
   ]
  },
  {
   "cell_type": "code",
   "execution_count": 10,
   "metadata": {},
   "outputs": [],
   "source": [
    "#hidden state, stores python values within the html itself\n",
    "state = {'projection':projection,'rank_type':rank_type,'edge_positions':edge_positions,'edge_colors': edge_colors, 'edge_widths':edge_widths,'edge_names':edge_names,\n",
    "         'edge_threshold':edge_threshold,'edge_weights':edge_weights,'max_edge_width_indices':max_edge_width_indices,\n",
    "         'node_positions':node_positions,'node_colors':node_colors,'node_weights':node_weights,'target_category':target_category,'target_node':'loss',\n",
    "         'node_select_history':['0'],'edge_select_history':[edge_names[0][0]],'last_trigger':None,'input_image_name':input_image_name,\n",
    "         'imgnode_positions':params['imgnode_positions'],'imgnode_colors':params['imgnode_colors'],'imgnode_names':params['imgnode_names']}\n"
   ]
  },
  {
   "cell_type": "code",
   "execution_count": 11,
   "metadata": {},
   "outputs": [],
   "source": [
    "#App Component Layouts\n",
    "axis=dict(showbackground=False,\n",
    "          showspikes=False,\n",
    "          showline=False,\n",
    "          zeroline=False,\n",
    "          showgrid=False,\n",
    "          showticklabels=False,\n",
    "          #range=[0,0],\n",
    "          title=''\n",
    "          )\n",
    "\n",
    "camera = dict(\n",
    "    up=dict(x=0, y=0, z=1),\n",
    "    center=dict(x=0, y=0, z=0),\n",
    "    eye=dict(x=-1.00, y=-1.25, z=1.25)\n",
    ")\n",
    "\n",
    "\n",
    "network_graph_layout = go.Layout(\n",
    "         #title=\"%s through Prunned Cifar10 CNN\"%target_category,\n",
    "         #title = target_category,\n",
    "         #width=1000,\n",
    "         clickmode = 'event+select',\n",
    "         transition = {'duration': 20},\n",
    "         height=400,\n",
    "         #showlegend=False,\n",
    "         margin = dict(l=20, r=20, t=20, b=20),\n",
    "         scene=dict(\n",
    "             xaxis=dict(axis),\n",
    "             yaxis=dict(axis),\n",
    "             zaxis=dict(axis),\n",
    "             aspectmode =\"manual\", \n",
    "             aspectratio = dict(x=1, y=0.5, z=0.5) #adjusting this stretches the network layer-to-layer\n",
    "         ),\n",
    "         scene_camera = camera,\n",
    "         uirevision =  True   \n",
    "         #hovermode='closest',\n",
    "   )\n",
    "\n",
    "\n",
    "input_image_layout = go.Layout(#width=200, \n",
    "                      #height=200,\n",
    "                      uirevision = True,\n",
    "                      margin=dict(\n",
    "                        l=12,\n",
    "                        r=1,\n",
    "                        b=12,\n",
    "                        t=1,\n",
    "                        pad=10\n",
    "                        ),\n",
    "                        paper_bgcolor='rgba(0,0,0,0)',\n",
    "                        plot_bgcolor='rgba(0,0,0,0)',\n",
    "                        xaxis=dict(range=(0,10),showline=False,showgrid=False,showticklabels=False),\n",
    "                        yaxis=dict(range=(0,10),showline=False,showgrid=False,showticklabels=False))\n",
    "\n",
    "\n",
    "node_actmap_layout = go.Layout(\n",
    "    #autosize=False,\n",
    "    #width=270,\n",
    "    #height=200,\n",
    "    uirevision = True,\n",
    "    margin=dict(\n",
    "        l=1,\n",
    "        r=1,\n",
    "        b=1,\n",
    "        t=1,\n",
    "        pad=1\n",
    "    ))\n",
    "\n",
    "\n",
    "edge_inmap_layout = go.Layout(\n",
    "    #title = 'edge input map',\n",
    "    #autosize=False,\n",
    "    #width=270,\n",
    "    #height=200,\n",
    "    uirevision = True,\n",
    "    margin=dict(\n",
    "        l=1,\n",
    "        r=1,\n",
    "        b=1,\n",
    "        t=10,\n",
    "        pad=1\n",
    "    ))\n",
    "\n",
    "\n",
    "edge_outmap_layout = go.Layout(\n",
    "    #title = 'edge output map',\n",
    "    #autosize=False,\n",
    "    #width=270,\n",
    "    #height=200,\n",
    "    uirevision = True,\n",
    "    margin=dict(\n",
    "        l=1,\n",
    "        r=1,\n",
    "        b=1,\n",
    "        t=10,\n",
    "        pad=1\n",
    "    ))\n",
    "\n",
    "\n",
    "kernel_layout = go.Layout(\n",
    "    #title='kernel'\n",
    "    #autosize=False,\n",
    "    #width=180,\n",
    "    #height=120,\n",
    "    uirevision = True,\n",
    "    margin=dict(\n",
    "        l=1,\n",
    "        r=1,\n",
    "        b=1,\n",
    "        t=1,\n",
    "        pad=1\n",
    "    ))\n"
   ]
  },
  {
   "cell_type": "code",
   "execution_count": 12,
   "metadata": {},
   "outputs": [
    {
     "name": "stdout",
     "output_type": "stream",
     "text": [
      "building graph from browser \"state\"\n"
     ]
    }
   ],
   "source": [
    "#Generate Network Graph\n",
    "combined_traces = gen_networkgraph_traces(state,params,categories_nodes_df)\n",
    "network_graph_fig=go.Figure(data=combined_traces, layout=network_graph_layout)"
   ]
  },
  {
   "cell_type": "code",
   "execution_count": 13,
   "metadata": {},
   "outputs": [
    {
     "name": "stdout",
     "output_type": "stream",
     "text": [
      "setting up dash app\n"
     ]
    }
   ],
   "source": [
    "#Dash App Setup\n",
    "print('setting up dash app')\n",
    "\n",
    "import dash\n",
    "import dash_core_components as dcc\n",
    "import dash_html_components as html\n",
    "#import utils.dash_reusable_components as drc\n",
    "import flask\n",
    "import os\n",
    "\n",
    "import json\n",
    "\n",
    "from dash.dependencies import Input, Output, State\n",
    "\n",
    "from plotly.subplots import make_subplots\n",
    "\n",
    "from flask_caching import Cache\n",
    "\n",
    "#external_stylesheets = ['https://codepen.io/amyoshino/pen/jzXypZ.css']\n",
    "external_stylesheets = ['https://codepen.io/chriddyp/pen/bWLwgP.css']\n",
    "\n",
    "app = dash.Dash(external_stylesheets = external_stylesheets)\n",
    "\n",
    "\n",
    "\n",
    "if not os.path.exists(full_prepped_model_folder+'/cache/'):\n",
    "    os.mkdir(full_prepped_model_folder+'/cache/')\n",
    "CACHE_CONFIG = {\n",
    "    # try 'filesystem' if you don't want to setup redis\n",
    "    'CACHE_TYPE': 'filesystem',\n",
    "    'CACHE_DIR': full_prepped_model_folder+'/cache/'}\n",
    "cache = Cache()\n",
    "cache.init_app(app.server, config=CACHE_CONFIG)\n",
    "    \n",
    "\n",
    "\n",
    "styles = {\n",
    "    'pre': {\n",
    "        'border': 'thin lightgrey solid',\n",
    "        'overflowX': 'scroll'\n",
    "    }\n",
    "}\n",
    "\n",
    "\n",
    "theme =  {\n",
    "    'dark': True,\n",
    "    'detail': '#007439',\n",
    "    'primary': '#00EA64',\n",
    "    'secondary': '#6E6E6E',\n",
    "}\n",
    "\n",
    "\n",
    "app.layout = html.Div([\n",
    "        html.Div(\n",
    "            children = [\n",
    "                \n",
    "            html.Div(\n",
    "                #Left side control panel\n",
    "                children = [\n",
    "                 html.Label('Input'),\n",
    "                 #dcc.Dropdown(\n",
    "                 #  id='weight-category',\n",
    "                 #  options=[{'label': i, 'value': i} for i in params['categories']],\n",
    "                 #   value=target_category\n",
    "                 #   ),\n",
    "                dcc.Input(id='input-category',value=state['target_category']),\n",
    "                html.Label('Output'),\n",
    "                 #dcc.Dropdown(\n",
    "                 #  id='weight-category',\n",
    "                 #  options=[{'label': i, 'value': i} for i in params['categories']],\n",
    "                 #   value=target_category\n",
    "                 #   ),\n",
    "                dcc.Dropdown(\n",
    "                    id='target-node',\n",
    "                    options=[\n",
    "                    {'label': i, 'value': i} for i in ['loss']+[str(node) for node in list(range(params['num_nodes']))]\n",
    "                    ],\n",
    "                    value=state['target_node']),\n",
    "                 html.Br(),\n",
    "                 html.Label('Subgraph Criterion'),\n",
    "                 dcc.Dropdown(\n",
    "                    id='subgraph-criterion',\n",
    "                    options=[\n",
    "                        {'label': 'Activations*Grads', 'value': 'actxgrad'},\n",
    "                        {'label': 'Activations', 'value': 'act'},\n",
    "                        {'label': 'Gradients', 'value': 'grad'},\n",
    "                        {'label': 'Weights', 'value': 'weight'}\n",
    "                    ],\n",
    "                    value='actxgrad'\n",
    "                    ),\n",
    "                 html.Br(),   \n",
    "                 html.Label('Layer Projection'),\n",
    "                 dcc.Dropdown(\n",
    "                    id = 'layer-projection',\n",
    "                    options=[\n",
    "                        {'label': 'MDS', 'value': 'MDS'},\n",
    "                        {'label': 'Grid', 'value': 'Grid'},\n",
    "                        #{'label': 'SOM', 'value': 'SOM'}\n",
    "                    ],\n",
    "                    value='MDS'\n",
    "                    ),\n",
    "\n",
    "                html.Br(),\n",
    "                html.Label('Edge Thresholds'),\n",
    "                    dcc.RangeSlider(\n",
    "                        id='edge-thresh-slider',\n",
    "                        min=0,\n",
    "                        max=np.ceil(params['max_edge_weight']*10)/10,\n",
    "                        step=0.001,\n",
    "                        marks={i/10: str(i/10) for i in range(0,int(np.ceil(params['max_edge_weight']*10))+1,int(round(np.ceil(params['max_edge_weight']*10)/5)))},\n",
    "                        value=[.1,np.ceil(params['max_edge_weight']*10)/10],\n",
    "                    ),\n",
    "\n",
    "                ], className=\"two columns\",\n",
    "                ),\n",
    "                \n",
    "            html.Div([\n",
    "                dcc.Graph(\n",
    "                    id='network-graph',\n",
    "                    figure=network_graph_fig\n",
    "                )\n",
    "                ], className= 'ten columns'\n",
    "                ),\n",
    "            ], className=\"row\"\n",
    "        ),\n",
    "\n",
    "\n",
    "                \n",
    "        html.Div([\n",
    "            html.Div([\n",
    "            html.Label('Input Image'),\n",
    "            dcc.Dropdown(\n",
    "                id='input-image-dropdown',\n",
    "                options=[{'label': i, 'value': i} for i in params['input_image_list']+os.listdir(params['prepped_model_path']+'/visualizations/images/')],\n",
    "                value=input_image_name\n",
    "            ),\n",
    "            html.Br(),\n",
    "            dcc.Graph(\n",
    "                id='img-actmap-graph',\n",
    "                style={\n",
    "               'width': '14vw',\n",
    "               'height':'14vw'\n",
    "                },\n",
    "                figure=image2heatmap(params['input_image_directory']+input_image_name,input_image_layout),\n",
    "                config={\n",
    "                        'displayModeBar': False\n",
    "                        }\n",
    "            )\n",
    "            ], className = \"two columns\"),\n",
    "\n",
    "            html.Div([\n",
    "            html.Label('Node'),\n",
    "            dcc.Dropdown(\n",
    "                id='node-actmap-dropdown',\n",
    "                options=[{'label': str(j), 'value': str(j)} for j in params['imgnode_names']]+[{'label': str(i), 'value': str(i)} for i in range(params['num_nodes'])],\n",
    "                value='0'\n",
    "            ),\n",
    "            html.Br(),\n",
    "            dcc.Graph(\n",
    "                id='node-actmap-graph',\n",
    "                style={\n",
    "               'width': '19vw',\n",
    "               'height':'14vw'\n",
    "                },\n",
    "                figure=figure_init,\n",
    "                config={\n",
    "                        'displayModeBar': False\n",
    "                        }\n",
    "            ),\n",
    "            html.Br(),\n",
    "            html.Br(),\n",
    "            dcc.Graph(\n",
    "                id='node-deepviz-image',\n",
    "                style={\n",
    "               'width': '14vw',\n",
    "               'height':'14vw'\n",
    "                },\n",
    "                figure=figure_init,\n",
    "                config={\n",
    "                        'displayModeBar': False\n",
    "                        }\n",
    "            )\n",
    "            ], className = \"three columns\"),\n",
    "            \n",
    "            html.Div([\n",
    "            html.Label('Node Inputs'),\n",
    "            html.Br(),\n",
    "            html.Div(dcc.Graph(\n",
    "                id='node-inputs-graph',\n",
    "                figure=figure_init,\n",
    "                config={\n",
    "                        'displayModeBar': False\n",
    "                        }\n",
    "            ),style={'overflowY': 'scroll', 'height': 500})\n",
    "            ], className = \"two columns\"),\n",
    "\n",
    "            html.Div([\n",
    "            html.Label('Edge'),    \n",
    "            dcc.Input(\n",
    "                id='edge-actmaps-input',value=state['edge_names'][0][0], type='text'),\n",
    "            #html.Button(id='edge-kernel-button',n_clicks=0, children='Submit'),\n",
    "            html.Br(),\n",
    "            html.Br(),\n",
    "            dcc.Graph(\n",
    "                id='edge-kernel-graph',\n",
    "                style={\n",
    "               'width': '14vw',\n",
    "               'height':'10vw'\n",
    "                },\n",
    "                figure=go.Figure(data=go.Heatmap(\n",
    "                                    z = edgename_2_edge_figures(state['edge_names'][0][0], input_image_name, kernels, None,params)[0]),\n",
    "                                 layout=kernel_layout\n",
    "                                ),\n",
    "                config={\n",
    "                        'displayModeBar': False\n",
    "                        }\n",
    "            ),\n",
    "            html.Br(),\n",
    "            html.Br(),\n",
    "            dcc.Graph(\n",
    "                id='edge-deepviz-image',\n",
    "                style={\n",
    "               'width': '14vw',\n",
    "               'height':'14vw'\n",
    "                },\n",
    "                figure=figure_init,\n",
    "                config={\n",
    "                        'displayModeBar': False\n",
    "                        }\n",
    "            )\n",
    "            ], className = \"two columns\"),\n",
    "\n",
    "\n",
    "            html.Div([\n",
    "            html.Label('Edge Input'),\n",
    "            html.Br(),\n",
    "            dcc.Graph(\n",
    "                id='edge-inmap-graph',\n",
    "                style={\n",
    "               'width': '19vw',\n",
    "               'height':'14vw'\n",
    "                },\n",
    "                figure=figure_init,\n",
    "                config={\n",
    "                        'displayModeBar': False\n",
    "                        }\n",
    "            ),\n",
    "            html.Br(),\n",
    "            html.Br(),\n",
    "            html.Label('Edge Output'),\n",
    "            html.Br(),\n",
    "            dcc.Graph(\n",
    "                id='edge-outmap-graph',\n",
    "                style={\n",
    "               'width': '19vw',\n",
    "               'height':'14vw'\n",
    "                },\n",
    "                figure=figure_init,\n",
    "                config={\n",
    "                        'displayModeBar': False\n",
    "                        }\n",
    "            )\n",
    "\n",
    "            ], className = \"three columns\")\n",
    "\n",
    "\n",
    "         ], className= 'row'\n",
    "         ),\n",
    "                \n",
    "                \n",
    "        html.Div([\n",
    "            html.Div([\n",
    "                dcc.Markdown(\"\"\"\n",
    "                    **Hover Data**\n",
    "\n",
    "                    Mouse over values in the graph.\n",
    "                \"\"\"),\n",
    "                html.Pre(id='hover-data', style=styles['pre'])\n",
    "            ], className='two columns'),\n",
    "\n",
    "            html.Div([\n",
    "                dcc.Markdown(\"\"\"\n",
    "                    **Click Data**\n",
    "\n",
    "                    Click on points in the graph.\n",
    "                \"\"\"),\n",
    "                html.Pre(id='click-data', style=styles['pre']),\n",
    "            ], className='two columns'),\n",
    "\n",
    "            html.Div([\n",
    "                dcc.Markdown(\"\"\"\n",
    "                    **Selection Data**\n",
    "\n",
    "                    Choose the lasso or rectangle tool in the graph's menu\n",
    "                    bar and then select points in the graph.\n",
    "\n",
    "                    Note that if `layout.clickmode = 'event+select'`, selection data also \n",
    "                    accumulates (or un-accumulates) selected data if you hold down the shift\n",
    "                    button while clicking.\n",
    "                \"\"\"),\n",
    "                html.Pre(id='selected-data', style=styles['pre']),\n",
    "            ], className='two columns'),\n",
    "\n",
    "#                 html.Div([\n",
    "#                     dcc.Markdown(\"\"\"\n",
    "#                         **Zoom and Relayout Data**\n",
    "\n",
    "#                         Click and drag on the graph to zoom or click on the zoom\n",
    "#                         buttons in the graph's menu bar.\n",
    "#                         Clicking on legend items will also fire\n",
    "#                         this event.\n",
    "#                     \"\"\"),\n",
    "#                     html.Pre(id='relayout-data', style=styles['pre']),\n",
    "#                 ], className='two columns')\n",
    "                \n",
    "            html.Div([\n",
    "                dcc.Markdown(\"\"\"\n",
    "                    **Figure Data**\n",
    "\n",
    "                    Figure json info.\n",
    "                \"\"\"),\n",
    "                html.Pre(id='figure-data', style=styles['pre']),\n",
    "            ], className='four columns')\n",
    "\n",
    "        ], className= 'row'\n",
    "        ),\n",
    "\n",
    "    #hidden divs for storing intermediate values     \n",
    "    # The memory store reverts to the default on every page refresh\n",
    "    dcc.Store(id='memory',data=state),\n",
    "    # The local store will take the initial data\n",
    "    # only the first time the page is loaded\n",
    "    # and keep it until it is cleared.\n",
    "    #dcc.Store(id='local', storage_type='local'),\n",
    "    # Same as the local store but will lose the data\n",
    "    # when the browser/tab closes.\n",
    "    #dcc.Store(id='session', storage_type='session',data=state),\n",
    "    \n",
    "\n",
    "    # hidden signal value\n",
    "    html.Div(id='input-image-signal',  style={'display': 'none'}),\n",
    "    html.Div(id='target-signal', style={'display': 'none'},children = [state['target_category'],state['target_node']])\n",
    "\n",
    "])\n",
    "\n",
    "\n",
    "\n",
    "# perform expensive computations in this \"global store\"\n",
    "# these computations are cached in a globally available\n",
    "# redis memory store which is available across processes\n",
    "# and for all time.\n",
    "@cache.memoize()\n",
    "def activations_store(image_name):\n",
    "\n",
    "    print('Updating cached activations with {}'.format(image_name))\n",
    "    activations = get_model_activations_from_image(get_image_path(image_name,params)[1], model_dis, params)\n",
    "    \n",
    "    return activations\n",
    "\n",
    "@app.callback(Output('input-image-signal', 'children'), \n",
    "              [Input('input-image-dropdown', 'value')])\n",
    "def update_activations_store(image_name):\n",
    "    # compute value and send a signal when done\n",
    "    activations_store(image_name)\n",
    "    return image_name\n",
    "\n",
    "\n",
    "@cache.memoize()\n",
    "def ranksdf_store(target_category, target_node,model_dis=model_dis):\n",
    "    print('Updating cached rank dfs with {}'.format(target_category))\n",
    "    model_dis = clear_ranks_across_model(model_dis)\n",
    "    target_type = image_category_or_contrast(target_category,params)\n",
    "    target_category_nodes_df = None\n",
    "    target_category_edges_df = None\n",
    "    if target_type == 'category' and target_node == 'loss':\n",
    "        #edges\n",
    "        if categories_edges_df is not None:\n",
    "            if len(categories_edges_df.loc[categories_edges_df['category']==target_category]) > 0:\n",
    "                target_category_edges_df = categories_edges_df.loc[categories_edges_df['category']==target_category]\n",
    "        if target_category_edges_df is None:\n",
    "            target_category_edges_df = rank_file_2_df(os.path.join(params['ranks_data_path'],'categories_edges','%s_edges_rank.pt'%target_category))   \n",
    "        #node\n",
    "        if categories_nodes_df is not None:\n",
    "            if len(categories_nodes_df.loc[categories_nodes_df['category']==target_category]) > 0:\n",
    "                target_category_nodes_df = categories_nodes_df.loc[categories_nodes_df['category']==target_category]\n",
    "        if target_category_nodes_df is None:\n",
    "            target_category_nodes_df = rank_file_2_df(os.path.join(params['ranks_data_path'],'categories_nodes','%s_nodes_rank.pt'%target_category))\n",
    "    elif target_type == 'category':\n",
    "        target_category_nodes_df,target_category_edges_df = rank_dict_2_df(get_model_ranks_for_category(target_category, target_node, model_dis,params))\n",
    "    elif target_type == 'input_image':\n",
    "        target_category_nodes_df,target_category_edges_df = rank_dict_2_df(get_model_ranks_from_image(get_image_path(target_category,params)[1],target_node, model_dis, params))\n",
    "        print(target_category_nodes_df.head(5))\n",
    "        print(target_category_edges_df.head(5))\n",
    "    else:  #contrast\n",
    "        target_category_nodes_df,target_category_edges_df = contrast_str_2_dfs(target_category,target_node,model_dis,params)\n",
    "\n",
    "    return target_category_nodes_df,target_category_edges_df\n",
    "\n",
    "@app.callback(Output('target-signal', 'children'), \n",
    "              [Input('input-category', 'value'),\n",
    "               Input('target-node','value')])\n",
    "def update_ranksdf_store(target_category,target_node):\n",
    "    # compute value and send a signal when done\n",
    "    print('update ranksdf_store triggered')\n",
    "    ranksdf_store(target_category,target_node)\n",
    "    return [target_category,target_node]\n",
    "\n",
    "\n",
    "\n",
    "####Call Back Functions\n",
    "\n",
    "#Hidden State\n",
    "@app.callback(\n",
    "    Output('memory', 'data'),\n",
    "    [Input('target-signal', 'children'),\n",
    "     Input('node-actmap-dropdown', 'value'),\n",
    "     Input('edge-actmaps-input', 'value'),\n",
    "     Input('edge-thresh-slider','value'),\n",
    "     Input('layer-projection','value'),\n",
    "     Input('subgraph-criterion','value')],\n",
    "    [State('memory', 'data')])\n",
    "def update_store(target,node_value,edge_value,edge_threshold,projection,rank_type,state):\n",
    "    print('CALLED: update_store\\n')\n",
    "    ctx = dash.callback_context\n",
    "    if not ctx.triggered:\n",
    "        raise Exception('no figure updates yet')\n",
    "    else:\n",
    "        trigger = ctx.triggered[0]['prop_id']\n",
    "    state['last_trigger'] = trigger  #store the last trigger of state change in state\n",
    "    print('TRIGGER %s'%trigger)\n",
    "\n",
    "    target_category,target_node = target[0],target[1]\n",
    "    #fetch select edges DF\n",
    "    if trigger in ['target-signal.children','edge-thresh-slider.value','layer-projection.value','subgraph-criterion.value']:\n",
    "        if rank_type == 'weight':\n",
    "            target_edges_df = weight_edges_df\n",
    "            target_nodes_df = weight_nodes_df\n",
    "            edges_thresholded_df = get_thresholded_edges(edge_threshold,rank_type,target_edges_df,target_category)\n",
    "        else:   \n",
    "            target_nodes_df,target_edges_df = ranksdf_store(target_category,target_node)\n",
    "            edges_thresholded_df = get_thresholded_edges(edge_threshold,rank_type,target_edges_df,target_category)\n",
    "\n",
    "    if trigger == 'target-signal.children':\n",
    "        print('changing target category to %s'%target_category)\n",
    "        print(target_nodes_df)\n",
    "        state['node_colors'], state['node_weights'] = gen_node_colors(target_nodes_df,rank_type,params)\n",
    "        #state['max_edge_weight'] = get_max_edge_weight(target_category)\n",
    "        state['edge_positions'], state['edge_colors'], state['edge_widths'],state['edge_weights'], state['edge_names'], state['max_edge_width_indices'] = gen_edge_graphdata(edges_thresholded_df, state['node_positions'], rank_type, target_category,params)\n",
    "\n",
    "    elif trigger == 'node-actmap-dropdown.value' or trigger == 'edge-actmaps-input.value':\n",
    "        state['last_trigger'] = 'selection_change'\n",
    "        print(edge_value)\n",
    "        #update node if button value different than store value\n",
    "        if state['node_select_history'][-1] != node_value:\n",
    "            print('changing selected node to %s'%node_value)\n",
    "            state['node_select_history'].append(node_value)\n",
    "            if len(state['node_select_history']) > 10:\n",
    "                del state['node_select_history'][0] \n",
    "        #update edge if button value different than store value\n",
    "        if state['edge_select_history'][-1] != edge_value and check_edge_validity(edge_value.strip(),params)[0]:\n",
    "            print('changing selected edge to %s'%edge_value)\n",
    "            state['edge_select_history'].append(edge_value)\n",
    "            print(state['edge_select_history'])\n",
    "            if len(state['edge_select_history']) > 10:\n",
    "                del state['edge_select_history'][0]              \n",
    "\n",
    "    elif trigger == 'edge-thresh-slider.value':\n",
    "        print('changing edge thresholds to %s - %s'%(edge_threshold[0],edge_threshold[1]))\n",
    "        state['edge_threshold'] == edge_threshold\n",
    "        print('found %s edges'%len(edges_thresholded_df))\n",
    "        state['edge_positions'], state['edge_colors'], state['edge_widths'], state['edge_weights'], state['edge_names'], state['max_edge_width_indices'] = gen_edge_graphdata(edges_thresholded_df, state['node_positions'], rank_type, target_category,params)\n",
    "\n",
    "    elif trigger == 'layer-projection.value':\n",
    "        print('changing layer projection to %s\\n'%projection)\n",
    "        state['projection']=projection\n",
    "        if projection == 'MDS':\n",
    "            state['node_positions'] = all_node_positions[projection][rank_type+'_norm']\n",
    "        else:\n",
    "            state['node_positions'] = all_node_positions[projection]\n",
    "        state['edge_positions'], state['edge_colors'], state['edge_widths'],state['edge_weights'], state['edge_names'], state['max_edge_width_indices'] = gen_edge_graphdata(edges_thresholded_df, state['node_positions'], rank_type, target_category,params)\n",
    "\n",
    "    elif trigger == 'subgraph-criterion.value':\n",
    "        print('changing weighting criterion to %s\\n'%rank_type)\n",
    "        state['rank_type']=rank_type\n",
    "        state['node_colors'], state['node_weights'] = gen_node_colors(target_nodes_df,rank_type,params)\n",
    "        #state['node_positions']=format_node_positions(projection=projection,rank_type=rank_type)\n",
    "        state['edge_positions'], state['edge_colors'], state['edge_widths'],state['edge_weights'], state['edge_names'], state['max_edge_width_indices'] = gen_edge_graphdata(edges_thresholded_df, state['node_positions'], rank_type, target_category,params)\n",
    "\n",
    "    else:\n",
    "        raise Exception('unknown trigger: %s'%trigger)    \n",
    "    return state\n",
    "\n",
    "\n",
    "#Network Graph Figure\n",
    "@app.callback(\n",
    "    Output('network-graph', 'figure'),\n",
    "    [Input('memory', 'data')],\n",
    "    [State('network-graph','figure')])\n",
    "def update_figure(state, fig):\n",
    "    #network_graph_layout['uirevision'] = True\n",
    "    print('CALLED: update_figure\\n')\n",
    "    print(state['edge_threshold'])\n",
    "    print(state['edge_select_history'])\n",
    "    print(state['node_select_history'])\n",
    "    if state['last_trigger'] == 'selection_change':   #minimal updates\n",
    "        #hightlight edge\n",
    "        print('updating edge highlight to %s'%state['edge_select_history'][-1])\n",
    "        #if len(state['edge_select_history']) >1:\n",
    "        #if state['edge_select_history'][-1] != state['edge_select_history'][-2]:  #didnt click same point\n",
    "        flat_edge_names = [item for sublist in state['edge_names'] for item in sublist]\n",
    "        flat_edge_colors = [item for sublist in state['edge_colors'] for item in sublist]\n",
    "        try:  #update current edge if it exists to black\n",
    "            #print(flat_edge_names)\n",
    "            fig['data'][flat_edge_names.index(state['edge_select_history'][-1])+params['num_layers']+1]['line']['color'] = 'rgba(0,0,0,1)'\n",
    "        except:\n",
    "            print('select edge, %s,  not recolored as no longer shown'%state['edge_select_history'][-1])\n",
    "        if len(state['edge_select_history']) > 1: #there is a previous edge to unselect\n",
    "            try: #recolor previous edge if it exists from black\n",
    "                fig['data'][flat_edge_names.index(state['edge_select_history'][-2])+params['num_layers']+1]['line']['color'] = flat_edge_colors[flat_edge_names.index(state['edge_select_history'][-2])]\n",
    "            except:\n",
    "                print('previous edge, %s,  not recolored as no longer shown'%state['edge_select_history'][-2])\n",
    "        #highlight node\n",
    "        print('updating node highlight to %s'%state['node_select_history'][-1])\n",
    "        #if len(state['node_select_history']) >1:\n",
    "        #    if state['node_select_history'][-1] != state['node_select_history'][-2]: \n",
    "                #update current node color to black\n",
    "        if str(state['node_select_history'][-1]).isnumeric():  #if normal node\n",
    "            select_layer,select_position,select_layer_name = nodeid_2_perlayerid(state['node_select_history'][-1],params)\n",
    "            fig['data'][select_layer+1]['marker']['color'][select_position] = 'rgba(0,0,0,1)'\n",
    "        else:   #imgnode\n",
    "            fig['data'][0]['marker']['color'][fig['data'][0]['text'].index(state['node_select_history'][-1])] = 'rgba(0,0,0,1)'\n",
    "        #update previous node color to its usual color\n",
    "        if len(state['node_select_history']) > 1: #there is a previous node to unselect\n",
    "            if str(state['node_select_history'][-2]).isnumeric():  #if normal node\n",
    "                prev_select_layer,prev_select_position,prev_select_layer_name = nodeid_2_perlayerid(state['node_select_history'][-2],params)\n",
    "                print(prev_select_layer,prev_select_position,prev_select_layer_name)\n",
    "                fig['data'][prev_select_layer+1]['marker']['color'][prev_select_position] = state['node_colors'][prev_select_layer][prev_select_position]\n",
    "            else:   #imgnode\n",
    "                fig['data'][0]['marker']['color'][fig['data'][0]['text'].index(state['node_select_history'][-2])] = state['imgnode_colors'][fig['data'][0]['text'].index(state['node_select_history'][-2])]\n",
    "        #fig['layout']['uirevision']=True   \n",
    "        return fig    \n",
    "    else:   #regenerate full traces\n",
    "        combined_traces = gen_networkgraph_traces(state,params,categories_nodes_df)\n",
    "        fig['data'] = combined_traces\n",
    "        #layout = network_graph_layout\n",
    "        #layout['uirevision'] = True\n",
    "        return fig\n",
    "\n",
    "#Node Actmap Dropdown\n",
    "@app.callback(\n",
    "    Output('node-actmap-dropdown', 'value'),\n",
    "    [Input('network-graph', 'clickData')],\n",
    "    [State('node-actmap-dropdown', 'value')])\n",
    "def switch_node_actmap_click(clickData,current_value):\n",
    "    print('CALLED: switch_node_actmap_click')\n",
    "    if clickData is None:\n",
    "        return current_value \n",
    "        #raise Exception('no click data')\n",
    "    if int(clickData['points'][0]['curveNumber']) > params['num_layers']:\n",
    "        return current_value\n",
    "        #raise Exception('edge was clicked')\n",
    "    return clickData['points'][0]['text']\n",
    "\n",
    "#Edge Actmaps Input\n",
    "@app.callback(\n",
    "    Output('edge-actmaps-input', 'value'),\n",
    "    [Input('network-graph', 'clickData')],\n",
    "    [State('edge-actmaps-input', 'value'),\n",
    "     State('memory', 'data')])\n",
    "def switch_edge_actmaps_click(clickData,current_value,state):\n",
    "    print('CALLED: switch_edge_actmaps_click')\n",
    "    if clickData is None:\n",
    "        return current_value\n",
    "        #raise Exception('no click data')\n",
    "    if int(clickData['points'][0]['curveNumber']) <= params['num_layers']:\n",
    "        return current_value\n",
    "        #raise Exception('node was clicked')\n",
    "    return get_nth_element_from_nested_list(state['edge_names'],int(clickData['points'][0]['curveNumber'])-(params['num_layers']+1))\n",
    "\n",
    "\n",
    "#Node actmap graph\n",
    "@app.callback(\n",
    "    Output('node-actmap-graph', 'figure'),\n",
    "    [Input('node-actmap-dropdown', 'value'),\n",
    "     Input('input-image-signal', 'children')])\n",
    "def update_node_actmap(nodeid,image_name):       #EDIT: needs support for black and white images\n",
    "    print('CALLED: update_node_actmap')\n",
    "    layer, within_id,layer_name = nodeid_2_perlayerid(nodeid,params)\n",
    "    #fetch activations\n",
    "    if image_name in all_activations['nodes']:\n",
    "        activations = all_activations\n",
    "    else:\n",
    "        activations  = activations_store(image_name)\n",
    "        \n",
    "    if layer == 'img': #code for returning color channel as activation map\n",
    "        #np_chan_im = get_channelwise_image(image_name,state['imgnode_names'].index(nodeid),params['input_image_directory']=params['input_image_directory'])\n",
    "        np_chan_im = activations['edges_in'][image_name][0][within_id]\n",
    "        return go.Figure(data=go.Heatmap( z = np.flip(np_chan_im,0)),\n",
    "                        layout=node_actmap_layout) \n",
    "    \n",
    "    return go.Figure(data=go.Heatmap( z = np.flip(activations['nodes'][image_name][layer][within_id],0),\n",
    "                                      #zmin=-1,\n",
    "                                      #zmax=1,\n",
    "                                      colorbar = dict(thicknessmode = \"fraction\",thickness=.1)\n",
    "                                    ),\n",
    "                     layout=node_actmap_layout) \n",
    "\n",
    "\n",
    "#Node deepviz graph\n",
    "@app.callback(\n",
    "    Output('node-deepviz-image', 'figure'),\n",
    "    [Input('node-actmap-dropdown', 'value')])\n",
    "def update_node_deepviz(nodeid):       #EDIT: needs support for black and white images\n",
    "    print('CALLED: update_node_deepviz')\n",
    "    layer,within_layer_id,layer_name = nodeid_2_perlayerid(nodeid,params)    \n",
    "    if layer == 'img': \n",
    "        return figure_init\n",
    "    image_name = fetch_deepviz_img(model,str(nodeid),params)\n",
    "    image_path = params['prepped_model_path']+'/visualizations/images/'+image_name\n",
    "    return image2plot(image_path,input_image_layout)\n",
    "    \n",
    "\n",
    "#Edge deepviz graph\n",
    "@app.callback(\n",
    "    Output('edge-deepviz-image', 'figure'),\n",
    "    [Input('edge-actmaps-input', 'value')])\n",
    "def update_edge_deepviz(edgename):       #EDIT: needs support for black and white images\n",
    "    print('CALLED: update_edge_deepviz')\n",
    "    #layer,within_layer_id,layer_name = nodeid_2_perlayerid(nodeid,params)    \n",
    "    #if layer == 'img': \n",
    "    #    return figure_init\n",
    "    image_name = fetch_deepviz_img(model_dis,edgename,params)\n",
    "    image_path = params['prepped_model_path']+'/visualizations/images/'+image_name\n",
    "    return image2plot(image_path,input_image_layout)\n",
    "        \n",
    "\n",
    "#Node inputs actmap graph\n",
    "@app.callback(\n",
    "    Output('node-inputs-graph', 'figure'),\n",
    "    [Input('node-actmap-dropdown', 'value'),\n",
    "     Input('input-image-signal', 'children'),\n",
    "     Input('target-signal', 'children'),\n",
    "     Input('subgraph-criterion','value')])\n",
    "def update_node_inputs(nodeid,image_name,target,rank_type,max_num = params['max_node_inputs']):       \n",
    "    print('CALLED: update_node_inputs')\n",
    "    target_category,target_node = target[0],target[1]\n",
    "    node_layer,node_within_layer_id,layer_name = nodeid_2_perlayerid(nodeid,params)\n",
    "    #fetch activations\n",
    "    if image_name in all_activations['nodes']:\n",
    "        activations = all_activations\n",
    "    else:\n",
    "        activations = activations_store(image_name)\n",
    "    #fetch edges df\n",
    "    if rank_type == 'weight':\n",
    "        target_edges_df = weight_edges_df\n",
    "    else:\n",
    "        target_edges_df = ranksdf_store(target_category,target_node)[1]\n",
    "    #return no input if on input image node \n",
    "    if node_layer == 'img':\n",
    "        fig = go.Figure()\n",
    "\n",
    "        fig.add_trace(go.Scatter(\n",
    "            x=[],\n",
    "            y=[]))\n",
    "        fig.update_layout(xaxis=dict(visible=False),\n",
    "                          yaxis=dict(visible=False),\n",
    "                          annotations = [dict(text=\"No Inputs\",\n",
    "                                              xref=\"paper\",\n",
    "                                              yref=\"paper\",\n",
    "                                              showarrow=False,\n",
    "                                              font=dict(size=28))]\n",
    "                         )\n",
    "        return fig\n",
    "\n",
    "    all_node_edges_df = target_edges_df.loc[(target_edges_df['layer']==node_layer) & (target_edges_df['out_channel'] == node_within_layer_id)]\n",
    "    #if sort_images:                      \n",
    "    all_node_edges_df = all_node_edges_df.sort_values(by=[rank_type+'_norm_rank'],ascending=False)\n",
    "    top_node_edges_df = all_node_edges_df.head(max_num)\n",
    "    fig = make_subplots(rows=len(top_node_edges_df)+1, cols=1)\n",
    "    print(top_node_edges_df)\n",
    "    i=1\n",
    "    for row in top_node_edges_df.itertuples():\n",
    "        if node_layer == 0:\n",
    "            edge_name = str(params['imgnode_names'][row.in_channel])+'-'+str(nodeid)\n",
    "        else:\n",
    "            edge_name = str(params['layer_nodes'][node_layer-1][1][row.in_channel])+'-'+str(nodeid)\n",
    "\n",
    "        fig.add_trace(\n",
    "               go.Heatmap(z = edgename_2_edge_figures(edge_name, image_name, kernels, activations,params)[2],\n",
    "                          #zmin = -1,\n",
    "                          #zmax = 1,\n",
    "                          name = edge_name,\n",
    "                          showscale = False,\n",
    "                          colorbar = dict(lenmode='fraction',len=1/len(top_node_edges_df), \n",
    "                                          y=(i)/len(top_node_edges_df)-.01,\n",
    "                                          thicknessmode = \"fraction\",thickness=.1,\n",
    "                                          ypad=1\n",
    "                                         )),\n",
    "               row=i, col=1)\n",
    "        i+=1\n",
    "    fig.update_layout(height=200*len(top_node_edges_df), \n",
    "                      width=170,\n",
    "                      #yaxis=dict(scaleanchor=\"x\", scaleratio=1/len(top_node_edges_df)),\n",
    "                      #title_text=\"Inputs to Node\",\n",
    "                      margin=dict(\n",
    "                                    l=0,\n",
    "                                    r=0,\n",
    "                                    b=0,\n",
    "                                    t=0,\n",
    "                                    pad=0)\n",
    "                     )\n",
    "    return fig\n",
    "\n",
    "#image graph\n",
    "@app.callback(\n",
    "    Output('img-actmap-graph', 'figure'),\n",
    "    [Input('input-image-dropdown', 'value')])\n",
    "def update_inputimg_actmap(image_name): \n",
    "    print('CALLED: update_inputimg_actmap')\n",
    "    #if os.path.exists(params['input_image_directory']+image_name):\n",
    "    return image2plot(get_image_path(image_name,params)[1],input_image_layout)\n",
    "    #else:\n",
    "        #return image2plot(params['prepped_model_path']+'/visualizations/'+image_name,input_image_layout)\n",
    "    \n",
    "#image dropdown\n",
    "@app.callback(\n",
    "    Output('input-image-dropdown', 'options'),\n",
    "    [Input('node-deepviz-image', 'figure'),\n",
    "     Input('edge-deepviz-image', 'figure')])\n",
    "def update_inputimg_dropdown(node_fig,edge_fig): \n",
    "    print('CALLED: update_inputimg_dropdown options')\n",
    "    return [{'label': i, 'value': i} for i in params['input_image_list']+os.listdir(params['prepped_model_path']+'/visualizations/images/')]\n",
    "\n",
    "\n",
    "#kernel\n",
    "@app.callback(\n",
    "    Output('edge-kernel-graph', 'figure'),\n",
    "    [Input('edge-actmaps-input','value')],\n",
    "    [State('edge-kernel-graph','figure')])\n",
    "def update_edge_kernelmap(edge_name,figure):\n",
    "    print('CALLED: update_edge_kernelmap')\n",
    "    kernel,inmap,outmap = edgename_2_edge_figures(edge_name, None, kernels, None,params)\n",
    "    if kernel is not None:\n",
    "        return go.Figure(data=go.Heatmap(z = kernel\n",
    "                                         #zmin=-.5,\n",
    "                                         #zmax=.5\n",
    "                                        ),\n",
    "                         layout=kernel_layout)\n",
    "    else:\n",
    "        return figure\n",
    "                \n",
    "\n",
    "#edge in        \n",
    "@app.callback(\n",
    "    Output('edge-inmap-graph', 'figure'),\n",
    "    [Input('edge-actmaps-input','value'),\n",
    "     Input('input-image-signal', 'children')],\n",
    "    [State('edge-inmap-graph','figure')])\n",
    "def update_edge_inmap(edge_name,image_name,figure):\n",
    "    print('CALLED: update_edge_inmap')\n",
    "    #fetch activations\n",
    "    if image_name in all_activations['nodes']:\n",
    "        activations = all_activations\n",
    "    else:\n",
    "        activations = activations = activations_store(image_name)\n",
    "        \n",
    "    kernel,inmap,outmap = edgename_2_edge_figures(edge_name, image_name, kernels, activations,params)\n",
    "    if inmap is not None:\n",
    "        return go.Figure(data=go.Heatmap(z = inmap,zmin=-1,zmax=1,\n",
    "                                         colorbar = dict(thicknessmode = \"fraction\",thickness=.1)\n",
    "                                        ),\n",
    "                         layout=edge_inmap_layout)\n",
    "    else:\n",
    "        print('edge inmap error')\n",
    "        return figure\n",
    "\n",
    "#edge out\n",
    "@app.callback(\n",
    "    Output('edge-outmap-graph', 'figure'),\n",
    "    [Input('edge-actmaps-input','value'),\n",
    "     Input('input-image-signal', 'children')],\n",
    "    [State('edge-outmap-graph','figure')])\n",
    "def update_edge_outmap(edge_name,image_name,figure):\n",
    "    print('CALLED: update_edge_outmap')\n",
    "    #fetch activations\n",
    "    if image_name in all_activations['nodes']:\n",
    "        activations = all_activations\n",
    "    else:\n",
    "        activations = activations = activations_store(image_name)\n",
    "        \n",
    "    kernel,inmap,outmap = edgename_2_edge_figures(edge_name, image_name, kernels, activations,params)\n",
    "    if outmap is not None:\n",
    "        return go.Figure(data=go.Heatmap(z = outmap,\n",
    "                                         #zmin=-1,\n",
    "                                         #zmax=1,\n",
    "                                         colorbar = dict(thicknessmode = \"fraction\",thickness=.1)\n",
    "                                        ),\n",
    "                         layout=edge_outmap_layout)\n",
    "    else:\n",
    "        print('edge outmap error')\n",
    "        return figure\n",
    "        \n",
    "        \n",
    "\n",
    "# #JSON INFO\n",
    "\n",
    "@app.callback(\n",
    "    Output('hover-data', 'children'),\n",
    "    [Input('network-graph', 'hoverData')])\n",
    "def display_hover_data(hoverData):\n",
    "    return json.dumps(hoverData, indent=2)\n",
    "\n",
    "\n",
    "\n",
    "\n",
    "@app.callback(\n",
    "    Output('click-data', 'children'),\n",
    "    [Input('network-graph', 'clickData')])\n",
    "def display_click_data(clickData):\n",
    "    return json.dumps(clickData, indent=2)\n",
    "\n",
    "\n",
    "@app.callback(\n",
    "    Output('selected-data', 'children'),\n",
    "    [Input('network-graph', 'selectedData')])\n",
    "def display_selected_data(selectedData):\n",
    "    return json.dumps(selectedData, indent=2)\n",
    "\n",
    "\n",
    "@app.callback(\n",
    "    Output('figure-data', 'children'),\n",
    "    [Input('input-category', 'value'),\n",
    "     Input('network-graph', 'clickData'),\n",
    "     Input('edge-thresh-slider','value'),\n",
    "     Input('memory','data')])\n",
    "def display_trigger(target_category,clickData,edge_thresh,state):\n",
    "    ctx = dash.callback_context\n",
    "    if not ctx.triggered:\n",
    "        raise Exception('no figure updates yet')\n",
    "    else:\n",
    "        trigger = ctx.triggered[0]['prop_id'].split('.')[0]\n",
    "    ctx_msg = json.dumps({\n",
    "        'states': ctx.states,\n",
    "        'triggered': ctx.triggered,\n",
    "        'inputs': ctx.inputs,\n",
    "        'full_state':state\n",
    "    }, indent=2)\n",
    "    return ctx_msg"
   ]
  },
  {
   "cell_type": "code",
   "execution_count": null,
   "metadata": {},
   "outputs": [
    {
     "name": "stdout",
     "output_type": "stream",
     "text": [
      "Dash is running on http://127.0.0.1:8050/\n",
      "\n",
      " Warning: This is a development server. Do not use app.run_server\n",
      " in production, use a production WSGI server like gunicorn instead.\n",
      "\n",
      " * Serving Flask app \"__main__\" (lazy loading)\n",
      " * Environment: production\n",
      "\u001b[31m   WARNING: This is a development server. Do not use it in a production deployment.\u001b[0m\n",
      "\u001b[2m   Use a production WSGI server instead.\u001b[0m\n",
      " * Debug mode: off\n"
     ]
    },
    {
     "name": "stderr",
     "output_type": "stream",
     "text": [
      " * Running on http://127.0.0.1:8050/ (Press CTRL+C to quit)\n",
      "127.0.0.1 - - [11/Dec/2020 20:34:52] \"\u001b[37mGET / HTTP/1.1\u001b[0m\" 200 -\n",
      "127.0.0.1 - - [11/Dec/2020 20:34:52] \"\u001b[37mGET /_dash-component-suites/dash_renderer/polyfill@7.v1_6_0m1596203731.8.7.min.js HTTP/1.1\u001b[0m\" 200 -\n",
      "127.0.0.1 - - [11/Dec/2020 20:34:52] \"\u001b[37mGET /_dash-component-suites/dash_renderer/prop-types@15.v1_6_0m1596203731.7.2.min.js HTTP/1.1\u001b[0m\" 200 -\n",
      "127.0.0.1 - - [11/Dec/2020 20:34:52] \"\u001b[37mGET /_dash-component-suites/dash_renderer/react@16.v1_6_0m1596203731.13.0.min.js HTTP/1.1\u001b[0m\" 200 -\n",
      "127.0.0.1 - - [11/Dec/2020 20:34:52] \"\u001b[37mGET /_dash-component-suites/dash_renderer/react-dom@16.v1_6_0m1596203731.13.0.min.js HTTP/1.1\u001b[0m\" 200 -\n",
      "127.0.0.1 - - [11/Dec/2020 20:34:52] \"\u001b[37mGET /_dash-component-suites/dash_core_components/dash_core_components-shared.v1_10_2m1596203744.js HTTP/1.1\u001b[0m\" 200 -\n",
      "127.0.0.1 - - [11/Dec/2020 20:34:52] \"\u001b[37mGET /_dash-component-suites/dash_core_components/dash_core_components.v1_10_2m1596203744.min.js HTTP/1.1\u001b[0m\" 200 -\n",
      "127.0.0.1 - - [11/Dec/2020 20:34:52] \"\u001b[37mGET /_dash-component-suites/dash_html_components/dash_html_components.v1_0_3m1585840840.min.js HTTP/1.1\u001b[0m\" 200 -\n",
      "127.0.0.1 - - [11/Dec/2020 20:34:52] \"\u001b[37mGET /_dash-component-suites/dash_renderer/dash_renderer.v1_6_0m1596203731.min.js HTTP/1.1\u001b[0m\" 200 -\n",
      "127.0.0.1 - - [11/Dec/2020 20:34:53] \"\u001b[37mGET /_dash-dependencies HTTP/1.1\u001b[0m\" 200 -\n",
      "127.0.0.1 - - [11/Dec/2020 20:34:53] \"\u001b[37mGET /_favicon.ico?v=1.14.0 HTTP/1.1\u001b[0m\" 200 -\n",
      "127.0.0.1 - - [11/Dec/2020 20:34:55] \"\u001b[37mGET /_dash-layout HTTP/1.1\u001b[0m\" 200 -\n",
      "127.0.0.1 - - [11/Dec/2020 20:34:56] \"\u001b[37mGET /_dash-component-suites/dash_core_components/async-dropdown.v1_10_2m1595872686.js HTTP/1.1\u001b[0m\" 200 -\n",
      "127.0.0.1 - - [11/Dec/2020 20:34:56] \"\u001b[37mGET /_dash-component-suites/dash_core_components/async-slider.v1_10_2m1595872686.js HTTP/1.1\u001b[0m\" 200 -\n"
     ]
    },
    {
     "name": "stdout",
     "output_type": "stream",
     "text": [
      "update ranksdf_store triggered\n",
      "CALLED: update_inputimg_actmap\n",
      "Updating cached rank dfs with overall\n",
      "Updating cached activations with Afghan_hound_10.JPEG\n"
     ]
    },
    {
     "name": "stderr",
     "output_type": "stream",
     "text": [
      "127.0.0.1 - - [11/Dec/2020 20:34:56] \"\u001b[37mPOST /_dash-update-component HTTP/1.1\u001b[0m\" 200 -\n",
      "127.0.0.1 - - [11/Dec/2020 20:34:57] \"\u001b[37mGET /_dash-component-suites/dash_core_components/async-graph.v1_10_2m1595872686.js HTTP/1.1\u001b[0m\" 200 -\n",
      "127.0.0.1 - - [11/Dec/2020 20:34:57] \"\u001b[37mGET /_dash-component-suites/dash_core_components/async-plotlyjs.v1_10_2m1595872686.js HTTP/1.1\u001b[0m\" 200 -\n",
      "127.0.0.1 - - [11/Dec/2020 20:34:57] \"\u001b[37mGET /_dash-component-suites/dash_core_components/async-markdown.v1_10_2m1595872686.js HTTP/1.1\u001b[0m\" 200 -\n",
      "127.0.0.1 - - [11/Dec/2020 20:34:58] \"\u001b[37mPOST /_dash-update-component HTTP/1.1\u001b[0m\" 200 -\n",
      "127.0.0.1 - - [11/Dec/2020 20:35:04] \"\u001b[37mGET /_dash-component-suites/dash_core_components/async-highlight.v1_10_2m1595872686.js HTTP/1.1\u001b[0m\" 200 -\n",
      "127.0.0.1 - - [11/Dec/2020 20:35:05] \"\u001b[37mPOST /_dash-update-component HTTP/1.1\u001b[0m\" 200 -\n",
      "127.0.0.1 - - [11/Dec/2020 20:35:18] \"\u001b[37mPOST /_dash-update-component HTTP/1.1\u001b[0m\" 200 -\n"
     ]
    },
    {
     "name": "stdout",
     "output_type": "stream",
     "text": [
      "CALLED: switch_node_actmap_click\n"
     ]
    },
    {
     "name": "stderr",
     "output_type": "stream",
     "text": [
      "127.0.0.1 - - [11/Dec/2020 20:35:18] \"\u001b[37mPOST /_dash-update-component HTTP/1.1\u001b[0m\" 200 -\n",
      "127.0.0.1 - - [11/Dec/2020 20:35:19] \"\u001b[37mPOST /_dash-update-component HTTP/1.1\u001b[0m\" 200 -\n",
      "127.0.0.1 - - [11/Dec/2020 20:35:19] \"\u001b[37mPOST /_dash-update-component HTTP/1.1\u001b[0m\" 200 -\n",
      "127.0.0.1 - - [11/Dec/2020 20:35:19] \"\u001b[37mPOST /_dash-update-component HTTP/1.1\u001b[0m\" 200 -\n"
     ]
    },
    {
     "name": "stdout",
     "output_type": "stream",
     "text": [
      "CALLED: switch_edge_actmaps_click\n",
      "CALLED: update_node_deepviz\n",
      "CALLED: update_node_inputs\n",
      "found pre-generated image\n",
      "CALLED: update_node_actmap\n",
      "CALLED: update_edge_deepviz\n",
      "found pre-generated image\n"
     ]
    },
    {
     "name": "stderr",
     "output_type": "stream",
     "text": [
      "127.0.0.1 - - [11/Dec/2020 20:35:19] \"\u001b[37mPOST /_dash-update-component HTTP/1.1\u001b[0m\" 200 -\n",
      "127.0.0.1 - - [11/Dec/2020 20:35:20] \"\u001b[37mPOST /_dash-update-component HTTP/1.1\u001b[0m\" 200 -\n",
      "127.0.0.1 - - [11/Dec/2020 20:35:20] \"\u001b[37mPOST /_dash-update-component HTTP/1.1\u001b[0m\" 200 -\n"
     ]
    },
    {
     "name": "stdout",
     "output_type": "stream",
     "text": [
      "CALLED: update_edge_kernelmap\n",
      "CALLED: update_store\n",
      "\n",
      "TRIGGER edge-actmaps-input.value\n",
      "r-2\n"
     ]
    },
    {
     "name": "stderr",
     "output_type": "stream",
     "text": [
      "127.0.0.1 - - [11/Dec/2020 20:35:20] \"\u001b[37mPOST /_dash-update-component HTTP/1.1\u001b[0m\" 200 -\n"
     ]
    },
    {
     "name": "stdout",
     "output_type": "stream",
     "text": [
      "CALLED: update_edge_inmap\n",
      "CALLED: update_edge_outmap\n"
     ]
    },
    {
     "name": "stderr",
     "output_type": "stream",
     "text": [
      "127.0.0.1 - - [11/Dec/2020 20:35:21] \"\u001b[37mPOST /_dash-update-component HTTP/1.1\u001b[0m\" 200 -\n",
      "127.0.0.1 - - [11/Dec/2020 20:35:21] \"\u001b[37mPOST /_dash-update-component HTTP/1.1\u001b[0m\" 200 -\n",
      "127.0.0.1 - - [11/Dec/2020 20:35:21] \"\u001b[37mPOST /_dash-update-component HTTP/1.1\u001b[0m\" 200 -\n"
     ]
    },
    {
     "name": "stdout",
     "output_type": "stream",
     "text": [
      "CALLED: update_figure\n",
      "\n",
      "[0.1, 1]\n",
      "['r-2']\n",
      "['0']\n",
      "updating edge highlight to r-2\n",
      "updating node highlight to 0\n"
     ]
    },
    {
     "name": "stderr",
     "output_type": "stream",
     "text": [
      "127.0.0.1 - - [11/Dec/2020 20:35:21] \"\u001b[37mPOST /_dash-update-component HTTP/1.1\u001b[0m\" 200 -\n",
      "127.0.0.1 - - [11/Dec/2020 20:35:21] \"\u001b[37mPOST /_dash-update-component HTTP/1.1\u001b[0m\" 200 -\n"
     ]
    },
    {
     "name": "stdout",
     "output_type": "stream",
     "text": [
      "CALLED: update_inputimg_dropdown options\n",
      "   edge_num  layer_name  layer  out_channel  in_channel  act_prenorm_rank  \\\n",
      "1         1  features_0      0            0           1          1.880616   \n",
      "0         0  features_0      0            0           0          1.413178   \n",
      "2         2  features_0      0            0           2          0.511277   \n",
      "\n",
      "   grad_prenorm_rank  actxgrad_prenorm_rank  act_norm_rank  grad_norm_rank  \\\n",
      "1            0.00001               0.000035       0.087798        0.037286   \n",
      "0            0.00001               0.000023       0.065940        0.037286   \n",
      "2            0.00001               0.000010       0.023905        0.037286   \n",
      "\n",
      "   actxgrad_norm_rank  \n",
      "1            0.080289  \n",
      "0            0.052224  \n",
      "2            0.023560  \n"
     ]
    },
    {
     "name": "stderr",
     "output_type": "stream",
     "text": [
      "127.0.0.1 - - [11/Dec/2020 20:35:21] \"\u001b[37mPOST /_dash-update-component HTTP/1.1\u001b[0m\" 200 -\n",
      "127.0.0.1 - - [11/Dec/2020 20:35:21] \"\u001b[37mPOST /_dash-update-component HTTP/1.1\u001b[0m\" 200 -\n",
      "127.0.0.1 - - [11/Dec/2020 20:35:31] \"\u001b[37mPOST /_dash-update-component HTTP/1.1\u001b[0m\" 200 -\n",
      "127.0.0.1 - - [11/Dec/2020 20:35:32] \"\u001b[37mPOST /_dash-update-component HTTP/1.1\u001b[0m\" 200 -\n",
      "127.0.0.1 - - [11/Dec/2020 20:35:32] \"\u001b[37mPOST /_dash-update-component HTTP/1.1\u001b[0m\" 200 -\n",
      "127.0.0.1 - - [11/Dec/2020 20:35:37] \"\u001b[37mPOST /_dash-update-component HTTP/1.1\u001b[0m\" 200 -\n",
      "127.0.0.1 - - [11/Dec/2020 20:35:56] \"\u001b[37mGET / HTTP/1.1\u001b[0m\" 200 -\n",
      "127.0.0.1 - - [11/Dec/2020 20:35:56] \"\u001b[37mGET /_dash-component-suites/dash_core_components/dash_core_components.v1_10_2m1596203744.min.js HTTP/1.1\u001b[0m\" 200 -\n",
      "127.0.0.1 - - [11/Dec/2020 20:35:56] \"\u001b[37mGET /_dash-component-suites/dash_renderer/prop-types@15.v1_6_0m1596203731.7.2.min.js HTTP/1.1\u001b[0m\" 200 -\n",
      "127.0.0.1 - - [11/Dec/2020 20:35:56] \"\u001b[37mGET /_dash-component-suites/dash_renderer/react@16.v1_6_0m1596203731.13.0.min.js HTTP/1.1\u001b[0m\" 200 -\n",
      "127.0.0.1 - - [11/Dec/2020 20:35:56] \"\u001b[37mGET /_dash-component-suites/dash_renderer/react-dom@16.v1_6_0m1596203731.13.0.min.js HTTP/1.1\u001b[0m\" 200 -\n",
      "127.0.0.1 - - [11/Dec/2020 20:35:56] \"\u001b[37mGET /_dash-component-suites/dash_core_components/dash_core_components-shared.v1_10_2m1596203744.js HTTP/1.1\u001b[0m\" 200 -\n",
      "127.0.0.1 - - [11/Dec/2020 20:35:56] \"\u001b[37mGET /_dash-component-suites/dash_renderer/polyfill@7.v1_6_0m1596203731.8.7.min.js HTTP/1.1\u001b[0m\" 200 -\n",
      "127.0.0.1 - - [11/Dec/2020 20:35:56] \"\u001b[37mGET /_dash-component-suites/dash_html_components/dash_html_components.v1_0_3m1585840840.min.js HTTP/1.1\u001b[0m\" 200 -\n",
      "127.0.0.1 - - [11/Dec/2020 20:35:56] \"\u001b[37mGET /_dash-component-suites/dash_renderer/dash_renderer.v1_6_0m1596203731.min.js HTTP/1.1\u001b[0m\" 200 -\n",
      "127.0.0.1 - - [11/Dec/2020 20:35:57] \"\u001b[37mGET /_dash-dependencies HTTP/1.1\u001b[0m\" 200 -\n",
      "127.0.0.1 - - [11/Dec/2020 20:35:57] \"\u001b[37mGET /_favicon.ico?v=1.14.0 HTTP/1.1\u001b[0m\" 200 -\n",
      "127.0.0.1 - - [11/Dec/2020 20:35:59] \"\u001b[37mGET /_dash-layout HTTP/1.1\u001b[0m\" 200 -\n",
      "127.0.0.1 - - [11/Dec/2020 20:36:00] \"\u001b[37mPOST /_dash-update-component HTTP/1.1\u001b[0m\" 200 -\n"
     ]
    },
    {
     "name": "stdout",
     "output_type": "stream",
     "text": [
      "update ranksdf_store triggered\n",
      "CALLED: update_inputimg_actmap\n"
     ]
    },
    {
     "name": "stderr",
     "output_type": "stream",
     "text": [
      "127.0.0.1 - - [11/Dec/2020 20:36:00] \"\u001b[37mPOST /_dash-update-component HTTP/1.1\u001b[0m\" 200 -\n",
      "127.0.0.1 - - [11/Dec/2020 20:36:00] \"\u001b[37mPOST /_dash-update-component HTTP/1.1\u001b[0m\" 200 -\n",
      "127.0.0.1 - - [11/Dec/2020 20:36:28] \"\u001b[37mPOST /_dash-update-component HTTP/1.1\u001b[0m\" 200 -\n",
      "127.0.0.1 - - [11/Dec/2020 20:36:28] \"\u001b[37mPOST /_dash-update-component HTTP/1.1\u001b[0m\" 200 -\n",
      "127.0.0.1 - - [11/Dec/2020 20:36:28] \"\u001b[37mPOST /_dash-update-component HTTP/1.1\u001b[0m\" 200 -\n",
      "127.0.0.1 - - [11/Dec/2020 20:36:28] \"\u001b[37mPOST /_dash-update-component HTTP/1.1\u001b[0m\" 200 -\n",
      "127.0.0.1 - - [11/Dec/2020 20:36:28] \"\u001b[37mPOST /_dash-update-component HTTP/1.1\u001b[0m\" 200 -\n"
     ]
    },
    {
     "name": "stdout",
     "output_type": "stream",
     "text": [
      "CALLED: switch_node_actmap_click\n",
      "CALLED: switch_edge_actmaps_click\n",
      "CALLED: update_node_actmapCALLED: update_node_deepviz\n",
      "\n",
      "found pre-generated image\n",
      "CALLED: update_node_inputs\n"
     ]
    },
    {
     "name": "stderr",
     "output_type": "stream",
     "text": [
      "127.0.0.1 - - [11/Dec/2020 20:36:29] \"\u001b[37mPOST /_dash-update-component HTTP/1.1\u001b[0m\" 200 -\n"
     ]
    },
    {
     "name": "stdout",
     "output_type": "stream",
     "text": [
      "CALLED: update_edge_deepviz\n",
      "CALLED: update_edge_kernelmap\n",
      "found pre-generated image\n",
      "CALLED: update_store\n",
      "\n",
      "TRIGGER edge-actmaps-input.value\n",
      "r-2\n"
     ]
    },
    {
     "name": "stderr",
     "output_type": "stream",
     "text": [
      "127.0.0.1 - - [11/Dec/2020 20:36:29] \"\u001b[37mPOST /_dash-update-component HTTP/1.1\u001b[0m\" 200 -\n"
     ]
    },
    {
     "name": "stdout",
     "output_type": "stream",
     "text": [
      "CALLED: update_edge_inmap\n",
      "CALLED: update_edge_outmap\n"
     ]
    },
    {
     "name": "stderr",
     "output_type": "stream",
     "text": [
      "127.0.0.1 - - [11/Dec/2020 20:36:30] \"\u001b[37mPOST /_dash-update-component HTTP/1.1\u001b[0m\" 200 -\n",
      "127.0.0.1 - - [11/Dec/2020 20:36:31] \"\u001b[37mPOST /_dash-update-component HTTP/1.1\u001b[0m\" 200 -\n",
      "127.0.0.1 - - [11/Dec/2020 20:36:31] \"\u001b[37mPOST /_dash-update-component HTTP/1.1\u001b[0m\" 200 -\n",
      "127.0.0.1 - - [11/Dec/2020 20:36:31] \"\u001b[37mPOST /_dash-update-component HTTP/1.1\u001b[0m\" 200 -\n",
      "127.0.0.1 - - [11/Dec/2020 20:36:31] \"\u001b[37mPOST /_dash-update-component HTTP/1.1\u001b[0m\" 200 -\n",
      "127.0.0.1 - - [11/Dec/2020 20:36:31] \"\u001b[37mPOST /_dash-update-component HTTP/1.1\u001b[0m\" 200 -\n",
      "127.0.0.1 - - [11/Dec/2020 20:36:31] \"\u001b[37mPOST /_dash-update-component HTTP/1.1\u001b[0m\" 200 -\n",
      "127.0.0.1 - - [11/Dec/2020 20:36:31] \"\u001b[37mPOST /_dash-update-component HTTP/1.1\u001b[0m\" 200 -\n",
      "127.0.0.1 - - [11/Dec/2020 20:36:31] \"\u001b[37mPOST /_dash-update-component HTTP/1.1\u001b[0m\" 200 -\n",
      "127.0.0.1 - - [11/Dec/2020 20:36:31] \"\u001b[37mPOST /_dash-update-component HTTP/1.1\u001b[0m\" 200 -\n",
      "127.0.0.1 - - [11/Dec/2020 20:36:31] \"\u001b[37mPOST /_dash-update-component HTTP/1.1\u001b[0m\" 200 -\n"
     ]
    },
    {
     "name": "stdout",
     "output_type": "stream",
     "text": [
      "   edge_num  layer_name  layer  out_channel  in_channel  act_prenorm_rank  \\\n",
      "1         1  features_0      0            0           1          1.880616   \n",
      "0         0  features_0      0            0           0          1.413178   \n",
      "2         2  features_0      0            0           2          0.511277   \n",
      "\n",
      "   grad_prenorm_rank  actxgrad_prenorm_rank  act_norm_rank  grad_norm_rank  \\\n",
      "1            0.00001               0.000035       0.087798        0.037286   \n",
      "0            0.00001               0.000023       0.065940        0.037286   \n",
      "2            0.00001               0.000010       0.023905        0.037286   \n",
      "\n",
      "   actxgrad_norm_rank  \n",
      "1            0.080289  \n",
      "0            0.052224  \n",
      "2            0.023560  \n"
     ]
    },
    {
     "name": "stderr",
     "output_type": "stream",
     "text": [
      "127.0.0.1 - - [11/Dec/2020 20:36:31] \"\u001b[37mPOST /_dash-update-component HTTP/1.1\u001b[0m\" 200 -\n",
      "127.0.0.1 - - [11/Dec/2020 20:36:31] \"\u001b[37mPOST /_dash-update-component HTTP/1.1\u001b[0m\" 200 -\n",
      "127.0.0.1 - - [11/Dec/2020 20:36:31] \"\u001b[37mPOST /_dash-update-component HTTP/1.1\u001b[0m\" 200 -\n",
      "127.0.0.1 - - [11/Dec/2020 20:36:32] \"\u001b[37mPOST /_dash-update-component HTTP/1.1\u001b[0m\" 200 -\n",
      "127.0.0.1 - - [11/Dec/2020 20:36:32] \"\u001b[37mPOST /_dash-update-component HTTP/1.1\u001b[0m\" 200 -\n",
      "127.0.0.1 - - [11/Dec/2020 20:36:32] \"\u001b[37mPOST /_dash-update-component HTTP/1.1\u001b[0m\" 200 -\n",
      "127.0.0.1 - - [11/Dec/2020 20:36:32] \"\u001b[37mPOST /_dash-update-component HTTP/1.1\u001b[0m\" 200 -\n",
      "127.0.0.1 - - [11/Dec/2020 20:36:32] \"\u001b[37mPOST /_dash-update-component HTTP/1.1\u001b[0m\" 200 -\n"
     ]
    },
    {
     "name": "stdout",
     "output_type": "stream",
     "text": [
      "CALLED: update_figure\n",
      "\n",
      "[0.1, 1]\n",
      "['r-2']\n",
      "['0']\n",
      "updating edge highlight to r-2\n",
      "updating node highlight to 0\n"
     ]
    },
    {
     "name": "stderr",
     "output_type": "stream",
     "text": [
      "127.0.0.1 - - [11/Dec/2020 20:36:32] \"\u001b[37mPOST /_dash-update-component HTTP/1.1\u001b[0m\" 200 -\n"
     ]
    },
    {
     "name": "stdout",
     "output_type": "stream",
     "text": [
      "CALLED: update_inputimg_dropdown options\n"
     ]
    },
    {
     "name": "stderr",
     "output_type": "stream",
     "text": [
      "127.0.0.1 - - [11/Dec/2020 20:36:41] \"\u001b[37mPOST /_dash-update-component HTTP/1.1\u001b[0m\" 200 -\n",
      "127.0.0.1 - - [11/Dec/2020 20:36:41] \"\u001b[37mPOST /_dash-update-component HTTP/1.1\u001b[0m\" 200 -\n",
      "127.0.0.1 - - [11/Dec/2020 20:36:41] \"\u001b[37mPOST /_dash-update-component HTTP/1.1\u001b[0m\" 200 -\n",
      "127.0.0.1 - - [11/Dec/2020 20:36:45] \"\u001b[37mPOST /_dash-update-component HTTP/1.1\u001b[0m\" 200 -\n",
      "127.0.0.1 - - [11/Dec/2020 20:36:45] \"\u001b[37mPOST /_dash-update-component HTTP/1.1\u001b[0m\" 200 -\n",
      "127.0.0.1 - - [11/Dec/2020 20:36:46] \"\u001b[37mPOST /_dash-update-component HTTP/1.1\u001b[0m\" 200 -\n",
      "127.0.0.1 - - [11/Dec/2020 20:36:46] \"\u001b[37mPOST /_dash-update-component HTTP/1.1\u001b[0m\" 200 -\n",
      "127.0.0.1 - - [11/Dec/2020 20:36:47] \"\u001b[37mPOST /_dash-update-component HTTP/1.1\u001b[0m\" 200 -\n",
      "127.0.0.1 - - [11/Dec/2020 20:36:49] \"\u001b[37mPOST /_dash-update-component HTTP/1.1\u001b[0m\" 200 -\n"
     ]
    },
    {
     "name": "stdout",
     "output_type": "stream",
     "text": [
      "update ranksdf_store triggered\n",
      "Updating cached rank dfs with t\n",
      "Exception on /_dash-update-component [POST]\n",
      "Traceback (most recent call last):\n",
      "  File \"/home/chris/miniconda3/envs/pruning_viz/lib/python3.6/site-packages/flask/app.py\", line 2447, in wsgi_app\n",
      "    response = self.full_dispatch_request()\n",
      "  File \"/home/chris/miniconda3/envs/pruning_viz/lib/python3.6/site-packages/flask/app.py\", line 1952, in full_dispatch_request\n",
      "    rv = self.handle_user_exception(e)\n",
      "  File \"/home/chris/miniconda3/envs/pruning_viz/lib/python3.6/site-packages/flask/app.py\", line 1821, in handle_user_exception\n",
      "    reraise(exc_type, exc_value, tb)\n",
      "  File \"/home/chris/miniconda3/envs/pruning_viz/lib/python3.6/site-packages/flask/_compat.py\", line 39, in reraise\n",
      "    raise value\n",
      "  File \"/home/chris/miniconda3/envs/pruning_viz/lib/python3.6/site-packages/flask/app.py\", line 1950, in full_dispatch_request\n",
      "    rv = self.dispatch_request()\n",
      "  File \"/home/chris/miniconda3/envs/pruning_viz/lib/python3.6/site-packages/flask/app.py\", line 1936, in dispatch_request\n",
      "    return self.view_functions[rule.endpoint](**req.view_args)\n",
      "  File \"/home/chris/miniconda3/envs/pruning_viz/lib/python3.6/site-packages/dash/dash.py\", line 1050, in dispatch\n",
      "    response.set_data(func(*args, outputs_list=outputs_list))\n",
      "  File \"/home/chris/miniconda3/envs/pruning_viz/lib/python3.6/site-packages/dash/dash.py\", line 985, in add_context\n",
      "    output_value = func(*args, **kwargs)  # %% callback invoked %%\n",
      "  File \"<ipython-input-13-c97e5c6519c4>\", line 405, in update_ranksdf_store\n",
      "    ranksdf_store(target_category,target_node)\n",
      "  File \"/home/chris/miniconda3/envs/pruning_viz/lib/python3.6/site-packages/flask_caching/__init__.py\", line 779, in decorated_function\n",
      "    rv = f(*args, **kwargs)\n",
      "  File \"<ipython-input-13-c97e5c6519c4>\", line 395, in ranksdf_store\n",
      "    target_category_nodes_df,target_category_edges_df = contrast_str_2_dfs(target_category,target_node,model_dis,params)\n",
      "  File \"/mnt/data/chris/dropbox/Research-Hamblin/Projects/cnn_subgraph_visualizer/visualizer_scripts/contrast_helper_functions.py\", line 164, in contrast_str_2_dfs\n",
      "    var_dict, sym_contrast_string = parse_contrast(contrast_string,all_input_images,params['categories'])\n",
      "  File \"/mnt/data/chris/dropbox/Research-Hamblin/Projects/cnn_subgraph_visualizer/visualizer_scripts/contrast_helper_functions.py\", line 72, in parse_contrast\n",
      "    raise ValueError(message)\n",
      "ValueError: \"t\" is not a valid weight category, all weight categories must be from image names in the \"input_image\" folder, or folder names under the \"rank_image\" folder\n"
     ]
    },
    {
     "name": "stderr",
     "output_type": "stream",
     "text": [
      "127.0.0.1 - - [11/Dec/2020 20:36:51] \"\u001b[35m\u001b[1mPOST /_dash-update-component HTTP/1.1\u001b[0m\" 500 -\n",
      "127.0.0.1 - - [11/Dec/2020 20:36:51] \"\u001b[37mPOST /_dash-update-component HTTP/1.1\u001b[0m\" 200 -\n"
     ]
    },
    {
     "name": "stdout",
     "output_type": "stream",
     "text": [
      "update ranksdf_store triggered\n",
      "Updating cached rank dfs with ti\n",
      "Exception on /_dash-update-component [POST]\n",
      "Traceback (most recent call last):\n",
      "  File \"/home/chris/miniconda3/envs/pruning_viz/lib/python3.6/site-packages/flask/app.py\", line 2447, in wsgi_app\n",
      "    response = self.full_dispatch_request()\n",
      "  File \"/home/chris/miniconda3/envs/pruning_viz/lib/python3.6/site-packages/flask/app.py\", line 1952, in full_dispatch_request\n",
      "    rv = self.handle_user_exception(e)\n",
      "  File \"/home/chris/miniconda3/envs/pruning_viz/lib/python3.6/site-packages/flask/app.py\", line 1821, in handle_user_exception\n",
      "    reraise(exc_type, exc_value, tb)\n",
      "  File \"/home/chris/miniconda3/envs/pruning_viz/lib/python3.6/site-packages/flask/_compat.py\", line 39, in reraise\n",
      "    raise value\n",
      "  File \"/home/chris/miniconda3/envs/pruning_viz/lib/python3.6/site-packages/flask/app.py\", line 1950, in full_dispatch_request\n",
      "    rv = self.dispatch_request()\n",
      "  File \"/home/chris/miniconda3/envs/pruning_viz/lib/python3.6/site-packages/flask/app.py\", line 1936, in dispatch_request\n",
      "    return self.view_functions[rule.endpoint](**req.view_args)\n",
      "  File \"/home/chris/miniconda3/envs/pruning_viz/lib/python3.6/site-packages/dash/dash.py\", line 1050, in dispatch\n",
      "    response.set_data(func(*args, outputs_list=outputs_list))\n",
      "  File \"/home/chris/miniconda3/envs/pruning_viz/lib/python3.6/site-packages/dash/dash.py\", line 985, in add_context\n",
      "    output_value = func(*args, **kwargs)  # %% callback invoked %%\n",
      "  File \"<ipython-input-13-c97e5c6519c4>\", line 405, in update_ranksdf_store\n",
      "    ranksdf_store(target_category,target_node)\n",
      "  File \"/home/chris/miniconda3/envs/pruning_viz/lib/python3.6/site-packages/flask_caching/__init__.py\", line 779, in decorated_function\n",
      "    rv = f(*args, **kwargs)\n",
      "  File \"<ipython-input-13-c97e5c6519c4>\", line 395, in ranksdf_store\n",
      "    target_category_nodes_df,target_category_edges_df = contrast_str_2_dfs(target_category,target_node,model_dis,params)\n",
      "  File \"/mnt/data/chris/dropbox/Research-Hamblin/Projects/cnn_subgraph_visualizer/visualizer_scripts/contrast_helper_functions.py\", line 164, in contrast_str_2_dfs\n",
      "    var_dict, sym_contrast_string = parse_contrast(contrast_string,all_input_images,params['categories'])\n",
      "  File \"/mnt/data/chris/dropbox/Research-Hamblin/Projects/cnn_subgraph_visualizer/visualizer_scripts/contrast_helper_functions.py\", line 72, in parse_contrast\n",
      "    raise ValueError(message)\n",
      "ValueError: \"ti\" is not a valid weight category, all weight categories must be from image names in the \"input_image\" folder, or folder names under the \"rank_image\" folder\n"
     ]
    },
    {
     "name": "stderr",
     "output_type": "stream",
     "text": [
      "127.0.0.1 - - [11/Dec/2020 20:36:51] \"\u001b[35m\u001b[1mPOST /_dash-update-component HTTP/1.1\u001b[0m\" 500 -\n",
      "127.0.0.1 - - [11/Dec/2020 20:36:51] \"\u001b[37mPOST /_dash-update-component HTTP/1.1\u001b[0m\" 200 -\n"
     ]
    },
    {
     "name": "stdout",
     "output_type": "stream",
     "text": [
      "update ranksdf_store triggered\n",
      "update ranksdf_store triggered\n",
      "Updating cached rank dfs with tig\n",
      "Updating cached rank dfs with tige\n",
      "Exception on /_dash-update-component [POST]\n",
      "Traceback (most recent call last):\n",
      "  File \"/home/chris/miniconda3/envs/pruning_viz/lib/python3.6/site-packages/flask/app.py\", line 2447, in wsgi_app\n",
      "    response = self.full_dispatch_request()\n",
      "  File \"/home/chris/miniconda3/envs/pruning_viz/lib/python3.6/site-packages/flask/app.py\", line 1952, in full_dispatch_request\n",
      "    rv = self.handle_user_exception(e)\n",
      "  File \"/home/chris/miniconda3/envs/pruning_viz/lib/python3.6/site-packages/flask/app.py\", line 1821, in handle_user_exception\n",
      "    reraise(exc_type, exc_value, tb)\n",
      "  File \"/home/chris/miniconda3/envs/pruning_viz/lib/python3.6/site-packages/flask/_compat.py\", line 39, in reraise\n",
      "    raise value\n",
      "  File \"/home/chris/miniconda3/envs/pruning_viz/lib/python3.6/site-packages/flask/app.py\", line 1950, in full_dispatch_request\n",
      "    rv = self.dispatch_request()\n",
      "  File \"/home/chris/miniconda3/envs/pruning_viz/lib/python3.6/site-packages/flask/app.py\", line 1936, in dispatch_request\n",
      "    return self.view_functions[rule.endpoint](**req.view_args)\n",
      "  File \"/home/chris/miniconda3/envs/pruning_viz/lib/python3.6/site-packages/dash/dash.py\", line 1050, in dispatch\n",
      "    response.set_data(func(*args, outputs_list=outputs_list))\n",
      "  File \"/home/chris/miniconda3/envs/pruning_viz/lib/python3.6/site-packages/dash/dash.py\", line 985, in add_context\n",
      "    output_value = func(*args, **kwargs)  # %% callback invoked %%\n",
      "  File \"<ipython-input-13-c97e5c6519c4>\", line 405, in update_ranksdf_store\n",
      "    ranksdf_store(target_category,target_node)\n",
      "  File \"/home/chris/miniconda3/envs/pruning_viz/lib/python3.6/site-packages/flask_caching/__init__.py\", line 779, in decorated_function\n",
      "    rv = f(*args, **kwargs)\n",
      "  File \"<ipython-input-13-c97e5c6519c4>\", line 395, in ranksdf_store\n",
      "    target_category_nodes_df,target_category_edges_df = contrast_str_2_dfs(target_category,target_node,model_dis,params)\n",
      "  File \"/mnt/data/chris/dropbox/Research-Hamblin/Projects/cnn_subgraph_visualizer/visualizer_scripts/contrast_helper_functions.py\", line 164, in contrast_str_2_dfs\n",
      "    var_dict, sym_contrast_string = parse_contrast(contrast_string,all_input_images,params['categories'])\n",
      "  File \"/mnt/data/chris/dropbox/Research-Hamblin/Projects/cnn_subgraph_visualizer/visualizer_scripts/contrast_helper_functions.py\", line 72, in parse_contrast\n",
      "    raise ValueError(message)\n",
      "ValueError: \"tige\" is not a valid weight category, all weight categories must be from image names in the \"input_image\" folder, or folder names under the \"rank_image\" folder\n"
     ]
    },
    {
     "name": "stderr",
     "output_type": "stream",
     "text": [
      "127.0.0.1 - - [11/Dec/2020 20:36:51] \"\u001b[35m\u001b[1mPOST /_dash-update-component HTTP/1.1\u001b[0m\" 500 -\n"
     ]
    },
    {
     "name": "stdout",
     "output_type": "stream",
     "text": [
      "Exception on /_dash-update-component [POST]\n",
      "Traceback (most recent call last):\n",
      "  File \"/home/chris/miniconda3/envs/pruning_viz/lib/python3.6/site-packages/flask/app.py\", line 2447, in wsgi_app\n",
      "    response = self.full_dispatch_request()\n",
      "  File \"/home/chris/miniconda3/envs/pruning_viz/lib/python3.6/site-packages/flask/app.py\", line 1952, in full_dispatch_request\n",
      "    rv = self.handle_user_exception(e)\n",
      "  File \"/home/chris/miniconda3/envs/pruning_viz/lib/python3.6/site-packages/flask/app.py\", line 1821, in handle_user_exception\n",
      "    reraise(exc_type, exc_value, tb)\n",
      "  File \"/home/chris/miniconda3/envs/pruning_viz/lib/python3.6/site-packages/flask/_compat.py\", line 39, in reraise\n",
      "    raise value\n",
      "  File \"/home/chris/miniconda3/envs/pruning_viz/lib/python3.6/site-packages/flask/app.py\", line 1950, in full_dispatch_request\n",
      "    rv = self.dispatch_request()\n",
      "  File \"/home/chris/miniconda3/envs/pruning_viz/lib/python3.6/site-packages/flask/app.py\", line 1936, in dispatch_request\n",
      "    return self.view_functions[rule.endpoint](**req.view_args)\n",
      "  File \"/home/chris/miniconda3/envs/pruning_viz/lib/python3.6/site-packages/dash/dash.py\", line 1050, in dispatch\n",
      "    response.set_data(func(*args, outputs_list=outputs_list))\n",
      "  File \"/home/chris/miniconda3/envs/pruning_viz/lib/python3.6/site-packages/dash/dash.py\", line 985, in add_context\n",
      "    output_value = func(*args, **kwargs)  # %% callback invoked %%\n",
      "  File \"<ipython-input-13-c97e5c6519c4>\", line 405, in update_ranksdf_store\n",
      "    ranksdf_store(target_category,target_node)\n",
      "  File \"/home/chris/miniconda3/envs/pruning_viz/lib/python3.6/site-packages/flask_caching/__init__.py\", line 779, in decorated_function\n",
      "    rv = f(*args, **kwargs)\n",
      "  File \"<ipython-input-13-c97e5c6519c4>\", line 395, in ranksdf_store\n",
      "    target_category_nodes_df,target_category_edges_df = contrast_str_2_dfs(target_category,target_node,model_dis,params)\n",
      "  File \"/mnt/data/chris/dropbox/Research-Hamblin/Projects/cnn_subgraph_visualizer/visualizer_scripts/contrast_helper_functions.py\", line 164, in contrast_str_2_dfs\n",
      "    var_dict, sym_contrast_string = parse_contrast(contrast_string,all_input_images,params['categories'])\n",
      "  File \"/mnt/data/chris/dropbox/Research-Hamblin/Projects/cnn_subgraph_visualizer/visualizer_scripts/contrast_helper_functions.py\", line 72, in parse_contrast\n",
      "    raise ValueError(message)\n",
      "ValueError: \"tig\" is not a valid weight category, all weight categories must be from image names in the \"input_image\" folder, or folder names under the \"rank_image\" folder\n"
     ]
    },
    {
     "name": "stderr",
     "output_type": "stream",
     "text": [
      "127.0.0.1 - - [11/Dec/2020 20:36:51] \"\u001b[35m\u001b[1mPOST /_dash-update-component HTTP/1.1\u001b[0m\" 500 -\n",
      "127.0.0.1 - - [11/Dec/2020 20:36:51] \"\u001b[37mPOST /_dash-update-component HTTP/1.1\u001b[0m\" 200 -\n"
     ]
    },
    {
     "name": "stdout",
     "output_type": "stream",
     "text": [
      "update ranksdf_store triggered\n",
      "Updating cached rank dfs with tiger\n"
     ]
    },
    {
     "name": "stderr",
     "output_type": "stream",
     "text": [
      "127.0.0.1 - - [11/Dec/2020 20:36:52] \"\u001b[37mPOST /_dash-update-component HTTP/1.1\u001b[0m\" 200 -\n",
      "127.0.0.1 - - [11/Dec/2020 20:36:52] \"\u001b[37mPOST /_dash-update-component HTTP/1.1\u001b[0m\" 200 -\n",
      "127.0.0.1 - - [11/Dec/2020 20:36:53] \"\u001b[37mPOST /_dash-update-component HTTP/1.1\u001b[0m\" 200 -\n"
     ]
    },
    {
     "name": "stdout",
     "output_type": "stream",
     "text": [
      "CALLED: update_node_inputs\n",
      "CALLED: update_store\n",
      "\n",
      "TRIGGER target-signal.children\n",
      "changing target category to tiger\n",
      "         node_num   layer_name  layer  node_num_by_layer  act_prenorm_rank  \\\n",
      "1039104         0   features_0      0                  0          0.341375   \n",
      "1039105         1   features_0      0                  1          0.342815   \n",
      "1039106         2   features_0      0                  2          0.493653   \n",
      "1039107         3   features_0      0                  3          0.507939   \n",
      "1039108         4   features_0      0                  4          0.630259   \n",
      "...           ...          ...    ...                ...               ...   \n",
      "1040251      1147  features_10      4                251          0.138633   \n",
      "1040252      1148  features_10      4                252          0.232776   \n",
      "1040253      1149  features_10      4                253          0.192005   \n",
      "1040254      1150  features_10      4                254          0.848391   \n",
      "1040255      1151  features_10      4                255          0.776626   \n",
      "\n",
      "         grad_prenorm_rank  actxgrad_prenorm_rank  act_norm_rank  \\\n",
      "1039104           0.000006           5.040853e-07       0.067701   \n",
      "1039105           0.000005           3.191049e-07       0.067987   \n",
      "1039106           0.000011           1.971865e-06       0.097901   \n",
      "1039107           0.000009          -2.784296e-07       0.100734   \n",
      "1039108           0.000010          -1.383122e-06       0.124993   \n",
      "...                    ...                    ...            ...   \n",
      "1040251           0.000003          -1.805298e-06       0.015863   \n",
      "1040252           0.000003           1.115599e-06       0.026635   \n",
      "1040253           0.000006           1.503406e-05       0.021970   \n",
      "1040254           0.000005           1.130867e-06       0.097074   \n",
      "1040255           0.000005          -1.310321e-05       0.088863   \n",
      "\n",
      "         grad_norm_rank  actxgrad_norm_rank category  \n",
      "1039104        0.083001            0.054111    tiger  \n",
      "1039105        0.077428            0.034254    tiger  \n",
      "1039106        0.166884            0.211669    tiger  \n",
      "1039107        0.129274            0.029888    tiger  \n",
      "1039108        0.144300            0.148471    tiger  \n",
      "...                 ...                 ...      ...  \n",
      "1040251        0.040114            0.018428    tiger  \n",
      "1040252        0.048990            0.011388    tiger  \n",
      "1040253        0.084911            0.153462    tiger  \n",
      "1040254        0.068443            0.011543    tiger  \n",
      "1040255        0.071384            0.133752    tiger  \n",
      "\n",
      "[1152 rows x 11 columns]\n"
     ]
    },
    {
     "name": "stderr",
     "output_type": "stream",
     "text": [
      "127.0.0.1 - - [11/Dec/2020 20:36:54] \"\u001b[37mPOST /_dash-update-component HTTP/1.1\u001b[0m\" 200 -\n",
      "127.0.0.1 - - [11/Dec/2020 20:36:54] \"\u001b[37mPOST /_dash-update-component HTTP/1.1\u001b[0m\" 200 -\n"
     ]
    },
    {
     "name": "stdout",
     "output_type": "stream",
     "text": [
      "   edge_num  layer_name  layer  out_channel  in_channel  act_prenorm_rank  \\\n",
      "1         1  features_0      0            0           1          2.302351   \n",
      "0         0  features_0      0            0           0          1.736463   \n",
      "2         2  features_0      0            0           2          0.576173   \n",
      "\n",
      "   grad_prenorm_rank  actxgrad_prenorm_rank  act_norm_rank  grad_norm_rank  \\\n",
      "1           0.000006               0.000020       0.113297        0.047921   \n",
      "0           0.000006               0.000013       0.085450        0.047921   \n",
      "2           0.000006               0.000006       0.028353        0.047921   \n",
      "\n",
      "   actxgrad_norm_rank  \n",
      "1            0.097043  \n",
      "0            0.060426  \n",
      "2            0.030740  \n"
     ]
    },
    {
     "name": "stderr",
     "output_type": "stream",
     "text": [
      "127.0.0.1 - - [11/Dec/2020 20:36:55] \"\u001b[37mPOST /_dash-update-component HTTP/1.1\u001b[0m\" 200 -\n",
      "127.0.0.1 - - [11/Dec/2020 20:36:55] \"\u001b[37mPOST /_dash-update-component HTTP/1.1\u001b[0m\" 200 -\n"
     ]
    },
    {
     "name": "stdout",
     "output_type": "stream",
     "text": [
      "CALLED: update_figure\n",
      "\n",
      "[0.1, 1]\n",
      "['r-2']\n",
      "['0']\n",
      "building graph from browser \"state\"\n"
     ]
    },
    {
     "name": "stderr",
     "output_type": "stream",
     "text": [
      "127.0.0.1 - - [11/Dec/2020 20:36:56] \"\u001b[37mPOST /_dash-update-component HTTP/1.1\u001b[0m\" 200 -\n",
      "127.0.0.1 - - [11/Dec/2020 20:36:57] \"\u001b[37mPOST /_dash-update-component HTTP/1.1\u001b[0m\" 200 -\n",
      "127.0.0.1 - - [11/Dec/2020 20:36:57] \"\u001b[37mPOST /_dash-update-component HTTP/1.1\u001b[0m\" 200 -\n",
      "127.0.0.1 - - [11/Dec/2020 20:36:57] \"\u001b[37mPOST /_dash-update-component HTTP/1.1\u001b[0m\" 200 -\n",
      "127.0.0.1 - - [11/Dec/2020 20:36:57] \"\u001b[37mPOST /_dash-update-component HTTP/1.1\u001b[0m\" 200 -\n",
      "127.0.0.1 - - [11/Dec/2020 20:36:57] \"\u001b[37mPOST /_dash-update-component HTTP/1.1\u001b[0m\" 200 -\n",
      "127.0.0.1 - - [11/Dec/2020 20:36:57] \"\u001b[37mPOST /_dash-update-component HTTP/1.1\u001b[0m\" 200 -\n",
      "127.0.0.1 - - [11/Dec/2020 20:36:59] \"\u001b[37mPOST /_dash-update-component HTTP/1.1\u001b[0m\" 200 -\n",
      "127.0.0.1 - - [11/Dec/2020 20:37:00] \"\u001b[37mPOST /_dash-update-component HTTP/1.1\u001b[0m\" 200 -\n",
      "127.0.0.1 - - [11/Dec/2020 20:37:02] \"\u001b[37mPOST /_dash-update-component HTTP/1.1\u001b[0m\" 200 -\n",
      "127.0.0.1 - - [11/Dec/2020 20:37:02] \"\u001b[37mPOST /_dash-update-component HTTP/1.1\u001b[0m\" 200 -\n",
      "127.0.0.1 - - [11/Dec/2020 20:37:02] \"\u001b[37mPOST /_dash-update-component HTTP/1.1\u001b[0m\" 200 -\n",
      "127.0.0.1 - - [11/Dec/2020 20:37:02] \"\u001b[37mPOST /_dash-update-component HTTP/1.1\u001b[0m\" 200 -\n",
      "127.0.0.1 - - [11/Dec/2020 20:37:02] \"\u001b[37mPOST /_dash-update-component HTTP/1.1\u001b[0m\" 200 -\n",
      "127.0.0.1 - - [11/Dec/2020 20:37:02] \"\u001b[37mPOST /_dash-update-component HTTP/1.1\u001b[0m\" 200 -\n",
      "127.0.0.1 - - [11/Dec/2020 20:37:03] \"\u001b[37mPOST /_dash-update-component HTTP/1.1\u001b[0m\" 200 -\n",
      "127.0.0.1 - - [11/Dec/2020 20:37:03] \"\u001b[37mPOST /_dash-update-component HTTP/1.1\u001b[0m\" 200 -\n",
      "127.0.0.1 - - [11/Dec/2020 20:37:03] \"\u001b[37mPOST /_dash-update-component HTTP/1.1\u001b[0m\" 200 -\n",
      "127.0.0.1 - - [11/Dec/2020 20:37:03] \"\u001b[37mPOST /_dash-update-component HTTP/1.1\u001b[0m\" 200 -\n",
      "127.0.0.1 - - [11/Dec/2020 20:37:03] \"\u001b[37mPOST /_dash-update-component HTTP/1.1\u001b[0m\" 200 -\n",
      "127.0.0.1 - - [11/Dec/2020 20:37:03] \"\u001b[37mPOST /_dash-update-component HTTP/1.1\u001b[0m\" 200 -\n"
     ]
    },
    {
     "name": "stdout",
     "output_type": "stream",
     "text": [
      "CALLED: switch_node_actmap_click\n",
      "CALLED: switch_edge_actmaps_click\n"
     ]
    },
    {
     "name": "stderr",
     "output_type": "stream",
     "text": [
      "127.0.0.1 - - [11/Dec/2020 20:37:03] \"\u001b[37mPOST /_dash-update-component HTTP/1.1\u001b[0m\" 200 -\n"
     ]
    },
    {
     "name": "stdout",
     "output_type": "stream",
     "text": [
      "CALLED: update_node_deepviz\n",
      "CALLED: update_node_actmap\n",
      "CALLED: update_node_inputs\n",
      "found pre-generated image\n"
     ]
    },
    {
     "name": "stderr",
     "output_type": "stream",
     "text": [
      "127.0.0.1 - - [11/Dec/2020 20:37:04] \"\u001b[37mPOST /_dash-update-component HTTP/1.1\u001b[0m\" 200 -\n",
      "127.0.0.1 - - [11/Dec/2020 20:37:04] \"\u001b[37mPOST /_dash-update-component HTTP/1.1\u001b[0m\" 200 -\n"
     ]
    },
    {
     "name": "stdout",
     "output_type": "stream",
     "text": [
      "CALLED: update_edge_deepviz\n",
      "CALLED: update_edge_kernelmap\n",
      "found pre-generated image\n",
      "CALLED: update_store\n",
      "\n",
      "TRIGGER edge-actmaps-input.value\n",
      "r-2\n",
      "changing selected node to 686\n",
      "CALLED: update_edge_outmap\n",
      "CALLED: update_edge_inmap\n"
     ]
    },
    {
     "name": "stderr",
     "output_type": "stream",
     "text": [
      "127.0.0.1 - - [11/Dec/2020 20:37:06] \"\u001b[37mPOST /_dash-update-component HTTP/1.1\u001b[0m\" 200 -\n",
      "127.0.0.1 - - [11/Dec/2020 20:37:06] \"\u001b[37mPOST /_dash-update-component HTTP/1.1\u001b[0m\" 200 -\n",
      "127.0.0.1 - - [11/Dec/2020 20:37:06] \"\u001b[37mPOST /_dash-update-component HTTP/1.1\u001b[0m\" 200 -\n",
      "127.0.0.1 - - [11/Dec/2020 20:37:06] \"\u001b[37mPOST /_dash-update-component HTTP/1.1\u001b[0m\" 200 -\n",
      "127.0.0.1 - - [11/Dec/2020 20:37:06] \"\u001b[37mPOST /_dash-update-component HTTP/1.1\u001b[0m\" 200 -\n",
      "127.0.0.1 - - [11/Dec/2020 20:37:06] \"\u001b[37mPOST /_dash-update-component HTTP/1.1\u001b[0m\" 200 -\n"
     ]
    },
    {
     "name": "stdout",
     "output_type": "stream",
     "text": [
      "CALLED: update_figure\n",
      "\n",
      "[0.1, 1]\n",
      "['r-2']\n",
      "['0', '686']\n",
      "updating edge highlight to r-2\n",
      "updating node highlight to 686\n",
      "0 0 features_0\n"
     ]
    },
    {
     "name": "stderr",
     "output_type": "stream",
     "text": [
      "127.0.0.1 - - [11/Dec/2020 20:37:07] \"\u001b[37mPOST /_dash-update-component HTTP/1.1\u001b[0m\" 200 -\n",
      "127.0.0.1 - - [11/Dec/2020 20:37:07] \"\u001b[37mPOST /_dash-update-component HTTP/1.1\u001b[0m\" 200 -\n"
     ]
    },
    {
     "name": "stdout",
     "output_type": "stream",
     "text": [
      "CALLED: update_inputimg_dropdown options\n"
     ]
    },
    {
     "name": "stderr",
     "output_type": "stream",
     "text": [
      "127.0.0.1 - - [11/Dec/2020 20:37:07] \"\u001b[37mPOST /_dash-update-component HTTP/1.1\u001b[0m\" 200 -\n",
      "127.0.0.1 - - [11/Dec/2020 20:37:07] \"\u001b[37mPOST /_dash-update-component HTTP/1.1\u001b[0m\" 200 -\n"
     ]
    },
    {
     "name": "stdout",
     "output_type": "stream",
     "text": [
      "        edge_num  layer_name  layer  out_channel  in_channel  \\\n",
      "104019    104019  features_8      3           46         147   \n",
      "104166    104166  features_8      3           46         294   \n",
      "104252    104252  features_8      3           46         380   \n",
      "104090    104090  features_8      3           46         218   \n",
      "103886    103886  features_8      3           46          14   \n",
      "103959    103959  features_8      3           46          87   \n",
      "103890    103890  features_8      3           46          18   \n",
      "104105    104105  features_8      3           46         233   \n",
      "104074    104074  features_8      3           46         202   \n",
      "104063    104063  features_8      3           46         191   \n",
      "103970    103970  features_8      3           46          98   \n",
      "104031    104031  features_8      3           46         159   \n",
      "104101    104101  features_8      3           46         229   \n",
      "104211    104211  features_8      3           46         339   \n",
      "104206    104206  features_8      3           46         334   \n",
      "103977    103977  features_8      3           46         105   \n",
      "104146    104146  features_8      3           46         274   \n",
      "104255    104255  features_8      3           46         383   \n",
      "103930    103930  features_8      3           46          58   \n",
      "104169    104169  features_8      3           46         297   \n",
      "\n",
      "        act_prenorm_rank  grad_prenorm_rank  actxgrad_prenorm_rank  \\\n",
      "104019          0.236677           0.000008               0.000003   \n",
      "104166          0.208974           0.000008               0.000003   \n",
      "104252          0.263698           0.000008               0.000003   \n",
      "104090          0.211519           0.000008               0.000003   \n",
      "103886          0.175488           0.000008               0.000002   \n",
      "103959          0.319945           0.000008               0.000002   \n",
      "103890          0.457106           0.000008               0.000002   \n",
      "104105          0.198942           0.000008               0.000002   \n",
      "104074          0.166155           0.000008               0.000002   \n",
      "104063          0.148794           0.000008               0.000002   \n",
      "103970          0.176410           0.000008               0.000002   \n",
      "104031          0.152786           0.000008               0.000002   \n",
      "104101          0.186995           0.000008               0.000002   \n",
      "104211          0.164674           0.000008               0.000002   \n",
      "104206          0.266653           0.000008               0.000002   \n",
      "103977          0.130913           0.000008               0.000002   \n",
      "104146          0.247474           0.000008               0.000002   \n",
      "104255          0.145721           0.000008               0.000002   \n",
      "103930          0.078678           0.000008               0.000002   \n",
      "104169          0.177693           0.000008               0.000001   \n",
      "\n",
      "        act_norm_rank  grad_norm_rank  actxgrad_norm_rank  \n",
      "104019       0.007228        0.004273            0.015447  \n",
      "104166       0.006382        0.004273            0.013849  \n",
      "104252       0.008053        0.004273            0.012850  \n",
      "104090       0.006459        0.004273            0.012206  \n",
      "103886       0.005359        0.004273            0.011457  \n",
      "103959       0.009770        0.004273            0.011419  \n",
      "103890       0.013959        0.004273            0.010407  \n",
      "104105       0.006075        0.004273            0.010315  \n",
      "104074       0.005074        0.004273            0.009432  \n",
      "104063       0.004544        0.004273            0.008741  \n",
      "103970       0.005387        0.004273            0.008716  \n",
      "104031       0.004666        0.004273            0.008165  \n",
      "104101       0.005710        0.004273            0.007764  \n",
      "104211       0.005029        0.004273            0.007724  \n",
      "104206       0.008143        0.004273            0.007716  \n",
      "103977       0.003998        0.004273            0.007589  \n",
      "104146       0.007557        0.004273            0.007510  \n",
      "104255       0.004450        0.004273            0.007498  \n",
      "103930       0.002403        0.004273            0.007201  \n",
      "104169       0.005426        0.004273            0.006832  \n"
     ]
    },
    {
     "name": "stderr",
     "output_type": "stream",
     "text": [
      "127.0.0.1 - - [11/Dec/2020 20:37:13] \"\u001b[37mPOST /_dash-update-component HTTP/1.1\u001b[0m\" 200 -\n",
      "127.0.0.1 - - [11/Dec/2020 20:37:17] \"\u001b[37mPOST /_dash-update-component HTTP/1.1\u001b[0m\" 200 -\n",
      "127.0.0.1 - - [11/Dec/2020 20:37:17] \"\u001b[37mPOST /_dash-update-component HTTP/1.1\u001b[0m\" 200 -\n",
      "127.0.0.1 - - [11/Dec/2020 20:37:17] \"\u001b[37mPOST /_dash-update-component HTTP/1.1\u001b[0m\" 200 -\n",
      "127.0.0.1 - - [11/Dec/2020 20:37:17] \"\u001b[37mPOST /_dash-update-component HTTP/1.1\u001b[0m\" 200 -\n",
      "127.0.0.1 - - [11/Dec/2020 20:37:17] \"\u001b[37mPOST /_dash-update-component HTTP/1.1\u001b[0m\" 200 -\n",
      "127.0.0.1 - - [11/Dec/2020 20:37:17] \"\u001b[37mPOST /_dash-update-component HTTP/1.1\u001b[0m\" 200 -\n",
      "127.0.0.1 - - [11/Dec/2020 20:37:18] \"\u001b[37mPOST /_dash-update-component HTTP/1.1\u001b[0m\" 200 -\n",
      "127.0.0.1 - - [11/Dec/2020 20:37:18] \"\u001b[37mPOST /_dash-update-component HTTP/1.1\u001b[0m\" 200 -\n",
      "127.0.0.1 - - [11/Dec/2020 20:37:18] \"\u001b[37mPOST /_dash-update-component HTTP/1.1\u001b[0m\" 200 -\n",
      "127.0.0.1 - - [11/Dec/2020 20:37:18] \"\u001b[37mPOST /_dash-update-component HTTP/1.1\u001b[0m\" 200 -\n",
      "127.0.0.1 - - [11/Dec/2020 20:37:18] \"\u001b[37mPOST /_dash-update-component HTTP/1.1\u001b[0m\" 200 -\n",
      "127.0.0.1 - - [11/Dec/2020 20:37:19] \"\u001b[37mPOST /_dash-update-component HTTP/1.1\u001b[0m\" 200 -\n",
      "127.0.0.1 - - [11/Dec/2020 20:37:19] \"\u001b[37mPOST /_dash-update-component HTTP/1.1\u001b[0m\" 200 -\n",
      "127.0.0.1 - - [11/Dec/2020 20:37:19] \"\u001b[37mPOST /_dash-update-component HTTP/1.1\u001b[0m\" 200 -\n",
      "127.0.0.1 - - [11/Dec/2020 20:37:19] \"\u001b[37mPOST /_dash-update-component HTTP/1.1\u001b[0m\" 200 -\n",
      "127.0.0.1 - - [11/Dec/2020 20:37:20] \"\u001b[37mPOST /_dash-update-component HTTP/1.1\u001b[0m\" 200 -\n",
      "127.0.0.1 - - [11/Dec/2020 20:37:20] \"\u001b[37mPOST /_dash-update-component HTTP/1.1\u001b[0m\" 200 -\n",
      "127.0.0.1 - - [11/Dec/2020 20:37:20] \"\u001b[37mPOST /_dash-update-component HTTP/1.1\u001b[0m\" 200 -\n",
      "127.0.0.1 - - [11/Dec/2020 20:37:20] \"\u001b[37mPOST /_dash-update-component HTTP/1.1\u001b[0m\" 200 -\n",
      "127.0.0.1 - - [11/Dec/2020 20:37:20] \"\u001b[37mPOST /_dash-update-component HTTP/1.1\u001b[0m\" 200 -\n",
      "127.0.0.1 - - [11/Dec/2020 20:37:22] \"\u001b[37mPOST /_dash-update-component HTTP/1.1\u001b[0m\" 200 -\n",
      "127.0.0.1 - - [11/Dec/2020 20:37:22] \"\u001b[37mPOST /_dash-update-component HTTP/1.1\u001b[0m\" 200 -\n",
      "127.0.0.1 - - [11/Dec/2020 20:37:22] \"\u001b[37mPOST /_dash-update-component HTTP/1.1\u001b[0m\" 200 -\n",
      "127.0.0.1 - - [11/Dec/2020 20:37:22] \"\u001b[37mPOST /_dash-update-component HTTP/1.1\u001b[0m\" 200 -\n"
     ]
    },
    {
     "name": "stdout",
     "output_type": "stream",
     "text": [
      "CALLED: switch_node_actmap_click\n",
      "CALLED: switch_edge_actmaps_click\n",
      "CALLED: update_node_deepviz\n",
      "CALLED: update_node_actmap\n",
      "CALLED: update_node_inputs\n",
      "found pre-generated image\n",
      "CALLED: update_edge_deepviz\n",
      "found pre-generated image\n",
      "CALLED: update_edge_kernelmapCALLED: update_store\n",
      "\n",
      "TRIGGER edge-actmaps-input.value\n",
      "r-2\n",
      "changing selected node to 874\n",
      "\n"
     ]
    },
    {
     "name": "stderr",
     "output_type": "stream",
     "text": [
      "127.0.0.1 - - [11/Dec/2020 20:37:22] \"\u001b[37mPOST /_dash-update-component HTTP/1.1\u001b[0m\" 200 -\n",
      "127.0.0.1 - - [11/Dec/2020 20:37:23] \"\u001b[37mPOST /_dash-update-component HTTP/1.1\u001b[0m\" 200 -\n"
     ]
    },
    {
     "name": "stdout",
     "output_type": "stream",
     "text": [
      "CALLED: update_edge_outmap\n",
      "CALLED: update_edge_inmap\n"
     ]
    },
    {
     "name": "stderr",
     "output_type": "stream",
     "text": [
      "127.0.0.1 - - [11/Dec/2020 20:37:24] \"\u001b[37mPOST /_dash-update-component HTTP/1.1\u001b[0m\" 200 -\n",
      "127.0.0.1 - - [11/Dec/2020 20:37:24] \"\u001b[37mPOST /_dash-update-component HTTP/1.1\u001b[0m\" 200 -\n",
      "127.0.0.1 - - [11/Dec/2020 20:37:24] \"\u001b[37mPOST /_dash-update-component HTTP/1.1\u001b[0m\" 200 -\n",
      "127.0.0.1 - - [11/Dec/2020 20:37:24] \"\u001b[37mPOST /_dash-update-component HTTP/1.1\u001b[0m\" 200 -\n",
      "127.0.0.1 - - [11/Dec/2020 20:37:25] \"\u001b[37mPOST /_dash-update-component HTTP/1.1\u001b[0m\" 200 -\n",
      "127.0.0.1 - - [11/Dec/2020 20:37:25] \"\u001b[37mPOST /_dash-update-component HTTP/1.1\u001b[0m\" 200 -\n",
      "127.0.0.1 - - [11/Dec/2020 20:37:25] \"\u001b[37mPOST /_dash-update-component HTTP/1.1\u001b[0m\" 200 -\n",
      "127.0.0.1 - - [11/Dec/2020 20:37:25] \"\u001b[37mPOST /_dash-update-component HTTP/1.1\u001b[0m\" 200 -\n",
      "127.0.0.1 - - [11/Dec/2020 20:37:25] \"\u001b[37mPOST /_dash-update-component HTTP/1.1\u001b[0m\" 200 -\n",
      "127.0.0.1 - - [11/Dec/2020 20:37:25] \"\u001b[37mPOST /_dash-update-component HTTP/1.1\u001b[0m\" 200 -\n",
      "127.0.0.1 - - [11/Dec/2020 20:37:25] \"\u001b[37mPOST /_dash-update-component HTTP/1.1\u001b[0m\" 200 -\n",
      "127.0.0.1 - - [11/Dec/2020 20:37:25] \"\u001b[37mPOST /_dash-update-component HTTP/1.1\u001b[0m\" 200 -\n",
      "127.0.0.1 - - [11/Dec/2020 20:37:25] \"\u001b[37mPOST /_dash-update-component HTTP/1.1\u001b[0m\" 200 -\n"
     ]
    },
    {
     "name": "stdout",
     "output_type": "stream",
     "text": [
      "CALLED: update_figure\n",
      "\n",
      "[0.1, 1]\n",
      "['r-2']\n",
      "['0', '686', '874']\n",
      "updating edge highlight to r-2\n",
      "updating node highlight to 874\n",
      "3 46 features_8\n"
     ]
    },
    {
     "name": "stderr",
     "output_type": "stream",
     "text": [
      "127.0.0.1 - - [11/Dec/2020 20:37:26] \"\u001b[37mPOST /_dash-update-component HTTP/1.1\u001b[0m\" 200 -\n",
      "127.0.0.1 - - [11/Dec/2020 20:37:26] \"\u001b[37mPOST /_dash-update-component HTTP/1.1\u001b[0m\" 200 -\n",
      "127.0.0.1 - - [11/Dec/2020 20:37:26] \"\u001b[37mPOST /_dash-update-component HTTP/1.1\u001b[0m\" 200 -\n"
     ]
    },
    {
     "name": "stdout",
     "output_type": "stream",
     "text": [
      "        edge_num  layer_name  layer  out_channel  in_channel  \\\n",
      "176247    176247  features_8      3          234         183   \n",
      "176223    176223  features_8      3          234         159   \n",
      "176243    176243  features_8      3          234         179   \n",
      "176437    176437  features_8      3          234         373   \n",
      "176134    176134  features_8      3          234          70   \n",
      "176280    176280  features_8      3          234         216   \n",
      "176447    176447  features_8      3          234         383   \n",
      "176230    176230  features_8      3          234         166   \n",
      "176157    176157  features_8      3          234          93   \n",
      "176213    176213  features_8      3          234         149   \n",
      "176321    176321  features_8      3          234         257   \n",
      "176206    176206  features_8      3          234         142   \n",
      "176224    176224  features_8      3          234         160   \n",
      "176440    176440  features_8      3          234         376   \n",
      "176073    176073  features_8      3          234           9   \n",
      "176187    176187  features_8      3          234         123   \n",
      "176214    176214  features_8      3          234         150   \n",
      "176277    176277  features_8      3          234         213   \n",
      "176400    176400  features_8      3          234         336   \n",
      "176082    176082  features_8      3          234          18   \n",
      "\n",
      "        act_prenorm_rank  grad_prenorm_rank  actxgrad_prenorm_rank  \\\n",
      "176247          0.249673           0.000014               0.000006   \n",
      "176223          0.197730           0.000014               0.000005   \n",
      "176243          0.226784           0.000014               0.000005   \n",
      "176437          0.124946           0.000014               0.000005   \n",
      "176134          0.151546           0.000014               0.000005   \n",
      "176280          0.233146           0.000014               0.000005   \n",
      "176447          0.220564           0.000014               0.000005   \n",
      "176230          0.227308           0.000014               0.000004   \n",
      "176157          0.183920           0.000014               0.000004   \n",
      "176213          0.262823           0.000014               0.000004   \n",
      "176321          0.200026           0.000014               0.000004   \n",
      "176206          0.169296           0.000014               0.000004   \n",
      "176224          0.122759           0.000014               0.000004   \n",
      "176440          0.253269           0.000014               0.000004   \n",
      "176073          0.154616           0.000014               0.000004   \n",
      "176187          0.288983           0.000014               0.000004   \n",
      "176214          0.126050           0.000014               0.000004   \n",
      "176277          0.171561           0.000014               0.000003   \n",
      "176400          0.197446           0.000014               0.000003   \n",
      "176082          0.240368           0.000014               0.000003   \n",
      "\n",
      "        act_norm_rank  grad_norm_rank  actxgrad_norm_rank  \n",
      "176247       0.007624        0.007147            0.030625  \n",
      "176223       0.006038        0.007147            0.025182  \n",
      "176243       0.006925        0.007147            0.024695  \n",
      "176437       0.003816        0.007147            0.022092  \n",
      "176134       0.004628        0.007147            0.021858  \n",
      "176280       0.007120        0.007147            0.021830  \n",
      "176447       0.006735        0.007147            0.021642  \n",
      "176230       0.006941        0.007147            0.021471  \n",
      "176157       0.005616        0.007147            0.021400  \n",
      "176213       0.008026        0.007147            0.021223  \n",
      "176321       0.006108        0.007147            0.019998  \n",
      "176206       0.005170        0.007147            0.019745  \n",
      "176224       0.003749        0.007147            0.017459  \n",
      "176440       0.007734        0.007147            0.017126  \n",
      "176073       0.004722        0.007147            0.016822  \n",
      "176187       0.008825        0.007147            0.016809  \n",
      "176214       0.003849        0.007147            0.016781  \n",
      "176277       0.005239        0.007147            0.016410  \n",
      "176400       0.006030        0.007147            0.016142  \n",
      "176082       0.007340        0.007147            0.016050  \n",
      "CALLED: update_inputimg_dropdown options\n"
     ]
    },
    {
     "name": "stderr",
     "output_type": "stream",
     "text": [
      "127.0.0.1 - - [11/Dec/2020 20:37:34] \"\u001b[37mPOST /_dash-update-component HTTP/1.1\u001b[0m\" 200 -\n",
      "127.0.0.1 - - [11/Dec/2020 20:37:34] \"\u001b[37mPOST /_dash-update-component HTTP/1.1\u001b[0m\" 200 -\n",
      "127.0.0.1 - - [11/Dec/2020 20:37:34] \"\u001b[37mPOST /_dash-update-component HTTP/1.1\u001b[0m\" 200 -\n",
      "127.0.0.1 - - [11/Dec/2020 20:37:34] \"\u001b[37mPOST /_dash-update-component HTTP/1.1\u001b[0m\" 200 -\n",
      "127.0.0.1 - - [11/Dec/2020 20:37:36] \"\u001b[37mPOST /_dash-update-component HTTP/1.1\u001b[0m\" 200 -\n"
     ]
    },
    {
     "name": "stdout",
     "output_type": "stream",
     "text": [
      "CALLED: update_inputimg_actmap\n",
      "Updating cached activations with tiger_10006.JPEG\n"
     ]
    },
    {
     "name": "stderr",
     "output_type": "stream",
     "text": [
      "127.0.0.1 - - [11/Dec/2020 20:37:46] \"\u001b[37mPOST /_dash-update-component HTTP/1.1\u001b[0m\" 200 -\n",
      "127.0.0.1 - - [11/Dec/2020 20:37:46] \"\u001b[37mPOST /_dash-update-component HTTP/1.1\u001b[0m\" 200 -\n",
      "127.0.0.1 - - [11/Dec/2020 20:37:46] \"\u001b[37mPOST /_dash-update-component HTTP/1.1\u001b[0m\" 200 -\n",
      "127.0.0.1 - - [11/Dec/2020 20:37:46] \"\u001b[37mPOST /_dash-update-component HTTP/1.1\u001b[0m\" 200 -\n",
      "127.0.0.1 - - [11/Dec/2020 20:37:46] \"\u001b[37mPOST /_dash-update-component HTTP/1.1\u001b[0m\" 200 -\n",
      "127.0.0.1 - - [11/Dec/2020 20:37:47] \"\u001b[37mPOST /_dash-update-component HTTP/1.1\u001b[0m\" 200 -\n",
      "127.0.0.1 - - [11/Dec/2020 20:37:47] \"\u001b[37mPOST /_dash-update-component HTTP/1.1\u001b[0m\" 200 -\n",
      "127.0.0.1 - - [11/Dec/2020 20:37:51] \"\u001b[37mPOST /_dash-update-component HTTP/1.1\u001b[0m\" 200 -\n",
      "127.0.0.1 - - [11/Dec/2020 20:37:51] \"\u001b[37mPOST /_dash-update-component HTTP/1.1\u001b[0m\" 200 -\n",
      "127.0.0.1 - - [11/Dec/2020 20:37:51] \"\u001b[37mPOST /_dash-update-component HTTP/1.1\u001b[0m\" 200 -\n",
      "127.0.0.1 - - [11/Dec/2020 20:37:51] \"\u001b[37mPOST /_dash-update-component HTTP/1.1\u001b[0m\" 200 -\n",
      "127.0.0.1 - - [11/Dec/2020 20:37:51] \"\u001b[37mPOST /_dash-update-component HTTP/1.1\u001b[0m\" 200 -\n",
      "127.0.0.1 - - [11/Dec/2020 20:37:53] \"\u001b[37mPOST /_dash-update-component HTTP/1.1\u001b[0m\" 200 -\n"
     ]
    },
    {
     "name": "stdout",
     "output_type": "stream",
     "text": [
      "CALLED: update_node_actmap\n",
      "CALLED: update_node_inputs\n",
      "CALLED: update_edge_outmap\n"
     ]
    },
    {
     "name": "stderr",
     "output_type": "stream",
     "text": [
      "127.0.0.1 - - [11/Dec/2020 20:37:53] \"\u001b[37mPOST /_dash-update-component HTTP/1.1\u001b[0m\" 200 -\n"
     ]
    },
    {
     "name": "stdout",
     "output_type": "stream",
     "text": [
      "CALLED: update_edge_inmap\n"
     ]
    },
    {
     "name": "stderr",
     "output_type": "stream",
     "text": [
      "127.0.0.1 - - [11/Dec/2020 20:37:54] \"\u001b[37mPOST /_dash-update-component HTTP/1.1\u001b[0m\" 200 -\n",
      "127.0.0.1 - - [11/Dec/2020 20:37:55] \"\u001b[37mPOST /_dash-update-component HTTP/1.1\u001b[0m\" 200 -\n",
      "127.0.0.1 - - [11/Dec/2020 20:37:55] \"\u001b[37mPOST /_dash-update-component HTTP/1.1\u001b[0m\" 200 -\n"
     ]
    },
    {
     "name": "stdout",
     "output_type": "stream",
     "text": [
      "        edge_num  layer_name  layer  out_channel  in_channel  \\\n",
      "176247    176247  features_8      3          234         183   \n",
      "176223    176223  features_8      3          234         159   \n",
      "176243    176243  features_8      3          234         179   \n",
      "176437    176437  features_8      3          234         373   \n",
      "176134    176134  features_8      3          234          70   \n",
      "176280    176280  features_8      3          234         216   \n",
      "176447    176447  features_8      3          234         383   \n",
      "176230    176230  features_8      3          234         166   \n",
      "176157    176157  features_8      3          234          93   \n",
      "176213    176213  features_8      3          234         149   \n",
      "176321    176321  features_8      3          234         257   \n",
      "176206    176206  features_8      3          234         142   \n",
      "176224    176224  features_8      3          234         160   \n",
      "176440    176440  features_8      3          234         376   \n",
      "176073    176073  features_8      3          234           9   \n",
      "176187    176187  features_8      3          234         123   \n",
      "176214    176214  features_8      3          234         150   \n",
      "176277    176277  features_8      3          234         213   \n",
      "176400    176400  features_8      3          234         336   \n",
      "176082    176082  features_8      3          234          18   \n",
      "\n",
      "        act_prenorm_rank  grad_prenorm_rank  actxgrad_prenorm_rank  \\\n",
      "176247          0.249673           0.000014               0.000006   \n",
      "176223          0.197730           0.000014               0.000005   \n",
      "176243          0.226784           0.000014               0.000005   \n",
      "176437          0.124946           0.000014               0.000005   \n",
      "176134          0.151546           0.000014               0.000005   \n",
      "176280          0.233146           0.000014               0.000005   \n",
      "176447          0.220564           0.000014               0.000005   \n",
      "176230          0.227308           0.000014               0.000004   \n",
      "176157          0.183920           0.000014               0.000004   \n",
      "176213          0.262823           0.000014               0.000004   \n",
      "176321          0.200026           0.000014               0.000004   \n",
      "176206          0.169296           0.000014               0.000004   \n",
      "176224          0.122759           0.000014               0.000004   \n",
      "176440          0.253269           0.000014               0.000004   \n",
      "176073          0.154616           0.000014               0.000004   \n",
      "176187          0.288983           0.000014               0.000004   \n",
      "176214          0.126050           0.000014               0.000004   \n",
      "176277          0.171561           0.000014               0.000003   \n",
      "176400          0.197446           0.000014               0.000003   \n",
      "176082          0.240368           0.000014               0.000003   \n",
      "\n",
      "        act_norm_rank  grad_norm_rank  actxgrad_norm_rank  \n",
      "176247       0.007624        0.007147            0.030625  \n",
      "176223       0.006038        0.007147            0.025182  \n",
      "176243       0.006925        0.007147            0.024695  \n",
      "176437       0.003816        0.007147            0.022092  \n",
      "176134       0.004628        0.007147            0.021858  \n",
      "176280       0.007120        0.007147            0.021830  \n",
      "176447       0.006735        0.007147            0.021642  \n",
      "176230       0.006941        0.007147            0.021471  \n",
      "176157       0.005616        0.007147            0.021400  \n",
      "176213       0.008026        0.007147            0.021223  \n",
      "176321       0.006108        0.007147            0.019998  \n",
      "176206       0.005170        0.007147            0.019745  \n",
      "176224       0.003749        0.007147            0.017459  \n",
      "176440       0.007734        0.007147            0.017126  \n",
      "176073       0.004722        0.007147            0.016822  \n",
      "176187       0.008825        0.007147            0.016809  \n",
      "176214       0.003849        0.007147            0.016781  \n",
      "176277       0.005239        0.007147            0.016410  \n",
      "176400       0.006030        0.007147            0.016142  \n",
      "176082       0.007340        0.007147            0.016050  \n"
     ]
    },
    {
     "name": "stderr",
     "output_type": "stream",
     "text": [
      "127.0.0.1 - - [11/Dec/2020 20:38:35] \"\u001b[37mPOST /_dash-update-component HTTP/1.1\u001b[0m\" 200 -\n",
      "127.0.0.1 - - [11/Dec/2020 20:38:35] \"\u001b[37mPOST /_dash-update-component HTTP/1.1\u001b[0m\" 200 -\n",
      "127.0.0.1 - - [11/Dec/2020 20:38:35] \"\u001b[37mPOST /_dash-update-component HTTP/1.1\u001b[0m\" 200 -\n",
      "127.0.0.1 - - [11/Dec/2020 20:38:35] \"\u001b[37mPOST /_dash-update-component HTTP/1.1\u001b[0m\" 200 -\n",
      "127.0.0.1 - - [11/Dec/2020 20:39:24] \"\u001b[37mPOST /_dash-update-component HTTP/1.1\u001b[0m\" 200 -\n",
      "127.0.0.1 - - [11/Dec/2020 20:39:34] \"\u001b[37mPOST /_dash-update-component HTTP/1.1\u001b[0m\" 200 -\n",
      "127.0.0.1 - - [11/Dec/2020 20:39:44] \"\u001b[37mPOST /_dash-update-component HTTP/1.1\u001b[0m\" 200 -\n",
      "127.0.0.1 - - [11/Dec/2020 20:39:44] \"\u001b[37mPOST /_dash-update-component HTTP/1.1\u001b[0m\" 200 -\n",
      "127.0.0.1 - - [11/Dec/2020 20:39:44] \"\u001b[37mPOST /_dash-update-component HTTP/1.1\u001b[0m\" 200 -\n",
      "127.0.0.1 - - [11/Dec/2020 20:39:51] \"\u001b[37mPOST /_dash-update-component HTTP/1.1\u001b[0m\" 200 -\n",
      "127.0.0.1 - - [11/Dec/2020 20:39:51] \"\u001b[37mPOST /_dash-update-component HTTP/1.1\u001b[0m\" 200 -\n",
      "127.0.0.1 - - [11/Dec/2020 20:40:11] \"\u001b[37mPOST /_dash-update-component HTTP/1.1\u001b[0m\" 200 -\n"
     ]
    },
    {
     "name": "stdout",
     "output_type": "stream",
     "text": [
      "update ranksdf_store triggered\n",
      "Updating cached rank dfs with tiger\n",
      "batch 0\n",
      "target reached, breaking model forward pass in features_8\n",
      "234\n",
      "tensor(-1.3656, device='cuda:0', grad_fn=<SelectBackward>)\n",
      "target node 874 reached, halted forward pass\n",
      "batch 1\n",
      "target reached, breaking model forward pass in features_8\n",
      "234\n",
      "tensor(-1.4022, device='cuda:0', grad_fn=<SelectBackward>)\n",
      "target node 874 reached, halted forward pass\n",
      "batch 2\n",
      "target reached, breaking model forward pass in features_8\n",
      "234\n",
      "tensor(-2.6715, device='cuda:0', grad_fn=<SelectBackward>)\n",
      "target node 874 reached, halted forward pass\n",
      "batch 3\n",
      "target reached, breaking model forward pass in features_8\n",
      "234\n",
      "tensor(-2.0525, device='cuda:0', grad_fn=<SelectBackward>)\n",
      "target node 874 reached, halted forward pass\n",
      "batch 4\n",
      "target reached, breaking model forward pass in features_8\n",
      "234\n",
      "tensor(-1.8157, device='cuda:0', grad_fn=<SelectBackward>)\n",
      "target node 874 reached, halted forward pass\n"
     ]
    },
    {
     "name": "stderr",
     "output_type": "stream",
     "text": [
      "127.0.0.1 - - [11/Dec/2020 20:40:21] \"\u001b[37mPOST /_dash-update-component HTTP/1.1\u001b[0m\" 200 -\n",
      "127.0.0.1 - - [11/Dec/2020 20:40:21] \"\u001b[37mPOST /_dash-update-component HTTP/1.1\u001b[0m\" 200 -\n",
      "127.0.0.1 - - [11/Dec/2020 20:40:22] \"\u001b[37mPOST /_dash-update-component HTTP/1.1\u001b[0m\" 200 -\n",
      "127.0.0.1 - - [11/Dec/2020 20:40:29] \"\u001b[37mPOST /_dash-update-component HTTP/1.1\u001b[0m\" 200 -\n"
     ]
    },
    {
     "name": "stdout",
     "output_type": "stream",
     "text": [
      "CALLED: update_node_inputs\n",
      "Updating cached activations with tiger_10006.JPEG\n",
      "CALLED: update_store\n",
      "\n",
      "TRIGGER target-signal.children\n",
      "changing target category to tiger\n",
      "      node_num   layer_name  layer  node_num_by_layer  act_prenorm_rank  \\\n",
      "0            0   features_0      0                  0          0.312575   \n",
      "1            1   features_0      0                  1          0.358834   \n",
      "2            2   features_0      0                  2          0.485982   \n",
      "3            3   features_0      0                  3          0.406480   \n",
      "4            4   features_0      0                  4          0.627336   \n",
      "...        ...          ...    ...                ...               ...   \n",
      "1147      1147  features_10      4                251          0.000000   \n",
      "1148      1148  features_10      4                252          0.000000   \n",
      "1149      1149  features_10      4                253          0.000000   \n",
      "1150      1150  features_10      4                254          0.000000   \n",
      "1151      1151  features_10      4                255          0.000000   \n",
      "\n",
      "      grad_prenorm_rank  actxgrad_prenorm_rank  act_norm_rank  grad_norm_rank  \\\n",
      "0              0.000012          -5.510658e-07       0.064222        0.082306   \n",
      "1              0.000014          -5.138124e-06       0.073726        0.092844   \n",
      "2              0.000028          -5.348461e-06       0.099850        0.187609   \n",
      "3              0.000017           3.559612e-06       0.083515        0.110725   \n",
      "4              0.000025           2.874684e-05       0.128893        0.167281   \n",
      "...                 ...                    ...            ...             ...   \n",
      "1147           0.000000           0.000000e+00       0.000000        0.000000   \n",
      "1148           0.000000           0.000000e+00       0.000000        0.000000   \n",
      "1149           0.000000           0.000000e+00       0.000000        0.000000   \n",
      "1150           0.000000           0.000000e+00       0.000000        0.000000   \n",
      "1151           0.000000           0.000000e+00       0.000000        0.000000   \n",
      "\n",
      "      actxgrad_norm_rank  \n",
      "0               0.005368  \n",
      "1               0.050054  \n",
      "2               0.052103  \n",
      "3               0.034677  \n",
      "4               0.280043  \n",
      "...                  ...  \n",
      "1147            0.000000  \n",
      "1148            0.000000  \n",
      "1149            0.000000  \n",
      "1150            0.000000  \n",
      "1151            0.000000  \n",
      "\n",
      "[1152 rows x 10 columns]\n"
     ]
    },
    {
     "name": "stderr",
     "output_type": "stream",
     "text": [
      "127.0.0.1 - - [11/Dec/2020 20:40:30] \"\u001b[37mPOST /_dash-update-component HTTP/1.1\u001b[0m\" 200 -\n",
      "127.0.0.1 - - [11/Dec/2020 20:40:31] \"\u001b[37mPOST /_dash-update-component HTTP/1.1\u001b[0m\" 200 -\n"
     ]
    },
    {
     "name": "stdout",
     "output_type": "stream",
     "text": [
      "CALLED: update_figure\n",
      "\n",
      "[0.1, 1]\n",
      "['r-2']\n",
      "['0', '686', '874']\n",
      "building graph from browser \"state\"\n"
     ]
    },
    {
     "name": "stderr",
     "output_type": "stream",
     "text": [
      "127.0.0.1 - - [11/Dec/2020 20:40:31] \"\u001b[37mPOST /_dash-update-component HTTP/1.1\u001b[0m\" 200 -\n",
      "127.0.0.1 - - [11/Dec/2020 20:40:37] \"\u001b[37mPOST /_dash-update-component HTTP/1.1\u001b[0m\" 200 -\n"
     ]
    },
    {
     "name": "stdout",
     "output_type": "stream",
     "text": [
      "        edge_num  layer_name  layer  out_channel  in_channel  \\\n",
      "176360    176360  features_8      3          234         296   \n",
      "176082    176082  features_8      3          234          18   \n",
      "176163    176163  features_8      3          234          99   \n",
      "176232    176232  features_8      3          234         168   \n",
      "176114    176114  features_8      3          234          50   \n",
      "176213    176213  features_8      3          234         149   \n",
      "176187    176187  features_8      3          234         123   \n",
      "176247    176247  features_8      3          234         183   \n",
      "176444    176444  features_8      3          234         380   \n",
      "176440    176440  features_8      3          234         376   \n",
      "176445    176445  features_8      3          234         381   \n",
      "176117    176117  features_8      3          234          53   \n",
      "176132    176132  features_8      3          234          68   \n",
      "176230    176230  features_8      3          234         166   \n",
      "176243    176243  features_8      3          234         179   \n",
      "176161    176161  features_8      3          234          97   \n",
      "176096    176096  features_8      3          234          32   \n",
      "176447    176447  features_8      3          234         383   \n",
      "176280    176280  features_8      3          234         216   \n",
      "176083    176083  features_8      3          234          19   \n",
      "\n",
      "        act_prenorm_rank  grad_prenorm_rank  actxgrad_prenorm_rank  \\\n",
      "176360          0.350412           0.000592               0.000207   \n",
      "176082          0.270518           0.000592               0.000160   \n",
      "176163          0.251034           0.000592               0.000149   \n",
      "176232          0.243115           0.000592               0.000144   \n",
      "176114          0.239920           0.000592               0.000142   \n",
      "176213          0.238936           0.000592               0.000141   \n",
      "176187          0.233761           0.000592               0.000138   \n",
      "176247          0.233216           0.000592               0.000138   \n",
      "176444          0.232511           0.000592               0.000138   \n",
      "176440          0.224148           0.000592               0.000133   \n",
      "176445          0.215191           0.000592               0.000127   \n",
      "176117          0.211085           0.000592               0.000125   \n",
      "176132          0.209987           0.000592               0.000124   \n",
      "176230          0.208193           0.000592               0.000123   \n",
      "176243          0.194013           0.000592               0.000115   \n",
      "176161          0.193367           0.000592               0.000114   \n",
      "176096          0.183587           0.000592               0.000109   \n",
      "176447          0.183129           0.000592               0.000108   \n",
      "176280          0.180089           0.000592               0.000107   \n",
      "176083          0.174787           0.000592               0.000103   \n",
      "\n",
      "        act_norm_rank  grad_norm_rank  actxgrad_norm_rank  \n",
      "176360       0.011658        0.051031            0.210587  \n",
      "176082       0.009000        0.051031            0.162573  \n",
      "176163       0.008352        0.051031            0.150864  \n",
      "176232       0.008088        0.051031            0.146105  \n",
      "176114       0.007982        0.051031            0.144184  \n",
      "176213       0.007949        0.051031            0.143593  \n",
      "176187       0.007777        0.051031            0.140483  \n",
      "176247       0.007759        0.051031            0.140156  \n",
      "176444       0.007735        0.051031            0.139732  \n",
      "176440       0.007457        0.051031            0.134706  \n",
      "176445       0.007159        0.051031            0.129323  \n",
      "176117       0.007023        0.051031            0.126856  \n",
      "176132       0.006986        0.051031            0.126196  \n",
      "176230       0.006926        0.051031            0.125118  \n",
      "176243       0.006455        0.051031            0.116596  \n",
      "176161       0.006433        0.051031            0.116208  \n",
      "176096       0.006108        0.051031            0.110330  \n",
      "176447       0.006092        0.051031            0.110055  \n",
      "176280       0.005991        0.051031            0.108228  \n",
      "176083       0.005815        0.051031            0.105042  \n"
     ]
    },
    {
     "name": "stderr",
     "output_type": "stream",
     "text": [
      "127.0.0.1 - - [11/Dec/2020 20:40:57] \"\u001b[37mPOST /_dash-update-component HTTP/1.1\u001b[0m\" 200 -\n",
      "127.0.0.1 - - [11/Dec/2020 20:41:58] \"\u001b[37mPOST /_dash-update-component HTTP/1.1\u001b[0m\" 200 -\n",
      "127.0.0.1 - - [11/Dec/2020 20:41:58] \"\u001b[37mPOST /_dash-update-component HTTP/1.1\u001b[0m\" 200 -\n",
      "127.0.0.1 - - [11/Dec/2020 20:41:58] \"\u001b[37mPOST /_dash-update-component HTTP/1.1\u001b[0m\" 200 -\n",
      "127.0.0.1 - - [11/Dec/2020 20:41:58] \"\u001b[37mPOST /_dash-update-component HTTP/1.1\u001b[0m\" 200 -\n",
      "127.0.0.1 - - [11/Dec/2020 20:41:58] \"\u001b[37mPOST /_dash-update-component HTTP/1.1\u001b[0m\" 200 -\n",
      "127.0.0.1 - - [11/Dec/2020 20:41:58] \"\u001b[37mPOST /_dash-update-component HTTP/1.1\u001b[0m\" 200 -\n"
     ]
    },
    {
     "name": "stdout",
     "output_type": "stream",
     "text": [
      "CALLED: switch_node_actmap_click\n"
     ]
    },
    {
     "name": "stderr",
     "output_type": "stream",
     "text": [
      "127.0.0.1 - - [11/Dec/2020 20:41:59] \"\u001b[37mPOST /_dash-update-component HTTP/1.1\u001b[0m\" 200 -\n",
      "127.0.0.1 - - [11/Dec/2020 20:41:59] \"\u001b[37mPOST /_dash-update-component HTTP/1.1\u001b[0m\" 200 -\n"
     ]
    },
    {
     "name": "stdout",
     "output_type": "stream",
     "text": [
      "CALLED: switch_edge_actmaps_click\n",
      "CALLED: update_node_actmap\n",
      "CALLED: update_node_deepviz\n",
      "found pre-generated image\n",
      "CALLED: update_node_inputs\n"
     ]
    },
    {
     "name": "stderr",
     "output_type": "stream",
     "text": [
      "127.0.0.1 - - [11/Dec/2020 20:42:00] \"\u001b[37mPOST /_dash-update-component HTTP/1.1\u001b[0m\" 200 -\n"
     ]
    },
    {
     "name": "stdout",
     "output_type": "stream",
     "text": [
      "CALLED: update_edge_deepviz\n",
      "found pre-generated image\n",
      "CALLED: update_edge_kernelmap\n",
      "CALLED: update_store\n",
      "\n",
      "TRIGGER edge-actmaps-input.value\n",
      "r-2\n",
      "changing selected node to 787\n"
     ]
    },
    {
     "name": "stderr",
     "output_type": "stream",
     "text": [
      "127.0.0.1 - - [11/Dec/2020 20:42:00] \"\u001b[37mPOST /_dash-update-component HTTP/1.1\u001b[0m\" 200 -\n",
      "127.0.0.1 - - [11/Dec/2020 20:42:00] \"\u001b[37mPOST /_dash-update-component HTTP/1.1\u001b[0m\" 200 -\n",
      "127.0.0.1 - - [11/Dec/2020 20:42:00] \"\u001b[37mPOST /_dash-update-component HTTP/1.1\u001b[0m\" 200 -\n"
     ]
    },
    {
     "name": "stdout",
     "output_type": "stream",
     "text": [
      "CALLED: update_edge_outmap\n"
     ]
    },
    {
     "name": "stderr",
     "output_type": "stream",
     "text": [
      "127.0.0.1 - - [11/Dec/2020 20:42:01] \"\u001b[37mPOST /_dash-update-component HTTP/1.1\u001b[0m\" 200 -\n",
      "127.0.0.1 - - [11/Dec/2020 20:42:01] \"\u001b[37mPOST /_dash-update-component HTTP/1.1\u001b[0m\" 200 -\n",
      "127.0.0.1 - - [11/Dec/2020 20:42:01] \"\u001b[37mPOST /_dash-update-component HTTP/1.1\u001b[0m\" 200 -\n",
      "127.0.0.1 - - [11/Dec/2020 20:42:01] \"\u001b[37mPOST /_dash-update-component HTTP/1.1\u001b[0m\" 200 -\n"
     ]
    },
    {
     "name": "stdout",
     "output_type": "stream",
     "text": [
      "CALLED: update_figure\n",
      "\n",
      "[0.1, 1]\n",
      "CALLED: update_edge_inmap\n",
      "['r-2']\n",
      "['0', '686', '874', '787']\n",
      "updating edge highlight to r-2\n",
      "updating node highlight to 787\n",
      "3 234 features_8\n",
      "CALLED: update_inputimg_dropdown options\n"
     ]
    },
    {
     "name": "stderr",
     "output_type": "stream",
     "text": [
      "127.0.0.1 - - [11/Dec/2020 20:42:01] \"\u001b[37mPOST /_dash-update-component HTTP/1.1\u001b[0m\" 200 -\n",
      "127.0.0.1 - - [11/Dec/2020 20:42:01] \"\u001b[37mPOST /_dash-update-component HTTP/1.1\u001b[0m\" 200 -\n",
      "127.0.0.1 - - [11/Dec/2020 20:42:01] \"\u001b[37mPOST /_dash-update-component HTTP/1.1\u001b[0m\" 200 -\n",
      "127.0.0.1 - - [11/Dec/2020 20:42:01] \"\u001b[37mPOST /_dash-update-component HTTP/1.1\u001b[0m\" 200 -\n",
      "127.0.0.1 - - [11/Dec/2020 20:42:01] \"\u001b[37mPOST /_dash-update-component HTTP/1.1\u001b[0m\" 200 -\n",
      "127.0.0.1 - - [11/Dec/2020 20:42:01] \"\u001b[37mPOST /_dash-update-component HTTP/1.1\u001b[0m\" 200 -\n",
      "127.0.0.1 - - [11/Dec/2020 20:42:02] \"\u001b[37mPOST /_dash-update-component HTTP/1.1\u001b[0m\" 200 -\n"
     ]
    },
    {
     "name": "stdout",
     "output_type": "stream",
     "text": [
      "        edge_num  layer_name  layer  out_channel  in_channel  \\\n",
      "142656    142656  features_8      3          147           0   \n",
      "142657    142657  features_8      3          147           1   \n",
      "142918    142918  features_8      3          147         262   \n",
      "142917    142917  features_8      3          147         261   \n",
      "142916    142916  features_8      3          147         260   \n",
      "142915    142915  features_8      3          147         259   \n",
      "142914    142914  features_8      3          147         258   \n",
      "142913    142913  features_8      3          147         257   \n",
      "142912    142912  features_8      3          147         256   \n",
      "142911    142911  features_8      3          147         255   \n",
      "142910    142910  features_8      3          147         254   \n",
      "142909    142909  features_8      3          147         253   \n",
      "142908    142908  features_8      3          147         252   \n",
      "142907    142907  features_8      3          147         251   \n",
      "142906    142906  features_8      3          147         250   \n",
      "142905    142905  features_8      3          147         249   \n",
      "142904    142904  features_8      3          147         248   \n",
      "142903    142903  features_8      3          147         247   \n",
      "142902    142902  features_8      3          147         246   \n",
      "142901    142901  features_8      3          147         245   \n",
      "\n",
      "        act_prenorm_rank  grad_prenorm_rank  actxgrad_prenorm_rank  \\\n",
      "142656          0.081552                0.0                    0.0   \n",
      "142657          0.094217                0.0                    0.0   \n",
      "142918          0.183470                0.0                    0.0   \n",
      "142917          0.067914                0.0                    0.0   \n",
      "142916          0.051865                0.0                    0.0   \n",
      "142915          0.032068                0.0                    0.0   \n",
      "142914          0.082158                0.0                    0.0   \n",
      "142913          0.097317                0.0                    0.0   \n",
      "142912          0.013610                0.0                    0.0   \n",
      "142911          0.007448                0.0                    0.0   \n",
      "142910          0.026539                0.0                    0.0   \n",
      "142909          0.034664                0.0                    0.0   \n",
      "142908          0.059537                0.0                    0.0   \n",
      "142907          0.042257                0.0                    0.0   \n",
      "142906          0.066817                0.0                    0.0   \n",
      "142905          0.043792                0.0                    0.0   \n",
      "142904          0.019020                0.0                    0.0   \n",
      "142903          0.027076                0.0                    0.0   \n",
      "142902          0.064146                0.0                    0.0   \n",
      "142901          0.015362                0.0                    0.0   \n",
      "\n",
      "        act_norm_rank  grad_norm_rank  actxgrad_norm_rank  \n",
      "142656       0.002713             0.0                 0.0  \n",
      "142657       0.003134             0.0                 0.0  \n",
      "142918       0.006104             0.0                 0.0  \n",
      "142917       0.002259             0.0                 0.0  \n",
      "142916       0.001725             0.0                 0.0  \n",
      "142915       0.001067             0.0                 0.0  \n",
      "142914       0.002733             0.0                 0.0  \n",
      "142913       0.003238             0.0                 0.0  \n",
      "142912       0.000453             0.0                 0.0  \n",
      "142911       0.000248             0.0                 0.0  \n",
      "142910       0.000883             0.0                 0.0  \n",
      "142909       0.001153             0.0                 0.0  \n",
      "142908       0.001981             0.0                 0.0  \n",
      "142907       0.001406             0.0                 0.0  \n",
      "142906       0.002223             0.0                 0.0  \n",
      "142905       0.001457             0.0                 0.0  \n",
      "142904       0.000633             0.0                 0.0  \n",
      "142903       0.000901             0.0                 0.0  \n",
      "142902       0.002134             0.0                 0.0  \n",
      "142901       0.000511             0.0                 0.0  \n"
     ]
    },
    {
     "name": "stderr",
     "output_type": "stream",
     "text": [
      "127.0.0.1 - - [11/Dec/2020 20:42:02] \"\u001b[37mPOST /_dash-update-component HTTP/1.1\u001b[0m\" 200 -\n",
      "127.0.0.1 - - [11/Dec/2020 20:42:07] \"\u001b[37mPOST /_dash-update-component HTTP/1.1\u001b[0m\" 200 -\n",
      "127.0.0.1 - - [11/Dec/2020 20:43:04] \"\u001b[37mPOST /_dash-update-component HTTP/1.1\u001b[0m\" 200 -\n",
      "127.0.0.1 - - [11/Dec/2020 20:43:04] \"\u001b[37mPOST /_dash-update-component HTTP/1.1\u001b[0m\" 200 -\n",
      "127.0.0.1 - - [11/Dec/2020 20:43:09] \"\u001b[37mPOST /_dash-update-component HTTP/1.1\u001b[0m\" 200 -\n",
      "127.0.0.1 - - [11/Dec/2020 20:43:20] \"\u001b[37mPOST /_dash-update-component HTTP/1.1\u001b[0m\" 200 -\n",
      "127.0.0.1 - - [11/Dec/2020 20:43:20] \"\u001b[37mPOST /_dash-update-component HTTP/1.1\u001b[0m\" 200 -\n",
      "127.0.0.1 - - [11/Dec/2020 20:43:21] \"\u001b[37mPOST /_dash-update-component HTTP/1.1\u001b[0m\" 200 -\n",
      "127.0.0.1 - - [11/Dec/2020 20:43:21] \"\u001b[37mPOST /_dash-update-component HTTP/1.1\u001b[0m\" 200 -\n",
      "127.0.0.1 - - [11/Dec/2020 20:43:21] \"\u001b[37mPOST /_dash-update-component HTTP/1.1\u001b[0m\" 200 -\n",
      "127.0.0.1 - - [11/Dec/2020 20:43:21] \"\u001b[37mPOST /_dash-update-component HTTP/1.1\u001b[0m\" 200 -\n",
      "127.0.0.1 - - [11/Dec/2020 20:43:22] \"\u001b[37mPOST /_dash-update-component HTTP/1.1\u001b[0m\" 200 -\n",
      "127.0.0.1 - - [11/Dec/2020 20:43:22] \"\u001b[37mPOST /_dash-update-component HTTP/1.1\u001b[0m\" 200 -\n",
      "127.0.0.1 - - [11/Dec/2020 20:43:24] \"\u001b[37mPOST /_dash-update-component HTTP/1.1\u001b[0m\" 200 -\n",
      "127.0.0.1 - - [11/Dec/2020 20:43:24] \"\u001b[37mPOST /_dash-update-component HTTP/1.1\u001b[0m\" 200 -\n",
      "127.0.0.1 - - [11/Dec/2020 20:43:24] \"\u001b[37mPOST /_dash-update-component HTTP/1.1\u001b[0m\" 200 -\n"
     ]
    },
    {
     "name": "stdout",
     "output_type": "stream",
     "text": [
      "CALLED: switch_node_actmap_click\n",
      "CALLED: switch_edge_actmaps_click\n"
     ]
    },
    {
     "name": "stderr",
     "output_type": "stream",
     "text": [
      "127.0.0.1 - - [11/Dec/2020 20:43:24] \"\u001b[37mPOST /_dash-update-component HTTP/1.1\u001b[0m\" 200 -\n"
     ]
    },
    {
     "name": "stdout",
     "output_type": "stream",
     "text": [
      "CALLED: update_node_actmap\n",
      "CALLED: update_node_deepviz\n",
      "CALLED: update_node_inputs\n",
      "found pre-generated image\n",
      "CALLED: update_edge_deepviz\n",
      "CALLED: update_store\n",
      "\n",
      "CALLED: update_edge_kernelmap\n",
      "TRIGGER edge-actmaps-input.value\n",
      "r-2found pre-generated image\n",
      "\n"
     ]
    },
    {
     "name": "stderr",
     "output_type": "stream",
     "text": [
      "127.0.0.1 - - [11/Dec/2020 20:43:24] \"\u001b[37mPOST /_dash-update-component HTTP/1.1\u001b[0m\" 200 -\n"
     ]
    },
    {
     "name": "stdout",
     "output_type": "stream",
     "text": [
      "changing selected node to 874\n"
     ]
    },
    {
     "name": "stderr",
     "output_type": "stream",
     "text": [
      "127.0.0.1 - - [11/Dec/2020 20:43:25] \"\u001b[37mPOST /_dash-update-component HTTP/1.1\u001b[0m\" 200 -\n",
      "127.0.0.1 - - [11/Dec/2020 20:43:25] \"\u001b[37mPOST /_dash-update-component HTTP/1.1\u001b[0m\" 200 -\n",
      "127.0.0.1 - - [11/Dec/2020 20:43:25] \"\u001b[37mPOST /_dash-update-component HTTP/1.1\u001b[0m\" 200 -\n",
      "127.0.0.1 - - [11/Dec/2020 20:43:25] \"\u001b[37mPOST /_dash-update-component HTTP/1.1\u001b[0m\" 200 -\n"
     ]
    },
    {
     "name": "stdout",
     "output_type": "stream",
     "text": [
      "CALLED: update_edge_outmap\n",
      "        edge_num  layer_name  layer  out_channel  in_channel  \\\n",
      "176360    176360  features_8      3          234         296   \n",
      "176082    176082  features_8      3          234          18   \n",
      "176163    176163  features_8      3          234          99   \n",
      "176232    176232  features_8      3          234         168   \n",
      "176114    176114  features_8      3          234          50   \n",
      "176213    176213  features_8      3          234         149   \n",
      "176187    176187  features_8      3          234         123   \n",
      "176247    176247  features_8      3          234         183   \n",
      "176444    176444  features_8      3          234         380   \n",
      "176440    176440  features_8      3          234         376   \n",
      "176445    176445  features_8      3          234         381   \n",
      "176117    176117  features_8      3          234          53   \n",
      "176132    176132  features_8      3          234          68   \n",
      "176230    176230  features_8      3          234         166   \n",
      "176243    176243  features_8      3          234         179   \n",
      "176161    176161  features_8      3          234          97   \n",
      "176096    176096  features_8      3          234          32   \n",
      "176447    176447  features_8      3          234         383   \n",
      "176280    176280  features_8      3          234         216   \n",
      "176083    176083  features_8      3          234          19   \n",
      "\n",
      "        act_prenorm_rank  grad_prenorm_rank  actxgrad_prenorm_rank  \\\n",
      "176360          0.350412           0.000592               0.000207   \n",
      "176082          0.270518           0.000592               0.000160   \n",
      "176163          0.251034           0.000592               0.000149   \n",
      "176232          0.243115           0.000592               0.000144   \n",
      "176114          0.239920           0.000592               0.000142   \n",
      "176213          0.238936           0.000592               0.000141   \n",
      "176187          0.233761           0.000592               0.000138   \n",
      "176247          0.233216           0.000592               0.000138   \n",
      "176444          0.232511           0.000592               0.000138   \n",
      "176440          0.224148           0.000592               0.000133   \n",
      "176445          0.215191           0.000592               0.000127   \n",
      "176117          0.211085           0.000592               0.000125   \n",
      "176132          0.209987           0.000592               0.000124   \n",
      "176230          0.208193           0.000592               0.000123   \n",
      "176243          0.194013           0.000592               0.000115   \n",
      "176161          0.193367           0.000592               0.000114   \n",
      "176096          0.183587           0.000592               0.000109   \n",
      "176447          0.183129           0.000592               0.000108   \n",
      "176280          0.180089           0.000592               0.000107   \n",
      "176083          0.174787           0.000592               0.000103   \n",
      "\n",
      "        act_norm_rank  grad_norm_rank  actxgrad_norm_rank  \n",
      "176360       0.011658        0.051031            0.210587  \n",
      "176082       0.009000        0.051031            0.162573  \n",
      "176163       0.008352        0.051031            0.150864  \n",
      "176232       0.008088        0.051031            0.146105  \n",
      "176114       0.007982        0.051031            0.144184  \n",
      "176213       0.007949        0.051031            0.143593  \n",
      "176187       0.007777        0.051031            0.140483  \n",
      "176247       0.007759        0.051031            0.140156  \n",
      "176444       0.007735        0.051031            0.139732  \n",
      "176440       0.007457        0.051031            0.134706  \n",
      "176445       0.007159        0.051031            0.129323  \n",
      "176117       0.007023        0.051031            0.126856  \n",
      "176132       0.006986        0.051031            0.126196  \n",
      "176230       0.006926        0.051031            0.125118  \n",
      "176243       0.006455        0.051031            0.116596  \n",
      "176161       0.006433        0.051031            0.116208  \n",
      "176096       0.006108        0.051031            0.110330  \n",
      "176447       0.006092        0.051031            0.110055  \n",
      "176280       0.005991        0.051031            0.108228  \n",
      "176083       0.005815        0.051031            0.105042  \n"
     ]
    },
    {
     "name": "stderr",
     "output_type": "stream",
     "text": [
      "127.0.0.1 - - [11/Dec/2020 20:43:25] \"\u001b[37mPOST /_dash-update-component HTTP/1.1\u001b[0m\" 200 -\n",
      "127.0.0.1 - - [11/Dec/2020 20:43:26] \"\u001b[37mPOST /_dash-update-component HTTP/1.1\u001b[0m\" 200 -\n",
      "127.0.0.1 - - [11/Dec/2020 20:43:26] \"\u001b[37mPOST /_dash-update-component HTTP/1.1\u001b[0m\" 200 -\n",
      "127.0.0.1 - - [11/Dec/2020 20:43:26] \"\u001b[37mPOST /_dash-update-component HTTP/1.1\u001b[0m\" 200 -\n",
      "127.0.0.1 - - [11/Dec/2020 20:43:26] \"\u001b[37mPOST /_dash-update-component HTTP/1.1\u001b[0m\" 200 -\n",
      "127.0.0.1 - - [11/Dec/2020 20:43:26] \"\u001b[37mPOST /_dash-update-component HTTP/1.1\u001b[0m\" 200 -\n",
      "127.0.0.1 - - [11/Dec/2020 20:43:26] \"\u001b[37mPOST /_dash-update-component HTTP/1.1\u001b[0m\" 200 -\n"
     ]
    },
    {
     "name": "stdout",
     "output_type": "stream",
     "text": [
      "CALLED: update_figure\n",
      "\n",
      "[0.1, 1]\n",
      "['r-2']\n",
      "['0', '686', '874', '787', '874']\n",
      "updating edge highlight to r-2\n",
      "updating node highlight to 874\n",
      "3 147 features_8\n"
     ]
    },
    {
     "name": "stderr",
     "output_type": "stream",
     "text": [
      "127.0.0.1 - - [11/Dec/2020 20:43:27] \"\u001b[37mPOST /_dash-update-component HTTP/1.1\u001b[0m\" 200 -\n"
     ]
    },
    {
     "name": "stdout",
     "output_type": "stream",
     "text": [
      "CALLED: update_inputimg_dropdown options\n"
     ]
    },
    {
     "name": "stderr",
     "output_type": "stream",
     "text": [
      "127.0.0.1 - - [11/Dec/2020 20:43:27] \"\u001b[37mPOST /_dash-update-component HTTP/1.1\u001b[0m\" 200 -\n",
      "127.0.0.1 - - [11/Dec/2020 20:43:27] \"\u001b[37mPOST /_dash-update-component HTTP/1.1\u001b[0m\" 200 -\n",
      "127.0.0.1 - - [11/Dec/2020 20:43:27] \"\u001b[37mPOST /_dash-update-component HTTP/1.1\u001b[0m\" 200 -\n"
     ]
    },
    {
     "name": "stdout",
     "output_type": "stream",
     "text": [
      "CALLED: update_edge_inmap\n"
     ]
    },
    {
     "name": "stderr",
     "output_type": "stream",
     "text": [
      "127.0.0.1 - - [11/Dec/2020 20:43:27] \"\u001b[37mPOST /_dash-update-component HTTP/1.1\u001b[0m\" 200 -\n",
      "127.0.0.1 - - [11/Dec/2020 20:43:28] \"\u001b[37mPOST /_dash-update-component HTTP/1.1\u001b[0m\" 200 -\n",
      "127.0.0.1 - - [11/Dec/2020 20:43:28] \"\u001b[37mPOST /_dash-update-component HTTP/1.1\u001b[0m\" 200 -\n",
      "127.0.0.1 - - [11/Dec/2020 20:43:35] \"\u001b[37mPOST /_dash-update-component HTTP/1.1\u001b[0m\" 200 -\n",
      "127.0.0.1 - - [11/Dec/2020 20:43:35] \"\u001b[37mPOST /_dash-update-component HTTP/1.1\u001b[0m\" 200 -\n",
      "127.0.0.1 - - [11/Dec/2020 20:43:36] \"\u001b[37mPOST /_dash-update-component HTTP/1.1\u001b[0m\" 200 -\n",
      "127.0.0.1 - - [11/Dec/2020 20:43:36] \"\u001b[37mPOST /_dash-update-component HTTP/1.1\u001b[0m\" 200 -\n",
      "127.0.0.1 - - [11/Dec/2020 20:44:01] \"\u001b[37mPOST /_dash-update-component HTTP/1.1\u001b[0m\" 200 -\n",
      "127.0.0.1 - - [11/Dec/2020 20:44:01] \"\u001b[37mPOST /_dash-update-component HTTP/1.1\u001b[0m\" 200 -\n",
      "127.0.0.1 - - [11/Dec/2020 20:44:01] \"\u001b[37mPOST /_dash-update-component HTTP/1.1\u001b[0m\" 200 -\n",
      "127.0.0.1 - - [11/Dec/2020 20:44:01] \"\u001b[37mPOST /_dash-update-component HTTP/1.1\u001b[0m\" 200 -\n",
      "127.0.0.1 - - [11/Dec/2020 20:44:01] \"\u001b[37mPOST /_dash-update-component HTTP/1.1\u001b[0m\" 200 -\n",
      "127.0.0.1 - - [11/Dec/2020 20:44:01] \"\u001b[37mPOST /_dash-update-component HTTP/1.1\u001b[0m\" 200 -\n",
      "127.0.0.1 - - [11/Dec/2020 20:44:01] \"\u001b[37mPOST /_dash-update-component HTTP/1.1\u001b[0m\" 200 -\n",
      "127.0.0.1 - - [11/Dec/2020 20:44:01] \"\u001b[37mPOST /_dash-update-component HTTP/1.1\u001b[0m\" 200 -\n",
      "127.0.0.1 - - [11/Dec/2020 20:44:02] \"\u001b[37mPOST /_dash-update-component HTTP/1.1\u001b[0m\" 200 -\n",
      "127.0.0.1 - - [11/Dec/2020 20:44:02] \"\u001b[37mPOST /_dash-update-component HTTP/1.1\u001b[0m\" 200 -\n",
      "127.0.0.1 - - [11/Dec/2020 20:44:02] \"\u001b[37mPOST /_dash-update-component HTTP/1.1\u001b[0m\" 200 -\n",
      "127.0.0.1 - - [11/Dec/2020 20:44:04] \"\u001b[37mPOST /_dash-update-component HTTP/1.1\u001b[0m\" 200 -\n",
      "127.0.0.1 - - [11/Dec/2020 20:44:04] \"\u001b[37mPOST /_dash-update-component HTTP/1.1\u001b[0m\" 200 -\n",
      "127.0.0.1 - - [11/Dec/2020 20:44:04] \"\u001b[37mPOST /_dash-update-component HTTP/1.1\u001b[0m\" 200 -\n",
      "127.0.0.1 - - [11/Dec/2020 20:44:04] \"\u001b[37mPOST /_dash-update-component HTTP/1.1\u001b[0m\" 200 -\n",
      "127.0.0.1 - - [11/Dec/2020 20:44:04] \"\u001b[37mPOST /_dash-update-component HTTP/1.1\u001b[0m\" 200 -\n",
      "127.0.0.1 - - [11/Dec/2020 20:44:05] \"\u001b[37mPOST /_dash-update-component HTTP/1.1\u001b[0m\" 200 -\n",
      "127.0.0.1 - - [11/Dec/2020 20:44:05] \"\u001b[37mPOST /_dash-update-component HTTP/1.1\u001b[0m\" 200 -\n",
      "127.0.0.1 - - [11/Dec/2020 20:44:05] \"\u001b[37mPOST /_dash-update-component HTTP/1.1\u001b[0m\" 200 -\n",
      "127.0.0.1 - - [11/Dec/2020 20:44:05] \"\u001b[37mPOST /_dash-update-component HTTP/1.1\u001b[0m\" 200 -\n",
      "127.0.0.1 - - [11/Dec/2020 20:44:05] \"\u001b[37mPOST /_dash-update-component HTTP/1.1\u001b[0m\" 200 -\n",
      "127.0.0.1 - - [11/Dec/2020 20:44:05] \"\u001b[37mPOST /_dash-update-component HTTP/1.1\u001b[0m\" 200 -\n",
      "127.0.0.1 - - [11/Dec/2020 20:44:05] \"\u001b[37mPOST /_dash-update-component HTTP/1.1\u001b[0m\" 200 -\n",
      "127.0.0.1 - - [11/Dec/2020 20:44:06] \"\u001b[37mPOST /_dash-update-component HTTP/1.1\u001b[0m\" 200 -\n",
      "127.0.0.1 - - [11/Dec/2020 20:44:06] \"\u001b[37mPOST /_dash-update-component HTTP/1.1\u001b[0m\" 200 -\n",
      "127.0.0.1 - - [11/Dec/2020 20:44:06] \"\u001b[37mPOST /_dash-update-component HTTP/1.1\u001b[0m\" 200 -\n",
      "127.0.0.1 - - [11/Dec/2020 20:44:06] \"\u001b[37mPOST /_dash-update-component HTTP/1.1\u001b[0m\" 200 -\n",
      "127.0.0.1 - - [11/Dec/2020 20:44:06] \"\u001b[37mPOST /_dash-update-component HTTP/1.1\u001b[0m\" 200 -\n",
      "127.0.0.1 - - [11/Dec/2020 20:44:06] \"\u001b[37mPOST /_dash-update-component HTTP/1.1\u001b[0m\" 200 -\n",
      "127.0.0.1 - - [11/Dec/2020 20:44:06] \"\u001b[37mPOST /_dash-update-component HTTP/1.1\u001b[0m\" 200 -\n",
      "127.0.0.1 - - [11/Dec/2020 20:44:06] \"\u001b[37mPOST /_dash-update-component HTTP/1.1\u001b[0m\" 200 -\n",
      "127.0.0.1 - - [11/Dec/2020 20:44:06] \"\u001b[37mPOST /_dash-update-component HTTP/1.1\u001b[0m\" 200 -\n",
      "127.0.0.1 - - [11/Dec/2020 20:44:07] \"\u001b[37mPOST /_dash-update-component HTTP/1.1\u001b[0m\" 200 -\n",
      "127.0.0.1 - - [11/Dec/2020 20:44:07] \"\u001b[37mPOST /_dash-update-component HTTP/1.1\u001b[0m\" 200 -\n",
      "127.0.0.1 - - [11/Dec/2020 20:44:07] \"\u001b[37mPOST /_dash-update-component HTTP/1.1\u001b[0m\" 200 -\n",
      "127.0.0.1 - - [11/Dec/2020 20:44:07] \"\u001b[37mPOST /_dash-update-component HTTP/1.1\u001b[0m\" 200 -\n",
      "127.0.0.1 - - [11/Dec/2020 20:44:07] \"\u001b[37mPOST /_dash-update-component HTTP/1.1\u001b[0m\" 200 -\n",
      "127.0.0.1 - - [11/Dec/2020 20:44:08] \"\u001b[37mPOST /_dash-update-component HTTP/1.1\u001b[0m\" 200 -\n",
      "127.0.0.1 - - [11/Dec/2020 20:44:08] \"\u001b[37mPOST /_dash-update-component HTTP/1.1\u001b[0m\" 200 -\n",
      "127.0.0.1 - - [11/Dec/2020 20:44:08] \"\u001b[37mPOST /_dash-update-component HTTP/1.1\u001b[0m\" 200 -\n",
      "127.0.0.1 - - [11/Dec/2020 20:44:08] \"\u001b[37mPOST /_dash-update-component HTTP/1.1\u001b[0m\" 200 -\n",
      "127.0.0.1 - - [11/Dec/2020 20:44:08] \"\u001b[37mPOST /_dash-update-component HTTP/1.1\u001b[0m\" 200 -\n",
      "127.0.0.1 - - [11/Dec/2020 20:44:10] \"\u001b[37mPOST /_dash-update-component HTTP/1.1\u001b[0m\" 200 -\n",
      "127.0.0.1 - - [11/Dec/2020 20:44:10] \"\u001b[37mPOST /_dash-update-component HTTP/1.1\u001b[0m\" 200 -\n",
      "127.0.0.1 - - [11/Dec/2020 20:44:10] \"\u001b[37mPOST /_dash-update-component HTTP/1.1\u001b[0m\" 200 -\n",
      "127.0.0.1 - - [11/Dec/2020 20:44:10] \"\u001b[37mPOST /_dash-update-component HTTP/1.1\u001b[0m\" 200 -\n",
      "127.0.0.1 - - [11/Dec/2020 20:44:10] \"\u001b[37mPOST /_dash-update-component HTTP/1.1\u001b[0m\" 200 -\n",
      "127.0.0.1 - - [11/Dec/2020 20:44:11] \"\u001b[37mPOST /_dash-update-component HTTP/1.1\u001b[0m\" 200 -\n",
      "127.0.0.1 - - [11/Dec/2020 20:44:11] \"\u001b[37mPOST /_dash-update-component HTTP/1.1\u001b[0m\" 200 -\n",
      "127.0.0.1 - - [11/Dec/2020 20:44:11] \"\u001b[37mPOST /_dash-update-component HTTP/1.1\u001b[0m\" 200 -\n",
      "127.0.0.1 - - [11/Dec/2020 20:44:12] \"\u001b[37mPOST /_dash-update-component HTTP/1.1\u001b[0m\" 200 -\n",
      "127.0.0.1 - - [11/Dec/2020 20:44:12] \"\u001b[37mPOST /_dash-update-component HTTP/1.1\u001b[0m\" 200 -\n",
      "127.0.0.1 - - [11/Dec/2020 20:44:13] \"\u001b[37mPOST /_dash-update-component HTTP/1.1\u001b[0m\" 200 -\n",
      "127.0.0.1 - - [11/Dec/2020 20:44:13] \"\u001b[37mPOST /_dash-update-component HTTP/1.1\u001b[0m\" 200 -\n",
      "127.0.0.1 - - [11/Dec/2020 20:44:34] \"\u001b[37mPOST /_dash-update-component HTTP/1.1\u001b[0m\" 200 -\n",
      "127.0.0.1 - - [11/Dec/2020 20:44:34] \"\u001b[37mPOST /_dash-update-component HTTP/1.1\u001b[0m\" 200 -\n",
      "127.0.0.1 - - [11/Dec/2020 20:44:34] \"\u001b[37mPOST /_dash-update-component HTTP/1.1\u001b[0m\" 200 -\n",
      "127.0.0.1 - - [11/Dec/2020 20:44:34] \"\u001b[37mPOST /_dash-update-component HTTP/1.1\u001b[0m\" 200 -\n",
      "127.0.0.1 - - [11/Dec/2020 20:44:35] \"\u001b[37mPOST /_dash-update-component HTTP/1.1\u001b[0m\" 200 -\n",
      "127.0.0.1 - - [11/Dec/2020 20:44:35] \"\u001b[37mPOST /_dash-update-component HTTP/1.1\u001b[0m\" 200 -\n",
      "127.0.0.1 - - [11/Dec/2020 20:44:36] \"\u001b[37mPOST /_dash-update-component HTTP/1.1\u001b[0m\" 200 -\n"
     ]
    },
    {
     "name": "stdout",
     "output_type": "stream",
     "text": [
      "CALLED: update_node_inputs\n",
      "CALLED: update_store\n",
      "\n",
      "TRIGGER subgraph-criterion.value\n",
      "changing weighting criterion to act\n",
      "\n"
     ]
    },
    {
     "name": "stderr",
     "output_type": "stream",
     "text": [
      "127.0.0.1 - - [11/Dec/2020 20:44:38] \"\u001b[37mPOST /_dash-update-component HTTP/1.1\u001b[0m\" 200 -\n",
      "127.0.0.1 - - [11/Dec/2020 20:44:38] \"\u001b[37mPOST /_dash-update-component HTTP/1.1\u001b[0m\" 200 -\n"
     ]
    },
    {
     "name": "stdout",
     "output_type": "stream",
     "text": [
      "        edge_num  layer_name  layer  out_channel  in_channel  \\\n",
      "176360    176360  features_8      3          234         296   \n",
      "176082    176082  features_8      3          234          18   \n",
      "176163    176163  features_8      3          234          99   \n",
      "176232    176232  features_8      3          234         168   \n",
      "176114    176114  features_8      3          234          50   \n",
      "176213    176213  features_8      3          234         149   \n",
      "176187    176187  features_8      3          234         123   \n",
      "176247    176247  features_8      3          234         183   \n",
      "176444    176444  features_8      3          234         380   \n",
      "176440    176440  features_8      3          234         376   \n",
      "176445    176445  features_8      3          234         381   \n",
      "176117    176117  features_8      3          234          53   \n",
      "176132    176132  features_8      3          234          68   \n",
      "176230    176230  features_8      3          234         166   \n",
      "176243    176243  features_8      3          234         179   \n",
      "176161    176161  features_8      3          234          97   \n",
      "176096    176096  features_8      3          234          32   \n",
      "176447    176447  features_8      3          234         383   \n",
      "176280    176280  features_8      3          234         216   \n",
      "176083    176083  features_8      3          234          19   \n",
      "\n",
      "        act_prenorm_rank  grad_prenorm_rank  actxgrad_prenorm_rank  \\\n",
      "176360          0.350412           0.000592               0.000207   \n",
      "176082          0.270518           0.000592               0.000160   \n",
      "176163          0.251034           0.000592               0.000149   \n",
      "176232          0.243115           0.000592               0.000144   \n",
      "176114          0.239920           0.000592               0.000142   \n",
      "176213          0.238936           0.000592               0.000141   \n",
      "176187          0.233761           0.000592               0.000138   \n",
      "176247          0.233216           0.000592               0.000138   \n",
      "176444          0.232511           0.000592               0.000138   \n",
      "176440          0.224148           0.000592               0.000133   \n",
      "176445          0.215191           0.000592               0.000127   \n",
      "176117          0.211085           0.000592               0.000125   \n",
      "176132          0.209987           0.000592               0.000124   \n",
      "176230          0.208193           0.000592               0.000123   \n",
      "176243          0.194013           0.000592               0.000115   \n",
      "176161          0.193367           0.000592               0.000114   \n",
      "176096          0.183587           0.000592               0.000109   \n",
      "176447          0.183129           0.000592               0.000108   \n",
      "176280          0.180089           0.000592               0.000107   \n",
      "176083          0.174787           0.000592               0.000103   \n",
      "\n",
      "        act_norm_rank  grad_norm_rank  actxgrad_norm_rank  \n",
      "176360       0.011658        0.051031            0.210587  \n",
      "176082       0.009000        0.051031            0.162573  \n",
      "176163       0.008352        0.051031            0.150864  \n",
      "176232       0.008088        0.051031            0.146105  \n",
      "176114       0.007982        0.051031            0.144184  \n",
      "176213       0.007949        0.051031            0.143593  \n",
      "176187       0.007777        0.051031            0.140483  \n",
      "176247       0.007759        0.051031            0.140156  \n",
      "176444       0.007735        0.051031            0.139732  \n",
      "176440       0.007457        0.051031            0.134706  \n",
      "176445       0.007159        0.051031            0.129323  \n",
      "176117       0.007023        0.051031            0.126856  \n",
      "176132       0.006986        0.051031            0.126196  \n",
      "176230       0.006926        0.051031            0.125118  \n",
      "176243       0.006455        0.051031            0.116596  \n",
      "176161       0.006433        0.051031            0.116208  \n",
      "176096       0.006108        0.051031            0.110330  \n",
      "176447       0.006092        0.051031            0.110055  \n",
      "176280       0.005991        0.051031            0.108228  \n",
      "176083       0.005815        0.051031            0.105042  \n"
     ]
    },
    {
     "name": "stderr",
     "output_type": "stream",
     "text": [
      "127.0.0.1 - - [11/Dec/2020 20:44:39] \"\u001b[37mPOST /_dash-update-component HTTP/1.1\u001b[0m\" 200 -\n",
      "127.0.0.1 - - [11/Dec/2020 20:44:39] \"\u001b[37mPOST /_dash-update-component HTTP/1.1\u001b[0m\" 200 -\n",
      "127.0.0.1 - - [11/Dec/2020 20:44:39] \"\u001b[37mPOST /_dash-update-component HTTP/1.1\u001b[0m\" 200 -\n",
      "127.0.0.1 - - [11/Dec/2020 20:44:39] \"\u001b[37mPOST /_dash-update-component HTTP/1.1\u001b[0m\" 200 -\n"
     ]
    },
    {
     "name": "stdout",
     "output_type": "stream",
     "text": [
      "CALLED: update_figure\n",
      "\n",
      "[0.1, 1]\n",
      "['r-2']\n",
      "['0', '686', '874', '787', '874']\n",
      "building graph from browser \"state\"\n"
     ]
    },
    {
     "name": "stderr",
     "output_type": "stream",
     "text": [
      "127.0.0.1 - - [11/Dec/2020 20:44:39] \"\u001b[37mPOST /_dash-update-component HTTP/1.1\u001b[0m\" 200 -\n",
      "127.0.0.1 - - [11/Dec/2020 20:44:39] \"\u001b[37mPOST /_dash-update-component HTTP/1.1\u001b[0m\" 200 -\n",
      "127.0.0.1 - - [11/Dec/2020 20:44:39] \"\u001b[37mPOST /_dash-update-component HTTP/1.1\u001b[0m\" 200 -\n",
      "127.0.0.1 - - [11/Dec/2020 20:44:40] \"\u001b[37mPOST /_dash-update-component HTTP/1.1\u001b[0m\" 200 -\n",
      "127.0.0.1 - - [11/Dec/2020 20:44:40] \"\u001b[37mPOST /_dash-update-component HTTP/1.1\u001b[0m\" 200 -\n",
      "127.0.0.1 - - [11/Dec/2020 20:44:40] \"\u001b[37mPOST /_dash-update-component HTTP/1.1\u001b[0m\" 200 -\n",
      "127.0.0.1 - - [11/Dec/2020 20:44:40] \"\u001b[37mPOST /_dash-update-component HTTP/1.1\u001b[0m\" 200 -\n",
      "127.0.0.1 - - [11/Dec/2020 20:44:41] \"\u001b[37mPOST /_dash-update-component HTTP/1.1\u001b[0m\" 200 -\n",
      "127.0.0.1 - - [11/Dec/2020 20:44:41] \"\u001b[37mPOST /_dash-update-component HTTP/1.1\u001b[0m\" 200 -\n",
      "127.0.0.1 - - [11/Dec/2020 20:44:41] \"\u001b[37mPOST /_dash-update-component HTTP/1.1\u001b[0m\" 200 -\n",
      "127.0.0.1 - - [11/Dec/2020 20:44:41] \"\u001b[37mPOST /_dash-update-component HTTP/1.1\u001b[0m\" 200 -\n",
      "127.0.0.1 - - [11/Dec/2020 20:44:41] \"\u001b[37mPOST /_dash-update-component HTTP/1.1\u001b[0m\" 200 -\n",
      "127.0.0.1 - - [11/Dec/2020 20:44:41] \"\u001b[37mPOST /_dash-update-component HTTP/1.1\u001b[0m\" 200 -\n",
      "127.0.0.1 - - [11/Dec/2020 20:44:41] \"\u001b[37mPOST /_dash-update-component HTTP/1.1\u001b[0m\" 200 -\n",
      "127.0.0.1 - - [11/Dec/2020 20:44:42] \"\u001b[37mPOST /_dash-update-component HTTP/1.1\u001b[0m\" 200 -\n",
      "127.0.0.1 - - [11/Dec/2020 20:44:42] \"\u001b[37mPOST /_dash-update-component HTTP/1.1\u001b[0m\" 200 -\n",
      "127.0.0.1 - - [11/Dec/2020 20:44:42] \"\u001b[37mPOST /_dash-update-component HTTP/1.1\u001b[0m\" 200 -\n",
      "127.0.0.1 - - [11/Dec/2020 20:44:45] \"\u001b[37mPOST /_dash-update-component HTTP/1.1\u001b[0m\" 200 -\n",
      "127.0.0.1 - - [11/Dec/2020 20:44:47] \"\u001b[37mPOST /_dash-update-component HTTP/1.1\u001b[0m\" 200 -\n",
      "127.0.0.1 - - [11/Dec/2020 20:44:48] \"\u001b[37mPOST /_dash-update-component HTTP/1.1\u001b[0m\" 200 -\n",
      "127.0.0.1 - - [11/Dec/2020 20:44:48] \"\u001b[37mPOST /_dash-update-component HTTP/1.1\u001b[0m\" 200 -\n",
      "127.0.0.1 - - [11/Dec/2020 20:44:48] \"\u001b[37mPOST /_dash-update-component HTTP/1.1\u001b[0m\" 200 -\n",
      "127.0.0.1 - - [11/Dec/2020 20:44:48] \"\u001b[37mPOST /_dash-update-component HTTP/1.1\u001b[0m\" 200 -\n",
      "127.0.0.1 - - [11/Dec/2020 20:44:48] \"\u001b[37mPOST /_dash-update-component HTTP/1.1\u001b[0m\" 200 -\n",
      "127.0.0.1 - - [11/Dec/2020 20:44:48] \"\u001b[37mPOST /_dash-update-component HTTP/1.1\u001b[0m\" 200 -\n",
      "127.0.0.1 - - [11/Dec/2020 20:44:48] \"\u001b[37mPOST /_dash-update-component HTTP/1.1\u001b[0m\" 200 -\n",
      "127.0.0.1 - - [11/Dec/2020 20:44:48] \"\u001b[37mPOST /_dash-update-component HTTP/1.1\u001b[0m\" 200 -\n",
      "127.0.0.1 - - [11/Dec/2020 20:44:48] \"\u001b[37mPOST /_dash-update-component HTTP/1.1\u001b[0m\" 200 -\n",
      "127.0.0.1 - - [11/Dec/2020 20:44:48] \"\u001b[37mPOST /_dash-update-component HTTP/1.1\u001b[0m\" 200 -\n",
      "127.0.0.1 - - [11/Dec/2020 20:44:48] \"\u001b[37mPOST /_dash-update-component HTTP/1.1\u001b[0m\" 200 -\n",
      "127.0.0.1 - - [11/Dec/2020 20:44:48] \"\u001b[37mPOST /_dash-update-component HTTP/1.1\u001b[0m\" 200 -\n",
      "127.0.0.1 - - [11/Dec/2020 20:44:49] \"\u001b[37mPOST /_dash-update-component HTTP/1.1\u001b[0m\" 200 -\n",
      "127.0.0.1 - - [11/Dec/2020 20:44:49] \"\u001b[37mPOST /_dash-update-component HTTP/1.1\u001b[0m\" 200 -\n",
      "127.0.0.1 - - [11/Dec/2020 20:44:49] \"\u001b[37mPOST /_dash-update-component HTTP/1.1\u001b[0m\" 200 -\n",
      "127.0.0.1 - - [11/Dec/2020 20:44:49] \"\u001b[37mPOST /_dash-update-component HTTP/1.1\u001b[0m\" 200 -\n",
      "127.0.0.1 - - [11/Dec/2020 20:44:49] \"\u001b[37mPOST /_dash-update-component HTTP/1.1\u001b[0m\" 200 -\n",
      "127.0.0.1 - - [11/Dec/2020 20:44:53] \"\u001b[37mPOST /_dash-update-component HTTP/1.1\u001b[0m\" 200 -\n",
      "127.0.0.1 - - [11/Dec/2020 20:44:53] \"\u001b[37mPOST /_dash-update-component HTTP/1.1\u001b[0m\" 200 -\n",
      "127.0.0.1 - - [11/Dec/2020 20:44:54] \"\u001b[37mPOST /_dash-update-component HTTP/1.1\u001b[0m\" 200 -\n",
      "127.0.0.1 - - [11/Dec/2020 20:44:54] \"\u001b[37mPOST /_dash-update-component HTTP/1.1\u001b[0m\" 200 -\n",
      "127.0.0.1 - - [11/Dec/2020 20:44:54] \"\u001b[37mPOST /_dash-update-component HTTP/1.1\u001b[0m\" 200 -\n",
      "127.0.0.1 - - [11/Dec/2020 20:44:54] \"\u001b[37mPOST /_dash-update-component HTTP/1.1\u001b[0m\" 200 -\n",
      "127.0.0.1 - - [11/Dec/2020 20:44:54] \"\u001b[37mPOST /_dash-update-component HTTP/1.1\u001b[0m\" 200 -\n",
      "127.0.0.1 - - [11/Dec/2020 20:44:54] \"\u001b[37mPOST /_dash-update-component HTTP/1.1\u001b[0m\" 200 -\n",
      "127.0.0.1 - - [11/Dec/2020 20:44:55] \"\u001b[37mPOST /_dash-update-component HTTP/1.1\u001b[0m\" 200 -\n",
      "127.0.0.1 - - [11/Dec/2020 20:44:55] \"\u001b[37mPOST /_dash-update-component HTTP/1.1\u001b[0m\" 200 -\n",
      "127.0.0.1 - - [11/Dec/2020 20:44:55] \"\u001b[37mPOST /_dash-update-component HTTP/1.1\u001b[0m\" 200 -\n",
      "127.0.0.1 - - [11/Dec/2020 20:44:55] \"\u001b[37mPOST /_dash-update-component HTTP/1.1\u001b[0m\" 200 -\n",
      "127.0.0.1 - - [11/Dec/2020 20:44:55] \"\u001b[37mPOST /_dash-update-component HTTP/1.1\u001b[0m\" 200 -\n",
      "127.0.0.1 - - [11/Dec/2020 20:44:55] \"\u001b[37mPOST /_dash-update-component HTTP/1.1\u001b[0m\" 200 -\n",
      "127.0.0.1 - - [11/Dec/2020 20:44:56] \"\u001b[37mPOST /_dash-update-component HTTP/1.1\u001b[0m\" 200 -\n",
      "127.0.0.1 - - [11/Dec/2020 20:44:56] \"\u001b[37mPOST /_dash-update-component HTTP/1.1\u001b[0m\" 200 -\n",
      "127.0.0.1 - - [11/Dec/2020 20:44:58] \"\u001b[37mPOST /_dash-update-component HTTP/1.1\u001b[0m\" 200 -\n",
      "127.0.0.1 - - [11/Dec/2020 20:44:58] \"\u001b[37mPOST /_dash-update-component HTTP/1.1\u001b[0m\" 200 -\n",
      "127.0.0.1 - - [11/Dec/2020 20:45:03] \"\u001b[37mPOST /_dash-update-component HTTP/1.1\u001b[0m\" 200 -\n",
      "127.0.0.1 - - [11/Dec/2020 20:45:04] \"\u001b[37mPOST /_dash-update-component HTTP/1.1\u001b[0m\" 200 -\n",
      "127.0.0.1 - - [11/Dec/2020 20:45:04] \"\u001b[37mPOST /_dash-update-component HTTP/1.1\u001b[0m\" 200 -\n",
      "127.0.0.1 - - [11/Dec/2020 20:45:04] \"\u001b[37mPOST /_dash-update-component HTTP/1.1\u001b[0m\" 200 -\n",
      "127.0.0.1 - - [11/Dec/2020 20:45:05] \"\u001b[37mPOST /_dash-update-component HTTP/1.1\u001b[0m\" 200 -\n",
      "127.0.0.1 - - [11/Dec/2020 20:45:05] \"\u001b[37mPOST /_dash-update-component HTTP/1.1\u001b[0m\" 200 -\n",
      "127.0.0.1 - - [11/Dec/2020 20:45:06] \"\u001b[37mPOST /_dash-update-component HTTP/1.1\u001b[0m\" 200 -\n",
      "127.0.0.1 - - [11/Dec/2020 20:45:08] \"\u001b[37mPOST /_dash-update-component HTTP/1.1\u001b[0m\" 200 -\n",
      "127.0.0.1 - - [11/Dec/2020 20:45:08] \"\u001b[37mPOST /_dash-update-component HTTP/1.1\u001b[0m\" 200 -\n",
      "127.0.0.1 - - [11/Dec/2020 20:45:08] \"\u001b[37mPOST /_dash-update-component HTTP/1.1\u001b[0m\" 200 -\n",
      "127.0.0.1 - - [11/Dec/2020 20:45:08] \"\u001b[37mPOST /_dash-update-component HTTP/1.1\u001b[0m\" 200 -\n",
      "127.0.0.1 - - [11/Dec/2020 20:45:11] \"\u001b[37mPOST /_dash-update-component HTTP/1.1\u001b[0m\" 200 -\n",
      "127.0.0.1 - - [11/Dec/2020 20:45:11] \"\u001b[37mPOST /_dash-update-component HTTP/1.1\u001b[0m\" 200 -\n",
      "127.0.0.1 - - [11/Dec/2020 20:45:11] \"\u001b[37mPOST /_dash-update-component HTTP/1.1\u001b[0m\" 200 -\n",
      "127.0.0.1 - - [11/Dec/2020 20:45:11] \"\u001b[37mPOST /_dash-update-component HTTP/1.1\u001b[0m\" 200 -\n",
      "127.0.0.1 - - [11/Dec/2020 20:45:11] \"\u001b[37mPOST /_dash-update-component HTTP/1.1\u001b[0m\" 200 -\n",
      "127.0.0.1 - - [11/Dec/2020 20:45:11] \"\u001b[37mPOST /_dash-update-component HTTP/1.1\u001b[0m\" 200 -\n",
      "127.0.0.1 - - [11/Dec/2020 20:45:12] \"\u001b[37mPOST /_dash-update-component HTTP/1.1\u001b[0m\" 200 -\n",
      "127.0.0.1 - - [11/Dec/2020 20:45:12] \"\u001b[37mPOST /_dash-update-component HTTP/1.1\u001b[0m\" 200 -\n",
      "127.0.0.1 - - [11/Dec/2020 20:45:12] \"\u001b[37mPOST /_dash-update-component HTTP/1.1\u001b[0m\" 200 -\n",
      "127.0.0.1 - - [11/Dec/2020 20:45:12] \"\u001b[37mPOST /_dash-update-component HTTP/1.1\u001b[0m\" 200 -\n",
      "127.0.0.1 - - [11/Dec/2020 20:45:12] \"\u001b[37mPOST /_dash-update-component HTTP/1.1\u001b[0m\" 200 -\n",
      "127.0.0.1 - - [11/Dec/2020 20:45:13] \"\u001b[37mPOST /_dash-update-component HTTP/1.1\u001b[0m\" 200 -\n"
     ]
    },
    {
     "name": "stdout",
     "output_type": "stream",
     "text": [
      "update ranksdf_store triggered\n",
      "Updating cached rank dfs with tiger\n"
     ]
    },
    {
     "name": "stderr",
     "output_type": "stream",
     "text": [
      "127.0.0.1 - - [11/Dec/2020 20:45:20] \"\u001b[37mPOST /_dash-update-component HTTP/1.1\u001b[0m\" 200 -\n",
      "127.0.0.1 - - [11/Dec/2020 20:45:20] \"\u001b[37mPOST /_dash-update-component HTTP/1.1\u001b[0m\" 200 -\n",
      "127.0.0.1 - - [11/Dec/2020 20:45:20] \"\u001b[37mPOST /_dash-update-component HTTP/1.1\u001b[0m\" 200 -\n"
     ]
    },
    {
     "name": "stdout",
     "output_type": "stream",
     "text": [
      "CALLED: update_node_inputs\n",
      "CALLED: update_store\n",
      "\n",
      "TRIGGER target-signal.children\n",
      "changing target category to tiger\n",
      "         node_num   layer_name  layer  node_num_by_layer  act_prenorm_rank  \\\n",
      "1039104         0   features_0      0                  0          0.341375   \n",
      "1039105         1   features_0      0                  1          0.342815   \n",
      "1039106         2   features_0      0                  2          0.493653   \n",
      "1039107         3   features_0      0                  3          0.507939   \n",
      "1039108         4   features_0      0                  4          0.630259   \n",
      "...           ...          ...    ...                ...               ...   \n",
      "1040251      1147  features_10      4                251          0.138633   \n",
      "1040252      1148  features_10      4                252          0.232776   \n",
      "1040253      1149  features_10      4                253          0.192005   \n",
      "1040254      1150  features_10      4                254          0.848391   \n",
      "1040255      1151  features_10      4                255          0.776626   \n",
      "\n",
      "         grad_prenorm_rank  actxgrad_prenorm_rank  act_norm_rank  \\\n",
      "1039104           0.000006           5.040853e-07       0.067701   \n",
      "1039105           0.000005           3.191049e-07       0.067987   \n",
      "1039106           0.000011           1.971865e-06       0.097901   \n",
      "1039107           0.000009          -2.784296e-07       0.100734   \n",
      "1039108           0.000010          -1.383122e-06       0.124993   \n",
      "...                    ...                    ...            ...   \n",
      "1040251           0.000003          -1.805298e-06       0.015863   \n",
      "1040252           0.000003           1.115599e-06       0.026635   \n",
      "1040253           0.000006           1.503406e-05       0.021970   \n",
      "1040254           0.000005           1.130867e-06       0.097074   \n",
      "1040255           0.000005          -1.310321e-05       0.088863   \n",
      "\n",
      "         grad_norm_rank  actxgrad_norm_rank category  \n",
      "1039104        0.083001            0.054111    tiger  \n",
      "1039105        0.077428            0.034254    tiger  \n",
      "1039106        0.166884            0.211669    tiger  \n",
      "1039107        0.129274            0.029888    tiger  \n",
      "1039108        0.144300            0.148471    tiger  \n",
      "...                 ...                 ...      ...  \n",
      "1040251        0.040114            0.018428    tiger  \n",
      "1040252        0.048990            0.011388    tiger  \n",
      "1040253        0.084911            0.153462    tiger  \n",
      "1040254        0.068443            0.011543    tiger  \n",
      "1040255        0.071384            0.133752    tiger  \n",
      "\n",
      "[1152 rows x 11 columns]\n"
     ]
    },
    {
     "name": "stderr",
     "output_type": "stream",
     "text": [
      "127.0.0.1 - - [11/Dec/2020 20:45:22] \"\u001b[37mPOST /_dash-update-component HTTP/1.1\u001b[0m\" 200 -\n",
      "127.0.0.1 - - [11/Dec/2020 20:45:22] \"\u001b[37mPOST /_dash-update-component HTTP/1.1\u001b[0m\" 200 -\n"
     ]
    },
    {
     "name": "stdout",
     "output_type": "stream",
     "text": [
      "        edge_num  layer_name  layer  out_channel  in_channel  \\\n",
      "176360    176360  features_8      3          234         296   \n",
      "176187    176187  features_8      3          234         123   \n",
      "176444    176444  features_8      3          234         380   \n",
      "176213    176213  features_8      3          234         149   \n",
      "176114    176114  features_8      3          234          50   \n",
      "176163    176163  features_8      3          234          99   \n",
      "176440    176440  features_8      3          234         376   \n",
      "176247    176247  features_8      3          234         183   \n",
      "176082    176082  features_8      3          234          18   \n",
      "176445    176445  features_8      3          234         381   \n",
      "176280    176280  features_8      3          234         216   \n",
      "176289    176289  features_8      3          234         225   \n",
      "176230    176230  features_8      3          234         166   \n",
      "176243    176243  features_8      3          234         179   \n",
      "176447    176447  features_8      3          234         383   \n",
      "176132    176132  features_8      3          234          68   \n",
      "176417    176417  features_8      3          234         353   \n",
      "176321    176321  features_8      3          234         257   \n",
      "176223    176223  features_8      3          234         159   \n",
      "176400    176400  features_8      3          234         336   \n",
      "\n",
      "        act_prenorm_rank  grad_prenorm_rank  actxgrad_prenorm_rank  \\\n",
      "176360          0.331068           0.000014               0.000001   \n",
      "176187          0.288983           0.000014               0.000004   \n",
      "176444          0.280133           0.000014               0.000002   \n",
      "176213          0.262823           0.000014               0.000004   \n",
      "176114          0.261016           0.000014               0.000002   \n",
      "176163          0.257611           0.000014               0.000002   \n",
      "176440          0.253269           0.000014               0.000004   \n",
      "176247          0.249673           0.000014               0.000006   \n",
      "176082          0.240368           0.000014               0.000003   \n",
      "176445          0.238144           0.000014               0.000003   \n",
      "176280          0.233146           0.000014               0.000005   \n",
      "176289          0.232914           0.000014               0.000003   \n",
      "176230          0.227308           0.000014               0.000004   \n",
      "176243          0.226784           0.000014               0.000005   \n",
      "176447          0.220564           0.000014               0.000005   \n",
      "176132          0.207217           0.000014               0.000002   \n",
      "176417          0.206369           0.000014               0.000003   \n",
      "176321          0.200026           0.000014               0.000004   \n",
      "176223          0.197730           0.000014               0.000005   \n",
      "176400          0.197446           0.000014               0.000003   \n",
      "\n",
      "        act_norm_rank  grad_norm_rank  actxgrad_norm_rank  \n",
      "176360       0.010110        0.007147            0.006838  \n",
      "176187       0.008825        0.007147            0.016809  \n",
      "176444       0.008555        0.007147            0.011437  \n",
      "176213       0.008026        0.007147            0.021223  \n",
      "176114       0.007971        0.007147            0.010992  \n",
      "176163       0.007867        0.007147            0.010892  \n",
      "176440       0.007734        0.007147            0.017126  \n",
      "176247       0.007624        0.007147            0.030625  \n",
      "176082       0.007340        0.007147            0.016050  \n",
      "176445       0.007272        0.007147            0.015897  \n",
      "176280       0.007120        0.007147            0.021830  \n",
      "176289       0.007113        0.007147            0.015382  \n",
      "176230       0.006941        0.007147            0.021471  \n",
      "176243       0.006925        0.007147            0.024695  \n",
      "176447       0.006735        0.007147            0.021642  \n",
      "176132       0.006328        0.007147            0.008663  \n",
      "176417       0.006302        0.007147            0.013239  \n",
      "176321       0.006108        0.007147            0.019998  \n",
      "176223       0.006038        0.007147            0.025182  \n",
      "176400       0.006030        0.007147            0.016142  \n"
     ]
    },
    {
     "name": "stderr",
     "output_type": "stream",
     "text": [
      "127.0.0.1 - - [11/Dec/2020 20:45:24] \"\u001b[37mPOST /_dash-update-component HTTP/1.1\u001b[0m\" 200 -\n",
      "127.0.0.1 - - [11/Dec/2020 20:45:25] \"\u001b[37mPOST /_dash-update-component HTTP/1.1\u001b[0m\" 200 -\n"
     ]
    },
    {
     "name": "stdout",
     "output_type": "stream",
     "text": [
      "CALLED: update_figure\n",
      "\n",
      "[0.1, 1]\n",
      "['r-2']\n",
      "['0', '686', '874', '787', '874']\n",
      "building graph from browser \"state\"\n"
     ]
    },
    {
     "name": "stderr",
     "output_type": "stream",
     "text": [
      "127.0.0.1 - - [11/Dec/2020 20:45:26] \"\u001b[37mPOST /_dash-update-component HTTP/1.1\u001b[0m\" 200 -\n",
      "127.0.0.1 - - [11/Dec/2020 20:45:27] \"\u001b[37mPOST /_dash-update-component HTTP/1.1\u001b[0m\" 200 -\n",
      "127.0.0.1 - - [11/Dec/2020 20:45:29] \"\u001b[37mPOST /_dash-update-component HTTP/1.1\u001b[0m\" 200 -\n",
      "127.0.0.1 - - [11/Dec/2020 20:45:44] \"\u001b[37mPOST /_dash-update-component HTTP/1.1\u001b[0m\" 200 -\n",
      "127.0.0.1 - - [11/Dec/2020 20:45:44] \"\u001b[37mPOST /_dash-update-component HTTP/1.1\u001b[0m\" 200 -\n",
      "127.0.0.1 - - [11/Dec/2020 20:45:44] \"\u001b[37mPOST /_dash-update-component HTTP/1.1\u001b[0m\" 200 -\n",
      "127.0.0.1 - - [11/Dec/2020 20:45:53] \"\u001b[37mPOST /_dash-update-component HTTP/1.1\u001b[0m\" 200 -\n",
      "127.0.0.1 - - [11/Dec/2020 20:45:53] \"\u001b[37mPOST /_dash-update-component HTTP/1.1\u001b[0m\" 200 -\n",
      "127.0.0.1 - - [11/Dec/2020 20:45:53] \"\u001b[37mPOST /_dash-update-component HTTP/1.1\u001b[0m\" 200 -\n",
      "127.0.0.1 - - [11/Dec/2020 20:45:53] \"\u001b[37mPOST /_dash-update-component HTTP/1.1\u001b[0m\" 200 -\n",
      "127.0.0.1 - - [11/Dec/2020 20:45:53] \"\u001b[37mPOST /_dash-update-component HTTP/1.1\u001b[0m\" 200 -\n",
      "127.0.0.1 - - [11/Dec/2020 20:45:53] \"\u001b[37mPOST /_dash-update-component HTTP/1.1\u001b[0m\" 200 -\n",
      "127.0.0.1 - - [11/Dec/2020 20:45:55] \"\u001b[37mPOST /_dash-update-component HTTP/1.1\u001b[0m\" 200 -\n",
      "127.0.0.1 - - [11/Dec/2020 20:45:56] \"\u001b[37mPOST /_dash-update-component HTTP/1.1\u001b[0m\" 200 -\n",
      "127.0.0.1 - - [11/Dec/2020 20:45:56] \"\u001b[37mPOST /_dash-update-component HTTP/1.1\u001b[0m\" 200 -\n",
      "127.0.0.1 - - [11/Dec/2020 20:45:56] \"\u001b[37mPOST /_dash-update-component HTTP/1.1\u001b[0m\" 200 -\n",
      "127.0.0.1 - - [11/Dec/2020 20:45:56] \"\u001b[37mPOST /_dash-update-component HTTP/1.1\u001b[0m\" 200 -\n",
      "127.0.0.1 - - [11/Dec/2020 20:45:57] \"\u001b[37mPOST /_dash-update-component HTTP/1.1\u001b[0m\" 200 -\n",
      "127.0.0.1 - - [11/Dec/2020 20:45:57] \"\u001b[37mPOST /_dash-update-component HTTP/1.1\u001b[0m\" 200 -\n",
      "127.0.0.1 - - [11/Dec/2020 20:45:57] \"\u001b[37mPOST /_dash-update-component HTTP/1.1\u001b[0m\" 200 -\n"
     ]
    },
    {
     "name": "stdout",
     "output_type": "stream",
     "text": [
      "CALLED: switch_node_actmap_click\n",
      "CALLED: switch_edge_actmaps_click\n"
     ]
    },
    {
     "name": "stderr",
     "output_type": "stream",
     "text": [
      "127.0.0.1 - - [11/Dec/2020 20:45:57] \"\u001b[37mPOST /_dash-update-component HTTP/1.1\u001b[0m\" 200 -\n",
      "127.0.0.1 - - [11/Dec/2020 20:45:58] \"\u001b[37mPOST /_dash-update-component HTTP/1.1\u001b[0m\" 200 -\n"
     ]
    },
    {
     "name": "stdout",
     "output_type": "stream",
     "text": [
      "CALLED: update_node_deepviz\n",
      "CALLED: update_node_inputs\n",
      "CALLED: update_node_actmap\n",
      "found pre-generated image\n",
      "Updating cached activations with tiger_10006.JPEG\n",
      "Updating cached activations with tiger_10006.JPEG\n",
      "CALLED: update_edge_deepviz\n"
     ]
    },
    {
     "name": "stderr",
     "output_type": "stream",
     "text": [
      "127.0.0.1 - - [11/Dec/2020 20:45:58] \"\u001b[37mPOST /_dash-update-component HTTP/1.1\u001b[0m\" 200 -\n"
     ]
    },
    {
     "name": "stdout",
     "output_type": "stream",
     "text": [
      "CALLED: update_edge_kernelmap\n",
      "found pre-generated image\n",
      "CALLED: update_store\n",
      "\n",
      "TRIGGER edge-actmaps-input.value\n",
      "r-2\n",
      "changing selected node to 8\n"
     ]
    },
    {
     "name": "stderr",
     "output_type": "stream",
     "text": [
      "127.0.0.1 - - [11/Dec/2020 20:45:58] \"\u001b[37mPOST /_dash-update-component HTTP/1.1\u001b[0m\" 200 -\n",
      "127.0.0.1 - - [11/Dec/2020 20:45:58] \"\u001b[37mPOST /_dash-update-component HTTP/1.1\u001b[0m\" 200 -\n",
      "127.0.0.1 - - [11/Dec/2020 20:45:58] \"\u001b[37mPOST /_dash-update-component HTTP/1.1\u001b[0m\" 200 -\n",
      "127.0.0.1 - - [11/Dec/2020 20:45:58] \"\u001b[37mPOST /_dash-update-component HTTP/1.1\u001b[0m\" 200 -\n",
      "127.0.0.1 - - [11/Dec/2020 20:45:59] \"\u001b[37mPOST /_dash-update-component HTTP/1.1\u001b[0m\" 200 -\n",
      "127.0.0.1 - - [11/Dec/2020 20:45:59] \"\u001b[37mPOST /_dash-update-component HTTP/1.1\u001b[0m\" 200 -\n"
     ]
    },
    {
     "name": "stdout",
     "output_type": "stream",
     "text": [
      "CALLED: update_edge_outmap\n",
      "Updating cached activations with tiger_10006.JPEG\n",
      "CALLED: update_edge_inmap\n",
      "Updating cached activations with tiger_10006.JPEG\n"
     ]
    },
    {
     "name": "stderr",
     "output_type": "stream",
     "text": [
      "127.0.0.1 - - [11/Dec/2020 20:45:59] \"\u001b[37mPOST /_dash-update-component HTTP/1.1\u001b[0m\" 200 -\n",
      "127.0.0.1 - - [11/Dec/2020 20:45:59] \"\u001b[37mPOST /_dash-update-component HTTP/1.1\u001b[0m\" 200 -\n",
      "127.0.0.1 - - [11/Dec/2020 20:45:59] \"\u001b[37mPOST /_dash-update-component HTTP/1.1\u001b[0m\" 200 -\n"
     ]
    },
    {
     "name": "stdout",
     "output_type": "stream",
     "text": [
      "CALLED: update_figure\n",
      "\n",
      "[0.1, 1]\n",
      "['r-2']\n",
      "['0', '686', '874', '787', '874', '8']\n",
      "updating edge highlight to r-2\n",
      "updating node highlight to 8\n",
      "3 234 features_8\n"
     ]
    },
    {
     "name": "stderr",
     "output_type": "stream",
     "text": [
      "127.0.0.1 - - [11/Dec/2020 20:45:59] \"\u001b[37mPOST /_dash-update-component HTTP/1.1\u001b[0m\" 200 -\n",
      "127.0.0.1 - - [11/Dec/2020 20:45:59] \"\u001b[37mPOST /_dash-update-component HTTP/1.1\u001b[0m\" 200 -\n"
     ]
    },
    {
     "name": "stdout",
     "output_type": "stream",
     "text": [
      "CALLED: update_inputimg_dropdown options\n"
     ]
    },
    {
     "name": "stderr",
     "output_type": "stream",
     "text": [
      "127.0.0.1 - - [11/Dec/2020 20:46:00] \"\u001b[37mPOST /_dash-update-component HTTP/1.1\u001b[0m\" 200 -\n",
      "127.0.0.1 - - [11/Dec/2020 20:46:05] \"\u001b[37mPOST /_dash-update-component HTTP/1.1\u001b[0m\" 200 -\n",
      "127.0.0.1 - - [11/Dec/2020 20:46:05] \"\u001b[37mPOST /_dash-update-component HTTP/1.1\u001b[0m\" 200 -\n",
      "127.0.0.1 - - [11/Dec/2020 20:46:05] \"\u001b[37mPOST /_dash-update-component HTTP/1.1\u001b[0m\" 200 -\n",
      "127.0.0.1 - - [11/Dec/2020 20:46:06] \"\u001b[37mPOST /_dash-update-component HTTP/1.1\u001b[0m\" 200 -\n",
      "127.0.0.1 - - [11/Dec/2020 20:46:06] \"\u001b[37mPOST /_dash-update-component HTTP/1.1\u001b[0m\" 200 -\n",
      "127.0.0.1 - - [11/Dec/2020 20:46:06] \"\u001b[37mPOST /_dash-update-component HTTP/1.1\u001b[0m\" 200 -\n",
      "127.0.0.1 - - [11/Dec/2020 20:46:06] \"\u001b[37mPOST /_dash-update-component HTTP/1.1\u001b[0m\" 200 -\n",
      "127.0.0.1 - - [11/Dec/2020 20:46:09] \"\u001b[37mPOST /_dash-update-component HTTP/1.1\u001b[0m\" 200 -\n",
      "127.0.0.1 - - [11/Dec/2020 20:46:10] \"\u001b[37mPOST /_dash-update-component HTTP/1.1\u001b[0m\" 200 -\n",
      "127.0.0.1 - - [11/Dec/2020 20:46:14] \"\u001b[37mPOST /_dash-update-component HTTP/1.1\u001b[0m\" 200 -\n",
      "127.0.0.1 - - [11/Dec/2020 20:46:14] \"\u001b[37mPOST /_dash-update-component HTTP/1.1\u001b[0m\" 200 -\n",
      "127.0.0.1 - - [11/Dec/2020 20:46:22] \"\u001b[37mPOST /_dash-update-component HTTP/1.1\u001b[0m\" 200 -\n",
      "127.0.0.1 - - [11/Dec/2020 20:46:22] \"\u001b[37mPOST /_dash-update-component HTTP/1.1\u001b[0m\" 200 -\n",
      "127.0.0.1 - - [11/Dec/2020 20:46:22] \"\u001b[37mPOST /_dash-update-component HTTP/1.1\u001b[0m\" 200 -\n",
      "127.0.0.1 - - [11/Dec/2020 20:46:22] \"\u001b[37mPOST /_dash-update-component HTTP/1.1\u001b[0m\" 200 -\n",
      "127.0.0.1 - - [11/Dec/2020 20:46:22] \"\u001b[37mPOST /_dash-update-component HTTP/1.1\u001b[0m\" 200 -\n",
      "127.0.0.1 - - [11/Dec/2020 20:46:23] \"\u001b[37mPOST /_dash-update-component HTTP/1.1\u001b[0m\" 200 -\n",
      "127.0.0.1 - - [11/Dec/2020 20:46:23] \"\u001b[37mPOST /_dash-update-component HTTP/1.1\u001b[0m\" 200 -\n",
      "127.0.0.1 - - [11/Dec/2020 20:46:23] \"\u001b[37mPOST /_dash-update-component HTTP/1.1\u001b[0m\" 200 -\n",
      "127.0.0.1 - - [11/Dec/2020 20:46:23] \"\u001b[37mPOST /_dash-update-component HTTP/1.1\u001b[0m\" 200 -\n",
      "127.0.0.1 - - [11/Dec/2020 20:46:23] \"\u001b[37mPOST /_dash-update-component HTTP/1.1\u001b[0m\" 200 -\n",
      "127.0.0.1 - - [11/Dec/2020 20:46:23] \"\u001b[37mPOST /_dash-update-component HTTP/1.1\u001b[0m\" 200 -\n",
      "127.0.0.1 - - [11/Dec/2020 20:46:23] \"\u001b[37mPOST /_dash-update-component HTTP/1.1\u001b[0m\" 200 -\n",
      "127.0.0.1 - - [11/Dec/2020 20:46:23] \"\u001b[37mPOST /_dash-update-component HTTP/1.1\u001b[0m\" 200 -\n",
      "127.0.0.1 - - [11/Dec/2020 20:46:24] \"\u001b[37mPOST /_dash-update-component HTTP/1.1\u001b[0m\" 200 -\n",
      "127.0.0.1 - - [11/Dec/2020 20:46:24] \"\u001b[37mPOST /_dash-update-component HTTP/1.1\u001b[0m\" 200 -\n",
      "127.0.0.1 - - [11/Dec/2020 20:46:24] \"\u001b[37mPOST /_dash-update-component HTTP/1.1\u001b[0m\" 200 -\n",
      "127.0.0.1 - - [11/Dec/2020 20:46:24] \"\u001b[37mPOST /_dash-update-component HTTP/1.1\u001b[0m\" 200 -\n",
      "127.0.0.1 - - [11/Dec/2020 20:46:24] \"\u001b[37mPOST /_dash-update-component HTTP/1.1\u001b[0m\" 200 -\n",
      "127.0.0.1 - - [11/Dec/2020 20:46:24] \"\u001b[37mPOST /_dash-update-component HTTP/1.1\u001b[0m\" 200 -\n",
      "127.0.0.1 - - [11/Dec/2020 20:46:24] \"\u001b[37mPOST /_dash-update-component HTTP/1.1\u001b[0m\" 200 -\n",
      "127.0.0.1 - - [11/Dec/2020 20:46:24] \"\u001b[37mPOST /_dash-update-component HTTP/1.1\u001b[0m\" 200 -\n",
      "127.0.0.1 - - [11/Dec/2020 20:46:24] \"\u001b[37mPOST /_dash-update-component HTTP/1.1\u001b[0m\" 200 -\n",
      "127.0.0.1 - - [11/Dec/2020 20:46:24] \"\u001b[37mPOST /_dash-update-component HTTP/1.1\u001b[0m\" 200 -\n",
      "127.0.0.1 - - [11/Dec/2020 20:46:25] \"\u001b[37mPOST /_dash-update-component HTTP/1.1\u001b[0m\" 200 -\n",
      "127.0.0.1 - - [11/Dec/2020 20:46:25] \"\u001b[37mPOST /_dash-update-component HTTP/1.1\u001b[0m\" 200 -\n",
      "127.0.0.1 - - [11/Dec/2020 20:46:25] \"\u001b[37mPOST /_dash-update-component HTTP/1.1\u001b[0m\" 200 -\n",
      "127.0.0.1 - - [11/Dec/2020 20:46:25] \"\u001b[37mPOST /_dash-update-component HTTP/1.1\u001b[0m\" 200 -\n",
      "127.0.0.1 - - [11/Dec/2020 20:46:25] \"\u001b[37mPOST /_dash-update-component HTTP/1.1\u001b[0m\" 200 -\n",
      "127.0.0.1 - - [11/Dec/2020 20:46:25] \"\u001b[37mPOST /_dash-update-component HTTP/1.1\u001b[0m\" 200 -\n",
      "127.0.0.1 - - [11/Dec/2020 20:46:25] \"\u001b[37mPOST /_dash-update-component HTTP/1.1\u001b[0m\" 200 -\n",
      "127.0.0.1 - - [11/Dec/2020 20:46:25] \"\u001b[37mPOST /_dash-update-component HTTP/1.1\u001b[0m\" 200 -\n",
      "127.0.0.1 - - [11/Dec/2020 20:46:26] \"\u001b[37mPOST /_dash-update-component HTTP/1.1\u001b[0m\" 200 -\n",
      "127.0.0.1 - - [11/Dec/2020 20:46:26] \"\u001b[37mPOST /_dash-update-component HTTP/1.1\u001b[0m\" 200 -\n",
      "127.0.0.1 - - [11/Dec/2020 20:46:26] \"\u001b[37mPOST /_dash-update-component HTTP/1.1\u001b[0m\" 200 -\n",
      "127.0.0.1 - - [11/Dec/2020 20:46:26] \"\u001b[37mPOST /_dash-update-component HTTP/1.1\u001b[0m\" 200 -\n",
      "127.0.0.1 - - [11/Dec/2020 20:46:26] \"\u001b[37mPOST /_dash-update-component HTTP/1.1\u001b[0m\" 200 -\n",
      "127.0.0.1 - - [11/Dec/2020 20:46:26] \"\u001b[37mPOST /_dash-update-component HTTP/1.1\u001b[0m\" 200 -\n",
      "127.0.0.1 - - [11/Dec/2020 20:46:27] \"\u001b[37mPOST /_dash-update-component HTTP/1.1\u001b[0m\" 200 -\n",
      "127.0.0.1 - - [11/Dec/2020 20:46:27] \"\u001b[37mPOST /_dash-update-component HTTP/1.1\u001b[0m\" 200 -\n",
      "127.0.0.1 - - [11/Dec/2020 20:46:32] \"\u001b[37mPOST /_dash-update-component HTTP/1.1\u001b[0m\" 200 -\n",
      "127.0.0.1 - - [11/Dec/2020 20:46:32] \"\u001b[37mPOST /_dash-update-component HTTP/1.1\u001b[0m\" 200 -\n",
      "127.0.0.1 - - [11/Dec/2020 20:46:33] \"\u001b[37mPOST /_dash-update-component HTTP/1.1\u001b[0m\" 200 -\n",
      "127.0.0.1 - - [11/Dec/2020 20:46:33] \"\u001b[37mPOST /_dash-update-component HTTP/1.1\u001b[0m\" 200 -\n",
      "127.0.0.1 - - [11/Dec/2020 20:46:33] \"\u001b[37mPOST /_dash-update-component HTTP/1.1\u001b[0m\" 200 -\n",
      "127.0.0.1 - - [11/Dec/2020 20:46:34] \"\u001b[37mPOST /_dash-update-component HTTP/1.1\u001b[0m\" 200 -\n",
      "127.0.0.1 - - [11/Dec/2020 20:46:34] \"\u001b[37mPOST /_dash-update-component HTTP/1.1\u001b[0m\" 200 -\n",
      "127.0.0.1 - - [11/Dec/2020 20:46:34] \"\u001b[37mPOST /_dash-update-component HTTP/1.1\u001b[0m\" 200 -\n",
      "127.0.0.1 - - [11/Dec/2020 20:46:34] \"\u001b[37mPOST /_dash-update-component HTTP/1.1\u001b[0m\" 200 -\n",
      "127.0.0.1 - - [11/Dec/2020 20:46:35] \"\u001b[37mPOST /_dash-update-component HTTP/1.1\u001b[0m\" 200 -\n",
      "127.0.0.1 - - [11/Dec/2020 20:46:35] \"\u001b[37mPOST /_dash-update-component HTTP/1.1\u001b[0m\" 200 -\n",
      "127.0.0.1 - - [11/Dec/2020 20:46:35] \"\u001b[37mPOST /_dash-update-component HTTP/1.1\u001b[0m\" 200 -\n",
      "127.0.0.1 - - [11/Dec/2020 20:46:36] \"\u001b[37mPOST /_dash-update-component HTTP/1.1\u001b[0m\" 200 -\n",
      "127.0.0.1 - - [11/Dec/2020 20:46:36] \"\u001b[37mPOST /_dash-update-component HTTP/1.1\u001b[0m\" 200 -\n",
      "127.0.0.1 - - [11/Dec/2020 20:46:36] \"\u001b[37mPOST /_dash-update-component HTTP/1.1\u001b[0m\" 200 -\n",
      "127.0.0.1 - - [11/Dec/2020 20:46:36] \"\u001b[37mPOST /_dash-update-component HTTP/1.1\u001b[0m\" 200 -\n",
      "127.0.0.1 - - [11/Dec/2020 20:46:36] \"\u001b[37mPOST /_dash-update-component HTTP/1.1\u001b[0m\" 200 -\n",
      "127.0.0.1 - - [11/Dec/2020 20:46:37] \"\u001b[37mPOST /_dash-update-component HTTP/1.1\u001b[0m\" 200 -\n",
      "127.0.0.1 - - [11/Dec/2020 20:46:37] \"\u001b[37mPOST /_dash-update-component HTTP/1.1\u001b[0m\" 200 -\n",
      "127.0.0.1 - - [11/Dec/2020 20:46:37] \"\u001b[37mPOST /_dash-update-component HTTP/1.1\u001b[0m\" 200 -\n",
      "127.0.0.1 - - [11/Dec/2020 20:46:37] \"\u001b[37mPOST /_dash-update-component HTTP/1.1\u001b[0m\" 200 -\n",
      "127.0.0.1 - - [11/Dec/2020 20:46:38] \"\u001b[37mPOST /_dash-update-component HTTP/1.1\u001b[0m\" 200 -\n",
      "127.0.0.1 - - [11/Dec/2020 20:46:39] \"\u001b[37mPOST /_dash-update-component HTTP/1.1\u001b[0m\" 200 -\n",
      "127.0.0.1 - - [11/Dec/2020 20:46:39] \"\u001b[37mPOST /_dash-update-component HTTP/1.1\u001b[0m\" 200 -\n",
      "127.0.0.1 - - [11/Dec/2020 20:46:39] \"\u001b[37mPOST /_dash-update-component HTTP/1.1\u001b[0m\" 200 -\n"
     ]
    },
    {
     "name": "stdout",
     "output_type": "stream",
     "text": [
      "CALLED: switch_node_actmap_click\n",
      "CALLED: switch_edge_actmaps_click\n"
     ]
    },
    {
     "name": "stderr",
     "output_type": "stream",
     "text": [
      "127.0.0.1 - - [11/Dec/2020 20:46:39] \"\u001b[37mPOST /_dash-update-component HTTP/1.1\u001b[0m\" 200 -\n"
     ]
    },
    {
     "name": "stdout",
     "output_type": "stream",
     "text": [
      "CALLED: update_edge_deepviz\n",
      "found pre-generated image\n",
      "    edge_num  layer_name  layer  out_channel  in_channel  act_prenorm_rank  \\\n",
      "24        24  features_0      0            8           0          0.235933   \n",
      "26        26  features_0      0            8           2          0.160232   \n",
      "25        25  features_0      0            8           1          0.122138   \n",
      "\n",
      "    grad_prenorm_rank  actxgrad_prenorm_rank  act_norm_rank  grad_norm_rank  \\\n",
      "24           0.000009               0.000003       0.011610        0.079205   \n",
      "26           0.000009               0.000002       0.007885        0.079205   \n",
      "25           0.000009               0.000002       0.006010        0.079205   \n",
      "\n",
      "    actxgrad_norm_rank  \n",
      "24            0.014153  \n",
      "26            0.010116  \n",
      "25            0.010670  \n"
     ]
    },
    {
     "name": "stderr",
     "output_type": "stream",
     "text": [
      "127.0.0.1 - - [11/Dec/2020 20:46:40] \"\u001b[37mPOST /_dash-update-component HTTP/1.1\u001b[0m\" 200 -\n"
     ]
    },
    {
     "name": "stdout",
     "output_type": "stream",
     "text": [
      "CALLED: update_edge_kernelmap\n"
     ]
    },
    {
     "name": "stderr",
     "output_type": "stream",
     "text": [
      "127.0.0.1 - - [11/Dec/2020 20:46:40] \"\u001b[37mPOST /_dash-update-component HTTP/1.1\u001b[0m\" 200 -\n",
      "127.0.0.1 - - [11/Dec/2020 20:46:40] \"\u001b[37mPOST /_dash-update-component HTTP/1.1\u001b[0m\" 200 -\n",
      "127.0.0.1 - - [11/Dec/2020 20:46:42] \"\u001b[37mPOST /_dash-update-component HTTP/1.1\u001b[0m\" 200 -\n",
      "127.0.0.1 - - [11/Dec/2020 20:46:42] \"\u001b[37mPOST /_dash-update-component HTTP/1.1\u001b[0m\" 200 -\n",
      "127.0.0.1 - - [11/Dec/2020 20:46:43] \"\u001b[37mPOST /_dash-update-component HTTP/1.1\u001b[0m\" 200 -\n"
     ]
    },
    {
     "name": "stdout",
     "output_type": "stream",
     "text": [
      "CALLED: update_node_actmapCALLED: update_node_deepviz\n",
      "\n",
      "CALLED: update_node_inputs\n",
      "found pre-generated image\n",
      "CALLED: update_edge_outmap\n",
      "CALLED: update_store\n",
      "\n",
      "TRIGGER node-actmap-dropdown.value\n",
      "r-2\n",
      "changing selected node to 878\n"
     ]
    },
    {
     "name": "stderr",
     "output_type": "stream",
     "text": [
      "127.0.0.1 - - [11/Dec/2020 20:46:44] \"\u001b[37mPOST /_dash-update-component HTTP/1.1\u001b[0m\" 200 -\n",
      "127.0.0.1 - - [11/Dec/2020 20:46:44] \"\u001b[37mPOST /_dash-update-component HTTP/1.1\u001b[0m\" 200 -\n",
      "127.0.0.1 - - [11/Dec/2020 20:46:45] \"\u001b[37mPOST /_dash-update-component HTTP/1.1\u001b[0m\" 200 -\n",
      "127.0.0.1 - - [11/Dec/2020 20:46:45] \"\u001b[37mPOST /_dash-update-component HTTP/1.1\u001b[0m\" 200 -\n",
      "127.0.0.1 - - [11/Dec/2020 20:46:45] \"\u001b[37mPOST /_dash-update-component HTTP/1.1\u001b[0m\" 200 -\n",
      "127.0.0.1 - - [11/Dec/2020 20:46:45] \"\u001b[37mPOST /_dash-update-component HTTP/1.1\u001b[0m\" 200 -\n",
      "127.0.0.1 - - [11/Dec/2020 20:46:45] \"\u001b[37mPOST /_dash-update-component HTTP/1.1\u001b[0m\" 200 -\n",
      "127.0.0.1 - - [11/Dec/2020 20:46:45] \"\u001b[37mPOST /_dash-update-component HTTP/1.1\u001b[0m\" 200 -\n",
      "127.0.0.1 - - [11/Dec/2020 20:46:45] \"\u001b[37mPOST /_dash-update-component HTTP/1.1\u001b[0m\" 200 -\n",
      "127.0.0.1 - - [11/Dec/2020 20:46:46] \"\u001b[37mPOST /_dash-update-component HTTP/1.1\u001b[0m\" 200 -\n",
      "127.0.0.1 - - [11/Dec/2020 20:46:46] \"\u001b[37mPOST /_dash-update-component HTTP/1.1\u001b[0m\" 200 -\n",
      "127.0.0.1 - - [11/Dec/2020 20:46:46] \"\u001b[37mPOST /_dash-update-component HTTP/1.1\u001b[0m\" 200 -\n",
      "127.0.0.1 - - [11/Dec/2020 20:46:47] \"\u001b[37mPOST /_dash-update-component HTTP/1.1\u001b[0m\" 200 -\n"
     ]
    },
    {
     "name": "stdout",
     "output_type": "stream",
     "text": [
      "CALLED: update_edge_inmap\n",
      "        edge_num  layer_name  layer  out_channel  in_channel  \\\n",
      "177816    177816  features_8      3          238         216   \n",
      "177980    177980  features_8      3          238         380   \n",
      "177813    177813  features_8      3          238         213   \n",
      "177923    177923  features_8      3          238         323   \n",
      "177632    177632  features_8      3          238          32   \n",
      "177744    177744  features_8      3          238         144   \n",
      "177759    177759  features_8      3          238         159   \n",
      "177936    177936  features_8      3          238         336   \n",
      "177753    177753  features_8      3          238         153   \n",
      "177724    177724  features_8      3          238         124   \n",
      "177890    177890  features_8      3          238         290   \n",
      "177818    177818  features_8      3          238         218   \n",
      "177619    177619  features_8      3          238          19   \n",
      "177639    177639  features_8      3          238          39   \n",
      "177965    177965  features_8      3          238         365   \n",
      "177755    177755  features_8      3          238         155   \n",
      "177675    177675  features_8      3          238          75   \n",
      "177776    177776  features_8      3          238         176   \n",
      "177738    177738  features_8      3          238         138   \n",
      "177809    177809  features_8      3          238         209   \n",
      "\n",
      "        act_prenorm_rank  grad_prenorm_rank  actxgrad_prenorm_rank  \\\n",
      "177816          0.462032           0.000013           8.514685e-06   \n",
      "177980          0.422428           0.000013           5.142843e-06   \n",
      "177813          0.383910           0.000013           8.009112e-06   \n",
      "177923          0.375583           0.000013           6.784650e-07   \n",
      "177632          0.330889           0.000013           5.011093e-06   \n",
      "177744          0.284285           0.000013           2.148945e-06   \n",
      "177759          0.278241           0.000013           7.694845e-06   \n",
      "177936          0.237386           0.000013           5.004087e-06   \n",
      "177753          0.236375           0.000013           8.134697e-07   \n",
      "177724          0.234635           0.000013           3.051244e-06   \n",
      "177890          0.216080           0.000013           4.477621e-06   \n",
      "177818          0.205251           0.000013           4.050265e-06   \n",
      "177619          0.204886           0.000013           9.731484e-07   \n",
      "177639          0.201838           0.000013           2.875559e-06   \n",
      "177965          0.201080           0.000013           2.915753e-06   \n",
      "177755          0.192591           0.000013           2.244004e-06   \n",
      "177675          0.190978           0.000013           2.411960e-06   \n",
      "177776          0.190199           0.000013           3.493038e-06   \n",
      "177738          0.189292           0.000013           3.399298e-06   \n",
      "177809          0.188486           0.000013           2.619488e-06   \n",
      "\n",
      "        act_norm_rank  grad_norm_rank  actxgrad_norm_rank  \n",
      "177816       0.014109        0.006556            0.040782  \n",
      "177980       0.012900        0.006556            0.024632  \n",
      "177813       0.011724        0.006556            0.038360  \n",
      "177923       0.011469        0.006556            0.003250  \n",
      "177632       0.010105        0.006556            0.024001  \n",
      "177744       0.008681        0.006556            0.010293  \n",
      "177759       0.008497        0.006556            0.036855  \n",
      "177936       0.007249        0.006556            0.023968  \n",
      "177753       0.007218        0.006556            0.003896  \n",
      "177724       0.007165        0.006556            0.014614  \n",
      "177890       0.006599        0.006556            0.021446  \n",
      "177818       0.006268        0.006556            0.019399  \n",
      "177619       0.006257        0.006556            0.004661  \n",
      "177639       0.006164        0.006556            0.013773  \n",
      "177965       0.006140        0.006556            0.013965  \n",
      "177755       0.005881        0.006556            0.010748  \n",
      "177675       0.005832        0.006556            0.011552  \n",
      "177776       0.005808        0.006556            0.016730  \n",
      "177738       0.005780        0.006556            0.016281  \n",
      "177809       0.005756        0.006556            0.012546  \n"
     ]
    },
    {
     "name": "stderr",
     "output_type": "stream",
     "text": [
      "127.0.0.1 - - [11/Dec/2020 20:46:48] \"\u001b[37mPOST /_dash-update-component HTTP/1.1\u001b[0m\" 200 -\n",
      "127.0.0.1 - - [11/Dec/2020 20:46:48] \"\u001b[37mPOST /_dash-update-component HTTP/1.1\u001b[0m\" 200 -\n",
      "127.0.0.1 - - [11/Dec/2020 20:46:48] \"\u001b[37mPOST /_dash-update-component HTTP/1.1\u001b[0m\" 200 -\n",
      "127.0.0.1 - - [11/Dec/2020 20:46:48] \"\u001b[37mPOST /_dash-update-component HTTP/1.1\u001b[0m\" 200 -\n"
     ]
    },
    {
     "name": "stdout",
     "output_type": "stream",
     "text": [
      "CALLED: update_figure\n",
      "\n",
      "[0.1, 1]\n",
      "['r-2']\n",
      "['0', '686', '874', '787', '874', '8', '878']\n",
      "updating edge highlight to r-2\n",
      "updating node highlight to 878\n",
      "0 8 features_0\n"
     ]
    },
    {
     "name": "stderr",
     "output_type": "stream",
     "text": [
      "127.0.0.1 - - [11/Dec/2020 20:46:48] \"\u001b[37mPOST /_dash-update-component HTTP/1.1\u001b[0m\" 200 -\n",
      "127.0.0.1 - - [11/Dec/2020 20:46:48] \"\u001b[37mPOST /_dash-update-component HTTP/1.1\u001b[0m\" 200 -\n",
      "127.0.0.1 - - [11/Dec/2020 20:46:48] \"\u001b[37mPOST /_dash-update-component HTTP/1.1\u001b[0m\" 200 -\n",
      "127.0.0.1 - - [11/Dec/2020 20:46:48] \"\u001b[37mPOST /_dash-update-component HTTP/1.1\u001b[0m\" 200 -\n"
     ]
    },
    {
     "name": "stdout",
     "output_type": "stream",
     "text": [
      "CALLED: update_inputimg_dropdown options\n"
     ]
    },
    {
     "name": "stderr",
     "output_type": "stream",
     "text": [
      "127.0.0.1 - - [11/Dec/2020 20:46:54] \"\u001b[37mPOST /_dash-update-component HTTP/1.1\u001b[0m\" 200 -\n",
      "127.0.0.1 - - [11/Dec/2020 20:46:54] \"\u001b[37mPOST /_dash-update-component HTTP/1.1\u001b[0m\" 200 -\n",
      "127.0.0.1 - - [11/Dec/2020 20:46:54] \"\u001b[37mPOST /_dash-update-component HTTP/1.1\u001b[0m\" 200 -\n",
      "127.0.0.1 - - [11/Dec/2020 20:46:54] \"\u001b[37mPOST /_dash-update-component HTTP/1.1\u001b[0m\" 200 -\n",
      "127.0.0.1 - - [11/Dec/2020 20:46:55] \"\u001b[37mPOST /_dash-update-component HTTP/1.1\u001b[0m\" 200 -\n",
      "127.0.0.1 - - [11/Dec/2020 20:46:55] \"\u001b[37mPOST /_dash-update-component HTTP/1.1\u001b[0m\" 200 -\n",
      "127.0.0.1 - - [11/Dec/2020 20:47:21] \"\u001b[37mPOST /_dash-update-component HTTP/1.1\u001b[0m\" 200 -\n",
      "127.0.0.1 - - [11/Dec/2020 20:47:21] \"\u001b[37mPOST /_dash-update-component HTTP/1.1\u001b[0m\" 200 -\n",
      "127.0.0.1 - - [11/Dec/2020 20:47:21] \"\u001b[37mPOST /_dash-update-component HTTP/1.1\u001b[0m\" 200 -\n",
      "127.0.0.1 - - [11/Dec/2020 20:47:21] \"\u001b[37mPOST /_dash-update-component HTTP/1.1\u001b[0m\" 200 -\n",
      "127.0.0.1 - - [11/Dec/2020 20:47:21] \"\u001b[37mPOST /_dash-update-component HTTP/1.1\u001b[0m\" 200 -\n",
      "127.0.0.1 - - [11/Dec/2020 20:47:21] \"\u001b[37mPOST /_dash-update-component HTTP/1.1\u001b[0m\" 200 -\n",
      "127.0.0.1 - - [11/Dec/2020 20:47:21] \"\u001b[37mPOST /_dash-update-component HTTP/1.1\u001b[0m\" 200 -\n",
      "127.0.0.1 - - [11/Dec/2020 20:47:21] \"\u001b[37mPOST /_dash-update-component HTTP/1.1\u001b[0m\" 200 -\n",
      "127.0.0.1 - - [11/Dec/2020 20:47:22] \"\u001b[37mPOST /_dash-update-component HTTP/1.1\u001b[0m\" 200 -\n",
      "127.0.0.1 - - [11/Dec/2020 20:47:22] \"\u001b[37mPOST /_dash-update-component HTTP/1.1\u001b[0m\" 200 -\n",
      "127.0.0.1 - - [11/Dec/2020 20:47:31] \"\u001b[37mPOST /_dash-update-component HTTP/1.1\u001b[0m\" 200 -\n",
      "127.0.0.1 - - [11/Dec/2020 20:47:31] \"\u001b[37mPOST /_dash-update-component HTTP/1.1\u001b[0m\" 200 -\n",
      "127.0.0.1 - - [11/Dec/2020 20:47:32] \"\u001b[37mPOST /_dash-update-component HTTP/1.1\u001b[0m\" 200 -\n",
      "127.0.0.1 - - [11/Dec/2020 20:47:32] \"\u001b[37mPOST /_dash-update-component HTTP/1.1\u001b[0m\" 200 -\n",
      "127.0.0.1 - - [11/Dec/2020 20:47:32] \"\u001b[37mPOST /_dash-update-component HTTP/1.1\u001b[0m\" 200 -\n",
      "127.0.0.1 - - [11/Dec/2020 20:47:32] \"\u001b[37mPOST /_dash-update-component HTTP/1.1\u001b[0m\" 200 -\n",
      "127.0.0.1 - - [11/Dec/2020 20:47:32] \"\u001b[37mPOST /_dash-update-component HTTP/1.1\u001b[0m\" 200 -\n",
      "127.0.0.1 - - [11/Dec/2020 20:47:32] \"\u001b[37mPOST /_dash-update-component HTTP/1.1\u001b[0m\" 200 -\n",
      "127.0.0.1 - - [11/Dec/2020 20:47:33] \"\u001b[37mPOST /_dash-update-component HTTP/1.1\u001b[0m\" 200 -\n",
      "127.0.0.1 - - [11/Dec/2020 20:47:36] \"\u001b[37mPOST /_dash-update-component HTTP/1.1\u001b[0m\" 200 -\n"
     ]
    },
    {
     "name": "stdout",
     "output_type": "stream",
     "text": [
      "CALLED: update_inputimg_actmap\n",
      "Updating cached activations with deepviz_878_features_8:238_1607613234.9616292.jpg\n"
     ]
    },
    {
     "name": "stderr",
     "output_type": "stream",
     "text": [
      "127.0.0.1 - - [11/Dec/2020 20:47:42] \"\u001b[37mPOST /_dash-update-component HTTP/1.1\u001b[0m\" 200 -\n"
     ]
    },
    {
     "name": "stdout",
     "output_type": "stream",
     "text": [
      "CALLED: update_node_actmap\n",
      "CALLED: update_node_inputs\n"
     ]
    },
    {
     "name": "stderr",
     "output_type": "stream",
     "text": [
      "127.0.0.1 - - [11/Dec/2020 20:47:43] \"\u001b[37mPOST /_dash-update-component HTTP/1.1\u001b[0m\" 200 -\n"
     ]
    },
    {
     "name": "stdout",
     "output_type": "stream",
     "text": [
      "CALLED: update_edge_outmap\n",
      "CALLED: update_edge_inmap\n"
     ]
    },
    {
     "name": "stderr",
     "output_type": "stream",
     "text": [
      "127.0.0.1 - - [11/Dec/2020 20:47:44] \"\u001b[37mPOST /_dash-update-component HTTP/1.1\u001b[0m\" 200 -\n",
      "127.0.0.1 - - [11/Dec/2020 20:47:44] \"\u001b[37mPOST /_dash-update-component HTTP/1.1\u001b[0m\" 200 -\n",
      "127.0.0.1 - - [11/Dec/2020 20:47:44] \"\u001b[37mPOST /_dash-update-component HTTP/1.1\u001b[0m\" 200 -\n"
     ]
    },
    {
     "name": "stdout",
     "output_type": "stream",
     "text": [
      "        edge_num  layer_name  layer  out_channel  in_channel  \\\n",
      "177816    177816  features_8      3          238         216   \n",
      "177980    177980  features_8      3          238         380   \n",
      "177813    177813  features_8      3          238         213   \n",
      "177923    177923  features_8      3          238         323   \n",
      "177632    177632  features_8      3          238          32   \n",
      "177744    177744  features_8      3          238         144   \n",
      "177759    177759  features_8      3          238         159   \n",
      "177936    177936  features_8      3          238         336   \n",
      "177753    177753  features_8      3          238         153   \n",
      "177724    177724  features_8      3          238         124   \n",
      "177890    177890  features_8      3          238         290   \n",
      "177818    177818  features_8      3          238         218   \n",
      "177619    177619  features_8      3          238          19   \n",
      "177639    177639  features_8      3          238          39   \n",
      "177965    177965  features_8      3          238         365   \n",
      "177755    177755  features_8      3          238         155   \n",
      "177675    177675  features_8      3          238          75   \n",
      "177776    177776  features_8      3          238         176   \n",
      "177738    177738  features_8      3          238         138   \n",
      "177809    177809  features_8      3          238         209   \n",
      "\n",
      "        act_prenorm_rank  grad_prenorm_rank  actxgrad_prenorm_rank  \\\n",
      "177816          0.462032           0.000013           8.514685e-06   \n",
      "177980          0.422428           0.000013           5.142843e-06   \n",
      "177813          0.383910           0.000013           8.009112e-06   \n",
      "177923          0.375583           0.000013           6.784650e-07   \n",
      "177632          0.330889           0.000013           5.011093e-06   \n",
      "177744          0.284285           0.000013           2.148945e-06   \n",
      "177759          0.278241           0.000013           7.694845e-06   \n",
      "177936          0.237386           0.000013           5.004087e-06   \n",
      "177753          0.236375           0.000013           8.134697e-07   \n",
      "177724          0.234635           0.000013           3.051244e-06   \n",
      "177890          0.216080           0.000013           4.477621e-06   \n",
      "177818          0.205251           0.000013           4.050265e-06   \n",
      "177619          0.204886           0.000013           9.731484e-07   \n",
      "177639          0.201838           0.000013           2.875559e-06   \n",
      "177965          0.201080           0.000013           2.915753e-06   \n",
      "177755          0.192591           0.000013           2.244004e-06   \n",
      "177675          0.190978           0.000013           2.411960e-06   \n",
      "177776          0.190199           0.000013           3.493038e-06   \n",
      "177738          0.189292           0.000013           3.399298e-06   \n",
      "177809          0.188486           0.000013           2.619488e-06   \n",
      "\n",
      "        act_norm_rank  grad_norm_rank  actxgrad_norm_rank  \n",
      "177816       0.014109        0.006556            0.040782  \n",
      "177980       0.012900        0.006556            0.024632  \n",
      "177813       0.011724        0.006556            0.038360  \n",
      "177923       0.011469        0.006556            0.003250  \n",
      "177632       0.010105        0.006556            0.024001  \n",
      "177744       0.008681        0.006556            0.010293  \n",
      "177759       0.008497        0.006556            0.036855  \n",
      "177936       0.007249        0.006556            0.023968  \n",
      "177753       0.007218        0.006556            0.003896  \n",
      "177724       0.007165        0.006556            0.014614  \n",
      "177890       0.006599        0.006556            0.021446  \n",
      "177818       0.006268        0.006556            0.019399  \n",
      "177619       0.006257        0.006556            0.004661  \n",
      "177639       0.006164        0.006556            0.013773  \n",
      "177965       0.006140        0.006556            0.013965  \n",
      "177755       0.005881        0.006556            0.010748  \n",
      "177675       0.005832        0.006556            0.011552  \n",
      "177776       0.005808        0.006556            0.016730  \n",
      "177738       0.005780        0.006556            0.016281  \n",
      "177809       0.005756        0.006556            0.012546  \n"
     ]
    },
    {
     "name": "stderr",
     "output_type": "stream",
     "text": [
      "127.0.0.1 - - [11/Dec/2020 20:48:04] \"\u001b[37mPOST /_dash-update-component HTTP/1.1\u001b[0m\" 200 -\n",
      "127.0.0.1 - - [11/Dec/2020 20:48:04] \"\u001b[37mPOST /_dash-update-component HTTP/1.1\u001b[0m\" 200 -\n",
      "127.0.0.1 - - [11/Dec/2020 20:48:05] \"\u001b[37mPOST /_dash-update-component HTTP/1.1\u001b[0m\" 200 -\n",
      "127.0.0.1 - - [11/Dec/2020 20:48:05] \"\u001b[37mPOST /_dash-update-component HTTP/1.1\u001b[0m\" 200 -\n",
      "127.0.0.1 - - [11/Dec/2020 20:48:09] \"\u001b[37mPOST /_dash-update-component HTTP/1.1\u001b[0m\" 200 -\n",
      "127.0.0.1 - - [11/Dec/2020 20:48:09] \"\u001b[37mPOST /_dash-update-component HTTP/1.1\u001b[0m\" 200 -\n",
      "127.0.0.1 - - [11/Dec/2020 20:48:09] \"\u001b[37mPOST /_dash-update-component HTTP/1.1\u001b[0m\" 200 -\n",
      "127.0.0.1 - - [11/Dec/2020 20:48:10] \"\u001b[37mPOST /_dash-update-component HTTP/1.1\u001b[0m\" 200 -\n",
      "127.0.0.1 - - [11/Dec/2020 20:48:11] \"\u001b[37mPOST /_dash-update-component HTTP/1.1\u001b[0m\" 200 -\n",
      "127.0.0.1 - - [11/Dec/2020 20:48:13] \"\u001b[37mPOST /_dash-update-component HTTP/1.1\u001b[0m\" 200 -\n",
      "127.0.0.1 - - [11/Dec/2020 20:48:14] \"\u001b[37mPOST /_dash-update-component HTTP/1.1\u001b[0m\" 200 -\n",
      "127.0.0.1 - - [11/Dec/2020 20:48:14] \"\u001b[37mPOST /_dash-update-component HTTP/1.1\u001b[0m\" 200 -\n",
      "127.0.0.1 - - [11/Dec/2020 20:48:14] \"\u001b[37mPOST /_dash-update-component HTTP/1.1\u001b[0m\" 200 -\n",
      "127.0.0.1 - - [11/Dec/2020 20:48:14] \"\u001b[37mPOST /_dash-update-component HTTP/1.1\u001b[0m\" 200 -\n",
      "127.0.0.1 - - [11/Dec/2020 20:48:14] \"\u001b[37mPOST /_dash-update-component HTTP/1.1\u001b[0m\" 200 -\n",
      "127.0.0.1 - - [11/Dec/2020 20:48:14] \"\u001b[37mPOST /_dash-update-component HTTP/1.1\u001b[0m\" 200 -\n",
      "127.0.0.1 - - [11/Dec/2020 20:48:14] \"\u001b[37mPOST /_dash-update-component HTTP/1.1\u001b[0m\" 200 -\n",
      "127.0.0.1 - - [11/Dec/2020 20:48:14] \"\u001b[37mPOST /_dash-update-component HTTP/1.1\u001b[0m\" 200 -\n",
      "127.0.0.1 - - [11/Dec/2020 20:48:14] \"\u001b[37mPOST /_dash-update-component HTTP/1.1\u001b[0m\" 200 -\n",
      "127.0.0.1 - - [11/Dec/2020 20:48:15] \"\u001b[37mPOST /_dash-update-component HTTP/1.1\u001b[0m\" 200 -\n",
      "127.0.0.1 - - [11/Dec/2020 20:48:15] \"\u001b[37mPOST /_dash-update-component HTTP/1.1\u001b[0m\" 200 -\n",
      "127.0.0.1 - - [11/Dec/2020 20:48:15] \"\u001b[37mPOST /_dash-update-component HTTP/1.1\u001b[0m\" 200 -\n",
      "127.0.0.1 - - [11/Dec/2020 20:48:15] \"\u001b[37mPOST /_dash-update-component HTTP/1.1\u001b[0m\" 200 -\n",
      "127.0.0.1 - - [11/Dec/2020 20:48:16] \"\u001b[37mPOST /_dash-update-component HTTP/1.1\u001b[0m\" 200 -\n",
      "127.0.0.1 - - [11/Dec/2020 20:48:19] \"\u001b[37mPOST /_dash-update-component HTTP/1.1\u001b[0m\" 200 -\n",
      "127.0.0.1 - - [11/Dec/2020 20:48:19] \"\u001b[37mPOST /_dash-update-component HTTP/1.1\u001b[0m\" 200 -\n"
     ]
    },
    {
     "name": "stdout",
     "output_type": "stream",
     "text": [
      "CALLED: switch_node_actmap_click\n"
     ]
    },
    {
     "name": "stderr",
     "output_type": "stream",
     "text": [
      "127.0.0.1 - - [11/Dec/2020 20:48:20] \"\u001b[37mPOST /_dash-update-component HTTP/1.1\u001b[0m\" 200 -\n"
     ]
    },
    {
     "name": "stdout",
     "output_type": "stream",
     "text": [
      "CALLED: switch_edge_actmaps_click\n"
     ]
    },
    {
     "name": "stderr",
     "output_type": "stream",
     "text": [
      "127.0.0.1 - - [11/Dec/2020 20:48:21] \"\u001b[37mPOST /_dash-update-component HTTP/1.1\u001b[0m\" 200 -\n"
     ]
    },
    {
     "name": "stdout",
     "output_type": "stream",
     "text": [
      "CALLED: update_node_deepviz\n",
      "CALLED: update_node_actmap\n",
      "found pre-generated image\n",
      "CALLED: update_node_inputs\n",
      "CALLED: update_edge_deepviz\n",
      "deepviz image not found, generating . . .\n"
     ]
    },
    {
     "name": "stderr",
     "output_type": "stream",
     "text": [
      "127.0.0.1 - - [11/Dec/2020 20:48:21] \"\u001b[37mPOST /_dash-update-component HTTP/1.1\u001b[0m\" 200 -\n",
      "/home/chris/miniconda3/envs/pruning_viz/lib/python3.6/site-packages/lucent/optvis/param/spatial.py:57: UserWarning:\n",
      "\n",
      "The function torch.irfft is deprecated and will be removed in a future PyTorch release. Use the new torch.fft module functions, instead, by importing torch.fft and calling torch.fft.ifft or torch.fft.irfft. (Triggered internally at  /pytorch/aten/src/ATen/native/SpectralOps.cpp:602.)\n",
      "\n",
      "127.0.0.1 - - [11/Dec/2020 20:48:21] \"\u001b[37mPOST /_dash-update-component HTTP/1.1\u001b[0m\" 200 -\n"
     ]
    },
    {
     "name": "stdout",
     "output_type": "stream",
     "text": [
      "CALLED: update_store\n",
      "\n",
      "TRIGGER edge-actmaps-input.value\n",
      "37-186\n",
      "changing selected edge to 37-186\n",
      "['r-2', '37-186']\n",
      "CALLED: update_edge_kernelmap\n"
     ]
    },
    {
     "name": "stderr",
     "output_type": "stream",
     "text": [
      "  0%|          | 2/512 [00:00<02:07,  3.99it/s]"
     ]
    },
    {
     "name": "stdout",
     "output_type": "stream",
     "text": [
      "CALLED: update_edge_outmap\n"
     ]
    },
    {
     "name": "stderr",
     "output_type": "stream",
     "text": [
      "\r",
      "  1%|          | 3/512 [00:00<02:07,  4.00it/s]"
     ]
    },
    {
     "name": "stdout",
     "output_type": "stream",
     "text": [
      "CALLED: update_edge_inmap\n"
     ]
    },
    {
     "name": "stderr",
     "output_type": "stream",
     "text": [
      "  1%|▏         | 7/512 [00:01<01:38,  5.14it/s]127.0.0.1 - - [11/Dec/2020 20:48:23] \"\u001b[37mPOST /_dash-update-component HTTP/1.1\u001b[0m\" 200 -\n",
      "  2%|▏         | 8/512 [00:01<01:33,  5.40it/s]127.0.0.1 - - [11/Dec/2020 20:48:23] \"\u001b[37mPOST /_dash-update-component HTTP/1.1\u001b[0m\" 200 -\n",
      "  2%|▏         | 9/512 [00:01<01:28,  5.67it/s]127.0.0.1 - - [11/Dec/2020 20:48:23] \"\u001b[37mPOST /_dash-update-component HTTP/1.1\u001b[0m\" 200 -\n",
      "  2%|▏         | 10/512 [00:02<01:25,  5.85it/s]"
     ]
    },
    {
     "name": "stdout",
     "output_type": "stream",
     "text": [
      "CALLED: update_figure\n",
      "\n",
      "[0.1, 1]\n",
      "['r-2', '37-186']\n",
      "['0', '686', '874', '787', '874', '8', '878']\n",
      "updating edge highlight to 37-186\n",
      "updating node highlight to 878\n",
      "0 8 features_0\n"
     ]
    },
    {
     "name": "stderr",
     "output_type": "stream",
     "text": [
      "127.0.0.1 - - [11/Dec/2020 20:48:24] \"\u001b[37mPOST /_dash-update-component HTTP/1.1\u001b[0m\" 200 -\n",
      "127.0.0.1 - - [11/Dec/2020 20:48:24] \"\u001b[37mPOST /_dash-update-component HTTP/1.1\u001b[0m\" 200 -\n",
      "  2%|▏         | 12/512 [00:02<01:23,  6.02it/s]127.0.0.1 - - [11/Dec/2020 20:48:24] \"\u001b[37mPOST /_dash-update-component HTTP/1.1\u001b[0m\" 200 -\n",
      "  3%|▎         | 13/512 [00:02<01:23,  6.00it/s]127.0.0.1 - - [11/Dec/2020 20:48:24] \"\u001b[37mPOST /_dash-update-component HTTP/1.1\u001b[0m\" 200 -\n",
      "127.0.0.1 - - [11/Dec/2020 20:48:24] \"\u001b[37mPOST /_dash-update-component HTTP/1.1\u001b[0m\" 200 -\n",
      "  3%|▎         | 17/512 [00:03<01:15,  6.53it/s]"
     ]
    },
    {
     "name": "stdout",
     "output_type": "stream",
     "text": [
      "        edge_num  layer_name  layer  out_channel  in_channel  \\\n",
      "177816    177816  features_8      3          238         216   \n",
      "177980    177980  features_8      3          238         380   \n",
      "177813    177813  features_8      3          238         213   \n",
      "177923    177923  features_8      3          238         323   \n",
      "177632    177632  features_8      3          238          32   \n",
      "177744    177744  features_8      3          238         144   \n",
      "177759    177759  features_8      3          238         159   \n",
      "177936    177936  features_8      3          238         336   \n",
      "177753    177753  features_8      3          238         153   \n",
      "177724    177724  features_8      3          238         124   \n",
      "177890    177890  features_8      3          238         290   \n",
      "177818    177818  features_8      3          238         218   \n",
      "177619    177619  features_8      3          238          19   \n",
      "177639    177639  features_8      3          238          39   \n",
      "177965    177965  features_8      3          238         365   \n",
      "177755    177755  features_8      3          238         155   \n",
      "177675    177675  features_8      3          238          75   \n",
      "177776    177776  features_8      3          238         176   \n",
      "177738    177738  features_8      3          238         138   \n",
      "177809    177809  features_8      3          238         209   \n",
      "\n",
      "        act_prenorm_rank  grad_prenorm_rank  actxgrad_prenorm_rank  \\\n",
      "177816          0.462032           0.000013           8.514685e-06   \n",
      "177980          0.422428           0.000013           5.142843e-06   \n",
      "177813          0.383910           0.000013           8.009112e-06   \n",
      "177923          0.375583           0.000013           6.784650e-07   \n",
      "177632          0.330889           0.000013           5.011093e-06   \n",
      "177744          0.284285           0.000013           2.148945e-06   \n",
      "177759          0.278241           0.000013           7.694845e-06   \n",
      "177936          0.237386           0.000013           5.004087e-06   \n",
      "177753          0.236375           0.000013           8.134697e-07   \n",
      "177724          0.234635           0.000013           3.051244e-06   \n",
      "177890          0.216080           0.000013           4.477621e-06   \n",
      "177818          0.205251           0.000013           4.050265e-06   \n",
      "177619          0.204886           0.000013           9.731484e-07   \n",
      "177639          0.201838           0.000013           2.875559e-06   \n",
      "177965          0.201080           0.000013           2.915753e-06   \n",
      "177755          0.192591           0.000013           2.244004e-06   \n",
      "177675          0.190978           0.000013           2.411960e-06   \n",
      "177776          0.190199           0.000013           3.493038e-06   \n",
      "177738          0.189292           0.000013           3.399298e-06   \n",
      "177809          0.188486           0.000013           2.619488e-06   \n",
      "\n",
      "        act_norm_rank  grad_norm_rank  actxgrad_norm_rank  \n",
      "177816       0.014109        0.006556            0.040782  \n",
      "177980       0.012900        0.006556            0.024632  \n",
      "177813       0.011724        0.006556            0.038360  \n",
      "177923       0.011469        0.006556            0.003250  \n",
      "177632       0.010105        0.006556            0.024001  \n",
      "177744       0.008681        0.006556            0.010293  \n",
      "177759       0.008497        0.006556            0.036855  \n",
      "177936       0.007249        0.006556            0.023968  \n",
      "177753       0.007218        0.006556            0.003896  \n",
      "177724       0.007165        0.006556            0.014614  \n",
      "177890       0.006599        0.006556            0.021446  \n",
      "177818       0.006268        0.006556            0.019399  \n",
      "177619       0.006257        0.006556            0.004661  \n",
      "177639       0.006164        0.006556            0.013773  \n",
      "177965       0.006140        0.006556            0.013965  \n",
      "177755       0.005881        0.006556            0.010748  \n",
      "177675       0.005832        0.006556            0.011552  \n",
      "177776       0.005808        0.006556            0.016730  \n",
      "177738       0.005780        0.006556            0.016281  \n",
      "177809       0.005756        0.006556            0.012546  \n"
     ]
    },
    {
     "name": "stderr",
     "output_type": "stream",
     "text": [
      "100%|██████████| 512/512 [00:23<00:00, 21.71it/s]\n"
     ]
    },
    {
     "data": {
      "text/html": [
       "<div style=\"display: flex; flex-direction: row;\"><div style=\"margin-right:10px; margin-top: 4px;\">\n",
       "                            0 <br/>\n",
       "                            <img src=\"data:image/PNG;base64,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\" style=\"image-rendering: pixelated;\">\n",
       "                        </div></div>"
      ],
      "text/plain": [
       "<IPython.core.display.HTML object>"
      ]
     },
     "metadata": {},
     "output_type": "display_data"
    },
    {
     "name": "stderr",
     "output_type": "stream",
     "text": [
      "127.0.0.1 - - [11/Dec/2020 20:48:45] \"\u001b[37mPOST /_dash-update-component HTTP/1.1\u001b[0m\" 200 -\n",
      "127.0.0.1 - - [11/Dec/2020 20:48:46] \"\u001b[37mPOST /_dash-update-component HTTP/1.1\u001b[0m\" 200 -\n"
     ]
    },
    {
     "name": "stdout",
     "output_type": "stream",
     "text": [
      "CALLED: update_inputimg_dropdown options\n"
     ]
    },
    {
     "name": "stderr",
     "output_type": "stream",
     "text": [
      "127.0.0.1 - - [11/Dec/2020 20:49:25] \"\u001b[37mPOST /_dash-update-component HTTP/1.1\u001b[0m\" 200 -\n",
      "127.0.0.1 - - [11/Dec/2020 20:49:25] \"\u001b[37mPOST /_dash-update-component HTTP/1.1\u001b[0m\" 200 -\n",
      "127.0.0.1 - - [11/Dec/2020 20:49:25] \"\u001b[37mPOST /_dash-update-component HTTP/1.1\u001b[0m\" 200 -\n",
      "127.0.0.1 - - [11/Dec/2020 20:49:26] \"\u001b[37mPOST /_dash-update-component HTTP/1.1\u001b[0m\" 200 -\n",
      "127.0.0.1 - - [11/Dec/2020 20:49:26] \"\u001b[37mPOST /_dash-update-component HTTP/1.1\u001b[0m\" 200 -\n",
      "127.0.0.1 - - [11/Dec/2020 20:49:26] \"\u001b[37mPOST /_dash-update-component HTTP/1.1\u001b[0m\" 200 -\n",
      "127.0.0.1 - - [11/Dec/2020 20:49:26] \"\u001b[37mPOST /_dash-update-component HTTP/1.1\u001b[0m\" 200 -\n",
      "127.0.0.1 - - [11/Dec/2020 20:49:26] \"\u001b[37mPOST /_dash-update-component HTTP/1.1\u001b[0m\" 200 -\n",
      "127.0.0.1 - - [11/Dec/2020 20:49:28] \"\u001b[37mPOST /_dash-update-component HTTP/1.1\u001b[0m\" 200 -\n",
      "127.0.0.1 - - [11/Dec/2020 20:49:28] \"\u001b[37mPOST /_dash-update-component HTTP/1.1\u001b[0m\" 200 -\n",
      "127.0.0.1 - - [11/Dec/2020 20:49:28] \"\u001b[37mPOST /_dash-update-component HTTP/1.1\u001b[0m\" 200 -\n",
      "127.0.0.1 - - [11/Dec/2020 20:49:42] \"\u001b[37mPOST /_dash-update-component HTTP/1.1\u001b[0m\" 200 -\n"
     ]
    },
    {
     "name": "stdout",
     "output_type": "stream",
     "text": [
      "Updating cached activations with deepviz_37-186_features_3_preadd_conv:7226_1607737701.3432825.jpg\n",
      "CALLED: update_inputimg_actmap\n"
     ]
    },
    {
     "name": "stderr",
     "output_type": "stream",
     "text": [
      "127.0.0.1 - - [11/Dec/2020 20:49:45] \"\u001b[37mPOST /_dash-update-component HTTP/1.1\u001b[0m\" 200 -\n",
      "127.0.0.1 - - [11/Dec/2020 20:49:49] \"\u001b[37mPOST /_dash-update-component HTTP/1.1\u001b[0m\" 200 -\n"
     ]
    },
    {
     "name": "stdout",
     "output_type": "stream",
     "text": [
      "CALLED: update_node_actmapCALLED: update_node_inputs\n",
      "\n",
      "CALLED: update_edge_inmap\n",
      "CALLED: update_edge_outmap\n"
     ]
    },
    {
     "name": "stderr",
     "output_type": "stream",
     "text": [
      "127.0.0.1 - - [11/Dec/2020 20:49:50] \"\u001b[37mPOST /_dash-update-component HTTP/1.1\u001b[0m\" 200 -\n",
      "127.0.0.1 - - [11/Dec/2020 20:49:51] \"\u001b[37mPOST /_dash-update-component HTTP/1.1\u001b[0m\" 200 -\n",
      "127.0.0.1 - - [11/Dec/2020 20:49:51] \"\u001b[37mPOST /_dash-update-component HTTP/1.1\u001b[0m\" 200 -\n",
      "127.0.0.1 - - [11/Dec/2020 20:49:51] \"\u001b[37mPOST /_dash-update-component HTTP/1.1\u001b[0m\" 200 -\n"
     ]
    },
    {
     "name": "stdout",
     "output_type": "stream",
     "text": [
      "        edge_num  layer_name  layer  out_channel  in_channel  \\\n",
      "177816    177816  features_8      3          238         216   \n",
      "177980    177980  features_8      3          238         380   \n",
      "177813    177813  features_8      3          238         213   \n",
      "177923    177923  features_8      3          238         323   \n",
      "177632    177632  features_8      3          238          32   \n",
      "177744    177744  features_8      3          238         144   \n",
      "177759    177759  features_8      3          238         159   \n",
      "177936    177936  features_8      3          238         336   \n",
      "177753    177753  features_8      3          238         153   \n",
      "177724    177724  features_8      3          238         124   \n",
      "177890    177890  features_8      3          238         290   \n",
      "177818    177818  features_8      3          238         218   \n",
      "177619    177619  features_8      3          238          19   \n",
      "177639    177639  features_8      3          238          39   \n",
      "177965    177965  features_8      3          238         365   \n",
      "177755    177755  features_8      3          238         155   \n",
      "177675    177675  features_8      3          238          75   \n",
      "177776    177776  features_8      3          238         176   \n",
      "177738    177738  features_8      3          238         138   \n",
      "177809    177809  features_8      3          238         209   \n",
      "\n",
      "        act_prenorm_rank  grad_prenorm_rank  actxgrad_prenorm_rank  \\\n",
      "177816          0.462032           0.000013           8.514685e-06   \n",
      "177980          0.422428           0.000013           5.142843e-06   \n",
      "177813          0.383910           0.000013           8.009112e-06   \n",
      "177923          0.375583           0.000013           6.784650e-07   \n",
      "177632          0.330889           0.000013           5.011093e-06   \n",
      "177744          0.284285           0.000013           2.148945e-06   \n",
      "177759          0.278241           0.000013           7.694845e-06   \n",
      "177936          0.237386           0.000013           5.004087e-06   \n",
      "177753          0.236375           0.000013           8.134697e-07   \n",
      "177724          0.234635           0.000013           3.051244e-06   \n",
      "177890          0.216080           0.000013           4.477621e-06   \n",
      "177818          0.205251           0.000013           4.050265e-06   \n",
      "177619          0.204886           0.000013           9.731484e-07   \n",
      "177639          0.201838           0.000013           2.875559e-06   \n",
      "177965          0.201080           0.000013           2.915753e-06   \n",
      "177755          0.192591           0.000013           2.244004e-06   \n",
      "177675          0.190978           0.000013           2.411960e-06   \n",
      "177776          0.190199           0.000013           3.493038e-06   \n",
      "177738          0.189292           0.000013           3.399298e-06   \n",
      "177809          0.188486           0.000013           2.619488e-06   \n",
      "\n",
      "        act_norm_rank  grad_norm_rank  actxgrad_norm_rank  \n",
      "177816       0.014109        0.006556            0.040782  \n",
      "177980       0.012900        0.006556            0.024632  \n",
      "177813       0.011724        0.006556            0.038360  \n",
      "177923       0.011469        0.006556            0.003250  \n",
      "177632       0.010105        0.006556            0.024001  \n",
      "177744       0.008681        0.006556            0.010293  \n",
      "177759       0.008497        0.006556            0.036855  \n",
      "177936       0.007249        0.006556            0.023968  \n",
      "177753       0.007218        0.006556            0.003896  \n",
      "177724       0.007165        0.006556            0.014614  \n",
      "177890       0.006599        0.006556            0.021446  \n",
      "177818       0.006268        0.006556            0.019399  \n",
      "177619       0.006257        0.006556            0.004661  \n",
      "177639       0.006164        0.006556            0.013773  \n",
      "177965       0.006140        0.006556            0.013965  \n",
      "177755       0.005881        0.006556            0.010748  \n",
      "177675       0.005832        0.006556            0.011552  \n",
      "177776       0.005808        0.006556            0.016730  \n",
      "177738       0.005780        0.006556            0.016281  \n",
      "177809       0.005756        0.006556            0.012546  \n"
     ]
    },
    {
     "name": "stderr",
     "output_type": "stream",
     "text": [
      "127.0.0.1 - - [11/Dec/2020 20:49:58] \"\u001b[37mPOST /_dash-update-component HTTP/1.1\u001b[0m\" 200 -\n",
      "127.0.0.1 - - [11/Dec/2020 20:51:17] \"\u001b[37mPOST /_dash-update-component HTTP/1.1\u001b[0m\" 200 -\n",
      "127.0.0.1 - - [11/Dec/2020 20:51:17] \"\u001b[37mPOST /_dash-update-component HTTP/1.1\u001b[0m\" 200 -\n",
      "127.0.0.1 - - [11/Dec/2020 20:51:17] \"\u001b[37mPOST /_dash-update-component HTTP/1.1\u001b[0m\" 200 -\n",
      "127.0.0.1 - - [11/Dec/2020 20:51:17] \"\u001b[37mPOST /_dash-update-component HTTP/1.1\u001b[0m\" 200 -\n",
      "127.0.0.1 - - [11/Dec/2020 20:51:36] \"\u001b[37mPOST /_dash-update-component HTTP/1.1\u001b[0m\" 200 -\n",
      "127.0.0.1 - - [11/Dec/2020 20:51:36] \"\u001b[37mPOST /_dash-update-component HTTP/1.1\u001b[0m\" 200 -\n",
      "127.0.0.1 - - [11/Dec/2020 20:51:49] \"\u001b[37mPOST /_dash-update-component HTTP/1.1\u001b[0m\" 200 -\n"
     ]
    },
    {
     "name": "stdout",
     "output_type": "stream",
     "text": [
      "CALLED: update_inputimg_actmap\n",
      "Updating cached activations with tiger_beetle_1002.JPEG\n"
     ]
    },
    {
     "name": "stderr",
     "output_type": "stream",
     "text": [
      "127.0.0.1 - - [11/Dec/2020 20:51:55] \"\u001b[37mPOST /_dash-update-component HTTP/1.1\u001b[0m\" 200 -\n"
     ]
    },
    {
     "name": "stdout",
     "output_type": "stream",
     "text": [
      "CALLED: update_node_actmap\n",
      "CALLED: update_node_inputs\n",
      "CALLED: update_edge_inmap\n",
      "CALLED: update_edge_outmap\n"
     ]
    },
    {
     "name": "stderr",
     "output_type": "stream",
     "text": [
      "127.0.0.1 - - [11/Dec/2020 20:51:56] \"\u001b[37mPOST /_dash-update-component HTTP/1.1\u001b[0m\" 200 -\n"
     ]
    },
    {
     "name": "stdout",
     "output_type": "stream",
     "text": [
      "Updating cached rank dfs with tiger\n"
     ]
    },
    {
     "name": "stderr",
     "output_type": "stream",
     "text": [
      "127.0.0.1 - - [11/Dec/2020 20:51:57] \"\u001b[37mPOST /_dash-update-component HTTP/1.1\u001b[0m\" 200 -\n",
      "127.0.0.1 - - [11/Dec/2020 20:51:57] \"\u001b[37mPOST /_dash-update-component HTTP/1.1\u001b[0m\" 200 -\n",
      "127.0.0.1 - - [11/Dec/2020 20:51:59] \"\u001b[37mPOST /_dash-update-component HTTP/1.1\u001b[0m\" 200 -\n"
     ]
    },
    {
     "name": "stdout",
     "output_type": "stream",
     "text": [
      "        edge_num  layer_name  layer  out_channel  in_channel  \\\n",
      "177816    177816  features_8      3          238         216   \n",
      "177980    177980  features_8      3          238         380   \n",
      "177813    177813  features_8      3          238         213   \n",
      "177923    177923  features_8      3          238         323   \n",
      "177632    177632  features_8      3          238          32   \n",
      "177744    177744  features_8      3          238         144   \n",
      "177759    177759  features_8      3          238         159   \n",
      "177936    177936  features_8      3          238         336   \n",
      "177753    177753  features_8      3          238         153   \n",
      "177724    177724  features_8      3          238         124   \n",
      "177890    177890  features_8      3          238         290   \n",
      "177818    177818  features_8      3          238         218   \n",
      "177619    177619  features_8      3          238          19   \n",
      "177639    177639  features_8      3          238          39   \n",
      "177965    177965  features_8      3          238         365   \n",
      "177755    177755  features_8      3          238         155   \n",
      "177675    177675  features_8      3          238          75   \n",
      "177776    177776  features_8      3          238         176   \n",
      "177738    177738  features_8      3          238         138   \n",
      "177809    177809  features_8      3          238         209   \n",
      "\n",
      "        act_prenorm_rank  grad_prenorm_rank  actxgrad_prenorm_rank  \\\n",
      "177816          0.462032           0.000013           8.514685e-06   \n",
      "177980          0.422428           0.000013           5.142843e-06   \n",
      "177813          0.383910           0.000013           8.009112e-06   \n",
      "177923          0.375583           0.000013           6.784650e-07   \n",
      "177632          0.330889           0.000013           5.011093e-06   \n",
      "177744          0.284285           0.000013           2.148945e-06   \n",
      "177759          0.278241           0.000013           7.694845e-06   \n",
      "177936          0.237386           0.000013           5.004087e-06   \n",
      "177753          0.236375           0.000013           8.134697e-07   \n",
      "177724          0.234635           0.000013           3.051244e-06   \n",
      "177890          0.216080           0.000013           4.477621e-06   \n",
      "177818          0.205251           0.000013           4.050265e-06   \n",
      "177619          0.204886           0.000013           9.731484e-07   \n",
      "177639          0.201838           0.000013           2.875559e-06   \n",
      "177965          0.201080           0.000013           2.915753e-06   \n",
      "177755          0.192591           0.000013           2.244004e-06   \n",
      "177675          0.190978           0.000013           2.411960e-06   \n",
      "177776          0.190199           0.000013           3.493038e-06   \n",
      "177738          0.189292           0.000013           3.399298e-06   \n",
      "177809          0.188486           0.000013           2.619488e-06   \n",
      "\n",
      "        act_norm_rank  grad_norm_rank  actxgrad_norm_rank  \n",
      "177816       0.014109        0.006556            0.040782  \n",
      "177980       0.012900        0.006556            0.024632  \n",
      "177813       0.011724        0.006556            0.038360  \n",
      "177923       0.011469        0.006556            0.003250  \n",
      "177632       0.010105        0.006556            0.024001  \n",
      "177744       0.008681        0.006556            0.010293  \n",
      "177759       0.008497        0.006556            0.036855  \n",
      "177936       0.007249        0.006556            0.023968  \n",
      "177753       0.007218        0.006556            0.003896  \n",
      "177724       0.007165        0.006556            0.014614  \n",
      "177890       0.006599        0.006556            0.021446  \n",
      "177818       0.006268        0.006556            0.019399  \n",
      "177619       0.006257        0.006556            0.004661  \n",
      "177639       0.006164        0.006556            0.013773  \n",
      "177965       0.006140        0.006556            0.013965  \n",
      "177755       0.005881        0.006556            0.010748  \n",
      "177675       0.005832        0.006556            0.011552  \n",
      "177776       0.005808        0.006556            0.016730  \n",
      "177738       0.005780        0.006556            0.016281  \n",
      "177809       0.005756        0.006556            0.012546  \n"
     ]
    },
    {
     "name": "stderr",
     "output_type": "stream",
     "text": [
      "127.0.0.1 - - [11/Dec/2020 20:52:20] \"\u001b[37mPOST /_dash-update-component HTTP/1.1\u001b[0m\" 200 -\n"
     ]
    },
    {
     "name": "stdout",
     "output_type": "stream",
     "text": [
      "CALLED: update_inputimg_actmap\n",
      "Updating cached activations with tick_10006.JPEG\n"
     ]
    },
    {
     "name": "stderr",
     "output_type": "stream",
     "text": [
      "127.0.0.1 - - [11/Dec/2020 20:52:23] \"\u001b[37mPOST /_dash-update-component HTTP/1.1\u001b[0m\" 200 -\n",
      "127.0.0.1 - - [11/Dec/2020 20:52:23] \"\u001b[37mPOST /_dash-update-component HTTP/1.1\u001b[0m\" 200 -\n",
      "127.0.0.1 - - [11/Dec/2020 20:52:23] \"\u001b[37mPOST /_dash-update-component HTTP/1.1\u001b[0m\" 200 -\n",
      "127.0.0.1 - - [11/Dec/2020 20:52:23] \"\u001b[37mPOST /_dash-update-component HTTP/1.1\u001b[0m\" 200 -\n",
      "127.0.0.1 - - [11/Dec/2020 20:52:24] \"\u001b[37mPOST /_dash-update-component HTTP/1.1\u001b[0m\" 200 -\n",
      "127.0.0.1 - - [11/Dec/2020 20:52:27] \"\u001b[37mPOST /_dash-update-component HTTP/1.1\u001b[0m\" 200 -\n"
     ]
    },
    {
     "name": "stdout",
     "output_type": "stream",
     "text": [
      "CALLED: update_node_inputs\n",
      "CALLED: update_node_actmap\n",
      "CALLED: update_edge_outmap\n",
      "CALLED: update_edge_inmap\n"
     ]
    },
    {
     "name": "stderr",
     "output_type": "stream",
     "text": [
      "127.0.0.1 - - [11/Dec/2020 20:52:27] \"\u001b[37mPOST /_dash-update-component HTTP/1.1\u001b[0m\" 200 -\n",
      "127.0.0.1 - - [11/Dec/2020 20:52:28] \"\u001b[37mPOST /_dash-update-component HTTP/1.1\u001b[0m\" 200 -\n",
      "127.0.0.1 - - [11/Dec/2020 20:52:28] \"\u001b[37mPOST /_dash-update-component HTTP/1.1\u001b[0m\" 200 -\n",
      "127.0.0.1 - - [11/Dec/2020 20:52:29] \"\u001b[37mPOST /_dash-update-component HTTP/1.1\u001b[0m\" 200 -\n"
     ]
    },
    {
     "name": "stdout",
     "output_type": "stream",
     "text": [
      "        edge_num  layer_name  layer  out_channel  in_channel  \\\n",
      "177816    177816  features_8      3          238         216   \n",
      "177980    177980  features_8      3          238         380   \n",
      "177813    177813  features_8      3          238         213   \n",
      "177923    177923  features_8      3          238         323   \n",
      "177632    177632  features_8      3          238          32   \n",
      "177744    177744  features_8      3          238         144   \n",
      "177759    177759  features_8      3          238         159   \n",
      "177936    177936  features_8      3          238         336   \n",
      "177753    177753  features_8      3          238         153   \n",
      "177724    177724  features_8      3          238         124   \n",
      "177890    177890  features_8      3          238         290   \n",
      "177818    177818  features_8      3          238         218   \n",
      "177619    177619  features_8      3          238          19   \n",
      "177639    177639  features_8      3          238          39   \n",
      "177965    177965  features_8      3          238         365   \n",
      "177755    177755  features_8      3          238         155   \n",
      "177675    177675  features_8      3          238          75   \n",
      "177776    177776  features_8      3          238         176   \n",
      "177738    177738  features_8      3          238         138   \n",
      "177809    177809  features_8      3          238         209   \n",
      "\n",
      "        act_prenorm_rank  grad_prenorm_rank  actxgrad_prenorm_rank  \\\n",
      "177816          0.462032           0.000013           8.514685e-06   \n",
      "177980          0.422428           0.000013           5.142843e-06   \n",
      "177813          0.383910           0.000013           8.009112e-06   \n",
      "177923          0.375583           0.000013           6.784650e-07   \n",
      "177632          0.330889           0.000013           5.011093e-06   \n",
      "177744          0.284285           0.000013           2.148945e-06   \n",
      "177759          0.278241           0.000013           7.694845e-06   \n",
      "177936          0.237386           0.000013           5.004087e-06   \n",
      "177753          0.236375           0.000013           8.134697e-07   \n",
      "177724          0.234635           0.000013           3.051244e-06   \n",
      "177890          0.216080           0.000013           4.477621e-06   \n",
      "177818          0.205251           0.000013           4.050265e-06   \n",
      "177619          0.204886           0.000013           9.731484e-07   \n",
      "177639          0.201838           0.000013           2.875559e-06   \n",
      "177965          0.201080           0.000013           2.915753e-06   \n",
      "177755          0.192591           0.000013           2.244004e-06   \n",
      "177675          0.190978           0.000013           2.411960e-06   \n",
      "177776          0.190199           0.000013           3.493038e-06   \n",
      "177738          0.189292           0.000013           3.399298e-06   \n",
      "177809          0.188486           0.000013           2.619488e-06   \n",
      "\n",
      "        act_norm_rank  grad_norm_rank  actxgrad_norm_rank  \n",
      "177816       0.014109        0.006556            0.040782  \n",
      "177980       0.012900        0.006556            0.024632  \n",
      "177813       0.011724        0.006556            0.038360  \n",
      "177923       0.011469        0.006556            0.003250  \n",
      "177632       0.010105        0.006556            0.024001  \n",
      "177744       0.008681        0.006556            0.010293  \n",
      "177759       0.008497        0.006556            0.036855  \n",
      "177936       0.007249        0.006556            0.023968  \n",
      "177753       0.007218        0.006556            0.003896  \n",
      "177724       0.007165        0.006556            0.014614  \n",
      "177890       0.006599        0.006556            0.021446  \n",
      "177818       0.006268        0.006556            0.019399  \n",
      "177619       0.006257        0.006556            0.004661  \n",
      "177639       0.006164        0.006556            0.013773  \n",
      "177965       0.006140        0.006556            0.013965  \n",
      "177755       0.005881        0.006556            0.010748  \n",
      "177675       0.005832        0.006556            0.011552  \n",
      "177776       0.005808        0.006556            0.016730  \n",
      "177738       0.005780        0.006556            0.016281  \n",
      "177809       0.005756        0.006556            0.012546  \n"
     ]
    },
    {
     "name": "stderr",
     "output_type": "stream",
     "text": [
      "127.0.0.1 - - [11/Dec/2020 20:52:30] \"\u001b[37mPOST /_dash-update-component HTTP/1.1\u001b[0m\" 200 -\n",
      "127.0.0.1 - - [11/Dec/2020 20:52:38] \"\u001b[37mPOST /_dash-update-component HTTP/1.1\u001b[0m\" 200 -\n",
      "127.0.0.1 - - [11/Dec/2020 20:52:38] \"\u001b[37mPOST /_dash-update-component HTTP/1.1\u001b[0m\" 200 -\n",
      "127.0.0.1 - - [11/Dec/2020 20:52:38] \"\u001b[37mPOST /_dash-update-component HTTP/1.1\u001b[0m\" 200 -\n",
      "127.0.0.1 - - [11/Dec/2020 20:52:40] \"\u001b[37mPOST /_dash-update-component HTTP/1.1\u001b[0m\" 200 -\n",
      "127.0.0.1 - - [11/Dec/2020 20:52:41] \"\u001b[37mPOST /_dash-update-component HTTP/1.1\u001b[0m\" 200 -\n",
      "127.0.0.1 - - [11/Dec/2020 20:52:43] \"\u001b[37mPOST /_dash-update-component HTTP/1.1\u001b[0m\" 200 -\n",
      "127.0.0.1 - - [11/Dec/2020 20:52:43] \"\u001b[37mPOST /_dash-update-component HTTP/1.1\u001b[0m\" 200 -\n",
      "127.0.0.1 - - [11/Dec/2020 20:53:40] \"\u001b[37mPOST /_dash-update-component HTTP/1.1\u001b[0m\" 200 -\n"
     ]
    },
    {
     "name": "stdout",
     "output_type": "stream",
     "text": [
      "CALLED: update_inputimg_actmap\n",
      "Updating cached activations with deepviz_37-186_features_3_preadd_conv:7226_1607737701.3432825.jpg\n"
     ]
    },
    {
     "name": "stderr",
     "output_type": "stream",
     "text": [
      "127.0.0.1 - - [11/Dec/2020 20:53:46] \"\u001b[37mPOST /_dash-update-component HTTP/1.1\u001b[0m\" 200 -\n",
      "127.0.0.1 - - [11/Dec/2020 20:53:46] \"\u001b[37mPOST /_dash-update-component HTTP/1.1\u001b[0m\" 200 -\n"
     ]
    },
    {
     "name": "stdout",
     "output_type": "stream",
     "text": [
      "CALLED: update_node_actmap\n",
      "CALLED: update_node_inputs\n",
      "CALLED: update_edge_inmapCALLED: update_edge_outmap\n",
      "\n"
     ]
    },
    {
     "name": "stderr",
     "output_type": "stream",
     "text": [
      "127.0.0.1 - - [11/Dec/2020 20:53:47] \"\u001b[37mPOST /_dash-update-component HTTP/1.1\u001b[0m\" 200 -\n",
      "127.0.0.1 - - [11/Dec/2020 20:53:48] \"\u001b[37mPOST /_dash-update-component HTTP/1.1\u001b[0m\" 200 -\n",
      "127.0.0.1 - - [11/Dec/2020 20:53:48] \"\u001b[37mPOST /_dash-update-component HTTP/1.1\u001b[0m\" 200 -\n",
      "127.0.0.1 - - [11/Dec/2020 20:53:48] \"\u001b[37mPOST /_dash-update-component HTTP/1.1\u001b[0m\" 200 -\n"
     ]
    },
    {
     "name": "stdout",
     "output_type": "stream",
     "text": [
      "        edge_num  layer_name  layer  out_channel  in_channel  \\\n",
      "177816    177816  features_8      3          238         216   \n",
      "177980    177980  features_8      3          238         380   \n",
      "177813    177813  features_8      3          238         213   \n",
      "177923    177923  features_8      3          238         323   \n",
      "177632    177632  features_8      3          238          32   \n",
      "177744    177744  features_8      3          238         144   \n",
      "177759    177759  features_8      3          238         159   \n",
      "177936    177936  features_8      3          238         336   \n",
      "177753    177753  features_8      3          238         153   \n",
      "177724    177724  features_8      3          238         124   \n",
      "177890    177890  features_8      3          238         290   \n",
      "177818    177818  features_8      3          238         218   \n",
      "177619    177619  features_8      3          238          19   \n",
      "177639    177639  features_8      3          238          39   \n",
      "177965    177965  features_8      3          238         365   \n",
      "177755    177755  features_8      3          238         155   \n",
      "177675    177675  features_8      3          238          75   \n",
      "177776    177776  features_8      3          238         176   \n",
      "177738    177738  features_8      3          238         138   \n",
      "177809    177809  features_8      3          238         209   \n",
      "\n",
      "        act_prenorm_rank  grad_prenorm_rank  actxgrad_prenorm_rank  \\\n",
      "177816          0.462032           0.000013           8.514685e-06   \n",
      "177980          0.422428           0.000013           5.142843e-06   \n",
      "177813          0.383910           0.000013           8.009112e-06   \n",
      "177923          0.375583           0.000013           6.784650e-07   \n",
      "177632          0.330889           0.000013           5.011093e-06   \n",
      "177744          0.284285           0.000013           2.148945e-06   \n",
      "177759          0.278241           0.000013           7.694845e-06   \n",
      "177936          0.237386           0.000013           5.004087e-06   \n",
      "177753          0.236375           0.000013           8.134697e-07   \n",
      "177724          0.234635           0.000013           3.051244e-06   \n",
      "177890          0.216080           0.000013           4.477621e-06   \n",
      "177818          0.205251           0.000013           4.050265e-06   \n",
      "177619          0.204886           0.000013           9.731484e-07   \n",
      "177639          0.201838           0.000013           2.875559e-06   \n",
      "177965          0.201080           0.000013           2.915753e-06   \n",
      "177755          0.192591           0.000013           2.244004e-06   \n",
      "177675          0.190978           0.000013           2.411960e-06   \n",
      "177776          0.190199           0.000013           3.493038e-06   \n",
      "177738          0.189292           0.000013           3.399298e-06   \n",
      "177809          0.188486           0.000013           2.619488e-06   \n",
      "\n",
      "        act_norm_rank  grad_norm_rank  actxgrad_norm_rank  \n",
      "177816       0.014109        0.006556            0.040782  \n",
      "177980       0.012900        0.006556            0.024632  \n",
      "177813       0.011724        0.006556            0.038360  \n",
      "177923       0.011469        0.006556            0.003250  \n",
      "177632       0.010105        0.006556            0.024001  \n",
      "177744       0.008681        0.006556            0.010293  \n",
      "177759       0.008497        0.006556            0.036855  \n",
      "177936       0.007249        0.006556            0.023968  \n",
      "177753       0.007218        0.006556            0.003896  \n",
      "177724       0.007165        0.006556            0.014614  \n",
      "177890       0.006599        0.006556            0.021446  \n",
      "177818       0.006268        0.006556            0.019399  \n",
      "177619       0.006257        0.006556            0.004661  \n",
      "177639       0.006164        0.006556            0.013773  \n",
      "177965       0.006140        0.006556            0.013965  \n",
      "177755       0.005881        0.006556            0.010748  \n",
      "177675       0.005832        0.006556            0.011552  \n",
      "177776       0.005808        0.006556            0.016730  \n",
      "177738       0.005780        0.006556            0.016281  \n",
      "177809       0.005756        0.006556            0.012546  \n"
     ]
    },
    {
     "name": "stderr",
     "output_type": "stream",
     "text": [
      "127.0.0.1 - - [11/Dec/2020 20:53:56] \"\u001b[37mPOST /_dash-update-component HTTP/1.1\u001b[0m\" 200 -\n",
      "127.0.0.1 - - [11/Dec/2020 20:54:44] \"\u001b[37mPOST /_dash-update-component HTTP/1.1\u001b[0m\" 200 -\n",
      "127.0.0.1 - - [11/Dec/2020 20:54:58] \"\u001b[37mPOST /_dash-update-component HTTP/1.1\u001b[0m\" 200 -\n",
      "127.0.0.1 - - [11/Dec/2020 20:54:59] \"\u001b[37mPOST /_dash-update-component HTTP/1.1\u001b[0m\" 200 -\n",
      "127.0.0.1 - - [11/Dec/2020 20:55:00] \"\u001b[37mPOST /_dash-update-component HTTP/1.1\u001b[0m\" 200 -\n",
      "127.0.0.1 - - [11/Dec/2020 20:55:00] \"\u001b[37mPOST /_dash-update-component HTTP/1.1\u001b[0m\" 200 -\n",
      "127.0.0.1 - - [11/Dec/2020 20:55:00] \"\u001b[37mPOST /_dash-update-component HTTP/1.1\u001b[0m\" 200 -\n",
      "127.0.0.1 - - [11/Dec/2020 20:55:00] \"\u001b[37mPOST /_dash-update-component HTTP/1.1\u001b[0m\" 200 -\n",
      "127.0.0.1 - - [11/Dec/2020 20:55:03] \"\u001b[37mPOST /_dash-update-component HTTP/1.1\u001b[0m\" 200 -\n",
      "127.0.0.1 - - [11/Dec/2020 20:55:03] \"\u001b[37mPOST /_dash-update-component HTTP/1.1\u001b[0m\" 200 -\n",
      "127.0.0.1 - - [11/Dec/2020 20:55:03] \"\u001b[37mPOST /_dash-update-component HTTP/1.1\u001b[0m\" 200 -\n",
      "127.0.0.1 - - [11/Dec/2020 20:55:03] \"\u001b[37mPOST /_dash-update-component HTTP/1.1\u001b[0m\" 200 -\n",
      "127.0.0.1 - - [11/Dec/2020 20:55:04] \"\u001b[37mPOST /_dash-update-component HTTP/1.1\u001b[0m\" 200 -\n",
      "127.0.0.1 - - [11/Dec/2020 20:55:04] \"\u001b[37mPOST /_dash-update-component HTTP/1.1\u001b[0m\" 200 -\n",
      "127.0.0.1 - - [11/Dec/2020 20:55:04] \"\u001b[37mPOST /_dash-update-component HTTP/1.1\u001b[0m\" 200 -\n",
      "127.0.0.1 - - [11/Dec/2020 20:55:05] \"\u001b[37mPOST /_dash-update-component HTTP/1.1\u001b[0m\" 200 -\n",
      "127.0.0.1 - - [11/Dec/2020 20:55:06] \"\u001b[37mPOST /_dash-update-component HTTP/1.1\u001b[0m\" 200 -\n",
      "127.0.0.1 - - [11/Dec/2020 20:55:06] \"\u001b[37mPOST /_dash-update-component HTTP/1.1\u001b[0m\" 200 -\n",
      "127.0.0.1 - - [11/Dec/2020 20:55:07] \"\u001b[37mPOST /_dash-update-component HTTP/1.1\u001b[0m\" 200 -\n",
      "127.0.0.1 - - [11/Dec/2020 20:55:07] \"\u001b[37mPOST /_dash-update-component HTTP/1.1\u001b[0m\" 200 -\n",
      "127.0.0.1 - - [11/Dec/2020 20:55:08] \"\u001b[37mPOST /_dash-update-component HTTP/1.1\u001b[0m\" 200 -\n",
      "127.0.0.1 - - [11/Dec/2020 20:55:09] \"\u001b[37mPOST /_dash-update-component HTTP/1.1\u001b[0m\" 200 -\n",
      "127.0.0.1 - - [11/Dec/2020 20:55:09] \"\u001b[37mPOST /_dash-update-component HTTP/1.1\u001b[0m\" 200 -\n",
      "127.0.0.1 - - [11/Dec/2020 20:55:09] \"\u001b[37mPOST /_dash-update-component HTTP/1.1\u001b[0m\" 200 -\n",
      "127.0.0.1 - - [11/Dec/2020 20:55:10] \"\u001b[37mPOST /_dash-update-component HTTP/1.1\u001b[0m\" 200 -\n",
      "127.0.0.1 - - [11/Dec/2020 20:55:10] \"\u001b[37mPOST /_dash-update-component HTTP/1.1\u001b[0m\" 200 -\n",
      "127.0.0.1 - - [11/Dec/2020 20:55:10] \"\u001b[37mPOST /_dash-update-component HTTP/1.1\u001b[0m\" 200 -\n",
      "127.0.0.1 - - [11/Dec/2020 20:55:10] \"\u001b[37mPOST /_dash-update-component HTTP/1.1\u001b[0m\" 200 -\n"
     ]
    },
    {
     "name": "stdout",
     "output_type": "stream",
     "text": [
      "update ranksdf_store triggered\n",
      "Updating cached rank dfs with breakwater\n"
     ]
    },
    {
     "name": "stderr",
     "output_type": "stream",
     "text": [
      "127.0.0.1 - - [11/Dec/2020 20:56:09] \"\u001b[37mPOST /_dash-update-component HTTP/1.1\u001b[0m\" 200 -\n",
      "127.0.0.1 - - [11/Dec/2020 20:56:10] \"\u001b[37mPOST /_dash-update-component HTTP/1.1\u001b[0m\" 200 -\n"
     ]
    },
    {
     "name": "stdout",
     "output_type": "stream",
     "text": [
      "CALLED: update_node_inputs\n",
      "CALLED: update_store\n",
      "\n",
      "TRIGGER target-signal.children\n",
      "changing target category to breakwater\n",
      "        node_num   layer_name  layer  node_num_by_layer  act_prenorm_rank  \\\n",
      "256896         0   features_0      0                  0          0.141904   \n",
      "256897         1   features_0      0                  1          0.166600   \n",
      "256898         2   features_0      0                  2          0.247146   \n",
      "256899         3   features_0      0                  3          0.511405   \n",
      "256900         4   features_0      0                  4          0.273395   \n",
      "...          ...          ...    ...                ...               ...   \n",
      "258043      1147  features_10      4                251          0.200355   \n",
      "258044      1148  features_10      4                252          0.797891   \n",
      "258045      1149  features_10      4                253          0.315793   \n",
      "258046      1150  features_10      4                254          0.087591   \n",
      "258047      1151  features_10      4                255          0.144910   \n",
      "\n",
      "        grad_prenorm_rank  actxgrad_prenorm_rank  act_norm_rank  \\\n",
      "256896           0.000008           2.638254e-06       0.033837   \n",
      "256897           0.000007          -9.508850e-07       0.039726   \n",
      "256898           0.000022          -2.216551e-06       0.058933   \n",
      "256899           0.000018           1.105527e-06       0.121946   \n",
      "256900           0.000021           6.459009e-07       0.065192   \n",
      "...                   ...                    ...            ...   \n",
      "258043           0.000008           8.365349e-07       0.039928   \n",
      "258044           0.000017          -6.932834e-06       0.159008   \n",
      "258045           0.000019          -3.301976e-05       0.062933   \n",
      "258046           0.000004           3.095572e-06       0.017456   \n",
      "258047           0.000006           1.391990e-05       0.028878   \n",
      "\n",
      "        grad_norm_rank  actxgrad_norm_rank    category  \n",
      "256896        0.056704            0.114643  breakwater  \n",
      "256897        0.048427            0.041320  breakwater  \n",
      "256898        0.155682            0.096318  breakwater  \n",
      "256899        0.129557            0.048040  breakwater  \n",
      "256900        0.149257            0.028067  breakwater  \n",
      "...                ...                 ...         ...  \n",
      "258043        0.054090            0.003927  breakwater  \n",
      "258044        0.111306            0.032542  breakwater  \n",
      "258045        0.121018            0.154991  breakwater  \n",
      "258046        0.026575            0.014530  breakwater  \n",
      "258047        0.040991            0.065339  breakwater  \n",
      "\n",
      "[1152 rows x 11 columns]\n"
     ]
    },
    {
     "name": "stderr",
     "output_type": "stream",
     "text": [
      "127.0.0.1 - - [11/Dec/2020 20:56:11] \"\u001b[37mPOST /_dash-update-component HTTP/1.1\u001b[0m\" 200 -\n",
      "127.0.0.1 - - [11/Dec/2020 20:56:12] \"\u001b[37mPOST /_dash-update-component HTTP/1.1\u001b[0m\" 200 -\n"
     ]
    },
    {
     "name": "stdout",
     "output_type": "stream",
     "text": [
      "        edge_num  layer_name  layer  out_channel  in_channel  \\\n",
      "177753    177753  features_8      3          238         153   \n",
      "177672    177672  features_8      3          238          72   \n",
      "177664    177664  features_8      3          238          64   \n",
      "177606    177606  features_8      3          238           6   \n",
      "177954    177954  features_8      3          238         354   \n",
      "177718    177718  features_8      3          238         118   \n",
      "177887    177887  features_8      3          238         287   \n",
      "177642    177642  features_8      3          238          42   \n",
      "177960    177960  features_8      3          238         360   \n",
      "177980    177980  features_8      3          238         380   \n",
      "177774    177774  features_8      3          238         174   \n",
      "177886    177886  features_8      3          238         286   \n",
      "177792    177792  features_8      3          238         192   \n",
      "177641    177641  features_8      3          238          41   \n",
      "177833    177833  features_8      3          238         233   \n",
      "177865    177865  features_8      3          238         265   \n",
      "177738    177738  features_8      3          238         138   \n",
      "177747    177747  features_8      3          238         147   \n",
      "177724    177724  features_8      3          238         124   \n",
      "177671    177671  features_8      3          238          71   \n",
      "\n",
      "        act_prenorm_rank  grad_prenorm_rank  actxgrad_prenorm_rank  \\\n",
      "177753          1.001334           0.000008           2.748277e-06   \n",
      "177672          0.551102           0.000008           2.637309e-06   \n",
      "177664          0.322093           0.000008           1.591578e-06   \n",
      "177606          0.310340           0.000008           1.345992e-06   \n",
      "177954          0.280388           0.000008           3.346279e-07   \n",
      "177718          0.257507           0.000008           9.440165e-07   \n",
      "177887          0.248090           0.000008           1.761346e-06   \n",
      "177642          0.236295           0.000008           1.557570e-06   \n",
      "177960          0.209124           0.000008           1.916369e-06   \n",
      "177980          0.204674           0.000008           2.762878e-06   \n",
      "177774          0.203602           0.000008           2.626146e-06   \n",
      "177886          0.189821           0.000008           8.681681e-07   \n",
      "177792          0.189789           0.000008           3.818055e-07   \n",
      "177641          0.183133           0.000008           1.645819e-06   \n",
      "177833          0.177966           0.000008           1.692432e-06   \n",
      "177865          0.170230           0.000008           7.506312e-07   \n",
      "177738          0.169036           0.000008           1.326250e-06   \n",
      "177747          0.161894           0.000008           1.607558e-06   \n",
      "177724          0.161713           0.000008           1.011603e-06   \n",
      "177671          0.160983           0.000008           6.291103e-07   \n",
      "\n",
      "        act_norm_rank  grad_norm_rank  actxgrad_norm_rank  \n",
      "177753       0.034296        0.001863            0.006964  \n",
      "177672       0.018875        0.001863            0.006683  \n",
      "177664       0.011032        0.001863            0.004033  \n",
      "177606       0.010629        0.001863            0.003411  \n",
      "177954       0.009603        0.001863            0.000848  \n",
      "177718       0.008820        0.001863            0.002392  \n",
      "177887       0.008497        0.001863            0.004463  \n",
      "177642       0.008093        0.001863            0.003947  \n",
      "177960       0.007162        0.001863            0.004856  \n",
      "177980       0.007010        0.001863            0.007001  \n",
      "177774       0.006973        0.001863            0.006655  \n",
      "177886       0.006501        0.001863            0.002200  \n",
      "177792       0.006500        0.001863            0.000968  \n",
      "177641       0.006272        0.001863            0.004171  \n",
      "177833       0.006095        0.001863            0.004289  \n",
      "177865       0.005830        0.001863            0.001902  \n",
      "177738       0.005789        0.001863            0.003361  \n",
      "177747       0.005545        0.001863            0.004074  \n",
      "177724       0.005539        0.001863            0.002564  \n",
      "177671       0.005514        0.001863            0.001594  \n"
     ]
    },
    {
     "name": "stderr",
     "output_type": "stream",
     "text": [
      "127.0.0.1 - - [11/Dec/2020 20:56:12] \"\u001b[37mPOST /_dash-update-component HTTP/1.1\u001b[0m\" 200 -\n",
      "127.0.0.1 - - [11/Dec/2020 20:56:13] \"\u001b[37mPOST /_dash-update-component HTTP/1.1\u001b[0m\" 200 -\n"
     ]
    },
    {
     "name": "stdout",
     "output_type": "stream",
     "text": [
      "CALLED: update_figure\n",
      "\n",
      "[0.1, 1]\n",
      "['r-2', '37-186']\n",
      "['0', '686', '874', '787', '874', '8', '878']\n",
      "building graph from browser \"state\"\n"
     ]
    },
    {
     "name": "stderr",
     "output_type": "stream",
     "text": [
      "127.0.0.1 - - [11/Dec/2020 20:56:15] \"\u001b[37mPOST /_dash-update-component HTTP/1.1\u001b[0m\" 200 -\n",
      "127.0.0.1 - - [11/Dec/2020 20:56:16] \"\u001b[37mPOST /_dash-update-component HTTP/1.1\u001b[0m\" 200 -\n",
      "127.0.0.1 - - [11/Dec/2020 20:56:16] \"\u001b[37mPOST /_dash-update-component HTTP/1.1\u001b[0m\" 200 -\n",
      "127.0.0.1 - - [11/Dec/2020 20:56:18] \"\u001b[37mPOST /_dash-update-component HTTP/1.1\u001b[0m\" 200 -\n",
      "127.0.0.1 - - [11/Dec/2020 20:56:18] \"\u001b[37mPOST /_dash-update-component HTTP/1.1\u001b[0m\" 200 -\n",
      "127.0.0.1 - - [11/Dec/2020 20:56:18] \"\u001b[37mPOST /_dash-update-component HTTP/1.1\u001b[0m\" 200 -\n",
      "127.0.0.1 - - [11/Dec/2020 20:56:18] \"\u001b[37mPOST /_dash-update-component HTTP/1.1\u001b[0m\" 200 -\n",
      "127.0.0.1 - - [11/Dec/2020 20:56:18] \"\u001b[37mPOST /_dash-update-component HTTP/1.1\u001b[0m\" 200 -\n",
      "127.0.0.1 - - [11/Dec/2020 20:56:19] \"\u001b[37mPOST /_dash-update-component HTTP/1.1\u001b[0m\" 200 -\n",
      "127.0.0.1 - - [11/Dec/2020 20:56:19] \"\u001b[37mPOST /_dash-update-component HTTP/1.1\u001b[0m\" 200 -\n",
      "127.0.0.1 - - [11/Dec/2020 20:56:20] \"\u001b[37mPOST /_dash-update-component HTTP/1.1\u001b[0m\" 200 -\n",
      "127.0.0.1 - - [11/Dec/2020 20:56:20] \"\u001b[37mPOST /_dash-update-component HTTP/1.1\u001b[0m\" 200 -\n",
      "127.0.0.1 - - [11/Dec/2020 20:56:20] \"\u001b[37mPOST /_dash-update-component HTTP/1.1\u001b[0m\" 200 -\n"
     ]
    },
    {
     "name": "stdout",
     "output_type": "stream",
     "text": [
      "CALLED: switch_node_actmap_click\n",
      "CALLED: switch_edge_actmaps_click\n"
     ]
    },
    {
     "name": "stderr",
     "output_type": "stream",
     "text": [
      "127.0.0.1 - - [11/Dec/2020 20:56:20] \"\u001b[37mPOST /_dash-update-component HTTP/1.1\u001b[0m\" 200 -\n"
     ]
    },
    {
     "name": "stdout",
     "output_type": "stream",
     "text": [
      "CALLED: update_node_deepvizCALLED: update_node_actmap\n",
      "\n",
      "CALLED: update_node_inputsfound pre-generated image\n",
      "\n"
     ]
    },
    {
     "name": "stderr",
     "output_type": "stream",
     "text": [
      "127.0.0.1 - - [11/Dec/2020 20:56:21] \"\u001b[37mPOST /_dash-update-component HTTP/1.1\u001b[0m\" 200 -\n",
      "127.0.0.1 - - [11/Dec/2020 20:56:21] \"\u001b[37mPOST /_dash-update-component HTTP/1.1\u001b[0m\" 200 -\n"
     ]
    },
    {
     "name": "stdout",
     "output_type": "stream",
     "text": [
      "CALLED: update_edge_deepviz\n",
      "found pre-generated image\n",
      "CALLED: update_edge_kernelmap\n",
      "CALLED: update_store\n",
      "\n",
      "TRIGGER edge-actmaps-input.value\n",
      "37-186\n",
      "changing selected node to 1058\n",
      "CALLED: update_edge_inmap\n",
      "CALLED: update_edge_outmap\n"
     ]
    },
    {
     "name": "stderr",
     "output_type": "stream",
     "text": [
      "127.0.0.1 - - [11/Dec/2020 20:56:23] \"\u001b[37mPOST /_dash-update-component HTTP/1.1\u001b[0m\" 200 -\n",
      "127.0.0.1 - - [11/Dec/2020 20:56:23] \"\u001b[37mPOST /_dash-update-component HTTP/1.1\u001b[0m\" 200 -\n",
      "127.0.0.1 - - [11/Dec/2020 20:56:23] \"\u001b[37mPOST /_dash-update-component HTTP/1.1\u001b[0m\" 200 -\n",
      "127.0.0.1 - - [11/Dec/2020 20:56:23] \"\u001b[37mPOST /_dash-update-component HTTP/1.1\u001b[0m\" 200 -\n",
      "127.0.0.1 - - [11/Dec/2020 20:56:23] \"\u001b[37mPOST /_dash-update-component HTTP/1.1\u001b[0m\" 200 -\n",
      "127.0.0.1 - - [11/Dec/2020 20:56:24] \"\u001b[37mPOST /_dash-update-component HTTP/1.1\u001b[0m\" 200 -\n",
      "127.0.0.1 - - [11/Dec/2020 20:56:24] \"\u001b[37mPOST /_dash-update-component HTTP/1.1\u001b[0m\" 200 -\n",
      "127.0.0.1 - - [11/Dec/2020 20:56:24] \"\u001b[37mPOST /_dash-update-component HTTP/1.1\u001b[0m\" 200 -\n",
      "127.0.0.1 - - [11/Dec/2020 20:56:24] \"\u001b[37mPOST /_dash-update-component HTTP/1.1\u001b[0m\" 200 -\n"
     ]
    },
    {
     "name": "stdout",
     "output_type": "stream",
     "text": [
      "        edge_num   layer_name  layer  out_channel  in_channel  \\\n",
      "226234    226234  features_10      4          162         250   \n",
      "226075    226075  features_10      4          162          91   \n",
      "226098    226098  features_10      4          162         114   \n",
      "226212    226212  features_10      4          162         228   \n",
      "226045    226045  features_10      4          162          61   \n",
      "226210    226210  features_10      4          162         226   \n",
      "226038    226038  features_10      4          162          54   \n",
      "226063    226063  features_10      4          162          79   \n",
      "226107    226107  features_10      4          162         123   \n",
      "226214    226214  features_10      4          162         230   \n",
      "226113    226113  features_10      4          162         129   \n",
      "226092    226092  features_10      4          162         108   \n",
      "226178    226178  features_10      4          162         194   \n",
      "226185    226185  features_10      4          162         201   \n",
      "225992    225992  features_10      4          162           8   \n",
      "226216    226216  features_10      4          162         232   \n",
      "226013    226013  features_10      4          162          29   \n",
      "226203    226203  features_10      4          162         219   \n",
      "226219    226219  features_10      4          162         235   \n",
      "226115    226115  features_10      4          162         131   \n",
      "\n",
      "        act_prenorm_rank  grad_prenorm_rank  actxgrad_prenorm_rank  \\\n",
      "226234          1.283619           0.000018               0.000036   \n",
      "226075          0.855888           0.000018               0.000023   \n",
      "226098          0.335377           0.000018               0.000008   \n",
      "226212          0.301118           0.000018               0.000006   \n",
      "226045          0.297819           0.000018               0.000008   \n",
      "226210          0.293267           0.000018               0.000006   \n",
      "226038          0.267209           0.000018               0.000004   \n",
      "226063          0.246369           0.000018               0.000005   \n",
      "226107          0.226749           0.000018               0.000003   \n",
      "226214          0.226442           0.000018               0.000004   \n",
      "226113          0.219278           0.000018               0.000003   \n",
      "226092          0.204775           0.000018               0.000005   \n",
      "226178          0.204178           0.000018               0.000003   \n",
      "226185          0.199271           0.000018               0.000006   \n",
      "225992          0.198041           0.000018               0.000003   \n",
      "226216          0.193133           0.000018               0.000004   \n",
      "226013          0.190814           0.000018               0.000003   \n",
      "226203          0.186076           0.000018               0.000005   \n",
      "226219          0.183168           0.000018               0.000002   \n",
      "226115          0.182072           0.000018               0.000003   \n",
      "\n",
      "        act_norm_rank  grad_norm_rank  actxgrad_norm_rank  \n",
      "226234       0.054894        0.007165            0.149399  \n",
      "226075       0.036602        0.007165            0.094978  \n",
      "226098       0.014342        0.007165            0.033328  \n",
      "226212       0.012877        0.007165            0.022702  \n",
      "226045       0.012736        0.007165            0.032305  \n",
      "226210       0.012542        0.007165            0.025413  \n",
      "226038       0.011427        0.007165            0.015754  \n",
      "226063       0.010536        0.007165            0.020643  \n",
      "226107       0.009697        0.007165            0.011772  \n",
      "226214       0.009684        0.007165            0.014490  \n",
      "226113       0.009377        0.007165            0.012659  \n",
      "226092       0.008757        0.007165            0.018927  \n",
      "226178       0.008732        0.007165            0.011675  \n",
      "226185       0.008522        0.007165            0.022704  \n",
      "225992       0.008469        0.007165            0.013593  \n",
      "226216       0.008259        0.007165            0.017459  \n",
      "226013       0.008160        0.007165            0.010961  \n",
      "226203       0.007958        0.007165            0.022507  \n",
      "226219       0.007833        0.007165            0.006706  \n",
      "226115       0.007786        0.007165            0.013736  \n",
      "CALLED: update_figure\n",
      "\n",
      "[0.1, 1]\n",
      "['r-2', '37-186']\n",
      "['0', '686', '874', '787', '874', '8', '878', '1058']\n",
      "updating edge highlight to 37-186\n",
      "select edge, 37-186,  not recolored as no longer shown\n",
      "previous edge, r-2,  not recolored as no longer shown\n",
      "updating node highlight to 1058\n",
      "3 238 features_8\n"
     ]
    },
    {
     "name": "stderr",
     "output_type": "stream",
     "text": [
      "127.0.0.1 - - [11/Dec/2020 20:56:24] \"\u001b[37mPOST /_dash-update-component HTTP/1.1\u001b[0m\" 200 -\n",
      "127.0.0.1 - - [11/Dec/2020 20:56:24] \"\u001b[37mPOST /_dash-update-component HTTP/1.1\u001b[0m\" 200 -\n",
      "127.0.0.1 - - [11/Dec/2020 20:56:24] \"\u001b[37mPOST /_dash-update-component HTTP/1.1\u001b[0m\" 200 -\n"
     ]
    },
    {
     "name": "stdout",
     "output_type": "stream",
     "text": [
      "CALLED: update_inputimg_dropdown options\n"
     ]
    },
    {
     "name": "stderr",
     "output_type": "stream",
     "text": [
      "127.0.0.1 - - [11/Dec/2020 20:56:25] \"\u001b[37mPOST /_dash-update-component HTTP/1.1\u001b[0m\" 200 -\n",
      "127.0.0.1 - - [11/Dec/2020 20:56:25] \"\u001b[37mPOST /_dash-update-component HTTP/1.1\u001b[0m\" 200 -\n",
      "127.0.0.1 - - [11/Dec/2020 20:56:25] \"\u001b[37mPOST /_dash-update-component HTTP/1.1\u001b[0m\" 200 -\n"
     ]
    },
    {
     "name": "stdout",
     "output_type": "stream",
     "text": [
      "update ranksdf_store triggered\n",
      "Updating cached rank dfs with bullfrog\n"
     ]
    },
    {
     "name": "stderr",
     "output_type": "stream",
     "text": [
      "127.0.0.1 - - [11/Dec/2020 20:57:25] \"\u001b[37mPOST /_dash-update-component HTTP/1.1\u001b[0m\" 200 -\n",
      "127.0.0.1 - - [11/Dec/2020 20:57:26] \"\u001b[37mPOST /_dash-update-component HTTP/1.1\u001b[0m\" 200 -\n"
     ]
    },
    {
     "name": "stdout",
     "output_type": "stream",
     "text": [
      "CALLED: update_node_inputs\n",
      "Updating cached activations with deepviz_37-186_features_3_preadd_conv:7226_1607737701.3432825.jpg\n",
      "CALLED: update_store\n",
      "\n",
      "TRIGGER target-signal.children\n",
      "changing target category to bullfrog\n",
      "        node_num   layer_name  layer  node_num_by_layer  act_prenorm_rank  \\\n",
      "273024         0   features_0      0                  0          0.321595   \n",
      "273025         1   features_0      0                  1          0.444115   \n",
      "273026         2   features_0      0                  2          0.449151   \n",
      "273027         3   features_0      0                  3          0.546847   \n",
      "273028         4   features_0      0                  4          0.546775   \n",
      "...          ...          ...    ...                ...               ...   \n",
      "274171      1147  features_10      4                251          0.316118   \n",
      "274172      1148  features_10      4                252          0.346532   \n",
      "274173      1149  features_10      4                253          0.326111   \n",
      "274174      1150  features_10      4                254          0.203657   \n",
      "274175      1151  features_10      4                255          0.037181   \n",
      "\n",
      "        grad_prenorm_rank  actxgrad_prenorm_rank  act_norm_rank  \\\n",
      "273024           0.000009          -1.279729e-06       0.065435   \n",
      "273025           0.000008          -7.982750e-07       0.090365   \n",
      "273026           0.000017           6.831472e-07       0.091389   \n",
      "273027           0.000015          -7.312252e-07       0.111268   \n",
      "273028           0.000015          -7.073508e-07       0.111253   \n",
      "...                   ...                    ...            ...   \n",
      "274171           0.000013           3.711478e-05       0.052508   \n",
      "274172           0.000007          -7.617215e-06       0.057559   \n",
      "274173           0.000008           6.482636e-06       0.054168   \n",
      "274174           0.000005          -6.834309e-06       0.033828   \n",
      "274175           0.000004           4.233184e-06       0.006176   \n",
      "\n",
      "        grad_norm_rank  actxgrad_norm_rank  category  \n",
      "273024        0.087405            0.064587  bullfrog  \n",
      "273025        0.078541            0.040288  bullfrog  \n",
      "273026        0.159825            0.034478  bullfrog  \n",
      "273027        0.137250            0.036904  bullfrog  \n",
      "273028        0.138895            0.035699  bullfrog  \n",
      "...                ...                 ...       ...  \n",
      "274171        0.124736            0.197292  bullfrog  \n",
      "274172        0.067385            0.040491  bullfrog  \n",
      "274173        0.069866            0.034460  bullfrog  \n",
      "274174        0.047367            0.036329  bullfrog  \n",
      "274175        0.034481            0.022503  bullfrog  \n",
      "\n",
      "[1152 rows x 11 columns]\n"
     ]
    },
    {
     "name": "stderr",
     "output_type": "stream",
     "text": [
      "127.0.0.1 - - [11/Dec/2020 20:57:26] \"\u001b[37mPOST /_dash-update-component HTTP/1.1\u001b[0m\" 200 -\n",
      "127.0.0.1 - - [11/Dec/2020 20:57:28] \"\u001b[37mPOST /_dash-update-component HTTP/1.1\u001b[0m\" 200 -\n",
      "127.0.0.1 - - [11/Dec/2020 20:57:29] \"\u001b[37mPOST /_dash-update-component HTTP/1.1\u001b[0m\" 200 -\n"
     ]
    },
    {
     "name": "stdout",
     "output_type": "stream",
     "text": [
      "CALLED: update_figure\n",
      "\n",
      "[0.1, 1]\n",
      "['r-2', '37-186']\n",
      "['0', '686', '874', '787', '874', '8', '878', '1058']\n",
      "building graph from browser \"state\"\n"
     ]
    },
    {
     "name": "stderr",
     "output_type": "stream",
     "text": [
      "127.0.0.1 - - [11/Dec/2020 20:57:30] \"\u001b[37mPOST /_dash-update-component HTTP/1.1\u001b[0m\" 200 -\n",
      "127.0.0.1 - - [11/Dec/2020 20:57:30] \"\u001b[37mPOST /_dash-update-component HTTP/1.1\u001b[0m\" 200 -\n",
      "127.0.0.1 - - [11/Dec/2020 20:57:30] \"\u001b[37mPOST /_dash-update-component HTTP/1.1\u001b[0m\" 200 -\n",
      "127.0.0.1 - - [11/Dec/2020 20:57:30] \"\u001b[37mPOST /_dash-update-component HTTP/1.1\u001b[0m\" 200 -\n",
      "127.0.0.1 - - [11/Dec/2020 20:57:34] \"\u001b[37mPOST /_dash-update-component HTTP/1.1\u001b[0m\" 200 -\n"
     ]
    },
    {
     "name": "stdout",
     "output_type": "stream",
     "text": [
      "        edge_num   layer_name  layer  out_channel  in_channel  \\\n",
      "226098    226098  features_10      4          162         114   \n",
      "226045    226045  features_10      4          162          61   \n",
      "226063    226063  features_10      4          162          79   \n",
      "226128    226128  features_10      4          162         144   \n",
      "226013    226013  features_10      4          162          29   \n",
      "226234    226234  features_10      4          162         250   \n",
      "226116    226116  features_10      4          162         132   \n",
      "226059    226059  features_10      4          162          75   \n",
      "226030    226030  features_10      4          162          46   \n",
      "226216    226216  features_10      4          162         232   \n",
      "226040    226040  features_10      4          162          56   \n",
      "226038    226038  features_10      4          162          54   \n",
      "226162    226162  features_10      4          162         178   \n",
      "226018    226018  features_10      4          162          34   \n",
      "226198    226198  features_10      4          162         214   \n",
      "226064    226064  features_10      4          162          80   \n",
      "226194    226194  features_10      4          162         210   \n",
      "225992    225992  features_10      4          162           8   \n",
      "226231    226231  features_10      4          162         247   \n",
      "226061    226061  features_10      4          162          77   \n",
      "\n",
      "        act_prenorm_rank  grad_prenorm_rank  actxgrad_prenorm_rank  \\\n",
      "226098          0.370800           0.000002           1.474394e-06   \n",
      "226045          0.348959           0.000002           1.077901e-06   \n",
      "226063          0.305231           0.000002           6.711664e-07   \n",
      "226128          0.302525           0.000002           3.081478e-07   \n",
      "226013          0.290180           0.000002           3.113592e-07   \n",
      "226234          0.279569           0.000002           2.078173e-06   \n",
      "226116          0.275207           0.000002           5.581184e-07   \n",
      "226059          0.271936           0.000002           6.021589e-07   \n",
      "226030          0.262660           0.000002           1.521348e-07   \n",
      "226216          0.258697           0.000002           6.758560e-07   \n",
      "226040          0.247945           0.000002           4.554478e-07   \n",
      "226038          0.245952           0.000002           3.071720e-07   \n",
      "226162          0.242219           0.000002           1.439752e-07   \n",
      "226018          0.227587           0.000002           6.042482e-07   \n",
      "226198          0.224454           0.000002           3.594242e-07   \n",
      "226064          0.208166           0.000002           2.932175e-07   \n",
      "226194          0.200922           0.000002           1.007174e-07   \n",
      "225992          0.198411           0.000002           3.231864e-07   \n",
      "226231          0.181924           0.000002           1.078171e-07   \n",
      "226061          0.177283           0.000002           3.543620e-07   \n",
      "\n",
      "        act_norm_rank  grad_norm_rank  actxgrad_norm_rank  \n",
      "226098       0.014362         0.00124            0.007425  \n",
      "226045       0.013516         0.00124            0.005428  \n",
      "226063       0.011823         0.00124            0.003380  \n",
      "226128       0.011718         0.00124            0.001552  \n",
      "226013       0.011240         0.00124            0.001568  \n",
      "226234       0.010829         0.00124            0.010466  \n",
      "226116       0.010660         0.00124            0.002811  \n",
      "226059       0.010533         0.00124            0.003032  \n",
      "226030       0.010174         0.00124            0.000766  \n",
      "226216       0.010020         0.00124            0.003404  \n",
      "226040       0.009604         0.00124            0.002294  \n",
      "226038       0.009527         0.00124            0.001547  \n",
      "226162       0.009382         0.00124            0.000725  \n",
      "226018       0.008815         0.00124            0.003043  \n",
      "226198       0.008694         0.00124            0.001810  \n",
      "226064       0.008063         0.00124            0.001477  \n",
      "226194       0.007782         0.00124            0.000507  \n",
      "225992       0.007685         0.00124            0.001628  \n",
      "226231       0.007047         0.00124            0.000543  \n",
      "226061       0.006867         0.00124            0.001785  \n"
     ]
    },
    {
     "name": "stderr",
     "output_type": "stream",
     "text": [
      "127.0.0.1 - - [11/Dec/2020 20:57:39] \"\u001b[37mPOST /_dash-update-component HTTP/1.1\u001b[0m\" 200 -\n",
      "127.0.0.1 - - [11/Dec/2020 20:57:39] \"\u001b[37mPOST /_dash-update-component HTTP/1.1\u001b[0m\" 200 -\n",
      "127.0.0.1 - - [11/Dec/2020 20:57:39] \"\u001b[37mPOST /_dash-update-component HTTP/1.1\u001b[0m\" 200 -\n",
      "127.0.0.1 - - [11/Dec/2020 20:57:39] \"\u001b[37mPOST /_dash-update-component HTTP/1.1\u001b[0m\" 200 -\n",
      "127.0.0.1 - - [11/Dec/2020 20:57:39] \"\u001b[37mPOST /_dash-update-component HTTP/1.1\u001b[0m\" 200 -\n",
      "127.0.0.1 - - [11/Dec/2020 20:57:40] \"\u001b[37mPOST /_dash-update-component HTTP/1.1\u001b[0m\" 200 -\n",
      "127.0.0.1 - - [11/Dec/2020 20:57:44] \"\u001b[37mPOST /_dash-update-component HTTP/1.1\u001b[0m\" 200 -\n",
      "127.0.0.1 - - [11/Dec/2020 20:57:44] \"\u001b[37mPOST /_dash-update-component HTTP/1.1\u001b[0m\" 200 -\n",
      "127.0.0.1 - - [11/Dec/2020 20:57:45] \"\u001b[37mPOST /_dash-update-component HTTP/1.1\u001b[0m\" 200 -\n",
      "127.0.0.1 - - [11/Dec/2020 20:57:46] \"\u001b[37mPOST /_dash-update-component HTTP/1.1\u001b[0m\" 200 -\n",
      "127.0.0.1 - - [11/Dec/2020 20:57:47] \"\u001b[37mPOST /_dash-update-component HTTP/1.1\u001b[0m\" 200 -\n",
      "127.0.0.1 - - [11/Dec/2020 20:57:47] \"\u001b[37mPOST /_dash-update-component HTTP/1.1\u001b[0m\" 200 -\n",
      "127.0.0.1 - - [11/Dec/2020 20:57:47] \"\u001b[37mPOST /_dash-update-component HTTP/1.1\u001b[0m\" 200 -\n",
      "127.0.0.1 - - [11/Dec/2020 20:57:49] \"\u001b[37mPOST /_dash-update-component HTTP/1.1\u001b[0m\" 200 -\n",
      "127.0.0.1 - - [11/Dec/2020 20:57:49] \"\u001b[37mPOST /_dash-update-component HTTP/1.1\u001b[0m\" 200 -\n"
     ]
    },
    {
     "name": "stdout",
     "output_type": "stream",
     "text": [
      "CALLED: switch_node_actmap_click\n"
     ]
    },
    {
     "name": "stderr",
     "output_type": "stream",
     "text": [
      "127.0.0.1 - - [11/Dec/2020 20:57:50] \"\u001b[37mPOST /_dash-update-component HTTP/1.1\u001b[0m\" 200 -\n",
      "127.0.0.1 - - [11/Dec/2020 20:57:50] \"\u001b[37mPOST /_dash-update-component HTTP/1.1\u001b[0m\" 200 -\n"
     ]
    },
    {
     "name": "stdout",
     "output_type": "stream",
     "text": [
      "CALLED: switch_edge_actmaps_click\n",
      "CALLED: update_node_deepviz\n",
      "CALLED: update_node_inputs\n",
      "CALLED: update_node_actmap\n",
      "found pre-generated image\n",
      "CALLED: update_edge_deepviz\n",
      "found pre-generated image\n"
     ]
    },
    {
     "name": "stderr",
     "output_type": "stream",
     "text": [
      "127.0.0.1 - - [11/Dec/2020 20:57:50] \"\u001b[37mPOST /_dash-update-component HTTP/1.1\u001b[0m\" 200 -\n",
      "127.0.0.1 - - [11/Dec/2020 20:57:50] \"\u001b[37mPOST /_dash-update-component HTTP/1.1\u001b[0m\" 200 -\n"
     ]
    },
    {
     "name": "stdout",
     "output_type": "stream",
     "text": [
      "CALLED: update_store\n",
      "\n",
      "TRIGGER edge-actmaps-input.value\n",
      "37-186\n",
      "changing selected node to 912\n",
      "CALLED: update_edge_kernelmap\n",
      "CALLED: update_edge_inmap\n",
      "CALLED: update_edge_outmap\n"
     ]
    },
    {
     "name": "stderr",
     "output_type": "stream",
     "text": [
      "127.0.0.1 - - [11/Dec/2020 20:57:52] \"\u001b[37mPOST /_dash-update-component HTTP/1.1\u001b[0m\" 200 -\n",
      "127.0.0.1 - - [11/Dec/2020 20:57:52] \"\u001b[37mPOST /_dash-update-component HTTP/1.1\u001b[0m\" 200 -\n"
     ]
    },
    {
     "name": "stdout",
     "output_type": "stream",
     "text": [
      "CALLED: update_figure\n",
      "\n",
      "[0.1, 1]\n",
      "['r-2', '37-186']\n",
      "['0', '686', '874', '787', '874', '8', '878', '1058', '912']\n",
      "updating edge highlight to 37-186\n",
      "updating node highlight to 912\n",
      "4 162 features_10\n"
     ]
    },
    {
     "name": "stderr",
     "output_type": "stream",
     "text": [
      "127.0.0.1 - - [11/Dec/2020 20:57:52] \"\u001b[37mPOST /_dash-update-component HTTP/1.1\u001b[0m\" 200 -\n",
      "127.0.0.1 - - [11/Dec/2020 20:57:53] \"\u001b[37mPOST /_dash-update-component HTTP/1.1\u001b[0m\" 200 -\n",
      "127.0.0.1 - - [11/Dec/2020 20:57:53] \"\u001b[37mPOST /_dash-update-component HTTP/1.1\u001b[0m\" 200 -\n"
     ]
    },
    {
     "name": "stdout",
     "output_type": "stream",
     "text": [
      "CALLED: update_inputimg_dropdown options\n"
     ]
    },
    {
     "name": "stderr",
     "output_type": "stream",
     "text": [
      "127.0.0.1 - - [11/Dec/2020 20:57:53] \"\u001b[37mPOST /_dash-update-component HTTP/1.1\u001b[0m\" 200 -\n",
      "127.0.0.1 - - [11/Dec/2020 20:57:53] \"\u001b[37mPOST /_dash-update-component HTTP/1.1\u001b[0m\" 200 -\n",
      "127.0.0.1 - - [11/Dec/2020 20:57:53] \"\u001b[37mPOST /_dash-update-component HTTP/1.1\u001b[0m\" 200 -\n",
      "127.0.0.1 - - [11/Dec/2020 20:57:53] \"\u001b[37mPOST /_dash-update-component HTTP/1.1\u001b[0m\" 200 -\n"
     ]
    },
    {
     "name": "stdout",
     "output_type": "stream",
     "text": [
      "        edge_num   layer_name  layer  out_channel  in_channel  \\\n",
      "188726    188726  features_10      4           16         118   \n",
      "188681    188681  features_10      4           16          73   \n",
      "188740    188740  features_10      4           16         132   \n",
      "188755    188755  features_10      4           16         147   \n",
      "188752    188752  features_10      4           16         144   \n",
      "188664    188664  features_10      4           16          56   \n",
      "188749    188749  features_10      4           16         141   \n",
      "188807    188807  features_10      4           16         199   \n",
      "188786    188786  features_10      4           16         178   \n",
      "188685    188685  features_10      4           16          77   \n",
      "188637    188637  features_10      4           16          29   \n",
      "188791    188791  features_10      4           16         183   \n",
      "188708    188708  features_10      4           16         100   \n",
      "188804    188804  features_10      4           16         196   \n",
      "188625    188625  features_10      4           16          17   \n",
      "188835    188835  features_10      4           16         227   \n",
      "188797    188797  features_10      4           16         189   \n",
      "188737    188737  features_10      4           16         129   \n",
      "188765    188765  features_10      4           16         157   \n",
      "188739    188739  features_10      4           16         131   \n",
      "\n",
      "        act_prenorm_rank  grad_prenorm_rank  actxgrad_prenorm_rank  \\\n",
      "188726          0.556571           0.000014           1.188908e-05   \n",
      "188681          0.528015           0.000014           7.968154e-06   \n",
      "188740          0.474712           0.000014           4.705295e-06   \n",
      "188755          0.471444           0.000014           6.756500e-06   \n",
      "188752          0.354574           0.000014           4.074123e-06   \n",
      "188664          0.333987           0.000014           5.531695e-06   \n",
      "188749          0.319212           0.000014           3.401706e-06   \n",
      "188807          0.266899           0.000014           5.614627e-06   \n",
      "188786          0.264540           0.000014           3.626543e-06   \n",
      "188685          0.234285           0.000014           4.428318e-06   \n",
      "188637          0.233069           0.000014           4.291053e-06   \n",
      "188791          0.223150           0.000014           2.527355e-06   \n",
      "188708          0.222850           0.000014           2.214407e-06   \n",
      "188804          0.219455           0.000014           4.654609e-06   \n",
      "188625          0.209246           0.000014           2.436997e-06   \n",
      "188835          0.200591           0.000014           9.409249e-07   \n",
      "188797          0.191003           0.000014           2.724247e-06   \n",
      "188737          0.183860           0.000014           4.057459e-06   \n",
      "188765          0.167646           0.000014           2.915155e-06   \n",
      "188739          0.149589           0.000014           1.122893e-06   \n",
      "\n",
      "        act_norm_rank  grad_norm_rank  actxgrad_norm_rank  \n",
      "188726       0.021558        0.008016            0.059873  \n",
      "188681       0.020452        0.008016            0.040127  \n",
      "188740       0.018387        0.008016            0.023696  \n",
      "188755       0.018261        0.008016            0.034025  \n",
      "188752       0.013734        0.008016            0.020517  \n",
      "188664       0.012936        0.008016            0.027857  \n",
      "188749       0.012364        0.008016            0.017131  \n",
      "188807       0.010338        0.008016            0.028275  \n",
      "188786       0.010246        0.008016            0.018263  \n",
      "188685       0.009075        0.008016            0.022301  \n",
      "188637       0.009028        0.008016            0.021609  \n",
      "188791       0.008643        0.008016            0.012728  \n",
      "188708       0.008632        0.008016            0.011152  \n",
      "188804       0.008500        0.008016            0.023440  \n",
      "188625       0.008105        0.008016            0.012273  \n",
      "188835       0.007770        0.008016            0.004738  \n",
      "188797       0.007398        0.008016            0.013719  \n",
      "188737       0.007122        0.008016            0.020433  \n",
      "188765       0.006493        0.008016            0.014681  \n",
      "188739       0.005794        0.008016            0.005655  \n"
     ]
    },
    {
     "name": "stderr",
     "output_type": "stream",
     "text": [
      "127.0.0.1 - - [11/Dec/2020 20:58:12] \"\u001b[37mPOST /_dash-update-component HTTP/1.1\u001b[0m\" 200 -\n",
      "127.0.0.1 - - [11/Dec/2020 20:58:12] \"\u001b[37mPOST /_dash-update-component HTTP/1.1\u001b[0m\" 200 -\n",
      "127.0.0.1 - - [11/Dec/2020 20:58:12] \"\u001b[37mPOST /_dash-update-component HTTP/1.1\u001b[0m\" 200 -\n",
      "127.0.0.1 - - [11/Dec/2020 20:58:12] \"\u001b[37mPOST /_dash-update-component HTTP/1.1\u001b[0m\" 200 -\n",
      "127.0.0.1 - - [11/Dec/2020 20:58:14] \"\u001b[37mPOST /_dash-update-component HTTP/1.1\u001b[0m\" 200 -\n",
      "127.0.0.1 - - [11/Dec/2020 20:58:14] \"\u001b[37mPOST /_dash-update-component HTTP/1.1\u001b[0m\" 200 -\n",
      "127.0.0.1 - - [11/Dec/2020 20:58:14] \"\u001b[37mPOST /_dash-update-component HTTP/1.1\u001b[0m\" 200 -\n",
      "127.0.0.1 - - [11/Dec/2020 20:58:16] \"\u001b[37mPOST /_dash-update-component HTTP/1.1\u001b[0m\" 200 -\n",
      "127.0.0.1 - - [11/Dec/2020 20:58:16] \"\u001b[37mPOST /_dash-update-component HTTP/1.1\u001b[0m\" 200 -\n"
     ]
    },
    {
     "name": "stdout",
     "output_type": "stream",
     "text": [
      "CALLED: switch_node_actmap_click\n"
     ]
    },
    {
     "name": "stderr",
     "output_type": "stream",
     "text": [
      "127.0.0.1 - - [11/Dec/2020 20:58:17] \"\u001b[37mPOST /_dash-update-component HTTP/1.1\u001b[0m\" 200 -\n",
      "127.0.0.1 - - [11/Dec/2020 20:58:17] \"\u001b[37mPOST /_dash-update-component HTTP/1.1\u001b[0m\" 200 -\n"
     ]
    },
    {
     "name": "stdout",
     "output_type": "stream",
     "text": [
      "CALLED: switch_edge_actmaps_click\n",
      "CALLED: update_node_deepviz\n",
      "CALLED: update_node_actmap\n",
      "CALLED: update_node_inputs\n",
      "found pre-generated image\n",
      "CALLED: update_edge_deepviz\n",
      "found pre-generated image\n",
      "CALLED: update_edge_kernelmap\n",
      "CALLED: update_store\n",
      "\n",
      "TRIGGER edge-actmaps-input.value\n",
      "37-186\n",
      "changing selected node to 1135\n"
     ]
    },
    {
     "name": "stderr",
     "output_type": "stream",
     "text": [
      "127.0.0.1 - - [11/Dec/2020 20:58:18] \"\u001b[37mPOST /_dash-update-component HTTP/1.1\u001b[0m\" 200 -\n",
      "127.0.0.1 - - [11/Dec/2020 20:58:18] \"\u001b[37mPOST /_dash-update-component HTTP/1.1\u001b[0m\" 200 -\n"
     ]
    },
    {
     "name": "stdout",
     "output_type": "stream",
     "text": [
      "CALLED: update_edge_inmap\n",
      "CALLED: update_edge_outmap\n"
     ]
    },
    {
     "name": "stderr",
     "output_type": "stream",
     "text": [
      "127.0.0.1 - - [11/Dec/2020 20:58:19] \"\u001b[37mPOST /_dash-update-component HTTP/1.1\u001b[0m\" 200 -\n",
      "127.0.0.1 - - [11/Dec/2020 20:58:19] \"\u001b[37mPOST /_dash-update-component HTTP/1.1\u001b[0m\" 200 -\n",
      "127.0.0.1 - - [11/Dec/2020 20:58:19] \"\u001b[37mPOST /_dash-update-component HTTP/1.1\u001b[0m\" 200 -\n",
      "127.0.0.1 - - [11/Dec/2020 20:58:19] \"\u001b[37mPOST /_dash-update-component HTTP/1.1\u001b[0m\" 200 -\n"
     ]
    },
    {
     "name": "stdout",
     "output_type": "stream",
     "text": [
      "CALLED: update_figure\n",
      "\n",
      "[0.1, 1]\n",
      "['r-2', '37-186']\n",
      "['0', '686', '874', '787', '874', '8', '878', '1058', '912', '1135']\n",
      "updating edge highlight to 37-186\n",
      "updating node highlight to 1135\n",
      "4 16 features_10\n"
     ]
    },
    {
     "name": "stderr",
     "output_type": "stream",
     "text": [
      "127.0.0.1 - - [11/Dec/2020 20:58:19] \"\u001b[37mPOST /_dash-update-component HTTP/1.1\u001b[0m\" 200 -\n",
      "127.0.0.1 - - [11/Dec/2020 20:58:19] \"\u001b[37mPOST /_dash-update-component HTTP/1.1\u001b[0m\" 200 -\n"
     ]
    },
    {
     "name": "stdout",
     "output_type": "stream",
     "text": [
      "CALLED: update_inputimg_dropdown options\n"
     ]
    },
    {
     "name": "stderr",
     "output_type": "stream",
     "text": [
      "127.0.0.1 - - [11/Dec/2020 20:58:20] \"\u001b[37mPOST /_dash-update-component HTTP/1.1\u001b[0m\" 200 -\n",
      "127.0.0.1 - - [11/Dec/2020 20:58:20] \"\u001b[37mPOST /_dash-update-component HTTP/1.1\u001b[0m\" 200 -\n",
      "127.0.0.1 - - [11/Dec/2020 20:58:20] \"\u001b[37mPOST /_dash-update-component HTTP/1.1\u001b[0m\" 200 -\n",
      "127.0.0.1 - - [11/Dec/2020 20:58:20] \"\u001b[37mPOST /_dash-update-component HTTP/1.1\u001b[0m\" 200 -\n"
     ]
    },
    {
     "name": "stdout",
     "output_type": "stream",
     "text": [
      "        edge_num   layer_name  layer  out_channel  in_channel  \\\n",
      "245843    245843  features_10      4          239         147   \n",
      "245828    245828  features_10      4          239         132   \n",
      "245895    245895  features_10      4          239         199   \n",
      "245928    245928  features_10      4          239         232   \n",
      "245788    245788  features_10      4          239          92   \n",
      "245769    245769  features_10      4          239          73   \n",
      "245874    245874  features_10      4          239         178   \n",
      "245832    245832  features_10      4          239         136   \n",
      "245831    245831  features_10      4          239         135   \n",
      "245906    245906  features_10      4          239         210   \n",
      "245840    245840  features_10      4          239         144   \n",
      "245725    245725  features_10      4          239          29   \n",
      "245773    245773  features_10      4          239          77   \n",
      "245930    245930  features_10      4          239         234   \n",
      "245810    245810  features_10      4          239         114   \n",
      "245942    245942  features_10      4          239         246   \n",
      "245737    245737  features_10      4          239          41   \n",
      "245820    245820  features_10      4          239         124   \n",
      "245870    245870  features_10      4          239         174   \n",
      "245889    245889  features_10      4          239         193   \n",
      "\n",
      "        act_prenorm_rank  grad_prenorm_rank  actxgrad_prenorm_rank  \\\n",
      "245843          0.851922            0.00001               0.000013   \n",
      "245828          0.660367            0.00001               0.000002   \n",
      "245895          0.491759            0.00001               0.000009   \n",
      "245928          0.362999            0.00001               0.000001   \n",
      "245788          0.344586            0.00001               0.000005   \n",
      "245769          0.342395            0.00001               0.000003   \n",
      "245874          0.272136            0.00001               0.000003   \n",
      "245832          0.250710            0.00001               0.000005   \n",
      "245831          0.247574            0.00001               0.000002   \n",
      "245906          0.246496            0.00001               0.000005   \n",
      "245840          0.239489            0.00001               0.000002   \n",
      "245725          0.233521            0.00001               0.000002   \n",
      "245773          0.213277            0.00001               0.000003   \n",
      "245930          0.210905            0.00001               0.000004   \n",
      "245810          0.209781            0.00001               0.000001   \n",
      "245942          0.202275            0.00001               0.000002   \n",
      "245737          0.202173            0.00001               0.000003   \n",
      "245820          0.195565            0.00001               0.000002   \n",
      "245870          0.179377            0.00001               0.000002   \n",
      "245889          0.167593            0.00001               0.000003   \n",
      "\n",
      "        act_norm_rank  grad_norm_rank  actxgrad_norm_rank  \n",
      "245843       0.032998        0.005791            0.064044  \n",
      "245828       0.025578        0.005791            0.008381  \n",
      "245895       0.019047        0.005791            0.045505  \n",
      "245928       0.014060        0.005791            0.005515  \n",
      "245788       0.013347        0.005791            0.026277  \n",
      "245769       0.013262        0.005791            0.016130  \n",
      "245874       0.010541        0.005791            0.015259  \n",
      "245832       0.009711        0.005791            0.022951  \n",
      "245831       0.009589        0.005791            0.007943  \n",
      "245906       0.009548        0.005791            0.023478  \n",
      "245840       0.009276        0.005791            0.011697  \n",
      "245725       0.009045        0.005791            0.008487  \n",
      "245773       0.008261        0.005791            0.015427  \n",
      "245930       0.008169        0.005791            0.021725  \n",
      "245810       0.008125        0.005791            0.005703  \n",
      "245942       0.007835        0.005791            0.009949  \n",
      "245737       0.007831        0.005791            0.016979  \n",
      "245820       0.007575        0.005791            0.008060  \n",
      "245870       0.006948        0.005791            0.011470  \n",
      "245889       0.006491        0.005791            0.013302  \n"
     ]
    },
    {
     "name": "stderr",
     "output_type": "stream",
     "text": [
      "127.0.0.1 - - [11/Dec/2020 20:58:33] \"\u001b[37mPOST /_dash-update-component HTTP/1.1\u001b[0m\" 200 -\n",
      "127.0.0.1 - - [11/Dec/2020 20:58:33] \"\u001b[37mPOST /_dash-update-component HTTP/1.1\u001b[0m\" 200 -\n",
      "127.0.0.1 - - [11/Dec/2020 20:58:36] \"\u001b[37mPOST /_dash-update-component HTTP/1.1\u001b[0m\" 200 -\n",
      "127.0.0.1 - - [11/Dec/2020 20:58:37] \"\u001b[37mPOST /_dash-update-component HTTP/1.1\u001b[0m\" 200 -\n",
      "127.0.0.1 - - [11/Dec/2020 20:58:37] \"\u001b[37mPOST /_dash-update-component HTTP/1.1\u001b[0m\" 200 -\n",
      "127.0.0.1 - - [11/Dec/2020 20:58:40] \"\u001b[37mPOST /_dash-update-component HTTP/1.1\u001b[0m\" 200 -\n",
      "127.0.0.1 - - [11/Dec/2020 20:58:40] \"\u001b[37mPOST /_dash-update-component HTTP/1.1\u001b[0m\" 200 -\n",
      "127.0.0.1 - - [11/Dec/2020 20:58:42] \"\u001b[37mPOST /_dash-update-component HTTP/1.1\u001b[0m\" 200 -\n",
      "127.0.0.1 - - [11/Dec/2020 20:58:43] \"\u001b[37mPOST /_dash-update-component HTTP/1.1\u001b[0m\" 200 -\n",
      "127.0.0.1 - - [11/Dec/2020 20:58:53] \"\u001b[37mPOST /_dash-update-component HTTP/1.1\u001b[0m\" 200 -\n",
      "127.0.0.1 - - [11/Dec/2020 20:58:53] \"\u001b[37mPOST /_dash-update-component HTTP/1.1\u001b[0m\" 200 -\n",
      "127.0.0.1 - - [11/Dec/2020 20:58:58] \"\u001b[37mPOST /_dash-update-component HTTP/1.1\u001b[0m\" 200 -\n",
      "127.0.0.1 - - [11/Dec/2020 20:58:58] \"\u001b[37mPOST /_dash-update-component HTTP/1.1\u001b[0m\" 200 -\n",
      "127.0.0.1 - - [11/Dec/2020 20:59:03] \"\u001b[37mPOST /_dash-update-component HTTP/1.1\u001b[0m\" 200 -\n"
     ]
    },
    {
     "name": "stdout",
     "output_type": "stream",
     "text": [
      "CALLED: update_inputimg_actmap\n",
      "Updating cached activations with deepviz_1135_features_10:239_1607620716.2912247.jpg\n"
     ]
    },
    {
     "name": "stderr",
     "output_type": "stream",
     "text": [
      "127.0.0.1 - - [11/Dec/2020 20:59:10] \"\u001b[37mPOST /_dash-update-component HTTP/1.1\u001b[0m\" 200 -\n"
     ]
    },
    {
     "name": "stdout",
     "output_type": "stream",
     "text": [
      "CALLED: update_node_actmap\n",
      "CALLED: update_node_inputs\n",
      "CALLED: update_edge_inmap\n",
      "CALLED: update_edge_outmap\n"
     ]
    },
    {
     "name": "stderr",
     "output_type": "stream",
     "text": [
      "127.0.0.1 - - [11/Dec/2020 20:59:10] \"\u001b[37mPOST /_dash-update-component HTTP/1.1\u001b[0m\" 200 -\n",
      "127.0.0.1 - - [11/Dec/2020 20:59:11] \"\u001b[37mPOST /_dash-update-component HTTP/1.1\u001b[0m\" 200 -\n",
      "127.0.0.1 - - [11/Dec/2020 20:59:11] \"\u001b[37mPOST /_dash-update-component HTTP/1.1\u001b[0m\" 200 -\n",
      "127.0.0.1 - - [11/Dec/2020 20:59:12] \"\u001b[37mPOST /_dash-update-component HTTP/1.1\u001b[0m\" 200 -\n",
      "127.0.0.1 - - [11/Dec/2020 20:59:12] \"\u001b[37mPOST /_dash-update-component HTTP/1.1\u001b[0m\" 200 -\n"
     ]
    },
    {
     "name": "stdout",
     "output_type": "stream",
     "text": [
      "        edge_num   layer_name  layer  out_channel  in_channel  \\\n",
      "245843    245843  features_10      4          239         147   \n",
      "245828    245828  features_10      4          239         132   \n",
      "245895    245895  features_10      4          239         199   \n",
      "245928    245928  features_10      4          239         232   \n",
      "245788    245788  features_10      4          239          92   \n",
      "245769    245769  features_10      4          239          73   \n",
      "245874    245874  features_10      4          239         178   \n",
      "245832    245832  features_10      4          239         136   \n",
      "245831    245831  features_10      4          239         135   \n",
      "245906    245906  features_10      4          239         210   \n",
      "245840    245840  features_10      4          239         144   \n",
      "245725    245725  features_10      4          239          29   \n",
      "245773    245773  features_10      4          239          77   \n",
      "245930    245930  features_10      4          239         234   \n",
      "245810    245810  features_10      4          239         114   \n",
      "245942    245942  features_10      4          239         246   \n",
      "245737    245737  features_10      4          239          41   \n",
      "245820    245820  features_10      4          239         124   \n",
      "245870    245870  features_10      4          239         174   \n",
      "245889    245889  features_10      4          239         193   \n",
      "\n",
      "        act_prenorm_rank  grad_prenorm_rank  actxgrad_prenorm_rank  \\\n",
      "245843          0.851922            0.00001               0.000013   \n",
      "245828          0.660367            0.00001               0.000002   \n",
      "245895          0.491759            0.00001               0.000009   \n",
      "245928          0.362999            0.00001               0.000001   \n",
      "245788          0.344586            0.00001               0.000005   \n",
      "245769          0.342395            0.00001               0.000003   \n",
      "245874          0.272136            0.00001               0.000003   \n",
      "245832          0.250710            0.00001               0.000005   \n",
      "245831          0.247574            0.00001               0.000002   \n",
      "245906          0.246496            0.00001               0.000005   \n",
      "245840          0.239489            0.00001               0.000002   \n",
      "245725          0.233521            0.00001               0.000002   \n",
      "245773          0.213277            0.00001               0.000003   \n",
      "245930          0.210905            0.00001               0.000004   \n",
      "245810          0.209781            0.00001               0.000001   \n",
      "245942          0.202275            0.00001               0.000002   \n",
      "245737          0.202173            0.00001               0.000003   \n",
      "245820          0.195565            0.00001               0.000002   \n",
      "245870          0.179377            0.00001               0.000002   \n",
      "245889          0.167593            0.00001               0.000003   \n",
      "\n",
      "        act_norm_rank  grad_norm_rank  actxgrad_norm_rank  \n",
      "245843       0.032998        0.005791            0.064044  \n",
      "245828       0.025578        0.005791            0.008381  \n",
      "245895       0.019047        0.005791            0.045505  \n",
      "245928       0.014060        0.005791            0.005515  \n",
      "245788       0.013347        0.005791            0.026277  \n",
      "245769       0.013262        0.005791            0.016130  \n",
      "245874       0.010541        0.005791            0.015259  \n",
      "245832       0.009711        0.005791            0.022951  \n",
      "245831       0.009589        0.005791            0.007943  \n",
      "245906       0.009548        0.005791            0.023478  \n",
      "245840       0.009276        0.005791            0.011697  \n",
      "245725       0.009045        0.005791            0.008487  \n",
      "245773       0.008261        0.005791            0.015427  \n",
      "245930       0.008169        0.005791            0.021725  \n",
      "245810       0.008125        0.005791            0.005703  \n",
      "245942       0.007835        0.005791            0.009949  \n",
      "245737       0.007831        0.005791            0.016979  \n",
      "245820       0.007575        0.005791            0.008060  \n",
      "245870       0.006948        0.005791            0.011470  \n",
      "245889       0.006491        0.005791            0.013302  \n"
     ]
    },
    {
     "name": "stderr",
     "output_type": "stream",
     "text": [
      "127.0.0.1 - - [11/Dec/2020 20:59:13] \"\u001b[37mPOST /_dash-update-component HTTP/1.1\u001b[0m\" 200 -\n",
      "127.0.0.1 - - [11/Dec/2020 21:00:15] \"\u001b[37mPOST /_dash-update-component HTTP/1.1\u001b[0m\" 200 -\n",
      "127.0.0.1 - - [11/Dec/2020 21:00:16] \"\u001b[37mPOST /_dash-update-component HTTP/1.1\u001b[0m\" 200 -\n",
      "127.0.0.1 - - [11/Dec/2020 21:00:16] \"\u001b[37mPOST /_dash-update-component HTTP/1.1\u001b[0m\" 200 -\n",
      "127.0.0.1 - - [11/Dec/2020 21:00:18] \"\u001b[37mPOST /_dash-update-component HTTP/1.1\u001b[0m\" 200 -\n",
      "127.0.0.1 - - [11/Dec/2020 21:00:18] \"\u001b[37mPOST /_dash-update-component HTTP/1.1\u001b[0m\" 200 -\n",
      "127.0.0.1 - - [11/Dec/2020 21:00:18] \"\u001b[37mPOST /_dash-update-component HTTP/1.1\u001b[0m\" 200 -\n",
      "127.0.0.1 - - [11/Dec/2020 21:00:18] \"\u001b[37mPOST /_dash-update-component HTTP/1.1\u001b[0m\" 200 -\n",
      "127.0.0.1 - - [11/Dec/2020 21:00:18] \"\u001b[37mPOST /_dash-update-component HTTP/1.1\u001b[0m\" 200 -\n",
      "127.0.0.1 - - [11/Dec/2020 21:00:19] \"\u001b[37mPOST /_dash-update-component HTTP/1.1\u001b[0m\" 200 -\n",
      "127.0.0.1 - - [11/Dec/2020 21:00:19] \"\u001b[37mPOST /_dash-update-component HTTP/1.1\u001b[0m\" 200 -\n",
      "127.0.0.1 - - [11/Dec/2020 21:00:19] \"\u001b[37mPOST /_dash-update-component HTTP/1.1\u001b[0m\" 200 -\n",
      "127.0.0.1 - - [11/Dec/2020 21:00:19] \"\u001b[37mPOST /_dash-update-component HTTP/1.1\u001b[0m\" 200 -\n",
      "127.0.0.1 - - [11/Dec/2020 21:00:19] \"\u001b[37mPOST /_dash-update-component HTTP/1.1\u001b[0m\" 200 -\n",
      "127.0.0.1 - - [11/Dec/2020 21:00:19] \"\u001b[37mPOST /_dash-update-component HTTP/1.1\u001b[0m\" 200 -\n",
      "127.0.0.1 - - [11/Dec/2020 21:00:19] \"\u001b[37mPOST /_dash-update-component HTTP/1.1\u001b[0m\" 200 -\n",
      "127.0.0.1 - - [11/Dec/2020 21:00:19] \"\u001b[37mPOST /_dash-update-component HTTP/1.1\u001b[0m\" 200 -\n",
      "127.0.0.1 - - [11/Dec/2020 21:00:19] \"\u001b[37mPOST /_dash-update-component HTTP/1.1\u001b[0m\" 200 -\n",
      "127.0.0.1 - - [11/Dec/2020 21:00:19] \"\u001b[37mPOST /_dash-update-component HTTP/1.1\u001b[0m\" 200 -\n",
      "127.0.0.1 - - [11/Dec/2020 21:00:19] \"\u001b[37mPOST /_dash-update-component HTTP/1.1\u001b[0m\" 200 -\n",
      "127.0.0.1 - - [11/Dec/2020 21:00:19] \"\u001b[37mPOST /_dash-update-component HTTP/1.1\u001b[0m\" 200 -\n",
      "127.0.0.1 - - [11/Dec/2020 21:00:20] \"\u001b[37mPOST /_dash-update-component HTTP/1.1\u001b[0m\" 200 -\n",
      "127.0.0.1 - - [11/Dec/2020 21:00:20] \"\u001b[37mPOST /_dash-update-component HTTP/1.1\u001b[0m\" 200 -\n",
      "127.0.0.1 - - [11/Dec/2020 21:01:12] \"\u001b[37mPOST /_dash-update-component HTTP/1.1\u001b[0m\" 200 -\n",
      "127.0.0.1 - - [11/Dec/2020 21:02:09] \"\u001b[37mPOST /_dash-update-component HTTP/1.1\u001b[0m\" 200 -\n",
      "127.0.0.1 - - [11/Dec/2020 21:02:09] \"\u001b[37mPOST /_dash-update-component HTTP/1.1\u001b[0m\" 200 -\n",
      "127.0.0.1 - - [11/Dec/2020 21:02:09] \"\u001b[37mPOST /_dash-update-component HTTP/1.1\u001b[0m\" 200 -\n",
      "127.0.0.1 - - [11/Dec/2020 21:02:09] \"\u001b[37mPOST /_dash-update-component HTTP/1.1\u001b[0m\" 200 -\n",
      "127.0.0.1 - - [11/Dec/2020 21:02:09] \"\u001b[37mPOST /_dash-update-component HTTP/1.1\u001b[0m\" 200 -\n",
      "127.0.0.1 - - [11/Dec/2020 21:02:13] \"\u001b[37mPOST /_dash-update-component HTTP/1.1\u001b[0m\" 200 -\n",
      "127.0.0.1 - - [11/Dec/2020 21:02:14] \"\u001b[37mPOST /_dash-update-component HTTP/1.1\u001b[0m\" 200 -\n",
      "127.0.0.1 - - [11/Dec/2020 21:02:58] \"\u001b[37mPOST /_dash-update-component HTTP/1.1\u001b[0m\" 200 -\n",
      "127.0.0.1 - - [11/Dec/2020 21:02:58] \"\u001b[37mPOST /_dash-update-component HTTP/1.1\u001b[0m\" 200 -\n",
      "127.0.0.1 - - [11/Dec/2020 21:03:45] \"\u001b[37mPOST /_dash-update-component HTTP/1.1\u001b[0m\" 200 -\n",
      "127.0.0.1 - - [11/Dec/2020 21:03:45] \"\u001b[37mPOST /_dash-update-component HTTP/1.1\u001b[0m\" 200 -\n",
      "127.0.0.1 - - [11/Dec/2020 21:03:45] \"\u001b[37mPOST /_dash-update-component HTTP/1.1\u001b[0m\" 200 -\n",
      "127.0.0.1 - - [11/Dec/2020 21:03:45] \"\u001b[37mPOST /_dash-update-component HTTP/1.1\u001b[0m\" 200 -\n",
      "127.0.0.1 - - [11/Dec/2020 21:03:45] \"\u001b[37mPOST /_dash-update-component HTTP/1.1\u001b[0m\" 200 -\n",
      "127.0.0.1 - - [11/Dec/2020 21:03:45] \"\u001b[37mPOST /_dash-update-component HTTP/1.1\u001b[0m\" 200 -\n",
      "127.0.0.1 - - [11/Dec/2020 21:03:45] \"\u001b[37mPOST /_dash-update-component HTTP/1.1\u001b[0m\" 200 -\n",
      "127.0.0.1 - - [11/Dec/2020 21:03:46] \"\u001b[37mPOST /_dash-update-component HTTP/1.1\u001b[0m\" 200 -\n",
      "127.0.0.1 - - [11/Dec/2020 21:03:46] \"\u001b[37mPOST /_dash-update-component HTTP/1.1\u001b[0m\" 200 -\n",
      "127.0.0.1 - - [11/Dec/2020 21:03:46] \"\u001b[37mPOST /_dash-update-component HTTP/1.1\u001b[0m\" 200 -\n",
      "127.0.0.1 - - [11/Dec/2020 21:03:51] \"\u001b[37mPOST /_dash-update-component HTTP/1.1\u001b[0m\" 200 -\n",
      "127.0.0.1 - - [11/Dec/2020 21:04:01] \"\u001b[37mPOST /_dash-update-component HTTP/1.1\u001b[0m\" 200 -\n",
      "127.0.0.1 - - [11/Dec/2020 21:04:01] \"\u001b[37mPOST /_dash-update-component HTTP/1.1\u001b[0m\" 200 -\n",
      "127.0.0.1 - - [11/Dec/2020 21:04:06] \"\u001b[37mPOST /_dash-update-component HTTP/1.1\u001b[0m\" 200 -\n",
      "127.0.0.1 - - [11/Dec/2020 21:04:06] \"\u001b[37mPOST /_dash-update-component HTTP/1.1\u001b[0m\" 200 -\n",
      "127.0.0.1 - - [11/Dec/2020 21:04:07] \"\u001b[37mPOST /_dash-update-component HTTP/1.1\u001b[0m\" 200 -\n",
      "127.0.0.1 - - [11/Dec/2020 21:04:21] \"\u001b[37mPOST /_dash-update-component HTTP/1.1\u001b[0m\" 200 -\n",
      "127.0.0.1 - - [11/Dec/2020 21:04:22] \"\u001b[37mPOST /_dash-update-component HTTP/1.1\u001b[0m\" 200 -\n",
      "127.0.0.1 - - [11/Dec/2020 21:04:53] \"\u001b[37mPOST /_dash-update-component HTTP/1.1\u001b[0m\" 200 -\n",
      "127.0.0.1 - - [11/Dec/2020 21:04:53] \"\u001b[37mPOST /_dash-update-component HTTP/1.1\u001b[0m\" 200 -\n",
      "127.0.0.1 - - [11/Dec/2020 21:04:54] \"\u001b[37mPOST /_dash-update-component HTTP/1.1\u001b[0m\" 200 -\n",
      "127.0.0.1 - - [11/Dec/2020 21:04:54] \"\u001b[37mPOST /_dash-update-component HTTP/1.1\u001b[0m\" 200 -\n",
      "127.0.0.1 - - [11/Dec/2020 21:04:55] \"\u001b[37mPOST /_dash-update-component HTTP/1.1\u001b[0m\" 200 -\n",
      "127.0.0.1 - - [11/Dec/2020 21:04:55] \"\u001b[37mPOST /_dash-update-component HTTP/1.1\u001b[0m\" 200 -\n",
      "127.0.0.1 - - [11/Dec/2020 21:04:55] \"\u001b[37mPOST /_dash-update-component HTTP/1.1\u001b[0m\" 200 -\n",
      "127.0.0.1 - - [11/Dec/2020 21:04:57] \"\u001b[37mPOST /_dash-update-component HTTP/1.1\u001b[0m\" 200 -\n",
      "127.0.0.1 - - [11/Dec/2020 21:04:57] \"\u001b[37mPOST /_dash-update-component HTTP/1.1\u001b[0m\" 200 -\n",
      "127.0.0.1 - - [11/Dec/2020 21:04:57] \"\u001b[37mPOST /_dash-update-component HTTP/1.1\u001b[0m\" 200 -\n",
      "127.0.0.1 - - [11/Dec/2020 21:04:57] \"\u001b[37mPOST /_dash-update-component HTTP/1.1\u001b[0m\" 200 -\n",
      "127.0.0.1 - - [11/Dec/2020 21:04:58] \"\u001b[37mPOST /_dash-update-component HTTP/1.1\u001b[0m\" 200 -\n",
      "127.0.0.1 - - [11/Dec/2020 21:04:59] \"\u001b[37mPOST /_dash-update-component HTTP/1.1\u001b[0m\" 200 -\n",
      "127.0.0.1 - - [11/Dec/2020 21:04:59] \"\u001b[37mPOST /_dash-update-component HTTP/1.1\u001b[0m\" 200 -\n"
     ]
    },
    {
     "name": "stdout",
     "output_type": "stream",
     "text": [
      "CALLED: switch_node_actmap_click\n"
     ]
    },
    {
     "name": "stderr",
     "output_type": "stream",
     "text": [
      "127.0.0.1 - - [11/Dec/2020 21:04:59] \"\u001b[37mPOST /_dash-update-component HTTP/1.1\u001b[0m\" 200 -\n",
      "127.0.0.1 - - [11/Dec/2020 21:04:59] \"\u001b[37mPOST /_dash-update-component HTTP/1.1\u001b[0m\" 200 -\n"
     ]
    },
    {
     "name": "stdout",
     "output_type": "stream",
     "text": [
      "CALLED: switch_edge_actmaps_click\n",
      "CALLED: update_node_deepviz\n",
      "CALLED: update_node_inputs\n",
      "CALLED: update_node_actmap\n",
      "found pre-generated image\n",
      "Updating cached activations with deepviz_1135_features_10:239_1607620716.2912247.jpgCALLED: update_edge_deepviz\n",
      "\n",
      "found pre-generated image\n",
      "Updating cached activations with deepviz_1135_features_10:239_1607620716.2912247.jpg\n"
     ]
    },
    {
     "name": "stderr",
     "output_type": "stream",
     "text": [
      "127.0.0.1 - - [11/Dec/2020 21:05:00] \"\u001b[37mPOST /_dash-update-component HTTP/1.1\u001b[0m\" 200 -\n",
      "127.0.0.1 - - [11/Dec/2020 21:05:00] \"\u001b[37mPOST /_dash-update-component HTTP/1.1\u001b[0m\" 200 -\n",
      "127.0.0.1 - - [11/Dec/2020 21:05:00] \"\u001b[37mPOST /_dash-update-component HTTP/1.1\u001b[0m\" 200 -\n"
     ]
    },
    {
     "name": "stdout",
     "output_type": "stream",
     "text": [
      "CALLED: update_store\n",
      "\n",
      "TRIGGER edge-actmaps-input.value\n",
      "g-21\n",
      "changing selected edge to g-21\n",
      "['r-2', '37-186', 'g-21']\n"
     ]
    },
    {
     "name": "stderr",
     "output_type": "stream",
     "text": [
      "127.0.0.1 - - [11/Dec/2020 21:05:01] \"\u001b[37mPOST /_dash-update-component HTTP/1.1\u001b[0m\" 200 -\n"
     ]
    },
    {
     "name": "stdout",
     "output_type": "stream",
     "text": [
      "CALLED: update_edge_kernelmap\n",
      "CALLED: update_edge_inmap\n",
      "CALLED: update_edge_outmap\n",
      "Updating cached activations with deepviz_1135_features_10:239_1607620716.2912247.jpgUpdating cached activations with deepviz_1135_features_10:239_1607620716.2912247.jpg\n",
      "\n"
     ]
    },
    {
     "name": "stderr",
     "output_type": "stream",
     "text": [
      "127.0.0.1 - - [11/Dec/2020 21:05:01] \"\u001b[37mPOST /_dash-update-component HTTP/1.1\u001b[0m\" 200 -\n"
     ]
    },
    {
     "name": "stdout",
     "output_type": "stream",
     "text": [
      "CALLED: update_inputimg_dropdown options\n"
     ]
    },
    {
     "name": "stderr",
     "output_type": "stream",
     "text": [
      "127.0.0.1 - - [11/Dec/2020 21:05:02] \"\u001b[37mPOST /_dash-update-component HTTP/1.1\u001b[0m\" 200 -\n"
     ]
    },
    {
     "name": "stdout",
     "output_type": "stream",
     "text": [
      "CALLED: update_figure\n",
      "\n",
      "[0.1, 1]\n",
      "['r-2', '37-186', 'g-21']\n",
      "['0', '686', '874', '787', '874', '8', '878', '1058', '912', '1135']\n",
      "updating edge highlight to g-21\n",
      "updating node highlight to 1135\n",
      "4 16 features_10\n"
     ]
    },
    {
     "name": "stderr",
     "output_type": "stream",
     "text": [
      "127.0.0.1 - - [11/Dec/2020 21:05:02] \"\u001b[37mPOST /_dash-update-component HTTP/1.1\u001b[0m\" 200 -\n",
      "127.0.0.1 - - [11/Dec/2020 21:05:12] \"\u001b[37mPOST /_dash-update-component HTTP/1.1\u001b[0m\" 200 -\n",
      "127.0.0.1 - - [11/Dec/2020 21:05:12] \"\u001b[37mPOST /_dash-update-component HTTP/1.1\u001b[0m\" 200 -\n",
      "127.0.0.1 - - [11/Dec/2020 21:05:12] \"\u001b[37mPOST /_dash-update-component HTTP/1.1\u001b[0m\" 200 -\n",
      "127.0.0.1 - - [11/Dec/2020 21:05:12] \"\u001b[37mPOST /_dash-update-component HTTP/1.1\u001b[0m\" 200 -\n"
     ]
    },
    {
     "name": "stdout",
     "output_type": "stream",
     "text": [
      "CALLED: switch_node_actmap_click\n"
     ]
    },
    {
     "name": "stderr",
     "output_type": "stream",
     "text": [
      "127.0.0.1 - - [11/Dec/2020 21:05:13] \"\u001b[37mPOST /_dash-update-component HTTP/1.1\u001b[0m\" 200 -\n",
      "127.0.0.1 - - [11/Dec/2020 21:05:13] \"\u001b[37mPOST /_dash-update-component HTTP/1.1\u001b[0m\" 200 -\n"
     ]
    },
    {
     "name": "stdout",
     "output_type": "stream",
     "text": [
      "CALLED: switch_edge_actmaps_click\n"
     ]
    },
    {
     "name": "stderr",
     "output_type": "stream",
     "text": [
      "127.0.0.1 - - [11/Dec/2020 21:05:14] \"\u001b[37mPOST /_dash-update-component HTTP/1.1\u001b[0m\" 200 -\n"
     ]
    },
    {
     "name": "stdout",
     "output_type": "stream",
     "text": [
      "CALLED: update_node_deepviz\n",
      "found pre-generated image\n"
     ]
    },
    {
     "name": "stderr",
     "output_type": "stream",
     "text": [
      "127.0.0.1 - - [11/Dec/2020 21:05:14] \"\u001b[37mPOST /_dash-update-component HTTP/1.1\u001b[0m\" 200 -\n"
     ]
    },
    {
     "name": "stdout",
     "output_type": "stream",
     "text": [
      "CALLED: update_node_actmap\n",
      "Updating cached activations with deepviz_1135_features_10:239_1607620716.2912247.jpg\n",
      "CALLED: update_node_inputs\n",
      "Updating cached activations with deepviz_1135_features_10:239_1607620716.2912247.jpg\n",
      "Updating cached rank dfs with bullfrog\n"
     ]
    },
    {
     "name": "stderr",
     "output_type": "stream",
     "text": [
      "127.0.0.1 - - [11/Dec/2020 21:06:01] \"\u001b[37mPOST /_dash-update-component HTTP/1.1\u001b[0m\" 200 -\n"
     ]
    },
    {
     "name": "stdout",
     "output_type": "stream",
     "text": [
      "        edge_num   layer_name  layer  out_channel  in_channel  \\\n",
      "245843    245843  features_10      4          239         147   \n",
      "245828    245828  features_10      4          239         132   \n",
      "245895    245895  features_10      4          239         199   \n",
      "245928    245928  features_10      4          239         232   \n",
      "245788    245788  features_10      4          239          92   \n",
      "245769    245769  features_10      4          239          73   \n",
      "245874    245874  features_10      4          239         178   \n",
      "245832    245832  features_10      4          239         136   \n",
      "245831    245831  features_10      4          239         135   \n",
      "245906    245906  features_10      4          239         210   \n",
      "245840    245840  features_10      4          239         144   \n",
      "245725    245725  features_10      4          239          29   \n",
      "245773    245773  features_10      4          239          77   \n",
      "245930    245930  features_10      4          239         234   \n",
      "245810    245810  features_10      4          239         114   \n",
      "245942    245942  features_10      4          239         246   \n",
      "245737    245737  features_10      4          239          41   \n",
      "245820    245820  features_10      4          239         124   \n",
      "245870    245870  features_10      4          239         174   \n",
      "245889    245889  features_10      4          239         193   \n",
      "\n",
      "        act_prenorm_rank  grad_prenorm_rank  actxgrad_prenorm_rank  \\\n",
      "245843          0.851922            0.00001               0.000013   \n",
      "245828          0.660367            0.00001               0.000002   \n",
      "245895          0.491759            0.00001               0.000009   \n",
      "245928          0.362999            0.00001               0.000001   \n",
      "245788          0.344586            0.00001               0.000005   \n",
      "245769          0.342395            0.00001               0.000003   \n",
      "245874          0.272136            0.00001               0.000003   \n",
      "245832          0.250710            0.00001               0.000005   \n",
      "245831          0.247574            0.00001               0.000002   \n",
      "245906          0.246496            0.00001               0.000005   \n",
      "245840          0.239489            0.00001               0.000002   \n",
      "245725          0.233521            0.00001               0.000002   \n",
      "245773          0.213277            0.00001               0.000003   \n",
      "245930          0.210905            0.00001               0.000004   \n",
      "245810          0.209781            0.00001               0.000001   \n",
      "245942          0.202275            0.00001               0.000002   \n",
      "245737          0.202173            0.00001               0.000003   \n",
      "245820          0.195565            0.00001               0.000002   \n",
      "245870          0.179377            0.00001               0.000002   \n",
      "245889          0.167593            0.00001               0.000003   \n",
      "\n",
      "        act_norm_rank  grad_norm_rank  actxgrad_norm_rank  \n",
      "245843       0.032998        0.005791            0.064044  \n",
      "245828       0.025578        0.005791            0.008381  \n",
      "245895       0.019047        0.005791            0.045505  \n",
      "245928       0.014060        0.005791            0.005515  \n",
      "245788       0.013347        0.005791            0.026277  \n",
      "245769       0.013262        0.005791            0.016130  \n",
      "245874       0.010541        0.005791            0.015259  \n",
      "245832       0.009711        0.005791            0.022951  \n",
      "245831       0.009589        0.005791            0.007943  \n",
      "245906       0.009548        0.005791            0.023478  \n",
      "245840       0.009276        0.005791            0.011697  \n",
      "245725       0.009045        0.005791            0.008487  \n",
      "245773       0.008261        0.005791            0.015427  \n",
      "245930       0.008169        0.005791            0.021725  \n",
      "245810       0.008125        0.005791            0.005703  \n",
      "245942       0.007835        0.005791            0.009949  \n",
      "245737       0.007831        0.005791            0.016979  \n",
      "245820       0.007575        0.005791            0.008060  \n",
      "245870       0.006948        0.005791            0.011470  \n",
      "245889       0.006491        0.005791            0.013302  \n"
     ]
    },
    {
     "name": "stderr",
     "output_type": "stream",
     "text": [
      "127.0.0.1 - - [11/Dec/2020 21:06:01] \"\u001b[37mPOST /_dash-update-component HTTP/1.1\u001b[0m\" 200 -\n"
     ]
    },
    {
     "name": "stdout",
     "output_type": "stream",
     "text": [
      "CALLED: update_store\n",
      "\n",
      "TRIGGER edge-actmaps-input.value\n",
      "g-37\n",
      "changing selected edge to g-37\n",
      "['r-2', '37-186', 'g-21', 'g-37']\n",
      "CALLED: update_edge_deepviz\n",
      "found pre-generated image\n"
     ]
    },
    {
     "name": "stderr",
     "output_type": "stream",
     "text": [
      "127.0.0.1 - - [11/Dec/2020 21:06:02] \"\u001b[37mPOST /_dash-update-component HTTP/1.1\u001b[0m\" 200 -\n"
     ]
    },
    {
     "name": "stdout",
     "output_type": "stream",
     "text": [
      "CALLED: update_edge_kernelmap\n"
     ]
    },
    {
     "name": "stderr",
     "output_type": "stream",
     "text": [
      "127.0.0.1 - - [11/Dec/2020 21:06:02] \"\u001b[37mPOST /_dash-update-component HTTP/1.1\u001b[0m\" 200 -\n"
     ]
    },
    {
     "name": "stdout",
     "output_type": "stream",
     "text": [
      "CALLED: update_edge_inmap\n"
     ]
    },
    {
     "name": "stderr",
     "output_type": "stream",
     "text": [
      "127.0.0.1 - - [11/Dec/2020 21:06:03] \"\u001b[37mPOST /_dash-update-component HTTP/1.1\u001b[0m\" 200 -\n"
     ]
    },
    {
     "name": "stdout",
     "output_type": "stream",
     "text": [
      "CALLED: update_edge_outmap\n"
     ]
    },
    {
     "name": "stderr",
     "output_type": "stream",
     "text": [
      "127.0.0.1 - - [11/Dec/2020 21:06:03] \"\u001b[37mPOST /_dash-update-component HTTP/1.1\u001b[0m\" 200 -\n",
      "127.0.0.1 - - [11/Dec/2020 21:06:03] \"\u001b[37mPOST /_dash-update-component HTTP/1.1\u001b[0m\" 200 -\n",
      "127.0.0.1 - - [11/Dec/2020 21:06:03] \"\u001b[37mPOST /_dash-update-component HTTP/1.1\u001b[0m\" 200 -\n",
      "127.0.0.1 - - [11/Dec/2020 21:06:03] \"\u001b[37mPOST /_dash-update-component HTTP/1.1\u001b[0m\" 200 -\n",
      "127.0.0.1 - - [11/Dec/2020 21:06:03] \"\u001b[37mPOST /_dash-update-component HTTP/1.1\u001b[0m\" 200 -\n",
      "127.0.0.1 - - [11/Dec/2020 21:06:04] \"\u001b[37mPOST /_dash-update-component HTTP/1.1\u001b[0m\" 200 -\n",
      "127.0.0.1 - - [11/Dec/2020 21:06:04] \"\u001b[37mPOST /_dash-update-component HTTP/1.1\u001b[0m\" 200 -\n",
      "127.0.0.1 - - [11/Dec/2020 21:06:04] \"\u001b[37mPOST /_dash-update-component HTTP/1.1\u001b[0m\" 200 -\n",
      "127.0.0.1 - - [11/Dec/2020 21:06:04] \"\u001b[37mPOST /_dash-update-component HTTP/1.1\u001b[0m\" 200 -\n",
      "127.0.0.1 - - [11/Dec/2020 21:06:04] \"\u001b[37mPOST /_dash-update-component HTTP/1.1\u001b[0m\" 200 -\n",
      "127.0.0.1 - - [11/Dec/2020 21:06:04] \"\u001b[37mPOST /_dash-update-component HTTP/1.1\u001b[0m\" 200 -\n",
      "127.0.0.1 - - [11/Dec/2020 21:06:04] \"\u001b[37mPOST /_dash-update-component HTTP/1.1\u001b[0m\" 200 -\n",
      "127.0.0.1 - - [11/Dec/2020 21:06:04] \"\u001b[37mPOST /_dash-update-component HTTP/1.1\u001b[0m\" 200 -\n",
      "127.0.0.1 - - [11/Dec/2020 21:06:05] \"\u001b[37mPOST /_dash-update-component HTTP/1.1\u001b[0m\" 200 -\n",
      "127.0.0.1 - - [11/Dec/2020 21:06:05] \"\u001b[37mPOST /_dash-update-component HTTP/1.1\u001b[0m\" 200 -\n",
      "127.0.0.1 - - [11/Dec/2020 21:06:05] \"\u001b[37mPOST /_dash-update-component HTTP/1.1\u001b[0m\" 200 -\n",
      "127.0.0.1 - - [11/Dec/2020 21:06:05] \"\u001b[37mPOST /_dash-update-component HTTP/1.1\u001b[0m\" 200 -\n",
      "127.0.0.1 - - [11/Dec/2020 21:06:05] \"\u001b[37mPOST /_dash-update-component HTTP/1.1\u001b[0m\" 200 -\n",
      "127.0.0.1 - - [11/Dec/2020 21:06:05] \"\u001b[37mPOST /_dash-update-component HTTP/1.1\u001b[0m\" 200 -\n",
      "127.0.0.1 - - [11/Dec/2020 21:06:05] \"\u001b[37mPOST /_dash-update-component HTTP/1.1\u001b[0m\" 200 -\n",
      "127.0.0.1 - - [11/Dec/2020 21:06:05] \"\u001b[37mPOST /_dash-update-component HTTP/1.1\u001b[0m\" 200 -\n",
      "127.0.0.1 - - [11/Dec/2020 21:06:05] \"\u001b[37mPOST /_dash-update-component HTTP/1.1\u001b[0m\" 200 -\n",
      "127.0.0.1 - - [11/Dec/2020 21:06:05] \"\u001b[37mPOST /_dash-update-component HTTP/1.1\u001b[0m\" 200 -\n",
      "127.0.0.1 - - [11/Dec/2020 21:06:05] \"\u001b[37mPOST /_dash-update-component HTTP/1.1\u001b[0m\" 200 -\n",
      "127.0.0.1 - - [11/Dec/2020 21:06:05] \"\u001b[37mPOST /_dash-update-component HTTP/1.1\u001b[0m\" 200 -\n",
      "127.0.0.1 - - [11/Dec/2020 21:06:05] \"\u001b[37mPOST /_dash-update-component HTTP/1.1\u001b[0m\" 200 -\n",
      "127.0.0.1 - - [11/Dec/2020 21:06:05] \"\u001b[37mPOST /_dash-update-component HTTP/1.1\u001b[0m\" 200 -\n",
      "127.0.0.1 - - [11/Dec/2020 21:06:05] \"\u001b[37mPOST /_dash-update-component HTTP/1.1\u001b[0m\" 200 -\n",
      "127.0.0.1 - - [11/Dec/2020 21:06:05] \"\u001b[37mPOST /_dash-update-component HTTP/1.1\u001b[0m\" 200 -\n",
      "127.0.0.1 - - [11/Dec/2020 21:06:05] \"\u001b[37mPOST /_dash-update-component HTTP/1.1\u001b[0m\" 200 -\n",
      "127.0.0.1 - - [11/Dec/2020 21:06:06] \"\u001b[37mPOST /_dash-update-component HTTP/1.1\u001b[0m\" 200 -\n",
      "127.0.0.1 - - [11/Dec/2020 21:06:06] \"\u001b[37mPOST /_dash-update-component HTTP/1.1\u001b[0m\" 200 -\n",
      "127.0.0.1 - - [11/Dec/2020 21:06:06] \"\u001b[37mPOST /_dash-update-component HTTP/1.1\u001b[0m\" 200 -\n",
      "127.0.0.1 - - [11/Dec/2020 21:06:06] \"\u001b[37mPOST /_dash-update-component HTTP/1.1\u001b[0m\" 200 -\n",
      "127.0.0.1 - - [11/Dec/2020 21:06:06] \"\u001b[37mPOST /_dash-update-component HTTP/1.1\u001b[0m\" 200 -\n",
      "127.0.0.1 - - [11/Dec/2020 21:06:06] \"\u001b[37mPOST /_dash-update-component HTTP/1.1\u001b[0m\" 200 -\n",
      "127.0.0.1 - - [11/Dec/2020 21:06:06] \"\u001b[37mPOST /_dash-update-component HTTP/1.1\u001b[0m\" 200 -\n",
      "127.0.0.1 - - [11/Dec/2020 21:06:06] \"\u001b[37mPOST /_dash-update-component HTTP/1.1\u001b[0m\" 200 -\n",
      "127.0.0.1 - - [11/Dec/2020 21:06:06] \"\u001b[37mPOST /_dash-update-component HTTP/1.1\u001b[0m\" 200 -\n",
      "127.0.0.1 - - [11/Dec/2020 21:06:06] \"\u001b[37mPOST /_dash-update-component HTTP/1.1\u001b[0m\" 200 -\n",
      "127.0.0.1 - - [11/Dec/2020 21:06:06] \"\u001b[37mPOST /_dash-update-component HTTP/1.1\u001b[0m\" 200 -\n",
      "127.0.0.1 - - [11/Dec/2020 21:06:06] \"\u001b[37mPOST /_dash-update-component HTTP/1.1\u001b[0m\" 200 -\n",
      "127.0.0.1 - - [11/Dec/2020 21:06:07] \"\u001b[37mPOST /_dash-update-component HTTP/1.1\u001b[0m\" 200 -\n",
      "127.0.0.1 - - [11/Dec/2020 21:06:07] \"\u001b[37mPOST /_dash-update-component HTTP/1.1\u001b[0m\" 200 -\n",
      "127.0.0.1 - - [11/Dec/2020 21:06:07] \"\u001b[37mPOST /_dash-update-component HTTP/1.1\u001b[0m\" 200 -\n",
      "127.0.0.1 - - [11/Dec/2020 21:06:07] \"\u001b[37mPOST /_dash-update-component HTTP/1.1\u001b[0m\" 200 -\n",
      "127.0.0.1 - - [11/Dec/2020 21:06:07] \"\u001b[37mPOST /_dash-update-component HTTP/1.1\u001b[0m\" 200 -\n",
      "127.0.0.1 - - [11/Dec/2020 21:06:07] \"\u001b[37mPOST /_dash-update-component HTTP/1.1\u001b[0m\" 200 -\n",
      "127.0.0.1 - - [11/Dec/2020 21:06:07] \"\u001b[37mPOST /_dash-update-component HTTP/1.1\u001b[0m\" 200 -\n",
      "127.0.0.1 - - [11/Dec/2020 21:06:07] \"\u001b[37mPOST /_dash-update-component HTTP/1.1\u001b[0m\" 200 -\n",
      "127.0.0.1 - - [11/Dec/2020 21:06:07] \"\u001b[37mPOST /_dash-update-component HTTP/1.1\u001b[0m\" 200 -\n",
      "127.0.0.1 - - [11/Dec/2020 21:06:08] \"\u001b[37mPOST /_dash-update-component HTTP/1.1\u001b[0m\" 200 -\n",
      "127.0.0.1 - - [11/Dec/2020 21:06:08] \"\u001b[37mPOST /_dash-update-component HTTP/1.1\u001b[0m\" 200 -\n",
      "127.0.0.1 - - [11/Dec/2020 21:06:08] \"\u001b[37mPOST /_dash-update-component HTTP/1.1\u001b[0m\" 200 -\n",
      "127.0.0.1 - - [11/Dec/2020 21:06:08] \"\u001b[37mPOST /_dash-update-component HTTP/1.1\u001b[0m\" 200 -\n",
      "127.0.0.1 - - [11/Dec/2020 21:06:08] \"\u001b[37mPOST /_dash-update-component HTTP/1.1\u001b[0m\" 200 -\n",
      "127.0.0.1 - - [11/Dec/2020 21:06:08] \"\u001b[37mPOST /_dash-update-component HTTP/1.1\u001b[0m\" 200 -\n",
      "127.0.0.1 - - [11/Dec/2020 21:06:08] \"\u001b[37mPOST /_dash-update-component HTTP/1.1\u001b[0m\" 200 -\n",
      "127.0.0.1 - - [11/Dec/2020 21:06:08] \"\u001b[37mPOST /_dash-update-component HTTP/1.1\u001b[0m\" 200 -\n",
      "127.0.0.1 - - [11/Dec/2020 21:06:08] \"\u001b[37mPOST /_dash-update-component HTTP/1.1\u001b[0m\" 200 -\n",
      "127.0.0.1 - - [11/Dec/2020 21:06:08] \"\u001b[37mPOST /_dash-update-component HTTP/1.1\u001b[0m\" 200 -\n",
      "127.0.0.1 - - [11/Dec/2020 21:06:08] \"\u001b[37mPOST /_dash-update-component HTTP/1.1\u001b[0m\" 200 -\n",
      "127.0.0.1 - - [11/Dec/2020 21:06:08] \"\u001b[37mPOST /_dash-update-component HTTP/1.1\u001b[0m\" 200 -\n",
      "127.0.0.1 - - [11/Dec/2020 21:06:08] \"\u001b[37mPOST /_dash-update-component HTTP/1.1\u001b[0m\" 200 -\n",
      "127.0.0.1 - - [11/Dec/2020 21:06:08] \"\u001b[37mPOST /_dash-update-component HTTP/1.1\u001b[0m\" 200 -\n",
      "127.0.0.1 - - [11/Dec/2020 21:06:08] \"\u001b[37mPOST /_dash-update-component HTTP/1.1\u001b[0m\" 200 -\n",
      "127.0.0.1 - - [11/Dec/2020 21:06:08] \"\u001b[37mPOST /_dash-update-component HTTP/1.1\u001b[0m\" 200 -\n",
      "127.0.0.1 - - [11/Dec/2020 21:06:08] \"\u001b[37mPOST /_dash-update-component HTTP/1.1\u001b[0m\" 200 -\n",
      "127.0.0.1 - - [11/Dec/2020 21:06:08] \"\u001b[37mPOST /_dash-update-component HTTP/1.1\u001b[0m\" 200 -\n",
      "127.0.0.1 - - [11/Dec/2020 21:06:08] \"\u001b[37mPOST /_dash-update-component HTTP/1.1\u001b[0m\" 200 -\n",
      "127.0.0.1 - - [11/Dec/2020 21:06:08] \"\u001b[37mPOST /_dash-update-component HTTP/1.1\u001b[0m\" 200 -\n",
      "127.0.0.1 - - [11/Dec/2020 21:06:08] \"\u001b[37mPOST /_dash-update-component HTTP/1.1\u001b[0m\" 200 -\n",
      "127.0.0.1 - - [11/Dec/2020 21:06:08] \"\u001b[37mPOST /_dash-update-component HTTP/1.1\u001b[0m\" 200 -\n",
      "127.0.0.1 - - [11/Dec/2020 21:06:08] \"\u001b[37mPOST /_dash-update-component HTTP/1.1\u001b[0m\" 200 -\n",
      "127.0.0.1 - - [11/Dec/2020 21:06:08] \"\u001b[37mPOST /_dash-update-component HTTP/1.1\u001b[0m\" 200 -\n",
      "127.0.0.1 - - [11/Dec/2020 21:06:08] \"\u001b[37mPOST /_dash-update-component HTTP/1.1\u001b[0m\" 200 -\n",
      "127.0.0.1 - - [11/Dec/2020 21:06:08] \"\u001b[37mPOST /_dash-update-component HTTP/1.1\u001b[0m\" 200 -\n",
      "127.0.0.1 - - [11/Dec/2020 21:06:08] \"\u001b[37mPOST /_dash-update-component HTTP/1.1\u001b[0m\" 200 -\n",
      "127.0.0.1 - - [11/Dec/2020 21:06:08] \"\u001b[37mPOST /_dash-update-component HTTP/1.1\u001b[0m\" 200 -\n",
      "127.0.0.1 - - [11/Dec/2020 21:06:09] \"\u001b[37mPOST /_dash-update-component HTTP/1.1\u001b[0m\" 200 -\n",
      "127.0.0.1 - - [11/Dec/2020 21:06:09] \"\u001b[37mPOST /_dash-update-component HTTP/1.1\u001b[0m\" 200 -\n",
      "127.0.0.1 - - [11/Dec/2020 21:06:09] \"\u001b[37mPOST /_dash-update-component HTTP/1.1\u001b[0m\" 200 -\n",
      "127.0.0.1 - - [11/Dec/2020 21:06:09] \"\u001b[37mPOST /_dash-update-component HTTP/1.1\u001b[0m\" 200 -\n",
      "127.0.0.1 - - [11/Dec/2020 21:06:09] \"\u001b[37mPOST /_dash-update-component HTTP/1.1\u001b[0m\" 200 -\n",
      "127.0.0.1 - - [11/Dec/2020 21:06:09] \"\u001b[37mPOST /_dash-update-component HTTP/1.1\u001b[0m\" 200 -\n",
      "127.0.0.1 - - [11/Dec/2020 21:06:09] \"\u001b[37mPOST /_dash-update-component HTTP/1.1\u001b[0m\" 200 -\n",
      "127.0.0.1 - - [11/Dec/2020 21:06:09] \"\u001b[37mPOST /_dash-update-component HTTP/1.1\u001b[0m\" 200 -\n",
      "127.0.0.1 - - [11/Dec/2020 21:06:09] \"\u001b[37mPOST /_dash-update-component HTTP/1.1\u001b[0m\" 200 -\n",
      "127.0.0.1 - - [11/Dec/2020 21:06:09] \"\u001b[37mPOST /_dash-update-component HTTP/1.1\u001b[0m\" 200 -\n",
      "127.0.0.1 - - [11/Dec/2020 21:06:09] \"\u001b[37mPOST /_dash-update-component HTTP/1.1\u001b[0m\" 200 -\n"
     ]
    },
    {
     "name": "stderr",
     "output_type": "stream",
     "text": [
      "127.0.0.1 - - [11/Dec/2020 21:06:09] \"\u001b[37mPOST /_dash-update-component HTTP/1.1\u001b[0m\" 200 -\n",
      "127.0.0.1 - - [11/Dec/2020 21:06:09] \"\u001b[37mPOST /_dash-update-component HTTP/1.1\u001b[0m\" 200 -\n",
      "127.0.0.1 - - [11/Dec/2020 21:06:09] \"\u001b[37mPOST /_dash-update-component HTTP/1.1\u001b[0m\" 200 -\n",
      "127.0.0.1 - - [11/Dec/2020 21:06:09] \"\u001b[37mPOST /_dash-update-component HTTP/1.1\u001b[0m\" 200 -\n",
      "127.0.0.1 - - [11/Dec/2020 21:06:09] \"\u001b[37mPOST /_dash-update-component HTTP/1.1\u001b[0m\" 200 -\n",
      "127.0.0.1 - - [11/Dec/2020 21:06:09] \"\u001b[37mPOST /_dash-update-component HTTP/1.1\u001b[0m\" 200 -\n",
      "127.0.0.1 - - [11/Dec/2020 21:06:09] \"\u001b[37mPOST /_dash-update-component HTTP/1.1\u001b[0m\" 200 -\n",
      "127.0.0.1 - - [11/Dec/2020 21:06:09] \"\u001b[37mPOST /_dash-update-component HTTP/1.1\u001b[0m\" 200 -\n",
      "127.0.0.1 - - [11/Dec/2020 21:06:10] \"\u001b[37mPOST /_dash-update-component HTTP/1.1\u001b[0m\" 200 -\n",
      "127.0.0.1 - - [11/Dec/2020 21:06:10] \"\u001b[37mPOST /_dash-update-component HTTP/1.1\u001b[0m\" 200 -\n",
      "127.0.0.1 - - [11/Dec/2020 21:06:10] \"\u001b[37mPOST /_dash-update-component HTTP/1.1\u001b[0m\" 200 -\n",
      "127.0.0.1 - - [11/Dec/2020 21:06:10] \"\u001b[37mPOST /_dash-update-component HTTP/1.1\u001b[0m\" 200 -\n",
      "127.0.0.1 - - [11/Dec/2020 21:06:10] \"\u001b[37mPOST /_dash-update-component HTTP/1.1\u001b[0m\" 200 -\n",
      "127.0.0.1 - - [11/Dec/2020 21:06:10] \"\u001b[37mPOST /_dash-update-component HTTP/1.1\u001b[0m\" 200 -\n",
      "127.0.0.1 - - [11/Dec/2020 21:06:10] \"\u001b[37mPOST /_dash-update-component HTTP/1.1\u001b[0m\" 200 -\n",
      "127.0.0.1 - - [11/Dec/2020 21:06:10] \"\u001b[37mPOST /_dash-update-component HTTP/1.1\u001b[0m\" 200 -\n",
      "127.0.0.1 - - [11/Dec/2020 21:06:10] \"\u001b[37mPOST /_dash-update-component HTTP/1.1\u001b[0m\" 200 -\n",
      "127.0.0.1 - - [11/Dec/2020 21:06:11] \"\u001b[37mPOST /_dash-update-component HTTP/1.1\u001b[0m\" 200 -\n",
      "127.0.0.1 - - [11/Dec/2020 21:06:11] \"\u001b[37mPOST /_dash-update-component HTTP/1.1\u001b[0m\" 200 -\n",
      "127.0.0.1 - - [11/Dec/2020 21:06:11] \"\u001b[37mPOST /_dash-update-component HTTP/1.1\u001b[0m\" 200 -\n",
      "127.0.0.1 - - [11/Dec/2020 21:06:11] \"\u001b[37mPOST /_dash-update-component HTTP/1.1\u001b[0m\" 200 -\n"
     ]
    },
    {
     "name": "stdout",
     "output_type": "stream",
     "text": [
      "CALLED: update_figure\n",
      "\n",
      "[0.1, 1]\n",
      "['r-2', '37-186', 'g-21', 'g-37']\n",
      "['0', '686', '874', '787', '874', '8', '878', '1058', '912', '1135']\n",
      "updating edge highlight to g-37\n",
      "updating node highlight to 1135\n",
      "4 16 features_10\n"
     ]
    },
    {
     "name": "stderr",
     "output_type": "stream",
     "text": [
      "127.0.0.1 - - [11/Dec/2020 21:06:12] \"\u001b[37mPOST /_dash-update-component HTTP/1.1\u001b[0m\" 200 -\n",
      "127.0.0.1 - - [11/Dec/2020 21:06:12] \"\u001b[37mPOST /_dash-update-component HTTP/1.1\u001b[0m\" 200 -\n"
     ]
    },
    {
     "name": "stdout",
     "output_type": "stream",
     "text": [
      "CALLED: update_inputimg_dropdown options\n"
     ]
    },
    {
     "name": "stderr",
     "output_type": "stream",
     "text": [
      "127.0.0.1 - - [11/Dec/2020 21:06:14] \"\u001b[37mPOST /_dash-update-component HTTP/1.1\u001b[0m\" 200 -\n"
     ]
    },
    {
     "name": "stdout",
     "output_type": "stream",
     "text": [
      "        edge_num   layer_name  layer  out_channel  in_channel  \\\n",
      "245843    245843  features_10      4          239         147   \n",
      "245828    245828  features_10      4          239         132   \n",
      "245895    245895  features_10      4          239         199   \n",
      "245928    245928  features_10      4          239         232   \n",
      "245788    245788  features_10      4          239          92   \n",
      "245769    245769  features_10      4          239          73   \n",
      "245874    245874  features_10      4          239         178   \n",
      "245832    245832  features_10      4          239         136   \n",
      "245831    245831  features_10      4          239         135   \n",
      "245906    245906  features_10      4          239         210   \n",
      "245840    245840  features_10      4          239         144   \n",
      "245725    245725  features_10      4          239          29   \n",
      "245773    245773  features_10      4          239          77   \n",
      "245930    245930  features_10      4          239         234   \n",
      "245810    245810  features_10      4          239         114   \n",
      "245942    245942  features_10      4          239         246   \n",
      "245737    245737  features_10      4          239          41   \n",
      "245820    245820  features_10      4          239         124   \n",
      "245870    245870  features_10      4          239         174   \n",
      "245889    245889  features_10      4          239         193   \n",
      "\n",
      "        act_prenorm_rank  grad_prenorm_rank  actxgrad_prenorm_rank  \\\n",
      "245843          0.851922            0.00001               0.000013   \n",
      "245828          0.660367            0.00001               0.000002   \n",
      "245895          0.491759            0.00001               0.000009   \n",
      "245928          0.362999            0.00001               0.000001   \n",
      "245788          0.344586            0.00001               0.000005   \n",
      "245769          0.342395            0.00001               0.000003   \n",
      "245874          0.272136            0.00001               0.000003   \n",
      "245832          0.250710            0.00001               0.000005   \n",
      "245831          0.247574            0.00001               0.000002   \n",
      "245906          0.246496            0.00001               0.000005   \n",
      "245840          0.239489            0.00001               0.000002   \n",
      "245725          0.233521            0.00001               0.000002   \n",
      "245773          0.213277            0.00001               0.000003   \n",
      "245930          0.210905            0.00001               0.000004   \n",
      "245810          0.209781            0.00001               0.000001   \n",
      "245942          0.202275            0.00001               0.000002   \n",
      "245737          0.202173            0.00001               0.000003   \n",
      "245820          0.195565            0.00001               0.000002   \n",
      "245870          0.179377            0.00001               0.000002   \n",
      "245889          0.167593            0.00001               0.000003   \n",
      "\n",
      "        act_norm_rank  grad_norm_rank  actxgrad_norm_rank  \n",
      "245843       0.032998        0.005791            0.064044  \n",
      "245828       0.025578        0.005791            0.008381  \n",
      "245895       0.019047        0.005791            0.045505  \n",
      "245928       0.014060        0.005791            0.005515  \n",
      "245788       0.013347        0.005791            0.026277  \n",
      "245769       0.013262        0.005791            0.016130  \n",
      "245874       0.010541        0.005791            0.015259  \n",
      "245832       0.009711        0.005791            0.022951  \n",
      "245831       0.009589        0.005791            0.007943  \n",
      "245906       0.009548        0.005791            0.023478  \n",
      "245840       0.009276        0.005791            0.011697  \n",
      "245725       0.009045        0.005791            0.008487  \n",
      "245773       0.008261        0.005791            0.015427  \n",
      "245930       0.008169        0.005791            0.021725  \n",
      "245810       0.008125        0.005791            0.005703  \n",
      "245942       0.007835        0.005791            0.009949  \n",
      "245737       0.007831        0.005791            0.016979  \n",
      "245820       0.007575        0.005791            0.008060  \n",
      "245870       0.006948        0.005791            0.011470  \n",
      "245889       0.006491        0.005791            0.013302  \n"
     ]
    },
    {
     "name": "stderr",
     "output_type": "stream",
     "text": [
      "127.0.0.1 - - [11/Dec/2020 21:06:15] \"\u001b[37mPOST /_dash-update-component HTTP/1.1\u001b[0m\" 200 -\n"
     ]
    },
    {
     "name": "stdout",
     "output_type": "stream",
     "text": [
      "CALLED: update_inputimg_actmap\n",
      "Updating cached activations with deepviz_g-37_features_0_preadd_conv:101_1607613312.76379.jpg\n"
     ]
    },
    {
     "name": "stderr",
     "output_type": "stream",
     "text": [
      "127.0.0.1 - - [11/Dec/2020 21:06:27] \"\u001b[37mPOST /_dash-update-component HTTP/1.1\u001b[0m\" 200 -\n",
      "127.0.0.1 - - [11/Dec/2020 21:06:34] \"\u001b[37mPOST /_dash-update-component HTTP/1.1\u001b[0m\" 200 -\n"
     ]
    },
    {
     "name": "stdout",
     "output_type": "stream",
     "text": [
      "CALLED: update_node_actmapCALLED: update_node_inputs\n",
      "\n"
     ]
    },
    {
     "name": "stderr",
     "output_type": "stream",
     "text": [
      "127.0.0.1 - - [11/Dec/2020 21:06:34] \"\u001b[37mPOST /_dash-update-component HTTP/1.1\u001b[0m\" 200 -\n"
     ]
    },
    {
     "name": "stdout",
     "output_type": "stream",
     "text": [
      "CALLED: update_edge_outmap\n"
     ]
    },
    {
     "name": "stderr",
     "output_type": "stream",
     "text": [
      "127.0.0.1 - - [11/Dec/2020 21:06:35] \"\u001b[37mPOST /_dash-update-component HTTP/1.1\u001b[0m\" 200 -\n",
      "127.0.0.1 - - [11/Dec/2020 21:06:35] \"\u001b[37mPOST /_dash-update-component HTTP/1.1\u001b[0m\" 200 -\n"
     ]
    },
    {
     "name": "stdout",
     "output_type": "stream",
     "text": [
      "        edge_num   layer_name  layer  out_channel  in_channel  \\\n",
      "245843    245843  features_10      4          239         147   \n",
      "245828    245828  features_10      4          239         132   \n",
      "245895    245895  features_10      4          239         199   \n",
      "245928    245928  features_10      4          239         232   \n",
      "245788    245788  features_10      4          239          92   \n",
      "245769    245769  features_10      4          239          73   \n",
      "245874    245874  features_10      4          239         178   \n",
      "245832    245832  features_10      4          239         136   \n",
      "245831    245831  features_10      4          239         135   \n",
      "245906    245906  features_10      4          239         210   \n",
      "245840    245840  features_10      4          239         144   \n",
      "245725    245725  features_10      4          239          29   \n",
      "245773    245773  features_10      4          239          77   \n",
      "245930    245930  features_10      4          239         234   \n",
      "245810    245810  features_10      4          239         114   \n",
      "245942    245942  features_10      4          239         246   \n",
      "245737    245737  features_10      4          239          41   \n",
      "245820    245820  features_10      4          239         124   \n",
      "245870    245870  features_10      4          239         174   \n",
      "245889    245889  features_10      4          239         193   \n",
      "\n",
      "        act_prenorm_rank  grad_prenorm_rank  actxgrad_prenorm_rank  \\\n",
      "245843          0.851922            0.00001               0.000013   \n",
      "245828          0.660367            0.00001               0.000002   \n",
      "245895          0.491759            0.00001               0.000009   \n",
      "245928          0.362999            0.00001               0.000001   \n",
      "245788          0.344586            0.00001               0.000005   \n",
      "245769          0.342395            0.00001               0.000003   \n",
      "245874          0.272136            0.00001               0.000003   \n",
      "245832          0.250710            0.00001               0.000005   \n",
      "245831          0.247574            0.00001               0.000002   \n",
      "245906          0.246496            0.00001               0.000005   \n",
      "245840          0.239489            0.00001               0.000002   \n",
      "245725          0.233521            0.00001               0.000002   \n",
      "245773          0.213277            0.00001               0.000003   \n",
      "245930          0.210905            0.00001               0.000004   \n",
      "245810          0.209781            0.00001               0.000001   \n",
      "245942          0.202275            0.00001               0.000002   \n",
      "245737          0.202173            0.00001               0.000003   \n",
      "245820          0.195565            0.00001               0.000002   \n",
      "245870          0.179377            0.00001               0.000002   \n",
      "245889          0.167593            0.00001               0.000003   \n",
      "\n",
      "        act_norm_rank  grad_norm_rank  actxgrad_norm_rank  \n",
      "245843       0.032998        0.005791            0.064044  \n",
      "245828       0.025578        0.005791            0.008381  \n",
      "245895       0.019047        0.005791            0.045505  \n",
      "245928       0.014060        0.005791            0.005515  \n",
      "245788       0.013347        0.005791            0.026277  \n",
      "245769       0.013262        0.005791            0.016130  \n",
      "245874       0.010541        0.005791            0.015259  \n",
      "245832       0.009711        0.005791            0.022951  \n",
      "245831       0.009589        0.005791            0.007943  \n",
      "245906       0.009548        0.005791            0.023478  \n",
      "245840       0.009276        0.005791            0.011697  \n",
      "245725       0.009045        0.005791            0.008487  \n",
      "245773       0.008261        0.005791            0.015427  \n",
      "245930       0.008169        0.005791            0.021725  \n",
      "245810       0.008125        0.005791            0.005703  \n",
      "245942       0.007835        0.005791            0.009949  \n",
      "245737       0.007831        0.005791            0.016979  \n",
      "245820       0.007575        0.005791            0.008060  \n",
      "245870       0.006948        0.005791            0.011470  \n",
      "245889       0.006491        0.005791            0.013302  \n",
      "CALLED: update_edge_inmap\n"
     ]
    },
    {
     "name": "stderr",
     "output_type": "stream",
     "text": [
      "127.0.0.1 - - [11/Dec/2020 21:06:36] \"\u001b[37mPOST /_dash-update-component HTTP/1.1\u001b[0m\" 200 -\n",
      "127.0.0.1 - - [11/Dec/2020 21:08:11] \"\u001b[37mPOST /_dash-update-component HTTP/1.1\u001b[0m\" 200 -\n",
      "127.0.0.1 - - [11/Dec/2020 21:08:11] \"\u001b[37mPOST /_dash-update-component HTTP/1.1\u001b[0m\" 200 -\n",
      "127.0.0.1 - - [11/Dec/2020 21:08:11] \"\u001b[37mPOST /_dash-update-component HTTP/1.1\u001b[0m\" 200 -\n",
      "127.0.0.1 - - [11/Dec/2020 21:08:11] \"\u001b[37mPOST /_dash-update-component HTTP/1.1\u001b[0m\" 200 -\n",
      "127.0.0.1 - - [11/Dec/2020 21:08:11] \"\u001b[37mPOST /_dash-update-component HTTP/1.1\u001b[0m\" 200 -\n",
      "127.0.0.1 - - [11/Dec/2020 21:08:11] \"\u001b[37mPOST /_dash-update-component HTTP/1.1\u001b[0m\" 200 -\n",
      "127.0.0.1 - - [11/Dec/2020 21:08:12] \"\u001b[37mPOST /_dash-update-component HTTP/1.1\u001b[0m\" 200 -\n",
      "127.0.0.1 - - [11/Dec/2020 21:08:12] \"\u001b[37mPOST /_dash-update-component HTTP/1.1\u001b[0m\" 200 -\n",
      "127.0.0.1 - - [11/Dec/2020 21:08:12] \"\u001b[37mPOST /_dash-update-component HTTP/1.1\u001b[0m\" 200 -\n",
      "127.0.0.1 - - [11/Dec/2020 21:08:14] \"\u001b[37mPOST /_dash-update-component HTTP/1.1\u001b[0m\" 200 -\n",
      "127.0.0.1 - - [11/Dec/2020 21:08:24] \"\u001b[37mPOST /_dash-update-component HTTP/1.1\u001b[0m\" 200 -\n",
      "127.0.0.1 - - [11/Dec/2020 21:08:24] \"\u001b[37mPOST /_dash-update-component HTTP/1.1\u001b[0m\" 200 -\n",
      "127.0.0.1 - - [11/Dec/2020 21:08:24] \"\u001b[37mPOST /_dash-update-component HTTP/1.1\u001b[0m\" 200 -\n",
      "127.0.0.1 - - [11/Dec/2020 21:08:24] \"\u001b[37mPOST /_dash-update-component HTTP/1.1\u001b[0m\" 200 -\n",
      "127.0.0.1 - - [11/Dec/2020 21:08:25] \"\u001b[37mPOST /_dash-update-component HTTP/1.1\u001b[0m\" 200 -\n",
      "127.0.0.1 - - [11/Dec/2020 21:08:26] \"\u001b[37mPOST /_dash-update-component HTTP/1.1\u001b[0m\" 200 -\n",
      "127.0.0.1 - - [11/Dec/2020 21:08:26] \"\u001b[37mPOST /_dash-update-component HTTP/1.1\u001b[0m\" 200 -\n",
      "127.0.0.1 - - [11/Dec/2020 21:08:27] \"\u001b[37mPOST /_dash-update-component HTTP/1.1\u001b[0m\" 200 -\n",
      "127.0.0.1 - - [11/Dec/2020 21:08:27] \"\u001b[37mPOST /_dash-update-component HTTP/1.1\u001b[0m\" 200 -\n",
      "127.0.0.1 - - [11/Dec/2020 21:08:27] \"\u001b[37mPOST /_dash-update-component HTTP/1.1\u001b[0m\" 200 -\n",
      "127.0.0.1 - - [11/Dec/2020 21:08:28] \"\u001b[37mPOST /_dash-update-component HTTP/1.1\u001b[0m\" 200 -\n",
      "127.0.0.1 - - [11/Dec/2020 21:08:28] \"\u001b[37mPOST /_dash-update-component HTTP/1.1\u001b[0m\" 200 -\n",
      "127.0.0.1 - - [11/Dec/2020 21:08:28] \"\u001b[37mPOST /_dash-update-component HTTP/1.1\u001b[0m\" 200 -\n",
      "127.0.0.1 - - [11/Dec/2020 21:08:30] \"\u001b[37mPOST /_dash-update-component HTTP/1.1\u001b[0m\" 200 -\n",
      "127.0.0.1 - - [11/Dec/2020 21:08:30] \"\u001b[37mPOST /_dash-update-component HTTP/1.1\u001b[0m\" 200 -\n",
      "127.0.0.1 - - [11/Dec/2020 21:08:40] \"\u001b[37mPOST /_dash-update-component HTTP/1.1\u001b[0m\" 200 -\n",
      "127.0.0.1 - - [11/Dec/2020 21:08:49] \"\u001b[37mPOST /_dash-update-component HTTP/1.1\u001b[0m\" 200 -\n",
      "127.0.0.1 - - [11/Dec/2020 21:08:49] \"\u001b[37mPOST /_dash-update-component HTTP/1.1\u001b[0m\" 200 -\n",
      "127.0.0.1 - - [11/Dec/2020 21:08:49] \"\u001b[37mPOST /_dash-update-component HTTP/1.1\u001b[0m\" 200 -\n",
      "127.0.0.1 - - [11/Dec/2020 21:08:49] \"\u001b[37mPOST /_dash-update-component HTTP/1.1\u001b[0m\" 200 -\n",
      "127.0.0.1 - - [11/Dec/2020 21:08:50] \"\u001b[37mPOST /_dash-update-component HTTP/1.1\u001b[0m\" 200 -\n",
      "127.0.0.1 - - [11/Dec/2020 21:08:50] \"\u001b[37mPOST /_dash-update-component HTTP/1.1\u001b[0m\" 200 -\n",
      "127.0.0.1 - - [11/Dec/2020 21:08:50] \"\u001b[37mPOST /_dash-update-component HTTP/1.1\u001b[0m\" 200 -\n",
      "127.0.0.1 - - [11/Dec/2020 21:08:50] \"\u001b[37mPOST /_dash-update-component HTTP/1.1\u001b[0m\" 200 -\n",
      "127.0.0.1 - - [11/Dec/2020 21:08:54] \"\u001b[37mPOST /_dash-update-component HTTP/1.1\u001b[0m\" 200 -\n",
      "127.0.0.1 - - [11/Dec/2020 21:08:54] \"\u001b[37mPOST /_dash-update-component HTTP/1.1\u001b[0m\" 200 -\n",
      "127.0.0.1 - - [11/Dec/2020 21:08:56] \"\u001b[37mPOST /_dash-update-component HTTP/1.1\u001b[0m\" 200 -\n",
      "127.0.0.1 - - [11/Dec/2020 21:08:56] \"\u001b[37mPOST /_dash-update-component HTTP/1.1\u001b[0m\" 200 -\n",
      "127.0.0.1 - - [11/Dec/2020 21:08:56] \"\u001b[37mPOST /_dash-update-component HTTP/1.1\u001b[0m\" 200 -\n",
      "127.0.0.1 - - [11/Dec/2020 21:09:01] \"\u001b[37mPOST /_dash-update-component HTTP/1.1\u001b[0m\" 200 -\n",
      "127.0.0.1 - - [11/Dec/2020 21:09:01] \"\u001b[37mPOST /_dash-update-component HTTP/1.1\u001b[0m\" 200 -\n",
      "127.0.0.1 - - [11/Dec/2020 21:09:01] \"\u001b[37mPOST /_dash-update-component HTTP/1.1\u001b[0m\" 200 -\n",
      "127.0.0.1 - - [11/Dec/2020 21:09:01] \"\u001b[37mPOST /_dash-update-component HTTP/1.1\u001b[0m\" 200 -\n",
      "127.0.0.1 - - [11/Dec/2020 21:09:01] \"\u001b[37mPOST /_dash-update-component HTTP/1.1\u001b[0m\" 200 -\n",
      "127.0.0.1 - - [11/Dec/2020 21:09:01] \"\u001b[37mPOST /_dash-update-component HTTP/1.1\u001b[0m\" 200 -\n",
      "127.0.0.1 - - [11/Dec/2020 21:09:02] \"\u001b[37mPOST /_dash-update-component HTTP/1.1\u001b[0m\" 200 -\n",
      "127.0.0.1 - - [11/Dec/2020 21:09:02] \"\u001b[37mPOST /_dash-update-component HTTP/1.1\u001b[0m\" 200 -\n",
      "127.0.0.1 - - [11/Dec/2020 21:09:02] \"\u001b[37mPOST /_dash-update-component HTTP/1.1\u001b[0m\" 200 -\n",
      "127.0.0.1 - - [11/Dec/2020 21:09:02] \"\u001b[37mPOST /_dash-update-component HTTP/1.1\u001b[0m\" 200 -\n",
      "127.0.0.1 - - [11/Dec/2020 21:09:02] \"\u001b[37mPOST /_dash-update-component HTTP/1.1\u001b[0m\" 200 -\n",
      "127.0.0.1 - - [11/Dec/2020 21:09:02] \"\u001b[37mPOST /_dash-update-component HTTP/1.1\u001b[0m\" 200 -\n",
      "127.0.0.1 - - [11/Dec/2020 21:09:19] \"\u001b[37mPOST /_dash-update-component HTTP/1.1\u001b[0m\" 200 -\n",
      "127.0.0.1 - - [11/Dec/2020 21:09:19] \"\u001b[37mPOST /_dash-update-component HTTP/1.1\u001b[0m\" 200 -\n",
      "127.0.0.1 - - [11/Dec/2020 21:09:19] \"\u001b[37mPOST /_dash-update-component HTTP/1.1\u001b[0m\" 200 -\n",
      "127.0.0.1 - - [11/Dec/2020 21:09:19] \"\u001b[37mPOST /_dash-update-component HTTP/1.1\u001b[0m\" 200 -\n",
      "127.0.0.1 - - [11/Dec/2020 21:09:19] \"\u001b[37mPOST /_dash-update-component HTTP/1.1\u001b[0m\" 200 -\n",
      "127.0.0.1 - - [11/Dec/2020 21:09:19] \"\u001b[37mPOST /_dash-update-component HTTP/1.1\u001b[0m\" 200 -\n",
      "127.0.0.1 - - [11/Dec/2020 21:09:19] \"\u001b[37mPOST /_dash-update-component HTTP/1.1\u001b[0m\" 200 -\n",
      "127.0.0.1 - - [11/Dec/2020 21:09:19] \"\u001b[37mPOST /_dash-update-component HTTP/1.1\u001b[0m\" 200 -\n",
      "127.0.0.1 - - [11/Dec/2020 21:09:20] \"\u001b[37mPOST /_dash-update-component HTTP/1.1\u001b[0m\" 200 -\n",
      "127.0.0.1 - - [11/Dec/2020 21:09:20] \"\u001b[37mPOST /_dash-update-component HTTP/1.1\u001b[0m\" 200 -\n",
      "127.0.0.1 - - [11/Dec/2020 21:09:20] \"\u001b[37mPOST /_dash-update-component HTTP/1.1\u001b[0m\" 200 -\n",
      "127.0.0.1 - - [11/Dec/2020 21:09:20] \"\u001b[37mPOST /_dash-update-component HTTP/1.1\u001b[0m\" 200 -\n",
      "127.0.0.1 - - [11/Dec/2020 21:09:22] \"\u001b[37mPOST /_dash-update-component HTTP/1.1\u001b[0m\" 200 -\n",
      "127.0.0.1 - - [11/Dec/2020 21:09:22] \"\u001b[37mPOST /_dash-update-component HTTP/1.1\u001b[0m\" 200 -\n",
      "127.0.0.1 - - [11/Dec/2020 21:09:23] \"\u001b[37mPOST /_dash-update-component HTTP/1.1\u001b[0m\" 200 -\n",
      "127.0.0.1 - - [11/Dec/2020 21:09:23] \"\u001b[37mPOST /_dash-update-component HTTP/1.1\u001b[0m\" 200 -\n",
      "127.0.0.1 - - [11/Dec/2020 21:09:35] \"\u001b[37mPOST /_dash-update-component HTTP/1.1\u001b[0m\" 200 -\n",
      "127.0.0.1 - - [11/Dec/2020 21:09:36] \"\u001b[37mPOST /_dash-update-component HTTP/1.1\u001b[0m\" 200 -\n",
      "127.0.0.1 - - [11/Dec/2020 21:09:36] \"\u001b[37mPOST /_dash-update-component HTTP/1.1\u001b[0m\" 200 -\n",
      "127.0.0.1 - - [11/Dec/2020 21:09:36] \"\u001b[37mPOST /_dash-update-component HTTP/1.1\u001b[0m\" 200 -\n",
      "127.0.0.1 - - [11/Dec/2020 21:09:36] \"\u001b[37mPOST /_dash-update-component HTTP/1.1\u001b[0m\" 200 -\n",
      "127.0.0.1 - - [11/Dec/2020 21:09:36] \"\u001b[37mPOST /_dash-update-component HTTP/1.1\u001b[0m\" 200 -\n",
      "127.0.0.1 - - [11/Dec/2020 21:09:36] \"\u001b[37mPOST /_dash-update-component HTTP/1.1\u001b[0m\" 200 -\n",
      "127.0.0.1 - - [11/Dec/2020 21:09:36] \"\u001b[37mPOST /_dash-update-component HTTP/1.1\u001b[0m\" 200 -\n",
      "127.0.0.1 - - [11/Dec/2020 21:09:36] \"\u001b[37mPOST /_dash-update-component HTTP/1.1\u001b[0m\" 200 -\n",
      "127.0.0.1 - - [11/Dec/2020 21:09:36] \"\u001b[37mPOST /_dash-update-component HTTP/1.1\u001b[0m\" 200 -\n",
      "127.0.0.1 - - [11/Dec/2020 21:09:36] \"\u001b[37mPOST /_dash-update-component HTTP/1.1\u001b[0m\" 200 -\n",
      "127.0.0.1 - - [11/Dec/2020 21:09:36] \"\u001b[37mPOST /_dash-update-component HTTP/1.1\u001b[0m\" 200 -\n",
      "127.0.0.1 - - [11/Dec/2020 21:09:36] \"\u001b[37mPOST /_dash-update-component HTTP/1.1\u001b[0m\" 200 -\n",
      "127.0.0.1 - - [11/Dec/2020 21:09:37] \"\u001b[37mPOST /_dash-update-component HTTP/1.1\u001b[0m\" 200 -\n",
      "127.0.0.1 - - [11/Dec/2020 21:09:37] \"\u001b[37mPOST /_dash-update-component HTTP/1.1\u001b[0m\" 200 -\n",
      "127.0.0.1 - - [11/Dec/2020 21:09:37] \"\u001b[37mPOST /_dash-update-component HTTP/1.1\u001b[0m\" 200 -\n",
      "127.0.0.1 - - [11/Dec/2020 21:09:41] \"\u001b[37mPOST /_dash-update-component HTTP/1.1\u001b[0m\" 200 -\n",
      "127.0.0.1 - - [11/Dec/2020 21:09:41] \"\u001b[37mPOST /_dash-update-component HTTP/1.1\u001b[0m\" 200 -\n",
      "127.0.0.1 - - [11/Dec/2020 21:09:41] \"\u001b[37mPOST /_dash-update-component HTTP/1.1\u001b[0m\" 200 -\n",
      "127.0.0.1 - - [11/Dec/2020 21:09:42] \"\u001b[37mPOST /_dash-update-component HTTP/1.1\u001b[0m\" 200 -\n",
      "127.0.0.1 - - [11/Dec/2020 21:09:42] \"\u001b[37mPOST /_dash-update-component HTTP/1.1\u001b[0m\" 200 -\n",
      "127.0.0.1 - - [11/Dec/2020 21:09:42] \"\u001b[37mPOST /_dash-update-component HTTP/1.1\u001b[0m\" 200 -\n"
     ]
    },
    {
     "name": "stderr",
     "output_type": "stream",
     "text": [
      "127.0.0.1 - - [11/Dec/2020 21:09:50] \"\u001b[37mPOST /_dash-update-component HTTP/1.1\u001b[0m\" 200 -\n",
      "127.0.0.1 - - [11/Dec/2020 21:09:50] \"\u001b[37mPOST /_dash-update-component HTTP/1.1\u001b[0m\" 200 -\n",
      "127.0.0.1 - - [11/Dec/2020 21:09:50] \"\u001b[37mPOST /_dash-update-component HTTP/1.1\u001b[0m\" 200 -\n",
      "127.0.0.1 - - [11/Dec/2020 21:09:50] \"\u001b[37mPOST /_dash-update-component HTTP/1.1\u001b[0m\" 200 -\n",
      "127.0.0.1 - - [11/Dec/2020 21:09:50] \"\u001b[37mPOST /_dash-update-component HTTP/1.1\u001b[0m\" 200 -\n",
      "127.0.0.1 - - [11/Dec/2020 21:09:51] \"\u001b[37mPOST /_dash-update-component HTTP/1.1\u001b[0m\" 200 -\n",
      "127.0.0.1 - - [11/Dec/2020 21:09:51] \"\u001b[37mPOST /_dash-update-component HTTP/1.1\u001b[0m\" 200 -\n",
      "127.0.0.1 - - [11/Dec/2020 21:09:51] \"\u001b[37mPOST /_dash-update-component HTTP/1.1\u001b[0m\" 200 -\n",
      "127.0.0.1 - - [11/Dec/2020 21:09:51] \"\u001b[37mPOST /_dash-update-component HTTP/1.1\u001b[0m\" 200 -\n",
      "127.0.0.1 - - [11/Dec/2020 21:09:51] \"\u001b[37mPOST /_dash-update-component HTTP/1.1\u001b[0m\" 200 -\n",
      "127.0.0.1 - - [11/Dec/2020 21:09:52] \"\u001b[37mPOST /_dash-update-component HTTP/1.1\u001b[0m\" 200 -\n",
      "127.0.0.1 - - [11/Dec/2020 21:09:52] \"\u001b[37mPOST /_dash-update-component HTTP/1.1\u001b[0m\" 200 -\n",
      "127.0.0.1 - - [11/Dec/2020 21:09:52] \"\u001b[37mPOST /_dash-update-component HTTP/1.1\u001b[0m\" 200 -\n",
      "127.0.0.1 - - [11/Dec/2020 21:09:52] \"\u001b[37mPOST /_dash-update-component HTTP/1.1\u001b[0m\" 200 -\n",
      "127.0.0.1 - - [11/Dec/2020 21:09:52] \"\u001b[37mPOST /_dash-update-component HTTP/1.1\u001b[0m\" 200 -\n",
      "127.0.0.1 - - [11/Dec/2020 21:09:52] \"\u001b[37mPOST /_dash-update-component HTTP/1.1\u001b[0m\" 200 -\n",
      "127.0.0.1 - - [11/Dec/2020 21:09:52] \"\u001b[37mPOST /_dash-update-component HTTP/1.1\u001b[0m\" 200 -\n",
      "127.0.0.1 - - [11/Dec/2020 21:09:53] \"\u001b[37mPOST /_dash-update-component HTTP/1.1\u001b[0m\" 200 -\n",
      "127.0.0.1 - - [11/Dec/2020 21:09:53] \"\u001b[37mPOST /_dash-update-component HTTP/1.1\u001b[0m\" 200 -\n",
      "127.0.0.1 - - [11/Dec/2020 21:09:53] \"\u001b[37mPOST /_dash-update-component HTTP/1.1\u001b[0m\" 200 -\n",
      "127.0.0.1 - - [11/Dec/2020 21:09:54] \"\u001b[37mPOST /_dash-update-component HTTP/1.1\u001b[0m\" 200 -\n",
      "127.0.0.1 - - [11/Dec/2020 21:09:54] \"\u001b[37mPOST /_dash-update-component HTTP/1.1\u001b[0m\" 200 -\n",
      "127.0.0.1 - - [11/Dec/2020 21:09:55] \"\u001b[37mPOST /_dash-update-component HTTP/1.1\u001b[0m\" 200 -\n",
      "127.0.0.1 - - [11/Dec/2020 21:09:55] \"\u001b[37mPOST /_dash-update-component HTTP/1.1\u001b[0m\" 200 -\n",
      "127.0.0.1 - - [11/Dec/2020 21:09:56] \"\u001b[37mPOST /_dash-update-component HTTP/1.1\u001b[0m\" 200 -\n",
      "127.0.0.1 - - [11/Dec/2020 21:09:56] \"\u001b[37mPOST /_dash-update-component HTTP/1.1\u001b[0m\" 200 -\n",
      "127.0.0.1 - - [11/Dec/2020 21:09:56] \"\u001b[37mPOST /_dash-update-component HTTP/1.1\u001b[0m\" 200 -\n",
      "127.0.0.1 - - [11/Dec/2020 21:09:56] \"\u001b[37mPOST /_dash-update-component HTTP/1.1\u001b[0m\" 200 -\n",
      "127.0.0.1 - - [11/Dec/2020 21:09:56] \"\u001b[37mPOST /_dash-update-component HTTP/1.1\u001b[0m\" 200 -\n",
      "127.0.0.1 - - [11/Dec/2020 21:09:56] \"\u001b[37mPOST /_dash-update-component HTTP/1.1\u001b[0m\" 200 -\n",
      "127.0.0.1 - - [11/Dec/2020 21:09:57] \"\u001b[37mPOST /_dash-update-component HTTP/1.1\u001b[0m\" 200 -\n",
      "127.0.0.1 - - [11/Dec/2020 21:09:57] \"\u001b[37mPOST /_dash-update-component HTTP/1.1\u001b[0m\" 200 -\n",
      "127.0.0.1 - - [11/Dec/2020 21:09:57] \"\u001b[37mPOST /_dash-update-component HTTP/1.1\u001b[0m\" 200 -\n",
      "127.0.0.1 - - [11/Dec/2020 21:09:58] \"\u001b[37mPOST /_dash-update-component HTTP/1.1\u001b[0m\" 200 -\n",
      "127.0.0.1 - - [11/Dec/2020 21:09:58] \"\u001b[37mPOST /_dash-update-component HTTP/1.1\u001b[0m\" 200 -\n",
      "127.0.0.1 - - [11/Dec/2020 21:09:58] \"\u001b[37mPOST /_dash-update-component HTTP/1.1\u001b[0m\" 200 -\n",
      "127.0.0.1 - - [11/Dec/2020 21:09:59] \"\u001b[37mPOST /_dash-update-component HTTP/1.1\u001b[0m\" 200 -\n",
      "127.0.0.1 - - [11/Dec/2020 21:09:59] \"\u001b[37mPOST /_dash-update-component HTTP/1.1\u001b[0m\" 200 -\n",
      "127.0.0.1 - - [11/Dec/2020 21:09:59] \"\u001b[37mPOST /_dash-update-component HTTP/1.1\u001b[0m\" 200 -\n",
      "127.0.0.1 - - [11/Dec/2020 21:09:59] \"\u001b[37mPOST /_dash-update-component HTTP/1.1\u001b[0m\" 200 -\n",
      "127.0.0.1 - - [11/Dec/2020 21:09:59] \"\u001b[37mPOST /_dash-update-component HTTP/1.1\u001b[0m\" 200 -\n",
      "127.0.0.1 - - [11/Dec/2020 21:09:59] \"\u001b[37mPOST /_dash-update-component HTTP/1.1\u001b[0m\" 200 -\n",
      "127.0.0.1 - - [11/Dec/2020 21:10:07] \"\u001b[37mPOST /_dash-update-component HTTP/1.1\u001b[0m\" 200 -\n"
     ]
    },
    {
     "name": "stdout",
     "output_type": "stream",
     "text": [
      "CALLED: update_store\n",
      "\n",
      "TRIGGER edge-thresh-slider.value\n",
      "changing edge thresholds to 0.079 - 1\n",
      "found 47 edges\n"
     ]
    },
    {
     "name": "stderr",
     "output_type": "stream",
     "text": [
      "127.0.0.1 - - [11/Dec/2020 21:10:10] \"\u001b[37mPOST /_dash-update-component HTTP/1.1\u001b[0m\" 200 -\n"
     ]
    },
    {
     "name": "stdout",
     "output_type": "stream",
     "text": [
      "CALLED: update_figure\n",
      "\n",
      "[0.1, 1]\n",
      "['r-2', '37-186', 'g-21', 'g-37']\n",
      "['0', '686', '874', '787', '874', '8', '878', '1058', '912', '1135']\n",
      "building graph from browser \"state\"\n"
     ]
    },
    {
     "name": "stderr",
     "output_type": "stream",
     "text": [
      "127.0.0.1 - - [11/Dec/2020 21:10:12] \"\u001b[37mPOST /_dash-update-component HTTP/1.1\u001b[0m\" 200 -\n",
      "127.0.0.1 - - [11/Dec/2020 21:10:20] \"\u001b[37mPOST /_dash-update-component HTTP/1.1\u001b[0m\" 200 -\n",
      "127.0.0.1 - - [11/Dec/2020 21:10:20] \"\u001b[37mPOST /_dash-update-component HTTP/1.1\u001b[0m\" 200 -\n",
      "127.0.0.1 - - [11/Dec/2020 21:10:20] \"\u001b[37mPOST /_dash-update-component HTTP/1.1\u001b[0m\" 200 -\n",
      "127.0.0.1 - - [11/Dec/2020 21:10:20] \"\u001b[37mPOST /_dash-update-component HTTP/1.1\u001b[0m\" 200 -\n",
      "127.0.0.1 - - [11/Dec/2020 21:10:20] \"\u001b[37mPOST /_dash-update-component HTTP/1.1\u001b[0m\" 200 -\n",
      "127.0.0.1 - - [11/Dec/2020 21:10:22] \"\u001b[37mPOST /_dash-update-component HTTP/1.1\u001b[0m\" 200 -\n",
      "127.0.0.1 - - [11/Dec/2020 21:10:22] \"\u001b[37mPOST /_dash-update-component HTTP/1.1\u001b[0m\" 200 -\n"
     ]
    },
    {
     "name": "stdout",
     "output_type": "stream",
     "text": [
      "CALLED: switch_node_actmap_click\n"
     ]
    },
    {
     "name": "stderr",
     "output_type": "stream",
     "text": [
      "127.0.0.1 - - [11/Dec/2020 21:10:22] \"\u001b[37mPOST /_dash-update-component HTTP/1.1\u001b[0m\" 200 -\n"
     ]
    },
    {
     "name": "stdout",
     "output_type": "stream",
     "text": [
      "CALLED: switch_edge_actmaps_click\n",
      "CALLED: update_node_deepviz\n",
      "CALLED: update_node_inputs\n",
      "CALLED: update_node_actmap\n",
      "found pre-generated imageCALLED: update_edge_deepviz\n",
      "\n"
     ]
    },
    {
     "name": "stderr",
     "output_type": "stream",
     "text": [
      "127.0.0.1 - - [11/Dec/2020 21:10:23] \"\u001b[37mPOST /_dash-update-component HTTP/1.1\u001b[0m\" 200 -\n"
     ]
    },
    {
     "name": "stdout",
     "output_type": "stream",
     "text": [
      "deepviz image not found, generating . . .\n",
      "Updating cached activations with deepviz_g-37_features_0_preadd_conv:101_1607613312.76379.jpg\n",
      "CALLED: update_store\n",
      "\n"
     ]
    },
    {
     "name": "stderr",
     "output_type": "stream",
     "text": [
      "  0%|          | 0/512 [00:00<?, ?it/s]127.0.0.1 - - [11/Dec/2020 21:10:23] \"\u001b[37mPOST /_dash-update-component HTTP/1.1\u001b[0m\" 200 -\n",
      "127.0.0.1 - - [11/Dec/2020 21:10:23] \"\u001b[37mPOST /_dash-update-component HTTP/1.1\u001b[0m\" 200 -\n",
      "  1%|          | 3/512 [00:00<00:23, 21.69it/s]"
     ]
    },
    {
     "name": "stdout",
     "output_type": "stream",
     "text": [
      "Updating cached activations with deepviz_g-37_features_0_preadd_conv:101_1607613312.76379.jpgTRIGGER edge-actmaps-input.value\n",
      "\n",
      "r-59\n",
      "changing selected edge to r-59\n",
      "['r-2', '37-186', 'g-21', 'g-37', 'r-59']\n"
     ]
    },
    {
     "name": "stderr",
     "output_type": "stream",
     "text": [
      "\r",
      "  1%|          | 6/512 [00:00<00:22, 22.23it/s]"
     ]
    },
    {
     "name": "stdout",
     "output_type": "stream",
     "text": [
      "Exception on /_dash-update-component [POST]\n",
      "Traceback (most recent call last):\n",
      "  File \"/home/chris/miniconda3/envs/pruning_viz/lib/python3.6/site-packages/flask/app.py\", line 2447, in wsgi_app\n",
      "    response = self.full_dispatch_request()\n",
      "  File \"/home/chris/miniconda3/envs/pruning_viz/lib/python3.6/site-packages/flask/app.py\", line 1952, in full_dispatch_request\n",
      "    rv = self.handle_user_exception(e)\n",
      "  File \"/home/chris/miniconda3/envs/pruning_viz/lib/python3.6/site-packages/flask/app.py\", line 1821, in handle_user_exception\n",
      "    reraise(exc_type, exc_value, tb)\n",
      "  File \"/home/chris/miniconda3/envs/pruning_viz/lib/python3.6/site-packages/flask/_compat.py\", line 39, in reraise\n",
      "    raise value\n",
      "  File \"/home/chris/miniconda3/envs/pruning_viz/lib/python3.6/site-packages/flask/app.py\", line 1950, in full_dispatch_request\n",
      "    rv = self.dispatch_request()\n",
      "  File \"/home/chris/miniconda3/envs/pruning_viz/lib/python3.6/site-packages/flask/app.py\", line 1936, in dispatch_request\n",
      "    return self.view_functions[rule.endpoint](**req.view_args)\n",
      "  File \"/home/chris/miniconda3/envs/pruning_viz/lib/python3.6/site-packages/dash/dash.py\", line 1050, in dispatch\n",
      "    response.set_data(func(*args, outputs_list=outputs_list))\n",
      "  File \"/home/chris/miniconda3/envs/pruning_viz/lib/python3.6/site-packages/dash/dash.py\", line 985, in add_context\n",
      "    output_value = func(*args, **kwargs)  # %% callback invoked %%\n",
      "  File \"<ipython-input-13-c97e5c6519c4>\", line 652, in update_node_inputs\n",
      "    activations = activations_store(image_name)\n",
      "  File \"/home/chris/miniconda3/envs/pruning_viz/lib/python3.6/site-packages/flask_caching/__init__.py\", line 779, in decorated_function\n",
      "    rv = f(*args, **kwargs)\n",
      "  File \"<ipython-input-13-c97e5c6519c4>\", line 356, in activations_store\n",
      "    activations = get_model_activations_from_image(get_image_path(image_name,params)[1], model_dis, params)\n",
      "  File \"/mnt/data/chris/dropbox/Research-Hamblin/Projects/cnn_subgraph_visualizer/visualizer_scripts/visualizer_helper_functions.py\", line 508, in get_model_activations_from_image\n",
      "    layer_activations = get_activations_from_dissected_Conv2d_modules(model_dis)\n",
      "  File \"/mnt/data/chris/dropbox/Research-Hamblin/Projects/cnn_subgraph_visualizer/visualizer_scripts/visualizer_helper_functions.py\", line 484, in get_activations_from_dissected_Conv2d_modules\n",
      "    layer_activations = get_activations_from_dissected_Conv2d_modules(submodule,layer_activations=layer_activations)   #module has modules inside it, so recurse on this module\n",
      "  File \"/mnt/data/chris/dropbox/Research-Hamblin/Projects/cnn_subgraph_visualizer/visualizer_scripts/visualizer_helper_functions.py\", line 481, in get_activations_from_dissected_Conv2d_modules\n",
      "    layer_activations['edges_out'].append(submodule.format_edges(data= 'activations'))\n",
      "  File \"/mnt/data/chris/dropbox/Research-Hamblin/Projects/cnn_subgraph_visualizer/prep_model_scripts/dissected_Conv2d.py\", line 186, in format_edges\n",
      "    out_acts_list.append(torch.cat(in_acts_list,dim=2))\n",
      "RuntimeError: Sizes of tensors must match except in dimension 3. Got 31 and 30 (The offending index is 0)\n"
     ]
    },
    {
     "name": "stderr",
     "output_type": "stream",
     "text": [
      "127.0.0.1 - - [11/Dec/2020 21:10:23] \"\u001b[35m\u001b[1mPOST /_dash-update-component HTTP/1.1\u001b[0m\" 500 -\n"
     ]
    },
    {
     "name": "stdout",
     "output_type": "stream",
     "text": [
      "Exception on /_dash-update-component [POST]\n",
      "Traceback (most recent call last):\n",
      "  File \"/home/chris/miniconda3/envs/pruning_viz/lib/python3.6/site-packages/flask/app.py\", line 2447, in wsgi_app\n",
      "    response = self.full_dispatch_request()\n",
      "  File \"/home/chris/miniconda3/envs/pruning_viz/lib/python3.6/site-packages/flask/app.py\", line 1952, in full_dispatch_request\n",
      "    rv = self.handle_user_exception(e)\n",
      "  File \"/home/chris/miniconda3/envs/pruning_viz/lib/python3.6/site-packages/flask/app.py\", line 1821, in handle_user_exception\n",
      "    reraise(exc_type, exc_value, tb)\n",
      "  File \"/home/chris/miniconda3/envs/pruning_viz/lib/python3.6/site-packages/flask/_compat.py\", line 39, in reraise\n",
      "    raise value\n",
      "  File \"/home/chris/miniconda3/envs/pruning_viz/lib/python3.6/site-packages/flask/app.py\", line 1950, in full_dispatch_request\n",
      "    rv = self.dispatch_request()\n",
      "  File \"/home/chris/miniconda3/envs/pruning_viz/lib/python3.6/site-packages/flask/app.py\", line 1936, in dispatch_request\n",
      "    return self.view_functions[rule.endpoint](**req.view_args)\n",
      "  File \"/home/chris/miniconda3/envs/pruning_viz/lib/python3.6/site-packages/dash/dash.py\", line 1050, in dispatch\n",
      "    response.set_data(func(*args, outputs_list=outputs_list))\n",
      "  File \"/home/chris/miniconda3/envs/pruning_viz/lib/python3.6/site-packages/dash/dash.py\", line 985, in add_context\n",
      "    output_value = func(*args, **kwargs)  # %% callback invoked %%\n",
      "  File \"<ipython-input-13-c97e5c6519c4>\", line 593, in update_node_actmap\n",
      "    activations  = activations_store(image_name)\n",
      "  File \"/home/chris/miniconda3/envs/pruning_viz/lib/python3.6/site-packages/flask_caching/__init__.py\", line 779, in decorated_function\n",
      "    rv = f(*args, **kwargs)\n",
      "  File \"<ipython-input-13-c97e5c6519c4>\", line 356, in activations_store\n",
      "    activations = get_model_activations_from_image(get_image_path(image_name,params)[1], model_dis, params)\n",
      "  File \"/mnt/data/chris/dropbox/Research-Hamblin/Projects/cnn_subgraph_visualizer/visualizer_scripts/visualizer_helper_functions.py\", line 508, in get_model_activations_from_image\n",
      "    layer_activations = get_activations_from_dissected_Conv2d_modules(model_dis)\n",
      "  File \"/mnt/data/chris/dropbox/Research-Hamblin/Projects/cnn_subgraph_visualizer/visualizer_scripts/visualizer_helper_functions.py\", line 484, in get_activations_from_dissected_Conv2d_modules\n",
      "    layer_activations = get_activations_from_dissected_Conv2d_modules(submodule,layer_activations=layer_activations)   #module has modules inside it, so recurse on this module\n",
      "  File \"/mnt/data/chris/dropbox/Research-Hamblin/Projects/cnn_subgraph_visualizer/visualizer_scripts/visualizer_helper_functions.py\", line 481, in get_activations_from_dissected_Conv2d_modules\n",
      "    layer_activations['edges_out'].append(submodule.format_edges(data= 'activations'))\n",
      "  File \"/mnt/data/chris/dropbox/Research-Hamblin/Projects/cnn_subgraph_visualizer/prep_model_scripts/dissected_Conv2d.py\", line 186, in format_edges\n",
      "    out_acts_list.append(torch.cat(in_acts_list,dim=2))\n",
      "RuntimeError: Sizes of tensors must match except in dimension 3. Got 31 and 30 (The offending index is 0)\n"
     ]
    },
    {
     "name": "stderr",
     "output_type": "stream",
     "text": [
      "127.0.0.1 - - [11/Dec/2020 21:10:23] \"\u001b[35m\u001b[1mPOST /_dash-update-component HTTP/1.1\u001b[0m\" 500 -\n",
      "  4%|▍         | 21/512 [00:00<00:17, 28.77it/s]127.0.0.1 - - [11/Dec/2020 21:10:24] \"\u001b[37mPOST /_dash-update-component HTTP/1.1\u001b[0m\" 200 -\n",
      "  5%|▍         | 25/512 [00:01<00:21, 23.09it/s]"
     ]
    },
    {
     "name": "stdout",
     "output_type": "stream",
     "text": [
      "CALLED: update_edge_kernelmap\n"
     ]
    },
    {
     "name": "stderr",
     "output_type": "stream",
     "text": [
      "  6%|▋         | 32/512 [00:01<00:17, 26.72it/s]"
     ]
    },
    {
     "name": "stdout",
     "output_type": "stream",
     "text": [
      "CALLED: update_edge_outmap\n",
      "Updating cached activations with deepviz_g-37_features_0_preadd_conv:101_1607613312.76379.jpg\n",
      "Exception on /_dash-update-component [POST]\n",
      "Traceback (most recent call last):\n",
      "  File \"/home/chris/miniconda3/envs/pruning_viz/lib/python3.6/site-packages/flask/app.py\", line 2447, in wsgi_app\n",
      "    response = self.full_dispatch_request()\n",
      "  File \"/home/chris/miniconda3/envs/pruning_viz/lib/python3.6/site-packages/flask/app.py\", line 1952, in full_dispatch_request\n",
      "    rv = self.handle_user_exception(e)\n",
      "  File \"/home/chris/miniconda3/envs/pruning_viz/lib/python3.6/site-packages/flask/app.py\", line 1821, in handle_user_exception\n",
      "    reraise(exc_type, exc_value, tb)\n",
      "  File \"/home/chris/miniconda3/envs/pruning_viz/lib/python3.6/site-packages/flask/_compat.py\", line 39, in reraise\n",
      "    raise value\n",
      "  File \"/home/chris/miniconda3/envs/pruning_viz/lib/python3.6/site-packages/flask/app.py\", line 1950, in full_dispatch_request\n",
      "    rv = self.dispatch_request()\n",
      "  File \"/home/chris/miniconda3/envs/pruning_viz/lib/python3.6/site-packages/flask/app.py\", line 1936, in dispatch_request\n",
      "    return self.view_functions[rule.endpoint](**req.view_args)\n",
      "  File \"/home/chris/miniconda3/envs/pruning_viz/lib/python3.6/site-packages/dash/dash.py\", line 1050, in dispatch\n",
      "    response.set_data(func(*args, outputs_list=outputs_list))\n",
      "  File \"/home/chris/miniconda3/envs/pruning_viz/lib/python3.6/site-packages/dash/dash.py\", line 985, in add_context\n",
      "    output_value = func(*args, **kwargs)  # %% callback invoked %%\n",
      "  File \"<ipython-input-13-c97e5c6519c4>\", line 789, in update_edge_outmap\n",
      "    activations = activations = activations_store(image_name)\n",
      "  File \"/home/chris/miniconda3/envs/pruning_viz/lib/python3.6/site-packages/flask_caching/__init__.py\", line 779, in decorated_function\n",
      "    rv = f(*args, **kwargs)\n",
      "  File \"<ipython-input-13-c97e5c6519c4>\", line 356, in activations_store\n",
      "    activations = get_model_activations_from_image(get_image_path(image_name,params)[1], model_dis, params)\n",
      "  File \"/mnt/data/chris/dropbox/Research-Hamblin/Projects/cnn_subgraph_visualizer/visualizer_scripts/visualizer_helper_functions.py\", line 508, in get_model_activations_from_image\n",
      "    layer_activations = get_activations_from_dissected_Conv2d_modules(model_dis)\n",
      "  File \"/mnt/data/chris/dropbox/Research-Hamblin/Projects/cnn_subgraph_visualizer/visualizer_scripts/visualizer_helper_functions.py\", line 484, in get_activations_from_dissected_Conv2d_modules\n",
      "    layer_activations = get_activations_from_dissected_Conv2d_modules(submodule,layer_activations=layer_activations)   #module has modules inside it, so recurse on this module\n",
      "  File \"/mnt/data/chris/dropbox/Research-Hamblin/Projects/cnn_subgraph_visualizer/visualizer_scripts/visualizer_helper_functions.py\", line 481, in get_activations_from_dissected_Conv2d_modules\n",
      "    layer_activations['edges_out'].append(submodule.format_edges(data= 'activations'))\n",
      "  File \"/mnt/data/chris/dropbox/Research-Hamblin/Projects/cnn_subgraph_visualizer/prep_model_scripts/dissected_Conv2d.py\", line 186, in format_edges\n",
      "    out_acts_list.append(torch.cat(in_acts_list,dim=2))\n",
      "RuntimeError: Sizes of tensors must match except in dimension 3. Got 33 and 30 (The offending index is 0)\n"
     ]
    },
    {
     "name": "stderr",
     "output_type": "stream",
     "text": [
      "127.0.0.1 - - [11/Dec/2020 21:10:24] \"\u001b[35m\u001b[1mPOST /_dash-update-component HTTP/1.1\u001b[0m\" 500 -\n",
      "  9%|▊         | 44/512 [00:01<00:16, 27.94it/s]127.0.0.1 - - [11/Dec/2020 21:10:25] \"\u001b[37mPOST /_dash-update-component HTTP/1.1\u001b[0m\" 200 -\n",
      "127.0.0.1 - - [11/Dec/2020 21:10:25] \"\u001b[37mPOST /_dash-update-component HTTP/1.1\u001b[0m\" 200 -\n",
      " 10%|▉         | 51/512 [00:01<00:15, 29.47it/s]"
     ]
    },
    {
     "name": "stdout",
     "output_type": "stream",
     "text": [
      "CALLED: update_figure\n",
      "\n",
      "[0.1, 1]\n",
      "['r-2', '37-186', 'g-21', 'g-37', 'r-59']\n",
      "['0', '686', '874', '787', '874', '8', '878', '1058', '912', '1135']\n",
      "updating edge highlight to r-59\n",
      "updating node highlight to 1135\n",
      "4 16 features_10\n"
     ]
    },
    {
     "name": "stderr",
     "output_type": "stream",
     "text": [
      " 12%|█▏        | 59/512 [00:02<00:15, 29.15it/s]"
     ]
    },
    {
     "name": "stdout",
     "output_type": "stream",
     "text": [
      "CALLED: update_edge_inmap\n",
      "Updating cached activations with deepviz_g-37_features_0_preadd_conv:101_1607613312.76379.jpg\n",
      "Exception on /_dash-update-component [POST]\n",
      "Traceback (most recent call last):\n",
      "  File \"/home/chris/miniconda3/envs/pruning_viz/lib/python3.6/site-packages/flask/app.py\", line 2447, in wsgi_app\n",
      "    response = self.full_dispatch_request()\n",
      "  File \"/home/chris/miniconda3/envs/pruning_viz/lib/python3.6/site-packages/flask/app.py\", line 1952, in full_dispatch_request\n",
      "    rv = self.handle_user_exception(e)\n",
      "  File \"/home/chris/miniconda3/envs/pruning_viz/lib/python3.6/site-packages/flask/app.py\", line 1821, in handle_user_exception\n",
      "    reraise(exc_type, exc_value, tb)\n",
      "  File \"/home/chris/miniconda3/envs/pruning_viz/lib/python3.6/site-packages/flask/_compat.py\", line 39, in reraise\n",
      "    raise value\n",
      "  File \"/home/chris/miniconda3/envs/pruning_viz/lib/python3.6/site-packages/flask/app.py\", line 1950, in full_dispatch_request\n",
      "    rv = self.dispatch_request()\n",
      "  File \"/home/chris/miniconda3/envs/pruning_viz/lib/python3.6/site-packages/flask/app.py\", line 1936, in dispatch_request\n",
      "    return self.view_functions[rule.endpoint](**req.view_args)\n",
      "  File \"/home/chris/miniconda3/envs/pruning_viz/lib/python3.6/site-packages/dash/dash.py\", line 1050, in dispatch\n",
      "    response.set_data(func(*args, outputs_list=outputs_list))\n",
      "  File \"/home/chris/miniconda3/envs/pruning_viz/lib/python3.6/site-packages/dash/dash.py\", line 985, in add_context\n",
      "    output_value = func(*args, **kwargs)  # %% callback invoked %%\n",
      "  File \"<ipython-input-13-c97e5c6519c4>\", line 765, in update_edge_inmap\n",
      "    activations = activations = activations_store(image_name)\n",
      "  File \"/home/chris/miniconda3/envs/pruning_viz/lib/python3.6/site-packages/flask_caching/__init__.py\", line 779, in decorated_function\n",
      "    rv = f(*args, **kwargs)\n",
      "  File \"<ipython-input-13-c97e5c6519c4>\", line 356, in activations_store\n",
      "    activations = get_model_activations_from_image(get_image_path(image_name,params)[1], model_dis, params)\n",
      "  File \"/mnt/data/chris/dropbox/Research-Hamblin/Projects/cnn_subgraph_visualizer/visualizer_scripts/visualizer_helper_functions.py\", line 508, in get_model_activations_from_image\n",
      "    layer_activations = get_activations_from_dissected_Conv2d_modules(model_dis)\n",
      "  File \"/mnt/data/chris/dropbox/Research-Hamblin/Projects/cnn_subgraph_visualizer/visualizer_scripts/visualizer_helper_functions.py\", line 484, in get_activations_from_dissected_Conv2d_modules\n",
      "    layer_activations = get_activations_from_dissected_Conv2d_modules(submodule,layer_activations=layer_activations)   #module has modules inside it, so recurse on this module\n",
      "  File \"/mnt/data/chris/dropbox/Research-Hamblin/Projects/cnn_subgraph_visualizer/visualizer_scripts/visualizer_helper_functions.py\", line 481, in get_activations_from_dissected_Conv2d_modules\n",
      "    layer_activations['edges_out'].append(submodule.format_edges(data= 'activations'))\n",
      "  File \"/mnt/data/chris/dropbox/Research-Hamblin/Projects/cnn_subgraph_visualizer/prep_model_scripts/dissected_Conv2d.py\", line 186, in format_edges\n",
      "    out_acts_list.append(torch.cat(in_acts_list,dim=2))\n",
      "RuntimeError: Sizes of tensors must match except in dimension 3. Got 32 and 30 (The offending index is 0)\n"
     ]
    },
    {
     "name": "stderr",
     "output_type": "stream",
     "text": [
      "127.0.0.1 - - [11/Dec/2020 21:10:25] \"\u001b[35m\u001b[1mPOST /_dash-update-component HTTP/1.1\u001b[0m\" 500 -\n",
      " 14%|█▍        | 71/512 [00:02<00:13, 32.28it/s]127.0.0.1 - - [11/Dec/2020 21:10:25] \"\u001b[37mPOST /_dash-update-component HTTP/1.1\u001b[0m\" 200 -\n",
      " 26%|██▋       | 135/512 [00:04<00:10, 35.25it/s]127.0.0.1 - - [11/Dec/2020 21:10:27] \"\u001b[37mPOST /_dash-update-component HTTP/1.1\u001b[0m\" 200 -\n",
      " 70%|███████   | 359/512 [00:10<00:04, 35.84it/s]127.0.0.1 - - [11/Dec/2020 21:10:34] \"\u001b[37mPOST /_dash-update-component HTTP/1.1\u001b[0m\" 200 -\n",
      " 71%|███████   | 363/512 [00:10<00:04, 35.43it/s]127.0.0.1 - - [11/Dec/2020 21:10:34] \"\u001b[37mPOST /_dash-update-component HTTP/1.1\u001b[0m\" 200 -\n",
      " 72%|███████▏  | 367/512 [00:10<00:04, 34.90it/s]127.0.0.1 - - [11/Dec/2020 21:10:34] \"\u001b[37mPOST /_dash-update-component HTTP/1.1\u001b[0m\" 200 -\n",
      " 72%|███████▏  | 371/512 [00:10<00:04, 34.76it/s]127.0.0.1 - - [11/Dec/2020 21:10:34] \"\u001b[37mPOST /_dash-update-component HTTP/1.1\u001b[0m\" 200 -\n",
      " 73%|███████▎  | 375/512 [00:11<00:03, 34.68it/s]127.0.0.1 - - [11/Dec/2020 21:10:34] \"\u001b[37mPOST /_dash-update-component HTTP/1.1\u001b[0m\" 200 -\n",
      "127.0.0.1 - - [11/Dec/2020 21:10:34] \"\u001b[37mPOST /_dash-update-component HTTP/1.1\u001b[0m\" 200 -\n",
      " 74%|███████▍  | 379/512 [00:11<00:03, 34.10it/s]127.0.0.1 - - [11/Dec/2020 21:10:34] \"\u001b[37mPOST /_dash-update-component HTTP/1.1\u001b[0m\" 200 -\n",
      " 75%|███████▍  | 383/512 [00:11<00:03, 34.19it/s]127.0.0.1 - - [11/Dec/2020 21:10:34] \"\u001b[37mPOST /_dash-update-component HTTP/1.1\u001b[0m\" 200 -\n",
      " 76%|███████▋  | 391/512 [00:11<00:03, 34.79it/s]127.0.0.1 - - [11/Dec/2020 21:10:35] \"\u001b[37mPOST /_dash-update-component HTTP/1.1\u001b[0m\" 200 -\n",
      "100%|██████████| 512/512 [00:14<00:00, 34.26it/s]\n"
     ]
    },
    {
     "data": {
      "text/html": [
       "<div style=\"display: flex; flex-direction: row;\"><div style=\"margin-right:10px; margin-top: 4px;\">\n",
       "                            0 <br/>\n",
       "                            <img src=\"data:image/PNG;base64,iVBORw0KGgoAAAANSUhEUgAAAOAAAADgCAIAAACVT/22AAEAAElEQVR4nEz9Z3hkV5U9Dp9zc65cpapSzmpJnbPd7dBO7WyDyRgMDMHkgYEhDGGGNIAxcQBjkm1wtsE5tNvtzjlI3cpZJalyujmce94PMr//e7/pi6Tnuefuvdfaa60DmURaGz7TfMNtU08/HLnsGkYWB9b033vNFfd8+/vFw/u0cm1xeXntpg1cNAZ5ERAEAAD4yC3mlU07fde1ZschzWDXCQxuKR19g5JkSNHA9+1CnqBpgmFIWQEYY4QgwwCCAAhh14GcsPd9H969puvJE6dmpqfXDg7MLSzNvfocEQgBz/UNHSNEsBz2PEiR2HEASQLPw76PfR8AQIoS0lSC5wmWAxD6pgEhBJDAPgIQQggBgL7rQJLybYsURd+yAICuphIk6a/+TuSTDEMFgpCivEoZEoSPEMEwGCFIEABjSFHY83zXAQBCkvQ9D2AfAEiJIvZ9gmawjyBJAoyx79//q9997mMf8j2XZBjkuNjzCJoiGPbDX//uX3/0XQAAwTCermMfQUgQDAMgxAhhz6WUoLmy7Dq2EArTobBv24QgAJLEmua7LsA+RshHnmfZnutgD2GMMfZdx2FYlhFEimUAgBBCUpIAxnalbNbqDMexiowch6QZgmUJlgMEBL4PfIwxxp6LTPO+P/71y5/4KB2OAIIAEALHRoZBihKAEJAkIAhsmkhXsYcgSbqGrlWrAON6tTa3nHUw2r5uvZSI0YEQoGmpo8+qlpffeqXpujvspVlAkHQ4vnHP7vNHTmIfibEYRkhSArMvPK3lcxs/+XnXdUmawsjXVdUxTYKhXN0AGAIS+I6Hfd93HEhTvmUBivRNE+rzUyRJ27rm+yjUvwEAAAgCkJTQmPYME0DC03UIoZtfBhQN3n5wevNluq46ug4ANCaGfcdxqhValDBCBMsSouRVypNnz7f397GxOCAI3zQJUQQECVzHLZeoQCCyaeeRn/9vLB7r+eDHero6/+PG6++4+wOA4QDAACFfrUOGAb4PIMSuO378ZOfGdcDHVq0uRCOQJH3HIQURAOzpOsEyZ988mGqIxzvaIYSOqrGhEEbIM01KEEiO05eXLV33XNexbR9j3/cFQWA5jlNkRpY9wyBoBhIQOS5GHgDgmRdfgQDcet0egIGla45t0yxLkqSpGwRJBOIx4ONqLt+wdq1Xq104fuK3+w/+7hv/ASFBCgIyDbNSYRUFI7+WzcrRCISEZ1uubTO8QNIUyXEjJ0///KXXf/f1L9FKABlGcWFBCgSk5mYrl2PDEU/XCJqGJAl8v7a8jFwXENB1nXf+4Gc/++C70w0J5Pt3/fgXj37p0wLHY4wt04KQSDSltUp1ZmEB+X5HS7Ou68vZ/K5bbwEQupWyo+m0ILCpxs986SvThSLLUIu5wpHf/YJLNwEAnZUlgqIIlnXrKptKrb6m1RKjFwoUx06NT1z15a8/9e3/vOlLX3OrFSczS8oBgDGgaDrWgAwNYAAA8PU6tkwyFAMQQJICEEKGoXiBFnhWFHlBrJdLPvJJhnYN03NspOvYdQCEAADseYAgIEkCCAGA2LGB7wPfh4Qc+ua/f25JrT392v7a7Ay2bSYWdwoFLp32dN3TNEgSUrq5dv4koBngeYBmgGvX52Zdy1rJZgvl6mVXXuG7LhNQMPIxQpQsI11/9uln942O3/+FTzNKgGBZSBAYA0hR2HHMXHbo7Pl1mzdQLEdyHKCotXe+d/i5J7HrERwHaBo4jm8akGEgQfiu69br2Ed6ucIKPABQr1UJgqQYWoxE9HKZ4XnsISERhxSNXRf7PilKgKYBAAAhgJBbrWiFAiDg1V/9r6Wl5fbWls5Ug2ZYP7vn/anW1tUPjuJ5UpIhRXvVyuT58zf+948wxid/+RM5HO5+74dd11Fk5ewffv2R/73/G3fenC9V99x6M6Rp4PsAY+x5yLHrK1nHtoulMkFCAEBTU7OYSECadms1z7Z63ncPxnjskQexDzhZJljGqdeR63que/DU6e//48U7Nm+8+9qrUwMDUBABxsD3AQBerWoUC8hDv/vH87996ZX1vd0hQeAoujESfNfO7SRJOo77H397fG1j+psfuZsNBKuZxbHp6ff85Jd97a07uzo+/847gs0tkCAwQpBlAQa+oXuWWc3llGiUFkTfc5Fls+EIIQj/6o2+b5nA91ebA7JtZJl7v/z1C5cuNbY0LS0uA4wd2/r4Hbf/9HvfBRACz2u7Zm9ucYHhec91KIqdfvKh5DU3YoQImvZdl6AZkmMhJJxalQkGMULIdgAEEELs+77nYYSAjzDyIUUBjAEAAGNIU9j1sI+A71MESf/PT36GfQSQBwiicdeOzLHThChihAiGYSNR33XP/+HXdqFAMAwly5CinFJJbm71LZOk6N7Nmyk54NWqhCD5lol9H0DYf9cHctmV5Zf/gX0MfB/pOsAYMgyBKKdahQQxsG6Q4njs+55h0MHgyd/9wqvXKSWw2m4AgJCiAELItj1dc01Tr9cRQq8ePZ4KBQkCNiYSSiBglCsQQIx8QECzWGJEEfsIAOiqKhuPAwyw6/iue2Df/k1rB6RIdOzCELKt2991+3f/7w+tvb3BUIigGYKm7FoNQILkBd9xfc+lSDIaDpUrVTkc9hFa3939nh2b1ra2vLT/wKFz5685eeqm3Zdt37pJSqUBhMgwrFoNY8xwHElTez/75ZbG9N+/+GlWlgDGbq1azeUggMd+/iPHcevliigrgIBWuYI8FxIkp8jv+fb3PMP47HVXm7qBTIviRUCSAEBzcb719nePPfKgY9k7uztmipufeu2Nqcf+8vzBI99/+p/v232ZaViLxWKmUJjL5rZ3tt14415IEASAiXh0dnnlm7fdRJIkMg2CYSFFefWa73rItpmAMj07t6WxiQqF3WLhhq98c//vfgEQAzAJKAoAQNAMRh4yTCoUMhYzSk/P0bcOIsd68Aff3v7uu8vnjonRWGl2XpudBhAixz35ix/TLEuQZLVcvuI/v9V+1wc6160vl8umptqqluhoy5y/AAnCNw0b+wBj7HqrXZHgOOy6GPsQEgAC7NgYAEhSAPkYAuB5laETSsca6FYKVqns2GZk/VaAMSAISNFTrz637iOf0jOLYrpp/G9/SnT1uLruWaZr2hRDM7JMywrkOGyZGPmEIGDHhryATcPK55Hn+Z7n+wgAAAmSpKjVcY2kaexjxzAohqF5no0nAATYcQAA2PeRYVCSBDDOj45GOzsBAJ5hINvyEUKuBwBwHRtjDAEkKQpCCCCkOc73PACBjxDNcT5CEEAAgec4JEURJEXQlO8h1zSR51Ess7KYKdVqjufN5vI9jalYMBSNR5GLxFBwdXKFBGHrumfbjm0jhHhB8JFvOzZFUhRDZxYzmWLpjweP/P4zn3BsRwooYiyGLMus1ZXGRs8wFsbG9p27cMtl22NNTZ7j1POFYLLBrNYIiqyXq7wkQAAIkkSuR1AkhJAgyfzyiuU6CCGB4wWeD8ZijCQBjH3Psw3d9zzbtEiKtEwL+z7CiCIp07J0w3SRZ1h2SJZd1/35q2984/abA4GAbduu59EUhXxEABgMh/hAgCBJACAkCQgJ5Dqeafk+IkiSVQJWtcpKEinwBM1ChgYA+JYFIAQIrQ5InmVCgnBt20fI933HshBCGGOaYSiSwhiTFBVsaSE43ikWHEOfnJjY9I73jLz0D5akBVlcyCwxNI0h2HjrO4DnAYKg4wmK57CHAIQAQt91sYcABAAS2PMw9rGPIIB4tbKunkauqbV28jBynMDWyz21TgoiMvS3Hnpw71e/5Tl2MJ4Y+dPvQ/0D2DSQrl35qS+Ua7XzD/+RiTcA7AMIAUECHxkL8wRJ0qJoVSskTXuOAzBwLatULCqKotbq4XiMIIneD35sU3//k9/9BgCQb27GtoUdh1CCAIClY0d5SWQFQatWEUK8KMrJBpIXqjMzfEAxq9VAS6tTrZIMY1artmlCAtI0Q1Ak9jFy3UBLi7a8xAiC5zhapUpSJIQESZFzs/NtHW0EQbi2I8eipaUl0zBJkqBpmuE4giAggBhgmmUJghSSSW0pQxCkj7yXDxy6ettmCKHv+y8fOR6RxIZwqH/j+s0fvffRL35GN82AJAYUZRVR+T7mBJ6iaYph6qUyL4qQgKvvj6Rp3/NWPzOSprCPTU1TohEuElWXlriA4lkWyTDlpWUMQTAaZWQ5PzXT0NdTmpnlRDEzv8DxrOd64XDYsk0AIMAYITS3vPLKhYtX9vUoPI+wP760sqG9VeB5kec5nl/FfLZlpXp7q5lFACHA+Bt/eWTfmQsTzz9JSIq1lOHicaTrdrWKMeZCIYJlsedBlvVqNWTbkCCYWMzKrtCSDCEkA0Enn12cnPzIbx4oVGuqqo4+9KDU0rr5jvee/sfjgKKBj4DnRTfvUIsFc/wiISmAgACAYN9aW1c93cA+ggQBSRIjBFanDggxwBAS2PPebu4AYIwhsYogPeD7AEBKjsXset33/T99++uf+dXvjHJJamp6/89+TfMcRv7/fPC9tWpVLhUgSSHHfepr/85yXC2b5XXNdz1Wlmgl4Gmqo+tyOk1wHGWZtqoOXxzZfvWVPABHTp8r6doN27eQJEkLPMtyD37247QgkIKALcvMZQmKJE2TkuWGvl6CogBFVYvFcLLBqqvaShYhxPCcZ9uQJMuzM1IwRPI85/uOZbEcT7Esch3bMhzbYQoFIRpzNY2RpCDL3fSVb+Qr1a09nZPLuce+/LlEdzfB8ZAkE4JYnpt97djJd9x6M4QgNzdP0zQvSRASBElCmmFFyahVse//x1//9vdoeGBNH81xLw5f0m17IJ3EAPzHLXsfPnRUYpm1jan+ttZ0a+uJk6dMy77m2j2QJH3XxQCrtaocDLqOAwF0bZtiGNdxGJ5DjlevVkZn5gb8DrauYuwTGpFbWlYCAYqhFzIZjufHLo1GQsFLx46zNB0moGlbf3zzrds3rW9fO0gwjFEoEBSFHGc5VxjNZk/Pzv/bFZe9dHHk3PTsjt7uD12+o7WriwkEfM8DGBfn57RcFgBgGYZt2V9/5x33f/7TZrFE1VXk2KWxMYbnhHgCuy5ybLteJymKhpAOhynXRYaRvzj8j4NH7rxyd6y/HyBEieLN//PjufExRhQbW1pmJqcWjxz7xze/DHwfYB8AgJEXicdERYYkBTAGGGLLCITDlsBTabq0mIEEdGs137EBJCCEgKJ82wKQABBCkgAYYM8FkMAQQoKABAFICkBAqIUiFwzyodAtV11x+Bf/S9KsWSoVFjNaNktx7NXr1rIsW15c9B27sLAgBgO3feuHJEMBDFzbZuMJI5fb8KFPQIqwqxW7WCgtZkq5/OBgv6OqK2MTm/p7NnV2eAghhEpLyy9+66u8KNr1ulOr1udmXcsEGNv1en1hwdM1T9ewbYcSCbOuVisVQ9dsy9SqNc+2bcPY8bmv+D7CCJUzS77v25bpOQ7ykBgKiYrsmqZZKTum4RoGcp3pxQwk4Osnz3zppmsLxZKey0GGARASgigGg997+jmCImklACG4/lvfGxkdzczNq5UKIAhKllcyy4amn//Dr7/z9HNqtWbW1X+78vKYJHXGYyLPpyOhl86ce/bkmZ6mxnsffGjs0qXGWGxNe5tn28i2bV1nWFYOBivFklZXPdd1bbtWKluGYeum7yMI4fv+92dKOFyrVjlRlBqbvvnY05CA0a7ud/zo5/VabXDzJpqifN8nCELXdcfzopLU3tRolEp2pQIhZERRjMfn8oV8pbamMfXMuQsX5xY5hrmsq50iSdvQfddxNa2+skxAaFuWaZgQwqqqkiTBrHZ8CGlR7Hj3B4u5HCQI1zAgJCxVhSSxWsZ8xyFouv+eT33jzw8jhADDAopaGr70xg++ZRcL6vzcy9/+z3g8uqGvRwmH6rMz6tREbWJMyywe+sn3T/3qp/pSxi3mfa1emZrc/4NvP/df//m997073dnpmeYqAgO+j13Hdx2AEPARhAD7Pva81f4AIQSrXQl52EOwcOGMHI07dbVcLCxkV2zXfWNk/Nz8wpmhS199zzv3DPZzFIUhdDxXYFnk+9FYrJAvRKJhjDAvi2q1euO3f/TPr39JCigAAOR5hq4LgogxplkGYAAhtAyDZhgMAUVRj7zw2j3vvAUjTDK0reoYYwx913YIkpSCQT4StSoVs15HyDNN07EdQeA5nkcIYd8nSJKXZMeysO/7PmI4zjat1fFodVhkGIYkyXK5XKjXI4rCc6xhWhzLKoosyrLv+wzHG/W66zq1aj0aj5q6oaqaosg0w3iuy7CsrmqWbTEMky+VOY5VRJGmqd+89No9V+3meW5mMXMxs3TTlk1KILCykv3a40/HZfnb775TlOULl0bT8WiysZEgSdswIEEsZ5aa21qrheJq2/J9TBBEpVZzXTedbAAYAALqmkbRNMuwFEVBAiKEAMaWaTmeCwGEBPQ8z0MIAkCRFMexJEnpuu64rmnZBbVe181YQCYhYXsuBJBj6HQ8FgyFAMD1Wl1WFFbgPdetlSsIIVlRaIaBBIF9HwLgeR5JUTTLAYwhSSDXBQAQBAlJAhKErenIR45lYR9DCC3LdD3EMjRJ0SzLGIYBwCrEIAhICJJom+YqNkCeV6vVIQE5lvM8l+M4hJCPcVWtb7j5DoB9QDMAYwAhIQjY9bDnAgxWmWkAMMB4leQCvg9IghAkKtze4Vs2H4s2NabZcU6U5YGurun5hQ8tZH7z0qvtsQgBCdtzP//An5/46heH5hb3bt10y/d/cv2GDb+570fYtu/49r/FwkGO52qViuO6PMeNzMw3J2IMw7T0dNuqxgi87/tTM7MkSbS1tnz4zptd0xYjEUfVQt3dAPupXXuUQOCBT97T390NSRIS0DZNXpa2f/6rTcnEU1/7Ei8r81NTyXTa1DW9XocAIIQ8z7Mtq1iqsCyDkE8SBM9zvChg3y+raiwYkEXR9RDAIBgMEARZzOUlSbINAwNomRZNU7lsDvk+Q9MQgmw2R5JEJl9c19ulGbprmBDCSDCwki9yLNOgyD72a7X6R37zh8vWrmmLReOBwP/tO/AfN17nIW8pn094XkMktFIsyZIECdLQdYIkaJqqlUqQgKZhEiTJMAwAgOdYnmN932c5zjLN235w3/4ffVeQZVNV89liMBj0PK9Uq975w5/96uMflhhOkQWOYWzHJTlS1TTLcQzTjgQU3bKeOzvU25CIKhLDUFVdZ2na9bxStaYZhm5ayEdBXT86OrG1uzMSDEpBOdLTqy3M+8iHJGlpeqynx8jnXMumGcb3EEnRCHmMLDmaZqkaIGC4tQ0AUJ2fM3X9A7/4bUXTbtu86Uff/28AiWvfd/dyuWSaJklSI4/91arVKsVS+7Zt0yeOX/+dH1AU9Yt7PvC9f764uJId7OrIlas1XVuamSVkBUBIUBRGCEAIMACED1a/mdUxlIAAAAgBhhBAAHzs2zZRmpiEJOmZplUssizLBYKu4zQlEp6PDF1/8K0jLvJeHxnr7ex4/tyQj/FsZnnvpg1fvv1GdXLCymWf/e43HvnipyvV6od+/fs7f/xzORhIhIK/2/fmrT/4KfB9pbWNT6bD7e1/fOvwR3/7Rx8hiqYRQiRDAwJWpycXzp557fvf+tVHPhgLhtR63da07PwCwtgxrdf/55u/+7cPVcoVtVIOBoOuY3O8wHIcxdAMywqS6HnexYWFx48cf3D/gfHFTCabAxgTJEmR1Gf//Dcf42gstvaKKxKD6yqlMsaYpEgxGMS+X6xU5ley2XL5iw89+qWHH/3obx54/NgJzTQfP3Ga4bm5bJ4g4KZdl/302RcL9brno1eHR378z5dEUXj4c5/69DVX/ePshXSy4fvvf3dvZ/tPX3p9YmklGA43tbau6eq0bDsQjcYaEizLlqo1XTdsxxlbWMwWS+dGJ1zPnVvO8hxHECT2fd/HT3z5s57nYd+nWTYajTIsG29qXMwVeYF/7MTp+159/eGDR5PJZCrZML2y8vm/PuoiVFJV1/NS8WjFMBYqFYFlZ/OFC5mlh46eoEhyoVD8xIN//dLfHhc47v6XXnvk2Im7f/X7crWKMa5MTbq27bkuhJAV+JVLlyxNJykKkgQt8CTDUDTjaJpWrRUKBYbjXFUlWE5T1Xf++OcjY2MEhF98563AdbCpf/baK8OKHAwE7rn6CkiSB44cE2XJKuRb1qz56LVXJ6PRvxw+Xtf1hnhUt2yKJCAGnCQyikJy3CpC8h0H+wgjD9sO9hB2HID9f3V/F/g+IEhAkpCmoT4zRXEs9n3XNB3TJCmqlC/oprHjs1+ya7XXfv0zChJzhWJElt4YHrtz+6aBNb0Xhi/e/8obYUH47nvvSq1bt3JxeNO9XyzOzrzxu19GA0ElIJdKlaG5+deHx35w97tFWdbqal1Tq6oWD4VC4TBBELZpUgxNM6xerye6OusrK/Vqra6qNE27nmc7LsK+yLKKLIfjca1WdSw70dICALZUDQPse8ixrWq1VtHU9/3sN6FAoK+58bPXXgUACMpyqVafzOa2dLWzDBMKhcMdHSOHD5+ZnkUe+sC73zF08jRJkY7j/PK1/e/eulG3nW89/vS9e6/bd3H009deue/i2D1X7WJoyke+6TiWbYs8/+cDh29aP+C4XjSgPPjW4apu3HP59o506g/7DnQmon2pZDIaLddqkiCwDEMQhKrrlbq6UCyta2vBGFc1HQAg8TzHMK7n8Rzrul4goJwZHV/f3fnEwaPv2r0z2dxcyeddx9E03fG8hULBdr2qaTxx4gxJEL+65wO26/729TePjk4cuO/7wxdHGhviH/zlbx3H/cx1e547P1TRjagsrW9sXNuc/s9Hn6Ip8r4PvEfiedt1POQHRDGZiIuKwgYC2anpaDrlmGbfBz924Q+/irR1OLUaxr5nO6wkHj14pLEhzjIMx/Ph5qbq0tKfXnz1G/f/wjfNk4/9VRQERZIJgqhUqr946bW6Zf3gA+9yHY8gIEEQFEUZplnTdEhAx3FfG7q0tbP1lQuXdvd2MhT1o+dejgUDx85fKI+PrVJIkKIwxsDHkCKxjwH2AQaQJDDGAKHVaRjSDFw8djiSTHq27XkeQRBiLD526tTJiamfvvAKx9I/+8B7PN8/PTN3dHLma7ftzVVqmXKlYhjb2lt9H8TCgXy5JvLMxaWlr//uL89+9+sKLzx86Ognb7gauSiRbDA0naKpQqEUj0Vdx/F9PxAO1SrVd/7v/X/81EfDoWC5UuVY1vM8H2OEkOHYr5y/uKW9dctgP8C4UCgqssSLIsCYIEjXsXlJyi6vBIOBw2fPj65kFyrV2XzhG7fdBDDmaJqhaUUUVcP40fMvf/nG61qaGl3HBRgLsqTVVQgBRdGO47iue3F2NluprW1tBgA8eODwtraWzZ3t6VRSUBS1XKmrarWuphvik/MLAEBAgP2XxtY3NVYM48z8YkFVN7U0v3vXzu8++SwE4LPX7xmanZ/I5xsCgWRAUXj++fPDbdGwattxSdrV3/elhx/bs6b3zh1bCEg4rsuxrChJAGNdN1iWXWWqWY7NZnMEASPhsGlZ+89e2NjRxjI0TdN3/fSXf/zER1iWsR3XcmzDcsKy7GPk+35V11mKztfrJU33Md7Q2pwpll8YuljSNIFh/+fdd75x4eKFxcwHL9ueikWDoZCpGz72JUVZBQYsx1E0jTFGnrdKRREkqasaLwqe62qqRhCwpqq5SnWpXPn5y68lwuHd3Z3XDq4xLDsSCJRV1bQd1bLCktgQDi8Vi/FQECHkIvSrV9/8t6svVzg+HAjQLP380ROLleonb7yu/aY7fMsECAHfJwQR+wi77uo0CzAGAAMAIEliz1tduRMcD+1shmR4QEDftqtLS5wslrP5cq32kxdfGZ6dX9Pc9P4dm1+6cOnU9IwsCAj5qmH8+83X3ffCqwj5f/jEPfc++DDPMSv54kvf/k+Gpmuqtlws9ba2sAztech2HAhhoVLRDKst1RBQFCGgmJpGkqTv+9d+/bt1TXvyP76wZt3Ax3/0s6/cduMX/vpoOhK+dk3Pps6OWDzmOs7Lx0/t3bYlOTDgadrcpUuCIPi+DwA2DNOybdt1Z3MFkiBCsjiSWR5sSgMMRJ6r6kYsoFAkSdFUXdWT8WihWGZZRjfNoCyXazXb9WzXpUgS+ejZMxc2tTZv6Wy3bCcWDWcLRYokMcYEQRRrdR/7T585f3Rk7Cu33hSVpftf3dcSi96ydiAdDZ+dnQ8K/GBLs4fQ0NwCy1B96UZRFMbnFzzfDwqCIgrFan0yl2sKhyOyBCBkaUoShFXAwbDM9EJG4vlQQGFoulKteQhRJMlzXKFSXalUEsEAAEDgON/3eZahKQpAuFwsiSxbUTXVMh0PpUKhumm4CEEAGYriWbpU1ySeMyyrMRot1OqqZSk8155MhkJB27YBAAzNiIoMIWEZBoCAF0XPcQmKRK7LybJrmpZhIOSrqooBXkV4+88P//zFVxmG3trdeWZy5n/edUdLIj6ymPnRP1/61jtv/fHzr9yxZeOvn3upoSG+d93gbLF0fnpW5Pmv3Hh9WzJx30uvjWYyS0srqVRDoViu5HJWqYg9d1VwA/zV9aaPfR9A4m2c9K+RFLIc5Wg6HxUhTZE0/T9/f+LszNzz3/vm2PxCtlJTJDFbqRm2W9aNoCQ5jnfHtg1VzTgyMSNy3Pt2bsM++Oc3vnzr936yo79vfDHz/X+8+Nnr9ly5Ya2manVV5ViWoWndNH/9+pu2591/zwdImmYEgVOUkTNnddN6+HOfDCiKKIm1fPHLN9/gup7lOgvF4h8O5DuTiexYeS5fbItFMysrrutSFCXLMi+KCHn1apXjuLqm2a5reS5LUiSEa5saZZEHGAQV+S+HjhmOo9t2gOdrhvHAFz59/z9f3NHZvqmnq1SpllStpGmpUJBnmVQ8xg9fuphZXt/aHA0HTdMSWHalXAlJIs+yGGCCIDKlylVrBzTLaoyENre1bm1rGWhvFUXx9eGR8wtL12zdXK3WRJYJS1KpXu/duCEajz/9+n7X85qSiZpuPHd++N9vuIbnuLlcbk1rMwSEaemRcEiQ5UCp8sqFobppf+ND7+d5fnh8QrOsXVs2t67pe883vxsPKAxJfvuD7yUI4sjps9ddf112ZtqwrL8dPdEaCV1YXPrvd90pSdLZ0fGXh0cs1722v/e1E6Mu8vpTqb3rB//81hGGpj5y5a6joxOjK7n5Ymlza/Pa1uaW5maSpmmOp1gGua6hqiRJ0hzLCAJyHJrnWVk2qtU/vrpvvlT65Rc+XVhafvXiqCTwsWAwKAj/+767tq5bp2sqmp2/bv1gsa5FFeWp46fisSgFifFcfiFfJEkSQvjQsZNhScyUy47j9XZ2GLbNMAxJ0yTL+gQBCAiwj5ELAATYB6vI6W2UhN+WWQEI6xOjBEn6CLmWvbSYqegaQ1EuQq8Pj9y8cZ1hWrbnLZcrEVmSBd5xPcO2T8zO/fKRx7oH+x3HjQUCuUrl/g+/F/jA93FYliiCwAAsF8tdzelKXXM9T7MsieM4mg4rcigc5mXZ0nWaoVlJzi8sIIQ4nrcsc3Ru4S9HjhVr6g/fc2emWFYEniJIkWMpkpQlURIlSBC1Wk1RZNd2PORliyXbdYcWM9etX1upqclEbHxufjKb39TRdnh8MiwKjx0//cN33/n3Iyffd9lWkiDSqeTDr72xrrlJEfilUtnz/ZAoChzz0OHj16zpyZQq6XCIIojVuqVbtuk6rod4htEsS2BZw3EUjrORR0K4XKkNNjceHJtIBJTmSLiqGy8OXfzYlZezNG3ZDoCAgETNMCzH8XyfAIAkSZnjAIQMRVIkxbMsx7K6YbAMbdi247oyL3AcW62rNEVxDON4XqFW8zwUEAWOZQSOd123sblxcWHxzeGRsq4zFPn6xdFffuj9TS1Nrx0+9szZ8+/dtlni2F+9/mZV12/ftD4hK6Mr2ePTs5/as9u03fteei0WVM6PjD3+1X9PRsKJZDLQ3esUcraq1oqlS9Mzmwb7pVBYLRU9z7NtGyG/rmm5SkXm+dXdaVnVaJLEACg8jwHwfUzTpOO6iihOr2Q/9KP7fM/be92enR3tX/3f+xp6ei5bO/Chy7b//LX9Q2PjfV0d33vnHQDgT/3xodFTp71aFVIkICkAMLZtQFEQAOz/awb1MUAeABhAAhAE1fP+j4z85fecohAk2TXYvzg5RZHkmYnJyXzhh8+9vLYxlanVctVaXJFJgtBs+2u33fT7A4fS7W2u6+ZXcp+94ZrHjp368XOv/ve7buNIOplIxFqaX39t3+hKluOYvx05+Z333Lmwkn369Nl954Z4jj310IOkEhAty3ccs1hqaG+HBGFWq3OLi8lIiKVoSMAfPvdyUBB2dralgsF4OCiLoqrpeaPQu26tj9Av//Hi9/7jC+cPHv7Os8/zDKNbdn86HVbkbKGkiOLezRslWfr7sRMrtfqfP/OJ06NjV/R21jS9u7WlVCqv1OrXR0IP7Duwpa3FRQj5vltFyPfPzmfuvfG6P7+2P1uvf+XOWy9MTv1m34HBpsairueqNQjgl2689oG3Dvc2JN6xbVO+UpsuFk/OzncmoleuG0QeQsvLHE0ronhkZOzsYgYC8IUbr6/q+gNvHdEtKygK1/X3NgQCeVUzHWdbZ3s4FFRCoYuXRqLhcDAQcFznVy+8+r7LtuuWRUBCM82fvbKPoahPXLkrGY89efDobds3K7Lkud5fDhwWWWZLW4vC82sbGyuqmjs3JLLsld2dAGNFEG5ZP/j6yBhP043R8OGpacfzxpdzWztab960vikUUA0zrMixRNz3/drEOPJc3/cpihzs7jR1w3NdgiA0TUPID0fC/zxxiiLh34+cbG+I9yYbXh4apgnyY1dc9syZ8zP5wheu2/Pw0eMiy14/0NcYiXz63e84OjFdqqs109p85RUhWSpp2lOnz71n22aCgLlytaOlWVVVTTcYRUGmgREiGQZ7HiZJ4HmAoiFBAAAxxpAkMfYBJCBJEiwHJw/sSzW1MIoCIKzMz1erVU03NMv8wXMvOwh9/KrL73/x9avXrXnr4lgqElqpVK8b6D82PZOOhM5Oz5Yr1Q9cvfvlc0MURdmW/eWbb2iNRRmaZmh6sVD4+av7773mip50ejabOzQxdWFu4Rf3fKAhnWIEAQCAkc/IMkYIAFCYm1tYXjk0Nh6SxBcuDEckmSRgplx57Ov/cezUmeaG2H88/ERJVf9878c03SRJQhIEwzLrulHRjePTc2FR6GmIZ0qVRDAwlc9fPbAmX6mGJNFFiKEo3/d5lnU9jyTITKkUEkXdtkiCmFzJtcVjj586s1go7ezquGag75ev7b+6r7slGnni5Nn1zY3pULBmmD7GJ+fmu+OxtlgUAuBjjAGGACoCf25+MR0MdCQSJEmMZJYmc/nrBtawNHVqZk41rS3trRDCsZXsydn5yzraOIYu62YyoDRFwgxFRwIKQcBStUaSxEqp0hiLmrat2zZDUWFFKdVqJU1vCAYColjTdd2ydMtWBN7z/R/886Vv3XEzhHBiJduZiBu2YzrOXKkUFcWILGm2fXZ+sTkcylSqZ2bmd3Z39CUTyWDw4Pjkrp4umec5hqEoMhgM8oJgqOrC8kpbcyOEhOu6cjAAAcxnc67n+hh/68ln1zc17h8dv2vrpolcvqob2zpabceLyVJzLFKoq0+fPl/RdZFlL+/qIEjilaFLFElubG3a3NIyvLT07Kmzt23asKO74/N/+RsB4N+/cO8XHno0UyjklpbrmUXgeQTHYd/HngvAqh7UhSS5WkeB5wIIV3VLVDSeYIJBguUA8t77k1/0N6c8x//hJ+9hXn5d5ri2eKynMblYLCdCQQehHZ0d7758R3MkdH5xqb+p6Zab91IEsf/iaEssduNgP8BgZGl5TTpFEHC5Urt5/UC2WmdJKh5Q8nX1v+68RTetxfkFnuMICA3LoklKEAWCIFzXjYVDV6zp9TFe39o8vZKPKNKTJ8/OzczyDD02n/noFTtztXpN07Pliszz+y+OtEQjLEUZtiNzbEQSeIZpi0cBBPlaXeL5rq7OV986XNC09++9bnF+wXKcw+MTyMcBnm+KRZ87e+G2zesUnhNY5qrurmFRSChSvlYLiwJDURxDq5a1UC5v7Wxri8eDiuR4Xm+qIR4MkCR5amI6HQmdmZ1fk0o2h0On5xZComC5HktRAsvO5AvI9xmKomnqwNjk5rZmmeOu6O7sTSXz9frLwyM39K+RBD5TKB2ZmNzR2V7R9LGVrINQX2tLOBjIFUsnp2Zu27ktnU5ls9mlQqk52bBULCmiEJTEYk1NRcKf3LP79Ox8zTRc5G/t6jg/fKlqmCFRBBAi308GA5shDPBcfyq5p6/Hx5iEBM8yzeHQxEo2GQzyDBMUhUvzizsG1ziO05RKZvNFWRCQ71uWVa2roYBi2s6PnnuJY+iXLgwDAC5klrpiscF08pEjJxiKfuHH3yNo+uKp00GBDwjccqW2paMNAkARxKPHTr45Mv7PU2dJgiQJ4sXzQ/tHx+KhYLFa+8rfnwxJYqlWo2ialiTPNFe1IavSO4AB8NHbOMlH/08Yin0Ei8PnfA9BAGzLnl3MVHWdJAnLcTXL2j86cdfWjS+cH26NRrobEhCC1e+VoSieYUiSXC5X4wFZ4ljH8fKqSkAQk2WOYfL1+rn5xXXNjRFRrBiG43oOQgNNaYaio6FQJBGnWNY1Ta1WyxWKtuuYlp2Kx7Kl0unZ+b5U8uTMXFM4ONjSNLGUbU/ETMcJCMJ9L7/+xb3Xup5HQAghtB2XIIhfv3GgqKrv2bp5Q1vLw4eOve/ybUNzi4PN6aqmB0RRt2yBZTTTaozHHNcdW8zwDBOWpflC8cTM3J41vUGB93x/KpcPCUJA4M/PL/alGniaEQWOJqmKphm2QxFESBYL1TrH0BXDpAhC4rm6aSocFw8GTMedLxRU025PRDmayZTKlusuliu7e7sXS2UPIYaiRJbxfcxQFEUSHvJpiuRo2vY8miR95E/nC+tbmxmapinKRUjiedOyIAE9D/k+FnjO933HdUmSYBkGIXRyYurpM+e2tDa3RaMbOtrquv77Nw91xKMdsahm2y9euPiBnVtncgWaJM8sLN62bm3NMgGANEnGFRkDIHEcS9Mcw/jY/96zL9y754qmeDxfqQwtZBrDwdZEfLFQknmOZ2gIoW7ZRVUlCBgURM22RYbhGBpCwrTtqml+89GnGqIRiedsx/32nbdoll1Q1WPTc3965O9SIvHLe/9NZJgv/fXvPM+ZhvmOy3fcvH7t1594ZujCkFHIY88jWBb7PratVUEcxhis9neEgOsAAFcleVTP+z/a0tz0+g++wwn8+g3r3jh4BAN/1+YNX3zgzzFZGlvJlg3TyeWHMkue72OMNcsOSUJZ1VXbsm33a7fu/dXrB1KhwNjSylduui4VCf/XE/+ABNzd3ekhRJLEr17b/96dW/+w7y2GpvLF0mNf+lzrzp0AAM621eELf9h/cENz+sULFx/5xpdH5hYOTUydX8ykgoGoLAdluTOJKZIMBxSapvtSDRCApVJZs52WWISj6WJdvXntwOn5hWQw4HnohrX945mV67dsnJxb7G1refCV/V967zt/98zzhuv819VX5ufnl4YuVUxjXVPjVL7gInQxs9waCc2USq8Pj6TCoRsH+0ezuQPjEwLDUgTxyHe/+en//VlUFmmC+Oh1ex45ckLkWNv14rK8UK5EZDEqipdv27q0sHBwbGIinz85v/ChndvHcvmCqhIQJiPhl4cuWq7LUFRTKCjx3PPnhn3fv2pNT1JRfN8/ODmdkJWr+nt29HZPLi1v6OrgOI4kqXh3169+/+DV6wYyxXxbsmEhl1/X21UuV4vVKvL91y+NbWlrjisKSZC64xSqNd22NzQ3BnieZ5jGSPjF88NvjU/eMLCmohmO69VMs7Mhka3ViqruY7yutaWiaQxF6ZaFMf789XsSoZBpWabtXN7bTdMURVFhScrVqh3JBlU3w4r8xsjYSrX22Ruuee7A4Xdt3dTd0fbgi6++MTqOfP+6TesnVnIhQbx8Xfvo0vJ4Nr9QrmAAOtetE0X+/pdeu6K/72t33DpVLBwcnZjKFf7w5iHdNFlR9OyAU6sCACBJ4VXpHUVBjMHqGaVovKpYh4DkBHj4yceTsVgoGiFp+pt/+HNLJKRZTtU0hzOZLe2to0vZiq5XVW1DR6vC8VFJFFimZphxWW6PR0/PLjRHQrbnTeWLC6VyeywisWymUt3W3uoi9Pjx0+/YvCGuKOcXM6dm53Z2duzs6mgIh5qam8RozKpW9Xp9JZuzHUcSBZahGYYZm51/4K3D163pXd/ekqvWLi0u3X3t1bOLmXg04tgOwzD5cvnPB49dvaa7ORLmWdaw7PHllZAoBgQeALBUqeq2PdjUqFtWMhJGyHc9DwCQTsRNy3I9TzMM1TT/evi47XlX93YlFOXg5NRiudIYCgIAWZqsGiZNkImAMpMv3ri23/E8D6FEUFFNy7AdgiQKdc3yvMZQEEIQ4PlVPuX41CxBQIVl+xtTumVPF4oIoZ29nQ+8cejGdQNvjIz1pRoaFEW1LIFhWJryPJ9nmaVKtTfV4HpItUyBZtrTSZZhWJYtlSuGZREEoVtWWJaRjxiKsl2PJInxzHIqHCIg5BimoqoOQhRBOJ5XMYzhzPLG5qZMpcLTtMAwdcsiINzQ2hIPBUfmF5crVReh6zes83xvIrMscVxbMjm7svL06XM3ru1Ph8OJWPTHzz539+U7ZFEcXVh89MTpq3u7d63pfevS6F8PHv34nt00QUYk0fY8w3FFliEgMZHLRyTRcr2IKBAQChz7/IXhbW2tiYByx79/Ndzacuvll31w57YfvfjqUqkk8RzPMJl8sVQoqIW8Z5qrbDx2XQBXNVQYQAAwBgAC/23KCdI0tHPLAAOrUinmcp//yyMBjvvWXbcPTc86yGuKRh7Yf+jDu3f85IXXJIFFyH/P1s3JYEB3HJFlbdc1HZeAUOa5p0+fW9uYevbM+ZvWDdQtm6UoiWFMz/U81BgKKaIwXyy1x2PJSBj7WFFkEhKWbUEILdteyBVYmhI5TrPM0aWVgMADAAkIdNsRWCYsiRBCjqbLmp6pVIqqfkVvd80wKoYxWyhtbGmyPeT5yHLctljUx1izLOT7DcFAQJKGZuYwBP1NjQj5um35GAMM4qHgSrm8WCo3hUMyzzueN76y4iHcnUzUDMNDvsJzEs85HirV1WQoiAGYyxcsz20Kh1XLElh2sVSWOBYAuFSudCXj2AezpVKhrsVlqSMemy0WuxMJz/frpkkQRFSSCnU1KPKabYdF0XLdhmDw4kKmZpoUSQ40pm3PjSoKxhj5yHG9gCRppvn60KUb1g0EZClXqsTDQYCBJInL+QLA2HScgChOLC1v7esZm1945eIIR1Fb2lr+cviYZlqf2nMFQ5K265qut0q8YIz/+x8vfGnvdTxDuwiVNL0pGtYMcypffO3iSDygfGTXju88/dxV/X3nFhbvvXo3SzMlVbvv5dfetW3L+tam/ZfGXjhz7ss33bCpq4Om6QvTs/GAvO/i6M2b1n/yD3+VRaE3lbxz0/rj07PT+cJyper5SDNM23F8jLf3dt+z67LjU9MPvXU4EQ7dsWn9A/veqtRr5ZUVq1wBAAMIsedh1wHIBwRcraCr1igAAIAAkDSRnZpcmhjPLS0jhL6y97pb1g2ous4x1PmFzB/ePMQy1I9feLU7lVgqlq9d08uQZFHVHjhwuKLpHMOEJZGhqelsfl1j+vnzw5vbWuKKgpB/fHr22OwcR9EUSZZ1HWMclaXulub2nh6CJHTD0E1DNwyEkO04g90dyWhEFgUf42Ozc0+cOntseiYiS1P5wtrWls50et/FMYaiQ6LYGAxigP927OSjJ04fmpje1Np8em5hMpdfKlc7EnGaIpsT8ZKqRRX54uKS5Tg0TQkMo1u2LImN8XhV0/P1+vDcPEL+fKnsIp8gCAjBZK6wUqstlyu/e/Pg/vGJI1MzqmEKLJMIBkzXzVarbfFYWJQiivzqxVGZ5+ZL5TdGxs8vLF6zrv/58xd//cabp2bnAABhSfjNGwfOzS8WVJUmibMLi8+cOe/6KB6QddvhaAYCiDGYXMlGZWmgMd0UDk3mcq8MXVIkCWH/7Oz80EKGIKBmmv3ppG5bC7l8S6pB4PlkY/rSzOwvX90fUOTZQvEzf37kxOwchFBk2bWp5Ojyym9eP3DTuoFkOHR2YZGjKcv1FIF7c2wyU6789ciJd23bIvMc8rFqWZ0NCZ6m09FISBC+fuveLa0tEsd9+tqrbtm47lNX7U6Gw7br6rY92Nx0VX/fg28dObew2BSPyTz3yrkLpycmXYRKqtYYCT114kxLQ5wkiGRQ+fuxk3XLytVqbfFogBd4lu1vbQlKckgQl0rl+VI5IEnb2tv2bt6kG2a9XCEZZnVjRDDMqswerrpYIQFIClDU24w9BgBjYvOn//2pw0c5nosnG9IN8VNzC6OLS7987c3lam0wneqOx30fv2Pzhqv7+za2tz526szPX33DcOw/HT76w3++fNkdd56bWTg2M7t7bf9KuTJfKr80dPHF80MHz51/a2j4kaMn/n7shOo4BAFjsty8ZSvf2PTtx5/98K8f+OAvfxeOhO75zQPffuqf6U1beq/eY1r2ixcuFuvqtvbW7e2tyPf3rh3IVauTmaW96/qR72OMF8qVgXTqlvWDxbp6bX9PzTQjosjSVLauXsoszeWLDEMzFHVkYsp2PdUwhjPLHamGiwuZaCw6Ordw6x23OZ7nY3Axs7SuMd2WbHBct1CrT+byluvuGxmPSNLpyWmM/SdPn3vx3PDu228HGDx5+twzZ84lgookCB3xKMcwQYG/oqdL4Xns43ds3rC5rS0iSbbndSQS61uaZZ67uLRMkeTG5qa2aMT1UN20aoaJfP/Y1AyEAEJYt8z9o+MvDA2XVO3GtQORaGQ8s3JwfAoD/NLZC6fn5v965LjIcePLOcd1DdMkCAghHGhM6oaxtqX5xvWDm1qaZzJLFU1vjcc6E/EP7Nwqs9wnrrgcIb+iGwGBrxtmxdAXy5V3btnA0nSmXKmbJkvREysr48vZUk3lGOr8/CJDkSOZZQjhyamZumlmCiWKJD3fv36gbz6f/+RVu5vC4Y/uviwoCrPF0p8PHlUEniJJmeOmCoWKqjEkWdaNmmnO5gvt8dhiqYwBboyEw6Ig8axmWes72jmKDknieDZPkiTGPsUw2McAEpCiAAarWQeQpv9laseQpMDqjxRF8Dxcf9MtP//ge9d0dzmO86Ff/J9mWt+585afvPS6wDH96RRJwIVShaOouy/f7vuYY5mFfFFzHJlh+9uaHdctVmum7cgC//y5odlCMSyJPsaFuupjvLa5UTUtAEBFNzY1N37uU58w8vnv/+Xhre2tJU2PSRIkQEcq2b1uHfZxPZ8bHhv/3f6DNEWmQ8GR5SwAgCKJ7e1tZd2IiOKNm9ZPZJZEllVE4dzM3MhK7l3bNkk8b9o2SRC+79uep5l2UBKWy5WgwE9mCzLPNkcjAsuqhtkYj0qSNL+0fGZ2/sjkzH+/645ytYYBDiny+GLG81CmUs1pqu/j/lSSIclkOAgwJEnC933PR76PIQDxUHAuVxhfyZIkERaF84tLuu2sbUx7yJN4bqlca46EFsqVmXzx1vWD/zg35PmoNRq9vLvj1MzcZV0d5+YWO+JRzbYjorhcq40sZ9c3pRvDoYVS+fETp68bWBNX5Ey58sL5oY/s2tkai2GAeZbhGdZDSLMsCEBFNxqCAZHnWZo2bauqaiLH+di3XW+5UkmFgo6HTk7PzpfLcVne1Nry7NnzJU3jGeYdm9Yfn5lbLFc4igpLYkJRwqKg2fbYSq4lHL68p9Ow7UdPnCYhsWdNzysXRzzk7+hou3Pntp/+88Utrc09qSSGYCSzpNtuWBRljq0aBsJY4TnXQ47nRSTJ8byXL146NzPH0czdu3Y8d37Ictx791zx5KlzC8UiAKAhGJxcWq7WavVy2SyXCJpGpuVbJsA+IMlVrd3bG070tquOYFi46ebbX/jWVymGMU1j62e+fNNl2z+8a6ftuuPL2YgsaqbF0/RDx07euHYgW6vtXTugmtarF0fv2rYJIf/C/EJHIhYUhb8fPXVlX1emXD00McVS1ObW5oaA4vm+5bosRckcx5BUSBYZirJdF/m+4TgiwwocS1OU7bosQ9MkVVbV+XwRAyywTFnTWZpWTSsiiZ6PAwLvIO97z7zw3btuiwcCCPkAAsOyBY4t1OpDi0shSexPp/K1msSyc8VSRzymWlZUkcuqFgsohXo9GQxlq1WWpkOSmK1U4wEFYByUZcd1VcPQLZulqYKq2a7bEAxYjouwv1Kt9SQbWJomCDi2tNIej3EMvVgoOT5Cvp+rqcdn5zDG6VAwV1MNx7luoE81rWQgEBYFSEDb9WiK8pEPITBc9+zcwtb21qKqnVvIvGvLBgiJuWLxrfHJd23ZJHGs6TirDj6eoeuGSRJEQOAZinZ9BCGo66aLPISwxHO6bXWmUgFFRgg9ceio7Xnd8VhzLDpXKJybX1zbmK5blsDQQVGkSXJsJfv4sVNfufl6hqQs112qVnuSDXXDZChqtlhcqdaLuu77mKHIbW0tl5ZXLu/qwBh4vs9SFEkSAsvWTZOnad/HAUl45MiJW9YP2p73uzcO6rZ9y8Z1EIL5Utl0nPVNja2x6N+PnzIc5/YNa2Oy/OzZC/2phk1trYVa/dGTpze3tVzZ2xMNBXd96Wumqtr1GvAxRsi3LYDe1i79v3P5ts8JA0AQ1G//7W7XdbO5/FyhoCjK9vY2RRR//eq+vKo6rqfw3C3rByEAp+bmHdfjWOatsQnNtlbKlZAoNoVDNcMs1tRNrU2LpfJCuXr3ZdvOzC6cmp3vTMQEhvWxf2Fx6Zo1PSQkaJpsbUjMZ/P5ev3+l19vjEU+fsXlHM3kqrXe5jTHkD7Gj508XdG07mTDO7ZsfOjIccv1/u8THxmemBJY5tjUTFdj6vdvHv7vd97W1pIiIEExtKnrMl9KhkO/em1/bzLBUNTw8vLpmfmoIr00dKkhoAwtLP37DXs002Zi1Jn5hds3bahqejIcuriQ2drZztAUy9Ar5XJIFBOx6NG3Dh+dnN7Q2pwMKMjHNdM05hZ2dHfwDJsMBkqaRhEEQ1N/eONIWJbWNqYHUsmEIu8fm7x5bb/teRRB7h8Z70slr+jpHFlemS9VkO/fvnEdxzBLpXJvMpEpV2iKEhh6pVprjkYaAgGF53P1er4Oo5L45OnT29pbIQA9ycSTp85+7vprggGFpmld15dLlYphjCxnV//KjTfupSV57NixtmiEpsjHjp/+w5c/PwCAeOTo4cmphWL5uoE188WywNACw7xz2yYIoYMQAeF0oVgzrWv6e8eXs7m62pNM7FbkbK2+UKqkQ8HGcJgmybFs9uTM3NV9PZs627//jxdchESG+cLea3/x6huFev2p0+eu6uve2d0xls0em56JSJLrobppPnXq7J2bN9R0IxkOPnL0RFSW65bVEFD+cOBwRJZs11uq1B4+emJ3dyckiI7ensmLl5x6nZYljyJ92347XMR1/j+ZiIcBxIAkic/+5W+WbUMC3v/KvivXDXQlE6VafXgho1v2e7Zu+tgVl0EMP3PNlbesHXzP1k00RTEkqVn26bn57tbmx06crlsWwrirIUGTFE0SumWxFHlVX/dsoURAyFLUhakZkWGisljS9I8/8JdYKPCOm25QRGFkdn5sJXt8aiYakOeyedO2/nnmPEWSWzrad3a2BwThS3uv+8J1exaWllma8n3cnYjfvXNbfyqZK1fHJqczS8uzM3OO7ciSpEii6TgPHDgscmx7NBqUxFcvjiocp1l2QOTPzi+8PjKGMb5lwzrNtE7PztME+f5bb2ptbxNFqbGzw3Lcrva2pq6uIxPTCPuDjSmWop4/dyEuSeO5/L6LY6LA79q+/abrrh1fyQ8vLcs8J7EswL7MsSdm5n3fNxynMxFPh4Mbmpt4mtZtJywIl3W29yUbyppOkyQBoW47JEFAAHZ0tAUFYblSzdfq79m2GWBwbmExJIm3b1xbUjXdcTiGuW3DuoV8IRiJyKFQJBYbWV6ZzBem84XBxtQ1/T3Z6ens6Iiqaa2JuMLxH73istHR0czcnCIICUUhSerswuJYNndsZnYyXxhIp8KSeG5hkWXotY3pmCQeGp9Mh0M3r197fiFT1nXTca7o7TowPnlhYVF37KVyVXOcQl29ODe/u7uTJIiP7L6sqmm7utodz7tz03qE/NliaT5X8BBaLJXjimy7LkUQZ+YXg6Lwocu3MxSdKZYZklQtKyQJ84WizPNxRS5p2o/++aIgitlcHpIkyfM+8rHnAexDkoQQrkrvIElBigYkCQiSEEQodfaEE4lkPFaq1hiGDojS56+7+rGTZ0zX2dXV8drQyId27WiJRZDna7aFfUDTVFnTVlU/Nd0oanpckRWez9ZqhyamrujptBzXx1hg2WQwoNvOCxeGHc9LBQOLlSoEoDEcag2HIYQj2exgOhXgeZai6qaVCCqrBHJJ1Xoa07bjej66uJhZk05jgAlInJ6ZdZAfEYXedKqq6x5CMs9HA4FVLxFNkQVVFVnGdr18XQ2JwsjSSkDkG4PBkChO5nISy27u6jBMy3ScQl3tTDZgjMPBoOM4pVrVsp1ULPbSmbPZWr0zHovK0mQ235tKxoMBEhKQgKsSLQBAoVZbKJYgAAxFPXd+aFtH21SusKG5saKbIscsVqo9iTjGoK8xpZqm6yGKJGiSKmt6SBJKqqZZNkUQYUl89Pjp6wZ6ZZYTOOa3+w/anveuLRvjsrxSrSk8lwgEgrIEAHY8z3U9DHCmWK5btotQeywalESGogq1Os8yEsdZjuN4nuW4LkK6bVMEoTtOXJEZmrq4uHQhs8RSVF8ykatrmmWpti2z3E3rBp44eaY5Ep7KF3Z3d+bq6nyxbLrOppbmTW0tE9mcyDKFmhqSxFNz8+/fua1YUyEEC+VyUyi0XK2lQkHXQy5CGACepl3POzA+OV8q37l53f+9diAoS+/cvKFsGG+OjPekGnqTiSdPnHERaoxEyro2MbfAsIxlWoah15dXkKZiH0Gawa4LfAQAACQJEAKQABAQHE8ACAc72h/5/KfaUknbth3P+/2bh6KyVKzWa6bVEAzYjjudzR+Zmi7UVYFjBYZZfVUuQgjjU3MLVcM4PDF1aXmFo+mqbhY07fjMXKZcmcrmR5dXtrW17unraY9FNzQ1fmDntsu7OpPBQHsidnVPd0yWZZ6jKTIgcBRJ1nRDt52Vau3szGxV10uqmqnUxldWnj19vqSqPMOcX1w8Mj3rep7Ec+lIJBYMeJ7nuG5EkSSeCwmC66GwLLVGIwSELE0dm5o5NTdvey5DUS8OXfzrW4ffGh23XGeuWPrf51+2HKdcrZbr9WKtbrnu1NJSTJK2d7S1xmIhUdza2Y4xNiybJAnHdYfnF/LVaqZYytfqFd2wPW84s4wwPjO3sKm1uaKbRV3fPzrRHA7PlyoBUZhYzuZrqmZZtuednp0jCVjV9KZopKCqNdNEPr5n9463Jqb+fuKUalkix65ratw/Nnkhk1mu1gKCYLqOZpqGZSPku8hbLJaCotCXTvYkEwxNQQAJguBoGmBAkgRJEAQkAqKwpb+vrOmT+TwJIUvTZVW3XG99U2NrJKxwPEdR7bGoyLCXd7Vrtp0MKqdm5wzHGcosjy5nr+rrmljKhiRhbDkb4Pnz8xmRZQMCnwoGNMO0XJehqXPzixiAhqDCUtQjx06GJMH1vIGOttdGxhwfsTT1y1fe4DkWIfTsmfMTuYLpuplyVWa5Ul2NKHI6HFzX1MRzHM+yXa0tlqqSLAspCkCIPfdtqfLb/CcAngsc21drhKOpN68bCIZCNEHu6Ou7//3v+uG77vzQZdtv2rB2U0vzjq729W0tJ+bmD01M/uHAoQcOHHz05Klnzpy7uLwCMF6V9qxU6+tbmna0t0EIJY4lCeKyznbb8yqGcXFp+fkLQwSE/Y3pTR2tB0YncrXa/7746qmZub+fOPXm2PjXHnuapemIogQkcX1v97rO9oZgICgIi6UySZA9DfHZQsnD6Nf73nxx6GJzJEyTZDwcXCiUouFgR3fXXC7f0ty8VCxv2La1MR7L1erPnj4XkkTbdS3X3dLWcmF+saLpjufdtXnjcrW2vqWJo5ndfd3pUBD5vo9xsV7/24kzVcPgGKZmWhRJzhYKsiBs276tMRaZzuVXhffr2lopgqwZRknXX7s0kgwGZZ6DAEgc1xqLpkKBbL2+rqkxyPNb2lp85DcEA83RyCpI6ojFIrK0Uqu/Nnzp5QsXF8qViq6vVKosRd2xaX1J1RWOX9uY2tHe6vmYZ2iRY9ORcDoW6+vptl13qVQpqBoEsKSqz549P5PLb7li158OHK4Y+uMnT//spdd7e3tMx/F8/61zF+qWbTiug7zpXJ6jqV09nds62lsiEYllBxtTHfEYSRCej0/OzJU0/crenvds2xyRhKVy+fWR8a/eckNYlBbKlUy5cvOGtRs72p46ffbS8sobo+Nb+3t/+8bBbK32+MkzS+WqLPD33/OBqWweQPi3A4eG5heOjIytVKoBSXQ8r6rrhuMMzc5f1dv9iasuf/LUWYFjB9Ip1bA+uueKO3ZsWc4s33/3e4zFBc80CJaFJElwPMGwYDU/DP8Ly0MIIEHxodD/PPH0fS+8ghBKRMKxUAgA8Lm/PBKSxLplNQdDm3dd/uBbh/tSqXxd7Usmjk7N8AyNsP/IsVMVw0goykg2e2hi6v8+/uHFcqWsGzXDogiyKxHzEFZ4/qlTZ+ZK5XhQ+eYT/5BFfmR5haHJN0ZGy3WtbllXD/RJPK+ZZqZQ6t++A1LUD55+jiZJ1ba/fON1rudd1dfz7Jnz9159JYCAAGChUjkyMhaRpPnlbK2u7t6y0ffRzg1rjUrFsu1zC5mb1g309nT/Zt8BFyGJ42iaOjAx9T/vf9cPn/gHRRCvDl/61A3XNvV0Zwql09Ozt+7YenBk7J7Ltx8Ym7g5Gv3LoSNrmhoJgpAZduONN/3XN/5bEtgDE5PLpcr+R/7ynns/Jwmc7jie56/tbD82PZMIBCzXRb7fk0q1xqI1w8zX1ZGllb5Ug+m4qmkGRGFyJTe6knv39s0d8Zhc53pSyav6ujmamcxmAQCnZhc2tzbNFYu5Wq0pElYty/f9qCSua21JNDXSgvCP0+c9gKu6fmBsMhUOTucKe/q6R0+d/vAVOxcKpWv7ez2Ehi+NTOfzDQFFs6zORBRjbDiu4Vim47Y2NvKC0JxOXRifaAiHfrvvgOV5x2dmZZZ9x+aNuVrddb2wKL5/57YTs/OzxdJiuZIOBfePTdy2Y8uhoZFr1/SemJnbu3ZgJVfob0weGptc19R0cWnFdr0v3HaHcn5438hYoa46nheU5VW1AEZ+YyJuu64kcBeXVg6MTiTDQZqkdnV3/vC5V3zff/bYKSUUuPV7P+bTTT7yPF1fXSDh1fJJEJCkVpVMwIeQYSCTbgokEqFQyPM87AOeY1/97jcyK9nPP/zoYmb5sa983kd+SdMxwK6HfOTLAqdZNgBA4jgPoZphKgIfkSQAQN00TMdlKSpXqwcFHkKIsP/4yTOLhdLnrt/zo3+8QDP0jRvWyRz35LGTH7lq10sXLr53++ZMpTpfLH9492VNyQbTtMbmF6umGRYFiWM5htEtC2Og27ZqWXXTColCSdNCgpBXtY54LCAILMNwDG3ZNiSImWwuKAiKICyXyzRFcTTN0VTdNAOCUKirAACGprCPeZY1bTssSxiDumlwNEOTpOHYlzLLCs+1x2PxYDAWjS7nsrphOchjKEoRRdU0HcelSHI6l49I4iq/u1SrJmSlIaAMZZZNx0koSmM4SBJwpVq3XLc1Gq3o2usj49vbW1Oh4HyxFOB5AoKQKFV1XXecmCzJPFfTDZZhPIQkll0slQMCHxSFoCi5yHM8r26YQVEoqqrluACsYgk/wAsO8qqG2Z1qqGo6S1EVTScJwvY8iiAUkUfIV3j+1MzcYrUKfHxVX9eJ6fmzCwsAA4KAOzs73hwdTwaDd23ZcHJ2XnecgyPjH7vych/jjnicZxnX8yAANE3N5gq96ZTE86VaDWEMANAta1VmXzcMH/siy1UN03Dse777A6dc/Pp/fqU5GIwHlLt/8NPH/uurRVUbWlqeLZSy5cov7nn/6xcu/uTRJwORUCmb0zOLpCz7pok9F0CIkf//lc/VVScAkKIp4PuuZTcnEjs72w+OT6bDoaGJSUUUkI/WdLa/cHboqr7ul4cvLZbK1/b3Xd7TZdj2hYUlhedoknz+wjBH03FZvrqvZ9c1V7/rq9+695rdGIO3Jqau7e9xXFTUtLAkXZpdoCmyNdnQk0xc2dsdVZR0MNCTTgY4riEQSAVD65oaNdNcXMkGZbklEXvyxVcFhgEAf+OuOz7/x4cknk3Iyp41vVFZTsciP3n+Zc2y//2GayWBd1yXoWkAAPJ9VddDosjSlOd5QVF4dXhE5rmEIs8VSw5CM/kCRVExWdIsx/XRjva2znSqpmllTU8EKEXgq4aeDgUagkGapDDAj+1/67K+Ls/3aZLkWEY1DNN2dMtuTsRmC6W4opxdWBAYulDXJIYLiMKVa3peHboUkcVVKR1Jkl3hkMCxLw1dfO/2zVXNaG+Ij6/kFisrroc+etUusco8fOwETRJBXjBd9+7Ldzx35nxI5JeqtbZI5OTM/NVreiZz+f50UrMs1bJmCsVdPV00RU1ncyRB8CwjAIalKB/hoCD0dHZgjKuVytTSMkczz545t6WtWRGEPYP9r5wfqltWd1PjI0dPsRRV1rTWWLwhoNy+cX1EFMq6LjJMRBK/dssNiiAg33eRRyOSgES+Xld4LiKJCPtzuZzIcQ8dPvahy3cQkIAQ/PD5l7e0txAYfunDH7j3p78IivzWyy+ratqpqdlcLLJYLO/YvmU8m4sr8kOvvC4rio/9O394XyqR6O7uypdKze1tKyzrmKZDEJ6uA88DELxN1GPw9hlFHkYehHKADUdC8cTIQw+sLGZmV7LN8TjLMJ//8yNfv20vT7M8x2YKhe8/99I7t25KBQIvXRxZqVTXtzSNZFa6G+INAWW6UGyNhHuTDVP5/MOHjq5tbe1piDeGgiQBnzh1jiIJ2/U6ErGNTU0RWfz7sVO7ejr2XRq//6N3P3fk+OMnTm9sbzkyOkEQ8Dcf+aBuWLIo6KYlcKyPMcfQX/7bE1+56fpnz5zXbSckCjetG3jm9Lm4IjWFQj9/Zd+911599+23jF289PUnnqFJsjkajghiX6qhv7mpWKupplUzjZVqfU0qqTt2WTdWaQTNdkSWtR1H4rmx5ZWmcPi1kbGqru9Z0xOTZAxwvq4+fuJ0byrZlYiJDHNmflHh+esH1yDk8yzbmkpOLWY0y5rO5/vSqbAk1Q3jO888f91g/6bWZnIV72Pg+74i8AQBIYAYY+T7z5+7MFMs3bV5w9q21ly5YntuWdNToSBNUTXdeHNsfGwl1xqNXNHdma3Vu5MJhqIWiqWCppEQNkciJEE0xSIPHz7uIs9F6Ib+NVFFlgXesOy2pkbPQ5emZ3TbJiB4bWSsbpgfv2oXRZAAgJphRBTZsKz7X3nj0uwcy7Ku527s7rysox1j/PiJ0wCCOzdtwgA3hkO26wZFwfW8U7MLZd1ojYVPz8x/645bivX6m6PjaxvTyVAwW61WDHOmUAzyPE2SLw9dhAShGuYn9+x+Y3TCRWilVP7m7Tf95o2DG1oaf/HokyRNY4zrM9OXXnjGdtyNt945f+hNgiSa9+wFPsKOAxkGUDRAaDXh+m1Bk+8D7EOuuU0KhymKWo1nEQV+tQm6PgoK0oHHH7n+/R9+8Zc/2fu5L+u21d6QODs5HQ+HIpJkuo5qWslgkKGpiqbrln1Zd0fFMGWOu33T+rGlZRchmiATwcBQJvPHV9+c3P/K7R/7pO7Y8YBSqKm2567ygs3RyGBjerZQ7E7E+xtTO3Zsxxjf99e/f/ED785nll47ez4mSz7ABCQqulGzTIllc3V1TSqZqVQv7+1mKQoQ8MzkdEgSHzt+ysfA9dDfv/P1vzz1zOGpGcN2HNe9ad3g4alpChIYgq1tLW+MTty2Ye25hcXNLc1PnDzzwKc//vN/PD+ZK9iuS1NkIhDwfX8mX+AZJiwKAstM5wvlmvq+y7Yt1eq5Sv1v//fLr3/ruyu12mro+1du3Ws57k9efHVtYyokCJ2JuMCyluuOLS0PNjcGRPHczFxjJMRSVFU36pZZUvUtHe26ZVUM4/z8Yt22f/q5ez9/3y/nSiUCQsd1OYZhKfKdWzb2Nqb/9OahTKViuS5FkPfs3vHggSN96aTMcdcP9ksC/9e3jlw30EeTZG9H29D4FPL9TLkck6WqYWIASAhJguhONYQUBfno+888bzhuRBY93y/U1Ds3rcfYP7e4FJMl03EH0qmHjhxXeP4z11513yuviywrsuwt6wdEhl2pVpGPb9y57Y7v/+TH77trNld49uz5imbcunEdBvjcQqakae3xWFk3arqxZ01PxTAvLS2XVC2Tyy/PzPCBQDKd8jxUyOWUQABCiAHAGJuGYZuGoxuupr6dvYgQQAj7CBLkarwygBAClhfSac+0+FDI9zxRCTz/ra8iD40sLg22NEEMaZaybGelXJktFC3PowmSpSmBYWzPAwCzFC1zLENRpuOs7sQxAD7GHE3TFPk/z77w1Vv2hiXRdl3H88KydHxy5sULw+cvXqxNT3ftvIyhqdaGhtZoeLZQ+uRVu9qSDQIvBELBaqlsOY6q6cenptekk9lqfa5U4mm6IRAwHSemyDxDa5Y9ns0NpFMkQXAMnSmVBZYFACQCimZaIs9ppgUBODk7t7W9lWeYgCiWVZUiyWy1pvCc72OeYXTbljiOICBNkghjx3UVQahpuu7YPMPwDFOo1V2EWJqWeS4kSQRJsBQzn89hH0AC0CRFUaTjuqppYYBZioYA8CxbN03TcXiadjyvrOum48YVGUIoMkxVN6KyVNJ1hec9328IBnTLsl1vVbhoua7nIZokRZ6r6QZJQJqiWJo+ND7RFo0ILOsitFSudibiLE1ZrhtRZMt2ApJkrg7rjn3fS6/ZnveF666Wef7hoydqhvHhy3fM5Av9jelsra5Z1qPHT5EETIVDAIC16VSmWlupVJsjkY0tTc3RSN20dNuiCZIkCZFhfAA4moYQyLyAfH9V+WC7rouQ7Xqm43A0LXDsQqkck2WWplzPm84X+tIpy3Xv+OJXULUEOf7qO+/UTOvkKy8Dklq3e3dN1V777jdomiYpsu2mO71aBZAUwP/yxSP0dotfDbAlIzGS47x6HUAY6ehsb2l57N8/8+iBQ68MX+psSNwwsGZNa/OLp84Zjvvlu9/nmqZlGvc981yuVr9n987Hj5+OKtL6xjQA4Hf7D2KA37llY0NAefDgUQjAlb3dEse6CCWDAd/HT546++HdO/56+LhqWq7v7X/8ifd94uNhXtg72E9R5KnpuS1tLWFZjkcjTZs2AUj4tvWfP/zxsanphlBoqVROhIIMSbZFIyVd70rEBtJpReBXmylFEpbjFlWVoSiaJDXLOju/uLYpRRLkXLF0cnauIxb9/uc+XVpcpFn2ry+/9sbo+Ad3bG2JRSdXsiLH0iQZkWSaolTTdD0vIAqz+cKTp87etHagL50s1ut/OnTsc9ddPV8oKTwXEAXLcTEAE9nclo4203FeHRq5srerM508PjbpIK8xFGoIBR87dvLawTWPHDlhe56LvCt7urd3dfzhwCHLdRHyv3HHLQ8fPJKr1z9z3dV/eutIplS+ek3PYGP6wOjEUqV624a1qmkNtjX/6tU3rurpak3ESIJ0PU81TY6mddsGAFAkaXvevktj16zpCUuyLPAQwv0XRyKi+MSps6lwYEtLc76uiiwbkQTddl4fGWMpKhUKSixb1LSVar0pHFwoVTa0NL5yfvhd27d0NyTeGBl3EepNJh47dmpNU3pnZ1uA58uaPtDStJAvQgxuvP6a1eTR8ZHR375xYHNr88XllZphbmxpagyHXhq6tFSpbutoIyDcd3GkqmoY4JXMkqDIkijxHFup1jzPgxAKgtDb3KTb9vmLI0a14tRreLW5/yvg5O0DulpBIS8QgoDqdeA6wYG1//zW1+LBUDAUfOHIsaAgtMRiDE3VNL23qyOztPzsyTMMTb02PLKju2OuUOqIR1PB4PnFDAUhhDAdDLI02ZWIz+SLcUWWWNZBaN/ouOG4796ysbUh8cf9b5UNozsRf+jAwWxm6erLd17W2RGWhGdOn08GAl+6ZW++VO5qa0muWz97/PhyvkBS5PjSclsi9qMXXl0dBt63fesbl0bqlj2+kmuJRW5ZN2jY9u7NG+5/6rldvV1PnzkHAWhQlKZQsDUe/c2+A/fuucL1PJaiHeRJHId8v1TXAAQSxx2dms7W6tP5/Ecu38kxTE9jemDnzqFDh14ZGj4xPVczjF9/5INTmWXk+xeXlgWGmc4Xrx/se2N0oq8hwbPM6k5hc1sLBICAEEBAEaTteSxJ6Y6dDAWzlerFpRXDcWiSkDlO5jjL8/aPjMUDys72ttZ49NWhS1vbW2eLpclcLsDz6WBANe2bNq3zkR+PREbn5g6NT/U0xLf2dmeL5XBAnl3JDbS3/vaVfRRFXt3bU9b16XxBd5yrertDkgQALKp13bIPT05FJGlTa7PpODRBMBRdM83fv3nwI7t3MiQ1Wyy+OTqxrbNtPJvf2NzoIrRYrswXy9+49Ubbdc/OLwxnlhtDwfMLi4mA0pWIb2ltdREiIAxKQjigrBTLMs97CBXrquHYv3njrbphhCXpQ5fvYCjqT4eOdiRiHvJV2z41NhFUpFQ4fH5iqpTNrt+w7pu33vT9516OB5R7du9oicf/87GnXnr0Uchy2LEJXgAY+5YFCQJjH/j4bUQPAQVZjqAY5PtEMEyS5Cce+MulZ5+AHP/Ij3+umuahX973iR/fv6W1edddd50ZHjk9N8/QlGFZnbEoCeFsoThXLMkct1ytBUVhLJulSNJ0XZFhAQAjK9nJfKE9Fn38yHHTdY6eG7pqy0bbdRWeG2hrff/uyyWWaQgE3hqfrBtGezw2vrDIM0ylWotVq7pp2p5XrFRIkswUK1+8/hrko1ytfmJqZn1zk+W6EVGMyRJCKCSJR85euLKv28f4mr6eU7PzW9tbbM/759kLyWDgxNTsJ2654Y0TpwEA/W2tv33l9f508vDEzH33fuzUzNyNa/sfOWrsXjf46FuHRYZdGwjuG7p0ZGKmKRqezeW/9NBj//jhd/e98eaRyWmKJN6/fatpu3XTPLeQed/Ora7nvTk2kQwoG9tbPQ9VdG06XzgwPvn+bZtXldqzxVJPQzwkiqZjT+QKTZEQxKAtGtEsKyKJVU1f25QmCFg1jLPTc1+59YY3L03cunFQ4vn2wcH5kdF8rX7n1k0VVdUMc2hhcUtne7ZaE5ZXtra1qJYNAOBperAxVTOtsqZbrqvwwtjSSkci1tuQCIniC+cvbm5twhhrts2S1Keu3r1SrTdHw53xuMAwpuPs7myPydJDR08ONqXSwcBKpQIJeGRy+j3bNr85Ot4ajXA03dfQYDj2ZDYvc6wPwjXdmM4X1jU3e8graurhyWmGIhujkYF0qqhqLE0JLFPRjT19PX9864hpmrZtO66HEIqn0zRJlTSNgPDEpZGz4xONyYbJ2TmuIYkcx8N49dKPt1MbwGosOwYAA0hCQNGkrPiOzccbSJrmRPGf3/hqSzp15MLws+eGPn7VrlggIIoCz/OzC4tLpZLteQVVZSgqU6kGOG4yX1zfnC5pepDnOZpSeG4qXzw1O//urZtkjqtb1uraU7dtw7YlnutKJEqa1hGP3bll0yvnh3Z0tX/nmefjgcDaxtSaVLIhFFAEkeO5pVyBIOCxyemSrjeFQgxF1gxrbXPjapsLSVJNNyiSeOH88C0bBg3HFRhmIptbNbdEJHGpWqVJMiwKYVGyPc923dWAq4paL9bUqmmSBBEUhLAsnZ9baIlGGmMRRZR87Nc1raoZmVKZJsmQJKxunEmCEFnGQ340oCyVSi7yXYRkjmNpGgBgOA5LUQulcldDfK5QTCjKXLHUEgnXLUvmOIT9XK3eEFAs1+NoyvGQyDLIx7ptKzznIT+iSOW6FhAEH2CBYWzX9ZC/GtKkWiZJEKlIWDXMXLV2dn6hMRxyPLS1o62i6QAAjqF9HwssCyBwXM/xXA/5BycnRYZtjYR9jM8vZhZK5YZAYL5YkjgupkhNodDYStZ0nMHGVEySPN8/Pb+wUCxVVG1jR1tzOMzTdDKo5OrqhcWlvYNrwqLI0HS+VmcpqiudMm27MZ0ydaNYqXzqTw9t7erY3d3Zlkg8fuxUd0PsleGR2zeue+XiyE3rBiqaMV8qX9bd/seDRzXTlHiuXNeu6O999thJXdNFScpMT9uVCiVLbrX6tvmYgG/n2v0/4wdBEGQwBAAgWM5R68hxCYJ4a3RsOZfrbEwath2URMu2U50dkdYW1/O+89Q/WhOxp06dOzgxVTPNN0bH06FAKhSwXa89EW2JRjLl6mQuDyHULNty3el8YWxp5QM7tn56z5VX9PbEZJkiiTWp5Na21lK97iL0xMmzyWCwouuvDl0q65rn+Qv5wsXpWdfzgpJEEHCxVFnTmHKRX7esqWwuEQxUdGPfpdFcvU5A+N6d21wPrUayxGWJociGgCJx7GyxpFrWcqXWnk4+dvzUfKl0/8tvdA0ONESiQ5ml84uZgxNTBIQr5cq6lqZ4QGFp2jBNVdMpkuIYyvMRgIChaM/3V2q1umk+d364YhjZSpWhKM2yOJr2AX7sxOm/HDkGIcAYb2xvHV5cOrewVDEMzbJFnjs2PcuzTHtDw46eropu/vPc0OMnz04Xii2JhI99CEDdtCzXPT+7cM3VVyZjkb7Ojlg4dGZmjqYIhqZeGb40vLiUrdUrqjaSWcrX6/3pZEgQKobx2vCliCJbjtuUiC+WSnXD2LBxA0kQk9m8wLGbWlqWKlWOppOhIATw3j1XbG1rCUsiTZEUQTAkeWVvl4+xjZDleQGBOzM509EQn52Z5Rl6Q0tjUOAllm2PRa9d0+t4CPnYRWhtW2s6GqlqOk1RDMuGE7EHDxza0dNVVDWaJLPlyseu2X1qboFlqJOz8wrPP3Xq3DNnzg4tZl4eGsnkiyxN5ys1mqIOjozTNAUgVNU6QVFcNEpS9KqBc/VmJoAxwP+KZwIAYAwhL0KW9Q0dMixB0w09vWd+9TOaZW781veq9fpPP/je7sZ068AAJIjF0dGH9791w/rBPx88shpPMJBOAgDOL2SiipSQ5bZotKSp6XB4bDm7Jp3CAC+XK8+eG0oFA82R8I7Oju8992JbLNoRi3bGY0NLS8vVuuW6mmWVVS0iSzRJ3bx+APnYdNzt3Z1zufyv9x24+7Jtq2aaswuL79++tbkh8dTRE9lafVt76/a+npdPny2o2o0b1sYj4R8987zIMptbmwt11fXRYrm6saWpMRI2LBtjPyiKIsdVdX01omMml2domgBg17pB07IqNTWViPm+v7iSIwj4hwOHJY4dTKfWtTYZtvPy+eGyYXxizxXzuYLIsf88e2Hv2v75Ujlf1zDAV/X1FOvqKo/h+X62Vm8IKEVV629MhWWZoajRxcya5qbJ5ZX2hviZ6blkUJnOFZLBAMA4HQljAJobEoVypTGVpFmWZpjRkVHH88qaxtO05Xm6ZQ0vrQg0va65iaWpVaqEYxiWoXXTRtj3fSxxnO26x6ZmepMJy3WrhiGwjMSytucRAE4XCq7v+z4Oi8JKrb5cqcYUObh6PchKLhUMXFjIqKbJMXRfYypbqbXForm6Wtb0Ozau29je+trQpXvvuHVqasZBHs8wNEW5nlfXDc9HxboqcOyqq/GPB48slyvdqWRUkiSWmS4WV8rVz1571Zm5haeOn0yEQl+5+fpvPfVPy3HioeC+J56ENC2kUlal4hsGgGA1oH7VHQ98BAgSIA9ACKGkEAyDdA3SDCkIsZbW87//FfLQnq9/WxKEWzeuv33r5t4tmwmeP7dvX900RzPLByambhhcM5nNt0bD+0bGFYEby6xs6Wzf3t76p4NHrunvTYWCHEVrlhUPKMenZgMCf3hyen1L08XM8ppUQ3M45GN8aHJmR3srhGAqX/jbvjc/e9vNcVnuSMSrup6ORFiGpkhyuViqGaZqmRLLYgAIAiKESYLwfJSt1cOCUDHMlmjY933bQwJD67ZNkWRZ0yOypFmWzHFT+YJm2WubUu0NidNTsyMr2St7uxKBgItQRdMICKOKAiHULIulqblcMRkKEhAsV6t/O3ZqW3vrO7ZvGV9cylSrBIRLldrW9pZDE1MRSRxIp8qa8dbklGpat64fdBF65sx5lqL2ru1vUJThpeXeZINmWW2xqOMhmiSLqpoIBGzP9Xy/phshSTw/v9idSEg8G5Hl5VI5psg8x3Es6ziOZpmuh/K1OkUSPE27CPkY1w1L5jmSIAAENd2IKbLjeRASmXKFIUkAgCJwK9V6RBI5mg6KwnQunwgoyPdZmkY+8jEwHSfICwDixVKlZpoxWXpjdHz/mfPXb920qbnpwQOHDMtqbUisSafeGL7UnU5d1dtdULWBxhQBYVMs6vvYtO2ypld1vaMhMZcvHJmeGZpf/Pz1e2YKRcNxx7K5cl0daGq8pr/XdlyWoWiCEjhWs8yP/er3P/voh1iK1BznO489/Ym91/740SfLk+OkIBIM42kawbLYdbHnYeStXmD3/+A8tXqHCJdIkjQNALBMc+Cjn2IYlud5x3PfHB3/t5uurywsQALSNC34fioUTAaUfE1tCCim47bHoh3xKE8zPEOvVKuXd3cWNf3i0kpjOMRRlOm4famGuWJZZBnTcboSsagkhkWxahjb21ryqtYSCc3ki5IkqZYFITRdd31rc6ohoYSCnuM4nlc3zbFsfiKbu2vLRhITqmUtVWtd8RhP0xiAsCg43moaLw6I4sXMckSWbM8Li+KFhUxnIhYRRY6mJrL5imbUTHPv4JrhxWUIIACgIRTKVqrzhUJnMpkMhwAAZVULyeL40goBiesH1mztbDs5PtWTbsjW623RKMCAIamoKG7v7Kjqekci3t/cqJpGTTdXPRKpUHB0JcuQ5NGpGcNxbM8r64bteVf29cQCim7bnu8HRSEiy6W6OtiYFjnWQ6isqhgAlmVczyNJIlMozpVKIsNwDIMxODu/GJXE7mSD5bj/OHdBZJlkILChpakxFstVKpbjshTVEosMLWQoimyNRg5NTJmu63geSRBV06QJ4rKujn0jY5+/bs9bY+MxSTq3sNgRj0EI66YVkcS+9jaMcUk3bli/drlS3djatFSp3b37srGVXKZSXanVr1834CFEk5Qo8xzHVUbGjs3M9TWlt/Z0yzwHAMzX1e6GxKGJKddDkYBS1o1f73tzsDGdr2s/vucDtmWZltXd3vbgW4ev6O3eM9DX2JB4+MDhlpZmU1U90yRpxmdZ37YB8gBJAQRW2aW3KyjGBMFyAEDPMpHruLpuG4apqrVS0bItiqJuWNtfrVRVVV1aWpZE0bTsoCiUNI0iYCoYEBgmswpHBOHKni7kg4Qib2xpAgC2RSJ9yYaIJF5cWm4Khz502faYKLIUNZkrjK/kUqEgS5MXl5aWKtX5QiESDB4en2wOB3saEi+eG3r8wMHRkdF6rebYjsAynbHobRvWRiSJpkgPIYyx43kEAfN1lSIJCIEPsGrZNV2PK3JjKBgUhfFsLsDz23t7xrO5o5MzX/zg+xSeDwpCVTdu3LTedt2QKEQCAdOxKYJUDYPnuOG5BdNxVcMKCcJytRYUBM9D8YCcq9YUjuMZJh0OsjS1pb3Vct1jU7MkSTAUdWxydipfKOt6plg8NTV9YWHxmTPnfd8/O7fQl2yIy/JdO7c3RKM0SS1VqpbrRhQl3ZB44uSZ4cxyMhrxkP/K8Eh3U7pYU3XLpgiyMR4bbGqMB5SQKFyxbfPapnRckQ+Mjock0bCddHA1YIJ+8cy5RDgEAO5oiO+7NCow9EBToyLwnfFYTJYu7+oYW86GRMHz/Z5Uw/u2bz0wOt4cDhU1rS/VcHhy+tDE1CsXRwhI7F3b3xAI5FT10PgEQ9Oa5YQEgafp1mg4Ioq9DYnZXH6lXFVNY3IxUyiVOIaum+ZDh441trcempxWLRP5/uo/FhKFiqpd1dv1nm2bHYSqhhFMJGYzyyzLxBVFt+wNrU0zuUJIEle98wBjRpYABNjzVrs59jywesEchKt1ExAEAUmSoGmAsWdZkKKQ67i2ZatqOZutqerfjxzfd2G4WKm8eXFkfGFhdHlFEcS9g/2LlWq2Xm8IBt69ZZPlusmgslypdsSjC6VKeyLREY/SJKHZNkWSmUp1PJstqZrIsi5CqaCyJp0cWsiMrOQYkuxPNbx7+5ZN7a3bOtvToTBDUxXdODY9+62n/1mpVLdcd92TJ8++OTaxvr314SPHXx6+NJkvNIdD2/t6FJbrTiYylepSpcqSVEMgMFMoQgjbkg3j2dzJmdn+xuT00vKOzvaPXXHZyNDwYFvL1esGr9mxTeC4rX09iiDajv3ChYtT+UJve9sLJ08/d36opGntTelkJDxXKs2XS7/ed6AtmdAse6ZQPDY1HZGlF88PQwhpgrQRUk1zsVC8a+fWTW0t+br67h3butMpTTfXtzRdP7hmsCndHo+FRGFkbr5UqYo8t6YxvVypOZ732qmz792xBQM8s5xdLJcPXBpNNTb+5KXX7n9lX0M6tVIsrR0cGFlaydfVoUujpuNSJLkmlaRJ8sO7dmxtb9vd0xWW5S0dbQj5iiBIHNeViA+2NGMAqpoRk+X2WHQyV7hmoNdDaFt7a6murTJ0rfFYgOcd1wvw/Lb2tsu7OnXbXi3z48tZgWWXK5U3R8fHcrm6ZQ1lll8avnhxaXl4cenN8YnT07OaaWUKxaAovn/H1qv7us+ePnvDwJoPbN/WkYiPZ3MbWpqawiGSJB548+DR6dlcXSVJ+PEf/ZQkiWK5GpLEkCR2pdMCQ5c1DXkI+Qg5DsNxGK1mK8PVa88BRa0Oo+BfDyTkAK0EGFmiGba2lFnlS4VkSg6HUokG1/N29HRFJHG2WLpr88bVHKyqYUzmCiLLMBQ12Nx4bm6hKRzCGAcF4eXhS3vX9ld1AwKAAagahu15w0sr65saK7q+XKs1h8PJgAIgWChV0sFAzTAxAAGBd1zPRSgRDEAAiqrm+X5DQPEQqpkWRRDxgEKRxPhy9vK+HstxbNd79sz5qCR0xGIQwgPjkxRBXN3X4/vIx3imUGwKh5Dvh0RxpVqLSKLM88lwSOC4qqqGAwEPeZZtX5idT4dDBIQAgJl8wUN+OhzkGUbiufGlFcNxSQJ2JxPL5crrI+MD6VR3Q2K+WKwY5vaO9oAkjC4uH5ue+dKtN+bK5d++8dbIYgYCGJKlsCS6yN/Z2d4cCTWGI6ZjczRt2A7PMJb7dh4nBMBBaC5fXNOYcj3kIWQ5TkgSGYpatTrSNIUxthyHgERJUxHyGZrG2Pd87LgeJOCxqZnLOzsElsEYv3xx9Jb1gwAAx/N4hi6p2id++ov7P/8pAhAyzzaGwxBCjmFU03JcFxJwOpdHvk9A+KtXXr/7yl1DC5l1zY0/e+a5nvY2gWMG0+lXLgxZlhMPB2/dsO7EzJzAsgrH3bp+Lc8xmmGtuj11237+3JDAsbu6O98am7x+sM9xvSOTM/OV8qN/eehvP/txTJY9hDiadjxvtlBUeC4qyz7GX37kiY/u2XXfsy+UsiuupgmRiJ7PAwB828aeB8D/f7IIBAQBAcOSkgwwJlhWCEcwQj5CgqLwAs/zPMC4NZlUOO62DWu7kw2qZdZ18+j07KbWpqphCQy9mpQZU+QTUzNX9PdlCsV4UPEQqmh6PBBQDTMWClyYnbccd6VeYyiKJqm4JBV17dTswq6u9kQg8OKFiyu12q6ezqGFZd2237Flw7Gp2a549NjMrMCwtuvyDKPZdnM49M0PvpdXAo5pLM7O/eGNtzrj0TWNKdv1njs/5CH/ri0baoZxYHyypOr/cfP1L5w5v1iufnj3jkJNHVnObu9s27Z1CxcIYuwvjY7phjEyvxCSRM2yE8HAaGZ5oLWpVFMFlpnK5mSOW4VZIUlaLJYisjSdKyg8Z7vusem5D+3aYTnuas4bRRIHR8chhFXDmMgXLNu5bnDNselZw3EYkvrkVbskjuNY5tz0XF9T+tDoxJaOVookbdcFAEyu5GSOy1QqDElKLNsYCY0vZ7d2dRAQKpLoIR9j/5WzF4qang4FXeTNFsslTX/f9i0HxyevXtNzcGzyXTu2up53bGKKIoiuhsT2LZt+8+SzFUMfziz7vr+2uXFNsuHs/CLG4Nc/+O/H/vzXVy6NsBTVnYg5HmqJRg5OTOqWs2dNj+U4uuMslCslVd/Z1XZ0cmZLeyvGuFBXMQT5uup4aCCVfNfuyx4/eCShKAxJbunrevXshdZY1HG9VCR8bmZua1f7I0eOT6zkFguFXWv68qpqWBaEhMgyJEH4GF/X35epVE9Mz2aKRZqiV7JZtVrFCLmWiSzLtyxAQIzQ20vOfz2rjhAEAEamadXrFMcFIhGWYXRdI0mSgITEsl2J+MnZ+cZIeKlUTYaDC+VyRTf2ru2nSPLg+OTW9tbFYnlze6vneXXDXCiVk0HFx/jc3FxVN9eiRt2yw5Jge97F5RWF5xzPowlCYJlDE9Pv2LxhvlSiSPLo1Gx3Ij6ytDy6nNUsqyEYUA3rvdu2nJ1fnC+Wbxzs70wk5ufmdcuSeH65VHaQZ3ve8EImKAgLxfKGlqYDo5ODTan/H1H/Ge7WeZ5pw6v3goXey+6N3Ju9iqIoqlqyZdmyIzuxY6c4zZmUyWSSSU+mJJlJnEmP7bjETbZkWZLVSYmk2Du5e9/oHVjA6v37Ac/7/ccP4MABrOe57+s6TwiExqLht+7Oh1im2uu/eX+BxfGrm1sQCBzctxfmeKvbXtnJwzDYlJV8pzOViFuOA0HgWrkaE3w0SYzEohvVWpjnAxznuS6OIje38ym/gCEIhiDPHdjTlZXNRvPgcC4eCd1aWQ9zbIBhXM8dDock3egqqmnbKAQHGXq70Tq9d1bVNBSB843W7nRS1Q2BZdqSvFqtHxkd+vcLlxOCbzgYAABvs95M+H3NXg9DEFU3BuEb07HLYq/UFacT0Y16HYGQ+XK5q6oMQSQEX6vXd113/3Du5sY2R1MryyswBKX8wpHhIVnXr23n31lc/rXTD7EUVb13dyQefY4irm/tzJdrfU0TGCrEsBRmiorKkaThODWxP5dOqoY5FAqJqhZk6ABDozCyJ52qib2E4PuP985ngn4MRqezqR9evt5SFEnTP/PIqZvLK0vV2p1iabvZJFHswwf2rlUbHVmGQJCncRAEm5IkyvJlAodAyLBtVdODAuHz8bZt66pqNeqA4wAgADgeCAAeCP5kFw8NNJ7+oOc4IARBGA4hiOd5KEmG4jFN1Xie9zwvGvD/zPHDr9y+f2pyPCkIcb/wd++cPT014aepAMvolrXVaE3GYziKWI7TU9RUOLhVrduOs9VsASBwaW3r9PREkGXmS2UKw6I839O0itibSyUwBAmwzIWV9Xyng8DwdDx2p1CCIciybd2yLMchUZQhCRrH55KJk7tnvnr2HIVhv/T0E32xd2Fh0XbcTDDgeO5KpWY6DgLBM8k4jiIv3rjdkuQjI7kYz23Um0m/sFiuPjozlY6GQ+Fwq9FUdd2y7W9fuqbZ1qFspqdp17Z3hkLBU5PjmmkulqskioxFI42+tFprPLln1w9v3Cl1uuVO5+Tk+FAwEPcLPUXlKNJ2XAAAeJqqdLqpgFAVe6KixQQeQ5DtZguBoIRfYEmy1etXxF6E52q9/kwqsVqu+lk6wvPfuHilIyu/8fjDJIb/2cuvhXnOc73ZVPyt+aU9mdRju6Yt25E0zXIcDEVwBAUAD4IgwAMIHGuIPYYgEBgGQWCz3siGgiGer7Q7yVCw2m5btqMYxo2dQiYgpAOBrWYzxvMcSQgM2+j1Lm9uKboxk4grpnF5YwtH0f/85KPfvXStIUmO6/ooal82fXVzu9IVaQJ3Pe/zx4/c3M4n/L4Xr9/5g2ee1Eyz0ZMcz2P+X9bJ9VwAAH77m999ZO8sRxBzqeSP7y8sl8q6aWIIohlGIhSKcOyvnD7JUNSv/ft/NDqdb3zxC7/05W/sbO/YpqnWa+AAxgRBnm17pvkTzB0IASAAAjgB4YTnuijHT+3bM3/pMsZysWwGBECWoRVVC/sF1/W6kvTrTz4yFokiMPz1i5cHfGEIBOt9yUeRqYCfoyiaIrt9qa+qVze2ZpJx3bRBEJANQ9YNF/CKHXGpXHn+8H4URgaRnMVydX8uI2k6RxCiptE4VhX7I5FQVezRGKaYZkLwDZZ+CAyjMIzAcK3XTwcESdN/cPO2YVkf27fHcpzX5xd10/r5B483e30MRbaarYloRDEMEkVdz7Vdz3XdiI8PclxfUQZWF55htqo1AAACLLNVb5xZXj0+OjQajV5Z3xRVdX8uYzvu1z648uiuySDNrNUbG43GZrV+dGJ0dyI+mUpIqnZnp+ABwBN7du/UGiu1uud5x8ZHRFnFUaTQ6sQEHoYgBIId1/3mpashjj01OQZDsOO6lm1btqPbVktWdqcSsqZbrlvqdEejYcOyYRAcvCvHdTfrzYQggCCgmiaN47br2I7juh4EgjAMswRpObakaTAMQyAIgyAIAhiCmLZDk4RpWSAA6Kbl51lZ1UgMHzh3VNP4oxdfnc2mHxwf+cGN24Zlf+LAXobAAyxTF3um44AAsFZvcCT52u17fpaBIOgjc7uvb+9gMGx73lQ0OpWMO67bURQCQQ3bfn9lbTIaSQf8g+86wDC26yIQtFSu/t4//eu//O5v/uY/ffXXP/7MTqv9CycfaEtSKhz82X/8CoYiJ6cm/un7L6n1mmeZIAQDAACiCOABrmn8ZNI0AFlBvABTlC3LXDIpBIOyIrfuzw8ff+CNP/7dp/7sr7qdzpPHjy4VSslQ8LcePy0q6lcvXHI89+TY6HgsisAQDEI0SUSDAZpm+GhkfX5B0bWvnrtY7HRyoZCi67OphI8iYQjebLVd121KskBTLI4HGLrU7e3JJN+8v/TA6FCpK4IgdDtfyIWCkq6n/f5ar384l3nk6KEfnb94fnXjQDa1fzj3/as3f+aBIxeWV69ubnMU+dG9c0vlymazdWJsJMCy1a5YFkWBohzXpTC01usfHhl6Z37p2OgwT1OaYQyYy7FAwMdzOIZbllmq1UEAlDQNx1DA8wbRT1nXJU0vd0XDtgM0vVKrVcS+n6Fn4tEgy2imFfXxLEmCIAhDEARBJI6DIKAb5k6jGea5UruDITCF4QDgbTdbHEnWxN7udEoxDASG/AzTkWTX884srhwcyvRUDYJAy3YYAs+3OxSGzWVSJIYFeO5r73/QlGTTtkcj4QEcYC6VIHD8ldv35pKJz3/6k2++8fZ6rT4aDZc63YOjwygMx+OxP//O9z0P+K2PPGnohm4a//ju+0dHhmrd3u/+xhd/8Q/+WDVNCsMU09Qty/M8jiA0y5pLJ1uSfHx0mMKw91fW2opyMJOJ+jjVtM4sraT8QjboP7eyfmJ8RNaMp48c7EvSO/cWEoJvs9lqSXKYZfKdjmZa49HIf/rkx/7Xf3y3o6rNvmQ6jqzpiq5HBeF/ferj9VbXcm0AAH7uH/4NxVAcx6vlsqXppiwDgOcoCgBDgAcAnutZFuA4AIIAjoN4punCMELRSrOldroYwwSmplVFefZ//m00GPCxzGq5emBkaKVa+4Mf/OivPvXcr5w6sd1qn1lYfmhm6tWbd1ZrjafnZmiCADyA1n1TRw6/+fIrc6lkU5K2G80nZ2ccx4FAqKtq+VYbhuETo8MUhpmOvVSuzaYToAcczKXL3d58uTqbSiT8QtovvHjj9kg4dGpyjCWIWwuLd4ulE2PDqYD/+uY2gaGVdmcuk0IgaCgc8lwvxvOyYZIYxhBEwi8ohqFblgd4k8EojWNfv3il1O48c2CPwLJ/9P2Xq13RR1O/8vCDQb8/MjY2f+my63ocTZ5dXPKzTNrvD/Ncs9d/Z2HpsV1TQ6EggaJVUTyQzdT7/ZlUsq9pIZZ95fY9P0OjCIJj6NXV9aTfv3tsxDTMTk8arLw3682PHT1kmOYbt+/KhjFJEAuVquN5I+HQeC57d2NTVLV6r49jSKHdSfp9xY4o0FRLUuZSSdNxAABAEcRxPcUwZcN4ZHL8kf17vviVbyi68cnjh/76lTdV0zw2Nb56566kaTiKLJar640GgaKzubSmqKpp7c+mf3T52unZmb95410GxzEYfnLv7OLFDz48t3uz2UQguNbvmbaTDfjjPp8HeKphZvyC53kIDJ+cGLu+tcNTJEMQLEUiMBzl2Jl0SjWts8trP3vssOM4nb5kOQ5Pkk/tnQsF/H/+wkvT8dj1rfy9YunVs+9DIAiBoAcAPprSDAuCoGKr9fzf/hMEgZphuK4LI4gHAL1eDydJCIJdx7YkCfA8wLIBGP5JJ2nwiEchBIBAz3Fd0PIsG4AhGPVJzaaQiJdL5df/6HcVVX3kv/3ZyekJy3ZsxxYV5c37i2u1ukBTXUl6bPfM6RlHMy3dNCVVvbW6DkEgTeACRQ4FgxxJ3CmUVNM8mM2MRsNL5aqoqQAAXN7Y6ihKLhTcabZLXbHW60/GotPx2GqtIVCkZlm7UklR1YbjsTP35gEAGIuET8xMFeoN2TA0ywywTLXbkw1DVBQCRTXL5EkChaBat9voS3PZtKRqW81msd2N+33P7JmVdb3S6nQl5bPHDtfEXldVSQwzDAOA4Xa/D0OQ47mm42AQFOTYoCDAEPTQ5HhbkhEYRhGYJvDlSk0xzUxQb/YlRdcP5DIkhnYlyQMAniRZksiXKwSK4hhKQrisaQeGs6qmtfvSVDxG4ZioqFOxWDYUwFG02mwphkmh6LGx4cF/f1LwjccihVZHtUwYhmHPe+3O/P5seiQa+fiBvY7rUDherTf/7OPPoAjS7ys/ffSgqKiL+QKGID6aurq1o1sWCIACTd3c2N6Vto4OZ0fjsa4st8X+zz5w5NbWDoWisqblm62haCQbDW9UqtVeTzMtniIvbW7VxN54NPLE3K637y48sXf3WrlCIIiPppp9KeLj/TS1O5uptLsxHz8Vj3oesFYsVbpiW5ZhGGyK4lq5fHpqAgSAjx/wQyCIIfCD46Pz5bJmWg+MjXAU+bm//BvHsv7Xr33hv3zpHyEEoQUfBEGe54EAMBCpW4oCAACIYQOHp+c6A1ciADqA64EgxSAs5+gaQlEACFGC4JgWSuDReGxQUc1Ews1ef3AE3JPNPDYz+cb9xbTflxSE/WOj0Uz6ypVr67X6cDR8fXN7OByyHafS69EoRuMYgsDvLa+NhENhlr2Rz0uanhKEA7mMalmbjaZqWiOhIImhkm4UOt1cMEDjWEdW+7oe8/EIBDVluafpcR9PIIhiGHVJ2mw0T46P5tudvm5wBJELBjzAa8tKqSuemhw/t7Ie5pgIxxU6ncPDOdOy/Qxt2s4ANMwztOd5XVlmSRJH0FDAX6rVEAQGPOAfzrzP4PgjUxMfefajX/vmt4pdcTad+I/L13/l4QevbW5vNJqioj49t+tOsQSB4O5EfCwWbUnS9a2dJ3bPYCh2e3uHQNF0wO9jGd00EQiyHQcEwQsraycmxr5z5Xrcx19YXSdR7LmDe5uSFON5BIQMx16vN5KC8K3L1zTDAEDg8OjIZqO5K5mYikV1y2JJIuEXQoIPxzCO93me12w0erLc7kuW46imFWSZZr/vAQCFYSSGtSSJwjDbdR3XBQAAR5COrBAY2pGVMMe+u7T65O5pWTcQGFJN03acqI9HINgDvHqvPxIJu56HwLBiGCgEF9vtMM995+pNy3UO5bLLtfrDk2Mv37r3/OEDPEVyJDm4pNd7/X//4FK53vofn/o4SxDbzVZDkpKCb6VSn0nF27IyFA79/P/9Z7nV8sdjpm6Yug4jCIwinbW1xJ491dVVPpnUxJ7nupYsQRjmGIZnGp41EHmBIAwjgOdCKGq1W76REbnT1fvS2ovfTB852Vmcn37ssYUzZ6Y///lTk+Nv3V/87ScewVF0EDtt9OWpRBxGYCociQjC7XzBcd35UmU6GX/j/tqgWIOhCARBjutCAPjo/j2e5yX8vheu3/azTI6mCQQpd8UByTIh+LaaraYsX9tqPTk70yyUAQBoyTICQkeGc6/dvY/BSNTH5dsd23E103I9r69phmX3NI1EUR9NDkAJNI5tNJoBhg4xzFKlulCujofDR0aHQwJfarRU3RhQ4gez1Z1yhacpx3XzjeaHdk9HfT6WJM+99XYq4B+OhlEEef7Q/nyzlRR8H6ysj8UjHEnQGEbjWF/Xe6o6gPvplgWA4MHR4Y1KlSZxx3EoHIdAsK8oOIpOJ2Kldmc6HuUI4sndMy1ZefnW3ZMToy1J3pVOvnjjVoznTceeTsZ122JxwkdRPpqq9fsgCB7IpmOCkIxFXMeNj48jgSDgAb5u+/s/ePH7N27rlhVgGBJDu4oKgiCFY7uTibuFUi7olw0TBIFmX04HhJ6miarmet6xkaF6r/+9G7d8JPHI9OQbNxc9wDs0lPv1n/r4B1eu3SuWVdN67sFjGI7/4Oz5hiQdHR2eGsoZtn12adX13Nlk/PX7ixSOXdrYLLa7f/cLn0243l//8NVqrxdkOYGmL29s7cukx+PRhRtV2TBHIiHdtGgcb/alX/rIh/755deq9+6++m//9IV//DJBEJXNTYgkAQDwJVNav2f0RISmPc9zNG3QhQcAwHP+33oJJGmE40AYQQgcgmAYRWEU7VcrVCAgBEOe55IESVNkIhB4Ytd0LhRs9vuu5zmumwoEGBw/9NijP/7Bi6/emz+QTV/fzsMQBIIgBkN+mgYAwE9TIAAOR0IAAP77hUsxH787leAJwnQcRTcGlVwMQcq9Xk/T8q3O8dHhK5vbW/XGAxNjx0aHIQC4uLEFAECC5wIMvVCpNSUpE/CPhIKm44Q4ttGTHM81LPtesbw7FXdcNxcOfefKdc204oIvwjFNSfmTn3l+YXlV4Nhau5OJRfuy8tb9+Uq3N5dKPLhrar1UafT6AkNlwqHvXb4OAsDv/fQn7y0s7TRaDIFjMGy7bkUUCRTNhUJVUdxpdzIBIen3+zn2j1965ZGpyRDLIAj8j2fOffbYkYPjozzHBZKJ65euQBD4v994J8Qxo5HIRCxSEXt38kVR1Z6enSExTFSUzWYrIQg8Sfzg5h0Uhvdm07lg4MvnPhggJ2YS8Xq/zxPkf/3Uc2wwhMWTAAAUPrjwX7/zwlatDgDAcDTCkvhqpeaj6YHo+2eOHDRs+8LaBomipW738ZkphsCvbu6wJI7DCEPgW802BIGzyUSxK2qmdXR0KMhxpm13JRmGIYGmWZoyTKva6UQFHwIjXVl+f3kVh+Hd6eQ3L13DEPj05HiAZVerNct15tIpCARfv7fQUuQk75tJxn58byETDBwfHfpgbbPcFWkcb/Ql3bJ6qmKYlmGalm2Dg7gnAMiy7DrOYEQlt9q2obu6Pkgu/6TSCQAACCGDcSiC44AHUDwHglBjZRkmiNzIcK1Sl8Xu4w8/dOXewq8+8hACwaphXNnc9jM0gaKZUBBC4FtnzzIk+YkDez3Pi/C853me5+mWhUBQS5bXas2n9uz69pXruxLxVMB/aCjzxv3FvZnUcqUOgIBsGCxBHMimURiOcOxmo5nvdDwA2JfLfuLIga+c/eDExEiUZyvd3mg0AgCApGmm4xwdHTm3vFruitOJmKhqAACcGB+ZSSWavX5LlgkE/dwDR7fqzRDHxgSfYVmFQhGCQFGWJV03TFM19HqvnxT486vrd0vllXIVhqBfPHms05ce2zVF4vji8qpp2af2zrY6nVpHnC9Xzi6upIL+mI+3XWe5Ut2XTdXFXl/TXNcLcQyBYl+/eFlgmJlMStP1niwrqhIPh/qS9LH9c8lAQDMMEsdTEBTjOdkwdNNCYDjC8wxJ5FsdlsBrXfH5Iwd9FEkgCI6iMZ/vxNhwQhB2mi0X8GrVWqlYHlYUCIFVXfvNx0//+Y9egyH49OQ4DEOybkIQFKCp2VSiLcsxn+/IcC7hF9YqNc/zgixr2LYkGmGGyQT9hmVzJOG47p5McrlcW6/V863Wlc2dLz566tzCyu5MMuQX1kvlG9uFfbl0wu+3bGciGon4eMdxn9k7e3Mnb9j2+dW1mUS80OlKmq5b1lw6SeOYousEin322GHTsi3bOTU5vlFr3CuWP7xn16t35ruum4mE3vzxm5npKZ5jY4IQ8/GbjUZf1YrlsqnrMI45ljlAhHoD1fGgOufYIEBQCMsSPh8IwZamEQyDkaRlGDTLEgTOUNRYIq5blm5ZKASPRMKTschKrZEOCBgEp4OB8XSyVG8SGKoZZqPfR2Gor+mu5/lIkqVIRdcZgpwvlo5PjL10/daDE6PXNrf3ZtPbzdYrt+/FBN+piXEax5qyohpGmGN5ksy3Oym/gEIwgsDzxXLMx5m2w+CYZlo8TRbaXQxBFsvVqXgUQxAQAK5sbj82M6lZ1ka96XjucCiIo8g7C8ufOnwAhuCmJDmumwkGPM8jMYyhqNb/W9UEfbztOF89dxEEPVHV/uuHn0Rg+Ne//u3xWPRvf/s/GbI8P79gWOZCsXx1a+fR6UnbcXbabYGmJ+MxEAB1y7pXLB0dHUZhZLvRcAFgdyZF4QQMw4qmabrB0ZSoKIMCkGoYbUnORkLnl1Z1y96XTftoWlSVu/nSdCJ2ZXMbAsFdiVhXUReqtelYdFcqAYKQpGkC/ZPGNgRBtuPYrsMQhG5ZjuM4HsDieFtRXM/DYITAkJdv3XtqdqanahiCtGQ5Fwq6nivKKgiBFIYOyBe6acEwTKKo63mGZZE4BgAgBIKe50EQyBAEBEED5zuJ47brnltajft4SdMFmoQgEAJAGIZxFFmvNcYiYVFT31tZV03zub1zgyI1Q+D3CuX9uXRLki3HeenWnWwweL9QrDSapeUllGFf/e9/Eg8FX79x+5kjB3uyfOTzv4TSlK3pHuA5qgo4tvf/BZocBwBBECBIhOUgBHEt21Fkz7K69286th3cd/g3fus3f+HUg7phqob+Fz9643MPHFmu1PqGcb9Q5CjKR5GeB/zJT33srRu3Xrs7z1PkTx85WGh1rmxum7b9mWOH2pJc7HZ/5vRDfCC4vLj4r2fP//ZTT7x87Yafpt+cX6RxfFcynvILtV4/HfB3FaXYFVdrDRJFP3X4wPXN7ZlU4sd358Mce3xsOMTzG5Wa4djnV9cP5jKlrrjVbDE47rjebDpxv1iZSca3my1R1VAYwhA45fcfGx3ebjTfWVx57uDeXDhs2TaKILppojAs8JxtO7fXNydSCdOySAIXZZlEMcdze4oGAJ5uWomAXzGM1XKlKcsEisV5jibwrUZL1LRsIIChSKnb9dN00i+gMBzgOALHQBCUFVU2jFtbOyemxi3bKTSaHEkSGBoLBFZLJQAAaByXdb3cEUdjkRdv3NmfTQk0bdqOn6ZkQ+/IimyYo9HwxdXNQ8PZmOBr9vrvLC7vz6beWVypdESWIsMsOxYNqYaJo+hDUxMbtca17R0Gx7eaLR9FBRkaRxFZ13EEVU3Tdh0IghTd2J9Nm44zFolc3dq+tZ1P+IX/9twzqqp97b0LJyfHvnnpaltWKAybiEb+y/PPIRh2/eadTDyKoej5e/cPjo/dXt+4Uyj1NO3U5NiljS3NtERVjfl41bRsx7FdNxvwgwAIgEC+3XFcBwKgX3nk5H9/5Y3ZTLLZl5bL1ZtXr33iI0+99Ppbhw8f+pvP/FQsElUV5TN//y/3FxZhFLEMQ6nVBuJWwHUBwPNcb2BLGtSOaZRmXMsEIIgW/Lwg4BjW6XSCwWBYEB6ZmYz5+I1G80A289dvvB3kuE8e3Eeg6L9/cDkmCJ8+fODqxqbreTiKyLqxWKnyJEnj2K5E3PPcmM9HoOgAz9LsSz1N0yzLR1IQBLqu53iuqGqSbmAIvFSpwhBc7/UOjQyJivrA6DCKIADgrdcbYZYjUAQCwZdv39uXTbE47qOoRr8/FA5tt9qybtA4jsBwT9N8JBFkmJ1W23bdlN9H4fjbC0s7zfanjxwIsqykG8V25+BITjNMP8cNDQ+rUp+gaUoQFm/d7sryB6vrR0eGaIL4mzffSfiF8Ug4HfC/v7yGInCU4+IC/87iiuO6c6mkblv1vjQZi1q2M1+u4Ajyt3/+J6VbtxY2N8+vrkMg+Mz+PaZl10WRQNAgzw2S8JdX1g3bHg6HIAjiSLKnqhAIuJ7XkVWBoUzL7irq6b2zX/rxW47rAQDQ1zUfRSIQTCDICxcuSmIvN5QbScR2ao3nDu6bTMT8LBsLhy7dX7hVKIqK9tkHjqi6cWF1PcjSIAC2ZMVynXv5YoTnNMt6ZHpiuVJPCj4SQyEQGgoHgxz39++8NxoNmbaT8PkgELAddzaTDvkFy7aXdgqJoP/bl66dnhrHUCTfauMIQmEYisAfrG0atn1yfFQzzfVGs96Xohw7X6qQOGo7bpBhHNctd7txQdhptiAY6skKS5GSqtmOY5gmTZKWbau6LsvKILTUqTcc07RU5f+faXJ+YuxEABAEIQgEQRjDERxneC4eDg1u37ZtK7q+WKm9s7BUbbYXypWo4DMs+5/fO787nTo2Oux6Xr3X25fLOK67VK7mgsGxaIRAketbOzSOW7Z9dml1NBJaqzV8FKlaVl/TNcvCUdTzvMG2E0PgIM2UxV4qILQkORcKFtvdn3vw+PjYyKUbtwzHvpUv0hiW8PGaZVEYuliuIhAEQmCp3X1wYowjCVHThsMhHEUL7U4uGCAwNMjS5W7PdlwMQabjsaYkX98uDAUDdUm6vrFd6/fni+WkT/jnv/0QUa+ikRhgmT+4cv3U9MTVja09qaRiGB/eM/vPZ849sWv6xtbOVqvVlZXfefLRtiRvN5ooAg+HgvdL5Xqvv9lo/urDJykM3TM8VLhx3fMAGidOTY6btm2alu26fVXP5sKyqhEY1pYkBIZIjGRJAkOQqxtba/XG84f22447EmVevnn31NS4n2E2S+Wjw0OO54ZY9uXbd+M+31Qs6mdo1TI3683T0xNlsdeVZNk0q2IfAqFmr99SlEHxd61S1S0bAsGMP+BnaM0y671+mGH8NEVhGEuSsmbsH86Ztn1tc9us2Hy3NxQO3skXP75vz1OnT/3OP/7bLzx8otOT2oXinXwhQNNRgZ9ORHXTgiEIR9DrOzt+im7KMoGiEAjCMHR+bcNPUx/bN7darYU4Nt9qf/zA3q++/8EfffSpi+ube9JJ1xt77d6CrGoPjI7syab/7u33QBZAYHhgFhUVTdK1bl8GQbDTaFqK7Jkm4Lk/6XbCMOC6IEgxAAyDEAS4LoTjGMshOD41OTmWiG7VmzSOR3i+I8uNXu+hqckDQ5l/fPdckGN3JeOTsajjugJDtyWZI8lGv399Oz+bSlTFnm7btuPsTad029Yta6PePDE+cnFtEwCBpF94897C03O7KmLfR5EX1zd//sTRcrenmqafptLBwIXV9ZFwKMLzsqbfzBeCDC1QpOt5tuMINA2CgGHZ7y6tHMhlggyzUqvfyRc/ffiABwAX1jYUwzg5NlLvS4Vu90A2wxL4udUNzbSe2DVF4tj1zZ2uqj5/5KCsaT6GHh0dVWU5lM2BMPTSiz8sdbuW41xY3fDR5HgkslZv/MLJ4/fyxXulcqMnfeLgXpYgvnLhko+int03Z9r2Wr253Ww9PbcrzHN9Tfc8T6DprqyYjn07X3xm/x5RVjTDBEEgEQzc3dphCOLl2/fasnxifDTO8/PlyqGh7HgibliW53nldtdHU4phvHZ3fl8mlfQLHEV+5dzFTx7cR+GYZlqioggMI2k6haOaYYIg5HoehWOtvgTDMIYgEAi2ZbkpyX6aQmEowDB9XS90un6KSvoFw7a/c/XGM3t2hziu2hVZimQwjCJw3TRV04RBCIVh1/NQGCYwdNCiITG0LSlXtrZ6qnZ0eMjP0IphdBT1W5euBlj2mX2zKAT1NL0hSfuzaRRGUAR65c48i+Mkhsq6fidfGI/HQixzZ6eomMbPnThWbHdv7uQv3psPBQJf/9VfsG3HcV2KxBEYfuA//353Y8PTVQAAAAQFUdSz7UHuDgQwHKIoz3ZAGEYoyuy0AdPcOn/WcZz37szvH83phlUXxe9eu0nj+E8d2qfo5rvLKziKiLL64PgIgaLL1dq9YjnIMjxJJH2+nU7Hdd3jo8O24xY6Xct2MgGh1BEPDmdV01wqV+t9aSoW5Smyp2m248R9Pg8AZMNo9KXhSCjf6gyFgoZtMwRRbHdYAmcJwnHdAasMAID3VtaHQoEYzwUYxs/QS6XqZCKqGOa9YinE0JVef6vZEmj6gdEh1TBVy8JgeDQaMUwrIvjm88W5oazjODzLqromazpHUa7rNns907Y9zzMtmyHxvqpDIMhSJIYgpXbn3Or6h+d2m7Ytqup2q50NBjTTivKcYdsxH09gGAxBpm0jEATBkGHaVbGbDPhtx727U9hoNH/m+GHNMLqywtM0AsEACADeQGHlCiwLw3Cx0RQYxgOAjiwtlSpT8ThDEqZtr9dqY7EoTRCv3Lq7MAgHoWiE51TDDHNsmGVZAh8Ohy5tbE5Eo3VJwmF4JBLORMMXFpZEVdudTr5+b2EiGlmq1h4YG650eweHc9WueGMnf3gox5GEZlr3iqWJWMRx3ZrY35NN7zRbY7EYAsMMRV5dXY/7hWKrPRGPYSjyvas3LMeZiEU10yyJPdUwx2PhgdGmq6rjkbCoaVGek3QjwrGLpaqoaau12rN752ZSia9+cPne1s7f/Mzz37h4ZbFUXrw///TpU+VO9y+e++iePbMzn/1F3dDFas3qiYDrej9BNgycCh4IsjyEICCCOLoOEwQh+DGCyGYyMATtzqQ+deSgpOmL5UqAplMBQdaNi+tbXVUJsUxF7FW74sHh3M2tnalkfLvZHo9F+pouKmpc4NOCUBJFniAG3G7Xc2XdDLHMVrOV9Au27aSDgTv5QoTnbm4XMkH/lc1tFIZzoQAKw5Ox6HK1dmgoRxO44zj5VjvEsoppWLaNQJDjehiMWK4T4bkzi8sgCB7IZQHA0y3bcVyOIlaq9biPxxGEwrG+phu2LdAUgaI4grAUZTuOrOkIDEEghCLwdqOJwFCAYSAI+s6V649MTUR9/E6z1VaUsUgEhiBZ110A0Eyzqyi1vtSQpEemJpt96dzqmo+i/s8v/wKKY/fu3PtgefVnn3jUse359Y1X797/9JFDsqaDIFAXe+OJ+OCKhqGo67mSqvkYpin2SAwDQQDHsEZXFFjGcd1B42pQTP3xvXnNNL/w0AlF0xfKlaVqTTOt8Ujo2tYOBIJjscj+THq71a71Jc/zIBDULIsjiKl4dK3eeP7YkfVyRTPNe8WSqGpPz+12Pc+07b6uG5bdluVsMHBhbWOwcEJg+ImZKQrH4sHAarFc7IqW4zx75KCiad84f5kniblMkifI+VJZNc3hcOjC2kYm4Jd0PcAwEY51XFczzUqv31VU13M9Dzg6OlTr9m/k86OR0HAoSOP4v7x3IRUMbNbqIAiajs2SpGFZsqZTBN6TFcuyqpWq2u3YmuYaxqCN5NkO4LmA6yIgDEM4wQSDAAhiGIZgGMswEAQ1Op03qtVLy6sMSbZFEUVRgWMJDJNUDYGg8ORY3OeTNH08EpmOxbLh4L+d+6Cn6TxJ7k7EHc/tqVouEKBxbKlSPTIydG1zxwW8Wr/fVVTdsSvd3la73ZXVE1Pjjuv+6M79mWQc8AACRbZb7X2Z9JOzu0ut9oPHj/73f/9mrdcbONZjPK9blqhqf/q5n/mP197YqDd3JRNnl1clXbdsO+kXlqu191fX+rruut4nD+59f3mNp8mpWMxx3XuFUphhPvO5z15+6+037s+7nnd1bXMqlRggoSkcOzKcm4nHGAI3bdtHkblwaKVcwVD0xRt3fv8jT5qWBYHgty9fg2H45x88fn1rp6uoim6QPF9aW2dp6vTsLkWWURSFIDDCspv1OoMTHuB9/+Yd7O793/vwk36ej2Vzxc1NiiBVTbu4up4KCBiMJAP+f37/wpO7p/Otzs+cPI5j2Fqh9O7CMo1hkqZ/4+KVp2ZnQADgCAJD4JlkfKfdUU3Tcz0Kx3LBQKHTHQmHXM+7X6zsTiaqvf50PLZSLA1oy8OhYMzni/uFm1vbVbGfCfoPDOdkTV+pVBMCL2nGdCKW73TKXfHw+MitjS2BpmbTSc20vnr2XICmP3XsUK3TLbQ760Y9IQilbne5WuNJAgLBIMuwOBHiWBRBCq0WDIKzqURXVZuSfG557blD++bL5c1G816hRGKY5TqlTqchiolg0LAsjiRtFJNUFYZAEsc9z6M51tQ113Zc0/BsFxis4xEEAEHEs21HVQyFtA1DxzA+FHpi79xvfOTJT/7134mSjMBwKhSs1OscQw9FIsVWC0MRgWFakjISDh4ZznEEbtj2pbWNJ3dN4yhqOY6k6QyBGZbtuG5bUXqa/trdedN2MARGYPjB8ZF7xcrRkaF3F5YfmZ5QNH02l3np1l3Dsh6aGLMcZ7lSgyGw1u1WeuK5Dy598uihH1y9rhrmbCrhuG6t1390ZvLspSsRH0/i2O18UdJ1GAQPzUxdXlypiP2ZRHy90QyzjGyYAk2t1Rt702kQACZikbjf39nc4Bn6gdERAsMCFH1sbBiCoK6ihDgOgaGeomZjUVXT/Z6nm+ahsVHVMP7gmTiCwCgMd2TlwMiQjyR7iprw8QgCYzB85YOLU2OjKIaqqtqT5GDAf2u7cKdYLItiJuC3HJchcJ4k53cKjxzY1281KZKkOfZbr7+9Wm88OjvDkESx2SJR7OljR7bzRcMwTcsK89yhoSwMgYuV6nQ85nlApdffl0nxFEWi6NOzuwzLRhHYst2BEZTGcRSGxyLhtqyYto3C8ODP2LDtlqwQKKaZVqMvj0XDPpoSZdnHMJKuT0ajfpauiX3X9eICL6uaYpiyYe5OMzQO7sukeYrqKcr1rZ0wz+7JZgqtdjoY+PK5iz6KfGzXVIhlC62OBwA8TVO9/pN7d3//yo2mJIc59uGpiTfvLliukwsFl0rVj+2b++bl6yGOGaSQTcdeLZV/78NPfv5//m+9Wc/sO/DWn/7+wV/+jZGxsScOzP6vP/ufAI6DKOYBFuDYAAiBAIqBBAEhGELTrm3hDHv7y//wZy/86H4+/38+81O/8m9fF3w8BIAxv29XMn5xdfPXTp9UDQOFYQiGPNe9tpU3bOv84srTB/au1uo4gj46NX55Y6sly0dHhgAPuLixtZIv/vaHn3Bdt6uqLEFophXjuZ6mUxiKoyhLEF1F8QCPwjAEgmVdJzGMQFEUQQZnfxiGNmt1D/Aafdn1PB9Fxnz8QDikGAaFYS1ZjvCcaTue5+20Ozd38k/P7tJM03G9Ulfcl0lFeE4zLQrHIQh0Pa+nqH1dRyCII8m+plEYhqMoAkOmZemWDQIAgaEwBPE0jaIIBEIAAFi2rZvmTqM5iMMNwCoQCMAQLDA0R5KD1yAwLCpKXewhCOyjKN2y+5o2HAlzFEVgmOXYJE44rqNq+nqlOhyLDiRMy8VSJhSsdLosSZxfWT8+NozAcLXbc1x3gGIdJFN1yx4KBxXdCDBUS1IEhm70+jSObzSbu5OJiti/urnlZ+jTk+ONvnSvVG7JMk9R+9LJAMNc3do5NpIL87xmmI7nQiBou26lI94uFg8P5bZbbR9JXtrYPDU5nm93oiy7XKuPRcOSZhzIZdqyrJoWjiICRd0tlOYyyXqvbzmuQJONniSbhu24x0aH319ZtRzX87x92XRd7IMQ+MHaxrP75nAEeXdp9fz8QjIUmsukrm9tm6b9Tz//M4/83p8YijI+M23ohqypIAjW8wWjWQcR1HNswAM82wZAAMRiSRCGERynOI6iaQAASIIAQABDUcuyf/upx/761TcjAb8oyb/y2KlvXLjy5NzM2cWVdDBwIJd+f3lN0nQSw5J+oSUrXUWhcXwqEbu7U8QxBARBEADDLKNYlqioA07OYrn67L45AABERQ1zLACCqWDg9vYODELpYKCnqivV2lN7Z6udLkMQHEkF/L5as71VryuG+fr9hQ/tnplIxLqyfDtf9JGkn6G7iuqnqbuF0r5sGoVhBIHrYt9ynITgU00TAsG+ppEYNl+uzCYTHEXWxf7NfAGF4eOjw6u1BgwBBII+MDF2f6cQ9/sqHXE8Ebu4tnFsdDgbi7qeFwyHPc9TJMm0rN//zvcH3gjbdWzHHQQPPNd9ZGbqyb2zv/+9lyzH+cje2dfuzmeDgU8c3Cfp+ka9eWpmKhoMQjDk2I6sKpKs0CQpazqOoTiGEThOUqRlmH1J6inKna2dkWi42OleXN9yPW9fJiXp+rWt7QjHS4ZOougvPXzyb954F0GgOM+fmhr/zpUbCAz92iOniq32m/cXZUM/OjzEEHih0yFQTFQ1GIY2ag0Sxz+yZ5eqG6ePHHRs57tnz202mx1FTQi+AMOgMDwaCb0zv3R8bPj1+0t7M8m1WoNE0ZFIaCQSeeX23Wf2zr12d35XMm5YVkLwrdUbJIqKmoYjiOu5rudtN9tBlm5Kio8kfRRJYViUZ1+9O//Mnt2qaYU49r+/8vqA2EMROAxBJIrJug5BkKSpPVlpttqyKJpS39E0z3VBCPJc1zMNAASRr//Zf/vDb7/4yN65a6vrHuDVmy1Flg1VIWiGZph/OXsBw9Baux3y+f7ihR8yDP3D67c0Xe8raohlIjy/Xqp+/tQDhXZXoEjHdWAI2qg1RmPhUqd7amIsEwy8s7C8LxahcfzK5nah1R6PRRfL1QO5zBvziyyBO477d1/85UMPnfzhD35Y6YrXt3dQGMo3miGOf+PevEBRKcH38MF9f/njN/fnMgeHsndL5UKncyCXOTE+ut1saaYZ9/G1Xl/UdIGmSQw7u7R8cChb6/ZGE7ELiyuD9FcuHNQt62a+GOO4T544utlsXVnfLHW6LEV2JDkbCoAra6d2TQkcF+Q6IACcmpoYyqQ7nQ4IgL6xieqd26qqZaenTo6PbrfbF5bXDNPsSRKGYrKizI2PzSTj5xaWhyPhnVZrvd6kCRxF4LNLqw9OjEY5DoLAN6/dePzg/uThI8rWhiz2RFE0TNOwTA4AYBDKHjveXV782pn3FstVx3UpHFcMczIe3ag3Jd0YjYQDNL3eaCIwlAsGVEOfSycFmlyu1u8Xyh/Zs9v13PmdQsTHT8Qi94olCsdIDONJ6sZOfjoeowl8Oh5bKFccx6UJQu7LtmPPJOPZoP/ixhYKw36aXKk2ZF0/OJRtScrPPnC4JUphlo3wnOt6yVDQchxRVYfDQRbHCRShcGxfNi2wbLXTWSpX92YzW/WG7Xd9FHl0eOji+hZPkaPhkMAyKaG0VKntyaQubWxatl0oFEeHh2YScQrDDwxlQABYKFUQGLqdL15VFNuiYQSR1JJnW55pDmgxAAghn/+zv4xmc//3937H7Pf3/sKv+nj+bz/z/N188V/fOatr2srSklKreoZeiCcgCO6CYHp4iCbJz598oN7r8yS5f2y41BE/NLer1O7AELTZaI6EQxVR3Go0r+/khyIhFIE1y3p7fikZEJJ+ISn45suVyt2eZpgwCNqO+9a5C0+ePrV/cuzq4nI6INzYyl/fyu/NpBuy3NP0T518oFZv6Jb17KEDsqouFEsJv2CYFoXjEY5ry/JypUpg6EAHmAoFj44M3c4Xj4+NtMT+zXzB87zPn36o3mofGhuZiMez8ZjY74+EQzutdphnwyy7A8OGZe/NZUJ+v2XZg5mR4zjVWs11vXg00t9Ywwgc1XWp0dg/nFMM46GpifV6A4jFVNNUdT0VEMqdLk+RmmWFOA6GIcdxq2I/nGJXKtW92WwoENjjuOFMBnBdMhRuVqrpsdFf/70/zoQCuxLxL3z6pxyxe+3Wnaf27aEwbL5UOTI53uh237q/iCAwjWM8RX3v2s3xaOT49ESQ466sb84kYjxNZYPBlUpNNU0Gx3mash0nwNKjkfBmsz2TiDE4xhB4pddLgL4do71QruxKxiEIIijii//6tf/7iz/7w/MXc8GAYdsBhoHAxsGh7Ov3Fur9vmqa+4ey/3z2/E8d2h8TBElRJqPRuF9IBQM8w8QSMUnsrWznBY5jaOrlW/c+tH+PpGmrtUa93z88OrI3k+wqatDHf+mNd2kC/8JjDxdq9Q+W1zAMdR3n0OjQq9duNqq1zRe+yYXD2is/fvDA3udUdfjpj5HBoNZueaoCQBCAIAAAALb1k07S0N59V//ur8R259m//NJHD+97am62p6qu5z73F3/V29wAbBNwPQACAQAEIOjhT3zCspw/fOZDumUZpuUBHolhrucN5ufn5xd/58NP9DX9dr7YUZSfOrh/pVYfjYQs2wnz3Ea9wRMkhiKv3Z2fSyf9NBWgaZ6iIAi0HQeCoL6qVnt9EsXigm9gYBrcADTDEFhGNy3dMg3TGmgbQAgapIM3G82mLM+lkmGOG+RKp+MxgabvFgrXt/O7k4nHZ3dV2h2GIDAURWEYx9CuJKuG7nnAZrP547vzv3jyeCYU0k0LADzbcREE9lyXoygPAFzXdVyXxHEAACRV7cqKrBuGY0u6zpOk53kwBMEQ5LguCsMYgvQ0rd7vszgR4blBQiXs41mahkCQpmnHsU3LUhR1s1qjCZwjKR/LLBeKiWAABsGteuPv3j77G4+d9jN0sd3xAI8lCBxBIAj0XM9wbI4gtxrN8XhMNQ1J01+8eefk+KiPpnAEUU3TtG3FMDXLgiEIAsFzq+vldvvnHzoBg9CP793/7PEjHEEiMJRvtVN+QTVNWdebsoJAUFXs7U4ltlttAkEHyTIUgW3H9TxvQF4wbdty3bFYNODjxb40oCqU2527hWI2GGj0paTgu5Uv9jRtvVqL+4WDuUxP1UAIhEGop+uvXr9Fk0SlWqNpGoDAZDj0cyeO18Teh/bvubm28fVLV65euYYztKlqaqn4E14DBA0e8RDG8SAI/Oo//OsffvdFnqXfvb+43WiMZtK/992XKIbhh4YHqyYARgEMg1kOR5APzc4gMJSLRnLRyNMfejLAsqvVOk+RKASlIqH5UsVPUz6KtB1nq9WicOxHt+9968q1H966KxvGj+/PwxB4aCgTYGjX8xTTlA3jysZWod158/5iQ5I5gmhIkp9l7hfLQY7laGrPvr2nPvz0xPRUs9dLhIK1Xs+0bQAEUgHBz9AIAsd8vG7bG41WvtUOc4xqmAO4a4RjfRRlue5apfrG/OJ3rl43LdPPc7uPHDl24jiGoLcLxfV686HJcQxBq90uR1OW7Ww3mq7rUQRhWNadrZ037s7/xSuvIwgytX/f3Nzsd67dvF8uf+ODy/dKlVQwcGRq4pU790EQfPHmnSDPvnp3HoXhxXI14ffxFEVimOO5Po7FULQny+VardHuuI5r2rZiGDxNszTlel6Q48J+IRaJ7BsdeWTXFASBAY5VDON+qVLsdCtd8eTx40999rPr1eb1rZ1PfejxdCwq68ard+enE3ECQ29s5zmKXKnWa/3+UrXWVdVit3u7UORIcs9Q1rDs24VimOcvrm1SBMYztGKYhm3DEPTG/NJ8uaJZlgeCCAwvVWoRnq33+hiCHNw1jUDQaCJO4diFtY2Lm1s7rXa+2VzY3jFsu9Bs8Sy71WhyBCFpOomid4vlMMfwJDEai4RYJsAwI5HQje3CvVJ5s9mayWYQGE4mYtFQIBUOuZ73yp37V7e2f+kr3/i7t8+0en1fJAwAgOs6IIoAIAAiCABBPwE30H6/qmlvf3B568X/+Oif/C+SJL/09tnW916yLIthaBACMXIMQRFD0+PJBI6i64Xyy3/1P/7tm99+6413/+iZpxCa+eGN26pldhRlq9l0Xa+n64vlquN5w+EQAAADWPi5lfVGrz+XSoxFwl+9cGk4HP74gb2Lpcr17bzpOD1FHYQzepr+6p37MAQ1Jfn80goAASPhUID3ZXLD9Zu3xlLJFy5dPbu4fHB46JOHD4yNj/72P32Zo8gATUua/uj0JIVh//O1txzXZUmiJUlLtfpyqbxSrs7EY9mg/9rm9mqtnovHYZ8Ag/6oINwtlAAAWK81fu25j373jXf6mp4QBBAESQyDIYil6ek0+Pr9hdVC8e7m1tQDD3z5W9+9t7Xd6PdCPr7QahuW9Vtf/84fPvuUrOq/8djDEAgeyKZ9NGW77tml1Z8+fgRHURAAOr3+eqUaFwTFMPZMjJWrtXyztdlsbzZbp6Ym/vm9CxgM/9LDJ5ORcHZ2duelV3Kh4L++dx4GwSDLZAL+9XqjtL09Fo3uy6UN27p7777nASxBfPrwAdU07xZLR0eG+qo2l04W2x0YAluyciiXQRGkKcmDJ1tKEObL5V2JWKnVGY1HD48Or1drCAx94sA+DEW2Gy0SxXAEOZTLXlzfpDCMwrGtfKHZl/wck0vEPwrB7ywsSbpe6/WbkqxZ1lAw4KvVSAy1XXcyHiu0Oh8/tH8xX0zwfFtRtlsd3bIywcBz+/d86a0zqVAwwrEclWrLMoNhLUlu9nowCE0l49cWl3qtdmZ4CAIh27RgGKGTKa3VcsTu/0cWgbo7O818Xum0x3/659fz+c1Sua8oEATZji3LyuFdMz7Bx7GcPxDQNL1Srf/G04+X19YwBHZdV1SVX/3jP4NhcKFYKndFP8NEfNzedMpHkVv15lK5UutJN3eKXVV1Xdf13GKnOxQKjkYitV7/lTv3AMADAC8X9OuW2ej3C93uZrNFEzhHkv/tU88xBFEVe57jRXNZwNDTM9OxWOxuoRRgWcd1A4Lvn196xQUAEsPWG00Igq5sbjf6Uszvi/kFEAB9NK3oRoBlh6PhuF/IBPwojFxa38IJAnBdwANsxx6LhBEImknFL167cWhsZKPefOP+QldV66LY6PUWtncUTf/cA0d2DeWGY9H22uoTB/ZOZdKfPnwo7ffPpVMXV9cTAeHK2ubk8NB4Lvvijdur9XomEjYsu69rL167SeC43y+sl6sBlvnx3fkXrt86e+vO/UKxLStz6aRm2TvNFoogDIFPT02EM5nq6upMPBZimDjPRThW0g0IAo+Pj/YVpbez3dP0q5s737x07drWdjQgjGfSMATNpZLzpQoCQ47rsgQxE49PRCMYghQ7XY4kWrIiGwZHEvuzmeFwKMxzHMOwDO263k6zw5EkjiAj0fC9YqmrqCyBz8RjD02MOY6rGWaIY2VVb3dFAkPGo6Fip7tcrf3vb/zH989f/NjJExxNrdWbn3rskf1zs1OpRNDne+zwgTDP3ymUhkKBF2/cvrq59crd+0GeG3TUGv1+pdURVbWryLbjrO/kj40O0RTNCcK//uLPRkJBBMMc21ZrNdcyAQwDMAyAIACGQYjzQRgOYRgIghAC+8KR504+8NH9e07/yn9ydf3ei981TQtFkd9/4Ydvv/5GcmLiX7/w+Y16cy6bljV94BAK+9jPfemf/vjTn4Qh8G6xHGTolF+4vLHdU7WxWAQGwUzAv9Vqff2tM4l47NPHDl/d2mmIvd2ZVMLHBxmmp+l/9OV//9Kv/3IuFFINoyMrBIbhCCKq6mA0zVIUTeA8x5qmWWt3OpLsAoDrOgOXAAQC6/WmalpRnksJwv1yOcpxDI6nAoLrARGB7/ZlCAIbvT4CQQSGpkIhwcdbltXuirKub9Ybm822qKpPz+1aKlfTAT8CQSxJDEqPjuthCIIgMAJBKII4rtNXVBRBNdMc4E8IFPUxtOt6lmOblu163gB8Xu/392bSPooCAKCnqjSBO45r2na930/6/QAI9BRNMfThcBiGYQDwWJKkCMJx3Eq7PcBs2I6jWZafYWAIgmHIcRzbcVXT1AzDtJ1MOIijqG6aO42WB3gVsbc7mTBsqynJi5UaiaIcSeRCgR/fW5xNJUzboQlsp9U5MpQFQOD86ubebIqAEYGmqmKPIfD1emMoFMq320OhIAJBnufhKGJYFo6gmmkGOVbWdQrHAcD72B/++aef+fDPPnDU8zzLcVr9fpBlcQx1HHe+WGIJwrRtSTf+z49emx0bnU7G37xzLxEMUjgWYlkYBDXLqnS7sqZvbO+gGMYw9IHRkV9//OH/8p0XC7VaNZ/XWy0QQTzLBFxvYJ0D0XAMIUkYw2AEQXE8GAykIpFOX+r0RMuyaZr6pdOndqWTL9+++/KFS7/69BMtSdZt23Zc1TAPDWUYAn9nYbmnaelAYG8meW51PeP34wgiGUYu4K9Lsu0490tlhsB1yy41W8cmx0dDIQpHP1jfmoiGYQhK+/0NSXrl9r2ZZPyhibHhRDwSDkuStF2qkDheF8U9Y6ORdFqXpVfeO4+hyEK5sjuZ0Eyz0uvtyaTfW1yZTsSWytVTUxPlbpfB8UsbW8/sneVoGoFhnmWK1brpWBu1BoVjPElmo5F/eOvsF06f5Bl6u1KtiL2kX6iLPct1FcOgMRxHERAEz62sHx7ObjXbnzx6KJ3N5ne2Ly6uPLZ/DwIjlUaj2umOJuPZkREyFHZU9dK589++en270fr8iaOO4/poSlTUgb4MhiAcQ0kUW6/VXM9zPW82k5Y07V6hZDnOoaFcR1bKohjlOQJBIwJfaXfDPAdCIIFh//ju+7PJ+IGRoaVi+ZuXro7GIh1ZOT46vFZvhFjmt557Vur1/vqV12EQ/Omjh4rt9pXN7T3pZNTnu18obbXbh3JZHEFcz8t3OiyONyX52NjI+eW1Abh5LpsWFfXVu/ePDudSfr+k6dVez3bd/bmMahgsSV7d2MwEA+8uLI9GQggEFboijWFBhsmFApplMRg+nIgXGo1iu0Oi6Fg8Vu10i53uhw7sQ1Dkl//ta+5P/MUeBEE8RTb7EgyCJI4ZltVXVA/wbNv1PPdPP/7M3751ptXvFQtFrde3VMXVdcB1vf8XuoO++POfRUkSAADXtm3L0nRD1rSeIhM4cWJuNwRC//f1t7747/9xaWk1Fgm/u7C00WguFsttWR6Jhjabrb9/+2y5K+ZCQRAEXr59r6OohuMAIFATe28vLvU1TTHNkUi4JvZgEPy5kw+4rnu7UDy3uvHcgb3brY7lOC9cv7XVbEEgGOX5M0urL1+5EZzZlRge/sr5i1+9cPFrF68sb+0QyfTte/M38oUXb95ZKFVuFYpnl9eaklLtihSOqYYZYBhZ12kc3261IRB8d3G52u7wLJOe2fXAU0+SGE7h2Mu37rkAsFaq1CXpP3/7hWZXFFVNNYz1at31PFFRz69uzJfLO+12qdu9vbWNIfC55VVRkths7o+//0o66P/Wex+kDh0O+nzfu36rWG/SqQzEsLahCyxbE/u6Zc6XKhiKXN7YeuHGrQur6wAI+llG1vSb2zs0jmeCAUU3FgqlpXLVR1FbzXaj339naXmlVr+0vukBXkeSj+yeHvS6Ss12gKZIDCu22tvtDoXjJIZOxWM4gsylEnOp5PZOfn5zKxfwnxwf1S0LhuCM399RVM00KQxLCQKOID1VW65UXdddrFR9FFlotTebrRjPJwS+1Zcurm18eG5XRewvV2ttRW5IkqhqKIKs1xpv3l0wLJvGsM8/eOz0rukQy8Q4bnDkKLQ7rb48M5xDEQSF4SDLrNYaOIZuNlqr9Ua50SjX6qmAsC+bTvoFUVYs2+5rWqPT7auan6Y03Xj+yEECxeIB/7OH9lM4Xu921xeXdVmBEATnfTBFeaYBWNbAJwt96e//We/1TEVxXRcAAEPX6+22ZVq247QlORrwT+WyqUj4Hz7308lA4L8+9fhcKjkRj41FIgeymf3ZdMjH245NYtiHds/kQkEawzJ+YTaZzIYCDEGImnZ6aoLBcRLDTk9PxH287bjpgN+07SsbW11VHSiIyt2e63lL1RoKw88eOaBXK716fSoROz05/uj0JIogZr3q51jNtFAEPjCUZTCMp4imJK3VG7bj5jvdz3/o0feX1+4VSuuN5narXe9LU7lMMBqFeR+I4kGfD/CAZEB48/6ij6ZQGBYY+s1789lw6MzS6oX1DdU0SQyN+fhHZqZOTU1mAv7Pnjg6Eo381fMfh0Bw9YML/+P5Z7ORyONzMzde/7HtOP/16SeifqG/ueFKfdwf8HEsjqJxv7Bcrb58605f057dO+t43rmV9Vdu36uIPY4gcBTJt9q5cNB23dFI2EeRIZbRbftgLvPY9CSJYfeKpaVyJTw0VGh3PlhZTwT9+7JpGscIFJ1NJfYPZU6MjgyFArW+1FJUCIIq7c717fxgxlfudNdqdZ4ik4Kvp6phno3xHAgCG41GLhQcCYdm4jGBou4Vyp84sDfCsz+8fd913Wf37xkoDzXTSgf8h3JZzTSvrm/OZlJP7tnVkCTLdjTdIDF8PB7zUSSJoZOx6IHhoflSheU4WVXOLa+9cX+xrar/cuZ8xMdppvXtqzd+ePO243rbzTYMgZlwyM/QruvuHR76g2c+tFSs2K77sx956vr1G+evXGUJ/E9felUUe75IGIJhEAId0/RsB4ARAIYBEARgBARplgiGKJ9P6XZxhkYx3NR1muNgGHnpd3/j/nZhVybleh4MQZdW19J+oSnJK7X68dFhHEE2G83tdud7Z97PpFM/dfjAdqttuW6h2X5gfOSFK9fHEvFMwB/jOQAAVmsND/Ak3diXTbdkJcKyhm1XxN7Nre3njxy8sZ1XTNO07C88dMLP0AgEdRWlJvYoHKdxXGBoGIJsx+kqiqIbmmXZjnNhbWMiGsEQOMpxG43W3kzKsG0EhmzH1Qwj7hcwFBVYxi8Iothr93qaaa7V6iyBJwS/YuiybqAwzFPkRr0JAoBmmdlgoKuqFIbTOE6giO26OIIGec7zPEXXWZryXA8cFN4xzDBNnqE9D+BYBsOwTld84fK1IyNDXUVxHHe+XEFhOBcM9HX9XqnclZWfPnpooLWs9fskigYZWjNtGIZIFCFQ1HJcw7IoDMNRBEcxw7I8wNNMUzNMnqYsxxEVjafIwUjybqHoAcCBXOat+SUYgg4NZT3Pe/n2vadnZziScD0Px7DBh4VAUNKN3cmEqKqlrhj18TGe32g08u1uqdP9maMHSRTTLVtUFQyGSQzTTJPAUNfxcAzpyOpbC4tP755ZqtZ4klwqV4YiYRgE5zKpM4srw5GQ63oDlXetL200mp85eshynBvb+dVq7Ynd042+JOn6/WJ5dzpZFfsYAoMgeHQkd30rX+50Izx3e3PbcV3DNFAYQVG00Wr2mi2j2/FcF0JQ19A8z/vJIx4iSRhDDVW1NQ0EQV2WdVH8yhd/EQSAl2/eAQBANYzvXL72lfc/KIu9tXoTQ5HBKPvN+SXZMPwUlUom/CyzWKlWxX6+2eZpqtQVD4wMPzI1weA4jiJbrTaOIi1Z6cjKm/cXBZq6X65gCLJebzw+u0tUtecPH5A1LebjIRBQDRMAQR9NxwQfR5IYgrT60ny+qBiGZTtnl1dfvHFbMczjo8OFrrhQqaEoMhoJnV9bL3Q66/WGYdk0QXA0DQIAjmK6rpebTcd1PM8d8I/qvd6VrZ3zq+v5dvvM0sq51bVav39oZKgq9u4WyiGODXEsQ5Izw0PDqcQgxJmOxyiCYGgKAIBGr9cQe47rtnr9fL3xnXMXry8sb9fqfV13PTfm4wWaOjYyNBWLRjguKfie3j3z00cPCTTN4Hi912dxPBsMhngehsCYjydRDARBGAQHLe2uonzl/MW7hSJDkqbtFDpdx/U4kmzJ8mK5/PbCkqTr2WDAsO2Xbt3dl017AHArX/ze9VvHR4dYkgBAsKuoiWDQdb3RcBhDkL3plOnYOIpkAv6UX9BNc8AiTgqC5wEdRSm0W/eLZRLDYBBcrzfu5Es0gdd6fQpDMQSp9SXdsmeS8SDH1np9HEFysWjKL3RkhSeJA7lMNhRICPzDk+M9VbVsJ8Qynzpy4NuXrn3y+JFCuzsei8IglPDximGEWfqD1Y2eplU7nbO374Z8HI6hrutatsXSFI7jgOeBEATCsGtbnuuCA7qd40Cf+OTHtGbrX3/n1zGaFtfWQBjCWPbjf/AXW6//8Oy9xa9fvPKHL72yWqt3VGW72VqrNy6sbvzsg8d+cO12LhRYqzeDLJ0KBp+a3RVhOY4iTk6MfvLA3pFwyHKclVp9KBTwkRRPEEOh4KPTE/tzmUPD2arYs123p2kcRc4XyxuNZldRIBBCYPj86sZ7SyuxcNgDgHJH/PG9eZ6h315Yfm9l7d2F5WN75zAYBkDgfqlCYliIYYIMjUAwAkOKYS5X6g1JsT33/ZX1sfHRdl9aL5Vdz33tzv0rG5sAAAYYWres91fWHMcpd8XxaPRgLpMNBo6MDOEY5mcYWTdc19VMk6HI7WI5OT7u8/GmZREkCYFgenISQeC/fevsfKnMUNT3rt78p/fOL1aqmUgoGQykBeFOvhgRhJnhIRxFb+YLXU25tVNYrdXTwQBDEte382OxyE6rXWp3XNclMSws+GIBf03sl7pdD/C6ihrx+T6yd7bY6V5Z21isVPOdLoGirudxBL5eb83EY+OJOIVhAkU9Oj2RC4dOjo/SGPbhuV3j0ahh2bJu+Giq25fW6w3J0KfiMc/zNhstDEaCLCNr+tuLy7bjkhj+yPREU5J00xoOh6u9/lqtLuvGx48cknSNpykGw4ZikfFIZHc6+dDkWNjnc10vG/DvH862xF6h031sdsZ23EK7E+H5/bmsQJKTyYRAUz1N9zwgHQr+/ZvvEBgyl0qEWHqr2eJI8leefNxHUR1JBkGwVS7fW1ppd7udZqvT6ZRqNdt2UIr0pdMQhsEEAVimZ5qAZQGuA4Isj9B0OJvz+33zZ84OHT1i6IZlmo8fOYwi8KsXLtMMvWdsdDgUjHLsWCzSluSEX5ANo9oVb+WLu5Kx1+7M+xn6YC671Wq1ZSXGcxiCeJ633WpHOXZvJrXd6uy024NFvKTrm822Zlr7s+k37y9SGBbhOct1G71+mOP2ZZJlsf/xQ/uvr2+uVuulnvj4zNSN7TwGI8dHh7KR0J3t/LWt7TDLSoZpWJYLABPRyFgkrJlmT9OWq/XRSEjSDIEmIxyLo+gL126alvWpIwcHyu6eqjE4Xmi3t1udhybH355fWqnVQgwzk4iTGBZk6eFYzHZsFEFgCIIhGAAA3TQgEEJRFAQASVUlVRMYBoTAlWKZwNC1euN+sfxTB/fNjY9iGC7LUrcnIQj8lfcuwDB4bGRY0Y3JVHy5VIn5eD/HvnlnfjgSDLIsjeGyoeMIMjhsVESxJvY/eeLo//zhay1JGqw5KmLvoYlRFEYm4lHVMFTDdFyXp8n1WuNWvthTtVZfSgT8f/H8x3948cqNfDHKs8OhUIChJV1ncFzU1Csb2wyBn56aeOXOPENgfU3/uRPHXA/4ztUbcR//xO5p1/XOLC7BIJQO+B+YmfrymfcEijQseygUHAytLccZjUU10zyzsEzj+HA4OBKLNnv9S+sbh4ZzqVDwK+9dsFyHxLCOrOIojMMIDEOlTpcliKPDOcO2ZcPUTPOJ2V226/74zr1L6xvXLly0FZlLp4VAAABAXdP67bbnujCKWrpuK7Kra5432MVDIOTz4z7h5InjH1y+Zumq53qeYzuGgbFcJJN5cG5Xud21HCfIMnGfz7Bt1TQ103x23xyBokvl2kwyhsDQze1CmGWjPOsBwI/u3E/7hbaspPw+BIarYu9ALn15Y7un621Jdl2PJvGhYOjQULbW69M4RuP4X772JkOSh8eG96VTAkNruokicK3Xtxx7cIqHQFCgactxbMfpqSoCw67nURimGAZNELKuR3hONy0MQWAIAgGAoyjP8yAQMG3bcd1iu03jOIPj5a44GotIqo5jaL3Xz4YCfVVrSjICQyGWIzDUcd1WXwqwDEdRpmVRBKGbpigrPE3lmy0ax/0s01VUzTAyoeBWvUnjGIVjOIL2VDUVDrmuC0HQldX1D9Y3NNMMsixHEHPpRE/Vk34fAACrtTpHEOmAH4Fhz/NsxyEwzLBsw7IQGKIJwjAt23Ul3bi+vcNTpKTpD02OnVlamY5HaQznaer61g4CQQvlKkcSNbH3xO7pzWYLR5BcMLBSq88mE67nDYVDd/KFbDCwUKrMpZOqaTX6Eo1jAYaBQVAyDIGmi+1OkGFQGCp1xa6iDuLMkq4rurFUqUm6DoDAQ+NjC+XKcqXGkcSuRNx23bIoAgAwE48plrlaaxwdGU4HA9c3tq5sbh8ezrZlRTPN8WjkbrGsWRaOwAJFFzodH0USCDqbSpxb21gsFE3bVlSNooheXwI8AAABsd0ZaJNcywQh2DU0wAM8xwEAD4JQ1JT6b7/8o5tf/r9mu2XLkt3vgzBs69qgRPbE7DRD4CxBCjTlo0jA81IB/yu374uq2lWVqOC7trmzVKnGBT7mFzqyYthWodM9PT2xJ5PeqDeyAX+AZR+ZnlQNcyIeTfgFP0XbnvPtK9fHY5HJRJzB8ZPTk0ORUMrno3Ds0tqGj6Wubmyt1esDgW6l2zNsuyr2lirVb1+97nheS1YqYu+lW3c+WN+8sLqOIUhf09uybNq2aVs9VUUROCz4WJoqtTttWY77fBGfj6XIkWhYlNV0JOR5nqiohVZH1o22rIzH45pprFSq67WGpOs4ioIggKFosdGUdV01DZaiYoJPYOhyu8PgWNTHu66XCvrX6w0MRVXDEBi6J8uKpjdFMSH4Prp37iNzuz+0a/rQUAYCwDDHGJb9xv1FAkFHoxGepv0s42dZP8tSOC7QVCYcYklKlNWwwPMU5aepbMCPQvCD46MQAI5HwhxBECiqaDpPENOJ2LGRoSPDuaOjw6u1eldRurI6FA6NhkNdRR2LRVEYDtD0rZ2CQFOKad4rlvOdzpmlFc0yXcDzM0y502UI3HYdzbJ6mjYcDjIEYdnOeq0hqtqJ8ZFHZyYt28m3O36aGo+GaRz7YH0zwnNHhocoDFttNJt9eX82jULQjc0ty3U5kmgrqqhptutNJOP7Minbcb74+CMPT0/81MF9PoIMMnRM8MmaTuDY5vrG63/0ux89sI8mSbHbVRU1kU4eOnKIi0VdXXN6XU/XAc8DEQSwbfCP/vyPXzh/pbi5Obdv781LVwiOgzFU7XQBEPziZ55fLFXnVzePzE594sDe7129FRd4x/Pakhzl+clYxHad61t53bY5gkBhuKsonzy4tyOrluteWNt4du+sbtkv3rrD4PgnD+1/e2Fpq9Ecj0dJBC11xYcnx/00NZZKIQiyWiicWVopd0WBosIcwxNkSRQJBKFxfCIeFRV1sVLVLLsm9ggMBQEgE/DDEJQUfFGedz1vvlRuyXJf0z+6d7bUEUvdLuCBf/Krv3j14qXNWr3Y6c6mkxGepwj87vZONhTarDc4kpR0I+bjWZJoS3KQYwfqwbVao9Tp7k4lfCQpMDSBYZpp+him1ule3th8eHryf7/xzvHR4X3ZDI6hzV7/dr74wPiI47gu4C1XqvtzWVnT27KyWq9vNVpHRnLTiTgMw/cLxc1mC4XgR2YmGRyHIGgonXIct9VuK7ruAZ6qmxxFDgxxIAjWuqJqmmeWVxM+32wqsdVsrdRqcd9PItiSbuxOxuM+XjMtx3MDDINAMI4ibUlGIAiGIdUwARCAIQhHEM20WJJQDNNxXRSBL69vESgyHAoyBCGq2mq9LhsGjiAHsplip1Nodx8cH+0qapRnI4LQV1QUhteqtZaivDu/9PFD+3KhYFdWW7I8FY91VdWxnXhAKLbai9Xaqcmxr31w5dl9c/eLlY1Gw/bcrD+QDgjXt/N9VfvS535aUbX/9I1vl5tNsSP+5sc/8q0LlzVDb1WrlqZz4RDgeiRDlxcXARB0+j0AhADAA2wLhFh+AGKEUMxWZDwQdEwTpajHT5/cKtU+c+JoOuD/+3feM217LBFL+nwdRTVteygUzAQDZ5ZWFNOMcly918NRVNK0AEPbrjcejYyEg1GfD8ewfzl7rinLH5nbfXZ5lcAwAkE+eWj/xbV1WTdSgvCFz3/2vTfemi+VJcOwHXdfNrVSrd3cLtAEvj+bni9V0n7h9K6py6sb94rlyVhks9kCQLDU7jqeG+U5jiQHYEEP8EzbnoxFNctuSdJEPCYwTL7RjAr8u/NLB3IZDEEIDGv2+gSKWo5DETiJYV1Z9jE0AsP1bg+GQB/DLJcqQ+GQadvpcKjd69MkoRkGAAAwDNuOY1gWCIAUjrue+97iSr7d+b1nP/zld86ajqOa5n/56FOyrPzg6o0BVztAU+mA37Id23VashLleQJFdcsybNt2nLF4TDfNpVIl6uM0w+Iosq9pe4aHFnbyjb7ko8lKt6eYZi4YcBxHYOhCu0Pj+Hq9EWSZqtibisdubBdwDNFME/CAX3v04Va/v1lrqKaZDvrnSxUMQRr9fqHdiQu+/dn02wvLBIo+NjMJgVBXUZYqtZlkLBcMQhD04o3bKAJnA4FyV5xJxLZa7fFI+MDEWKPdObOwNJdObjRax8fH/v7d9xgcOzyUPTQxfnl5Zb5UOTUxFvULL1672VXVfdn0+dUNHEV+6eEHX75+e6FUOTySOzY2AgDAv1+4hMLIo9MTs8O5p/7iryzbGs2kK42mbhhSr49TpCbJtmkCgIdguC71jU7Hcx0QADzPA1wPhHgBJkmMZiiOA0DQUFXPc13bgWCE5tgH9849f+TAd6/cEFU1FwqKimp7nqzrAk1DIGja9uMzUzfzxYPZ9AdrG0OhoG5ZbUU5OjL0zuLK4zNT1V5vOBx6b3nVdBzdsmkcs2xH1LTZZHw6Ef/R7fuHh7MCRRm2/eLNOx4AHBrKjoRDXUWFIfD1+4sHchkCRX0kSeN4RRSrvf5oOMRT5HKl+rUz73/q5In92XRbVgZLdggEEQiyHAeGQASGKQwvtjsBlq50RZYguooKAAACQZlgwLTtQaIUAsFMONRTVFFVXru3+MVHHqJwXFSU1Uo1FwxyNDXQfIEQ2Oz1cQSNBwMkgc9vbbclJeH3eZ5X7oghlkERBACB1+/OP3/koO0417e2W7JydGSoIfZ1x95qtCzH2Z/LOI6r2xYAABxBpkMBUVYG3nkMRU3LKnY6EZ6DYdhx3JYkAQCwVmseHcl5ADBfKncU9YnZaVkzNhqNUlf0kaSfpi6tb9EEjkDQ3/3mr5157/xytbo/ly22O3G/sFAqX93cCTD0A6PDkqFf38png4GJaGSlVl9vNB+dmmAI/N3FFY4kDNvZbDSGwyEIBE+OjxXanbok1Xv9Z/bO2Y69XKmVe/0wywAAoFu24zoeAERYdrvVhiEQAsBPP3DktVt3Xc/ra3qEYwEAoHFsp90pdcSRcDDAMFc2tyzHgUDomb27/+nMeUXXbMfptDsIinqea5kmjKCWYaj9vm3ojqaBCOrqGgACnmV5rgtCHC/khnRZWfvu1x3bGX7mEyAMg4MEQzAIw8gThw+NRUJ+hlqrNWEYmoxGEgHhXr60WK2l/b5Cq/vE7PS3Ll+fTcUfnBi7sZXfaDRTfmG93vi5E8cqonh9Kz8WDaf9/neWloMMQyCI6TgEgoQ4hsHxF67d/s0nTy8VywGG1i374vqm6TgQCA6HQ6Zthxhmo9micWw4FNRNq60otV7/6Eju3Mp6T9M4kjw6nJsvVSZiEZ4kZcMQKGqj0YzyHAgAk6lksdm6nS9YjrMrmRAo8rtXb37y0D6BYV6/e7/ek5J+H4Gg+4YyXVkZioZLrbZhOTAMRXhe0bWwz6cZJoGj7Z7keh5DErKuAwAAgxAIgrplIhDclRUCQ3EUKXe6KAxTOM6RhKzpkmGQGAYBAAxDkqZbrnsrXzw2MqRZlut6U8l4qy8tV6oRjh2Px7bqzZ12+5Fd06/fuf/Q1LikaSxBuq6LIvB6rZH0C4NalWaaA8N2sy/RBF7t9VN+wXac1+7O782kDwznAAC4ny/wFAkCIALDy9WqjyIvb2yNR6OVXk/WDRLDTk2M8hS1VK46ruOn6fulypGRocVKtSXJD46PggDQ17TbhdLxkaH7pcpELFLuiiPhUKHTmU2lVqu1MMfiKIKj6KW1TdUyYxy3O53sysqtQvH01ORiqazZVlXsj0fCMAzd2C48u3/uu1duHBrOrtTqr1+5znHsrlxuKV9QdW378qWdC++e/J0/UhRZVxSlWqWiUaVWg1DU6YmA5wEIAkAwYFuIK0lSo8mGw51213JtlKZhFHVtmw+H1L6UHU3Xer292VRfNRzA8xPkdDr1nctXGRzXTavU7bmgd3unGOO5iVi00OpMxCNLldpavQ54wNmlldFIiCXwCMdajhPjuITga/SlEMtoppVvd5YrteOjw5phdhX1ncUVhsDHo5EgQ282WgNRLI1hPpK0XffGdmEmEfVR5Har/fbC8mMzkzWxL6raYqX2mQePLRdKZ5dXAQA4PJytiL3lan00EhyJRe4UijiCZPwChaEkjh8ayjIkabtumGUP5rIwBHmAJzAMR1GO43keEOZZiiAs266KPc8DEqFAqdmyHKerqOM01ej1URi+trXzsYP7aqIY5jnHczEYtmx7KBI2LIunKNO2XdeDYVg1TQiGe5q2UKq2FOXQUPZ2oaRblp+iRqMRCAILnW611x+JRc4srSimsSsZH42EtutNEsN4mm72JRSGKBxdr9X9DN2W5WPjY+uV6t16abBDRiS50ZNIDP3wntkb2zu1bpfGcR9F2a7rea7p2AyOdxXt4ckJGsc7ivrAruGdVke3bNyyTMeJsEwiIGAI+t7yKgxBe9LJtizfyhd5knh2/5xlOyAI0jh+cnK81O5YjlvudIfCIQSCAMCDIPiB8REQALcazWpXDHHsUrnK4HiAoddqjalEDEXg95ZXO7Lyg+u3fvHUA5fXNxcKJVkUAQCY3952HPc/f/hDB37riw/+5z+yXdvQdNdxAyOjIASiBCHXG4BPcFUFgBHAcz3TRQAUNbudTr93fX19JBohOS4Si2zOL9ZXV4f37lVVPa9qL143XM+L8PzeVHKn0bi1nT84knNdV9Y0STdSgvDpY4f+4kevHxsbeWthaZAWc1x3o9EMMnSh250vVRiCeGhi9Fa+aNg2jsAACNIoisCwQJMbtfpytRblOdkwdlrtQrujWZZmWjEf31HUXCiwVmvotlXrSQeHsiSKzZfLtV6/o6ohhs4RhGlaBIqORUKzmRQKIwGG6Wt6TPCV2t2q2Ds9PaGb1nazPYYgIY5VdMOwrHTAb9l2IhIutzswBHUlicRxCsd4mm6KPQxFEoLAM/RKoUQT+HqtoZpmNhTkKVLRjb2ZlOM4AyzClc2d3/noU9eXVlDLYkiCIgip26UIfHm7NhQKMiQRE3y5UHipVMZh+OGJMQiGu7KsGoZp2R/aPaOZZqXTfXL3NIbAAs2cX91wXPdj+/dopvnynbuZgJ/B8AjHWrYT4/l6VyQxbG8uLcqqblkT8ZhsGA2xd69Urvf7AJi9ky9mggFRVVdr9dFIWDHMhiS1ZPmxmenTU+OybjQlaSgYCHJcRFGn08m1chUAAQbHQRDUB78rCMoE/Le28j6KQmDo2tZOlOckXe8oyka9+cj0xHQ66XlANBL+i++9uCedXKnVm5Lso8n9uQwKw7fzRZ4gPnHygbev3aBx3LSd5w7s+9qFy7fWN1maYn2+VrGo8PzIyAhLEOFAgCQJx3U8x4UgSJFlCIZs0yQEn9btIrzP7vc92wIgCISFAAgjMI6TPp9tGCAEYQThui7NsgiCpKIR3TBjfl9bksdi0c8/eOz88to784sYiriu52folF/oa/rzRw78/bvvR3huo163bdcDvGw4BIMQhaKSYdA43te0AMtMRiPnVtdDLEugyPGR4aYkJfzCWrXOkUSIY7cbLQxFdMsWKOrmTqEuSWORcJhlSAy7XyqPhkMIDAcZutbrA54HguB6vTESDnIkicJwX9Ms1x0Oh9qSzBC4j6YNyyp3RQxBcATRLQuBYcADfDTZ17SFUnV/Nk1i2O18fjQSZggSR9Fmr0dgaC4a7UqSpOksRfoYut7pfuPi1ecPH/hgdeOpPbtcAHjx+q2mJH3qyEEQAGAIqnS6rudlgkHHdQYVtrFo5F6xFOHY86sbD02MpgMB3bIub2xPxaMIDAs0BQAeBEIUjlW64nsra88f3u84ruU4a7V6ShBs1w0wTLPfR2Bos9E+MTH22p37MAwOYrUT8ZiPZWrt7qPPPvMP//ivD81O/+DK9bVaA0VgFIbTfp9imKppZgOBlF9oyTICwwmfb7larYi9g7lsmOM0y1ytNYIMnQ0Fa2Lv3aUV3bLSAf9MPLbZbI1HI6VOB0OQ+UpV0Y0ATZ+aHH9rYYkncdWwHts1eWl9c3DLBAGwLkmSrucCQYGmuqpa6YpHR4YOj43e3d45t7IOgAAAAKpptvoSAIK6aTqOY9m263mSolIk0e50bMs2DWNkeKgvy4Zpqooqi6JrW45uuJbp6hoAAJCjKq5t2ZoqVatat+s6jqlrutSX+33P8zq9fiLoPzKc25NNy7rx5t0FGIJignBoKJcO+qdi0YlY5EAuvVVvnp6amI5HHcfjaWo2kw6z7GgkBIAgQ+AMjj09O+M4bohlJqIR13NLHXGlVhNoOub3txTlncUVSdcV07q6tcMSRLkrjkbDNI4nBR+FYVc2t0RVLXS6pm2XuyKDY8OREIVjp6cmPA8IMDRLEtlQcCQcFhXVdJzJdHoknbpXKK3WG2/NL1E49t7K2lvzi36GAgGw0O5CEBgP+HPxWICmERjuqQqFYyGe00yr0+8DAMhTVFdSdMOKCMKnjxzkaergUMb1vL6iPntgz+MzU7btciSZiYRTwcBEIs6QhG5Z6aB/JhkXGDrt9/tpZl82nQsFPc8DIRCEwHul8u1CUTPMareHwvC7i8sBhh4KBrbqze9fvzUApGUj4aYkGbYVE3wCzXAUcTuf50jiYDZzeChX7IhdRb25saXb1qsv/CDi4wq1xgNjI49NTzy1e/qZPbsZDIdBKMQwNIa5nrtYri6UKvOlcjrgDzBMVPDplgUA4FAouFFvSpoOg+BMPCrp+nq9Ydh2lOcKnU5Z7AUYWjdMy7EPDmVczz0ynI1xfErw6abtut5kLOa4nut5j81MCSR1eCR3ZXM7xnEeAJS64l++9gYCQ5br6JZV7nRFRbVdN8AyAABgKPpnH3+mK/YSkdDvf/Sp8rUruqrgJLG5uf3jP/ovzXL1q7/xy3qzYYqirciuaQwM8iBIsxCGwSSJEqRt6AAAUoLPcz2t1wtn0jRFf+1Xfn6r2jizvFITe5974GiI50qttmE7t/KFalfkaVKzbArDAMBTDNPxXBAAj48Nn1lYmcukMBi+sZOP8dxcKknhWKkjjkcj17fztuvsSSUl3WBI4luXr31032xf1euS3FaUJ2amqr3+jZ3CwMsrUNS17Z24j49ynOO6e3OZjiQzBKEZxlKlujeb2Wm2TdtaqtR+8eEHl4qldDBw5PTpv/yHf9ppt8ejkWqvH2HZtqJGebYq9vdn0n6OMSyr1ZdOzO76yjvvZQJCgKGTwSAAAPlG07RsyTAmE/GwX3Bdt9Jqy7o+8CEZlqma1sB6bznOoO3ZVhQax3mSXK3WdqcTXUnxAGCr1Z6KR390+/5wKBjkaM8FdNsejYQXy5UYz5MYyhD4j+7cm47Hih1RoEkAAFTD5Eny6NiwadmWbUMQZDkOR1GmbXuuW+n2MqFAT9EIDK2KIoVhg+IoQ+Cu551dWT02PBRg6IYkvb2wTKLok7umW7J8fTs/k4iNRSO6ZVuO3VU1y3ZGIqGNelMyDAgAcRQJMvQb84u7komNRovGsUK7c2goU+9Lg/v+cwf2dRVFM82uogYZmiEIUVV9FO15Ho4ht7YLoqbhKHp5beOXT514/f5iLhhI+HwsgXM0+aW337t49drw2KjjuF84fXKxXGMJvNbrLRXLqqGXdvKObfsjkX6nQ7EMimG2ZZmGSdBUp1I1+z3PdV1DBywTgQjCkSVH7K5fOTfy4U9COOa6nmc7vliMpmmepj3Pq/V7bUnenU7+4MZt03FU00j5/QgE7c2l12oN3TT3ZlKX17csx/EzdITjPljb9ABgtVZ/aGKMwQnDdm5sFz5xaF9HVhfKlbaiWLatmuZStf7k7ukDuWyAZniScj3g8FDWdt35cgUCgPFo2Hac++WK47ggABa7Yi7g3240DdsRGEYxjEZfxlBkABqp9fuypkV5XtGN9954Y182MxwKthV1OBRsSvJIOBjhuaQgOK4rqxpHUzxJbpXKB3JpH013ZaXc7hAomotGREnOYKjtup1ej6NpFIE101ytNT794LFCra5ZVkuSEBhGYIjCsbuF0kQsslCuggBwv1RmSZwjiAFDXjHMzxw75LjevWKRxrAYz+mmORQKojBMoKjjuR+Zm3U9byQUcgDPc93BRuD9xdUP7d1d63RBENyoN2czySDHQhDsed7tnYJimFGeozDUdl0YglXbgk2Ip8nJaNT1vJYk8wT5od3TN3YKTUmKC74AQ6/UGiORMAyB51e3c6GA53lnFldaivLA6HCU50kcq3V7H9kzG+ZYUdUiHMsS+HyxnPQLQ+FQXOBNy9JN8/p2XjXNR6Ymghz7yp37oqpmgoFHZ6buFkqGbYVYdi6TemdxpdGXGBz/xLHD5Wbrh7fuNHs9nCRb7Y7g8/U1/dTkaMLv/7Mf/VgzdNd1Ob/fcWwYhimWRVBUkWXbtAbURQhFYYqyJWkg+kAA10VYHgDB6Z/+BZznQAgmKNKxbAgEdU2HQWh0eDjo8710486NrZ2k3x8hiXy7HfPxK9Wa6ThtWQ7z3EK5Ehf4Ukc0bHu93pANw3EcGIZu54uO5wIA3NP1M4srab9Pt2wMhmkM62l6lOcurm+ohmk7DoPjCb/vrYWlhyfHH54YO7e6vlKrPzEzxZPk7UKx3u+fGBu5lS/qlhXmWBAAyl1xLpP8YHU9xvMYAku6eWFlPR0QQACwHDfm4300TRNEvtXOBgMEivZVXbcsHIFpHKt1RQSGdMsa2FsQGBIYRjNNRdMAEPCxbFeStuqNE7O7NsrVuZGhdxdXaJomUPReq3M7Xzg+OnK/VN6ViEU4FgRBwPP2ZNM77XatJ13fzg+FQ21FbUqS7ToQCFbEXoTjqr0+hWF9XU/7hbak8BQ5HA4phhHmua6sYAhsOw6N43syyUq7g8Cwn2VP+Hw4hvUVpS72DNtuSJJAUZvN5mQ0cmZ59cNzu95ZXEn4fPUtyfM8lsAt29mdSmw3WwSKHh4fRSC4KckAAEykkve3dwzHjvG8j6IeGB+7tLYBeACFY5bjLFarnudNx2NxH7/ZbHmey5JEQvD94MZtxTAQCHr+8H7LcSgUe+nmHZ4iRVVFEfhevthTNQ/wcBSt96Wepg/kIZ4HlBrNb1y8SqDooZERP8t2+tJ/evx0vt1JBPwAAIzHoh1JMizTxvGgP9qXFdMwNEXxXM+xbRAAuDCP4bjSRzTH9WwbgBEQwAkQggEQgBnWNQyUZXGGdUwToyheELLx2M+dOPbC9Vs0jg/I531d78rKkZEh1TTjPj7f7piOs1Kpfe6BI//y3oXhaNhP07JhfP3l104cPXx4ODcSDvloaqlcNWybwrBcKPDe8hqJognBd6dQCnPMXCrZU9WbOwUEQVKCL8gyMZ579e583MfHeJ5E0a1Wa7PROjU5Zlg2AkMsQXIkoZmmbBi3dgq5YJAlcN2yJN1wXXc0Gm5K0tHxsbVyRTXN2Vz2pas3WIq4XyxPRCO6ZT+6a+rs4vK+TDodDkmqJht6tStOpZKGYaqmGeBY9CdLI5vAUBRFUBhBUQSBEU3XW2JvrVYbJJoRCA5wTE9RURhxPDffbJM4OqC49zVNt+yy2BsOBUkMXa83N5otDIYRCOJIYjwa6WvawZHhzVp9dii7lC+SGGrZtp9ll4olBIFTAT+OoASGXVpdF2gqzHEIDC2UygSKZoMBP8u8O78k0FSIZV3Xq/Z6luMkfDxHEoNLoed5NI5FeL6jyAul6q5knCGIe8XSSDhs2jaGIIZl4SiKo4jnec2+pJpWwu/barZ+dPPug5NjXVVVdPPE+PBXz1/+6+c/JutGodXSTDvKs9+5epOnyJFI6OrGtmoa+3PZx3dNtyT5y+cu/uwDR3TbfmdxuSsrg/TMcwf2tmRZVLWa2LdcJxMQbu0UfvfpJ7/01rsvvPjDd/7+/yQj4d/82rcu3bwdikZ2lpfNShkgiO0zb2II5nh25pGnPEMHAACCaRoPhclIDARACMdd2zEkyTYMz/MM3RBlOcyxj05P7E7Gh4IBCsMO5TKnJsfTAeHmdl5U1WzQf3s7n/D7BkuXYrtT7HTu7RQiyUSj17uxndct626h9N7K2qu37sYFXjOtclckMTTCc9OJWF/T315Yqvb6pybHDmbThmXjMNySZJ4kymIPAsGLG5v5VgeBoVqvjyLwaq0Z8XF9VSNQVDVNGILync5UMt6U5JiPi/AciaI3twuv3rzteF5H1RYLxYTfR6IYiWF9XRc1tdBqR3nu4K6pdr//r+cuvHl/MeEXYBBUTOPS+mYk4PdxnOU4PVUNB/wYgmqGAYEQCAJ9RQEAIOn3x3w+gWEIDO2r2hvzi4ZtdSSZxjEcQc4srTZludGXG5J0cCgzsM9vtVopwXdqYuz46HBHUW3HoTAMQeCzS6umZXVkJRbwcxRl2XZcEAzLLra7IAjWRXE0GtZMk8CQutjbnUrGfXxbkkvN9t5sOsKximEwBL5UrdX7EksSLElyJJEQfBiChHmu3BUbfZkhcAAEDdu+tL59fTtvuQ5LEpbrnltdFxUVAqFPf/zZz3/sGRJFK2LvwEiuIvbGohHLdXqaHvHxpU630e+fW91AYGixUgtx7KePHCQQlCGI9Z2CQFMv3bzzveu3TMc+s7z69vySOaCReMBTszO5SJhE0Vs7hWf2zQ6Fgt+6cHm5WPrLH7+5UixPH9z/uX/4ty/8y78LNBWJRevlCkbRzOgYlxt6+Pf/VNXVj/z3vwYH4IYB+qZ05g0Uw8JHTwKAB+GEI/X50TGComcnxn778dMwBF9Z3yx0OmPhsGbbN7fzg5vQA2MjjucGGfqFa7coHNNNCwTBgZyvrygCx2q6SeHYrzz8IAiCL1y/1Ve1kxNjQ6HgpY0tHEVsxzs+OvTq3fufPnxQ0vWXbt6JC74ozxqWvVipHshlurI6m07OF8vjsYjreQPpW6Mv9XR9MhaFIejmTn5PKjkYSZ5bXf/Q7hnXdW3Xrff7AZoGQKCrqH6athwHBEHbcSAQbEhSgKFZghiAHVXDRBF4YNYiMBSFER9DgyCo6ka12x2E7nwsG8+kq8ViudEEPUC3ra6sBFimLckwDN3JFw8NZe8XyxgCEyjqp2nTcQIM3ZJkEkVBEARB0HEcBIYxBFEMYzD2giDQtGwQAikMtxzb8zwMQTiK7CkqheOSpgU5TjUM23Vd1434fMVW626hFOU523HDLEPiWE/VtlvtsUgYhWFRU69v5U9OjHVk2XLcQqcTYpmhUAjH0Pn/H03//SfZedVrwzvnVDlXd3V17p6e6QmapBnlLEtyNs4c44MNNmAeHsDwHE7wwRiOCT4GgwPGOcqyLNuSlTXS5Ngz0zlWzmnnvPf7Q/H+B1X12XXvte71XddVrqQDgeHC6k6rMxGPNkVpr9397dMnNMNIBAPRUMiy7Tdvr3QU5WqhxJFkUuBnErGh5SgbCg5FuvWBeHAks9FoyYZhO67tul1ZBkEwzLIe4Ju2E2RoSTcsx7FdJ8QwD87NcCRJYVguES81mxe2935y/iJDUffOzywVy7c2t+Re78CB/X/3/nd95Mtf63Y7KIrxAcF1XUkUlW7X0TRXVX3TAHwfgUly/D0fAkAQDwYBAEQI3CZIGEYgGNouVfZNTv7h1/9ju9awHOfqzh7P0BiM4BiaC4dWanXf93XbzkUjgOeNRkKX94pRjsNRNB0MyIaZj0bakvy1N84CAAACwFwm1VO1tlzQbZsh8Mlo8OzWTjYYnBzNru0V75udUgyzq6pTsWiUZa4USwmOMyxrIh59cXl1Kh6bjMcmk/GXXnw1wrKaafY1ra9pL62uj0cjtuOQKFbtD85t746GggSKxDgOhqAYzxuWZTluhGNETScxNA7xEY7dabaG4J0Qw2w3W5lQkMJw1/cM2272B9OjWcd1f3DxyhOLC77fmUkmJ+6+5xc/foal8GPTk//tR8/8nw+/r97u6JalWtZOq/07D9yrGGap179aLIUZpiXJ2VCw1O1HWLqrqDxFHcuNkBhW7fcBELy6saVbVj4axmFkNBIaqFqApkzbITEMAiEYggAAIDEsk0xcWl65Uii988ghzTSv7BYhGMRgxHKMeFA4t7EtUGRf0yTDuFGqhBlatay3NrfnU/GmJA2piLMjmUub26X+QDGtAEWt1hsMgW82WifHx0ZCwUvbu2GGJlAsHol89cVXUQTGEWQmHodhcK3WEEhiqVxFEfh2tcZTlOd5CYG7XiwPkU8gABi2FeHYMMtqtj1QtWES3PW8KMe5vifr+lK52te06Vj0/gfv70tSodtNRyOypg00Xbes0XSqSRCmbX3sK/8OQiCCoLmRrCgrju+AIEhynGJaEEF4IAjAMAjSDJ1IGpKEEITnOL7n+66LkATJ8YFgMBYOGZZVLJYisSjPMCxJOp6Lo9gj++YSAocjyNfeeIvC8YMjmZFQ8EsvvspR1EQ8dt/M5FqtEeO5Qqf7nZdfi8ejEZ5/4sC+39xeO5IbqQ5EBseHl+eqYX76kfv/8dcvzSbjY9Fwod25UaoeyWUDFNlX9Z6msjgRYhgQBHXbolFMtUyOJFmS1E1zr9MN0NTwoNppdTAEHopTAQCoDcR96SSJoteKJdNxeJI8NJKpi1Kx23t039xuu7MvnQqwtKIb57d24jyXCgRYkvB8nyFJ23FAEGyLUpBhMBThaDoYCiqy3BclFIEN03I9z/P9riSjCHy1ULxreqrW6+uW1VW1IE21ZSVI0zvtju06uXA4zNCaZXUVVTGt2VT80m5hmHU6Mjri+36YY/dabd2yWILIhIKe7ymGCUP/6dwAQQAEwaE/6Wa5GufZVEDYaXVqA4klcAiC8pGw7bosgaumOR6PYjDiA0Cp0y33+gdHsy1J7quqZBjJgHBpp3ByfKwhSTPJxCsr64vZNAiAEY4ZDnIN22nJkmyYjuv1NE0zzScXFyTdqPT6d06Nn9vcpXEMQ+DtVhtDkGp/0JMUzTIDDAOAoKLpEASOJ+K7zZZAUbV+HwJBhiRzkbBimDSO/dlTj68XSyxJfu/C5TdvLv/Jk4/et7hw92f/R/X6tX/66//xd08/p8nyy1/4X7btBHnuhRs3PvPn/x+AogAAALYNIAhIZEcRHAcB0HUdz3YgFLF1HUYQguP4YNB3vXQivr23x7JcOhaBYcTzvOMT+SBF6bZ9IJvuKyqOojfLlblU4h9eeJkhiHQo6Po+CADDkQONYZuNJk3gd01NvLa68Y5DB25VavlohMZQ1bQUy0IhqC0rCYEP0bRmmbcqtaTAEQi61mjSOK6aZj4SAUFgu9VmCSJE06enJ89tbgUoiqfIs1s7IAi+58ih1WoNAIG2pBwZG/3e+Uv7s6mRUAiF4bYsX9wpfPTU8edu3Kz2BjiGkChGYIhhOW87sO/s5s7A0HXTnohFDmQzqXCIo+mBLPdlmcLxTCKuqprreQNZTkYjoiS3RREAgCGeuK9omUjotZW1I7nR1WptJpn41c3bIAjKhvGJe+/66mtvRliGxNBcOHRxrzgTj42GQ3udzsWdQj4aJhDUcuy2oiR43vE8y3Ee3jcHAABFEGdW1+bTKUU3xhKx9kDsa1qc503b5iiqr6hDsrPjeSgCL5er47FIsdObjMd02wrQtOt5sm6wJLFZb6SCgbNbO3dNT27UG9lgEEFg13WrfVGgyIGuD0HSmmmNhkOabe22uwDgy4ZJoqhhOxOxsKSbAYrc7XRaknx8LNeUZc/3T0+NS5rxuWeem8qmN0oVDMMcx3n00IG31jffdvDAD9+6cGA8p5rm0ubOoanxh+dn6wPx9fXNP3nkgV8t3T48mtVsO0TTIAC0FeUfn3sew1BNNxAEdj1vJJFQDaPd6Wq6pvUHtq65quo7NoTh4Pabr0w+/u7Ci7/Inr4fAAAkEHS6HTQcQUjqTz7yAYEi//Hnv/Z8d3F6KsTQumXvtdo8RU0k4oppGJaNI4jterplTcajPUXVbburKAgMR1g2KfDXCyUaxx6Yn6kPpOdv3MRQ9LH9+6biMQ8A9todAkFZEpd0o6OocZ5zXNdy3c1mS9KNxxfmQBDc7XR3W537Z6cBEFirN4arrgmeRxF4MZv+1c3l+2enHdfFYPjFlbU7J/IcQQzr1O1Wez6dRCBItyzPB6IcYzuuappDfD2Oop7n4whCE5ikGyAIKoZpOM7JyfF8NrOyvWM5TkdW9udGfM+XNJ3CMY6md6o1AscubO3udjoPz80EGWa31RmNhmq9AYEhTVGmMCwp8H1N50liGOIWdd20HR/wcQRhSKLc7TEEIVDkQNWaohRiaQxGXlvfDLPMgUyaJwkQBC3H0UxzWDtFWE4xjYlEXDet5kC8VamdnMxzFNXoD7qykgwKDEE0+wMCwwzb9gAfhxEEgV3XK3W7qWDA933b9RqiaNhOlGN9H7hZqS5kksuV+v5MisJQ1/PX6w1qCMiW5IFhXNktfPjk0ZakwBDout5oJPTyytpCOrlSa0zHY1GO/dHla4VWG0dR3bIYgrRdN8KzluOmg4FCuwNBYF9SJE07NjWpGMaTiwtDKPulnb3fOX2SpykQADqy8oOLV1YKRYoky+Wy49gYTvzb7//XjUbz3154edDturZliqJn256qACAIorEkKfCObTum6eo6hGGOJGHBEBsOoSh2cG7mrYuXSYZxHSedSna6vUQsGmSZfCyGIXB9IA6/OQpDhu10FQWBIBSBOYKo9gcgCA4ThK7nW46TDgYkXWcJ4iMnj/3o0rUATQ40412HFzXLwhGk1O2lAoKoabbr+YDfGEggBO51e0O1yvViGYXhfankxd091/cMy3nfHYeevX7zycX9K7XaHWOjv7m9MpOIDzR9IhaVdF2gKJrAfR9wfa85EIenCwQChu1QOK4YBgSCEATyFFXu9sIs47pegKHPb+0cn8gDAABD0Iu3V2YT8WFAc2Iku1uqXNreGeh6odNjCXwxmwkxNE0S1/dK86mE47rXSxXNsp48uP9WqTLQ9KeOHrZte71S3et0T07m+4rq+0B9IMZ5DoYhGAQ7sjLs5U3b1iw7ynGu51Z6fctxEwJ3cWfPdNzZZDwfjcQDgb4sIwgsqnomEn5rbZ0lyFRQmBzJXri9OpNJOZ6n6vpeu8ORRITjar3+zXIlKQg4ilwrlUkUNR0nznFtRT01kTcdZ6Dpo+GgYdmmba/WG01ZyUdCluMiEOR4HoVhluOs1ur5SGQhk/rVrdvDKKPtuIZtYwjSkRXP83mamk7ENxpNx3VJDGsORAyBYzw3Eg4NND0bDLy5uY3CEIsTMZ5tSXJHVliS6ClqT5YZkvQBX9XNdrcLQqDneiRF8QzdFQdif+BYttbvebbt6jqIIJBrGgAIojiOYDgRCOIsR0SjIAQBIKhr2isvv+pYVrdY6JeKq9evAxBYbTRaA/HdRw6OBIPvO3rYdtxH9s1FaOa+mclP3HP6nYcXJ2NREsXmkol8JILBkG5aLEmAANCRZctxYjx3q1Q5NJqRDNP1vTc3t79z/tKzS7dK/T4AANdKlfO7eziKpoLCSDgkqvpCOgkB4OnJ8a1GEwD82UT8vumpO8fHPM+7a3K8IysEglq2g8HwVrP1+tpGqdt7c2v32Ru3QjzHUuT3z1/+1tkLz1y7sdfuXNjZ+9Hlq989f+lasawYJo4gkqZf3ivajkvhGALDLIEzJIEhCArDmYAwGo2gCEJi2FahhMDwndOTd07k33nowB25kQjLFLu9en+gmGYqHGrLyqmp8ftmpzZqjZvl6mQiOlDkb75xlsSw6XhsuVQ9v71b7vXiPLdWb0AgeG5r58zmVrnfv1ooFjq9CzsF07YhCLJdLxcJxXn+5EReMU0SRUkMaw4G3z5/6epucTyVqHW7uu14vldod13HqYkiy9C+5w80bbXWYAhCYJmzW7u640Q5Nh0ITEWj0/HYgUyawrAUz281W67rnt/evbC799zNZR8EEBh2HJfCsEKne2FnV7ds23XX6g2BpniKBEEwEwj0VG0iGp2MRxEYdj2PI4nZdNKwrPV6Y4jtdTxXoCmKwH0AuF4onVvffH1t4+BIVqDou2cm1moNx/Md1631B5pl6Ybpeh6GoF/84Ls5luFZ1nadnRs3/ut9p/vdntzphuNR1zRd0/Rdx3cdCKEoz3Fdx8EoEoRAAABwmiE5zvd8z3UdQ9ebDd9xPMtEKcrUDQRB//DhB4rtzpsbW9Ve/97pKd2y+rp+s1TVDFMzrGwgcEdu5PDoyFQ8CoHQ4mi22unuy6Zvrm+GWHYyGjmYG4FB0LDtw9nM/bPTHzx2hMVxniAoAj8ymp2MRZYrNcfzXlvdAED/0m7B8731eiPMsmv1Zk2U3tzcfmNjqyXLGIq8tbVtuk5XUe+bm1lIp4IMMx6LnhgbGQ0Ff37pmmnbTxzY941P/s79s1O3K7UH52fjPMcSeF9Va4PBeDoV5tgARW02Wy+vrNX7fc/zXdfjGbonK+lgwPN9FEF6sgKCAIYiKIIsV2pDqRwIgpbjJgNCUuDbogjDkGHZZza2p1KJuMABPrC0V/rtu++8WarwNFUdiHPJxHarU+j21hvNtza3J2PRJxf3q5Z1o1ge6DqFowgMvbWxHePZEMu6vlfs9kAAiAn887eWbcd9aG5mXzq1Ua5SOB7n2GRAmIzH6p1ukKYrrbYP+AGafmRhjiHJnqTcMz2RD4coDBN1vSnJ1f6Ap8iUwGdDAgJBNI5/4Pgdh0eyjy3MDSdAM8m4bJg8STIE0VNV2TBOjI9JurFSq1/a3bNcl8Sw39xaIVFMM63pRLzY6gAAsFWufvyuk3eO5z92+sR901N//PD9p8bzd01OaKbVHQwe379A49gDs1OvrW4ey+dEXVsvlKqt1ubObqPZNC0rKfDfPHNeM4xuv++5bmxi/E/+9d89xwVAoLZXgAkCwjCYpCAUQ5qvPL+xvnFle+/P/+3rWr3mmwaAYfXzr4+9/QOkwLrdNpWfQHECBMH7ThxbLZYogvjWWxfetrhPoMmlcnUkqNmuN2w5OZpaKlXW6o23H9o/GouSOCbqWqcgJ0KBl27clHv9gaZhCIIiyJnN7fFYtKuqXUXuympXUVEYXq3UOqrSECVZN5ICH2JpniJV0wwxzG67S2KobtsBmpR6+kwiHuc503buyI2EGJrA0H9/8/yJfO7UZP7S7n8a62AQtB2HwrCVnb0Qw7z3jkMQCBweyWqmlYuGOYqqtjoYirz3xB2FRmug6TAE7x/JCCxjWjaBoTut1lKpcnA02+gPjs5M1ju9eCh4eGxU1LSddjcfj80k4xe39+6emax0ewJFtWX5t04cVQ0jGwzEeI5AUdd151IJAAAcz8NR9MhoNsJxAkmmgwEAALabLdW0nlzcn4uEbxRLO63OsXyOI0nX8+oDaSwSnkkmojyfC4VAEFiu1vLRyFq9MZuIZ0MhEsMczwVBcDwecz0PBMGL27upgJAMCJKmIzDMkaTjuev1BkPi9YF0da90dGzkdqUm6kY2FKRxHIEg3zdt19tudQgUPTSSGQkGyv3+ua3dE+Njoq4fy+eaovTm2ibP0HfkRgMUJeo6QxBNSWYpUjGMbCL29TNn96VTv7q5LBtGhGXvmpv5bz99tidJykCMCeyPXrzCkoSiG08uLiyVKwxNf+59b/+Dr30rFApqhvkX73jiyvrmjZ3d4uqqZ5ieZYAwjAqBRH6sU627ug7CsKNrgA9Apb1CIhp56tRxz/N8zwNAkIjE/uo7P8Yosr+7B9Ksrai+72E4rluWoqi24/iA/6ul2ziK1vr97Va70O0atn12c+dXN27hCHx0bNR23EavPzQSNbq9Uqsz6IuHDi+2++JGo9kRpYGqnd3YKnR7BIImg0JK4GMsM59JTkQiQZo6NTk+EY+OBAKKad6RG9EtayIWSQn8yfExCsVkwzBdpy0rb2xuD3Sj2Ov3FHVfOnFua+fizl4+Gm6I0kDTcAw1bTsVCY0lE7lkIhkOGbbD4DhHEqpp1Xr9rqz0FOWzP/oZCIJtSWYIvNjpVtudZr9f6fW3m53JeFTS9CBLv3z91rFjRwqN5uWdPdt1IyxTaHVcz1scSZ/f3CYxjCHwt7Z2fnDuoqLrtYH42tqG7bqW7aimuVatnZocZ0kixLKKYQg0ZTo2AkMUjr60dBsAANtxOYKMcuxLK2sdRf7plevbrbaoGwAANPr9vW7XsJ39mfRoOHw0NxqkacfzfMAnMMzzPN/3IwGBIokn7zgcDwi265IYtlqrd1X13PZunOdL3f4jC7Oyafz8xi3FNB+Ym/Z9f6PeaIrS87dXhmHkiWjkxeXV7Va7q2jvP3aEwlCWIG4Uy+v1xlgsKmranZN5BsOOj4+tVSrbjZZqmFuNJksSuUhko9G6Xa7MJhO264qq2pZEAAR0Wfzg//z8bqVc7/fH4tHfLK8WWu2QwH3+2V9HwiEIBNPRMAAAp/bvIwkC8AHfdRCWQ4UAyXFyfwDBMITj/zlFwnHkjt/9FCUItml6jkOlUihOEDT1k5degRGEjERdy3QNw9YNU5YvXDPH83mBYdKhgKQZi5n0aDD45sbWodzIyYm863mV/mCY92FJAgJBUTeigmC7jqyqsxP5xZEMg+N7ne7rG5u253EUiSHIlULp0QP7dNu+a27a83zL7ZyemlB1E/CBzVY7yjJdRa3aA4bAN5utBM8LJHlwJJsNBhICz7XapV7PsO0Iw4AQaHteU5RCDKPZ1hsb26KmjkUi//yXf46EwoDj+Lb97//zc6u1+qHRrGJaqQCvW/ZUPDafTlX7/ZFwyPW83XZnOpUkcMz1vNVa/UB+bL1Y8n3gnoW5zZX1kVhUt6wbxXJS4NOhwA8uXMFQxPG87Xbnbz/24e+eu9iQpO9fuJIKCr7nrdUbQYbuqurh3KjpOKV2F4EhBIaPTE3UO10Ygp6/tfpbdx5rS0pC4G9Vqh85dULS9euFsuU4d07ms7GYbhj/+sobgA8wBP6Ty9f/5TOfaldrru/+43MvjISCf/DhD/zOX/+dbttf/YNPGqqWmJvbePpnkq4fmZr42bWliWj4eD53abeIwnBjIAVp2nZczbKXytX6QAQBcCYRIzFMMc0gTScFHgZBEsMSAYHGsZ9eua7b9jBPqFs2gSLfOnvxz5587JeXr43F4zPJ+HarPRoKNiV52GtmQqG1WmOt1viLtz8e5rhqp5MZH2/W6r7nCwxjO05XNxZzowNVw0LBaq+PoUiYYb706xdrgz4IAPuO3iEpim1ZmqbpsmyqKoLjvusBEAQiKACCIMTyeDjsO65r2yhJpsdysqxIva5jmI6uASDo6ToAgoDvB8byf/Wh37pdrR/MpjXTAgEwyFBDG+lKtR6kqYVMStYNGIJoHA/znOf7lW73Y//wZbFSfurd79qXSgZpisGJAEP9yXd+mI5G75qZPDiSWa01hswPAkVUy0oJgut5hm1vt9txnk9wnECR9YGIwjAEQRuNJksSSY6bSsav7pVuFEvJoMBg+Fwq8euby/vSyXw0QqDojVK5JSmP7587fnAxODMLOK7RarQrlRevXPvuuYvxYODjp0/+5PL1x/bP7bY7lb6II/BdU5M3S+XHDi/CINQeDCRN831gaP8mUJQmCBxBWpLoeX5HUbOhoKjrQZrWLYsmcM/3FcP4yqtnfv/+u2+Vq5mgsFptnJzIv7i8ev/s9HAYe7tSwxHYsJ2HFmYNy/Z9/1a5utFodmSFJvCT+RxNEDvtztmNrQ8cvyMVFLYarTc3dwDAf/+xO1qSNJtKQRAIgeC13b3pZILEcBxDFV3nKIoiCQzDFE2TFBUCwau7hYl4dLlSi3LscrW2L5W0XHe5WgtQNIEiUY5VTItAkN1ORzHMuiiOhEIBmnxrfRtDkUSAd1xXNszWQOQo0na9CMf0FO0dh/aLmvGjC5c/9eC91f5gKhF74dbK4wf26ZZFothbm9t3To6zJPHa6vo/ff9Hpiw54gDE8P/4wl+nAgJPU67nW7bzjTfPnlm6dfeBfQ/Pz45EIkuF4o8uXvnK73z44b/6vGmZhqrahm7LMoQgMEG4pgmAoKvIiGfoRqfz2jf+VdUNCALbkvyZr37TUlQ6FBzUKgDggyQNgCCbTuME8e+vnSFwoi1JrucneO6e6clsOIQgyJ3zs+1en8DxX1y5JunG+08ey2bTq+ubX3z+JT4YkBuNtihKoeCZ9c3Pvu0RSdPv3r9P1PT92fR2s60YhqQbTx460OwPOJq6UShNxCICTVcGAxyGIRCUdCPCsVf2igSKdmQFQ5ADo9lre8UTE2MCSURYdq/bfXNjOx0M5KMRhsC/c/5SJhC4f3YyxLKObTVv3ODjMVs3IAgOs+xHT53IRSMMSaYCfJBhRqLRYrN9tVg0bfvE5DiJEyzHVlrtan/w2tqm47lRlptPJSgM3TeSAQEQBAEcgRmS6CsqjiHDHGeh3XY9/5P3nl4qlidiURJD75qeAAHgHYcWY8HAaqnMU1QmINyqVlXTknVjbiyHEfi1QulEPtdSlJ1WB4bhhMAHGRqFoNoQuIyiTy3uu1GqxgW+K8uO6wAuQGLYvmwaBEDTtmPh4FAknmeZbn/guN5AVR3HOzY57roeRxA9VWuIMkv0cuGgZJhxnm9KckLgBZKoi1JXUd937PBqpS5q2l0z06cmJ2TdUEwTAPxCp/uqqlW7vf5AbAd4hiCXq3XH80AIfPrqDRiE+rphu55A09cKJdN2Do5kTNu+sL17bnNrYmbasO31V185/MD9z16/+ZdPPTYzN/exL/z9+44f/ulzJqPLsgAA7HZJREFUv0IpqtTtkRiWHx2hSWKpXPnLHz+TTSfXNzYB3x+WnjBBOLoOeJ5r6IBlISCKgjCcCIe2ShVZN1mK7K2vrf/mF/Pv+wjgeQBOoLzg6hoEw7qmFiVpYmoywrEkihi2A4LAWxtbpV7/9OR4MhBo9Ae5ULAqivVuryfJPVW5ubTEh8NMLNbqDX7ZvsqxTKMvIjBU7w8006x2+8fGx26Xqw1R0k1rJBa9vLXtel6p24chaCYe933f9byEwKumBQDAsdzoKkHMpxOlTjcp8C/eXpmMRW3PjXNsmKExBGmIEiABV9c3Tz/xqGk7fVUtlCq+7xOtluf7umkOg6fNgSjrxnQ8ZjqOq6gUgU1EoziKuq5XbbWceh0EwVRAeO+Rg+X+QKDIan8wHouulKoBhoIAkMSw3WY7znOe55u2EWDYGQztKYqkG6OhkOU4mmWFWQZHEM0y10plgaY8z08IPImjqmn5PrBRLMm6PpNKeK7HkiRLEBAINkQJh2HX88bC4a6icgRh2vZcMr7bbPEUWR8MRN0gUTQZEBzXBUFQ0w2BY2mKbHQ6HUlmCEIzrZFopNHv9xTNdF0ax+I8R6LorUqdxjACQU6Ojzme21VUBsf3pZLVbv9GuXLv1ESt2/v17ZVSp/tf7z7l+f6l3QIMg9dffmn61OmlN89+8uO/fc/05Haz/Y2fPPPUIw/dOTHWltVqr19qd6bjsXJvAEGQ6Ti/vnYDRREYhhHX+3//7E+fu3ytUql9vNl6dHFhs17/hxdeITgukUoYprVeb85k+7+6euOPHn3o1Zu3HzlycP9/+aRjGr4P+I4LIQiEIK5pAt7wRR+OIRQJY5jnuJ5jwyg2vBYVQkGcICRRVEXJc13PdUiGFcKhbCwWZBnbcTLBIIbAxU7v7Yf2JwXBsO0Xbq989t3v+NyPnoYhqK9pPVnpKnJflEzT9D2fIAiOYwWank0ly70+DEEIBH3xI+//3E9+Hmboj9xzCobgv/zh0ycncpd3iw/Nz261WiOh4Fg02lMUFIFfX904NTluu26M5/uqGqDpocF8p91JCfzjBw984bnneYocj0Yu7uxBEESgiOf7wwjmh+88UWi2MBT9ze0V3/c9wBdI6pH98yGWE3j2wsoaT1HZaOTq1nYuGokIgmlaKIasFcsoDCeCwRdvL9uOc8dY7lqhpFnWo/vnb5cqdVEyXcfzgL/740/3KpUv/OTnimlEGKajqgJJHhrNzmRSv7x6w3ScKMfSGLbT7h4bHy20u7bjhlhG1g3LdUcjoVp/cLNcfXz//K9vrSAQpFv2Ow8dAEHg+VsrimneNTl+s1y1PVe3bAyBW5IMgqBAkRPRaC4Uete73wmh6Hv/5M8hCByPRk9Pjt/3yEP/9xv/sdftLWRSr65uLI6kp2Kxhij5vn96bqYvy//x5vmRcJDCMBgC6wPZA/zxSLg2EHuaKhvmYwvzL9xe6SqKrOkDTbUtG4bhAMuGGMbxvFq3FxE4GIJRGHY8D4UhliBwFFVMUzXNnqSgKAICAIPjP/3bz73tjz9ruU6QoTXT8nyv2R/IiorjWIBlkoFAPhpZrtY0w5xJJ2Msc6tc7SiKpGrlStWxLa0/cE3DM03fsUE4GAYAAIQRjGOtgYgHBHMwgDD8lX/6u5FU6mP/8tW33jxrS6JnWVwuh6KY53kH5mcFmqYwbH869ZvlldlUsquoj+6bEzV9PBZtSdJuq3PP7LTn+7/79f8obW+ZvR6EE4FMBobhb3z6Ey1R/vGVa81e/w8feQCFoFKvF2GYdDDQGEi3a7U4y/ZUbSQUvFIs3T8zReOEads3yxUEhmIsq9v2QiZ9Za8wFgnfrtYwBKn0BygMLWbS53f2WIIYi4RoDFdMUzaMCzu7EAg+ubgf8P26KJ2YyK/XGnVRBAHwnrkpDEYogtAMw/W8c5s7s6nEbrtDIAhPEiGW8Txf1nUax4fooqYkwSCkWtZYJPTK6sZ8KiFQVCYU3Kw35rNZ1/d006z3BxSGgSDQVVQcRVF4aG5GJd3QLPt2tbaQTgbp/6RFL1frR8dGXc9bqdU5As9HI6pp3ShV9qUSBIpW+v1fXFtiKfLUxHhDkhkCn4xGeYosd3uqZY6GwzxFZqJRksB9H9gql7eb7cXRLASCLE03ej0UQep9EYLAjqxEObYpSrertZlE3HHdkVBwt92ZjEcVwxIY6mdXbxzKZlEEenVtkyHwB+emDcu5ViyVer0ry6soigYDAo4ixycmfnnpig8AuqaPj2arzXY2GZc1bS6buSM38sVnf3V4ZnqgqiPh0KmJ/NGpSRRFNN0ot9v/+JtX/+qpx85tb//3L30lnBttrm8cOH1qJpX648cefOff/iNJkR+888R7T50QZbkrSvNTE3f80Z+Kna7ve2qtCgCgb+iQK0uuqriq7JomTBIojgdHRlLj+at7hXd84R/WCwUA8AHfF/LjgVAoGA7lx3J/9fa3ESjqed6RfO6uqcn1WqMrK3PZTFOUCBy7sLOHIrBuW6+srMIQBCGIr6kQirIcx/O85/mZUDAdCMxkUld2i57v1wfSXqeLIshKrY5AUF/Tj+RGUBhmCWKpXKVw7NJeQTZNHwDaisJThO25UY69Xa1NxqLvPHpkMZvuyOqVQungSEY1zduV2mgklBT4MMtMxGInxvOFTrc6EEkMGzK/fQBAEZglyI4kZzMpBIbfWNtEYYjGMFHTBYq8WiznU8lKr7/X7f3g8tUXl9eSwcD+kezF3YLv+zRBjEcjfU2TdIPA8flshsQxVdfrvcFDJ47ROH6zXKuK4hvrW7WB2Nc0UTeq/UGUZVICf71Yfml5LcKxw4qFJvAQy3QV5Xa13pJkgaJy4eBWq63bdrHbf/TAvmNjOQJDFdMUNT0Xi0Q4TrUsnqRGIuEAzeiGYZomhqFT2cxsKgECoMCxsqZhCLpRa4QY2ve8q4XSG+ubLEGQGHqrUq0ORFHTj4zlkqEQhsAxno8wzPmdHQbHf+/e0wyO1weSappj4RDgA/mRbCoeo3DctOyBpj914mhI4DEcrbXaGIYCvh8LCCgM65YdDgb7ikJiGAxCmVCQokgURfPTUy/cWjFM642NzacvXk1MTAyaLSaRkFV1qVB4xxf+gWHoZCi42+kGw+G5gwcRBH7/P3xZkxUEwzzHgXDCd10AQUAAQYdKLxDFsFDoDz/yQRiEJF3PBIRsNPT+T/8x4HmA6+6eeWX/x37P9/0/et+7T07kRU17fWPryQMLP7587ddnz++bmfrcO5+q9foCTf/NL5//yJ3HGQL3feCbZ8+/8uJLrqbHpqen8jkSxT5y8ihHUi8ur5a6vSO5kWPjY09fuR5m6EOj2WQwdHFzs9jrHx7JDimpru/LukFgaL0/oAkMBMBrxfKd42MDXUcguC6KM4m443kDTfd9j0DRnqaBPhAaho5NiyFwEABqAzEucAAAEsO6GQCGeyMQBJIY5nm+pOuqaQ6ndsN5NALDMARZjlvp92kMDdI0jqI9RcFgBIJA3wcsx8lGQkNFp+N6FI4PFCURChqm1ZKkjiwHaNpxHc8HNMvSTSvEMgSKlLp9GAKTggCCYEuWWYIQKFI1zIGuITD8y6Xb7zly8PX1zcMjWd/3KRyTdGP4v2IJwvP9YUXOEAQMQwGGiYZDtm1LkowgyPm1jZl0sjkQ88nEQFEsx+lICgJDV4slgaJc16UwbHhav+vw4vVCeS6V0G3b8/2dVocl8CjLXC4UAzQ9GgoyOG44zjPXloZ2G8d1fv9fvv6lT36sp2hxgfv4P3xZqdfYZOpfPv1JBIYk3XhldePK+gaB4zAMf+j0yZ6q3Tsz5Xretb1SOshLhnF2a+f2bqHb6TqO7fv+3Mx0ZzAgcVySlUgoEGSYf/mdj8IwDILgw//z81u3bmVnZsIB4dpbZx1ZAmwbhPiA73kwQcA4Dvi+57qAD/ieB6EIzrCBcCgZi7melwwGt2u1AMt+61O/+/WXXu2pmuf7J8ZzX3npdQAEhkcLhqK260AgRGDo0G2Fo6ik6o7nggDIkITreSiCpIcrFqYFw9CTB/atVOuFbm8qFn3XyeNL2ztnt3YOZtNvf/D+6zeWLu/sHZvIy5q+XKnSBD6TSEi6rphmU5IPjmYlTfd8z/X8wP8fBO54XoBhrmxtv7GxFec5z/dNxxV1HfCBAE2lBN5yXUk3FMN477EjkqYvFctPHT1kWbZqmN9889y+dFLSjUOj2e1WWzHMvqYfHRu5tFsgULQuiqcm8ixBLJUqR8dGNdM8tbj/8vIqgaHrteb+kfTl3cKpyfH52Zm/+f6PSQy9f35WNQwQBJ++cv3gSIZAkKlU8uzGlqjpCAKneP7k3PSPzl48kE13ZLmrqI8sLrief3Z9k8axzXqzIck4isQ4tjoYwAD0b//tz7/41W/UBtLvPXzf53/+S9NxPn3/vXe+4x3S1oYyGBQq1a+fOfuxu+7siPLh2alQInHx4uXvX7hkOe7+TAoEQcUwbM+bicfe3NwBQIAjiPFopNzvt2UlEwjgKOL6XqHTBQAQAsEgTW0127plQRAEgkBrILmeG6AZjibbotiVFN3QCRxPhEIUhsEwZNqOYhiGZcEQdCQ/RiBIiKEHmi4ZuqgZPEWuVWt7tVqv0zVVVYhF45HIEDqEwgiOogdGMsfzuTc3t1erNd2yGu2OruvqQLRU1dFU3zJBiBdAGEEoGsZQczDwDAOmaN91XE2jEskX/89fB1mOZRnLsr73xlu6bc+nknud7qXdva4kj0aj2/V6u9fjWbbV7ji2jaBoICAgMPI373vnTrMdD/BPX77ugwAAAANVFVXtE/fetVZv2q7bEKX5VGKv0+NIPCnw0/E4hiBdRREoksAwEsdLrXaAoS3HETW9IUm5cNhynM1GKx0URN1QTbPaH6SDgum4puMcG8thCFzsdHmK9D1/o9kaokcAAAhQlKgbJ8ZzA01fqzfGIuEgTdmOO1zluXt6qi3JhU6n0h/cPztdF0UawzTLjnHsQNU8ACBQpKdqKAylAkKh3Y1w7Pnt3dOT+WpvsG8ks1VvxHkeQxEYgoegIgDwO7JS7PT2j6QRGP7NrZVcOOR4nuf7LUmeTyUcz6NxvKeqPEnarms5jmHbY5Gw6TjVgUgiCArDZza36wPxofkZHEFDDDWeSAwURTWM9XqzLknZYODE1EQ6kej1B+3+oCvLMASxJImhCAiAFIE7rjtQ1SEy3HZd23GK3V4mEOioqkASGIqKmp6LhFXTpHD859eWMATua/q+dBICQRxBVmp11/NhCJqMRZ+9eh1B4IO5kbVq3fO9eqeXDIc000yHgqV2J8AybVEyTOvwRH4sHGIJ4vjkeCQYLNcbP7t6/e2HFyMCL2vaPX/wJ7YseYqMBILZ+fk/ftsjf/aVrwMAIITDn33320/NTv/o/EUQhJ6/fvPQeO7nr5+xDVNtNnzX8R0X8i0bIUnA9/R22zNNhGVRmsZ4ITIzm8yNfvIb3/nnl14BIfCFK9dfXl49Np5zPW+pWFZ0YyqVoDDkzunJg1MT9XqjUyyqgwGCouPp1N+8753XCqVirx9h2Y/ffedOrdEaiLppZcLhvqrNpxJ7nS5D4BSGZUOBUq//wq2VrWbzN7dXzu/sXtkrbtQaLVE8u7P7+tqmpOm1gbjVbMum8d0LlyMcs9VqK4a50WgRGHogk9mXSgZIynGdXCJu2PZLK2tnt3dnkwkUho+OjUIgdCQ3cnAkjUAQCkE0jsMQNJdKnZqeZHAMBsGxTOrllbVhxA5D4BBN367Ueqrqen6IY5drtTMb25lgYC6d1m2HIwlJ0++amrhZrjIErhrmSDgcDQgkhmMIcnhynKepUqdX6fdDLO26XldWHM8VdX1xJBOkqM1m89z2rmqahU731bUNlsArvf5eu3t2e1dgGBiC12uNjWYrQNPzqcSTiwsUhsc4VtT024Wi43nz43nX8w5mM+PRKEUQzXZH0TSepkZjEUnXXc8bqGpfUW4Xy1d2dneaLQSGWAIfQvl2251X1zcK3W6p1z+/vbtUru40WwDgX9rdSwX4BM+949B+CATbirJcrd07M0mg6Gg4WO71RqIRH/ANyx4uz+AYJtC0YdmFVsfz/YQgwCDk+/5IKDidiM+mEpppbpcrPggsFUp//dzz5VbnE9/4TjqfD4+PAwjqOU5A4L706xc916VYdmwks9vqJBJxzbR3W+25kfSr15doloVgCMJxAABBGAIhIQgTBIQgjqq6mhqYnBJLJQhBn/2nv33iU//Pr/757yEAigi8bTuf/Oa3p1KpDxw7AgDAt89d3Gu2/ujh+1XT+vJvXtm6fctqNUEMHzlyBIHgz7//3V955cxoLJwW+H2p5A8vX+sraioYDDLUrWL5d+660/E8CIJaopQNB399c1nU9Mf3z6eDgZdW1gzLvmd6IsrzO63W5d3iHbmRjWYrxrEBiuJJ8kqhRKLovnSyq6gtSZ5OxEgMG56y4/FYSxJN237m2s2T4zkSwwI0/dbm9mwybrmu5bgsieMwwlGk5/3nCp5qmmPRaEeW+6pmOnY+Gq0PBkOU7mwqgSHo1d09niQ5kshGwruNFomhdVEMM6xhWxSGNURpLBo2bYci8Eq3NxoJq4YJQ5Bh21vNVlLgJd1QTNN23elEHIWR+mBA4xhD4BiCLFdqmVCQIwgf8IudXpRjTNvlKOInV67fOzUZZCgEhgeqxuA4DIEAAJi2w1OUaprD8ikWEAAQxGDY8VyGot64tQxDUEtWZMMYi0Q02xZIYrvZnk7EXlxeYwmCITAUhi/u7AUZxnIcBsdPTozttLtRlsFRxPeBnXYHAsGZeEyxzFK339XUuybGXc9brTfPrW9+/J5Timn96Pwl23U+cd89NIE/c21pq1J1XPfJo4ctx7lZqkAgmAkFD41kIAh6ZXW9JysQBFWaLQiCIAiybVvXdRzHYRge4lQhEAxwrOt6o9FIT1Ec11taXVV6PYJhYQSRW01HlgEQBOFgGIRhwAcQikJJAsMJAAAgGGY51vd9XdM4nnNsl6LIAMP8t7c/zpGkqGlfff0ty3EeW5hnSeJ//PTnmqp5voehGIZhDE3lE3HHdYfhDJbARV3XLCvMsjGWbSuKQFGe74VoBoFADEEiDEPhGI4iK9X644cWMQRp9vv/96XXnljcxxHk8E2NwnAqIMiGsdVqJ3guRNMDTS/1+qphLmRTBIKs1hqO5+3PpJqSJOq6alijoSAEgaplnZgYH00nlza2G6K42WxzBF4X5XunJ+MBfghW9TwvwDK3C0XbdTuquj+TWavVJ+LRi9t7d06NdyWlq6rXS2VJM05N5kXdAEAAhaCpWHR4m3vH+Jik67utzmQ8BkOQpGuO61E45vuAadue7y1XahAEHRzNrtcaMASu1hrvOnJwuVIVNYPAkIFmpAKCadsxjlVME0dRGscwGDFsG4LAjXrz8Gj20Pzcc2+d22t3P/Hog3/xvR9rlnUsP3ogk+FpKhwMoCj6by+8JBvm3VMTnu/3FFU0jHw0slSq7M+kRF0PUJRqWokA//NrSwgETcVj06mEaph7nQ4OI6OR8Bvrm21FdT33PUcO/vz6kmpZim4+vG82Fwn/44uvDTVc6YCwVqsxBAEC4HgsWhuI9cHAtOzF3AgMgduNFgLDv33nseVqvSnJtf6g2GoblmXbNkUSlm27josgCEHgOIogMJwKBoevF8dxAywjaXqz2zNMU+z3AB8wdc0aDHzP8x0b8m0b8AEyGKQEnqQZFMdwksQJAgTBt584qkpyo1prlMvbK6sohry5vnVuY+sX129ZjkOg6OW94vcvXM7GYu+9+9Tjx4/m0kmeZXAU6ysqBELZUAACQdU0H5idzgaDIZo+NJqFIQiDIQyGM0EBheEbpcrlYhGCQBRGqqL4g3MXb+0VdMtiSeJ6qdKS5avF0tVCabla62taQ5SG0joKx6r9AQAATxxc8Fxvs9mmMOyO3EhPVWMse3I8jyPIdqdzrVi+Va5N5XNnbtxqStJA0w+NZlqyAoKA7tiO44qqhsLQQFXbA5GnqSBDczgxUFWOIHwfODiaNS17Op00HWcqFp2KR/dlUgJFiKpGYdilvWKU52I8NxSJTCZivu89c/UGhiA0juMoOj8+RmKY6/mnpidvlivfOXsRAPyZZKKrqKvVWphhxmNhDIbHIiGeJII0xZKEQFKZYBDwgaVypdoftCXlrulJ1TALxdJUIv7EoQPbpfKpyfy+dJJCMdU0ARAs1RuFau2JgwfefugADEEvr6xPJGL7sxnX9bLBAIYgJIo6ngeBYEdWFrNp3XGiPPfM1RssSQYpeiwWeXVtnSFwCAIFkqoNxCjL2Y6LoyiFYRe2dufSieEVx1qtHmFZzbQy4eB6tT6XiqMQNJGIzcRjD83N4ChK4tgLt1fffeJoV1YMx5YUpbCxIQ4GgA/0e4ORRHx/PmcYZqPdPZgbPTWR//sPvjcVCFi2o5uWbpo8ywR4zpBkpdW0ZdmzTN+2QQRBABjyLFNrt/BgEEbQSDzeqtVIhp4YyexPp4KRCAiBuqbHopG+pFza2XtkYe4jp4//8NwlliBGw6EfX7qaCQXmUvFfXL/dk5V6rREKBX/33seevX7Ldl2eJN9+aD+Boo7nvra6eTyfm03EG5K00+ocz4/RGCYZxlKpYjnOtUJ5Mha5XamDIHirXEkIPI7AA01PBwTFMKfi0b12N8hQcZy7d2ZKMczxWCTOcTxNpYIBHwBOTE1QJFm8eLnQ7REoOp9OWo5LYqhsmC9dvILAMAEAAYocqDqNYflomMEx1TJboizQlOt7tusAvj/Q9Olkwgd8CII2ao3RSOjqbkExTQgEDo2OVHo9wAdmEonJeKzeF6MZJswwOIpYjoPCsOt6HE09MDetW7ZAkQSKFqo1GILG4jHDsg5k0kO6vmwY+9KJnqrZrud5HoVhUY69XiyfyI/ZrgvDkGZZvg+cGB/TTIvCsa6sZKMR1TB8z0cQBEWQhMDrlp2PRTTT2qzVAzRFYphh2aVudyQceteRg11ZDXMsiWE4ilzZKwYZmkAQEAR22t0YxxzOZkIMc8/0VF9RLde5uLPXU9SuojZEaTaZOL+zp1tWkKbvnp7QTRtF4EKtyxD4XCrZU1UQAOOCEGHoUrs7GYsONGOg6QyBm45zPJ/zfX86Eb+5vfdf7zm1UW/89ea2a1rvuOf02ZV1EAQKtcY9s1OvX75GM3RtMDhzexXH0FRAWNrZ64oDWZR//6nHrxVK2yRh9rq+bYE4Afie77ogHIrgHOeYFoyiGE199IlHv//CK9FYVDdMFEF83xM4rtPr244Tj4RZinznocWXltceWpj99pvn75qdFjVdNgzFMP/ooft2W+3vnrtI4bjveQNN4yhqLBJ+8uB+AkMt27ldqWqmdatSOzmeSwhCodNdrTdgELpraryjKCu1huf7E9HIZDx2ZmNrPpWQdMN2XYEi27J6aDRT6vayoeDtSu34+Nheu9NTtLl0otLtRThO0vSxWEQzzWHGDwLBjUZjPBpFIMh0HMU0gwzT6A9uVqosSRwbGz27tRvnONOxT06O8zS122h1ZPn89t6nH7q31u2/ubkdoMjJaJTE0IYohVnG8TyeIocg3ITAxQTe9TzbcURNp3A8ynOaaVmO7fn+z67eeHJxgSVJw7JTkdBevYkhCAQCFEEU2x0IAl3P9zwPQxAIgjAIwjGUJck31jbGoxEUhh3X2+t2QRAkEcRy3ZFQsCMr6WAAhkDH9RAYdjwPBADbdRicoEnCdT0cQ2EIklRtu9micSwZCARY5rXl1fFYtKeo641mX9NmE3EEhquDgWpaJIoupFPLtXqC5yAQ9HxvaMUAQWg+lTAdx/P8pXIlxNAhmk7wvOO7u60OiaIDTa9LouP5NIapllVsdWgSn08lOYIodHsDTdct03IcCsc7omy5Tl+UIAhyXZckCASGYRgCAADwAcuxJUXFUMT3gbncyI3NbRAAfADwfd/QdUUUHdN0TcN3XdfQARCEQBgGQAgcUsUQ5Os/+fmBuZnjM1M4hpIERuA4CAA0TeE45gM+CICLuRGWIl9f3wrx3Fvrm21FaUuybll/86vf/PrWiuv7rudFBT4RCAwTolvN1o8vXfvyK2/cKFUU02RJ4la1/uLKGoogBIr6gF/pD8ZjURyBj+ZGGBwHfF81zdvVukBRcZ6bjMfvnZuGQShADaN9kKTrK9V6XOBETaNw/PsXLrcV+Xqh+PLK+lq9sVQq/+zaUqHb0yxrs9lqiJLn+SgEeb6vGKakG5bjHh3LUTg2k4yTGIajWD4em0omPnjijqcvXbNd9/Bo9sjY6KvrG3VRjPGs5biHJsdXq41vn7/UUpTxRDwiCASKRgPC+Z29528tB3guG49tN9s8Rb3twL7h+igKwz1RDrEMgkClbs+wLAAALmzvndveZUmCwjAEhnY73fn8GE0QpuPutrs0juMocng0m4+Ej03kx6MRHEHqogiBYCYSSQQDb6xvOq6TCAZwFP3Ka2dKnY5uWa7rFlrt1WqtMhhAINiWpJVSZSoR50gSBAEQAGTdGA2HYhw7hCkfzo1c2NmbjEWK3Z5u2SlBWKs1dNuGQIAliJ6qLpUrAADwJBlhGQrHnrl2s9DtNiUZQ2BZNwWKlA0DAgCWIjzPX6nW+prWkZW2JKmGadqOpOmu7zmOg6KIYZogCFEEjuOY63ogCJEEblq2oeu9Xs8H/O1ancAx3TAAAOBYhqQpnKIwikJpxjUMwPV8ywIhIYhQlO/5dCiI4rjcal/75r/+r6ef22s2Xc+tN9sACNA03W13PNc5sLAvyNClVicRDHQlGYIgGIaSgYBmWoVmMxuN5CLhrUZroCgcRcUE/lhu1PXc5VodAMD7ZqYQCLq0W6AJjMbwsUi42O3dKJVHQsGZRHy301mvN+eSiVRA2Gq2C93uQjpJY9hup8sQeIAkM8FgW5ZbspILh3AE0W17t915cGGuLUq1/uDNze2UIJycyLckKRUMXN4tDOeW04k4hiAb9UaEYwHfZwlird6cTcZNx4lyXFeWBZrqyCpPEW1JBkAABkEKw3XbvlWuHhrJMATh+j4CQT+5cg2B4fccOXTs0OIPX3gJhqAwy5S7vf0jGcf1DNsGQQCB4YvbuxgC56MR3/fjglDu9nzfD7HMTrMdF3jHdcMss1qrT8XjG/XmkfHRcxvb+7Npw7IhCMJgGAJBEARvliqu5zEEdn57Lx0URE2/a2oiERD2Wu2h+qinaqVeb63emE0m9qdTGIKwFLlUKI1GwggEMSThuN5Qw1Dt9SkMAwCAp6i9duetre3j+bHZVHKtWscQ+D9T6xD4y6XbBIqMRyOj4dDzt1Ys10kHAwvplKQbtYGoWuYdoyMbjSaJYj1VnU7EIBAkUOyV1XXX855aXNAte7vdkQwdBKEbe4XPvu2Rtza3v/6LX+uSOH9wsdsfoCh6dHqSQNHlUnm7UJSaTQhFwskkRVL787lnfv4sxrDP/fV/DwvCnX/4/5qS6JqGb1oACAIwhCAURQqC73kMx3mez4RDT/7N38dCIc0wWZq6/8jBq5vbsqoSFBkOBjXD7AxE07RUXWcoCocgVTeOLI4Uuz0axwAAWKvWgwzz3iMHqwPR8/xUQEBgCEOQV9c2ARC4sLNnOs5Gs0njuOt5TVlGEbjY67ueB8MQjeOyaeIIEqBJUac00xqemrJhGJZd6vUNx+kqqmHbR3Kj53d2B5r+4s3ldDCw2+4cGsnuyyQ9z/d8/7W1jRjHTUQjvu/3VHWr1U4JfJzjIBj62dUbDI4PV52+c/4igaKffug+w7bPbm4fHcvdLFdOTY5fL5R4ioQgcLfT3ZdOyboRoKlH5ucYAg+yzPbW9onpyWa/b9rOgdGs63nLleqxiTwAALKm3zM7rZkWiaE+4A9UNcZzKIJ4nifQpOU4pu3gKDaViF/Y3ttoNGXTWBzJLFdqJybHIRAkcOx2oRQT+IYk5SNh07bfdWSxIyssgRc6vXhAWCpXIyzTkhWeJDwAeHTfXF2UCBSFIHC5XJlLJ2EIAkCwI8npcKgvKwxKgCBY7PYu7xVHQ8FkgL93esrxXNUweIp4dXWDxLHpeKwlyygC267bV3XFrOu2HWaZXCjUV7Vir48jiKjpb2xseb4vUFS52zUcJynwimGWO92T0xMX94qaZZEoWur2ZF3f3iu8srr+xsoaCEN0MPTY4v5nLl2plCpPvf/dqmFe3tqGYTicTnueB0EwCIK39wqJiQme5ViSCgUEIRyqd9qepoEwDAAghGIgyHCh8Yk3v/i/T/7hnzm2PTU9ZZimDwCe58EI3Ov2o+FQgGe3doskRX3+/e/yPP+ZG0s/+dZ3Tz/xxHuOHvraK2f+9gPvrnb6TUmajMeeW7p9eDQDguA33zh7cGz0nunJSr+/XK2PhoMEgvY0rdof5KPhfCRiOs6FnT0AAN5xcL/r+T+/cROBoNlEPMqxPVVtSrLpuPvTKRrHVmp1yTCm47EIy8qG0ZbksWik2h/YrquY5lgkVOj0FjKpUqeXj0VN275aKC3Xag/MTpMoulSugiAgG+a9M5OKbm61W1OxWFuS+7ruuN79M1Oirg8H3xAI3SpXFkeyv7p5+0AmxRAEjeMdWSn1+lGWHY9HMBjhaIrAMMd1bcdp9ge266AwDIIgDEEUjoEg5ANAW5RQGLZdp6equUjkwvYuT5IgBJIoGqJp1bRc3xd13fP9IE2RKLrb7uSjEZ4ie4qqmOZqtTEZj9iOi6HIQNUIFJ1NJQAABCEQgaAhF9JyHM/3hzhBEkN93++pGo1jHVlpiPJ7Tx3XDXO7Vjdth8TRtWq9JSuj4dC1YiklCDGWyYSCpuP4AHB2c+eh+Zlz27vbrfZkPLrZaHUkicCwKMe9/eD+tqxAEBikaVHTCBQ9v7PXV1UCRUEQLHe6OIYKFJUUeArDb5bKY9HwQNMRGF6rVB3Pa7Q7nue6rkcQhOM4BEGwNI1AYLvfhyHYcV0QBCAITkcjzV6fwDFF1XiWabTaqqpYuqH3ur7repoKDh/QYD5//h+/cPIzn3VdhxOEr33iY9f3iq+srtM4ngwIl7Z2dNNUFZWkyGGqF4IhCAQxBAEhMMiyvg/gKBrl2IVU8vzOboimH5ybuVEur9ebpybyNVHEIGSt2RBIMsqy983PPHt1SbftiVhkt90NUGSx25uIRbZbnXcdXvQ8vyXJlwuFJM+PhoIACDquiyHoXCZl2Hal0z27vfvBE0cV3TAdpzYYpAKBtWotFRBc379ZrhzJjdYHg51213Sc99xxqCMpFI5e2N4bi4RMx4Eh6JXVdZYgIiyzWq2jMPyx0ydcz+NpqtTuZkJBx/NgCHp9beOO3MhKtY4jCALDPVWVdOOB+RkMQWiCWDx2tLy+QTH07Y3Nn129Ydh2SuD/n/e+8ycvvZaLRrLx6F6toZnmkPQEgmBPUTcazUK3z5L4owtzL91eO5BNV/qDKMtcLZYDFAVDEIvjR8ZGAcB/dXUdRZDHDywAAIBjmKobpmUFOKbS6emmdXzfrKrp66Xy9UJp6KI9Np6rdHswBDEkQaKoDwCSpscEHkdRSdNxBDmzvikZBgiCPVVzPS/IUA/Mzni+v9fqsCSOwjCJYuuNBoVhGAKf39n78be/88nf++Sj++ZgGOopKgbDdVHaaDZjLPfAwuxOozVcRq30+74PsCQBAIBuWSAImrbTlSTdtlXDcBzXdpyhKo6iSNt2Aiw7UBQIghzXcRxHlmXf9wVBCHJclOc106x3e7ppqIpqmaapaT7gG72eKw0AEALhQAjjeVtVMYblQiEUw377/nvumZv+hxdenohH31zdqNYbMIrYltWv1gLJBIwgEAg9fvyOl67dsB2HoWmWomzX5SkqEwlPRMJRloUhiCHwcq8XZTnDtjiS/PGV69OJWFOUQBC0XdfxvOlYNMKxS6WKD/hHc6MwDG23Op7n7XV6c6mEpOthmo4L3LPXbs2lk8fyOQJFIRBcq9UDFJkMBLqqcrNU0W3niUP7dxutrqKWen0Gx9LBAEvg1f6AIwgEga/slUZCgdFQCIVhHwR00/J933bdAEVDMOg67rCr4yhyuVzLhgLDT355twCAIINhs6lEV1GvFkoIDD28by4eCHAs2xdFRdctx+7JKk+Rpu14vp8MBlia8ny/OxARGAZAsDkYuK4n0BQEQeVuD4YgliAoHO8qyl67e7NcKXe67zhyMMaxBIoyOG45jmKYNIHDEDhchGpKUoCmC52u5/szyXg6EmEZ2jCMmzt7umUtVarrtfrHTp8cqPrNam00FMwGAwxBWK4zZODwFN1XFNNxdMuiMOz52yu7rfbH77qTwbHdVsewnQjHBGj63PbO9b1SgKX7inpjeSWdTo3Eogcy6elEDEfRnqJ5vpcQ+MZAmkolru8W4jy30Wwdy+dEVTMdZ6VWV0wrHwnvtjtvrq6v37yZGMupsnJ4Yf7M2fMkw+Ak+cCRQ7WBOJCVnigCIFBcXiEDgWQmExaEP3zo3iDNPHtj6Stf/+bR++51PHdnd0+sVDzL8h0bRFCQHMkRLAfDMMtxPuDDMMwxDEOSfUmGEbjValMU5QO+63q2bVEU5bkuhmHxYND1vb4ka4YRCQSmUklZN2gCZwlCMU0MhqfjMQAABpqmmtbx8dzFnb1MIBAXOBLFfnr1OgrDCYEDAaCrqEmBHwkF39rcSQh8R1GnE/Fit8uTpGKYR8dGL+0WcAQmMKwpSn/0+MPRROKbv/hVUuCPzEx/7cVXZNPwfeBj95z6/tmLimkkeV6z7J12O8wyhmVPxKO1gcgShGU7d+RGbM99fX3ryOjIeqORC4fObe68/dCBpVIFhMBMQMgGgy1JPjwx9trtlZasNCRpMho9kM1c3i2U+/1hB+Z6HksSPEM3en3dsi7vFo+P53546WpfUf/PB98bCgYlUaIZmqCovb3CerUqUJTjeigCn93cOT4xNlDUMMe+uLwGAH6C55qSnAuHkoLAEMSvbt5qSbLvAxGWsVwXgaC5VCJE0wJNvXh7lcCw+2en8+lUIBzqd7o75Uq1P+goynqjeXJ8TDHMS7uFdDAwGYvEeE4zrTDHwjCcioRBCD6/vLrT7hi2bbvOfbPTHEk2B+KLy2uGYyMQxBHkQjZ5ZnPHcT0EAjmS2Kg3UoHgY/vnfrm0LBl6LhKOMsy1Ysn3/aNjuQcP7Du3tvnG+uaxsdG6KEU4ZqvZTgm8pBtvrm/UGs1+s4lRFElTwUDA932apFRdZ2kaQWAIBAeKYtuO4zi2ZbEs43oejqI4iuqm1RsMUASxHbtbqdq6Bvi+Z5oQjiNmvx9Kps7//edt2z70e58hKapZrni+H4rHHMt5z32n75oaf/ef/OXEoUUEhXcuXsweOjQYiF/7r7/9359+bjKTevYnP1t8z7seW5j75psXPnbXSUnTLcfxfZ/CcdUwcARmSWK1WvcBYL3ZvF4q5yJh07ZTAWE8EnE8L0TTPEmSKDaXSiyVq3dPTWy32o2BxBEES+BvbGwdzKY7iur7flOSb+3sCfUmhiAEhq7s7h4cyVwrlQeqtlWrzyUTDUlMBwQcQTNBoSZKI5lAiGHastJV1DDDYAgCOEA+Eg7S1Hwyodv2vnSSwtA4z765uRPnOAxFBrq+Vq7WRGmgafdOTXIkOdC0OM+NRyMtWR6ya2TDGKgqjqKu5+/PpjzPf2huhiEIUVE03QBAQNF1FEFc30sIwvB1oZvW4dGsbTs0jhuWHaJpFAYTPB+i6ZasrDca+XD4obnZhiiajsvgWJTj+qo69NbROP7uo4dRGAYAUFZVSVFkTfMAIMTQAk3RGIYhSE/rh1nmeD6nmIZiGBxJaaZpWA6JYQiCwBB4vVgqtztBlhFIMkDTMAgeHRu5UaqYjjObjJU6PcOyGIIAASAbDO61u0fHRgzLzgYDxZ4P+kCYZZoDMRkMmI7z2q2VS3uFjiz7gA9B4Iu3V0MMA4HgZr2RCAa7/QEIgkqjTo7lfR84MTs9Gg796y9/A8EwReAwBKuqhqCI67rhULA3EEEQNE2LwDHLtkMBodvvwzAiJOLdUsl3Xd+2XddBYIoKCDwfDDq2E4qELdOyDcOzbdsK+L7/1R/8+HuB4NThQxAEsRQVevBBw7KYaPT5pdsCQ7VF6Y777m0OxG+9dYHEMVnXV6r1jWYzHRAwBKkNxCHy9KnFhaev3gAAIMKyTx1e1EzTcpxyr78vnRxoWrHbMxxbMsyP331KYJhSt0/iWJCmfd/fbXfWGs0Uz+8fyXAEcW5rJ85zi6NZBIJXq7W9ThcCwftmpxzXsxxHMS0UhjEEyYZD2+1OlOfCLHt4ZOR2tVobDAZ6OMZx77nz+Befe77c7c0k43fkRqr9wUvL60fGRmAQdFwvzDJjsSiFoaKun9vae3RhdqlUpgl8ta6RKGI6jmZa5cEABsD3nTjaLVe+d+Gy7bocRR4dHeVoEoO8TDwKQhAMw27fhWio0GzJul4XpaeOHv7yi694ns+RhOk4KAwfG8+XOr1UQNhqtgzHyTB0odt9fX2LRNH/9b53bhZLxXZ3LpPKJpMgCHT7AwAAWJq+vrnl+f4rq+v3z06v1xsziTgIgvlIGIwAQy/t62ubTVmeiEbumZ1ORKOe5+VM8/fuOW3Y9g8vXe2pqmpaXVVDYOiRfXNNUVytNd53/I59nS4Igg1Rmk0n7xjLtSXpR5evfeDYEdEwaqLoeN6n7r/n17eWV6v1kxNjYZqxHff8zh5PkixJKKZhuy5NEF1JDvAcx816rgdDEILAlV5/u97MZVMoglA4oeg6z3GmacIE5DiewHEAADRarUGvh2KYIiu2ZbmOYxuG7/lDhggIgiAzPvX5T3ysKyl3Tk2s1mp//s9f1WsVAAQhgsKDAd91EYKMpZKRQMC0LY6iTcdWVP3A2OiHTx7TLetasfyjN8+96+SxtqyslCoP7p+vD8QH5qYtx8VRBAYh23UxBCl1ejSBGbY90DTb9WTDuGtqQjPN3XaHQLF8NHyjVL5Vrs2lkqVeT9KNB+emGZyQdL3c76/VGu86vBjjecdzX15e9QHw9NT4XqvTUdVCp3fv9ESlPxANY73WmIhFeYoEAQBDkOlETDZMAAA6ipISBN2yU0FB1HQQBGEQpAnctGwfAFzPVU3TdFzbdWkch0CQIXDNtGzH0Ww7HQhIuv7a+uZMIh5jWRxFMQRmiGHyGlZ0HYYg23Ur/UGC58eTiWF2WzdNBIaLrfbwamaI7dRsq6/qNI61JBmGIM/3QwwN+IDhOJ7njYZDJIaRGOb5vuU4CAS5vkegaDaREEJBCIIcyxr0B61uryNLpu3gKPIvr5zJxyKLI5kbxXKx23tsYS7B8zAEvbK2fnI8jyFIJhLuDEQQBId9TEMUrxVKd01NDNcMARD0PN/13BjHgRDYV7S+ph3KjTRFqdLrq6aJQLDre6VeP8TQ+9OpF1fWsqEgRxBRlil1+4ujGVk3it3ez6/eeHj//Jefee5Tb39bpS++fvMWQeB3z8+tVmv1TpelSJaiJE2LBYR6t5+JhHbrjVq1/sM//QyOIrbrPvi7vw+TFB0Oq5324skTGxubaqvlu66rqYDvAxAEctNzQijkei4AAI7tQCAIQiACIzACa6pm6BpBUhRFkhQVCwQm4rELG5skjscEfjQc/ux73vH7//bvPuAHaZrEMNOxEQgudXupYIDFccd1RUMP0vRYONwQpccWF7qSbNq243m/WV6dS8bX682xSOjgaHaz0bpRquAIQmEoAsOaaXEkYdrOR+8+tVYqXS2We6r28NzMif37vv3SqziKMji+L5vebbVfuL0ylEz6gB+gKcO2KQzryCqGwO88tHi1ULx3fualWyt3TU9Ue33dsq+XKiGa/l+f/uRrL71y5MDC9dvLvu//8NLVEEPPJeNvbO4IJDEaClEYer1UOTySGY9FVdN8cXk1FRBmk4mVSt1wnNFQcCadzCQTNMdhFNUsFj//zHO26/7tRz/ouq5hGK1uTzPN63vFbCgY5ljHdS3H2W11FNOcSycNy/r2uUt3To77PkBi6Hq9weD4ZDx6dnP3u//0xS/945cuFYr5SHiv0w0x9Of+y0dIgUcDId/z5GLhX3/27Gvrm5956L7zWzs77XY6EHh4Ye6N1Y2ddjtA0yfyucNTE3/5g59OpxKaab332JFar7/bao+GQ57v52LR77x14anDB3525TqFYRxJ+L6vWdbRsdEzG9uSYRAoGqSpvXYHRxEcQREIUkzTctx8NEyi6K1KLRsKTkTDW812TRRt1/V9AEcQ1TS7skxgmKhqumn6gM9SlO/7KIzwNKWZJgAAIAikg8G2JJu23VdVx3GDLOP5frnZlEQJRVEABBRRQjDUNi1Tlh1NBSDIsywQhkB2eobm+G6xhNKU57gYSV3/+v/9/a9+ezwe5Wni85/7fHj/gW995lO//7VvjWVS06nk95779anjR3ORSD4SGo9Gzm/vnZ6eqPb6b2xszSbis8nEpd1CPhpBIAhD4KvFEomgFI4RCHq7WqVwfCoa4UhiuVanMDQTCMqm0RClyVgUBMFX1zZgEDyez5EoantepT9gcHxfOqmZVq0/GF4DuZ6nW3YqFJA1gybw+qBvOi6JojSOt2WZwXEKxyzH1S3L9bwwy1R6gx9fuvKeo4fDDIOhyPO3Vu6emohyrKwbumVhCKJalmKYAYrUbdsDfN/zAQCwXQ8CwZFwUNQ0w3aakmw6zmwizpEkTeCmbdM4TuI4DEON/sBxXBLHBIaGIcjzfAAAdMt0XE/RDQAECBQtdLq7rbbluvPppO/5jutBEDRkePu+v1Krj4aCCUGAIMj3PB8AhjZe3bI4kiBxIhIM9EXJdh3HdX0faIuiDwCO60EgoFs2DEHb7XaUZZI8j6GI6/mKaQ5ULcKxJIp1FQVHkbV646k7Dv380rUISwdo6ltvXZhNJ2XDYHFC1PVDI5krhZJuOySGcgShW9ZUPMaTBIVh643Wdqs90NQIyxEokuA52/NYHO+r2nDCGeXYh+Znv3Pu0geOH2FJ4pNf/Y8vfexDK9V6Nhj40aVrTywuvLK6TmDo0s7eX73jiW+dvXDn1ERK4L9/4cr1lVWCxFulUjQ78r8/8O6//tkvW82m57oohsEI0isVPdP0LBPwPBBLpNOTk6qqdnZ3qHA4M5p79s8/8/S5S9989Q1xIFqmIYRDGIrSBJmOhEEQ7EgSQxIRltVtu6+on3vXU5VO9+lrN0zb+e07j4u6/ubmNk+RAknWRdFxPZYgHpibth33h5euJgX+0f3zim5cL5WTAj+bSnZkpa+q643m3dOTCASBIHh1r1Do9D588th6rV4XJQJB5lIJ03basrJab0Q4JsqwFI41RMmwbcO2wywb5zmWIAqdjuf7uXBoWLosV2oJngNB8Oz2bldW7pudSgcDumU9c21pIZ0iMdRy3N1OBwRA3/ffcXjx5ZW1tqwIJPneY4d/fvVGLhTMRSOr1fqNUtl0nAjLHBrJHhzLfeXl1/elE+88fScMw47jXLi9HBcE23GTkVC13Zkey6EY9tyZt0zXPTE1GY2Gf3H2QrnbjwvsW5u7CYE/PJpdrta2mu0/fPDeH1y48sjC3DNXb7AE8cdve8Qwza+89OoDszP78jlN1y9tbJ2cm9EN87lrN2zXTQX4g7lRUdN2m22eIjEYYQhc1HQABGp9kcLQhigdGEkPVO3I1ITruo1u3/W8W+VqNhQIsyyGwLut9kq1zhD4Xqc7Gg7NJuJhlhmoWlTgERgutNoBhlZ0A4URzTKL3d5YOOT6/v996bVsNPyh40d/ePGKbOgJQTg8kt1oNler9dFIqD6QLMdRTZMjyVKr7fl+gGEYkrBsB8fQEMMU220fAAgMHYtG1qt1x/MM07JsG0ZgXTcQBO71ByAI+r4PAICuKKamuZblaJrv2r7t+J4LYvHUJz70/q6q/vgnT/uu+4U//eNj43kYhCr93ns/86dsOvOehx/4zo+fPvtv/9e2ne+fu/jI/vm//MkzpmVlotGpeGw6EX/h1jJHkacnxy3b6ajqRqPJk9Td0xN/9aOnP/nIAzxBpgJCWOB/fvna/myKQNC1emOt0RyPRizHSQlCQuBlXacJfKVSU0wLgaFSp3fvzCSOIGc2tgWKaEhykKZ5kkjw/Osbm8mAwBK4aTuibhwZzV7cLdw3MwWB0EqtNpOMO447GouYti1rxpD2+Pr65mwyEWFpEABt17Vch0Ix2TRjHNdVFMU0NxqtkWDQ9b1UgL9aKM0nEwSGsQTeluQIx3YkJcTQEAwZpkVgGArDJIaKmh5iGRLHtmqNXCwqaRrg+4lwiMRx07I6A9GwHdfzaAIvtjupYKDY6bZk2Xa9JM/RBDHQtABNhVlW1U3DsW3XjfOCYui1wWA0HA4wdKndJXHU93wCw1zPc31/oKoEgnQ1bYhIjrFsUuBRBNlptS/vFY/mRuICP1BV1/MjHIvDiON7rueVe/1kQIiwzEqlOoxRB2n6eqmc5Pkox3qeZ7suDEERjpU0faDrYZZxXK8hSn1NbUnKVDz6nXMXD4/lHl2Yu1Yo/ubmMkuSR8ZGIQi8vFO4Z2bqJxeu4BgKgkAqFHz57HnHsp568P6xSOTM+oZp2aemJ3da7WRAKHd7QYbOBAIwBP7w7IV6tfrDv/iTf3vtzbeuXDNk2TEMOhSamByXFXXj3DkAgX3LAlwH8H0AhEByZIzkON/3Ad8HIQhBUBhFKIoaagJRFCVxHEORKM9Nx+MdVdUtqyMriqGDABgP8KbtdCR5OpVM8hwCwY7nqZY1LCVrAxGD4QTPoTB8/8L8Tq0xEg33ZEWzLJ6miq3OdDrR6A+iPP+bW8sYAhe7/bFwqNjtgSBAoGiQogIU2df0dFBYKlWfPLi/1O5eKhR7qjoZix7OjazXGputtu/7b1/cf8+JY5euXV8qVt52x8H8vn3n3zjz2up6Xzfmk4nrpfIQJpoJCCGWeWV1Pcaxlf7gQyeOfuXVM8mAIOr6yfzYO+85/Yl/+WpfVd9z5NBcJo2hyNJekUCQZEBYmJn62etvRXkWAIBUKOQ47nq1lgkFxjNp0zRV3RjWHqZlp6Jh07Iavf5GrZEKCpJuZEMhy3W2Gk0ax1AYjnCcqGrPL69mgoF8JHzn3Kzve5/72XPvOrx4fnvX8zwIgo7nc9XBoNYfVAeiaTu/ffrEV145Q2JolGM93x/oOkcQH7/3dKHeevDeu65cvnphZ6+jKDiCOK47m0zkopHXVtYfO7iwWWt4ngcAQCIgNEURBkGBpmzHFXVdM60gQwO+X+73O4qyXm9FOEa3bBxB//CRB778m1eGUp4YxzZESbftxWx6vdaciEctx5UMvauoOIJopuUBvqjpO+WKIsumruMkOTE29tDCfKU/wBA4ExCmk/GXl9f6mn7fzGQ6GKj2Bv/22huioty3f8H3/VeWbiqKctfBA29ev+m6rqFpWqftu67vuYDne5YJwjAIh6JkMOg5jmMYnm0LmYza69GBQH5k5P976rG//sXzX/4vH6i2ut85fykVFM6srKEI8tjB/T9863x1d298ZpqhyNu3V77wux9rSfJ4NMLieLHbqwwG0/FYlONulMoHsplrhdJcKuH7fluSJMOMsExLljuyetf0RKnTi3LseqN5aCTTVdQwy8i6QeEYDIKFTpdE0WK3d2Rs9PW1zTjPvbW5hcCIblm5aPjI6Mgrq+swBJEo+sDcjO8Dr61tPLIwy5IkhiBdWTZtZ8jZq/b7qmUZtjPs6yVNJzBE0owoz+qmhaHIUqmyL53qKsqf/M3f/emnPpkLh2zHO5QfbYuS53osRai64QMgBILxUBAGwZ6saKYZYGgcQ4eaGAxBhrGgWrfn+z4Cwa7ntmSFI4lhyvNqoQgAwGg4yJOUqGv1gTQRi0Y5DkFgx3UB3xcYxnIcy7YBEKRwvNrtmbaNIQiBojiKuJ7fliQAAKI831OUrqoBvj8SDg69AFcL5TjPHspmbc/zAV8xzGGyDoahm6VKKsBf3it6vq+ZlkCRluMYjpMShMVsKh4QLmztDlmKMZ795pnzJ6fGD4+OUDj27PWbluvEWQ6CwIs7ezSOsQQxEYuu1RsAADI4ZjqO43koBB8ezf7FN7892FwHEYSIxv/PH/xegufPbe3cOzvV6Ishhl6tNy5s7/7RQ/fVev18PPbayno2HPjfT/+CIkndNGzbefjw4kvXllRVdRxH7fc9z7V6PRCCPNMAABCBYDiaStZ2dn3PRRlGEPh//PhHn71+8+bO7l/8+BkUgf/qp8/2FTUVChY63Q+fPum47l63NxqPJyNhSdU9D/izD/3WVCK+0+qEWSbIsBAEbbfau60OR5IbjVZTkmkcD7HMa6vrKASt1BofO31SoKi7ZwIEjoEAwNPU6xub57atWl+aikfbsjKfSkwmEzkISgQCyYDget5wFT0REL71k5995rc/RMAoCkNvLt1anJ6EGcZ23Xw8dkjTmpIMAiCJYbJuiIbhut6+TAoChz8xno+GW5K81Wz5vu947hyQKPcHD++bA8Hqd85dlHX9zgcfXKnUFrMZ1TRlTcNg+FatLurGxx++f3lrB0UQ3TBDPBfmuXq3B0EgS1OqZiQiYdOyXMdFUZQm1H9++Q2eIt979PALt1dM28nHIouZNI1jpV7f8/1s0LM971alKun6g/vmUAAe2jVDAaHbH+imlY6FERjRDBOGoJYo8TR9Zm3jSH50t9M9lh+7WijKhnk8nwMBwLQd23FoDD80mlEMs6dpEZbZaXdeX9vYn0mnAkKp17NcFwCAB+dmyr1ehGFulmvj0QhHkggEtWQlEQiMRUJdRS10upPx2Gcevn+tVnddz3G9iWhkq9m6e3qSocntZntfOtmU5CHfYyGdDNIUR5Jr9caZtc29dpsTBD2WiI2MYBj2vbMXP3r6xEajsdVs5aLham8g6pplO19/4y3H9RqiqJsmhqI0Rfq+j2MYS9EBmjIME8Mw0zAAAPBsG4Qg3/cBCAIAAPqHz/5xr9mmAwE2GvNdt9Nsm7YToul9uZxl248dPGDZzhOHDuTC4WwwGKSp0Ujo37/7A8dz/+qpx/d2dh89MP/qyvrtUvmx/fMxQTAd+/X1zdlUfLXe+Orrb3EkweD4fbNTNI4rhhnludFw6De3V55duvXrm7e/9JtXXd8LsuxdUxNj4fB7jx5KB4QATS2O5QDfx2AYRRGGJM9u7ex1Oh1FPTI6cv/99+62OsVeb7lav2txP0sQumVvN9tdWZ5KJY5NTWAocmFnlyGJfCSCwFCp091utSEICjH0UJsZ41gax6biMcfzbMe9sruXFPjDY6MHRkcWRjIIglzaLazWGtVe37Tt0VBwMZsuVmoMSZq243ququtD/IRuWo1Oz/U8WVU9zyu3O4V63bScMMtMJ2KFVufh+VnP933P93w/Fw5bjttT1CjHKobJEoTr+wyB57OZ+ZnpAMvquj5Q1VQknEinOZ6Tdf3q7h4CQygCzabi5U43znOW40zHYzAErtUbK9X6Vqt9abd4vVS+tFvc6/RAEFgqV164tZIMBGaT8aTAN0V5fzrF4niAphqijCLI3TOTQZperzdaspwOBPaabdW0RsPhtx86EObYA1OTD+7fFxU4gabasoLA8F6705fkx/fPT8Sjd+RGFMM8OZ6rDcSuoi5XahSKZsJBz/dRFLW6HQAA/tf73hlkmW+eOStpuqhpl7Z2yt2urOnxAL+QSXcVRZSVTCSiG+YXP/Dehxf3e66nG8ZD83Msy/ggEI5GbV2zOx1P13xDB0wTcByQzOZIQYBAEIJhDMcwDCMJkqHIvigJHBugadf3m71+Jho2bTtA00mB50hSMvRaXyQwtNYbNHq9xw8tnp6cWJgc/9uf/QKF4TDLFLs93bZJDDuZH3tpZZUjyTsn8gyBf+XVM08sLoxGwhSGvbyyZrnubx2/o9zuhDnulzduohDEEvjHn3z8Z6+8HmGYdCTMUNSL15euFsvT8SiD401ZWa5Wj+fH4hw30PXdTrfS65/M50r9wZOLC4lw6GcXLp/f2Xt8Yf7JO4+duXFrtVo/OZl/aXkNBAEKwzzPPzia2Wq0RsJBxTCbkrTZaD04P6sYRqk36KmqYhoBkjwyOiIZRpznUBhmSLIvK0dmp3916arjuVGWpXDc8z0SxQIMDYDg+c0tzbJPTU0oug5DMAD4puMAAOi6LoYihmV5PuC6nuk6GAwHaIoiiGZ/wFFkkGUnxvNcMtktFNY2t19b3/i9tz0WnZoaFAr/9NOfNSS52OmemMg/vDD/lVffMGz7obnZfSPpL/76JRxF89GwrJu3K9Uwy3AkOSTqxDh2rd5IB4QIyywVK4pl3jsz5bhuqdfvqeqR0RGOJFuybFq2QFOu6xV7vb6qvfvYkdnFA7/41QtPPfk4KgSUUvGP/vmrW40GgWE4gpA4pltWX1HvnZ2WDOPkRP7rr5/9nbtOvry6nhT4F28uW45jWKZt2bO50YGqpoIB1/OaomQ7zsJIBgLAi1vbBIYtZDPvOnLwiy+83Oz1WZo6Nj72yq0VzTQIFPvmJz8GwfCj//Nv2oWCIw18z4MI0rdM37YBGIEsSVJ7PduyNFnuNZqGbmSikS99+LemMpn/+Y4n//yJR26urOXiscOjWd20Bqp2enL8/rnpOMcZlv3RO48jMLR9+3ZbUQEQePPGrZPjY/dMTwZIckhfHwuFSAxVDHP4WEMgNBIOCxQ15LdPxiI0htW6vdVq/e9+/Ztyrw8AgA8A15ZuAT7QVdWWKBbqjXQwMBoO5qMR03GiLAODUKHTZUkizNAAAERYZiQcmk/G+6r21vLaTDJ+4co1EkdfunzNsu2Do5m2KAsUORYKHRzJTCf+0zbWVzUGx8fC4QfnZgDfTwcDd+SyTx5coFCMQNEQy0zFY0M9ruu4UYEv1RozycTh3GgqGEQgSNR0FIFFVa12uilBODGed1zXcNxqfzDMemIwfLNS/fqZs19++XXP9yAIlHXD9T0IghzHcXyPxDEIBEvF0tLZc61WO8CxD+2bW9/eufH6G5tbWxSGHR8bHY9Ffd/frDcenp91XG+z2dIN67eOHc4GA5bjHsvnPnTi6Il8jkSRxWx6NhlncFygyOVqDUOQO8ZGUgLfUxQEgu7I5+4YHeEoSrftn19bulIs/vrW8mvrm5vNlmQYFza2Vm8sHZmeBEBQ3Nkp7RWO5Udz0SjgA8fyORxBohwH+ACFYZuN1rfeutAWxS+99OqQSzCZSjiuMxiIg/7go6eOkRh2cWXtT9/2iOO6kqoWO91j+Vy3P+hLUjogXNrZ000LQWDDsr745X9BUQSBYAiCPB/41De/ZxoGIQgQQSEcD4AgiGEAjIAwBCKRmO84rq7joTDOsPFU8gvvf3cyGNyuN6I8RyAoy1ClVvv75y97gJ8JBgudTpznTNddzKTfWN86NZX/wo+f+cJHP2g5DgxCo9GwwDB9WdFM03ZdH/AhALy0VxQoMh8N1/rib5ZXEwKPIXCcZZuyEmJoniCqg0FP1cIs4zjugWz67v37egMRxzDTsoa32RAIWo7TFkWGJG7slXiKrA+kAyPpcq///XOX7p2f4QlCNk3ABwgUeWll7dGF+SjLFLu9Qrd3aCQDg6DpuEGaMmwbhqCVeqMlSr917MhOs5UU+PtOnfzer14IMnRLkgMURaAIiWF9RR2NhCVdtxx3tVr/yIP3Yjh+7vpSNhattDs0gbuuazvOxZ29zVYnFRDedcfB11bWV2r1O3IjPEEenZr4xmtnbM91XHdob3E97/BoFgTBVCRc73Q1y55IJSmS8Dyv1u6AAGg5TkuUIAiUDSPGcRAEfvf8pScWF4I043reXruTEHgYgjTTVC270Ok+sjDXFKXddmer2c6Fg2GWmU4mru8VLdcN03QyKFR6g61m68joSCoUqPcHw5jzkLRzaa+omZbjeTGeu392CvCA2VxW1fSerEiahsBwV1YYAg+zLI6h5U7Xdj2BJr9x5pyiGyPRsO/7C+mkbJgr1Xq11+vLCgD4LE0zJNGTlP5gEI+EKYLIRcMPzk5/9Y2zhmUdGx97bP++//7Mc4pukDguqSoIAIZlQSB4977537n31Pv+4Z+LK8uuoYMgBACAb9vDcTziuy5MkHggyAiC7/sgCH7n/KVyu4ujSD4RlzRd1nXbcY6Oj9UHUrnf3yhXH9o3+7fP/PJ4bvTe2ckru6VsOrXX7iyOZPqqno5GLdvuK+pzN2/3VDXKsqenxgud7lwqsVJtpATununJvqat1xvH87meblzbKz2xuE+z7PlU4oWby5OJ+Pnt3cdPHo9ns+1qda9SnRgdFaIRGMOuXrg0mclslMoCRRW7vXceP3Jzt+A47sJodjQUvFYsi7oe5zkIAkgUPb+9c+fkeKnXpzFMt+yVWp3CsBBDV/uDmWTctOwATd0qVxI8B4Dg0q3bUY6FIWit3vzjxx9e2t6NCfx6rZ6LRVXTSoWCUYG/vbXDUSSKwH1JxlDkxdsrumU/vn9eMsy7pyY0y+rLKomiFIoeGRslcdz13LumxtPhkOt6X/jlCxe2dzAEuXNyPBOPQiDk+0A+Ec9NjtuGyaYzzqVLLMf++bd/UB8MHNcVaPqxhTkQBMejkc1GazIOTqdSRxbme91uqzeI8pzjeZPxWFuUIBDsKmouHMoEBRiCzm/uDBlStuP2FNVx3cVsuqeqoq7FBcF1vY4sibq+kEkdcNyaKBY7Pd2yYAjCUQSGYRzDZF0fZuY3Gs2Brr/z8KKqWASKLuTSlm197PSJQrtru67juS/eXr1regLwfRxFYwHhSD4navrZ1fXRZPz25UvH52d3Gs2Naj0lCBAEAgCwXm9uNdu+DxAYFmLZP330we9dvFzt9gEAuLqz++K167IkkcGQ1m65qgJCsO86gOcBCAJBKEZwHMVxvu/jBBHgudFwOBMJ0SQRpumZRDwmcDxNhRlmLpWAAPD0/Oxuu7swPvb1N976lxdf3ajVPN+vDsR4MKBbFgRDL9+8vVQuIzAkUFQuEqr2BygCFzrd/ZkUQxBrjQaGIH/wwL0cQcqGkQoKkmHKhvHKyvpMKvnhO4/PJxOVWm1jeUUIh6PBYLPVNlUVBEHP9yRVpQl8NpsK0GSl1QkzDIrAPUV9ZW2j0usrhrndbF3ZK2VCwb6q3SrXUASWDGO11gBBsKMoS6WKbttRlnE8t6uqF7b3BJr2AeB2qXyrXCUx7L+cPtmXZBJDRVWbTiY6khQTOM0wQRDEUbQtySAE4Rh6cXt3uVqri6KoG48d2Of63lK5CkHQVDyeCgibtYZuWn1JhiHIdlxFN05O5I/nx/Zn0ulYtDcQG91emOdisWhpexcAAKVSoRnqM//+nXMrK7c3tiqttqRp2Uio2hdvlqu5cOi1tU0YgsKTU9FYTDfNaCgYDwVfuHX7za3tp6/euFEsbbfamXBotVrPBIUgTVm28/TV6+VePxcJYwiCInCh0yt1uhAEpILCSCi4Um0keO5gNnPP9AQAANcKpfpA/Pwzz332R09fL5Y6svyTq9c8EFBNiyHJH126+uyNWyNTE/FY7NW1jZVa/czG1psb28mAcKNYifDsg/Ozk8l4V1H7mvbooUUUgib2H9hrtmzHoUni68+/9MDcDArDMASWmu2FkYzlOBxJtGSlKyuqrjuue3xyXFM1kqKMQd8zDACEQAQBfB8AAMBxEFfXZE0FbJtMJi2D+N+f/sRENrtZKAY4RlLUf3n1zMXllYDAPzg3MxGPzaeSGIr8n1+9+J5jh//5xVc3rlwRMlnf999z9Ei109vtdL77+pt3TuSr/YFsmNdqxQ+fPLpZb6QDwonxMRiEGAK3bOdIbkTRjSjPHcykYjwvanpXUdsD8UMnjgIAMJNOrpWqPgDwHFtptUvtLkUS/c1tCIJIHC82W6+urBEoqpqm47o9VTs1mf/ljVvvO3a43O2TKErhWFIQTk3kd9qdGMtSGOb53u1q/Whu5NzWTlfVYAheyKQdz/vaK28ohonCEARCh0azgA9ImrZSqeVjkbYk91TNdOwDFKmYBggCAAh2FcVyXBgCs6FgpS+emhxjCULWDY4gTk/mJU3naTIt8AJNGZYZYFmBoTXDdFx3XyalmiaBouvFsu97EZ6XNG1zd9f3/b4k9RSVIQmawApXr37mDz+VCwZ7qtaW5GwogCGwZBiO6wKgv/zmGZIgRuKxgSSrun7H6ChHkYphNESp1Ott1RsHRtKaafU1bbvVCTFMud/fbXdGw6EDI5kgTf/m9so7Dy9+/8Jly3VBEBzur6qWxRC4pBuioY+EgjxJ8iQZYhnQB3XLvnMyv1FrnBzPyYZ5+eKljiQXO70juez59U1JURoB4cN3nji/sxekqUsb23/7/ne9vLL+xuoaiiC1SrXqe3wwaNnOe+49/aMLlzvdHs+yQ43i248c/M5rb/6XU8f/4IF7blVqAYr8m5/8HAQBTVEQknJ1HUJR33VBBPE9D4RgBOV4AAQgGAF8gKDpjXrDtt2wwP79r1/67VPH/59HH3jv6no6Ep5NJWXdcDzva2fOwij8/K2VBw7sa3c7IAAuTE9OJ+O1vkhiWILnKBwnECQpcLWAoJtWJhgodHt77W6YplPhoGyYZ7d29iWTTVlCEaTSGyQELh0MTMVjqWCg2u0phhHhuXpfLNTqnu+3FaUzEHEUIRCs3ulyJHlkbPTV1c0x2yEwRLfs5Wr9t44d9jzf8byEwGMwLGqa43mHR7K257ZEqS0r+1IJCAQf2TdX7YuW7UAgWO7233fyaKXX6yhqsdujMOx9R49wNHVgJEPguOt6LEFAELhVb6ZDIRLHb5XKz99a+eQ9pyMCv9toSoax1+llQ2EYhi7s7D5x6MB3z17MBoWzmzsMSdwzNXH//ujksWO//OnT57d3D+Wyr69tProwp5qW53mJIBwW+Gq74/m+7ThT2czZlbXLG9uZgwf//Re/DoXDf/6Ot/EkiUBwNhy6Xih9+qF7ddOSVI2lSMu2LduZyee4bk9UlKls+q1Xz1iu8+bm9lQ8FmGZQ7nRbCgk6/rtSu3dJw7d2Ctd2t5zPJchcBxDxyLhYq+nWXa5159LJjiSGOLNMASZSyZ83zdsuy3Jd03m/39EvVV4XNf9/b3hMAyjGCyzLbNjJw4zMzXQpk0hZUybppCU07Qpp22gDTTQMDOY49gxs2yxRqNhOHz2Pvu9mP7+74X0PLrSSAf2F9b6LFEQXN9Ph0MTpfKcbGasUJqs1SCEu8Ymbzv79F3jk7okHsnPzM+mKWM9mfSmo8e7olGe41zfT2ZSCKJkNOr6/on9fRsPHOnMZn599RXbR0b+/eEmnudndXXc+8Y7FcNoGKbruuFIiBBqGEY9N8UoBQAC2Bq5IoAxR0wD8cK8VYPVWh1jPFIs33jh+aV8fqpSeXTLtkKtMau7w/K8hzdu+dwpJ/3y5devPWHF2/sPnzJ3wLCdEwcH65Y1K5nMRqOyIIyVy0t7e1rFHGXBXVddajturlJRBeGMxQsEXkAI6rLk+P7xYum6k9fe/cyLhuOcONB/66nrPjk+MqurE09Orf94aP/EVEhRTjB6MUTnLFkEIZwoFHsy6VmdHaO53Kb9xyWeq5hmveyUTNMnpGY5fcnErompbcOjPfHYuvlz9oyMVS1rolL1KV3R273+8NApcwc+OHw0LEmpsK4rium6eydyZy2Yw3PcnonJnkRcl6Xe7u6x8fGRfCFgTOQ42ycSLyAIOYx7k4kvnLouqqktXs31q1ekwiGPkIphtkcjY4VSJqT3JBI+DVpeU0Hgme+vWjhfEYXd4xMAAoHjGrYDAcimk7ZlCzz3n63bV/Z2P/r0c7IgdCQTHo1YiSSE4IWde7vjsStWLJ3T011sNN7es//E2bMQgj4hosDLgjCem1YkUeT5HUePrezpao/HAhpUTbMjEc+kUl3En5oppMIhFoCEpi3qbD+cmxY4rmqYCzvaZ6WTiiBGNbXcaEIIZ2czHx8faY9E4rpWbDTeOXh4TX9vXNdkQdg1Ot4ZjydCesUwIIBLuzr7kokj+RkIgMzzputN1+o12y43DU2WL125bGhqen5Hu0v8Vz7ceP05Z9Use7pW+9XLr6uSSILgZy+/Vm0ajudxGA92tG86MtQ0zE+fts5w3Mc/3FgtlSghiOODwGLMZ5QAQgBjLKAcEiVBVWv1uus44XDY9LxDBw/N6u/jOW5he9u5F5yTSaf/9MLL+UZztFjMRiOv7TlQs6wntnwcMMZYwHFcSJLCukYCWjEtCEEkpLdFwrsnJ4dz0ysWLpip1qbrjV3HR05avPDIyBiPMWNsVV+PYVl9qYTpukldy1erRwvF9z/ZvWL2rBtPXLNjeGS8XKVBMNjdoSnycG5687Fh2/fbYzHDcYtNo2pZisD3JOKHcvlUOIQA0GUpqWs102IAHJ2aXjt/bqlWf+/QEZ/Q9mhY5Lh/rt+EIUyG9J54rDuT1kTRowQjPNjVma83DkzlLl2+tDAzo0hSXzbdMC0I4XS11p9JhTX14yPHZFFY1NtdrNY8Qg/l8uvmzR7JFzBGYUXZN5U7MDV97eoVEs9vPT7CIzS/LdM0zcmDB3zfVyVxRW/3nEx6olxZ1t/ruO7Q6Fg6Ho9q+nmL5iuCeNqc2ZlIyPI80/E2Hx8+Np0XOLywLbtw9oCoKLMyGcvz3tizf3lPp8jxHYn44ckpxydz2rI8z01Waou7OmjAZur1tmjEI+T4+Hi+Vu9IxDVJqhpmTypRM82ErjUs58Vde23Pq5pWZzzWEQmv6O2eqlQt101oKqF0rFgKK/KSzo62SKRkNAml+3PTuiTumpiqmCaCMKIoAoePzRQYAxDCqKIs7erM1WonD8ziMNp08Mhre/cbth1WlJNXrZiq1hzPb0kur1694rkdu65csfQ3L7x62dpV7+49MF2r33TSCX9+673/bt3+6Fe/cMHSwd+/+c7r73/o12vA96CsAD9oYekBIRBFYgAAMRJNtrcFNFizcMGdl10kCsKjH25c1t3ZMgC9d/DwvGxGlySB40hAH9q49dDImCDwEEJVkc5fsnhtf9+W48O7xyZW9HQt6+7aN5mbqFRPmTMrFQ6XGo3RUmVZbzcEsJWQFNc1CJEiCgLPMwAsx3l3/yEIgcrzksC3hSNzuzumiqVio9mfSeuqcmwy5xDSFo3oijJRLA3NzHTGYq28ZI9QiCCPkOl6DACEoIhxy4dVN613Dh0+b9F8n9CSYQwVSlXL3Lr34K9uvMZ0XIyxJPASx1cty/X9lk6vhd5sqfVabOK6aWcioZd37103e9Yru/ZduXJZqWkIHHJ8EpZlRRKPzxQna7X+RLwrEa+a1qahY2fMmx2SFZHnW2MdQmnDsjFCEAIOI5HnWcAghK3MdNvzZ2r1bCwyWii1xyJ7J6bue+EVURR/e/N1miiposjz3Ju7952+YF6hVncJaYtEQqpCKK0ahsDxksg7rl9sNvdNTp21cP6BiSmM0ZNbt4sCr4vS1auXjZcq5yxZbNh207ZtzxspllxC9oxPdcajJ88eKDaaz+/cxXPcip7uU+fNefKj7T3x2GVrV41P54/lZz46PkoZM12vKx5b2dP14IbNJ88ZSOkahFDgOA6hw7m8Q4gsCMPF0mXLlzz98Seu79+ybm1EVVyfvLHvQEgSA8Ze2r6zYRghVZ2cmFwwfy4EcGV/7xUrl119z32Y41RFkWVp6PBR6rtesxk4DqdpxDSZ5wHAIC9AtX+AMUBdR9RDsqquXLTg8yef1LSd3kzSdjzKmE/Jb19769Mnr8UQPfHRdkLp+EzBdb1YNMwhXK7VVs2bc/Hgoic/3gEYOGvB3HltWZcQzyc8xomQ3rBsAEEQMIHjio3GUKHoU9oVj354eKgnER8vV9YNzJppNlf0dGOEJisVVRB60imM0GihAAGUeF4ShBZBjsO4adum65abhiqJjucrong4n++MRT1CdElKaBoNgslKNaarKT2EEDQcFwLAADuSn3npk91nLZrfGY3WbXtee1up0YQAvL7/YMOyEESfXbc2YCykyM9t33n5iqWKJPmEEEo5jH1CDNspGUZ3MhEwZrmu6XqZSMj1yUy98eqe/Y7vf/G0dW/sO3i8UEAQ9iUTt51z5uGxiZ3jE52xSNN2hwrFs+bPgRC2ImY0UayY5pxsVhIEXVEapsnz3NDUdERTX997YPvQ8c+fcUpPIm667vFCcVFHO0aobtmjpXJrhjVTrVmeV7Xs1/fs/+Gl59/13CtfPP1kVRI3HhnSJSksy3PbsxCAZDQ6Oj0dUdWqaa4/PDQ7nVq7YO4LW7ZtPj4sclxEUcumUag1zlm8YKbemNeWSYdDgLFWXNixQnFZd+cLO/ekdL03EUcI7pucKjSNr5x1WqHW2HB0qOm4lAY8x3EI5Wq1eW3Z6Vo9V6sFQQAhVESRBNR2vSBgNcOIR0L1pkkotRwbYxwNhRRBzJVKpmX5vm82mhzP2c2mb5mB60KOY4Qw3wcAQEGAkQWLfdeFDPTNGaA0iIb0T61Z9dLOPQCCrnjcIyRfr3MYt0cjlywd3DEyFpKldw8cXtbd5fh+JhzaMTrWFoms6O4kQRDTVcfzXZ/MNJqzM6kVixYMHR9p2vbT23fKPP+9yy+u1es/+u+LHbHIj6+7qlAsF+u1Jz/aToLgUyes6kwlf/XiqwACw3YfvfN7Vr3+5NvvuYQs6e4kQXAkl7/2jFMRQjOFwms7ds9KJ/dNTq0Z6H99z37DdQEAw/mZuR3tFy5eONDR/u3HnoyoysWDixb2dhNKDdPadHRo09Hjput2xKODHR2tG/rITOGcRQte3bV3pFRe0dOpiqKI8bpFCwzTatp2RFMd14uE9M0HDs3raPcJgQi9umvP2ll9hFKf0uFiaWFHu8jxr+zZe0JvT0SRW6liPMIJXe2IxbYMHZ+VTo4Uy3FNPZCb5jEeL1dmpVMD6WQmHB7Kz+zPTX/6pLUDfb37jxxtTyXve+0t2/PGS5V4SJN5/stnnhYN6Y9/uKk7EWsFQhyZnpnXllFEsW5aDACB41yfyAJ/ND9z4twBWZQsx3ls09ZPhkc/f9q6c1avlFR1emoKAjian9l2fGROJi1wuCVlHJopxDT12e27NEnqiEay4dAFq5a/sm3HronJ1b3dNcu+/ISVTcv62zsfkCBY1dMtcFxMUw9P5xe2t3mUtC5xyTQrppXW9WOFIgAgoWkAgslKlQRBeyQS19U945MIwaZlG46TDIcDxnLFEgPsvKVLl3Z3/OCxJ8u5HBaEbGfH1OgY9X3McW6jzggJHBsEAQgCIAhwYtumgatu9E0zPasfQRyPRe7/7M3lZvMvb39wxsJ5NdM6aXb/uwcPG44nCfxkpTqvLVM2rXmZVF8yKYv8m3sP9iXjUUWxPW/76Pj8tkwmHBovVyeq1WVdnbMyadvz3tx34JJlS5KxqO24judyCJuO43r+ZKUqi8LhXH51f2/L1FFsNCqmddriBZ7nv7tv/3i5WjbMVX09A5l0WyyaSSWn8jOleqPQaHwyNhFTlPZomOe4mXpj++iYR4JrVi1DEDy4fnN3InHpskFNEmd1dX60/6AiinsmJi3XW93fs3nouMTzK/u6//behk+fdAJG6NhMMVernzx7lioKyUhYlqSpYike0qtNQxFFypjAcaV6I6prhNKaYbiEJEOhpm1DCBGEtud7hKTCIZHnD03lYpr6zoHDZy+Y23QcwEChaXjET+j6aKmCEOhNJCzPS4f0g7np13fvu3zFsvOWLvZ8QoJgpl7nEGrYdkzV3tl/8OS5A6lQqNhsjpXKgLGOaLT1KHbEozRgAsYeobIocBjTIKg0mxFVQwgatq1JsiyJqiwTQpqW1RKqNmx7qlrtisclgecQNl2Xx8j2PMZA3bbDigwAKDSaPqEd8ajpuCFZmqzUwopUbpqpsH5keqYvmRA4Llet5ZtNVRAcQuZm0g3biWvacLEYUZSSYRwvlEgQ+IRcsmzwvYNHBlJJnwV7J6aG8/mrTlg1Xq68vm3HnN7uOy4+r9o0r7nzp14+BwTxzYf/8ciGj65fu7IjFV9+zU0soMwwAIKtRp5b+OkvBsQPbEtRFARRdyqlyhJg7JrVK+Z3tmOEGpatS1JbJPzarn1nLZq/+diwR4jMc/unpvP1hk9JStciijLTNMqmGVUUieejipzStURIrxpm03HaI+HDU9MjM8XZHdlKo4kR6kilfOIP5QtjlcqxYrEvGf/nBxtCqhJX1Yfu+M7b7344Ua3smphq3RY7xyde37P/j5/+VCgePzIyKvDceLnan0ws6GgjNGhY9sKO9jnZzIs793iEpEOhL5y6juNwzbJM1wXjE+3xWK5S3XT0WGcsdvKaVY7nNxwnV62lQrrI88fzhV0Tk4AxTRJJEBTrDdRoKqJoOq4iirbn5Wv1VDg0OHf2Cxu3zGvPapLUqNZKjWYmFvnTW+9fuWKpLAqPbP7o6+ecbthOJhTieXzR4MKIpvJNTINAEoXP/Op3D3zvG6v6ur/zyBNPfuer7+89CAEkQTAyOrYhHOqIR4uN5vyO9ulqPaYqD63f8uUzT5luNKYqVQDY9uGxozPFa1cvVyVx31Ru7+SUKoi3nLK2ZlgnLB0MCAUAKGH9up//NqopEMDJYuX9//7Hn8nzqVTjyKELfnj3qtl9o8XyZ09eWzLMuW3ZfK123xvvEkr7splfXnfldx57igbs3EXz2sJhXZLytbrE86/tOSDyeEV3l0fpwen8dKPRm4iPlspDhWJEUQzXHTKtG09c/eLOPTRgmiROVqqO50VUdU42DRhggD2xdTvGqCMW2XhkqGYYHcnEdL1+ZDqvqMp4vnAkl//ne+v1VMqWpIDSy++8OwiC515+GSKEBAFARBlghAAIkCBCpW9WJJGsVyq8IECEMpnM32/9DIeQJAqO5wMGEIIu8UcLRYnn67ajCPxEtZrWQ28fOHTG/Dlv7T943qIFGMGntu2om9ay3u6lXZ3FppENhwLG0uFQxTDnd3Y4nqcqsu14YU2FEJiWc2x6OhONcAjzHGYAyKLI/s+BEDAWsKDSNGqGKQpCJhIOGIMA1AxTFsVys5kKhziEBZ63HMejpFWqWp7XagWCgCmiQIOAAWA4LocgxhgCACCoW7bI8Q3b3jh07PoTVno+qTvOP95bf9vZpwkIa5I4WakZrnvWovmyJCn/sxfzruealt36bD4hAQtYwESBb1g2BIAEbP2Ro6Wm0ZuInzR34PHN204c6B0ulCqmBRGsmvbu4yM/uPSCsCwnw6GaYebrddN1H/xgY3siHgRBIhQqNZt3X3lpZ0dHo1YzLLtUqx2dnqk7NmCgaBiZUGhxVwcAIF+tKaKYjoQt19VlWZNlURQIoQ3TvPuFV7934dmeR+b198aSqVqpJIhCtVLddODQQDZ97xtvf+e8sxq20x6LBYwN5aa3j44vbM9yCAMExkqVpKYihD44dPT0+XOmKrWopjyyfvOPL78IQSQL/JPbdmRCoUxY33p8pNwwvnD6us1Dwz6lfclEStd9Sl/fd+DchfMUUVx/ZIjQYLxcuXT54Oah4QVtmZ3jEwAATZJsz5up1Q8Pj1BKZVnmeL7ZaASEIIyrk5OMEgARIz6jBEAICGUsAABCjFEonujp7Nz38N/nz53b1t7WlU65vveLl1//9n+e/ucHGxYvWTQwq+/v7294//DRkCKPlSsbh45vGx59YeduhOB7B4+oojRertYtJxUKnTx39txMuisRn67VWwnpFcPUJLFmGH3dXZblAAB6587tW7CA4/Brew/c8+pb333ymR89+9K8uXPnr1wxXan+4KnnFp+4tr+v9xcvvn5kOp9vNH/x4qtPf7R93pzZ6Xj8uU92/fyl1yartWP5Ql9316JVK2RReGLr9q5MesWJa/dPTL229wCH8fax8a508vV9B94/fPS1ffvfOXREFvjjxdJLu/buGB0/Vih6lGqS9MnYxI6xiYbtzOts/2R04ki+MFqqTNVqEs9PV2qe5wuC4LpeKBJmjFUNI6ypm48czVdrqiQBCHeNjN39wqscx71/8DAAwHC9swcX9ba3X7t6xe7xqRNm9Q12tg/lC2XDOGNwoU/o8ZnCijPPiof0nWMTz2zfqUiST2nTdnLVqmHbx3PTeiLRu2LlotNOe+qjHS/v3qsIgkfpYGeHT+kLn+zpbcsuH+hPhUM7jo/wGB+cnMqVK4os15rNgxNT165angiFMvFosq0NADY5PV2tVj8+MjSnPfPsxzvv+dQ1v3/j3TVLBmfPm9vV2fH39zfsGht/9+CRf3648ZFNH20bHnn30NH3Dx/1A/r+4aP7p3Lj5epFK5Z2JhJnnnbKU9s+OWfBvFyt9ua+gx4hN564+vhMcUF7dk1/b0c0ciQ/059JpUL6jrGJY4UiY2B5T9f8jrZDuXxXPCryXHs0Uqw3juVnjk/P9KSSmqYpirJqwbxZHe0sCBhjZq0mhkJaOoMEHkAIIQKUMhaAIACUMErg6Ob1xCervvLtto62zkTizksuxBgdzeWHiyVZ4HO1+vFCEUIIIciVK2FVPW/xQsN1TxzoFzie5/Cru/Yu7+4sGcbh6ZmLli42bEeRxKPT+c5YtOk4uiTlqnVdEvsyaR5zHM9pijI5Uzg0lWtlSgsYq5J40uJFiY52QQ8BCMvDxzft3E2CYMuxkb5k/J2Dh7902rpl8+c5tr3t4OH9U9Mre7s7kwkO45Z0bTg/051KBkHw0ie7xspVjxJVEOZlM8v7un/1ypsix5Eg0CWpOxELS9K24dFT5wxEVOXl3XunSpUrVi0fSKemavWmbXfFosmQjhBqjQuSkUixVhM4LpNKmoZ5fDqviEI6Gi1Uq62yD0AwU60jBIdmit2J2K7xyYuXLI7qGqHB3tExVRQRgg3HmazWBjs7MICaLHEYkYDtHBndn5s+MjVte96JcwaWdHa0xyK6JGdTSUmSXNcdnpw6lJsOSVJMVTVZ2jsx2RmL8Rhrkjhdq7fHoq7vS4KAIHR9PwhYzTQhhFFNDauqLImEUBoEnu+bjuN4flTXXM8/nMtlw+H+9jYEoef7ru9brgcAawVCIwh9SkeKJYnnfUI1WbI9LxXSCaEMwbphkSB47pNd+Ur12rWrHnxv/Q0nr52TSXMISYJgOK7lurokCzx3vFBUBWHz8eF52YxPyFChaHneWKGkSKLj+SFV2Xdk6IfXXB7X1G8+8MhPP3V1XzZ55jU3KH2zdjzwl/lnngc1HQLIgoBZ5v+WSQByS7/wNUEUKSWJSKRh2StPXlebmto3PhmSJZ/Qq1avuPAnPxdlWVVVVZYH53d2xqJv7j84kEoemp6JyBJlgeV5hUYzJMvvHTh8Qn/vrpGxznh0tFQuNJoLO7LL+3v2jo6/9MmuG04+8aH3Nvzy61/646tvRhT5WKFQNS2PEst2zz9lnZhIQVECEF7x83spDBgDpWr1ka9+8emPtr9/8Oi5l112YOOmeV0d+yZzc7o6JFHMF8uHJqYajnPygrk7j4/Mbc9ihM6cN3u63shGwvunpv/6znqfkPZopD+VxBDtGBub35aVeL43ldg+PMpj3BaPKTxfaDS2j4xeMLiwMxZrSeUVSTRMu2GaGOGQplqWhTEWOPzY5m3fOv/sk888Y/P7H/z61TdZAN5+9KH77v3djtGxBR3Z/eOTly1fOl4ochi/e+jIraec9P6hI5ooNGynRev1CDFc8tbeg5evXLZm9sB0tfqvjVstz4+oiul6PZnMWG7aI0SVpLCmHszly4Z55cqlSTF8ydoTKpUqCYJoOPTwxi0eoQjCr5x52gnnnP3tn/3SJv7wTMn23FQotKa/99ENm2kQPPSlz/7shdcAYP/96Q9vvee+iXLZdBzik0e/+sU5CxdIqQwA4M9/+mtIkf7x/oZ3f/+reqFYrdUe+HBzfzoRMGB73vFi8ewF88bKFY9QHiOfUNvzEpHQ5qHhVXMGdo1P5hvNm09aO2v2wGd++4eVfT1fv+F86rp/+fk9XYlYw3YeXb9pflfnutmzuhKxn73wCofw7Lb4hr37CSU/euRxiBBg4PsPP+rbjtTdSz1/xa1f5eLJwPcZpQAhIEoAsFYINxTau+Lt7f1dXQFjjuv+7MpLo7rGAAAMPLV12+xs+ut3/xJyHMT4hXt/9dqufVesXDpRrgz2do/PFBf29TZN0ydkrFBUJJHHuNI03jl4KKFpp8yd7fm+R2hHIgYAnCqXFVFkDIQVxadU4DkMkSKJiiwDADzfl0RRD4Vq1WquVLJc9+q7fgUAeO6uH8qCkInHfUIopZ5PZEl0PY/nOA7j0fwMz3E8xi18BQDAJQQwYHmtH6Es8q7n85iTBF7kOMoCQoMgoKbn3fHEM57n/eam63xCLc/PRkIN29FEMawqIs8rksgYgBAgAAWBBwC4nu8TwnMYIwwhoEEQBKwly1UksWHZG48eO3XunJlarT0e/WRkrDeZMB03E42IHAcRQgDIkmg5LgOsbliW7+2dzH144NBXzz79vjfe+fo5Z2Sj0bCqGrZlOi4NWNUyv/fwY7/73M2G466c1Y8xYgEjlJiOm6/VjxeKpy2YF1ZV1/fzlSqHEA2CqK4hBCllAs9xGGOMDcuilHqUnvXlbwS+d8KZZ/7m2is1RZZFyXYczGFZlGLJBHE93/dzMzM//O8LlWZzXlc7IcHmvfvWLl60tKs9HQpNVKoRWX7www2+T65auzqt6xXLenXnnu9deE5C1w3HeXnXvltOWVuuNwGCnk9Nz31r38HeRHxuW+bQdP79A4f6s5n1u/fWymVCiG/bxDTEcAQAwIKAl2Wn0WgZOANCGCEsCEAQMEogwgAh2LHmpKtPXadgnrDgo2PH52SzN5y4+revv1WoNaKa2rSdpm05jpuKx65fvXJJb/fO4dH2aGTdqhVaIkEch5Pkvdu2zdRqL+zcwyN8/uACy3HDmvLElu3z2tLnLxtUZaVQqf79/Q0D6cRktY4g3D8xySH8+m9/YVVroWwGCeLu9Ru+9+SzL/38R1I09q/H/uMS8sfX3vQ8/65rrzxj+ZJ4W7vdqG/Y/smSgVnJtmxubHzv8MilV1z+p388NFQsVi1zdKaIIFzW1xOWpVPnzbnvzXe74rFWmN3wTOHUeXNuOHWdKEmCJK7ftsOjZLJSW390SBGEWalkWzjUInnkG83FHe0RVeltb/M9v24aM9VabzYTCYV830cYf3zwMI/QScuXKuFQbnS8Z+GCi7/9/YZlfWrt6jf3H/Ip+f4F52KEth07vntiynK9cxfNxwgt6u6cLldPXLEMALB7/8EWCurl3ftc379gcKHEcS/v3nfVymW7xid2DI/94ZYbnlq/advIWHs0un9iMqqp6VDo91/9km0YLAgc23Zdr9popGLRZzdtPWnubEkQhqfzfZnMvBXL88eOPbtx8wWrlsfj8VKxxAv8VL6QiIQ/Pjr0p7fetWznhlNO1ETxhR2777rykp8+9/K/vvKFnpPWAQCYaTqlwqV33k0CyhjjMNYkSZPEhmVbnocQTIVCtudVDetb5565aFZ/rdGYKBSrpun4fkxRQqqCEUIIPrpp2wl9PWvmzr7nlTfOH1zgEXLPS2+smjOAENw/PhEErDeT2nbgsOPYGONTli95/+NPAhoQ32tM5wLPA5SygEKIGGOABYABgCCAEOZ2bL34rt9+7dzTZ2Uzf3vng3VzZj2yccvI+IQsy0tmzxqdKfAcBwGIaJrjeT4hp86fOzeTXtTdFY1EFFUJaOC6zkf7Dgx0tPEc57hewIJcuRpS5KHpfFRVBQ7HdT1fq7uElAyTBUHdcWzPu/6kNalkUo/GOEUe2X/gsQ2b+hIJkecZY+8dOjKvLbNzdOIHl5wfDYejyeTM1JSmaYwxxphpWbIkMcaK5bLtetuHRx7ftPWq1SuW9nRtPHKsLRJ+68BBwMD5gws+PHwsGwkdzRcG0qlbTl3XIliU6nXTdZ/atmP7kaNfPPuM9mik2DQEjkuF9IiqUhq0eLYYo+c/3nnOovntqRRE0DAty3Y0RU4m477vi6LkOS6D7KN9B2d3tG0fOu74vsLzc9qzTduumtZUpSbxfEJXfRos6esJ6TrHcxt37R1oy5YbjV1jE22RUERVCvVmS33seD5llDEWVtSpavWj46NRVV47MEsVxWhIFwWBEGraNgDA9X2fEBoEEMIgCCSeZ4zxPI8hDGkaz/MNw8AYK5LEALNsx3HdatN4aeeeq1YvEzDvB7TSNEKKnIpGE/E4RNB1XAhhtV6bqVRtz3d9v7Xm3TeV64pFf/7ks3fdeG1S047OFJZ2d3q+z2E8Ua7qshSWZYSgTyiHcUhREISm63iEPLbl41RIPzA5lYmERwpFn1AAwYr+3mfe/fCEFYOv/vvR9U8/nq/UgyBoj0cv/ukvaocOAAYAQigUBpQy4jPXBRC2JKEwPG+RHglLkhQNh3iMHdczbFsU+EQ4lNBDly0bfOfgEQjBaLFUqNYW93T1p1Kzkom2WHTj0SGZ4y5ZvWL/yNjWYyNfOPt0jNHhkfFkNKxIEg2oT8iRqemOWCwW1o9M5h7ZvFXAfGcs4lEyU28OdnbcdumFP3nkyb/84qcfvPDSb15/0yOUMfaDi84dK5Xz9eZouXznFZe29fYY1er3H3rs+5dfFE8mGA0qlXK2s2t6fFzXtbHJqRd37MIIzUonDk7lz1+y0Ha9puOGFdkn1KO0MxF76MNNXbFYKqTVLeeClUsFQTBM8w+vvy0LwlWrlr+2e2/ddvoS8ZV9vY7vxXR985GhtbNncRg5ng8AiOjag+9tOG9wwXipsqirY+XJ626+8650ODSQTj63fde9N1y94eDhOdn0I5u23XbGKQ3bmixX57Rnq00zpMgztTpCKBMJp6JRy3F8SuLhCObQ4ZFxn5KuVPJHz764bvas7lh09fx5L330seP7s9OpRCh07xtvY4QGOztW9HSlIpGFixdBhLZu/WisWFo1Z2CmWntux66Ph453pxJN26k0miSgj375C4vOuwBQMnjhZT+7+rLORGLBimV2rfad+x+0fM9yvef/9HtiGuu+8FXLdR/8wi1Pb91+z+3fOr5rt08IQuhXL776lbNPdz0/V6m8tGtv2TQ931/Y2ZEK6w3LyYb1WelURFEeXL8prmuuTyYr1Va4kSzwlabJIfzG/X+8/4GHPh4ZbTgOITQdCZ8xd3ZUUxuWDSEMyfJ9b783Xa5YjgMB8H2fUmqblm00vWYTQBg4NkCIER8wwIjfSkdCggCVvoFUR7soiBzGjuvGIuHtb7wBAHjwt7/K15oCxou7OyihAWCf+tW9/73z9lQkYtqOKAqlWj0djfAcJwq8ZTutOCbbdUcLpfZ41CfUsG2IYDIcxgi5nm97HgCAUNKwHR7jVDgc1lSB5xljDdOCAEAEm5blE6pKYkhTAQCe53McF9J127YJoa7vibwQBEFLYtLKBtFlWZZE3yc+oXXT8GlgOjaCsGE7IVn2KQUAEEpVSfRpIPM8RojD2PY8nxJCg5JhtEXCPqGqJGGEdEWum6YsihAA7/9eVIoolhtNWRRkQWjhYmhAVVGiQUCDwHAcRRBM1w2ryt6xiXntbTQIeIynq7W2WLQlrzFsJ6yqjDGPEIyQ6/sYIRpQjNBkuaJKUliWw6patyzAWFTXf/jf58vNZlcy8bmTT0xFIj4h2VRycmbGsJ3Ht2zbOzJ20oJ5XbHorrGJqKoMJBODPV397e3J9jbPtsvFou8TWZIABLbtNAyDBkHAWEhREEKe71MWOK6vKXJY1wAATdOEAE6XKxCCimkN5QthRfrza2+VS6XvXnd1XFUQgqogvrx7byYcXtSe1URhut6MqorE84ogcBhTFogcxyFcMQyPkD0TUwdz023RyNkL5j7x0Q6X+Cf098ZV9Xip/OJH2yVR9Ckp5Gfsej2gFGHs2xYIAsYYYIAFlBEfUMoYg5gDAMDUilW6pq+ZP29he/a+519mjLm2zYIgHI9lU6l0NFwzzMuXLw0A+M+mrW3x2J9uuTFfqmw4dMSndLCzfUF/7wc7915/2UVvvv1uMhzKJJOVWu3FHbtW9/earhsEQVss2pFOaapaq9fHZwq5am2oUJysVk+ZPeD69ITZ/e1t2SPHRsK6esdTzwk8961zz1w4b67RaIznpjVZzqTTjDFCyOjk1GS5okridK3+0fGRcxcvODg1vW9i6nc3X982MCCk0tbY6I2/vCcV1g9MTJ25YN6RmQJjLFetRVTlgsULD+SmI7Ly+fPPLleqRyenjs0UBrs6Y7rGALAcF2Nku153Nv25+x/6w03Xuh4JacpD7284bd5sBKHrk6imtjiJf3zjnZMXzL1s+RIE0fBMoSMWRQhVms32RNywbIzxkVx+7bzZlu2IAl+o1Z/ZvvO2M08LWJArVY4WCmtm9cuiaLlupdmMqmpYUxumBSCom9ZAZ0euWMIQxsOhQxOTf3nnQ0USZ6WSXz73TITRaC7/9r6DPYn4ws52ythkufL/XFaAsVOWDJqWdWB0rD+baWvL2pb9f7lCtFlvSLJk285TGza3RcLHisWbTl3Hc7xl21968BHH826/6LyedMrxvPZUciJf+GRkdMPRIdcniigYrtuXTH765LV/euu9FgBCE0WH+IogFprNuKrum8pdtWbVi9t2HJ7OG64XU9WeROyDg0dOmz8HAhCSJZ7Du8Ym57dljxYKByammo5DfFJr1AVeMJpNQohjND3DCFyX+R7EHAMABJS1ZP+YA0HAAcZs2zk8NWW6Li/wlmEqukYpJYT4xJ+uVFVJ2jk24VHal00jgERROjA+sbq/1/a8Od2dyUz2wnUqY+yU1SshQgDAeCop7N73zoFD169d/cTWj9nxkYuXLp7f34f+j07YFg4P5Qs0CNbMmdXb23Pw8NG+rvZXtn482N1xbKbIc7haLut6aHBwsVGr6/EYhGhyeJgylomENx49tunosWtPWDFTbyxsb7t67WpJlu1alVEKILh+zUrDdjbuP/TugUMQwUK52pFOtgCfjIHBJR2FYqlqGM/v3OMRn8N4XjZj+/6BqdysVCqkyIZp/f7Ga12fSAIfBIFH6ezOjqMTU/e+8XY6Ev7iqesmq7U5ne3pkC5wfHsmdTg3/evX3xIgfuz2b3z2939Z3d/DI3z64gXlegMCkIxF//n+holyJZmI/eg//52dSXuEtKVT+44PT1drpyxaMDSZq1mW4/ltsYgsCMNT01FdrTSasXBI5LibTlrdGY/rsmxYtuU4Dcs+f8milhSwYZhz29s4jAu12uKeLs8njusyxuZ1dcqyZJkWYEzVNYQghFiURNdxx3LTEIJ5HW0D2cyBkTFZELKx2F9vuXH38GhbLEop5TGeyM8ABvpSySP5mRfXb3roG7c1TMuhtFxvfuqEVcVm82Bu+qyF85vlyrRVS+h6MhxaEAS1ZvOCpYNnLVpwNDfdmYgX6o1Xd+2tWlYmHPrwyFCx3sAYd8VjcVW9ZPmS9w8e+cmVF59w9Q2vPfi3e155e/+RI4FPEOaCwGYBgxwEvg8AAC0MJUKQ46DaP1uPRXlBBAETJdFxHIyxqijpWLQ1FlFEcVY6ffnyJbosPbF1+zcvPDcU0nPTM8en873pZHtbtlKp1pvGrP4+CGG5VMQYNwzTI35rYgwAkATBctzJSsWndEFnh+26/9609ZpVK5YvnM8Ye+C1NzmMT50/xyfkL+98+OmT1iyeMwAhPHRsuL+rQ5JkjJHrusdGJ3RFzlUqT3/8yWfWrVl/eMgj5IefvqFeKsfasoXxCcaYYZq5UqnpOGFZ4TnsEuJ4/jM7dk5VqgFj89vbVvV2x1RVEcX9k1Pz2rKKKNRNC0AgCwJjoNw0Bvt7DMsmlIo836olAAQX3fXrF+78bsOwIAR7xifXzO4XeQFC4HieJsuW44o8V20aqiQV6w1J4EWeVySJQ6ilzWtxk0v1hiIKmUT8zqefu3TZ4PyOdgDgNx978stnnlq37L5U8pHNH120ZHFEkWVBcDyvYphRVYnoGiF0tFAsNY3Bns54ONwzMAAAyI2OuZ778AcbRI47NlO85+br0p1dJ932zY8ffWDD2+8unDs7nE7btToAgJcl33Hf2rDp3tff+sHF57fHY4Zt75+Ymt/epkriX9/98Ia1q3jMRXUNAmh7bhAwxoIVq1cd3rsPQvj6rr1Vy7rx5LUIIsO2q4ZxYDK3oKNt/2SuLRLeOjwic/w9d/7g2LZtn//HwyFViWva4VzusyefaLhuWJEfeH/j9y46t2HZuiy5PvnXpq2m7ZiuYzturVZjQWA2Gl6zGfheawIa2BZozTghhBBBnofa7HkYYV4SeEFsb8tCBsr12vCmjW3LV66cPw8j9JmT1hBCI5qKIEzForbjhjTVJ8T1PMtxkrFYEFCO44rlaiwSrjebAABVlhkAHx06sqS/JwgYhtBwHMCYwHEkCEzH2XpseN2cAYyxwHE0CFrmQ88nlAYBC2RR5DmOMQYg9H0S0lXP82uG0bRtTZJrlsljDkGYiUU1ReE4znFdFgQBY5TSYrVGA4oxRhA6vq9Jskt8x/MVUfAJdT0/X6+3x6I8xgihYrPx0Iebv3fhuaooVg0DQNgWj3m+z3OcwHMAAMOya4YpibznE4SQyHEhTbUdd6ZWa4/HGWATxRIAIBUOCRzHc/ye0bHZ2YwsiQIvOK5LaMBYgBFqWrYsCrIkeb6HIKQBC2lqpd6YqlSKjaZLyHSt3pOMHy+U18zqDYJgoC17YGyiIx5Lx6OFau2XL70uC0IqpJ89f94Vt34OEHL1bV89MpVrTYVuv+jcpbP6TcsO6Zqmac1ms15vzlk4/8jBwyFN8X2iKHKlXh/NFyKqGgtpw9MzVdPKREIkCH709AtdmeSNa1ZxGK9eMH88l682m5brXfXpm7e//jpA8IfPvDBVKP3q+itDsmx73ncee+reG68FDJQNEwDQFosABiKa6vq+T8lbew+u7uvJ1WoBYy/t2vuNs0+/85kXOpKJTCi8sqdrrFr9ZGSsUKsnwqGR3HSlXKaE2PU6sSwAGAsCiFDge4BSRgOIEEAIQAi/evv3Hnjiv9TzfvClW9/bd2jXrp1OucKIj2Xl7PPPOzg88rPrrhIQ9ijVZWm6WrvqzNNkPSSl09Vjx8bHJxgL6qbpeD4JgmwsWjcthKAiipIocJhLJBNmo2k5tu8TBgCHcbXZLNQbD2/c8rWzT2tYTkRVqoY5u70tHok0DEMU+N1Dwwv7ug+NTSwZmGXZtuO6AICqYUqiYLueIgoQQtNxEYKG5Vx6800goCded/M5ixfcet5ZtXq9q7eXV5Tj+w/wAo8Rvv+td6fr9YphBkFw9sJ5/ckkQvCd/YdPnTvQlUwGQUACyhiQRaFmmBFNNR0nrKqu7ymSPDI9HdP1sKYpsiSK4rvbP5nX2Z4rVzuTCVkSPd83bScRjYg8b9rWkfHJsKqYjkeCoC+Tjsditm23ElgahlFpNBGCwzOFiKKokiiLgmE7qigCAEhAIYQ+oRLP1y0rrKoAMNvxQqqiK/JMpVpoNF/YtafcMH53w9UY4WgkTCm1bdv1/ZbNHCEoCqLrueVaPRYOZTvaa6VKx8KFRz7+GCLouF650fAIoTSQBN71fZ8GYUWxXPe2fz7c09FebTTvvupSDnM96VTdMHkOd2SzEAJeEI4Njzq+99CGLZcvHzyUy28aOq6K4hXLl6TDIY9QgeMUSdBkZc/w6NzOtvX7D58wu3+sWIrr2s7Rcdv3kyHtJ//+z4K5c7913lnDxdKD735w4oJ5K3u667a9e3zy4MREoVgqjY9Ry2LEZwGDHAYBAxAyzwUQQYxZEMDwvIUAQlGWJEkWRbFcLAIAEMaSLEdCIVWSFFnSJYkBpgqixPMP/uIuyPGQ5wElu95596EPN37mlBO///RzjLHBzs7br7n8S397wPLcsKw8fPu35VSqMnz83v8+f9XqFYVavWHbD2/YcuupJ72yZ29EVmzfGytWzlw4b2Vfz/KlS8x6I97TfXz3nv9u+eh4ofTwL+/as37DO/sOfOb8c27+/V88Sga7Oi9bviRfr7+8c++3Ljg7pGqdc+dyodD03r2U0vW79zzwwab1Tz0GEJpz+jm6qu54+bkVl1wpyYImSi0NssTxHdHIaLkyO5P++kXnR9OpyeGRfKUi8Pzx6Zm5HW1hTRME3nGccr3x8bHhs5YsCul6pr9/6/oNT2/b8fNbbrztz/+wPe/Ff95/wpXXIQwlnn//P4+uvPQqhGE6Gv3FNZc///GOjYeOvv33v+zduDGbSacWLFx3w2fak7H2SDRXqwEAOATjmnrN6pWHJnOLujsDxniO++T4yJxsBmG0b2yibtvXnnxSJBqtVauiIIiyfM/Tz4o8f86iBc9t/2RFT3c2Glk2uOipN995dde+l//2h+KRI7VaLaSHMM9hjnMsqxULiDHmeN4yrQffefd4oXT96pWpSOixTR91x6MhSUYQPvfJroCx7kR8TX/fTKNx9uKFAWO+70+UK7Pbs4RQQoNISBudnnl2x06I4O7h0c5k8uwFc5d0dyuy5Pv+kanc/K5OAIDreQAATVHue/2tiXJFk6QTB/pe2b3P9X2JF/75xVvufubFXLXKABAwNyud+vYl53/2bw8cHR1r1utWqciCgHkeAIARwlgAAgYggJhDsgzVWXMkVY0nE5Vi6VPnnPWft9/FHMeC4JKTTzw4kWuLR/ceG7lszap9E5N3XHz+J8OjF65e2TarvzqVCyj1iU8IrTUaGOPjufxAR9b3SRCwpmV1pJKpbEYKhctTU5O5nCiKvu9/cPDwyXNnW65XM83xSmVONlM1zI5EbHSmeOrSQZ7nQ/H48SNHPZ8IAmdadot7Q4Lg4+MjPYl4VFUxRlPlak8qIfJ8X3/f0aNDXR0dptGs1Ovv7jt4zuCitkyaF8T89LSiyKqqNRqNTfsPzunIfuvRp75wxilxTR0rVWYajf5ksieVYAyYjqPJEgSQAaCIAkIIQ3jH08//5XM3VeoNDiFBEDq6OsdHRivNpsDzQRBIAq+rqmnbru8nIxFJlk3LajQN1/cN29YVBUGYSSYIIRhjTdMLxQKhtNJolBrGVK324ie7e5KJX9xwzeHh0e5splSrWY7reB6AUBEExhhCqKe9TQ+Hfdctlsof7jsQVuSF3V0YQcO2v/Kv//iEvHD7NykNBtasgZjL7d65affedUsHf/jYk7/7wmfz09O7jw0PFYq3XXKhaRiWZR/P5UaK5RbHAQDQdGwe45b7qmqabdEoZcHDG7Z86YxTeIx5jntiy7Y9o+P333qzpqiYwzPF0sGJyW/+82HG2G2XXXTirP6orv/mlTcYY0u7OzsikRuvv8auVO74578YBJPlygWDC1v4egQhhCgTCTUtZ6bRoIA9vukjRRIL5erbd//wit/cN10oeK7brJSJZQeuwyhtyUBBEACEAGMQYYhjSYgxFoWOWQMRXccY0yDQZZnjsCaKgIFLli2GELy8c+9nTz5xXm+PLMsTU7m2dErRtXKhyBgzLEsSxYZparK8b3R86axeQRA4jgMM0IBSSl3Xa4WeAMAYY4RQzGHP9zyf1E0zYCAbi7YoRa7ne76HMUco+cYjT/7s6kt5zG04fDQbjaRDerlpChgzALqTcU2RI6FQ0zAEjuc4jhC/1jRURW4YJoewLIkIQc8jiiwBCJqmhSAMGCOEHJ6aFnkuqirvHToSU9VMOBTQYH5nuyrLU8VSNh6dLJZ5Dndn0vWmAQCoNA3KgtZxLAtiNpVACBWKpWQiDiEYz+UhhLqqIIiKteoLO3Z//cJzD4yMvrRr75fPOp0GAYKwbpqaLHu+71PCcxyCsNI0CKWG42ajEYHnJ0tlP6DpcLjcbPZl0rIgZjJp4vsAQsu06kYzV66oojg4f165XLru939t2paIhX2vPAtECbjuofUfTBSKlaa5asEcy3J4nvOpf/5Pfn3/Fz/bnU42TZvjUNUws7FYrWnIovD45o9O6O/FEIYVpdBo1C371EXzG5b1s+df/cW1lxu289vX3iKE/uVzN8myXK5Uyo3m/vHJl/fs7YrHl3Z1HMrNXLlq2R/efPecRfPToVBbPMYCVmo2OYx5hFqT45d27SGUFhrN69eu3Hx02PI8l9L9o+OaIjdtO6DBTy6/+MRlg6d//6fFcqk6OUFdD0LAGGOtbomB/7PGQ8gl0tQ0mO+dc/31165a/sKO3eu3bf/29Ve9sXPfOYML3ti175ZTT2JBoCtSZyyejsdoEBydmPx4ePS6E09oa29DmLMMwzTNetOIhvSJmULNNPuyGVmSQiFd1jRKSLNeD2jAANP0EAsCiCDxfc/1OIFXdT2gtF6teZ5XrNZK9UY2HgUA1kxjy7Hh+5585rmffJ9SVmo2s9EIY2zh7NnRbObY/gP5SkVX5Bv/9HfG2KdPP/nZj3b0ZzPfu+jcTCKZ7uvjI1G/Vjm8c1ehVjswmTNd74q1qyzLydeqf3v3Q0ngv37OGUHALNeTBD6m6wgj3yee7yuSxHMcxqjaaAZBACBIx+OKqpqGYdk2hzlCCYKw3GgokgQYU2VZ13WEMCWkXK0cmZxSJOn7Tzxz5uDCdQOzVEns72gnPqk2mzSgG48c64nHkiE9CIK6ZQs8J/N8wIDAc63LUTetTCwSUlUO4c5Z/dOjY67n1U2jWGvM6shymJdliVLqeh6POU3XMMcXZmZkSQQQ8gLvuR6E6Nj4xG9ff1sW+J9ccTEE0HQc1/chhJosYYTL9brpurIgCBxPWWA5bjIcCloNCmO6LPuE9Pb2fPDR9jWDC03DzBWLlutpslSsN1bOn7tt/8GSYR6azos8PzeTnt2WwQghhCADxWZD5DiEkCQINcO0fY8Q+sb+g33JxJxMumbb37zvz92zZ4c11bCsL519xrp5c/Ll6mPbPn7yP08y12WUAAABghBCRgiAEEAEAgrFzm7AgKCq4VgsHNJdz+d5PqABY2xRX89MrU4p9SmNauqNa1dfft65W7d+9ND6zSXDuHHNqhs+fVNLe/Lx+x/89rW3nvvHX5dfepXtOt3ZDKPBmw/9AwgCs8z62NjQ0LHenm5RlkVdQxzPgsAol27/57//+bvfTHy8LZZOXfuzX09Xqqosfee8s987dGT/5GSp3gipyuKuzkKjqYiC79NHf3k3VjWA8fv//W8spP/q5deP5aY/e+q64VLpwwOHPeIv6+v745c/H+4fAILo53PnfP27v7ru8i89+OgT3/wyh3AkFr3unvt4jD1C1s0ZuOKElR8fHvrUlZfNjI2xIHhv557FPZ2JaExRlHq9tvPo8VntmbCub9p38PyTTuA4vlquxJLxC+782Ys//t6KL31LC2miKCCAdvz3PxAiwAvLLr7c8b10LAoAKFZrg309Es9fvXL5Oddc86t7ftubTBSbzdf3HjhxoI/QYKRUzoRDFy5Z/OInu89dvMBxPRLQJ7Zuv3jp4gtPOUmNxpEo2pWSUa2FUynEcVs3bQmpyuLVq9xGw6jVKpUqoXTO4kVX33n3g1//kqjIRrWmx2L1ctlx3LrR/Od767910XkCLzz87gebh45dumzJJWtW+75fqdf+/Pb7C9vb1s6edeczLwg8p4vSlSuX3f/e+r9+7iaR41VVCcVilWKR+CQcDs8UChAASRIbTWPWnNn79u3/z5ZtFy9b/MAHmzxKCaHfOf/sebP6Xt+6babRHC9XP3faOozQ8fzMvzZucXxf4HiEoO16i7s7Pjp6HEKQiUYcz7/zkvNve+ix9b/75fIvfn1matIzDGrbECHme607CjAAMEKCCMWOLk6SM+3tDALf8yGCRqMpiGIqmfA8PxYO/eTyix5av+XdLR89+8PvZmIxjJGqqqVyhee4WCwaSiRKU7mAsVqtFotGc4UCpUFHNi1JcjiTwaJolYrlQrE1SZYlSdM1CKFtWYVSOR6N+r4vK7JjO+Va7dBkrjMeI5QGADRtJ1+vJ0MaAtD2fcf3l/R2p6KxRDqFef7IwUMBY4cmpp7+eMd3zz9blaVPjo/2pBJRVY1HIsl0Wo5G7Fp9JpdzXNcjvq5qkig6rnP+Xb9+8LbP+YRQxmSBz1Vqncl4SFEAA6IoQACDILAcx3Scmml1JROW6zqev3j+3Hq12hJntACAlm23BNeKLEciEZ4XfM+r1+vjMzPxUKhmGFPlikfprEw6E4+rquL5Xrla93zva/9+YrC3+1h+5pS5sxd1todlecORY0u6OmKaIvK87fkhRenIZkKJBC9K5ampRqNOKG1NvjDCGGPX9yilYU3Xw6Gv/O3Bb19wdmd7FmPOtux4Nj108PDsBfPrxeJj73wwkEnNasuKgrBneKQtFpUFwfX9iVLZ9jweY9cnNcta2NEe0VRdVfeNjC7u66VBEI9FIUKe63qer+ua7xPP80RR8DyPMdBoGsVaDUKAEPriA/8+edECVRA2Hz6qyfIlywdjqtqbSjqeb7ouYwxA4BOKMb7jiWe+eeG5revYFgn99OnnBYHvzWaf/ekdc2/4bHlqKgioV5gBGEMIAULM8wDCECGAIEShCBQEwJiWSqeyWd/zTl22ZKpcMWynMx5b3ddzxUlrn96waaRUPm/hgqVzB1Q9hHkuoFTWQ8R1q4VCpVoTBA5AGNAAYVRvGgMDsyrFEgCAMabruud5QRAElJIg4DD2fV+SpNY1yyQTpWoVAsBznKLIk/mCT2k8FHI8b87s/i07dnUkE+/tO/DYxi1fO/fM5f39PvXf3rP/pDkDGCEIoeN6lAURVcUYizwPAFAkKRQJQwiNZpPSwPP9VCqlRCMQotzw8MTMjGHbNcvaO5ErNJtt0fDe8anPnXJiXyaTTMTTiwf3vPMuDSjC6Ov/euKfX/yM5bh1wwhrKgQAQSQKPM/znu/X6s2ujmy1VtdUzXEdVVFMy4pEIgGlruvVGvXpcjUVDSuS1GpvBY53PDcI2HS16ni+JokepSLP1wwTIyTyfG82HdBA4HlCaTKZSHT3AMA+Xr+RBvS7Tz1rmNaWP/0W8/yKz38NcwgCuOPh+zlROuHTXxjs6+Yw/sIZpyiilMqkZ6bzjDHLcZecfNKmt95ORMIQokNj4wPtbYosA8B+8fzLmXBouFiqWRaGaHVf75UnrEwmE7npfDgcQhBxHAcAc11XURRCCKW0Wm8oklSq1mLhUNO0Ss0GoQFG6MfPvggh+NxpJ8dVtWWQ3DeZW97TtaCvh+f58dz0psNHl3R3OcT/xYuvL+vvcQmpm9bly5c8vGGL43nPfv+bN/3hb3uPHq1P56nnAgYCz/1/ER+ABa0alAtcBzLGXKfheb39fT+7+fo/vPnuyr7ekVJpUXtbfypZrlRPWzD3kb8+8LVzz9LDEU4SjUpVi0awKAIA2pcui0xO7N+3b97cObwsA8YYY0a15vm+YdkHJyYXdHWIPF+s1QcXzNOi0dpMYWxyciCdKhVLS1Yso76f7uwYPTokimKuWNw/mVvZ3+MTIotCOJNd2F8rVWuzs+lG0/jH++t/m0kfmJx6ZeeeC5cvGZ6e+c9H23965SW24/IcRwP6zp59HqGXrVk5Ojb+x7fe608mbj3/bEVRYvPmA0oCz5MkMRWJiByXjcX6MunP3f/Q9Sev3X98RDvndI7DhJDm6Eg2mwYA2JY1tyP7m5de0yTxzR27z1y2+NrVK9uTibaeHt9xPMeNhMLFcpkQMlKbytdq3clEMholvm+YJiG0q6tL4HmfEMbY95549jPr1vSmklXDCKlKVFXlmGg69r5jw+3RiMzzIs9HNc1xXZ9Qn5BkIk4JqYyPpxYPxsKhhmU2DGNmOn/kyFFZEB/5yq2KLHueXxgbn8rPPPmtL4uihBA8cGx4Tk+4WipLkliqVFPJBCNk7qz+UqlkOfa/Nn30y2sutxzbJySla2cumIshdonvuF7AWAuRjDH2PV8UBNM0GoYZ1jXGWECppuu+71fqjYCx5z/avnpWb820PEKqlt2TTm3cuevXz7984QkrLxpcpIriQCZ57+tvX716xemDC31C5rZl90xMZsPhn111yXef+O/E+IQgSWXDSIdDIVm6+6lnQ4rS29m5ayoHAKC2yXwCBR5ijgUeYAxgDIKA4yNRACBFSIrHc7npR7d8ND5TWNHbM5BO9STio6Xy4EB/tr//q+eMTJfKs1evNnK5cDolhMKQ57GmAUoEVfn6I0/++yu3zj1pHcQYYP78799QrNWe/vZXfv3Sq8sG+m87/ZRsPDadm45adhAEuqoWZwqRSAQijDjG/nduAk2Wj+RnTlk4b2Q6n41Gsax2LVwoDA1974lnImF9sLdHkcSOaPSe666MhEK9jJmu8/0nnnnx97958bkXf/3qGwghAMAZi+YNTU/vPHb8zisuNg0jHI4w4kNeQAhHMxnMcTOVSjaVnJjOf2rd2uFiSRSFJz7a/qUzToMQRpJJz3Ut27Ydpz0aOXfxQg5j1ydLOzswQuVqvWdJRBIlO5dT+mddfvnVGKO6YdbqjWQi9ocbr1u15gQwOamFQsQnc1ev3r9581cefvzaNSvve+OdJ7/55bCmQQibpslzuLej45cvv7FmVt9wsXTh4KI1ywd+8NCj87Pp688+AwBIPE+LRsyxkWxH2+TOPT+87KK4rkMAVUWOhMOpnu5msViv1j7394eCgL3+49t5QV6+aEGpWPR80t7epigKJwjNmZlyqaxrWtUwKo3m/JUr8seO/XfDpk9Gx4fyhZ9ceUlnR2ds0eDUR5uv+M19P7n8ojf2HUAQfeOi83iOi4R0juMopbKqtkyYHYoiynIiEpZlKabXTce54+nnPUra2rKKKH6476Dv07tvvPbPL75yxyXnK6K4/chQw3Fm6s3rTl5bazb3jU2es2TxFkWtNhq3X3BO07b/9PYHY7lcrVjSYxEsCgHxAYAQI0YobI2ZAACUQp6HQqY9lMkQ3yeui3le0fVEPF6pVLOZlCSIp84ZOH/p4nKj6fj+wp7uWDyOOY7juVqpnGjLMsao70+MjuVK5e5sOp3NCorCq5pVKTeq1ZlCaaJUimmqJIgCz93ytwe3/P0PlVyeBtQyrVAopIZClBLAmGUYjLFG00AQ+oQAADiOC4dCvMBXypVSvT5Tq7XFYo7n2Z4XVtV4KOT6vmnbiWjEsh1K6VS5TAPGI9SZSiIEFUkSBJEGFCEkKyov8AwAz3EqlYpl2YbrXPHz377449slQag1jWhIl0URIcxYEATMsCzH8xqW3Z1ONUxr7/jEmjkD0XCIBSwci1JCOZ6jhNaqFcd1DdspN5qZWCSkaoIoUEIgAKIkYY7LTedbOaqEUst2ZEmM6LqqqgePD9/5zIs8xndfcTGE0CO+45FsLCrwPMdxsWiU4zklHA4IAQCWZ2ZaSyOB513PI5QiCBVZEgWxaRjpdMo2LYRxJB779G//0BGL3nHNFYAxwzQ5jmtpLuuGkYxGRVGs1moThdLOsfGTZs9qTyUj0agaifiOk5uYODaVKzWNnmSiLZlQFAX/z5BIRUlECPm+zxgLaAARbNTrnk8839cUpVyv+5SWms2rvvy1h393T38yZXtuJhHbfPDo7Gw6YOxzf33glzdcEwQsEdJrluX6ZLJWPXnObF1Rvv34U3XLmpic9GyHeK5dKDDHBhhDQQAAMt8DDECMkCTD8LyFX7/68sUd7fe/v8GwbdcnkiD0ZzOT5colywZ7E3EBYw7jRXMGAIN6NIIFwW7UHcuWFYUSUqtVLct2fD8WClFKw5GwrGq8IruGKWraw888f9ayQV1TXddzPY+xAEHUUobHImHMcRihqel8NBJ2bLdhmghBkRcCxjiMIIJ/eO3tuz51db5QeHXX3vcPHPrp5RcTSmO6rqsqYwGEsFxvTFeqqiTe8eRzP7v6soiqpBNxged5nhckifrEtm3P8978ZNcZSxZNFUoN2163fMn+w0cLjUa+3rhgxfJoPJrLTY/mCxPV6j3PvrTz73/0Pe/MO+7682dviKhaezYraWqzWnMcW9M0hDnbMgEAlmVHImHXdSmlrufzHPZ9QlnAYy4cCUMIJUXxXbfZaLieZ5i2KHCm7dieyxjQFZnQQOA5y3FDilI3jK62rKwolNBKpZJMJvVYVAyHkSBCSWa+9+Qjj/78hVcIIQFjCEFNUb50xmk3Xn4ppyhcPElrlaEdOwLGPv3Xf56xaP5Np6xjLNh5fPj+d9b/+6ufb3k4EUIQQEEUPM/zfJ/HnCDwyWwW8xyAaGZ8fP2evbokt8WiDDBVkhVZDoVDlBA1FOYlsVkut2xugiwZ9QYhpNFstjS4NcN4YceuZzZuXrd40eXLB7tTKZ+Shz7cdMHgwkX9fa7n/e2t97YNHfcpXTNnIF+rX796RUiWe9oy97/53qUrl5z2mc8L0ajfNBjxkSAEngf+T27X0jQBjuOo79946rpao3nrqeu2j44tbm8fK5cbjtMC81mu+/fN2354yfkYcwAAxPMsoI5ls4Dp7e3HP9l50nfvuOeWGw/m8pevXDa4fJkYjkBBCGwbYVyZyq2ZM8BhzBhQVTWRzXzmN/d9+cxTHvhw0y+uv4rjeC0cEjVNi0SsRlMSJct1ivUGjzmPkt+88oauyN8678xt+w9uHx3DCNZN06c0GQqlkglKSK3RCOm6xPOSwMdU7bGvfdGy7bpl27aTae9QkkmAUP7QIVEUvvPIfwLGZmfTXemULMuHho43bPv7jz152tIlF61aqSeSaq3+29ffzkYjz//gW5jjMIdXzpl17+tvd8Xjf/7BdwPfr5VKhUpVlCQeQkEQKKUBCyZz09lUyveJ5TiyKGayGbPZNAyzVqv99Y13f3jdlZ7rchyXam/ftm27GojxSJjn+VyhaLueJAp/euu9i5csYiwQeG6mVJJEMR6NCoIAIKvOFKb27Ft14YWM+ACAExbMgy++Ui4WPccZXLLYtN2182Y3yyW+KYZ4nvl+JputlEtLertPnzc3pGuEkNVzZq+ZNw9BWGs0x0ulZEhXJKn1XuAwxgJCCNVLJYRwa5My2NMDERR5oUUhjUSjnMCb9YaaSXu1uqgoxPfDmSzE2LMdhJHg8IVK1bCd8Ur5/f0HjGZzslwGgCEEv/bQE+cvXZwMhQADoZD+9s49/R1t+XLFcJzdx44dGhv3CZEksd5oPL1hg5LJEscBEECMA9dhhACE/wf/phRACChBEKFzfvLLZCL+r41bXtz68Z/feX/jkWP7p6YjipzUtV1jkz+5/CII4Md792nRCOZ5s1Y3TdPzvfLIsEs8PRS6+5kXntm05QdPPS9oOhRFKCs4lhAzbVok8o/31nfNn4cxZoCZtfo9N17bnc38+IpLLMuBEARB4Fu277gAgGgqlU4kYroWD2mdyYSmyMV64/73N760e+9ktXZ0pri8v0/gOEkSDcOYLhRbBmqI4B1PPrdw6eD8k0/JVap3PvPCeKEox2LEtqllIYyOj42fu2j+TK3+9Mef7Do+YpqmS/y/vPthJpm6/ZILItEIr+uapv3h5muHZ2Y2HDxSzOdL+cK3zj/7prWrP3/6KbmjR3PDw0HA2lJJAECpVAEQWrZ96S9/Z7hOLJtp6+256U//yGTTejIpq2okEj42mbvz+qs+de+f9Ug4Eo/Xi6VMIhbRdEkUo/G4Ydv3vfXur156/Xi+sHdi6sH1m3u6On/z6pv3vf62Fg6nspnvPvy4rCkLFi2oDR0BlDrFgiRJXz7nzEQq/YWrLv/2eWcjCCVJ8j0P8xwxjcrERKNeRwhDiHgOm6ZVKJVzxVIsEQ9YgDl8cCoXDekY453DI4l41CP+RwcPO577r3fev/Ke+x54691StTZr3hxC6bNbt0GEEERKSBcVRdZUv9lkLGBBwAuC22x4zQZEEALo+n5XWzYZCa8amFVvGpFY9DfXXQkALNbqv73uqs5odLpSG8/PTE5NP3TbZ7946rpvnHfWsVz+7GVLn/r2V3505aUcxtVCsTg87Fsm4jgsSRBjiDnI8RBBACGAEGAMAICiBKMLB++59dOW4/38qWdlRV7Q3/fl00+5/4MN16xakQ2HZFGMhnQIgCAItu1k27Ot6CDHtmVFadYbtmubtjM2U0AILu7ri8bj4Y526jhu0yjm803TUmVJlmXHcZLZTK1Yasn8Wl9qSEcIcaLYKJU8zzNMMwgYz/Oj03mfkoZlS4Lg+F5c1yEDYU0VeSGZiGmhMMLIcxzi+5ZpFSsVjDFGiBCKENI1BSMsKzIAwLbsYqViOs54qWx6/kAm1fJsTJTLXYlEWFOTibiqh5vVar3ZJAE1LRtCgBECADQtO6QqIi+kUslisaTIMoRQlERCCEIooAHHYUqp53qW43AcFgURY2Salu25LaSFTwNCfJEXeJ6rNZoIwVgkQin9wX/+ywD4ylmnyYJge54s8K2yKqSqCCFB4EVR5Hg+oAEAgFIqyZLneb7nW7b1ydFjybAeVlWB4xOxqOM4QcBcz6OUjhWK/W3ZFrjB9T1JEEVRdD3X9wmEIBqN+p7neX6uVGpLxBkDru8RQhBEddOsm1YyHGrtbA3LHpjVTwlp1huKpkqqajcNzGEIEeY42zIDGgQB5XnBtExKqOt5iiLX6g0IIQ1o3bQ2Hj3Wn0yImGu4jiKKQRCkw2FNkgBiu0bG57ZlP/OXfzQrVU4UmoUZYtsQIdqoA44DAEKeBwFlPgEQAhYgSeJCkci89jaf0F/cdP1IuXz2wvn5an1RR3uh0ehNJZq2BQHo7+lmgIUjYYQwgIAxXxAECKGiqRzPcRw/GNINw3Q8dyY/wwCbnprmOCxK4o1/+vvfP39zj6JkOjsAgGpIp4SYTePYxOTC2bOUWIzTw4ASiNDmTVue2rbjmtUraBD89d0Pl/V2jZQqCU2Nq8ru8amTBvoFzwMAKJomKAonS9g0S7npfLGEMKo1jWwi7vl+d2cXpQQjRAgJxeOC0EQIVup1l5CDU9PHC8X9Uzmf0EXt2eUDkUQioSeTQiyhZTLadA5zXBAEP3nokWU9nQempq9cvQIC2LQsZ3IqEtJ937ccpzPcUSyWw2FdD4UCSs1qzSd+SNd2HRma09Vh2Y6mKi9v2X3NiatVVXUcJ99oBFLAmCAKvGnblVodAHblyqVxXddkqdo0GAM8xhFNlUSxWK3pinJwdKwtHlu8fNnOj3d0tWXvee6lP/70TqhqwPepaVx/399EkZ/f2T5Zrl6xcukj67d+/vR1M43mwrbs+ReeT113+OAhPaQ98NKHZy+a15VKiaJgWrYo8OVyJRzSg4CGZPnQ6PiqxQuDIJiYmlIkKROPExogCCEEqqI4rifIMicrEEJelCglEEGEsee6CCNBEBDH+Y6LEIpEIqKi8LJs1WozpfLdL74yMVNc3N9TahgHc9MXDi6qmtazO3Y5nvfpk9YuG+i986nnL1+xNKQqk9u3ffjEI3XTuuTWLwEIAQCA4yAvAMb+R12EAEAIAsYIQasXzr3hD/en47HFPZ1PfLDxZy+9hjGSeb5kGALHAQAPTeVM08Qc12w0HNMUFSWSbWt9aI7jREk0TXPLgUNHc7lb7n/oa/9+PDeVy7Zl2ru6FEV98Iu3ZOJxQRId0xJ0TZRlJRRqmEYspCOMGQ0YJYHvUc9btWLZLz/9KZ7DAQsABO2R8I6jQxxGPOZCsgQhfGP3vqHcNABATKa4aFxKpfVwWBT4pmEpoogxbs9mZF2byk1bplWt1pqVSqVcmS6WgoCVms31R4b+vWHzVKWWq9XCsuy6rqgo1HVBQCHPc7zAK8pf/vv8LaefPFoor+rrfm7bJ339fUHADo5PtnV3K6rS2dHeqNW7e7v1UEjWdS0aS7dl4/G4qmkhRfnNS68nYtGABtlI6NZ//OvY2LhlO/FwOBoKHZ2cUhW5v7dX5DlVVua0t3ckk92dHRFVlQSe57h8pcpx3JNbPkYY/WvjVgjhyJEjv3v9bY7nzpo/N3BdAEBt6Ig5k7//czdSGly1Ytkvrr7s4hPX3nXFxWXDTGqaIklOtQoY03UdAnj9iatT4bAkiQhjx/M4jtM1tWkYpu1Ikrigr8cyTEpIPBwRBUEQ+M50UlfVWDiCENJV1Wo06/lp13EAAkNHh3zPE1VVEESEcUADORSOZDOCLEGEEOY80yzMFDYfPXbGvLmr5gwovHD16uVfO+uMJb09J82d/Y2zT//JZRct7unKptIDmdQ/3l9//e//klm67PKf3XPTb+4TM1kuFIGiCABknseIDwLKggAQ0sqLZ77Pvf7eh5FEUpEkVVFS8Vil3miLRXVJfHjjVsO2O5KJ7nRKD4cESdIYw5gLaMAoVcJhThAYDajvIYz+8Prbd1x6IQ2CqWLxs39/6IlvfLmtWzcNI6xriqJgzDHGnGqtWau2VIM8xxPPN8olVizyokB8ImtaOBMCR491p9M/u/LS1/fs68lm9oxNKpKAINw3lSs1mrokNet1PjelZLIsoIIiZ9PpuYsWepZtGU2MsBgKletNgeO6envq5crEzMzhXH7t3NmUsvlt2fltmaGZ4rkL5yuisOPYcMOyZ/f18qrKgqBaLFqWuaK3m1J6wfJBVZa7U6npyan2dKq3q8Os1VonhqZrrmURSmVd53WtMDlpmmbP7IHHt2xrOo7juJFIZNvx0dMXzO3taA9oUGs0eJ6b3dEOAXJtu9polg1zbldH/6KFnK5jnv/Xq2/WTGvNrL5MZ+ctp63jML5m9YqIrhNKf3X9Vc1Gc/Hs/pljQ5Iy5buebVud2bYnv/UVgecxx2GMZ/d0daZT4XCIEFKcznM85/uE57lUIt40DAhhvd7oam9r1BsBprIk/f3tDy5dPjirq7NUrU4VyosG+mRRGR2f6GzLYkRoEBBCOA4jBG3LpZROjoz1dHdhDtuNBi+JCCKIYLNUEmVJCoU8ywoo4SQpkUwkNC2uq6cvWvDABxt8GpCABkGgShKGCGPEgiA3nb/5lJMsz0e9PS9v3daYnkY8BxhDPM9YADg+ID74fxEf8P+RmXh48tXXfvWs0zRR7GnLvvXJbl2WBru7opHw8ORUOhblOV7XNM/zIAAAQlVVMccFAfU9X49GXcvyHMey7ZVf+dbzP7o9GYlghBhgLAC6piGMFF0jno8whhDwktSsVCzLznZ3Y547vGdfOpWItrVBiMxKRVDk8WPH39uz/9yVS49N5W6690/P/ODbHiG266UiYVkUVVn2fL+FXGyaFsa4PZ1q1ZqcIHiuG1Dq+z5CqCU4H88Xorp6dGp6bmdHoVbfNzE5N5vRJBFC2LTtmKYpkhRSVYggY4BSCgBwPNewbFkUW1wuTVFCIV1RVQAhxth3PYSRIMuOaQaU8qLouy5CCELIGPA9D2Hku1690SSUuL5v2o7A4WhI53leUeRqrS5LUq3e6J/V16w3ZEUZGR1zfJ9DKKxrsiRTSjHGre+e58my5Pu+ZTumY4c1XZElVdOUcIQFAQsoJYQTRKfZHJ+YjIRDjuM4nieJgigImqYBCKlPEEaMgSCgnuvxAk98UqxWXvx45+fOOaNab+wfG18+0M9hTGlQbTTnL5i76DNfeu0n3w/ruqKqmMO5qel0OiWpqmc7lBJBEARN80yTMQAYExSZuG7AGPE8UVGI5yGMHMtedts3Zg7shxx3+OVnLcshlIY01fdJOBxyHfecn/7i95/+1M33/tGq1RDHudUKxDiwLUbI/xbxGIOAMeK39KAAIdh14smxSKQzFT+ht/eMRfMpDYIgUGTpZ8+/esmyxTzC87s6spk0YEAQxSCgAaWtyoN6PuKwFIsf3LL1tocffeb2b1qWLSsyx/GuYyc6OiFCWJadcjmgVNR1iHFlcuLjvQcs3yvWm6cvWfjx4aGrLzhXSqYAAEiSA8vIHTr0l1feeHn7J188+4xV/b13v/BqZzx621mnp1MpURIPHj4a0bV8pXL/+xtqpvXHm6/vmzNHCIchxn6zadeqDABBkgNKjg0d+83LrzPAPn3imoGujrHpmRd37l7d22267vOf7G6PR9O6fv2JaxLx2M1/+NsTt39Ti0YP79v/1X8/Xqk3Xv3R7e98sutv73yw9a/3QYwhRLymBcQPfBIQglqr6kazWaspmmrUG/G2LKcoxHY8y8QcNzM5NZzLPbtj17H8zIKOttPmzF7U35tIpXhJquTzR8fG3zlwcKJSO3FWH4OAg+i6884hvq9EIpjnjVIZc5ygyNV8/sOdu98/dHTn8EilVldVpTedfvnvf4YIA44DCIOAMteZ2rvnyl//vmFaJ86fe/enrq5Waz2zBwRVZUFAPc9uNGam89mOtoBQGtBauQoR9Ak5PpnjOTxdrZ0wd46iKqZp1ZpNWRQZAJGQLojCq5u3HZmZ+fpF50uyLMpyS8BuNpp6LAoADIgPMRZ1HTBmVioBpdG+fgAA833i2HOvvtF2LJ4XQqGQIghfP/fMi888XZAVFtDcyMjRiamPhod/8ae/fvToP1decT2ACKsqbTYAQhAhgPD/zUEDyOEWH5S7/0u3XPy17373lz+NyPL3n3zuj5+5/tEPN3/mtJMf+PqXxscng4ACAErFcjQaphS31omcIIiRqFuteLaN6rXu/t7Pn3JSJJvVXdcxDEqIrKiI4xDPAwCwIASObddrgqyIstyWiF15zx9OXTK4oLOtN5XY+tHHp553rt9sijHo1RuMsb5k4qlvfkVX1S37D/7y2ssFjkcITefzqiJjhBqW+Y1HnmSAjQ8PX1koHnrjJcAJIKA8AM1i0XNd4vuCKKbi8c+efGLFNKKahiBKxyJ7xybmt6X/u+2TXLFUbjQWd3dFI2E9FkMYHThydNG8udFwqG6Y9Xqj1miEFQVjNDMx2T57ICAUQBh4nm/bnuO0ML+OZUmKTHxfDemuaVJCpsfGw9GI73k+Ie3JxA1rVjUtO6KpuqpMzhRCoRAADGGsydKL23bM7ux4be8BTZb64nHf8yLtHVjVAEK7P1h/2mWXEaOZ6p916LU3txw6ct26NU9v3lYozPzmuqsCy3KqVbW7B0DIHIfalmPZt5xy0p7JXL5WKxRL7R1tLAgAwl6j4bvu+Og4AMxqGMn+Prtcdty8qirhcLjbJ5FIaD6AWjhsNZsCzyeiEVEQAYIcxgijc1evWGdasqocODw0b6BfUhRekiCCnChCjH2LSdEYCwKrVCrPFEKRCGAMMAZ5gVQqP7vuSg7jqWrt3QOHbjrxhN5Uymo0EMYBpaFIZE06/e3Hnop191zy83uV9s6AEmLbkBcY8RkNQMAghIyS/yFCAWS+B6+49dZ0JCQAPL8ts3cyt7q3e0l/n6rIfsvHKAqe60EENU1HGDPAQMAEWQpoIGoqcd2AUur7ajQGEESYI47tO65rWQhjTuAFWfYdlzFmmwbmuJbZHsCWrRQwAIhPFE3FCIuqEhBCfN/3PAihazsQI8aYqmrFQmG6XA6p6r7RcQQBxvij4yO9ifi1p5+qaJqezdqlktVs+r5HCPE8r1KrpxJx1/WaphkELKxrxWq1apipcEhTFQShadt10worSjadMi3r+S0fnzxvdjaZPDw6xnM4FYlIoggg5DksK4okywyAgFKIEAQwoBRhxAkiAMy1LMYY9YkoS5KuN0plz3W1sP7Ya29fddo6z/M+2nfwlBVLLNPuWjDfM4yp4eEP9u3/7v0PKqHQp848NaFq5y4dTMZjsUwGMOC7jlGv87zAS6Lvuo1Go1ytIYRYEIiCEItGPM/XdM1oNHmeZ4ypmgYxEmQZIRwQ4jm2bVm+73McRwjhOM5zPcxhCKCsKAACSijmMABAkCTfcTDPU983DdN2nHA4FASB67W84uTZrdvPWDg3FYvVG82wrmuaumHnnrNOOsF3PVnTXNMKZzKeaRi1Gi8IvCAImsbrOiPUrdc82w5ogDjsuy6ltFKp2p4r8UJI1yzbMSzr2HT+h08+Mz06CgALCGWUUMtiQQBazDAAGWOA+P9/GQokGRC67bknu9s77nr86bFy+Z9f/nypWO4d6Hvrw01nrFlFfAIxivfPCny/MjKMOZ4SgjDiRSmgNKCEAcALAvE8z/U4ngMAEt9njMXaslatzvG85ziObTuO43q+rqv1evPJTR997fILOMxJmsbLSqNQCKVSfDhSGTqqZ9L/euzpL3zra4FprPv0F3546fl/eOv9B750SxCwfKkkiyIDTJVlSmi2ox1zvGOaEEJCfKNp1JpNCKEkCKGQDgEkhAAICCFfe/jxXYcOvfHTH4Z1TVFUSmmj2fA8v4VWhABwmBNEUVGVmfwMxq1RGlNkRRAFSVEQwhBCSnyEuYASxHEBDQRJZEEAAPQce3oq19bZnp+a1nWN4zhBFAEAmOeNel0NhSAAgqZhQRjatcej/unf/5FnWu/c+8tkLNZi1GCMeJ4nhAii6DoOpQGhJBwKY57jRTGg1HNc2zJdz+M4rtk0yo3GVLm6bnBRIpMWw2EWBIgXjJl8rVzesu9AVzIR1tRMJgMAYAGrViuhUIgxkJ47549//sc3v/uNmb17tu3Zv/7IEI/xL+/4HuJ5gPDRDRsGTlgNOW7wsmvGx8cwx3/18ou/ee1V1WJRkuUgCFRdb0kvWn8aACAgREuliO2I0Yhbq1HP50SBUxQkiEjTzZHhZqUyPDER0TXbdSmlEV03TKurq/PnTzx9rFBcv2mzU62ygDHP+d/hzhhg/3N1Qp4HDDAWwPbVa+uVCsY409Z2+6UXLuzs6O3pllTNNpvf/Me/f3zVJaqq8rwQSiUhRIWxMVmRW/9KThTtZlOQpKnxyf4F8z3T3H/gYDaZUDVNEEVekjzbljQN8VxAyOjRoQfe/XBxR9vFp6478/s/3f74Q36zwRj77b8en5tNX3TuWWIsDoLArVa2b9tebDTPPGktYAxixPEC4rlGsVSpVO55+fXBzvbeZELiuEQ4lEok4m1tYjRKLWtqaOiN7Z/8Z+s2geMuX7Hs1IXz49FosreH2Pa+XbuH8vkfP/nsj6+67JLTTw11dgOMq8eO3vaXfzDAhmcKqiC+9qu7xHCYUUo97/Y/3//8xi0QQQTRh7++q2PuPCyKfrPJAjp+dKh7/jynVkccliJRTtMYDYjR+N0D/9p4dOiaVSuW9ff2DswS9FDg+5yqBJ6HBAFJMoTQzk/v3b3nSw8+MjIy8r3rrz53yWJFlFLZjO+609P5Y9N5XZJUSeQ57sODh7ceH3n09m/pvX0AcwDCwGie9fnbyo1GSyCnK4rlOL++7qrzzj2HD4ehJAPGrInx0aGjN/zp77ecetIFK1dkero5STJLpZ179sXC+q7jo9dcfAGEMPAJrypmuSzpOvU8iBCEkJNl6nm+bdfKlZ1HjmiSFFaVfKU2p7tz19DxM1avJL4vSNLQ8eHeri5e4HlRdEyzVCzF47FwJoMEAYkS4vnA9yFCkBcAAIFjH/7oo+v+8NefX3P5fW+++/Wzz1i9cEGipxsgZJfL9Uq567SzAaUAAhAwKMkAQUADwBhAkBECMQYYM8/nVEV95vvffHnHHoHDj2/e9s6DN0/s3K2Ew1os/pOrLmkY5lShOKury200pUhYUVXXsRVN1zs6GuPjCGElEvn93x76x8rlEIJP/+Wfq+bNfvD736nNzEAIBVnmZDkgxLcdWZK+ftF5GCMI4NZ//NEuleR43K6UI4q85djIVakMqdf4ZGryk52f+es/n/zWV/RsFiBoFQrNSiXR1xfk87qm3nTiCYbj+JR85aEndz/8txW3fnX/c/9Bmg4ROvvHP5/T3TWZn6GEXPntrzUbRqytDavazPHh3u5uURAAgJ+6/jpq21CSAAAz+fzHhw7XazVV13nMyYkkUtXFF1y+9/UXY4ri+z7GaKC/D0EEEQIQIp73DCcaizULhYBSxhj1PJUFSJKp591w+ilXnrh6NJe3HNe1bcYAFni/0UQCjwQxcBwkyWI0pkpSSFUuOf3UzUeP98Tj56470XMcPRbr09Rr7vuLwPOKLJmW7biu7/mNSkXvm9Uyj3m1am8yObc9O1Gq5KpVQojIC6sXLfBMw6pWI3PnAYQEXf/nOx9cvnr5fzZv++LNNzamp6PJVEhWTslm//jPB3/x+NOf+fznqGlaxSIfjqy45qbTliz++4/vQBxnl0vU8xDm1FSKEP8zv/3Tvn/9zff8ZCxmO86C7k4AgOd5AWOAMUp8CIGoqpjnM21ZNR5HoggRprYFcQhQ6jcaxHUFXSeOHdDgjzdfH9X1P958vaaooiIT2xFCIQDBiq98W860+bZFDYMFFASUUQAAgwgxQgClrPVChRBOfLQpny/anhsPhXYeGz5j1XJZURDHEc9zbJsFQeuAExWZBUFAA8YCjhcgQgEhQUA5Qfh/xVmrowpoAP+vgEAYQ4SI71FKWyIAxgDP85jnW+VBywSIEEYIYY6jxGeMQQCDgAYsQBABCBljvuuZpun5vigIAAC+pVcSRczzmOc8y7ZMw7LsgDGMkcDzCGGO44IgoAH1Pd/1PIHnNU0TZUnSNAhhcWqKAdZ72tkAwslNH4iChDBq1hsAAEIIA4zn+CCgoigJokApBQAyFnA8zxiTFMX3PNeyWMB4QSCEBAHlBQFzHAQAcZwSj4MgcFopFhzHixJxHUppvVzxfE8PhUbGJ9pSSVGSOJ53HYcQUq5Wa02jYpj92fRn/vrgC3d8m0NYlCRBliEEjWrN8z3f8xGChFKMOZ7nOIwhhJIsY47DPA8CRinxPa9V6IuSCBHCGDPGiO8DAGRV5UQJcdizrOJ0XhAFLRTCHA8AwzzPaBAE1DFN13U5jgMAIowIIRzHE9/jRQEy0KrFW4dn66wXVRVh3HqKOEUBASW27bsuAAAiRH3ftW3LtIKAiqJIg8CxHRLQU753p2MYjAWBT6jnEdMAgIGA/U8mAkBLJQMQAgyggATLzjrzrmdfSbdlb3/kiTPvuCvcP0vv6Qu1d1x4169lVdUiYVGRBUUJaCAqMsfzrm35rgsgFGSFEwQIoec4AaWhtjZJ0yzDlMNho9k8+dt3+J4LEVIj0dSCRRzH26aFOTwyMhbu68tNTiGMb3/wsYAGsf7+UHu71tbWbDRO+Or3ogsWrrjtWyd96474/IVaPL78i9+Id3WmsllKA1mVv/rQY+FYNJxMRjo6wj09Z377h4T64VhMVdRkMqEqiiTJjAWO4xRKpSOjY6u++u32zvb+lSuXfenr5XLJMQw52x7QwLJtQAig1HUcx7YBA+mebkmWovFYMp2OpZLReILnec/zZmYKzWbDsR2O56MdnbysiLK86qvf9YkfymZiHe2e59/7zAuvfrhRjcddy/INAwki5vlGtSrq+vsffPidvz0wMTZOA9o1Zw4LgkQkLMmyrKoIIdM0EYSd7R0D3d3nn3XG3MWLN/353nA0GopFg4B6tp2bnHRd17YdjuNM28EY1xqNzfsPvr5tu+/5kqpKmg4B4GVZkKSDR4cEUSyUSo7r5Kfz1Wrl9Nt//PMnnkkvX/mZX/9Rise/fu+fvvPXB/tPPb1zzUmh9o5Ft3xx/s2fX3TzF7RZA6HevlhXV7qnN5bNZgcHo9msIIgsCCCEnuMJsiwqMi8IQRAEhIiKgjFutTGeaYqJJJdIcvGUlMkizD33xrtyPKHEE7GurrXf+v7qr30XIrTr0NCsVatO/8FP6tO5ZHsbL0lY4ANKAKWQ4wFCAEEAAcAIYA4KIsQY8jz0CtMsYIjDvmEc2rsvX6ktnTeH43mj2ZRkSZQkCKFlmrKiQIRsw3QdB3Mcx3HRdBog2CyVMMfzoiCoKq/pfrNp12uU0nql2rI1I4yzfX0QoWahUCgUpkvlE089GfNCQEirScsdHdJC+v7DRz4ZGfv85ZfK8RhEuD412ajWBEGQZDkIqGPbjaYhS9JYbrozk45EI1oyhQWhmc8HASWep4RCvKK4jSYvS5yiFkdHXt/68d/f+zAeCa3q7bl0+dJMOuXYdiKd5gTBrNWUcLgyMzP4ha/a1erSE1anw5FHvvcNva3tO7+4565bbtL7+kFAmec1c1Obtm3/6fMvz+1oWzer//zVK9sGBxkhpNncs2PH5b/+ned5yxfMf/KO74S6eyGEzPeJaQAAiG17jpOfynEYz5TL24dHCk3jvMULly5fJmgaseyWSghhzjGalVJJ0zRBkjDH6R2d1LYAhI3cNC+JU+MTjLF4PPbo2+/uncx989yzurs7f/b4Ux8eOAQZXH/fr9VUGskKAIwaTWLZtZn8ux9/srC7c7xY/NEzLxQKxXtvufGMlStiHZ2I54jttJo86nqU+J5tc4IAABAUhZNkwAIWBJDjWmgk4tiMUt91q6WyrMgcz/ueF9BA0TXieaZhEELae/sghwNChFAYywrAmHkeNQ3PNMRwJPA8o1Sq16oPvP3eD276FPG8r/zlH29u2nLiymX3f/GzvRdf5deqgBIQUC6eCFyP+R6jAcTof3N7jgcQImJbgAXN6bzdbF5xzx/+9M778a4uTuC/+PeHo9k2PZ0WVY0FzKg3JF3HPDcylUv1dK362nc5RZbaOwc/99Uln/+KFA5DAFEoIrZ3QogkVc329giiUKk3bNshjsMY05JJSRJ/8NRzgAHqeW6jjiWJj8Sys/q/ef/Dl931q7sefkxJp3E07tZqkqom2rKn3v5jThK1eNxzvVQ6Zdn21x55IpqIK5GIEI3iWGLuDZ8LtbWt+eYPlt36NbGtw2oaYjTGaZprO8mQbtlO07TPXrSgu6vzTy+/vv/4qJbJcKJomRYnijsOH1F1PdPXVyhXdh09Ou/GW5Eeefr99a99sB5gDBBmjCGMd49NXH3CimPTM1FVWb97j1MsIEnmw+HFy5eVc9O1XG7Lx9up70PMAQABx3Gazukh17LUZOrA6Ni3H33izude3HJsZLxcbUunVn7+a5yiyJmMnEhKsRivKOGOjrv/+6IajTRqNUFVoShxoQin6eGOjumJiZv+/PdNBw6lFi1+acfu4emZpWedddb3f0oYmykUc9N5xgK/2QQ8DxjzDVOIRLRY7M4n/ts7q+/7Tzzj+T6A8IdPPCOpauD7OJoQ4gkpkRQiUU6WeUlijHG8MJObFqMxLMv548NYVjhFRRznNuquYVj1Bub5ZFtWlGTfcVu2UlFVKaVD4xO/ev4VXtchgNT1/q+ncf1alfqeoGoAQup5GGNVVW87/1wIoKRrZ8yfwwDbc/TYwDU3CbomxOJIUYEoBa7HAgogggIPAAQYQ4QBhBAA2Bw6jDAHIKS+Rz3Pcz1BFH3PgwgihEVVQRwXEEp9H0JAfb+l0cI8hzkeYhwQHwCAOA5hrvXYEd9vOR+CgLWybwEE1CcIY8xxxPdESWaMAcAopSxgAIAgoK0VgKgonCAACANCXNOihHi+J/ACgLBWrXIc5xPCc5yiKJKqiKpaKxQkWYEY3f2vx++69dPB/0EpHMM0TdP1PM/3goDpmiqKIs/xoiJjzAUBbdRq5UpVU5Uv/PNf49Mzb9/9Q0VReEFozTuVcBgC6NlWo1qrNxqm7YR1VRJFnud5QeB4HgBAfJ9SihDieK4lRRM1HfEcsWzfdQJKXcchvm/btmFaYV2jAZMkUZJlWdMBhFjgAWMBIXazyRhr1eue46iRCKOUAWA3m6Zp1Y0mgghCSChljCmShBFECPM8hzEniIIgihBCCBEDjBLiOQ4AEEIAITx8fLi3vS0IAllRWq/nVl3YmoBChBDGnCC0Lg2AoHWa/+9m8FzGGAsYgCAgpNUzAMYCxjDHAcZaNV7rxPdsR1QVQZZbv5mxAItS4HmO0Qwo5QRBjsaIZXm2ZZvmws/d1sjnOUliQcCCgHoudWzQ2sEj2MKKMEIAaJWkkFt92zd3P/4wF4sDhAFggNLZZ54/NTpSWv92o1SixI+0txPbYUHg2bYgS7ZpadGI77qY5xFCnKYhXghcF8sS4oWO8y8bfu7x+Td/Yf2v75516mljmzYpuhpQuuLL3/rv7d9YuGCBY5ipwaX1I4fLxeLxiVxnJtUze6BZKkMIF9/61Yl3X0OSDDAGvj/n5LMmN7674ILLD7z9yv9X1neH21ZV944x22q7nn7ObdxGF0QQFRVbxB6jT54+RSEaI0o0Yo2KvQQMMYBf1GhUYgWsqAQ7T0QhoF4EQTr3XG49fbfVZhnvj7n2Pgff+fj49j1n7b3XmnPM3/iNDlq//g3/cNnrznnxJy6N4+j6D703SGoijv1kSCR4/V89Y21xsTk2VuS5MVqXpVTy3E9/7mNn/82xu3aWRXnTnjtfft6r+/v2lUUexsmgPyCiRqt5w/e//73PXsEYU1H45Le8+7b/uBwIyLpo06bsvvuM0f00feDQkaOmJ7fOzjYnJqzWKknStbUgjsN6fcffvOL+a74abdn6ux/+8LQXvpB0ubp//1Pf8T7G2fLS8sJtv7H9vitLOTZmVlcfuvPO1uQkcgaVDxpFGHYeeWR8akooVWYZlzLv9dbWOr3BIFCyliQM2f0HDz28uBRIed0ddy6tdn/80fcpFTzr3R+47sPvYYwJpeKJyZX5vQDQ63a3nXQyk/LAHXe89OJPaWt+f9VXEJkzettZL7LORlEcReEdV391bX5fkMS1LduACMKI8mzuqc+SgbSlOfCbG4Bo6e67mnOzJstknNiy6C+vNGZndH9QZpkMw3B61g76LAgA4Nc//NEl1//kZ9f/WMa1wQN3A+PgTdte99yPXfzjX920dsdtgEy0x4Ii3/2UZ+m8ULUa45wrqfOcCe4LPCpfvRfUIABE0hqcw+yRvSKKmApQSJulrizTlWVrTJjUijQNazUiR0Tf/tGPz37Rc01R6rJkjJV5IZS0xrQ3bQICk2eAmHU6WZZlabawsjI9Nj67beva4mKWZo7c4urqMbt31cbHmZBMSptlS/v3f+fGm15w+qn7Di+ceMzuuNlExlSjyaQEZMXSYpEOgCBPUxkoICiLQiplrS2yrJ+mgnNvxnb6/Wat1hxrcyGQ8aBes6XOup1HHtn/yzvv2r+69rLTT51st2c2bwpbbeHH81hz969//Yx/er8uClOWzYnxer2RptmPP/ie4858GhABEDBeLi3ectNNC51uHATT7dbm2Zn62BjjPO12Dx44WGh9zHHHhq2WHgwGK6uDQZ8hNsfHEZlHHeQcCKzRWX+QNJsqCk1Z+nCaznPvqXHWDtbWklarsmqNjRr13sraA/Pztz748MlbN2+bnfn5nj/ee2Tx7gMHX/y4k848/rjdJ5xA1p5+/luufc/ba7Vae/MWUa9TWaRLS0uHDvX6/fGxsSAMDx8+8o//9fVPnfOKox9zIjhigeovLC4sHNHaMIaBUo1mM6rVgnoDgMgYq7U1hislfPKbs36Qpi9eKwcDGcdAwJQE63ithlwAYrm8eNrfvenePXvI2dndRz/wnW+q8Unf15OKvL9/v1AqnJzEIHT9XtntWGM8hBf9werayrH/65Uyjv7lbRe89cOXeGupmqPg7RNAliTsuh/9pOx2UQUAwOOEBwGX8kNXfiOanQ1rNWRMxknQaL7yFS9DYLooG9PTD9z34MSO7YcOHtx19mvk9JycmYtmN+ksO+acvzv1jRd+5sc/P/WJTwij0BrdHB9Pasktf773om99HxmTSU02WzypyfYY4/zuQ4d/dOvvz7vic0EcR1PT4cQkIjqtbZ6m3U48Ph61mkmz8ctbbu13u42JcSKSSk5s3nT2pVe88+tXPf09HzzqjCe/7jNf5FK0tu/Y8bJXA4IamwgnJpN2u59mf/2Exz9wZHGy3R6fnAzbbZ/QYAf97NAha+xHz31VUm9Mbpqr1+tZlpVl8fR3vR9UAGEIKgClim7vvdd893M33Lhr89y+I4vOORGGTKna+PgXf3njb++5L2g0RHviup/8vMjzstQXf+cH1loZRTIIglo9aractTfd9odaqykCJcJQKCXjuMyyU990IRM8nJ4ha0+74G3x1qNqE5OnvvHC2vgYAq6urn74uz+8/o67Fjq9Xac/4eu/vfVXd93dy7I9e/dPTU72lpZknPz2ikuVUq+7/LPloE9aIxdkLWPsrIs+ttbt1MbHdxx7zN33P7j7+OOYEKrRUNOz7e3b3/6Vq35zz71//YlL3/fNb9fa7Xh8XCQJWcuUClqt2patjHEmhG8RL5MaD0Ov+r1dhb7jnOAuy6gsqMhtWS4tL0/v3DG+dVtR5It7512euXRARUGljsbGVKNhBwMqC5OmABi2x+qbNiebtgRx/NefuJSs0YPBWz7wcSIH1o7UOggBnPN6wxw5gNm+eVmrsTgGRLDW5ZnJMpNlTHAi8uTSx7XIWSLylh0ikiMiJ4NQJQkBkbWmKJwxRMS4ACJjNOPcGWu0BiDORdiol2mGiCIIfI4FMkREqRQy7tmq8X0inQNkyFBImfV6ydhY3u358vmvXf+z2Xbz+3v+eNs99/3fSz5itFFKJc3Gieeef8cX/702O4tclGtrnYWFsijKsgzDMIyiIIm5CpAxZ7Qty87KSrfbc84FgcqLMokiIUQYR1JKFcdeA3cWl44sLvayLJRyanxMqUAqqUvNONNaAwADVGHgXaTkyBhdazQ8Q+Qq4Ep1jxwm57iQTHAgcM5yLnSRA6KQkgtpjXbOciGdscZoXRSc89XVVSFEmuW+Fwgf9mLpdHsT42POOc6FI4eIRZ77Qk0hhOBcCOGIBBdhFDLOvVNWRRE5EkFQDgad5aUsy62zgDg2NhbV6yIIwBEwBEDGmNXaMxCulC1K5MwZQ9aqRqPs9jzGE5Gzxmjt+bpUynu7AQgAGeeAKKQiAGQIBCKKfMUmEYlmqwLXA49MPfP5Ju0TOZdlKETV+RuQnAOjgSh75KFgeo4Fk5NOl/19e9NH9h25805bFrLVZoKPPfmZ0fSsao+lq6tZZ22wvGyKonNkgYiSySmdF9mgr8uyv7ZqtWZSIWPgoL5zd2P7jtqOncnmzSe85g2IGNbrQsixnTvJOaeNCNRXfnA9EAml2tu21Scm6pOTIgyDRiOamIgmJu+6+55d/+c8YHjsOa+zWkeTk/1uP9q8tT4zvXDocG1q6upbbtsxO73SG/zrua88++J/a7RaKgjy/uC2f/9XcrQ6P58vLQIRZ2xi09ymXTtnjjmGcZZ2e05rnab9ldV8MLhxzx3Lne7cprm5o45q1GpCiKReu/WPf1o4fGTx4MHVhQWd5WESI2KaF6v9/vLq2uHFhbIogih83BvfKqWc2bV77vGnjx97nDH61Ave9sQL39WcGEfO8zSNtx4VTE6Kdvuxr3+ziqLlxcUTzn0DIJR5bsoybrVUGKa9Hg+UCIK9D8/fc/efCUiFYZZlyysr/TRLs3yl273u1t9pbZQKmu327ffenxdFa3Y2rtVloMa3bGnPzUVx/NFvX/vub3zr7Esvv+PBh9Y63Xv2zj/nAx+z1rZ37Izb7bPe/cHVIwvOWtls1nbs2HTa6ZOzM9uPP77VbL77P7+ycmSBS4mcmbwgZ01RRHNzq4cO21IDYDg1hYxzpQDQQywXUgQBIMw9/yW/3XP7Zd/7wdGveq0Igsau3fXdx9R3H/fAvffPnPWi6We/YOLpZ3EpkTHZaPB6A+OERTFPaiAVCIlxUtu8VSWJajRZEPrUT7KGHJFzLAhZnMjJadVsAyKalWUWhoAIQvgkeypyWxYmy2RSI611lhJRf3U1TBKjNVlXmxjP1tYA8Obf/2F2fOwxT3gCr9UBwfb7QGTLkgeBSdPVI0eElLV2iwnJg2CwtKSiCBDKNCvzzBgztmlTf3EprNV0nnGpGGdcqtUjh3u9XhzHSipkGNXqpizDRl1nmdFaKOWMsdoQQtYfHFpc3Do3Z50NgtBZq6KQcS7DkAdBf3ERkckgCNutsteTcSJabXCuv3/fg/fe98KPfTIbDK5821ue87znnPSqv/3d5z+NyBYPHOingySKrbObd+4kol/e8Kuv3XyrsfbJu3ecvmsnR0zCcGZ2JkgSFcee0Wdra4zzMs1UFDIhbKmRobO23+32+v1GvY6Ixpi4VrPGRLUaEHEpizQVUqqktrBvXms9NTcXT8+Ac3fdfHMUBkKIz//0F//zwEOXn/uqLdu2OmODWlL0B8tLi9a6Xac8lo9Ngi4O3r7ncW98qyO3unfv5Rf90+m7dv7nDb/et7L85Te/sdZuh+0xHse6s0bG6iwzZemcNVrrUltr6q2WkJJLqfNcxQkAiDAkIlvkPAiZlLbIh606UadpONY2gxQQ7r/7zy/86CWXvfac137q02TdQ9d8dez4E72QLdz+h5PPfwtjrCzK/dd9lyvltJGtNjJ0WiMyVAqctf2+yXNT5OTciX97/sIj+8puBxDJGCbVw//9vbW1bpJEhxeW2vU6mrUVFBI5A8b9DCUUgvxYT09arUXGyFpbFk7rQw/Pbzvl5HJt7fDe+altW0459/zvv/cdU9NTtbGxcG6Tz5LSy0tMSiAyaeqcFWHIg1D3e85Yq0tdFHv3zu/YucMZ296925Wl7nZ5FN5z6+92HLO7s7TMBU8H6eSmOasNkeOcyygGBKs1EIgwMFmOjD3zHe+58w97Fn7x30WaHth34IQzn2Kz7Atf/tornvesxuyc7vdlvWbS1BlL5LhSiIhCFJ1OmWa9fu8P99z31FNPSVrtD3/hSx9/54VMqhNf8vI0ywios7wy/72rGjt2vuuDH/nqT39xzT9duNTpTzTr483GzMyMUGptafmRw4dPPvmk5cNHavVaY2bGD5kkZ4tuVxcFMvb893/0GxdeEMVxvdVCzlVSWz2wP2m1Ds8/Mr11s4zCE15x3h1f+cLz3nXR/MGDR83O3fD1KwFoMD+fdjtra52rb/rtVKP+jJMfM7NpU9hoimbT9nsvftt7rvnwe2UYiSRxZdE9fPg5F31keW3NWvvel/3NKduPmmy3uv3+zPR0Y3winJrGINCLC86a+Xvu7fT6u3btUHGcrnXiVtP3L2aCk3VedwulUHCyFhn3XkUmZFVxUBZCBQREjjpHjjhyCOiT95rT0yJOUEpwzgz6+++7b2xywhobxEnYahERExKAUAhXFMg5IJK1Zbcjk1rZ63WXl5Czzc9+4diO7VEc33b5pc2pKZ1laa+35QUvsUWOZmUJpcQqT9sBEVnre4tVlj8iSkV55osNyBGQI2uJwOqSKynCmMj5UlEiEnFM1riyzNe6IgwQ0TlbDAZBHIsw1GlGQDrLg1qNnEXGfe5WmQ64VIhQppmPMDEusn7fWiOERMQgjn2qS1CrdY4sALn//cnLDi8t7/nSZ/Nev8iy6RMfkx068PmrvvOm885hSpXdjs/zsGXJOGdCAKLOMkR01mb9fpkXQVTFyaSU1jpE8JiX5UWtVtNlkWaZtQ4IpJJAFCcx+iC1NoBQFiUBtcfHpVJlljEuWkcf4/JscPDgZ7/9vSt+cN1zn/D4i1/76qhWi6amWRAs3nVXVK85X7RgLCAgYpFlWps8z+M4jpLYD401xhRF2Wq3sjQNo8iUpjU1sXL4COM8jELvyHSOgKgsy7IoHBHnXErJGHIhhJQqDFWtJuKk7HY8Lvi+bj4PVwSKrAVkXEkmBBDZUiOvum77Dh06HYgwQkTkXA8GTEqyPviHpih8d3ZyDpHxQAEA86ENwf014Ij5jubeh28MAPi5COCczXM1MQHIXDoou53WGU/XKysL/3Njc3aOx4mvOebjMygl2u4qcAHWoVLAOKCfaYiAQEUBzjd4cESOdOkbPyCi9/uTMUTkC++d1qQ1AGQrq2G7xZTS/Z6IYpMOGBfOVHnKAEBAjHECYEIggi01AAEyRMi6PV0WQFCfGA/a7eUHH/zH//jSG5751HMv+9wdX/5sd2V17sQTkYvFP9+tdXnGhe+55YpLGu3xMs98GgcXkoCcNlxJZJysEVHEhCRy2cpqPD5+6P77oyR2xka1mkoSUxQiUORc3u/ng3Sts4aIvUEaBUE3TV9x6eWffv15J+7YHgYh46zf6yuloiTWZbnWWXvq294bJbHR5tLXveY5ZzyRMaaLMm7UpQqM1oPO2vmf/c9nHXfMq1/wXBkEMoplu10sLnClhviEPAhsnq8dOXzXffcDYDdND66ubRkfO2p2miPTxgDQ9NR0EEeMMUDURZENBlqbTs/nEddUFHIpGec6y8qi8Gk3Ya1GRFwKUxTJ5i29+b0yDJ21zhhyjqsAEfqrq1GtBj5RVUpfzRJMTbk0JWcBkCfJyv33c8HjsTFblt5LHzSayJAnNVcUvk0Ncu6KAhj617YoRByDI6dL/yGVy93RsOc8A8ZcUSDjfGwMrAVkemnh2LPP2X//vTKK1m69SYxPmcWFst/9xJVfvewr30SXDgDBZTn6TSUHjpAx4NxnOFcnDwCcBSIyBqWscktZ5XN2ReHhCoVAIQCQjCZryVog8khJzpJ1Oku5VIxzHkUsCMnZfHFR51nUauk0taUmckYbxhmXsr/W6fa6cRjVm01kaI0NoggQrTE3/PbmyWbjMSee0FleCaJwfPuOw/fcM75pDgictWmn46xtb93CgwgQTa9LAHmnc8edfxrk+a7Nm3aecQZwAcZ45u3SwZ5f3fiDP+x5YGExFPKS173myv/+yVU33zo3PvbFf3yTj+89fP8DZVnuPuboz3/32l5RAMFzH3viy//lckR266cvlUoWWe6ci2s1hixLB71ut9lqOeusNRNbt3GlPLTwOPGL4x//2m9e9ZYvfmXbpllHVGo90Wx+5vXnMWRHlpZ+tOePb3jeWWMzMyKMRJLofm9x7/z8oUMXfOmrptR3/vA7W8589n1X/1c4OUVGf+GL//XEY3Zt3bq1PjNNjligwDoisnluyyLv99dWVqfm5nRZcCHWlpbHZ2eISMWxMxYRgaFnZc4YxoXVZdHri0CFY+PF6ipXUkQxSklao1IohOl0mJQsCGyW8Sgi58haV5Y8igARnCNrkXNgDJwDZEDOS4hv7E3OIReoVOWQB6qfcIpztnf7bTypAcATX/aqX/zbPyebNqHLUgAi6wAROa9Smq2teuEx5o8UACBDH/vyWsCPDkEpfBsdMmZY+sQAEJyt0JIcOAeMV8TAmmpIKGOuLE2aBdPTLs/KTsdqLcPQOevtDGTcGk3OeXsQiLy7hJwlAmetqiUmzZDzvNuVYYDIVKOeLi4h5zIImJJAgJwDgkkzIsp73YMHDk5OTdbHx1WtzuPEDno8Smye5WuraaerdXnXAw/V40hwnhXFa6743Jff/IaTjjvW9/ko8gwAnLW9Xr87GBS+X/DE+KGlZc4YOZpst6QQgvOpuVkuFSCQP+pAIgicsciZ04ZJ0Vtauvxb177znJc3duzcd9utvX5vsds564K3nfbUp3z5Ta9XUvmSTs65zw2f2LqNBUGxtpZ1OkWRv/9rV7/2zDNOOfVxxWDAOA/qDZOlaa+nS92cGPfLhcjIOVMWPqSZ9/tptzc2O+N9Q0wqk2fIGFeKCem0BkQeBGQNECBjKCWQc2WJQjKlfNjaS5gPU3vZqGTOpwUhIyBwDhDRI5fPnmMMOaP1bDoCIp/a7MXX+1kBQUxtMkuHfRQeKmn2Y5B97p3/pqpDOFUDuxl6EK2ic0RkNHDhVT8Zi1J6/2W1GdUbnX8HIpJzZAwiAOdkrfcqsyGcAIDvqEtGex3kyoKIEBkPQ93vI0PnnC11UK8zwZ3WAOisrRIAhNCDgbPGahO1mjyM9v/pT+3JibDZYlKSczwMUcrOQw8FSXJofv4T37n2kr8798UfvPhXX/oMAPQOHVJxpLNsdWmpKMokibMsu/HOu3fPTk+1246c1qbZaDDGGu12Z3U1qSWci2R8/Kc/+enjjj/2pZ/41xs/f8VxZ5+DjKWDQVkW5Ehwse+678p6w4dhBwcOyDgOp6ZMv1/2ujrPL/na1c84/uijt21DgFqj3lld00Zf/ZtbfnHXny97zSs3b5ob9PuMsUNHFsdaDSFlFEYT24/yCDJYXDS6vOzb1z7/sY859UlPYCpY3bfPGhM3GgBA5BAwnhi3ec7DyMMNkXOlBoZMCDIGhQAiHsVOa0QkIlbBWImMO2O8bmRK2TwHH+YPw6rdXNXC01TdZT2Wac2UImNQSCKHyAAIuMChKPvfuLJEZOCNJK2BHFNBxU2dxTACZ+1ggFywIPA8FaUEAHR5BkIAMkCoeo9YC84CMoBh2L4aCgKAQMai4ECEXJAu/VciY2QsMKxuwphK+zNGWq8Dsy7BU1HGK3aLjHTpFwuVcnnuzxYPQ2AsX15W9bqvDl2bn69PT/t8FB8O8E5mb4EywZlUiGjLAgCYVIxzALBlWQE/0KGHHmaCj01NCynLLEumpwcLR8o8R0C/j0S0tra2sLqa5oXgbKrd4lxEYVhvNLjgRGC1lmFgjdVlaa0py1JKubC4JARXQhpnn/+hi2//wqejRsMHMlSzadKUrJWNBunSaWOK/LZbb732d38858wn5UUZSJFE0UqnF4fBar+/eXoqUEEUR9ZaRMzSLIojRMYF10XpnDXGIkIQRowzxlgQJ1xJH5n0Jjkg8jByWruiQCmYkK4s/fqzIHBFwZRyxvAwdEXhVaW3fnxuG0rp8txfj1KRLoHI/4msQc6RcyIAZ5FzXxw8apXoqV2VdFLVGDnvCELGyG2kjkTWIGPejAGgqu+Nr/pgjIxBj4xCoPNCBgDWAUOw1nMC5KIy6j3JhaGj31oU3OtoclUjcSCfoA8+AD1CRxgCaZVO768HqDAfAIB8UhWRA+uGdiKryk89r0UGVE12IkfkLGmtBwOuJHLhuTkPAn8/NssIwHfsVfW6yTJyzmm9dOjQh67+7ktPfexznnuWmpwCa1xR/OKHP3zVpVfcctklM1u27Pn97U8666++e823DnU63//97d0se/zOHec/6+kE0KrXNx177PL8fH18bPHgwf2HjhyzaycT7NxLr+gX+Zv/6plPO+1xrc1bfnH9j3dv2zI5M6PiRGeprNXIWq6U51uViJTF6ef9/Vizvu/QQi2OltdWGeM//8hFE9PT1//q189/+plhq7Xw8MNE0JoYX11cvPlPd2+fnpqZnCCi9339mk/+7Tk333nX53554+G11UP7Dize8itwzhmTLy9Hk5NkDAsC0to3QahEh3OX5wBEjpBzTw0RkcixIARrgXMEBIRK7Q6VMDJe9ZrzO+iZG1Rj3IGc15nVnpKrxACGv0T0pq/3A/nfeGULBH4WhWeO5BziBoHxGIzoTSt0Hu2sgVJDGIIuwTmfMQrk6S35mFVFA4bgCgjVXG9kFS/2bBURK42PVbtHIn8r6/KK4MHPF+d735Y/NORcJY4AZMyw24Qja/34W3KWytIZU3FzrW1ReBOEnHO69LeHjCHnZIwtCr/cpsiRcySIpqa8LusvHH7yW95102WXIECR5UEcHTl4MC/Kg6urL/j7C377jSsnW20pZWtywmeRAaLVmhxlaZqmqTEaEa11UgollQoUYyxpNJgQviiCCwmMOV1mvZ5UAZcy7/ceeujhdqtJRF+94cbPXPuj7uLi3muvAYI8y+qNhq+gaG7b1j9wIEv7Z77zokF/cO9VV/aWV57z/o/96APv1qVGRM5YrdlIxsZFFHlmD4x53Ko2axg29EWLHkFYEKyTt6HYrYsyY5UHBxlwVqESQ5+/N6J4Q3VKXv4qxeq1YgVJBIgACCP88qbS8IecA2erG/Yo68UAiLz3TchKZoKwki3X7w8T7jkI4Y1x3yQROfdmPHkr3pE3zH2+fPW0iD4F2msB4AKF8BWJ4LnwiPlWDSA5+JaQnA/fKwCZf4FcIOMolc+xQsa95Vj1jGQcVcDjBDlnKmBhJGt1FoYsingUiVrdE38eRkwqb/IzqcLp6bA9pmp15ByEcHlOzjLGFxeX6rNzXKkHHt6bTE1d/etbpBLf+p/fbz7llH//6S+PLK+kaVrftj3v91WtFiQ1IGhu3hwn8bMv+si2o3c//8OXHP+0p73gI5+c273z8Re8fXLnrnhqOuv2yLlwYlKNT5C1C4888sR/ePtT3vpO5ywQzM5MW2Mmp6fPf9Hz6o3mSaed1p6eaU5MvOSfPxW3WvXZWcYZECWTk/X2WKvReNLJj/nBT37++7v+/PGXv9RZN7tt65bjj9t80kn1qWkRRSglk5JJ5Vk7U4qpgAUhT2osinmSsCAStQav1XmSsCBgYciCkEURi2IWhEwFKCULAhaETCpUAZMSpUQuUErkHEc9P5AB44jMbzFyUf3ewxati5+/EviG/yqwBC8MPipUbSgyYAyVAiGIABhDFZBzZI2XcrTdLiYJ6NL1+6zdBuvAaDK6YqWAQG544BggkDE+1cob+BXbQATnKqowOqBecEenb/TjJzEOsb7qwjP6Cm8JAgDnVZtd/2BViQgCIg0L+9GTGH/KGSNrwBH5FgCMgbXOWO/gICJfBFx5nvt9HoZkdLq8ErZatiics2Rt2uv71k4qUHEcyyAUSkVTU8XKiu8ubUvNhLBlqfMcfKo158wrAUciCGQUETkyVtZqKKUrSzMY/OyGGz78nR/c8KmLydoiy2QQmLJ01qaDtDUxzjgXKnBGyzjmYQgE5Kx33JRpaorSGhPGsarVnDHImEgSppTLc0BkQVAtoHOoAjKmWgfGELD6k1/MdcOXrbMvrySHszGrfRzZx95DNATPkVfxL8nbX3zs6HWFoGzoAN/wCdY+6tP8J1gDyLyPEpzDKAIhBSYJIIBUrNUC54AcEQEXQ00BREOs9nIghN9v8tEmb1f5c+NLNxEqvuz/VBEDt276jW6diIjQe1v9YsHwen/N6Pn9bDwvqc6hryRE9K/9zChfCkjODqUfgHGmqpViQvAoRs78xFIehjbLRBw3d+22g563KmQUxYAiUA2jz7jgHXuuuhKROa11t+sT7XwhOQ8jTFMmBeNChGHZ6yHnZTqI2i1PJzzHsnnOiMBakcRHb9k83mgIpX7ys18+7YmPD+L4oQce3L79qM1bt/Jaw+WZK0sg4nEMRN5YBAAmpWw07WBARCJJmAqcr2SXEoTgnlB6r7NzgAQA3khHIasdGZ1/GBKt0V74DSUgq3Eo4uTpnH+jG4rgqGHnCHS8Vjd2qL4tOcKRrCOAcZVjBxHQrRPNapIxEjkkovUt9pINwACIvJYDAHAWfc0GeNShCuHI6CpoxNA7fcg55Mwb9NUX+yd0VAHnxmOxkXNwH0F1MOIDnghTJaOV1FZnwMuTrS4eHbv1Yz2CWwLGgQDIrcNAtYKeKoHvO1d5ZCvvrBu13XFlyaRAIV2e2aHpavKsMtF8eDoIvGFBRFU7DWc9wyNrnbFMCp+B67TmKiBreRCYovDxNiaEFwLrB0j4aAURMu6skVEkanWUyvZ7AOQJEjlyeebV7hAOrT+QqKTLsioawljluvYb6aMh3h4Yxqi9sFaiyQV4ookAXIA1lVHh3Snkho27hjgy3GlAv7lDFf5oKonMa0usrHVEqvQtImO0Ufd66fIkt/rlEFy9aI6+1FnvNwAhXKeHTpdABH68l1JABMaQs6gCsNY7hlAp388JcWj3eMljDLSuXiPzTUfXIXPdWztsxYSjI4g+Prb+z2o6Dno36rpqWHcUbHg9QtbRqlXwsOEMjMR99E+3fqyrymvOEdHDkmcUriwBsCo5KAtyjnkXXZYiF7zeAOdcngEBq9f9J1NZYhR7owGMBilBa1fkyBiGERU5WcuCAJC5PBu593xbWh7HQOC89RbF6x7o0fOOjBWAytfjFbfXFQDeP1Bt7ej0so16eYO0VXxsKCIjgPSQgcO3+B0Zet2Hqt+OLOt1JNpgPa2r9UoH+mANjWzooegjkPtLDCIaAtkG5sA5IBNQlgDgtEbO0WtSWh+z4DPtgTEgh1D5F9bPhHUVU3QOwG2QmA1sZvTDNjzMyKh3Diq3BVWZs/7znfNov/72dUa14XO8ZFfhK3iUBPu72qjRAKr+aTQ6y34Bme8RgFIxImDcqxjSJVMBCgEo2ToLJxaEwCuBBgAMAiAHxviiMygK8kqq2kjuZ7hUETjOkQvgnFXxQOczfSpBZwykHBaHVatHugTGkCEwUSlBRGAcRw8lxKMke7SDo/OJDJABbFg9tkGDbZTmjSYHPHr9vXCL0VcAwIg/+DVnlbPJy/pfSOT6jVVr4RcfcNRKbtj8u1JQBkyJjKPLU3A+g4lQCgCozH6PpqNHHe396P+jO/PgMYKuYZBq/e0b7SGARwlu5asTAFSdS8bX12gECRv564iVb1xf2mBvrR+DjaL8/7GoyjIAAFcRldFjehXjvSHrfNpW1xOBLqsw3ZBUAZE3PHF4QpAL4N7nzEFKAARTDj10DOyjWPXQ+GXAOA36WKsNu7UjaA1DHzh449WvsDcpqtd2fWtGD0hDj976GcdKn27ECNpArnzdBRtytpHh+yhhHYIrVd6bR+37CHRHcjn6qI1is3ETYcj0KgElPjFLeQrO2s6qcGWOyMg6MhpKJOeYUugnzpLzrGjoboVhwAnIDl3u1RKMBJf8/KX1W2EMHHmHcPUk/rVfQgSWNFzar5YYhye4kjYYrh0+SjFtfMK/RAus9AsN2dJfYDkN0b2yG7CSsNF6jQ66s+DcMH7hhucQABCk9JehBxIvTAy9E7tyMlSSh0DOqykih9yvldcS1jvPAZGKshokAEDWYXVLDJyp9Awi+HpcZBU8b/zx37URAtaP6wa/Nz76oPo30hDDAIHDuuT5K0cztTyxt8bbJJ6FI/dZGURGo/cVuuFB9QA3lHLEIS0ZeQwqh6gDxpCAwHkTHIAo63uk4I32/wMWns70+E+W9wAAAABJRU5ErkJggg==\" style=\"image-rendering: pixelated;\">\n",
       "                        </div></div>"
      ],
      "text/plain": [
       "<IPython.core.display.HTML object>"
      ]
     },
     "metadata": {},
     "output_type": "display_data"
    },
    {
     "name": "stderr",
     "output_type": "stream",
     "text": [
      "127.0.0.1 - - [11/Dec/2020 21:10:38] \"\u001b[37mPOST /_dash-update-component HTTP/1.1\u001b[0m\" 200 -\n",
      "127.0.0.1 - - [11/Dec/2020 21:10:39] \"\u001b[37mPOST /_dash-update-component HTTP/1.1\u001b[0m\" 200 -\n"
     ]
    },
    {
     "name": "stdout",
     "output_type": "stream",
     "text": [
      "CALLED: update_inputimg_dropdown options\n"
     ]
    },
    {
     "name": "stderr",
     "output_type": "stream",
     "text": [
      "127.0.0.1 - - [11/Dec/2020 21:10:43] \"\u001b[37mPOST /_dash-update-component HTTP/1.1\u001b[0m\" 200 -\n",
      "127.0.0.1 - - [11/Dec/2020 21:10:44] \"\u001b[37mPOST /_dash-update-component HTTP/1.1\u001b[0m\" 200 -\n",
      "127.0.0.1 - - [11/Dec/2020 21:10:45] \"\u001b[37mPOST /_dash-update-component HTTP/1.1\u001b[0m\" 200 -\n",
      "127.0.0.1 - - [11/Dec/2020 21:10:45] \"\u001b[37mPOST /_dash-update-component HTTP/1.1\u001b[0m\" 200 -\n",
      "127.0.0.1 - - [11/Dec/2020 21:10:45] \"\u001b[37mPOST /_dash-update-component HTTP/1.1\u001b[0m\" 200 -\n",
      "127.0.0.1 - - [11/Dec/2020 21:10:45] \"\u001b[37mPOST /_dash-update-component HTTP/1.1\u001b[0m\" 200 -\n",
      "127.0.0.1 - - [11/Dec/2020 21:10:45] \"\u001b[37mPOST /_dash-update-component HTTP/1.1\u001b[0m\" 200 -\n",
      "127.0.0.1 - - [11/Dec/2020 21:10:45] \"\u001b[37mPOST /_dash-update-component HTTP/1.1\u001b[0m\" 200 -\n",
      "127.0.0.1 - - [11/Dec/2020 21:10:49] \"\u001b[37mPOST /_dash-update-component HTTP/1.1\u001b[0m\" 200 -\n",
      "127.0.0.1 - - [11/Dec/2020 21:10:49] \"\u001b[37mPOST /_dash-update-component HTTP/1.1\u001b[0m\" 200 -\n"
     ]
    },
    {
     "name": "stdout",
     "output_type": "stream",
     "text": [
      "CALLED: switch_node_actmap_click\n"
     ]
    },
    {
     "name": "stderr",
     "output_type": "stream",
     "text": [
      "127.0.0.1 - - [11/Dec/2020 21:10:50] \"\u001b[37mPOST /_dash-update-component HTTP/1.1\u001b[0m\" 200 -\n",
      "127.0.0.1 - - [11/Dec/2020 21:10:50] \"\u001b[37mPOST /_dash-update-component HTTP/1.1\u001b[0m\" 200 -\n"
     ]
    },
    {
     "name": "stdout",
     "output_type": "stream",
     "text": [
      "CALLED: switch_edge_actmaps_click\n",
      "CALLED: update_node_deepviz\n",
      "CALLED: update_node_inputs\n",
      "CALLED: update_node_actmap\n",
      "found pre-generated image\n",
      "Updating cached activations with deepviz_g-37_features_0_preadd_conv:101_1607613312.76379.jpg\n",
      "Updating cached activations with deepviz_g-37_features_0_preadd_conv:101_1607613312.76379.jpg\n",
      "CALLED: update_edge_deepviz\n",
      "found pre-generated image\n"
     ]
    },
    {
     "name": "stderr",
     "output_type": "stream",
     "text": [
      "127.0.0.1 - - [11/Dec/2020 21:10:50] \"\u001b[37mPOST /_dash-update-component HTTP/1.1\u001b[0m\" 200 -\n",
      "127.0.0.1 - - [11/Dec/2020 21:10:50] \"\u001b[37mPOST /_dash-update-component HTTP/1.1\u001b[0m\" 200 -\n",
      "127.0.0.1 - - [11/Dec/2020 21:10:50] \"\u001b[37mPOST /_dash-update-component HTTP/1.1\u001b[0m\" 200 -\n"
     ]
    },
    {
     "name": "stdout",
     "output_type": "stream",
     "text": [
      "CALLED: update_store\n",
      "\n",
      "TRIGGER edge-actmaps-input.value\n",
      "37-186\n",
      "changing selected edge to 37-186\n",
      "['r-2', '37-186', 'g-21', 'g-37', 'r-59', '37-186']\n"
     ]
    },
    {
     "name": "stderr",
     "output_type": "stream",
     "text": [
      "127.0.0.1 - - [11/Dec/2020 21:10:51] \"\u001b[37mPOST /_dash-update-component HTTP/1.1\u001b[0m\" 200 -\n"
     ]
    },
    {
     "name": "stdout",
     "output_type": "stream",
     "text": [
      "CALLED: update_edge_kernelmap\n",
      "CALLED: update_edge_outmap\n",
      "Updating cached activations with deepviz_g-37_features_0_preadd_conv:101_1607613312.76379.jpg\n"
     ]
    },
    {
     "name": "stderr",
     "output_type": "stream",
     "text": [
      "127.0.0.1 - - [11/Dec/2020 21:10:51] \"\u001b[37mPOST /_dash-update-component HTTP/1.1\u001b[0m\" 200 -\n",
      "127.0.0.1 - - [11/Dec/2020 21:10:51] \"\u001b[37mPOST /_dash-update-component HTTP/1.1\u001b[0m\" 200 -\n"
     ]
    },
    {
     "name": "stdout",
     "output_type": "stream",
     "text": [
      "CALLED: update_figure\n",
      "\n",
      "[0.1, 1]\n",
      "['r-2', '37-186', 'g-21', 'g-37', 'r-59', '37-186']\n",
      "['0', '686', '874', '787', '874', '8', '878', '1058', '912', '1135']\n",
      "updating edge highlight to 37-186\n",
      "updating node highlight to 1135\n",
      "4 16 features_10\n",
      "CALLED: update_edge_inmap\n",
      "Updating cached activations with deepviz_g-37_features_0_preadd_conv:101_1607613312.76379.jpg\n"
     ]
    },
    {
     "name": "stderr",
     "output_type": "stream",
     "text": [
      "127.0.0.1 - - [11/Dec/2020 21:10:52] \"\u001b[37mPOST /_dash-update-component HTTP/1.1\u001b[0m\" 200 -\n",
      "127.0.0.1 - - [11/Dec/2020 21:10:52] \"\u001b[37mPOST /_dash-update-component HTTP/1.1\u001b[0m\" 200 -\n"
     ]
    },
    {
     "name": "stdout",
     "output_type": "stream",
     "text": [
      "CALLED: update_inputimg_dropdown options\n"
     ]
    },
    {
     "name": "stderr",
     "output_type": "stream",
     "text": [
      "127.0.0.1 - - [11/Dec/2020 21:11:09] \"\u001b[37mPOST /_dash-update-component HTTP/1.1\u001b[0m\" 200 -\n",
      "127.0.0.1 - - [11/Dec/2020 21:11:09] \"\u001b[37mPOST /_dash-update-component HTTP/1.1\u001b[0m\" 200 -\n",
      "127.0.0.1 - - [11/Dec/2020 21:11:10] \"\u001b[37mPOST /_dash-update-component HTTP/1.1\u001b[0m\" 200 -\n",
      "127.0.0.1 - - [11/Dec/2020 21:11:11] \"\u001b[37mPOST /_dash-update-component HTTP/1.1\u001b[0m\" 200 -\n",
      "127.0.0.1 - - [11/Dec/2020 21:11:11] \"\u001b[37mPOST /_dash-update-component HTTP/1.1\u001b[0m\" 200 -\n",
      "127.0.0.1 - - [11/Dec/2020 21:11:11] \"\u001b[37mPOST /_dash-update-component HTTP/1.1\u001b[0m\" 200 -\n",
      "127.0.0.1 - - [11/Dec/2020 21:11:11] \"\u001b[37mPOST /_dash-update-component HTTP/1.1\u001b[0m\" 200 -\n",
      "127.0.0.1 - - [11/Dec/2020 21:11:11] \"\u001b[37mPOST /_dash-update-component HTTP/1.1\u001b[0m\" 200 -\n",
      "127.0.0.1 - - [11/Dec/2020 21:11:11] \"\u001b[37mPOST /_dash-update-component HTTP/1.1\u001b[0m\" 200 -\n",
      "127.0.0.1 - - [11/Dec/2020 21:11:11] \"\u001b[37mPOST /_dash-update-component HTTP/1.1\u001b[0m\" 200 -\n",
      "127.0.0.1 - - [11/Dec/2020 21:11:12] \"\u001b[37mPOST /_dash-update-component HTTP/1.1\u001b[0m\" 200 -\n",
      "127.0.0.1 - - [11/Dec/2020 21:11:12] \"\u001b[37mPOST /_dash-update-component HTTP/1.1\u001b[0m\" 200 -\n",
      "127.0.0.1 - - [11/Dec/2020 21:11:12] \"\u001b[37mPOST /_dash-update-component HTTP/1.1\u001b[0m\" 200 -\n",
      "127.0.0.1 - - [11/Dec/2020 21:11:12] \"\u001b[37mPOST /_dash-update-component HTTP/1.1\u001b[0m\" 200 -\n",
      "127.0.0.1 - - [11/Dec/2020 21:11:12] \"\u001b[37mPOST /_dash-update-component HTTP/1.1\u001b[0m\" 200 -\n",
      "127.0.0.1 - - [11/Dec/2020 21:11:13] \"\u001b[37mPOST /_dash-update-component HTTP/1.1\u001b[0m\" 200 -\n",
      "127.0.0.1 - - [11/Dec/2020 21:11:24] \"\u001b[37mPOST /_dash-update-component HTTP/1.1\u001b[0m\" 200 -\n",
      "127.0.0.1 - - [11/Dec/2020 21:11:24] \"\u001b[37mPOST /_dash-update-component HTTP/1.1\u001b[0m\" 200 -\n",
      "127.0.0.1 - - [11/Dec/2020 21:11:24] \"\u001b[37mPOST /_dash-update-component HTTP/1.1\u001b[0m\" 200 -\n",
      "127.0.0.1 - - [11/Dec/2020 21:11:24] \"\u001b[37mPOST /_dash-update-component HTTP/1.1\u001b[0m\" 200 -\n",
      "127.0.0.1 - - [11/Dec/2020 21:11:24] \"\u001b[37mPOST /_dash-update-component HTTP/1.1\u001b[0m\" 200 -\n",
      "127.0.0.1 - - [11/Dec/2020 21:11:24] \"\u001b[37mPOST /_dash-update-component HTTP/1.1\u001b[0m\" 200 -\n",
      "127.0.0.1 - - [11/Dec/2020 21:11:25] \"\u001b[37mPOST /_dash-update-component HTTP/1.1\u001b[0m\" 200 -\n",
      "127.0.0.1 - - [11/Dec/2020 21:11:25] \"\u001b[37mPOST /_dash-update-component HTTP/1.1\u001b[0m\" 200 -\n",
      "127.0.0.1 - - [11/Dec/2020 21:11:25] \"\u001b[37mPOST /_dash-update-component HTTP/1.1\u001b[0m\" 200 -\n",
      "127.0.0.1 - - [11/Dec/2020 21:11:25] \"\u001b[37mPOST /_dash-update-component HTTP/1.1\u001b[0m\" 200 -\n",
      "127.0.0.1 - - [11/Dec/2020 21:11:25] \"\u001b[37mPOST /_dash-update-component HTTP/1.1\u001b[0m\" 200 -\n",
      "127.0.0.1 - - [11/Dec/2020 21:11:25] \"\u001b[37mPOST /_dash-update-component HTTP/1.1\u001b[0m\" 200 -\n",
      "127.0.0.1 - - [11/Dec/2020 21:11:25] \"\u001b[37mPOST /_dash-update-component HTTP/1.1\u001b[0m\" 200 -\n",
      "127.0.0.1 - - [11/Dec/2020 21:11:25] \"\u001b[37mPOST /_dash-update-component HTTP/1.1\u001b[0m\" 200 -\n",
      "127.0.0.1 - - [11/Dec/2020 21:11:25] \"\u001b[37mPOST /_dash-update-component HTTP/1.1\u001b[0m\" 200 -\n",
      "127.0.0.1 - - [11/Dec/2020 21:11:26] \"\u001b[37mPOST /_dash-update-component HTTP/1.1\u001b[0m\" 200 -\n",
      "127.0.0.1 - - [11/Dec/2020 21:11:26] \"\u001b[37mPOST /_dash-update-component HTTP/1.1\u001b[0m\" 200 -\n",
      "127.0.0.1 - - [11/Dec/2020 21:11:26] \"\u001b[37mPOST /_dash-update-component HTTP/1.1\u001b[0m\" 200 -\n",
      "127.0.0.1 - - [11/Dec/2020 21:11:26] \"\u001b[37mPOST /_dash-update-component HTTP/1.1\u001b[0m\" 200 -\n",
      "127.0.0.1 - - [11/Dec/2020 21:11:26] \"\u001b[37mPOST /_dash-update-component HTTP/1.1\u001b[0m\" 200 -\n",
      "127.0.0.1 - - [11/Dec/2020 21:11:26] \"\u001b[37mPOST /_dash-update-component HTTP/1.1\u001b[0m\" 200 -\n",
      "127.0.0.1 - - [11/Dec/2020 21:11:26] \"\u001b[37mPOST /_dash-update-component HTTP/1.1\u001b[0m\" 200 -\n",
      "127.0.0.1 - - [11/Dec/2020 21:11:26] \"\u001b[37mPOST /_dash-update-component HTTP/1.1\u001b[0m\" 200 -\n",
      "127.0.0.1 - - [11/Dec/2020 21:11:27] \"\u001b[37mPOST /_dash-update-component HTTP/1.1\u001b[0m\" 200 -\n",
      "127.0.0.1 - - [11/Dec/2020 21:11:28] \"\u001b[37mPOST /_dash-update-component HTTP/1.1\u001b[0m\" 200 -\n",
      "127.0.0.1 - - [11/Dec/2020 21:11:28] \"\u001b[37mPOST /_dash-update-component HTTP/1.1\u001b[0m\" 200 -\n",
      "127.0.0.1 - - [11/Dec/2020 21:11:31] \"\u001b[37mPOST /_dash-update-component HTTP/1.1\u001b[0m\" 200 -\n",
      "127.0.0.1 - - [11/Dec/2020 21:11:34] \"\u001b[37mPOST /_dash-update-component HTTP/1.1\u001b[0m\" 200 -\n",
      "127.0.0.1 - - [11/Dec/2020 21:11:35] \"\u001b[37mPOST /_dash-update-component HTTP/1.1\u001b[0m\" 200 -\n"
     ]
    },
    {
     "name": "stdout",
     "output_type": "stream",
     "text": [
      "Updating cached rank dfs with bullfrog\n"
     ]
    },
    {
     "name": "stderr",
     "output_type": "stream",
     "text": [
      "127.0.0.1 - - [11/Dec/2020 21:11:36] \"\u001b[37mPOST /_dash-update-component HTTP/1.1\u001b[0m\" 200 -\n",
      "127.0.0.1 - - [11/Dec/2020 21:11:36] \"\u001b[37mPOST /_dash-update-component HTTP/1.1\u001b[0m\" 200 -\n",
      "127.0.0.1 - - [11/Dec/2020 21:11:37] \"\u001b[37mPOST /_dash-update-component HTTP/1.1\u001b[0m\" 200 -\n"
     ]
    },
    {
     "name": "stdout",
     "output_type": "stream",
     "text": [
      "        edge_num   layer_name  layer  out_channel  in_channel  \\\n",
      "245843    245843  features_10      4          239         147   \n",
      "245828    245828  features_10      4          239         132   \n",
      "245895    245895  features_10      4          239         199   \n",
      "245928    245928  features_10      4          239         232   \n",
      "245788    245788  features_10      4          239          92   \n",
      "245769    245769  features_10      4          239          73   \n",
      "245874    245874  features_10      4          239         178   \n",
      "245832    245832  features_10      4          239         136   \n",
      "245831    245831  features_10      4          239         135   \n",
      "245906    245906  features_10      4          239         210   \n",
      "245840    245840  features_10      4          239         144   \n",
      "245725    245725  features_10      4          239          29   \n",
      "245773    245773  features_10      4          239          77   \n",
      "245930    245930  features_10      4          239         234   \n",
      "245810    245810  features_10      4          239         114   \n",
      "245942    245942  features_10      4          239         246   \n",
      "245737    245737  features_10      4          239          41   \n",
      "245820    245820  features_10      4          239         124   \n",
      "245870    245870  features_10      4          239         174   \n",
      "245889    245889  features_10      4          239         193   \n",
      "\n",
      "        act_prenorm_rank  grad_prenorm_rank  actxgrad_prenorm_rank  \\\n",
      "245843          0.851922            0.00001               0.000013   \n",
      "245828          0.660367            0.00001               0.000002   \n",
      "245895          0.491759            0.00001               0.000009   \n",
      "245928          0.362999            0.00001               0.000001   \n",
      "245788          0.344586            0.00001               0.000005   \n",
      "245769          0.342395            0.00001               0.000003   \n",
      "245874          0.272136            0.00001               0.000003   \n",
      "245832          0.250710            0.00001               0.000005   \n",
      "245831          0.247574            0.00001               0.000002   \n",
      "245906          0.246496            0.00001               0.000005   \n",
      "245840          0.239489            0.00001               0.000002   \n",
      "245725          0.233521            0.00001               0.000002   \n",
      "245773          0.213277            0.00001               0.000003   \n",
      "245930          0.210905            0.00001               0.000004   \n",
      "245810          0.209781            0.00001               0.000001   \n",
      "245942          0.202275            0.00001               0.000002   \n",
      "245737          0.202173            0.00001               0.000003   \n",
      "245820          0.195565            0.00001               0.000002   \n",
      "245870          0.179377            0.00001               0.000002   \n",
      "245889          0.167593            0.00001               0.000003   \n",
      "\n",
      "        act_norm_rank  grad_norm_rank  actxgrad_norm_rank  \n",
      "245843       0.032998        0.005791            0.064044  \n",
      "245828       0.025578        0.005791            0.008381  \n",
      "245895       0.019047        0.005791            0.045505  \n",
      "245928       0.014060        0.005791            0.005515  \n",
      "245788       0.013347        0.005791            0.026277  \n",
      "245769       0.013262        0.005791            0.016130  \n",
      "245874       0.010541        0.005791            0.015259  \n",
      "245832       0.009711        0.005791            0.022951  \n",
      "245831       0.009589        0.005791            0.007943  \n",
      "245906       0.009548        0.005791            0.023478  \n",
      "245840       0.009276        0.005791            0.011697  \n",
      "245725       0.009045        0.005791            0.008487  \n",
      "245773       0.008261        0.005791            0.015427  \n",
      "245930       0.008169        0.005791            0.021725  \n",
      "245810       0.008125        0.005791            0.005703  \n",
      "245942       0.007835        0.005791            0.009949  \n",
      "245737       0.007831        0.005791            0.016979  \n",
      "245820       0.007575        0.005791            0.008060  \n",
      "245870       0.006948        0.005791            0.011470  \n",
      "245889       0.006491        0.005791            0.013302  \n"
     ]
    },
    {
     "name": "stderr",
     "output_type": "stream",
     "text": [
      "127.0.0.1 - - [11/Dec/2020 21:11:49] \"\u001b[37mPOST /_dash-update-component HTTP/1.1\u001b[0m\" 200 -\n",
      "127.0.0.1 - - [11/Dec/2020 21:12:23] \"\u001b[37mPOST /_dash-update-component HTTP/1.1\u001b[0m\" 200 -\n",
      "127.0.0.1 - - [11/Dec/2020 21:12:23] \"\u001b[37mPOST /_dash-update-component HTTP/1.1\u001b[0m\" 200 -\n",
      "127.0.0.1 - - [11/Dec/2020 21:12:24] \"\u001b[37mPOST /_dash-update-component HTTP/1.1\u001b[0m\" 200 -\n",
      "127.0.0.1 - - [11/Dec/2020 21:12:24] \"\u001b[37mPOST /_dash-update-component HTTP/1.1\u001b[0m\" 200 -\n",
      "127.0.0.1 - - [11/Dec/2020 21:12:24] \"\u001b[37mPOST /_dash-update-component HTTP/1.1\u001b[0m\" 200 -\n",
      "127.0.0.1 - - [11/Dec/2020 21:12:24] \"\u001b[37mPOST /_dash-update-component HTTP/1.1\u001b[0m\" 200 -\n",
      "127.0.0.1 - - [11/Dec/2020 21:12:24] \"\u001b[37mPOST /_dash-update-component HTTP/1.1\u001b[0m\" 200 -\n",
      "127.0.0.1 - - [11/Dec/2020 21:12:24] \"\u001b[37mPOST /_dash-update-component HTTP/1.1\u001b[0m\" 200 -\n",
      "127.0.0.1 - - [11/Dec/2020 21:12:24] \"\u001b[37mPOST /_dash-update-component HTTP/1.1\u001b[0m\" 200 -\n",
      "127.0.0.1 - - [11/Dec/2020 21:12:25] \"\u001b[37mPOST /_dash-update-component HTTP/1.1\u001b[0m\" 200 -\n",
      "127.0.0.1 - - [11/Dec/2020 21:12:30] \"\u001b[37mPOST /_dash-update-component HTTP/1.1\u001b[0m\" 200 -\n",
      "127.0.0.1 - - [11/Dec/2020 21:12:30] \"\u001b[37mPOST /_dash-update-component HTTP/1.1\u001b[0m\" 200 -\n",
      "127.0.0.1 - - [11/Dec/2020 21:12:30] \"\u001b[37mPOST /_dash-update-component HTTP/1.1\u001b[0m\" 200 -\n",
      "127.0.0.1 - - [11/Dec/2020 21:12:30] \"\u001b[37mPOST /_dash-update-component HTTP/1.1\u001b[0m\" 200 -\n",
      "127.0.0.1 - - [11/Dec/2020 21:12:30] \"\u001b[37mPOST /_dash-update-component HTTP/1.1\u001b[0m\" 200 -\n",
      "127.0.0.1 - - [11/Dec/2020 21:12:30] \"\u001b[37mPOST /_dash-update-component HTTP/1.1\u001b[0m\" 200 -\n",
      "127.0.0.1 - - [11/Dec/2020 21:12:30] \"\u001b[37mPOST /_dash-update-component HTTP/1.1\u001b[0m\" 200 -\n",
      "127.0.0.1 - - [11/Dec/2020 21:12:30] \"\u001b[37mPOST /_dash-update-component HTTP/1.1\u001b[0m\" 200 -\n",
      "127.0.0.1 - - [11/Dec/2020 21:12:30] \"\u001b[37mPOST /_dash-update-component HTTP/1.1\u001b[0m\" 200 -\n",
      "127.0.0.1 - - [11/Dec/2020 21:12:36] \"\u001b[37mPOST /_dash-update-component HTTP/1.1\u001b[0m\" 200 -\n",
      "127.0.0.1 - - [11/Dec/2020 21:12:36] \"\u001b[37mPOST /_dash-update-component HTTP/1.1\u001b[0m\" 200 -\n",
      "127.0.0.1 - - [11/Dec/2020 21:12:37] \"\u001b[37mPOST /_dash-update-component HTTP/1.1\u001b[0m\" 200 -\n",
      "127.0.0.1 - - [11/Dec/2020 21:12:37] \"\u001b[37mPOST /_dash-update-component HTTP/1.1\u001b[0m\" 200 -\n",
      "127.0.0.1 - - [11/Dec/2020 21:12:37] \"\u001b[37mPOST /_dash-update-component HTTP/1.1\u001b[0m\" 200 -\n",
      "127.0.0.1 - - [11/Dec/2020 21:12:37] \"\u001b[37mPOST /_dash-update-component HTTP/1.1\u001b[0m\" 200 -\n",
      "127.0.0.1 - - [11/Dec/2020 21:12:37] \"\u001b[37mPOST /_dash-update-component HTTP/1.1\u001b[0m\" 200 -\n",
      "127.0.0.1 - - [11/Dec/2020 21:12:37] \"\u001b[37mPOST /_dash-update-component HTTP/1.1\u001b[0m\" 200 -\n",
      "127.0.0.1 - - [11/Dec/2020 21:12:37] \"\u001b[37mPOST /_dash-update-component HTTP/1.1\u001b[0m\" 200 -\n",
      "127.0.0.1 - - [11/Dec/2020 21:12:38] \"\u001b[37mPOST /_dash-update-component HTTP/1.1\u001b[0m\" 200 -\n",
      "127.0.0.1 - - [11/Dec/2020 21:12:46] \"\u001b[37mPOST /_dash-update-component HTTP/1.1\u001b[0m\" 200 -\n",
      "127.0.0.1 - - [11/Dec/2020 21:12:50] \"\u001b[37mPOST /_dash-update-component HTTP/1.1\u001b[0m\" 200 -\n",
      "127.0.0.1 - - [11/Dec/2020 21:12:51] \"\u001b[37mPOST /_dash-update-component HTTP/1.1\u001b[0m\" 200 -\n",
      "127.0.0.1 - - [11/Dec/2020 21:12:55] \"\u001b[37mPOST /_dash-update-component HTTP/1.1\u001b[0m\" 200 -\n",
      "127.0.0.1 - - [11/Dec/2020 21:12:55] \"\u001b[37mPOST /_dash-update-component HTTP/1.1\u001b[0m\" 200 -\n",
      "127.0.0.1 - - [11/Dec/2020 21:12:56] \"\u001b[37mPOST /_dash-update-component HTTP/1.1\u001b[0m\" 200 -\n",
      "127.0.0.1 - - [11/Dec/2020 21:12:56] \"\u001b[37mPOST /_dash-update-component HTTP/1.1\u001b[0m\" 200 -\n"
     ]
    },
    {
     "name": "stdout",
     "output_type": "stream",
     "text": [
      "CALLED: switch_node_actmap_click\n"
     ]
    },
    {
     "name": "stderr",
     "output_type": "stream",
     "text": [
      "127.0.0.1 - - [11/Dec/2020 21:12:56] \"\u001b[37mPOST /_dash-update-component HTTP/1.1\u001b[0m\" 200 -\n"
     ]
    },
    {
     "name": "stdout",
     "output_type": "stream",
     "text": [
      "CALLED: switch_edge_actmaps_click\n",
      "CALLED: update_node_deepviz\n"
     ]
    },
    {
     "name": "stderr",
     "output_type": "stream",
     "text": [
      "127.0.0.1 - - [11/Dec/2020 21:12:56] \"\u001b[37mPOST /_dash-update-component HTTP/1.1\u001b[0m\" 200 -\n"
     ]
    },
    {
     "name": "stdout",
     "output_type": "stream",
     "text": [
      "CALLED: update_node_actmap\n",
      "CALLED: update_node_inputs\n",
      "found pre-generated image\n",
      "CALLED: update_edge_deepviz\n",
      "found pre-generated image\n"
     ]
    },
    {
     "name": "stderr",
     "output_type": "stream",
     "text": [
      "127.0.0.1 - - [11/Dec/2020 21:12:57] \"\u001b[37mPOST /_dash-update-component HTTP/1.1\u001b[0m\" 200 -\n",
      "127.0.0.1 - - [11/Dec/2020 21:12:57] \"\u001b[37mPOST /_dash-update-component HTTP/1.1\u001b[0m\" 200 -\n"
     ]
    },
    {
     "name": "stdout",
     "output_type": "stream",
     "text": [
      "CALLED: update_store\n",
      "\n",
      "TRIGGER edge-actmaps-input.value\n",
      "37-186\n",
      "changing selected node to 1044\n",
      "CALLED: update_edge_kernelmap\n",
      "CALLED: update_edge_inmap\n",
      "CALLED: update_edge_outmap\n"
     ]
    },
    {
     "name": "stderr",
     "output_type": "stream",
     "text": [
      "127.0.0.1 - - [11/Dec/2020 21:12:58] \"\u001b[37mPOST /_dash-update-component HTTP/1.1\u001b[0m\" 200 -\n",
      "127.0.0.1 - - [11/Dec/2020 21:12:59] \"\u001b[37mPOST /_dash-update-component HTTP/1.1\u001b[0m\" 200 -\n",
      "127.0.0.1 - - [11/Dec/2020 21:12:59] \"\u001b[37mPOST /_dash-update-component HTTP/1.1\u001b[0m\" 200 -\n",
      "127.0.0.1 - - [11/Dec/2020 21:12:59] \"\u001b[37mPOST /_dash-update-component HTTP/1.1\u001b[0m\" 200 -\n"
     ]
    },
    {
     "name": "stdout",
     "output_type": "stream",
     "text": [
      "CALLED: update_figure\n",
      "\n",
      "[0.1, 1]\n",
      "['r-2', '37-186', 'g-21', 'g-37', 'r-59', '37-186']\n",
      "['686', '874', '787', '874', '8', '878', '1058', '912', '1135', '1044']\n",
      "updating edge highlight to 37-186\n",
      "updating node highlight to 1044\n",
      "4 239 features_10\n"
     ]
    },
    {
     "name": "stderr",
     "output_type": "stream",
     "text": [
      "127.0.0.1 - - [11/Dec/2020 21:12:59] \"\u001b[37mPOST /_dash-update-component HTTP/1.1\u001b[0m\" 200 -\n",
      "127.0.0.1 - - [11/Dec/2020 21:12:59] \"\u001b[37mPOST /_dash-update-component HTTP/1.1\u001b[0m\" 200 -\n",
      "127.0.0.1 - - [11/Dec/2020 21:13:00] \"\u001b[37mPOST /_dash-update-component HTTP/1.1\u001b[0m\" 200 -\n",
      "127.0.0.1 - - [11/Dec/2020 21:13:00] \"\u001b[37mPOST /_dash-update-component HTTP/1.1\u001b[0m\" 200 -\n",
      "127.0.0.1 - - [11/Dec/2020 21:13:00] \"\u001b[37mPOST /_dash-update-component HTTP/1.1\u001b[0m\" 200 -\n",
      "127.0.0.1 - - [11/Dec/2020 21:13:00] \"\u001b[37mPOST /_dash-update-component HTTP/1.1\u001b[0m\" 200 -\n",
      "127.0.0.1 - - [11/Dec/2020 21:13:00] \"\u001b[37mPOST /_dash-update-component HTTP/1.1\u001b[0m\" 200 -\n"
     ]
    },
    {
     "name": "stdout",
     "output_type": "stream",
     "text": [
      "        edge_num   layer_name  layer  out_channel  in_channel  \\\n",
      "222532    222532  features_10      4          148         132   \n",
      "222632    222632  features_10      4          148         232   \n",
      "222593    222593  features_10      4          148         193   \n",
      "222479    222479  features_10      4          148          79   \n",
      "222472    222472  features_10      4          148          72   \n",
      "222518    222518  features_10      4          148         118   \n",
      "222519    222519  features_10      4          148         119   \n",
      "222456    222456  features_10      4          148          56   \n",
      "222441    222441  features_10      4          148          41   \n",
      "222573    222573  features_10      4          148         173   \n",
      "222477    222477  features_10      4          148          77   \n",
      "222475    222475  features_10      4          148          75   \n",
      "222480    222480  features_10      4          148          80   \n",
      "222447    222447  features_10      4          148          47   \n",
      "222616    222616  features_10      4          148         216   \n",
      "222435    222435  features_10      4          148          35   \n",
      "222599    222599  features_10      4          148         199   \n",
      "222535    222535  features_10      4          148         135   \n",
      "222641    222641  features_10      4          148         241   \n",
      "222644    222644  features_10      4          148         244   \n",
      "\n",
      "        act_prenorm_rank  grad_prenorm_rank  actxgrad_prenorm_rank  \\\n",
      "222532          0.728256           0.000002           3.864456e-07   \n",
      "222632          0.392986           0.000002           4.165191e-07   \n",
      "222593          0.354859           0.000002           6.282208e-07   \n",
      "222479          0.343547           0.000002           2.757726e-07   \n",
      "222472          0.279176           0.000002           8.271852e-07   \n",
      "222518          0.256361           0.000002           5.022068e-07   \n",
      "222519          0.253618           0.000002           2.026684e-07   \n",
      "222456          0.249293           0.000002           3.399137e-07   \n",
      "222441          0.238149           0.000002           7.107832e-07   \n",
      "222573          0.229498           0.000002           8.797690e-08   \n",
      "222477          0.228573           0.000002           3.987274e-07   \n",
      "222475          0.209666           0.000002           1.190407e-07   \n",
      "222480          0.206569           0.000002           3.167540e-07   \n",
      "222447          0.206279           0.000002           2.717677e-07   \n",
      "222616          0.205746           0.000002           8.516939e-07   \n",
      "222435          0.194651           0.000002           2.584165e-07   \n",
      "222599          0.192028           0.000002           1.375697e-07   \n",
      "222535          0.190147           0.000002           1.088348e-07   \n",
      "222641          0.187107           0.000002           1.687132e-07   \n",
      "222644          0.180968           0.000002           3.132493e-07   \n",
      "\n",
      "        act_norm_rank  grad_norm_rank  actxgrad_norm_rank  \n",
      "222532       0.028208        0.001166            0.001946  \n",
      "222632       0.015222        0.001166            0.002098  \n",
      "222593       0.013745        0.001166            0.003164  \n",
      "222479       0.013307        0.001166            0.001389  \n",
      "222472       0.010813        0.001166            0.004166  \n",
      "222518       0.009930        0.001166            0.002529  \n",
      "222519       0.009823        0.001166            0.001021  \n",
      "222456       0.009656        0.001166            0.001712  \n",
      "222441       0.009224        0.001166            0.003579  \n",
      "222573       0.008889        0.001166            0.000443  \n",
      "222477       0.008853        0.001166            0.002008  \n",
      "222475       0.008121        0.001166            0.000599  \n",
      "222480       0.008001        0.001166            0.001595  \n",
      "222447       0.007990        0.001166            0.001369  \n",
      "222616       0.007969        0.001166            0.004289  \n",
      "222435       0.007539        0.001166            0.001301  \n",
      "222599       0.007438        0.001166            0.000693  \n",
      "222535       0.007365        0.001166            0.000548  \n",
      "222641       0.007247        0.001166            0.000850  \n",
      "222644       0.007009        0.001166            0.001578  \n"
     ]
    },
    {
     "name": "stderr",
     "output_type": "stream",
     "text": [
      "127.0.0.1 - - [11/Dec/2020 21:13:00] \"\u001b[37mPOST /_dash-update-component HTTP/1.1\u001b[0m\" 200 -\n",
      "127.0.0.1 - - [11/Dec/2020 21:13:00] \"\u001b[37mPOST /_dash-update-component HTTP/1.1\u001b[0m\" 200 -\n",
      "127.0.0.1 - - [11/Dec/2020 21:13:00] \"\u001b[37mPOST /_dash-update-component HTTP/1.1\u001b[0m\" 200 -\n",
      "127.0.0.1 - - [11/Dec/2020 21:13:00] \"\u001b[37mPOST /_dash-update-component HTTP/1.1\u001b[0m\" 200 -\n",
      "127.0.0.1 - - [11/Dec/2020 21:13:01] \"\u001b[37mPOST /_dash-update-component HTTP/1.1\u001b[0m\" 200 -\n",
      "127.0.0.1 - - [11/Dec/2020 21:13:01] \"\u001b[37mPOST /_dash-update-component HTTP/1.1\u001b[0m\" 200 -\n",
      "127.0.0.1 - - [11/Dec/2020 21:13:01] \"\u001b[37mPOST /_dash-update-component HTTP/1.1\u001b[0m\" 200 -\n",
      "127.0.0.1 - - [11/Dec/2020 21:13:01] \"\u001b[37mPOST /_dash-update-component HTTP/1.1\u001b[0m\" 200 -\n"
     ]
    },
    {
     "name": "stdout",
     "output_type": "stream",
     "text": [
      "CALLED: update_inputimg_dropdown options\n"
     ]
    },
    {
     "name": "stderr",
     "output_type": "stream",
     "text": [
      "127.0.0.1 - - [11/Dec/2020 21:13:02] \"\u001b[37mPOST /_dash-update-component HTTP/1.1\u001b[0m\" 200 -\n",
      "127.0.0.1 - - [11/Dec/2020 21:13:06] \"\u001b[37mPOST /_dash-update-component HTTP/1.1\u001b[0m\" 200 -\n",
      "127.0.0.1 - - [11/Dec/2020 21:13:06] \"\u001b[37mPOST /_dash-update-component HTTP/1.1\u001b[0m\" 200 -\n",
      "127.0.0.1 - - [11/Dec/2020 21:13:07] \"\u001b[37mPOST /_dash-update-component HTTP/1.1\u001b[0m\" 200 -\n",
      "127.0.0.1 - - [11/Dec/2020 21:13:07] \"\u001b[37mPOST /_dash-update-component HTTP/1.1\u001b[0m\" 200 -\n",
      "127.0.0.1 - - [11/Dec/2020 21:13:07] \"\u001b[37mPOST /_dash-update-component HTTP/1.1\u001b[0m\" 200 -\n",
      "127.0.0.1 - - [11/Dec/2020 21:13:07] \"\u001b[37mPOST /_dash-update-component HTTP/1.1\u001b[0m\" 200 -\n",
      "127.0.0.1 - - [11/Dec/2020 21:13:07] \"\u001b[37mPOST /_dash-update-component HTTP/1.1\u001b[0m\" 200 -\n",
      "127.0.0.1 - - [11/Dec/2020 21:13:11] \"\u001b[37mPOST /_dash-update-component HTTP/1.1\u001b[0m\" 200 -\n",
      "127.0.0.1 - - [11/Dec/2020 21:13:11] \"\u001b[37mPOST /_dash-update-component HTTP/1.1\u001b[0m\" 200 -\n",
      "127.0.0.1 - - [11/Dec/2020 21:13:11] \"\u001b[37mPOST /_dash-update-component HTTP/1.1\u001b[0m\" 200 -\n",
      "127.0.0.1 - - [11/Dec/2020 21:13:15] \"\u001b[37mPOST /_dash-update-component HTTP/1.1\u001b[0m\" 200 -\n",
      "127.0.0.1 - - [11/Dec/2020 21:13:15] \"\u001b[37mPOST /_dash-update-component HTTP/1.1\u001b[0m\" 200 -\n",
      "127.0.0.1 - - [11/Dec/2020 21:13:15] \"\u001b[37mPOST /_dash-update-component HTTP/1.1\u001b[0m\" 200 -\n",
      "127.0.0.1 - - [11/Dec/2020 21:13:16] \"\u001b[37mPOST /_dash-update-component HTTP/1.1\u001b[0m\" 200 -\n",
      "127.0.0.1 - - [11/Dec/2020 21:13:16] \"\u001b[37mPOST /_dash-update-component HTTP/1.1\u001b[0m\" 200 -\n",
      "127.0.0.1 - - [11/Dec/2020 21:13:18] \"\u001b[37mPOST /_dash-update-component HTTP/1.1\u001b[0m\" 200 -\n",
      "127.0.0.1 - - [11/Dec/2020 21:13:18] \"\u001b[37mPOST /_dash-update-component HTTP/1.1\u001b[0m\" 200 -\n",
      "127.0.0.1 - - [11/Dec/2020 21:13:21] \"\u001b[37mPOST /_dash-update-component HTTP/1.1\u001b[0m\" 200 -\n",
      "127.0.0.1 - - [11/Dec/2020 21:13:21] \"\u001b[37mPOST /_dash-update-component HTTP/1.1\u001b[0m\" 200 -\n",
      "127.0.0.1 - - [11/Dec/2020 21:13:21] \"\u001b[37mPOST /_dash-update-component HTTP/1.1\u001b[0m\" 200 -\n",
      "127.0.0.1 - - [11/Dec/2020 21:13:21] \"\u001b[37mPOST /_dash-update-component HTTP/1.1\u001b[0m\" 200 -\n",
      "127.0.0.1 - - [11/Dec/2020 21:13:22] \"\u001b[37mPOST /_dash-update-component HTTP/1.1\u001b[0m\" 200 -\n",
      "127.0.0.1 - - [11/Dec/2020 21:13:22] \"\u001b[37mPOST /_dash-update-component HTTP/1.1\u001b[0m\" 200 -\n",
      "127.0.0.1 - - [11/Dec/2020 21:13:23] \"\u001b[37mPOST /_dash-update-component HTTP/1.1\u001b[0m\" 200 -\n",
      "127.0.0.1 - - [11/Dec/2020 21:13:23] \"\u001b[37mPOST /_dash-update-component HTTP/1.1\u001b[0m\" 200 -\n",
      "127.0.0.1 - - [11/Dec/2020 21:13:24] \"\u001b[37mPOST /_dash-update-component HTTP/1.1\u001b[0m\" 200 -\n",
      "127.0.0.1 - - [11/Dec/2020 21:13:24] \"\u001b[37mPOST /_dash-update-component HTTP/1.1\u001b[0m\" 200 -\n",
      "127.0.0.1 - - [11/Dec/2020 21:13:24] \"\u001b[37mPOST /_dash-update-component HTTP/1.1\u001b[0m\" 200 -\n",
      "127.0.0.1 - - [11/Dec/2020 21:13:25] \"\u001b[37mPOST /_dash-update-component HTTP/1.1\u001b[0m\" 200 -\n",
      "127.0.0.1 - - [11/Dec/2020 21:13:25] \"\u001b[37mPOST /_dash-update-component HTTP/1.1\u001b[0m\" 200 -\n",
      "127.0.0.1 - - [11/Dec/2020 21:13:26] \"\u001b[37mPOST /_dash-update-component HTTP/1.1\u001b[0m\" 200 -\n",
      "127.0.0.1 - - [11/Dec/2020 21:13:26] \"\u001b[37mPOST /_dash-update-component HTTP/1.1\u001b[0m\" 200 -\n",
      "127.0.0.1 - - [11/Dec/2020 21:13:26] \"\u001b[37mPOST /_dash-update-component HTTP/1.1\u001b[0m\" 200 -\n",
      "127.0.0.1 - - [11/Dec/2020 21:13:26] \"\u001b[37mPOST /_dash-update-component HTTP/1.1\u001b[0m\" 200 -\n",
      "127.0.0.1 - - [11/Dec/2020 21:13:26] \"\u001b[37mPOST /_dash-update-component HTTP/1.1\u001b[0m\" 200 -\n",
      "127.0.0.1 - - [11/Dec/2020 21:13:27] \"\u001b[37mPOST /_dash-update-component HTTP/1.1\u001b[0m\" 200 -\n",
      "127.0.0.1 - - [11/Dec/2020 21:13:27] \"\u001b[37mPOST /_dash-update-component HTTP/1.1\u001b[0m\" 200 -\n",
      "127.0.0.1 - - [11/Dec/2020 21:13:27] \"\u001b[37mPOST /_dash-update-component HTTP/1.1\u001b[0m\" 200 -\n",
      "127.0.0.1 - - [11/Dec/2020 21:13:27] \"\u001b[37mPOST /_dash-update-component HTTP/1.1\u001b[0m\" 200 -\n",
      "127.0.0.1 - - [11/Dec/2020 21:13:27] \"\u001b[37mPOST /_dash-update-component HTTP/1.1\u001b[0m\" 200 -\n",
      "127.0.0.1 - - [11/Dec/2020 21:13:27] \"\u001b[37mPOST /_dash-update-component HTTP/1.1\u001b[0m\" 200 -\n",
      "127.0.0.1 - - [11/Dec/2020 21:13:28] \"\u001b[37mPOST /_dash-update-component HTTP/1.1\u001b[0m\" 200 -\n",
      "127.0.0.1 - - [11/Dec/2020 21:13:29] \"\u001b[37mPOST /_dash-update-component HTTP/1.1\u001b[0m\" 200 -\n",
      "127.0.0.1 - - [11/Dec/2020 21:13:29] \"\u001b[37mPOST /_dash-update-component HTTP/1.1\u001b[0m\" 200 -\n",
      "127.0.0.1 - - [11/Dec/2020 21:13:30] \"\u001b[37mPOST /_dash-update-component HTTP/1.1\u001b[0m\" 200 -\n",
      "127.0.0.1 - - [11/Dec/2020 21:13:31] \"\u001b[37mPOST /_dash-update-component HTTP/1.1\u001b[0m\" 200 -\n",
      "127.0.0.1 - - [11/Dec/2020 21:13:31] \"\u001b[37mPOST /_dash-update-component HTTP/1.1\u001b[0m\" 200 -\n",
      "127.0.0.1 - - [11/Dec/2020 21:13:32] \"\u001b[37mPOST /_dash-update-component HTTP/1.1\u001b[0m\" 200 -\n",
      "127.0.0.1 - - [11/Dec/2020 21:13:34] \"\u001b[37mPOST /_dash-update-component HTTP/1.1\u001b[0m\" 200 -\n",
      "127.0.0.1 - - [11/Dec/2020 21:13:36] \"\u001b[37mPOST /_dash-update-component HTTP/1.1\u001b[0m\" 200 -\n",
      "127.0.0.1 - - [11/Dec/2020 21:13:36] \"\u001b[37mPOST /_dash-update-component HTTP/1.1\u001b[0m\" 200 -\n",
      "127.0.0.1 - - [11/Dec/2020 21:13:38] \"\u001b[37mPOST /_dash-update-component HTTP/1.1\u001b[0m\" 200 -\n",
      "127.0.0.1 - - [11/Dec/2020 21:13:38] \"\u001b[37mPOST /_dash-update-component HTTP/1.1\u001b[0m\" 200 -\n"
     ]
    },
    {
     "name": "stdout",
     "output_type": "stream",
     "text": [
      "CALLED: switch_node_actmap_click\n"
     ]
    },
    {
     "name": "stderr",
     "output_type": "stream",
     "text": [
      "127.0.0.1 - - [11/Dec/2020 21:13:39] \"\u001b[37mPOST /_dash-update-component HTTP/1.1\u001b[0m\" 200 -\n",
      "127.0.0.1 - - [11/Dec/2020 21:13:39] \"\u001b[37mPOST /_dash-update-component HTTP/1.1\u001b[0m\" 200 -\n"
     ]
    },
    {
     "name": "stdout",
     "output_type": "stream",
     "text": [
      "CALLED: switch_edge_actmaps_click\n",
      "CALLED: update_node_deepviz\n",
      "CALLED: update_node_inputs\n",
      "CALLED: update_node_actmap\n",
      "found pre-generated image\n",
      "CALLED: update_edge_deepviz\n",
      "found pre-generated image\n"
     ]
    },
    {
     "name": "stderr",
     "output_type": "stream",
     "text": [
      "127.0.0.1 - - [11/Dec/2020 21:13:40] \"\u001b[37mPOST /_dash-update-component HTTP/1.1\u001b[0m\" 200 -\n",
      "127.0.0.1 - - [11/Dec/2020 21:13:40] \"\u001b[37mPOST /_dash-update-component HTTP/1.1\u001b[0m\" 200 -\n"
     ]
    },
    {
     "name": "stdout",
     "output_type": "stream",
     "text": [
      "CALLED: update_store\n",
      "\n",
      "TRIGGER edge-actmaps-input.value\n",
      "37-186\n",
      "changing selected node to 839\n",
      "CALLED: update_edge_kernelmap\n",
      "CALLED: update_edge_inmap\n",
      "CALLED: update_edge_outmap\n"
     ]
    },
    {
     "name": "stderr",
     "output_type": "stream",
     "text": [
      "127.0.0.1 - - [11/Dec/2020 21:13:41] \"\u001b[37mPOST /_dash-update-component HTTP/1.1\u001b[0m\" 200 -\n",
      "127.0.0.1 - - [11/Dec/2020 21:13:42] \"\u001b[37mPOST /_dash-update-component HTTP/1.1\u001b[0m\" 200 -\n",
      "127.0.0.1 - - [11/Dec/2020 21:13:42] \"\u001b[37mPOST /_dash-update-component HTTP/1.1\u001b[0m\" 200 -\n",
      "127.0.0.1 - - [11/Dec/2020 21:13:42] \"\u001b[37mPOST /_dash-update-component HTTP/1.1\u001b[0m\" 200 -\n"
     ]
    },
    {
     "name": "stdout",
     "output_type": "stream",
     "text": [
      "CALLED: update_figure\n",
      "\n",
      "[0.1, 1]\n",
      "['r-2', '37-186', 'g-21', 'g-37', 'r-59', '37-186']\n",
      "['874', '787', '874', '8', '878', '1058', '912', '1135', '1044', '839']\n",
      "updating edge highlight to 37-186\n",
      "updating node highlight to 839\n",
      "4 148 features_10\n"
     ]
    },
    {
     "name": "stderr",
     "output_type": "stream",
     "text": [
      "127.0.0.1 - - [11/Dec/2020 21:13:42] \"\u001b[37mPOST /_dash-update-component HTTP/1.1\u001b[0m\" 200 -\n",
      "127.0.0.1 - - [11/Dec/2020 21:13:42] \"\u001b[37mPOST /_dash-update-component HTTP/1.1\u001b[0m\" 200 -\n",
      "127.0.0.1 - - [11/Dec/2020 21:13:42] \"\u001b[37mPOST /_dash-update-component HTTP/1.1\u001b[0m\" 200 -\n",
      "127.0.0.1 - - [11/Dec/2020 21:13:43] \"\u001b[37mPOST /_dash-update-component HTTP/1.1\u001b[0m\" 200 -\n",
      "127.0.0.1 - - [11/Dec/2020 21:13:43] \"\u001b[37mPOST /_dash-update-component HTTP/1.1\u001b[0m\" 200 -\n",
      "127.0.0.1 - - [11/Dec/2020 21:13:43] \"\u001b[37mPOST /_dash-update-component HTTP/1.1\u001b[0m\" 200 -\n"
     ]
    },
    {
     "name": "stdout",
     "output_type": "stream",
     "text": [
      "        edge_num  layer_name  layer  out_channel  in_channel  \\\n",
      "163004    163004  features_8      3          199         380   \n",
      "162874    162874  features_8      3          199         250   \n",
      "162757    162757  features_8      3          199         133   \n",
      "162685    162685  features_8      3          199          61   \n",
      "162790    162790  features_8      3          199         166   \n",
      "162815    162815  features_8      3          199         191   \n",
      "162837    162837  features_8      3          199         213   \n",
      "163005    163005  features_8      3          199         381   \n",
      "163007    163007  features_8      3          199         383   \n",
      "162783    162783  features_8      3          199         159   \n",
      "162903    162903  features_8      3          199         279   \n",
      "162792    162792  features_8      3          199         168   \n",
      "162961    162961  features_8      3          199         337   \n",
      "162654    162654  features_8      3          199          30   \n",
      "162913    162913  features_8      3          199         289   \n",
      "162800    162800  features_8      3          199         176   \n",
      "162767    162767  features_8      3          199         143   \n",
      "162963    162963  features_8      3          199         339   \n",
      "162687    162687  features_8      3          199          63   \n",
      "162979    162979  features_8      3          199         355   \n",
      "\n",
      "        act_prenorm_rank  grad_prenorm_rank  actxgrad_prenorm_rank  \\\n",
      "163004          0.352822           0.000027               0.000006   \n",
      "162874          0.330376           0.000027               0.000010   \n",
      "162757          0.308197           0.000027               0.000013   \n",
      "162685          0.303895           0.000027               0.000017   \n",
      "162790          0.299426           0.000027               0.000009   \n",
      "162815          0.297316           0.000027               0.000017   \n",
      "162837          0.296575           0.000027               0.000021   \n",
      "163005          0.277467           0.000027               0.000006   \n",
      "163007          0.272160           0.000027               0.000010   \n",
      "162783          0.266969           0.000027               0.000012   \n",
      "162903          0.256619           0.000027               0.000008   \n",
      "162792          0.247946           0.000027               0.000006   \n",
      "162961          0.246385           0.000027               0.000007   \n",
      "162654          0.243335           0.000027               0.000006   \n",
      "162913          0.227283           0.000027               0.000004   \n",
      "162800          0.224662           0.000027               0.000007   \n",
      "162767          0.221988           0.000027               0.000011   \n",
      "162963          0.221878           0.000027               0.000007   \n",
      "162687          0.220918           0.000027               0.000003   \n",
      "162979          0.215118           0.000027               0.000008   \n",
      "\n",
      "        act_norm_rank  grad_norm_rank  actxgrad_norm_rank  \n",
      "163004       0.011531        0.009016            0.019645  \n",
      "162874       0.010797        0.009016            0.034022  \n",
      "162757       0.010072        0.009016            0.042545  \n",
      "162685       0.009932        0.009016            0.057456  \n",
      "162790       0.009786        0.009016            0.029858  \n",
      "162815       0.009717        0.009016            0.055497  \n",
      "162837       0.009693        0.009016            0.070510  \n",
      "163005       0.009068        0.009016            0.018816  \n",
      "163007       0.008895        0.009016            0.033739  \n",
      "162783       0.008725        0.009016            0.041469  \n",
      "162903       0.008387        0.009016            0.026378  \n",
      "162792       0.008103        0.009016            0.019185  \n",
      "162961       0.008052        0.009016            0.022786  \n",
      "162654       0.007953        0.009016            0.020592  \n",
      "162913       0.007428        0.009016            0.013878  \n",
      "162800       0.007342        0.009016            0.022979  \n",
      "162767       0.007255        0.009016            0.037453  \n",
      "162963       0.007251        0.009016            0.024759  \n",
      "162687       0.007220        0.009016            0.011222  \n",
      "162979       0.007030        0.009016            0.027285  \n",
      "CALLED: update_inputimg_dropdown options\n",
      "CALLED: update_node_inputs\n",
      "CALLED: update_store\n",
      "\n",
      "TRIGGER subgraph-criterion.value\n",
      "changing weighting criterion to actxgrad\n",
      "\n"
     ]
    },
    {
     "name": "stderr",
     "output_type": "stream",
     "text": [
      "127.0.0.1 - - [11/Dec/2020 21:14:03] \"\u001b[37mPOST /_dash-update-component HTTP/1.1\u001b[0m\" 200 -\n",
      "127.0.0.1 - - [11/Dec/2020 21:14:03] \"\u001b[37mPOST /_dash-update-component HTTP/1.1\u001b[0m\" 200 -\n",
      "127.0.0.1 - - [11/Dec/2020 21:14:03] \"\u001b[37mPOST /_dash-update-component HTTP/1.1\u001b[0m\" 200 -\n",
      "127.0.0.1 - - [11/Dec/2020 21:14:04] \"\u001b[37mPOST /_dash-update-component HTTP/1.1\u001b[0m\" 200 -\n"
     ]
    },
    {
     "name": "stdout",
     "output_type": "stream",
     "text": [
      "        edge_num  layer_name  layer  out_channel  in_channel  \\\n",
      "162837    162837  features_8      3          199         213   \n",
      "162685    162685  features_8      3          199          61   \n",
      "162815    162815  features_8      3          199         191   \n",
      "162867    162867  features_8      3          199         243   \n",
      "162757    162757  features_8      3          199         133   \n",
      "162783    162783  features_8      3          199         159   \n",
      "162649    162649  features_8      3          199          25   \n",
      "162767    162767  features_8      3          199         143   \n",
      "162712    162712  features_8      3          199          88   \n",
      "162874    162874  features_8      3          199         250   \n",
      "163007    163007  features_8      3          199         383   \n",
      "162987    162987  features_8      3          199         363   \n",
      "162863    162863  features_8      3          199         239   \n",
      "162790    162790  features_8      3          199         166   \n",
      "162632    162632  features_8      3          199           8   \n",
      "162813    162813  features_8      3          199         189   \n",
      "162979    162979  features_8      3          199         355   \n",
      "162903    162903  features_8      3          199         279   \n",
      "162801    162801  features_8      3          199         177   \n",
      "162740    162740  features_8      3          199         116   \n",
      "\n",
      "        act_prenorm_rank  grad_prenorm_rank  actxgrad_prenorm_rank  \\\n",
      "162837          0.296575           0.000027               0.000021   \n",
      "162685          0.303895           0.000027               0.000017   \n",
      "162815          0.297316           0.000027               0.000017   \n",
      "162867          0.202113           0.000027               0.000013   \n",
      "162757          0.308197           0.000027               0.000013   \n",
      "162783          0.266969           0.000027               0.000012   \n",
      "162649          0.187257           0.000027               0.000012   \n",
      "162767          0.221988           0.000027               0.000011   \n",
      "162712          0.181451           0.000027               0.000010   \n",
      "162874          0.330376           0.000027               0.000010   \n",
      "163007          0.272160           0.000027               0.000010   \n",
      "162987          0.189840           0.000027               0.000010   \n",
      "162863          0.110120           0.000027               0.000009   \n",
      "162790          0.299426           0.000027               0.000009   \n",
      "162632          0.161120           0.000027               0.000009   \n",
      "162813          0.164901           0.000027               0.000008   \n",
      "162979          0.215118           0.000027               0.000008   \n",
      "162903          0.256619           0.000027               0.000008   \n",
      "162801          0.160929           0.000027               0.000008   \n",
      "162740          0.167017           0.000027               0.000008   \n",
      "\n",
      "        act_norm_rank  grad_norm_rank  actxgrad_norm_rank  \n",
      "162837       0.009693        0.009016            0.070510  \n",
      "162685       0.009932        0.009016            0.057456  \n",
      "162815       0.009717        0.009016            0.055497  \n",
      "162867       0.006605        0.009016            0.045030  \n",
      "162757       0.010072        0.009016            0.042545  \n",
      "162783       0.008725        0.009016            0.041469  \n",
      "162649       0.006120        0.009016            0.039477  \n",
      "162767       0.007255        0.009016            0.037453  \n",
      "162712       0.005930        0.009016            0.035116  \n",
      "162874       0.010797        0.009016            0.034022  \n",
      "163007       0.008895        0.009016            0.033739  \n",
      "162987       0.006204        0.009016            0.032489  \n",
      "162863       0.003599        0.009016            0.030114  \n",
      "162790       0.009786        0.009016            0.029858  \n",
      "162632       0.005266        0.009016            0.028920  \n",
      "162813       0.005389        0.009016            0.027524  \n",
      "162979       0.007030        0.009016            0.027285  \n",
      "162903       0.008387        0.009016            0.026378  \n",
      "162801       0.005259        0.009016            0.026352  \n",
      "162740       0.005458        0.009016            0.026137  \n"
     ]
    },
    {
     "name": "stderr",
     "output_type": "stream",
     "text": [
      "127.0.0.1 - - [11/Dec/2020 21:14:04] \"\u001b[37mPOST /_dash-update-component HTTP/1.1\u001b[0m\" 200 -\n"
     ]
    },
    {
     "name": "stdout",
     "output_type": "stream",
     "text": [
      "CALLED: update_figure\n",
      "\n",
      "[0.1, 1]\n",
      "['r-2', '37-186', 'g-21', 'g-37', 'r-59', '37-186']\n",
      "['874', '787', '874', '8', '878', '1058', '912', '1135', '1044', '839']\n",
      "building graph from browser \"state\"\n"
     ]
    },
    {
     "name": "stderr",
     "output_type": "stream",
     "text": [
      "127.0.0.1 - - [11/Dec/2020 21:14:04] \"\u001b[37mPOST /_dash-update-component HTTP/1.1\u001b[0m\" 200 -\n",
      "127.0.0.1 - - [11/Dec/2020 21:14:06] \"\u001b[37mPOST /_dash-update-component HTTP/1.1\u001b[0m\" 200 -\n",
      "127.0.0.1 - - [11/Dec/2020 21:14:06] \"\u001b[37mPOST /_dash-update-component HTTP/1.1\u001b[0m\" 200 -\n",
      "127.0.0.1 - - [11/Dec/2020 21:14:07] \"\u001b[37mPOST /_dash-update-component HTTP/1.1\u001b[0m\" 200 -\n",
      "127.0.0.1 - - [11/Dec/2020 21:14:07] \"\u001b[37mPOST /_dash-update-component HTTP/1.1\u001b[0m\" 200 -\n",
      "127.0.0.1 - - [11/Dec/2020 21:14:07] \"\u001b[37mPOST /_dash-update-component HTTP/1.1\u001b[0m\" 200 -\n",
      "127.0.0.1 - - [11/Dec/2020 21:14:07] \"\u001b[37mPOST /_dash-update-component HTTP/1.1\u001b[0m\" 200 -\n",
      "127.0.0.1 - - [11/Dec/2020 21:14:11] \"\u001b[37mPOST /_dash-update-component HTTP/1.1\u001b[0m\" 200 -\n",
      "127.0.0.1 - - [11/Dec/2020 21:14:13] \"\u001b[37mPOST /_dash-update-component HTTP/1.1\u001b[0m\" 200 -\n",
      "127.0.0.1 - - [11/Dec/2020 21:14:13] \"\u001b[37mPOST /_dash-update-component HTTP/1.1\u001b[0m\" 200 -\n",
      "127.0.0.1 - - [11/Dec/2020 21:14:13] \"\u001b[37mPOST /_dash-update-component HTTP/1.1\u001b[0m\" 200 -\n",
      "127.0.0.1 - - [11/Dec/2020 21:14:14] \"\u001b[37mPOST /_dash-update-component HTTP/1.1\u001b[0m\" 200 -\n",
      "127.0.0.1 - - [11/Dec/2020 21:14:14] \"\u001b[37mPOST /_dash-update-component HTTP/1.1\u001b[0m\" 200 -\n",
      "127.0.0.1 - - [11/Dec/2020 21:14:14] \"\u001b[37mPOST /_dash-update-component HTTP/1.1\u001b[0m\" 200 -\n",
      "127.0.0.1 - - [11/Dec/2020 21:14:15] \"\u001b[37mPOST /_dash-update-component HTTP/1.1\u001b[0m\" 200 -\n",
      "127.0.0.1 - - [11/Dec/2020 21:14:15] \"\u001b[37mPOST /_dash-update-component HTTP/1.1\u001b[0m\" 200 -\n",
      "127.0.0.1 - - [11/Dec/2020 21:14:15] \"\u001b[37mPOST /_dash-update-component HTTP/1.1\u001b[0m\" 200 -\n",
      "127.0.0.1 - - [11/Dec/2020 21:14:16] \"\u001b[37mPOST /_dash-update-component HTTP/1.1\u001b[0m\" 200 -\n",
      "127.0.0.1 - - [11/Dec/2020 21:14:16] \"\u001b[37mPOST /_dash-update-component HTTP/1.1\u001b[0m\" 200 -\n"
     ]
    },
    {
     "name": "stdout",
     "output_type": "stream",
     "text": [
      "CALLED: switch_node_actmap_click\n"
     ]
    },
    {
     "name": "stderr",
     "output_type": "stream",
     "text": [
      "127.0.0.1 - - [11/Dec/2020 21:14:19] \"\u001b[37mPOST /_dash-update-component HTTP/1.1\u001b[0m\" 200 -\n",
      "127.0.0.1 - - [11/Dec/2020 21:14:19] \"\u001b[37mPOST /_dash-update-component HTTP/1.1\u001b[0m\" 200 -\n"
     ]
    },
    {
     "name": "stdout",
     "output_type": "stream",
     "text": [
      "CALLED: switch_edge_actmaps_click\n",
      "CALLED: update_node_deepviz\n",
      "CALLED: update_node_inputs\n",
      "CALLED: update_node_actmap\n",
      "found pre-generated image\n",
      "CALLED: update_edge_deepviz\n",
      "found pre-generated image\n"
     ]
    },
    {
     "name": "stderr",
     "output_type": "stream",
     "text": [
      "127.0.0.1 - - [11/Dec/2020 21:14:20] \"\u001b[37mPOST /_dash-update-component HTTP/1.1\u001b[0m\" 200 -\n",
      "127.0.0.1 - - [11/Dec/2020 21:14:20] \"\u001b[37mPOST /_dash-update-component HTTP/1.1\u001b[0m\" 200 -\n"
     ]
    },
    {
     "name": "stdout",
     "output_type": "stream",
     "text": [
      "CALLED: update_edge_kernelmap\n",
      "CALLED: update_store\n",
      "\n",
      "TRIGGER edge-actmaps-input.value\n",
      "37-186\n",
      "changing selected node to 787\n",
      "CALLED: update_edge_inmap\n",
      "CALLED: update_edge_outmap\n"
     ]
    },
    {
     "name": "stderr",
     "output_type": "stream",
     "text": [
      "127.0.0.1 - - [11/Dec/2020 21:14:21] \"\u001b[37mPOST /_dash-update-component HTTP/1.1\u001b[0m\" 200 -\n",
      "127.0.0.1 - - [11/Dec/2020 21:14:22] \"\u001b[37mPOST /_dash-update-component HTTP/1.1\u001b[0m\" 200 -\n",
      "127.0.0.1 - - [11/Dec/2020 21:14:22] \"\u001b[37mPOST /_dash-update-component HTTP/1.1\u001b[0m\" 200 -\n",
      "127.0.0.1 - - [11/Dec/2020 21:14:22] \"\u001b[37mPOST /_dash-update-component HTTP/1.1\u001b[0m\" 200 -\n",
      "127.0.0.1 - - [11/Dec/2020 21:14:22] \"\u001b[37mPOST /_dash-update-component HTTP/1.1\u001b[0m\" 200 -\n",
      "127.0.0.1 - - [11/Dec/2020 21:14:23] \"\u001b[37mPOST /_dash-update-component HTTP/1.1\u001b[0m\" 200 -\n",
      "127.0.0.1 - - [11/Dec/2020 21:14:23] \"\u001b[37mPOST /_dash-update-component HTTP/1.1\u001b[0m\" 200 -\n",
      "127.0.0.1 - - [11/Dec/2020 21:14:23] \"\u001b[37mPOST /_dash-update-component HTTP/1.1\u001b[0m\" 200 -\n"
     ]
    },
    {
     "name": "stdout",
     "output_type": "stream",
     "text": [
      "        edge_num  layer_name  layer  out_channel  in_channel  \\\n",
      "142777    142777  features_8      3          147         121   \n",
      "142952    142952  features_8      3          147         296   \n",
      "142970    142970  features_8      3          147         314   \n",
      "142822    142822  features_8      3          147         166   \n",
      "142724    142724  features_8      3          147          68   \n",
      "142900    142900  features_8      3          147         244   \n",
      "143036    143036  features_8      3          147         380   \n",
      "142869    142869  features_8      3          147         213   \n",
      "142930    142930  features_8      3          147         274   \n",
      "142717    142717  features_8      3          147          61   \n",
      "142719    142719  features_8      3          147          63   \n",
      "143039    143039  features_8      3          147         383   \n",
      "142891    142891  features_8      3          147         235   \n",
      "142824    142824  features_8      3          147         168   \n",
      "142660    142660  features_8      3          147           4   \n",
      "142759    142759  features_8      3          147         103   \n",
      "142748    142748  features_8      3          147          92   \n",
      "142769    142769  features_8      3          147         113   \n",
      "142949    142949  features_8      3          147         293   \n",
      "142968    142968  features_8      3          147         312   \n",
      "\n",
      "        act_prenorm_rank  grad_prenorm_rank  actxgrad_prenorm_rank  \\\n",
      "142777          0.516711           0.000021               0.000014   \n",
      "142952          0.221171           0.000021               0.000010   \n",
      "142970          0.273905           0.000021               0.000009   \n",
      "142822          0.386340           0.000021               0.000009   \n",
      "142724          0.350081           0.000021               0.000008   \n",
      "142900          0.189724           0.000021               0.000007   \n",
      "143036          0.382727           0.000021               0.000007   \n",
      "142869          0.172596           0.000021               0.000007   \n",
      "142930          0.286430           0.000021               0.000007   \n",
      "142717          0.126890           0.000021               0.000007   \n",
      "142719          0.292316           0.000021               0.000006   \n",
      "143039          0.197094           0.000021               0.000006   \n",
      "142891          0.157683           0.000021               0.000005   \n",
      "142824          0.216413           0.000021               0.000005   \n",
      "142660          0.178140           0.000021               0.000005   \n",
      "142759          0.210702           0.000021               0.000005   \n",
      "142748          0.169445           0.000021               0.000005   \n",
      "142769          0.171137           0.000021               0.000005   \n",
      "142949          0.214770           0.000021               0.000004   \n",
      "142968          0.129965           0.000021               0.000004   \n",
      "\n",
      "        act_norm_rank  grad_norm_rank  actxgrad_norm_rank  \n",
      "142777       0.016887        0.006945            0.048401  \n",
      "142952       0.007228        0.006945            0.032124  \n",
      "142970       0.008952        0.006945            0.028779  \n",
      "142822       0.012626        0.006945            0.028493  \n",
      "142724       0.011441        0.006945            0.026079  \n",
      "142900       0.006200        0.006945            0.024917  \n",
      "143036       0.012508        0.006945            0.024909  \n",
      "142869       0.005641        0.006945            0.024573  \n",
      "142930       0.009361        0.006945            0.023053  \n",
      "142717       0.004147        0.006945            0.021940  \n",
      "142719       0.009553        0.006945            0.019622  \n",
      "143039       0.006441        0.006945            0.019059  \n",
      "142891       0.005153        0.006945            0.017438  \n",
      "142824       0.007073        0.006945            0.016062  \n",
      "142660       0.005822        0.006945            0.016050  \n",
      "142759       0.006886        0.006945            0.015688  \n",
      "142748       0.005538        0.006945            0.015368  \n",
      "142769       0.005593        0.006945            0.015330  \n",
      "142949       0.007019        0.006945            0.015011  \n",
      "142968       0.004247        0.006945            0.014523  \n",
      "CALLED: update_figure\n",
      "\n",
      "[0.1, 1]\n",
      "['r-2', '37-186', 'g-21', 'g-37', 'r-59', '37-186']\n",
      "['787', '874', '8', '878', '1058', '912', '1135', '1044', '839', '787']\n",
      "updating edge highlight to 37-186\n",
      "select edge, 37-186,  not recolored as no longer shown\n",
      "updating node highlight to 787\n",
      "3 199 features_8\n"
     ]
    },
    {
     "name": "stderr",
     "output_type": "stream",
     "text": [
      "127.0.0.1 - - [11/Dec/2020 21:14:23] \"\u001b[37mPOST /_dash-update-component HTTP/1.1\u001b[0m\" 200 -\n"
     ]
    },
    {
     "name": "stdout",
     "output_type": "stream",
     "text": [
      "CALLED: update_inputimg_dropdown options\n"
     ]
    },
    {
     "name": "stderr",
     "output_type": "stream",
     "text": [
      "127.0.0.1 - - [11/Dec/2020 21:14:24] \"\u001b[37mPOST /_dash-update-component HTTP/1.1\u001b[0m\" 200 -\n",
      "127.0.0.1 - - [11/Dec/2020 21:14:30] \"\u001b[37mPOST /_dash-update-component HTTP/1.1\u001b[0m\" 200 -\n",
      "127.0.0.1 - - [11/Dec/2020 21:14:38] \"\u001b[37mPOST /_dash-update-component HTTP/1.1\u001b[0m\" 200 -\n",
      "127.0.0.1 - - [11/Dec/2020 21:14:38] \"\u001b[37mPOST /_dash-update-component HTTP/1.1\u001b[0m\" 200 -\n",
      "127.0.0.1 - - [11/Dec/2020 21:14:38] \"\u001b[37mPOST /_dash-update-component HTTP/1.1\u001b[0m\" 200 -\n",
      "127.0.0.1 - - [11/Dec/2020 21:14:38] \"\u001b[37mPOST /_dash-update-component HTTP/1.1\u001b[0m\" 200 -\n",
      "127.0.0.1 - - [11/Dec/2020 21:14:38] \"\u001b[37mPOST /_dash-update-component HTTP/1.1\u001b[0m\" 200 -\n",
      "127.0.0.1 - - [11/Dec/2020 21:14:39] \"\u001b[37mPOST /_dash-update-component HTTP/1.1\u001b[0m\" 200 -\n",
      "127.0.0.1 - - [11/Dec/2020 21:14:39] \"\u001b[37mPOST /_dash-update-component HTTP/1.1\u001b[0m\" 200 -\n",
      "127.0.0.1 - - [11/Dec/2020 21:14:41] \"\u001b[37mPOST /_dash-update-component HTTP/1.1\u001b[0m\" 200 -\n",
      "127.0.0.1 - - [11/Dec/2020 21:14:41] \"\u001b[37mPOST /_dash-update-component HTTP/1.1\u001b[0m\" 200 -\n"
     ]
    },
    {
     "name": "stdout",
     "output_type": "stream",
     "text": [
      "CALLED: switch_node_actmap_click\n"
     ]
    },
    {
     "name": "stderr",
     "output_type": "stream",
     "text": [
      "127.0.0.1 - - [11/Dec/2020 21:14:41] \"\u001b[37mPOST /_dash-update-component HTTP/1.1\u001b[0m\" 200 -\n",
      "127.0.0.1 - - [11/Dec/2020 21:14:41] \"\u001b[37mPOST /_dash-update-component HTTP/1.1\u001b[0m\" 200 -\n"
     ]
    },
    {
     "name": "stdout",
     "output_type": "stream",
     "text": [
      "CALLED: switch_edge_actmaps_click\n",
      "CALLED: update_node_deepviz\n",
      "CALLED: update_node_actmap\n",
      "CALLED: update_node_inputs\n",
      "found pre-generated image\n",
      "CALLED: update_edge_deepviz\n",
      "found pre-generated image\n",
      "CALLED: update_edge_kernelmap\n",
      "CALLED: update_store\n",
      "\n",
      "TRIGGER edge-actmaps-input.value\n",
      "37-186\n",
      "changing selected node to 839\n"
     ]
    },
    {
     "name": "stderr",
     "output_type": "stream",
     "text": [
      "127.0.0.1 - - [11/Dec/2020 21:14:42] \"\u001b[37mPOST /_dash-update-component HTTP/1.1\u001b[0m\" 200 -\n",
      "127.0.0.1 - - [11/Dec/2020 21:14:42] \"\u001b[37mPOST /_dash-update-component HTTP/1.1\u001b[0m\" 200 -\n"
     ]
    },
    {
     "name": "stdout",
     "output_type": "stream",
     "text": [
      "CALLED: update_edge_inmap\n",
      "CALLED: update_edge_outmap\n"
     ]
    },
    {
     "name": "stderr",
     "output_type": "stream",
     "text": [
      "127.0.0.1 - - [11/Dec/2020 21:14:44] \"\u001b[37mPOST /_dash-update-component HTTP/1.1\u001b[0m\" 200 -\n",
      "127.0.0.1 - - [11/Dec/2020 21:14:44] \"\u001b[37mPOST /_dash-update-component HTTP/1.1\u001b[0m\" 200 -\n",
      "127.0.0.1 - - [11/Dec/2020 21:14:44] \"\u001b[37mPOST /_dash-update-component HTTP/1.1\u001b[0m\" 200 -\n",
      "127.0.0.1 - - [11/Dec/2020 21:14:44] \"\u001b[37mPOST /_dash-update-component HTTP/1.1\u001b[0m\" 200 -\n",
      "127.0.0.1 - - [11/Dec/2020 21:14:44] \"\u001b[37mPOST /_dash-update-component HTTP/1.1\u001b[0m\" 200 -\n",
      "127.0.0.1 - - [11/Dec/2020 21:14:44] \"\u001b[37mPOST /_dash-update-component HTTP/1.1\u001b[0m\" 200 -\n",
      "127.0.0.1 - - [11/Dec/2020 21:14:44] \"\u001b[37mPOST /_dash-update-component HTTP/1.1\u001b[0m\" 200 -\n"
     ]
    },
    {
     "name": "stdout",
     "output_type": "stream",
     "text": [
      "CALLED: update_figure\n",
      "\n",
      "[0.1, 1]\n",
      "['r-2', '37-186', 'g-21', 'g-37', 'r-59', '37-186']\n",
      "['874', '8', '878', '1058', '912', '1135', '1044', '839', '787', '839']\n",
      "updating edge highlight to 37-186\n",
      "select edge, 37-186,  not recolored as no longer shown\n",
      "updating node highlight to 839\n",
      "3 147 features_8\n",
      "        edge_num  layer_name  layer  out_channel  in_channel  \\\n",
      "162837    162837  features_8      3          199         213   \n",
      "162685    162685  features_8      3          199          61   \n",
      "162815    162815  features_8      3          199         191   \n",
      "162867    162867  features_8      3          199         243   \n",
      "162757    162757  features_8      3          199         133   \n",
      "162783    162783  features_8      3          199         159   \n",
      "162649    162649  features_8      3          199          25   \n",
      "162767    162767  features_8      3          199         143   \n",
      "162712    162712  features_8      3          199          88   \n",
      "162874    162874  features_8      3          199         250   \n",
      "163007    163007  features_8      3          199         383   \n",
      "162987    162987  features_8      3          199         363   \n",
      "162863    162863  features_8      3          199         239   \n",
      "162790    162790  features_8      3          199         166   \n",
      "162632    162632  features_8      3          199           8   \n",
      "162813    162813  features_8      3          199         189   \n",
      "162979    162979  features_8      3          199         355   \n",
      "162903    162903  features_8      3          199         279   \n",
      "162801    162801  features_8      3          199         177   \n",
      "162740    162740  features_8      3          199         116   \n",
      "\n",
      "        act_prenorm_rank  grad_prenorm_rank  actxgrad_prenorm_rank  \\\n",
      "162837          0.296575           0.000027               0.000021   \n",
      "162685          0.303895           0.000027               0.000017   \n",
      "162815          0.297316           0.000027               0.000017   \n",
      "162867          0.202113           0.000027               0.000013   \n",
      "162757          0.308197           0.000027               0.000013   \n",
      "162783          0.266969           0.000027               0.000012   \n",
      "162649          0.187257           0.000027               0.000012   \n",
      "162767          0.221988           0.000027               0.000011   \n",
      "162712          0.181451           0.000027               0.000010   \n",
      "162874          0.330376           0.000027               0.000010   \n",
      "163007          0.272160           0.000027               0.000010   \n",
      "162987          0.189840           0.000027               0.000010   \n",
      "162863          0.110120           0.000027               0.000009   \n",
      "162790          0.299426           0.000027               0.000009   \n",
      "162632          0.161120           0.000027               0.000009   \n",
      "162813          0.164901           0.000027               0.000008   \n",
      "162979          0.215118           0.000027               0.000008   \n",
      "162903          0.256619           0.000027               0.000008   \n",
      "162801          0.160929           0.000027               0.000008   \n",
      "162740          0.167017           0.000027               0.000008   \n",
      "\n",
      "        act_norm_rank  grad_norm_rank  actxgrad_norm_rank  \n",
      "162837       0.009693        0.009016            0.070510  \n",
      "162685       0.009932        0.009016            0.057456  \n",
      "162815       0.009717        0.009016            0.055497  \n",
      "162867       0.006605        0.009016            0.045030  \n",
      "162757       0.010072        0.009016            0.042545  \n",
      "162783       0.008725        0.009016            0.041469  \n",
      "162649       0.006120        0.009016            0.039477  \n",
      "162767       0.007255        0.009016            0.037453  \n",
      "162712       0.005930        0.009016            0.035116  \n",
      "162874       0.010797        0.009016            0.034022  \n",
      "163007       0.008895        0.009016            0.033739  \n",
      "162987       0.006204        0.009016            0.032489  \n",
      "162863       0.003599        0.009016            0.030114  \n",
      "162790       0.009786        0.009016            0.029858  \n",
      "162632       0.005266        0.009016            0.028920  \n",
      "162813       0.005389        0.009016            0.027524  \n",
      "162979       0.007030        0.009016            0.027285  \n",
      "162903       0.008387        0.009016            0.026378  \n",
      "162801       0.005259        0.009016            0.026352  \n",
      "162740       0.005458        0.009016            0.026137  \n",
      "CALLED: update_inputimg_dropdown options\n"
     ]
    },
    {
     "name": "stderr",
     "output_type": "stream",
     "text": [
      "127.0.0.1 - - [11/Dec/2020 21:14:45] \"\u001b[37mPOST /_dash-update-component HTTP/1.1\u001b[0m\" 200 -\n",
      "127.0.0.1 - - [11/Dec/2020 21:14:45] \"\u001b[37mPOST /_dash-update-component HTTP/1.1\u001b[0m\" 200 -\n",
      "127.0.0.1 - - [11/Dec/2020 21:14:45] \"\u001b[37mPOST /_dash-update-component HTTP/1.1\u001b[0m\" 200 -\n",
      "127.0.0.1 - - [11/Dec/2020 21:15:00] \"\u001b[37mPOST /_dash-update-component HTTP/1.1\u001b[0m\" 200 -\n",
      "127.0.0.1 - - [11/Dec/2020 21:15:00] \"\u001b[37mPOST /_dash-update-component HTTP/1.1\u001b[0m\" 200 -\n",
      "127.0.0.1 - - [11/Dec/2020 21:15:00] \"\u001b[37mPOST /_dash-update-component HTTP/1.1\u001b[0m\" 200 -\n",
      "127.0.0.1 - - [11/Dec/2020 21:15:00] \"\u001b[37mPOST /_dash-update-component HTTP/1.1\u001b[0m\" 200 -\n",
      "127.0.0.1 - - [11/Dec/2020 21:15:01] \"\u001b[37mPOST /_dash-update-component HTTP/1.1\u001b[0m\" 200 -\n",
      "127.0.0.1 - - [11/Dec/2020 21:15:01] \"\u001b[37mPOST /_dash-update-component HTTP/1.1\u001b[0m\" 200 -\n"
     ]
    },
    {
     "name": "stdout",
     "output_type": "stream",
     "text": [
      "CALLED: switch_node_actmap_click\n"
     ]
    },
    {
     "name": "stderr",
     "output_type": "stream",
     "text": [
      "127.0.0.1 - - [11/Dec/2020 21:15:02] \"\u001b[37mPOST /_dash-update-component HTTP/1.1\u001b[0m\" 200 -\n",
      "127.0.0.1 - - [11/Dec/2020 21:15:02] \"\u001b[37mPOST /_dash-update-component HTTP/1.1\u001b[0m\" 200 -\n"
     ]
    },
    {
     "name": "stdout",
     "output_type": "stream",
     "text": [
      "CALLED: switch_edge_actmaps_click\n",
      "CALLED: update_node_deepviz\n",
      "CALLED: update_node_actmap\n",
      "CALLED: update_node_inputs\n",
      "found pre-generated image\n",
      "CALLED: update_edge_deepviz\n",
      "found pre-generated image\n"
     ]
    },
    {
     "name": "stderr",
     "output_type": "stream",
     "text": [
      "127.0.0.1 - - [11/Dec/2020 21:15:02] \"\u001b[37mPOST /_dash-update-component HTTP/1.1\u001b[0m\" 200 -\n"
     ]
    },
    {
     "name": "stdout",
     "output_type": "stream",
     "text": [
      "CALLED: update_store\n",
      "\n",
      "TRIGGER edge-actmaps-input.value\n",
      "37-186\n",
      "changing selected node to 772\n",
      "CALLED: update_edge_kernelmap\n",
      "CALLED: update_edge_inmap\n"
     ]
    },
    {
     "name": "stderr",
     "output_type": "stream",
     "text": [
      "127.0.0.1 - - [11/Dec/2020 21:15:04] \"\u001b[37mPOST /_dash-update-component HTTP/1.1\u001b[0m\" 200 -\n"
     ]
    },
    {
     "name": "stdout",
     "output_type": "stream",
     "text": [
      "CALLED: update_edge_outmap\n"
     ]
    },
    {
     "name": "stderr",
     "output_type": "stream",
     "text": [
      "127.0.0.1 - - [11/Dec/2020 21:15:04] \"\u001b[37mPOST /_dash-update-component HTTP/1.1\u001b[0m\" 200 -\n",
      "127.0.0.1 - - [11/Dec/2020 21:15:05] \"\u001b[37mPOST /_dash-update-component HTTP/1.1\u001b[0m\" 200 -\n",
      "127.0.0.1 - - [11/Dec/2020 21:15:05] \"\u001b[37mPOST /_dash-update-component HTTP/1.1\u001b[0m\" 200 -\n",
      "127.0.0.1 - - [11/Dec/2020 21:15:05] \"\u001b[37mPOST /_dash-update-component HTTP/1.1\u001b[0m\" 200 -\n",
      "127.0.0.1 - - [11/Dec/2020 21:15:05] \"\u001b[37mPOST /_dash-update-component HTTP/1.1\u001b[0m\" 200 -\n",
      "127.0.0.1 - - [11/Dec/2020 21:15:05] \"\u001b[37mPOST /_dash-update-component HTTP/1.1\u001b[0m\" 200 -\n",
      "127.0.0.1 - - [11/Dec/2020 21:15:05] \"\u001b[37mPOST /_dash-update-component HTTP/1.1\u001b[0m\" 200 -\n",
      "127.0.0.1 - - [11/Dec/2020 21:15:05] \"\u001b[37mPOST /_dash-update-component HTTP/1.1\u001b[0m\" 200 -\n",
      "127.0.0.1 - - [11/Dec/2020 21:15:05] \"\u001b[37mPOST /_dash-update-component HTTP/1.1\u001b[0m\" 200 -\n",
      "127.0.0.1 - - [11/Dec/2020 21:15:05] \"\u001b[37mPOST /_dash-update-component HTTP/1.1\u001b[0m\" 200 -\n",
      "127.0.0.1 - - [11/Dec/2020 21:15:05] \"\u001b[37mPOST /_dash-update-component HTTP/1.1\u001b[0m\" 200 -\n",
      "127.0.0.1 - - [11/Dec/2020 21:15:05] \"\u001b[37mPOST /_dash-update-component HTTP/1.1\u001b[0m\" 200 -\n",
      "127.0.0.1 - - [11/Dec/2020 21:15:05] \"\u001b[37mPOST /_dash-update-component HTTP/1.1\u001b[0m\" 200 -\n"
     ]
    },
    {
     "name": "stdout",
     "output_type": "stream",
     "text": [
      "        edge_num  layer_name  layer  out_channel  in_channel  \\\n",
      "137170    137170  features_8      3          132         274   \n",
      "136995    136995  features_8      3          132          99   \n",
      "136915    136915  features_8      3          132          19   \n",
      "136993    136993  features_8      3          132          97   \n",
      "137192    137192  features_8      3          132         296   \n",
      "137276    137276  features_8      3          132         380   \n",
      "137037    137037  features_8      3          132         141   \n",
      "137139    137139  features_8      3          132         243   \n",
      "137182    137182  features_8      3          132         286   \n",
      "137077    137077  features_8      3          132         181   \n",
      "137062    137062  features_8      3          132         166   \n",
      "136959    136959  features_8      3          132          63   \n",
      "137219    137219  features_8      3          132         323   \n",
      "136900    136900  features_8      3          132           4   \n",
      "137087    137087  features_8      3          132         191   \n",
      "137254    137254  features_8      3          132         358   \n",
      "136968    136968  features_8      3          132          72   \n",
      "137129    137129  features_8      3          132         233   \n",
      "137234    137234  features_8      3          132         338   \n",
      "137110    137110  features_8      3          132         214   \n",
      "\n",
      "        act_prenorm_rank  grad_prenorm_rank  actxgrad_prenorm_rank  \\\n",
      "137170          0.528513           0.000019               0.000012   \n",
      "136995          0.478266           0.000019               0.000011   \n",
      "136915          0.410907           0.000019               0.000011   \n",
      "136993          0.263135           0.000019               0.000010   \n",
      "137192          0.332146           0.000019               0.000009   \n",
      "137276          0.404432           0.000019               0.000009   \n",
      "137037          0.430774           0.000019               0.000008   \n",
      "137139          0.440361           0.000019               0.000008   \n",
      "137182          0.268883           0.000019               0.000007   \n",
      "137077          0.341416           0.000019               0.000007   \n",
      "137062          0.348609           0.000019               0.000007   \n",
      "136959          0.283535           0.000019               0.000006   \n",
      "137219          0.293956           0.000019               0.000006   \n",
      "136900          0.386342           0.000019               0.000006   \n",
      "137087          0.287541           0.000019               0.000006   \n",
      "137254          0.332294           0.000019               0.000006   \n",
      "136968          0.222393           0.000019               0.000006   \n",
      "137129          0.668461           0.000019               0.000005   \n",
      "137234          0.255972           0.000019               0.000005   \n",
      "137110          0.270143           0.000019               0.000005   \n",
      "\n",
      "        act_norm_rank  grad_norm_rank  actxgrad_norm_rank  \n",
      "137170       0.017273         0.00629            0.038535  \n",
      "136995       0.015630         0.00629            0.036061  \n",
      "136915       0.013429         0.00629            0.035880  \n",
      "136993       0.008600         0.00629            0.033431  \n",
      "137192       0.010855         0.00629            0.031185  \n",
      "137276       0.013217         0.00629            0.029141  \n",
      "137037       0.014078         0.00629            0.026904  \n",
      "137139       0.014392         0.00629            0.025488  \n",
      "137182       0.008788         0.00629            0.024012  \n",
      "137077       0.011158         0.00629            0.022754  \n",
      "137062       0.011393         0.00629            0.022125  \n",
      "136959       0.009266         0.00629            0.021288  \n",
      "137219       0.009607         0.00629            0.020830  \n",
      "136900       0.012626         0.00629            0.020460  \n",
      "137087       0.009397         0.00629            0.019851  \n",
      "137254       0.010860         0.00629            0.019700  \n",
      "136968       0.007268         0.00629            0.019698  \n",
      "137129       0.021846         0.00629            0.017802  \n",
      "137234       0.008366         0.00629            0.017620  \n",
      "137110       0.008829         0.00629            0.017381  \n",
      "CALLED: update_figure\n",
      "\n",
      "[0.1, 1]\n",
      "['r-2', '37-186', 'g-21', 'g-37', 'r-59', '37-186']\n",
      "['8', '878', '1058', '912', '1135', '1044', '839', '787', '839', '772']\n",
      "updating edge highlight to 37-186\n",
      "select edge, 37-186,  not recolored as no longer shown\n",
      "updating node highlight to 772\n",
      "3 199 features_8\n"
     ]
    },
    {
     "name": "stderr",
     "output_type": "stream",
     "text": [
      "127.0.0.1 - - [11/Dec/2020 21:15:06] \"\u001b[37mPOST /_dash-update-component HTTP/1.1\u001b[0m\" 200 -\n",
      "127.0.0.1 - - [11/Dec/2020 21:15:06] \"\u001b[37mPOST /_dash-update-component HTTP/1.1\u001b[0m\" 200 -\n"
     ]
    },
    {
     "name": "stdout",
     "output_type": "stream",
     "text": [
      "CALLED: update_inputimg_dropdown options\n"
     ]
    },
    {
     "name": "stderr",
     "output_type": "stream",
     "text": [
      "127.0.0.1 - - [11/Dec/2020 21:15:12] \"\u001b[37mPOST /_dash-update-component HTTP/1.1\u001b[0m\" 200 -\n",
      "127.0.0.1 - - [11/Dec/2020 21:15:12] \"\u001b[37mPOST /_dash-update-component HTTP/1.1\u001b[0m\" 200 -\n",
      "127.0.0.1 - - [11/Dec/2020 21:15:16] \"\u001b[37mPOST /_dash-update-component HTTP/1.1\u001b[0m\" 200 -\n",
      "127.0.0.1 - - [11/Dec/2020 21:15:26] \"\u001b[37mPOST /_dash-update-component HTTP/1.1\u001b[0m\" 200 -\n",
      "127.0.0.1 - - [11/Dec/2020 21:15:26] \"\u001b[37mPOST /_dash-update-component HTTP/1.1\u001b[0m\" 200 -\n",
      "127.0.0.1 - - [11/Dec/2020 21:15:27] \"\u001b[37mPOST /_dash-update-component HTTP/1.1\u001b[0m\" 200 -\n",
      "127.0.0.1 - - [11/Dec/2020 21:15:27] \"\u001b[37mPOST /_dash-update-component HTTP/1.1\u001b[0m\" 200 -\n",
      "127.0.0.1 - - [11/Dec/2020 21:15:27] \"\u001b[37mPOST /_dash-update-component HTTP/1.1\u001b[0m\" 200 -\n",
      "127.0.0.1 - - [11/Dec/2020 21:15:28] \"\u001b[37mPOST /_dash-update-component HTTP/1.1\u001b[0m\" 200 -\n",
      "127.0.0.1 - - [11/Dec/2020 21:15:28] \"\u001b[37mPOST /_dash-update-component HTTP/1.1\u001b[0m\" 200 -\n",
      "127.0.0.1 - - [11/Dec/2020 21:15:28] \"\u001b[37mPOST /_dash-update-component HTTP/1.1\u001b[0m\" 200 -\n",
      "127.0.0.1 - - [11/Dec/2020 21:15:28] \"\u001b[37mPOST /_dash-update-component HTTP/1.1\u001b[0m\" 200 -\n",
      "127.0.0.1 - - [11/Dec/2020 21:15:28] \"\u001b[37mPOST /_dash-update-component HTTP/1.1\u001b[0m\" 200 -\n",
      "127.0.0.1 - - [11/Dec/2020 21:15:28] \"\u001b[37mPOST /_dash-update-component HTTP/1.1\u001b[0m\" 200 -\n",
      "127.0.0.1 - - [11/Dec/2020 21:15:48] \"\u001b[37mPOST /_dash-update-component HTTP/1.1\u001b[0m\" 200 -\n",
      "127.0.0.1 - - [11/Dec/2020 21:15:48] \"\u001b[37mPOST /_dash-update-component HTTP/1.1\u001b[0m\" 200 -\n",
      "127.0.0.1 - - [11/Dec/2020 21:15:49] \"\u001b[37mPOST /_dash-update-component HTTP/1.1\u001b[0m\" 200 -\n"
     ]
    },
    {
     "name": "stdout",
     "output_type": "stream",
     "text": [
      "CALLED: switch_node_actmap_click\n",
      "CALLED: switch_edge_actmaps_click\n"
     ]
    },
    {
     "name": "stderr",
     "output_type": "stream",
     "text": [
      "127.0.0.1 - - [11/Dec/2020 21:15:49] \"\u001b[37mPOST /_dash-update-component HTTP/1.1\u001b[0m\" 200 -\n"
     ]
    },
    {
     "name": "stdout",
     "output_type": "stream",
     "text": [
      "CALLED: update_node_deepviz\n",
      "CALLED: update_node_inputs\n",
      "CALLED: update_node_actmap\n",
      "found pre-generated image\n"
     ]
    },
    {
     "name": "stderr",
     "output_type": "stream",
     "text": [
      "127.0.0.1 - - [11/Dec/2020 21:15:49] \"\u001b[37mPOST /_dash-update-component HTTP/1.1\u001b[0m\" 200 -\n"
     ]
    },
    {
     "name": "stdout",
     "output_type": "stream",
     "text": [
      "CALLED: update_edge_deepviz\n",
      "CALLED: update_edge_kernelmap\n",
      "Updating cached activations with deepviz_g-37_features_0_preadd_conv:101_1607613312.76379.jpg\n",
      "CALLED: update_store\n",
      "\n",
      "TRIGGER edge-actmaps-input.value\n",
      "37-186\n",
      "changing selected node to 839\n",
      "Updating cached activations with deepviz_g-37_features_0_preadd_conv:101_1607613312.76379.jpg\n",
      "found pre-generated image\n"
     ]
    },
    {
     "name": "stderr",
     "output_type": "stream",
     "text": [
      "127.0.0.1 - - [11/Dec/2020 21:15:49] \"\u001b[37mPOST /_dash-update-component HTTP/1.1\u001b[0m\" 200 -\n",
      "127.0.0.1 - - [11/Dec/2020 21:15:50] \"\u001b[37mPOST /_dash-update-component HTTP/1.1\u001b[0m\" 200 -\n",
      "127.0.0.1 - - [11/Dec/2020 21:15:50] \"\u001b[37mPOST /_dash-update-component HTTP/1.1\u001b[0m\" 200 -\n"
     ]
    },
    {
     "name": "stdout",
     "output_type": "stream",
     "text": [
      "CALLED: update_edge_inmap\n",
      "Updating cached activations with deepviz_g-37_features_0_preadd_conv:101_1607613312.76379.jpg\n",
      "CALLED: update_edge_outmap\n",
      "Updating cached activations with deepviz_g-37_features_0_preadd_conv:101_1607613312.76379.jpg\n"
     ]
    },
    {
     "name": "stderr",
     "output_type": "stream",
     "text": [
      "127.0.0.1 - - [11/Dec/2020 21:15:52] \"\u001b[37mPOST /_dash-update-component HTTP/1.1\u001b[0m\" 200 -\n",
      "127.0.0.1 - - [11/Dec/2020 21:15:52] \"\u001b[37mPOST /_dash-update-component HTTP/1.1\u001b[0m\" 200 -\n"
     ]
    },
    {
     "name": "stdout",
     "output_type": "stream",
     "text": [
      "CALLED: update_figure\n",
      "\n",
      "[0.1, 1]\n",
      "['r-2', '37-186', 'g-21', 'g-37', 'r-59', '37-186']\n",
      "['878', '1058', '912', '1135', '1044', '839', '787', '839', '772', '839']\n",
      "updating edge highlight to 37-186\n",
      "select edge, 37-186,  not recolored as no longer shown\n",
      "updating node highlight to 839\n",
      "3 132 features_8\n"
     ]
    },
    {
     "name": "stderr",
     "output_type": "stream",
     "text": [
      "127.0.0.1 - - [11/Dec/2020 21:15:54] \"\u001b[37mPOST /_dash-update-component HTTP/1.1\u001b[0m\" 200 -\n",
      "127.0.0.1 - - [11/Dec/2020 21:15:54] \"\u001b[37mPOST /_dash-update-component HTTP/1.1\u001b[0m\" 200 -\n"
     ]
    },
    {
     "name": "stdout",
     "output_type": "stream",
     "text": [
      "CALLED: update_inputimg_dropdown options\n"
     ]
    },
    {
     "name": "stderr",
     "output_type": "stream",
     "text": [
      "127.0.0.1 - - [11/Dec/2020 21:15:59] \"\u001b[37mPOST /_dash-update-component HTTP/1.1\u001b[0m\" 200 -\n",
      "127.0.0.1 - - [11/Dec/2020 21:15:59] \"\u001b[37mPOST /_dash-update-component HTTP/1.1\u001b[0m\" 200 -\n",
      "127.0.0.1 - - [11/Dec/2020 21:15:59] \"\u001b[37mPOST /_dash-update-component HTTP/1.1\u001b[0m\" 200 -\n",
      "127.0.0.1 - - [11/Dec/2020 21:15:59] \"\u001b[37mPOST /_dash-update-component HTTP/1.1\u001b[0m\" 200 -\n",
      "127.0.0.1 - - [11/Dec/2020 21:15:59] \"\u001b[37mPOST /_dash-update-component HTTP/1.1\u001b[0m\" 200 -\n",
      "127.0.0.1 - - [11/Dec/2020 21:15:59] \"\u001b[37mPOST /_dash-update-component HTTP/1.1\u001b[0m\" 200 -\n",
      "127.0.0.1 - - [11/Dec/2020 21:16:05] \"\u001b[37mPOST /_dash-update-component HTTP/1.1\u001b[0m\" 200 -\n",
      "127.0.0.1 - - [11/Dec/2020 21:16:05] \"\u001b[37mPOST /_dash-update-component HTTP/1.1\u001b[0m\" 200 -\n",
      "127.0.0.1 - - [11/Dec/2020 21:16:05] \"\u001b[37mPOST /_dash-update-component HTTP/1.1\u001b[0m\" 200 -\n",
      "127.0.0.1 - - [11/Dec/2020 21:16:05] \"\u001b[37mPOST /_dash-update-component HTTP/1.1\u001b[0m\" 200 -\n",
      "127.0.0.1 - - [11/Dec/2020 21:16:05] \"\u001b[37mPOST /_dash-update-component HTTP/1.1\u001b[0m\" 200 -\n",
      "127.0.0.1 - - [11/Dec/2020 21:16:06] \"\u001b[37mPOST /_dash-update-component HTTP/1.1\u001b[0m\" 200 -\n",
      "127.0.0.1 - - [11/Dec/2020 21:16:06] \"\u001b[37mPOST /_dash-update-component HTTP/1.1\u001b[0m\" 200 -\n",
      "127.0.0.1 - - [11/Dec/2020 21:16:06] \"\u001b[37mPOST /_dash-update-component HTTP/1.1\u001b[0m\" 200 -\n",
      "127.0.0.1 - - [11/Dec/2020 21:16:24] \"\u001b[37mPOST /_dash-update-component HTTP/1.1\u001b[0m\" 200 -\n",
      "127.0.0.1 - - [11/Dec/2020 21:16:24] \"\u001b[37mPOST /_dash-update-component HTTP/1.1\u001b[0m\" 200 -\n",
      "127.0.0.1 - - [11/Dec/2020 21:16:24] \"\u001b[37mPOST /_dash-update-component HTTP/1.1\u001b[0m\" 200 -\n",
      "127.0.0.1 - - [11/Dec/2020 21:16:24] \"\u001b[37mPOST /_dash-update-component HTTP/1.1\u001b[0m\" 200 -\n",
      "127.0.0.1 - - [11/Dec/2020 21:16:24] \"\u001b[37mPOST /_dash-update-component HTTP/1.1\u001b[0m\" 200 -\n",
      "127.0.0.1 - - [11/Dec/2020 21:16:24] \"\u001b[37mPOST /_dash-update-component HTTP/1.1\u001b[0m\" 200 -\n",
      "127.0.0.1 - - [11/Dec/2020 21:16:26] \"\u001b[37mPOST /_dash-update-component HTTP/1.1\u001b[0m\" 200 -\n",
      "127.0.0.1 - - [11/Dec/2020 21:16:26] \"\u001b[37mPOST /_dash-update-component HTTP/1.1\u001b[0m\" 200 -\n",
      "127.0.0.1 - - [11/Dec/2020 21:16:26] \"\u001b[37mPOST /_dash-update-component HTTP/1.1\u001b[0m\" 200 -\n",
      "127.0.0.1 - - [11/Dec/2020 21:16:30] \"\u001b[37mPOST /_dash-update-component HTTP/1.1\u001b[0m\" 200 -\n",
      "127.0.0.1 - - [11/Dec/2020 21:16:30] \"\u001b[37mPOST /_dash-update-component HTTP/1.1\u001b[0m\" 200 -\n"
     ]
    },
    {
     "name": "stdout",
     "output_type": "stream",
     "text": [
      "        edge_num  layer_name  layer  out_channel  in_channel  \\\n",
      "162837    162837  features_8      3          199         213   \n",
      "162685    162685  features_8      3          199          61   \n",
      "162815    162815  features_8      3          199         191   \n",
      "162867    162867  features_8      3          199         243   \n",
      "162757    162757  features_8      3          199         133   \n",
      "162783    162783  features_8      3          199         159   \n",
      "162649    162649  features_8      3          199          25   \n",
      "162767    162767  features_8      3          199         143   \n",
      "162712    162712  features_8      3          199          88   \n",
      "162874    162874  features_8      3          199         250   \n",
      "163007    163007  features_8      3          199         383   \n",
      "162987    162987  features_8      3          199         363   \n",
      "162863    162863  features_8      3          199         239   \n",
      "162790    162790  features_8      3          199         166   \n",
      "162632    162632  features_8      3          199           8   \n",
      "162813    162813  features_8      3          199         189   \n",
      "162979    162979  features_8      3          199         355   \n",
      "162903    162903  features_8      3          199         279   \n",
      "162801    162801  features_8      3          199         177   \n",
      "162740    162740  features_8      3          199         116   \n",
      "\n",
      "        act_prenorm_rank  grad_prenorm_rank  actxgrad_prenorm_rank  \\\n",
      "162837          0.296575           0.000027               0.000021   \n",
      "162685          0.303895           0.000027               0.000017   \n",
      "162815          0.297316           0.000027               0.000017   \n",
      "162867          0.202113           0.000027               0.000013   \n",
      "162757          0.308197           0.000027               0.000013   \n",
      "162783          0.266969           0.000027               0.000012   \n",
      "162649          0.187257           0.000027               0.000012   \n",
      "162767          0.221988           0.000027               0.000011   \n",
      "162712          0.181451           0.000027               0.000010   \n",
      "162874          0.330376           0.000027               0.000010   \n",
      "163007          0.272160           0.000027               0.000010   \n",
      "162987          0.189840           0.000027               0.000010   \n",
      "162863          0.110120           0.000027               0.000009   \n",
      "162790          0.299426           0.000027               0.000009   \n",
      "162632          0.161120           0.000027               0.000009   \n",
      "162813          0.164901           0.000027               0.000008   \n",
      "162979          0.215118           0.000027               0.000008   \n",
      "162903          0.256619           0.000027               0.000008   \n",
      "162801          0.160929           0.000027               0.000008   \n",
      "162740          0.167017           0.000027               0.000008   \n",
      "\n",
      "        act_norm_rank  grad_norm_rank  actxgrad_norm_rank  \n",
      "162837       0.009693        0.009016            0.070510  \n",
      "162685       0.009932        0.009016            0.057456  \n",
      "162815       0.009717        0.009016            0.055497  \n",
      "162867       0.006605        0.009016            0.045030  \n",
      "162757       0.010072        0.009016            0.042545  \n",
      "162783       0.008725        0.009016            0.041469  \n",
      "162649       0.006120        0.009016            0.039477  \n",
      "162767       0.007255        0.009016            0.037453  \n",
      "162712       0.005930        0.009016            0.035116  \n",
      "162874       0.010797        0.009016            0.034022  \n",
      "163007       0.008895        0.009016            0.033739  \n",
      "162987       0.006204        0.009016            0.032489  \n",
      "162863       0.003599        0.009016            0.030114  \n",
      "162790       0.009786        0.009016            0.029858  \n",
      "162632       0.005266        0.009016            0.028920  \n",
      "162813       0.005389        0.009016            0.027524  \n",
      "162979       0.007030        0.009016            0.027285  \n",
      "162903       0.008387        0.009016            0.026378  \n",
      "162801       0.005259        0.009016            0.026352  \n",
      "162740       0.005458        0.009016            0.026137  \n"
     ]
    },
    {
     "name": "stderr",
     "output_type": "stream",
     "text": [
      "127.0.0.1 - - [11/Dec/2020 21:16:31] \"\u001b[37mPOST /_dash-update-component HTTP/1.1\u001b[0m\" 200 -\n",
      "127.0.0.1 - - [11/Dec/2020 21:16:32] \"\u001b[37mPOST /_dash-update-component HTTP/1.1\u001b[0m\" 200 -\n",
      "127.0.0.1 - - [11/Dec/2020 21:17:55] \"\u001b[37mPOST /_dash-update-component HTTP/1.1\u001b[0m\" 200 -\n",
      "127.0.0.1 - - [11/Dec/2020 21:17:56] \"\u001b[37mPOST /_dash-update-component HTTP/1.1\u001b[0m\" 200 -\n",
      "127.0.0.1 - - [11/Dec/2020 21:17:56] \"\u001b[37mPOST /_dash-update-component HTTP/1.1\u001b[0m\" 200 -\n",
      "127.0.0.1 - - [11/Dec/2020 21:17:56] \"\u001b[37mPOST /_dash-update-component HTTP/1.1\u001b[0m\" 200 -\n",
      "127.0.0.1 - - [11/Dec/2020 21:17:56] \"\u001b[37mPOST /_dash-update-component HTTP/1.1\u001b[0m\" 200 -\n",
      "127.0.0.1 - - [11/Dec/2020 21:17:57] \"\u001b[37mPOST /_dash-update-component HTTP/1.1\u001b[0m\" 200 -\n",
      "127.0.0.1 - - [11/Dec/2020 21:17:58] \"\u001b[37mPOST /_dash-update-component HTTP/1.1\u001b[0m\" 200 -\n",
      "127.0.0.1 - - [11/Dec/2020 21:17:58] \"\u001b[37mPOST /_dash-update-component HTTP/1.1\u001b[0m\" 200 -\n",
      "127.0.0.1 - - [11/Dec/2020 21:17:58] \"\u001b[37mPOST /_dash-update-component HTTP/1.1\u001b[0m\" 200 -\n",
      "127.0.0.1 - - [11/Dec/2020 21:17:58] \"\u001b[37mPOST /_dash-update-component HTTP/1.1\u001b[0m\" 200 -\n",
      "127.0.0.1 - - [11/Dec/2020 21:18:17] \"\u001b[37mPOST /_dash-update-component HTTP/1.1\u001b[0m\" 200 -\n",
      "127.0.0.1 - - [11/Dec/2020 21:18:17] \"\u001b[37mPOST /_dash-update-component HTTP/1.1\u001b[0m\" 200 -\n",
      "127.0.0.1 - - [11/Dec/2020 21:18:17] \"\u001b[37mPOST /_dash-update-component HTTP/1.1\u001b[0m\" 200 -\n",
      "127.0.0.1 - - [11/Dec/2020 21:18:17] \"\u001b[37mPOST /_dash-update-component HTTP/1.1\u001b[0m\" 200 -\n",
      "127.0.0.1 - - [11/Dec/2020 21:18:17] \"\u001b[37mPOST /_dash-update-component HTTP/1.1\u001b[0m\" 200 -\n",
      "127.0.0.1 - - [11/Dec/2020 21:18:17] \"\u001b[37mPOST /_dash-update-component HTTP/1.1\u001b[0m\" 200 -\n",
      "127.0.0.1 - - [11/Dec/2020 21:18:17] \"\u001b[37mPOST /_dash-update-component HTTP/1.1\u001b[0m\" 200 -\n",
      "127.0.0.1 - - [11/Dec/2020 21:18:21] \"\u001b[37mPOST /_dash-update-component HTTP/1.1\u001b[0m\" 200 -\n",
      "127.0.0.1 - - [11/Dec/2020 21:18:21] \"\u001b[37mPOST /_dash-update-component HTTP/1.1\u001b[0m\" 200 -\n",
      "127.0.0.1 - - [11/Dec/2020 21:18:21] \"\u001b[37mPOST /_dash-update-component HTTP/1.1\u001b[0m\" 200 -\n",
      "127.0.0.1 - - [11/Dec/2020 21:18:21] \"\u001b[37mPOST /_dash-update-component HTTP/1.1\u001b[0m\" 200 -\n"
     ]
    },
    {
     "name": "stdout",
     "output_type": "stream",
     "text": [
      "CALLED: switch_node_actmap_click\n"
     ]
    },
    {
     "name": "stderr",
     "output_type": "stream",
     "text": [
      "127.0.0.1 - - [11/Dec/2020 21:18:21] \"\u001b[37mPOST /_dash-update-component HTTP/1.1\u001b[0m\" 200 -\n",
      "127.0.0.1 - - [11/Dec/2020 21:18:21] \"\u001b[37mPOST /_dash-update-component HTTP/1.1\u001b[0m\" 200 -\n"
     ]
    },
    {
     "name": "stdout",
     "output_type": "stream",
     "text": [
      "CALLED: switch_edge_actmaps_click\n",
      "CALLED: update_node_deepvizCALLED: update_node_actmap\n",
      "CALLED: update_node_inputs\n",
      "\n",
      "found pre-generated image\n",
      "CALLED: update_edge_deepviz\n",
      "CALLED: update_edge_kernelmap\n",
      "found pre-generated image\n",
      "CALLED: update_store\n",
      "\n",
      "TRIGGER edge-actmaps-input.value\n",
      "37-186\n",
      "changing selected node to 245\n"
     ]
    },
    {
     "name": "stderr",
     "output_type": "stream",
     "text": [
      "127.0.0.1 - - [11/Dec/2020 21:18:22] \"\u001b[37mPOST /_dash-update-component HTTP/1.1\u001b[0m\" 200 -\n",
      "127.0.0.1 - - [11/Dec/2020 21:18:22] \"\u001b[37mPOST /_dash-update-component HTTP/1.1\u001b[0m\" 200 -\n",
      "127.0.0.1 - - [11/Dec/2020 21:18:22] \"\u001b[37mPOST /_dash-update-component HTTP/1.1\u001b[0m\" 200 -\n",
      "127.0.0.1 - - [11/Dec/2020 21:18:22] \"\u001b[37mPOST /_dash-update-component HTTP/1.1\u001b[0m\" 200 -\n"
     ]
    },
    {
     "name": "stdout",
     "output_type": "stream",
     "text": [
      "Updating cached rank dfs with bullfrog\n",
      "CALLED: update_edge_inmap\n"
     ]
    },
    {
     "name": "stderr",
     "output_type": "stream",
     "text": [
      "127.0.0.1 - - [11/Dec/2020 21:18:23] \"\u001b[37mPOST /_dash-update-component HTTP/1.1\u001b[0m\" 200 -\n"
     ]
    },
    {
     "name": "stdout",
     "output_type": "stream",
     "text": [
      "CALLED: update_edge_outmap\n",
      "CALLED: update_figure\n",
      "\n",
      "[0.1, 1]\n",
      "['r-2', '37-186', 'g-21', 'g-37', 'r-59', '37-186']\n",
      "['1058', '912', '1135', '1044', '839', '787', '839', '772', '839', '245']\n",
      "updating edge highlight to 37-186\n",
      "select edge, 37-186,  not recolored as no longer shown\n",
      "updating node highlight to 245\n",
      "3 199 features_8\n"
     ]
    },
    {
     "name": "stderr",
     "output_type": "stream",
     "text": [
      "127.0.0.1 - - [11/Dec/2020 21:18:23] \"\u001b[37mPOST /_dash-update-component HTTP/1.1\u001b[0m\" 200 -\n",
      "127.0.0.1 - - [11/Dec/2020 21:18:24] \"\u001b[37mPOST /_dash-update-component HTTP/1.1\u001b[0m\" 200 -\n",
      "127.0.0.1 - - [11/Dec/2020 21:18:24] \"\u001b[37mPOST /_dash-update-component HTTP/1.1\u001b[0m\" 200 -\n",
      "127.0.0.1 - - [11/Dec/2020 21:18:24] \"\u001b[37mPOST /_dash-update-component HTTP/1.1\u001b[0m\" 200 -\n"
     ]
    },
    {
     "name": "stdout",
     "output_type": "stream",
     "text": [
      "CALLED: update_inputimg_dropdown options\n"
     ]
    },
    {
     "name": "stderr",
     "output_type": "stream",
     "text": [
      "127.0.0.1 - - [11/Dec/2020 21:18:25] \"\u001b[37mPOST /_dash-update-component HTTP/1.1\u001b[0m\" 200 -\n",
      "127.0.0.1 - - [11/Dec/2020 21:18:25] \"\u001b[37mPOST /_dash-update-component HTTP/1.1\u001b[0m\" 200 -\n",
      "127.0.0.1 - - [11/Dec/2020 21:18:25] \"\u001b[37mPOST /_dash-update-component HTTP/1.1\u001b[0m\" 200 -\n"
     ]
    },
    {
     "name": "stdout",
     "output_type": "stream",
     "text": [
      "       edge_num  layer_name  layer  out_channel  in_channel  act_prenorm_rank  \\\n",
      "11831     11831  features_3      1          181          55          1.806961   \n",
      "11833     11833  features_3      1          181          57          1.672488   \n",
      "11804     11804  features_3      1          181          28          1.867556   \n",
      "11792     11792  features_3      1          181          16          1.577934   \n",
      "11817     11817  features_3      1          181          41          1.515774   \n",
      "11839     11839  features_3      1          181          63          1.349696   \n",
      "11799     11799  features_3      1          181          23          1.698279   \n",
      "11784     11784  features_3      1          181           8          1.516623   \n",
      "11800     11800  features_3      1          181          24          1.504661   \n",
      "11806     11806  features_3      1          181          30          1.425396   \n",
      "11810     11810  features_3      1          181          34          1.311699   \n",
      "11825     11825  features_3      1          181          49          0.944520   \n",
      "11835     11835  features_3      1          181          59          0.871809   \n",
      "11818     11818  features_3      1          181          42          0.857956   \n",
      "11803     11803  features_3      1          181          27          0.927579   \n",
      "11787     11787  features_3      1          181          11          0.804040   \n",
      "11805     11805  features_3      1          181          29          0.945860   \n",
      "11820     11820  features_3      1          181          44          0.895122   \n",
      "11782     11782  features_3      1          181           6          0.801691   \n",
      "11786     11786  features_3      1          181          10          0.688608   \n",
      "\n",
      "       grad_prenorm_rank  actxgrad_prenorm_rank  act_norm_rank  \\\n",
      "11831           0.000007               0.000015       0.019175   \n",
      "11833           0.000007               0.000012       0.017748   \n",
      "11804           0.000007               0.000012       0.019818   \n",
      "11792           0.000007               0.000012       0.016744   \n",
      "11817           0.000007               0.000012       0.016085   \n",
      "11839           0.000007               0.000011       0.014322   \n",
      "11799           0.000007               0.000010       0.018021   \n",
      "11784           0.000007               0.000010       0.016094   \n",
      "11800           0.000007               0.000010       0.015967   \n",
      "11806           0.000007               0.000009       0.015126   \n",
      "11810           0.000007               0.000008       0.013919   \n",
      "11825           0.000007               0.000007       0.010023   \n",
      "11835           0.000007               0.000007       0.009251   \n",
      "11818           0.000007               0.000007       0.009104   \n",
      "11803           0.000007               0.000006       0.009843   \n",
      "11787           0.000007               0.000006       0.008532   \n",
      "11805           0.000007               0.000006       0.010037   \n",
      "11820           0.000007               0.000006       0.009499   \n",
      "11782           0.000007               0.000006       0.008507   \n",
      "11786           0.000007               0.000006       0.007307   \n",
      "\n",
      "       grad_norm_rank  actxgrad_norm_rank  \n",
      "11831        0.013018            0.040907  \n",
      "11833        0.013018            0.033824  \n",
      "11804        0.013018            0.032633  \n",
      "11792        0.013018            0.031928  \n",
      "11817        0.013018            0.031757  \n",
      "11839        0.013018            0.029585  \n",
      "11799        0.013018            0.028636  \n",
      "11784        0.013018            0.028347  \n",
      "11800        0.013018            0.026732  \n",
      "11806        0.013018            0.025202  \n",
      "11810        0.013018            0.022981  \n",
      "11825        0.013018            0.019781  \n",
      "11835        0.013018            0.019163  \n",
      "11818        0.013018            0.018710  \n",
      "11803        0.013018            0.017141  \n",
      "11787        0.013018            0.016672  \n",
      "11805        0.013018            0.016623  \n",
      "11820        0.013018            0.016597  \n",
      "11782        0.013018            0.016465  \n",
      "11786        0.013018            0.015360  \n"
     ]
    },
    {
     "name": "stderr",
     "output_type": "stream",
     "text": [
      "127.0.0.1 - - [11/Dec/2020 21:18:44] \"\u001b[37mPOST /_dash-update-component HTTP/1.1\u001b[0m\" 200 -\n",
      "127.0.0.1 - - [11/Dec/2020 21:18:44] \"\u001b[37mPOST /_dash-update-component HTTP/1.1\u001b[0m\" 200 -\n",
      "127.0.0.1 - - [11/Dec/2020 21:18:44] \"\u001b[37mPOST /_dash-update-component HTTP/1.1\u001b[0m\" 200 -\n",
      "127.0.0.1 - - [11/Dec/2020 21:18:44] \"\u001b[37mPOST /_dash-update-component HTTP/1.1\u001b[0m\" 200 -\n",
      "127.0.0.1 - - [11/Dec/2020 21:18:44] \"\u001b[37mPOST /_dash-update-component HTTP/1.1\u001b[0m\" 200 -\n",
      "127.0.0.1 - - [11/Dec/2020 21:18:44] \"\u001b[37mPOST /_dash-update-component HTTP/1.1\u001b[0m\" 200 -\n",
      "127.0.0.1 - - [11/Dec/2020 21:18:44] \"\u001b[37mPOST /_dash-update-component HTTP/1.1\u001b[0m\" 200 -\n",
      "127.0.0.1 - - [11/Dec/2020 21:18:45] \"\u001b[37mPOST /_dash-update-component HTTP/1.1\u001b[0m\" 200 -\n",
      "127.0.0.1 - - [11/Dec/2020 21:18:59] \"\u001b[37mPOST /_dash-update-component HTTP/1.1\u001b[0m\" 200 -\n",
      "127.0.0.1 - - [11/Dec/2020 21:18:59] \"\u001b[37mPOST /_dash-update-component HTTP/1.1\u001b[0m\" 200 -\n",
      "127.0.0.1 - - [11/Dec/2020 21:18:59] \"\u001b[37mPOST /_dash-update-component HTTP/1.1\u001b[0m\" 200 -\n",
      "127.0.0.1 - - [11/Dec/2020 21:18:59] \"\u001b[37mPOST /_dash-update-component HTTP/1.1\u001b[0m\" 200 -\n",
      "127.0.0.1 - - [11/Dec/2020 21:18:59] \"\u001b[37mPOST /_dash-update-component HTTP/1.1\u001b[0m\" 200 -\n",
      "127.0.0.1 - - [11/Dec/2020 21:19:00] \"\u001b[37mPOST /_dash-update-component HTTP/1.1\u001b[0m\" 200 -\n",
      "127.0.0.1 - - [11/Dec/2020 21:19:00] \"\u001b[37mPOST /_dash-update-component HTTP/1.1\u001b[0m\" 200 -\n",
      "127.0.0.1 - - [11/Dec/2020 21:19:00] \"\u001b[37mPOST /_dash-update-component HTTP/1.1\u001b[0m\" 200 -\n",
      "127.0.0.1 - - [11/Dec/2020 21:19:00] \"\u001b[37mPOST /_dash-update-component HTTP/1.1\u001b[0m\" 200 -\n",
      "127.0.0.1 - - [11/Dec/2020 21:19:00] \"\u001b[37mPOST /_dash-update-component HTTP/1.1\u001b[0m\" 200 -\n",
      "127.0.0.1 - - [11/Dec/2020 21:19:00] \"\u001b[37mPOST /_dash-update-component HTTP/1.1\u001b[0m\" 200 -\n",
      "127.0.0.1 - - [11/Dec/2020 21:19:00] \"\u001b[37mPOST /_dash-update-component HTTP/1.1\u001b[0m\" 200 -\n",
      "127.0.0.1 - - [11/Dec/2020 21:19:00] \"\u001b[37mPOST /_dash-update-component HTTP/1.1\u001b[0m\" 200 -\n",
      "127.0.0.1 - - [11/Dec/2020 21:19:00] \"\u001b[37mPOST /_dash-update-component HTTP/1.1\u001b[0m\" 200 -\n",
      "127.0.0.1 - - [11/Dec/2020 21:19:00] \"\u001b[37mPOST /_dash-update-component HTTP/1.1\u001b[0m\" 200 -\n",
      "127.0.0.1 - - [11/Dec/2020 21:19:01] \"\u001b[37mPOST /_dash-update-component HTTP/1.1\u001b[0m\" 200 -\n",
      "127.0.0.1 - - [11/Dec/2020 21:19:27] \"\u001b[37mPOST /_dash-update-component HTTP/1.1\u001b[0m\" 200 -\n",
      "127.0.0.1 - - [11/Dec/2020 21:19:27] \"\u001b[37mPOST /_dash-update-component HTTP/1.1\u001b[0m\" 200 -\n",
      "127.0.0.1 - - [11/Dec/2020 21:19:27] \"\u001b[37mPOST /_dash-update-component HTTP/1.1\u001b[0m\" 200 -\n",
      "127.0.0.1 - - [11/Dec/2020 21:19:28] \"\u001b[37mPOST /_dash-update-component HTTP/1.1\u001b[0m\" 200 -\n",
      "127.0.0.1 - - [11/Dec/2020 21:19:28] \"\u001b[37mPOST /_dash-update-component HTTP/1.1\u001b[0m\" 200 -\n",
      "127.0.0.1 - - [11/Dec/2020 21:19:28] \"\u001b[37mPOST /_dash-update-component HTTP/1.1\u001b[0m\" 200 -\n",
      "127.0.0.1 - - [11/Dec/2020 21:19:33] \"\u001b[37mPOST /_dash-update-component HTTP/1.1\u001b[0m\" 200 -\n",
      "127.0.0.1 - - [11/Dec/2020 21:19:34] \"\u001b[37mPOST /_dash-update-component HTTP/1.1\u001b[0m\" 200 -\n",
      "127.0.0.1 - - [11/Dec/2020 21:19:34] \"\u001b[37mPOST /_dash-update-component HTTP/1.1\u001b[0m\" 200 -\n",
      "127.0.0.1 - - [11/Dec/2020 21:19:34] \"\u001b[37mPOST /_dash-update-component HTTP/1.1\u001b[0m\" 200 -\n",
      "127.0.0.1 - - [11/Dec/2020 21:19:34] \"\u001b[37mPOST /_dash-update-component HTTP/1.1\u001b[0m\" 200 -\n",
      "127.0.0.1 - - [11/Dec/2020 21:19:34] \"\u001b[37mPOST /_dash-update-component HTTP/1.1\u001b[0m\" 200 -\n",
      "127.0.0.1 - - [11/Dec/2020 21:19:35] \"\u001b[37mPOST /_dash-update-component HTTP/1.1\u001b[0m\" 200 -\n",
      "127.0.0.1 - - [11/Dec/2020 21:19:36] \"\u001b[37mPOST /_dash-update-component HTTP/1.1\u001b[0m\" 200 -\n",
      "127.0.0.1 - - [11/Dec/2020 21:19:36] \"\u001b[37mPOST /_dash-update-component HTTP/1.1\u001b[0m\" 200 -\n",
      "127.0.0.1 - - [11/Dec/2020 21:19:36] \"\u001b[37mPOST /_dash-update-component HTTP/1.1\u001b[0m\" 200 -\n"
     ]
    },
    {
     "name": "stdout",
     "output_type": "stream",
     "text": [
      "CALLED: switch_node_actmap_click\n",
      "CALLED: switch_edge_actmaps_click\n"
     ]
    },
    {
     "name": "stderr",
     "output_type": "stream",
     "text": [
      "127.0.0.1 - - [11/Dec/2020 21:19:36] \"\u001b[37mPOST /_dash-update-component HTTP/1.1\u001b[0m\" 200 -\n"
     ]
    },
    {
     "name": "stdout",
     "output_type": "stream",
     "text": [
      "CALLED: update_node_deepviz\n",
      "CALLED: update_node_inputs\n",
      "found pre-generated image\n",
      "CALLED: update_node_actmap\n",
      "CALLED: update_edge_deepviz\n",
      "found pre-generated image\n",
      "CALLED: update_store\n",
      "\n",
      "TRIGGER edge-actmaps-input.value\n",
      "37-186\n",
      "changing selected node to 1074\n",
      "CALLED: update_edge_kernelmap\n"
     ]
    },
    {
     "name": "stderr",
     "output_type": "stream",
     "text": [
      "127.0.0.1 - - [11/Dec/2020 21:19:37] \"\u001b[37mPOST /_dash-update-component HTTP/1.1\u001b[0m\" 200 -\n",
      "127.0.0.1 - - [11/Dec/2020 21:19:37] \"\u001b[37mPOST /_dash-update-component HTTP/1.1\u001b[0m\" 200 -\n"
     ]
    },
    {
     "name": "stdout",
     "output_type": "stream",
     "text": [
      "CALLED: update_edge_inmap\n",
      "CALLED: update_edge_outmap\n"
     ]
    },
    {
     "name": "stderr",
     "output_type": "stream",
     "text": [
      "127.0.0.1 - - [11/Dec/2020 21:19:37] \"\u001b[37mPOST /_dash-update-component HTTP/1.1\u001b[0m\" 200 -\n",
      "127.0.0.1 - - [11/Dec/2020 21:19:37] \"\u001b[37mPOST /_dash-update-component HTTP/1.1\u001b[0m\" 200 -\n"
     ]
    },
    {
     "name": "stdout",
     "output_type": "stream",
     "text": [
      "CALLED: update_figure\n",
      "\n",
      "[0.1, 1]\n",
      "['r-2', '37-186', 'g-21', 'g-37', 'r-59', '37-186']\n",
      "['912', '1135', '1044', '839', '787', '839', '772', '839', '245', '1074']\n",
      "updating edge highlight to 37-186\n",
      "select edge, 37-186,  not recolored as no longer shown\n",
      "updating node highlight to 1074\n",
      "1 181 features_3\n"
     ]
    },
    {
     "name": "stderr",
     "output_type": "stream",
     "text": [
      "127.0.0.1 - - [11/Dec/2020 21:19:38] \"\u001b[37mPOST /_dash-update-component HTTP/1.1\u001b[0m\" 200 -\n",
      "127.0.0.1 - - [11/Dec/2020 21:19:38] \"\u001b[37mPOST /_dash-update-component HTTP/1.1\u001b[0m\" 200 -\n",
      "127.0.0.1 - - [11/Dec/2020 21:19:38] \"\u001b[37mPOST /_dash-update-component HTTP/1.1\u001b[0m\" 200 -\n",
      "127.0.0.1 - - [11/Dec/2020 21:19:38] \"\u001b[37mPOST /_dash-update-component HTTP/1.1\u001b[0m\" 200 -\n"
     ]
    },
    {
     "name": "stdout",
     "output_type": "stream",
     "text": [
      "CALLED: update_inputimg_dropdown options\n"
     ]
    },
    {
     "name": "stderr",
     "output_type": "stream",
     "text": [
      "127.0.0.1 - - [11/Dec/2020 21:19:38] \"\u001b[37mPOST /_dash-update-component HTTP/1.1\u001b[0m\" 200 -\n",
      "127.0.0.1 - - [11/Dec/2020 21:19:39] \"\u001b[37mPOST /_dash-update-component HTTP/1.1\u001b[0m\" 200 -\n",
      "127.0.0.1 - - [11/Dec/2020 21:19:39] \"\u001b[37mPOST /_dash-update-component HTTP/1.1\u001b[0m\" 200 -\n",
      "127.0.0.1 - - [11/Dec/2020 21:19:39] \"\u001b[37mPOST /_dash-update-component HTTP/1.1\u001b[0m\" 200 -\n"
     ]
    },
    {
     "name": "stdout",
     "output_type": "stream",
     "text": [
      "        edge_num   layer_name  layer  out_channel  in_channel  \\\n",
      "230279    230279  features_10      4          178         199   \n",
      "230290    230290  features_10      4          178         210   \n",
      "230160    230160  features_10      4          178          80   \n",
      "230126    230126  features_10      4          178          46   \n",
      "230227    230227  features_10      4          178         147   \n",
      "230258    230258  features_10      4          178         178   \n",
      "230198    230198  features_10      4          178         118   \n",
      "230277    230277  features_10      4          178         197   \n",
      "230121    230121  features_10      4          178          41   \n",
      "230285    230285  features_10      4          178         205   \n",
      "230257    230257  features_10      4          178         177   \n",
      "230334    230334  features_10      4          178         254   \n",
      "230194    230194  features_10      4          178         114   \n",
      "230164    230164  features_10      4          178          84   \n",
      "230115    230115  features_10      4          178          35   \n",
      "230220    230220  features_10      4          178         140   \n",
      "230253    230253  features_10      4          178         173   \n",
      "230282    230282  features_10      4          178         202   \n",
      "230097    230097  features_10      4          178          17   \n",
      "230273    230273  features_10      4          178         193   \n",
      "\n",
      "        act_prenorm_rank  grad_prenorm_rank  actxgrad_prenorm_rank  \\\n",
      "230279          0.447688           0.000017               0.000012   \n",
      "230290          0.364390           0.000017               0.000011   \n",
      "230160          0.322792           0.000017               0.000008   \n",
      "230126          0.226730           0.000017               0.000007   \n",
      "230227          0.300568           0.000017               0.000006   \n",
      "230258          0.286089           0.000017               0.000006   \n",
      "230198          0.255253           0.000017               0.000006   \n",
      "230277          0.184690           0.000017               0.000006   \n",
      "230121          0.191042           0.000017               0.000006   \n",
      "230285          0.151382           0.000017               0.000006   \n",
      "230257          0.226784           0.000017               0.000005   \n",
      "230334          0.271688           0.000017               0.000005   \n",
      "230194          0.403567           0.000017               0.000004   \n",
      "230164          0.162214           0.000017               0.000004   \n",
      "230115          0.143873           0.000017               0.000004   \n",
      "230220          0.174942           0.000017               0.000004   \n",
      "230253          0.213481           0.000017               0.000004   \n",
      "230282          0.145974           0.000017               0.000004   \n",
      "230097          0.131741           0.000017               0.000004   \n",
      "230273          0.109413           0.000017               0.000003   \n",
      "\n",
      "        act_norm_rank  grad_norm_rank  actxgrad_norm_rank  \n",
      "230279       0.017340        0.009974            0.061096  \n",
      "230290       0.014114        0.009974            0.053109  \n",
      "230160       0.012503        0.009974            0.041086  \n",
      "230126       0.008782        0.009974            0.036308  \n",
      "230227       0.011642        0.009974            0.031768  \n",
      "230258       0.011081        0.009974            0.031538  \n",
      "230198       0.009887        0.009974            0.031322  \n",
      "230277       0.007154        0.009974            0.030291  \n",
      "230121       0.007400        0.009974            0.029782  \n",
      "230285       0.005864        0.009974            0.029198  \n",
      "230257       0.008784        0.009974            0.024322  \n",
      "230334       0.010523        0.009974            0.022731  \n",
      "230194       0.015631        0.009974            0.021592  \n",
      "230164       0.006283        0.009974            0.021253  \n",
      "230115       0.005573        0.009974            0.020543  \n",
      "230220       0.006776        0.009974            0.020268  \n",
      "230253       0.008269        0.009974            0.019310  \n",
      "230282       0.005654        0.009974            0.018877  \n",
      "230097       0.005103        0.009974            0.017843  \n",
      "230273       0.004238        0.009974            0.017499  \n"
     ]
    },
    {
     "name": "stderr",
     "output_type": "stream",
     "text": [
      "127.0.0.1 - - [11/Dec/2020 21:20:11] \"\u001b[37mPOST /_dash-update-component HTTP/1.1\u001b[0m\" 200 -\n",
      "127.0.0.1 - - [11/Dec/2020 21:20:11] \"\u001b[37mPOST /_dash-update-component HTTP/1.1\u001b[0m\" 200 -\n",
      "127.0.0.1 - - [11/Dec/2020 21:21:00] \"\u001b[37mPOST /_dash-update-component HTTP/1.1\u001b[0m\" 200 -\n",
      "127.0.0.1 - - [11/Dec/2020 21:21:00] \"\u001b[37mPOST /_dash-update-component HTTP/1.1\u001b[0m\" 200 -\n",
      "127.0.0.1 - - [11/Dec/2020 21:21:00] \"\u001b[37mPOST /_dash-update-component HTTP/1.1\u001b[0m\" 200 -\n",
      "127.0.0.1 - - [11/Dec/2020 21:21:01] \"\u001b[37mPOST /_dash-update-component HTTP/1.1\u001b[0m\" 200 -\n",
      "127.0.0.1 - - [11/Dec/2020 21:21:01] \"\u001b[37mPOST /_dash-update-component HTTP/1.1\u001b[0m\" 200 -\n",
      "127.0.0.1 - - [11/Dec/2020 21:21:02] \"\u001b[37mPOST /_dash-update-component HTTP/1.1\u001b[0m\" 200 -\n",
      "127.0.0.1 - - [11/Dec/2020 21:21:02] \"\u001b[37mPOST /_dash-update-component HTTP/1.1\u001b[0m\" 200 -\n",
      "127.0.0.1 - - [11/Dec/2020 21:21:02] \"\u001b[37mPOST /_dash-update-component HTTP/1.1\u001b[0m\" 200 -\n",
      "127.0.0.1 - - [11/Dec/2020 21:21:03] \"\u001b[37mPOST /_dash-update-component HTTP/1.1\u001b[0m\" 200 -\n",
      "127.0.0.1 - - [11/Dec/2020 21:21:03] \"\u001b[37mPOST /_dash-update-component HTTP/1.1\u001b[0m\" 200 -\n",
      "127.0.0.1 - - [11/Dec/2020 21:21:03] \"\u001b[37mPOST /_dash-update-component HTTP/1.1\u001b[0m\" 200 -\n",
      "127.0.0.1 - - [11/Dec/2020 21:21:03] \"\u001b[37mPOST /_dash-update-component HTTP/1.1\u001b[0m\" 200 -\n",
      "127.0.0.1 - - [11/Dec/2020 21:21:03] \"\u001b[37mPOST /_dash-update-component HTTP/1.1\u001b[0m\" 200 -\n",
      "127.0.0.1 - - [11/Dec/2020 21:21:03] \"\u001b[37mPOST /_dash-update-component HTTP/1.1\u001b[0m\" 200 -\n",
      "127.0.0.1 - - [11/Dec/2020 21:21:03] \"\u001b[37mPOST /_dash-update-component HTTP/1.1\u001b[0m\" 200 -\n",
      "127.0.0.1 - - [11/Dec/2020 21:21:04] \"\u001b[37mPOST /_dash-update-component HTTP/1.1\u001b[0m\" 200 -\n",
      "127.0.0.1 - - [11/Dec/2020 21:21:04] \"\u001b[37mPOST /_dash-update-component HTTP/1.1\u001b[0m\" 200 -\n",
      "127.0.0.1 - - [11/Dec/2020 21:21:04] \"\u001b[37mPOST /_dash-update-component HTTP/1.1\u001b[0m\" 200 -\n",
      "127.0.0.1 - - [11/Dec/2020 21:21:04] \"\u001b[37mPOST /_dash-update-component HTTP/1.1\u001b[0m\" 200 -\n",
      "127.0.0.1 - - [11/Dec/2020 21:21:04] \"\u001b[37mPOST /_dash-update-component HTTP/1.1\u001b[0m\" 200 -\n",
      "127.0.0.1 - - [11/Dec/2020 21:21:04] \"\u001b[37mPOST /_dash-update-component HTTP/1.1\u001b[0m\" 200 -\n",
      "127.0.0.1 - - [11/Dec/2020 21:21:04] \"\u001b[37mPOST /_dash-update-component HTTP/1.1\u001b[0m\" 200 -\n",
      "127.0.0.1 - - [11/Dec/2020 21:21:04] \"\u001b[37mPOST /_dash-update-component HTTP/1.1\u001b[0m\" 200 -\n",
      "127.0.0.1 - - [11/Dec/2020 21:21:04] \"\u001b[37mPOST /_dash-update-component HTTP/1.1\u001b[0m\" 200 -\n",
      "127.0.0.1 - - [11/Dec/2020 21:21:05] \"\u001b[37mPOST /_dash-update-component HTTP/1.1\u001b[0m\" 200 -\n",
      "127.0.0.1 - - [11/Dec/2020 21:21:05] \"\u001b[37mPOST /_dash-update-component HTTP/1.1\u001b[0m\" 200 -\n",
      "127.0.0.1 - - [11/Dec/2020 21:21:05] \"\u001b[37mPOST /_dash-update-component HTTP/1.1\u001b[0m\" 200 -\n",
      "127.0.0.1 - - [11/Dec/2020 21:21:05] \"\u001b[37mPOST /_dash-update-component HTTP/1.1\u001b[0m\" 200 -\n",
      "127.0.0.1 - - [11/Dec/2020 21:21:05] \"\u001b[37mPOST /_dash-update-component HTTP/1.1\u001b[0m\" 200 -\n",
      "127.0.0.1 - - [11/Dec/2020 21:21:05] \"\u001b[37mPOST /_dash-update-component HTTP/1.1\u001b[0m\" 200 -\n",
      "127.0.0.1 - - [11/Dec/2020 21:21:05] \"\u001b[37mPOST /_dash-update-component HTTP/1.1\u001b[0m\" 200 -\n",
      "127.0.0.1 - - [11/Dec/2020 21:21:05] \"\u001b[37mPOST /_dash-update-component HTTP/1.1\u001b[0m\" 200 -\n",
      "127.0.0.1 - - [11/Dec/2020 21:21:05] \"\u001b[37mPOST /_dash-update-component HTTP/1.1\u001b[0m\" 200 -\n",
      "127.0.0.1 - - [11/Dec/2020 21:21:06] \"\u001b[37mPOST /_dash-update-component HTTP/1.1\u001b[0m\" 200 -\n",
      "127.0.0.1 - - [11/Dec/2020 21:21:06] \"\u001b[37mPOST /_dash-update-component HTTP/1.1\u001b[0m\" 200 -\n",
      "127.0.0.1 - - [11/Dec/2020 21:21:06] \"\u001b[37mPOST /_dash-update-component HTTP/1.1\u001b[0m\" 200 -\n",
      "127.0.0.1 - - [11/Dec/2020 21:21:06] \"\u001b[37mPOST /_dash-update-component HTTP/1.1\u001b[0m\" 200 -\n",
      "127.0.0.1 - - [11/Dec/2020 21:21:07] \"\u001b[37mPOST /_dash-update-component HTTP/1.1\u001b[0m\" 200 -\n",
      "127.0.0.1 - - [11/Dec/2020 21:21:07] \"\u001b[37mPOST /_dash-update-component HTTP/1.1\u001b[0m\" 200 -\n",
      "127.0.0.1 - - [11/Dec/2020 21:21:09] \"\u001b[37mPOST /_dash-update-component HTTP/1.1\u001b[0m\" 200 -\n",
      "127.0.0.1 - - [11/Dec/2020 21:21:09] \"\u001b[37mPOST /_dash-update-component HTTP/1.1\u001b[0m\" 200 -\n",
      "127.0.0.1 - - [11/Dec/2020 21:21:09] \"\u001b[37mPOST /_dash-update-component HTTP/1.1\u001b[0m\" 200 -\n",
      "127.0.0.1 - - [11/Dec/2020 21:21:09] \"\u001b[37mPOST /_dash-update-component HTTP/1.1\u001b[0m\" 200 -\n",
      "127.0.0.1 - - [11/Dec/2020 21:21:09] \"\u001b[37mPOST /_dash-update-component HTTP/1.1\u001b[0m\" 200 -\n",
      "127.0.0.1 - - [11/Dec/2020 21:21:09] \"\u001b[37mPOST /_dash-update-component HTTP/1.1\u001b[0m\" 200 -\n",
      "127.0.0.1 - - [11/Dec/2020 21:21:09] \"\u001b[37mPOST /_dash-update-component HTTP/1.1\u001b[0m\" 200 -\n",
      "127.0.0.1 - - [11/Dec/2020 21:21:09] \"\u001b[37mPOST /_dash-update-component HTTP/1.1\u001b[0m\" 200 -\n",
      "127.0.0.1 - - [11/Dec/2020 21:21:09] \"\u001b[37mPOST /_dash-update-component HTTP/1.1\u001b[0m\" 200 -\n",
      "127.0.0.1 - - [11/Dec/2020 21:21:12] \"\u001b[37mPOST /_dash-update-component HTTP/1.1\u001b[0m\" 200 -\n",
      "127.0.0.1 - - [11/Dec/2020 21:21:12] \"\u001b[37mPOST /_dash-update-component HTTP/1.1\u001b[0m\" 200 -\n",
      "127.0.0.1 - - [11/Dec/2020 21:21:12] \"\u001b[37mPOST /_dash-update-component HTTP/1.1\u001b[0m\" 200 -\n",
      "127.0.0.1 - - [11/Dec/2020 21:21:12] \"\u001b[37mPOST /_dash-update-component HTTP/1.1\u001b[0m\" 200 -\n",
      "127.0.0.1 - - [11/Dec/2020 21:21:19] \"\u001b[37mPOST /_dash-update-component HTTP/1.1\u001b[0m\" 200 -\n",
      "127.0.0.1 - - [11/Dec/2020 21:21:19] \"\u001b[37mPOST /_dash-update-component HTTP/1.1\u001b[0m\" 200 -\n",
      "127.0.0.1 - - [11/Dec/2020 21:21:19] \"\u001b[37mPOST /_dash-update-component HTTP/1.1\u001b[0m\" 200 -\n",
      "127.0.0.1 - - [11/Dec/2020 21:21:20] \"\u001b[37mPOST /_dash-update-component HTTP/1.1\u001b[0m\" 200 -\n",
      "127.0.0.1 - - [11/Dec/2020 21:21:20] \"\u001b[37mPOST /_dash-update-component HTTP/1.1\u001b[0m\" 200 -\n",
      "127.0.0.1 - - [11/Dec/2020 21:21:20] \"\u001b[37mPOST /_dash-update-component HTTP/1.1\u001b[0m\" 200 -\n",
      "127.0.0.1 - - [11/Dec/2020 21:21:20] \"\u001b[37mPOST /_dash-update-component HTTP/1.1\u001b[0m\" 200 -\n",
      "127.0.0.1 - - [11/Dec/2020 21:21:20] \"\u001b[37mPOST /_dash-update-component HTTP/1.1\u001b[0m\" 200 -\n",
      "127.0.0.1 - - [11/Dec/2020 21:21:20] \"\u001b[37mPOST /_dash-update-component HTTP/1.1\u001b[0m\" 200 -\n",
      "127.0.0.1 - - [11/Dec/2020 21:21:20] \"\u001b[37mPOST /_dash-update-component HTTP/1.1\u001b[0m\" 200 -\n",
      "127.0.0.1 - - [11/Dec/2020 21:21:20] \"\u001b[37mPOST /_dash-update-component HTTP/1.1\u001b[0m\" 200 -\n",
      "127.0.0.1 - - [11/Dec/2020 21:21:20] \"\u001b[37mPOST /_dash-update-component HTTP/1.1\u001b[0m\" 200 -\n",
      "127.0.0.1 - - [11/Dec/2020 21:21:21] \"\u001b[37mPOST /_dash-update-component HTTP/1.1\u001b[0m\" 200 -\n",
      "127.0.0.1 - - [11/Dec/2020 21:21:21] \"\u001b[37mPOST /_dash-update-component HTTP/1.1\u001b[0m\" 200 -\n",
      "127.0.0.1 - - [11/Dec/2020 21:21:21] \"\u001b[37mPOST /_dash-update-component HTTP/1.1\u001b[0m\" 200 -\n",
      "127.0.0.1 - - [11/Dec/2020 21:21:21] \"\u001b[37mPOST /_dash-update-component HTTP/1.1\u001b[0m\" 200 -\n",
      "127.0.0.1 - - [11/Dec/2020 21:21:21] \"\u001b[37mPOST /_dash-update-component HTTP/1.1\u001b[0m\" 200 -\n",
      "127.0.0.1 - - [11/Dec/2020 21:21:21] \"\u001b[37mPOST /_dash-update-component HTTP/1.1\u001b[0m\" 200 -\n",
      "127.0.0.1 - - [11/Dec/2020 21:21:22] \"\u001b[37mPOST /_dash-update-component HTTP/1.1\u001b[0m\" 200 -\n",
      "127.0.0.1 - - [11/Dec/2020 21:21:22] \"\u001b[37mPOST /_dash-update-component HTTP/1.1\u001b[0m\" 200 -\n",
      "127.0.0.1 - - [11/Dec/2020 21:21:22] \"\u001b[37mPOST /_dash-update-component HTTP/1.1\u001b[0m\" 200 -\n",
      "127.0.0.1 - - [11/Dec/2020 21:21:22] \"\u001b[37mPOST /_dash-update-component HTTP/1.1\u001b[0m\" 200 -\n",
      "127.0.0.1 - - [11/Dec/2020 21:21:23] \"\u001b[37mPOST /_dash-update-component HTTP/1.1\u001b[0m\" 200 -\n",
      "127.0.0.1 - - [11/Dec/2020 21:21:23] \"\u001b[37mPOST /_dash-update-component HTTP/1.1\u001b[0m\" 200 -\n",
      "127.0.0.1 - - [11/Dec/2020 21:21:23] \"\u001b[37mPOST /_dash-update-component HTTP/1.1\u001b[0m\" 200 -\n",
      "127.0.0.1 - - [11/Dec/2020 21:21:23] \"\u001b[37mPOST /_dash-update-component HTTP/1.1\u001b[0m\" 200 -\n",
      "127.0.0.1 - - [11/Dec/2020 21:21:23] \"\u001b[37mPOST /_dash-update-component HTTP/1.1\u001b[0m\" 200 -\n",
      "127.0.0.1 - - [11/Dec/2020 21:21:23] \"\u001b[37mPOST /_dash-update-component HTTP/1.1\u001b[0m\" 200 -\n",
      "127.0.0.1 - - [11/Dec/2020 21:21:23] \"\u001b[37mPOST /_dash-update-component HTTP/1.1\u001b[0m\" 200 -\n",
      "127.0.0.1 - - [11/Dec/2020 21:21:24] \"\u001b[37mPOST /_dash-update-component HTTP/1.1\u001b[0m\" 200 -\n",
      "127.0.0.1 - - [11/Dec/2020 21:21:24] \"\u001b[37mPOST /_dash-update-component HTTP/1.1\u001b[0m\" 200 -\n",
      "127.0.0.1 - - [11/Dec/2020 21:21:24] \"\u001b[37mPOST /_dash-update-component HTTP/1.1\u001b[0m\" 200 -\n",
      "127.0.0.1 - - [11/Dec/2020 21:21:24] \"\u001b[37mPOST /_dash-update-component HTTP/1.1\u001b[0m\" 200 -\n",
      "127.0.0.1 - - [11/Dec/2020 21:21:25] \"\u001b[37mPOST /_dash-update-component HTTP/1.1\u001b[0m\" 200 -\n",
      "127.0.0.1 - - [11/Dec/2020 21:21:29] \"\u001b[37mPOST /_dash-update-component HTTP/1.1\u001b[0m\" 200 -\n",
      "127.0.0.1 - - [11/Dec/2020 21:21:30] \"\u001b[37mPOST /_dash-update-component HTTP/1.1\u001b[0m\" 200 -\n"
     ]
    },
    {
     "name": "stderr",
     "output_type": "stream",
     "text": [
      "127.0.0.1 - - [11/Dec/2020 21:21:30] \"\u001b[37mPOST /_dash-update-component HTTP/1.1\u001b[0m\" 200 -\n",
      "127.0.0.1 - - [11/Dec/2020 21:21:30] \"\u001b[37mPOST /_dash-update-component HTTP/1.1\u001b[0m\" 200 -\n",
      "127.0.0.1 - - [11/Dec/2020 21:21:30] \"\u001b[37mPOST /_dash-update-component HTTP/1.1\u001b[0m\" 200 -\n",
      "127.0.0.1 - - [11/Dec/2020 21:21:30] \"\u001b[37mPOST /_dash-update-component HTTP/1.1\u001b[0m\" 200 -\n",
      "127.0.0.1 - - [11/Dec/2020 21:21:30] \"\u001b[37mPOST /_dash-update-component HTTP/1.1\u001b[0m\" 200 -\n",
      "127.0.0.1 - - [11/Dec/2020 21:21:30] \"\u001b[37mPOST /_dash-update-component HTTP/1.1\u001b[0m\" 200 -\n",
      "127.0.0.1 - - [11/Dec/2020 21:21:30] \"\u001b[37mPOST /_dash-update-component HTTP/1.1\u001b[0m\" 200 -\n",
      "127.0.0.1 - - [11/Dec/2020 21:21:30] \"\u001b[37mPOST /_dash-update-component HTTP/1.1\u001b[0m\" 200 -\n",
      "127.0.0.1 - - [11/Dec/2020 21:21:31] \"\u001b[37mPOST /_dash-update-component HTTP/1.1\u001b[0m\" 200 -\n",
      "127.0.0.1 - - [11/Dec/2020 21:21:31] \"\u001b[37mPOST /_dash-update-component HTTP/1.1\u001b[0m\" 200 -\n",
      "127.0.0.1 - - [11/Dec/2020 21:21:31] \"\u001b[37mPOST /_dash-update-component HTTP/1.1\u001b[0m\" 200 -\n",
      "127.0.0.1 - - [11/Dec/2020 21:21:31] \"\u001b[37mPOST /_dash-update-component HTTP/1.1\u001b[0m\" 200 -\n",
      "127.0.0.1 - - [11/Dec/2020 21:21:32] \"\u001b[37mPOST /_dash-update-component HTTP/1.1\u001b[0m\" 200 -\n",
      "127.0.0.1 - - [11/Dec/2020 21:21:32] \"\u001b[37mPOST /_dash-update-component HTTP/1.1\u001b[0m\" 200 -\n",
      "127.0.0.1 - - [11/Dec/2020 21:21:32] \"\u001b[37mPOST /_dash-update-component HTTP/1.1\u001b[0m\" 200 -\n",
      "127.0.0.1 - - [11/Dec/2020 21:21:32] \"\u001b[37mPOST /_dash-update-component HTTP/1.1\u001b[0m\" 200 -\n",
      "127.0.0.1 - - [11/Dec/2020 21:21:32] \"\u001b[37mPOST /_dash-update-component HTTP/1.1\u001b[0m\" 200 -\n",
      "127.0.0.1 - - [11/Dec/2020 21:21:32] \"\u001b[37mPOST /_dash-update-component HTTP/1.1\u001b[0m\" 200 -\n",
      "127.0.0.1 - - [11/Dec/2020 21:21:32] \"\u001b[37mPOST /_dash-update-component HTTP/1.1\u001b[0m\" 200 -\n",
      "127.0.0.1 - - [11/Dec/2020 21:21:32] \"\u001b[37mPOST /_dash-update-component HTTP/1.1\u001b[0m\" 200 -\n",
      "127.0.0.1 - - [11/Dec/2020 21:21:32] \"\u001b[37mPOST /_dash-update-component HTTP/1.1\u001b[0m\" 200 -\n",
      "127.0.0.1 - - [11/Dec/2020 21:21:33] \"\u001b[37mPOST /_dash-update-component HTTP/1.1\u001b[0m\" 200 -\n",
      "127.0.0.1 - - [11/Dec/2020 21:21:33] \"\u001b[37mPOST /_dash-update-component HTTP/1.1\u001b[0m\" 200 -\n",
      "127.0.0.1 - - [11/Dec/2020 21:21:33] \"\u001b[37mPOST /_dash-update-component HTTP/1.1\u001b[0m\" 200 -\n",
      "127.0.0.1 - - [11/Dec/2020 21:21:33] \"\u001b[37mPOST /_dash-update-component HTTP/1.1\u001b[0m\" 200 -\n",
      "127.0.0.1 - - [11/Dec/2020 21:21:33] \"\u001b[37mPOST /_dash-update-component HTTP/1.1\u001b[0m\" 200 -\n",
      "127.0.0.1 - - [11/Dec/2020 21:21:33] \"\u001b[37mPOST /_dash-update-component HTTP/1.1\u001b[0m\" 200 -\n",
      "127.0.0.1 - - [11/Dec/2020 21:21:33] \"\u001b[37mPOST /_dash-update-component HTTP/1.1\u001b[0m\" 200 -\n",
      "127.0.0.1 - - [11/Dec/2020 21:21:34] \"\u001b[37mPOST /_dash-update-component HTTP/1.1\u001b[0m\" 200 -\n",
      "127.0.0.1 - - [11/Dec/2020 21:21:34] \"\u001b[37mPOST /_dash-update-component HTTP/1.1\u001b[0m\" 200 -\n",
      "127.0.0.1 - - [11/Dec/2020 21:21:34] \"\u001b[37mPOST /_dash-update-component HTTP/1.1\u001b[0m\" 200 -\n",
      "127.0.0.1 - - [11/Dec/2020 21:21:34] \"\u001b[37mPOST /_dash-update-component HTTP/1.1\u001b[0m\" 200 -\n",
      "127.0.0.1 - - [11/Dec/2020 21:21:35] \"\u001b[37mPOST /_dash-update-component HTTP/1.1\u001b[0m\" 200 -\n",
      "127.0.0.1 - - [11/Dec/2020 21:21:35] \"\u001b[37mPOST /_dash-update-component HTTP/1.1\u001b[0m\" 200 -\n",
      "127.0.0.1 - - [11/Dec/2020 21:21:45] \"\u001b[37mPOST /_dash-update-component HTTP/1.1\u001b[0m\" 200 -\n",
      "127.0.0.1 - - [11/Dec/2020 21:21:45] \"\u001b[37mPOST /_dash-update-component HTTP/1.1\u001b[0m\" 200 -\n",
      "127.0.0.1 - - [11/Dec/2020 21:21:46] \"\u001b[37mPOST /_dash-update-component HTTP/1.1\u001b[0m\" 200 -\n",
      "127.0.0.1 - - [11/Dec/2020 21:21:46] \"\u001b[37mPOST /_dash-update-component HTTP/1.1\u001b[0m\" 200 -\n",
      "127.0.0.1 - - [11/Dec/2020 21:21:46] \"\u001b[37mPOST /_dash-update-component HTTP/1.1\u001b[0m\" 200 -\n",
      "127.0.0.1 - - [11/Dec/2020 21:21:46] \"\u001b[37mPOST /_dash-update-component HTTP/1.1\u001b[0m\" 200 -\n",
      "127.0.0.1 - - [11/Dec/2020 21:21:47] \"\u001b[37mPOST /_dash-update-component HTTP/1.1\u001b[0m\" 200 -\n",
      "127.0.0.1 - - [11/Dec/2020 21:21:47] \"\u001b[37mPOST /_dash-update-component HTTP/1.1\u001b[0m\" 200 -\n",
      "127.0.0.1 - - [11/Dec/2020 21:21:48] \"\u001b[37mPOST /_dash-update-component HTTP/1.1\u001b[0m\" 200 -\n",
      "127.0.0.1 - - [11/Dec/2020 21:21:48] \"\u001b[37mPOST /_dash-update-component HTTP/1.1\u001b[0m\" 200 -\n",
      "127.0.0.1 - - [11/Dec/2020 21:21:49] \"\u001b[37mPOST /_dash-update-component HTTP/1.1\u001b[0m\" 200 -\n",
      "127.0.0.1 - - [11/Dec/2020 21:21:49] \"\u001b[37mPOST /_dash-update-component HTTP/1.1\u001b[0m\" 200 -\n",
      "127.0.0.1 - - [11/Dec/2020 21:21:49] \"\u001b[37mPOST /_dash-update-component HTTP/1.1\u001b[0m\" 200 -\n",
      "127.0.0.1 - - [11/Dec/2020 21:21:49] \"\u001b[37mPOST /_dash-update-component HTTP/1.1\u001b[0m\" 200 -\n",
      "127.0.0.1 - - [11/Dec/2020 21:21:49] \"\u001b[37mPOST /_dash-update-component HTTP/1.1\u001b[0m\" 200 -\n",
      "127.0.0.1 - - [11/Dec/2020 21:21:49] \"\u001b[37mPOST /_dash-update-component HTTP/1.1\u001b[0m\" 200 -\n",
      "127.0.0.1 - - [11/Dec/2020 21:21:49] \"\u001b[37mPOST /_dash-update-component HTTP/1.1\u001b[0m\" 200 -\n",
      "127.0.0.1 - - [11/Dec/2020 21:21:49] \"\u001b[37mPOST /_dash-update-component HTTP/1.1\u001b[0m\" 200 -\n",
      "127.0.0.1 - - [11/Dec/2020 21:21:50] \"\u001b[37mPOST /_dash-update-component HTTP/1.1\u001b[0m\" 200 -\n",
      "127.0.0.1 - - [11/Dec/2020 21:21:50] \"\u001b[37mPOST /_dash-update-component HTTP/1.1\u001b[0m\" 200 -\n",
      "127.0.0.1 - - [11/Dec/2020 21:21:50] \"\u001b[37mPOST /_dash-update-component HTTP/1.1\u001b[0m\" 200 -\n",
      "127.0.0.1 - - [11/Dec/2020 21:21:50] \"\u001b[37mPOST /_dash-update-component HTTP/1.1\u001b[0m\" 200 -\n",
      "127.0.0.1 - - [11/Dec/2020 21:21:50] \"\u001b[37mPOST /_dash-update-component HTTP/1.1\u001b[0m\" 200 -\n",
      "127.0.0.1 - - [11/Dec/2020 21:21:50] \"\u001b[37mPOST /_dash-update-component HTTP/1.1\u001b[0m\" 200 -\n",
      "127.0.0.1 - - [11/Dec/2020 21:21:51] \"\u001b[37mPOST /_dash-update-component HTTP/1.1\u001b[0m\" 200 -\n",
      "127.0.0.1 - - [11/Dec/2020 21:21:51] \"\u001b[37mPOST /_dash-update-component HTTP/1.1\u001b[0m\" 200 -\n",
      "127.0.0.1 - - [11/Dec/2020 21:21:51] \"\u001b[37mPOST /_dash-update-component HTTP/1.1\u001b[0m\" 200 -\n",
      "127.0.0.1 - - [11/Dec/2020 21:21:51] \"\u001b[37mPOST /_dash-update-component HTTP/1.1\u001b[0m\" 200 -\n",
      "127.0.0.1 - - [11/Dec/2020 21:21:51] \"\u001b[37mPOST /_dash-update-component HTTP/1.1\u001b[0m\" 200 -\n",
      "127.0.0.1 - - [11/Dec/2020 21:21:51] \"\u001b[37mPOST /_dash-update-component HTTP/1.1\u001b[0m\" 200 -\n",
      "127.0.0.1 - - [11/Dec/2020 21:21:51] \"\u001b[37mPOST /_dash-update-component HTTP/1.1\u001b[0m\" 200 -\n",
      "127.0.0.1 - - [11/Dec/2020 21:21:51] \"\u001b[37mPOST /_dash-update-component HTTP/1.1\u001b[0m\" 200 -\n",
      "127.0.0.1 - - [11/Dec/2020 21:21:51] \"\u001b[37mPOST /_dash-update-component HTTP/1.1\u001b[0m\" 200 -\n",
      "127.0.0.1 - - [11/Dec/2020 21:21:51] \"\u001b[37mPOST /_dash-update-component HTTP/1.1\u001b[0m\" 200 -\n",
      "127.0.0.1 - - [11/Dec/2020 21:21:52] \"\u001b[37mPOST /_dash-update-component HTTP/1.1\u001b[0m\" 200 -\n",
      "127.0.0.1 - - [11/Dec/2020 21:21:52] \"\u001b[37mPOST /_dash-update-component HTTP/1.1\u001b[0m\" 200 -\n",
      "127.0.0.1 - - [11/Dec/2020 21:21:52] \"\u001b[37mPOST /_dash-update-component HTTP/1.1\u001b[0m\" 200 -\n",
      "127.0.0.1 - - [11/Dec/2020 21:21:54] \"\u001b[37mPOST /_dash-update-component HTTP/1.1\u001b[0m\" 200 -\n",
      "127.0.0.1 - - [11/Dec/2020 21:21:54] \"\u001b[37mPOST /_dash-update-component HTTP/1.1\u001b[0m\" 200 -\n",
      "127.0.0.1 - - [11/Dec/2020 21:21:54] \"\u001b[37mPOST /_dash-update-component HTTP/1.1\u001b[0m\" 200 -\n",
      "127.0.0.1 - - [11/Dec/2020 21:21:56] \"\u001b[37mPOST /_dash-update-component HTTP/1.1\u001b[0m\" 200 -\n",
      "127.0.0.1 - - [11/Dec/2020 21:21:56] \"\u001b[37mPOST /_dash-update-component HTTP/1.1\u001b[0m\" 200 -\n",
      "127.0.0.1 - - [11/Dec/2020 21:21:56] \"\u001b[37mPOST /_dash-update-component HTTP/1.1\u001b[0m\" 200 -\n",
      "127.0.0.1 - - [11/Dec/2020 21:21:56] \"\u001b[37mPOST /_dash-update-component HTTP/1.1\u001b[0m\" 200 -\n",
      "127.0.0.1 - - [11/Dec/2020 21:21:56] \"\u001b[37mPOST /_dash-update-component HTTP/1.1\u001b[0m\" 200 -\n",
      "127.0.0.1 - - [11/Dec/2020 21:21:56] \"\u001b[37mPOST /_dash-update-component HTTP/1.1\u001b[0m\" 200 -\n",
      "127.0.0.1 - - [11/Dec/2020 21:21:56] \"\u001b[37mPOST /_dash-update-component HTTP/1.1\u001b[0m\" 200 -\n",
      "127.0.0.1 - - [11/Dec/2020 21:21:57] \"\u001b[37mPOST /_dash-update-component HTTP/1.1\u001b[0m\" 200 -\n",
      "127.0.0.1 - - [11/Dec/2020 21:21:57] \"\u001b[37mPOST /_dash-update-component HTTP/1.1\u001b[0m\" 200 -\n",
      "127.0.0.1 - - [11/Dec/2020 21:21:58] \"\u001b[37mPOST /_dash-update-component HTTP/1.1\u001b[0m\" 200 -\n",
      "127.0.0.1 - - [11/Dec/2020 21:21:58] \"\u001b[37mPOST /_dash-update-component HTTP/1.1\u001b[0m\" 200 -\n",
      "127.0.0.1 - - [11/Dec/2020 21:21:58] \"\u001b[37mPOST /_dash-update-component HTTP/1.1\u001b[0m\" 200 -\n",
      "127.0.0.1 - - [11/Dec/2020 21:21:58] \"\u001b[37mPOST /_dash-update-component HTTP/1.1\u001b[0m\" 200 -\n",
      "127.0.0.1 - - [11/Dec/2020 21:22:00] \"\u001b[37mPOST /_dash-update-component HTTP/1.1\u001b[0m\" 200 -\n",
      "127.0.0.1 - - [11/Dec/2020 21:22:00] \"\u001b[37mPOST /_dash-update-component HTTP/1.1\u001b[0m\" 200 -\n",
      "127.0.0.1 - - [11/Dec/2020 21:22:00] \"\u001b[37mPOST /_dash-update-component HTTP/1.1\u001b[0m\" 200 -\n"
     ]
    },
    {
     "name": "stderr",
     "output_type": "stream",
     "text": [
      "127.0.0.1 - - [11/Dec/2020 21:22:57] \"\u001b[37mPOST /_dash-update-component HTTP/1.1\u001b[0m\" 200 -\n",
      "127.0.0.1 - - [11/Dec/2020 21:22:57] \"\u001b[37mPOST /_dash-update-component HTTP/1.1\u001b[0m\" 200 -\n",
      "127.0.0.1 - - [11/Dec/2020 21:23:04] \"\u001b[37mPOST /_dash-update-component HTTP/1.1\u001b[0m\" 200 -\n",
      "127.0.0.1 - - [11/Dec/2020 21:23:04] \"\u001b[37mPOST /_dash-update-component HTTP/1.1\u001b[0m\" 200 -\n",
      "127.0.0.1 - - [11/Dec/2020 21:23:04] \"\u001b[37mPOST /_dash-update-component HTTP/1.1\u001b[0m\" 200 -\n",
      "127.0.0.1 - - [11/Dec/2020 21:23:05] \"\u001b[37mPOST /_dash-update-component HTTP/1.1\u001b[0m\" 200 -\n",
      "127.0.0.1 - - [11/Dec/2020 21:23:11] \"\u001b[37mPOST /_dash-update-component HTTP/1.1\u001b[0m\" 200 -\n",
      "127.0.0.1 - - [11/Dec/2020 21:23:11] \"\u001b[37mPOST /_dash-update-component HTTP/1.1\u001b[0m\" 200 -\n",
      "127.0.0.1 - - [11/Dec/2020 21:23:11] \"\u001b[37mPOST /_dash-update-component HTTP/1.1\u001b[0m\" 200 -\n",
      "127.0.0.1 - - [11/Dec/2020 21:23:12] \"\u001b[37mPOST /_dash-update-component HTTP/1.1\u001b[0m\" 200 -\n",
      "127.0.0.1 - - [11/Dec/2020 21:23:14] \"\u001b[37mPOST /_dash-update-component HTTP/1.1\u001b[0m\" 200 -\n",
      "127.0.0.1 - - [11/Dec/2020 21:23:14] \"\u001b[37mPOST /_dash-update-component HTTP/1.1\u001b[0m\" 200 -\n",
      "127.0.0.1 - - [11/Dec/2020 21:23:14] \"\u001b[37mPOST /_dash-update-component HTTP/1.1\u001b[0m\" 200 -\n",
      "127.0.0.1 - - [11/Dec/2020 21:23:15] \"\u001b[37mPOST /_dash-update-component HTTP/1.1\u001b[0m\" 200 -\n",
      "127.0.0.1 - - [11/Dec/2020 21:23:15] \"\u001b[37mPOST /_dash-update-component HTTP/1.1\u001b[0m\" 200 -\n",
      "127.0.0.1 - - [11/Dec/2020 21:23:15] \"\u001b[37mPOST /_dash-update-component HTTP/1.1\u001b[0m\" 200 -\n",
      "127.0.0.1 - - [11/Dec/2020 21:23:23] \"\u001b[37mPOST /_dash-update-component HTTP/1.1\u001b[0m\" 200 -\n",
      "127.0.0.1 - - [11/Dec/2020 21:23:23] \"\u001b[37mPOST /_dash-update-component HTTP/1.1\u001b[0m\" 200 -\n",
      "127.0.0.1 - - [11/Dec/2020 21:23:26] \"\u001b[37mPOST /_dash-update-component HTTP/1.1\u001b[0m\" 200 -\n",
      "127.0.0.1 - - [11/Dec/2020 21:23:32] \"\u001b[37mPOST /_dash-update-component HTTP/1.1\u001b[0m\" 200 -\n",
      "127.0.0.1 - - [11/Dec/2020 21:23:34] \"\u001b[37mPOST /_dash-update-component HTTP/1.1\u001b[0m\" 200 -\n",
      "127.0.0.1 - - [11/Dec/2020 21:23:34] \"\u001b[37mPOST /_dash-update-component HTTP/1.1\u001b[0m\" 200 -\n",
      "127.0.0.1 - - [11/Dec/2020 21:23:34] \"\u001b[37mPOST /_dash-update-component HTTP/1.1\u001b[0m\" 200 -\n",
      "127.0.0.1 - - [11/Dec/2020 21:23:34] \"\u001b[37mPOST /_dash-update-component HTTP/1.1\u001b[0m\" 200 -\n",
      "127.0.0.1 - - [11/Dec/2020 21:23:36] \"\u001b[37mPOST /_dash-update-component HTTP/1.1\u001b[0m\" 200 -\n",
      "127.0.0.1 - - [11/Dec/2020 21:23:51] \"\u001b[37mPOST /_dash-update-component HTTP/1.1\u001b[0m\" 200 -\n",
      "127.0.0.1 - - [11/Dec/2020 21:23:52] \"\u001b[37mPOST /_dash-update-component HTTP/1.1\u001b[0m\" 200 -\n",
      "127.0.0.1 - - [11/Dec/2020 21:23:52] \"\u001b[37mPOST /_dash-update-component HTTP/1.1\u001b[0m\" 200 -\n",
      "127.0.0.1 - - [11/Dec/2020 21:23:52] \"\u001b[37mPOST /_dash-update-component HTTP/1.1\u001b[0m\" 200 -\n",
      "127.0.0.1 - - [11/Dec/2020 21:23:52] \"\u001b[37mPOST /_dash-update-component HTTP/1.1\u001b[0m\" 200 -\n",
      "127.0.0.1 - - [11/Dec/2020 21:23:52] \"\u001b[37mPOST /_dash-update-component HTTP/1.1\u001b[0m\" 200 -\n",
      "127.0.0.1 - - [11/Dec/2020 21:23:53] \"\u001b[37mPOST /_dash-update-component HTTP/1.1\u001b[0m\" 200 -\n",
      "127.0.0.1 - - [11/Dec/2020 21:23:53] \"\u001b[37mPOST /_dash-update-component HTTP/1.1\u001b[0m\" 200 -\n",
      "127.0.0.1 - - [11/Dec/2020 21:23:53] \"\u001b[37mPOST /_dash-update-component HTTP/1.1\u001b[0m\" 200 -\n",
      "127.0.0.1 - - [11/Dec/2020 21:23:54] \"\u001b[37mPOST /_dash-update-component HTTP/1.1\u001b[0m\" 200 -\n",
      "127.0.0.1 - - [11/Dec/2020 21:23:54] \"\u001b[37mPOST /_dash-update-component HTTP/1.1\u001b[0m\" 200 -\n",
      "127.0.0.1 - - [11/Dec/2020 21:23:55] \"\u001b[37mPOST /_dash-update-component HTTP/1.1\u001b[0m\" 200 -\n",
      "127.0.0.1 - - [11/Dec/2020 21:23:56] \"\u001b[37mPOST /_dash-update-component HTTP/1.1\u001b[0m\" 200 -\n",
      "127.0.0.1 - - [11/Dec/2020 21:23:56] \"\u001b[37mPOST /_dash-update-component HTTP/1.1\u001b[0m\" 200 -\n",
      "127.0.0.1 - - [11/Dec/2020 21:23:57] \"\u001b[37mPOST /_dash-update-component HTTP/1.1\u001b[0m\" 200 -\n",
      "127.0.0.1 - - [11/Dec/2020 21:23:58] \"\u001b[37mPOST /_dash-update-component HTTP/1.1\u001b[0m\" 200 -\n",
      "127.0.0.1 - - [11/Dec/2020 21:23:58] \"\u001b[37mPOST /_dash-update-component HTTP/1.1\u001b[0m\" 200 -\n",
      "127.0.0.1 - - [11/Dec/2020 21:23:59] \"\u001b[37mPOST /_dash-update-component HTTP/1.1\u001b[0m\" 200 -\n",
      "127.0.0.1 - - [11/Dec/2020 21:23:59] \"\u001b[37mPOST /_dash-update-component HTTP/1.1\u001b[0m\" 200 -\n",
      "127.0.0.1 - - [11/Dec/2020 21:23:59] \"\u001b[37mPOST /_dash-update-component HTTP/1.1\u001b[0m\" 200 -\n",
      "127.0.0.1 - - [11/Dec/2020 21:24:00] \"\u001b[37mPOST /_dash-update-component HTTP/1.1\u001b[0m\" 200 -\n"
     ]
    },
    {
     "name": "stdout",
     "output_type": "stream",
     "text": [
      "CALLED: switch_node_actmap_click\n",
      "CALLED: switch_edge_actmaps_click\n",
      "CALLED: update_edge_deepviz\n",
      "found pre-generated image\n",
      "CALLED: update_edge_kernelmap\n",
      "CALLED: update_edge_inmap\n",
      "CALLED: update_edge_outmap\n",
      "CALLED: update_store\n",
      "\n",
      "TRIGGER node-actmap-dropdown.value\n",
      "37-186\n",
      "changing selected node to 864CALLED: update_node_deepviz\n",
      "Updating cached activations with deepviz_g-37_features_0_preadd_conv:101_1607613312.76379.jpg\n",
      "\n"
     ]
    },
    {
     "name": "stderr",
     "output_type": "stream",
     "text": [
      "127.0.0.1 - - [11/Dec/2020 21:24:00] \"\u001b[37mPOST /_dash-update-component HTTP/1.1\u001b[0m\" 200 -\n",
      "127.0.0.1 - - [11/Dec/2020 21:24:00] \"\u001b[37mPOST /_dash-update-component HTTP/1.1\u001b[0m\" 200 -\n",
      "127.0.0.1 - - [11/Dec/2020 21:24:00] \"\u001b[37mPOST /_dash-update-component HTTP/1.1\u001b[0m\" 200 -\n",
      "127.0.0.1 - - [11/Dec/2020 21:24:00] \"\u001b[37mPOST /_dash-update-component HTTP/1.1\u001b[0m\" 200 -\n"
     ]
    },
    {
     "name": "stdout",
     "output_type": "stream",
     "text": [
      "found pre-generated image\n",
      "Updating cached activations with deepviz_g-37_features_0_preadd_conv:101_1607613312.76379.jpg\n",
      "CALLED: update_node_actmap\n",
      "Updating cached activations with deepviz_g-37_features_0_preadd_conv:101_1607613312.76379.jpg\n",
      "CALLED: update_node_inputs\n",
      "Updating cached activations with deepviz_g-37_features_0_preadd_conv:101_1607613312.76379.jpg\n"
     ]
    },
    {
     "name": "stderr",
     "output_type": "stream",
     "text": [
      "127.0.0.1 - - [11/Dec/2020 21:24:01] \"\u001b[37mPOST /_dash-update-component HTTP/1.1\u001b[0m\" 200 -\n",
      "127.0.0.1 - - [11/Dec/2020 21:24:01] \"\u001b[37mPOST /_dash-update-component HTTP/1.1\u001b[0m\" 200 -\n"
     ]
    },
    {
     "name": "stdout",
     "output_type": "stream",
     "text": [
      "CALLED: update_figure\n",
      "\n",
      "[0.1, 1]\n",
      "['r-2', '37-186', 'g-21', 'g-37', 'r-59', '37-186']\n",
      "['1135', '1044', '839', '787', '839', '772', '839', '245', '1074', '864']\n",
      "updating edge highlight to 37-186\n",
      "select edge, 37-186,  not recolored as no longer shown\n",
      "updating node highlight to 864\n",
      "4 178 features_10\n"
     ]
    },
    {
     "name": "stderr",
     "output_type": "stream",
     "text": [
      "127.0.0.1 - - [11/Dec/2020 21:24:02] \"\u001b[37mPOST /_dash-update-component HTTP/1.1\u001b[0m\" 200 -\n",
      "127.0.0.1 - - [11/Dec/2020 21:24:02] \"\u001b[37mPOST /_dash-update-component HTTP/1.1\u001b[0m\" 200 -\n",
      "127.0.0.1 - - [11/Dec/2020 21:24:02] \"\u001b[37mPOST /_dash-update-component HTTP/1.1\u001b[0m\" 200 -\n"
     ]
    },
    {
     "name": "stdout",
     "output_type": "stream",
     "text": [
      "CALLED: update_inputimg_dropdown options\n"
     ]
    },
    {
     "name": "stderr",
     "output_type": "stream",
     "text": [
      "127.0.0.1 - - [11/Dec/2020 21:24:03] \"\u001b[37mPOST /_dash-update-component HTTP/1.1\u001b[0m\" 200 -\n",
      "127.0.0.1 - - [11/Dec/2020 21:24:08] \"\u001b[37mPOST /_dash-update-component HTTP/1.1\u001b[0m\" 200 -\n",
      "127.0.0.1 - - [11/Dec/2020 21:24:09] \"\u001b[37mPOST /_dash-update-component HTTP/1.1\u001b[0m\" 200 -\n",
      "127.0.0.1 - - [11/Dec/2020 21:24:09] \"\u001b[37mPOST /_dash-update-component HTTP/1.1\u001b[0m\" 200 -\n",
      "127.0.0.1 - - [11/Dec/2020 21:24:13] \"\u001b[37mPOST /_dash-update-component HTTP/1.1\u001b[0m\" 200 -\n",
      "127.0.0.1 - - [11/Dec/2020 21:24:13] \"\u001b[37mPOST /_dash-update-component HTTP/1.1\u001b[0m\" 200 -\n",
      "127.0.0.1 - - [11/Dec/2020 21:24:13] \"\u001b[37mPOST /_dash-update-component HTTP/1.1\u001b[0m\" 200 -\n",
      "127.0.0.1 - - [11/Dec/2020 21:24:13] \"\u001b[37mPOST /_dash-update-component HTTP/1.1\u001b[0m\" 200 -\n",
      "127.0.0.1 - - [11/Dec/2020 21:24:13] \"\u001b[37mPOST /_dash-update-component HTTP/1.1\u001b[0m\" 200 -\n",
      "127.0.0.1 - - [11/Dec/2020 21:24:13] \"\u001b[37mPOST /_dash-update-component HTTP/1.1\u001b[0m\" 200 -\n",
      "127.0.0.1 - - [11/Dec/2020 21:24:14] \"\u001b[37mPOST /_dash-update-component HTTP/1.1\u001b[0m\" 200 -\n",
      "127.0.0.1 - - [11/Dec/2020 21:24:15] \"\u001b[37mPOST /_dash-update-component HTTP/1.1\u001b[0m\" 200 -\n",
      "127.0.0.1 - - [11/Dec/2020 21:24:22] \"\u001b[37mPOST /_dash-update-component HTTP/1.1\u001b[0m\" 200 -\n",
      "127.0.0.1 - - [11/Dec/2020 21:24:27] \"\u001b[37mPOST /_dash-update-component HTTP/1.1\u001b[0m\" 200 -\n",
      "127.0.0.1 - - [11/Dec/2020 21:24:27] \"\u001b[37mPOST /_dash-update-component HTTP/1.1\u001b[0m\" 200 -\n",
      "127.0.0.1 - - [11/Dec/2020 21:24:27] \"\u001b[37mPOST /_dash-update-component HTTP/1.1\u001b[0m\" 200 -\n",
      "127.0.0.1 - - [11/Dec/2020 21:24:35] \"\u001b[37mPOST /_dash-update-component HTTP/1.1\u001b[0m\" 200 -\n",
      "127.0.0.1 - - [11/Dec/2020 21:24:36] \"\u001b[37mPOST /_dash-update-component HTTP/1.1\u001b[0m\" 200 -\n"
     ]
    },
    {
     "name": "stdout",
     "output_type": "stream",
     "text": [
      "CALLED: switch_node_actmap_click\n",
      "CALLED: switch_edge_actmaps_click\n"
     ]
    },
    {
     "name": "stderr",
     "output_type": "stream",
     "text": [
      "127.0.0.1 - - [11/Dec/2020 21:24:36] \"\u001b[37mPOST /_dash-update-component HTTP/1.1\u001b[0m\" 200 -\n",
      "127.0.0.1 - - [11/Dec/2020 21:24:36] \"\u001b[37mPOST /_dash-update-component HTTP/1.1\u001b[0m\" 200 -\n",
      "127.0.0.1 - - [11/Dec/2020 21:24:36] \"\u001b[37mPOST /_dash-update-component HTTP/1.1\u001b[0m\" 200 -\n"
     ]
    },
    {
     "name": "stdout",
     "output_type": "stream",
     "text": [
      "CALLED: update_node_deepviz\n",
      "found pre-generated image\n",
      "CALLED: update_node_actmap\n",
      "Updating cached activations with deepviz_g-37_features_0_preadd_conv:101_1607613312.76379.jpg\n",
      "CALLED: update_node_inputs\n",
      "Updating cached activations with deepviz_g-37_features_0_preadd_conv:101_1607613312.76379.jpg\n"
     ]
    },
    {
     "name": "stderr",
     "output_type": "stream",
     "text": [
      "127.0.0.1 - - [11/Dec/2020 21:24:45] \"\u001b[37mPOST /_dash-update-component HTTP/1.1\u001b[0m\" 200 -\n",
      "127.0.0.1 - - [11/Dec/2020 21:24:45] \"\u001b[37mPOST /_dash-update-component HTTP/1.1\u001b[0m\" 200 -\n"
     ]
    },
    {
     "name": "stdout",
     "output_type": "stream",
     "text": [
      "CALLED: update_store\n",
      "\n",
      "TRIGGER edge-actmaps-input.value\n",
      "37-186\n",
      "changing selected node to 880\n",
      "CALLED: update_edge_deepviz\n",
      "found pre-generated image\n"
     ]
    },
    {
     "name": "stderr",
     "output_type": "stream",
     "text": [
      "127.0.0.1 - - [11/Dec/2020 21:24:46] \"\u001b[37mPOST /_dash-update-component HTTP/1.1\u001b[0m\" 200 -\n",
      "127.0.0.1 - - [11/Dec/2020 21:24:46] \"\u001b[37mPOST /_dash-update-component HTTP/1.1\u001b[0m\" 200 -\n"
     ]
    },
    {
     "name": "stdout",
     "output_type": "stream",
     "text": [
      "CALLED: update_edge_kernelmap\n",
      "CALLED: update_edge_inmap\n"
     ]
    },
    {
     "name": "stderr",
     "output_type": "stream",
     "text": [
      "127.0.0.1 - - [11/Dec/2020 21:24:47] \"\u001b[37mPOST /_dash-update-component HTTP/1.1\u001b[0m\" 200 -\n"
     ]
    },
    {
     "name": "stdout",
     "output_type": "stream",
     "text": [
      "CALLED: update_edge_outmap\n"
     ]
    },
    {
     "name": "stderr",
     "output_type": "stream",
     "text": [
      "127.0.0.1 - - [11/Dec/2020 21:24:48] \"\u001b[37mPOST /_dash-update-component HTTP/1.1\u001b[0m\" 200 -\n",
      "127.0.0.1 - - [11/Dec/2020 21:24:48] \"\u001b[37mPOST /_dash-update-component HTTP/1.1\u001b[0m\" 200 -\n",
      "127.0.0.1 - - [11/Dec/2020 21:24:48] \"\u001b[37mPOST /_dash-update-component HTTP/1.1\u001b[0m\" 200 -\n",
      "127.0.0.1 - - [11/Dec/2020 21:24:48] \"\u001b[37mPOST /_dash-update-component HTTP/1.1\u001b[0m\" 200 -\n",
      "127.0.0.1 - - [11/Dec/2020 21:24:48] \"\u001b[37mPOST /_dash-update-component HTTP/1.1\u001b[0m\" 200 -\n",
      "127.0.0.1 - - [11/Dec/2020 21:24:48] \"\u001b[37mPOST /_dash-update-component HTTP/1.1\u001b[0m\" 200 -\n",
      "127.0.0.1 - - [11/Dec/2020 21:24:48] \"\u001b[37mPOST /_dash-update-component HTTP/1.1\u001b[0m\" 200 -\n",
      "127.0.0.1 - - [11/Dec/2020 21:24:49] \"\u001b[37mPOST /_dash-update-component HTTP/1.1\u001b[0m\" 200 -\n",
      "127.0.0.1 - - [11/Dec/2020 21:24:49] \"\u001b[37mPOST /_dash-update-component HTTP/1.1\u001b[0m\" 200 -\n",
      "127.0.0.1 - - [11/Dec/2020 21:24:49] \"\u001b[37mPOST /_dash-update-component HTTP/1.1\u001b[0m\" 200 -\n",
      "127.0.0.1 - - [11/Dec/2020 21:24:49] \"\u001b[37mPOST /_dash-update-component HTTP/1.1\u001b[0m\" 200 -\n"
     ]
    },
    {
     "name": "stdout",
     "output_type": "stream",
     "text": [
      "Updating cached rank dfs with bullfrog\n"
     ]
    },
    {
     "name": "stderr",
     "output_type": "stream",
     "text": [
      "127.0.0.1 - - [11/Dec/2020 21:24:50] \"\u001b[37mPOST /_dash-update-component HTTP/1.1\u001b[0m\" 200 -\n",
      "127.0.0.1 - - [11/Dec/2020 21:24:50] \"\u001b[37mPOST /_dash-update-component HTTP/1.1\u001b[0m\" 200 -\n",
      "127.0.0.1 - - [11/Dec/2020 21:24:50] \"\u001b[37mPOST /_dash-update-component HTTP/1.1\u001b[0m\" 200 -\n",
      "127.0.0.1 - - [11/Dec/2020 21:24:50] \"\u001b[37mPOST /_dash-update-component HTTP/1.1\u001b[0m\" 200 -\n"
     ]
    },
    {
     "name": "stdout",
     "output_type": "stream",
     "text": [
      "CALLED: update_figure\n",
      "\n",
      "[0.1, 1]\n",
      "['r-2', '37-186', 'g-21', 'g-37', 'r-59', '37-186']\n",
      "['1044', '839', '787', '839', '772', '839', '245', '1074', '864', '880']\n",
      "updating edge highlight to 37-186\n",
      "select edge, 37-186,  not recolored as no longer shown\n",
      "updating node highlight to 880\n",
      "3 224 features_8\n"
     ]
    },
    {
     "name": "stderr",
     "output_type": "stream",
     "text": [
      "127.0.0.1 - - [11/Dec/2020 21:24:50] \"\u001b[37mPOST /_dash-update-component HTTP/1.1\u001b[0m\" 200 -\n",
      "127.0.0.1 - - [11/Dec/2020 21:24:50] \"\u001b[37mPOST /_dash-update-component HTTP/1.1\u001b[0m\" 200 -\n",
      "127.0.0.1 - - [11/Dec/2020 21:24:50] \"\u001b[37mPOST /_dash-update-component HTTP/1.1\u001b[0m\" 200 -\n",
      "127.0.0.1 - - [11/Dec/2020 21:24:51] \"\u001b[37mPOST /_dash-update-component HTTP/1.1\u001b[0m\" 200 -\n",
      "127.0.0.1 - - [11/Dec/2020 21:24:51] \"\u001b[37mPOST /_dash-update-component HTTP/1.1\u001b[0m\" 200 -\n",
      "127.0.0.1 - - [11/Dec/2020 21:24:51] \"\u001b[37mPOST /_dash-update-component HTTP/1.1\u001b[0m\" 200 -\n"
     ]
    },
    {
     "name": "stdout",
     "output_type": "stream",
     "text": [
      "CALLED: update_inputimg_dropdown options\n"
     ]
    },
    {
     "name": "stderr",
     "output_type": "stream",
     "text": [
      "127.0.0.1 - - [11/Dec/2020 21:24:51] \"\u001b[37mPOST /_dash-update-component HTTP/1.1\u001b[0m\" 200 -\n",
      "127.0.0.1 - - [11/Dec/2020 21:24:51] \"\u001b[37mPOST /_dash-update-component HTTP/1.1\u001b[0m\" 200 -\n",
      "127.0.0.1 - - [11/Dec/2020 21:24:51] \"\u001b[37mPOST /_dash-update-component HTTP/1.1\u001b[0m\" 200 -\n",
      "127.0.0.1 - - [11/Dec/2020 21:24:51] \"\u001b[37mPOST /_dash-update-component HTTP/1.1\u001b[0m\" 200 -\n",
      "127.0.0.1 - - [11/Dec/2020 21:24:51] \"\u001b[37mPOST /_dash-update-component HTTP/1.1\u001b[0m\" 200 -\n",
      "127.0.0.1 - - [11/Dec/2020 21:24:51] \"\u001b[37mPOST /_dash-update-component HTTP/1.1\u001b[0m\" 200 -\n",
      "127.0.0.1 - - [11/Dec/2020 21:24:51] \"\u001b[37mPOST /_dash-update-component HTTP/1.1\u001b[0m\" 200 -\n",
      "127.0.0.1 - - [11/Dec/2020 21:24:51] \"\u001b[37mPOST /_dash-update-component HTTP/1.1\u001b[0m\" 200 -\n"
     ]
    },
    {
     "name": "stdout",
     "output_type": "stream",
     "text": [
      "        edge_num  layer_name  layer  out_channel  in_channel  \\\n",
      "172300    172300  features_8      3          224          76   \n",
      "172486    172486  features_8      3          224         262   \n",
      "172538    172538  features_8      3          224         314   \n",
      "172340    172340  features_8      3          224         116   \n",
      "172258    172258  features_8      3          224          34   \n",
      "172249    172249  features_8      3          224          25   \n",
      "172242    172242  features_8      3          224          18   \n",
      "172459    172459  features_8      3          224         235   \n",
      "172240    172240  features_8      3          224          16   \n",
      "172288    172288  features_8      3          224          64   \n",
      "172513    172513  features_8      3          224         289   \n",
      "172438    172438  features_8      3          224         214   \n",
      "172415    172415  features_8      3          224         191   \n",
      "172453    172453  features_8      3          224         229   \n",
      "172272    172272  features_8      3          224          48   \n",
      "172401    172401  features_8      3          224         177   \n",
      "172292    172292  features_8      3          224          68   \n",
      "172256    172256  features_8      3          224          32   \n",
      "172236    172236  features_8      3          224          12   \n",
      "172353    172353  features_8      3          224         129   \n",
      "\n",
      "        act_prenorm_rank  grad_prenorm_rank  actxgrad_prenorm_rank  \\\n",
      "172300          0.222440           0.000007               0.000003   \n",
      "172486          0.099319           0.000007               0.000002   \n",
      "172538          0.460557           0.000007               0.000002   \n",
      "172340          0.155259           0.000007               0.000002   \n",
      "172258          0.140745           0.000007               0.000002   \n",
      "172249          0.146415           0.000007               0.000002   \n",
      "172242          0.097622           0.000007               0.000002   \n",
      "172459          0.165589           0.000007               0.000002   \n",
      "172240          0.213379           0.000007               0.000002   \n",
      "172288          0.331455           0.000007               0.000002   \n",
      "172513          0.191817           0.000007               0.000001   \n",
      "172438          0.122391           0.000007               0.000001   \n",
      "172415          0.256741           0.000007               0.000001   \n",
      "172453          0.098806           0.000007               0.000001   \n",
      "172272          0.086239           0.000007               0.000001   \n",
      "172401          0.155485           0.000007               0.000001   \n",
      "172292          0.350581           0.000007               0.000001   \n",
      "172256          0.127922           0.000007               0.000001   \n",
      "172236          0.149219           0.000007               0.000001   \n",
      "172353          0.184214           0.000007               0.000001   \n",
      "\n",
      "        act_norm_rank  grad_norm_rank  actxgrad_norm_rank  \n",
      "172300       0.007270         0.00229            0.009787  \n",
      "172486       0.003246         0.00229            0.006922  \n",
      "172538       0.015052         0.00229            0.005875  \n",
      "172340       0.005074         0.00229            0.005721  \n",
      "172258       0.004600         0.00229            0.005391  \n",
      "172249       0.004785         0.00229            0.005376  \n",
      "172242       0.003190         0.00229            0.005269  \n",
      "172459       0.005412         0.00229            0.005226  \n",
      "172240       0.006974         0.00229            0.005105  \n",
      "172288       0.010832         0.00229            0.005032  \n",
      "172513       0.006269         0.00229            0.004756  \n",
      "172438       0.004000         0.00229            0.004696  \n",
      "172415       0.008391         0.00229            0.004577  \n",
      "172453       0.003229         0.00229            0.004473  \n",
      "172272       0.002818         0.00229            0.004464  \n",
      "172401       0.005082         0.00229            0.004402  \n",
      "172292       0.011458         0.00229            0.004301  \n",
      "172256       0.004181         0.00229            0.004242  \n",
      "172236       0.004877         0.00229            0.004139  \n",
      "172353       0.006020         0.00229            0.004102  \n"
     ]
    },
    {
     "name": "stderr",
     "output_type": "stream",
     "text": [
      "127.0.0.1 - - [11/Dec/2020 21:25:04] \"\u001b[37mPOST /_dash-update-component HTTP/1.1\u001b[0m\" 200 -\n",
      "127.0.0.1 - - [11/Dec/2020 21:25:05] \"\u001b[37mPOST /_dash-update-component HTTP/1.1\u001b[0m\" 200 -\n"
     ]
    },
    {
     "name": "stdout",
     "output_type": "stream",
     "text": [
      "        edge_num  layer_name  layer  out_channel  in_channel  \\\n",
      "178644    178644  features_8      3          240         276   \n",
      "178601    178601  features_8      3          240         233   \n",
      "178466    178466  features_8      3          240          98   \n",
      "178573    178573  features_8      3          240         205   \n",
      "178484    178484  features_8      3          240         116   \n",
      "178481    178481  features_8      3          240         113   \n",
      "178592    178592  features_8      3          240         224   \n",
      "178705    178705  features_8      3          240         337   \n",
      "178545    178545  features_8      3          240         177   \n",
      "178436    178436  features_8      3          240          68   \n",
      "178625    178625  features_8      3          240         257   \n",
      "178544    178544  features_8      3          240         176   \n",
      "178541    178541  features_8      3          240         173   \n",
      "178607    178607  features_8      3          240         239   \n",
      "178603    178603  features_8      3          240         235   \n",
      "178409    178409  features_8      3          240          41   \n",
      "178657    178657  features_8      3          240         289   \n",
      "178434    178434  features_8      3          240          66   \n",
      "178501    178501  features_8      3          240         133   \n",
      "178553    178553  features_8      3          240         185   \n",
      "\n",
      "        act_prenorm_rank  grad_prenorm_rank  actxgrad_prenorm_rank  \\\n",
      "178644          0.345473           0.000013               0.000005   \n",
      "178601          0.359323           0.000013               0.000005   \n",
      "178466          0.214698           0.000013               0.000004   \n",
      "178573          0.182050           0.000013               0.000004   \n",
      "178484          0.153624           0.000013               0.000004   \n",
      "178481          0.208280           0.000013               0.000004   \n",
      "178592          0.161408           0.000013               0.000003   \n",
      "178705          0.233286           0.000013               0.000003   \n",
      "178545          0.118486           0.000013               0.000003   \n",
      "178436          0.363171           0.000013               0.000003   \n",
      "178625          0.211674           0.000013               0.000003   \n",
      "178544          0.205368           0.000013               0.000003   \n",
      "178541          0.124604           0.000013               0.000003   \n",
      "178607          0.153890           0.000013               0.000003   \n",
      "178603          0.133586           0.000013               0.000003   \n",
      "178409          0.166734           0.000013               0.000003   \n",
      "178657          0.294057           0.000013               0.000003   \n",
      "178434          0.179517           0.000013               0.000003   \n",
      "178501          0.132323           0.000013               0.000003   \n",
      "178553          0.164732           0.000013               0.000003   \n",
      "\n",
      "        act_norm_rank  grad_norm_rank  actxgrad_norm_rank  \n",
      "178644       0.011291        0.004312            0.016092  \n",
      "178601       0.011743        0.004312            0.016031  \n",
      "178466       0.007017        0.004312            0.014340  \n",
      "178573       0.005950        0.004312            0.013938  \n",
      "178484       0.005021        0.004312            0.012082  \n",
      "178481       0.006807        0.004312            0.011895  \n",
      "178592       0.005275        0.004312            0.011377  \n",
      "178705       0.007624        0.004312            0.011186  \n",
      "178545       0.003872        0.004312            0.010764  \n",
      "178436       0.011869        0.004312            0.010534  \n",
      "178625       0.006918        0.004312            0.010393  \n",
      "178544       0.006712        0.004312            0.010364  \n",
      "178541       0.004072        0.004312            0.010127  \n",
      "178607       0.005029        0.004312            0.009880  \n",
      "178603       0.004366        0.004312            0.009554  \n",
      "178409       0.005449        0.004312            0.009430  \n",
      "178657       0.009610        0.004312            0.009399  \n",
      "178434       0.005867        0.004312            0.009376  \n",
      "178501       0.004325        0.004312            0.008987  \n",
      "178553       0.005384        0.004312            0.008903  \n"
     ]
    },
    {
     "name": "stderr",
     "output_type": "stream",
     "text": [
      "127.0.0.1 - - [11/Dec/2020 21:25:11] \"\u001b[37mPOST /_dash-update-component HTTP/1.1\u001b[0m\" 200 -\n",
      "127.0.0.1 - - [11/Dec/2020 21:25:13] \"\u001b[37mPOST /_dash-update-component HTTP/1.1\u001b[0m\" 200 -\n",
      "127.0.0.1 - - [11/Dec/2020 21:25:13] \"\u001b[37mPOST /_dash-update-component HTTP/1.1\u001b[0m\" 200 -\n",
      "127.0.0.1 - - [11/Dec/2020 21:25:13] \"\u001b[37mPOST /_dash-update-component HTTP/1.1\u001b[0m\" 200 -\n",
      "127.0.0.1 - - [11/Dec/2020 21:25:13] \"\u001b[37mPOST /_dash-update-component HTTP/1.1\u001b[0m\" 200 -\n",
      "127.0.0.1 - - [11/Dec/2020 21:25:13] \"\u001b[37mPOST /_dash-update-component HTTP/1.1\u001b[0m\" 200 -\n",
      "127.0.0.1 - - [11/Dec/2020 21:25:14] \"\u001b[37mPOST /_dash-update-component HTTP/1.1\u001b[0m\" 200 -\n",
      "127.0.0.1 - - [11/Dec/2020 21:25:14] \"\u001b[37mPOST /_dash-update-component HTTP/1.1\u001b[0m\" 200 -\n",
      "127.0.0.1 - - [11/Dec/2020 21:25:14] \"\u001b[37mPOST /_dash-update-component HTTP/1.1\u001b[0m\" 200 -\n",
      "127.0.0.1 - - [11/Dec/2020 21:25:15] \"\u001b[37mPOST /_dash-update-component HTTP/1.1\u001b[0m\" 200 -\n"
     ]
    },
    {
     "name": "stdout",
     "output_type": "stream",
     "text": [
      "CALLED: switch_edge_actmaps_click\n",
      "CALLED: switch_node_actmap_click\n",
      "CALLED: update_edge_deepviz\n",
      "found pre-generated image\n",
      "CALLED: update_edge_kernelmap\n",
      "CALLED: update_edge_inmap\n",
      "CALLED: update_edge_outmap\n"
     ]
    },
    {
     "name": "stderr",
     "output_type": "stream",
     "text": [
      "127.0.0.1 - - [11/Dec/2020 21:25:15] \"\u001b[37mPOST /_dash-update-component HTTP/1.1\u001b[0m\" 200 -\n"
     ]
    },
    {
     "name": "stdout",
     "output_type": "stream",
     "text": [
      "CALLED: update_store\n",
      "\n",
      "TRIGGER node-actmap-dropdown.value\n",
      "37-186\n",
      "changing selected node to 744\n",
      "CALLED: update_node_deepviz\n",
      "found pre-generated image\n",
      "CALLED: update_node_actmap\n"
     ]
    },
    {
     "name": "stderr",
     "output_type": "stream",
     "text": [
      "127.0.0.1 - - [11/Dec/2020 21:25:16] \"\u001b[37mPOST /_dash-update-component HTTP/1.1\u001b[0m\" 200 -\n"
     ]
    },
    {
     "name": "stdout",
     "output_type": "stream",
     "text": [
      "CALLED: update_node_inputs\n"
     ]
    },
    {
     "name": "stderr",
     "output_type": "stream",
     "text": [
      "127.0.0.1 - - [11/Dec/2020 21:25:16] \"\u001b[37mPOST /_dash-update-component HTTP/1.1\u001b[0m\" 200 -\n",
      "127.0.0.1 - - [11/Dec/2020 21:25:18] \"\u001b[37mPOST /_dash-update-component HTTP/1.1\u001b[0m\" 200 -\n",
      "127.0.0.1 - - [11/Dec/2020 21:25:18] \"\u001b[37mPOST /_dash-update-component HTTP/1.1\u001b[0m\" 200 -\n"
     ]
    },
    {
     "name": "stdout",
     "output_type": "stream",
     "text": [
      "CALLED: update_figure\n",
      "\n",
      "[0.1, 1]\n",
      "['r-2', '37-186', 'g-21', 'g-37', 'r-59', '37-186']\n",
      "['839', '787', '839', '772', '839', '245', '1074', '864', '880', '744']\n",
      "updating edge highlight to 37-186\n",
      "select edge, 37-186,  not recolored as no longer shown\n",
      "updating node highlight to 744\n",
      "3 240 features_8\n"
     ]
    },
    {
     "name": "stderr",
     "output_type": "stream",
     "text": [
      "127.0.0.1 - - [11/Dec/2020 21:25:18] \"\u001b[37mPOST /_dash-update-component HTTP/1.1\u001b[0m\" 200 -\n",
      "127.0.0.1 - - [11/Dec/2020 21:25:18] \"\u001b[37mPOST /_dash-update-component HTTP/1.1\u001b[0m\" 200 -\n",
      "127.0.0.1 - - [11/Dec/2020 21:25:18] \"\u001b[37mPOST /_dash-update-component HTTP/1.1\u001b[0m\" 200 -\n",
      "127.0.0.1 - - [11/Dec/2020 21:25:18] \"\u001b[37mPOST /_dash-update-component HTTP/1.1\u001b[0m\" 200 -\n",
      "127.0.0.1 - - [11/Dec/2020 21:25:18] \"\u001b[37mPOST /_dash-update-component HTTP/1.1\u001b[0m\" 200 -\n",
      "127.0.0.1 - - [11/Dec/2020 21:25:18] \"\u001b[37mPOST /_dash-update-component HTTP/1.1\u001b[0m\" 200 -\n",
      "127.0.0.1 - - [11/Dec/2020 21:25:18] \"\u001b[37mPOST /_dash-update-component HTTP/1.1\u001b[0m\" 200 -\n"
     ]
    },
    {
     "name": "stdout",
     "output_type": "stream",
     "text": [
      "        edge_num  layer_name  layer  out_channel  in_channel  \\\n",
      "126335    126335  features_8      3          104         191   \n",
      "126235    126235  features_8      3          104          91   \n",
      "126493    126493  features_8      3          104         349   \n",
      "126403    126403  features_8      3          104         259   \n",
      "126379    126379  features_8      3          104         235   \n",
      "126313    126313  features_8      3          104         169   \n",
      "126290    126290  features_8      3          104         146   \n",
      "126225    126225  features_8      3          104          81   \n",
      "126210    126210  features_8      3          104          66   \n",
      "126185    126185  features_8      3          104          41   \n",
      "126310    126310  features_8      3          104         166   \n",
      "126205    126205  features_8      3          104          61   \n",
      "126419    126419  features_8      3          104         275   \n",
      "126482    126482  features_8      3          104         338   \n",
      "126418    126418  features_8      3          104         274   \n",
      "126231    126231  features_8      3          104          87   \n",
      "126437    126437  features_8      3          104         293   \n",
      "126158    126158  features_8      3          104          14   \n",
      "126165    126165  features_8      3          104          21   \n",
      "126458    126458  features_8      3          104         314   \n",
      "\n",
      "        act_prenorm_rank  grad_prenorm_rank  actxgrad_prenorm_rank  \\\n",
      "126335          0.243613           0.000009               0.000005   \n",
      "126235          0.229611           0.000009               0.000003   \n",
      "126493          0.134163           0.000009               0.000002   \n",
      "126403          0.184220           0.000009               0.000002   \n",
      "126379          0.239153           0.000009               0.000002   \n",
      "126313          0.178405           0.000009               0.000002   \n",
      "126290          0.189872           0.000009               0.000002   \n",
      "126225          0.274469           0.000009               0.000002   \n",
      "126210          0.241227           0.000009               0.000002   \n",
      "126185          0.293765           0.000009               0.000002   \n",
      "126310          0.214437           0.000009               0.000002   \n",
      "126205          0.202517           0.000009               0.000002   \n",
      "126419          0.160731           0.000009               0.000002   \n",
      "126482          0.239498           0.000009               0.000002   \n",
      "126418          0.304478           0.000009               0.000002   \n",
      "126231          0.173832           0.000009               0.000002   \n",
      "126437          0.194835           0.000009               0.000002   \n",
      "126158          0.159589           0.000009               0.000002   \n",
      "126165          0.109592           0.000009               0.000002   \n",
      "126458          0.181168           0.000009               0.000002   \n",
      "\n",
      "        act_norm_rank  grad_norm_rank  actxgrad_norm_rank  \n",
      "126335       0.007962        0.003102            0.016664  \n",
      "126235       0.007504        0.003102            0.009546  \n",
      "126493       0.004385        0.003102            0.008326  \n",
      "126403       0.006021        0.003102            0.007721  \n",
      "126379       0.007816        0.003102            0.007501  \n",
      "126313       0.005831        0.003102            0.007163  \n",
      "126290       0.006205        0.003102            0.006723  \n",
      "126225       0.008970        0.003102            0.006509  \n",
      "126210       0.007884        0.003102            0.006424  \n",
      "126185       0.009601        0.003102            0.006389  \n",
      "126310       0.007008        0.003102            0.006259  \n",
      "126205       0.006619        0.003102            0.006221  \n",
      "126419       0.005253        0.003102            0.006199  \n",
      "126482       0.007827        0.003102            0.006092  \n",
      "126418       0.009951        0.003102            0.005750  \n",
      "126231       0.005681        0.003102            0.005725  \n",
      "126437       0.006367        0.003102            0.005650  \n",
      "126158       0.005216        0.003102            0.005444  \n",
      "126165       0.003582        0.003102            0.005346  \n",
      "126458       0.005921        0.003102            0.005305  \n"
     ]
    },
    {
     "name": "stderr",
     "output_type": "stream",
     "text": [
      "127.0.0.1 - - [11/Dec/2020 21:25:19] \"\u001b[37mPOST /_dash-update-component HTTP/1.1\u001b[0m\" 200 -\n",
      "127.0.0.1 - - [11/Dec/2020 21:25:19] \"\u001b[37mPOST /_dash-update-component HTTP/1.1\u001b[0m\" 200 -\n",
      "127.0.0.1 - - [11/Dec/2020 21:25:19] \"\u001b[37mPOST /_dash-update-component HTTP/1.1\u001b[0m\" 200 -\n"
     ]
    },
    {
     "name": "stdout",
     "output_type": "stream",
     "text": [
      "CALLED: update_inputimg_dropdown options\n"
     ]
    },
    {
     "name": "stderr",
     "output_type": "stream",
     "text": [
      "127.0.0.1 - - [11/Dec/2020 21:25:32] \"\u001b[37mPOST /_dash-update-component HTTP/1.1\u001b[0m\" 200 -\n",
      "127.0.0.1 - - [11/Dec/2020 21:25:32] \"\u001b[37mPOST /_dash-update-component HTTP/1.1\u001b[0m\" 200 -\n",
      "127.0.0.1 - - [11/Dec/2020 21:25:32] \"\u001b[37mPOST /_dash-update-component HTTP/1.1\u001b[0m\" 200 -\n",
      "127.0.0.1 - - [11/Dec/2020 21:25:32] \"\u001b[37mPOST /_dash-update-component HTTP/1.1\u001b[0m\" 200 -\n",
      "127.0.0.1 - - [11/Dec/2020 21:25:32] \"\u001b[37mPOST /_dash-update-component HTTP/1.1\u001b[0m\" 200 -\n",
      "127.0.0.1 - - [11/Dec/2020 21:25:35] \"\u001b[37mPOST /_dash-update-component HTTP/1.1\u001b[0m\" 200 -\n",
      "127.0.0.1 - - [11/Dec/2020 21:25:35] \"\u001b[37mPOST /_dash-update-component HTTP/1.1\u001b[0m\" 200 -\n"
     ]
    },
    {
     "name": "stdout",
     "output_type": "stream",
     "text": [
      "CALLED: switch_node_actmap_click\n"
     ]
    },
    {
     "name": "stderr",
     "output_type": "stream",
     "text": [
      "127.0.0.1 - - [11/Dec/2020 21:25:35] \"\u001b[37mPOST /_dash-update-component HTTP/1.1\u001b[0m\" 200 -\n",
      "127.0.0.1 - - [11/Dec/2020 21:25:35] \"\u001b[37mPOST /_dash-update-component HTTP/1.1\u001b[0m\" 200 -\n"
     ]
    },
    {
     "name": "stdout",
     "output_type": "stream",
     "text": [
      "CALLED: switch_edge_actmaps_click\n",
      "CALLED: update_node_deepviz\n",
      "CALLED: update_node_inputs\n",
      "CALLED: update_node_actmap\n",
      "found pre-generated image\n"
     ]
    },
    {
     "name": "stderr",
     "output_type": "stream",
     "text": [
      "127.0.0.1 - - [11/Dec/2020 21:25:36] \"\u001b[37mPOST /_dash-update-component HTTP/1.1\u001b[0m\" 200 -\n",
      "127.0.0.1 - - [11/Dec/2020 21:25:36] \"\u001b[37mPOST /_dash-update-component HTTP/1.1\u001b[0m\" 200 -\n"
     ]
    },
    {
     "name": "stdout",
     "output_type": "stream",
     "text": [
      "CALLED: update_edge_deepviz\n",
      "found pre-generated image\n",
      "CALLED: update_edge_kernelmap\n",
      "CALLED: update_store\n",
      "\n",
      "TRIGGER edge-actmaps-input.value\n",
      "37-186\n",
      "changing selected node to 870\n",
      "CALLED: update_edge_inmap\n",
      "CALLED: update_edge_outmap\n"
     ]
    },
    {
     "name": "stderr",
     "output_type": "stream",
     "text": [
      "127.0.0.1 - - [11/Dec/2020 21:25:37] \"\u001b[37mPOST /_dash-update-component HTTP/1.1\u001b[0m\" 200 -\n",
      "127.0.0.1 - - [11/Dec/2020 21:25:38] \"\u001b[37mPOST /_dash-update-component HTTP/1.1\u001b[0m\" 200 -\n",
      "127.0.0.1 - - [11/Dec/2020 21:25:38] \"\u001b[37mPOST /_dash-update-component HTTP/1.1\u001b[0m\" 200 -\n",
      "127.0.0.1 - - [11/Dec/2020 21:25:38] \"\u001b[37mPOST /_dash-update-component HTTP/1.1\u001b[0m\" 200 -\n",
      "127.0.0.1 - - [11/Dec/2020 21:25:39] \"\u001b[37mPOST /_dash-update-component HTTP/1.1\u001b[0m\" 200 -\n",
      "127.0.0.1 - - [11/Dec/2020 21:25:39] \"\u001b[37mPOST /_dash-update-component HTTP/1.1\u001b[0m\" 200 -\n"
     ]
    },
    {
     "name": "stdout",
     "output_type": "stream",
     "text": [
      "CALLED: update_figure\n",
      "\n",
      "[0.1, 1]\n",
      "['r-2', '37-186', 'g-21', 'g-37', 'r-59', '37-186']\n",
      "['787', '839', '772', '839', '245', '1074', '864', '880', '744', '870']\n",
      "updating edge highlight to 37-186\n",
      "select edge, 37-186,  not recolored as no longer shown\n",
      "updating node highlight to 870\n",
      "3 104 features_8\n"
     ]
    },
    {
     "name": "stderr",
     "output_type": "stream",
     "text": [
      "127.0.0.1 - - [11/Dec/2020 21:25:39] \"\u001b[37mPOST /_dash-update-component HTTP/1.1\u001b[0m\" 200 -\n",
      "127.0.0.1 - - [11/Dec/2020 21:25:39] \"\u001b[37mPOST /_dash-update-component HTTP/1.1\u001b[0m\" 200 -\n",
      "127.0.0.1 - - [11/Dec/2020 21:25:39] \"\u001b[37mPOST /_dash-update-component HTTP/1.1\u001b[0m\" 200 -\n",
      "127.0.0.1 - - [11/Dec/2020 21:25:39] \"\u001b[37mPOST /_dash-update-component HTTP/1.1\u001b[0m\" 200 -\n"
     ]
    },
    {
     "name": "stdout",
     "output_type": "stream",
     "text": [
      "        edge_num  layer_name  layer  out_channel  in_channel  \\\n",
      "174600    174600  features_8      3          230          72   \n",
      "174763    174763  features_8      3          230         235   \n",
      "174780    174780  features_8      3          230         252   \n",
      "174719    174719  features_8      3          230         191   \n",
      "174705    174705  features_8      3          230         177   \n",
      "174620    174620  features_8      3          230          92   \n",
      "174591    174591  features_8      3          230          63   \n",
      "174615    174615  features_8      3          230          87   \n",
      "174658    174658  features_8      3          230         130   \n",
      "174772    174772  features_8      3          230         244   \n",
      "174547    174547  features_8      3          230          19   \n",
      "174801    174801  features_8      3          230         273   \n",
      "174816    174816  features_8      3          230         288   \n",
      "174840    174840  features_8      3          230         312   \n",
      "174675    174675  features_8      3          230         147   \n",
      "174733    174733  features_8      3          230         205   \n",
      "174842    174842  features_8      3          230         314   \n",
      "174572    174572  features_8      3          230          44   \n",
      "174614    174614  features_8      3          230          86   \n",
      "174528    174528  features_8      3          230           0   \n",
      "\n",
      "        act_prenorm_rank  grad_prenorm_rank  actxgrad_prenorm_rank  \\\n",
      "174600          0.189509           0.000008               0.000002   \n",
      "174763          0.247925           0.000008               0.000002   \n",
      "174780          0.126195           0.000008               0.000002   \n",
      "174719          0.207050           0.000008               0.000002   \n",
      "174705          0.313631           0.000008               0.000002   \n",
      "174620          0.203597           0.000008               0.000002   \n",
      "174591          0.158850           0.000008               0.000002   \n",
      "174615          0.159178           0.000008               0.000002   \n",
      "174658          0.136898           0.000008               0.000002   \n",
      "174772          0.242114           0.000008               0.000002   \n",
      "174547          0.144404           0.000008               0.000002   \n",
      "174801          0.236112           0.000008               0.000002   \n",
      "174816          0.101193           0.000008               0.000002   \n",
      "174840          0.159272           0.000008               0.000002   \n",
      "174675          0.137048           0.000008               0.000002   \n",
      "174733          0.171215           0.000008               0.000002   \n",
      "174842          0.172575           0.000008               0.000001   \n",
      "174572          0.392216           0.000008               0.000001   \n",
      "174614          0.121933           0.000008               0.000001   \n",
      "174528          0.116129           0.000008               0.000001   \n",
      "\n",
      "        act_norm_rank  grad_norm_rank  actxgrad_norm_rank  \n",
      "174600       0.006193        0.002852            0.008356  \n",
      "174763       0.008103        0.002852            0.007772  \n",
      "174780       0.004124        0.002852            0.007657  \n",
      "174719       0.006767        0.002852            0.006793  \n",
      "174705       0.010250        0.002852            0.006273  \n",
      "174620       0.006654        0.002852            0.006250  \n",
      "174591       0.005191        0.002852            0.006155  \n",
      "174615       0.005202        0.002852            0.006142  \n",
      "174658       0.004474        0.002852            0.006138  \n",
      "174772       0.007913        0.002852            0.006120  \n",
      "174547       0.004719        0.002852            0.006111  \n",
      "174801       0.007717        0.002852            0.005919  \n",
      "174816       0.003307        0.002852            0.005442  \n",
      "174840       0.005205        0.002852            0.005302  \n",
      "174675       0.004479        0.002852            0.005262  \n",
      "174733       0.005596        0.002852            0.005160  \n",
      "174842       0.005640        0.002852            0.004885  \n",
      "174572       0.012818        0.002852            0.004592  \n",
      "174614       0.003985        0.002852            0.004546  \n",
      "174528       0.003795        0.002852            0.004163  \n",
      "CALLED: update_inputimg_dropdown options\n"
     ]
    },
    {
     "name": "stderr",
     "output_type": "stream",
     "text": [
      "127.0.0.1 - - [11/Dec/2020 21:25:48] \"\u001b[37mPOST /_dash-update-component HTTP/1.1\u001b[0m\" 200 -\n",
      "127.0.0.1 - - [11/Dec/2020 21:25:48] \"\u001b[37mPOST /_dash-update-component HTTP/1.1\u001b[0m\" 200 -\n",
      "127.0.0.1 - - [11/Dec/2020 21:25:48] \"\u001b[37mPOST /_dash-update-component HTTP/1.1\u001b[0m\" 200 -\n",
      "127.0.0.1 - - [11/Dec/2020 21:25:48] \"\u001b[37mPOST /_dash-update-component HTTP/1.1\u001b[0m\" 200 -\n",
      "127.0.0.1 - - [11/Dec/2020 21:25:48] \"\u001b[37mPOST /_dash-update-component HTTP/1.1\u001b[0m\" 200 -\n",
      "127.0.0.1 - - [11/Dec/2020 21:25:48] \"\u001b[37mPOST /_dash-update-component HTTP/1.1\u001b[0m\" 200 -\n",
      "127.0.0.1 - - [11/Dec/2020 21:25:49] \"\u001b[37mPOST /_dash-update-component HTTP/1.1\u001b[0m\" 200 -\n",
      "127.0.0.1 - - [11/Dec/2020 21:25:49] \"\u001b[37mPOST /_dash-update-component HTTP/1.1\u001b[0m\" 200 -\n",
      "127.0.0.1 - - [11/Dec/2020 21:25:50] \"\u001b[37mPOST /_dash-update-component HTTP/1.1\u001b[0m\" 200 -\n",
      "127.0.0.1 - - [11/Dec/2020 21:25:50] \"\u001b[37mPOST /_dash-update-component HTTP/1.1\u001b[0m\" 200 -\n",
      "127.0.0.1 - - [11/Dec/2020 21:25:51] \"\u001b[37mPOST /_dash-update-component HTTP/1.1\u001b[0m\" 200 -\n",
      "127.0.0.1 - - [11/Dec/2020 21:25:51] \"\u001b[37mPOST /_dash-update-component HTTP/1.1\u001b[0m\" 200 -\n"
     ]
    },
    {
     "name": "stdout",
     "output_type": "stream",
     "text": [
      "CALLED: switch_node_actmap_click\n"
     ]
    },
    {
     "name": "stderr",
     "output_type": "stream",
     "text": [
      "127.0.0.1 - - [11/Dec/2020 21:25:51] \"\u001b[37mPOST /_dash-update-component HTTP/1.1\u001b[0m\" 200 -\n",
      "127.0.0.1 - - [11/Dec/2020 21:25:51] \"\u001b[37mPOST /_dash-update-component HTTP/1.1\u001b[0m\" 200 -\n"
     ]
    },
    {
     "name": "stdout",
     "output_type": "stream",
     "text": [
      "CALLED: switch_edge_actmaps_click\n",
      "CALLED: update_node_actmap\n",
      "CALLED: update_node_deepviz\n",
      "CALLED: update_node_inputs\n",
      "found pre-generated image\n"
     ]
    },
    {
     "name": "stderr",
     "output_type": "stream",
     "text": [
      "127.0.0.1 - - [11/Dec/2020 21:25:51] \"\u001b[37mPOST /_dash-update-component HTTP/1.1\u001b[0m\" 200 -\n"
     ]
    },
    {
     "name": "stdout",
     "output_type": "stream",
     "text": [
      "CALLED: update_edge_deepviz\n",
      "found pre-generated image\n",
      "CALLED: update_edge_kernelmap\n",
      "CALLED: update_store\n",
      "\n",
      "TRIGGER edge-actmaps-input.value\n",
      "37-186\n",
      "changing selected node to 764\n",
      "CALLED: update_edge_inmap\n"
     ]
    },
    {
     "name": "stderr",
     "output_type": "stream",
     "text": [
      "127.0.0.1 - - [11/Dec/2020 21:25:52] \"\u001b[37mPOST /_dash-update-component HTTP/1.1\u001b[0m\" 200 -\n"
     ]
    },
    {
     "name": "stdout",
     "output_type": "stream",
     "text": [
      "CALLED: update_edge_outmap\n"
     ]
    },
    {
     "name": "stderr",
     "output_type": "stream",
     "text": [
      "127.0.0.1 - - [11/Dec/2020 21:25:54] \"\u001b[37mPOST /_dash-update-component HTTP/1.1\u001b[0m\" 200 -\n",
      "127.0.0.1 - - [11/Dec/2020 21:25:54] \"\u001b[37mPOST /_dash-update-component HTTP/1.1\u001b[0m\" 200 -\n",
      "127.0.0.1 - - [11/Dec/2020 21:25:54] \"\u001b[37mPOST /_dash-update-component HTTP/1.1\u001b[0m\" 200 -\n",
      "127.0.0.1 - - [11/Dec/2020 21:25:54] \"\u001b[37mPOST /_dash-update-component HTTP/1.1\u001b[0m\" 200 -\n",
      "127.0.0.1 - - [11/Dec/2020 21:25:55] \"\u001b[37mPOST /_dash-update-component HTTP/1.1\u001b[0m\" 200 -\n",
      "127.0.0.1 - - [11/Dec/2020 21:25:55] \"\u001b[37mPOST /_dash-update-component HTTP/1.1\u001b[0m\" 200 -\n"
     ]
    },
    {
     "name": "stdout",
     "output_type": "stream",
     "text": [
      "        edge_num  layer_name  layer  out_channel  in_channel  \\\n",
      "133892    133892  features_8      3          124          68   \n",
      "134116    134116  features_8      3          124         292   \n",
      "134161    134161  features_8      3          124         337   \n",
      "134204    134204  features_8      3          124         380   \n",
      "133945    133945  features_8      3          124         121   \n",
      "134199    134199  features_8      3          124         375   \n",
      "133968    133968  features_8      3          124         144   \n",
      "134117    134117  features_8      3          124         293   \n",
      "134001    134001  features_8      3          124         177   \n",
      "133887    133887  features_8      3          124          63   \n",
      "133871    133871  features_8      3          124          47   \n",
      "134075    134075  features_8      3          124         251   \n",
      "133946    133946  features_8      3          124         122   \n",
      "134167    134167  features_8      3          124         343   \n",
      "133849    133849  features_8      3          124          25   \n",
      "134086    134086  features_8      3          124         262   \n",
      "133838    133838  features_8      3          124          14   \n",
      "133990    133990  features_8      3          124         166   \n",
      "134009    134009  features_8      3          124         185   \n",
      "133967    133967  features_8      3          124         143   \n",
      "\n",
      "        act_prenorm_rank  grad_prenorm_rank  actxgrad_prenorm_rank  \\\n",
      "133892          0.396876           0.000008               0.000003   \n",
      "134116          0.251992           0.000008               0.000003   \n",
      "134161          0.234212           0.000008               0.000002   \n",
      "134204          0.274671           0.000008               0.000002   \n",
      "133945          0.344832           0.000008               0.000002   \n",
      "134199          0.171777           0.000008               0.000002   \n",
      "133968          0.306633           0.000008               0.000002   \n",
      "134117          0.203705           0.000008               0.000002   \n",
      "134001          0.284015           0.000008               0.000002   \n",
      "133887          0.170809           0.000008               0.000002   \n",
      "133871          0.144030           0.000008               0.000002   \n",
      "134075          0.171872           0.000008               0.000002   \n",
      "133946          0.159944           0.000008               0.000002   \n",
      "134167          0.142446           0.000008               0.000002   \n",
      "133849          0.204858           0.000008               0.000001   \n",
      "134086          0.089561           0.000008               0.000001   \n",
      "133838          0.205384           0.000008               0.000001   \n",
      "133990          0.199186           0.000008               0.000001   \n",
      "134009          0.144805           0.000008               0.000001   \n",
      "133967          0.159218           0.000008               0.000001   \n",
      "\n",
      "        act_norm_rank  grad_norm_rank  actxgrad_norm_rank  \n",
      "133892       0.012971        0.002617            0.009347  \n",
      "134116       0.008235        0.002617            0.008787  \n",
      "134161       0.007654        0.002617            0.007819  \n",
      "134204       0.008977        0.002617            0.007682  \n",
      "133945       0.011270        0.002617            0.006926  \n",
      "134199       0.005614        0.002617            0.006738  \n",
      "133968       0.010021        0.002617            0.006586  \n",
      "134117       0.006657        0.002617            0.006529  \n",
      "134001       0.009282        0.002617            0.006467  \n",
      "133887       0.005582        0.002617            0.006454  \n",
      "133871       0.004707        0.002617            0.005693  \n",
      "134075       0.005617        0.002617            0.005276  \n",
      "133946       0.005227        0.002617            0.005199  \n",
      "134167       0.004655        0.002617            0.005076  \n",
      "133849       0.006695        0.002617            0.004812  \n",
      "134086       0.002927        0.002617            0.004781  \n",
      "133838       0.006712        0.002617            0.004654  \n",
      "133990       0.006510        0.002617            0.004533  \n",
      "134009       0.004732        0.002617            0.004397  \n",
      "133967       0.005203        0.002617            0.004290  \n"
     ]
    },
    {
     "name": "stderr",
     "output_type": "stream",
     "text": [
      "127.0.0.1 - - [11/Dec/2020 21:25:56] \"\u001b[37mPOST /_dash-update-component HTTP/1.1\u001b[0m\" 200 -\n",
      "127.0.0.1 - - [11/Dec/2020 21:25:56] \"\u001b[37mPOST /_dash-update-component HTTP/1.1\u001b[0m\" 200 -\n",
      "127.0.0.1 - - [11/Dec/2020 21:25:56] \"\u001b[37mPOST /_dash-update-component HTTP/1.1\u001b[0m\" 200 -\n",
      "127.0.0.1 - - [11/Dec/2020 21:25:56] \"\u001b[37mPOST /_dash-update-component HTTP/1.1\u001b[0m\" 200 -\n",
      "127.0.0.1 - - [11/Dec/2020 21:25:56] \"\u001b[37mPOST /_dash-update-component HTTP/1.1\u001b[0m\" 200 -\n",
      "127.0.0.1 - - [11/Dec/2020 21:25:56] \"\u001b[37mPOST /_dash-update-component HTTP/1.1\u001b[0m\" 200 -\n",
      "127.0.0.1 - - [11/Dec/2020 21:25:56] \"\u001b[37mPOST /_dash-update-component HTTP/1.1\u001b[0m\" 200 -\n"
     ]
    },
    {
     "name": "stdout",
     "output_type": "stream",
     "text": [
      "CALLED: update_figure\n",
      "\n",
      "[0.1, 1]\n",
      "['r-2', '37-186', 'g-21', 'g-37', 'r-59', '37-186']\n",
      "['839', '772', '839', '245', '1074', '864', '880', '744', '870', '764']\n",
      "updating edge highlight to 37-186\n",
      "select edge, 37-186,  not recolored as no longer shown\n",
      "updating node highlight to 764\n",
      "3 230 features_8\n"
     ]
    },
    {
     "name": "stderr",
     "output_type": "stream",
     "text": [
      "127.0.0.1 - - [11/Dec/2020 21:25:56] \"\u001b[37mPOST /_dash-update-component HTTP/1.1\u001b[0m\" 200 -\n"
     ]
    },
    {
     "name": "stdout",
     "output_type": "stream",
     "text": [
      "CALLED: update_inputimg_dropdown options\n"
     ]
    },
    {
     "name": "stderr",
     "output_type": "stream",
     "text": [
      "127.0.0.1 - - [11/Dec/2020 21:25:57] \"\u001b[37mPOST /_dash-update-component HTTP/1.1\u001b[0m\" 200 -\n",
      "127.0.0.1 - - [11/Dec/2020 21:26:01] \"\u001b[37mPOST /_dash-update-component HTTP/1.1\u001b[0m\" 200 -\n",
      "127.0.0.1 - - [11/Dec/2020 21:26:01] \"\u001b[37mPOST /_dash-update-component HTTP/1.1\u001b[0m\" 200 -\n",
      "127.0.0.1 - - [11/Dec/2020 21:26:01] \"\u001b[37mPOST /_dash-update-component HTTP/1.1\u001b[0m\" 200 -\n"
     ]
    },
    {
     "name": "stdout",
     "output_type": "stream",
     "text": [
      "CALLED: switch_node_actmap_click\n"
     ]
    },
    {
     "name": "stderr",
     "output_type": "stream",
     "text": [
      "127.0.0.1 - - [11/Dec/2020 21:26:01] \"\u001b[37mPOST /_dash-update-component HTTP/1.1\u001b[0m\" 200 -\n",
      "127.0.0.1 - - [11/Dec/2020 21:26:01] \"\u001b[37mPOST /_dash-update-component HTTP/1.1\u001b[0m\" 200 -\n"
     ]
    },
    {
     "name": "stdout",
     "output_type": "stream",
     "text": [
      "CALLED: switch_edge_actmaps_click\n",
      "CALLED: update_node_deepviz\n",
      "CALLED: update_node_inputs\n",
      "CALLED: update_node_actmap\n",
      "found pre-generated image\n"
     ]
    },
    {
     "name": "stderr",
     "output_type": "stream",
     "text": [
      "127.0.0.1 - - [11/Dec/2020 21:26:02] \"\u001b[37mPOST /_dash-update-component HTTP/1.1\u001b[0m\" 200 -\n",
      "127.0.0.1 - - [11/Dec/2020 21:26:02] \"\u001b[37mPOST /_dash-update-component HTTP/1.1\u001b[0m\" 200 -\n"
     ]
    },
    {
     "name": "stdout",
     "output_type": "stream",
     "text": [
      "CALLED: update_edge_deepviz\n",
      "CALLED: update_edge_kernelmap\n",
      "found pre-generated image\n",
      "CALLED: update_store\n",
      "\n",
      "TRIGGER edge-actmaps-input.value\n",
      "37-186\n",
      "changing selected node to 791\n",
      "CALLED: update_edge_inmap\n",
      "CALLED: update_edge_outmap\n"
     ]
    },
    {
     "name": "stderr",
     "output_type": "stream",
     "text": [
      "127.0.0.1 - - [11/Dec/2020 21:26:04] \"\u001b[37mPOST /_dash-update-component HTTP/1.1\u001b[0m\" 200 -\n",
      "127.0.0.1 - - [11/Dec/2020 21:26:04] \"\u001b[37mPOST /_dash-update-component HTTP/1.1\u001b[0m\" 200 -\n",
      "127.0.0.1 - - [11/Dec/2020 21:26:05] \"\u001b[37mPOST /_dash-update-component HTTP/1.1\u001b[0m\" 200 -\n",
      "127.0.0.1 - - [11/Dec/2020 21:26:05] \"\u001b[37mPOST /_dash-update-component HTTP/1.1\u001b[0m\" 200 -\n",
      "127.0.0.1 - - [11/Dec/2020 21:26:05] \"\u001b[37mPOST /_dash-update-component HTTP/1.1\u001b[0m\" 200 -\n",
      "127.0.0.1 - - [11/Dec/2020 21:26:05] \"\u001b[37mPOST /_dash-update-component HTTP/1.1\u001b[0m\" 200 -\n",
      "127.0.0.1 - - [11/Dec/2020 21:26:05] \"\u001b[37mPOST /_dash-update-component HTTP/1.1\u001b[0m\" 200 -\n",
      "127.0.0.1 - - [11/Dec/2020 21:26:05] \"\u001b[37mPOST /_dash-update-component HTTP/1.1\u001b[0m\" 200 -\n",
      "127.0.0.1 - - [11/Dec/2020 21:26:05] \"\u001b[37mPOST /_dash-update-component HTTP/1.1\u001b[0m\" 200 -\n",
      "127.0.0.1 - - [11/Dec/2020 21:26:05] \"\u001b[37mPOST /_dash-update-component HTTP/1.1\u001b[0m\" 200 -\n"
     ]
    },
    {
     "name": "stdout",
     "output_type": "stream",
     "text": [
      "        edge_num  layer_name  layer  out_channel  in_channel  \\\n",
      "144367    144367  features_8      3          151         175   \n",
      "144488    144488  features_8      3          151         296   \n",
      "144255    144255  features_8      3          151          63   \n",
      "144572    144572  features_8      3          151         380   \n",
      "144427    144427  features_8      3          151         235   \n",
      "144217    144217  features_8      3          151          25   \n",
      "144392    144392  features_8      3          151         200   \n",
      "144468    144468  features_8      3          151         276   \n",
      "144469    144469  features_8      3          151         277   \n",
      "144515    144515  features_8      3          151         323   \n",
      "144335    144335  features_8      3          151         143   \n",
      "144290    144290  features_8      3          151          98   \n",
      "144279    144279  features_8      3          151          87   \n",
      "144485    144485  features_8      3          151         293   \n",
      "144364    144364  features_8      3          151         172   \n",
      "144351    144351  features_8      3          151         159   \n",
      "144541    144541  features_8      3          151         349   \n",
      "144486    144486  features_8      3          151         294   \n",
      "144506    144506  features_8      3          151         314   \n",
      "144369    144369  features_8      3          151         177   \n",
      "\n",
      "        act_prenorm_rank  grad_prenorm_rank  actxgrad_prenorm_rank  \\\n",
      "144367          0.277046           0.000009               0.000004   \n",
      "144488          0.256546           0.000009               0.000004   \n",
      "144255          0.242618           0.000009               0.000004   \n",
      "144572          0.317859           0.000009               0.000003   \n",
      "144427          0.220546           0.000009               0.000003   \n",
      "144217          0.329192           0.000009               0.000003   \n",
      "144392          0.232318           0.000009               0.000003   \n",
      "144468          0.175106           0.000009               0.000003   \n",
      "144469          0.210746           0.000009               0.000002   \n",
      "144515          0.299127           0.000009               0.000002   \n",
      "144335          0.214313           0.000009               0.000002   \n",
      "144290          0.221688           0.000009               0.000002   \n",
      "144279          0.232772           0.000009               0.000002   \n",
      "144485          0.164575           0.000009               0.000002   \n",
      "144364          0.157033           0.000009               0.000002   \n",
      "144351          0.281893           0.000009               0.000002   \n",
      "144541          0.346611           0.000009               0.000002   \n",
      "144486          0.160727           0.000009               0.000002   \n",
      "144506          0.230209           0.000009               0.000002   \n",
      "144369          0.168563           0.000009               0.000002   \n",
      "\n",
      "        act_norm_rank  grad_norm_rank  actxgrad_norm_rank  \n",
      "144367       0.009054        0.003167            0.014257  \n",
      "144488       0.008384        0.003167            0.012931  \n",
      "144255       0.007929        0.003167            0.012817  \n",
      "144572       0.010388        0.003167            0.010013  \n",
      "144427       0.007208        0.003167            0.009430  \n",
      "144217       0.010759        0.003167            0.009397  \n",
      "144392       0.007593        0.003167            0.008754  \n",
      "144468       0.005723        0.003167            0.008408  \n",
      "144469       0.006888        0.003167            0.008323  \n",
      "144515       0.009776        0.003167            0.008079  \n",
      "144335       0.007004        0.003167            0.007991  \n",
      "144290       0.007245        0.003167            0.007970  \n",
      "144279       0.007607        0.003167            0.007924  \n",
      "144485       0.005379        0.003167            0.007579  \n",
      "144364       0.005132        0.003167            0.007534  \n",
      "144351       0.009213        0.003167            0.007246  \n",
      "144541       0.011328        0.003167            0.006941  \n",
      "144486       0.005253        0.003167            0.006799  \n",
      "144506       0.007524        0.003167            0.006617  \n",
      "144369       0.005509        0.003167            0.006387  \n",
      "CALLED: update_figure\n",
      "\n",
      "[0.1, 1]\n",
      "['r-2', '37-186', 'g-21', 'g-37', 'r-59', '37-186']\n",
      "['772', '839', '245', '1074', '864', '880', '744', '870', '764', '791']\n",
      "updating edge highlight to 37-186\n",
      "select edge, 37-186,  not recolored as no longer shown\n",
      "updating node highlight to 791\n",
      "3 124 features_8\n"
     ]
    },
    {
     "name": "stderr",
     "output_type": "stream",
     "text": [
      "127.0.0.1 - - [11/Dec/2020 21:26:06] \"\u001b[37mPOST /_dash-update-component HTTP/1.1\u001b[0m\" 200 -\n",
      "127.0.0.1 - - [11/Dec/2020 21:26:06] \"\u001b[37mPOST /_dash-update-component HTTP/1.1\u001b[0m\" 200 -\n"
     ]
    },
    {
     "name": "stdout",
     "output_type": "stream",
     "text": [
      "CALLED: update_inputimg_dropdown options\n"
     ]
    },
    {
     "name": "stderr",
     "output_type": "stream",
     "text": [
      "127.0.0.1 - - [11/Dec/2020 21:26:11] \"\u001b[37mPOST /_dash-update-component HTTP/1.1\u001b[0m\" 200 -\n",
      "127.0.0.1 - - [11/Dec/2020 21:26:12] \"\u001b[37mPOST /_dash-update-component HTTP/1.1\u001b[0m\" 200 -\n",
      "127.0.0.1 - - [11/Dec/2020 21:26:12] \"\u001b[37mPOST /_dash-update-component HTTP/1.1\u001b[0m\" 200 -\n",
      "127.0.0.1 - - [11/Dec/2020 21:26:14] \"\u001b[37mPOST /_dash-update-component HTTP/1.1\u001b[0m\" 200 -\n",
      "127.0.0.1 - - [11/Dec/2020 21:26:16] \"\u001b[37mPOST /_dash-update-component HTTP/1.1\u001b[0m\" 200 -\n",
      "127.0.0.1 - - [11/Dec/2020 21:26:16] \"\u001b[37mPOST /_dash-update-component HTTP/1.1\u001b[0m\" 200 -\n"
     ]
    },
    {
     "name": "stdout",
     "output_type": "stream",
     "text": [
      "CALLED: switch_node_actmap_click\n"
     ]
    },
    {
     "name": "stderr",
     "output_type": "stream",
     "text": [
      "127.0.0.1 - - [11/Dec/2020 21:26:18] \"\u001b[37mPOST /_dash-update-component HTTP/1.1\u001b[0m\" 200 -\n",
      "127.0.0.1 - - [11/Dec/2020 21:26:18] \"\u001b[37mPOST /_dash-update-component HTTP/1.1\u001b[0m\" 200 -\n"
     ]
    },
    {
     "name": "stdout",
     "output_type": "stream",
     "text": [
      "CALLED: switch_edge_actmaps_click\n",
      "CALLED: update_node_deepviz\n",
      "CALLED: update_node_inputs\n",
      "found pre-generated imageCALLED: update_node_actmap\n",
      "\n",
      "CALLED: update_edge_deepviz\n"
     ]
    },
    {
     "name": "stderr",
     "output_type": "stream",
     "text": [
      "127.0.0.1 - - [11/Dec/2020 21:26:18] \"\u001b[37mPOST /_dash-update-component HTTP/1.1\u001b[0m\" 200 -\n"
     ]
    },
    {
     "name": "stdout",
     "output_type": "stream",
     "text": [
      "found pre-generated image\n",
      "CALLED: update_store\n",
      "\n",
      "TRIGGER edge-actmaps-input.value\n",
      "37-186\n",
      "changing selected node to 672\n",
      "CALLED: update_edge_kernelmap\n"
     ]
    },
    {
     "name": "stderr",
     "output_type": "stream",
     "text": [
      "127.0.0.1 - - [11/Dec/2020 21:26:19] \"\u001b[37mPOST /_dash-update-component HTTP/1.1\u001b[0m\" 200 -\n"
     ]
    },
    {
     "name": "stdout",
     "output_type": "stream",
     "text": [
      "CALLED: update_edge_inmap\n",
      "CALLED: update_edge_outmap\n"
     ]
    },
    {
     "name": "stderr",
     "output_type": "stream",
     "text": [
      "127.0.0.1 - - [11/Dec/2020 21:26:20] \"\u001b[37mPOST /_dash-update-component HTTP/1.1\u001b[0m\" 200 -\n",
      "127.0.0.1 - - [11/Dec/2020 21:26:20] \"\u001b[37mPOST /_dash-update-component HTTP/1.1\u001b[0m\" 200 -\n"
     ]
    },
    {
     "name": "stdout",
     "output_type": "stream",
     "text": [
      "CALLED: update_figure\n",
      "\n",
      "[0.1, 1]\n",
      "['r-2', '37-186', 'g-21', 'g-37', 'r-59', '37-186']\n",
      "['839', '245', '1074', '864', '880', '744', '870', '764', '791', '672']\n",
      "updating edge highlight to 37-186\n",
      "select edge, 37-186,  not recolored as no longer shown\n",
      "updating node highlight to 672\n",
      "3 151 features_8\n"
     ]
    },
    {
     "name": "stderr",
     "output_type": "stream",
     "text": [
      "127.0.0.1 - - [11/Dec/2020 21:26:20] \"\u001b[37mPOST /_dash-update-component HTTP/1.1\u001b[0m\" 200 -\n",
      "127.0.0.1 - - [11/Dec/2020 21:26:21] \"\u001b[37mPOST /_dash-update-component HTTP/1.1\u001b[0m\" 200 -\n",
      "127.0.0.1 - - [11/Dec/2020 21:26:21] \"\u001b[37mPOST /_dash-update-component HTTP/1.1\u001b[0m\" 200 -\n",
      "127.0.0.1 - - [11/Dec/2020 21:26:21] \"\u001b[37mPOST /_dash-update-component HTTP/1.1\u001b[0m\" 200 -\n",
      "127.0.0.1 - - [11/Dec/2020 21:26:21] \"\u001b[37mPOST /_dash-update-component HTTP/1.1\u001b[0m\" 200 -\n",
      "127.0.0.1 - - [11/Dec/2020 21:26:21] \"\u001b[37mPOST /_dash-update-component HTTP/1.1\u001b[0m\" 200 -\n",
      "127.0.0.1 - - [11/Dec/2020 21:26:21] \"\u001b[37mPOST /_dash-update-component HTTP/1.1\u001b[0m\" 200 -\n"
     ]
    },
    {
     "name": "stdout",
     "output_type": "stream",
     "text": [
      "CALLED: update_inputimg_dropdown options\n"
     ]
    },
    {
     "name": "stderr",
     "output_type": "stream",
     "text": [
      "127.0.0.1 - - [11/Dec/2020 21:26:21] \"\u001b[37mPOST /_dash-update-component HTTP/1.1\u001b[0m\" 200 -\n",
      "127.0.0.1 - - [11/Dec/2020 21:26:22] \"\u001b[37mPOST /_dash-update-component HTTP/1.1\u001b[0m\" 200 -\n"
     ]
    },
    {
     "name": "stdout",
     "output_type": "stream",
     "text": [
      "       edge_num  layer_name  layer  out_channel  in_channel  act_prenorm_rank  \\\n",
      "98672     98672  features_8      3           32         176          0.371283   \n",
      "98796     98796  features_8      3           32         300          0.162214   \n",
      "98810     98810  features_8      3           32         314          0.213856   \n",
      "98696     98696  features_8      3           32         200          0.206008   \n",
      "98669     98669  features_8      3           32         173          0.126497   \n",
      "98635     98635  features_8      3           32         139          0.130541   \n",
      "98698     98698  features_8      3           32         202          0.145189   \n",
      "98613     98613  features_8      3           32         117          0.383423   \n",
      "98500     98500  features_8      3           32           4          0.129226   \n",
      "98612     98612  features_8      3           32         116          0.116817   \n",
      "98542     98542  features_8      3           32          46          0.139237   \n",
      "98523     98523  features_8      3           32          27          0.127584   \n",
      "98573     98573  features_8      3           32          77          0.140400   \n",
      "98785     98785  features_8      3           32         289          0.331924   \n",
      "98564     98564  features_8      3           32          68          0.166744   \n",
      "98731     98731  features_8      3           32         235          0.127163   \n",
      "98739     98739  features_8      3           32         243          0.186457   \n",
      "98825     98825  features_8      3           32         329          0.164453   \n",
      "98673     98673  features_8      3           32         177          0.075348   \n",
      "98661     98661  features_8      3           32         165          0.180034   \n",
      "\n",
      "       grad_prenorm_rank  actxgrad_prenorm_rank  act_norm_rank  \\\n",
      "98672           0.000009               0.000004       0.012134   \n",
      "98796           0.000009               0.000003       0.005301   \n",
      "98810           0.000009               0.000003       0.006989   \n",
      "98696           0.000009               0.000002       0.006733   \n",
      "98669           0.000009               0.000002       0.004134   \n",
      "98635           0.000009               0.000002       0.004266   \n",
      "98698           0.000009               0.000002       0.004745   \n",
      "98613           0.000009               0.000002       0.012531   \n",
      "98500           0.000009               0.000002       0.004223   \n",
      "98612           0.000009               0.000002       0.003818   \n",
      "98542           0.000009               0.000002       0.004550   \n",
      "98523           0.000009               0.000002       0.004170   \n",
      "98573           0.000009               0.000002       0.004589   \n",
      "98785           0.000009               0.000002       0.010848   \n",
      "98564           0.000009               0.000002       0.005449   \n",
      "98731           0.000009               0.000002       0.004156   \n",
      "98739           0.000009               0.000002       0.006094   \n",
      "98825           0.000009               0.000002       0.005375   \n",
      "98673           0.000009               0.000002       0.002462   \n",
      "98661           0.000009               0.000002       0.005884   \n",
      "\n",
      "       grad_norm_rank  actxgrad_norm_rank  \n",
      "98672        0.003161            0.014488  \n",
      "98796        0.003161            0.008695  \n",
      "98810        0.003161            0.008401  \n",
      "98696        0.003161            0.007726  \n",
      "98669        0.003161            0.007565  \n",
      "98635        0.003161            0.007253  \n",
      "98698        0.003161            0.007236  \n",
      "98613        0.003161            0.006958  \n",
      "98500        0.003161            0.006252  \n",
      "98612        0.003161            0.006189  \n",
      "98542        0.003161            0.006076  \n",
      "98523        0.003161            0.006056  \n",
      "98573        0.003161            0.006028  \n",
      "98785        0.003161            0.005830  \n",
      "98564        0.003161            0.005798  \n",
      "98731        0.003161            0.005771  \n",
      "98739        0.003161            0.005420  \n",
      "98825        0.003161            0.005403  \n",
      "98673        0.003161            0.005241  \n",
      "98661        0.003161            0.005148  \n"
     ]
    },
    {
     "name": "stderr",
     "output_type": "stream",
     "text": [
      "127.0.0.1 - - [11/Dec/2020 21:26:43] \"\u001b[37mPOST /_dash-update-component HTTP/1.1\u001b[0m\" 200 -\n",
      "127.0.0.1 - - [11/Dec/2020 21:26:43] \"\u001b[37mPOST /_dash-update-component HTTP/1.1\u001b[0m\" 200 -\n",
      "127.0.0.1 - - [11/Dec/2020 21:27:07] \"\u001b[37mPOST /_dash-update-component HTTP/1.1\u001b[0m\" 200 -\n",
      "127.0.0.1 - - [11/Dec/2020 21:27:21] \"\u001b[37mPOST /_dash-update-component HTTP/1.1\u001b[0m\" 200 -\n",
      "127.0.0.1 - - [11/Dec/2020 21:27:21] \"\u001b[37mPOST /_dash-update-component HTTP/1.1\u001b[0m\" 200 -\n",
      "127.0.0.1 - - [11/Dec/2020 21:27:21] \"\u001b[37mPOST /_dash-update-component HTTP/1.1\u001b[0m\" 200 -\n",
      "127.0.0.1 - - [11/Dec/2020 21:27:22] \"\u001b[37mPOST /_dash-update-component HTTP/1.1\u001b[0m\" 200 -\n",
      "127.0.0.1 - - [11/Dec/2020 21:27:22] \"\u001b[37mPOST /_dash-update-component HTTP/1.1\u001b[0m\" 200 -\n",
      "127.0.0.1 - - [11/Dec/2020 21:27:22] \"\u001b[37mPOST /_dash-update-component HTTP/1.1\u001b[0m\" 200 -\n",
      "127.0.0.1 - - [11/Dec/2020 21:27:22] \"\u001b[37mPOST /_dash-update-component HTTP/1.1\u001b[0m\" 200 -\n",
      "127.0.0.1 - - [11/Dec/2020 21:27:22] \"\u001b[37mPOST /_dash-update-component HTTP/1.1\u001b[0m\" 200 -\n",
      "127.0.0.1 - - [11/Dec/2020 21:27:29] \"\u001b[37mPOST /_dash-update-component HTTP/1.1\u001b[0m\" 200 -\n",
      "127.0.0.1 - - [11/Dec/2020 21:27:29] \"\u001b[37mPOST /_dash-update-component HTTP/1.1\u001b[0m\" 200 -\n",
      "127.0.0.1 - - [11/Dec/2020 21:27:29] \"\u001b[37mPOST /_dash-update-component HTTP/1.1\u001b[0m\" 200 -\n",
      "127.0.0.1 - - [11/Dec/2020 21:27:51] \"\u001b[37mPOST /_dash-update-component HTTP/1.1\u001b[0m\" 200 -\n",
      "127.0.0.1 - - [11/Dec/2020 21:27:51] \"\u001b[37mPOST /_dash-update-component HTTP/1.1\u001b[0m\" 200 -\n",
      "127.0.0.1 - - [11/Dec/2020 21:27:51] \"\u001b[37mPOST /_dash-update-component HTTP/1.1\u001b[0m\" 200 -\n",
      "127.0.0.1 - - [11/Dec/2020 21:27:51] \"\u001b[37mPOST /_dash-update-component HTTP/1.1\u001b[0m\" 200 -\n",
      "127.0.0.1 - - [11/Dec/2020 21:28:01] \"\u001b[37mPOST /_dash-update-component HTTP/1.1\u001b[0m\" 200 -\n",
      "127.0.0.1 - - [11/Dec/2020 21:28:01] \"\u001b[37mPOST /_dash-update-component HTTP/1.1\u001b[0m\" 200 -\n",
      "127.0.0.1 - - [11/Dec/2020 21:28:02] \"\u001b[37mPOST /_dash-update-component HTTP/1.1\u001b[0m\" 200 -\n",
      "127.0.0.1 - - [11/Dec/2020 21:28:02] \"\u001b[37mPOST /_dash-update-component HTTP/1.1\u001b[0m\" 200 -\n",
      "127.0.0.1 - - [11/Dec/2020 21:28:02] \"\u001b[37mPOST /_dash-update-component HTTP/1.1\u001b[0m\" 200 -\n",
      "127.0.0.1 - - [11/Dec/2020 21:28:02] \"\u001b[37mPOST /_dash-update-component HTTP/1.1\u001b[0m\" 200 -\n",
      "127.0.0.1 - - [11/Dec/2020 21:28:03] \"\u001b[37mPOST /_dash-update-component HTTP/1.1\u001b[0m\" 200 -\n",
      "127.0.0.1 - - [11/Dec/2020 21:28:03] \"\u001b[37mPOST /_dash-update-component HTTP/1.1\u001b[0m\" 200 -\n",
      "127.0.0.1 - - [11/Dec/2020 21:28:03] \"\u001b[37mPOST /_dash-update-component HTTP/1.1\u001b[0m\" 200 -\n",
      "127.0.0.1 - - [11/Dec/2020 21:28:04] \"\u001b[37mPOST /_dash-update-component HTTP/1.1\u001b[0m\" 200 -\n",
      "127.0.0.1 - - [11/Dec/2020 21:28:06] \"\u001b[37mPOST /_dash-update-component HTTP/1.1\u001b[0m\" 200 -\n",
      "127.0.0.1 - - [11/Dec/2020 21:28:06] \"\u001b[37mPOST /_dash-update-component HTTP/1.1\u001b[0m\" 200 -\n",
      "127.0.0.1 - - [11/Dec/2020 21:28:07] \"\u001b[37mPOST /_dash-update-component HTTP/1.1\u001b[0m\" 200 -\n",
      "127.0.0.1 - - [11/Dec/2020 21:28:07] \"\u001b[37mPOST /_dash-update-component HTTP/1.1\u001b[0m\" 200 -\n",
      "127.0.0.1 - - [11/Dec/2020 21:28:07] \"\u001b[37mPOST /_dash-update-component HTTP/1.1\u001b[0m\" 200 -\n",
      "127.0.0.1 - - [11/Dec/2020 21:28:11] \"\u001b[37mPOST /_dash-update-component HTTP/1.1\u001b[0m\" 200 -\n",
      "127.0.0.1 - - [11/Dec/2020 21:28:18] \"\u001b[37mPOST /_dash-update-component HTTP/1.1\u001b[0m\" 200 -\n",
      "127.0.0.1 - - [11/Dec/2020 21:28:19] \"\u001b[37mPOST /_dash-update-component HTTP/1.1\u001b[0m\" 200 -\n",
      "127.0.0.1 - - [11/Dec/2020 21:28:20] \"\u001b[37mPOST /_dash-update-component HTTP/1.1\u001b[0m\" 200 -\n",
      "127.0.0.1 - - [11/Dec/2020 21:28:20] \"\u001b[37mPOST /_dash-update-component HTTP/1.1\u001b[0m\" 200 -\n",
      "127.0.0.1 - - [11/Dec/2020 21:28:20] \"\u001b[37mPOST /_dash-update-component HTTP/1.1\u001b[0m\" 200 -\n",
      "127.0.0.1 - - [11/Dec/2020 21:28:20] \"\u001b[37mPOST /_dash-update-component HTTP/1.1\u001b[0m\" 200 -\n",
      "127.0.0.1 - - [11/Dec/2020 21:28:20] \"\u001b[37mPOST /_dash-update-component HTTP/1.1\u001b[0m\" 200 -\n",
      "127.0.0.1 - - [11/Dec/2020 21:28:20] \"\u001b[37mPOST /_dash-update-component HTTP/1.1\u001b[0m\" 200 -\n",
      "127.0.0.1 - - [11/Dec/2020 21:28:20] \"\u001b[37mPOST /_dash-update-component HTTP/1.1\u001b[0m\" 200 -\n",
      "127.0.0.1 - - [11/Dec/2020 21:28:21] \"\u001b[37mPOST /_dash-update-component HTTP/1.1\u001b[0m\" 200 -\n",
      "127.0.0.1 - - [11/Dec/2020 21:28:22] \"\u001b[37mPOST /_dash-update-component HTTP/1.1\u001b[0m\" 200 -\n",
      "127.0.0.1 - - [11/Dec/2020 21:28:22] \"\u001b[37mPOST /_dash-update-component HTTP/1.1\u001b[0m\" 200 -\n",
      "127.0.0.1 - - [11/Dec/2020 21:28:22] \"\u001b[37mPOST /_dash-update-component HTTP/1.1\u001b[0m\" 200 -\n",
      "127.0.0.1 - - [11/Dec/2020 21:28:22] \"\u001b[37mPOST /_dash-update-component HTTP/1.1\u001b[0m\" 200 -\n",
      "127.0.0.1 - - [11/Dec/2020 21:28:22] \"\u001b[37mPOST /_dash-update-component HTTP/1.1\u001b[0m\" 200 -\n",
      "127.0.0.1 - - [11/Dec/2020 21:28:22] \"\u001b[37mPOST /_dash-update-component HTTP/1.1\u001b[0m\" 200 -\n",
      "127.0.0.1 - - [11/Dec/2020 21:28:23] \"\u001b[37mPOST /_dash-update-component HTTP/1.1\u001b[0m\" 200 -\n",
      "127.0.0.1 - - [11/Dec/2020 21:28:23] \"\u001b[37mPOST /_dash-update-component HTTP/1.1\u001b[0m\" 200 -\n",
      "127.0.0.1 - - [11/Dec/2020 21:28:23] \"\u001b[37mPOST /_dash-update-component HTTP/1.1\u001b[0m\" 200 -\n",
      "127.0.0.1 - - [11/Dec/2020 21:28:23] \"\u001b[37mPOST /_dash-update-component HTTP/1.1\u001b[0m\" 200 -\n",
      "127.0.0.1 - - [11/Dec/2020 21:28:23] \"\u001b[37mPOST /_dash-update-component HTTP/1.1\u001b[0m\" 200 -\n",
      "127.0.0.1 - - [11/Dec/2020 21:28:24] \"\u001b[37mPOST /_dash-update-component HTTP/1.1\u001b[0m\" 200 -\n",
      "127.0.0.1 - - [11/Dec/2020 21:28:24] \"\u001b[37mPOST /_dash-update-component HTTP/1.1\u001b[0m\" 200 -\n",
      "127.0.0.1 - - [11/Dec/2020 21:28:24] \"\u001b[37mPOST /_dash-update-component HTTP/1.1\u001b[0m\" 200 -\n",
      "127.0.0.1 - - [11/Dec/2020 21:28:24] \"\u001b[37mPOST /_dash-update-component HTTP/1.1\u001b[0m\" 200 -\n",
      "127.0.0.1 - - [11/Dec/2020 21:28:24] \"\u001b[37mPOST /_dash-update-component HTTP/1.1\u001b[0m\" 200 -\n",
      "127.0.0.1 - - [11/Dec/2020 21:28:25] \"\u001b[37mPOST /_dash-update-component HTTP/1.1\u001b[0m\" 200 -\n",
      "127.0.0.1 - - [11/Dec/2020 21:28:25] \"\u001b[37mPOST /_dash-update-component HTTP/1.1\u001b[0m\" 200 -\n",
      "127.0.0.1 - - [11/Dec/2020 21:28:25] \"\u001b[37mPOST /_dash-update-component HTTP/1.1\u001b[0m\" 200 -\n",
      "127.0.0.1 - - [11/Dec/2020 21:28:25] \"\u001b[37mPOST /_dash-update-component HTTP/1.1\u001b[0m\" 200 -\n",
      "127.0.0.1 - - [11/Dec/2020 21:28:25] \"\u001b[37mPOST /_dash-update-component HTTP/1.1\u001b[0m\" 200 -\n",
      "127.0.0.1 - - [11/Dec/2020 21:28:25] \"\u001b[37mPOST /_dash-update-component HTTP/1.1\u001b[0m\" 200 -\n",
      "127.0.0.1 - - [11/Dec/2020 21:28:25] \"\u001b[37mPOST /_dash-update-component HTTP/1.1\u001b[0m\" 200 -\n",
      "127.0.0.1 - - [11/Dec/2020 21:28:26] \"\u001b[37mPOST /_dash-update-component HTTP/1.1\u001b[0m\" 200 -\n",
      "127.0.0.1 - - [11/Dec/2020 21:28:26] \"\u001b[37mPOST /_dash-update-component HTTP/1.1\u001b[0m\" 200 -\n",
      "127.0.0.1 - - [11/Dec/2020 21:28:26] \"\u001b[37mPOST /_dash-update-component HTTP/1.1\u001b[0m\" 200 -\n",
      "127.0.0.1 - - [11/Dec/2020 21:28:26] \"\u001b[37mPOST /_dash-update-component HTTP/1.1\u001b[0m\" 200 -\n",
      "127.0.0.1 - - [11/Dec/2020 21:28:27] \"\u001b[37mPOST /_dash-update-component HTTP/1.1\u001b[0m\" 200 -\n",
      "127.0.0.1 - - [11/Dec/2020 21:28:27] \"\u001b[37mPOST /_dash-update-component HTTP/1.1\u001b[0m\" 200 -\n",
      "127.0.0.1 - - [11/Dec/2020 21:28:27] \"\u001b[37mPOST /_dash-update-component HTTP/1.1\u001b[0m\" 200 -\n",
      "127.0.0.1 - - [11/Dec/2020 21:28:27] \"\u001b[37mPOST /_dash-update-component HTTP/1.1\u001b[0m\" 200 -\n",
      "127.0.0.1 - - [11/Dec/2020 21:28:27] \"\u001b[37mPOST /_dash-update-component HTTP/1.1\u001b[0m\" 200 -\n",
      "127.0.0.1 - - [11/Dec/2020 21:28:33] \"\u001b[37mPOST /_dash-update-component HTTP/1.1\u001b[0m\" 200 -\n",
      "127.0.0.1 - - [11/Dec/2020 21:39:25] \"\u001b[37mPOST /_dash-update-component HTTP/1.1\u001b[0m\" 200 -\n",
      "127.0.0.1 - - [11/Dec/2020 21:39:26] \"\u001b[37mPOST /_dash-update-component HTTP/1.1\u001b[0m\" 200 -\n",
      "127.0.0.1 - - [11/Dec/2020 21:39:30] \"\u001b[37mPOST /_dash-update-component HTTP/1.1\u001b[0m\" 200 -\n",
      "127.0.0.1 - - [11/Dec/2020 21:41:00] \"\u001b[37mPOST /_dash-update-component HTTP/1.1\u001b[0m\" 200 -\n",
      "127.0.0.1 - - [11/Dec/2020 21:41:00] \"\u001b[37mPOST /_dash-update-component HTTP/1.1\u001b[0m\" 200 -\n",
      "127.0.0.1 - - [11/Dec/2020 21:41:00] \"\u001b[37mPOST /_dash-update-component HTTP/1.1\u001b[0m\" 200 -\n",
      "127.0.0.1 - - [11/Dec/2020 21:41:01] \"\u001b[37mPOST /_dash-update-component HTTP/1.1\u001b[0m\" 200 -\n",
      "127.0.0.1 - - [11/Dec/2020 21:41:09] \"\u001b[37mPOST /_dash-update-component HTTP/1.1\u001b[0m\" 200 -\n"
     ]
    }
   ],
   "source": [
    "app.run_server(port=8050)"
   ]
  },
  {
   "cell_type": "code",
   "execution_count": null,
   "metadata": {},
   "outputs": [],
   "source": []
  }
 ],
 "metadata": {
  "kernelspec": {
   "display_name": "pruning_viz",
   "language": "python",
   "name": "pruning_viz"
  },
  "language_info": {
   "codemirror_mode": {
    "name": "ipython",
    "version": 3
   },
   "file_extension": ".py",
   "mimetype": "text/x-python",
   "name": "python",
   "nbconvert_exporter": "python",
   "pygments_lexer": "ipython3",
   "version": "3.6.10"
  }
 },
 "nbformat": 4,
 "nbformat_minor": 2
}
