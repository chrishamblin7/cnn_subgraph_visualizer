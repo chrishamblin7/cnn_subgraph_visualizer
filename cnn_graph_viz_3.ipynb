{
 "cells": [
  {
   "cell_type": "code",
   "execution_count": 1,
   "metadata": {},
   "outputs": [
    {
     "data": {
      "text/html": [
       "<div>\n",
       "<style scoped>\n",
       "    .dataframe tbody tr th:only-of-type {\n",
       "        vertical-align: middle;\n",
       "    }\n",
       "\n",
       "    .dataframe tbody tr th {\n",
       "        vertical-align: top;\n",
       "    }\n",
       "\n",
       "    .dataframe thead th {\n",
       "        text-align: right;\n",
       "    }\n",
       "</style>\n",
       "<table border=\"1\" class=\"dataframe\">\n",
       "  <thead>\n",
       "    <tr style=\"text-align: right;\">\n",
       "      <th>class</th>\n",
       "      <th>node_num</th>\n",
       "      <th>airplane</th>\n",
       "      <th>automobile</th>\n",
       "      <th>bird</th>\n",
       "      <th>cat</th>\n",
       "      <th>deer</th>\n",
       "      <th>dog</th>\n",
       "      <th>frog</th>\n",
       "      <th>horse</th>\n",
       "      <th>overall</th>\n",
       "      <th>ship</th>\n",
       "      <th>truck</th>\n",
       "      <th>layer</th>\n",
       "    </tr>\n",
       "  </thead>\n",
       "  <tbody>\n",
       "    <tr>\n",
       "      <th>0</th>\n",
       "      <td>0</td>\n",
       "      <td>0.139876</td>\n",
       "      <td>0.193968</td>\n",
       "      <td>0.281722</td>\n",
       "      <td>0.372537</td>\n",
       "      <td>0.018820</td>\n",
       "      <td>0.267247</td>\n",
       "      <td>0.233566</td>\n",
       "      <td>0.247257</td>\n",
       "      <td>0.187421</td>\n",
       "      <td>0.102997</td>\n",
       "      <td>0.016217</td>\n",
       "      <td>0</td>\n",
       "    </tr>\n",
       "    <tr>\n",
       "      <th>1</th>\n",
       "      <td>1</td>\n",
       "      <td>0.089149</td>\n",
       "      <td>0.197428</td>\n",
       "      <td>0.043106</td>\n",
       "      <td>0.075388</td>\n",
       "      <td>0.018076</td>\n",
       "      <td>0.092912</td>\n",
       "      <td>0.107071</td>\n",
       "      <td>0.046974</td>\n",
       "      <td>0.088193</td>\n",
       "      <td>0.043686</td>\n",
       "      <td>0.168138</td>\n",
       "      <td>0</td>\n",
       "    </tr>\n",
       "    <tr>\n",
       "      <th>2</th>\n",
       "      <td>2</td>\n",
       "      <td>0.015867</td>\n",
       "      <td>0.171214</td>\n",
       "      <td>0.114838</td>\n",
       "      <td>0.220317</td>\n",
       "      <td>0.312640</td>\n",
       "      <td>0.103840</td>\n",
       "      <td>0.166537</td>\n",
       "      <td>0.129406</td>\n",
       "      <td>0.154473</td>\n",
       "      <td>0.171422</td>\n",
       "      <td>0.138648</td>\n",
       "      <td>0</td>\n",
       "    </tr>\n",
       "    <tr>\n",
       "      <th>3</th>\n",
       "      <td>3</td>\n",
       "      <td>0.087441</td>\n",
       "      <td>0.152154</td>\n",
       "      <td>0.076537</td>\n",
       "      <td>0.050961</td>\n",
       "      <td>0.231120</td>\n",
       "      <td>0.224538</td>\n",
       "      <td>0.013231</td>\n",
       "      <td>0.178238</td>\n",
       "      <td>0.119217</td>\n",
       "      <td>0.153142</td>\n",
       "      <td>0.024806</td>\n",
       "      <td>0</td>\n",
       "    </tr>\n",
       "    <tr>\n",
       "      <th>4</th>\n",
       "      <td>4</td>\n",
       "      <td>0.024439</td>\n",
       "      <td>0.037215</td>\n",
       "      <td>0.031089</td>\n",
       "      <td>0.049052</td>\n",
       "      <td>0.099022</td>\n",
       "      <td>0.073753</td>\n",
       "      <td>0.058950</td>\n",
       "      <td>0.071532</td>\n",
       "      <td>0.052207</td>\n",
       "      <td>0.044767</td>\n",
       "      <td>0.032254</td>\n",
       "      <td>0</td>\n",
       "    </tr>\n",
       "    <tr>\n",
       "      <th>5</th>\n",
       "      <td>5</td>\n",
       "      <td>0.201093</td>\n",
       "      <td>0.146416</td>\n",
       "      <td>0.135956</td>\n",
       "      <td>0.168017</td>\n",
       "      <td>0.077592</td>\n",
       "      <td>0.126242</td>\n",
       "      <td>0.301216</td>\n",
       "      <td>0.140233</td>\n",
       "      <td>0.171294</td>\n",
       "      <td>0.098087</td>\n",
       "      <td>0.318082</td>\n",
       "      <td>0</td>\n",
       "    </tr>\n",
       "    <tr>\n",
       "      <th>6</th>\n",
       "      <td>6</td>\n",
       "      <td>0.071586</td>\n",
       "      <td>0.031973</td>\n",
       "      <td>0.185500</td>\n",
       "      <td>0.242435</td>\n",
       "      <td>0.066476</td>\n",
       "      <td>0.171151</td>\n",
       "      <td>0.004216</td>\n",
       "      <td>0.050471</td>\n",
       "      <td>0.083844</td>\n",
       "      <td>0.006577</td>\n",
       "      <td>0.008058</td>\n",
       "      <td>0</td>\n",
       "    </tr>\n",
       "    <tr>\n",
       "      <th>7</th>\n",
       "      <td>7</td>\n",
       "      <td>0.007178</td>\n",
       "      <td>0.059125</td>\n",
       "      <td>0.052104</td>\n",
       "      <td>0.062809</td>\n",
       "      <td>0.028712</td>\n",
       "      <td>0.059987</td>\n",
       "      <td>0.026595</td>\n",
       "      <td>0.031636</td>\n",
       "      <td>0.042558</td>\n",
       "      <td>0.040607</td>\n",
       "      <td>0.056821</td>\n",
       "      <td>0</td>\n",
       "    </tr>\n",
       "    <tr>\n",
       "      <th>8</th>\n",
       "      <td>8</td>\n",
       "      <td>0.016677</td>\n",
       "      <td>0.077632</td>\n",
       "      <td>0.082517</td>\n",
       "      <td>0.096038</td>\n",
       "      <td>0.038893</td>\n",
       "      <td>0.038464</td>\n",
       "      <td>0.114851</td>\n",
       "      <td>0.014182</td>\n",
       "      <td>0.064695</td>\n",
       "      <td>0.092057</td>\n",
       "      <td>0.075643</td>\n",
       "      <td>0</td>\n",
       "    </tr>\n",
       "    <tr>\n",
       "      <th>9</th>\n",
       "      <td>9</td>\n",
       "      <td>0.181237</td>\n",
       "      <td>0.062975</td>\n",
       "      <td>0.070433</td>\n",
       "      <td>0.102134</td>\n",
       "      <td>0.045127</td>\n",
       "      <td>0.049708</td>\n",
       "      <td>0.054966</td>\n",
       "      <td>0.158716</td>\n",
       "      <td>0.079938</td>\n",
       "      <td>0.003610</td>\n",
       "      <td>0.070472</td>\n",
       "      <td>0</td>\n",
       "    </tr>\n",
       "  </tbody>\n",
       "</table>\n",
       "</div>"
      ],
      "text/plain": [
       "class  node_num  airplane  automobile      bird       cat      deer       dog  \\\n",
       "0             0  0.139876    0.193968  0.281722  0.372537  0.018820  0.267247   \n",
       "1             1  0.089149    0.197428  0.043106  0.075388  0.018076  0.092912   \n",
       "2             2  0.015867    0.171214  0.114838  0.220317  0.312640  0.103840   \n",
       "3             3  0.087441    0.152154  0.076537  0.050961  0.231120  0.224538   \n",
       "4             4  0.024439    0.037215  0.031089  0.049052  0.099022  0.073753   \n",
       "5             5  0.201093    0.146416  0.135956  0.168017  0.077592  0.126242   \n",
       "6             6  0.071586    0.031973  0.185500  0.242435  0.066476  0.171151   \n",
       "7             7  0.007178    0.059125  0.052104  0.062809  0.028712  0.059987   \n",
       "8             8  0.016677    0.077632  0.082517  0.096038  0.038893  0.038464   \n",
       "9             9  0.181237    0.062975  0.070433  0.102134  0.045127  0.049708   \n",
       "\n",
       "class      frog     horse   overall      ship     truck  layer  \n",
       "0      0.233566  0.247257  0.187421  0.102997  0.016217      0  \n",
       "1      0.107071  0.046974  0.088193  0.043686  0.168138      0  \n",
       "2      0.166537  0.129406  0.154473  0.171422  0.138648      0  \n",
       "3      0.013231  0.178238  0.119217  0.153142  0.024806      0  \n",
       "4      0.058950  0.071532  0.052207  0.044767  0.032254      0  \n",
       "5      0.301216  0.140233  0.171294  0.098087  0.318082      0  \n",
       "6      0.004216  0.050471  0.083844  0.006577  0.008058      0  \n",
       "7      0.026595  0.031636  0.042558  0.040607  0.056821      0  \n",
       "8      0.114851  0.014182  0.064695  0.092057  0.075643      0  \n",
       "9      0.054966  0.158716  0.079938  0.003610  0.070472      0  "
      ]
     },
     "execution_count": 1,
     "metadata": {},
     "output_type": "execute_result"
    }
   ],
   "source": [
    "import pandas as pd\n",
    "import numpy as np\n",
    "\n",
    "#load nodes df\n",
    "nodes_df = pd.read_csv('prepped_models/cifar10_testing/node_ranks.csv')\n",
    "\n",
    "#make wide version\n",
    "nodes_wide_df = nodes_df.pivot(index = 'node_num',columns='class', values='rank_score')\n",
    "\n",
    "def get_col(node_num, df = nodes_df, idx = 'node_num', col = 'layer'):\n",
    "    return df.loc[(df[idx] == node_num) & (df['class'] == df['class'].unique()[0]), col].item()\n",
    "\n",
    "nodes_wide_df.reset_index(inplace=True)\n",
    "nodes_wide_df['layer'] = nodes_wide_df['node_num'].apply(get_col)\n",
    "nodes_wide_df = nodes_wide_df.rename(columns = {'class':'index'})\n",
    "\n",
    "\n",
    "#list of layer nodes\n",
    "layer_nodes = {}\n",
    "for row in nodes_df[nodes_df['class'] == 'overall'].itertuples(): \n",
    "    if row.layer not in layer_nodes:\n",
    "        layer_nodes[row.layer] = []\n",
    "    layer_nodes[row.layer].append(row.node_num)\n",
    "\n",
    "num_layers = max(layer_nodes.keys()) + 1\n",
    "num_nodes = len(nodes_wide_df.index)\n",
    "\n",
    "#list of classes\n",
    "classes = list(nodes_df['class'].unique())\n",
    "classes.remove('overall')\n",
    "classes.insert(0,'overall')\n",
    "\n",
    "\n",
    "nodes_wide_df.head(10)\n",
    "\n"
   ]
  },
  {
   "cell_type": "code",
   "execution_count": 2,
   "metadata": {},
   "outputs": [],
   "source": [
    "#misc formatting functions\n",
    "\n",
    "def nodeid_2_perlayerid(nodeid):    #takes in node unique id outputs tuple of layer and within layer id\n",
    "    if isinstance(nodeid,str):\n",
    "        if not nodeid.isnumeric():\n",
    "            layer = 'img'\n",
    "            within_layer_id = imgnode_names.index(nodeid)\n",
    "            return layer,within_layer_id\n",
    "    nodeid = int(nodeid)\n",
    "    layer = nodes_df[nodes_df['class']=='overall'][nodes_df['node_num'] == nodeid]['layer'].item()\n",
    "    within_layer_id = nodes_df[nodes_df['class']=='overall'][nodes_df['node_num'] == nodeid]['node_num_by_layer'].item()\n",
    "    return layer,within_layer_id\n",
    "\n",
    "def layernum2name(layer,offset=1,title = 'layer'):\n",
    "    return title+' '+str(layer+offset)\n",
    "\n",
    "\n",
    "def get_nth_element_from_nested_list(l,n):    #this seems to come up with the nested layer lists\n",
    "    flat_list = [item for sublist in l for item in sublist]\n",
    "    return flat_list[n]\n",
    "  "
   ]
  },
  {
   "cell_type": "code",
   "execution_count": 3,
   "metadata": {},
   "outputs": [],
   "source": [
    "## adding images\n",
    "\n",
    "import os\n",
    "\n",
    "input_image_directory = 'input_images_testing/'\n",
    "list_of_input_images = os.listdir(input_image_directory)\n",
    "list_of_input_images.sort()\n",
    "\n",
    "from PIL import Image\n",
    "\n",
    "def rgb2hex(r, g, b):\n",
    "    return '#{:02x}{:02x}{:02x}'.format(r, g, b)\n",
    "\n",
    "\n",
    "def image2heatmap(image_path,resize = False,size = (32,32)):          #displays image as a plotly heatmap object, with colors preserved \n",
    "    img = Image.open(image_path)\n",
    "    if resize:\n",
    "        img = img.resize(size,resample=Image.NEAREST)\n",
    "    pixels = img.convert('RGBA').load() #rgba values\n",
    "    width, height = img.size   #width and height of image\n",
    "    num_pixels = width*height\n",
    "    step = 1/num_pixels\n",
    "    \n",
    "    colorscale = []           \n",
    "    z = []\n",
    "    \n",
    "    i = 0\n",
    "    for y in range(height):\n",
    "        z.append([])\n",
    "        for x in range(width):\n",
    "            z[-1].append(step*(i+.5))\n",
    "            r, g, b, a = pixels[x, y]\n",
    "            #colorscale.append([step*i,'rgba(%s,%s,%s,%s)'%(r,b,g,a)])\n",
    "            #colorscale.append([step*(i+1),'rgba(%s,%s,%s,%s)'%(r,b,g,a)])\n",
    "            colorscale.append([step*i,rgb2hex(r, g, b)])\n",
    "            colorscale.append([step*(i+1),rgb2hex(r, g, b)])\n",
    "            i+=1     \n",
    "    heatmap = go.Heatmap(z=np.flip(np.array(z),0), \n",
    "                     colorscale = colorscale, \n",
    "                     showscale = False)\n",
    "    fig = go.Figure(data=[heatmap])\n",
    "\n",
    "    fig.update_layout(width=350, \n",
    "                      height=350,\n",
    "                      uirevision = True,\n",
    "                      margin=dict(\n",
    "                        l=1,\n",
    "                        r=1,\n",
    "                        b=1,\n",
    "                        t=1,\n",
    "                        pad=1)\n",
    "                    )\n",
    "    return fig\n",
    "\n",
    "def get_channelwise_image(image_name,channel,input_image_directory=input_image_directory):    \n",
    "    #THIS NEEDS TO BE NORMALIZED AS PER THE MODELS DATALOADER\n",
    "    im = Image.open(input_image_directory+image_name)\n",
    "    np_full_im = np.array(im)\n",
    "    return np_full_im[:,:,channel]\n"
   ]
  },
  {
   "cell_type": "code",
   "execution_count": 4,
   "metadata": {},
   "outputs": [
    {
     "name": "stdout",
     "output_type": "stream",
     "text": [
      "      edge_num  layer  out_channel  in_channel  rank_score  class\n",
      "0            0      0            0           0    0.017843   frog\n",
      "1            1      0            0           1    0.016695   frog\n",
      "2            2      0            0           2    0.093749   frog\n",
      "3            3      0            1           0    0.084601   frog\n",
      "4            4      0            1           1    0.043617   frog\n",
      "...        ...    ...          ...         ...         ...    ...\n",
      "4600         0      0            0           0    0.037768  horse\n",
      "4601         1      0            0           1    0.021887  horse\n",
      "4602         2      0            0           2    0.052484  horse\n",
      "4603         3      0            1           0    0.042027  horse\n",
      "4604         4      0            1           1    0.050973  horse\n",
      "\n",
      "[4605 rows x 6 columns]\n"
     ]
    }
   ],
   "source": [
    "edges_df = pd.read_csv('prepped_models/cifar10_testing/edge_ranks.csv')   #load edges\n",
    "\n",
    "#make edges wide format df\n",
    "edges_wide_df = edges_df.pivot(index = 'edge_num',columns='class', values='rank_score')\n",
    "edges_wide_df.reset_index(inplace=True)\n",
    "edges_wide_df['layer'] = edges_wide_df['edge_num'].apply(get_col, df=edges_df,idx='edge_num')\n",
    "edges_wide_df['in_channel'] = edges_wide_df['edge_num'].apply(get_col, df=edges_df,idx='edge_num',col='in_channel')\n",
    "edges_wide_df['out_channel'] = edges_wide_df['edge_num'].apply(get_col, df=edges_df,idx='edge_num',col='out_channel')\n",
    "\n",
    "print(edges_df.head(4605))\n",
    "edges_wide_df.head(165)\n",
    "#edges_df.loc[(edges_df['rank_score'] > .05) & (edges_df['class'] == 'frog')]\n",
    "\n",
    "num_edges = len(edges_wide_df.index) #number of total edges\n"
   ]
  },
  {
   "cell_type": "code",
   "execution_count": 5,
   "metadata": {},
   "outputs": [
    {
     "name": "stderr",
     "output_type": "stream",
     "text": [
      "/Users/chrishamblin/miniconda3/envs/graph_viz/lib/python3.7/site-packages/ipykernel_launcher.py:24: SettingWithCopyWarning: \n",
      "A value is trying to be set on a copy of a slice from a DataFrame.\n",
      "Try using .loc[row_indexer,col_indexer] = value instead\n",
      "\n",
      "See the caveats in the documentation: https://pandas.pydata.org/pandas-docs/stable/user_guide/indexing.html#returning-a-view-versus-a-copy\n",
      "/Users/chrishamblin/miniconda3/envs/graph_viz/lib/python3.7/site-packages/ipykernel_launcher.py:24: SettingWithCopyWarning: \n",
      "A value is trying to be set on a copy of a slice from a DataFrame.\n",
      "Try using .loc[row_indexer,col_indexer] = value instead\n",
      "\n",
      "See the caveats in the documentation: https://pandas.pydata.org/pandas-docs/stable/user_guide/indexing.html#returning-a-view-versus-a-copy\n",
      "/Users/chrishamblin/miniconda3/envs/graph_viz/lib/python3.7/site-packages/ipykernel_launcher.py:24: SettingWithCopyWarning: \n",
      "A value is trying to be set on a copy of a slice from a DataFrame.\n",
      "Try using .loc[row_indexer,col_indexer] = value instead\n",
      "\n",
      "See the caveats in the documentation: https://pandas.pydata.org/pandas-docs/stable/user_guide/indexing.html#returning-a-view-versus-a-copy\n",
      "/Users/chrishamblin/miniconda3/envs/graph_viz/lib/python3.7/site-packages/ipykernel_launcher.py:24: SettingWithCopyWarning: \n",
      "A value is trying to be set on a copy of a slice from a DataFrame.\n",
      "Try using .loc[row_indexer,col_indexer] = value instead\n",
      "\n",
      "See the caveats in the documentation: https://pandas.pydata.org/pandas-docs/stable/user_guide/indexing.html#returning-a-view-versus-a-copy\n"
     ]
    },
    {
     "name": "stdout",
     "output_type": "stream",
     "text": [
      "layer: 0\n",
      "layer: 1\n",
      "layer: 2\n",
      "layer: 3\n"
     ]
    }
   ],
   "source": [
    "#generate mds projections of nodes layerwise, as determined by their per class rank scores\n",
    "\n",
    "import numpy as np\n",
    "from sklearn import manifold\n",
    "from sklearn.metrics import euclidean_distances\n",
    "\n",
    "def add_norm_col(df,classes=classes[1:]):\n",
    "    norms = []\n",
    "    norm = 0\n",
    "    for index, row in df.iterrows():\n",
    "        for label in classes:\n",
    "            norm += row[label]**2\n",
    "        norm = np.sqrt(norm)\n",
    "        norms.append(norm)\n",
    "    norms = np.array(norms)\n",
    "    df['class_norm'] = norms\n",
    "\n",
    "add_norm_col(nodes_wide_df)   \n",
    "    \n",
    "layer_similarities = {}\n",
    "for layer in layer_nodes:\n",
    "    layer_df = nodes_wide_df[nodes_wide_df['layer'] == layer]\n",
    "    for label in classes:\n",
    "        layer_df[label] = layer_df.apply(lambda row : row[label]/row['class_norm'], axis = 1)   \n",
    "    layer_similarities[layer] = euclidean_distances(layer_df.iloc[:,1:-2])\n",
    "\n",
    "\n",
    "\n",
    "layer_mds = {}\n",
    "for layer in layer_similarities:\n",
    "\tprint('layer: %s'%str(layer))\n",
    "\tmds = manifold.MDS(n_components=2, max_iter=3000, eps=1e-9, \n",
    "      random_state=2, dissimilarity=\"precomputed\", n_jobs=1)\n",
    "\tpos = mds.fit(layer_similarities[layer]).embedding_\n",
    "\tlayer_mds[layer] = pos\n",
    "\n",
    "#print(layer_mds)\n",
    "\n",
    "\n",
    "\n"
   ]
  },
  {
   "cell_type": "code",
   "execution_count": 6,
   "metadata": {},
   "outputs": [],
   "source": [
    "#generate node colors based on target class (nodes that aren't important should be faded)\n",
    "\n",
    "target_class = 'airplane'\n",
    "\n",
    "#Node Opacity\n",
    "layer_colors = ['rgba(31,119,180,', \n",
    "                'rgba(255,127,14,',\n",
    "                'rgba(44,160,44,', \n",
    "                'rgba(214,39,40,',\n",
    "                'rgba(39, 208, 214,', \n",
    "                'rgba(242, 250, 17,',\n",
    "                'rgba(196, 94, 255,',\n",
    "                'rgba(193, 245, 5,',\n",
    "                'rgba(245, 85, 5,',\n",
    "                'rgba(5, 165, 245,',\n",
    "                'rgba(245, 5, 105,',\n",
    "                'rgba(218, 232, 23,',\n",
    "                'rgba(148, 23, 232,',\n",
    "                'rgba(23, 232, 166,',]\n",
    "\n",
    "\n",
    "def node_color_scaling(x):\n",
    "    return -(x-1)**4+1\n",
    "\n",
    "def gen_node_colors(target_class):\n",
    "\n",
    "    node_colors = []\n",
    "    node_weights = []\n",
    "    for layer in layer_nodes:\n",
    "        node_colors.append([])\n",
    "        node_weights.append([])\n",
    "        for node in layer_nodes[layer]:\n",
    "            node_weight = nodes_df[nodes_df['class']==target_class].iloc[node].rank_score\n",
    "            node_weights[-1].append(node_weight)\n",
    "            alpha = node_color_scaling(node_weight)\n",
    "            node_colors[-1].append(layer_colors[layer%len(layer_colors)]+str(round(alpha,3))+')')\n",
    "            \n",
    "    return node_colors,node_weights\n",
    "\n",
    "node_colors,node_weights = gen_node_colors(target_class)     #list of lists\n"
   ]
  },
  {
   "cell_type": "code",
   "execution_count": 7,
   "metadata": {},
   "outputs": [],
   "source": [
    "#Node positions\n",
    "#def gen_node_positions()\n",
    "layer_distance = 1   # distance in X direction each layer is separated by\n",
    "node_positions = []\n",
    "layer_offset = 0\n",
    "for layer in layer_mds:\n",
    "    node_positions.append({})\n",
    "    node_positions[-1]['X'] = [] \n",
    "    node_positions[-1]['Y'] = [] \n",
    "    node_positions[-1]['Z'] = []  \n",
    "    for i in range(len(layer_mds[layer])): \n",
    "        node_positions[-1]['Y'].append(layer_mds[layer][i][0])\n",
    "        node_positions[-1]['Z'].append(layer_mds[layer][i][1])\n",
    "        node_positions[-1]['X'].append(layer_offset)\n",
    "    layer_offset+=1*layer_distance\n",
    "\n",
    "#print(node_positions[0])"
   ]
  },
  {
   "cell_type": "code",
   "execution_count": 8,
   "metadata": {},
   "outputs": [
    {
     "name": "stdout",
     "output_type": "stream",
     "text": [
      "{'X': [-1, -1, -1], 'Y': [0.0, 0.17, -0.17], 'Z': [0.2, -0.1, -0.1]}\n"
     ]
    }
   ],
   "source": [
    "#image nodes (one for each channel of input image)\n",
    "\n",
    "num_img_chan = len(edges_df.loc[edges_df['layer'] == 0]['in_channel'].unique()) #number of channels in input image\n",
    "\n",
    "def gen_imgnode_graphdata(num_chan = num_img_chan):     #returns positions, colors and names for imgnode graph points\n",
    "    if num_chan == 1: #return a centered position, grey square, with 'gs' label\n",
    "        return {'X':[-1*layer_distance],'Y':[0],'Z':[0]}, ['rgba(170,170,170,.7)'], ['gs']\n",
    "    if num_chan == 3:\n",
    "        colors = ['rgba(255,0,0,.7)','rgba(0,255,0,.7)','rgba(0,0,255,.7)']\n",
    "        names = ['r','g','b']\n",
    "    else:\n",
    "        #colors\n",
    "        other_colors = ['rgba(255,0,0,.7)','rgba(0,255,0,.7)','rgba(0,0,255,.7)',\n",
    "                        'rgba(255,150,0,.7)','rgba(0,255,150,.7)','rgba(150,0,255,.7)',\n",
    "                        'rgba(255,0,150,.7)','rgba(150,255,0,.7)','rgba(0,150,255,.7)']\n",
    "        colors = []\n",
    "        for i in num_chan:\n",
    "            colors.append(i%len(other_colors)) \n",
    "        #names\n",
    "        names = []\n",
    "        for i in range(num_chan):\n",
    "            names.append('img_'+str(i))   \n",
    "            \n",
    "    positions = {'X':[],'Y':[],'Z':[]}     #else return points evenly spaced around a unit circle\n",
    "    a = 2*np.pi/num_chan          #angle to rotate each point\n",
    "    for p in range(num_chan):\n",
    "        positions['X'].append(-1*layer_distance)\n",
    "        positions['Y'].append(round(np.sin(a*p)/5,2))\n",
    "        positions['Z'].append(round(np.cos(a*p)/5,2)) \n",
    "    \n",
    "    return positions, colors, names\n",
    "    \n",
    "# def gen_imgnode_positions(num_chan = num_img_chan):\n",
    "\n",
    "#     if num_chan == 1: #return a centered position\n",
    "#         return {'X':[-1],'Y':[0],'Z':[0]}\n",
    "    \n",
    "#     positions = {'X':[],'Y':[],'Z':[]}     #else return points evenly spaced around a unit circle\n",
    "#     a = 2*np.pi/num_chan          #angle to rotate each point\n",
    "#     for p in range(num_chan):\n",
    "#         positions['X'].append(-1)\n",
    "#         positions['Y'].append(np.sin(a*p))\n",
    "#         positions['Z'].append(np.cos(a*p))\n",
    "#     return positions\n",
    "\n",
    "# def gen_imgnode_colors(num_chan = num_img_chan):\n",
    "#     if num_chan == 1:\n",
    "#         return ['rgba(170,170,170,.9)']   #grey\n",
    "#     elif num_chan == 3:\n",
    "#         return ['rgba(255,0,0,.9)','rgba(0,255,0,.9)','rgba(0,0,255,.9)']             #rgb\n",
    "\n",
    "#     else:\n",
    "#         other_colors = ['rgba(255,0,0,.9)','rgba(0,255,0,.9)','rgba(0,0,255,.9)',\n",
    "#                         'rgba(255,150,0,.9)','rgba(0,255,150,.9)','rgba(150,0,255,.9)',\n",
    "#                         'rgba(255,0,150,.9)','rgba(150,255,0,.9)','rgba(0,150,255,.9)']\n",
    "#         colors = []\n",
    "#         for i in num_chan:\n",
    "#             colors.append(i%len(other_colors))\n",
    "#         return colors\n",
    "    \n",
    "# def gen_imgnode_names(num_chan = num_img_chan):\n",
    "#     if num_chan == 1:\n",
    "#         return ['gs'] #grayscale\n",
    "#     elif num_chan == 3:\n",
    "#         return ['r','g','b']\n",
    "#     else:\n",
    "#         names = []\n",
    "#         for i in range(num_chan):\n",
    "#             names.append('img_'+str(i))\n",
    "#         return names\n",
    "\n",
    "imgnode_positions,imgnode_colors,imgnode_names = gen_imgnode_graphdata()\n",
    "\n",
    "print(imgnode_positions)"
   ]
  },
  {
   "cell_type": "code",
   "execution_count": 9,
   "metadata": {},
   "outputs": [
    {
     "name": "stdout",
     "output_type": "stream",
     "text": [
      "0.4750360548496246\n"
     ]
    }
   ],
   "source": [
    "#Edge selection\n",
    "\n",
    "def edge_width_scaling(x):\n",
    "    return max(.4,(x*10)**1.7)\n",
    "\n",
    "def edge_color_scaling(x):\n",
    "    return max(.7,-(x-1)**4+1)\n",
    "\n",
    "\n",
    "def get_thresholded_edges(threshold,df=edges_df,target_class=target_class):          #just get those edges that pass the threshold criteria for the target class\n",
    "    if len(threshold) != 2:\n",
    "        raise Exception('length of threshold needs to be two ([lower, higher])')\n",
    "    return edges_df.loc[(edges_df['rank_score'] >= threshold[0]) & (edges_df['rank_score'] <= threshold[1]) & (edges_df['class'] == target_class)]\n",
    "    #return edges_df.loc[(threshold[0] <= edges_df['rank_score'] <= threshold[1]) & (edges_df['class'] == target_class)]\n",
    "    #return edges_df.loc[(edges_df['rank_score'] >= threshold[0]) & (edges_df['class'] == target_class)]\n",
    "\n",
    "\n",
    "edge_threshold = [.1,1]\n",
    "edges_select_df = get_thresholded_edges(edge_threshold)\n",
    "\n",
    "\n",
    "\n",
    "def get_max_edge_widths(edge_widths):\n",
    "    maxes = []\n",
    "    for layer in range(len(edge_widths)):\n",
    "        if len(edge_widths[layer]) >0:\n",
    "            maxes.append(edge_widths[layer].index(max(edge_widths[layer])))\n",
    "        else:\n",
    "            maxes.append(None)\n",
    "    return maxes\n",
    "\n",
    "def gen_edge_graphdata(df = edges_select_df, node_positions = node_positions, num_hoverpoints=15,target_class=target_class):\n",
    "    edge_positions = []\n",
    "    colors = []\n",
    "    widths = []\n",
    "    weights = []\n",
    "    names = []\n",
    "    #max_weight = 0\n",
    "    for row in df.itertuples():\n",
    "        while row.layer > len(edge_positions): # we skipped a layer, its got no edges in threshold, so lets add empty lists\n",
    "            edge_positions.append({'X':[],'Y':[],'Z':[]})\n",
    "            colors.append([])\n",
    "            widths.append([])\n",
    "            weights.append([])\n",
    "            names.append([])  \n",
    "        if row.layer == len(edge_positions):\n",
    "            edge_positions.append({'X':[],'Y':[],'Z':[]})\n",
    "            colors.append([])\n",
    "            widths.append([])\n",
    "            weights.append([])\n",
    "            names.append([])        \n",
    "        #position\n",
    "        for dim in ['X','Y','Z']:\n",
    "            end_pos = node_positions[row.layer][dim][row.out_channel]\n",
    "            if row.layer != 0:\n",
    "                start_pos = node_positions[row.layer-1][dim][row.in_channel]\n",
    "            else:\n",
    "                start_pos = imgnode_positions[dim][row.in_channel]\n",
    "            \n",
    "            step = (end_pos-start_pos)/(num_hoverpoints+1)\n",
    "            points = [start_pos]\n",
    "            for i in range(1,num_hoverpoints+1):\n",
    "                points.append(start_pos+i*step)\n",
    "            points.append(end_pos)\n",
    "            edge_positions[row.layer][dim].append(points)\n",
    "        #color\n",
    "        alpha = edge_color_scaling(row.rank_score)\n",
    "        colors[row.layer].append(layer_colors[row.layer%len(layer_colors)]+str(round(alpha,3))+')')\n",
    "        #width\n",
    "        widths[row.layer].append(edge_width_scaling(row.rank_score))\n",
    "        #weight\n",
    "        weights[row.layer].append(row.rank_score)\n",
    "        #max_weight = max(max_weight, row.rank_score)\n",
    "        #names\n",
    "        out_node = layer_nodes[row.layer][row.out_channel]\n",
    "        if row.layer != 0:\n",
    "            in_node = layer_nodes[row.layer-1][row.in_channel]\n",
    "        else:\n",
    "            in_node = imgnode_names[row.in_channel]\n",
    "        names[row.layer].append(str(in_node)+'-'+str(out_node))\n",
    "    max_width_indices = get_max_edge_widths(widths)\n",
    "    while len(names) < num_layers:\n",
    "        edge_positions.append({'X':[],'Y':[],'Z':[]})\n",
    "        colors.append([])\n",
    "        widths.append([])\n",
    "        weights.append([])\n",
    "        names.append([])  \n",
    "    return edge_positions, colors,widths,weights,names, max_width_indices\n",
    "\n",
    "\n",
    "def get_edge_from_curvenumber(curvenum,edge_names, num_layers= num_layers):\n",
    "    edgenum = curvenum-(1+num_layers)\n",
    "    curve=0\n",
    "    for layer in range(len(edge_names)):\n",
    "        for i in range(len(edge_names[layer])):\n",
    "            if curve==edgenum:\n",
    "                return layer, i, edge_names[layer][i]\n",
    "            curve+=1\n",
    "    return None,None,None\n",
    "    \n",
    "#def get_max_edge_weight(target_class,df = edges_df):\n",
    "#    return df.loc[df['class'] == target_class].max().rank_score\n",
    "\n",
    "edge_positions, edge_colors, edge_widths, edge_weights, edge_names, max_edge_width_indices = gen_edge_graphdata()\n",
    "#max_edge_width_indices = get_max_edge_widths(edge_widths)\n",
    "max_edge_weight = edges_df.max().rank_score\n",
    "print(max_edge_weight)"
   ]
  },
  {
   "cell_type": "code",
   "execution_count": 10,
   "metadata": {},
   "outputs": [
    {
     "name": "stdout",
     "output_type": "stream",
     "text": [
      "(100, 45, 3, 32, 32)\n",
      "(100, 45, 32, 32)\n"
     ]
    }
   ],
   "source": [
    "#Format Node Feature Maps\n",
    "\n",
    "# import pickle\n",
    "\n",
    "# activations = pickle.load(open('activations/cifar_prunned_.816_activations.pkl','rb'))\n",
    "  \n",
    "    \n",
    "# node_ids = []\n",
    "# for layer in layer_nodes:\n",
    "#     for i in range(len(layer_nodes[layer])):\n",
    "#         node_ids.append(str(layer+1)+'_'+str(i))\n",
    "    \n",
    "# print(activations['airplane']['0001.png'][0].shape)\n",
    "\n",
    "import torch\n",
    "activations = torch.load('prepped_models/cifar10_testing/input_img_activations.pt')\n",
    "\n",
    "print(activations['edges'][0].shape)\n",
    "print(activations['nodes'][0].shape)"
   ]
  },
  {
   "cell_type": "code",
   "execution_count": 12,
   "metadata": {},
   "outputs": [
    {
     "name": "stdout",
     "output_type": "stream",
     "text": [
      "[[-0.01040168  0.07258165 -0.02730235]\n",
      " [-0.09874548  0.15988253  0.16769743]\n",
      " [-0.11188427  0.21347913 -0.24422328]]\n",
      "[[-0.01040168  0.07258165 -0.02730235]\n",
      " [-0.09874548  0.15988253  0.16769743]\n",
      " [-0.11188427  0.21347913 -0.24422328]]\n"
     ]
    },
    {
     "name": "stderr",
     "output_type": "stream",
     "text": [
      "/Users/chrishamblin/miniconda3/envs/graph_viz/lib/python3.7/site-packages/ipykernel_launcher.py:10: UserWarning: Boolean Series key will be reindexed to match DataFrame index.\n",
      "  # Remove the CWD from sys.path while we load stuff.\n",
      "/Users/chrishamblin/miniconda3/envs/graph_viz/lib/python3.7/site-packages/ipykernel_launcher.py:11: UserWarning: Boolean Series key will be reindexed to match DataFrame index.\n",
      "  # This is added back by InteractiveShellApp.init_path()\n"
     ]
    }
   ],
   "source": [
    "#Format Edge Kernels\n",
    "\n",
    "# kernels = pickle.load(open('kernels/cifar_prunned_.816_kernels.pkl','rb'))\n",
    "# print(kernels[0].shape)\n",
    "\n",
    "kernels = torch.load('prepped_models/cifar10_testing/kernels.pt')\n",
    "\n",
    "#print(kernels[0].shape)\n",
    "\n",
    "#Function for taking a string of form 'node1-node2' and outputting edge info\n",
    "def check_edge_validity(nodestring):\n",
    "    from_node = nodestring.split('-')[0]\n",
    "    to_node = nodestring.split('-')[1]\n",
    "    try:\n",
    "        from_layer,from_within_id = nodeid_2_perlayerid(from_node)\n",
    "        to_layer,to_within_id = nodeid_2_perlayerid(to_node)\n",
    "        #check for valid edge\n",
    "        valid_edge = False\n",
    "        if from_layer=='img':\n",
    "            if to_layer== 0:\n",
    "                valid_edge = True\n",
    "        elif to_layer == from_layer+1:\n",
    "            valid_edge = True\n",
    "        if not valid_edge:\n",
    "            print('invalid edge name')\n",
    "            return [False, None, None, None, None]\n",
    "        return True, from_layer,to_layer,from_within_id,to_within_id\n",
    "    except:\n",
    "        #print('exception')\n",
    "        return [False, None, None, None, None] \n",
    "    \n",
    "    \n",
    "def edgename_2_edge_figures(edgename,kernels=kernels,activations=activations, imagename = list_of_input_images[0]):  #returns truth value of valid edge and kernel if valid\n",
    "    #print('hello')\n",
    "    valid,from_layer,to_layer,from_within_id,to_within_id  = check_edge_validity(edgename)\n",
    "    if valid:\n",
    "        kernel = kernels[to_layer][to_within_id][from_within_id]\n",
    "        if from_layer == 'img':\n",
    "            in_map = get_channelwise_image(imagename,from_within_id)\n",
    "        else:\n",
    "            ####!!!!!!!! This needs to be put through activation function (relu)\n",
    "            in_map = activations['nodes'][from_layer][list_of_input_images.index(imagename)][from_within_id]\n",
    "        out_map = activations['edges'][to_layer][list_of_input_images.index(imagename)][to_within_id][from_within_id]\n",
    "        return np.flip(kernel,0),np.flip(in_map,0),np.flip(out_map,0)\n",
    "        \n",
    "    else:\n",
    "        return None,None,None\n",
    "    \n",
    "\n",
    "print(edgename_2_edge_figures('b-0')[0])\n",
    "print(np.flip(kernels[0][0][2],0))"
   ]
  },
  {
   "cell_type": "code",
   "execution_count": 21,
   "metadata": {},
   "outputs": [],
   "source": [
    "#hidden state, stores python values within the html itself\n",
    "state = {'edge_positions':edge_positions,'edge_colors': edge_colors, 'edge_widths':edge_widths,'edge_names':edge_names,\n",
    "         'edge_threshold':edge_threshold,'edge_weights':edge_weights,'max_edge_width_indices':max_edge_width_indices,\n",
    "         'imgnode_positions':imgnode_positions,'imgnode_colors':imgnode_colors,'imgnode_names':imgnode_names,\n",
    "         'node_positions':node_positions,'node_colors':node_colors,'node_weights':node_weights,'layer_distance':layer_distance,'target_class':target_class,\n",
    "         'node_select_history':['0'],'edge_select_history':[edge_names[0][0]],'last_trigger':None}\n"
   ]
  },
  {
   "cell_type": "code",
   "execution_count": 22,
   "metadata": {
    "scrolled": true
   },
   "outputs": [
    {
     "data": {
      "text/html": [
       "        <script type=\"text/javascript\">\n",
       "        window.PlotlyConfig = {MathJaxConfig: 'local'};\n",
       "        if (window.MathJax) {MathJax.Hub.Config({SVG: {font: \"STIX-Web\"}});}\n",
       "        if (typeof require !== 'undefined') {\n",
       "        require.undef(\"plotly\");\n",
       "        requirejs.config({\n",
       "            paths: {\n",
       "                'plotly': ['https://cdn.plot.ly/plotly-latest.min']\n",
       "            }\n",
       "        });\n",
       "        require(['plotly'], function(Plotly) {\n",
       "            window._Plotly = Plotly;\n",
       "        });\n",
       "        }\n",
       "        </script>\n",
       "        "
      ]
     },
     "metadata": {},
     "output_type": "display_data"
    },
    {
     "name": "stderr",
     "output_type": "stream",
     "text": [
      "/Users/chrishamblin/miniconda3/envs/graph_viz/lib/python3.7/site-packages/ipykernel_launcher.py:10: UserWarning:\n",
      "\n",
      "Boolean Series key will be reindexed to match DataFrame index.\n",
      "\n",
      "/Users/chrishamblin/miniconda3/envs/graph_viz/lib/python3.7/site-packages/ipykernel_launcher.py:11: UserWarning:\n",
      "\n",
      "Boolean Series key will be reindexed to match DataFrame index.\n",
      "\n"
     ]
    }
   ],
   "source": [
    "#import chart_studio.plotly as py\n",
    "import plotly.offline as py    #added\n",
    "import plotly.graph_objs as go\n",
    "py.init_notebook_mode(connected=True)   #added\n",
    "\n",
    "from copy import deepcopy\n",
    "\n",
    "# right now this is called everytime graph is updated, might be more efficient to store combined_traces somehow,\n",
    "# and only update whats changed\n",
    "def gen_networkgraph_traces(state):\n",
    "    #add imgnodes\n",
    "    colors = deepcopy(state['imgnode_colors'])\n",
    "    if not str(state['node_select_history'][-1]).isnumeric():\n",
    "        colors[state['imgnode_names'].index(state['node_select_history'][-1])] = 'rgba(0,0,0,1)'\n",
    "    imgnode_trace=go.Scatter3d(x=state['imgnode_positions']['X'],\n",
    "               y=state['imgnode_positions']['Y'],\n",
    "               z=state['imgnode_positions']['Z'],\n",
    "               mode='markers',\n",
    "               name='image channels',\n",
    "               marker=dict(symbol='square',\n",
    "                             size=8,\n",
    "                             opacity=.99,\n",
    "                             color=colors,\n",
    "                             #colorscale='Viridis',\n",
    "                             line=dict(color='rgb(50,50,50)', width=.5)\n",
    "                             ),\n",
    "               text=state['imgnode_names'],\n",
    "               hoverinfo='text'\n",
    "               )\n",
    "\n",
    "    imgnode_traces = [imgnode_trace]\n",
    "\n",
    "\n",
    "    node_traces = []\n",
    "    select_layer,select_position = None,None\n",
    "    if str(state['node_select_history'][-1]).isnumeric():\n",
    "        select_layer,select_position = nodeid_2_perlayerid(state['node_select_history'][-1])\n",
    "    for layer in layer_nodes:\n",
    "        #add nodes\n",
    "        colors = deepcopy(state['node_colors'][layer])\n",
    "        if layer == select_layer:\n",
    "            colors[select_position] = 'rgba(0,0,0,1)'\n",
    "        node_trace=go.Scatter3d(x=state['node_positions'][layer]['X'],\n",
    "                   y=state['node_positions'][layer]['Y'],\n",
    "                   z=state['node_positions'][layer]['Z'],\n",
    "                   mode='markers',\n",
    "                   name=layernum2name(layer,title = 'nodes'),\n",
    "                   marker=dict(symbol='circle',\n",
    "                                 size=6,\n",
    "                                 opacity=.99,\n",
    "                                 color=colors,\n",
    "                                 #colorscale='Viridis',\n",
    "                                 line=dict(color='rgb(50,50,50)', width=.5)\n",
    "                                 ),\n",
    "                   text=layer_nodes[layer],\n",
    "                   hoverinfo='text'\n",
    "                   )\n",
    "\n",
    "        node_traces.append(node_trace)\n",
    "\n",
    "\n",
    "    edge_traces = []\n",
    "    for layer in range(len(state['edge_positions'])):  \n",
    "        legendgroup = layernum2name(layer ,title = 'edges')\n",
    "        for edge_num in range(len(state['edge_positions'][layer]['X'])):  \n",
    "        #add edges      \n",
    "            color = deepcopy(state['edge_colors'][layer][edge_num])\n",
    "            if state['edge_names'][layer][edge_num] == state['edge_select_history'][-1]:\n",
    "                color = 'rgba(0,0,0,1)'\n",
    "            showlegend = False\n",
    "            if state['max_edge_width_indices'][layer] == edge_num:\n",
    "                showlegend = True\n",
    "            edge_trace=go.Scatter3d(x=state['edge_positions'][layer]['X'][edge_num],\n",
    "                                    y=state['edge_positions'][layer]['Y'][edge_num],\n",
    "                                    z=state['edge_positions'][layer]['Z'][edge_num],\n",
    "                                    legendgroup=legendgroup,\n",
    "                                    showlegend=showlegend,\n",
    "                                    name=layernum2name(layer ,title = 'edges'),\n",
    "                                    mode='lines',\n",
    "                                    #line=dict(color=edge_colors_dict[layer], width=1.5),\n",
    "                                    line=dict(color=color, width=state['edge_widths'][layer][edge_num]),\n",
    "                                    text = state['edge_names'][layer][edge_num],\n",
    "                                    hoverinfo='text'\n",
    "                                    )\n",
    "            edge_traces.append(edge_trace)\n",
    "\n",
    "\n",
    "    combined_traces = imgnode_traces+node_traces+edge_traces\n",
    "    return combined_traces\n",
    "\n",
    "combined_traces = gen_networkgraph_traces(state)\n",
    "\n",
    "\n",
    "#layout\n",
    "axis=dict(showbackground=False,\n",
    "          showspikes=False,\n",
    "          showline=False,\n",
    "          zeroline=False,\n",
    "          showgrid=False,\n",
    "          showticklabels=False,\n",
    "          #range=[0,0],\n",
    "          title=''\n",
    "          )\n",
    "\n",
    "network_graph_layout = go.Layout(\n",
    "         #title=\"%s through Prunned Cifar10 CNN\"%target_class,\n",
    "         #title = target_class,\n",
    "         #width=1000,\n",
    "         clickmode = 'event+select',\n",
    "         transition = {'duration': 500},\n",
    "         height=600,\n",
    "         #showlegend=False,\n",
    "         margin = dict(l=20, r=20, t=20, b=20),\n",
    "         scene=dict(\n",
    "             xaxis=dict(axis),\n",
    "             yaxis=dict(axis),\n",
    "             zaxis=dict(axis),\n",
    "             aspectmode =\"manual\", \n",
    "             aspectratio = dict(x=1, y=0.5, z=0.5) #adjusting this stretches the network layer-to-layer\n",
    "         ),\n",
    "         uirevision =  True   \n",
    "         #hovermode='closest',\n",
    "   )\n",
    "\n",
    "\n",
    "input_image_layout = go.Layout(width=350, \n",
    "                      height=350,\n",
    "                      uirevision = True,\n",
    "                      margin=dict(\n",
    "                        l=1,\n",
    "                        r=1,\n",
    "                        b=1,\n",
    "                        t=1,\n",
    "                        pad=1))\n",
    "\n",
    "node_actmap_layout = go.Layout(\n",
    "    autosize=False,\n",
    "    width=390,\n",
    "    height=350,\n",
    "    uirevision = True,\n",
    "    margin=dict(\n",
    "        l=1,\n",
    "        r=1,\n",
    "        b=1,\n",
    "        t=1,\n",
    "        pad=1\n",
    "    ))\n",
    "\n",
    "\n",
    "edge_inmap_layout = go.Layout(\n",
    "    #title = 'edge input map',\n",
    "    autosize=False,\n",
    "    width=240,\n",
    "    height=200,\n",
    "    uirevision = True,\n",
    "    margin=dict(\n",
    "        l=1,\n",
    "        r=1,\n",
    "        b=1,\n",
    "        t=10,\n",
    "        pad=1\n",
    "    ))\n",
    "\n",
    "\n",
    "edge_outmap_layout = go.Layout(\n",
    "    #title = 'edge output map',\n",
    "    autosize=False,\n",
    "    width=270,\n",
    "    height=200,\n",
    "    uirevision = True,\n",
    "    margin=dict(\n",
    "        l=1,\n",
    "        r=1,\n",
    "        b=1,\n",
    "        t=10,\n",
    "        pad=1\n",
    "    ))\n",
    "\n",
    "\n",
    "kernel_layout = go.Layout(\n",
    "    #title='kernel'\n",
    "    autosize=False,\n",
    "    width=270,\n",
    "    height=200,\n",
    "    uirevision = True,\n",
    "    margin=dict(\n",
    "        l=1,\n",
    "        r=1,\n",
    "        b=1,\n",
    "        t=1,\n",
    "        pad=1\n",
    "    ))\n",
    "\n",
    "network_graph_fig=go.Figure(data=combined_traces, layout=network_graph_layout)\n",
    "\n",
    "#state['combined_traces']=combined_traces\n"
   ]
  },
  {
   "cell_type": "code",
   "execution_count": 23,
   "metadata": {},
   "outputs": [
    {
     "name": "stderr",
     "output_type": "stream",
     "text": [
      "/Users/chrishamblin/miniconda3/envs/graph_viz/lib/python3.7/site-packages/ipykernel_launcher.py:10: UserWarning:\n",
      "\n",
      "Boolean Series key will be reindexed to match DataFrame index.\n",
      "\n",
      "/Users/chrishamblin/miniconda3/envs/graph_viz/lib/python3.7/site-packages/ipykernel_launcher.py:11: UserWarning:\n",
      "\n",
      "Boolean Series key will be reindexed to match DataFrame index.\n",
      "\n"
     ]
    }
   ],
   "source": [
    "import dash\n",
    "import dash_core_components as dcc\n",
    "import dash_html_components as html\n",
    "#import utils.dash_reusable_components as drc\n",
    "import flask\n",
    "import os\n",
    "\n",
    "import json\n",
    "\n",
    "from dash.dependencies import Input, Output, State\n",
    "\n",
    "\n",
    "\n",
    "#external_stylesheets = ['https://codepen.io/amyoshino/pen/jzXypZ.css']\n",
    "external_stylesheets = ['https://codepen.io/chriddyp/pen/bWLwgP.css']\n",
    "\n",
    "app = dash.Dash(external_stylesheets = external_stylesheets)\n",
    "\n",
    "\n",
    "styles = {\n",
    "    'pre': {\n",
    "        'border': 'thin lightgrey solid',\n",
    "        'overflowX': 'scroll'\n",
    "    }\n",
    "}\n",
    "\n",
    "\n",
    "app.layout = html.Div(\n",
    "        [html.Div(         #Left side control panel\n",
    "            children = [\n",
    "             html.Label('Weighting Category'),\n",
    "             dcc.Dropdown(\n",
    "                id='weight-category',\n",
    "                options=[{'label': i, 'value': i} for i in classes],\n",
    "                value=target_class\n",
    "                ),\n",
    "             html.Br(),\n",
    "             html.Label('Weighting Criterion'),\n",
    "             dcc.Dropdown(\n",
    "                id='weight-criterion',\n",
    "                options=[\n",
    "                    {'label': 'Activations*Grads', 'value': 'actgrads'},\n",
    "                    {'label': 'Activations', 'value': 'acts'}\n",
    "                ],\n",
    "                value='actgrads'\n",
    "                ),\n",
    "             html.Br(),   \n",
    "             html.Label('Layer Projection'),\n",
    "             dcc.Dropdown(\n",
    "                id = 'layer-projection',\n",
    "                options=[\n",
    "                    {'label': 'MDS', 'value': 'MDS'},\n",
    "                    {'label': 'Grid', 'value': 'grid'},\n",
    "                    #{'label': 'SOM', 'value': 'SOM'}\n",
    "                ],\n",
    "                value='MDS'\n",
    "                ),\n",
    "\n",
    "            html.Br(),\n",
    "            html.Label('Edge Thresholds'),\n",
    "                dcc.RangeSlider(\n",
    "                    id='edge-thresh-slider',\n",
    "                    min=0,\n",
    "                    max=np.ceil(max_edge_weight*10)/10,\n",
    "                    step=0.001,\n",
    "                    marks={i/10: str(i/10) for i in range(0,int(np.ceil(max_edge_weight*10))+1,int(round(np.ceil(max_edge_weight*10)/5)))},\n",
    "                    value=[.1,np.ceil(max_edge_weight*10)/10],\n",
    "                ),\n",
    "                \n",
    "            ], className=\"two columns\"\n",
    "        ),\n",
    "\n",
    "        html.Div(\n",
    "            children = [\n",
    "                \n",
    "            html.Div([\n",
    "                dcc.Graph(\n",
    "                    id='network-graph',\n",
    "                    figure=network_graph_fig\n",
    "                )\n",
    "            ], className= 'row'\n",
    "            ),\n",
    "                \n",
    "            html.Div([\n",
    "                html.Div([\n",
    "                html.Label('Input Image'),\n",
    "                dcc.Dropdown(\n",
    "                    id='input-image-dropdown',\n",
    "                    options=[{'label': i, 'value': i} for i in list_of_input_images],\n",
    "                    value=list_of_input_images[0]\n",
    "                ),\n",
    "                html.Br(),\n",
    "                dcc.Graph(\n",
    "                    id='img-actmap-graph',\n",
    "                    figure=image2heatmap(input_image_directory+list_of_input_images[0]),\n",
    "                    config={\n",
    "                            'displayModeBar': False\n",
    "                            }\n",
    "                )\n",
    "                ], className = \"three columns\"),\n",
    "                \n",
    "                html.Div([\n",
    "                html.Label('Node'),\n",
    "                dcc.Dropdown(\n",
    "                    id='node-actmap-dropdown',\n",
    "                    options=[{'label': str(j), 'value': str(j)} for j in imgnode_names]+[{'label': str(i), 'value': str(i)} for i in range(num_nodes)],\n",
    "                    value='0'\n",
    "                ),\n",
    "                html.Br(),\n",
    "                dcc.Graph(\n",
    "                    id='node-actmap-graph',\n",
    "                    figure=go.Figure(data=go.Heatmap(\n",
    "                                        z = np.flip(activations['nodes'][0][0][0],0)),\n",
    "                                        layout=input_image_layout\n",
    "                                    ),\n",
    "                    config={\n",
    "                            'displayModeBar': False\n",
    "                            }\n",
    "                )\n",
    "                ], className = \"three columns\"),\n",
    "                \n",
    "                html.Div([\n",
    "                html.Label('Edge'),    \n",
    "                dcc.Input(\n",
    "                    id='edge-actmaps-input',value=state['edge_names'][0][0], type='text'),\n",
    "                #html.Button(id='edge-kernel-button',n_clicks=0, children='Submit'),\n",
    "                html.Br(),\n",
    "                html.Br(),\n",
    "                dcc.Graph(\n",
    "                    id='edge-kernel-graph',\n",
    "                    figure=go.Figure(data=go.Heatmap(\n",
    "                                        z = edgename_2_edge_figures(state['edge_names'][0][0])[0]),\n",
    "                                     layout=kernel_layout\n",
    "                                    ),\n",
    "                    config={\n",
    "                            'displayModeBar': False\n",
    "                            }\n",
    "                )\n",
    "                ], className = \"two columns\"),\n",
    "                \n",
    "                \n",
    "                html.Div([\n",
    "                dcc.Graph(\n",
    "                    id='edge-inmap-graph',\n",
    "                    figure=go.Figure(data=go.Heatmap(\n",
    "                                        z = edgename_2_edge_figures(state['edge_names'][0][0])[1]),\n",
    "                                     layout=edge_inmap_layout\n",
    "                                    ),\n",
    "                    config={\n",
    "                            'displayModeBar': False\n",
    "                            }\n",
    "                ),\n",
    "                html.Br(),\n",
    "                html.Br(),\n",
    "                dcc.Graph(\n",
    "                    id='edge-outmap-graph',\n",
    "                    figure=go.Figure(data=go.Heatmap(\n",
    "                                        z = edgename_2_edge_figures(state['edge_names'][0][0])[2]),\n",
    "                                     layout=edge_outmap_layout\n",
    "                                    ),\n",
    "                    config={\n",
    "                            'displayModeBar': False\n",
    "                            }\n",
    "                )\n",
    "                ], className = \"three columns\")\n",
    "                \n",
    "                \n",
    "             ], className= 'row'\n",
    "             ),\n",
    "                \n",
    "                \n",
    "            html.Div([\n",
    "                html.Div([\n",
    "                    dcc.Markdown(\"\"\"\n",
    "                        **Hover Data**\n",
    "\n",
    "                        Mouse over values in the graph.\n",
    "                    \"\"\"),\n",
    "                    html.Pre(id='hover-data', style=styles['pre'])\n",
    "                ], className='two columns'),\n",
    "\n",
    "                html.Div([\n",
    "                    dcc.Markdown(\"\"\"\n",
    "                        **Click Data**\n",
    "\n",
    "                        Click on points in the graph.\n",
    "                    \"\"\"),\n",
    "                    html.Pre(id='click-data', style=styles['pre']),\n",
    "                ], className='two columns'),\n",
    "\n",
    "                html.Div([\n",
    "                    dcc.Markdown(\"\"\"\n",
    "                        **Selection Data**\n",
    "\n",
    "                        Choose the lasso or rectangle tool in the graph's menu\n",
    "                        bar and then select points in the graph.\n",
    "\n",
    "                        Note that if `layout.clickmode = 'event+select'`, selection data also \n",
    "                        accumulates (or un-accumulates) selected data if you hold down the shift\n",
    "                        button while clicking.\n",
    "                    \"\"\"),\n",
    "                    html.Pre(id='selected-data', style=styles['pre']),\n",
    "                ], className='two columns'),\n",
    "\n",
    "#                 html.Div([\n",
    "#                     dcc.Markdown(\"\"\"\n",
    "#                         **Zoom and Relayout Data**\n",
    "\n",
    "#                         Click and drag on the graph to zoom or click on the zoom\n",
    "#                         buttons in the graph's menu bar.\n",
    "#                         Clicking on legend items will also fire\n",
    "#                         this event.\n",
    "#                     \"\"\"),\n",
    "#                     html.Pre(id='relayout-data', style=styles['pre']),\n",
    "#                 ], className='two columns')\n",
    "                \n",
    "                html.Div([\n",
    "                    dcc.Markdown(\"\"\"\n",
    "                        **Figure Data**\n",
    "\n",
    "                        Figure json info.\n",
    "                    \"\"\"),\n",
    "                    html.Pre(id='figure-data', style=styles['pre']),\n",
    "                ], className='four columns')\n",
    "                \n",
    "            ], className= 'row'\n",
    "            )\n",
    "        ], className=\"ten columns\"\n",
    "        ),\n",
    "    #hidden divs for storing intermediate values     \n",
    "    # The memory store reverts to the default on every page refresh\n",
    "    dcc.Store(id='memory'),\n",
    "    # The local store will take the initial data\n",
    "    # only the first time the page is loaded\n",
    "    # and keep it until it is cleared.\n",
    "    dcc.Store(id='local', storage_type='local'),\n",
    "    # Same as the local store but will lose the data\n",
    "    # when the browser/tab closes.\n",
    "    dcc.Store(id='session', storage_type='session',data=state)\n",
    "    ]\n",
    ")\n",
    "\n",
    "\n",
    "\n",
    "####Call Back Functions\n",
    "\n",
    "\n",
    "# @app.callback(\n",
    "#     [Output('network-graph', 'figure'),\n",
    "#      Output('previous-click','children')],\n",
    "#     [Input('network-graph', 'clickData'),\n",
    "#      Input('previous-click','children')])\n",
    "# def highlight_on_click(clickData,state,previous_click =False):\n",
    "#     #if clickData['points'][0]['curveNumber'] == None:\n",
    "#     if not clickData:\n",
    "#         raise Exception('no point clicked yet') \n",
    "#     #recolor previous click \n",
    "#     if previous_click:\n",
    "#         if previous_click == 0:\n",
    "#             state['combined_traces'][0]['marker']['color'] = state['imgnode_colors']\n",
    "#         elif previous_click < num_layers+1:\n",
    "#             state['combined_traces'][previous_click]['marker']['color'] = state['node_colors'][previous_click-1]\n",
    "#         else:\n",
    "#             layer,position = get_edge_layer_from_curvenumber(previous_click,state['edge_names'])\n",
    "#             state['combined_traces'][previous_click]['line']['color'] == state['edge_colors'][layer][position]\n",
    "#     #blackout click\n",
    "#     trace_num = int(clickData['points'][0]['curveNumber'])\n",
    "#     if trace_num == 0:\n",
    "#         new_colors = state['imgnode_colors']\n",
    "#         new_colors[clickData['points'][0]['pointNumber']] = 'rgba(0,0,0,1)'        \n",
    "#     elif trace_num < num_layers +1:   #highlight point\n",
    "#         new_colors = list(state['node_colors'][trace_num-1])\n",
    "#         new_colors[clickData['points'][0]['pointNumber']] = 'rgba(0,0,0,1)'\n",
    "#         state['combined_traces'][trace_num]['marker']['color'] = new_colors\n",
    "#     else: #highlight edge\n",
    "#         state['combined_traces'][trace_num]['line']['color'] = 'rgba(0,0,0,1)'\n",
    "#     return \n",
    "  \n",
    "#     layout = graph_layout\n",
    "#     layout['uirevision'] = True\n",
    "#     previous_click = {'curveNumber':clickData['points'][0]['curveNumber'],'pointNumber':clickData['points'][0]['pointNumber']}\n",
    "#     return {'data': combined_traces,'layout': layout},json.dumps(previous_click)\n",
    "\n",
    "\n",
    "\n",
    "@app.callback(\n",
    "    Output('session', 'data'),\n",
    "    [Input('weight-category', 'value'),\n",
    "     Input('node-actmap-dropdown', 'value'),\n",
    "     Input('edge-actmaps-input', 'value'),\n",
    "     Input('edge-thresh-slider','value')],\n",
    "    [State('session', 'data')])\n",
    "def update_store(target_class,node_value,edge_value,edge_threshold,state):\n",
    "    print('CALLED: update_store\\n')\n",
    "    ctx = dash.callback_context\n",
    "    if not ctx.triggered:\n",
    "        raise Exception('no figure updates yet')\n",
    "    else:\n",
    "        trigger = ctx.triggered[0]['prop_id']\n",
    "    state['last_trigger'] = trigger  #store the last trigger of state change in state\n",
    "    print('TRIGGER %s'%trigger)\n",
    "    if trigger == 'weight-category.value':\n",
    "        print('changing target class to %s'%target_class)\n",
    "        state['node_colors'], state['node_weights'] = gen_node_colors(target_class)\n",
    "        #state['max_edge_weight'] = get_max_edge_weight(target_class)\n",
    "        edges_select_df = get_thresholded_edges(threshold=edge_threshold,target_class=target_class)\n",
    "        state['edge_positions'], state['edge_colors'], state['edge_widths'],state['edge_weights'], state['edge_names'], state['max_edge_width_indices'] = gen_edge_graphdata(df = edges_select_df,node_positions = state['node_positions'],target_class=target_class)\n",
    "    elif trigger == 'node-actmap-dropdown.value' or trigger == 'edge-actmaps-input.value':\n",
    "        state['last_trigger'] = 'selection_change'\n",
    "        print(edge_value)\n",
    "        #update node if button value different than store value\n",
    "        if state['node_select_history'][-1] != node_value:\n",
    "            print('changing selected node to %s'%node_value)\n",
    "            state['node_select_history'].append(node_value)\n",
    "            if len(state['node_select_history']) > 10:\n",
    "                del state['node_select_history'][0] \n",
    "        #update edge if button value different than store value\n",
    "        if state['edge_select_history'][-1] != edge_value and check_edge_validity(edge_value.strip())[0]:\n",
    "            print('changing selected edge to %s'%edge_value)\n",
    "            state['edge_select_history'].append(edge_value)\n",
    "            print(state['edge_select_history'])\n",
    "            if len(state['edge_select_history']) > 10:\n",
    "                del state['edge_select_history'][0]              \n",
    "\n",
    "    elif trigger == 'edge-thresh-slider.value':\n",
    "        print('changing edge thresholds to %s - %s'%(edge_threshold[0],edge_threshold[1]))\n",
    "        state['edge_threshold'] == edge_threshold\n",
    "        edges_select_df = get_thresholded_edges(threshold=edge_threshold,target_class=target_class)\n",
    "        print('found %s edges'%len(edges_select_df))\n",
    "        state['edge_positions'], state['edge_colors'], state['edge_widths'], state['edge_weights'], state['edge_names'], state['max_edge_width_indices'] = gen_edge_graphdata(df = edges_select_df,node_positions = state['node_positions'],target_class=target_class)\n",
    "    else:\n",
    "        raise Exception('unknown trigger: %s'%trigger)    \n",
    "    return state\n",
    "\n",
    "\n",
    "\n",
    "@app.callback(\n",
    "    Output('network-graph', 'figure'),\n",
    "    [Input('session', 'data')],\n",
    "    [State('network-graph','figure')])\n",
    "def update_figure(state, fig):\n",
    "    #network_graph_layout['uirevision'] = True\n",
    "    print('CALLED: update_figure\\n')\n",
    "    print(state['edge_threshold'])\n",
    "    if state['last_trigger'] == 'selection_change':   #minimal updates\n",
    "        #hightlight edge\n",
    "        print('updating edge highlight to %s'%state['edge_select_history'][-1])\n",
    "        #if len(state['edge_select_history']) >1:\n",
    "        #if state['edge_select_history'][-1] != state['edge_select_history'][-2]:  #didnt click same point\n",
    "        flat_edge_names = [item for sublist in state['edge_names'] for item in sublist]\n",
    "        flat_edge_colors = [item for sublist in state['edge_colors'] for item in sublist]\n",
    "        try:  #update current edge if it exists to black\n",
    "            print(flat_edge_names)\n",
    "            fig['data'][flat_edge_names.index(state['edge_select_history'][-1])+num_layers+1]['line']['color'] = 'rgba(0,0,0,1)'\n",
    "        except:\n",
    "            print('select edge, %s,  not recolored as no longer shown'%state['edge_select_history'][-1])\n",
    "        if len(state['edge_select_history']) > 1: #there is a previous edge to unselect\n",
    "            try: #recolor previous edge if it exists from black\n",
    "                fig['data'][flat_edge_names.index(state['edge_select_history'][-2])+num_layers+1]['line']['color'] = flat_edge_colors[flat_edge_names.index(state['edge_select_history'][-2])]\n",
    "            except:\n",
    "                print('previous edge, %s,  not recolored as no longer shown'%state['edge_select_history'][-2])\n",
    "        #highlight node\n",
    "        print('updating node highlight to %s'%state['node_select_history'][-1])\n",
    "        #if len(state['node_select_history']) >1:\n",
    "        #    if state['node_select_history'][-1] != state['node_select_history'][-2]: \n",
    "                #update current node color to black\n",
    "        if str(state['node_select_history'][-1]).isnumeric():  #if normal node\n",
    "            select_layer,select_position = nodeid_2_perlayerid(state['node_select_history'][-1])\n",
    "            fig['data'][select_layer+1]['marker']['color'][select_position] = 'rgba(0,0,0,1)'\n",
    "        else:   #imgnode\n",
    "            fig['data'][0]['marker']['color'][fig['data'][0]['text'].index(state['node_select_history'][-1])] = 'rgba(0,0,0,1)'\n",
    "        #update previous node color to its usual color\n",
    "        if len(state['node_select_history']) > 1: #there is a previous node to unselect\n",
    "            if str(state['node_select_history'][-2]).isnumeric():  #if normal node\n",
    "                prev_select_layer,prev_select_position = nodeid_2_perlayerid(state['node_select_history'][-2])\n",
    "                fig['data'][prev_select_layer+1]['marker']['color'][prev_select_position] = state['node_colors'][prev_select_layer][prev_select_position]\n",
    "            else:   #imgnode\n",
    "                fig['data'][0]['marker']['color'][fig['data'][0]['text'].index(state['node_select_history'][-2])] = state['imgnode_colors'][fig['data'][0]['text'].index(state['node_select_history'][-2])]\n",
    "        return fig    \n",
    "    else:   #regenerate full traces\n",
    "        combined_traces = gen_networkgraph_traces(state)    \n",
    "        layout = network_graph_layout\n",
    "        #layout['uirevision'] = True\n",
    "        return {'data': combined_traces,\n",
    "            'layout': layout}\n",
    "\n",
    "\n",
    "# @app.callback(\n",
    "#     [Output('edge-thresh-slider', 'max'),\n",
    "#     Output('edge-thresh-slider', 'marks'),\n",
    "#     Output('edge-thresh-slider', 'value')],\n",
    "#     [Input('weight-category', 'value')],\n",
    "#     [State('session', 'data')])\n",
    "# def update_thresh_slider(target_class,state):\n",
    "#     print('Updating edge threshold slider layout')\n",
    "#     max_val = np.ceil(state['max_edge_weight']*10)/10\n",
    "#     value = [min(state['edge_threshold'][0],max_val),min(state['edge_threshold'][1],max_val)]\n",
    "#     marks={i/10: str(i/10) for i in range(0,int(np.ceil(state['max_edge_weight']*10))+1,int(round(np.ceil(state['max_edge_weight']*10)/5)))},\n",
    "#     return max_val,marks,value\n",
    "\n",
    "    \n",
    "# @app.callback(\n",
    "#     Output('network-graph', 'figure'),\n",
    "#     [Input('weight-category', 'value'),\n",
    "#      Input('network-graph', 'clickData'),\n",
    "#      Input('lower-thresh-slider','value')],\n",
    "#     [State('session', 'data')])\n",
    "# def update_figure(target_class,clickData,edge_thresh,state):\n",
    "#     ctx = dash.callback_context\n",
    "#     if not ctx.triggered:\n",
    "#         raise Exception('no figure updates yet')\n",
    "#     else:\n",
    "#         trigger = ctx.triggered[0]['prop_id']\n",
    "        \n",
    "#     if trigger == 'weight-category.value':\n",
    "#         combined_traces = gen_networkgraph_traces()\n",
    "#     elif trigger == 'network-graph.clickData':\n",
    "#         previous_click = False\n",
    "#         if len(state['click_history']['curveNumber']) > 1:\n",
    "#             previous_click = state['click_history']['curveNumber'][-2]   #second to last click\n",
    "#         highlight_on_click(clickData,state,previous_click=previous_click)\n",
    "#     elif trigger == 'lower-thresh-slider.value':\n",
    "#         combined_traces = gen_networkgraph_traces()\n",
    "#     else:\n",
    "#         raise Exception('unknown trigger: %s'%trigger)\n",
    "        \n",
    "#     layout = graph_layout\n",
    "#     layout['uirevision'] = True\n",
    "#     return {'data': combined_traces,\n",
    "#             'layout': layout}\n",
    "\n",
    "@app.callback(\n",
    "    Output('node-actmap-dropdown', 'value'),\n",
    "    [Input('network-graph', 'clickData')],\n",
    "    [State('node-actmap-dropdown', 'value')])\n",
    "def switch_node_actmap_click(clickData,current_value):\n",
    "    print('CALLED: switch_node_actmap_click')\n",
    "    if clickData is None:\n",
    "        return current_value \n",
    "        #raise Exception('no click data')\n",
    "    if int(clickData['points'][0]['curveNumber']) > num_layers:\n",
    "        return current_value\n",
    "        #raise Exception('edge was clicked')\n",
    "    return clickData['points'][0]['text']\n",
    "\n",
    "@app.callback(\n",
    "    Output('edge-actmaps-input', 'value'),\n",
    "    [Input('network-graph', 'clickData')],\n",
    "    [State('edge-actmaps-input', 'value'),\n",
    "     State('session', 'data')])\n",
    "def switch_edge_actmaps_click(clickData,current_value,state):\n",
    "    print('CALLED: switch_edge_actmaps_click')\n",
    "    if clickData is None:\n",
    "        return current_value\n",
    "        #raise Exception('no click data')\n",
    "    if int(clickData['points'][0]['curveNumber']) <= num_layers:\n",
    "        return current_value\n",
    "        #raise Exception('node was clicked')\n",
    "    return get_nth_element_from_nested_list(state['edge_names'],int(clickData['points'][0]['curveNumber'])-(num_layers+1))\n",
    "\n",
    "\n",
    "\n",
    "# #Node activation map\n",
    "# @app.callback(\n",
    "#     Output('node-actmap-dropdown', 'value'),\n",
    "#     [Input('node-actmap-dropdown', 'value'),\n",
    "#      Input('input-image-dropdown', 'value')])\n",
    "# def update_node_actmap_dropdown()\n",
    "\n",
    "\n",
    "@app.callback(\n",
    "    Output('node-actmap-graph', 'figure'),\n",
    "    [Input('node-actmap-dropdown', 'value'),\n",
    "     Input('input-image-dropdown', 'value')])\n",
    "def update_node_actmap(nodeid,image_name):       #EDIT: needs support for black and white images\n",
    "    print('CALLED: update_node_actmap')\n",
    "    layer, within_id = nodeid_2_perlayerid(nodeid)\n",
    "    if layer == 'img': #code for returning color channel as activation map\n",
    "        np_chan_im = get_channelwise_image(image_name,state['imgnode_names'].index(nodeid),input_image_directory=input_image_directory)\n",
    "        return go.Figure(data=go.Heatmap( z = np.flip(np_chan_im,0)),\n",
    "                        layout=node_actmap_layout) \n",
    "    \n",
    "    return go.Figure(data=go.Heatmap( z = np.flip(activations['nodes'][layer][list_of_input_images.index(image_name)][within_id],0)),\n",
    "                     layout=node_actmap_layout) \n",
    "\n",
    "\n",
    "@app.callback(\n",
    "    Output('img-actmap-graph', 'figure'),\n",
    "    [Input('input-image-dropdown', 'value')])\n",
    "def update_inputimg_actmap(image_name): \n",
    "    print('CALLED: update_inputimg_actmap')\n",
    "    return image2heatmap(input_image_directory+image_name)\n",
    "\n",
    "\n",
    "@app.callback(\n",
    "    Output('edge-kernel-graph', 'figure'),\n",
    "    [Input('edge-actmaps-input','value')],\n",
    "    [State('edge-kernel-graph','figure')])\n",
    "def update_edge_kernelmap(edgename,figure):\n",
    "    print('CALLED: update_edge_kernelmap')\n",
    "    kernel,inmap,outmap = edgename_2_edge_figures(edgename)\n",
    "    if kernel is not None:\n",
    "        return go.Figure(data=go.Heatmap(z = kernel),\n",
    "                         layout=kernel_layout)\n",
    "    else:\n",
    "        return figure\n",
    "                \n",
    "\n",
    "@app.callback(\n",
    "    Output('edge-inmap-graph', 'figure'),\n",
    "    [Input('edge-actmaps-input','value'),\n",
    "     Input('input-image-dropdown', 'value')],\n",
    "    [State('edge-inmap-graph','figure')])\n",
    "def update_edge_inmap(edgename,imagename,figure):\n",
    "    print('CALLED: update_edge_inmap')\n",
    "    kernel,inmap,outmap = edgename_2_edge_figures(edgename,imagename=imagename)\n",
    "    if inmap is not None:\n",
    "        return go.Figure(data=go.Heatmap(z = inmap),\n",
    "                         layout=edge_inmap_layout)\n",
    "    else:\n",
    "        print('edge inmap error')\n",
    "        return figure\n",
    "    \n",
    "@app.callback(\n",
    "    Output('edge-outmap-graph', 'figure'),\n",
    "    [Input('edge-actmaps-input','value'),\n",
    "     Input('input-image-dropdown', 'value')],\n",
    "    [State('edge-outmap-graph','figure')])\n",
    "def update_edge_outmap(edgename,imagename,figure):\n",
    "    print('CALLED: update_edge_outmap')\n",
    "    kernel,inmap,outmap = edgename_2_edge_figures(edgename,imagename=imagename)\n",
    "    if outmap is not None:\n",
    "        return go.Figure(data=go.Heatmap(z = outmap),\n",
    "                         layout=edge_outmap_layout)\n",
    "    else:\n",
    "        print('edge outmap error')\n",
    "        return figure\n",
    "        \n",
    "        \n",
    "# #Input Images\n",
    "# @app.callback(\n",
    "#     Output('input-image', 'src'),\n",
    "#     [Input('input-image-dropdown', 'value')])\n",
    "# def update_input_image_src(value):\n",
    "#     return static_input_image_route + value\n",
    "\n",
    "# @app.server.route('{}<image_path>.png'.format(static_input_image_route))\n",
    "# def serve_input_image(image_path):\n",
    "#     image_name = '{}.png'.format(image_path)\n",
    "#     if image_name not in list_of_input_images:\n",
    "#         raise Exception('\"{}\" is excluded from the allowed static files'.format(image_path))\n",
    "#     return flask.send_from_directory(input_image_directory, image_name)\n",
    "\n",
    "\n",
    "\n",
    "\n",
    "# #JSON INFO\n",
    "\n",
    "@app.callback(\n",
    "    Output('hover-data', 'children'),\n",
    "    [Input('network-graph', 'hoverData')])\n",
    "def display_hover_data(hoverData):\n",
    "    return json.dumps(hoverData, indent=2)\n",
    "\n",
    "\n",
    "\n",
    "\n",
    "@app.callback(\n",
    "    Output('click-data', 'children'),\n",
    "    [Input('network-graph', 'clickData')])\n",
    "def display_click_data(clickData):\n",
    "    return json.dumps(clickData, indent=2)\n",
    "\n",
    "\n",
    "@app.callback(\n",
    "    Output('selected-data', 'children'),\n",
    "    [Input('network-graph', 'selectedData')])\n",
    "def display_selected_data(selectedData):\n",
    "    return json.dumps(selectedData, indent=2)\n",
    "\n",
    "\n",
    "\n",
    "\n",
    "\n",
    "\n",
    "@app.callback(\n",
    "    Output('figure-data', 'children'),\n",
    "    [Input('weight-category', 'value'),\n",
    "     Input('network-graph', 'clickData'),\n",
    "     Input('edge-thresh-slider','value'),\n",
    "     Input('session','data')])\n",
    "def display_trigger(target_class,clickData,edge_thresh,state):\n",
    "    ctx = dash.callback_context\n",
    "    if not ctx.triggered:\n",
    "        raise Exception('no figure updates yet')\n",
    "    else:\n",
    "        trigger = ctx.triggered[0]['prop_id'].split('.')[0]\n",
    "    ctx_msg = json.dumps({\n",
    "        'states': ctx.states,\n",
    "        'triggered': ctx.triggered,\n",
    "        'inputs': ctx.inputs,\n",
    "        'full_state':state\n",
    "    }, indent=2)\n",
    "    return ctx_msg\n",
    "    \n",
    "    \n",
    "\n",
    "\n",
    "       \n",
    "\n",
    "# @app.callback(\n",
    "#     Output('network-graph', 'figure'),\n",
    "#     [Input('weight-category', 'value'),\n",
    "#      Input('network-graph', 'clickData'),\n",
    "#      Input('lower-thresh-slider','value')])\n",
    "# def update_figure(target_class,clickData,edge_thresh):\n",
    "#     node_colors = gen_node_colors(target_class)\n",
    "#     Edges,edge_weights = gen_edge_subset_and_weights(target_class,edge_threshold=edge_thresh)\n",
    "#     edge_positions = gen_edge_positions(Edges)\n",
    "#     click_layer = int(clickData['points'][0]['curveNumber'])\n",
    "#     for layer in node_colors:\n",
    "#         if layer == click_layer:\n",
    "#             new_colors = list(node_colors[click_layer])\n",
    "#             new_colors[clickData['points'][0]['pointNumber']] = 'rgba(0,0,0,1)'\n",
    "#             combined_traces[layer]['marker']['color'] = new_colors\n",
    "#         else:\n",
    "#             combined_traces[layer]['marker']['color'] = node_colors[layer]\n",
    "\n",
    "#     for layer in edge_positions:\n",
    "#         combined_traces[layer-1+num_layers] = go.Scatter3d(x=edge_positions[layer]['X'],\n",
    "#                                 y=edge_positions[layer]['Y'],\n",
    "#                                 z=edge_positions[layer]['Z'],\n",
    "#                                 name=layernum2name(layer ,title = 'edges'),\n",
    "#                                 mode='lines',\n",
    "#                                 #line=dict(color=edge_colors_dict[layer], width=1.5),\n",
    "#                                 line=dict(color='rgb(100,100,100)', width=1.5),\n",
    "#                                 text = list(range(len(Edges[layer])))\n",
    "#                                 #hoverinfo='text'\n",
    "#                                 )\n",
    "   \n",
    "#     layout = graph_layout\n",
    "#     layout['uirevision'] = True\n",
    "#     return {'data': combined_traces,\n",
    "#             'layout': layout}\n",
    "\n",
    "\n",
    "\n",
    "\n",
    "\n",
    "\n",
    "\n",
    "\n",
    "\n",
    "\n",
    "\n",
    "\n",
    "\n",
    "\n",
    "\n",
    "\n",
    "# @app.callback(\n",
    "#     Output('relayout-data', 'children'),\n",
    "#     [Input('network-graph', 'relayoutData')])\n",
    "# def display_relayout_data(relayoutData):\n",
    "#     return json.dumps(relayoutData, indent=2)\n",
    "\n",
    "\n",
    "\n",
    "\n",
    "\n",
    "# @app.callback(\n",
    "#     Output('figure-data', 'children'),\n",
    "#     [Input('network-graph', 'figure')])\n",
    "# def display_figure_data(figure):\n",
    "#     return json.dumps(figure, indent=2)\n",
    "\n",
    "\n"
   ]
  },
  {
   "cell_type": "code",
   "execution_count": null,
   "metadata": {},
   "outputs": [
    {
     "name": "stdout",
     "output_type": "stream",
     "text": [
      " * Serving Flask app \"__main__\" (lazy loading)\n",
      " * Environment: production\n",
      "\u001b[31m   WARNING: This is a development server. Do not use it in a production deployment.\u001b[0m\n",
      "\u001b[2m   Use a production WSGI server instead.\u001b[0m\n",
      " * Debug mode: off\n"
     ]
    },
    {
     "name": "stderr",
     "output_type": "stream",
     "text": [
      " * Running on http://127.0.0.1:8050/ (Press CTRL+C to quit)\n",
      "127.0.0.1 - - [01/Jul/2020 10:06:50] \"\u001b[37mGET / HTTP/1.1\u001b[0m\" 200 -\n",
      "127.0.0.1 - - [01/Jul/2020 10:06:50] \"\u001b[37mGET /_dash-dependencies HTTP/1.1\u001b[0m\" 200 -\n",
      "127.0.0.1 - - [01/Jul/2020 10:06:50] \"\u001b[37mGET /_dash-layout HTTP/1.1\u001b[0m\" 200 -\n",
      "127.0.0.1 - - [01/Jul/2020 10:06:50] \"\u001b[37mGET /_favicon.ico?v=1.9.1 HTTP/1.1\u001b[0m\" 200 -\n"
     ]
    },
    {
     "name": "stdout",
     "output_type": "stream",
     "text": [
      "CALLED: update_inputimg_actmap\n"
     ]
    },
    {
     "name": "stderr",
     "output_type": "stream",
     "text": [
      "127.0.0.1 - - [01/Jul/2020 10:06:51] \"\u001b[37mPOST /_dash-update-component HTTP/1.1\u001b[0m\" 200 -\n",
      "127.0.0.1 - - [01/Jul/2020 10:06:53] \"\u001b[37mPOST /_dash-update-component HTTP/1.1\u001b[0m\" 200 -\n",
      "127.0.0.1 - - [01/Jul/2020 10:06:53] \"\u001b[37mPOST /_dash-update-component HTTP/1.1\u001b[0m\" 200 -\n",
      "127.0.0.1 - - [01/Jul/2020 10:06:53] \"\u001b[37mPOST /_dash-update-component HTTP/1.1\u001b[0m\" 200 -\n",
      "127.0.0.1 - - [01/Jul/2020 10:06:53] \"\u001b[37mPOST /_dash-update-component HTTP/1.1\u001b[0m\" 200 -\n",
      "127.0.0.1 - - [01/Jul/2020 10:06:53] \"\u001b[37mPOST /_dash-update-component HTTP/1.1\u001b[0m\" 200 -\n",
      "/Users/chrishamblin/miniconda3/envs/graph_viz/lib/python3.7/site-packages/ipykernel_launcher.py:10: UserWarning:\n",
      "\n",
      "Boolean Series key will be reindexed to match DataFrame index.\n",
      "\n",
      "/Users/chrishamblin/miniconda3/envs/graph_viz/lib/python3.7/site-packages/ipykernel_launcher.py:11: UserWarning:\n",
      "\n",
      "Boolean Series key will be reindexed to match DataFrame index.\n",
      "\n",
      "127.0.0.1 - - [01/Jul/2020 10:06:53] \"\u001b[37mPOST /_dash-update-component HTTP/1.1\u001b[0m\" 200 -\n",
      "127.0.0.1 - - [01/Jul/2020 10:06:53] \"\u001b[37mPOST /_dash-update-component HTTP/1.1\u001b[0m\" 200 -\n",
      "127.0.0.1 - - [01/Jul/2020 10:06:53] \"\u001b[37mPOST /_dash-update-component HTTP/1.1\u001b[0m\" 200 -\n"
     ]
    },
    {
     "name": "stdout",
     "output_type": "stream",
     "text": [
      "CALLED: switch_edge_actmaps_click\n",
      "CALLED: switch_node_actmap_click\n",
      "CALLED: update_figure\n",
      "\n",
      "[0.1, 1]\n",
      "updating edge highlight to g-0\n",
      "['g-0', 'b-1', 'r-3', 'r-5', 'g-5', 'b-9', 'b-14', 'r-16', 'b-16', 'r-18', 'g-18', 'b-18', 'r-19', 'g-19', 'r-25', 'g-26', 'b-26', 'r-31', 'g-31', 'b-31', 'r-36', 'b-36', 'r-39', 'r-41', 'r-42', 'r-43', 'g-43', '5-46', '26-46', '36-46', '0-48', '3-48', '18-48', '26-48', '41-48', '41-49', '0-51', '18-51', '26-52', '3-62', '11-62', '16-62', '19-62', '24-62', '31-62', '33-62', '36-62', '38-62', '41-62', '16-64', '59-71', '48-73', '53-73', '49-90', '53-90', '59-91', '49-94', '48-100', '50-100', '52-100', '53-100', '54-100', '46-108', '62-108', '49-113', '62-113', '90-123', '113-123', '113-130', '73-132', '73-139', '77-139', '69-143', '71-143', '74-143', '100-143', '97-156', '110-156', '101-157', '92-158', '94-162', '116-162']\n",
      "updating node highlight to 0\n",
      "CALLED: update_edge_outmap\n",
      "CALLED: update_edge_inmap\n",
      "CALLED: update_edge_kernelmap\n",
      "CALLED: update_store\n",
      "\n",
      "TRIGGER edge-actmaps-input.value\n",
      "g-0CALLED: update_node_actmap\n",
      "\n",
      "CALLED: update_store\n",
      "\n",
      "TRIGGER node-actmap-dropdown.value\n",
      "g-0\n"
     ]
    },
    {
     "name": "stderr",
     "output_type": "stream",
     "text": [
      "127.0.0.1 - - [01/Jul/2020 10:06:53] \"\u001b[37mPOST /_dash-update-component HTTP/1.1\u001b[0m\" 200 -\n",
      "127.0.0.1 - - [01/Jul/2020 10:06:53] \"\u001b[37mPOST /_dash-update-component HTTP/1.1\u001b[0m\" 200 -\n",
      "127.0.0.1 - - [01/Jul/2020 10:06:53] \"\u001b[37mPOST /_dash-update-component HTTP/1.1\u001b[0m\" 200 -\n",
      "127.0.0.1 - - [01/Jul/2020 10:06:53] \"\u001b[37mPOST /_dash-update-component HTTP/1.1\u001b[0m\" 200 -\n",
      "127.0.0.1 - - [01/Jul/2020 10:06:53] \"\u001b[37mPOST /_dash-update-component HTTP/1.1\u001b[0m\" 200 -\n",
      "127.0.0.1 - - [01/Jul/2020 10:06:54] \"\u001b[37mPOST /_dash-update-component HTTP/1.1\u001b[0m\" 200 -\n",
      "127.0.0.1 - - [01/Jul/2020 10:06:54] \"\u001b[37mPOST /_dash-update-component HTTP/1.1\u001b[0m\" 200 -\n"
     ]
    },
    {
     "name": "stdout",
     "output_type": "stream",
     "text": [
      "CALLED: update_figure\n",
      "\n",
      "[0.1, 1]\n",
      "updating edge highlight to g-0\n",
      "['g-0', 'b-1', 'r-3', 'r-5', 'g-5', 'b-9', 'b-14', 'r-16', 'b-16', 'r-18', 'g-18', 'b-18', 'r-19', 'g-19', 'r-25', 'g-26', 'b-26', 'r-31', 'g-31', 'b-31', 'r-36', 'b-36', 'r-39', 'r-41', 'r-42', 'r-43', 'g-43', '5-46', '26-46', '36-46', '0-48', '3-48', '18-48', '26-48', '41-48', '41-49', '0-51', '18-51', '26-52', '3-62', '11-62', '16-62', '19-62', '24-62', '31-62', '33-62', '36-62', '38-62', '41-62', '16-64', '59-71', '48-73', '53-73', '49-90', '53-90', '59-91', '49-94', '48-100', '50-100', '52-100', '53-100', '54-100', '46-108', '62-108', '49-113', '62-113', '90-123', '113-123', '113-130', '73-132', '73-139', '77-139', '69-143', '71-143', '74-143', '100-143', '97-156', '110-156', '101-157', '92-158', '94-162', '116-162']\n",
      "updating node highlight to 0\n"
     ]
    },
    {
     "name": "stderr",
     "output_type": "stream",
     "text": [
      "127.0.0.1 - - [01/Jul/2020 10:07:06] \"\u001b[37mPOST /_dash-update-component HTTP/1.1\u001b[0m\" 200 -\n",
      "127.0.0.1 - - [01/Jul/2020 10:07:06] \"\u001b[37mPOST /_dash-update-component HTTP/1.1\u001b[0m\" 200 -\n",
      "127.0.0.1 - - [01/Jul/2020 10:07:06] \"\u001b[37mPOST /_dash-update-component HTTP/1.1\u001b[0m\" 200 -\n",
      "127.0.0.1 - - [01/Jul/2020 10:07:06] \"\u001b[37mPOST /_dash-update-component HTTP/1.1\u001b[0m\" 200 -\n",
      "127.0.0.1 - - [01/Jul/2020 10:07:06] \"\u001b[37mPOST /_dash-update-component HTTP/1.1\u001b[0m\" 200 -\n",
      "127.0.0.1 - - [01/Jul/2020 10:07:06] \"\u001b[37mPOST /_dash-update-component HTTP/1.1\u001b[0m\" 200 -\n",
      "127.0.0.1 - - [01/Jul/2020 10:07:06] \"\u001b[37mPOST /_dash-update-component HTTP/1.1\u001b[0m\" 200 -\n",
      "127.0.0.1 - - [01/Jul/2020 10:07:06] \"\u001b[37mPOST /_dash-update-component HTTP/1.1\u001b[0m\" 200 -\n",
      "127.0.0.1 - - [01/Jul/2020 10:07:06] \"\u001b[37mPOST /_dash-update-component HTTP/1.1\u001b[0m\" 200 -\n",
      "127.0.0.1 - - [01/Jul/2020 10:07:06] \"\u001b[37mPOST /_dash-update-component HTTP/1.1\u001b[0m\" 200 -\n",
      "127.0.0.1 - - [01/Jul/2020 10:07:06] \"\u001b[37mPOST /_dash-update-component HTTP/1.1\u001b[0m\" 200 -\n",
      "127.0.0.1 - - [01/Jul/2020 10:07:06] \"\u001b[37mPOST /_dash-update-component HTTP/1.1\u001b[0m\" 200 -\n",
      "127.0.0.1 - - [01/Jul/2020 10:07:06] \"\u001b[37mPOST /_dash-update-component HTTP/1.1\u001b[0m\" 200 -\n",
      "127.0.0.1 - - [01/Jul/2020 10:07:06] \"\u001b[37mPOST /_dash-update-component HTTP/1.1\u001b[0m\" 200 -\n",
      "127.0.0.1 - - [01/Jul/2020 10:07:06] \"\u001b[37mPOST /_dash-update-component HTTP/1.1\u001b[0m\" 200 -\n",
      "127.0.0.1 - - [01/Jul/2020 10:07:07] \"\u001b[37mPOST /_dash-update-component HTTP/1.1\u001b[0m\" 200 -\n",
      "127.0.0.1 - - [01/Jul/2020 10:07:07] \"\u001b[37mPOST /_dash-update-component HTTP/1.1\u001b[0m\" 200 -\n",
      "127.0.0.1 - - [01/Jul/2020 10:07:07] \"\u001b[37mPOST /_dash-update-component HTTP/1.1\u001b[0m\" 200 -\n",
      "127.0.0.1 - - [01/Jul/2020 10:07:07] \"\u001b[37mPOST /_dash-update-component HTTP/1.1\u001b[0m\" 200 -\n",
      "127.0.0.1 - - [01/Jul/2020 10:07:07] \"\u001b[37mPOST /_dash-update-component HTTP/1.1\u001b[0m\" 200 -\n",
      "127.0.0.1 - - [01/Jul/2020 10:07:07] \"\u001b[37mPOST /_dash-update-component HTTP/1.1\u001b[0m\" 200 -\n",
      "127.0.0.1 - - [01/Jul/2020 10:07:07] \"\u001b[37mPOST /_dash-update-component HTTP/1.1\u001b[0m\" 200 -\n",
      "127.0.0.1 - - [01/Jul/2020 10:07:07] \"\u001b[37mPOST /_dash-update-component HTTP/1.1\u001b[0m\" 200 -\n",
      "127.0.0.1 - - [01/Jul/2020 10:07:07] \"\u001b[37mPOST /_dash-update-component HTTP/1.1\u001b[0m\" 200 -\n",
      "127.0.0.1 - - [01/Jul/2020 10:07:07] \"\u001b[37mPOST /_dash-update-component HTTP/1.1\u001b[0m\" 200 -\n",
      "127.0.0.1 - - [01/Jul/2020 10:07:07] \"\u001b[37mPOST /_dash-update-component HTTP/1.1\u001b[0m\" 200 -\n",
      "127.0.0.1 - - [01/Jul/2020 10:07:15] \"\u001b[37mPOST /_dash-update-component HTTP/1.1\u001b[0m\" 200 -\n",
      "127.0.0.1 - - [01/Jul/2020 10:07:15] \"\u001b[37mPOST /_dash-update-component HTTP/1.1\u001b[0m\" 200 -\n",
      "127.0.0.1 - - [01/Jul/2020 10:07:15] \"\u001b[37mPOST /_dash-update-component HTTP/1.1\u001b[0m\" 200 -\n",
      "127.0.0.1 - - [01/Jul/2020 10:07:15] \"\u001b[37mPOST /_dash-update-component HTTP/1.1\u001b[0m\" 200 -\n",
      "127.0.0.1 - - [01/Jul/2020 10:07:15] \"\u001b[37mPOST /_dash-update-component HTTP/1.1\u001b[0m\" 200 -\n",
      "127.0.0.1 - - [01/Jul/2020 10:07:15] \"\u001b[37mPOST /_dash-update-component HTTP/1.1\u001b[0m\" 200 -\n",
      "127.0.0.1 - - [01/Jul/2020 10:07:15] \"\u001b[37mPOST /_dash-update-component HTTP/1.1\u001b[0m\" 200 -\n",
      "127.0.0.1 - - [01/Jul/2020 10:07:15] \"\u001b[37mPOST /_dash-update-component HTTP/1.1\u001b[0m\" 200 -\n",
      "127.0.0.1 - - [01/Jul/2020 10:07:15] \"\u001b[37mPOST /_dash-update-component HTTP/1.1\u001b[0m\" 200 -\n",
      "127.0.0.1 - - [01/Jul/2020 10:07:15] \"\u001b[37mPOST /_dash-update-component HTTP/1.1\u001b[0m\" 200 -\n",
      "127.0.0.1 - - [01/Jul/2020 10:07:15] \"\u001b[37mPOST /_dash-update-component HTTP/1.1\u001b[0m\" 200 -\n",
      "127.0.0.1 - - [01/Jul/2020 10:07:15] \"\u001b[37mPOST /_dash-update-component HTTP/1.1\u001b[0m\" 200 -\n",
      "127.0.0.1 - - [01/Jul/2020 10:07:15] \"\u001b[37mPOST /_dash-update-component HTTP/1.1\u001b[0m\" 200 -\n",
      "127.0.0.1 - - [01/Jul/2020 10:07:15] \"\u001b[37mPOST /_dash-update-component HTTP/1.1\u001b[0m\" 200 -\n",
      "127.0.0.1 - - [01/Jul/2020 10:07:15] \"\u001b[37mPOST /_dash-update-component HTTP/1.1\u001b[0m\" 200 -\n",
      "127.0.0.1 - - [01/Jul/2020 10:07:15] \"\u001b[37mPOST /_dash-update-component HTTP/1.1\u001b[0m\" 200 -\n",
      "127.0.0.1 - - [01/Jul/2020 10:07:16] \"\u001b[37mPOST /_dash-update-component HTTP/1.1\u001b[0m\" 200 -\n",
      "127.0.0.1 - - [01/Jul/2020 10:07:16] \"\u001b[37mPOST /_dash-update-component HTTP/1.1\u001b[0m\" 200 -\n",
      "127.0.0.1 - - [01/Jul/2020 10:07:16] \"\u001b[37mPOST /_dash-update-component HTTP/1.1\u001b[0m\" 200 -\n",
      "127.0.0.1 - - [01/Jul/2020 10:07:16] \"\u001b[37mPOST /_dash-update-component HTTP/1.1\u001b[0m\" 200 -\n",
      "127.0.0.1 - - [01/Jul/2020 10:07:16] \"\u001b[37mPOST /_dash-update-component HTTP/1.1\u001b[0m\" 200 -\n",
      "127.0.0.1 - - [01/Jul/2020 10:07:17] \"\u001b[37mPOST /_dash-update-component HTTP/1.1\u001b[0m\" 200 -\n",
      "127.0.0.1 - - [01/Jul/2020 10:07:17] \"\u001b[37mPOST /_dash-update-component HTTP/1.1\u001b[0m\" 200 -\n",
      "127.0.0.1 - - [01/Jul/2020 10:07:17] \"\u001b[37mPOST /_dash-update-component HTTP/1.1\u001b[0m\" 200 -\n",
      "127.0.0.1 - - [01/Jul/2020 10:07:17] \"\u001b[37mPOST /_dash-update-component HTTP/1.1\u001b[0m\" 200 -\n",
      "127.0.0.1 - - [01/Jul/2020 10:07:17] \"\u001b[37mPOST /_dash-update-component HTTP/1.1\u001b[0m\" 200 -\n",
      "127.0.0.1 - - [01/Jul/2020 10:07:17] \"\u001b[37mPOST /_dash-update-component HTTP/1.1\u001b[0m\" 200 -\n",
      "127.0.0.1 - - [01/Jul/2020 10:07:18] \"\u001b[37mPOST /_dash-update-component HTTP/1.1\u001b[0m\" 200 -\n",
      "127.0.0.1 - - [01/Jul/2020 10:07:18] \"\u001b[37mPOST /_dash-update-component HTTP/1.1\u001b[0m\" 200 -\n",
      "127.0.0.1 - - [01/Jul/2020 10:07:18] \"\u001b[37mPOST /_dash-update-component HTTP/1.1\u001b[0m\" 200 -\n"
     ]
    },
    {
     "name": "stdout",
     "output_type": "stream",
     "text": [
      "CALLED: switch_edge_actmaps_click\n",
      "CALLED: switch_node_actmap_click\n",
      "CALLED: update_edge_outmap\n",
      "CALLED: update_edge_inmap\n",
      "CALLED: update_edge_kernelmap\n"
     ]
    },
    {
     "name": "stderr",
     "output_type": "stream",
     "text": [
      "127.0.0.1 - - [01/Jul/2020 10:07:18] \"\u001b[37mPOST /_dash-update-component HTTP/1.1\u001b[0m\" 200 -\n",
      "127.0.0.1 - - [01/Jul/2020 10:07:18] \"\u001b[37mPOST /_dash-update-component HTTP/1.1\u001b[0m\" 200 -\n",
      "127.0.0.1 - - [01/Jul/2020 10:07:18] \"\u001b[37mPOST /_dash-update-component HTTP/1.1\u001b[0m\" 200 -\n",
      "127.0.0.1 - - [01/Jul/2020 10:07:18] \"\u001b[37mPOST /_dash-update-component HTTP/1.1\u001b[0m\" 200 -\n"
     ]
    },
    {
     "name": "stdout",
     "output_type": "stream",
     "text": [
      "CALLED: update_node_actmap\n",
      "CALLED: update_store\n",
      "\n",
      "TRIGGER node-actmap-dropdown.value\n",
      "0-48\n",
      "changing selected edge to 0-48\n",
      "['g-0', '0-48']\n",
      "CALLED: update_figure\n",
      "\n",
      "[0.1, 1]\n",
      "updating edge highlight to 0-48\n",
      "['g-0', 'b-1', 'r-3', 'r-5', 'g-5', 'b-9', 'b-14', 'r-16', 'b-16', 'r-18', 'g-18', 'b-18', 'r-19', 'g-19', 'r-25', 'g-26', 'b-26', 'r-31', 'g-31', 'b-31', 'r-36', 'b-36', 'r-39', 'r-41', 'r-42', 'r-43', 'g-43', '5-46', '26-46', '36-46', '0-48', '3-48', '18-48', '26-48', '41-48', '41-49', '0-51', '18-51', '26-52', '3-62', '11-62', '16-62', '19-62', '24-62', '31-62', '33-62', '36-62', '38-62', '41-62', '16-64', '59-71', '48-73', '53-73', '49-90', '53-90', '59-91', '49-94', '48-100', '50-100', '52-100', '53-100', '54-100', '46-108', '62-108', '49-113', '62-113', '90-123', '113-123', '113-130', '73-132', '73-139', '77-139', '69-143', '71-143', '74-143', '100-143', '97-156', '110-156', '101-157', '92-158', '94-162', '116-162']\n",
      "updating node highlight to 0\n"
     ]
    },
    {
     "name": "stderr",
     "output_type": "stream",
     "text": [
      "127.0.0.1 - - [01/Jul/2020 10:07:18] \"\u001b[37mPOST /_dash-update-component HTTP/1.1\u001b[0m\" 200 -\n",
      "127.0.0.1 - - [01/Jul/2020 10:07:18] \"\u001b[37mPOST /_dash-update-component HTTP/1.1\u001b[0m\" 200 -\n",
      "127.0.0.1 - - [01/Jul/2020 10:07:19] \"\u001b[37mPOST /_dash-update-component HTTP/1.1\u001b[0m\" 200 -\n",
      "127.0.0.1 - - [01/Jul/2020 10:07:19] \"\u001b[37mPOST /_dash-update-component HTTP/1.1\u001b[0m\" 200 -\n",
      "127.0.0.1 - - [01/Jul/2020 10:07:19] \"\u001b[37mPOST /_dash-update-component HTTP/1.1\u001b[0m\" 200 -\n",
      "127.0.0.1 - - [01/Jul/2020 10:07:21] \"\u001b[37mPOST /_dash-update-component HTTP/1.1\u001b[0m\" 200 -\n",
      "127.0.0.1 - - [01/Jul/2020 10:07:21] \"\u001b[37mPOST /_dash-update-component HTTP/1.1\u001b[0m\" 200 -\n",
      "127.0.0.1 - - [01/Jul/2020 10:07:21] \"\u001b[37mPOST /_dash-update-component HTTP/1.1\u001b[0m\" 200 -\n",
      "127.0.0.1 - - [01/Jul/2020 10:07:22] \"\u001b[37mPOST /_dash-update-component HTTP/1.1\u001b[0m\" 200 -\n",
      "127.0.0.1 - - [01/Jul/2020 10:07:22] \"\u001b[37mPOST /_dash-update-component HTTP/1.1\u001b[0m\" 200 -\n",
      "127.0.0.1 - - [01/Jul/2020 10:07:22] \"\u001b[37mPOST /_dash-update-component HTTP/1.1\u001b[0m\" 200 -\n",
      "127.0.0.1 - - [01/Jul/2020 10:07:22] \"\u001b[37mPOST /_dash-update-component HTTP/1.1\u001b[0m\" 200 -\n",
      "127.0.0.1 - - [01/Jul/2020 10:07:22] \"\u001b[37mPOST /_dash-update-component HTTP/1.1\u001b[0m\" 200 -\n",
      "127.0.0.1 - - [01/Jul/2020 10:07:22] \"\u001b[37mPOST /_dash-update-component HTTP/1.1\u001b[0m\" 200 -\n",
      "127.0.0.1 - - [01/Jul/2020 10:07:22] \"\u001b[37mPOST /_dash-update-component HTTP/1.1\u001b[0m\" 200 -\n",
      "127.0.0.1 - - [01/Jul/2020 10:07:22] \"\u001b[37mPOST /_dash-update-component HTTP/1.1\u001b[0m\" 200 -\n",
      "127.0.0.1 - - [01/Jul/2020 10:07:22] \"\u001b[37mPOST /_dash-update-component HTTP/1.1\u001b[0m\" 200 -\n",
      "127.0.0.1 - - [01/Jul/2020 10:07:23] \"\u001b[37mPOST /_dash-update-component HTTP/1.1\u001b[0m\" 200 -\n",
      "127.0.0.1 - - [01/Jul/2020 10:07:23] \"\u001b[37mPOST /_dash-update-component HTTP/1.1\u001b[0m\" 200 -\n",
      "127.0.0.1 - - [01/Jul/2020 10:07:23] \"\u001b[37mPOST /_dash-update-component HTTP/1.1\u001b[0m\" 200 -\n",
      "127.0.0.1 - - [01/Jul/2020 10:07:23] \"\u001b[37mPOST /_dash-update-component HTTP/1.1\u001b[0m\" 200 -\n",
      "127.0.0.1 - - [01/Jul/2020 10:07:23] \"\u001b[37mPOST /_dash-update-component HTTP/1.1\u001b[0m\" 200 -\n"
     ]
    },
    {
     "name": "stdout",
     "output_type": "stream",
     "text": [
      "CALLED: switch_edge_actmaps_click\n",
      "CALLED: switch_node_actmap_click\n",
      "CALLED: update_edge_outmap\n",
      "CALLED: update_edge_inmap\n",
      "CALLED: update_edge_kernelmap\n"
     ]
    },
    {
     "name": "stderr",
     "output_type": "stream",
     "text": [
      "127.0.0.1 - - [01/Jul/2020 10:07:24] \"\u001b[37mPOST /_dash-update-component HTTP/1.1\u001b[0m\" 200 -\n",
      "127.0.0.1 - - [01/Jul/2020 10:07:24] \"\u001b[37mPOST /_dash-update-component HTTP/1.1\u001b[0m\" 200 -\n",
      "127.0.0.1 - - [01/Jul/2020 10:07:24] \"\u001b[37mPOST /_dash-update-component HTTP/1.1\u001b[0m\" 200 -\n",
      "127.0.0.1 - - [01/Jul/2020 10:07:24] \"\u001b[37mPOST /_dash-update-component HTTP/1.1\u001b[0m\" 200 -\n"
     ]
    },
    {
     "name": "stdout",
     "output_type": "stream",
     "text": [
      "CALLED: update_node_actmap\n",
      "CALLED: update_store\n",
      "\n",
      "TRIGGER node-actmap-dropdown.value\n",
      "0-51\n",
      "changing selected edge to 0-51\n",
      "['g-0', '0-48', '0-51']\n",
      "CALLED: update_figure\n",
      "\n",
      "[0.1, 1]\n",
      "updating edge highlight to 0-51\n",
      "['g-0', 'b-1', 'r-3', 'r-5', 'g-5', 'b-9', 'b-14', 'r-16', 'b-16', 'r-18', 'g-18', 'b-18', 'r-19', 'g-19', 'r-25', 'g-26', 'b-26', 'r-31', 'g-31', 'b-31', 'r-36', 'b-36', 'r-39', 'r-41', 'r-42', 'r-43', 'g-43', '5-46', '26-46', '36-46', '0-48', '3-48', '18-48', '26-48', '41-48', '41-49', '0-51', '18-51', '26-52', '3-62', '11-62', '16-62', '19-62', '24-62', '31-62', '33-62', '36-62', '38-62', '41-62', '16-64', '59-71', '48-73', '53-73', '49-90', '53-90', '59-91', '49-94', '48-100', '50-100', '52-100', '53-100', '54-100', '46-108', '62-108', '49-113', '62-113', '90-123', '113-123', '113-130', '73-132', '73-139', '77-139', '69-143', '71-143', '74-143', '100-143', '97-156', '110-156', '101-157', '92-158', '94-162', '116-162']\n",
      "updating node highlight to 0\n"
     ]
    },
    {
     "name": "stderr",
     "output_type": "stream",
     "text": [
      "127.0.0.1 - - [01/Jul/2020 10:07:24] \"\u001b[37mPOST /_dash-update-component HTTP/1.1\u001b[0m\" 200 -\n",
      "127.0.0.1 - - [01/Jul/2020 10:07:24] \"\u001b[37mPOST /_dash-update-component HTTP/1.1\u001b[0m\" 200 -\n",
      "127.0.0.1 - - [01/Jul/2020 10:07:24] \"\u001b[37mPOST /_dash-update-component HTTP/1.1\u001b[0m\" 200 -\n",
      "127.0.0.1 - - [01/Jul/2020 10:07:24] \"\u001b[37mPOST /_dash-update-component HTTP/1.1\u001b[0m\" 200 -\n",
      "127.0.0.1 - - [01/Jul/2020 10:07:24] \"\u001b[37mPOST /_dash-update-component HTTP/1.1\u001b[0m\" 200 -\n",
      "127.0.0.1 - - [01/Jul/2020 10:07:26] \"\u001b[37mPOST /_dash-update-component HTTP/1.1\u001b[0m\" 200 -\n",
      "127.0.0.1 - - [01/Jul/2020 10:07:26] \"\u001b[37mPOST /_dash-update-component HTTP/1.1\u001b[0m\" 200 -\n",
      "127.0.0.1 - - [01/Jul/2020 10:07:26] \"\u001b[37mPOST /_dash-update-component HTTP/1.1\u001b[0m\" 200 -\n",
      "127.0.0.1 - - [01/Jul/2020 10:07:26] \"\u001b[37mPOST /_dash-update-component HTTP/1.1\u001b[0m\" 200 -\n"
     ]
    },
    {
     "name": "stdout",
     "output_type": "stream",
     "text": [
      "CALLED: update_inputimg_actmap\n",
      "CALLED: update_edge_outmap\n",
      "CALLED: update_edge_inmap\n",
      "CALLED: update_node_actmap\n"
     ]
    },
    {
     "name": "stderr",
     "output_type": "stream",
     "text": [
      "127.0.0.1 - - [01/Jul/2020 10:07:30] \"\u001b[37mPOST /_dash-update-component HTTP/1.1\u001b[0m\" 200 -\n",
      "127.0.0.1 - - [01/Jul/2020 10:07:30] \"\u001b[37mPOST /_dash-update-component HTTP/1.1\u001b[0m\" 200 -\n",
      "127.0.0.1 - - [01/Jul/2020 10:07:30] \"\u001b[37mPOST /_dash-update-component HTTP/1.1\u001b[0m\" 200 -\n",
      "127.0.0.1 - - [01/Jul/2020 10:07:30] \"\u001b[37mPOST /_dash-update-component HTTP/1.1\u001b[0m\" 200 -\n",
      "127.0.0.1 - - [01/Jul/2020 10:07:34] \"\u001b[37mPOST /_dash-update-component HTTP/1.1\u001b[0m\" 200 -\n",
      "127.0.0.1 - - [01/Jul/2020 10:07:34] \"\u001b[37mPOST /_dash-update-component HTTP/1.1\u001b[0m\" 200 -\n",
      "127.0.0.1 - - [01/Jul/2020 10:07:34] \"\u001b[37mPOST /_dash-update-component HTTP/1.1\u001b[0m\" 200 -\n",
      "127.0.0.1 - - [01/Jul/2020 10:07:34] \"\u001b[37mPOST /_dash-update-component HTTP/1.1\u001b[0m\" 200 -\n",
      "127.0.0.1 - - [01/Jul/2020 10:07:34] \"\u001b[37mPOST /_dash-update-component HTTP/1.1\u001b[0m\" 200 -\n",
      "127.0.0.1 - - [01/Jul/2020 10:07:34] \"\u001b[37mPOST /_dash-update-component HTTP/1.1\u001b[0m\" 200 -\n",
      "127.0.0.1 - - [01/Jul/2020 10:07:34] \"\u001b[37mPOST /_dash-update-component HTTP/1.1\u001b[0m\" 200 -\n",
      "127.0.0.1 - - [01/Jul/2020 10:07:34] \"\u001b[37mPOST /_dash-update-component HTTP/1.1\u001b[0m\" 200 -\n",
      "127.0.0.1 - - [01/Jul/2020 10:07:34] \"\u001b[37mPOST /_dash-update-component HTTP/1.1\u001b[0m\" 200 -\n",
      "127.0.0.1 - - [01/Jul/2020 10:07:34] \"\u001b[37mPOST /_dash-update-component HTTP/1.1\u001b[0m\" 200 -\n",
      "127.0.0.1 - - [01/Jul/2020 10:07:34] \"\u001b[37mPOST /_dash-update-component HTTP/1.1\u001b[0m\" 200 -\n",
      "127.0.0.1 - - [01/Jul/2020 10:07:35] \"\u001b[37mPOST /_dash-update-component HTTP/1.1\u001b[0m\" 200 -\n",
      "127.0.0.1 - - [01/Jul/2020 10:07:35] \"\u001b[37mPOST /_dash-update-component HTTP/1.1\u001b[0m\" 200 -\n",
      "127.0.0.1 - - [01/Jul/2020 10:07:35] \"\u001b[37mPOST /_dash-update-component HTTP/1.1\u001b[0m\" 200 -\n",
      "127.0.0.1 - - [01/Jul/2020 10:07:35] \"\u001b[37mPOST /_dash-update-component HTTP/1.1\u001b[0m\" 200 -\n"
     ]
    },
    {
     "name": "stdout",
     "output_type": "stream",
     "text": [
      "CALLED: switch_edge_actmaps_click\n",
      "CALLED: switch_node_actmap_click\n",
      "CALLED: update_edge_outmap\n",
      "CALLED: update_edge_inmap\n",
      "CALLED: update_edge_kernelmap"
     ]
    },
    {
     "name": "stderr",
     "output_type": "stream",
     "text": [
      "127.0.0.1 - - [01/Jul/2020 10:07:35] \"\u001b[37mPOST /_dash-update-component HTTP/1.1\u001b[0m\" 200 -\n"
     ]
    },
    {
     "name": "stdout",
     "output_type": "stream",
     "text": [
      "\n",
      "CALLED: update_node_actmap\n",
      "CALLED: update_store\n",
      "\n",
      "TRIGGER node-actmap-dropdown.value\n",
      "0-51\n",
      "changing selected node to 46\n"
     ]
    },
    {
     "name": "stderr",
     "output_type": "stream",
     "text": [
      "127.0.0.1 - - [01/Jul/2020 10:07:35] \"\u001b[37mPOST /_dash-update-component HTTP/1.1\u001b[0m\" 200 -\n",
      "127.0.0.1 - - [01/Jul/2020 10:07:35] \"\u001b[37mPOST /_dash-update-component HTTP/1.1\u001b[0m\" 200 -\n"
     ]
    },
    {
     "name": "stdout",
     "output_type": "stream",
     "text": [
      "CALLED: update_figure\n",
      "\n",
      "[0.1, 1]\n",
      "updating edge highlight to 0-51\n",
      "['g-0', 'b-1', 'r-3', 'r-5', 'g-5', 'b-9', 'b-14', 'r-16', 'b-16', 'r-18', 'g-18', 'b-18', 'r-19', 'g-19', 'r-25', 'g-26', 'b-26', 'r-31', 'g-31', 'b-31', 'r-36', 'b-36', 'r-39', 'r-41', 'r-42', 'r-43', 'g-43', '5-46', '26-46', '36-46', '0-48', '3-48', '18-48', '26-48', '41-48', '41-49', '0-51', '18-51', '26-52', '3-62', '11-62', '16-62', '19-62', '24-62', '31-62', '33-62', '36-62', '38-62', '41-62', '16-64', '59-71', '48-73', '53-73', '49-90', '53-90', '59-91', '49-94', '48-100', '50-100', '52-100', '53-100', '54-100', '46-108', '62-108', '49-113', '62-113', '90-123', '113-123', '113-130', '73-132', '73-139', '77-139', '69-143', '71-143', '74-143', '100-143', '97-156', '110-156', '101-157', '92-158', '94-162', '116-162']\n",
      "updating node highlight to 46\n"
     ]
    },
    {
     "name": "stderr",
     "output_type": "stream",
     "text": [
      "127.0.0.1 - - [01/Jul/2020 10:07:35] \"\u001b[37mPOST /_dash-update-component HTTP/1.1\u001b[0m\" 200 -\n",
      "127.0.0.1 - - [01/Jul/2020 10:07:35] \"\u001b[37mPOST /_dash-update-component HTTP/1.1\u001b[0m\" 200 -\n",
      "127.0.0.1 - - [01/Jul/2020 10:07:36] \"\u001b[37mPOST /_dash-update-component HTTP/1.1\u001b[0m\" 200 -\n",
      "127.0.0.1 - - [01/Jul/2020 10:07:36] \"\u001b[37mPOST /_dash-update-component HTTP/1.1\u001b[0m\" 200 -\n",
      "127.0.0.1 - - [01/Jul/2020 10:07:36] \"\u001b[37mPOST /_dash-update-component HTTP/1.1\u001b[0m\" 200 -\n",
      "127.0.0.1 - - [01/Jul/2020 10:07:39] \"\u001b[37mPOST /_dash-update-component HTTP/1.1\u001b[0m\" 200 -\n",
      "127.0.0.1 - - [01/Jul/2020 10:07:39] \"\u001b[37mPOST /_dash-update-component HTTP/1.1\u001b[0m\" 200 -\n",
      "127.0.0.1 - - [01/Jul/2020 10:07:39] \"\u001b[37mPOST /_dash-update-component HTTP/1.1\u001b[0m\" 200 -\n",
      "127.0.0.1 - - [01/Jul/2020 10:07:39] \"\u001b[37mPOST /_dash-update-component HTTP/1.1\u001b[0m\" 200 -\n",
      "127.0.0.1 - - [01/Jul/2020 10:07:39] \"\u001b[37mPOST /_dash-update-component HTTP/1.1\u001b[0m\" 200 -\n",
      "127.0.0.1 - - [01/Jul/2020 10:07:39] \"\u001b[37mPOST /_dash-update-component HTTP/1.1\u001b[0m\" 200 -\n",
      "127.0.0.1 - - [01/Jul/2020 10:07:39] \"\u001b[37mPOST /_dash-update-component HTTP/1.1\u001b[0m\" 200 -\n",
      "127.0.0.1 - - [01/Jul/2020 10:07:39] \"\u001b[37mPOST /_dash-update-component HTTP/1.1\u001b[0m\" 200 -\n",
      "127.0.0.1 - - [01/Jul/2020 10:07:40] \"\u001b[37mPOST /_dash-update-component HTTP/1.1\u001b[0m\" 200 -\n",
      "127.0.0.1 - - [01/Jul/2020 10:07:40] \"\u001b[37mPOST /_dash-update-component HTTP/1.1\u001b[0m\" 200 -\n",
      "127.0.0.1 - - [01/Jul/2020 10:07:40] \"\u001b[37mPOST /_dash-update-component HTTP/1.1\u001b[0m\" 200 -\n",
      "127.0.0.1 - - [01/Jul/2020 10:07:40] \"\u001b[37mPOST /_dash-update-component HTTP/1.1\u001b[0m\" 200 -\n",
      "127.0.0.1 - - [01/Jul/2020 10:07:40] \"\u001b[37mPOST /_dash-update-component HTTP/1.1\u001b[0m\" 200 -\n",
      "127.0.0.1 - - [01/Jul/2020 10:07:40] \"\u001b[37mPOST /_dash-update-component HTTP/1.1\u001b[0m\" 200 -\n",
      "127.0.0.1 - - [01/Jul/2020 10:07:40] \"\u001b[37mPOST /_dash-update-component HTTP/1.1\u001b[0m\" 200 -\n"
     ]
    },
    {
     "name": "stdout",
     "output_type": "stream",
     "text": [
      "CALLED: switch_edge_actmaps_clickCALLED: switch_node_actmap_click\n",
      "\n",
      "CALLED: update_edge_outmap\n",
      "CALLED: update_edge_inmap\n",
      "CALLED: update_edge_kernelmap\n"
     ]
    },
    {
     "name": "stderr",
     "output_type": "stream",
     "text": [
      "127.0.0.1 - - [01/Jul/2020 10:07:41] \"\u001b[37mPOST /_dash-update-component HTTP/1.1\u001b[0m\" 200 -\n",
      "127.0.0.1 - - [01/Jul/2020 10:07:41] \"\u001b[37mPOST /_dash-update-component HTTP/1.1\u001b[0m\" 200 -\n"
     ]
    },
    {
     "name": "stdout",
     "output_type": "stream",
     "text": [
      "CALLED: update_node_actmap\n",
      "CALLED: update_store\n",
      "\n",
      "TRIGGER node-actmap-dropdown.value\n",
      "26-46\n",
      "changing selected edge to 26-46\n",
      "['g-0', '0-48', '0-51', '26-46']\n"
     ]
    },
    {
     "name": "stderr",
     "output_type": "stream",
     "text": [
      "127.0.0.1 - - [01/Jul/2020 10:07:41] \"\u001b[37mPOST /_dash-update-component HTTP/1.1\u001b[0m\" 200 -\n",
      "127.0.0.1 - - [01/Jul/2020 10:07:41] \"\u001b[37mPOST /_dash-update-component HTTP/1.1\u001b[0m\" 200 -\n",
      "127.0.0.1 - - [01/Jul/2020 10:07:41] \"\u001b[37mPOST /_dash-update-component HTTP/1.1\u001b[0m\" 200 -\n",
      "127.0.0.1 - - [01/Jul/2020 10:07:41] \"\u001b[37mPOST /_dash-update-component HTTP/1.1\u001b[0m\" 200 -\n",
      "127.0.0.1 - - [01/Jul/2020 10:07:41] \"\u001b[37mPOST /_dash-update-component HTTP/1.1\u001b[0m\" 200 -\n",
      "127.0.0.1 - - [01/Jul/2020 10:07:41] \"\u001b[37mPOST /_dash-update-component HTTP/1.1\u001b[0m\" 200 -\n"
     ]
    },
    {
     "name": "stdout",
     "output_type": "stream",
     "text": [
      "CALLED: update_figure\n",
      "\n",
      "[0.1, 1]\n",
      "updating edge highlight to 26-46\n",
      "['g-0', 'b-1', 'r-3', 'r-5', 'g-5', 'b-9', 'b-14', 'r-16', 'b-16', 'r-18', 'g-18', 'b-18', 'r-19', 'g-19', 'r-25', 'g-26', 'b-26', 'r-31', 'g-31', 'b-31', 'r-36', 'b-36', 'r-39', 'r-41', 'r-42', 'r-43', 'g-43', '5-46', '26-46', '36-46', '0-48', '3-48', '18-48', '26-48', '41-48', '41-49', '0-51', '18-51', '26-52', '3-62', '11-62', '16-62', '19-62', '24-62', '31-62', '33-62', '36-62', '38-62', '41-62', '16-64', '59-71', '48-73', '53-73', '49-90', '53-90', '59-91', '49-94', '48-100', '50-100', '52-100', '53-100', '54-100', '46-108', '62-108', '49-113', '62-113', '90-123', '113-123', '113-130', '73-132', '73-139', '77-139', '69-143', '71-143', '74-143', '100-143', '97-156', '110-156', '101-157', '92-158', '94-162', '116-162']\n",
      "updating node highlight to 46\n"
     ]
    },
    {
     "name": "stderr",
     "output_type": "stream",
     "text": [
      "127.0.0.1 - - [01/Jul/2020 10:07:41] \"\u001b[37mPOST /_dash-update-component HTTP/1.1\u001b[0m\" 200 -\n",
      "127.0.0.1 - - [01/Jul/2020 10:07:42] \"\u001b[37mPOST /_dash-update-component HTTP/1.1\u001b[0m\" 200 -\n",
      "127.0.0.1 - - [01/Jul/2020 10:07:42] \"\u001b[37mPOST /_dash-update-component HTTP/1.1\u001b[0m\" 200 -\n",
      "127.0.0.1 - - [01/Jul/2020 10:07:42] \"\u001b[37mPOST /_dash-update-component HTTP/1.1\u001b[0m\" 200 -\n",
      "127.0.0.1 - - [01/Jul/2020 10:07:42] \"\u001b[37mPOST /_dash-update-component HTTP/1.1\u001b[0m\" 200 -\n",
      "127.0.0.1 - - [01/Jul/2020 10:07:42] \"\u001b[37mPOST /_dash-update-component HTTP/1.1\u001b[0m\" 200 -\n",
      "127.0.0.1 - - [01/Jul/2020 10:07:42] \"\u001b[37mPOST /_dash-update-component HTTP/1.1\u001b[0m\" 200 -\n",
      "127.0.0.1 - - [01/Jul/2020 10:07:43] \"\u001b[37mPOST /_dash-update-component HTTP/1.1\u001b[0m\" 200 -\n",
      "127.0.0.1 - - [01/Jul/2020 10:07:44] \"\u001b[37mPOST /_dash-update-component HTTP/1.1\u001b[0m\" 200 -\n",
      "127.0.0.1 - - [01/Jul/2020 10:07:44] \"\u001b[37mPOST /_dash-update-component HTTP/1.1\u001b[0m\" 200 -\n",
      "127.0.0.1 - - [01/Jul/2020 10:07:44] \"\u001b[37mPOST /_dash-update-component HTTP/1.1\u001b[0m\" 200 -\n",
      "127.0.0.1 - - [01/Jul/2020 10:07:44] \"\u001b[37mPOST /_dash-update-component HTTP/1.1\u001b[0m\" 200 -\n",
      "127.0.0.1 - - [01/Jul/2020 10:07:44] \"\u001b[37mPOST /_dash-update-component HTTP/1.1\u001b[0m\" 200 -\n",
      "127.0.0.1 - - [01/Jul/2020 10:07:44] \"\u001b[37mPOST /_dash-update-component HTTP/1.1\u001b[0m\" 200 -\n",
      "127.0.0.1 - - [01/Jul/2020 10:07:44] \"\u001b[37mPOST /_dash-update-component HTTP/1.1\u001b[0m\" 200 -\n",
      "127.0.0.1 - - [01/Jul/2020 10:07:44] \"\u001b[37mPOST /_dash-update-component HTTP/1.1\u001b[0m\" 200 -\n",
      "127.0.0.1 - - [01/Jul/2020 10:07:44] \"\u001b[37mPOST /_dash-update-component HTTP/1.1\u001b[0m\" 200 -\n",
      "127.0.0.1 - - [01/Jul/2020 10:07:44] \"\u001b[37mPOST /_dash-update-component HTTP/1.1\u001b[0m\" 200 -\n",
      "127.0.0.1 - - [01/Jul/2020 10:07:44] \"\u001b[37mPOST /_dash-update-component HTTP/1.1\u001b[0m\" 200 -\n",
      "127.0.0.1 - - [01/Jul/2020 10:07:45] \"\u001b[37mPOST /_dash-update-component HTTP/1.1\u001b[0m\" 200 -\n",
      "127.0.0.1 - - [01/Jul/2020 10:07:45] \"\u001b[37mPOST /_dash-update-component HTTP/1.1\u001b[0m\" 200 -\n",
      "127.0.0.1 - - [01/Jul/2020 10:07:45] \"\u001b[37mPOST /_dash-update-component HTTP/1.1\u001b[0m\" 200 -\n",
      "127.0.0.1 - - [01/Jul/2020 10:07:45] \"\u001b[37mPOST /_dash-update-component HTTP/1.1\u001b[0m\" 200 -\n",
      "127.0.0.1 - - [01/Jul/2020 10:07:45] \"\u001b[37mPOST /_dash-update-component HTTP/1.1\u001b[0m\" 200 -\n",
      "127.0.0.1 - - [01/Jul/2020 10:07:45] \"\u001b[37mPOST /_dash-update-component HTTP/1.1\u001b[0m\" 200 -\n",
      "127.0.0.1 - - [01/Jul/2020 10:07:45] \"\u001b[37mPOST /_dash-update-component HTTP/1.1\u001b[0m\" 200 -\n",
      "127.0.0.1 - - [01/Jul/2020 10:07:45] \"\u001b[37mPOST /_dash-update-component HTTP/1.1\u001b[0m\" 200 -\n",
      "127.0.0.1 - - [01/Jul/2020 10:07:46] \"\u001b[37mPOST /_dash-update-component HTTP/1.1\u001b[0m\" 200 -\n",
      "127.0.0.1 - - [01/Jul/2020 10:07:46] \"\u001b[37mPOST /_dash-update-component HTTP/1.1\u001b[0m\" 200 -\n",
      "127.0.0.1 - - [01/Jul/2020 10:07:46] \"\u001b[37mPOST /_dash-update-component HTTP/1.1\u001b[0m\" 200 -\n",
      "127.0.0.1 - - [01/Jul/2020 10:07:48] \"\u001b[37mPOST /_dash-update-component HTTP/1.1\u001b[0m\" 200 -\n",
      "127.0.0.1 - - [01/Jul/2020 10:07:48] \"\u001b[37mPOST /_dash-update-component HTTP/1.1\u001b[0m\" 200 -\n",
      "127.0.0.1 - - [01/Jul/2020 10:07:48] \"\u001b[37mPOST /_dash-update-component HTTP/1.1\u001b[0m\" 200 -\n",
      "127.0.0.1 - - [01/Jul/2020 10:07:48] \"\u001b[37mPOST /_dash-update-component HTTP/1.1\u001b[0m\" 200 -\n",
      "127.0.0.1 - - [01/Jul/2020 10:07:48] \"\u001b[37mPOST /_dash-update-component HTTP/1.1\u001b[0m\" 200 -\n",
      "127.0.0.1 - - [01/Jul/2020 10:07:48] \"\u001b[37mPOST /_dash-update-component HTTP/1.1\u001b[0m\" 200 -\n",
      "127.0.0.1 - - [01/Jul/2020 10:07:48] \"\u001b[37mPOST /_dash-update-component HTTP/1.1\u001b[0m\" 200 -\n",
      "127.0.0.1 - - [01/Jul/2020 10:07:48] \"\u001b[37mPOST /_dash-update-component HTTP/1.1\u001b[0m\" 200 -\n",
      "127.0.0.1 - - [01/Jul/2020 10:07:48] \"\u001b[37mPOST /_dash-update-component HTTP/1.1\u001b[0m\" 200 -\n",
      "127.0.0.1 - - [01/Jul/2020 10:07:48] \"\u001b[37mPOST /_dash-update-component HTTP/1.1\u001b[0m\" 200 -\n",
      "127.0.0.1 - - [01/Jul/2020 10:07:49] \"\u001b[37mPOST /_dash-update-component HTTP/1.1\u001b[0m\" 200 -\n",
      "127.0.0.1 - - [01/Jul/2020 10:07:49] \"\u001b[37mPOST /_dash-update-component HTTP/1.1\u001b[0m\" 200 -\n",
      "127.0.0.1 - - [01/Jul/2020 10:07:49] \"\u001b[37mPOST /_dash-update-component HTTP/1.1\u001b[0m\" 200 -\n",
      "127.0.0.1 - - [01/Jul/2020 10:07:49] \"\u001b[37mPOST /_dash-update-component HTTP/1.1\u001b[0m\" 200 -\n",
      "127.0.0.1 - - [01/Jul/2020 10:07:49] \"\u001b[37mPOST /_dash-update-component HTTP/1.1\u001b[0m\" 200 -\n",
      "127.0.0.1 - - [01/Jul/2020 10:07:49] \"\u001b[37mPOST /_dash-update-component HTTP/1.1\u001b[0m\" 200 -\n",
      "127.0.0.1 - - [01/Jul/2020 10:07:49] \"\u001b[37mPOST /_dash-update-component HTTP/1.1\u001b[0m\" 200 -\n",
      "127.0.0.1 - - [01/Jul/2020 10:07:49] \"\u001b[37mPOST /_dash-update-component HTTP/1.1\u001b[0m\" 200 -\n",
      "127.0.0.1 - - [01/Jul/2020 10:07:49] \"\u001b[37mPOST /_dash-update-component HTTP/1.1\u001b[0m\" 200 -\n",
      "127.0.0.1 - - [01/Jul/2020 10:07:50] \"\u001b[37mPOST /_dash-update-component HTTP/1.1\u001b[0m\" 200 -\n",
      "127.0.0.1 - - [01/Jul/2020 10:07:50] \"\u001b[37mPOST /_dash-update-component HTTP/1.1\u001b[0m\" 200 -\n",
      "127.0.0.1 - - [01/Jul/2020 10:07:50] \"\u001b[37mPOST /_dash-update-component HTTP/1.1\u001b[0m\" 200 -\n",
      "127.0.0.1 - - [01/Jul/2020 10:07:50] \"\u001b[37mPOST /_dash-update-component HTTP/1.1\u001b[0m\" 200 -\n"
     ]
    },
    {
     "name": "stdout",
     "output_type": "stream",
     "text": [
      "CALLED: switch_edge_actmaps_click\n",
      "CALLED: switch_node_actmap_click\n",
      "CALLED: update_edge_outmap\n",
      "CALLED: update_edge_inmap\n",
      "CALLED: update_edge_kernelmap\n",
      "CALLED: update_node_actmap\n"
     ]
    },
    {
     "name": "stderr",
     "output_type": "stream",
     "text": [
      "127.0.0.1 - - [01/Jul/2020 10:07:51] \"\u001b[37mPOST /_dash-update-component HTTP/1.1\u001b[0m\" 200 -\n",
      "127.0.0.1 - - [01/Jul/2020 10:07:51] \"\u001b[37mPOST /_dash-update-component HTTP/1.1\u001b[0m\" 200 -\n",
      "127.0.0.1 - - [01/Jul/2020 10:07:51] \"\u001b[37mPOST /_dash-update-component HTTP/1.1\u001b[0m\" 200 -\n",
      "127.0.0.1 - - [01/Jul/2020 10:07:51] \"\u001b[37mPOST /_dash-update-component HTTP/1.1\u001b[0m\" 200 -\n",
      "127.0.0.1 - - [01/Jul/2020 10:07:51] \"\u001b[37mPOST /_dash-update-component HTTP/1.1\u001b[0m\" 200 -\n"
     ]
    },
    {
     "name": "stdout",
     "output_type": "stream",
     "text": [
      "CALLED: update_store\n",
      "\n",
      "TRIGGER node-actmap-dropdown.value\n",
      "18-48\n",
      "changing selected edge to 18-48\n",
      "['g-0', '0-48', '0-51', '26-46', '18-48']\n",
      "CALLED: update_figure\n",
      "\n",
      "[0.1, 1]\n",
      "updating edge highlight to 18-48\n",
      "['g-0', 'b-1', 'r-3', 'r-5', 'g-5', 'b-9', 'b-14', 'r-16', 'b-16', 'r-18', 'g-18', 'b-18', 'r-19', 'g-19', 'r-25', 'g-26', 'b-26', 'r-31', 'g-31', 'b-31', 'r-36', 'b-36', 'r-39', 'r-41', 'r-42', 'r-43', 'g-43', '5-46', '26-46', '36-46', '0-48', '3-48', '18-48', '26-48', '41-48', '41-49', '0-51', '18-51', '26-52', '3-62', '11-62', '16-62', '19-62', '24-62', '31-62', '33-62', '36-62', '38-62', '41-62', '16-64', '59-71', '48-73', '53-73', '49-90', '53-90', '59-91', '49-94', '48-100', '50-100', '52-100', '53-100', '54-100', '46-108', '62-108', '49-113', '62-113', '90-123', '113-123', '113-130', '73-132', '73-139', '77-139', '69-143', '71-143', '74-143', '100-143', '97-156', '110-156', '101-157', '92-158', '94-162', '116-162']\n",
      "updating node highlight to 46\n"
     ]
    },
    {
     "name": "stderr",
     "output_type": "stream",
     "text": [
      "127.0.0.1 - - [01/Jul/2020 10:07:51] \"\u001b[37mPOST /_dash-update-component HTTP/1.1\u001b[0m\" 200 -\n",
      "127.0.0.1 - - [01/Jul/2020 10:07:51] \"\u001b[37mPOST /_dash-update-component HTTP/1.1\u001b[0m\" 200 -\n",
      "127.0.0.1 - - [01/Jul/2020 10:07:51] \"\u001b[37mPOST /_dash-update-component HTTP/1.1\u001b[0m\" 200 -\n",
      "127.0.0.1 - - [01/Jul/2020 10:07:51] \"\u001b[37mPOST /_dash-update-component HTTP/1.1\u001b[0m\" 200 -\n",
      "127.0.0.1 - - [01/Jul/2020 10:07:52] \"\u001b[37mPOST /_dash-update-component HTTP/1.1\u001b[0m\" 200 -\n",
      "127.0.0.1 - - [01/Jul/2020 10:07:52] \"\u001b[37mPOST /_dash-update-component HTTP/1.1\u001b[0m\" 200 -\n",
      "127.0.0.1 - - [01/Jul/2020 10:07:52] \"\u001b[37mPOST /_dash-update-component HTTP/1.1\u001b[0m\" 200 -\n",
      "127.0.0.1 - - [01/Jul/2020 10:07:53] \"\u001b[37mPOST /_dash-update-component HTTP/1.1\u001b[0m\" 200 -\n",
      "127.0.0.1 - - [01/Jul/2020 10:07:53] \"\u001b[37mPOST /_dash-update-component HTTP/1.1\u001b[0m\" 200 -\n",
      "127.0.0.1 - - [01/Jul/2020 10:07:53] \"\u001b[37mPOST /_dash-update-component HTTP/1.1\u001b[0m\" 200 -\n",
      "127.0.0.1 - - [01/Jul/2020 10:07:53] \"\u001b[37mPOST /_dash-update-component HTTP/1.1\u001b[0m\" 200 -\n",
      "127.0.0.1 - - [01/Jul/2020 10:07:53] \"\u001b[37mPOST /_dash-update-component HTTP/1.1\u001b[0m\" 200 -\n",
      "127.0.0.1 - - [01/Jul/2020 10:07:54] \"\u001b[37mPOST /_dash-update-component HTTP/1.1\u001b[0m\" 200 -\n",
      "127.0.0.1 - - [01/Jul/2020 10:07:54] \"\u001b[37mPOST /_dash-update-component HTTP/1.1\u001b[0m\" 200 -\n",
      "127.0.0.1 - - [01/Jul/2020 10:07:54] \"\u001b[37mPOST /_dash-update-component HTTP/1.1\u001b[0m\" 200 -\n",
      "127.0.0.1 - - [01/Jul/2020 10:07:54] \"\u001b[37mPOST /_dash-update-component HTTP/1.1\u001b[0m\" 200 -\n",
      "127.0.0.1 - - [01/Jul/2020 10:07:54] \"\u001b[37mPOST /_dash-update-component HTTP/1.1\u001b[0m\" 200 -\n",
      "127.0.0.1 - - [01/Jul/2020 10:07:54] \"\u001b[37mPOST /_dash-update-component HTTP/1.1\u001b[0m\" 200 -\n",
      "127.0.0.1 - - [01/Jul/2020 10:07:54] \"\u001b[37mPOST /_dash-update-component HTTP/1.1\u001b[0m\" 200 -\n",
      "127.0.0.1 - - [01/Jul/2020 10:07:54] \"\u001b[37mPOST /_dash-update-component HTTP/1.1\u001b[0m\" 200 -\n",
      "127.0.0.1 - - [01/Jul/2020 10:07:54] \"\u001b[37mPOST /_dash-update-component HTTP/1.1\u001b[0m\" 200 -\n",
      "127.0.0.1 - - [01/Jul/2020 10:07:54] \"\u001b[37mPOST /_dash-update-component HTTP/1.1\u001b[0m\" 200 -\n",
      "127.0.0.1 - - [01/Jul/2020 10:07:56] \"\u001b[37mPOST /_dash-update-component HTTP/1.1\u001b[0m\" 200 -\n",
      "127.0.0.1 - - [01/Jul/2020 10:07:56] \"\u001b[37mPOST /_dash-update-component HTTP/1.1\u001b[0m\" 200 -\n",
      "127.0.0.1 - - [01/Jul/2020 10:07:56] \"\u001b[37mPOST /_dash-update-component HTTP/1.1\u001b[0m\" 200 -\n",
      "127.0.0.1 - - [01/Jul/2020 10:07:56] \"\u001b[37mPOST /_dash-update-component HTTP/1.1\u001b[0m\" 200 -\n",
      "127.0.0.1 - - [01/Jul/2020 10:07:56] \"\u001b[37mPOST /_dash-update-component HTTP/1.1\u001b[0m\" 200 -\n",
      "127.0.0.1 - - [01/Jul/2020 10:07:56] \"\u001b[37mPOST /_dash-update-component HTTP/1.1\u001b[0m\" 200 -\n",
      "127.0.0.1 - - [01/Jul/2020 10:07:56] \"\u001b[37mPOST /_dash-update-component HTTP/1.1\u001b[0m\" 200 -\n",
      "127.0.0.1 - - [01/Jul/2020 10:07:57] \"\u001b[37mPOST /_dash-update-component HTTP/1.1\u001b[0m\" 200 -\n",
      "127.0.0.1 - - [01/Jul/2020 10:07:57] \"\u001b[37mPOST /_dash-update-component HTTP/1.1\u001b[0m\" 200 -\n",
      "127.0.0.1 - - [01/Jul/2020 10:07:57] \"\u001b[37mPOST /_dash-update-component HTTP/1.1\u001b[0m\" 200 -\n",
      "127.0.0.1 - - [01/Jul/2020 10:07:57] \"\u001b[37mPOST /_dash-update-component HTTP/1.1\u001b[0m\" 200 -\n",
      "127.0.0.1 - - [01/Jul/2020 10:07:57] \"\u001b[37mPOST /_dash-update-component HTTP/1.1\u001b[0m\" 200 -\n",
      "127.0.0.1 - - [01/Jul/2020 10:07:57] \"\u001b[37mPOST /_dash-update-component HTTP/1.1\u001b[0m\" 200 -\n",
      "127.0.0.1 - - [01/Jul/2020 10:07:57] \"\u001b[37mPOST /_dash-update-component HTTP/1.1\u001b[0m\" 200 -\n",
      "127.0.0.1 - - [01/Jul/2020 10:07:57] \"\u001b[37mPOST /_dash-update-component HTTP/1.1\u001b[0m\" 200 -\n",
      "127.0.0.1 - - [01/Jul/2020 10:07:57] \"\u001b[37mPOST /_dash-update-component HTTP/1.1\u001b[0m\" 200 -\n",
      "127.0.0.1 - - [01/Jul/2020 10:07:57] \"\u001b[37mPOST /_dash-update-component HTTP/1.1\u001b[0m\" 200 -\n",
      "127.0.0.1 - - [01/Jul/2020 10:07:58] \"\u001b[37mPOST /_dash-update-component HTTP/1.1\u001b[0m\" 200 -\n",
      "127.0.0.1 - - [01/Jul/2020 10:07:58] \"\u001b[37mPOST /_dash-update-component HTTP/1.1\u001b[0m\" 200 -\n",
      "127.0.0.1 - - [01/Jul/2020 10:07:58] \"\u001b[37mPOST /_dash-update-component HTTP/1.1\u001b[0m\" 200 -\n",
      "127.0.0.1 - - [01/Jul/2020 10:07:58] \"\u001b[37mPOST /_dash-update-component HTTP/1.1\u001b[0m\" 200 -\n",
      "127.0.0.1 - - [01/Jul/2020 10:07:58] \"\u001b[37mPOST /_dash-update-component HTTP/1.1\u001b[0m\" 200 -\n",
      "127.0.0.1 - - [01/Jul/2020 10:07:58] \"\u001b[37mPOST /_dash-update-component HTTP/1.1\u001b[0m\" 200 -\n",
      "127.0.0.1 - - [01/Jul/2020 10:07:58] \"\u001b[37mPOST /_dash-update-component HTTP/1.1\u001b[0m\" 200 -\n",
      "127.0.0.1 - - [01/Jul/2020 10:07:58] \"\u001b[37mPOST /_dash-update-component HTTP/1.1\u001b[0m\" 200 -\n",
      "127.0.0.1 - - [01/Jul/2020 10:07:58] \"\u001b[37mPOST /_dash-update-component HTTP/1.1\u001b[0m\" 200 -\n",
      "127.0.0.1 - - [01/Jul/2020 10:07:58] \"\u001b[37mPOST /_dash-update-component HTTP/1.1\u001b[0m\" 200 -\n",
      "127.0.0.1 - - [01/Jul/2020 10:07:58] \"\u001b[37mPOST /_dash-update-component HTTP/1.1\u001b[0m\" 200 -\n",
      "127.0.0.1 - - [01/Jul/2020 10:07:58] \"\u001b[37mPOST /_dash-update-component HTTP/1.1\u001b[0m\" 200 -\n",
      "127.0.0.1 - - [01/Jul/2020 10:07:58] \"\u001b[37mPOST /_dash-update-component HTTP/1.1\u001b[0m\" 200 -\n",
      "127.0.0.1 - - [01/Jul/2020 10:07:59] \"\u001b[37mPOST /_dash-update-component HTTP/1.1\u001b[0m\" 200 -\n",
      "127.0.0.1 - - [01/Jul/2020 10:07:59] \"\u001b[37mPOST /_dash-update-component HTTP/1.1\u001b[0m\" 200 -\n",
      "127.0.0.1 - - [01/Jul/2020 10:07:59] \"\u001b[37mPOST /_dash-update-component HTTP/1.1\u001b[0m\" 200 -\n",
      "127.0.0.1 - - [01/Jul/2020 10:07:59] \"\u001b[37mPOST /_dash-update-component HTTP/1.1\u001b[0m\" 200 -\n",
      "127.0.0.1 - - [01/Jul/2020 10:07:59] \"\u001b[37mPOST /_dash-update-component HTTP/1.1\u001b[0m\" 200 -\n",
      "127.0.0.1 - - [01/Jul/2020 10:08:00] \"\u001b[37mPOST /_dash-update-component HTTP/1.1\u001b[0m\" 200 -\n",
      "127.0.0.1 - - [01/Jul/2020 10:08:00] \"\u001b[37mPOST /_dash-update-component HTTP/1.1\u001b[0m\" 200 -\n",
      "127.0.0.1 - - [01/Jul/2020 10:08:00] \"\u001b[37mPOST /_dash-update-component HTTP/1.1\u001b[0m\" 200 -\n",
      "127.0.0.1 - - [01/Jul/2020 10:08:01] \"\u001b[37mPOST /_dash-update-component HTTP/1.1\u001b[0m\" 200 -\n",
      "127.0.0.1 - - [01/Jul/2020 10:08:02] \"\u001b[37mPOST /_dash-update-component HTTP/1.1\u001b[0m\" 200 -\n",
      "127.0.0.1 - - [01/Jul/2020 10:08:02] \"\u001b[37mPOST /_dash-update-component HTTP/1.1\u001b[0m\" 200 -\n",
      "127.0.0.1 - - [01/Jul/2020 10:08:02] \"\u001b[37mPOST /_dash-update-component HTTP/1.1\u001b[0m\" 200 -\n",
      "127.0.0.1 - - [01/Jul/2020 10:08:02] \"\u001b[37mPOST /_dash-update-component HTTP/1.1\u001b[0m\" 200 -\n"
     ]
    },
    {
     "name": "stdout",
     "output_type": "stream",
     "text": [
      "CALLED: switch_edge_actmaps_click\n",
      "CALLED: switch_node_actmap_click\n",
      "CALLED: update_edge_outmap\n",
      "CALLED: update_edge_inmap\n",
      "CALLED: update_edge_kernelmap\n"
     ]
    },
    {
     "name": "stderr",
     "output_type": "stream",
     "text": [
      "127.0.0.1 - - [01/Jul/2020 10:08:03] \"\u001b[37mPOST /_dash-update-component HTTP/1.1\u001b[0m\" 200 -\n",
      "127.0.0.1 - - [01/Jul/2020 10:08:03] \"\u001b[37mPOST /_dash-update-component HTTP/1.1\u001b[0m\" 200 -\n"
     ]
    },
    {
     "name": "stdout",
     "output_type": "stream",
     "text": [
      "CALLED: update_node_actmap\n",
      "CALLED: update_store\n",
      "\n",
      "TRIGGER node-actmap-dropdown.value\n",
      "18-48\n",
      "changing selected node to 48\n"
     ]
    },
    {
     "name": "stderr",
     "output_type": "stream",
     "text": [
      "127.0.0.1 - - [01/Jul/2020 10:08:03] \"\u001b[37mPOST /_dash-update-component HTTP/1.1\u001b[0m\" 200 -\n",
      "127.0.0.1 - - [01/Jul/2020 10:08:03] \"\u001b[37mPOST /_dash-update-component HTTP/1.1\u001b[0m\" 200 -\n",
      "127.0.0.1 - - [01/Jul/2020 10:08:03] \"\u001b[37mPOST /_dash-update-component HTTP/1.1\u001b[0m\" 200 -\n",
      "127.0.0.1 - - [01/Jul/2020 10:08:03] \"\u001b[37mPOST /_dash-update-component HTTP/1.1\u001b[0m\" 200 -\n",
      "127.0.0.1 - - [01/Jul/2020 10:08:03] \"\u001b[37mPOST /_dash-update-component HTTP/1.1\u001b[0m\" 200 -\n"
     ]
    },
    {
     "name": "stdout",
     "output_type": "stream",
     "text": [
      "CALLED: update_figure\n",
      "\n",
      "[0.1, 1]\n",
      "updating edge highlight to 18-48\n",
      "['g-0', 'b-1', 'r-3', 'r-5', 'g-5', 'b-9', 'b-14', 'r-16', 'b-16', 'r-18', 'g-18', 'b-18', 'r-19', 'g-19', 'r-25', 'g-26', 'b-26', 'r-31', 'g-31', 'b-31', 'r-36', 'b-36', 'r-39', 'r-41', 'r-42', 'r-43', 'g-43', '5-46', '26-46', '36-46', '0-48', '3-48', '18-48', '26-48', '41-48', '41-49', '0-51', '18-51', '26-52', '3-62', '11-62', '16-62', '19-62', '24-62', '31-62', '33-62', '36-62', '38-62', '41-62', '16-64', '59-71', '48-73', '53-73', '49-90', '53-90', '59-91', '49-94', '48-100', '50-100', '52-100', '53-100', '54-100', '46-108', '62-108', '49-113', '62-113', '90-123', '113-123', '113-130', '73-132', '73-139', '77-139', '69-143', '71-143', '74-143', '100-143', '97-156', '110-156', '101-157', '92-158', '94-162', '116-162']\n",
      "updating node highlight to 48\n"
     ]
    },
    {
     "name": "stderr",
     "output_type": "stream",
     "text": [
      "127.0.0.1 - - [01/Jul/2020 10:08:03] \"\u001b[37mPOST /_dash-update-component HTTP/1.1\u001b[0m\" 200 -\n",
      "127.0.0.1 - - [01/Jul/2020 10:08:04] \"\u001b[37mPOST /_dash-update-component HTTP/1.1\u001b[0m\" 200 -\n",
      "127.0.0.1 - - [01/Jul/2020 10:08:04] \"\u001b[37mPOST /_dash-update-component HTTP/1.1\u001b[0m\" 200 -\n",
      "127.0.0.1 - - [01/Jul/2020 10:08:04] \"\u001b[37mPOST /_dash-update-component HTTP/1.1\u001b[0m\" 200 -\n",
      "127.0.0.1 - - [01/Jul/2020 10:08:04] \"\u001b[37mPOST /_dash-update-component HTTP/1.1\u001b[0m\" 200 -\n",
      "127.0.0.1 - - [01/Jul/2020 10:08:04] \"\u001b[37mPOST /_dash-update-component HTTP/1.1\u001b[0m\" 200 -\n",
      "127.0.0.1 - - [01/Jul/2020 10:08:04] \"\u001b[37mPOST /_dash-update-component HTTP/1.1\u001b[0m\" 200 -\n",
      "127.0.0.1 - - [01/Jul/2020 10:08:04] \"\u001b[37mPOST /_dash-update-component HTTP/1.1\u001b[0m\" 200 -\n",
      "127.0.0.1 - - [01/Jul/2020 10:08:04] \"\u001b[37mPOST /_dash-update-component HTTP/1.1\u001b[0m\" 200 -\n",
      "127.0.0.1 - - [01/Jul/2020 10:08:05] \"\u001b[37mPOST /_dash-update-component HTTP/1.1\u001b[0m\" 200 -\n",
      "127.0.0.1 - - [01/Jul/2020 10:09:11] \"\u001b[37mPOST /_dash-update-component HTTP/1.1\u001b[0m\" 200 -\n",
      "127.0.0.1 - - [01/Jul/2020 10:09:11] \"\u001b[37mPOST /_dash-update-component HTTP/1.1\u001b[0m\" 200 -\n",
      "127.0.0.1 - - [01/Jul/2020 10:09:11] \"\u001b[37mPOST /_dash-update-component HTTP/1.1\u001b[0m\" 200 -\n",
      "127.0.0.1 - - [01/Jul/2020 10:09:13] \"\u001b[37mPOST /_dash-update-component HTTP/1.1\u001b[0m\" 200 -\n",
      "127.0.0.1 - - [01/Jul/2020 10:09:13] \"\u001b[37mPOST /_dash-update-component HTTP/1.1\u001b[0m\" 200 -\n",
      "127.0.0.1 - - [01/Jul/2020 10:09:15] \"\u001b[37mPOST /_dash-update-component HTTP/1.1\u001b[0m\" 200 -\n",
      "127.0.0.1 - - [01/Jul/2020 10:09:15] \"\u001b[37mPOST /_dash-update-component HTTP/1.1\u001b[0m\" 200 -\n",
      "127.0.0.1 - - [01/Jul/2020 10:09:15] \"\u001b[37mPOST /_dash-update-component HTTP/1.1\u001b[0m\" 200 -\n",
      "127.0.0.1 - - [01/Jul/2020 10:09:15] \"\u001b[37mPOST /_dash-update-component HTTP/1.1\u001b[0m\" 200 -\n",
      "127.0.0.1 - - [01/Jul/2020 10:09:15] \"\u001b[37mPOST /_dash-update-component HTTP/1.1\u001b[0m\" 200 -\n",
      "127.0.0.1 - - [01/Jul/2020 10:09:15] \"\u001b[37mPOST /_dash-update-component HTTP/1.1\u001b[0m\" 200 -\n",
      "127.0.0.1 - - [01/Jul/2020 10:09:15] \"\u001b[37mPOST /_dash-update-component HTTP/1.1\u001b[0m\" 200 -\n",
      "127.0.0.1 - - [01/Jul/2020 10:09:16] \"\u001b[37mPOST /_dash-update-component HTTP/1.1\u001b[0m\" 200 -\n",
      "127.0.0.1 - - [01/Jul/2020 10:09:16] \"\u001b[37mPOST /_dash-update-component HTTP/1.1\u001b[0m\" 200 -\n",
      "127.0.0.1 - - [01/Jul/2020 10:09:16] \"\u001b[37mPOST /_dash-update-component HTTP/1.1\u001b[0m\" 200 -\n",
      "127.0.0.1 - - [01/Jul/2020 10:09:16] \"\u001b[37mPOST /_dash-update-component HTTP/1.1\u001b[0m\" 200 -\n",
      "127.0.0.1 - - [01/Jul/2020 10:09:16] \"\u001b[37mPOST /_dash-update-component HTTP/1.1\u001b[0m\" 200 -\n",
      "127.0.0.1 - - [01/Jul/2020 10:09:16] \"\u001b[37mPOST /_dash-update-component HTTP/1.1\u001b[0m\" 200 -\n",
      "127.0.0.1 - - [01/Jul/2020 10:09:16] \"\u001b[37mPOST /_dash-update-component HTTP/1.1\u001b[0m\" 200 -\n",
      "127.0.0.1 - - [01/Jul/2020 10:09:16] \"\u001b[37mPOST /_dash-update-component HTTP/1.1\u001b[0m\" 200 -\n",
      "127.0.0.1 - - [01/Jul/2020 10:09:16] \"\u001b[37mPOST /_dash-update-component HTTP/1.1\u001b[0m\" 200 -\n",
      "127.0.0.1 - - [01/Jul/2020 10:09:17] \"\u001b[37mPOST /_dash-update-component HTTP/1.1\u001b[0m\" 200 -\n",
      "127.0.0.1 - - [01/Jul/2020 10:09:17] \"\u001b[37mPOST /_dash-update-component HTTP/1.1\u001b[0m\" 200 -\n",
      "127.0.0.1 - - [01/Jul/2020 10:09:17] \"\u001b[37mPOST /_dash-update-component HTTP/1.1\u001b[0m\" 200 -\n",
      "127.0.0.1 - - [01/Jul/2020 10:09:17] \"\u001b[37mPOST /_dash-update-component HTTP/1.1\u001b[0m\" 200 -\n",
      "127.0.0.1 - - [01/Jul/2020 10:09:18] \"\u001b[37mPOST /_dash-update-component HTTP/1.1\u001b[0m\" 200 -\n",
      "127.0.0.1 - - [01/Jul/2020 10:09:18] \"\u001b[37mPOST /_dash-update-component HTTP/1.1\u001b[0m\" 200 -\n",
      "127.0.0.1 - - [01/Jul/2020 10:09:18] \"\u001b[37mPOST /_dash-update-component HTTP/1.1\u001b[0m\" 200 -\n"
     ]
    },
    {
     "name": "stdout",
     "output_type": "stream",
     "text": [
      "CALLED: switch_edge_actmaps_click\n",
      "CALLED: switch_node_actmap_click\n",
      "CALLED: update_edge_outmap\n",
      "CALLED: update_edge_inmap\n",
      "CALLED: update_edge_kernelmap\n",
      "CALLED: update_node_actmap\n",
      "CALLED: update_store\n",
      "\n",
      "TRIGGER node-actmap-dropdown.value\n",
      "100-143"
     ]
    },
    {
     "name": "stderr",
     "output_type": "stream",
     "text": [
      "127.0.0.1 - - [01/Jul/2020 10:09:19] \"\u001b[37mPOST /_dash-update-component HTTP/1.1\u001b[0m\" 200 -\n",
      "127.0.0.1 - - [01/Jul/2020 10:09:19] \"\u001b[37mPOST /_dash-update-component HTTP/1.1\u001b[0m\" 200 -\n"
     ]
    },
    {
     "name": "stdout",
     "output_type": "stream",
     "text": [
      "\n",
      "changing selected edge to 100-143\n",
      "['g-0', '0-48', '0-51', '26-46', '18-48', '100-143']\n",
      "CALLED: update_figure\n",
      "\n"
     ]
    },
    {
     "name": "stderr",
     "output_type": "stream",
     "text": [
      "127.0.0.1 - - [01/Jul/2020 10:09:19] \"\u001b[37mPOST /_dash-update-component HTTP/1.1\u001b[0m\" 200 -\n",
      "127.0.0.1 - - [01/Jul/2020 10:09:19] \"\u001b[37mPOST /_dash-update-component HTTP/1.1\u001b[0m\" 200 -\n",
      "127.0.0.1 - - [01/Jul/2020 10:09:19] \"\u001b[37mPOST /_dash-update-component HTTP/1.1\u001b[0m\" 200 -\n",
      "127.0.0.1 - - [01/Jul/2020 10:09:19] \"\u001b[37mPOST /_dash-update-component HTTP/1.1\u001b[0m\" 200 -\n",
      "127.0.0.1 - - [01/Jul/2020 10:09:19] \"\u001b[37mPOST /_dash-update-component HTTP/1.1\u001b[0m\" 200 -\n",
      "127.0.0.1 - - [01/Jul/2020 10:09:19] \"\u001b[37mPOST /_dash-update-component HTTP/1.1\u001b[0m\" 200 -\n"
     ]
    },
    {
     "name": "stdout",
     "output_type": "stream",
     "text": [
      "[0.1, 1]\n",
      "updating edge highlight to 100-143\n",
      "['g-0', 'b-1', 'r-3', 'r-5', 'g-5', 'b-9', 'b-14', 'r-16', 'b-16', 'r-18', 'g-18', 'b-18', 'r-19', 'g-19', 'r-25', 'g-26', 'b-26', 'r-31', 'g-31', 'b-31', 'r-36', 'b-36', 'r-39', 'r-41', 'r-42', 'r-43', 'g-43', '5-46', '26-46', '36-46', '0-48', '3-48', '18-48', '26-48', '41-48', '41-49', '0-51', '18-51', '26-52', '3-62', '11-62', '16-62', '19-62', '24-62', '31-62', '33-62', '36-62', '38-62', '41-62', '16-64', '59-71', '48-73', '53-73', '49-90', '53-90', '59-91', '49-94', '48-100', '50-100', '52-100', '53-100', '54-100', '46-108', '62-108', '49-113', '62-113', '90-123', '113-123', '113-130', '73-132', '73-139', '77-139', '69-143', '71-143', '74-143', '100-143', '97-156', '110-156', '101-157', '92-158', '94-162', '116-162']\n",
      "updating node highlight to 48\n"
     ]
    },
    {
     "name": "stderr",
     "output_type": "stream",
     "text": [
      "127.0.0.1 - - [01/Jul/2020 10:09:20] \"\u001b[37mPOST /_dash-update-component HTTP/1.1\u001b[0m\" 200 -\n",
      "127.0.0.1 - - [01/Jul/2020 10:09:21] \"\u001b[37mPOST /_dash-update-component HTTP/1.1\u001b[0m\" 200 -\n",
      "127.0.0.1 - - [01/Jul/2020 10:09:21] \"\u001b[37mPOST /_dash-update-component HTTP/1.1\u001b[0m\" 200 -\n",
      "127.0.0.1 - - [01/Jul/2020 10:09:21] \"\u001b[37mPOST /_dash-update-component HTTP/1.1\u001b[0m\" 200 -\n",
      "127.0.0.1 - - [01/Jul/2020 10:09:21] \"\u001b[37mPOST /_dash-update-component HTTP/1.1\u001b[0m\" 200 -\n",
      "127.0.0.1 - - [01/Jul/2020 10:09:21] \"\u001b[37mPOST /_dash-update-component HTTP/1.1\u001b[0m\" 200 -\n",
      "127.0.0.1 - - [01/Jul/2020 10:09:21] \"\u001b[37mPOST /_dash-update-component HTTP/1.1\u001b[0m\" 200 -\n",
      "127.0.0.1 - - [01/Jul/2020 10:09:22] \"\u001b[37mPOST /_dash-update-component HTTP/1.1\u001b[0m\" 200 -\n",
      "127.0.0.1 - - [01/Jul/2020 10:09:22] \"\u001b[37mPOST /_dash-update-component HTTP/1.1\u001b[0m\" 200 -\n",
      "127.0.0.1 - - [01/Jul/2020 10:09:22] \"\u001b[37mPOST /_dash-update-component HTTP/1.1\u001b[0m\" 200 -\n",
      "127.0.0.1 - - [01/Jul/2020 10:09:22] \"\u001b[37mPOST /_dash-update-component HTTP/1.1\u001b[0m\" 200 -\n",
      "127.0.0.1 - - [01/Jul/2020 10:09:22] \"\u001b[37mPOST /_dash-update-component HTTP/1.1\u001b[0m\" 200 -\n",
      "127.0.0.1 - - [01/Jul/2020 10:09:22] \"\u001b[37mPOST /_dash-update-component HTTP/1.1\u001b[0m\" 200 -\n",
      "127.0.0.1 - - [01/Jul/2020 10:09:22] \"\u001b[37mPOST /_dash-update-component HTTP/1.1\u001b[0m\" 200 -\n",
      "127.0.0.1 - - [01/Jul/2020 10:09:22] \"\u001b[37mPOST /_dash-update-component HTTP/1.1\u001b[0m\" 200 -\n",
      "127.0.0.1 - - [01/Jul/2020 10:09:26] \"\u001b[37mPOST /_dash-update-component HTTP/1.1\u001b[0m\" 200 -\n",
      "127.0.0.1 - - [01/Jul/2020 10:09:26] \"\u001b[37mPOST /_dash-update-component HTTP/1.1\u001b[0m\" 200 -\n",
      "127.0.0.1 - - [01/Jul/2020 10:09:26] \"\u001b[37mPOST /_dash-update-component HTTP/1.1\u001b[0m\" 200 -\n",
      "127.0.0.1 - - [01/Jul/2020 10:09:26] \"\u001b[37mPOST /_dash-update-component HTTP/1.1\u001b[0m\" 200 -\n",
      "127.0.0.1 - - [01/Jul/2020 10:09:26] \"\u001b[37mPOST /_dash-update-component HTTP/1.1\u001b[0m\" 200 -\n",
      "127.0.0.1 - - [01/Jul/2020 10:09:26] \"\u001b[37mPOST /_dash-update-component HTTP/1.1\u001b[0m\" 200 -\n",
      "127.0.0.1 - - [01/Jul/2020 10:09:27] \"\u001b[37mPOST /_dash-update-component HTTP/1.1\u001b[0m\" 200 -\n",
      "127.0.0.1 - - [01/Jul/2020 10:09:27] \"\u001b[37mPOST /_dash-update-component HTTP/1.1\u001b[0m\" 200 -\n",
      "127.0.0.1 - - [01/Jul/2020 10:09:27] \"\u001b[37mPOST /_dash-update-component HTTP/1.1\u001b[0m\" 200 -\n",
      "127.0.0.1 - - [01/Jul/2020 10:09:27] \"\u001b[37mPOST /_dash-update-component HTTP/1.1\u001b[0m\" 200 -\n",
      "127.0.0.1 - - [01/Jul/2020 10:09:27] \"\u001b[37mPOST /_dash-update-component HTTP/1.1\u001b[0m\" 200 -\n"
     ]
    },
    {
     "name": "stdout",
     "output_type": "stream",
     "text": [
      "CALLED: switch_edge_actmaps_click\n",
      "CALLED: switch_node_actmap_click\n",
      "CALLED: update_edge_outmap\n",
      "CALLED: update_edge_inmap\n",
      "CALLED: update_edge_kernelmap\n"
     ]
    },
    {
     "name": "stderr",
     "output_type": "stream",
     "text": [
      "127.0.0.1 - - [01/Jul/2020 10:09:27] \"\u001b[37mPOST /_dash-update-component HTTP/1.1\u001b[0m\" 200 -\n",
      "127.0.0.1 - - [01/Jul/2020 10:09:27] \"\u001b[37mPOST /_dash-update-component HTTP/1.1\u001b[0m\" 200 -\n"
     ]
    },
    {
     "name": "stdout",
     "output_type": "stream",
     "text": [
      "CALLED: update_node_actmap\n",
      "CALLED: update_store\n",
      "\n",
      "TRIGGER node-actmap-dropdown.value\n",
      "100-143\n",
      "changing selected node to 143\n"
     ]
    },
    {
     "name": "stderr",
     "output_type": "stream",
     "text": [
      "127.0.0.1 - - [01/Jul/2020 10:09:28] \"\u001b[37mPOST /_dash-update-component HTTP/1.1\u001b[0m\" 200 -\n",
      "127.0.0.1 - - [01/Jul/2020 10:09:28] \"\u001b[37mPOST /_dash-update-component HTTP/1.1\u001b[0m\" 200 -\n",
      "127.0.0.1 - - [01/Jul/2020 10:09:28] \"\u001b[37mPOST /_dash-update-component HTTP/1.1\u001b[0m\" 200 -\n",
      "127.0.0.1 - - [01/Jul/2020 10:09:28] \"\u001b[37mPOST /_dash-update-component HTTP/1.1\u001b[0m\" 200 -\n",
      "127.0.0.1 - - [01/Jul/2020 10:09:28] \"\u001b[37mPOST /_dash-update-component HTTP/1.1\u001b[0m\" 200 -\n"
     ]
    },
    {
     "name": "stdout",
     "output_type": "stream",
     "text": [
      "CALLED: update_figure\n",
      "\n",
      "[0.1, 1]\n",
      "updating edge highlight to 100-143\n",
      "['g-0', 'b-1', 'r-3', 'r-5', 'g-5', 'b-9', 'b-14', 'r-16', 'b-16', 'r-18', 'g-18', 'b-18', 'r-19', 'g-19', 'r-25', 'g-26', 'b-26', 'r-31', 'g-31', 'b-31', 'r-36', 'b-36', 'r-39', 'r-41', 'r-42', 'r-43', 'g-43', '5-46', '26-46', '36-46', '0-48', '3-48', '18-48', '26-48', '41-48', '41-49', '0-51', '18-51', '26-52', '3-62', '11-62', '16-62', '19-62', '24-62', '31-62', '33-62', '36-62', '38-62', '41-62', '16-64', '59-71', '48-73', '53-73', '49-90', '53-90', '59-91', '49-94', '48-100', '50-100', '52-100', '53-100', '54-100', '46-108', '62-108', '49-113', '62-113', '90-123', '113-123', '113-130', '73-132', '73-139', '77-139', '69-143', '71-143', '74-143', '100-143', '97-156', '110-156', '101-157', '92-158', '94-162', '116-162']\n",
      "updating node highlight to 143\n"
     ]
    },
    {
     "name": "stderr",
     "output_type": "stream",
     "text": [
      "127.0.0.1 - - [01/Jul/2020 10:09:28] \"\u001b[37mPOST /_dash-update-component HTTP/1.1\u001b[0m\" 200 -\n",
      "127.0.0.1 - - [01/Jul/2020 10:09:31] \"\u001b[37mPOST /_dash-update-component HTTP/1.1\u001b[0m\" 200 -\n"
     ]
    },
    {
     "name": "stdout",
     "output_type": "stream",
     "text": [
      "CALLED: update_inputimg_actmap\n",
      "CALLED: update_edge_outmap\n",
      "CALLED: update_edge_inmapCALLED: update_node_actmap\n",
      "\n"
     ]
    },
    {
     "name": "stderr",
     "output_type": "stream",
     "text": [
      "127.0.0.1 - - [01/Jul/2020 10:09:56] \"\u001b[37mPOST /_dash-update-component HTTP/1.1\u001b[0m\" 200 -\n",
      "127.0.0.1 - - [01/Jul/2020 10:09:56] \"\u001b[37mPOST /_dash-update-component HTTP/1.1\u001b[0m\" 200 -\n",
      "127.0.0.1 - - [01/Jul/2020 10:09:56] \"\u001b[37mPOST /_dash-update-component HTTP/1.1\u001b[0m\" 200 -\n",
      "127.0.0.1 - - [01/Jul/2020 10:09:56] \"\u001b[37mPOST /_dash-update-component HTTP/1.1\u001b[0m\" 200 -\n"
     ]
    },
    {
     "name": "stdout",
     "output_type": "stream",
     "text": [
      "CALLED: update_inputimg_actmap\n",
      "CALLED: update_edge_outmap\n",
      "CALLED: update_edge_inmap\n",
      "CALLED: update_node_actmap\n"
     ]
    },
    {
     "name": "stderr",
     "output_type": "stream",
     "text": [
      "127.0.0.1 - - [01/Jul/2020 10:10:19] \"\u001b[37mPOST /_dash-update-component HTTP/1.1\u001b[0m\" 200 -\n",
      "127.0.0.1 - - [01/Jul/2020 10:10:19] \"\u001b[37mPOST /_dash-update-component HTTP/1.1\u001b[0m\" 200 -\n",
      "127.0.0.1 - - [01/Jul/2020 10:10:19] \"\u001b[37mPOST /_dash-update-component HTTP/1.1\u001b[0m\" 200 -\n",
      "127.0.0.1 - - [01/Jul/2020 10:10:19] \"\u001b[37mPOST /_dash-update-component HTTP/1.1\u001b[0m\" 200 -\n"
     ]
    },
    {
     "name": "stdout",
     "output_type": "stream",
     "text": [
      "CALLED: update_inputimg_actmap\n",
      "CALLED: update_edge_outmap\n",
      "CALLED: update_edge_inmap\n",
      "CALLED: update_node_actmap\n"
     ]
    },
    {
     "name": "stderr",
     "output_type": "stream",
     "text": [
      "127.0.0.1 - - [01/Jul/2020 10:10:26] \"\u001b[37mPOST /_dash-update-component HTTP/1.1\u001b[0m\" 200 -\n",
      "127.0.0.1 - - [01/Jul/2020 10:10:26] \"\u001b[37mPOST /_dash-update-component HTTP/1.1\u001b[0m\" 200 -\n",
      "127.0.0.1 - - [01/Jul/2020 10:10:26] \"\u001b[37mPOST /_dash-update-component HTTP/1.1\u001b[0m\" 200 -\n",
      "127.0.0.1 - - [01/Jul/2020 10:10:26] \"\u001b[37mPOST /_dash-update-component HTTP/1.1\u001b[0m\" 200 -\n"
     ]
    },
    {
     "name": "stdout",
     "output_type": "stream",
     "text": [
      "CALLED: update_inputimg_actmap\n",
      "CALLED: update_edge_outmap\n",
      "CALLED: update_edge_inmapCALLED: update_node_actmap\n",
      "\n"
     ]
    },
    {
     "name": "stderr",
     "output_type": "stream",
     "text": [
      "127.0.0.1 - - [01/Jul/2020 10:10:41] \"\u001b[37mPOST /_dash-update-component HTTP/1.1\u001b[0m\" 200 -\n",
      "127.0.0.1 - - [01/Jul/2020 10:10:41] \"\u001b[37mPOST /_dash-update-component HTTP/1.1\u001b[0m\" 200 -\n",
      "127.0.0.1 - - [01/Jul/2020 10:10:41] \"\u001b[37mPOST /_dash-update-component HTTP/1.1\u001b[0m\" 200 -\n",
      "127.0.0.1 - - [01/Jul/2020 10:10:41] \"\u001b[37mPOST /_dash-update-component HTTP/1.1\u001b[0m\" 200 -\n"
     ]
    },
    {
     "name": "stdout",
     "output_type": "stream",
     "text": [
      "CALLED: update_inputimg_actmap\n",
      "CALLED: update_edge_outmap\n",
      "CALLED: update_edge_inmap\n",
      "CALLED: update_node_actmap\n"
     ]
    },
    {
     "name": "stderr",
     "output_type": "stream",
     "text": [
      "127.0.0.1 - - [01/Jul/2020 10:11:32] \"\u001b[37mPOST /_dash-update-component HTTP/1.1\u001b[0m\" 200 -\n",
      "127.0.0.1 - - [01/Jul/2020 10:11:33] \"\u001b[37mPOST /_dash-update-component HTTP/1.1\u001b[0m\" 200 -\n",
      "127.0.0.1 - - [01/Jul/2020 10:11:33] \"\u001b[37mPOST /_dash-update-component HTTP/1.1\u001b[0m\" 200 -\n",
      "127.0.0.1 - - [01/Jul/2020 10:11:33] \"\u001b[37mPOST /_dash-update-component HTTP/1.1\u001b[0m\" 200 -\n"
     ]
    },
    {
     "name": "stdout",
     "output_type": "stream",
     "text": [
      "CALLED: update_inputimg_actmap\n",
      "CALLED: update_edge_outmap\n",
      "CALLED: update_edge_inmap\n",
      "CALLED: update_node_actmap\n"
     ]
    },
    {
     "name": "stderr",
     "output_type": "stream",
     "text": [
      "127.0.0.1 - - [01/Jul/2020 10:11:48] \"\u001b[37mPOST /_dash-update-component HTTP/1.1\u001b[0m\" 200 -\n",
      "127.0.0.1 - - [01/Jul/2020 10:11:48] \"\u001b[37mPOST /_dash-update-component HTTP/1.1\u001b[0m\" 200 -\n",
      "127.0.0.1 - - [01/Jul/2020 10:11:48] \"\u001b[37mPOST /_dash-update-component HTTP/1.1\u001b[0m\" 200 -\n",
      "127.0.0.1 - - [01/Jul/2020 10:11:48] \"\u001b[37mPOST /_dash-update-component HTTP/1.1\u001b[0m\" 200 -\n"
     ]
    }
   ],
   "source": [
    "app.run_server()"
   ]
  },
  {
   "cell_type": "code",
   "execution_count": 700,
   "metadata": {},
   "outputs": [
    {
     "data": {
      "text/plain": [
       "'g-5'"
      ]
     },
     "execution_count": 700,
     "metadata": {},
     "output_type": "execute_result"
    }
   ],
   "source": [
    "get_nth_element_from_nested_list(state['edge_names'],9-(num_layers+1))"
   ]
  },
  {
   "cell_type": "code",
   "execution_count": 714,
   "metadata": {},
   "outputs": [
    {
     "data": {
      "text/plain": [
       "[0.1, 1]"
      ]
     },
     "execution_count": 714,
     "metadata": {},
     "output_type": "execute_result"
    }
   ],
   "source": [
    "edge_threshold"
   ]
  },
  {
   "cell_type": "raw",
   "metadata": {},
   "source": [
    "for layer in edge_colors_dict:\n",
    "    print(layer)\n",
    "    print(len(edge_colors_dict[layer]))\n",
    "    print(edge_colors_dict[layer])\n",
    "\n",
    "    \n",
    "    \n",
    "for layer in edge_positions:\n",
    "    print(layer)\n",
    "    print(edge_positions)\n",
    "    \n",
    "    "
   ]
  },
  {
   "cell_type": "code",
   "execution_count": null,
   "metadata": {},
   "outputs": [],
   "source": [
    "#Hide zoom, pan thingy\n",
    "\n",
    "dcc.Graph(\n",
    "    id='my-graph',\n",
    "    figure={'data': [{'x': [1, 2, 3]}]},\n",
    "    config={\n",
    "        'displayModeBar': False\n",
    "    }\n",
    ")"
   ]
  },
  {
   "cell_type": "code",
   "execution_count": 119,
   "metadata": {},
   "outputs": [
    {
     "data": {
      "application/vnd.plotly.v1+json": {
       "config": {
        "plotlyServerURL": "https://plot.ly"
       },
       "data": [
        {
         "type": "heatmap",
         "z": [
          [
           -0.9720761179924011,
           -0.9909674525260925,
           -1.1890690326690674,
           -1.0655851364135742,
           -0.8939744234085083,
           -1.0958764553070068,
           -1.5519652366638184,
           -1.8584684133529663,
           -1.4022455215454102,
           -1.1863718032836914,
           -1.0524948835372925,
           -0.8575342297554016,
           -0.7688305974006653,
           -0.7767041921615601,
           -1.1294986009597778,
           -0.7653985619544983
          ],
          [
           -1.9617830514907837,
           -2.4776668548583984,
           -2.550020456314087,
           -1.7155921459197998,
           -2.1722419261932373,
           -3.9515950679779053,
           -3.91449236869812,
           -4.697071075439453,
           -2.909308910369873,
           -1.8005691766738892,
           -1.9155712127685547,
           -2.2486937046051025,
           -2.15317964553833,
           -1.9468854665756226,
           -2.7330312728881836,
           -2.285374879837036
          ],
          [
           -1.0283747911453247,
           -1.0570793151855469,
           -2.467479705810547,
           -4.146231651306152,
           -7.071923732757568,
           -9.931361198425293,
           -7.1285481452941895,
           -5.801097869873047,
           -3.403740167617798,
           -1.5313284397125244,
           -2.6988141536712646,
           -2.3570234775543213,
           -1.5017180442810059,
           -1.5324780941009521,
           -2.1045234203338623,
           -1.714125633239746
          ],
          [
           -0.6911526918411255,
           -0.8136712312698364,
           -1.3082077503204346,
           -2.2553999423980713,
           -7.868158340454102,
           -11.970973014831543,
           -9.851036071777344,
           -7.310451030731201,
           -5.757235050201416,
           -6.608819484710693,
           -7.5702805519104,
           -4.610486030578613,
           -2.688157558441162,
           -2.276625156402588,
           -2.854646682739258,
           -2.088165283203125
          ],
          [
           -1.822585105895996,
           -3.0530991554260254,
           -2.467802047729492,
           -0.8800749778747559,
           -2.8209776878356934,
           -7.850949287414551,
           -6.8788161277771,
           -6.702489376068115,
           -6.700220584869385,
           -7.55515193939209,
           -8.414401054382324,
           -5.084489345550537,
           -3.201148509979248,
           -2.445025682449341,
           -3.0644354820251465,
           -2.505934953689575
          ],
          [
           -1.7825393676757812,
           -5.317377090454102,
           -9.642046928405762,
           -8.648539543151855,
           -6.652477264404297,
           -5.52684211730957,
           -2.174318790435791,
           -3.736109495162964,
           -6.0414204597473145,
           -7.660882949829102,
           -8.920465469360352,
           -7.61021614074707,
           -4.5249528884887695,
           -3.1544408798217773,
           -3.344310760498047,
           -2.4935667514801025
          ],
          [
           -2.9347989559173584,
           -4.020988941192627,
           -7.469425201416016,
           -9.472777366638184,
           -10.938050270080566,
           -6.475218772888184,
           -1.7017966508865356,
           -2.525435209274292,
           -3.0779621601104736,
           -5.036565780639648,
           -7.295533180236816,
           -10.005066871643066,
           -7.076982021331787,
           -5.29050874710083,
           -4.215697288513184,
           -2.4837052822113037
          ],
          [
           -3.1702606678009033,
           -4.960989475250244,
           -3.40940523147583,
           -4.342921257019043,
           -10.415080070495605,
           -8.614163398742676,
           -2.5620346069335938,
           -2.20196533203125,
           -1.148952841758728,
           -2.0771806240081787,
           -5.356968879699707,
           -8.064797401428223,
           -7.235419273376465,
           -5.650676727294922,
           -4.659702777862549,
           -2.7308809757232666
          ],
          [
           -3.451368808746338,
           -6.141005516052246,
           -2.659510374069214,
           -3.824934244155884,
           -7.917452335357666,
           -6.455286979675293,
           -1.1996915340423584,
           -1.7749797105789185,
           -1.0939745903015137,
           -1.5756866931915283,
           -4.483911514282227,
           -6.568572044372559,
           -6.6161394119262695,
           -5.6728315353393555,
           -5.1905012130737305,
           -2.5820367336273193
          ],
          [
           -2.230024814605713,
           -2.9870285987854004,
           0.6430705189704895,
           -1.3552265167236328,
           -3.0767247676849365,
           -3.246203660964966,
           -1.0995948314666748,
           -1.4740241765975952,
           -0.9769517183303833,
           -1.1852326393127441,
           -3.4406001567840576,
           -6.196105480194092,
           -7.846407890319824,
           -8.87166976928711,
           -6.643350601196289,
           -3.0839407444000244
          ],
          [
           -3.1426355838775635,
           -3.005211353302002,
           2.5543301105499268,
           2.925522804260254,
           2.777614116668701,
           1.044703483581543,
           0.399573415517807,
           -0.6664259433746338,
           -0.8960442543029785,
           -0.9790987968444824,
           -1.484933853149414,
           -3.8331735134124756,
           -6.971492290496826,
           -9.558798789978027,
           -8.014552116394043,
           -3.116797685623169
          ],
          [
           -3.5659663677215576,
           -5.71796178817749,
           -4.909787654876709,
           -4.613893508911133,
           -3.173928737640381,
           -1.9242032766342163,
           -0.6985485553741455,
           -0.1946798413991928,
           0.5349653363227844,
           0.9511497616767883,
           1.057741403579712,
           0.6248994469642639,
           -2.3615663051605225,
           -4.621668815612793,
           -4.662744522094727,
           -1.8815549612045288
          ],
          [
           -1.7179217338562012,
           -4.092052459716797,
           -3.572549343109131,
           -4.802547454833984,
           -5.182833671569824,
           -4.16899299621582,
           -2.442103624343872,
           -1.7585527896881104,
           -1.6860460042953491,
           -1.297611117362976,
           -0.7448723912239075,
           0.5169006586074829,
           0.3835833668708801,
           -1.6678329706192017,
           -2.5479116439819336,
           -0.6414332389831543
          ],
          [
           0.46266427636146545,
           -0.04648013412952423,
           0.173208549618721,
           -1.3838183879852295,
           -2.180776596069336,
           -2.20688796043396,
           -1.3601123094558716,
           -1.1127963066101074,
           -1.891090750694275,
           -3.152240753173828,
           -4.115242958068848,
           -3.9805455207824707,
           -3.242912530899048,
           -3.516941547393799,
           -4.622613430023193,
           -2.267071008682251
          ],
          [
           -1.1014235019683838,
           -0.4452604055404663,
           1.7779344320297241,
           2.448899507522583,
           1.2854701280593872,
           0.1610720306634903,
           -0.1907099336385727,
           -0.027237357571721077,
           -0.48298943042755127,
           -1.4855225086212158,
           -2.6343612670898438,
           -3.52329683303833,
           -3.7598917484283447,
           -3.817586898803711,
           -3.6426165103912354,
           -1.5887598991394043
          ],
          [
           -2.8653812408447266,
           -5.232631206512451,
           -4.656230449676514,
           -2.7625954151153564,
           -1.7172502279281616,
           -0.8932493925094604,
           -0.5031933188438416,
           -0.5620656609535217,
           -0.7454784512519836,
           -1.1551706790924072,
           -1.6632859706878662,
           -2.397826910018921,
           -3.1000936031341553,
           -3.6319096088409424,
           -3.4168715476989746,
           -2.0154707431793213
          ]
         ]
        }
       ],
       "layout": {
        "height": 500,
        "template": {
         "data": {
          "bar": [
           {
            "error_x": {
             "color": "#2a3f5f"
            },
            "error_y": {
             "color": "#2a3f5f"
            },
            "marker": {
             "line": {
              "color": "#E5ECF6",
              "width": 0.5
             }
            },
            "type": "bar"
           }
          ],
          "barpolar": [
           {
            "marker": {
             "line": {
              "color": "#E5ECF6",
              "width": 0.5
             }
            },
            "type": "barpolar"
           }
          ],
          "carpet": [
           {
            "aaxis": {
             "endlinecolor": "#2a3f5f",
             "gridcolor": "white",
             "linecolor": "white",
             "minorgridcolor": "white",
             "startlinecolor": "#2a3f5f"
            },
            "baxis": {
             "endlinecolor": "#2a3f5f",
             "gridcolor": "white",
             "linecolor": "white",
             "minorgridcolor": "white",
             "startlinecolor": "#2a3f5f"
            },
            "type": "carpet"
           }
          ],
          "choropleth": [
           {
            "colorbar": {
             "outlinewidth": 0,
             "ticks": ""
            },
            "type": "choropleth"
           }
          ],
          "contour": [
           {
            "colorbar": {
             "outlinewidth": 0,
             "ticks": ""
            },
            "colorscale": [
             [
              0,
              "#0d0887"
             ],
             [
              0.1111111111111111,
              "#46039f"
             ],
             [
              0.2222222222222222,
              "#7201a8"
             ],
             [
              0.3333333333333333,
              "#9c179e"
             ],
             [
              0.4444444444444444,
              "#bd3786"
             ],
             [
              0.5555555555555556,
              "#d8576b"
             ],
             [
              0.6666666666666666,
              "#ed7953"
             ],
             [
              0.7777777777777778,
              "#fb9f3a"
             ],
             [
              0.8888888888888888,
              "#fdca26"
             ],
             [
              1,
              "#f0f921"
             ]
            ],
            "type": "contour"
           }
          ],
          "contourcarpet": [
           {
            "colorbar": {
             "outlinewidth": 0,
             "ticks": ""
            },
            "type": "contourcarpet"
           }
          ],
          "heatmap": [
           {
            "colorbar": {
             "outlinewidth": 0,
             "ticks": ""
            },
            "colorscale": [
             [
              0,
              "#0d0887"
             ],
             [
              0.1111111111111111,
              "#46039f"
             ],
             [
              0.2222222222222222,
              "#7201a8"
             ],
             [
              0.3333333333333333,
              "#9c179e"
             ],
             [
              0.4444444444444444,
              "#bd3786"
             ],
             [
              0.5555555555555556,
              "#d8576b"
             ],
             [
              0.6666666666666666,
              "#ed7953"
             ],
             [
              0.7777777777777778,
              "#fb9f3a"
             ],
             [
              0.8888888888888888,
              "#fdca26"
             ],
             [
              1,
              "#f0f921"
             ]
            ],
            "type": "heatmap"
           }
          ],
          "heatmapgl": [
           {
            "colorbar": {
             "outlinewidth": 0,
             "ticks": ""
            },
            "colorscale": [
             [
              0,
              "#0d0887"
             ],
             [
              0.1111111111111111,
              "#46039f"
             ],
             [
              0.2222222222222222,
              "#7201a8"
             ],
             [
              0.3333333333333333,
              "#9c179e"
             ],
             [
              0.4444444444444444,
              "#bd3786"
             ],
             [
              0.5555555555555556,
              "#d8576b"
             ],
             [
              0.6666666666666666,
              "#ed7953"
             ],
             [
              0.7777777777777778,
              "#fb9f3a"
             ],
             [
              0.8888888888888888,
              "#fdca26"
             ],
             [
              1,
              "#f0f921"
             ]
            ],
            "type": "heatmapgl"
           }
          ],
          "histogram": [
           {
            "marker": {
             "colorbar": {
              "outlinewidth": 0,
              "ticks": ""
             }
            },
            "type": "histogram"
           }
          ],
          "histogram2d": [
           {
            "colorbar": {
             "outlinewidth": 0,
             "ticks": ""
            },
            "colorscale": [
             [
              0,
              "#0d0887"
             ],
             [
              0.1111111111111111,
              "#46039f"
             ],
             [
              0.2222222222222222,
              "#7201a8"
             ],
             [
              0.3333333333333333,
              "#9c179e"
             ],
             [
              0.4444444444444444,
              "#bd3786"
             ],
             [
              0.5555555555555556,
              "#d8576b"
             ],
             [
              0.6666666666666666,
              "#ed7953"
             ],
             [
              0.7777777777777778,
              "#fb9f3a"
             ],
             [
              0.8888888888888888,
              "#fdca26"
             ],
             [
              1,
              "#f0f921"
             ]
            ],
            "type": "histogram2d"
           }
          ],
          "histogram2dcontour": [
           {
            "colorbar": {
             "outlinewidth": 0,
             "ticks": ""
            },
            "colorscale": [
             [
              0,
              "#0d0887"
             ],
             [
              0.1111111111111111,
              "#46039f"
             ],
             [
              0.2222222222222222,
              "#7201a8"
             ],
             [
              0.3333333333333333,
              "#9c179e"
             ],
             [
              0.4444444444444444,
              "#bd3786"
             ],
             [
              0.5555555555555556,
              "#d8576b"
             ],
             [
              0.6666666666666666,
              "#ed7953"
             ],
             [
              0.7777777777777778,
              "#fb9f3a"
             ],
             [
              0.8888888888888888,
              "#fdca26"
             ],
             [
              1,
              "#f0f921"
             ]
            ],
            "type": "histogram2dcontour"
           }
          ],
          "mesh3d": [
           {
            "colorbar": {
             "outlinewidth": 0,
             "ticks": ""
            },
            "type": "mesh3d"
           }
          ],
          "parcoords": [
           {
            "line": {
             "colorbar": {
              "outlinewidth": 0,
              "ticks": ""
             }
            },
            "type": "parcoords"
           }
          ],
          "pie": [
           {
            "automargin": true,
            "type": "pie"
           }
          ],
          "scatter": [
           {
            "marker": {
             "colorbar": {
              "outlinewidth": 0,
              "ticks": ""
             }
            },
            "type": "scatter"
           }
          ],
          "scatter3d": [
           {
            "line": {
             "colorbar": {
              "outlinewidth": 0,
              "ticks": ""
             }
            },
            "marker": {
             "colorbar": {
              "outlinewidth": 0,
              "ticks": ""
             }
            },
            "type": "scatter3d"
           }
          ],
          "scattercarpet": [
           {
            "marker": {
             "colorbar": {
              "outlinewidth": 0,
              "ticks": ""
             }
            },
            "type": "scattercarpet"
           }
          ],
          "scattergeo": [
           {
            "marker": {
             "colorbar": {
              "outlinewidth": 0,
              "ticks": ""
             }
            },
            "type": "scattergeo"
           }
          ],
          "scattergl": [
           {
            "marker": {
             "colorbar": {
              "outlinewidth": 0,
              "ticks": ""
             }
            },
            "type": "scattergl"
           }
          ],
          "scattermapbox": [
           {
            "marker": {
             "colorbar": {
              "outlinewidth": 0,
              "ticks": ""
             }
            },
            "type": "scattermapbox"
           }
          ],
          "scatterpolar": [
           {
            "marker": {
             "colorbar": {
              "outlinewidth": 0,
              "ticks": ""
             }
            },
            "type": "scatterpolar"
           }
          ],
          "scatterpolargl": [
           {
            "marker": {
             "colorbar": {
              "outlinewidth": 0,
              "ticks": ""
             }
            },
            "type": "scatterpolargl"
           }
          ],
          "scatterternary": [
           {
            "marker": {
             "colorbar": {
              "outlinewidth": 0,
              "ticks": ""
             }
            },
            "type": "scatterternary"
           }
          ],
          "surface": [
           {
            "colorbar": {
             "outlinewidth": 0,
             "ticks": ""
            },
            "colorscale": [
             [
              0,
              "#0d0887"
             ],
             [
              0.1111111111111111,
              "#46039f"
             ],
             [
              0.2222222222222222,
              "#7201a8"
             ],
             [
              0.3333333333333333,
              "#9c179e"
             ],
             [
              0.4444444444444444,
              "#bd3786"
             ],
             [
              0.5555555555555556,
              "#d8576b"
             ],
             [
              0.6666666666666666,
              "#ed7953"
             ],
             [
              0.7777777777777778,
              "#fb9f3a"
             ],
             [
              0.8888888888888888,
              "#fdca26"
             ],
             [
              1,
              "#f0f921"
             ]
            ],
            "type": "surface"
           }
          ],
          "table": [
           {
            "cells": {
             "fill": {
              "color": "#EBF0F8"
             },
             "line": {
              "color": "white"
             }
            },
            "header": {
             "fill": {
              "color": "#C8D4E3"
             },
             "line": {
              "color": "white"
             }
            },
            "type": "table"
           }
          ]
         },
         "layout": {
          "annotationdefaults": {
           "arrowcolor": "#2a3f5f",
           "arrowhead": 0,
           "arrowwidth": 1
          },
          "coloraxis": {
           "colorbar": {
            "outlinewidth": 0,
            "ticks": ""
           }
          },
          "colorscale": {
           "diverging": [
            [
             0,
             "#8e0152"
            ],
            [
             0.1,
             "#c51b7d"
            ],
            [
             0.2,
             "#de77ae"
            ],
            [
             0.3,
             "#f1b6da"
            ],
            [
             0.4,
             "#fde0ef"
            ],
            [
             0.5,
             "#f7f7f7"
            ],
            [
             0.6,
             "#e6f5d0"
            ],
            [
             0.7,
             "#b8e186"
            ],
            [
             0.8,
             "#7fbc41"
            ],
            [
             0.9,
             "#4d9221"
            ],
            [
             1,
             "#276419"
            ]
           ],
           "sequential": [
            [
             0,
             "#0d0887"
            ],
            [
             0.1111111111111111,
             "#46039f"
            ],
            [
             0.2222222222222222,
             "#7201a8"
            ],
            [
             0.3333333333333333,
             "#9c179e"
            ],
            [
             0.4444444444444444,
             "#bd3786"
            ],
            [
             0.5555555555555556,
             "#d8576b"
            ],
            [
             0.6666666666666666,
             "#ed7953"
            ],
            [
             0.7777777777777778,
             "#fb9f3a"
            ],
            [
             0.8888888888888888,
             "#fdca26"
            ],
            [
             1,
             "#f0f921"
            ]
           ],
           "sequentialminus": [
            [
             0,
             "#0d0887"
            ],
            [
             0.1111111111111111,
             "#46039f"
            ],
            [
             0.2222222222222222,
             "#7201a8"
            ],
            [
             0.3333333333333333,
             "#9c179e"
            ],
            [
             0.4444444444444444,
             "#bd3786"
            ],
            [
             0.5555555555555556,
             "#d8576b"
            ],
            [
             0.6666666666666666,
             "#ed7953"
            ],
            [
             0.7777777777777778,
             "#fb9f3a"
            ],
            [
             0.8888888888888888,
             "#fdca26"
            ],
            [
             1,
             "#f0f921"
            ]
           ]
          },
          "colorway": [
           "#636efa",
           "#EF553B",
           "#00cc96",
           "#ab63fa",
           "#FFA15A",
           "#19d3f3",
           "#FF6692",
           "#B6E880",
           "#FF97FF",
           "#FECB52"
          ],
          "font": {
           "color": "#2a3f5f"
          },
          "geo": {
           "bgcolor": "white",
           "lakecolor": "white",
           "landcolor": "#E5ECF6",
           "showlakes": true,
           "showland": true,
           "subunitcolor": "white"
          },
          "hoverlabel": {
           "align": "left"
          },
          "hovermode": "closest",
          "mapbox": {
           "style": "light"
          },
          "paper_bgcolor": "white",
          "plot_bgcolor": "#E5ECF6",
          "polar": {
           "angularaxis": {
            "gridcolor": "white",
            "linecolor": "white",
            "ticks": ""
           },
           "bgcolor": "#E5ECF6",
           "radialaxis": {
            "gridcolor": "white",
            "linecolor": "white",
            "ticks": ""
           }
          },
          "scene": {
           "xaxis": {
            "backgroundcolor": "#E5ECF6",
            "gridcolor": "white",
            "gridwidth": 2,
            "linecolor": "white",
            "showbackground": true,
            "ticks": "",
            "zerolinecolor": "white"
           },
           "yaxis": {
            "backgroundcolor": "#E5ECF6",
            "gridcolor": "white",
            "gridwidth": 2,
            "linecolor": "white",
            "showbackground": true,
            "ticks": "",
            "zerolinecolor": "white"
           },
           "zaxis": {
            "backgroundcolor": "#E5ECF6",
            "gridcolor": "white",
            "gridwidth": 2,
            "linecolor": "white",
            "showbackground": true,
            "ticks": "",
            "zerolinecolor": "white"
           }
          },
          "shapedefaults": {
           "line": {
            "color": "#2a3f5f"
           }
          },
          "ternary": {
           "aaxis": {
            "gridcolor": "white",
            "linecolor": "white",
            "ticks": ""
           },
           "baxis": {
            "gridcolor": "white",
            "linecolor": "white",
            "ticks": ""
           },
           "bgcolor": "#E5ECF6",
           "caxis": {
            "gridcolor": "white",
            "linecolor": "white",
            "ticks": ""
           }
          },
          "title": {
           "x": 0.05
          },
          "xaxis": {
           "automargin": true,
           "gridcolor": "white",
           "linecolor": "white",
           "ticks": "",
           "title": {
            "standoff": 15
           },
           "zerolinecolor": "white",
           "zerolinewidth": 2
          },
          "yaxis": {
           "automargin": true,
           "gridcolor": "white",
           "linecolor": "white",
           "ticks": "",
           "title": {
            "standoff": 15
           },
           "zerolinecolor": "white",
           "zerolinewidth": 2
          }
         }
        },
        "width": 500
       }
      },
      "text/html": [
       "<div>\n",
       "        \n",
       "        \n",
       "            <div id=\"909b5a72-aa39-4392-b47a-c5333d4e4bc3\" class=\"plotly-graph-div\" style=\"height:500px; width:500px;\"></div>\n",
       "            <script type=\"text/javascript\">\n",
       "                require([\"plotly\"], function(Plotly) {\n",
       "                    window.PLOTLYENV=window.PLOTLYENV || {};\n",
       "                    \n",
       "                if (document.getElementById(\"909b5a72-aa39-4392-b47a-c5333d4e4bc3\")) {\n",
       "                    Plotly.newPlot(\n",
       "                        '909b5a72-aa39-4392-b47a-c5333d4e4bc3',\n",
       "                        [{\"type\": \"heatmap\", \"z\": [[-0.9720761179924011, -0.9909674525260925, -1.1890690326690674, -1.0655851364135742, -0.8939744234085083, -1.0958764553070068, -1.5519652366638184, -1.8584684133529663, -1.4022455215454102, -1.1863718032836914, -1.0524948835372925, -0.8575342297554016, -0.7688305974006653, -0.7767041921615601, -1.1294986009597778, -0.7653985619544983], [-1.9617830514907837, -2.4776668548583984, -2.550020456314087, -1.7155921459197998, -2.1722419261932373, -3.9515950679779053, -3.91449236869812, -4.697071075439453, -2.909308910369873, -1.8005691766738892, -1.9155712127685547, -2.2486937046051025, -2.15317964553833, -1.9468854665756226, -2.7330312728881836, -2.285374879837036], [-1.0283747911453247, -1.0570793151855469, -2.467479705810547, -4.146231651306152, -7.071923732757568, -9.931361198425293, -7.1285481452941895, -5.801097869873047, -3.403740167617798, -1.5313284397125244, -2.6988141536712646, -2.3570234775543213, -1.5017180442810059, -1.5324780941009521, -2.1045234203338623, -1.714125633239746], [-0.6911526918411255, -0.8136712312698364, -1.3082077503204346, -2.2553999423980713, -7.868158340454102, -11.970973014831543, -9.851036071777344, -7.310451030731201, -5.757235050201416, -6.608819484710693, -7.5702805519104, -4.610486030578613, -2.688157558441162, -2.276625156402588, -2.854646682739258, -2.088165283203125], [-1.822585105895996, -3.0530991554260254, -2.467802047729492, -0.8800749778747559, -2.8209776878356934, -7.850949287414551, -6.8788161277771, -6.702489376068115, -6.700220584869385, -7.55515193939209, -8.414401054382324, -5.084489345550537, -3.201148509979248, -2.445025682449341, -3.0644354820251465, -2.505934953689575], [-1.7825393676757812, -5.317377090454102, -9.642046928405762, -8.648539543151855, -6.652477264404297, -5.52684211730957, -2.174318790435791, -3.736109495162964, -6.0414204597473145, -7.660882949829102, -8.920465469360352, -7.61021614074707, -4.5249528884887695, -3.1544408798217773, -3.344310760498047, -2.4935667514801025], [-2.9347989559173584, -4.020988941192627, -7.469425201416016, -9.472777366638184, -10.938050270080566, -6.475218772888184, -1.7017966508865356, -2.525435209274292, -3.0779621601104736, -5.036565780639648, -7.295533180236816, -10.005066871643066, -7.076982021331787, -5.29050874710083, -4.215697288513184, -2.4837052822113037], [-3.1702606678009033, -4.960989475250244, -3.40940523147583, -4.342921257019043, -10.415080070495605, -8.614163398742676, -2.5620346069335938, -2.20196533203125, -1.148952841758728, -2.0771806240081787, -5.356968879699707, -8.064797401428223, -7.235419273376465, -5.650676727294922, -4.659702777862549, -2.7308809757232666], [-3.451368808746338, -6.141005516052246, -2.659510374069214, -3.824934244155884, -7.917452335357666, -6.455286979675293, -1.1996915340423584, -1.7749797105789185, -1.0939745903015137, -1.5756866931915283, -4.483911514282227, -6.568572044372559, -6.6161394119262695, -5.6728315353393555, -5.1905012130737305, -2.5820367336273193], [-2.230024814605713, -2.9870285987854004, 0.6430705189704895, -1.3552265167236328, -3.0767247676849365, -3.246203660964966, -1.0995948314666748, -1.4740241765975952, -0.9769517183303833, -1.1852326393127441, -3.4406001567840576, -6.196105480194092, -7.846407890319824, -8.87166976928711, -6.643350601196289, -3.0839407444000244], [-3.1426355838775635, -3.005211353302002, 2.5543301105499268, 2.925522804260254, 2.777614116668701, 1.044703483581543, 0.399573415517807, -0.6664259433746338, -0.8960442543029785, -0.9790987968444824, -1.484933853149414, -3.8331735134124756, -6.971492290496826, -9.558798789978027, -8.014552116394043, -3.116797685623169], [-3.5659663677215576, -5.71796178817749, -4.909787654876709, -4.613893508911133, -3.173928737640381, -1.9242032766342163, -0.6985485553741455, -0.1946798413991928, 0.5349653363227844, 0.9511497616767883, 1.057741403579712, 0.6248994469642639, -2.3615663051605225, -4.621668815612793, -4.662744522094727, -1.8815549612045288], [-1.7179217338562012, -4.092052459716797, -3.572549343109131, -4.802547454833984, -5.182833671569824, -4.16899299621582, -2.442103624343872, -1.7585527896881104, -1.6860460042953491, -1.297611117362976, -0.7448723912239075, 0.5169006586074829, 0.3835833668708801, -1.6678329706192017, -2.5479116439819336, -0.6414332389831543], [0.46266427636146545, -0.04648013412952423, 0.173208549618721, -1.3838183879852295, -2.180776596069336, -2.20688796043396, -1.3601123094558716, -1.1127963066101074, -1.891090750694275, -3.152240753173828, -4.115242958068848, -3.9805455207824707, -3.242912530899048, -3.516941547393799, -4.622613430023193, -2.267071008682251], [-1.1014235019683838, -0.4452604055404663, 1.7779344320297241, 2.448899507522583, 1.2854701280593872, 0.1610720306634903, -0.1907099336385727, -0.027237357571721077, -0.48298943042755127, -1.4855225086212158, -2.6343612670898438, -3.52329683303833, -3.7598917484283447, -3.817586898803711, -3.6426165103912354, -1.5887598991394043], [-2.8653812408447266, -5.232631206512451, -4.656230449676514, -2.7625954151153564, -1.7172502279281616, -0.8932493925094604, -0.5031933188438416, -0.5620656609535217, -0.7454784512519836, -1.1551706790924072, -1.6632859706878662, -2.397826910018921, -3.1000936031341553, -3.6319096088409424, -3.4168715476989746, -2.0154707431793213]]}],\n",
       "                        {\"height\": 500, \"template\": {\"data\": {\"bar\": [{\"error_x\": {\"color\": \"#2a3f5f\"}, \"error_y\": {\"color\": \"#2a3f5f\"}, \"marker\": {\"line\": {\"color\": \"#E5ECF6\", \"width\": 0.5}}, \"type\": \"bar\"}], \"barpolar\": [{\"marker\": {\"line\": {\"color\": \"#E5ECF6\", \"width\": 0.5}}, \"type\": \"barpolar\"}], \"carpet\": [{\"aaxis\": {\"endlinecolor\": \"#2a3f5f\", \"gridcolor\": \"white\", \"linecolor\": \"white\", \"minorgridcolor\": \"white\", \"startlinecolor\": \"#2a3f5f\"}, \"baxis\": {\"endlinecolor\": \"#2a3f5f\", \"gridcolor\": \"white\", \"linecolor\": \"white\", \"minorgridcolor\": \"white\", \"startlinecolor\": \"#2a3f5f\"}, \"type\": \"carpet\"}], \"choropleth\": [{\"colorbar\": {\"outlinewidth\": 0, \"ticks\": \"\"}, \"type\": \"choropleth\"}], \"contour\": [{\"colorbar\": {\"outlinewidth\": 0, \"ticks\": \"\"}, \"colorscale\": [[0.0, \"#0d0887\"], [0.1111111111111111, \"#46039f\"], [0.2222222222222222, \"#7201a8\"], [0.3333333333333333, \"#9c179e\"], [0.4444444444444444, \"#bd3786\"], [0.5555555555555556, \"#d8576b\"], [0.6666666666666666, \"#ed7953\"], [0.7777777777777778, \"#fb9f3a\"], [0.8888888888888888, \"#fdca26\"], [1.0, \"#f0f921\"]], \"type\": \"contour\"}], \"contourcarpet\": [{\"colorbar\": {\"outlinewidth\": 0, \"ticks\": \"\"}, \"type\": \"contourcarpet\"}], \"heatmap\": [{\"colorbar\": {\"outlinewidth\": 0, \"ticks\": \"\"}, \"colorscale\": [[0.0, \"#0d0887\"], [0.1111111111111111, \"#46039f\"], [0.2222222222222222, \"#7201a8\"], [0.3333333333333333, \"#9c179e\"], [0.4444444444444444, \"#bd3786\"], [0.5555555555555556, \"#d8576b\"], [0.6666666666666666, \"#ed7953\"], [0.7777777777777778, \"#fb9f3a\"], [0.8888888888888888, \"#fdca26\"], [1.0, \"#f0f921\"]], \"type\": \"heatmap\"}], \"heatmapgl\": [{\"colorbar\": {\"outlinewidth\": 0, \"ticks\": \"\"}, \"colorscale\": [[0.0, \"#0d0887\"], [0.1111111111111111, \"#46039f\"], [0.2222222222222222, \"#7201a8\"], [0.3333333333333333, \"#9c179e\"], [0.4444444444444444, \"#bd3786\"], [0.5555555555555556, \"#d8576b\"], [0.6666666666666666, \"#ed7953\"], [0.7777777777777778, \"#fb9f3a\"], [0.8888888888888888, \"#fdca26\"], [1.0, \"#f0f921\"]], \"type\": \"heatmapgl\"}], \"histogram\": [{\"marker\": {\"colorbar\": {\"outlinewidth\": 0, \"ticks\": \"\"}}, \"type\": \"histogram\"}], \"histogram2d\": [{\"colorbar\": {\"outlinewidth\": 0, \"ticks\": \"\"}, \"colorscale\": [[0.0, \"#0d0887\"], [0.1111111111111111, \"#46039f\"], [0.2222222222222222, \"#7201a8\"], [0.3333333333333333, \"#9c179e\"], [0.4444444444444444, \"#bd3786\"], [0.5555555555555556, \"#d8576b\"], [0.6666666666666666, \"#ed7953\"], [0.7777777777777778, \"#fb9f3a\"], [0.8888888888888888, \"#fdca26\"], [1.0, \"#f0f921\"]], \"type\": \"histogram2d\"}], \"histogram2dcontour\": [{\"colorbar\": {\"outlinewidth\": 0, \"ticks\": \"\"}, \"colorscale\": [[0.0, \"#0d0887\"], [0.1111111111111111, \"#46039f\"], [0.2222222222222222, \"#7201a8\"], [0.3333333333333333, \"#9c179e\"], [0.4444444444444444, \"#bd3786\"], [0.5555555555555556, \"#d8576b\"], [0.6666666666666666, \"#ed7953\"], [0.7777777777777778, \"#fb9f3a\"], [0.8888888888888888, \"#fdca26\"], [1.0, \"#f0f921\"]], \"type\": \"histogram2dcontour\"}], \"mesh3d\": [{\"colorbar\": {\"outlinewidth\": 0, \"ticks\": \"\"}, \"type\": \"mesh3d\"}], \"parcoords\": [{\"line\": {\"colorbar\": {\"outlinewidth\": 0, \"ticks\": \"\"}}, \"type\": \"parcoords\"}], \"pie\": [{\"automargin\": true, \"type\": \"pie\"}], \"scatter\": [{\"marker\": {\"colorbar\": {\"outlinewidth\": 0, \"ticks\": \"\"}}, \"type\": \"scatter\"}], \"scatter3d\": [{\"line\": {\"colorbar\": {\"outlinewidth\": 0, \"ticks\": \"\"}}, \"marker\": {\"colorbar\": {\"outlinewidth\": 0, \"ticks\": \"\"}}, \"type\": \"scatter3d\"}], \"scattercarpet\": [{\"marker\": {\"colorbar\": {\"outlinewidth\": 0, \"ticks\": \"\"}}, \"type\": \"scattercarpet\"}], \"scattergeo\": [{\"marker\": {\"colorbar\": {\"outlinewidth\": 0, \"ticks\": \"\"}}, \"type\": \"scattergeo\"}], \"scattergl\": [{\"marker\": {\"colorbar\": {\"outlinewidth\": 0, \"ticks\": \"\"}}, \"type\": \"scattergl\"}], \"scattermapbox\": [{\"marker\": {\"colorbar\": {\"outlinewidth\": 0, \"ticks\": \"\"}}, \"type\": \"scattermapbox\"}], \"scatterpolar\": [{\"marker\": {\"colorbar\": {\"outlinewidth\": 0, \"ticks\": \"\"}}, \"type\": \"scatterpolar\"}], \"scatterpolargl\": [{\"marker\": {\"colorbar\": {\"outlinewidth\": 0, \"ticks\": \"\"}}, \"type\": \"scatterpolargl\"}], \"scatterternary\": [{\"marker\": {\"colorbar\": {\"outlinewidth\": 0, \"ticks\": \"\"}}, \"type\": \"scatterternary\"}], \"surface\": [{\"colorbar\": {\"outlinewidth\": 0, \"ticks\": \"\"}, \"colorscale\": [[0.0, \"#0d0887\"], [0.1111111111111111, \"#46039f\"], [0.2222222222222222, \"#7201a8\"], [0.3333333333333333, \"#9c179e\"], [0.4444444444444444, \"#bd3786\"], [0.5555555555555556, \"#d8576b\"], [0.6666666666666666, \"#ed7953\"], [0.7777777777777778, \"#fb9f3a\"], [0.8888888888888888, \"#fdca26\"], [1.0, \"#f0f921\"]], \"type\": \"surface\"}], \"table\": [{\"cells\": {\"fill\": {\"color\": \"#EBF0F8\"}, \"line\": {\"color\": \"white\"}}, \"header\": {\"fill\": {\"color\": \"#C8D4E3\"}, \"line\": {\"color\": \"white\"}}, \"type\": \"table\"}]}, \"layout\": {\"annotationdefaults\": {\"arrowcolor\": \"#2a3f5f\", \"arrowhead\": 0, \"arrowwidth\": 1}, \"coloraxis\": {\"colorbar\": {\"outlinewidth\": 0, \"ticks\": \"\"}}, \"colorscale\": {\"diverging\": [[0, \"#8e0152\"], [0.1, \"#c51b7d\"], [0.2, \"#de77ae\"], [0.3, \"#f1b6da\"], [0.4, \"#fde0ef\"], [0.5, \"#f7f7f7\"], [0.6, \"#e6f5d0\"], [0.7, \"#b8e186\"], [0.8, \"#7fbc41\"], [0.9, \"#4d9221\"], [1, \"#276419\"]], \"sequential\": [[0.0, \"#0d0887\"], [0.1111111111111111, \"#46039f\"], [0.2222222222222222, \"#7201a8\"], [0.3333333333333333, \"#9c179e\"], [0.4444444444444444, \"#bd3786\"], [0.5555555555555556, \"#d8576b\"], [0.6666666666666666, \"#ed7953\"], [0.7777777777777778, \"#fb9f3a\"], [0.8888888888888888, \"#fdca26\"], [1.0, \"#f0f921\"]], \"sequentialminus\": [[0.0, \"#0d0887\"], [0.1111111111111111, \"#46039f\"], [0.2222222222222222, \"#7201a8\"], [0.3333333333333333, \"#9c179e\"], [0.4444444444444444, \"#bd3786\"], [0.5555555555555556, \"#d8576b\"], [0.6666666666666666, \"#ed7953\"], [0.7777777777777778, \"#fb9f3a\"], [0.8888888888888888, \"#fdca26\"], [1.0, \"#f0f921\"]]}, \"colorway\": [\"#636efa\", \"#EF553B\", \"#00cc96\", \"#ab63fa\", \"#FFA15A\", \"#19d3f3\", \"#FF6692\", \"#B6E880\", \"#FF97FF\", \"#FECB52\"], \"font\": {\"color\": \"#2a3f5f\"}, \"geo\": {\"bgcolor\": \"white\", \"lakecolor\": \"white\", \"landcolor\": \"#E5ECF6\", \"showlakes\": true, \"showland\": true, \"subunitcolor\": \"white\"}, \"hoverlabel\": {\"align\": \"left\"}, \"hovermode\": \"closest\", \"mapbox\": {\"style\": \"light\"}, \"paper_bgcolor\": \"white\", \"plot_bgcolor\": \"#E5ECF6\", \"polar\": {\"angularaxis\": {\"gridcolor\": \"white\", \"linecolor\": \"white\", \"ticks\": \"\"}, \"bgcolor\": \"#E5ECF6\", \"radialaxis\": {\"gridcolor\": \"white\", \"linecolor\": \"white\", \"ticks\": \"\"}}, \"scene\": {\"xaxis\": {\"backgroundcolor\": \"#E5ECF6\", \"gridcolor\": \"white\", \"gridwidth\": 2, \"linecolor\": \"white\", \"showbackground\": true, \"ticks\": \"\", \"zerolinecolor\": \"white\"}, \"yaxis\": {\"backgroundcolor\": \"#E5ECF6\", \"gridcolor\": \"white\", \"gridwidth\": 2, \"linecolor\": \"white\", \"showbackground\": true, \"ticks\": \"\", \"zerolinecolor\": \"white\"}, \"zaxis\": {\"backgroundcolor\": \"#E5ECF6\", \"gridcolor\": \"white\", \"gridwidth\": 2, \"linecolor\": \"white\", \"showbackground\": true, \"ticks\": \"\", \"zerolinecolor\": \"white\"}}, \"shapedefaults\": {\"line\": {\"color\": \"#2a3f5f\"}}, \"ternary\": {\"aaxis\": {\"gridcolor\": \"white\", \"linecolor\": \"white\", \"ticks\": \"\"}, \"baxis\": {\"gridcolor\": \"white\", \"linecolor\": \"white\", \"ticks\": \"\"}, \"bgcolor\": \"#E5ECF6\", \"caxis\": {\"gridcolor\": \"white\", \"linecolor\": \"white\", \"ticks\": \"\"}}, \"title\": {\"x\": 0.05}, \"xaxis\": {\"automargin\": true, \"gridcolor\": \"white\", \"linecolor\": \"white\", \"ticks\": \"\", \"title\": {\"standoff\": 15}, \"zerolinecolor\": \"white\", \"zerolinewidth\": 2}, \"yaxis\": {\"automargin\": true, \"gridcolor\": \"white\", \"linecolor\": \"white\", \"ticks\": \"\", \"title\": {\"standoff\": 15}, \"zerolinecolor\": \"white\", \"zerolinewidth\": 2}}}, \"width\": 500},\n",
       "                        {\"responsive\": true}\n",
       "                    ).then(function(){\n",
       "                            \n",
       "var gd = document.getElementById('909b5a72-aa39-4392-b47a-c5333d4e4bc3');\n",
       "var x = new MutationObserver(function (mutations, observer) {{\n",
       "        var display = window.getComputedStyle(gd).display;\n",
       "        if (!display || display === 'none') {{\n",
       "            console.log([gd, 'removed!']);\n",
       "            Plotly.purge(gd);\n",
       "            observer.disconnect();\n",
       "        }}\n",
       "}});\n",
       "\n",
       "// Listen for the removal of the full notebook cells\n",
       "var notebookContainer = gd.closest('#notebook-container');\n",
       "if (notebookContainer) {{\n",
       "    x.observe(notebookContainer, {childList: true});\n",
       "}}\n",
       "\n",
       "// Listen for the clearing of the current output cell\n",
       "var outputEl = gd.closest('.output');\n",
       "if (outputEl) {{\n",
       "    x.observe(outputEl, {childList: true});\n",
       "}}\n",
       "\n",
       "                        })\n",
       "                };\n",
       "                });\n",
       "            </script>\n",
       "        </div>"
      ]
     },
     "metadata": {},
     "output_type": "display_data"
    }
   ],
   "source": [
    "#image to numpy array\n",
    "from PIL import Image\n",
    "import numpy\n",
    "im = Image.open(\"edge_images/0164.png\").convert('LA')\n",
    "np_im = numpy.array(im)\n",
    "np_im = np_im[:,:,0]\n",
    "np_im = np.flip(np_im,0)\n",
    "\n",
    "#numpy array to plotly heatmap\n",
    "fig = go.Figure(data=go.Heatmap(\n",
    "                    z = activations['airplane']['0001.png'][3][0]),\n",
    "                    #z=np_im),\n",
    "                layout=dict(\n",
    "                    height=300,\n",
    "                    width=300))\n",
    "\n",
    "\n",
    "#fig['layout'].update(scene=dict(aspectmode=\"data\"))\n",
    "fig.show()\n",
    "#im.show()"
   ]
  },
  {
   "cell_type": "code",
   "execution_count": 253,
   "metadata": {},
   "outputs": [],
   "source": [
    "#image to numpy array\n",
    "from PIL import Image\n",
    "import numpy\n",
    "im = Image.open(\"input_images_testing/airplane_0002.png\")\n",
    "im = im.resize((320,320),resample=Image.NEAREST)\n",
    "im.show()\n",
    "\n",
    "\n",
    "# np_im = numpy.array(im)\n",
    "# np_im.shape\n",
    "\n",
    "\n",
    "# new_im = Image.fromarray(np_im)\n",
    "# new_im.save(\"numpy_altered_sample2.png\")\n"
   ]
  },
  {
   "cell_type": "code",
   "execution_count": 195,
   "metadata": {
    "scrolled": true
   },
   "outputs": [
    {
     "data": {
      "application/vnd.plotly.v1+json": {
       "config": {
        "plotlyServerURL": "https://plot.ly"
       },
       "data": [
        {
         "hoverinfo": "text",
         "line": {
          "color": "rgba(255,0,0,0.4623605445561957)",
          "width": 0.6090716866174852
         },
         "mode": "lines",
         "text": "0.14370623230934146",
         "type": "scatter",
         "x": [
          1,
          2,
          3
         ],
         "y": [
          0,
          0,
          0
         ]
        },
        {
         "hoverinfo": "text",
         "line": {
          "color": "rgba(255,0,0,0.4)",
          "width": 0.5
         },
         "mode": "lines",
         "text": "0.11236831545829773",
         "type": "scatter",
         "x": [
          1,
          2,
          3
         ],
         "y": [
          0.1,
          0.1,
          0.1
         ]
        },
        {
         "hoverinfo": "text",
         "line": {
          "color": "rgba(255,0,0,0.4)",
          "width": 0.5
         },
         "mode": "lines",
         "text": "0.10513708740472794",
         "type": "scatter",
         "x": [
          1,
          2,
          3
         ],
         "y": [
          0.2,
          0.2,
          0.2
         ]
        },
        {
         "hoverinfo": "text",
         "line": {
          "color": "rgba(255,0,0,0.4)",
          "width": 0.5
         },
         "mode": "lines",
         "text": "0.11725154519081114",
         "type": "scatter",
         "x": [
          1,
          2,
          3
         ],
         "y": [
          0.30000000000000004,
          0.30000000000000004,
          0.30000000000000004
         ]
        },
        {
         "hoverinfo": "text",
         "line": {
          "color": "rgba(255,0,0,0.4096555299770246)",
          "width": 0.5
         },
         "mode": "lines",
         "text": "0.12345064431428908",
         "type": "scatter",
         "x": [
          1,
          2,
          3
         ],
         "y": [
          0.4,
          0.4,
          0.4
         ]
        },
        {
         "hoverinfo": "text",
         "line": {
          "color": "rgba(255,0,0,0.4)",
          "width": 0.5
         },
         "mode": "lines",
         "text": "0.10219395905733107",
         "type": "scatter",
         "x": [
          1,
          2,
          3
         ],
         "y": [
          0.5,
          0.5,
          0.5
         ]
        },
        {
         "hoverinfo": "text",
         "line": {
          "color": "rgba(255,0,0,0.4)",
          "width": 0.5
         },
         "mode": "lines",
         "text": "0.10290113836526872",
         "type": "scatter",
         "x": [
          1,
          2,
          3
         ],
         "y": [
          0.6000000000000001,
          0.6000000000000001,
          0.6000000000000001
         ]
        },
        {
         "hoverinfo": "text",
         "line": {
          "color": "rgba(255,0,0,0.4)",
          "width": 0.5
         },
         "mode": "lines",
         "text": "0.10136543959379196",
         "type": "scatter",
         "x": [
          1,
          2,
          3
         ],
         "y": [
          0.7000000000000001,
          0.7000000000000001,
          0.7000000000000001
         ]
        },
        {
         "hoverinfo": "text",
         "line": {
          "color": "rgba(255,0,0,0.7336881051527547)",
          "width": 1.6709962263498523
         },
         "mode": "lines",
         "text": "0.28163090348243713",
         "type": "scatter",
         "x": [
          1,
          2,
          3
         ],
         "y": [
          0.8,
          0.8,
          0.8
         ]
        },
        {
         "hoverinfo": "text",
         "line": {
          "color": "rgba(255,0,0,0.4)",
          "width": 0.5
         },
         "mode": "lines",
         "text": "0.1134723499417305",
         "type": "scatter",
         "x": [
          1,
          2,
          3
         ],
         "y": [
          0.9,
          0.9,
          0.9
         ]
        },
        {
         "hoverinfo": "text",
         "line": {
          "color": "rgba(255,0,0,0.4)",
          "width": 0.5
         },
         "mode": "lines",
         "text": "0.11417932808399199",
         "type": "scatter",
         "x": [
          1,
          2,
          3
         ],
         "y": [
          1,
          1,
          1
         ]
        },
        {
         "hoverinfo": "text",
         "line": {
          "color": "rgba(255,0,0,0.46116644156583575)",
          "width": 0.6060539811754182
         },
         "mode": "lines",
         "text": "0.14323116838932035",
         "type": "scatter",
         "x": [
          1,
          2,
          3
         ],
         "y": [
          1.1,
          1.1,
          1.1
         ]
        },
        {
         "hoverinfo": "text",
         "line": {
          "color": "rgba(255,0,0,0.4323702048351241)",
          "width": 0.5362282957639818
         },
         "mode": "lines",
         "text": "0.13200685381889346",
         "type": "scatter",
         "x": [
          1,
          2,
          3
         ],
         "y": [
          1.2000000000000002,
          1.2000000000000002,
          1.2000000000000002
         ]
        },
        {
         "hoverinfo": "text",
         "line": {
          "color": "rgba(255,0,0,0.9018181883188451)",
          "width": 3.265712919350811
         },
         "mode": "lines",
         "text": "0.4402323961257935",
         "type": "scatter",
         "x": [
          1,
          2,
          3
         ],
         "y": [
          1.3,
          1.3,
          1.3
         ]
        },
        {
         "hoverinfo": "text",
         "line": {
          "color": "rgba(255,0,0,0.4)",
          "width": 0.5
         },
         "mode": "lines",
         "text": "0.10349536687135696",
         "type": "scatter",
         "x": [
          1,
          2,
          3
         ],
         "y": [
          1.4000000000000001,
          1.4000000000000001,
          1.4000000000000001
         ]
        },
        {
         "hoverinfo": "text",
         "line": {
          "color": "rgba(255,0,0,0.4216810935497912)",
          "width": 0.5116944738584811
         },
         "mode": "lines",
         "text": "0.1279490739107132",
         "type": "scatter",
         "x": [
          1,
          2,
          3
         ],
         "y": [
          1.5,
          1.5,
          1.5
         ]
        },
        {
         "hoverinfo": "text",
         "line": {
          "color": "rgba(255,0,0,0.4619841864207602)",
          "width": 0.6081194829794102
         },
         "mode": "lines",
         "text": "0.1435564160346985",
         "type": "scatter",
         "x": [
          1,
          2,
          3
         ],
         "y": [
          1.6,
          1.6,
          1.6
         ]
        },
        {
         "hoverinfo": "text",
         "line": {
          "color": "rgba(255,0,0,0.5431342071744814)",
          "width": 0.8386154460176213
         },
         "mode": "lines",
         "text": "0.1778573840856552",
         "type": "scatter",
         "x": [
          1,
          2,
          3
         ],
         "y": [
          1.7000000000000002,
          1.7000000000000002,
          1.7000000000000002
         ]
        },
        {
         "hoverinfo": "text",
         "line": {
          "color": "rgba(255,0,0,0.6553237908813248)",
          "width": 1.263773566715884
         },
         "mode": "lines",
         "text": "0.2337811589241028",
         "type": "scatter",
         "x": [
          1,
          2,
          3
         ],
         "y": [
          1.8,
          1.8,
          1.8
         ]
        },
        {
         "hoverinfo": "text",
         "line": {
          "color": "rgba(255,0,0,0.6416545778855283)",
          "width": 1.2035582867379624
         },
         "mode": "lines",
         "text": "0.2262948900461197",
         "type": "scatter",
         "x": [
          1,
          2,
          3
         ],
         "y": [
          1.9000000000000001,
          1.9000000000000001,
          1.9000000000000001
         ]
        },
        {
         "hoverinfo": "text",
         "line": {
          "color": "rgba(255,0,0,0.4214449957592934)",
          "width": 0.5111607345095733
         },
         "mode": "lines",
         "text": "0.12786008417606354",
         "type": "scatter",
         "x": [
          1,
          2,
          3
         ],
         "y": [
          2,
          2,
          2
         ]
        },
        {
         "hoverinfo": "text",
         "line": {
          "color": "rgba(255,0,0,0.45843361557725604)",
          "width": 0.5991852268747336
         },
         "mode": "lines",
         "text": "0.14214690029621124",
         "type": "scatter",
         "x": [
          1,
          2,
          3
         ],
         "y": [
          2.1,
          2.1,
          2.1
         ]
        },
        {
         "hoverinfo": "text",
         "line": {
          "color": "rgba(255,0,0,0.44398192967861094)",
          "width": 0.5637157646418933
         },
         "mode": "lines",
         "text": "0.13648034632205966",
         "type": "scatter",
         "x": [
          1,
          2,
          3
         ],
         "y": [
          2.2,
          2.2,
          2.2
         ]
        },
        {
         "hoverinfo": "text",
         "line": {
          "color": "rgba(255,0,0,0.4)",
          "width": 0.5
         },
         "mode": "lines",
         "text": "0.10066123306751253",
         "type": "scatter",
         "x": [
          1,
          2,
          3
         ],
         "y": [
          2.3000000000000003,
          2.3000000000000003,
          2.3000000000000003
         ]
        },
        {
         "hoverinfo": "text",
         "line": {
          "color": "rgba(255,0,0,0.4)",
          "width": 0.5
         },
         "mode": "lines",
         "text": "0.11222603172063828",
         "type": "scatter",
         "x": [
          1,
          2,
          3
         ],
         "y": [
          2.4000000000000004,
          2.4000000000000004,
          2.4000000000000004
         ]
        },
        {
         "hoverinfo": "text",
         "line": {
          "color": "rgba(255,0,0,0.4)",
          "width": 0.5
         },
         "mode": "lines",
         "text": "0.10613570362329484",
         "type": "scatter",
         "x": [
          1,
          2,
          3
         ],
         "y": [
          2.5,
          2.5,
          2.5
         ]
        },
        {
         "hoverinfo": "text",
         "line": {
          "color": "rgba(255,0,0,0.6939919518110509)",
          "width": 1.450185900748161
         },
         "mode": "lines",
         "text": "0.2562393248081207",
         "type": "scatter",
         "x": [
          1,
          2,
          3
         ],
         "y": [
          2.6,
          2.6,
          2.6
         ]
        },
        {
         "hoverinfo": "text",
         "line": {
          "color": "rgba(255,0,0,0.47204185307207225)",
          "width": 0.6339117679088435
         },
         "mode": "lines",
         "text": "0.1475873738527298",
         "type": "scatter",
         "x": [
          1,
          2,
          3
         ],
         "y": [
          2.7,
          2.7,
          2.7
         ]
        },
        {
         "hoverinfo": "text",
         "line": {
          "color": "rgba(255,0,0,0.4)",
          "width": 0.5
         },
         "mode": "lines",
         "text": "0.10142996907234192",
         "type": "scatter",
         "x": [
          1,
          2,
          3
         ],
         "y": [
          2.8000000000000003,
          2.8000000000000003,
          2.8000000000000003
         ]
        },
        {
         "hoverinfo": "text",
         "line": {
          "color": "rgba(255,0,0,0.4)",
          "width": 0.5
         },
         "mode": "lines",
         "text": "0.10236532986164093",
         "type": "scatter",
         "x": [
          1,
          2,
          3
         ],
         "y": [
          2.9000000000000004,
          2.9000000000000004,
          2.9000000000000004
         ]
        },
        {
         "hoverinfo": "text",
         "line": {
          "color": "rgba(255,0,0,0.4886096646975906)",
          "width": 0.6780093781091473
         },
         "mode": "lines",
         "text": "0.15435491502285004",
         "type": "scatter",
         "x": [
          1,
          2,
          3
         ],
         "y": [
          3,
          3,
          3
         ]
        },
        {
         "hoverinfo": "text",
         "line": {
          "color": "rgba(255,0,0,0.4)",
          "width": 0.5
         },
         "mode": "lines",
         "text": "0.11042369157075882",
         "type": "scatter",
         "x": [
          1,
          2,
          3
         ],
         "y": [
          3.1,
          3.1,
          3.1
         ]
        },
        {
         "hoverinfo": "text",
         "line": {
          "color": "rgba(255,0,0,0.7640357135392031)",
          "width": 1.865057065440455
         },
         "mode": "lines",
         "text": "0.3030340373516083",
         "type": "scatter",
         "x": [
          1,
          2,
          3
         ],
         "y": [
          3.2,
          3.2,
          3.2
         ]
        },
        {
         "hoverinfo": "text",
         "line": {
          "color": "rgba(255,0,0,0.4)",
          "width": 0.5
         },
         "mode": "lines",
         "text": "0.10074274986982346",
         "type": "scatter",
         "x": [
          1,
          2,
          3
         ],
         "y": [
          3.3000000000000003,
          3.3000000000000003,
          3.3000000000000003
         ]
        },
        {
         "hoverinfo": "text",
         "line": {
          "color": "rgba(255,0,0,0.6001277029843686)",
          "width": 1.0361601422601463
         },
         "mode": "lines",
         "text": "0.20479275286197665",
         "type": "scatter",
         "x": [
          1,
          2,
          3
         ],
         "y": [
          3.4000000000000004,
          3.4000000000000004,
          3.4000000000000004
         ]
        },
        {
         "hoverinfo": "text",
         "line": {
          "color": "rgba(255,0,0,0.5556473345809327)",
          "width": 0.8791659976229097
         },
         "mode": "lines",
         "text": "0.1835455745458603",
         "type": "scatter",
         "x": [
          1,
          2,
          3
         ],
         "y": [
          3.5,
          3.5,
          3.5
         ]
        },
        {
         "hoverinfo": "text",
         "line": {
          "color": "rgba(255,0,0,0.4)",
          "width": 0.5
         },
         "mode": "lines",
         "text": "0.10549190640449524",
         "type": "scatter",
         "x": [
          1,
          2,
          3
         ],
         "y": [
          3.6,
          3.6,
          3.6
         ]
        },
        {
         "hoverinfo": "text",
         "line": {
          "color": "rgba(255,0,0,0.582950964284509)",
          "width": 0.9730276339158025
         },
         "mode": "lines",
         "text": "0.19638732075691226",
         "type": "scatter",
         "x": [
          1,
          2,
          3
         ],
         "y": [
          3.7,
          3.7,
          3.7
         ]
        },
        {
         "hoverinfo": "text",
         "line": {
          "color": "rgba(255,0,0,0.4)",
          "width": 0.5
         },
         "mode": "lines",
         "text": "0.11786869913339615",
         "type": "scatter",
         "x": [
          1,
          2,
          3
         ],
         "y": [
          3.8000000000000003,
          3.8000000000000003,
          3.8000000000000003
         ]
        },
        {
         "hoverinfo": "text",
         "line": {
          "color": "rgba(255,0,0,0.4)",
          "width": 0.5
         },
         "mode": "lines",
         "text": "0.10382822155952454",
         "type": "scatter",
         "x": [
          1,
          2,
          3
         ],
         "y": [
          3.9000000000000004,
          3.9000000000000004,
          3.9000000000000004
         ]
        },
        {
         "hoverinfo": "text",
         "line": {
          "color": "rgba(255,0,0,0.5606589100368844)",
          "width": 0.8958286553915371
         },
         "mode": "lines",
         "text": "0.18585744500160215",
         "type": "scatter",
         "x": [
          1,
          2,
          3
         ],
         "y": [
          4,
          4,
          4
         ]
        },
        {
         "hoverinfo": "text",
         "line": {
          "color": "rgba(255,0,0,0.528938475573826)",
          "width": 0.7943622371429586
         },
         "mode": "lines",
         "text": "0.17154407501220706",
         "type": "scatter",
         "x": [
          1,
          2,
          3
         ],
         "y": [
          4.1000000000000005,
          4.1000000000000005,
          4.1000000000000005
         ]
        },
        {
         "hoverinfo": "text",
         "line": {
          "color": "rgba(255,0,0,0.4)",
          "width": 0.5
         },
         "mode": "lines",
         "text": "0.11396177858114245",
         "type": "scatter",
         "x": [
          1,
          2,
          3
         ],
         "y": [
          4.2,
          4.2,
          4.2
         ]
        },
        {
         "hoverinfo": "text",
         "line": {
          "color": "rgba(255,0,0,0.4)",
          "width": 0.5
         },
         "mode": "lines",
         "text": "0.11859458684921265",
         "type": "scatter",
         "x": [
          1,
          2,
          3
         ],
         "y": [
          4.3,
          4.3,
          4.3
         ]
        },
        {
         "hoverinfo": "text",
         "line": {
          "color": "rgba(255,0,0,0.44947388503035013)",
          "width": 0.5770277088234211
         },
         "mode": "lines",
         "text": "0.13862060010433194",
         "type": "scatter",
         "x": [
          1,
          2,
          3
         ],
         "y": [
          4.4,
          4.4,
          4.4
         ]
        },
        {
         "hoverinfo": "text",
         "line": {
          "color": "rgba(255,0,0,0.5018214549386906)",
          "width": 0.7146729521942479
         },
         "mode": "lines",
         "text": "0.1598704606294632",
         "type": "scatter",
         "x": [
          1,
          2,
          3
         ],
         "y": [
          4.5,
          4.5,
          4.5
         ]
        },
        {
         "hoverinfo": "text",
         "line": {
          "color": "rgba(255,0,0,0.4557545030581375)",
          "width": 0.5925019041705807
         },
         "mode": "lines",
         "text": "0.14108791947364807",
         "type": "scatter",
         "x": [
          1,
          2,
          3
         ],
         "y": [
          4.6000000000000005,
          4.6000000000000005,
          4.6000000000000005
         ]
        },
        {
         "hoverinfo": "text",
         "line": {
          "color": "rgba(255,0,0,0.4)",
          "width": 0.5
         },
         "mode": "lines",
         "text": "0.1163221076130867",
         "type": "scatter",
         "x": [
          1,
          2,
          3
         ],
         "y": [
          4.7,
          4.7,
          4.7
         ]
        },
        {
         "hoverinfo": "text",
         "line": {
          "color": "rgba(255,0,0,0.4404951390523981)",
          "width": 0.5553686920661048
         },
         "mode": "lines",
         "text": "0.13512973487377167",
         "type": "scatter",
         "x": [
          1,
          2,
          3
         ],
         "y": [
          4.800000000000001,
          4.800000000000001,
          4.800000000000001
         ]
        },
        {
         "hoverinfo": "text",
         "line": {
          "color": "rgba(255,0,0,0.4)",
          "width": 0.5
         },
         "mode": "lines",
         "text": "0.11276588588953018",
         "type": "scatter",
         "x": [
          1,
          2,
          3
         ],
         "y": [
          4.9,
          4.9,
          4.9
         ]
        },
        {
         "hoverinfo": "text",
         "line": {
          "color": "rgba(255,0,0,0.4)",
          "width": 0.5
         },
         "mode": "lines",
         "text": "0.1110248789191246",
         "type": "scatter",
         "x": [
          1,
          2,
          3
         ],
         "y": [
          5,
          5,
          5
         ]
        },
        {
         "hoverinfo": "text",
         "line": {
          "color": "rgba(255,0,0,0.4)",
          "width": 0.5
         },
         "mode": "lines",
         "text": "0.11503873020410538",
         "type": "scatter",
         "x": [
          1,
          2,
          3
         ],
         "y": [
          5.1000000000000005,
          5.1000000000000005,
          5.1000000000000005
         ]
        },
        {
         "hoverinfo": "text",
         "line": {
          "color": "rgba(255,0,0,0.5801456027452053)",
          "width": 0.9630264334351964
         },
         "mode": "lines",
         "text": "0.195039302110672",
         "type": "scatter",
         "x": [
          1,
          2,
          3
         ],
         "y": [
          5.2,
          5.2,
          5.2
         ]
        },
        {
         "hoverinfo": "text",
         "line": {
          "color": "rgba(255,0,0,0.4624419368069259)",
          "width": 0.6092777438801225
         },
         "mode": "lines",
         "text": "0.14373864233493805",
         "type": "scatter",
         "x": [
          1,
          2,
          3
         ],
         "y": [
          5.300000000000001,
          5.300000000000001,
          5.300000000000001
         ]
        },
        {
         "hoverinfo": "text",
         "line": {
          "color": "rgba(255,0,0,0.4495345291464339)",
          "width": 0.5771758384434041
         },
         "mode": "lines",
         "text": "0.13864432275295258",
         "type": "scatter",
         "x": [
          1,
          2,
          3
         ],
         "y": [
          5.4,
          5.4,
          5.4
         ]
        },
        {
         "hoverinfo": "text",
         "line": {
          "color": "rgba(255,0,0,0.411294403003049)",
          "width": 0.5
         },
         "mode": "lines",
         "text": "0.12405963242053986",
         "type": "scatter",
         "x": [
          1,
          2,
          3
         ],
         "y": [
          5.5,
          5.5,
          5.5
         ]
        },
        {
         "hoverinfo": "text",
         "line": {
          "color": "rgba(255,0,0,0.4809066910866461)",
          "width": 0.657252547454112
         },
         "mode": "lines",
         "text": "0.15118829905986786",
         "type": "scatter",
         "x": [
          1,
          2,
          3
         ],
         "y": [
          5.6000000000000005,
          5.6000000000000005,
          5.6000000000000005
         ]
        },
        {
         "hoverinfo": "text",
         "line": {
          "color": "rgba(255,0,0,0.45371775809636994)",
          "width": 0.5874541920844936
         },
         "mode": "lines",
         "text": "0.140285462141037",
         "type": "scatter",
         "x": [
          1,
          2,
          3
         ],
         "y": [
          5.7,
          5.7,
          5.7
         ]
        },
        {
         "hoverinfo": "text",
         "line": {
          "color": "rgba(255,0,0,0.7508141830769461)",
          "width": 1.7774597301589066
         },
         "mode": "lines",
         "text": "0.29346963763237",
         "type": "scatter",
         "x": [
          1,
          2,
          3
         ],
         "y": [
          5.800000000000001,
          5.800000000000001,
          5.800000000000001
         ]
        },
        {
         "hoverinfo": "text",
         "line": {
          "color": "rgba(255,0,0,0.4289045626351461)",
          "width": 0.5281941998150642
         },
         "mode": "lines",
         "text": "0.1306850016117096",
         "type": "scatter",
         "x": [
          1,
          2,
          3
         ],
         "y": [
          5.9,
          5.9,
          5.9
         ]
        },
        {
         "hoverinfo": "text",
         "line": {
          "color": "rgba(255,0,0,0.5690199058545501)",
          "width": 0.9241830992920974
         },
         "mode": "lines",
         "text": "0.18975883722305295",
         "type": "scatter",
         "x": [
          1,
          2,
          3
         ],
         "y": [
          6,
          6,
          6
         ]
        },
        {
         "hoverinfo": "text",
         "line": {
          "color": "rgba(255,0,0,0.4)",
          "width": 0.5
         },
         "mode": "lines",
         "text": "0.1023336425423622",
         "type": "scatter",
         "x": [
          1,
          2,
          3
         ],
         "y": [
          6.1000000000000005,
          6.1000000000000005,
          6.1000000000000005
         ]
        },
        {
         "hoverinfo": "text",
         "line": {
          "color": "rgba(255,0,0,0.4)",
          "width": 0.5
         },
         "mode": "lines",
         "text": "0.10919872671365738",
         "type": "scatter",
         "x": [
          1,
          2,
          3
         ],
         "y": [
          6.2,
          6.2,
          6.2
         ]
        },
        {
         "hoverinfo": "text",
         "line": {
          "color": "rgba(255,0,0,0.4882202680404959)",
          "width": 0.6769493017960774
         },
         "mode": "lines",
         "text": "0.15419398248195648",
         "type": "scatter",
         "x": [
          1,
          2,
          3
         ],
         "y": [
          6.300000000000001,
          6.300000000000001,
          6.300000000000001
         ]
        },
        {
         "hoverinfo": "text",
         "line": {
          "color": "rgba(255,0,0,0.4762707391526988)",
          "width": 0.6449742136975131
         },
         "mode": "lines",
         "text": "0.14929945766925812",
         "type": "scatter",
         "x": [
          1,
          2,
          3
         ],
         "y": [
          6.4,
          6.4,
          6.4
         ]
        },
        {
         "hoverinfo": "text",
         "line": {
          "color": "rgba(255,0,0,0.4)",
          "width": 0.5
         },
         "mode": "lines",
         "text": "0.11705926060676575",
         "type": "scatter",
         "x": [
          1,
          2,
          3
         ],
         "y": [
          6.5,
          6.5,
          6.5
         ]
        },
        {
         "hoverinfo": "text",
         "line": {
          "color": "rgba(255,0,0,0.4)",
          "width": 0.5
         },
         "mode": "lines",
         "text": "0.11124771833419801",
         "type": "scatter",
         "x": [
          1,
          2,
          3
         ],
         "y": [
          6.6000000000000005,
          6.6000000000000005,
          6.6000000000000005
         ]
        },
        {
         "hoverinfo": "text",
         "line": {
          "color": "rgba(255,0,0,0.4)",
          "width": 0.5
         },
         "mode": "lines",
         "text": "0.1067403331398964",
         "type": "scatter",
         "x": [
          1,
          2,
          3
         ],
         "y": [
          6.7,
          6.7,
          6.7
         ]
        },
        {
         "hoverinfo": "text",
         "line": {
          "color": "rgba(255,0,0,0.4191208503187006)",
          "width": 0.5059251973045361
         },
         "mode": "lines",
         "text": "0.12698552012443542",
         "type": "scatter",
         "x": [
          1,
          2,
          3
         ],
         "y": [
          6.800000000000001,
          6.800000000000001,
          6.800000000000001
         ]
        },
        {
         "hoverinfo": "text",
         "line": {
          "color": "rgba(255,0,0,0.4)",
          "width": 0.5
         },
         "mode": "lines",
         "text": "0.1009724736213684",
         "type": "scatter",
         "x": [
          1,
          2,
          3
         ],
         "y": [
          6.9,
          6.9,
          6.9
         ]
        },
        {
         "hoverinfo": "text",
         "line": {
          "color": "rgba(255,0,0,0.4)",
          "width": 0.5
         },
         "mode": "lines",
         "text": "0.10716696083545683",
         "type": "scatter",
         "x": [
          1,
          2,
          3
         ],
         "y": [
          7,
          7,
          7
         ]
        },
        {
         "hoverinfo": "text",
         "line": {
          "color": "rgba(255,0,0,0.45840603323470963)",
          "width": 0.599116166217542
         },
         "mode": "lines",
         "text": "0.14213597774505615",
         "type": "scatter",
         "x": [
          1,
          2,
          3
         ],
         "y": [
          7.1000000000000005,
          7.1000000000000005,
          7.1000000000000005
         ]
        },
        {
         "hoverinfo": "text",
         "line": {
          "color": "rgba(255,0,0,0.4906577917179863)",
          "width": 0.6836042200133351
         },
         "mode": "lines",
         "text": "0.15520289540290833",
         "type": "scatter",
         "x": [
          1,
          2,
          3
         ],
         "y": [
          7.2,
          7.2,
          7.2
         ]
        },
        {
         "hoverinfo": "text",
         "line": {
          "color": "rgba(255,0,0,0.5069817669038044)",
          "width": 0.7293682679880675
         },
         "mode": "lines",
         "text": "0.16205455362796786",
         "type": "scatter",
         "x": [
          1,
          2,
          3
         ],
         "y": [
          7.300000000000001,
          7.300000000000001,
          7.300000000000001
         ]
        },
        {
         "hoverinfo": "text",
         "line": {
          "color": "rgba(255,0,0,0.4)",
          "width": 0.5
         },
         "mode": "lines",
         "text": "0.10635922849178314",
         "type": "scatter",
         "x": [
          1,
          2,
          3
         ],
         "y": [
          7.4,
          7.4,
          7.4
         ]
        },
        {
         "hoverinfo": "text",
         "line": {
          "color": "rgba(255,0,0,0.8852071109182268)",
          "width": 3.0206676993009145
         },
         "mode": "lines",
         "text": "0.4179252684116364",
         "type": "scatter",
         "x": [
          1,
          2,
          3
         ],
         "y": [
          7.5,
          7.5,
          7.5
         ]
        },
        {
         "hoverinfo": "text",
         "line": {
          "color": "rgba(255,0,0,0.4)",
          "width": 0.5
         },
         "mode": "lines",
         "text": "0.11294622719287872",
         "type": "scatter",
         "x": [
          1,
          2,
          3
         ],
         "y": [
          7.6000000000000005,
          7.6000000000000005,
          7.6000000000000005
         ]
        },
        {
         "hoverinfo": "text",
         "line": {
          "color": "rgba(255,0,0,0.4)",
          "width": 0.5
         },
         "mode": "lines",
         "text": "0.10203936696052553",
         "type": "scatter",
         "x": [
          1,
          2,
          3
         ],
         "y": [
          7.7,
          7.7,
          7.7
         ]
        },
        {
         "hoverinfo": "text",
         "line": {
          "color": "rgba(255,0,0,0.4)",
          "width": 0.5
         },
         "mode": "lines",
         "text": "0.10601377487182616",
         "type": "scatter",
         "x": [
          1,
          2,
          3
         ],
         "y": [
          7.800000000000001,
          7.800000000000001,
          7.800000000000001
         ]
        },
        {
         "hoverinfo": "text",
         "line": {
          "color": "rgba(255,0,0,0.4)",
          "width": 0.5
         },
         "mode": "lines",
         "text": "0.11428913474082948",
         "type": "scatter",
         "x": [
          1,
          2,
          3
         ],
         "y": [
          7.9,
          7.9,
          7.9
         ]
        },
        {
         "hoverinfo": "text",
         "line": {
          "color": "rgba(255,0,0,0.4)",
          "width": 0.5
         },
         "mode": "lines",
         "text": "0.10498390346765518",
         "type": "scatter",
         "x": [
          1,
          2,
          3
         ],
         "y": [
          8,
          8,
          8
         ]
        },
        {
         "hoverinfo": "text",
         "line": {
          "color": "rgba(255,0,0,0.4)",
          "width": 0.5
         },
         "mode": "lines",
         "text": "0.10214492678642273",
         "type": "scatter",
         "x": [
          1,
          2,
          3
         ],
         "y": [
          8.1,
          8.1,
          8.1
         ]
        }
       ],
       "layout": {
        "template": {
         "data": {
          "bar": [
           {
            "error_x": {
             "color": "#2a3f5f"
            },
            "error_y": {
             "color": "#2a3f5f"
            },
            "marker": {
             "line": {
              "color": "#E5ECF6",
              "width": 0.5
             }
            },
            "type": "bar"
           }
          ],
          "barpolar": [
           {
            "marker": {
             "line": {
              "color": "#E5ECF6",
              "width": 0.5
             }
            },
            "type": "barpolar"
           }
          ],
          "carpet": [
           {
            "aaxis": {
             "endlinecolor": "#2a3f5f",
             "gridcolor": "white",
             "linecolor": "white",
             "minorgridcolor": "white",
             "startlinecolor": "#2a3f5f"
            },
            "baxis": {
             "endlinecolor": "#2a3f5f",
             "gridcolor": "white",
             "linecolor": "white",
             "minorgridcolor": "white",
             "startlinecolor": "#2a3f5f"
            },
            "type": "carpet"
           }
          ],
          "choropleth": [
           {
            "colorbar": {
             "outlinewidth": 0,
             "ticks": ""
            },
            "type": "choropleth"
           }
          ],
          "contour": [
           {
            "colorbar": {
             "outlinewidth": 0,
             "ticks": ""
            },
            "colorscale": [
             [
              0,
              "#0d0887"
             ],
             [
              0.1111111111111111,
              "#46039f"
             ],
             [
              0.2222222222222222,
              "#7201a8"
             ],
             [
              0.3333333333333333,
              "#9c179e"
             ],
             [
              0.4444444444444444,
              "#bd3786"
             ],
             [
              0.5555555555555556,
              "#d8576b"
             ],
             [
              0.6666666666666666,
              "#ed7953"
             ],
             [
              0.7777777777777778,
              "#fb9f3a"
             ],
             [
              0.8888888888888888,
              "#fdca26"
             ],
             [
              1,
              "#f0f921"
             ]
            ],
            "type": "contour"
           }
          ],
          "contourcarpet": [
           {
            "colorbar": {
             "outlinewidth": 0,
             "ticks": ""
            },
            "type": "contourcarpet"
           }
          ],
          "heatmap": [
           {
            "colorbar": {
             "outlinewidth": 0,
             "ticks": ""
            },
            "colorscale": [
             [
              0,
              "#0d0887"
             ],
             [
              0.1111111111111111,
              "#46039f"
             ],
             [
              0.2222222222222222,
              "#7201a8"
             ],
             [
              0.3333333333333333,
              "#9c179e"
             ],
             [
              0.4444444444444444,
              "#bd3786"
             ],
             [
              0.5555555555555556,
              "#d8576b"
             ],
             [
              0.6666666666666666,
              "#ed7953"
             ],
             [
              0.7777777777777778,
              "#fb9f3a"
             ],
             [
              0.8888888888888888,
              "#fdca26"
             ],
             [
              1,
              "#f0f921"
             ]
            ],
            "type": "heatmap"
           }
          ],
          "heatmapgl": [
           {
            "colorbar": {
             "outlinewidth": 0,
             "ticks": ""
            },
            "colorscale": [
             [
              0,
              "#0d0887"
             ],
             [
              0.1111111111111111,
              "#46039f"
             ],
             [
              0.2222222222222222,
              "#7201a8"
             ],
             [
              0.3333333333333333,
              "#9c179e"
             ],
             [
              0.4444444444444444,
              "#bd3786"
             ],
             [
              0.5555555555555556,
              "#d8576b"
             ],
             [
              0.6666666666666666,
              "#ed7953"
             ],
             [
              0.7777777777777778,
              "#fb9f3a"
             ],
             [
              0.8888888888888888,
              "#fdca26"
             ],
             [
              1,
              "#f0f921"
             ]
            ],
            "type": "heatmapgl"
           }
          ],
          "histogram": [
           {
            "marker": {
             "colorbar": {
              "outlinewidth": 0,
              "ticks": ""
             }
            },
            "type": "histogram"
           }
          ],
          "histogram2d": [
           {
            "colorbar": {
             "outlinewidth": 0,
             "ticks": ""
            },
            "colorscale": [
             [
              0,
              "#0d0887"
             ],
             [
              0.1111111111111111,
              "#46039f"
             ],
             [
              0.2222222222222222,
              "#7201a8"
             ],
             [
              0.3333333333333333,
              "#9c179e"
             ],
             [
              0.4444444444444444,
              "#bd3786"
             ],
             [
              0.5555555555555556,
              "#d8576b"
             ],
             [
              0.6666666666666666,
              "#ed7953"
             ],
             [
              0.7777777777777778,
              "#fb9f3a"
             ],
             [
              0.8888888888888888,
              "#fdca26"
             ],
             [
              1,
              "#f0f921"
             ]
            ],
            "type": "histogram2d"
           }
          ],
          "histogram2dcontour": [
           {
            "colorbar": {
             "outlinewidth": 0,
             "ticks": ""
            },
            "colorscale": [
             [
              0,
              "#0d0887"
             ],
             [
              0.1111111111111111,
              "#46039f"
             ],
             [
              0.2222222222222222,
              "#7201a8"
             ],
             [
              0.3333333333333333,
              "#9c179e"
             ],
             [
              0.4444444444444444,
              "#bd3786"
             ],
             [
              0.5555555555555556,
              "#d8576b"
             ],
             [
              0.6666666666666666,
              "#ed7953"
             ],
             [
              0.7777777777777778,
              "#fb9f3a"
             ],
             [
              0.8888888888888888,
              "#fdca26"
             ],
             [
              1,
              "#f0f921"
             ]
            ],
            "type": "histogram2dcontour"
           }
          ],
          "mesh3d": [
           {
            "colorbar": {
             "outlinewidth": 0,
             "ticks": ""
            },
            "type": "mesh3d"
           }
          ],
          "parcoords": [
           {
            "line": {
             "colorbar": {
              "outlinewidth": 0,
              "ticks": ""
             }
            },
            "type": "parcoords"
           }
          ],
          "pie": [
           {
            "automargin": true,
            "type": "pie"
           }
          ],
          "scatter": [
           {
            "marker": {
             "colorbar": {
              "outlinewidth": 0,
              "ticks": ""
             }
            },
            "type": "scatter"
           }
          ],
          "scatter3d": [
           {
            "line": {
             "colorbar": {
              "outlinewidth": 0,
              "ticks": ""
             }
            },
            "marker": {
             "colorbar": {
              "outlinewidth": 0,
              "ticks": ""
             }
            },
            "type": "scatter3d"
           }
          ],
          "scattercarpet": [
           {
            "marker": {
             "colorbar": {
              "outlinewidth": 0,
              "ticks": ""
             }
            },
            "type": "scattercarpet"
           }
          ],
          "scattergeo": [
           {
            "marker": {
             "colorbar": {
              "outlinewidth": 0,
              "ticks": ""
             }
            },
            "type": "scattergeo"
           }
          ],
          "scattergl": [
           {
            "marker": {
             "colorbar": {
              "outlinewidth": 0,
              "ticks": ""
             }
            },
            "type": "scattergl"
           }
          ],
          "scattermapbox": [
           {
            "marker": {
             "colorbar": {
              "outlinewidth": 0,
              "ticks": ""
             }
            },
            "type": "scattermapbox"
           }
          ],
          "scatterpolar": [
           {
            "marker": {
             "colorbar": {
              "outlinewidth": 0,
              "ticks": ""
             }
            },
            "type": "scatterpolar"
           }
          ],
          "scatterpolargl": [
           {
            "marker": {
             "colorbar": {
              "outlinewidth": 0,
              "ticks": ""
             }
            },
            "type": "scatterpolargl"
           }
          ],
          "scatterternary": [
           {
            "marker": {
             "colorbar": {
              "outlinewidth": 0,
              "ticks": ""
             }
            },
            "type": "scatterternary"
           }
          ],
          "surface": [
           {
            "colorbar": {
             "outlinewidth": 0,
             "ticks": ""
            },
            "colorscale": [
             [
              0,
              "#0d0887"
             ],
             [
              0.1111111111111111,
              "#46039f"
             ],
             [
              0.2222222222222222,
              "#7201a8"
             ],
             [
              0.3333333333333333,
              "#9c179e"
             ],
             [
              0.4444444444444444,
              "#bd3786"
             ],
             [
              0.5555555555555556,
              "#d8576b"
             ],
             [
              0.6666666666666666,
              "#ed7953"
             ],
             [
              0.7777777777777778,
              "#fb9f3a"
             ],
             [
              0.8888888888888888,
              "#fdca26"
             ],
             [
              1,
              "#f0f921"
             ]
            ],
            "type": "surface"
           }
          ],
          "table": [
           {
            "cells": {
             "fill": {
              "color": "#EBF0F8"
             },
             "line": {
              "color": "white"
             }
            },
            "header": {
             "fill": {
              "color": "#C8D4E3"
             },
             "line": {
              "color": "white"
             }
            },
            "type": "table"
           }
          ]
         },
         "layout": {
          "annotationdefaults": {
           "arrowcolor": "#2a3f5f",
           "arrowhead": 0,
           "arrowwidth": 1
          },
          "coloraxis": {
           "colorbar": {
            "outlinewidth": 0,
            "ticks": ""
           }
          },
          "colorscale": {
           "diverging": [
            [
             0,
             "#8e0152"
            ],
            [
             0.1,
             "#c51b7d"
            ],
            [
             0.2,
             "#de77ae"
            ],
            [
             0.3,
             "#f1b6da"
            ],
            [
             0.4,
             "#fde0ef"
            ],
            [
             0.5,
             "#f7f7f7"
            ],
            [
             0.6,
             "#e6f5d0"
            ],
            [
             0.7,
             "#b8e186"
            ],
            [
             0.8,
             "#7fbc41"
            ],
            [
             0.9,
             "#4d9221"
            ],
            [
             1,
             "#276419"
            ]
           ],
           "sequential": [
            [
             0,
             "#0d0887"
            ],
            [
             0.1111111111111111,
             "#46039f"
            ],
            [
             0.2222222222222222,
             "#7201a8"
            ],
            [
             0.3333333333333333,
             "#9c179e"
            ],
            [
             0.4444444444444444,
             "#bd3786"
            ],
            [
             0.5555555555555556,
             "#d8576b"
            ],
            [
             0.6666666666666666,
             "#ed7953"
            ],
            [
             0.7777777777777778,
             "#fb9f3a"
            ],
            [
             0.8888888888888888,
             "#fdca26"
            ],
            [
             1,
             "#f0f921"
            ]
           ],
           "sequentialminus": [
            [
             0,
             "#0d0887"
            ],
            [
             0.1111111111111111,
             "#46039f"
            ],
            [
             0.2222222222222222,
             "#7201a8"
            ],
            [
             0.3333333333333333,
             "#9c179e"
            ],
            [
             0.4444444444444444,
             "#bd3786"
            ],
            [
             0.5555555555555556,
             "#d8576b"
            ],
            [
             0.6666666666666666,
             "#ed7953"
            ],
            [
             0.7777777777777778,
             "#fb9f3a"
            ],
            [
             0.8888888888888888,
             "#fdca26"
            ],
            [
             1,
             "#f0f921"
            ]
           ]
          },
          "colorway": [
           "#636efa",
           "#EF553B",
           "#00cc96",
           "#ab63fa",
           "#FFA15A",
           "#19d3f3",
           "#FF6692",
           "#B6E880",
           "#FF97FF",
           "#FECB52"
          ],
          "font": {
           "color": "#2a3f5f"
          },
          "geo": {
           "bgcolor": "white",
           "lakecolor": "white",
           "landcolor": "#E5ECF6",
           "showlakes": true,
           "showland": true,
           "subunitcolor": "white"
          },
          "hoverlabel": {
           "align": "left"
          },
          "hovermode": "closest",
          "mapbox": {
           "style": "light"
          },
          "paper_bgcolor": "white",
          "plot_bgcolor": "#E5ECF6",
          "polar": {
           "angularaxis": {
            "gridcolor": "white",
            "linecolor": "white",
            "ticks": ""
           },
           "bgcolor": "#E5ECF6",
           "radialaxis": {
            "gridcolor": "white",
            "linecolor": "white",
            "ticks": ""
           }
          },
          "scene": {
           "xaxis": {
            "backgroundcolor": "#E5ECF6",
            "gridcolor": "white",
            "gridwidth": 2,
            "linecolor": "white",
            "showbackground": true,
            "ticks": "",
            "zerolinecolor": "white"
           },
           "yaxis": {
            "backgroundcolor": "#E5ECF6",
            "gridcolor": "white",
            "gridwidth": 2,
            "linecolor": "white",
            "showbackground": true,
            "ticks": "",
            "zerolinecolor": "white"
           },
           "zaxis": {
            "backgroundcolor": "#E5ECF6",
            "gridcolor": "white",
            "gridwidth": 2,
            "linecolor": "white",
            "showbackground": true,
            "ticks": "",
            "zerolinecolor": "white"
           }
          },
          "shapedefaults": {
           "line": {
            "color": "#2a3f5f"
           }
          },
          "ternary": {
           "aaxis": {
            "gridcolor": "white",
            "linecolor": "white",
            "ticks": ""
           },
           "baxis": {
            "gridcolor": "white",
            "linecolor": "white",
            "ticks": ""
           },
           "bgcolor": "#E5ECF6",
           "caxis": {
            "gridcolor": "white",
            "linecolor": "white",
            "ticks": ""
           }
          },
          "title": {
           "x": 0.05
          },
          "xaxis": {
           "automargin": true,
           "gridcolor": "white",
           "linecolor": "white",
           "ticks": "",
           "title": {
            "standoff": 15
           },
           "zerolinecolor": "white",
           "zerolinewidth": 2
          },
          "yaxis": {
           "automargin": true,
           "gridcolor": "white",
           "linecolor": "white",
           "ticks": "",
           "title": {
            "standoff": 15
           },
           "zerolinecolor": "white",
           "zerolinewidth": 2
          }
         }
        }
       }
      },
      "text/html": [
       "<div>\n",
       "        \n",
       "        \n",
       "            <div id=\"8a1e6c0c-9c1d-4b2f-817b-05edb31312e3\" class=\"plotly-graph-div\" style=\"height:525px; width:100%;\"></div>\n",
       "            <script type=\"text/javascript\">\n",
       "                require([\"plotly\"], function(Plotly) {\n",
       "                    window.PLOTLYENV=window.PLOTLYENV || {};\n",
       "                    \n",
       "                if (document.getElementById(\"8a1e6c0c-9c1d-4b2f-817b-05edb31312e3\")) {\n",
       "                    Plotly.newPlot(\n",
       "                        '8a1e6c0c-9c1d-4b2f-817b-05edb31312e3',\n",
       "                        [{\"hoverinfo\": \"text\", \"line\": {\"color\": \"rgba(255,0,0,0.4623605445561957)\", \"width\": 0.6090716866174852}, \"mode\": \"lines\", \"text\": \"0.14370623230934146\", \"type\": \"scatter\", \"x\": [1, 2, 3], \"y\": [0.0, 0.0, 0.0]}, {\"hoverinfo\": \"text\", \"line\": {\"color\": \"rgba(255,0,0,0.4)\", \"width\": 0.5}, \"mode\": \"lines\", \"text\": \"0.11236831545829773\", \"type\": \"scatter\", \"x\": [1, 2, 3], \"y\": [0.1, 0.1, 0.1]}, {\"hoverinfo\": \"text\", \"line\": {\"color\": \"rgba(255,0,0,0.4)\", \"width\": 0.5}, \"mode\": \"lines\", \"text\": \"0.10513708740472794\", \"type\": \"scatter\", \"x\": [1, 2, 3], \"y\": [0.2, 0.2, 0.2]}, {\"hoverinfo\": \"text\", \"line\": {\"color\": \"rgba(255,0,0,0.4)\", \"width\": 0.5}, \"mode\": \"lines\", \"text\": \"0.11725154519081114\", \"type\": \"scatter\", \"x\": [1, 2, 3], \"y\": [0.30000000000000004, 0.30000000000000004, 0.30000000000000004]}, {\"hoverinfo\": \"text\", \"line\": {\"color\": \"rgba(255,0,0,0.4096555299770246)\", \"width\": 0.5}, \"mode\": \"lines\", \"text\": \"0.12345064431428908\", \"type\": \"scatter\", \"x\": [1, 2, 3], \"y\": [0.4, 0.4, 0.4]}, {\"hoverinfo\": \"text\", \"line\": {\"color\": \"rgba(255,0,0,0.4)\", \"width\": 0.5}, \"mode\": \"lines\", \"text\": \"0.10219395905733107\", \"type\": \"scatter\", \"x\": [1, 2, 3], \"y\": [0.5, 0.5, 0.5]}, {\"hoverinfo\": \"text\", \"line\": {\"color\": \"rgba(255,0,0,0.4)\", \"width\": 0.5}, \"mode\": \"lines\", \"text\": \"0.10290113836526872\", \"type\": \"scatter\", \"x\": [1, 2, 3], \"y\": [0.6000000000000001, 0.6000000000000001, 0.6000000000000001]}, {\"hoverinfo\": \"text\", \"line\": {\"color\": \"rgba(255,0,0,0.4)\", \"width\": 0.5}, \"mode\": \"lines\", \"text\": \"0.10136543959379196\", \"type\": \"scatter\", \"x\": [1, 2, 3], \"y\": [0.7000000000000001, 0.7000000000000001, 0.7000000000000001]}, {\"hoverinfo\": \"text\", \"line\": {\"color\": \"rgba(255,0,0,0.7336881051527547)\", \"width\": 1.6709962263498523}, \"mode\": \"lines\", \"text\": \"0.28163090348243713\", \"type\": \"scatter\", \"x\": [1, 2, 3], \"y\": [0.8, 0.8, 0.8]}, {\"hoverinfo\": \"text\", \"line\": {\"color\": \"rgba(255,0,0,0.4)\", \"width\": 0.5}, \"mode\": \"lines\", \"text\": \"0.1134723499417305\", \"type\": \"scatter\", \"x\": [1, 2, 3], \"y\": [0.9, 0.9, 0.9]}, {\"hoverinfo\": \"text\", \"line\": {\"color\": \"rgba(255,0,0,0.4)\", \"width\": 0.5}, \"mode\": \"lines\", \"text\": \"0.11417932808399199\", \"type\": \"scatter\", \"x\": [1, 2, 3], \"y\": [1.0, 1.0, 1.0]}, {\"hoverinfo\": \"text\", \"line\": {\"color\": \"rgba(255,0,0,0.46116644156583575)\", \"width\": 0.6060539811754182}, \"mode\": \"lines\", \"text\": \"0.14323116838932035\", \"type\": \"scatter\", \"x\": [1, 2, 3], \"y\": [1.1, 1.1, 1.1]}, {\"hoverinfo\": \"text\", \"line\": {\"color\": \"rgba(255,0,0,0.4323702048351241)\", \"width\": 0.5362282957639818}, \"mode\": \"lines\", \"text\": \"0.13200685381889346\", \"type\": \"scatter\", \"x\": [1, 2, 3], \"y\": [1.2000000000000002, 1.2000000000000002, 1.2000000000000002]}, {\"hoverinfo\": \"text\", \"line\": {\"color\": \"rgba(255,0,0,0.9018181883188451)\", \"width\": 3.265712919350811}, \"mode\": \"lines\", \"text\": \"0.4402323961257935\", \"type\": \"scatter\", \"x\": [1, 2, 3], \"y\": [1.3, 1.3, 1.3]}, {\"hoverinfo\": \"text\", \"line\": {\"color\": \"rgba(255,0,0,0.4)\", \"width\": 0.5}, \"mode\": \"lines\", \"text\": \"0.10349536687135696\", \"type\": \"scatter\", \"x\": [1, 2, 3], \"y\": [1.4000000000000001, 1.4000000000000001, 1.4000000000000001]}, {\"hoverinfo\": \"text\", \"line\": {\"color\": \"rgba(255,0,0,0.4216810935497912)\", \"width\": 0.5116944738584811}, \"mode\": \"lines\", \"text\": \"0.1279490739107132\", \"type\": \"scatter\", \"x\": [1, 2, 3], \"y\": [1.5, 1.5, 1.5]}, {\"hoverinfo\": \"text\", \"line\": {\"color\": \"rgba(255,0,0,0.4619841864207602)\", \"width\": 0.6081194829794102}, \"mode\": \"lines\", \"text\": \"0.1435564160346985\", \"type\": \"scatter\", \"x\": [1, 2, 3], \"y\": [1.6, 1.6, 1.6]}, {\"hoverinfo\": \"text\", \"line\": {\"color\": \"rgba(255,0,0,0.5431342071744814)\", \"width\": 0.8386154460176213}, \"mode\": \"lines\", \"text\": \"0.1778573840856552\", \"type\": \"scatter\", \"x\": [1, 2, 3], \"y\": [1.7000000000000002, 1.7000000000000002, 1.7000000000000002]}, {\"hoverinfo\": \"text\", \"line\": {\"color\": \"rgba(255,0,0,0.6553237908813248)\", \"width\": 1.263773566715884}, \"mode\": \"lines\", \"text\": \"0.2337811589241028\", \"type\": \"scatter\", \"x\": [1, 2, 3], \"y\": [1.8, 1.8, 1.8]}, {\"hoverinfo\": \"text\", \"line\": {\"color\": \"rgba(255,0,0,0.6416545778855283)\", \"width\": 1.2035582867379624}, \"mode\": \"lines\", \"text\": \"0.2262948900461197\", \"type\": \"scatter\", \"x\": [1, 2, 3], \"y\": [1.9000000000000001, 1.9000000000000001, 1.9000000000000001]}, {\"hoverinfo\": \"text\", \"line\": {\"color\": \"rgba(255,0,0,0.4214449957592934)\", \"width\": 0.5111607345095733}, \"mode\": \"lines\", \"text\": \"0.12786008417606354\", \"type\": \"scatter\", \"x\": [1, 2, 3], \"y\": [2.0, 2.0, 2.0]}, {\"hoverinfo\": \"text\", \"line\": {\"color\": \"rgba(255,0,0,0.45843361557725604)\", \"width\": 0.5991852268747336}, \"mode\": \"lines\", \"text\": \"0.14214690029621124\", \"type\": \"scatter\", \"x\": [1, 2, 3], \"y\": [2.1, 2.1, 2.1]}, {\"hoverinfo\": \"text\", \"line\": {\"color\": \"rgba(255,0,0,0.44398192967861094)\", \"width\": 0.5637157646418933}, \"mode\": \"lines\", \"text\": \"0.13648034632205966\", \"type\": \"scatter\", \"x\": [1, 2, 3], \"y\": [2.2, 2.2, 2.2]}, {\"hoverinfo\": \"text\", \"line\": {\"color\": \"rgba(255,0,0,0.4)\", \"width\": 0.5}, \"mode\": \"lines\", \"text\": \"0.10066123306751253\", \"type\": \"scatter\", \"x\": [1, 2, 3], \"y\": [2.3000000000000003, 2.3000000000000003, 2.3000000000000003]}, {\"hoverinfo\": \"text\", \"line\": {\"color\": \"rgba(255,0,0,0.4)\", \"width\": 0.5}, \"mode\": \"lines\", \"text\": \"0.11222603172063828\", \"type\": \"scatter\", \"x\": [1, 2, 3], \"y\": [2.4000000000000004, 2.4000000000000004, 2.4000000000000004]}, {\"hoverinfo\": \"text\", \"line\": {\"color\": \"rgba(255,0,0,0.4)\", \"width\": 0.5}, \"mode\": \"lines\", \"text\": \"0.10613570362329484\", \"type\": \"scatter\", \"x\": [1, 2, 3], \"y\": [2.5, 2.5, 2.5]}, {\"hoverinfo\": \"text\", \"line\": {\"color\": \"rgba(255,0,0,0.6939919518110509)\", \"width\": 1.450185900748161}, \"mode\": \"lines\", \"text\": \"0.2562393248081207\", \"type\": \"scatter\", \"x\": [1, 2, 3], \"y\": [2.6, 2.6, 2.6]}, {\"hoverinfo\": \"text\", \"line\": {\"color\": \"rgba(255,0,0,0.47204185307207225)\", \"width\": 0.6339117679088435}, \"mode\": \"lines\", \"text\": \"0.1475873738527298\", \"type\": \"scatter\", \"x\": [1, 2, 3], \"y\": [2.7, 2.7, 2.7]}, {\"hoverinfo\": \"text\", \"line\": {\"color\": \"rgba(255,0,0,0.4)\", \"width\": 0.5}, \"mode\": \"lines\", \"text\": \"0.10142996907234192\", \"type\": \"scatter\", \"x\": [1, 2, 3], \"y\": [2.8000000000000003, 2.8000000000000003, 2.8000000000000003]}, {\"hoverinfo\": \"text\", \"line\": {\"color\": \"rgba(255,0,0,0.4)\", \"width\": 0.5}, \"mode\": \"lines\", \"text\": \"0.10236532986164093\", \"type\": \"scatter\", \"x\": [1, 2, 3], \"y\": [2.9000000000000004, 2.9000000000000004, 2.9000000000000004]}, {\"hoverinfo\": \"text\", \"line\": {\"color\": \"rgba(255,0,0,0.4886096646975906)\", \"width\": 0.6780093781091473}, \"mode\": \"lines\", \"text\": \"0.15435491502285004\", \"type\": \"scatter\", \"x\": [1, 2, 3], \"y\": [3.0, 3.0, 3.0]}, {\"hoverinfo\": \"text\", \"line\": {\"color\": \"rgba(255,0,0,0.4)\", \"width\": 0.5}, \"mode\": \"lines\", \"text\": \"0.11042369157075882\", \"type\": \"scatter\", \"x\": [1, 2, 3], \"y\": [3.1, 3.1, 3.1]}, {\"hoverinfo\": \"text\", \"line\": {\"color\": \"rgba(255,0,0,0.7640357135392031)\", \"width\": 1.865057065440455}, \"mode\": \"lines\", \"text\": \"0.3030340373516083\", \"type\": \"scatter\", \"x\": [1, 2, 3], \"y\": [3.2, 3.2, 3.2]}, {\"hoverinfo\": \"text\", \"line\": {\"color\": \"rgba(255,0,0,0.4)\", \"width\": 0.5}, \"mode\": \"lines\", \"text\": \"0.10074274986982346\", \"type\": \"scatter\", \"x\": [1, 2, 3], \"y\": [3.3000000000000003, 3.3000000000000003, 3.3000000000000003]}, {\"hoverinfo\": \"text\", \"line\": {\"color\": \"rgba(255,0,0,0.6001277029843686)\", \"width\": 1.0361601422601463}, \"mode\": \"lines\", \"text\": \"0.20479275286197665\", \"type\": \"scatter\", \"x\": [1, 2, 3], \"y\": [3.4000000000000004, 3.4000000000000004, 3.4000000000000004]}, {\"hoverinfo\": \"text\", \"line\": {\"color\": \"rgba(255,0,0,0.5556473345809327)\", \"width\": 0.8791659976229097}, \"mode\": \"lines\", \"text\": \"0.1835455745458603\", \"type\": \"scatter\", \"x\": [1, 2, 3], \"y\": [3.5, 3.5, 3.5]}, {\"hoverinfo\": \"text\", \"line\": {\"color\": \"rgba(255,0,0,0.4)\", \"width\": 0.5}, \"mode\": \"lines\", \"text\": \"0.10549190640449524\", \"type\": \"scatter\", \"x\": [1, 2, 3], \"y\": [3.6, 3.6, 3.6]}, {\"hoverinfo\": \"text\", \"line\": {\"color\": \"rgba(255,0,0,0.582950964284509)\", \"width\": 0.9730276339158025}, \"mode\": \"lines\", \"text\": \"0.19638732075691226\", \"type\": \"scatter\", \"x\": [1, 2, 3], \"y\": [3.7, 3.7, 3.7]}, {\"hoverinfo\": \"text\", \"line\": {\"color\": \"rgba(255,0,0,0.4)\", \"width\": 0.5}, \"mode\": \"lines\", \"text\": \"0.11786869913339615\", \"type\": \"scatter\", \"x\": [1, 2, 3], \"y\": [3.8000000000000003, 3.8000000000000003, 3.8000000000000003]}, {\"hoverinfo\": \"text\", \"line\": {\"color\": \"rgba(255,0,0,0.4)\", \"width\": 0.5}, \"mode\": \"lines\", \"text\": \"0.10382822155952454\", \"type\": \"scatter\", \"x\": [1, 2, 3], \"y\": [3.9000000000000004, 3.9000000000000004, 3.9000000000000004]}, {\"hoverinfo\": \"text\", \"line\": {\"color\": \"rgba(255,0,0,0.5606589100368844)\", \"width\": 0.8958286553915371}, \"mode\": \"lines\", \"text\": \"0.18585744500160215\", \"type\": \"scatter\", \"x\": [1, 2, 3], \"y\": [4.0, 4.0, 4.0]}, {\"hoverinfo\": \"text\", \"line\": {\"color\": \"rgba(255,0,0,0.528938475573826)\", \"width\": 0.7943622371429586}, \"mode\": \"lines\", \"text\": \"0.17154407501220706\", \"type\": \"scatter\", \"x\": [1, 2, 3], \"y\": [4.1000000000000005, 4.1000000000000005, 4.1000000000000005]}, {\"hoverinfo\": \"text\", \"line\": {\"color\": \"rgba(255,0,0,0.4)\", \"width\": 0.5}, \"mode\": \"lines\", \"text\": \"0.11396177858114245\", \"type\": \"scatter\", \"x\": [1, 2, 3], \"y\": [4.2, 4.2, 4.2]}, {\"hoverinfo\": \"text\", \"line\": {\"color\": \"rgba(255,0,0,0.4)\", \"width\": 0.5}, \"mode\": \"lines\", \"text\": \"0.11859458684921265\", \"type\": \"scatter\", \"x\": [1, 2, 3], \"y\": [4.3, 4.3, 4.3]}, {\"hoverinfo\": \"text\", \"line\": {\"color\": \"rgba(255,0,0,0.44947388503035013)\", \"width\": 0.5770277088234211}, \"mode\": \"lines\", \"text\": \"0.13862060010433194\", \"type\": \"scatter\", \"x\": [1, 2, 3], \"y\": [4.4, 4.4, 4.4]}, {\"hoverinfo\": \"text\", \"line\": {\"color\": \"rgba(255,0,0,0.5018214549386906)\", \"width\": 0.7146729521942479}, \"mode\": \"lines\", \"text\": \"0.1598704606294632\", \"type\": \"scatter\", \"x\": [1, 2, 3], \"y\": [4.5, 4.5, 4.5]}, {\"hoverinfo\": \"text\", \"line\": {\"color\": \"rgba(255,0,0,0.4557545030581375)\", \"width\": 0.5925019041705807}, \"mode\": \"lines\", \"text\": \"0.14108791947364807\", \"type\": \"scatter\", \"x\": [1, 2, 3], \"y\": [4.6000000000000005, 4.6000000000000005, 4.6000000000000005]}, {\"hoverinfo\": \"text\", \"line\": {\"color\": \"rgba(255,0,0,0.4)\", \"width\": 0.5}, \"mode\": \"lines\", \"text\": \"0.1163221076130867\", \"type\": \"scatter\", \"x\": [1, 2, 3], \"y\": [4.7, 4.7, 4.7]}, {\"hoverinfo\": \"text\", \"line\": {\"color\": \"rgba(255,0,0,0.4404951390523981)\", \"width\": 0.5553686920661048}, \"mode\": \"lines\", \"text\": \"0.13512973487377167\", \"type\": \"scatter\", \"x\": [1, 2, 3], \"y\": [4.800000000000001, 4.800000000000001, 4.800000000000001]}, {\"hoverinfo\": \"text\", \"line\": {\"color\": \"rgba(255,0,0,0.4)\", \"width\": 0.5}, \"mode\": \"lines\", \"text\": \"0.11276588588953018\", \"type\": \"scatter\", \"x\": [1, 2, 3], \"y\": [4.9, 4.9, 4.9]}, {\"hoverinfo\": \"text\", \"line\": {\"color\": \"rgba(255,0,0,0.4)\", \"width\": 0.5}, \"mode\": \"lines\", \"text\": \"0.1110248789191246\", \"type\": \"scatter\", \"x\": [1, 2, 3], \"y\": [5.0, 5.0, 5.0]}, {\"hoverinfo\": \"text\", \"line\": {\"color\": \"rgba(255,0,0,0.4)\", \"width\": 0.5}, \"mode\": \"lines\", \"text\": \"0.11503873020410538\", \"type\": \"scatter\", \"x\": [1, 2, 3], \"y\": [5.1000000000000005, 5.1000000000000005, 5.1000000000000005]}, {\"hoverinfo\": \"text\", \"line\": {\"color\": \"rgba(255,0,0,0.5801456027452053)\", \"width\": 0.9630264334351964}, \"mode\": \"lines\", \"text\": \"0.195039302110672\", \"type\": \"scatter\", \"x\": [1, 2, 3], \"y\": [5.2, 5.2, 5.2]}, {\"hoverinfo\": \"text\", \"line\": {\"color\": \"rgba(255,0,0,0.4624419368069259)\", \"width\": 0.6092777438801225}, \"mode\": \"lines\", \"text\": \"0.14373864233493805\", \"type\": \"scatter\", \"x\": [1, 2, 3], \"y\": [5.300000000000001, 5.300000000000001, 5.300000000000001]}, {\"hoverinfo\": \"text\", \"line\": {\"color\": \"rgba(255,0,0,0.4495345291464339)\", \"width\": 0.5771758384434041}, \"mode\": \"lines\", \"text\": \"0.13864432275295258\", \"type\": \"scatter\", \"x\": [1, 2, 3], \"y\": [5.4, 5.4, 5.4]}, {\"hoverinfo\": \"text\", \"line\": {\"color\": \"rgba(255,0,0,0.411294403003049)\", \"width\": 0.5}, \"mode\": \"lines\", \"text\": \"0.12405963242053986\", \"type\": \"scatter\", \"x\": [1, 2, 3], \"y\": [5.5, 5.5, 5.5]}, {\"hoverinfo\": \"text\", \"line\": {\"color\": \"rgba(255,0,0,0.4809066910866461)\", \"width\": 0.657252547454112}, \"mode\": \"lines\", \"text\": \"0.15118829905986786\", \"type\": \"scatter\", \"x\": [1, 2, 3], \"y\": [5.6000000000000005, 5.6000000000000005, 5.6000000000000005]}, {\"hoverinfo\": \"text\", \"line\": {\"color\": \"rgba(255,0,0,0.45371775809636994)\", \"width\": 0.5874541920844936}, \"mode\": \"lines\", \"text\": \"0.140285462141037\", \"type\": \"scatter\", \"x\": [1, 2, 3], \"y\": [5.7, 5.7, 5.7]}, {\"hoverinfo\": \"text\", \"line\": {\"color\": \"rgba(255,0,0,0.7508141830769461)\", \"width\": 1.7774597301589066}, \"mode\": \"lines\", \"text\": \"0.29346963763237\", \"type\": \"scatter\", \"x\": [1, 2, 3], \"y\": [5.800000000000001, 5.800000000000001, 5.800000000000001]}, {\"hoverinfo\": \"text\", \"line\": {\"color\": \"rgba(255,0,0,0.4289045626351461)\", \"width\": 0.5281941998150642}, \"mode\": \"lines\", \"text\": \"0.1306850016117096\", \"type\": \"scatter\", \"x\": [1, 2, 3], \"y\": [5.9, 5.9, 5.9]}, {\"hoverinfo\": \"text\", \"line\": {\"color\": \"rgba(255,0,0,0.5690199058545501)\", \"width\": 0.9241830992920974}, \"mode\": \"lines\", \"text\": \"0.18975883722305295\", \"type\": \"scatter\", \"x\": [1, 2, 3], \"y\": [6.0, 6.0, 6.0]}, {\"hoverinfo\": \"text\", \"line\": {\"color\": \"rgba(255,0,0,0.4)\", \"width\": 0.5}, \"mode\": \"lines\", \"text\": \"0.1023336425423622\", \"type\": \"scatter\", \"x\": [1, 2, 3], \"y\": [6.1000000000000005, 6.1000000000000005, 6.1000000000000005]}, {\"hoverinfo\": \"text\", \"line\": {\"color\": \"rgba(255,0,0,0.4)\", \"width\": 0.5}, \"mode\": \"lines\", \"text\": \"0.10919872671365738\", \"type\": \"scatter\", \"x\": [1, 2, 3], \"y\": [6.2, 6.2, 6.2]}, {\"hoverinfo\": \"text\", \"line\": {\"color\": \"rgba(255,0,0,0.4882202680404959)\", \"width\": 0.6769493017960774}, \"mode\": \"lines\", \"text\": \"0.15419398248195648\", \"type\": \"scatter\", \"x\": [1, 2, 3], \"y\": [6.300000000000001, 6.300000000000001, 6.300000000000001]}, {\"hoverinfo\": \"text\", \"line\": {\"color\": \"rgba(255,0,0,0.4762707391526988)\", \"width\": 0.6449742136975131}, \"mode\": \"lines\", \"text\": \"0.14929945766925812\", \"type\": \"scatter\", \"x\": [1, 2, 3], \"y\": [6.4, 6.4, 6.4]}, {\"hoverinfo\": \"text\", \"line\": {\"color\": \"rgba(255,0,0,0.4)\", \"width\": 0.5}, \"mode\": \"lines\", \"text\": \"0.11705926060676575\", \"type\": \"scatter\", \"x\": [1, 2, 3], \"y\": [6.5, 6.5, 6.5]}, {\"hoverinfo\": \"text\", \"line\": {\"color\": \"rgba(255,0,0,0.4)\", \"width\": 0.5}, \"mode\": \"lines\", \"text\": \"0.11124771833419801\", \"type\": \"scatter\", \"x\": [1, 2, 3], \"y\": [6.6000000000000005, 6.6000000000000005, 6.6000000000000005]}, {\"hoverinfo\": \"text\", \"line\": {\"color\": \"rgba(255,0,0,0.4)\", \"width\": 0.5}, \"mode\": \"lines\", \"text\": \"0.1067403331398964\", \"type\": \"scatter\", \"x\": [1, 2, 3], \"y\": [6.7, 6.7, 6.7]}, {\"hoverinfo\": \"text\", \"line\": {\"color\": \"rgba(255,0,0,0.4191208503187006)\", \"width\": 0.5059251973045361}, \"mode\": \"lines\", \"text\": \"0.12698552012443542\", \"type\": \"scatter\", \"x\": [1, 2, 3], \"y\": [6.800000000000001, 6.800000000000001, 6.800000000000001]}, {\"hoverinfo\": \"text\", \"line\": {\"color\": \"rgba(255,0,0,0.4)\", \"width\": 0.5}, \"mode\": \"lines\", \"text\": \"0.1009724736213684\", \"type\": \"scatter\", \"x\": [1, 2, 3], \"y\": [6.9, 6.9, 6.9]}, {\"hoverinfo\": \"text\", \"line\": {\"color\": \"rgba(255,0,0,0.4)\", \"width\": 0.5}, \"mode\": \"lines\", \"text\": \"0.10716696083545683\", \"type\": \"scatter\", \"x\": [1, 2, 3], \"y\": [7.0, 7.0, 7.0]}, {\"hoverinfo\": \"text\", \"line\": {\"color\": \"rgba(255,0,0,0.45840603323470963)\", \"width\": 0.599116166217542}, \"mode\": \"lines\", \"text\": \"0.14213597774505615\", \"type\": \"scatter\", \"x\": [1, 2, 3], \"y\": [7.1000000000000005, 7.1000000000000005, 7.1000000000000005]}, {\"hoverinfo\": \"text\", \"line\": {\"color\": \"rgba(255,0,0,0.4906577917179863)\", \"width\": 0.6836042200133351}, \"mode\": \"lines\", \"text\": \"0.15520289540290833\", \"type\": \"scatter\", \"x\": [1, 2, 3], \"y\": [7.2, 7.2, 7.2]}, {\"hoverinfo\": \"text\", \"line\": {\"color\": \"rgba(255,0,0,0.5069817669038044)\", \"width\": 0.7293682679880675}, \"mode\": \"lines\", \"text\": \"0.16205455362796786\", \"type\": \"scatter\", \"x\": [1, 2, 3], \"y\": [7.300000000000001, 7.300000000000001, 7.300000000000001]}, {\"hoverinfo\": \"text\", \"line\": {\"color\": \"rgba(255,0,0,0.4)\", \"width\": 0.5}, \"mode\": \"lines\", \"text\": \"0.10635922849178314\", \"type\": \"scatter\", \"x\": [1, 2, 3], \"y\": [7.4, 7.4, 7.4]}, {\"hoverinfo\": \"text\", \"line\": {\"color\": \"rgba(255,0,0,0.8852071109182268)\", \"width\": 3.0206676993009145}, \"mode\": \"lines\", \"text\": \"0.4179252684116364\", \"type\": \"scatter\", \"x\": [1, 2, 3], \"y\": [7.5, 7.5, 7.5]}, {\"hoverinfo\": \"text\", \"line\": {\"color\": \"rgba(255,0,0,0.4)\", \"width\": 0.5}, \"mode\": \"lines\", \"text\": \"0.11294622719287872\", \"type\": \"scatter\", \"x\": [1, 2, 3], \"y\": [7.6000000000000005, 7.6000000000000005, 7.6000000000000005]}, {\"hoverinfo\": \"text\", \"line\": {\"color\": \"rgba(255,0,0,0.4)\", \"width\": 0.5}, \"mode\": \"lines\", \"text\": \"0.10203936696052553\", \"type\": \"scatter\", \"x\": [1, 2, 3], \"y\": [7.7, 7.7, 7.7]}, {\"hoverinfo\": \"text\", \"line\": {\"color\": \"rgba(255,0,0,0.4)\", \"width\": 0.5}, \"mode\": \"lines\", \"text\": \"0.10601377487182616\", \"type\": \"scatter\", \"x\": [1, 2, 3], \"y\": [7.800000000000001, 7.800000000000001, 7.800000000000001]}, {\"hoverinfo\": \"text\", \"line\": {\"color\": \"rgba(255,0,0,0.4)\", \"width\": 0.5}, \"mode\": \"lines\", \"text\": \"0.11428913474082948\", \"type\": \"scatter\", \"x\": [1, 2, 3], \"y\": [7.9, 7.9, 7.9]}, {\"hoverinfo\": \"text\", \"line\": {\"color\": \"rgba(255,0,0,0.4)\", \"width\": 0.5}, \"mode\": \"lines\", \"text\": \"0.10498390346765518\", \"type\": \"scatter\", \"x\": [1, 2, 3], \"y\": [8.0, 8.0, 8.0]}, {\"hoverinfo\": \"text\", \"line\": {\"color\": \"rgba(255,0,0,0.4)\", \"width\": 0.5}, \"mode\": \"lines\", \"text\": \"0.10214492678642273\", \"type\": \"scatter\", \"x\": [1, 2, 3], \"y\": [8.1, 8.1, 8.1]}],\n",
       "                        {\"template\": {\"data\": {\"bar\": [{\"error_x\": {\"color\": \"#2a3f5f\"}, \"error_y\": {\"color\": \"#2a3f5f\"}, \"marker\": {\"line\": {\"color\": \"#E5ECF6\", \"width\": 0.5}}, \"type\": \"bar\"}], \"barpolar\": [{\"marker\": {\"line\": {\"color\": \"#E5ECF6\", \"width\": 0.5}}, \"type\": \"barpolar\"}], \"carpet\": [{\"aaxis\": {\"endlinecolor\": \"#2a3f5f\", \"gridcolor\": \"white\", \"linecolor\": \"white\", \"minorgridcolor\": \"white\", \"startlinecolor\": \"#2a3f5f\"}, \"baxis\": {\"endlinecolor\": \"#2a3f5f\", \"gridcolor\": \"white\", \"linecolor\": \"white\", \"minorgridcolor\": \"white\", \"startlinecolor\": \"#2a3f5f\"}, \"type\": \"carpet\"}], \"choropleth\": [{\"colorbar\": {\"outlinewidth\": 0, \"ticks\": \"\"}, \"type\": \"choropleth\"}], \"contour\": [{\"colorbar\": {\"outlinewidth\": 0, \"ticks\": \"\"}, \"colorscale\": [[0.0, \"#0d0887\"], [0.1111111111111111, \"#46039f\"], [0.2222222222222222, \"#7201a8\"], [0.3333333333333333, \"#9c179e\"], [0.4444444444444444, \"#bd3786\"], [0.5555555555555556, \"#d8576b\"], [0.6666666666666666, \"#ed7953\"], [0.7777777777777778, \"#fb9f3a\"], [0.8888888888888888, \"#fdca26\"], [1.0, \"#f0f921\"]], \"type\": \"contour\"}], \"contourcarpet\": [{\"colorbar\": {\"outlinewidth\": 0, \"ticks\": \"\"}, \"type\": \"contourcarpet\"}], \"heatmap\": [{\"colorbar\": {\"outlinewidth\": 0, \"ticks\": \"\"}, \"colorscale\": [[0.0, \"#0d0887\"], [0.1111111111111111, \"#46039f\"], [0.2222222222222222, \"#7201a8\"], [0.3333333333333333, \"#9c179e\"], [0.4444444444444444, \"#bd3786\"], [0.5555555555555556, \"#d8576b\"], [0.6666666666666666, \"#ed7953\"], [0.7777777777777778, \"#fb9f3a\"], [0.8888888888888888, \"#fdca26\"], [1.0, \"#f0f921\"]], \"type\": \"heatmap\"}], \"heatmapgl\": [{\"colorbar\": {\"outlinewidth\": 0, \"ticks\": \"\"}, \"colorscale\": [[0.0, \"#0d0887\"], [0.1111111111111111, \"#46039f\"], [0.2222222222222222, \"#7201a8\"], [0.3333333333333333, \"#9c179e\"], [0.4444444444444444, \"#bd3786\"], [0.5555555555555556, \"#d8576b\"], [0.6666666666666666, \"#ed7953\"], [0.7777777777777778, \"#fb9f3a\"], [0.8888888888888888, \"#fdca26\"], [1.0, \"#f0f921\"]], \"type\": \"heatmapgl\"}], \"histogram\": [{\"marker\": {\"colorbar\": {\"outlinewidth\": 0, \"ticks\": \"\"}}, \"type\": \"histogram\"}], \"histogram2d\": [{\"colorbar\": {\"outlinewidth\": 0, \"ticks\": \"\"}, \"colorscale\": [[0.0, \"#0d0887\"], [0.1111111111111111, \"#46039f\"], [0.2222222222222222, \"#7201a8\"], [0.3333333333333333, \"#9c179e\"], [0.4444444444444444, \"#bd3786\"], [0.5555555555555556, \"#d8576b\"], [0.6666666666666666, \"#ed7953\"], [0.7777777777777778, \"#fb9f3a\"], [0.8888888888888888, \"#fdca26\"], [1.0, \"#f0f921\"]], \"type\": \"histogram2d\"}], \"histogram2dcontour\": [{\"colorbar\": {\"outlinewidth\": 0, \"ticks\": \"\"}, \"colorscale\": [[0.0, \"#0d0887\"], [0.1111111111111111, \"#46039f\"], [0.2222222222222222, \"#7201a8\"], [0.3333333333333333, \"#9c179e\"], [0.4444444444444444, \"#bd3786\"], [0.5555555555555556, \"#d8576b\"], [0.6666666666666666, \"#ed7953\"], [0.7777777777777778, \"#fb9f3a\"], [0.8888888888888888, \"#fdca26\"], [1.0, \"#f0f921\"]], \"type\": \"histogram2dcontour\"}], \"mesh3d\": [{\"colorbar\": {\"outlinewidth\": 0, \"ticks\": \"\"}, \"type\": \"mesh3d\"}], \"parcoords\": [{\"line\": {\"colorbar\": {\"outlinewidth\": 0, \"ticks\": \"\"}}, \"type\": \"parcoords\"}], \"pie\": [{\"automargin\": true, \"type\": \"pie\"}], \"scatter\": [{\"marker\": {\"colorbar\": {\"outlinewidth\": 0, \"ticks\": \"\"}}, \"type\": \"scatter\"}], \"scatter3d\": [{\"line\": {\"colorbar\": {\"outlinewidth\": 0, \"ticks\": \"\"}}, \"marker\": {\"colorbar\": {\"outlinewidth\": 0, \"ticks\": \"\"}}, \"type\": \"scatter3d\"}], \"scattercarpet\": [{\"marker\": {\"colorbar\": {\"outlinewidth\": 0, \"ticks\": \"\"}}, \"type\": \"scattercarpet\"}], \"scattergeo\": [{\"marker\": {\"colorbar\": {\"outlinewidth\": 0, \"ticks\": \"\"}}, \"type\": \"scattergeo\"}], \"scattergl\": [{\"marker\": {\"colorbar\": {\"outlinewidth\": 0, \"ticks\": \"\"}}, \"type\": \"scattergl\"}], \"scattermapbox\": [{\"marker\": {\"colorbar\": {\"outlinewidth\": 0, \"ticks\": \"\"}}, \"type\": \"scattermapbox\"}], \"scatterpolar\": [{\"marker\": {\"colorbar\": {\"outlinewidth\": 0, \"ticks\": \"\"}}, \"type\": \"scatterpolar\"}], \"scatterpolargl\": [{\"marker\": {\"colorbar\": {\"outlinewidth\": 0, \"ticks\": \"\"}}, \"type\": \"scatterpolargl\"}], \"scatterternary\": [{\"marker\": {\"colorbar\": {\"outlinewidth\": 0, \"ticks\": \"\"}}, \"type\": \"scatterternary\"}], \"surface\": [{\"colorbar\": {\"outlinewidth\": 0, \"ticks\": \"\"}, \"colorscale\": [[0.0, \"#0d0887\"], [0.1111111111111111, \"#46039f\"], [0.2222222222222222, \"#7201a8\"], [0.3333333333333333, \"#9c179e\"], [0.4444444444444444, \"#bd3786\"], [0.5555555555555556, \"#d8576b\"], [0.6666666666666666, \"#ed7953\"], [0.7777777777777778, \"#fb9f3a\"], [0.8888888888888888, \"#fdca26\"], [1.0, \"#f0f921\"]], \"type\": \"surface\"}], \"table\": [{\"cells\": {\"fill\": {\"color\": \"#EBF0F8\"}, \"line\": {\"color\": \"white\"}}, \"header\": {\"fill\": {\"color\": \"#C8D4E3\"}, \"line\": {\"color\": \"white\"}}, \"type\": \"table\"}]}, \"layout\": {\"annotationdefaults\": {\"arrowcolor\": \"#2a3f5f\", \"arrowhead\": 0, \"arrowwidth\": 1}, \"coloraxis\": {\"colorbar\": {\"outlinewidth\": 0, \"ticks\": \"\"}}, \"colorscale\": {\"diverging\": [[0, \"#8e0152\"], [0.1, \"#c51b7d\"], [0.2, \"#de77ae\"], [0.3, \"#f1b6da\"], [0.4, \"#fde0ef\"], [0.5, \"#f7f7f7\"], [0.6, \"#e6f5d0\"], [0.7, \"#b8e186\"], [0.8, \"#7fbc41\"], [0.9, \"#4d9221\"], [1, \"#276419\"]], \"sequential\": [[0.0, \"#0d0887\"], [0.1111111111111111, \"#46039f\"], [0.2222222222222222, \"#7201a8\"], [0.3333333333333333, \"#9c179e\"], [0.4444444444444444, \"#bd3786\"], [0.5555555555555556, \"#d8576b\"], [0.6666666666666666, \"#ed7953\"], [0.7777777777777778, \"#fb9f3a\"], [0.8888888888888888, \"#fdca26\"], [1.0, \"#f0f921\"]], \"sequentialminus\": [[0.0, \"#0d0887\"], [0.1111111111111111, \"#46039f\"], [0.2222222222222222, \"#7201a8\"], [0.3333333333333333, \"#9c179e\"], [0.4444444444444444, \"#bd3786\"], [0.5555555555555556, \"#d8576b\"], [0.6666666666666666, \"#ed7953\"], [0.7777777777777778, \"#fb9f3a\"], [0.8888888888888888, \"#fdca26\"], [1.0, \"#f0f921\"]]}, \"colorway\": [\"#636efa\", \"#EF553B\", \"#00cc96\", \"#ab63fa\", \"#FFA15A\", \"#19d3f3\", \"#FF6692\", \"#B6E880\", \"#FF97FF\", \"#FECB52\"], \"font\": {\"color\": \"#2a3f5f\"}, \"geo\": {\"bgcolor\": \"white\", \"lakecolor\": \"white\", \"landcolor\": \"#E5ECF6\", \"showlakes\": true, \"showland\": true, \"subunitcolor\": \"white\"}, \"hoverlabel\": {\"align\": \"left\"}, \"hovermode\": \"closest\", \"mapbox\": {\"style\": \"light\"}, \"paper_bgcolor\": \"white\", \"plot_bgcolor\": \"#E5ECF6\", \"polar\": {\"angularaxis\": {\"gridcolor\": \"white\", \"linecolor\": \"white\", \"ticks\": \"\"}, \"bgcolor\": \"#E5ECF6\", \"radialaxis\": {\"gridcolor\": \"white\", \"linecolor\": \"white\", \"ticks\": \"\"}}, \"scene\": {\"xaxis\": {\"backgroundcolor\": \"#E5ECF6\", \"gridcolor\": \"white\", \"gridwidth\": 2, \"linecolor\": \"white\", \"showbackground\": true, \"ticks\": \"\", \"zerolinecolor\": \"white\"}, \"yaxis\": {\"backgroundcolor\": \"#E5ECF6\", \"gridcolor\": \"white\", \"gridwidth\": 2, \"linecolor\": \"white\", \"showbackground\": true, \"ticks\": \"\", \"zerolinecolor\": \"white\"}, \"zaxis\": {\"backgroundcolor\": \"#E5ECF6\", \"gridcolor\": \"white\", \"gridwidth\": 2, \"linecolor\": \"white\", \"showbackground\": true, \"ticks\": \"\", \"zerolinecolor\": \"white\"}}, \"shapedefaults\": {\"line\": {\"color\": \"#2a3f5f\"}}, \"ternary\": {\"aaxis\": {\"gridcolor\": \"white\", \"linecolor\": \"white\", \"ticks\": \"\"}, \"baxis\": {\"gridcolor\": \"white\", \"linecolor\": \"white\", \"ticks\": \"\"}, \"bgcolor\": \"#E5ECF6\", \"caxis\": {\"gridcolor\": \"white\", \"linecolor\": \"white\", \"ticks\": \"\"}}, \"title\": {\"x\": 0.05}, \"xaxis\": {\"automargin\": true, \"gridcolor\": \"white\", \"linecolor\": \"white\", \"ticks\": \"\", \"title\": {\"standoff\": 15}, \"zerolinecolor\": \"white\", \"zerolinewidth\": 2}, \"yaxis\": {\"automargin\": true, \"gridcolor\": \"white\", \"linecolor\": \"white\", \"ticks\": \"\", \"title\": {\"standoff\": 15}, \"zerolinecolor\": \"white\", \"zerolinewidth\": 2}}}},\n",
       "                        {\"responsive\": true}\n",
       "                    ).then(function(){\n",
       "                            \n",
       "var gd = document.getElementById('8a1e6c0c-9c1d-4b2f-817b-05edb31312e3');\n",
       "var x = new MutationObserver(function (mutations, observer) {{\n",
       "        var display = window.getComputedStyle(gd).display;\n",
       "        if (!display || display === 'none') {{\n",
       "            console.log([gd, 'removed!']);\n",
       "            Plotly.purge(gd);\n",
       "            observer.disconnect();\n",
       "        }}\n",
       "}});\n",
       "\n",
       "// Listen for the removal of the full notebook cells\n",
       "var notebookContainer = gd.closest('#notebook-container');\n",
       "if (notebookContainer) {{\n",
       "    x.observe(notebookContainer, {childList: true});\n",
       "}}\n",
       "\n",
       "// Listen for the clearing of the current output cell\n",
       "var outputEl = gd.closest('.output');\n",
       "if (outputEl) {{\n",
       "    x.observe(outputEl, {childList: true});\n",
       "}}\n",
       "\n",
       "                        })\n",
       "                };\n",
       "                });\n",
       "            </script>\n",
       "        </div>"
      ]
     },
     "metadata": {},
     "output_type": "display_data"
    },
    {
     "data": {
      "text/plain": [
       "0.8704000000000001"
      ]
     },
     "execution_count": 195,
     "metadata": {},
     "output_type": "execute_result"
    }
   ],
   "source": [
    "import plotly.graph_objects as go\n",
    "\n",
    "\n",
    "\n",
    "show = [True,False,False,False,True,False,False,False]\n",
    "\n",
    "widths = [.01,.1,.5,.8,1,2,3,10] \n",
    "\n",
    "\n",
    "layer_colors = ['rgba(31,119,180,', \n",
    "                'rgba(255,127,14,',\n",
    "                'rgba(44,160,44,', \n",
    "                'rgba(214,39,40,',\n",
    "                'rgba(39, 208, 214,', \n",
    "                'rgba(242, 250, 17,',\n",
    "                'rgba(196, 94, 255,',\n",
    "                'rgba(193, 245, 5,',\n",
    "                'rgba(245, 85, 5,',\n",
    "                'rgba(5, 165, 245,',\n",
    "                'rgba(245, 5, 105,',\n",
    "                'rgba(218, 232, 23,',\n",
    "                'rgba(148, 23, 232,',\n",
    "                'rgba(23, 232, 166,',]\n",
    "\n",
    "\n",
    "edges_select_df = get_thresholded_edges(threshold = .1)\n",
    "\n",
    "\n",
    "widths = []\n",
    "for row in edges_select_df.itertuples():\n",
    "    widths.append(row.rank_score)\n",
    "    \n",
    "\n",
    "\n",
    "fig2 = go.Figure()\n",
    "\n",
    "# for i in range(4):\n",
    "#     fig2.add_trace(go.Scatter(\n",
    "#         x=[1+i, 2+i, 3+i],\n",
    "#         y=[2+i, 2+i, 2+i],\n",
    "#         legendgroup=\"group1\",\n",
    "#         name=\"group1\",\n",
    "#         mode=\"lines\",\n",
    "#         line=dict(color=layer_colors[i]+'1)',width = widths[i]),\n",
    "#         text=[None, \"Text B\", None],\n",
    "#         hoverinfo = 'text',\n",
    "#         showlegend= show[i]\n",
    "#     ))\n",
    "\n",
    "# for i in range(4,8):\n",
    "#     fig2.add_trace(go.Scatter(\n",
    "#         x=[1+i, 2+i, 3+i],\n",
    "#         y=[4+i, 9+i, 2+i],\n",
    "#         legendgroup=\"group2\",\n",
    "#         name=\"group2\",\n",
    "#         mode=\"lines\",\n",
    "#         line=dict(color=layer_colors[i]+'1)',width = widths[i]),\n",
    "#         showlegend = show[i]\n",
    "#     ))\n",
    "\n",
    "\n",
    "# fig3 = go.Figure()\n",
    "\n",
    "# for i in range(len(layer_colors)):\n",
    "#     fig3.add_trace(go.Scatter(\n",
    "#         x=[1, 2, 3],\n",
    "#         y=[i, i, i],\n",
    "#         mode=\"lines\",\n",
    "#         line=dict(color=layer_colors[i]+'1)'),\n",
    "\n",
    "#     ))    \n",
    "  \n",
    "fig4 = go.Figure()\n",
    "\n",
    "def edge_width_scaling(x):\n",
    "    return max(.5,(x*5)**1.5)\n",
    "\n",
    "def edge_color_scaling(x):\n",
    "    return max(.4,-(x-1)**4+1)\n",
    "\n",
    "for i in range(len(widths)):\n",
    "    fig4.add_trace(go.Scatter(\n",
    "        x=[1, 2, 3],\n",
    "        y=[.1*i, .1*i, .1*i],\n",
    "        mode=\"lines\",\n",
    "        line=dict(color='rgba(255,0,0,%s)'%edge_color_scaling(widths[i]),width=edge_width_scaling(widths[i])),\n",
    "        text = widths[i],\n",
    "        hoverinfo = 'text'\n",
    "        \n",
    "\n",
    "    ))    \n",
    "\n",
    "    \n",
    "#fig2.show()\n",
    "fig4.show()\n",
    "edge_color_scaling(.4)"
   ]
  },
  {
   "cell_type": "code",
   "execution_count": 86,
   "metadata": {},
   "outputs": [
    {
     "name": "stdout",
     "output_type": "stream",
     "text": [
      "5\n",
      "6\n",
      "7\n",
      "8\n"
     ]
    }
   ],
   "source": [
    "# from PIL import Image\n",
    "# im_names = os.listdir('input_images_testing')\n",
    "\n",
    "# for name in im_names:\n",
    "#     im = Image.open(\"input_images_testing/%s\"%name)\n",
    "#     im = im.resize((320,320),resample=Image.NEAREST)\n",
    "#     im.save(\"input_images/%s\"%name,\"PNG\")\n",
    "\n",
    "for i in range(5,9):\n",
    "    print(i)"
   ]
  },
  {
   "cell_type": "code",
   "execution_count": 91,
   "metadata": {},
   "outputs": [
    {
     "name": "stdout",
     "output_type": "stream",
     "text": [
      "[[0.0, '#09ffff'], [0.14772727272727273, '#09ffff'], [0.14772727272727273, '#19d3f3'], [0.4318181818181818, '#19d3f3'], [0.4318181818181818, '#e763fa'], [0.7159090909090909, '#e763fa'], [0.7159090909090909, '#ab63fa'], [1.0, '#ab63fa']]\n",
      "[[0.0, '#fbf9fa'], [0.0009765625, '#fbf9fa'], [0.0009765625, '#f7f5f7'], [0.001953125, '#f7f5f7'], [0.001953125, '#f7f5f7'], [0.0029296875, '#f7f5f7'], [0.0029296875, '#f8f6f7'], [0.00390625, '#f8f6f7'], [0.00390625, '#f9f7f8'], [0.0048828125, '#f9f7f8'], [0.0048828125, '#f8f6f8'], [0.005859375, '#f8f6f8'], [0.005859375, '#f8f6f7'], [0.0068359375, '#f8f6f7'], [0.0068359375, '#f8f6f8'], [0.0078125, '#f8f6f8'], [0.0078125, '#f9f7fa'], [0.0087890625, '#f9f7fa'], [0.0087890625, '#f9f6f9'], [0.009765625, '#f9f6f9'], [0.009765625, '#f8f6f9'], [0.0107421875, '#f8f6f9'], [0.0107421875, '#f9f7f9'], [0.01171875, '#f9f7f9'], [0.01171875, '#faf7fa'], [0.0126953125, '#faf7fa'], [0.0126953125, '#f9f7fa'], [0.013671875, '#f9f7fa'], [0.013671875, '#f9f7f9'], [0.0146484375, '#f9f7f9'], [0.0146484375, '#f9f7f8'], [0.015625, '#f9f7f8'], [0.015625, '#f9f7f8'], [0.0166015625, '#f9f7f8'], [0.0166015625, '#f8f7f7'], [0.017578125, '#f8f7f7'], [0.017578125, '#f9f6f7'], [0.0185546875, '#f9f6f7'], [0.0185546875, '#f9f6f7'], [0.01953125, '#f9f6f7'], [0.01953125, '#faf5f6'], [0.0205078125, '#faf5f6'], [0.0205078125, '#faf5f7'], [0.021484375, '#faf5f7'], [0.021484375, '#faf6f7'], [0.0224609375, '#faf6f7'], [0.0224609375, '#f9f6f7'], [0.0234375, '#f9f6f7'], [0.0234375, '#faf6f7'], [0.0244140625, '#faf6f7'], [0.0244140625, '#faf5f7'], [0.025390625, '#faf5f7'], [0.025390625, '#faf3f5'], [0.0263671875, '#faf3f5'], [0.0263671875, '#faf3f5'], [0.02734375, '#faf3f5'], [0.02734375, '#f5e6e2'], [0.0283203125, '#f5e6e2'], [0.0283203125, '#e5be92'], [0.029296875, '#e5be92'], [0.029296875, '#f4e7e0'], [0.0302734375, '#f4e7e0'], [0.0302734375, '#fbf1f1'], [0.03125, '#fbf1f1'], [0.03125, '#f9f8f8'], [0.0322265625, '#f9f8f8'], [0.0322265625, '#f6f4f4'], [0.033203125, '#f6f4f4'], [0.033203125, '#f6f5f4'], [0.0341796875, '#f6f5f4'], [0.0341796875, '#f6f5f4'], [0.03515625, '#f6f5f4'], [0.03515625, '#f7f5f5'], [0.0361328125, '#f7f5f5'], [0.0361328125, '#f7f5f5'], [0.037109375, '#f7f5f5'], [0.037109375, '#f7f6f5'], [0.0380859375, '#f7f6f5'], [0.0380859375, '#f8f6f6'], [0.0390625, '#f8f6f6'], [0.0390625, '#f8f6f8'], [0.0400390625, '#f8f6f8'], [0.0400390625, '#f9f7f8'], [0.041015625, '#f9f7f8'], [0.041015625, '#f9f8f9'], [0.0419921875, '#f9f8f9'], [0.0419921875, '#fbfafa'], [0.04296875, '#fbfafa'], [0.04296875, '#fcfafb'], [0.0439453125, '#fcfafb'], [0.0439453125, '#fcfbfc'], [0.044921875, '#fcfbfc'], [0.044921875, '#fcfbfb'], [0.0458984375, '#fcfbfb'], [0.0458984375, '#fefdfc'], [0.046875, '#fefdfc'], [0.046875, '#fefcfd'], [0.0478515625, '#fefcfd'], [0.0478515625, '#fdfafb'], [0.048828125, '#fdfafb'], [0.048828125, '#fef9fb'], [0.0498046875, '#fef9fb'], [0.0498046875, '#fff9fb'], [0.05078125, '#fff9fb'], [0.05078125, '#fff7fa'], [0.0517578125, '#fff7fa'], [0.0517578125, '#fff7fa'], [0.052734375, '#fff7fa'], [0.052734375, '#fff8fb'], [0.0537109375, '#fff8fb'], [0.0537109375, '#fff8fb'], [0.0546875, '#fff8fb'], [0.0546875, '#fff9fb'], [0.0556640625, '#fff9fb'], [0.0556640625, '#fffafc'], [0.056640625, '#fffafc'], [0.056640625, '#fff8f9'], [0.0576171875, '#fff8f9'], [0.0576171875, '#fcfafc'], [0.05859375, '#fcfafc'], [0.05859375, '#f5d5bf'], [0.0595703125, '#f5d5bf'], [0.0595703125, '#e9bc8d'], [0.060546875, '#e9bc8d'], [0.060546875, '#f9ede9'], [0.0615234375, '#f9ede9'], [0.0615234375, '#fcf2f1'], [0.0625, '#fcf2f1'], [0.0625, '#a7a594'], [0.0634765625, '#a7a594'], [0.0634765625, '#a7a494'], [0.064453125, '#a7a494'], [0.064453125, '#a7a495'], [0.0654296875, '#a7a495'], [0.0654296875, '#a7a496'], [0.06640625, '#a7a496'], [0.06640625, '#a8a395'], [0.0673828125, '#a8a395'], [0.0673828125, '#aaa595'], [0.068359375, '#aaa595'], [0.068359375, '#aca898'], [0.0693359375, '#aca898'], [0.0693359375, '#aca89a'], [0.0703125, '#aca89a'], [0.0703125, '#aea89c'], [0.0712890625, '#aea89c'], [0.0712890625, '#b0a99e'], [0.072265625, '#b0a99e'], [0.072265625, '#b2a99e'], [0.0732421875, '#b2a99e'], [0.0732421875, '#b7aaa1'], [0.07421875, '#b7aaa1'], [0.07421875, '#b9ada5'], [0.0751953125, '#b9ada5'], [0.0751953125, '#b9afa5'], [0.076171875, '#b9afa5'], [0.076171875, '#baafa7'], [0.0771484375, '#baafa7'], [0.0771484375, '#beb2aa'], [0.078125, '#beb2aa'], [0.078125, '#c4b2ae'], [0.0791015625, '#c4b2ae'], [0.0791015625, '#c6b4b1'], [0.080078125, '#c6b4b1'], [0.080078125, '#cab8b4'], [0.0810546875, '#cab8b4'], [0.0810546875, '#cabbb3'], [0.08203125, '#cabbb3'], [0.08203125, '#c8bbb4'], [0.0830078125, '#c8bbb4'], [0.0830078125, '#cbc1b7'], [0.083984375, '#cbc1b7'], [0.083984375, '#cec4bc'], [0.0849609375, '#cec4bc'], [0.0849609375, '#cec5be'], [0.0859375, '#cec5be'], [0.0859375, '#cec7bf'], [0.0869140625, '#cec7bf'], [0.0869140625, '#d1cac2'], [0.087890625, '#d1cac2'], [0.087890625, '#d2cec6'], [0.0888671875, '#d2cec6'], [0.0888671875, '#d5d3c8'], [0.08984375, '#d5d3c8'], [0.08984375, '#ecbb92'], [0.0908203125, '#ecbb92'], [0.0908203125, '#d9b68b'], [0.091796875, '#d9b68b'], [0.091796875, '#d9d3cb'], [0.0927734375, '#d9d3cb'], [0.0927734375, '#dcd5d0'], [0.09375, '#dcd5d0'], [0.09375, '#4e4925'], [0.0947265625, '#4e4925'], [0.0947265625, '#504827'], [0.095703125, '#504827'], [0.095703125, '#534a29'], [0.0966796875, '#534a29'], [0.0966796875, '#554f30'], [0.09765625, '#554f30'], [0.09765625, '#524628'], [0.0986328125, '#524628'], [0.0986328125, '#504927'], [0.099609375, '#504927'], [0.099609375, '#544a29'], [0.1005859375, '#544a29'], [0.1005859375, '#56462b'], [0.1015625, '#56462b'], [0.1015625, '#5c452a'], [0.1025390625, '#5c452a'], [0.1025390625, '#61422b'], [0.103515625, '#61422b'], [0.103515625, '#65402c'], [0.1044921875, '#65402c'], [0.1044921875, '#6e422d'], [0.10546875, '#6e422d'], [0.10546875, '#694231'], [0.1064453125, '#694231'], [0.1064453125, '#5c402e'], [0.107421875, '#5c402e'], [0.107421875, '#5a4030'], [0.1083984375, '#5a4030'], [0.1083984375, '#614332'], [0.109375, '#614332'], [0.109375, '#644333'], [0.1103515625, '#644333'], [0.1103515625, '#664634'], [0.111328125, '#664634'], [0.111328125, '#71543a'], [0.1123046875, '#71543a'], [0.1123046875, '#755c39'], [0.11328125, '#755c39'], [0.11328125, '#6e583a'], [0.1142578125, '#6e583a'], [0.1142578125, '#71623c'], [0.115234375, '#71623c'], [0.115234375, '#70623e'], [0.1162109375, '#70623e'], [0.1162109375, '#706642'], [0.1171875, '#706642'], [0.1171875, '#726949'], [0.1181640625, '#726949'], [0.1181640625, '#746847'], [0.119140625, '#746847'], [0.119140625, '#716e49'], [0.1201171875, '#716e49'], [0.1201171875, '#8b8159'], [0.12109375, '#8b8159'], [0.12109375, '#e9ae79'], [0.1220703125, '#e9ae79'], [0.1220703125, '#aa8a5e'], [0.123046875, '#aa8a5e'], [0.123046875, '#7d7b5b'], [0.1240234375, '#7d7b5b'], [0.1240234375, '#84805e'], [0.125, '#84805e'], [0.125, '#4c471c'], [0.1259765625, '#4c471c'], [0.1259765625, '#4c441b'], [0.126953125, '#4c441b'], [0.126953125, '#4e451a'], [0.1279296875, '#4e451a'], [0.1279296875, '#534b26'], [0.12890625, '#534b26'], [0.12890625, '#583d1f'], [0.1298828125, '#583d1f'], [0.1298828125, '#50421e'], [0.130859375, '#50421e'], [0.130859375, '#4c431f'], [0.1318359375, '#4c431f'], [0.1318359375, '#543a1c'], [0.1328125, '#543a1c'], [0.1328125, '#633a1e'], [0.1337890625, '#633a1e'], [0.1337890625, '#733b21'], [0.134765625, '#733b21'], [0.134765625, '#763b27'], [0.1357421875, '#763b27'], [0.1357421875, '#834229'], [0.13671875, '#834229'], [0.13671875, '#7b4227'], [0.1376953125, '#7b4227'], [0.1376953125, '#5b3a21'], [0.138671875, '#5b3a21'], [0.138671875, '#4c321c'], [0.1396484375, '#4c321c'], [0.1396484375, '#51371d'], [0.140625, '#51371d'], [0.140625, '#573f20'], [0.1416015625, '#573f20'], [0.1416015625, '#593a1d'], [0.142578125, '#593a1d'], [0.142578125, '#5f481e'], [0.1435546875, '#5f481e'], [0.1435546875, '#64551d'], [0.14453125, '#64551d'], [0.14453125, '#604b1c'], [0.1455078125, '#604b1c'], [0.1455078125, '#60521b'], [0.146484375, '#60521b'], [0.146484375, '#5d4e1b'], [0.1474609375, '#5d4e1b'], [0.1474609375, '#5e4f2b'], [0.1484375, '#5e4f2b'], [0.1484375, '#52442a'], [0.1494140625, '#52442a'], [0.1494140625, '#554324'], [0.150390625, '#554324'], [0.150390625, '#504818'], [0.1513671875, '#504818'], [0.1513671875, '#8b763b'], [0.15234375, '#8b763b'], [0.15234375, '#efb177'], [0.1533203125, '#efb177'], [0.1533203125, '#866434'], [0.154296875, '#866434'], [0.154296875, '#524e19'], [0.1552734375, '#524e19'], [0.1552734375, '#56531a'], [0.15625, '#56531a'], [0.15625, '#514e1b'], [0.1572265625, '#514e1b'], [0.1572265625, '#50481d'], [0.158203125, '#50481d'], [0.158203125, '#51481e'], [0.1591796875, '#51481e'], [0.1591796875, '#534822'], [0.16015625, '#534822'], [0.16015625, '#5f401e'], [0.1611328125, '#5f401e'], [0.1611328125, '#674022'], [0.162109375, '#674022'], [0.162109375, '#584523'], [0.1630859375, '#584523'], [0.1630859375, '#5a3e1f'], [0.1640625, '#5a3e1f'], [0.1640625, '#663a22'], [0.1650390625, '#663a22'], [0.1650390625, '#83422b'], [0.166015625, '#83422b'], [0.166015625, '#773b29'], [0.1669921875, '#773b29'], [0.1669921875, '#884a31'], [0.16796875, '#884a31'], [0.16796875, '#8c522e'], [0.1689453125, '#8c522e'], [0.1689453125, '#72502a'], [0.169921875, '#72502a'], [0.169921875, '#5d4724'], [0.1708984375, '#5d4724'], [0.1708984375, '#615127'], [0.171875, '#615127'], [0.171875, '#6d5d2b'], [0.1728515625, '#6d5d2b'], [0.1728515625, '#674425'], [0.173828125, '#674425'], [0.173828125, '#614f22'], [0.1748046875, '#614f22'], [0.1748046875, '#695e20'], [0.17578125, '#695e20'], [0.17578125, '#6c5622'], [0.1767578125, '#6c5622'], [0.1767578125, '#66591c'], [0.177734375, '#66591c'], [0.177734375, '#5e5421'], [0.1787109375, '#5e5421'], [0.1787109375, '#554635'], [0.1796875, '#554635'], [0.1796875, '#42362f'], [0.1806640625, '#42362f'], [0.1806640625, '#48382a'], [0.181640625, '#48382a'], [0.181640625, '#554829'], [0.1826171875, '#554829'], [0.1826171875, '#be9a66'], [0.18359375, '#be9a66'], [0.18359375, '#e4a96e'], [0.1845703125, '#e4a96e'], [0.1845703125, '#705926'], [0.185546875, '#705926'], [0.185546875, '#5c531b'], [0.1865234375, '#5c531b'], [0.1865234375, '#5f591e'], [0.1875, '#5f591e'], [0.1875, '#564f1b'], [0.1884765625, '#564f1b'], [0.1884765625, '#554a20'], [0.189453125, '#554a20'], [0.189453125, '#544922'], [0.1904296875, '#544922'], [0.1904296875, '#595023'], [0.19140625, '#595023'], [0.19140625, '#594c21'], [0.1923828125, '#594c21'], [0.1923828125, '#684325'], [0.193359375, '#684325'], [0.193359375, '#704126'], [0.1943359375, '#704126'], [0.1943359375, '#604226'], [0.1953125, '#604226'], [0.1953125, '#623922'], [0.1962890625, '#623922'], [0.1962890625, '#78422b'], [0.197265625, '#78422b'], [0.197265625, '#633425'], [0.1982421875, '#633425'], [0.1982421875, '#844f2f'], [0.19921875, '#844f2f'], [0.19921875, '#8a5c2b'], [0.2001953125, '#8a5c2b'], [0.2001953125, '#8e7441'], [0.201171875, '#8e7441'], [0.201171875, '#897747'], [0.2021484375, '#897747'], [0.2021484375, '#867649'], [0.203125, '#867649'], [0.203125, '#8f814e'], [0.2041015625, '#8f814e'], [0.2041015625, '#634928'], [0.205078125, '#634928'], [0.205078125, '#5c4629'], [0.2060546875, '#5c4629'], [0.2060546875, '#8a5326'], [0.20703125, '#8a5326'], [0.20703125, '#9f502f'], [0.2080078125, '#9f502f'], [0.2080078125, '#955f3c'], [0.208984375, '#955f3c'], [0.208984375, '#795e3e'], [0.2099609375, '#795e3e'], [0.2099609375, '#463429'], [0.2109375, '#463429'], [0.2109375, '#45382f'], [0.2119140625, '#45382f'], [0.2119140625, '#695749'], [0.212890625, '#695749'], [0.212890625, '#77644b'], [0.2138671875, '#77644b'], [0.2138671875, '#e5b885'], [0.21484375, '#e5b885'], [0.21484375, '#bb9250'], [0.2158203125, '#bb9250'], [0.2158203125, '#645e1c'], [0.216796875, '#645e1c'], [0.216796875, '#645e1d'], [0.2177734375, '#645e1d'], [0.2177734375, '#635f21'], [0.21875, '#635f21'], [0.21875, '#5e5a1d'], [0.2197265625, '#5e5a1d'], [0.2197265625, '#5f5920'], [0.220703125, '#5f5920'], [0.220703125, '#5d4e1f'], [0.2216796875, '#5d4e1f'], [0.2216796875, '#5f572b'], [0.22265625, '#5f572b'], [0.22265625, '#656532'], [0.2236328125, '#656532'], [0.2236328125, '#6b6533'], [0.224609375, '#6b6533'], [0.224609375, '#7c5931'], [0.2255859375, '#7c5931'], [0.2255859375, '#824b31'], [0.2265625, '#824b31'], [0.2265625, '#90683f'], [0.2275390625, '#90683f'], [0.2275390625, '#91764d'], [0.228515625, '#91764d'], [0.228515625, '#564031'], [0.2294921875, '#564031'], [0.2294921875, '#88753a'], [0.23046875, '#88753a'], [0.23046875, '#978c3b'], [0.2314453125, '#978c3b'], [0.2314453125, '#a09b4c'], [0.232421875, '#a09b4c'], [0.232421875, '#968d41'], [0.2333984375, '#968d41'], [0.2333984375, '#897a4c'], [0.234375, '#897a4c'], [0.234375, '#867e53'], [0.2353515625, '#867e53'], [0.2353515625, '#795432'], [0.236328125, '#795432'], [0.236328125, '#852b20'], [0.2373046875, '#852b20'], [0.2373046875, '#c6362c'], [0.23828125, '#c6362c'], [0.23828125, '#e14c48'], [0.2392578125, '#e14c48'], [0.2392578125, '#f19087'], [0.240234375, '#f19087'], [0.240234375, '#d99390'], [0.2412109375, '#d99390'], [0.2412109375, '#62433f'], [0.2421875, '#62433f'], [0.2421875, '#564b35'], [0.2431640625, '#564b35'], [0.2431640625, '#b0977f'], [0.244140625, '#b0977f'], [0.244140625, '#bc9a7e'], [0.2451171875, '#bc9a7e'], [0.2451171875, '#bd946a'], [0.24609375, '#bd946a'], [0.24609375, '#b09754'], [0.2470703125, '#b09754'], [0.2470703125, '#938d49'], [0.248046875, '#938d49'], [0.248046875, '#948c49'], [0.2490234375, '#948c49'], [0.2490234375, '#90864c'], [0.25, '#90864c'], [0.25, '#9d9952'], [0.2509765625, '#9d9952'], [0.2509765625, '#9d9852'], [0.251953125, '#9d9852'], [0.251953125, '#a4955b'], [0.2529296875, '#a4955b'], [0.2529296875, '#917347'], [0.25390625, '#917347'], [0.25390625, '#9a884a'], [0.2548828125, '#9a884a'], [0.2548828125, '#a8a259'], [0.255859375, '#a8a259'], [0.255859375, '#aea461'], [0.2568359375, '#aea461'], [0.2568359375, '#a38256'], [0.2578125, '#a38256'], [0.2578125, '#aa7851'], [0.2587890625, '#aa7851'], [0.2587890625, '#b99f6d'], [0.259765625, '#b99f6d'], [0.259765625, '#735c44'], [0.2607421875, '#735c44'], [0.2607421875, '#a28f6c'], [0.26171875, '#a28f6c'], [0.26171875, '#baae74'], [0.2626953125, '#baae74'], [0.2626953125, '#b9aa70'], [0.263671875, '#b9aa70'], [0.263671875, '#b2a26d'], [0.2646484375, '#b2a26d'], [0.2646484375, '#a68d67'], [0.265625, '#a68d67'], [0.265625, '#916d51'], [0.2666015625, '#916d51'], [0.2666015625, '#813926'], [0.267578125, '#813926'], [0.267578125, '#a9241e'], [0.2685546875, '#a9241e'], [0.2685546875, '#c82b25'], [0.26953125, '#c82b25'], [0.26953125, '#d3403d'], [0.2705078125, '#d3403d'], [0.2705078125, '#f0867b'], [0.271484375, '#f0867b'], [0.271484375, '#a3625c'], [0.2724609375, '#a3625c'], [0.2724609375, '#3e312a'], [0.2734375, '#3e312a'], [0.2734375, '#75674a'], [0.2744140625, '#75674a'], [0.2744140625, '#b89f7e'], [0.275390625, '#b89f7e'], [0.275390625, '#b9895e'], [0.2763671875, '#b9895e'], [0.2763671875, '#93724b'], [0.27734375, '#93724b'], [0.27734375, '#b49d78'], [0.2783203125, '#b49d78'], [0.2783203125, '#b19f78'], [0.279296875, '#b19f78'], [0.279296875, '#af9d75'], [0.2802734375, '#af9d75'], [0.2802734375, '#af9c79'], [0.28125, '#af9c79'], [0.28125, '#b9a781'], [0.2822265625, '#b9a781'], [0.2822265625, '#b7a37f'], [0.283203125, '#b7a37f'], [0.283203125, '#baa581'], [0.2841796875, '#baa581'], [0.2841796875, '#b4997d'], [0.28515625, '#b4997d'], [0.28515625, '#a17b62'], [0.2861328125, '#a17b62'], [0.2861328125, '#ac8969'], [0.287109375, '#ac8969'], [0.287109375, '#bead92'], [0.2880859375, '#bead92'], [0.2880859375, '#c1b19d'], [0.2890625, '#c1b19d'], [0.2890625, '#a67b57'], [0.2900390625, '#a67b57'], [0.2900390625, '#b0825c'], [0.291015625, '#b0825c'], [0.291015625, '#ac8266'], [0.2919921875, '#ac8266'], [0.2919921875, '#b89e79'], [0.29296875, '#b89e79'], [0.29296875, '#c4ab85'], [0.2939453125, '#c4ab85'], [0.2939453125, '#bda97e'], [0.294921875, '#bda97e'], [0.294921875, '#ac9570'], [0.2958984375, '#ac9570'], [0.2958984375, '#95735f'], [0.296875, '#95735f'], [0.296875, '#774438'], [0.2978515625, '#774438'], [0.2978515625, '#671a14'], [0.298828125, '#671a14'], [0.298828125, '#9b221c'], [0.2998046875, '#9b221c'], [0.2998046875, '#b9281e'], [0.30078125, '#b9281e'], [0.30078125, '#bd2c24'], [0.3017578125, '#bd2c24'], [0.3017578125, '#c8433c'], [0.302734375, '#c8433c'], [0.302734375, '#823b30'], [0.3037109375, '#823b30'], [0.3037109375, '#281c15'], [0.3046875, '#281c15'], [0.3046875, '#56472f'], [0.3056640625, '#56472f'], [0.3056640625, '#8b7250'], [0.306640625, '#8b7250'], [0.306640625, '#ae7e49'], [0.3076171875, '#ae7e49'], [0.3076171875, '#998147'], [0.30859375, '#998147'], [0.30859375, '#b1a15c'], [0.3095703125, '#b1a15c'], [0.3095703125, '#b2a259'], [0.310546875, '#b2a259'], [0.310546875, '#b2a258'], [0.3115234375, '#b2a258'], [0.3115234375, '#afa258'], [0.3125, '#afa258'], [0.3125, '#c2a986'], [0.3134765625, '#c2a986'], [0.3134765625, '#bfa67c'], [0.314453125, '#bfa67c'], [0.314453125, '#bfa877'], [0.3154296875, '#bfa877'], [0.3154296875, '#c5af7c'], [0.31640625, '#c5af7c'], [0.31640625, '#c2a574'], [0.3173828125, '#c2a574'], [0.3173828125, '#ac8856'], [0.318359375, '#ac8856'], [0.318359375, '#b89a7f'], [0.3193359375, '#b89a7f'], [0.3193359375, '#c7b5a3'], [0.3203125, '#c7b5a3'], [0.3203125, '#bba36a'], [0.3212890625, '#bba36a'], [0.3212890625, '#b59054'], [0.322265625, '#b59054'], [0.322265625, '#b07c4b'], [0.3232421875, '#b07c4b'], [0.3232421875, '#c0a25e'], [0.32421875, '#c0a25e'], [0.32421875, '#ccb874'], [0.3251953125, '#ccb874'], [0.3251953125, '#a7955c'], [0.326171875, '#a7955c'], [0.326171875, '#7b6341'], [0.3271484375, '#7b6341'], [0.3271484375, '#694937'], [0.328125, '#694937'], [0.328125, '#4c271a'], [0.3291015625, '#4c271a'], [0.3291015625, '#6b251d'], [0.330078125, '#6b251d'], [0.330078125, '#98211a'], [0.3310546875, '#98211a'], [0.3310546875, '#ae251d'], [0.33203125, '#ae251d'], [0.33203125, '#a8271d'], [0.3330078125, '#a8271d'], [0.3330078125, '#a3231e'], [0.333984375, '#a3231e'], [0.333984375, '#7e251d'], [0.3349609375, '#7e251d'], [0.3349609375, '#3a2019'], [0.3359375, '#3a2019'], [0.3359375, '#362d1d'], [0.3369140625, '#362d1d'], [0.3369140625, '#7a5a34'], [0.337890625, '#7a5a34'], [0.337890625, '#7e5a2e'], [0.3388671875, '#7e5a2e'], [0.3388671875, '#897d45'], [0.33984375, '#897d45'], [0.33984375, '#af9f4f'], [0.3408203125, '#af9f4f'], [0.3408203125, '#ab9d4d'], [0.341796875, '#ab9d4d'], [0.341796875, '#b19f4f'], [0.3427734375, '#b19f4f'], [0.3427734375, '#b2a24c'], [0.34375, '#b2a24c'], [0.34375, '#d5c190'], [0.3447265625, '#d5c190'], [0.3447265625, '#cdb97e'], [0.345703125, '#cdb97e'], [0.345703125, '#cab674'], [0.3466796875, '#cab674'], [0.3466796875, '#cebb79'], [0.34765625, '#cebb79'], [0.34765625, '#cebc79'], [0.3486328125, '#cebc79'], [0.3486328125, '#beaa5f'], [0.349609375, '#beaa5f'], [0.349609375, '#a98e62'], [0.3505859375, '#a98e62'], [0.3505859375, '#b29682'], [0.3515625, '#b29682'], [0.3515625, '#b39961'], [0.3525390625, '#b39961'], [0.3525390625, '#b19e56'], [0.353515625, '#b19e56'], [0.353515625, '#ae904c'], [0.3544921875, '#ae904c'], [0.3544921875, '#ad8449'], [0.35546875, '#ad8449'], [0.35546875, '#c8a574'], [0.3564453125, '#c8a574'], [0.3564453125, '#7b5e44'], [0.357421875, '#7b5e44'], [0.357421875, '#553529'], [0.3583984375, '#553529'], [0.3583984375, '#733f34'], [0.359375, '#733f34'], [0.359375, '#6d3021'], [0.3603515625, '#6d3021'], [0.3603515625, '#903b2d'], [0.361328125, '#903b2d'], [0.361328125, '#97271a'], [0.3623046875, '#97271a'], [0.3623046875, '#a6261d'], [0.36328125, '#a6261d'], [0.36328125, '#99271c'], [0.3642578125, '#99271c'], [0.3642578125, '#a4261d'], [0.365234375, '#a4261d'], [0.365234375, '#92271a'], [0.3662109375, '#92271a'], [0.3662109375, '#3d1e17'], [0.3671875, '#3d1e17'], [0.3671875, '#31271e'], [0.3681640625, '#31271e'], [0.3681640625, '#855f2f'], [0.369140625, '#855f2f'], [0.369140625, '#4c371a'], [0.3701171875, '#4c371a'], [0.3701171875, '#78703e'], [0.37109375, '#78703e'], [0.37109375, '#b2a050'], [0.3720703125, '#b2a050'], [0.3720703125, '#ab9b4d'], [0.373046875, '#ab9b4d'], [0.373046875, '#ae9b4d'], [0.3740234375, '#ae9b4d'], [0.3740234375, '#aa9c49'], [0.375, '#aa9c49'], [0.375, '#c9ba7e'], [0.3759765625, '#c9ba7e'], [0.3759765625, '#c0b169'], [0.376953125, '#c0b169'], [0.376953125, '#bcae5d'], [0.3779296875, '#bcae5d'], [0.3779296875, '#bdb25a'], [0.37890625, '#bdb25a'], [0.37890625, '#bbb05b'], [0.3798828125, '#bbb05b'], [0.3798828125, '#b6ac51'], [0.380859375, '#b6ac51'], [0.380859375, '#b4a46d'], [0.3818359375, '#b4a46d'], [0.3818359375, '#b29786'], [0.3828125, '#b29786'], [0.3828125, '#a08353'], [0.3837890625, '#a08353'], [0.3837890625, '#a69646'], [0.384765625, '#a69646'], [0.384765625, '#b2a649'], [0.3857421875, '#b2a649'], [0.3857421875, '#b99f5e'], [0.38671875, '#b99f5e'], [0.38671875, '#c58773'], [0.3876953125, '#c58773'], [0.3876953125, '#6e3c31'], [0.388671875, '#6e3c31'], [0.388671875, '#663327'], [0.3896484375, '#663327'], [0.3896484375, '#934335'], [0.390625, '#934335'], [0.390625, '#943f2e'], [0.3916015625, '#943f2e'], [0.3916015625, '#963727'], [0.392578125, '#963727'], [0.392578125, '#9a2c1e'], [0.3935546875, '#9a2c1e'], [0.3935546875, '#a6261d'], [0.39453125, '#a6261d'], [0.39453125, '#a4261c'], [0.3955078125, '#a4261c'], [0.3955078125, '#ad2c1e'], [0.396484375, '#ad2c1e'], [0.396484375, '#9a2b1b'], [0.3974609375, '#9a2b1b'], [0.3974609375, '#341811'], [0.3984375, '#341811'], [0.3984375, '#423120'], [0.3994140625, '#423120'], [0.3994140625, '#795327'], [0.400390625, '#795327'], [0.400390625, '#4d4426'], [0.4013671875, '#4d4426'], [0.4013671875, '#978e46'], [0.40234375, '#978e46'], [0.40234375, '#a99e48'], [0.4033203125, '#a99e48'], [0.4033203125, '#a79c48'], [0.404296875, '#a79c48'], [0.404296875, '#aa9b49'], [0.4052734375, '#aa9b49'], [0.4052734375, '#a59947'], [0.40625, '#a59947'], [0.40625, '#b4a756'], [0.4072265625, '#b4a756'], [0.4072265625, '#b0a44f'], [0.408203125, '#b0a44f'], [0.408203125, '#b0a348'], [0.4091796875, '#b0a348'], [0.4091796875, '#b2a446'], [0.41015625, '#b2a446'], [0.41015625, '#b1a24d'], [0.4111328125, '#b1a24d'], [0.4111328125, '#b0a04e'], [0.412109375, '#b0a04e'], [0.412109375, '#b9ab75'], [0.4130859375, '#b9ab75'], [0.4130859375, '#c7b9aa'], [0.4140625, '#c7b9aa'], [0.4140625, '#ac936a'], [0.4150390625, '#ac936a'], [0.4150390625, '#a27f39'], [0.416015625, '#a27f39'], [0.416015625, '#bba35d'], [0.4169921875, '#bba35d'], [0.4169921875, '#e2b49a'], [0.41796875, '#e2b49a'], [0.41796875, '#c9756a'], [0.4189453125, '#c9756a'], [0.4189453125, '#8c3728'], [0.419921875, '#8c3728'], [0.419921875, '#903829'], [0.4208984375, '#903829'], [0.4208984375, '#9a3c2c'], [0.421875, '#9a3c2c'], [0.421875, '#943526'], [0.4228515625, '#943526'], [0.4228515625, '#952b1e'], [0.423828125, '#952b1e'], [0.423828125, '#9f2a1d'], [0.4248046875, '#9f2a1d'], [0.4248046875, '#a4221b'], [0.42578125, '#a4221b'], [0.42578125, '#a42516'], [0.4267578125, '#a42516'], [0.4267578125, '#ab2918'], [0.427734375, '#ab2918'], [0.427734375, '#772214'], [0.4287109375, '#772214'], [0.4287109375, '#27160f'], [0.4296875, '#27160f'], [0.4296875, '#634b28'], [0.4306640625, '#634b28'], [0.4306640625, '#64471e'], [0.431640625, '#64471e'], [0.431640625, '#5b562a'], [0.4326171875, '#5b562a'], [0.4326171875, '#afa645'], [0.43359375, '#afa645'], [0.43359375, '#aaa248'], [0.4345703125, '#aaa248'], [0.4345703125, '#ada44c'], [0.435546875, '#ada44c'], [0.435546875, '#b0a44c'], [0.4365234375, '#b0a44c'], [0.4365234375, '#b0a04c'], [0.4375, '#b0a04c'], [0.4375, '#b49d50'], [0.4384765625, '#b49d50'], [0.4384765625, '#b79c57'], [0.439453125, '#b79c57'], [0.439453125, '#ba9a58'], [0.4404296875, '#ba9a58'], [0.4404296875, '#ba9a56'], [0.44140625, '#ba9a56'], [0.44140625, '#b39551'], [0.4423828125, '#b39551'], [0.4423828125, '#b3954f'], [0.443359375, '#b3954f'], [0.443359375, '#baa575'], [0.4443359375, '#baa575'], [0.4443359375, '#cabdb0'], [0.4453125, '#cabdb0'], [0.4453125, '#c0ae7c'], [0.4462890625, '#c0ae7c'], [0.4462890625, '#a88a4b'], [0.447265625, '#a88a4b'], [0.447265625, '#bb8268'], [0.4482421875, '#bb8268'], [0.4482421875, '#d07063'], [0.44921875, '#d07063'], [0.44921875, '#b94938'], [0.4501953125, '#b94938'], [0.4501953125, '#a53c2c'], [0.451171875, '#a53c2c'], [0.451171875, '#973123'], [0.4521484375, '#973123'], [0.4521484375, '#942f21'], [0.453125, '#942f21'], [0.453125, '#902b1d'], [0.4541015625, '#902b1d'], [0.4541015625, '#942718'], [0.455078125, '#942718'], [0.455078125, '#972212'], [0.4560546875, '#972212'], [0.4560546875, '#9a2013'], [0.45703125, '#9a2013'], [0.45703125, '#a52214'], [0.4580078125, '#a52214'], [0.4580078125, '#832311'], [0.458984375, '#832311'], [0.458984375, '#411507'], [0.4599609375, '#411507'], [0.4599609375, '#281a11'], [0.4609375, '#281a11'], [0.4609375, '#7e612f'], [0.4619140625, '#7e612f'], [0.4619140625, '#927b3b'], [0.462890625, '#927b3b'], [0.462890625, '#968f44'], [0.4638671875, '#968f44'], [0.4638671875, '#b3a54b'], [0.46484375, '#b3a54b'], [0.46484375, '#b4a64c'], [0.4658203125, '#b4a64c'], [0.4658203125, '#b4a84e'], [0.466796875, '#b4a84e'], [0.466796875, '#b3a74b'], [0.4677734375, '#b3a74b'], [0.4677734375, '#afa249'], [0.46875, '#afa249'], [0.46875, '#ad9e4b'], [0.4697265625, '#ad9e4b'], [0.4697265625, '#b49b4f'], [0.470703125, '#b49b4f'], [0.470703125, '#bf9f58'], [0.4716796875, '#bf9f58'], [0.4716796875, '#c39f5c'], [0.47265625, '#c39f5c'], [0.47265625, '#c29d59'], [0.4736328125, '#c29d59'], [0.4736328125, '#c5a25a'], [0.474609375, '#c5a25a'], [0.474609375, '#c6ae78'], [0.4755859375, '#c6ae78'], [0.4755859375, '#c5b7a7'], [0.4765625, '#c5b7a7'], [0.4765625, '#c6b28f'], [0.4775390625, '#c6b28f'], [0.4775390625, '#d0895f'], [0.478515625, '#d0895f'], [0.478515625, '#c1503e'], [0.4794921875, '#c1503e'], [0.4794921875, '#ac3820'], [0.48046875, '#ac3820'], [0.48046875, '#b23a24'], [0.4814453125, '#b23a24'], [0.4814453125, '#a73525'], [0.482421875, '#a73525'], [0.482421875, '#942f1e'], [0.4833984375, '#942f1e'], [0.4833984375, '#8b2516'], [0.484375, '#8b2516'], [0.484375, '#882215'], [0.4853515625, '#882215'], [0.4853515625, '#8b2111'], [0.486328125, '#8b2111'], [0.486328125, '#962010'], [0.4873046875, '#962010'], [0.4873046875, '#9d2011'], [0.48828125, '#9d2011'], [0.48828125, '#8b2413'], [0.4892578125, '#8b2413'], [0.4892578125, '#501a09'], [0.490234375, '#501a09'], [0.490234375, '#3c1607'], [0.4912109375, '#3c1607'], [0.4912109375, '#4c381a'], [0.4921875, '#4c381a'], [0.4921875, '#9b7733'], [0.4931640625, '#9b7733'], [0.4931640625, '#b59b4f'], [0.494140625, '#b59b4f'], [0.494140625, '#b3a459'], [0.4951171875, '#b3a459'], [0.4951171875, '#af9f51'], [0.49609375, '#af9f51'], [0.49609375, '#ada04b'], [0.4970703125, '#ada04b'], [0.4970703125, '#aea44a'], [0.498046875, '#aea44a'], [0.498046875, '#aaa244'], [0.4990234375, '#aaa244'], [0.4990234375, '#a19b3d'], [0.5, '#a19b3d'], [0.5, '#b6a54b'], [0.5009765625, '#b6a54b'], [0.5009765625, '#bca651'], [0.501953125, '#bca651'], [0.501953125, '#c3a861'], [0.5029296875, '#c3a861'], [0.5029296875, '#bca067'], [0.50390625, '#bca067'], [0.50390625, '#b79b6c'], [0.5048828125, '#b79b6c'], [0.5048828125, '#ac9468'], [0.505859375, '#ac9468'], [0.505859375, '#9e8b66'], [0.5068359375, '#9e8b66'], [0.5068359375, '#967e6e'], [0.5078125, '#967e6e'], [0.5078125, '#b16055'], [0.5087890625, '#b16055'], [0.5087890625, '#c64b3b'], [0.509765625, '#c64b3b'], [0.509765625, '#c4452e'], [0.5107421875, '#c4452e'], [0.5107421875, '#b33824'], [0.51171875, '#b33824'], [0.51171875, '#982d1a'], [0.5126953125, '#982d1a'], [0.5126953125, '#992815'], [0.513671875, '#992815'], [0.513671875, '#8e2813'], [0.5146484375, '#8e2813'], [0.5146484375, '#862410'], [0.515625, '#862410'], [0.515625, '#801f0e'], [0.5166015625, '#801f0e'], [0.5166015625, '#7d1f0c'], [0.517578125, '#7d1f0c'], [0.517578125, '#851c0f'], [0.5185546875, '#851c0f'], [0.5185546875, '#8a1d10'], [0.51953125, '#8a1d10'], [0.51953125, '#4f1a07'], [0.5205078125, '#4f1a07'], [0.5205078125, '#3f1204'], [0.521484375, '#3f1204'], [0.521484375, '#512f10'], [0.5224609375, '#512f10'], [0.5224609375, '#8f7c36'], [0.5234375, '#8f7c36'], [0.5234375, '#ab8438'], [0.5244140625, '#ab8438'], [0.5244140625, '#ab984a'], [0.525390625, '#ab984a'], [0.525390625, '#a79b4d'], [0.5263671875, '#a79b4d'], [0.5263671875, '#a49d49'], [0.52734375, '#a49d49'], [0.52734375, '#a39c48'], [0.5283203125, '#a39c48'], [0.5283203125, '#a69f44'], [0.529296875, '#a69f44'], [0.529296875, '#a59f40'], [0.5302734375, '#a59f40'], [0.5302734375, '#a49c3c'], [0.53125, '#a49c3c'], [0.53125, '#c2aa50'], [0.5322265625, '#c2aa50'], [0.5322265625, '#bca650'], [0.533203125, '#bca650'], [0.533203125, '#857849'], [0.5341796875, '#857849'], [0.5341796875, '#574f30'], [0.53515625, '#574f30'], [0.53515625, '#463d23'], [0.5361328125, '#463d23'], [0.5361328125, '#3c331c'], [0.537109375, '#3c331c'], [0.537109375, '#564e30'], [0.5380859375, '#564e30'], [0.5380859375, '#7e6044'], [0.5390625, '#7e6044'], [0.5390625, '#992f1d'], [0.5400390625, '#992f1d'], [0.5400390625, '#b23625'], [0.541015625, '#b23625'], [0.541015625, '#b53927'], [0.5419921875, '#b53927'], [0.5419921875, '#b1361e'], [0.54296875, '#b1361e'], [0.54296875, '#a02c17'], [0.5439453125, '#a02c17'], [0.5439453125, '#8c2311'], [0.544921875, '#8c2311'], [0.544921875, '#882310'], [0.5458984375, '#882310'], [0.5458984375, '#89220f'], [0.546875, '#89220f'], [0.546875, '#86200d'], [0.5478515625, '#86200d'], [0.5478515625, '#731f0f'], [0.548828125, '#731f0f'], [0.548828125, '#6a2112'], [0.5498046875, '#6a2112'], [0.5498046875, '#5f2911'], [0.55078125, '#5f2911'], [0.55078125, '#523812'], [0.5517578125, '#523812'], [0.5517578125, '#5e3f1c'], [0.552734375, '#5e3f1c'], [0.552734375, '#78632b'], [0.5537109375, '#78632b'], [0.5537109375, '#a18d37'], [0.5546875, '#a18d37'], [0.5546875, '#a0852f'], [0.5556640625, '#a0852f'], [0.5556640625, '#a09a3d'], [0.556640625, '#a09a3d'], [0.556640625, '#a29a3d'], [0.5576171875, '#a29a3d'], [0.5576171875, '#9f9a3d'], [0.55859375, '#9f9a3d'], [0.55859375, '#a29d3a'], [0.5595703125, '#a29d3a'], [0.5595703125, '#a59e3d'], [0.560546875, '#a59e3d'], [0.560546875, '#a3a03c'], [0.5615234375, '#a3a03c'], [0.5615234375, '#a39e3a'], [0.5625, '#a39e3a'], [0.5625, '#c1ae55'], [0.5634765625, '#c1ae55'], [0.5634765625, '#ad9c50'], [0.564453125, '#ad9c50'], [0.564453125, '#49441c'], [0.5654296875, '#49441c'], [0.5654296875, '#353213'], [0.56640625, '#353213'], [0.56640625, '#363616'], [0.5673828125, '#363616'], [0.5673828125, '#413d19'], [0.568359375, '#413d19'], [0.568359375, '#81794a'], [0.5693359375, '#81794a'], [0.5693359375, '#90774e'], [0.5703125, '#90774e'], [0.5703125, '#994825'], [0.5712890625, '#994825'], [0.5712890625, '#ae4a23'], [0.572265625, '#ae4a23'], [0.572265625, '#af4524'], [0.5732421875, '#af4524'], [0.5732421875, '#ad3b20'], [0.57421875, '#ad3b20'], [0.57421875, '#a8391b'], [0.5751953125, '#a8391b'], [0.5751953125, '#983218'], [0.576171875, '#983218'], [0.576171875, '#822d14'], [0.5771484375, '#822d14'], [0.5771484375, '#802d13'], [0.578125, '#802d13'], [0.578125, '#7c2e14'], [0.5791015625, '#7c2e14'], [0.5791015625, '#6a3816'], [0.580078125, '#6a3816'], [0.580078125, '#744b22'], [0.5810546875, '#744b22'], [0.5810546875, '#7f652b'], [0.58203125, '#7f652b'], [0.58203125, '#957b33'], [0.5830078125, '#957b33'], [0.5830078125, '#a08b3d'], [0.583984375, '#a08b3d'], [0.583984375, '#8a7435'], [0.5849609375, '#8a7435'], [0.5849609375, '#977c2e'], [0.5859375, '#977c2e'], [0.5859375, '#a29331'], [0.5869140625, '#a29331'], [0.5869140625, '#a69f39'], [0.587890625, '#a69f39'], [0.587890625, '#a79e3b'], [0.5888671875, '#a79e3b'], [0.5888671875, '#a5a03c'], [0.58984375, '#a5a03c'], [0.58984375, '#a5a035'], [0.5908203125, '#a5a035'], [0.5908203125, '#a39f37'], [0.591796875, '#a39f37'], [0.591796875, '#9f9e38'], [0.5927734375, '#9f9e38'], [0.5927734375, '#9d9b37'], [0.59375, '#9d9b37'], [0.59375, '#c2a85f'], [0.5947265625, '#c2a85f'], [0.5947265625, '#b7a160'], [0.595703125, '#b7a160'], [0.595703125, '#7a6f39'], [0.5966796875, '#7a6f39'], [0.5966796875, '#7f7135'], [0.59765625, '#7f7135'], [0.59765625, '#887e3c'], [0.5986328125, '#887e3c'], [0.5986328125, '#827b3a'], [0.599609375, '#827b3a'], [0.599609375, '#8f8a45'], [0.6005859375, '#8f8a45'], [0.6005859375, '#7f7538'], [0.6015625, '#7f7538'], [0.6015625, '#8e6f30'], [0.6025390625, '#8e6f30'], [0.6025390625, '#9a722a'], [0.603515625, '#9a722a'], [0.603515625, '#956822'], [0.6044921875, '#956822'], [0.6044921875, '#9c6726'], [0.60546875, '#9c6726'], [0.60546875, '#9f6c2a'], [0.6064453125, '#9f6c2a'], [0.6064453125, '#9b6a28'], [0.607421875, '#9b6a28'], [0.607421875, '#926c27'], [0.6083984375, '#926c27'], [0.6083984375, '#816d23'], [0.609375, '#816d23'], [0.609375, '#846924'], [0.6103515625, '#846924'], [0.6103515625, '#84722a'], [0.611328125, '#84722a'], [0.611328125, '#987e37'], [0.6123046875, '#987e37'], [0.6123046875, '#a29536'], [0.61328125, '#a29536'], [0.61328125, '#9a7a37'], [0.6142578125, '#9a7a37'], [0.6142578125, '#a2883a'], [0.615234375, '#a2883a'], [0.615234375, '#938234'], [0.6162109375, '#938234'], [0.6162109375, '#8d722c'], [0.6171875, '#8d722c'], [0.6171875, '#a59c35'], [0.6181640625, '#a59c35'], [0.6181640625, '#a79e38'], [0.619140625, '#a79e38'], [0.619140625, '#a39d37'], [0.6201171875, '#a39d37'], [0.6201171875, '#a29d37'], [0.62109375, '#a29d37'], [0.62109375, '#a39e37'], [0.6220703125, '#a39e37'], [0.6220703125, '#9a9932'], [0.623046875, '#9a9932'], [0.623046875, '#929433'], [0.6240234375, '#929433'], [0.6240234375, '#959634'], [0.625, '#959634'], [0.625, '#b5a94a'], [0.6259765625, '#b5a94a'], [0.6259765625, '#b1a44a'], [0.626953125, '#b1a44a'], [0.626953125, '#a79f44'], [0.6279296875, '#a79f44'], [0.6279296875, '#a59b41'], [0.62890625, '#a59b41'], [0.62890625, '#9c9640'], [0.6298828125, '#9c9640'], [0.6298828125, '#7d7b2d'], [0.630859375, '#7d7b2d'], [0.630859375, '#747628'], [0.6318359375, '#747628'], [0.6318359375, '#727428'], [0.6328125, '#727428'], [0.6328125, '#777727'], [0.6337890625, '#777727'], [0.6337890625, '#7c7b28'], [0.634765625, '#7c7b28'], [0.634765625, '#7c7924'], [0.6357421875, '#7c7924'], [0.6357421875, '#848128'], [0.63671875, '#848128'], [0.63671875, '#928f32'], [0.6376953125, '#928f32'], [0.6376953125, '#969535'], [0.638671875, '#969535'], [0.638671875, '#9a9a3a'], [0.6396484375, '#9a9a3a'], [0.6396484375, '#989a38'], [0.640625, '#989a38'], [0.640625, '#9c8f34'], [0.6416015625, '#9c8f34'], [0.6416015625, '#9f8d39'], [0.642578125, '#9f8d39'], [0.642578125, '#a48b3a'], [0.6435546875, '#a48b3a'], [0.6435546875, '#a09f34'], [0.64453125, '#a09f34'], [0.64453125, '#967d35'], [0.6455078125, '#967d35'], [0.6455078125, '#8a6e35'], [0.646484375, '#8a6e35'], [0.646484375, '#908237'], [0.6474609375, '#908237'], [0.6474609375, '#8c732e'], [0.6484375, '#8c732e'], [0.6484375, '#9d9332'], [0.6494140625, '#9d9332'], [0.6494140625, '#9a9831'], [0.650390625, '#9a9831'], [0.650390625, '#95952f'], [0.6513671875, '#95952f'], [0.6513671875, '#979531'], [0.65234375, '#979531'], [0.65234375, '#979531'], [0.6533203125, '#979531'], [0.6533203125, '#90922e'], [0.654296875, '#90922e'], [0.654296875, '#8d9031'], [0.6552734375, '#8d9031'], [0.6552734375, '#8b8e2d'], [0.65625, '#8b8e2d'], [0.65625, '#a19f32'], [0.6572265625, '#a19f32'], [0.6572265625, '#96962c'], [0.658203125, '#96962c'], [0.658203125, '#91912b'], [0.6591796875, '#91912b'], [0.6591796875, '#888727'], [0.66015625, '#888727'], [0.66015625, '#82802a'], [0.6611328125, '#82802a'], [0.6611328125, '#747125'], [0.662109375, '#747125'], [0.662109375, '#747225'], [0.6630859375, '#747225'], [0.6630859375, '#747221'], [0.6640625, '#747221'], [0.6640625, '#767321'], [0.6650390625, '#767321'], [0.6650390625, '#7d7a27'], [0.666015625, '#7d7a27'], [0.666015625, '#807d27'], [0.6669921875, '#807d27'], [0.6669921875, '#84812a'], [0.66796875, '#84812a'], [0.66796875, '#8b882e'], [0.6689453125, '#8b882e'], [0.6689453125, '#8f8e2f'], [0.669921875, '#8f8e2f'], [0.669921875, '#8e8f2f'], [0.6708984375, '#8e8f2f'], [0.6708984375, '#92922f'], [0.671875, '#92922f'], [0.671875, '#95892f'], [0.6728515625, '#95892f'], [0.6728515625, '#9c8436'], [0.673828125, '#9c8436'], [0.673828125, '#a28b39'], [0.6748046875, '#a28b39'], [0.6748046875, '#898830'], [0.67578125, '#898830'], [0.67578125, '#86792e'], [0.6767578125, '#86792e'], [0.6767578125, '#6e6228'], [0.677734375, '#6e6228'], [0.677734375, '#60522b'], [0.6787109375, '#60522b'], [0.6787109375, '#836d29'], [0.6796875, '#836d29'], [0.6796875, '#917a2b'], [0.6806640625, '#917a2b'], [0.6806640625, '#717026'], [0.681640625, '#717026'], [0.681640625, '#6b6d2a'], [0.6826171875, '#6b6d2a'], [0.6826171875, '#86892a'], [0.68359375, '#86892a'], [0.68359375, '#878a26'], [0.6845703125, '#878a26'], [0.6845703125, '#878b28'], [0.685546875, '#878b28'], [0.685546875, '#878c2a'], [0.6865234375, '#878c2a'], [0.6865234375, '#7b8121'], [0.6875, '#7b8121'], [0.6875, '#9b9a30'], [0.6884765625, '#9b9a30'], [0.6884765625, '#939228'], [0.689453125, '#939228'], [0.689453125, '#8f8d2c'], [0.6904296875, '#8f8d2c'], [0.6904296875, '#8b872a'], [0.69140625, '#8b872a'], [0.69140625, '#8b862b'], [0.6923828125, '#8b862b'], [0.6923828125, '#877f29'], [0.693359375, '#877f29'], [0.693359375, '#8b812c'], [0.6943359375, '#8b812c'], [0.6943359375, '#877f29'], [0.6953125, '#877f29'], [0.6953125, '#828126'], [0.6962890625, '#828126'], [0.6962890625, '#808227'], [0.697265625, '#808227'], [0.697265625, '#7f7d26'], [0.6982421875, '#7f7d26'], [0.6982421875, '#7e7c26'], [0.69921875, '#7e7c26'], [0.69921875, '#828029'], [0.7001953125, '#828029'], [0.7001953125, '#838226'], [0.701171875, '#838226'], [0.701171875, '#898627'], [0.7021484375, '#898627'], [0.7021484375, '#8a8a26'], [0.703125, '#8a8a26'], [0.703125, '#8f832b'], [0.7041015625, '#8f832b'], [0.7041015625, '#9d7b37'], [0.705078125, '#9d7b37'], [0.705078125, '#978832'], [0.7060546875, '#978832'], [0.7060546875, '#636231'], [0.70703125, '#636231'], [0.70703125, '#787329'], [0.7080078125, '#787329'], [0.7080078125, '#827f27'], [0.708984375, '#827f27'], [0.708984375, '#4a451e'], [0.7099609375, '#4a451e'], [0.7099609375, '#705128'], [0.7109375, '#705128'], [0.7109375, '#7b5226'], [0.7119140625, '#7b5226'], [0.7119140625, '#442b18'], [0.712890625, '#442b18'], [0.712890625, '#453823'], [0.7138671875, '#453823'], [0.7138671875, '#717526'], [0.71484375, '#717526'], [0.71484375, '#7f8521'], [0.7158203125, '#7f8521'], [0.7158203125, '#828724'], [0.716796875, '#828724'], [0.716796875, '#808623'], [0.7177734375, '#808623'], [0.7177734375, '#757c1f'], [0.71875, '#757c1f'], [0.71875, '#93912b'], [0.7197265625, '#93912b'], [0.7197265625, '#93902d'], [0.720703125, '#93902d'], [0.720703125, '#928d2e'], [0.7216796875, '#928d2e'], [0.7216796875, '#8d892a'], [0.72265625, '#8d892a'], [0.72265625, '#8f8c2b'], [0.7236328125, '#8f8c2b'], [0.7236328125, '#938d2d'], [0.724609375, '#938d2d'], [0.724609375, '#92882e'], [0.7255859375, '#92882e'], [0.7255859375, '#8b812a'], [0.7265625, '#8b812a'], [0.7265625, '#858327'], [0.7275390625, '#858327'], [0.7275390625, '#808327'], [0.728515625, '#808327'], [0.728515625, '#84812a'], [0.7294921875, '#84812a'], [0.7294921875, '#7a7822'], [0.73046875, '#7a7822'], [0.73046875, '#7a7824'], [0.7314453125, '#7a7824'], [0.7314453125, '#7e7c24'], [0.732421875, '#7e7c24'], [0.732421875, '#7d7d24'], [0.7333984375, '#7d7d24'], [0.7333984375, '#818125'], [0.734375, '#818125'], [0.734375, '#8a7b26'], [0.7353515625, '#8a7b26'], [0.7353515625, '#977231'], [0.736328125, '#977231'], [0.736328125, '#7e7324'], [0.7373046875, '#7e7324'], [0.7373046875, '#5a5925'], [0.73828125, '#5a5925'], [0.73828125, '#747b21'], [0.7392578125, '#747b21'], [0.7392578125, '#888321'], [0.740234375, '#888321'], [0.740234375, '#726f1f'], [0.7412109375, '#726f1f'], [0.7412109375, '#7b5f28'], [0.7421875, '#7b5f28'], [0.7421875, '#763a21'], [0.7431640625, '#763a21'], [0.7431640625, '#651d13'], [0.744140625, '#651d13'], [0.744140625, '#5a261e'], [0.7451171875, '#5a261e'], [0.7451171875, '#55591c'], [0.74609375, '#55591c'], [0.74609375, '#747c18'], [0.7470703125, '#747c18'], [0.7470703125, '#808523'], [0.748046875, '#808523'], [0.748046875, '#858a27'], [0.7490234375, '#858a27'], [0.7490234375, '#858a2a'], [0.75, '#858a2a'], [0.75, '#8b8824'], [0.7509765625, '#8b8824'], [0.7509765625, '#878726'], [0.751953125, '#878726'], [0.751953125, '#918a2c'], [0.7529296875, '#918a2c'], [0.7529296875, '#948a2f'], [0.75390625, '#948a2f'], [0.75390625, '#928c33'], [0.7548828125, '#928c33'], [0.7548828125, '#928b30'], [0.755859375, '#928b30'], [0.755859375, '#8d832a'], [0.7568359375, '#8d832a'], [0.7568359375, '#8c832a'], [0.7578125, '#8c832a'], [0.7578125, '#8e872d'], [0.7587890625, '#8e872d'], [0.7587890625, '#878228'], [0.759765625, '#878228'], [0.759765625, '#878528'], [0.7607421875, '#878528'], [0.7607421875, '#787e22'], [0.76171875, '#787e22'], [0.76171875, '#747a22'], [0.7626953125, '#747a22'], [0.7626953125, '#747721'], [0.763671875, '#747721'], [0.763671875, '#6f7520'], [0.7646484375, '#6f7520'], [0.7646484375, '#62622a'], [0.765625, '#62622a'], [0.765625, '#69572e'], [0.7666015625, '#69572e'], [0.7666015625, '#906931'], [0.767578125, '#906931'], [0.767578125, '#7a681f'], [0.7685546875, '#7a681f'], [0.7685546875, '#6d6917'], [0.76953125, '#6d6917'], [0.76953125, '#777b20'], [0.7705078125, '#777b20'], [0.7705078125, '#75741e'], [0.771484375, '#75741e'], [0.771484375, '#75761d'], [0.7724609375, '#75761d'], [0.7724609375, '#767a1e'], [0.7734375, '#767a1e'], [0.7734375, '#724819'], [0.7744140625, '#724819'], [0.7744140625, '#831d11'], [0.775390625, '#831d11'], [0.775390625, '#6f1f18'], [0.7763671875, '#6f1f18'], [0.7763671875, '#504b22'], [0.77734375, '#504b22'], [0.77734375, '#747d17'], [0.7783203125, '#747d17'], [0.7783203125, '#777d1e'], [0.779296875, '#777d1e'], [0.779296875, '#808626'], [0.7802734375, '#808626'], [0.7802734375, '#818425'], [0.78125, '#818425'], [0.78125, '#908a2e'], [0.7822265625, '#908a2e'], [0.7822265625, '#8f872f'], [0.783203125, '#8f872f'], [0.783203125, '#918831'], [0.7841796875, '#918831'], [0.7841796875, '#958832'], [0.78515625, '#958832'], [0.78515625, '#938831'], [0.7861328125, '#938831'], [0.7861328125, '#8e842b'], [0.787109375, '#8e842b'], [0.787109375, '#8d862b'], [0.7880859375, '#8d862b'], [0.7880859375, '#828224'], [0.7890625, '#828224'], [0.7890625, '#828225'], [0.7900390625, '#828225'], [0.7900390625, '#828227'], [0.791015625, '#828227'], [0.791015625, '#7c8122'], [0.7919921875, '#7c8122'], [0.7919921875, '#6d791b'], [0.79296875, '#6d791b'], [0.79296875, '#6c7618'], [0.7939453125, '#6c7618'], [0.7939453125, '#757a21'], [0.794921875, '#757a21'], [0.794921875, '#6b7120'], [0.7958984375, '#6b7120'], [0.7958984375, '#473e1e'], [0.796875, '#473e1e'], [0.796875, '#46372a'], [0.7978515625, '#46372a'], [0.7978515625, '#6f5730'], [0.798828125, '#6f5730'], [0.798828125, '#77681e'], [0.7998046875, '#77681e'], [0.7998046875, '#6e6b19'], [0.80078125, '#6e6b19'], [0.80078125, '#76771f'], [0.8017578125, '#76771f'], [0.8017578125, '#74771f'], [0.802734375, '#74771f'], [0.802734375, '#6b7218'], [0.8037109375, '#6b7218'], [0.8037109375, '#687116'], [0.8046875, '#687116'], [0.8046875, '#555117'], [0.8056640625, '#555117'], [0.8056640625, '#66190f'], [0.806640625, '#66190f'], [0.806640625, '#64150b'], [0.8076171875, '#64150b'], [0.8076171875, '#49451f'], [0.80859375, '#49451f'], [0.80859375, '#757e1d'], [0.8095703125, '#757e1d'], [0.8095703125, '#707619'], [0.810546875, '#707619'], [0.810546875, '#798022'], [0.8115234375, '#798022'], [0.8115234375, '#777e22'], [0.8125, '#777e22'], [0.8125, '#928c31'], [0.8134765625, '#928c31'], [0.8134765625, '#8f8830'], [0.814453125, '#8f8830'], [0.814453125, '#8d862e'], [0.8154296875, '#8d862e'], [0.8154296875, '#928b31'], [0.81640625, '#928b31'], [0.81640625, '#8b862a'], [0.8173828125, '#8b862a'], [0.8173828125, '#878627'], [0.818359375, '#878627'], [0.818359375, '#878726'], [0.8193359375, '#878726'], [0.8193359375, '#808322'], [0.8203125, '#808322'], [0.8203125, '#7d8122'], [0.8212890625, '#7d8122'], [0.8212890625, '#7f8327'], [0.822265625, '#7f8327'], [0.822265625, '#777e21'], [0.8232421875, '#777e21'], [0.8232421875, '#6d751c'], [0.82421875, '#6d751c'], [0.82421875, '#636c11'], [0.8251953125, '#636c11'], [0.8251953125, '#6e731c'], [0.826171875, '#6e731c'], [0.826171875, '#60631b'], [0.8271484375, '#60631b'], [0.8271484375, '#6f2f1e'], [0.828125, '#6f2f1e'], [0.828125, '#6f312a'], [0.8291015625, '#6f312a'], [0.8291015625, '#51452c'], [0.830078125, '#51452c'], [0.830078125, '#736720'], [0.8310546875, '#736720'], [0.8310546875, '#656b1a'], [0.83203125, '#656b1a'], [0.83203125, '#6c701d'], [0.8330078125, '#6c701d'], [0.8330078125, '#656e19'], [0.833984375, '#656e19'], [0.833984375, '#616c16'], [0.8349609375, '#616c16'], [0.8349609375, '#606a15'], [0.8359375, '#606a15'], [0.8359375, '#4c5416'], [0.8369140625, '#4c5416'], [0.8369140625, '#53260f'], [0.837890625, '#53260f'], [0.837890625, '#50170e'], [0.8388671875, '#50170e'], [0.8388671875, '#414515'], [0.83984375, '#414515'], [0.83984375, '#767e20'], [0.8408203125, '#767e20'], [0.8408203125, '#707618'], [0.841796875, '#707618'], [0.841796875, '#717819'], [0.8427734375, '#717819'], [0.8427734375, '#747c1e'], [0.84375, '#747c1e'], [0.84375, '#8c8929'], [0.8447265625, '#8c8929'], [0.8447265625, '#7d8123'], [0.845703125, '#7d8123'], [0.845703125, '#848629'], [0.8466796875, '#848629'], [0.8466796875, '#8b8b2c'], [0.84765625, '#8b8b2c'], [0.84765625, '#7d8221'], [0.8486328125, '#7d8221'], [0.8486328125, '#7c8622'], [0.849609375, '#7c8622'], [0.849609375, '#808623'], [0.8505859375, '#808623'], [0.8505859375, '#828323'], [0.8515625, '#828323'], [0.8515625, '#7e8123'], [0.8525390625, '#7e8123'], [0.8525390625, '#7f8226'], [0.853515625, '#7f8226'], [0.853515625, '#777b20'], [0.8544921875, '#777b20'], [0.8544921875, '#72761f'], [0.85546875, '#72761f'], [0.85546875, '#676e18'], [0.8564453125, '#676e18'], [0.8564453125, '#6d721e'], [0.857421875, '#6d721e'], [0.857421875, '#5e5f1c'], [0.8583984375, '#5e5f1c'], [0.8583984375, '#7a2d17'], [0.859375, '#7a2d17'], [0.859375, '#89291b'], [0.8603515625, '#89291b'], [0.8603515625, '#4c3c27'], [0.861328125, '#4c3c27'], [0.861328125, '#656822'], [0.8623046875, '#656822'], [0.8623046875, '#606919'], [0.86328125, '#606919'], [0.86328125, '#61671c'], [0.8642578125, '#61671c'], [0.8642578125, '#525e11'], [0.865234375, '#525e11'], [0.865234375, '#556213'], [0.8662109375, '#556213'], [0.8662109375, '#596316'], [0.8671875, '#596316'], [0.8671875, '#575e15'], [0.8681640625, '#575e15'], [0.8681640625, '#564e18'], [0.869140625, '#564e18'], [0.869140625, '#423516'], [0.8701171875, '#423516'], [0.8701171875, '#4d5514'], [0.87109375, '#4d5514'], [0.87109375, '#747a1c'], [0.8720703125, '#747a1c'], [0.8720703125, '#757a1c'], [0.873046875, '#757a1c'], [0.873046875, '#7a811f'], [0.8740234375, '#7a811f'], [0.8740234375, '#7e8320'], [0.875, '#7e8320'], [0.875, '#89882a'], [0.8759765625, '#89882a'], [0.8759765625, '#757c20'], [0.876953125, '#757c20'], [0.876953125, '#798123'], [0.8779296875, '#798123'], [0.8779296875, '#838726'], [0.87890625, '#838726'], [0.87890625, '#798020'], [0.8798828125, '#798020'], [0.8798828125, '#7b8325'], [0.880859375, '#7b8325'], [0.880859375, '#808427'], [0.8818359375, '#808427'], [0.8818359375, '#7a7d22'], [0.8828125, '#7a7d22'], [0.8828125, '#777b20'], [0.8837890625, '#777b20'], [0.8837890625, '#777b20'], [0.884765625, '#777b20'], [0.884765625, '#72781b'], [0.8857421875, '#72781b'], [0.8857421875, '#6f771d'], [0.88671875, '#6f771d'], [0.88671875, '#70771e'], [0.8876953125, '#70771e'], [0.8876953125, '#70761d'], [0.888671875, '#70761d'], [0.888671875, '#5f651c'], [0.8896484375, '#5f651c'], [0.8896484375, '#6c3017'], [0.890625, '#6c3017'], [0.890625, '#842113'], [0.8916015625, '#842113'], [0.8916015625, '#442f1d'], [0.892578125, '#442f1d'], [0.892578125, '#535c1b'], [0.8935546875, '#535c1b'], [0.8935546875, '#616a1c'], [0.89453125, '#616a1c'], [0.89453125, '#5e661c'], [0.8955078125, '#5e661c'], [0.8955078125, '#576516'], [0.896484375, '#576516'], [0.896484375, '#5c6917'], [0.8974609375, '#5c6917'], [0.8974609375, '#666e1e'], [0.8984375, '#666e1e'], [0.8984375, '#6a711e'], [0.8994140625, '#6a711e'], [0.8994140625, '#6b7022'], [0.900390625, '#6b7022'], [0.900390625, '#5d6319'], [0.9013671875, '#5d6319'], [0.9013671875, '#6a701c'], [0.90234375, '#6a701c'], [0.90234375, '#7a7d22'], [0.9033203125, '#7a7d22'], [0.9033203125, '#797e1f'], [0.904296875, '#797e1f'], [0.904296875, '#787e1b'], [0.9052734375, '#787e1b'], [0.9052734375, '#808621'], [0.90625, '#808621'], [0.90625, '#858227'], [0.9072265625, '#858227'], [0.9072265625, '#7b7f24'], [0.908203125, '#7b7f24'], [0.908203125, '#7c8223'], [0.9091796875, '#7c8223'], [0.9091796875, '#818523'], [0.91015625, '#818523'], [0.91015625, '#7c8126'], [0.9111328125, '#7c8126'], [0.9111328125, '#7d822b'], [0.912109375, '#7d822b'], [0.912109375, '#81852a'], [0.9130859375, '#81852a'], [0.9130859375, '#7e8028'], [0.9140625, '#7e8028'], [0.9140625, '#7e8128'], [0.9150390625, '#7e8128'], [0.9150390625, '#7a7d24'], [0.916015625, '#7a7d24'], [0.916015625, '#747a1f'], [0.9169921875, '#747a1f'], [0.9169921875, '#6e771e'], [0.91796875, '#6e771e'], [0.91796875, '#6b7519'], [0.9189453125, '#6b7519'], [0.9189453125, '#6c7319'], [0.919921875, '#6c7319'], [0.919921875, '#5e6d1a'], [0.9208984375, '#5e6d1a'], [0.9208984375, '#654018'], [0.921875, '#654018'], [0.921875, '#762013'], [0.9228515625, '#762013'], [0.9228515625, '#392817'], [0.923828125, '#392817'], [0.923828125, '#4c5819'], [0.9248046875, '#4c5819'], [0.9248046875, '#616d1f'], [0.92578125, '#616d1f'], [0.92578125, '#656f1f'], [0.9267578125, '#656f1f'], [0.9267578125, '#62701b'], [0.927734375, '#62701b'], [0.927734375, '#65721d'], [0.9287109375, '#65721d'], [0.9287109375, '#6d7520'], [0.9296875, '#6d7520'], [0.9296875, '#6f7722'], [0.9306640625, '#6f7722'], [0.9306640625, '#6f7623'], [0.931640625, '#6f7623'], [0.931640625, '#687219'], [0.9326171875, '#687219'], [0.9326171875, '#717a1e'], [0.93359375, '#717a1e'], [0.93359375, '#7a7f20'], [0.9345703125, '#7a7f20'], [0.9345703125, '#767d1e'], [0.935546875, '#767d1e'], [0.935546875, '#727a1a'], [0.9365234375, '#727a1a'], [0.9365234375, '#737d1b'], [0.9375, '#737d1b'], [0.9375, '#7b7d24'], [0.9384765625, '#7b7d24'], [0.9384765625, '#7c7f24'], [0.939453125, '#7c7f24'], [0.939453125, '#7e8120'], [0.9404296875, '#7e8120'], [0.9404296875, '#828523'], [0.94140625, '#828523'], [0.94140625, '#808628'], [0.9423828125, '#808628'], [0.9423828125, '#808729'], [0.943359375, '#808729'], [0.943359375, '#858929'], [0.9443359375, '#858929'], [0.9443359375, '#848628'], [0.9453125, '#848628'], [0.9453125, '#8a8a2c'], [0.9462890625, '#8a8a2c'], [0.9462890625, '#848429'], [0.947265625, '#848429'], [0.947265625, '#757a22'], [0.9482421875, '#757a22'], [0.9482421875, '#6a741d'], [0.94921875, '#6a741d'], [0.94921875, '#687417'], [0.9501953125, '#687417'], [0.9501953125, '#65721a'], [0.951171875, '#65721a'], [0.951171875, '#606c18'], [0.9521484375, '#606c18'], [0.9521484375, '#645e1d'], [0.953125, '#645e1d'], [0.953125, '#5a351d'], [0.9541015625, '#5a351d'], [0.9541015625, '#2f2c15'], [0.955078125, '#2f2c15'], [0.955078125, '#526019'], [0.9560546875, '#526019'], [0.9560546875, '#62721e'], [0.95703125, '#62721e'], [0.95703125, '#68741f'], [0.9580078125, '#68741f'], [0.9580078125, '#5f6d18'], [0.958984375, '#5f6d18'], [0.958984375, '#606d17'], [0.9599609375, '#606d17'], [0.9599609375, '#6b731c'], [0.9609375, '#6b731c'], [0.9609375, '#6d771d'], [0.9619140625, '#6d771d'], [0.9619140625, '#6d7920'], [0.962890625, '#6d7920'], [0.962890625, '#69751d'], [0.9638671875, '#69751d'], [0.9638671875, '#6c771d'], [0.96484375, '#6c771d'], [0.96484375, '#757d1f'], [0.9658203125, '#757d1f'], [0.9658203125, '#707a1a'], [0.966796875, '#707a1a'], [0.966796875, '#6c771b'], [0.9677734375, '#6c771b'], [0.9677734375, '#687716'], [0.96875, '#687716'], [0.96875, '#7d802a'], [0.9697265625, '#7d802a'], [0.9697265625, '#81842b'], [0.970703125, '#81842b'], [0.970703125, '#7e8224'], [0.9716796875, '#7e8224'], [0.9716796875, '#828524'], [0.97265625, '#828524'], [0.97265625, '#868c28'], [0.9736328125, '#868c28'], [0.9736328125, '#7c8523'], [0.974609375, '#7c8523'], [0.974609375, '#828923'], [0.9755859375, '#828923'], [0.9755859375, '#848625'], [0.9765625, '#848625'], [0.9765625, '#878a26'], [0.9775390625, '#878a26'], [0.9775390625, '#838626'], [0.978515625, '#838626'], [0.978515625, '#797f23'], [0.9794921875, '#797f23'], [0.9794921875, '#6e781f'], [0.98046875, '#6e781f'], [0.98046875, '#6a781f'], [0.9814453125, '#6a781f'], [0.9814453125, '#63711c'], [0.982421875, '#63711c'], [0.982421875, '#626d1f'], [0.9833984375, '#626d1f'], [0.9833984375, '#687225'], [0.984375, '#687225'], [0.984375, '#595e26'], [0.9853515625, '#595e26'], [0.9853515625, '#424b19'], [0.986328125, '#424b19'], [0.986328125, '#556419'], [0.9873046875, '#556419'], [0.9873046875, '#5d6d19'], [0.98828125, '#5d6d19'], [0.98828125, '#616d1b'], [0.9892578125, '#616d1b'], [0.9892578125, '#5c6c17'], [0.990234375, '#5c6c17'], [0.990234375, '#5b6a13'], [0.9912109375, '#5b6a13'], [0.9912109375, '#66751b'], [0.9921875, '#66751b'], [0.9921875, '#65771b'], [0.9931640625, '#65771b'], [0.9931640625, '#69791c'], [0.994140625, '#69791c'], [0.994140625, '#6b7920'], [0.9951171875, '#6b7920'], [0.9951171875, '#6f7a1e'], [0.99609375, '#6f7a1e'], [0.99609375, '#787e24'], [0.9970703125, '#787e24'], [0.9970703125, '#768023'], [0.998046875, '#768023'], [0.998046875, '#707a21'], [0.9990234375, '#707a21'], [0.9990234375, '#69791a'], [1.0, '#69791a']]\n"
     ]
    },
    {
     "data": {
      "application/vnd.plotly.v1+json": {
       "config": {
        "plotlyServerURL": "https://plot.ly"
       },
       "data": [
        {
         "colorscale": [
          [
           0,
           "#fbf9fa"
          ],
          [
           0.0009765625,
           "#fbf9fa"
          ],
          [
           0.0009765625,
           "#f7f5f7"
          ],
          [
           0.001953125,
           "#f7f5f7"
          ],
          [
           0.001953125,
           "#f7f5f7"
          ],
          [
           0.0029296875,
           "#f7f5f7"
          ],
          [
           0.0029296875,
           "#f8f6f7"
          ],
          [
           0.00390625,
           "#f8f6f7"
          ],
          [
           0.00390625,
           "#f9f7f8"
          ],
          [
           0.0048828125,
           "#f9f7f8"
          ],
          [
           0.0048828125,
           "#f8f6f8"
          ],
          [
           0.005859375,
           "#f8f6f8"
          ],
          [
           0.005859375,
           "#f8f6f7"
          ],
          [
           0.0068359375,
           "#f8f6f7"
          ],
          [
           0.0068359375,
           "#f8f6f8"
          ],
          [
           0.0078125,
           "#f8f6f8"
          ],
          [
           0.0078125,
           "#f9f7fa"
          ],
          [
           0.0087890625,
           "#f9f7fa"
          ],
          [
           0.0087890625,
           "#f9f6f9"
          ],
          [
           0.009765625,
           "#f9f6f9"
          ],
          [
           0.009765625,
           "#f8f6f9"
          ],
          [
           0.0107421875,
           "#f8f6f9"
          ],
          [
           0.0107421875,
           "#f9f7f9"
          ],
          [
           0.01171875,
           "#f9f7f9"
          ],
          [
           0.01171875,
           "#faf7fa"
          ],
          [
           0.0126953125,
           "#faf7fa"
          ],
          [
           0.0126953125,
           "#f9f7fa"
          ],
          [
           0.013671875,
           "#f9f7fa"
          ],
          [
           0.013671875,
           "#f9f7f9"
          ],
          [
           0.0146484375,
           "#f9f7f9"
          ],
          [
           0.0146484375,
           "#f9f7f8"
          ],
          [
           0.015625,
           "#f9f7f8"
          ],
          [
           0.015625,
           "#f9f7f8"
          ],
          [
           0.0166015625,
           "#f9f7f8"
          ],
          [
           0.0166015625,
           "#f8f7f7"
          ],
          [
           0.017578125,
           "#f8f7f7"
          ],
          [
           0.017578125,
           "#f9f6f7"
          ],
          [
           0.0185546875,
           "#f9f6f7"
          ],
          [
           0.0185546875,
           "#f9f6f7"
          ],
          [
           0.01953125,
           "#f9f6f7"
          ],
          [
           0.01953125,
           "#faf5f6"
          ],
          [
           0.0205078125,
           "#faf5f6"
          ],
          [
           0.0205078125,
           "#faf5f7"
          ],
          [
           0.021484375,
           "#faf5f7"
          ],
          [
           0.021484375,
           "#faf6f7"
          ],
          [
           0.0224609375,
           "#faf6f7"
          ],
          [
           0.0224609375,
           "#f9f6f7"
          ],
          [
           0.0234375,
           "#f9f6f7"
          ],
          [
           0.0234375,
           "#faf6f7"
          ],
          [
           0.0244140625,
           "#faf6f7"
          ],
          [
           0.0244140625,
           "#faf5f7"
          ],
          [
           0.025390625,
           "#faf5f7"
          ],
          [
           0.025390625,
           "#faf3f5"
          ],
          [
           0.0263671875,
           "#faf3f5"
          ],
          [
           0.0263671875,
           "#faf3f5"
          ],
          [
           0.02734375,
           "#faf3f5"
          ],
          [
           0.02734375,
           "#f5e6e2"
          ],
          [
           0.0283203125,
           "#f5e6e2"
          ],
          [
           0.0283203125,
           "#e5be92"
          ],
          [
           0.029296875,
           "#e5be92"
          ],
          [
           0.029296875,
           "#f4e7e0"
          ],
          [
           0.0302734375,
           "#f4e7e0"
          ],
          [
           0.0302734375,
           "#fbf1f1"
          ],
          [
           0.03125,
           "#fbf1f1"
          ],
          [
           0.03125,
           "#f9f8f8"
          ],
          [
           0.0322265625,
           "#f9f8f8"
          ],
          [
           0.0322265625,
           "#f6f4f4"
          ],
          [
           0.033203125,
           "#f6f4f4"
          ],
          [
           0.033203125,
           "#f6f5f4"
          ],
          [
           0.0341796875,
           "#f6f5f4"
          ],
          [
           0.0341796875,
           "#f6f5f4"
          ],
          [
           0.03515625,
           "#f6f5f4"
          ],
          [
           0.03515625,
           "#f7f5f5"
          ],
          [
           0.0361328125,
           "#f7f5f5"
          ],
          [
           0.0361328125,
           "#f7f5f5"
          ],
          [
           0.037109375,
           "#f7f5f5"
          ],
          [
           0.037109375,
           "#f7f6f5"
          ],
          [
           0.0380859375,
           "#f7f6f5"
          ],
          [
           0.0380859375,
           "#f8f6f6"
          ],
          [
           0.0390625,
           "#f8f6f6"
          ],
          [
           0.0390625,
           "#f8f6f8"
          ],
          [
           0.0400390625,
           "#f8f6f8"
          ],
          [
           0.0400390625,
           "#f9f7f8"
          ],
          [
           0.041015625,
           "#f9f7f8"
          ],
          [
           0.041015625,
           "#f9f8f9"
          ],
          [
           0.0419921875,
           "#f9f8f9"
          ],
          [
           0.0419921875,
           "#fbfafa"
          ],
          [
           0.04296875,
           "#fbfafa"
          ],
          [
           0.04296875,
           "#fcfafb"
          ],
          [
           0.0439453125,
           "#fcfafb"
          ],
          [
           0.0439453125,
           "#fcfbfc"
          ],
          [
           0.044921875,
           "#fcfbfc"
          ],
          [
           0.044921875,
           "#fcfbfb"
          ],
          [
           0.0458984375,
           "#fcfbfb"
          ],
          [
           0.0458984375,
           "#fefdfc"
          ],
          [
           0.046875,
           "#fefdfc"
          ],
          [
           0.046875,
           "#fefcfd"
          ],
          [
           0.0478515625,
           "#fefcfd"
          ],
          [
           0.0478515625,
           "#fdfafb"
          ],
          [
           0.048828125,
           "#fdfafb"
          ],
          [
           0.048828125,
           "#fef9fb"
          ],
          [
           0.0498046875,
           "#fef9fb"
          ],
          [
           0.0498046875,
           "#fff9fb"
          ],
          [
           0.05078125,
           "#fff9fb"
          ],
          [
           0.05078125,
           "#fff7fa"
          ],
          [
           0.0517578125,
           "#fff7fa"
          ],
          [
           0.0517578125,
           "#fff7fa"
          ],
          [
           0.052734375,
           "#fff7fa"
          ],
          [
           0.052734375,
           "#fff8fb"
          ],
          [
           0.0537109375,
           "#fff8fb"
          ],
          [
           0.0537109375,
           "#fff8fb"
          ],
          [
           0.0546875,
           "#fff8fb"
          ],
          [
           0.0546875,
           "#fff9fb"
          ],
          [
           0.0556640625,
           "#fff9fb"
          ],
          [
           0.0556640625,
           "#fffafc"
          ],
          [
           0.056640625,
           "#fffafc"
          ],
          [
           0.056640625,
           "#fff8f9"
          ],
          [
           0.0576171875,
           "#fff8f9"
          ],
          [
           0.0576171875,
           "#fcfafc"
          ],
          [
           0.05859375,
           "#fcfafc"
          ],
          [
           0.05859375,
           "#f5d5bf"
          ],
          [
           0.0595703125,
           "#f5d5bf"
          ],
          [
           0.0595703125,
           "#e9bc8d"
          ],
          [
           0.060546875,
           "#e9bc8d"
          ],
          [
           0.060546875,
           "#f9ede9"
          ],
          [
           0.0615234375,
           "#f9ede9"
          ],
          [
           0.0615234375,
           "#fcf2f1"
          ],
          [
           0.0625,
           "#fcf2f1"
          ],
          [
           0.0625,
           "#a7a594"
          ],
          [
           0.0634765625,
           "#a7a594"
          ],
          [
           0.0634765625,
           "#a7a494"
          ],
          [
           0.064453125,
           "#a7a494"
          ],
          [
           0.064453125,
           "#a7a495"
          ],
          [
           0.0654296875,
           "#a7a495"
          ],
          [
           0.0654296875,
           "#a7a496"
          ],
          [
           0.06640625,
           "#a7a496"
          ],
          [
           0.06640625,
           "#a8a395"
          ],
          [
           0.0673828125,
           "#a8a395"
          ],
          [
           0.0673828125,
           "#aaa595"
          ],
          [
           0.068359375,
           "#aaa595"
          ],
          [
           0.068359375,
           "#aca898"
          ],
          [
           0.0693359375,
           "#aca898"
          ],
          [
           0.0693359375,
           "#aca89a"
          ],
          [
           0.0703125,
           "#aca89a"
          ],
          [
           0.0703125,
           "#aea89c"
          ],
          [
           0.0712890625,
           "#aea89c"
          ],
          [
           0.0712890625,
           "#b0a99e"
          ],
          [
           0.072265625,
           "#b0a99e"
          ],
          [
           0.072265625,
           "#b2a99e"
          ],
          [
           0.0732421875,
           "#b2a99e"
          ],
          [
           0.0732421875,
           "#b7aaa1"
          ],
          [
           0.07421875,
           "#b7aaa1"
          ],
          [
           0.07421875,
           "#b9ada5"
          ],
          [
           0.0751953125,
           "#b9ada5"
          ],
          [
           0.0751953125,
           "#b9afa5"
          ],
          [
           0.076171875,
           "#b9afa5"
          ],
          [
           0.076171875,
           "#baafa7"
          ],
          [
           0.0771484375,
           "#baafa7"
          ],
          [
           0.0771484375,
           "#beb2aa"
          ],
          [
           0.078125,
           "#beb2aa"
          ],
          [
           0.078125,
           "#c4b2ae"
          ],
          [
           0.0791015625,
           "#c4b2ae"
          ],
          [
           0.0791015625,
           "#c6b4b1"
          ],
          [
           0.080078125,
           "#c6b4b1"
          ],
          [
           0.080078125,
           "#cab8b4"
          ],
          [
           0.0810546875,
           "#cab8b4"
          ],
          [
           0.0810546875,
           "#cabbb3"
          ],
          [
           0.08203125,
           "#cabbb3"
          ],
          [
           0.08203125,
           "#c8bbb4"
          ],
          [
           0.0830078125,
           "#c8bbb4"
          ],
          [
           0.0830078125,
           "#cbc1b7"
          ],
          [
           0.083984375,
           "#cbc1b7"
          ],
          [
           0.083984375,
           "#cec4bc"
          ],
          [
           0.0849609375,
           "#cec4bc"
          ],
          [
           0.0849609375,
           "#cec5be"
          ],
          [
           0.0859375,
           "#cec5be"
          ],
          [
           0.0859375,
           "#cec7bf"
          ],
          [
           0.0869140625,
           "#cec7bf"
          ],
          [
           0.0869140625,
           "#d1cac2"
          ],
          [
           0.087890625,
           "#d1cac2"
          ],
          [
           0.087890625,
           "#d2cec6"
          ],
          [
           0.0888671875,
           "#d2cec6"
          ],
          [
           0.0888671875,
           "#d5d3c8"
          ],
          [
           0.08984375,
           "#d5d3c8"
          ],
          [
           0.08984375,
           "#ecbb92"
          ],
          [
           0.0908203125,
           "#ecbb92"
          ],
          [
           0.0908203125,
           "#d9b68b"
          ],
          [
           0.091796875,
           "#d9b68b"
          ],
          [
           0.091796875,
           "#d9d3cb"
          ],
          [
           0.0927734375,
           "#d9d3cb"
          ],
          [
           0.0927734375,
           "#dcd5d0"
          ],
          [
           0.09375,
           "#dcd5d0"
          ],
          [
           0.09375,
           "#4e4925"
          ],
          [
           0.0947265625,
           "#4e4925"
          ],
          [
           0.0947265625,
           "#504827"
          ],
          [
           0.095703125,
           "#504827"
          ],
          [
           0.095703125,
           "#534a29"
          ],
          [
           0.0966796875,
           "#534a29"
          ],
          [
           0.0966796875,
           "#554f30"
          ],
          [
           0.09765625,
           "#554f30"
          ],
          [
           0.09765625,
           "#524628"
          ],
          [
           0.0986328125,
           "#524628"
          ],
          [
           0.0986328125,
           "#504927"
          ],
          [
           0.099609375,
           "#504927"
          ],
          [
           0.099609375,
           "#544a29"
          ],
          [
           0.1005859375,
           "#544a29"
          ],
          [
           0.1005859375,
           "#56462b"
          ],
          [
           0.1015625,
           "#56462b"
          ],
          [
           0.1015625,
           "#5c452a"
          ],
          [
           0.1025390625,
           "#5c452a"
          ],
          [
           0.1025390625,
           "#61422b"
          ],
          [
           0.103515625,
           "#61422b"
          ],
          [
           0.103515625,
           "#65402c"
          ],
          [
           0.1044921875,
           "#65402c"
          ],
          [
           0.1044921875,
           "#6e422d"
          ],
          [
           0.10546875,
           "#6e422d"
          ],
          [
           0.10546875,
           "#694231"
          ],
          [
           0.1064453125,
           "#694231"
          ],
          [
           0.1064453125,
           "#5c402e"
          ],
          [
           0.107421875,
           "#5c402e"
          ],
          [
           0.107421875,
           "#5a4030"
          ],
          [
           0.1083984375,
           "#5a4030"
          ],
          [
           0.1083984375,
           "#614332"
          ],
          [
           0.109375,
           "#614332"
          ],
          [
           0.109375,
           "#644333"
          ],
          [
           0.1103515625,
           "#644333"
          ],
          [
           0.1103515625,
           "#664634"
          ],
          [
           0.111328125,
           "#664634"
          ],
          [
           0.111328125,
           "#71543a"
          ],
          [
           0.1123046875,
           "#71543a"
          ],
          [
           0.1123046875,
           "#755c39"
          ],
          [
           0.11328125,
           "#755c39"
          ],
          [
           0.11328125,
           "#6e583a"
          ],
          [
           0.1142578125,
           "#6e583a"
          ],
          [
           0.1142578125,
           "#71623c"
          ],
          [
           0.115234375,
           "#71623c"
          ],
          [
           0.115234375,
           "#70623e"
          ],
          [
           0.1162109375,
           "#70623e"
          ],
          [
           0.1162109375,
           "#706642"
          ],
          [
           0.1171875,
           "#706642"
          ],
          [
           0.1171875,
           "#726949"
          ],
          [
           0.1181640625,
           "#726949"
          ],
          [
           0.1181640625,
           "#746847"
          ],
          [
           0.119140625,
           "#746847"
          ],
          [
           0.119140625,
           "#716e49"
          ],
          [
           0.1201171875,
           "#716e49"
          ],
          [
           0.1201171875,
           "#8b8159"
          ],
          [
           0.12109375,
           "#8b8159"
          ],
          [
           0.12109375,
           "#e9ae79"
          ],
          [
           0.1220703125,
           "#e9ae79"
          ],
          [
           0.1220703125,
           "#aa8a5e"
          ],
          [
           0.123046875,
           "#aa8a5e"
          ],
          [
           0.123046875,
           "#7d7b5b"
          ],
          [
           0.1240234375,
           "#7d7b5b"
          ],
          [
           0.1240234375,
           "#84805e"
          ],
          [
           0.125,
           "#84805e"
          ],
          [
           0.125,
           "#4c471c"
          ],
          [
           0.1259765625,
           "#4c471c"
          ],
          [
           0.1259765625,
           "#4c441b"
          ],
          [
           0.126953125,
           "#4c441b"
          ],
          [
           0.126953125,
           "#4e451a"
          ],
          [
           0.1279296875,
           "#4e451a"
          ],
          [
           0.1279296875,
           "#534b26"
          ],
          [
           0.12890625,
           "#534b26"
          ],
          [
           0.12890625,
           "#583d1f"
          ],
          [
           0.1298828125,
           "#583d1f"
          ],
          [
           0.1298828125,
           "#50421e"
          ],
          [
           0.130859375,
           "#50421e"
          ],
          [
           0.130859375,
           "#4c431f"
          ],
          [
           0.1318359375,
           "#4c431f"
          ],
          [
           0.1318359375,
           "#543a1c"
          ],
          [
           0.1328125,
           "#543a1c"
          ],
          [
           0.1328125,
           "#633a1e"
          ],
          [
           0.1337890625,
           "#633a1e"
          ],
          [
           0.1337890625,
           "#733b21"
          ],
          [
           0.134765625,
           "#733b21"
          ],
          [
           0.134765625,
           "#763b27"
          ],
          [
           0.1357421875,
           "#763b27"
          ],
          [
           0.1357421875,
           "#834229"
          ],
          [
           0.13671875,
           "#834229"
          ],
          [
           0.13671875,
           "#7b4227"
          ],
          [
           0.1376953125,
           "#7b4227"
          ],
          [
           0.1376953125,
           "#5b3a21"
          ],
          [
           0.138671875,
           "#5b3a21"
          ],
          [
           0.138671875,
           "#4c321c"
          ],
          [
           0.1396484375,
           "#4c321c"
          ],
          [
           0.1396484375,
           "#51371d"
          ],
          [
           0.140625,
           "#51371d"
          ],
          [
           0.140625,
           "#573f20"
          ],
          [
           0.1416015625,
           "#573f20"
          ],
          [
           0.1416015625,
           "#593a1d"
          ],
          [
           0.142578125,
           "#593a1d"
          ],
          [
           0.142578125,
           "#5f481e"
          ],
          [
           0.1435546875,
           "#5f481e"
          ],
          [
           0.1435546875,
           "#64551d"
          ],
          [
           0.14453125,
           "#64551d"
          ],
          [
           0.14453125,
           "#604b1c"
          ],
          [
           0.1455078125,
           "#604b1c"
          ],
          [
           0.1455078125,
           "#60521b"
          ],
          [
           0.146484375,
           "#60521b"
          ],
          [
           0.146484375,
           "#5d4e1b"
          ],
          [
           0.1474609375,
           "#5d4e1b"
          ],
          [
           0.1474609375,
           "#5e4f2b"
          ],
          [
           0.1484375,
           "#5e4f2b"
          ],
          [
           0.1484375,
           "#52442a"
          ],
          [
           0.1494140625,
           "#52442a"
          ],
          [
           0.1494140625,
           "#554324"
          ],
          [
           0.150390625,
           "#554324"
          ],
          [
           0.150390625,
           "#504818"
          ],
          [
           0.1513671875,
           "#504818"
          ],
          [
           0.1513671875,
           "#8b763b"
          ],
          [
           0.15234375,
           "#8b763b"
          ],
          [
           0.15234375,
           "#efb177"
          ],
          [
           0.1533203125,
           "#efb177"
          ],
          [
           0.1533203125,
           "#866434"
          ],
          [
           0.154296875,
           "#866434"
          ],
          [
           0.154296875,
           "#524e19"
          ],
          [
           0.1552734375,
           "#524e19"
          ],
          [
           0.1552734375,
           "#56531a"
          ],
          [
           0.15625,
           "#56531a"
          ],
          [
           0.15625,
           "#514e1b"
          ],
          [
           0.1572265625,
           "#514e1b"
          ],
          [
           0.1572265625,
           "#50481d"
          ],
          [
           0.158203125,
           "#50481d"
          ],
          [
           0.158203125,
           "#51481e"
          ],
          [
           0.1591796875,
           "#51481e"
          ],
          [
           0.1591796875,
           "#534822"
          ],
          [
           0.16015625,
           "#534822"
          ],
          [
           0.16015625,
           "#5f401e"
          ],
          [
           0.1611328125,
           "#5f401e"
          ],
          [
           0.1611328125,
           "#674022"
          ],
          [
           0.162109375,
           "#674022"
          ],
          [
           0.162109375,
           "#584523"
          ],
          [
           0.1630859375,
           "#584523"
          ],
          [
           0.1630859375,
           "#5a3e1f"
          ],
          [
           0.1640625,
           "#5a3e1f"
          ],
          [
           0.1640625,
           "#663a22"
          ],
          [
           0.1650390625,
           "#663a22"
          ],
          [
           0.1650390625,
           "#83422b"
          ],
          [
           0.166015625,
           "#83422b"
          ],
          [
           0.166015625,
           "#773b29"
          ],
          [
           0.1669921875,
           "#773b29"
          ],
          [
           0.1669921875,
           "#884a31"
          ],
          [
           0.16796875,
           "#884a31"
          ],
          [
           0.16796875,
           "#8c522e"
          ],
          [
           0.1689453125,
           "#8c522e"
          ],
          [
           0.1689453125,
           "#72502a"
          ],
          [
           0.169921875,
           "#72502a"
          ],
          [
           0.169921875,
           "#5d4724"
          ],
          [
           0.1708984375,
           "#5d4724"
          ],
          [
           0.1708984375,
           "#615127"
          ],
          [
           0.171875,
           "#615127"
          ],
          [
           0.171875,
           "#6d5d2b"
          ],
          [
           0.1728515625,
           "#6d5d2b"
          ],
          [
           0.1728515625,
           "#674425"
          ],
          [
           0.173828125,
           "#674425"
          ],
          [
           0.173828125,
           "#614f22"
          ],
          [
           0.1748046875,
           "#614f22"
          ],
          [
           0.1748046875,
           "#695e20"
          ],
          [
           0.17578125,
           "#695e20"
          ],
          [
           0.17578125,
           "#6c5622"
          ],
          [
           0.1767578125,
           "#6c5622"
          ],
          [
           0.1767578125,
           "#66591c"
          ],
          [
           0.177734375,
           "#66591c"
          ],
          [
           0.177734375,
           "#5e5421"
          ],
          [
           0.1787109375,
           "#5e5421"
          ],
          [
           0.1787109375,
           "#554635"
          ],
          [
           0.1796875,
           "#554635"
          ],
          [
           0.1796875,
           "#42362f"
          ],
          [
           0.1806640625,
           "#42362f"
          ],
          [
           0.1806640625,
           "#48382a"
          ],
          [
           0.181640625,
           "#48382a"
          ],
          [
           0.181640625,
           "#554829"
          ],
          [
           0.1826171875,
           "#554829"
          ],
          [
           0.1826171875,
           "#be9a66"
          ],
          [
           0.18359375,
           "#be9a66"
          ],
          [
           0.18359375,
           "#e4a96e"
          ],
          [
           0.1845703125,
           "#e4a96e"
          ],
          [
           0.1845703125,
           "#705926"
          ],
          [
           0.185546875,
           "#705926"
          ],
          [
           0.185546875,
           "#5c531b"
          ],
          [
           0.1865234375,
           "#5c531b"
          ],
          [
           0.1865234375,
           "#5f591e"
          ],
          [
           0.1875,
           "#5f591e"
          ],
          [
           0.1875,
           "#564f1b"
          ],
          [
           0.1884765625,
           "#564f1b"
          ],
          [
           0.1884765625,
           "#554a20"
          ],
          [
           0.189453125,
           "#554a20"
          ],
          [
           0.189453125,
           "#544922"
          ],
          [
           0.1904296875,
           "#544922"
          ],
          [
           0.1904296875,
           "#595023"
          ],
          [
           0.19140625,
           "#595023"
          ],
          [
           0.19140625,
           "#594c21"
          ],
          [
           0.1923828125,
           "#594c21"
          ],
          [
           0.1923828125,
           "#684325"
          ],
          [
           0.193359375,
           "#684325"
          ],
          [
           0.193359375,
           "#704126"
          ],
          [
           0.1943359375,
           "#704126"
          ],
          [
           0.1943359375,
           "#604226"
          ],
          [
           0.1953125,
           "#604226"
          ],
          [
           0.1953125,
           "#623922"
          ],
          [
           0.1962890625,
           "#623922"
          ],
          [
           0.1962890625,
           "#78422b"
          ],
          [
           0.197265625,
           "#78422b"
          ],
          [
           0.197265625,
           "#633425"
          ],
          [
           0.1982421875,
           "#633425"
          ],
          [
           0.1982421875,
           "#844f2f"
          ],
          [
           0.19921875,
           "#844f2f"
          ],
          [
           0.19921875,
           "#8a5c2b"
          ],
          [
           0.2001953125,
           "#8a5c2b"
          ],
          [
           0.2001953125,
           "#8e7441"
          ],
          [
           0.201171875,
           "#8e7441"
          ],
          [
           0.201171875,
           "#897747"
          ],
          [
           0.2021484375,
           "#897747"
          ],
          [
           0.2021484375,
           "#867649"
          ],
          [
           0.203125,
           "#867649"
          ],
          [
           0.203125,
           "#8f814e"
          ],
          [
           0.2041015625,
           "#8f814e"
          ],
          [
           0.2041015625,
           "#634928"
          ],
          [
           0.205078125,
           "#634928"
          ],
          [
           0.205078125,
           "#5c4629"
          ],
          [
           0.2060546875,
           "#5c4629"
          ],
          [
           0.2060546875,
           "#8a5326"
          ],
          [
           0.20703125,
           "#8a5326"
          ],
          [
           0.20703125,
           "#9f502f"
          ],
          [
           0.2080078125,
           "#9f502f"
          ],
          [
           0.2080078125,
           "#955f3c"
          ],
          [
           0.208984375,
           "#955f3c"
          ],
          [
           0.208984375,
           "#795e3e"
          ],
          [
           0.2099609375,
           "#795e3e"
          ],
          [
           0.2099609375,
           "#463429"
          ],
          [
           0.2109375,
           "#463429"
          ],
          [
           0.2109375,
           "#45382f"
          ],
          [
           0.2119140625,
           "#45382f"
          ],
          [
           0.2119140625,
           "#695749"
          ],
          [
           0.212890625,
           "#695749"
          ],
          [
           0.212890625,
           "#77644b"
          ],
          [
           0.2138671875,
           "#77644b"
          ],
          [
           0.2138671875,
           "#e5b885"
          ],
          [
           0.21484375,
           "#e5b885"
          ],
          [
           0.21484375,
           "#bb9250"
          ],
          [
           0.2158203125,
           "#bb9250"
          ],
          [
           0.2158203125,
           "#645e1c"
          ],
          [
           0.216796875,
           "#645e1c"
          ],
          [
           0.216796875,
           "#645e1d"
          ],
          [
           0.2177734375,
           "#645e1d"
          ],
          [
           0.2177734375,
           "#635f21"
          ],
          [
           0.21875,
           "#635f21"
          ],
          [
           0.21875,
           "#5e5a1d"
          ],
          [
           0.2197265625,
           "#5e5a1d"
          ],
          [
           0.2197265625,
           "#5f5920"
          ],
          [
           0.220703125,
           "#5f5920"
          ],
          [
           0.220703125,
           "#5d4e1f"
          ],
          [
           0.2216796875,
           "#5d4e1f"
          ],
          [
           0.2216796875,
           "#5f572b"
          ],
          [
           0.22265625,
           "#5f572b"
          ],
          [
           0.22265625,
           "#656532"
          ],
          [
           0.2236328125,
           "#656532"
          ],
          [
           0.2236328125,
           "#6b6533"
          ],
          [
           0.224609375,
           "#6b6533"
          ],
          [
           0.224609375,
           "#7c5931"
          ],
          [
           0.2255859375,
           "#7c5931"
          ],
          [
           0.2255859375,
           "#824b31"
          ],
          [
           0.2265625,
           "#824b31"
          ],
          [
           0.2265625,
           "#90683f"
          ],
          [
           0.2275390625,
           "#90683f"
          ],
          [
           0.2275390625,
           "#91764d"
          ],
          [
           0.228515625,
           "#91764d"
          ],
          [
           0.228515625,
           "#564031"
          ],
          [
           0.2294921875,
           "#564031"
          ],
          [
           0.2294921875,
           "#88753a"
          ],
          [
           0.23046875,
           "#88753a"
          ],
          [
           0.23046875,
           "#978c3b"
          ],
          [
           0.2314453125,
           "#978c3b"
          ],
          [
           0.2314453125,
           "#a09b4c"
          ],
          [
           0.232421875,
           "#a09b4c"
          ],
          [
           0.232421875,
           "#968d41"
          ],
          [
           0.2333984375,
           "#968d41"
          ],
          [
           0.2333984375,
           "#897a4c"
          ],
          [
           0.234375,
           "#897a4c"
          ],
          [
           0.234375,
           "#867e53"
          ],
          [
           0.2353515625,
           "#867e53"
          ],
          [
           0.2353515625,
           "#795432"
          ],
          [
           0.236328125,
           "#795432"
          ],
          [
           0.236328125,
           "#852b20"
          ],
          [
           0.2373046875,
           "#852b20"
          ],
          [
           0.2373046875,
           "#c6362c"
          ],
          [
           0.23828125,
           "#c6362c"
          ],
          [
           0.23828125,
           "#e14c48"
          ],
          [
           0.2392578125,
           "#e14c48"
          ],
          [
           0.2392578125,
           "#f19087"
          ],
          [
           0.240234375,
           "#f19087"
          ],
          [
           0.240234375,
           "#d99390"
          ],
          [
           0.2412109375,
           "#d99390"
          ],
          [
           0.2412109375,
           "#62433f"
          ],
          [
           0.2421875,
           "#62433f"
          ],
          [
           0.2421875,
           "#564b35"
          ],
          [
           0.2431640625,
           "#564b35"
          ],
          [
           0.2431640625,
           "#b0977f"
          ],
          [
           0.244140625,
           "#b0977f"
          ],
          [
           0.244140625,
           "#bc9a7e"
          ],
          [
           0.2451171875,
           "#bc9a7e"
          ],
          [
           0.2451171875,
           "#bd946a"
          ],
          [
           0.24609375,
           "#bd946a"
          ],
          [
           0.24609375,
           "#b09754"
          ],
          [
           0.2470703125,
           "#b09754"
          ],
          [
           0.2470703125,
           "#938d49"
          ],
          [
           0.248046875,
           "#938d49"
          ],
          [
           0.248046875,
           "#948c49"
          ],
          [
           0.2490234375,
           "#948c49"
          ],
          [
           0.2490234375,
           "#90864c"
          ],
          [
           0.25,
           "#90864c"
          ],
          [
           0.25,
           "#9d9952"
          ],
          [
           0.2509765625,
           "#9d9952"
          ],
          [
           0.2509765625,
           "#9d9852"
          ],
          [
           0.251953125,
           "#9d9852"
          ],
          [
           0.251953125,
           "#a4955b"
          ],
          [
           0.2529296875,
           "#a4955b"
          ],
          [
           0.2529296875,
           "#917347"
          ],
          [
           0.25390625,
           "#917347"
          ],
          [
           0.25390625,
           "#9a884a"
          ],
          [
           0.2548828125,
           "#9a884a"
          ],
          [
           0.2548828125,
           "#a8a259"
          ],
          [
           0.255859375,
           "#a8a259"
          ],
          [
           0.255859375,
           "#aea461"
          ],
          [
           0.2568359375,
           "#aea461"
          ],
          [
           0.2568359375,
           "#a38256"
          ],
          [
           0.2578125,
           "#a38256"
          ],
          [
           0.2578125,
           "#aa7851"
          ],
          [
           0.2587890625,
           "#aa7851"
          ],
          [
           0.2587890625,
           "#b99f6d"
          ],
          [
           0.259765625,
           "#b99f6d"
          ],
          [
           0.259765625,
           "#735c44"
          ],
          [
           0.2607421875,
           "#735c44"
          ],
          [
           0.2607421875,
           "#a28f6c"
          ],
          [
           0.26171875,
           "#a28f6c"
          ],
          [
           0.26171875,
           "#baae74"
          ],
          [
           0.2626953125,
           "#baae74"
          ],
          [
           0.2626953125,
           "#b9aa70"
          ],
          [
           0.263671875,
           "#b9aa70"
          ],
          [
           0.263671875,
           "#b2a26d"
          ],
          [
           0.2646484375,
           "#b2a26d"
          ],
          [
           0.2646484375,
           "#a68d67"
          ],
          [
           0.265625,
           "#a68d67"
          ],
          [
           0.265625,
           "#916d51"
          ],
          [
           0.2666015625,
           "#916d51"
          ],
          [
           0.2666015625,
           "#813926"
          ],
          [
           0.267578125,
           "#813926"
          ],
          [
           0.267578125,
           "#a9241e"
          ],
          [
           0.2685546875,
           "#a9241e"
          ],
          [
           0.2685546875,
           "#c82b25"
          ],
          [
           0.26953125,
           "#c82b25"
          ],
          [
           0.26953125,
           "#d3403d"
          ],
          [
           0.2705078125,
           "#d3403d"
          ],
          [
           0.2705078125,
           "#f0867b"
          ],
          [
           0.271484375,
           "#f0867b"
          ],
          [
           0.271484375,
           "#a3625c"
          ],
          [
           0.2724609375,
           "#a3625c"
          ],
          [
           0.2724609375,
           "#3e312a"
          ],
          [
           0.2734375,
           "#3e312a"
          ],
          [
           0.2734375,
           "#75674a"
          ],
          [
           0.2744140625,
           "#75674a"
          ],
          [
           0.2744140625,
           "#b89f7e"
          ],
          [
           0.275390625,
           "#b89f7e"
          ],
          [
           0.275390625,
           "#b9895e"
          ],
          [
           0.2763671875,
           "#b9895e"
          ],
          [
           0.2763671875,
           "#93724b"
          ],
          [
           0.27734375,
           "#93724b"
          ],
          [
           0.27734375,
           "#b49d78"
          ],
          [
           0.2783203125,
           "#b49d78"
          ],
          [
           0.2783203125,
           "#b19f78"
          ],
          [
           0.279296875,
           "#b19f78"
          ],
          [
           0.279296875,
           "#af9d75"
          ],
          [
           0.2802734375,
           "#af9d75"
          ],
          [
           0.2802734375,
           "#af9c79"
          ],
          [
           0.28125,
           "#af9c79"
          ],
          [
           0.28125,
           "#b9a781"
          ],
          [
           0.2822265625,
           "#b9a781"
          ],
          [
           0.2822265625,
           "#b7a37f"
          ],
          [
           0.283203125,
           "#b7a37f"
          ],
          [
           0.283203125,
           "#baa581"
          ],
          [
           0.2841796875,
           "#baa581"
          ],
          [
           0.2841796875,
           "#b4997d"
          ],
          [
           0.28515625,
           "#b4997d"
          ],
          [
           0.28515625,
           "#a17b62"
          ],
          [
           0.2861328125,
           "#a17b62"
          ],
          [
           0.2861328125,
           "#ac8969"
          ],
          [
           0.287109375,
           "#ac8969"
          ],
          [
           0.287109375,
           "#bead92"
          ],
          [
           0.2880859375,
           "#bead92"
          ],
          [
           0.2880859375,
           "#c1b19d"
          ],
          [
           0.2890625,
           "#c1b19d"
          ],
          [
           0.2890625,
           "#a67b57"
          ],
          [
           0.2900390625,
           "#a67b57"
          ],
          [
           0.2900390625,
           "#b0825c"
          ],
          [
           0.291015625,
           "#b0825c"
          ],
          [
           0.291015625,
           "#ac8266"
          ],
          [
           0.2919921875,
           "#ac8266"
          ],
          [
           0.2919921875,
           "#b89e79"
          ],
          [
           0.29296875,
           "#b89e79"
          ],
          [
           0.29296875,
           "#c4ab85"
          ],
          [
           0.2939453125,
           "#c4ab85"
          ],
          [
           0.2939453125,
           "#bda97e"
          ],
          [
           0.294921875,
           "#bda97e"
          ],
          [
           0.294921875,
           "#ac9570"
          ],
          [
           0.2958984375,
           "#ac9570"
          ],
          [
           0.2958984375,
           "#95735f"
          ],
          [
           0.296875,
           "#95735f"
          ],
          [
           0.296875,
           "#774438"
          ],
          [
           0.2978515625,
           "#774438"
          ],
          [
           0.2978515625,
           "#671a14"
          ],
          [
           0.298828125,
           "#671a14"
          ],
          [
           0.298828125,
           "#9b221c"
          ],
          [
           0.2998046875,
           "#9b221c"
          ],
          [
           0.2998046875,
           "#b9281e"
          ],
          [
           0.30078125,
           "#b9281e"
          ],
          [
           0.30078125,
           "#bd2c24"
          ],
          [
           0.3017578125,
           "#bd2c24"
          ],
          [
           0.3017578125,
           "#c8433c"
          ],
          [
           0.302734375,
           "#c8433c"
          ],
          [
           0.302734375,
           "#823b30"
          ],
          [
           0.3037109375,
           "#823b30"
          ],
          [
           0.3037109375,
           "#281c15"
          ],
          [
           0.3046875,
           "#281c15"
          ],
          [
           0.3046875,
           "#56472f"
          ],
          [
           0.3056640625,
           "#56472f"
          ],
          [
           0.3056640625,
           "#8b7250"
          ],
          [
           0.306640625,
           "#8b7250"
          ],
          [
           0.306640625,
           "#ae7e49"
          ],
          [
           0.3076171875,
           "#ae7e49"
          ],
          [
           0.3076171875,
           "#998147"
          ],
          [
           0.30859375,
           "#998147"
          ],
          [
           0.30859375,
           "#b1a15c"
          ],
          [
           0.3095703125,
           "#b1a15c"
          ],
          [
           0.3095703125,
           "#b2a259"
          ],
          [
           0.310546875,
           "#b2a259"
          ],
          [
           0.310546875,
           "#b2a258"
          ],
          [
           0.3115234375,
           "#b2a258"
          ],
          [
           0.3115234375,
           "#afa258"
          ],
          [
           0.3125,
           "#afa258"
          ],
          [
           0.3125,
           "#c2a986"
          ],
          [
           0.3134765625,
           "#c2a986"
          ],
          [
           0.3134765625,
           "#bfa67c"
          ],
          [
           0.314453125,
           "#bfa67c"
          ],
          [
           0.314453125,
           "#bfa877"
          ],
          [
           0.3154296875,
           "#bfa877"
          ],
          [
           0.3154296875,
           "#c5af7c"
          ],
          [
           0.31640625,
           "#c5af7c"
          ],
          [
           0.31640625,
           "#c2a574"
          ],
          [
           0.3173828125,
           "#c2a574"
          ],
          [
           0.3173828125,
           "#ac8856"
          ],
          [
           0.318359375,
           "#ac8856"
          ],
          [
           0.318359375,
           "#b89a7f"
          ],
          [
           0.3193359375,
           "#b89a7f"
          ],
          [
           0.3193359375,
           "#c7b5a3"
          ],
          [
           0.3203125,
           "#c7b5a3"
          ],
          [
           0.3203125,
           "#bba36a"
          ],
          [
           0.3212890625,
           "#bba36a"
          ],
          [
           0.3212890625,
           "#b59054"
          ],
          [
           0.322265625,
           "#b59054"
          ],
          [
           0.322265625,
           "#b07c4b"
          ],
          [
           0.3232421875,
           "#b07c4b"
          ],
          [
           0.3232421875,
           "#c0a25e"
          ],
          [
           0.32421875,
           "#c0a25e"
          ],
          [
           0.32421875,
           "#ccb874"
          ],
          [
           0.3251953125,
           "#ccb874"
          ],
          [
           0.3251953125,
           "#a7955c"
          ],
          [
           0.326171875,
           "#a7955c"
          ],
          [
           0.326171875,
           "#7b6341"
          ],
          [
           0.3271484375,
           "#7b6341"
          ],
          [
           0.3271484375,
           "#694937"
          ],
          [
           0.328125,
           "#694937"
          ],
          [
           0.328125,
           "#4c271a"
          ],
          [
           0.3291015625,
           "#4c271a"
          ],
          [
           0.3291015625,
           "#6b251d"
          ],
          [
           0.330078125,
           "#6b251d"
          ],
          [
           0.330078125,
           "#98211a"
          ],
          [
           0.3310546875,
           "#98211a"
          ],
          [
           0.3310546875,
           "#ae251d"
          ],
          [
           0.33203125,
           "#ae251d"
          ],
          [
           0.33203125,
           "#a8271d"
          ],
          [
           0.3330078125,
           "#a8271d"
          ],
          [
           0.3330078125,
           "#a3231e"
          ],
          [
           0.333984375,
           "#a3231e"
          ],
          [
           0.333984375,
           "#7e251d"
          ],
          [
           0.3349609375,
           "#7e251d"
          ],
          [
           0.3349609375,
           "#3a2019"
          ],
          [
           0.3359375,
           "#3a2019"
          ],
          [
           0.3359375,
           "#362d1d"
          ],
          [
           0.3369140625,
           "#362d1d"
          ],
          [
           0.3369140625,
           "#7a5a34"
          ],
          [
           0.337890625,
           "#7a5a34"
          ],
          [
           0.337890625,
           "#7e5a2e"
          ],
          [
           0.3388671875,
           "#7e5a2e"
          ],
          [
           0.3388671875,
           "#897d45"
          ],
          [
           0.33984375,
           "#897d45"
          ],
          [
           0.33984375,
           "#af9f4f"
          ],
          [
           0.3408203125,
           "#af9f4f"
          ],
          [
           0.3408203125,
           "#ab9d4d"
          ],
          [
           0.341796875,
           "#ab9d4d"
          ],
          [
           0.341796875,
           "#b19f4f"
          ],
          [
           0.3427734375,
           "#b19f4f"
          ],
          [
           0.3427734375,
           "#b2a24c"
          ],
          [
           0.34375,
           "#b2a24c"
          ],
          [
           0.34375,
           "#d5c190"
          ],
          [
           0.3447265625,
           "#d5c190"
          ],
          [
           0.3447265625,
           "#cdb97e"
          ],
          [
           0.345703125,
           "#cdb97e"
          ],
          [
           0.345703125,
           "#cab674"
          ],
          [
           0.3466796875,
           "#cab674"
          ],
          [
           0.3466796875,
           "#cebb79"
          ],
          [
           0.34765625,
           "#cebb79"
          ],
          [
           0.34765625,
           "#cebc79"
          ],
          [
           0.3486328125,
           "#cebc79"
          ],
          [
           0.3486328125,
           "#beaa5f"
          ],
          [
           0.349609375,
           "#beaa5f"
          ],
          [
           0.349609375,
           "#a98e62"
          ],
          [
           0.3505859375,
           "#a98e62"
          ],
          [
           0.3505859375,
           "#b29682"
          ],
          [
           0.3515625,
           "#b29682"
          ],
          [
           0.3515625,
           "#b39961"
          ],
          [
           0.3525390625,
           "#b39961"
          ],
          [
           0.3525390625,
           "#b19e56"
          ],
          [
           0.353515625,
           "#b19e56"
          ],
          [
           0.353515625,
           "#ae904c"
          ],
          [
           0.3544921875,
           "#ae904c"
          ],
          [
           0.3544921875,
           "#ad8449"
          ],
          [
           0.35546875,
           "#ad8449"
          ],
          [
           0.35546875,
           "#c8a574"
          ],
          [
           0.3564453125,
           "#c8a574"
          ],
          [
           0.3564453125,
           "#7b5e44"
          ],
          [
           0.357421875,
           "#7b5e44"
          ],
          [
           0.357421875,
           "#553529"
          ],
          [
           0.3583984375,
           "#553529"
          ],
          [
           0.3583984375,
           "#733f34"
          ],
          [
           0.359375,
           "#733f34"
          ],
          [
           0.359375,
           "#6d3021"
          ],
          [
           0.3603515625,
           "#6d3021"
          ],
          [
           0.3603515625,
           "#903b2d"
          ],
          [
           0.361328125,
           "#903b2d"
          ],
          [
           0.361328125,
           "#97271a"
          ],
          [
           0.3623046875,
           "#97271a"
          ],
          [
           0.3623046875,
           "#a6261d"
          ],
          [
           0.36328125,
           "#a6261d"
          ],
          [
           0.36328125,
           "#99271c"
          ],
          [
           0.3642578125,
           "#99271c"
          ],
          [
           0.3642578125,
           "#a4261d"
          ],
          [
           0.365234375,
           "#a4261d"
          ],
          [
           0.365234375,
           "#92271a"
          ],
          [
           0.3662109375,
           "#92271a"
          ],
          [
           0.3662109375,
           "#3d1e17"
          ],
          [
           0.3671875,
           "#3d1e17"
          ],
          [
           0.3671875,
           "#31271e"
          ],
          [
           0.3681640625,
           "#31271e"
          ],
          [
           0.3681640625,
           "#855f2f"
          ],
          [
           0.369140625,
           "#855f2f"
          ],
          [
           0.369140625,
           "#4c371a"
          ],
          [
           0.3701171875,
           "#4c371a"
          ],
          [
           0.3701171875,
           "#78703e"
          ],
          [
           0.37109375,
           "#78703e"
          ],
          [
           0.37109375,
           "#b2a050"
          ],
          [
           0.3720703125,
           "#b2a050"
          ],
          [
           0.3720703125,
           "#ab9b4d"
          ],
          [
           0.373046875,
           "#ab9b4d"
          ],
          [
           0.373046875,
           "#ae9b4d"
          ],
          [
           0.3740234375,
           "#ae9b4d"
          ],
          [
           0.3740234375,
           "#aa9c49"
          ],
          [
           0.375,
           "#aa9c49"
          ],
          [
           0.375,
           "#c9ba7e"
          ],
          [
           0.3759765625,
           "#c9ba7e"
          ],
          [
           0.3759765625,
           "#c0b169"
          ],
          [
           0.376953125,
           "#c0b169"
          ],
          [
           0.376953125,
           "#bcae5d"
          ],
          [
           0.3779296875,
           "#bcae5d"
          ],
          [
           0.3779296875,
           "#bdb25a"
          ],
          [
           0.37890625,
           "#bdb25a"
          ],
          [
           0.37890625,
           "#bbb05b"
          ],
          [
           0.3798828125,
           "#bbb05b"
          ],
          [
           0.3798828125,
           "#b6ac51"
          ],
          [
           0.380859375,
           "#b6ac51"
          ],
          [
           0.380859375,
           "#b4a46d"
          ],
          [
           0.3818359375,
           "#b4a46d"
          ],
          [
           0.3818359375,
           "#b29786"
          ],
          [
           0.3828125,
           "#b29786"
          ],
          [
           0.3828125,
           "#a08353"
          ],
          [
           0.3837890625,
           "#a08353"
          ],
          [
           0.3837890625,
           "#a69646"
          ],
          [
           0.384765625,
           "#a69646"
          ],
          [
           0.384765625,
           "#b2a649"
          ],
          [
           0.3857421875,
           "#b2a649"
          ],
          [
           0.3857421875,
           "#b99f5e"
          ],
          [
           0.38671875,
           "#b99f5e"
          ],
          [
           0.38671875,
           "#c58773"
          ],
          [
           0.3876953125,
           "#c58773"
          ],
          [
           0.3876953125,
           "#6e3c31"
          ],
          [
           0.388671875,
           "#6e3c31"
          ],
          [
           0.388671875,
           "#663327"
          ],
          [
           0.3896484375,
           "#663327"
          ],
          [
           0.3896484375,
           "#934335"
          ],
          [
           0.390625,
           "#934335"
          ],
          [
           0.390625,
           "#943f2e"
          ],
          [
           0.3916015625,
           "#943f2e"
          ],
          [
           0.3916015625,
           "#963727"
          ],
          [
           0.392578125,
           "#963727"
          ],
          [
           0.392578125,
           "#9a2c1e"
          ],
          [
           0.3935546875,
           "#9a2c1e"
          ],
          [
           0.3935546875,
           "#a6261d"
          ],
          [
           0.39453125,
           "#a6261d"
          ],
          [
           0.39453125,
           "#a4261c"
          ],
          [
           0.3955078125,
           "#a4261c"
          ],
          [
           0.3955078125,
           "#ad2c1e"
          ],
          [
           0.396484375,
           "#ad2c1e"
          ],
          [
           0.396484375,
           "#9a2b1b"
          ],
          [
           0.3974609375,
           "#9a2b1b"
          ],
          [
           0.3974609375,
           "#341811"
          ],
          [
           0.3984375,
           "#341811"
          ],
          [
           0.3984375,
           "#423120"
          ],
          [
           0.3994140625,
           "#423120"
          ],
          [
           0.3994140625,
           "#795327"
          ],
          [
           0.400390625,
           "#795327"
          ],
          [
           0.400390625,
           "#4d4426"
          ],
          [
           0.4013671875,
           "#4d4426"
          ],
          [
           0.4013671875,
           "#978e46"
          ],
          [
           0.40234375,
           "#978e46"
          ],
          [
           0.40234375,
           "#a99e48"
          ],
          [
           0.4033203125,
           "#a99e48"
          ],
          [
           0.4033203125,
           "#a79c48"
          ],
          [
           0.404296875,
           "#a79c48"
          ],
          [
           0.404296875,
           "#aa9b49"
          ],
          [
           0.4052734375,
           "#aa9b49"
          ],
          [
           0.4052734375,
           "#a59947"
          ],
          [
           0.40625,
           "#a59947"
          ],
          [
           0.40625,
           "#b4a756"
          ],
          [
           0.4072265625,
           "#b4a756"
          ],
          [
           0.4072265625,
           "#b0a44f"
          ],
          [
           0.408203125,
           "#b0a44f"
          ],
          [
           0.408203125,
           "#b0a348"
          ],
          [
           0.4091796875,
           "#b0a348"
          ],
          [
           0.4091796875,
           "#b2a446"
          ],
          [
           0.41015625,
           "#b2a446"
          ],
          [
           0.41015625,
           "#b1a24d"
          ],
          [
           0.4111328125,
           "#b1a24d"
          ],
          [
           0.4111328125,
           "#b0a04e"
          ],
          [
           0.412109375,
           "#b0a04e"
          ],
          [
           0.412109375,
           "#b9ab75"
          ],
          [
           0.4130859375,
           "#b9ab75"
          ],
          [
           0.4130859375,
           "#c7b9aa"
          ],
          [
           0.4140625,
           "#c7b9aa"
          ],
          [
           0.4140625,
           "#ac936a"
          ],
          [
           0.4150390625,
           "#ac936a"
          ],
          [
           0.4150390625,
           "#a27f39"
          ],
          [
           0.416015625,
           "#a27f39"
          ],
          [
           0.416015625,
           "#bba35d"
          ],
          [
           0.4169921875,
           "#bba35d"
          ],
          [
           0.4169921875,
           "#e2b49a"
          ],
          [
           0.41796875,
           "#e2b49a"
          ],
          [
           0.41796875,
           "#c9756a"
          ],
          [
           0.4189453125,
           "#c9756a"
          ],
          [
           0.4189453125,
           "#8c3728"
          ],
          [
           0.419921875,
           "#8c3728"
          ],
          [
           0.419921875,
           "#903829"
          ],
          [
           0.4208984375,
           "#903829"
          ],
          [
           0.4208984375,
           "#9a3c2c"
          ],
          [
           0.421875,
           "#9a3c2c"
          ],
          [
           0.421875,
           "#943526"
          ],
          [
           0.4228515625,
           "#943526"
          ],
          [
           0.4228515625,
           "#952b1e"
          ],
          [
           0.423828125,
           "#952b1e"
          ],
          [
           0.423828125,
           "#9f2a1d"
          ],
          [
           0.4248046875,
           "#9f2a1d"
          ],
          [
           0.4248046875,
           "#a4221b"
          ],
          [
           0.42578125,
           "#a4221b"
          ],
          [
           0.42578125,
           "#a42516"
          ],
          [
           0.4267578125,
           "#a42516"
          ],
          [
           0.4267578125,
           "#ab2918"
          ],
          [
           0.427734375,
           "#ab2918"
          ],
          [
           0.427734375,
           "#772214"
          ],
          [
           0.4287109375,
           "#772214"
          ],
          [
           0.4287109375,
           "#27160f"
          ],
          [
           0.4296875,
           "#27160f"
          ],
          [
           0.4296875,
           "#634b28"
          ],
          [
           0.4306640625,
           "#634b28"
          ],
          [
           0.4306640625,
           "#64471e"
          ],
          [
           0.431640625,
           "#64471e"
          ],
          [
           0.431640625,
           "#5b562a"
          ],
          [
           0.4326171875,
           "#5b562a"
          ],
          [
           0.4326171875,
           "#afa645"
          ],
          [
           0.43359375,
           "#afa645"
          ],
          [
           0.43359375,
           "#aaa248"
          ],
          [
           0.4345703125,
           "#aaa248"
          ],
          [
           0.4345703125,
           "#ada44c"
          ],
          [
           0.435546875,
           "#ada44c"
          ],
          [
           0.435546875,
           "#b0a44c"
          ],
          [
           0.4365234375,
           "#b0a44c"
          ],
          [
           0.4365234375,
           "#b0a04c"
          ],
          [
           0.4375,
           "#b0a04c"
          ],
          [
           0.4375,
           "#b49d50"
          ],
          [
           0.4384765625,
           "#b49d50"
          ],
          [
           0.4384765625,
           "#b79c57"
          ],
          [
           0.439453125,
           "#b79c57"
          ],
          [
           0.439453125,
           "#ba9a58"
          ],
          [
           0.4404296875,
           "#ba9a58"
          ],
          [
           0.4404296875,
           "#ba9a56"
          ],
          [
           0.44140625,
           "#ba9a56"
          ],
          [
           0.44140625,
           "#b39551"
          ],
          [
           0.4423828125,
           "#b39551"
          ],
          [
           0.4423828125,
           "#b3954f"
          ],
          [
           0.443359375,
           "#b3954f"
          ],
          [
           0.443359375,
           "#baa575"
          ],
          [
           0.4443359375,
           "#baa575"
          ],
          [
           0.4443359375,
           "#cabdb0"
          ],
          [
           0.4453125,
           "#cabdb0"
          ],
          [
           0.4453125,
           "#c0ae7c"
          ],
          [
           0.4462890625,
           "#c0ae7c"
          ],
          [
           0.4462890625,
           "#a88a4b"
          ],
          [
           0.447265625,
           "#a88a4b"
          ],
          [
           0.447265625,
           "#bb8268"
          ],
          [
           0.4482421875,
           "#bb8268"
          ],
          [
           0.4482421875,
           "#d07063"
          ],
          [
           0.44921875,
           "#d07063"
          ],
          [
           0.44921875,
           "#b94938"
          ],
          [
           0.4501953125,
           "#b94938"
          ],
          [
           0.4501953125,
           "#a53c2c"
          ],
          [
           0.451171875,
           "#a53c2c"
          ],
          [
           0.451171875,
           "#973123"
          ],
          [
           0.4521484375,
           "#973123"
          ],
          [
           0.4521484375,
           "#942f21"
          ],
          [
           0.453125,
           "#942f21"
          ],
          [
           0.453125,
           "#902b1d"
          ],
          [
           0.4541015625,
           "#902b1d"
          ],
          [
           0.4541015625,
           "#942718"
          ],
          [
           0.455078125,
           "#942718"
          ],
          [
           0.455078125,
           "#972212"
          ],
          [
           0.4560546875,
           "#972212"
          ],
          [
           0.4560546875,
           "#9a2013"
          ],
          [
           0.45703125,
           "#9a2013"
          ],
          [
           0.45703125,
           "#a52214"
          ],
          [
           0.4580078125,
           "#a52214"
          ],
          [
           0.4580078125,
           "#832311"
          ],
          [
           0.458984375,
           "#832311"
          ],
          [
           0.458984375,
           "#411507"
          ],
          [
           0.4599609375,
           "#411507"
          ],
          [
           0.4599609375,
           "#281a11"
          ],
          [
           0.4609375,
           "#281a11"
          ],
          [
           0.4609375,
           "#7e612f"
          ],
          [
           0.4619140625,
           "#7e612f"
          ],
          [
           0.4619140625,
           "#927b3b"
          ],
          [
           0.462890625,
           "#927b3b"
          ],
          [
           0.462890625,
           "#968f44"
          ],
          [
           0.4638671875,
           "#968f44"
          ],
          [
           0.4638671875,
           "#b3a54b"
          ],
          [
           0.46484375,
           "#b3a54b"
          ],
          [
           0.46484375,
           "#b4a64c"
          ],
          [
           0.4658203125,
           "#b4a64c"
          ],
          [
           0.4658203125,
           "#b4a84e"
          ],
          [
           0.466796875,
           "#b4a84e"
          ],
          [
           0.466796875,
           "#b3a74b"
          ],
          [
           0.4677734375,
           "#b3a74b"
          ],
          [
           0.4677734375,
           "#afa249"
          ],
          [
           0.46875,
           "#afa249"
          ],
          [
           0.46875,
           "#ad9e4b"
          ],
          [
           0.4697265625,
           "#ad9e4b"
          ],
          [
           0.4697265625,
           "#b49b4f"
          ],
          [
           0.470703125,
           "#b49b4f"
          ],
          [
           0.470703125,
           "#bf9f58"
          ],
          [
           0.4716796875,
           "#bf9f58"
          ],
          [
           0.4716796875,
           "#c39f5c"
          ],
          [
           0.47265625,
           "#c39f5c"
          ],
          [
           0.47265625,
           "#c29d59"
          ],
          [
           0.4736328125,
           "#c29d59"
          ],
          [
           0.4736328125,
           "#c5a25a"
          ],
          [
           0.474609375,
           "#c5a25a"
          ],
          [
           0.474609375,
           "#c6ae78"
          ],
          [
           0.4755859375,
           "#c6ae78"
          ],
          [
           0.4755859375,
           "#c5b7a7"
          ],
          [
           0.4765625,
           "#c5b7a7"
          ],
          [
           0.4765625,
           "#c6b28f"
          ],
          [
           0.4775390625,
           "#c6b28f"
          ],
          [
           0.4775390625,
           "#d0895f"
          ],
          [
           0.478515625,
           "#d0895f"
          ],
          [
           0.478515625,
           "#c1503e"
          ],
          [
           0.4794921875,
           "#c1503e"
          ],
          [
           0.4794921875,
           "#ac3820"
          ],
          [
           0.48046875,
           "#ac3820"
          ],
          [
           0.48046875,
           "#b23a24"
          ],
          [
           0.4814453125,
           "#b23a24"
          ],
          [
           0.4814453125,
           "#a73525"
          ],
          [
           0.482421875,
           "#a73525"
          ],
          [
           0.482421875,
           "#942f1e"
          ],
          [
           0.4833984375,
           "#942f1e"
          ],
          [
           0.4833984375,
           "#8b2516"
          ],
          [
           0.484375,
           "#8b2516"
          ],
          [
           0.484375,
           "#882215"
          ],
          [
           0.4853515625,
           "#882215"
          ],
          [
           0.4853515625,
           "#8b2111"
          ],
          [
           0.486328125,
           "#8b2111"
          ],
          [
           0.486328125,
           "#962010"
          ],
          [
           0.4873046875,
           "#962010"
          ],
          [
           0.4873046875,
           "#9d2011"
          ],
          [
           0.48828125,
           "#9d2011"
          ],
          [
           0.48828125,
           "#8b2413"
          ],
          [
           0.4892578125,
           "#8b2413"
          ],
          [
           0.4892578125,
           "#501a09"
          ],
          [
           0.490234375,
           "#501a09"
          ],
          [
           0.490234375,
           "#3c1607"
          ],
          [
           0.4912109375,
           "#3c1607"
          ],
          [
           0.4912109375,
           "#4c381a"
          ],
          [
           0.4921875,
           "#4c381a"
          ],
          [
           0.4921875,
           "#9b7733"
          ],
          [
           0.4931640625,
           "#9b7733"
          ],
          [
           0.4931640625,
           "#b59b4f"
          ],
          [
           0.494140625,
           "#b59b4f"
          ],
          [
           0.494140625,
           "#b3a459"
          ],
          [
           0.4951171875,
           "#b3a459"
          ],
          [
           0.4951171875,
           "#af9f51"
          ],
          [
           0.49609375,
           "#af9f51"
          ],
          [
           0.49609375,
           "#ada04b"
          ],
          [
           0.4970703125,
           "#ada04b"
          ],
          [
           0.4970703125,
           "#aea44a"
          ],
          [
           0.498046875,
           "#aea44a"
          ],
          [
           0.498046875,
           "#aaa244"
          ],
          [
           0.4990234375,
           "#aaa244"
          ],
          [
           0.4990234375,
           "#a19b3d"
          ],
          [
           0.5,
           "#a19b3d"
          ],
          [
           0.5,
           "#b6a54b"
          ],
          [
           0.5009765625,
           "#b6a54b"
          ],
          [
           0.5009765625,
           "#bca651"
          ],
          [
           0.501953125,
           "#bca651"
          ],
          [
           0.501953125,
           "#c3a861"
          ],
          [
           0.5029296875,
           "#c3a861"
          ],
          [
           0.5029296875,
           "#bca067"
          ],
          [
           0.50390625,
           "#bca067"
          ],
          [
           0.50390625,
           "#b79b6c"
          ],
          [
           0.5048828125,
           "#b79b6c"
          ],
          [
           0.5048828125,
           "#ac9468"
          ],
          [
           0.505859375,
           "#ac9468"
          ],
          [
           0.505859375,
           "#9e8b66"
          ],
          [
           0.5068359375,
           "#9e8b66"
          ],
          [
           0.5068359375,
           "#967e6e"
          ],
          [
           0.5078125,
           "#967e6e"
          ],
          [
           0.5078125,
           "#b16055"
          ],
          [
           0.5087890625,
           "#b16055"
          ],
          [
           0.5087890625,
           "#c64b3b"
          ],
          [
           0.509765625,
           "#c64b3b"
          ],
          [
           0.509765625,
           "#c4452e"
          ],
          [
           0.5107421875,
           "#c4452e"
          ],
          [
           0.5107421875,
           "#b33824"
          ],
          [
           0.51171875,
           "#b33824"
          ],
          [
           0.51171875,
           "#982d1a"
          ],
          [
           0.5126953125,
           "#982d1a"
          ],
          [
           0.5126953125,
           "#992815"
          ],
          [
           0.513671875,
           "#992815"
          ],
          [
           0.513671875,
           "#8e2813"
          ],
          [
           0.5146484375,
           "#8e2813"
          ],
          [
           0.5146484375,
           "#862410"
          ],
          [
           0.515625,
           "#862410"
          ],
          [
           0.515625,
           "#801f0e"
          ],
          [
           0.5166015625,
           "#801f0e"
          ],
          [
           0.5166015625,
           "#7d1f0c"
          ],
          [
           0.517578125,
           "#7d1f0c"
          ],
          [
           0.517578125,
           "#851c0f"
          ],
          [
           0.5185546875,
           "#851c0f"
          ],
          [
           0.5185546875,
           "#8a1d10"
          ],
          [
           0.51953125,
           "#8a1d10"
          ],
          [
           0.51953125,
           "#4f1a07"
          ],
          [
           0.5205078125,
           "#4f1a07"
          ],
          [
           0.5205078125,
           "#3f1204"
          ],
          [
           0.521484375,
           "#3f1204"
          ],
          [
           0.521484375,
           "#512f10"
          ],
          [
           0.5224609375,
           "#512f10"
          ],
          [
           0.5224609375,
           "#8f7c36"
          ],
          [
           0.5234375,
           "#8f7c36"
          ],
          [
           0.5234375,
           "#ab8438"
          ],
          [
           0.5244140625,
           "#ab8438"
          ],
          [
           0.5244140625,
           "#ab984a"
          ],
          [
           0.525390625,
           "#ab984a"
          ],
          [
           0.525390625,
           "#a79b4d"
          ],
          [
           0.5263671875,
           "#a79b4d"
          ],
          [
           0.5263671875,
           "#a49d49"
          ],
          [
           0.52734375,
           "#a49d49"
          ],
          [
           0.52734375,
           "#a39c48"
          ],
          [
           0.5283203125,
           "#a39c48"
          ],
          [
           0.5283203125,
           "#a69f44"
          ],
          [
           0.529296875,
           "#a69f44"
          ],
          [
           0.529296875,
           "#a59f40"
          ],
          [
           0.5302734375,
           "#a59f40"
          ],
          [
           0.5302734375,
           "#a49c3c"
          ],
          [
           0.53125,
           "#a49c3c"
          ],
          [
           0.53125,
           "#c2aa50"
          ],
          [
           0.5322265625,
           "#c2aa50"
          ],
          [
           0.5322265625,
           "#bca650"
          ],
          [
           0.533203125,
           "#bca650"
          ],
          [
           0.533203125,
           "#857849"
          ],
          [
           0.5341796875,
           "#857849"
          ],
          [
           0.5341796875,
           "#574f30"
          ],
          [
           0.53515625,
           "#574f30"
          ],
          [
           0.53515625,
           "#463d23"
          ],
          [
           0.5361328125,
           "#463d23"
          ],
          [
           0.5361328125,
           "#3c331c"
          ],
          [
           0.537109375,
           "#3c331c"
          ],
          [
           0.537109375,
           "#564e30"
          ],
          [
           0.5380859375,
           "#564e30"
          ],
          [
           0.5380859375,
           "#7e6044"
          ],
          [
           0.5390625,
           "#7e6044"
          ],
          [
           0.5390625,
           "#992f1d"
          ],
          [
           0.5400390625,
           "#992f1d"
          ],
          [
           0.5400390625,
           "#b23625"
          ],
          [
           0.541015625,
           "#b23625"
          ],
          [
           0.541015625,
           "#b53927"
          ],
          [
           0.5419921875,
           "#b53927"
          ],
          [
           0.5419921875,
           "#b1361e"
          ],
          [
           0.54296875,
           "#b1361e"
          ],
          [
           0.54296875,
           "#a02c17"
          ],
          [
           0.5439453125,
           "#a02c17"
          ],
          [
           0.5439453125,
           "#8c2311"
          ],
          [
           0.544921875,
           "#8c2311"
          ],
          [
           0.544921875,
           "#882310"
          ],
          [
           0.5458984375,
           "#882310"
          ],
          [
           0.5458984375,
           "#89220f"
          ],
          [
           0.546875,
           "#89220f"
          ],
          [
           0.546875,
           "#86200d"
          ],
          [
           0.5478515625,
           "#86200d"
          ],
          [
           0.5478515625,
           "#731f0f"
          ],
          [
           0.548828125,
           "#731f0f"
          ],
          [
           0.548828125,
           "#6a2112"
          ],
          [
           0.5498046875,
           "#6a2112"
          ],
          [
           0.5498046875,
           "#5f2911"
          ],
          [
           0.55078125,
           "#5f2911"
          ],
          [
           0.55078125,
           "#523812"
          ],
          [
           0.5517578125,
           "#523812"
          ],
          [
           0.5517578125,
           "#5e3f1c"
          ],
          [
           0.552734375,
           "#5e3f1c"
          ],
          [
           0.552734375,
           "#78632b"
          ],
          [
           0.5537109375,
           "#78632b"
          ],
          [
           0.5537109375,
           "#a18d37"
          ],
          [
           0.5546875,
           "#a18d37"
          ],
          [
           0.5546875,
           "#a0852f"
          ],
          [
           0.5556640625,
           "#a0852f"
          ],
          [
           0.5556640625,
           "#a09a3d"
          ],
          [
           0.556640625,
           "#a09a3d"
          ],
          [
           0.556640625,
           "#a29a3d"
          ],
          [
           0.5576171875,
           "#a29a3d"
          ],
          [
           0.5576171875,
           "#9f9a3d"
          ],
          [
           0.55859375,
           "#9f9a3d"
          ],
          [
           0.55859375,
           "#a29d3a"
          ],
          [
           0.5595703125,
           "#a29d3a"
          ],
          [
           0.5595703125,
           "#a59e3d"
          ],
          [
           0.560546875,
           "#a59e3d"
          ],
          [
           0.560546875,
           "#a3a03c"
          ],
          [
           0.5615234375,
           "#a3a03c"
          ],
          [
           0.5615234375,
           "#a39e3a"
          ],
          [
           0.5625,
           "#a39e3a"
          ],
          [
           0.5625,
           "#c1ae55"
          ],
          [
           0.5634765625,
           "#c1ae55"
          ],
          [
           0.5634765625,
           "#ad9c50"
          ],
          [
           0.564453125,
           "#ad9c50"
          ],
          [
           0.564453125,
           "#49441c"
          ],
          [
           0.5654296875,
           "#49441c"
          ],
          [
           0.5654296875,
           "#353213"
          ],
          [
           0.56640625,
           "#353213"
          ],
          [
           0.56640625,
           "#363616"
          ],
          [
           0.5673828125,
           "#363616"
          ],
          [
           0.5673828125,
           "#413d19"
          ],
          [
           0.568359375,
           "#413d19"
          ],
          [
           0.568359375,
           "#81794a"
          ],
          [
           0.5693359375,
           "#81794a"
          ],
          [
           0.5693359375,
           "#90774e"
          ],
          [
           0.5703125,
           "#90774e"
          ],
          [
           0.5703125,
           "#994825"
          ],
          [
           0.5712890625,
           "#994825"
          ],
          [
           0.5712890625,
           "#ae4a23"
          ],
          [
           0.572265625,
           "#ae4a23"
          ],
          [
           0.572265625,
           "#af4524"
          ],
          [
           0.5732421875,
           "#af4524"
          ],
          [
           0.5732421875,
           "#ad3b20"
          ],
          [
           0.57421875,
           "#ad3b20"
          ],
          [
           0.57421875,
           "#a8391b"
          ],
          [
           0.5751953125,
           "#a8391b"
          ],
          [
           0.5751953125,
           "#983218"
          ],
          [
           0.576171875,
           "#983218"
          ],
          [
           0.576171875,
           "#822d14"
          ],
          [
           0.5771484375,
           "#822d14"
          ],
          [
           0.5771484375,
           "#802d13"
          ],
          [
           0.578125,
           "#802d13"
          ],
          [
           0.578125,
           "#7c2e14"
          ],
          [
           0.5791015625,
           "#7c2e14"
          ],
          [
           0.5791015625,
           "#6a3816"
          ],
          [
           0.580078125,
           "#6a3816"
          ],
          [
           0.580078125,
           "#744b22"
          ],
          [
           0.5810546875,
           "#744b22"
          ],
          [
           0.5810546875,
           "#7f652b"
          ],
          [
           0.58203125,
           "#7f652b"
          ],
          [
           0.58203125,
           "#957b33"
          ],
          [
           0.5830078125,
           "#957b33"
          ],
          [
           0.5830078125,
           "#a08b3d"
          ],
          [
           0.583984375,
           "#a08b3d"
          ],
          [
           0.583984375,
           "#8a7435"
          ],
          [
           0.5849609375,
           "#8a7435"
          ],
          [
           0.5849609375,
           "#977c2e"
          ],
          [
           0.5859375,
           "#977c2e"
          ],
          [
           0.5859375,
           "#a29331"
          ],
          [
           0.5869140625,
           "#a29331"
          ],
          [
           0.5869140625,
           "#a69f39"
          ],
          [
           0.587890625,
           "#a69f39"
          ],
          [
           0.587890625,
           "#a79e3b"
          ],
          [
           0.5888671875,
           "#a79e3b"
          ],
          [
           0.5888671875,
           "#a5a03c"
          ],
          [
           0.58984375,
           "#a5a03c"
          ],
          [
           0.58984375,
           "#a5a035"
          ],
          [
           0.5908203125,
           "#a5a035"
          ],
          [
           0.5908203125,
           "#a39f37"
          ],
          [
           0.591796875,
           "#a39f37"
          ],
          [
           0.591796875,
           "#9f9e38"
          ],
          [
           0.5927734375,
           "#9f9e38"
          ],
          [
           0.5927734375,
           "#9d9b37"
          ],
          [
           0.59375,
           "#9d9b37"
          ],
          [
           0.59375,
           "#c2a85f"
          ],
          [
           0.5947265625,
           "#c2a85f"
          ],
          [
           0.5947265625,
           "#b7a160"
          ],
          [
           0.595703125,
           "#b7a160"
          ],
          [
           0.595703125,
           "#7a6f39"
          ],
          [
           0.5966796875,
           "#7a6f39"
          ],
          [
           0.5966796875,
           "#7f7135"
          ],
          [
           0.59765625,
           "#7f7135"
          ],
          [
           0.59765625,
           "#887e3c"
          ],
          [
           0.5986328125,
           "#887e3c"
          ],
          [
           0.5986328125,
           "#827b3a"
          ],
          [
           0.599609375,
           "#827b3a"
          ],
          [
           0.599609375,
           "#8f8a45"
          ],
          [
           0.6005859375,
           "#8f8a45"
          ],
          [
           0.6005859375,
           "#7f7538"
          ],
          [
           0.6015625,
           "#7f7538"
          ],
          [
           0.6015625,
           "#8e6f30"
          ],
          [
           0.6025390625,
           "#8e6f30"
          ],
          [
           0.6025390625,
           "#9a722a"
          ],
          [
           0.603515625,
           "#9a722a"
          ],
          [
           0.603515625,
           "#956822"
          ],
          [
           0.6044921875,
           "#956822"
          ],
          [
           0.6044921875,
           "#9c6726"
          ],
          [
           0.60546875,
           "#9c6726"
          ],
          [
           0.60546875,
           "#9f6c2a"
          ],
          [
           0.6064453125,
           "#9f6c2a"
          ],
          [
           0.6064453125,
           "#9b6a28"
          ],
          [
           0.607421875,
           "#9b6a28"
          ],
          [
           0.607421875,
           "#926c27"
          ],
          [
           0.6083984375,
           "#926c27"
          ],
          [
           0.6083984375,
           "#816d23"
          ],
          [
           0.609375,
           "#816d23"
          ],
          [
           0.609375,
           "#846924"
          ],
          [
           0.6103515625,
           "#846924"
          ],
          [
           0.6103515625,
           "#84722a"
          ],
          [
           0.611328125,
           "#84722a"
          ],
          [
           0.611328125,
           "#987e37"
          ],
          [
           0.6123046875,
           "#987e37"
          ],
          [
           0.6123046875,
           "#a29536"
          ],
          [
           0.61328125,
           "#a29536"
          ],
          [
           0.61328125,
           "#9a7a37"
          ],
          [
           0.6142578125,
           "#9a7a37"
          ],
          [
           0.6142578125,
           "#a2883a"
          ],
          [
           0.615234375,
           "#a2883a"
          ],
          [
           0.615234375,
           "#938234"
          ],
          [
           0.6162109375,
           "#938234"
          ],
          [
           0.6162109375,
           "#8d722c"
          ],
          [
           0.6171875,
           "#8d722c"
          ],
          [
           0.6171875,
           "#a59c35"
          ],
          [
           0.6181640625,
           "#a59c35"
          ],
          [
           0.6181640625,
           "#a79e38"
          ],
          [
           0.619140625,
           "#a79e38"
          ],
          [
           0.619140625,
           "#a39d37"
          ],
          [
           0.6201171875,
           "#a39d37"
          ],
          [
           0.6201171875,
           "#a29d37"
          ],
          [
           0.62109375,
           "#a29d37"
          ],
          [
           0.62109375,
           "#a39e37"
          ],
          [
           0.6220703125,
           "#a39e37"
          ],
          [
           0.6220703125,
           "#9a9932"
          ],
          [
           0.623046875,
           "#9a9932"
          ],
          [
           0.623046875,
           "#929433"
          ],
          [
           0.6240234375,
           "#929433"
          ],
          [
           0.6240234375,
           "#959634"
          ],
          [
           0.625,
           "#959634"
          ],
          [
           0.625,
           "#b5a94a"
          ],
          [
           0.6259765625,
           "#b5a94a"
          ],
          [
           0.6259765625,
           "#b1a44a"
          ],
          [
           0.626953125,
           "#b1a44a"
          ],
          [
           0.626953125,
           "#a79f44"
          ],
          [
           0.6279296875,
           "#a79f44"
          ],
          [
           0.6279296875,
           "#a59b41"
          ],
          [
           0.62890625,
           "#a59b41"
          ],
          [
           0.62890625,
           "#9c9640"
          ],
          [
           0.6298828125,
           "#9c9640"
          ],
          [
           0.6298828125,
           "#7d7b2d"
          ],
          [
           0.630859375,
           "#7d7b2d"
          ],
          [
           0.630859375,
           "#747628"
          ],
          [
           0.6318359375,
           "#747628"
          ],
          [
           0.6318359375,
           "#727428"
          ],
          [
           0.6328125,
           "#727428"
          ],
          [
           0.6328125,
           "#777727"
          ],
          [
           0.6337890625,
           "#777727"
          ],
          [
           0.6337890625,
           "#7c7b28"
          ],
          [
           0.634765625,
           "#7c7b28"
          ],
          [
           0.634765625,
           "#7c7924"
          ],
          [
           0.6357421875,
           "#7c7924"
          ],
          [
           0.6357421875,
           "#848128"
          ],
          [
           0.63671875,
           "#848128"
          ],
          [
           0.63671875,
           "#928f32"
          ],
          [
           0.6376953125,
           "#928f32"
          ],
          [
           0.6376953125,
           "#969535"
          ],
          [
           0.638671875,
           "#969535"
          ],
          [
           0.638671875,
           "#9a9a3a"
          ],
          [
           0.6396484375,
           "#9a9a3a"
          ],
          [
           0.6396484375,
           "#989a38"
          ],
          [
           0.640625,
           "#989a38"
          ],
          [
           0.640625,
           "#9c8f34"
          ],
          [
           0.6416015625,
           "#9c8f34"
          ],
          [
           0.6416015625,
           "#9f8d39"
          ],
          [
           0.642578125,
           "#9f8d39"
          ],
          [
           0.642578125,
           "#a48b3a"
          ],
          [
           0.6435546875,
           "#a48b3a"
          ],
          [
           0.6435546875,
           "#a09f34"
          ],
          [
           0.64453125,
           "#a09f34"
          ],
          [
           0.64453125,
           "#967d35"
          ],
          [
           0.6455078125,
           "#967d35"
          ],
          [
           0.6455078125,
           "#8a6e35"
          ],
          [
           0.646484375,
           "#8a6e35"
          ],
          [
           0.646484375,
           "#908237"
          ],
          [
           0.6474609375,
           "#908237"
          ],
          [
           0.6474609375,
           "#8c732e"
          ],
          [
           0.6484375,
           "#8c732e"
          ],
          [
           0.6484375,
           "#9d9332"
          ],
          [
           0.6494140625,
           "#9d9332"
          ],
          [
           0.6494140625,
           "#9a9831"
          ],
          [
           0.650390625,
           "#9a9831"
          ],
          [
           0.650390625,
           "#95952f"
          ],
          [
           0.6513671875,
           "#95952f"
          ],
          [
           0.6513671875,
           "#979531"
          ],
          [
           0.65234375,
           "#979531"
          ],
          [
           0.65234375,
           "#979531"
          ],
          [
           0.6533203125,
           "#979531"
          ],
          [
           0.6533203125,
           "#90922e"
          ],
          [
           0.654296875,
           "#90922e"
          ],
          [
           0.654296875,
           "#8d9031"
          ],
          [
           0.6552734375,
           "#8d9031"
          ],
          [
           0.6552734375,
           "#8b8e2d"
          ],
          [
           0.65625,
           "#8b8e2d"
          ],
          [
           0.65625,
           "#a19f32"
          ],
          [
           0.6572265625,
           "#a19f32"
          ],
          [
           0.6572265625,
           "#96962c"
          ],
          [
           0.658203125,
           "#96962c"
          ],
          [
           0.658203125,
           "#91912b"
          ],
          [
           0.6591796875,
           "#91912b"
          ],
          [
           0.6591796875,
           "#888727"
          ],
          [
           0.66015625,
           "#888727"
          ],
          [
           0.66015625,
           "#82802a"
          ],
          [
           0.6611328125,
           "#82802a"
          ],
          [
           0.6611328125,
           "#747125"
          ],
          [
           0.662109375,
           "#747125"
          ],
          [
           0.662109375,
           "#747225"
          ],
          [
           0.6630859375,
           "#747225"
          ],
          [
           0.6630859375,
           "#747221"
          ],
          [
           0.6640625,
           "#747221"
          ],
          [
           0.6640625,
           "#767321"
          ],
          [
           0.6650390625,
           "#767321"
          ],
          [
           0.6650390625,
           "#7d7a27"
          ],
          [
           0.666015625,
           "#7d7a27"
          ],
          [
           0.666015625,
           "#807d27"
          ],
          [
           0.6669921875,
           "#807d27"
          ],
          [
           0.6669921875,
           "#84812a"
          ],
          [
           0.66796875,
           "#84812a"
          ],
          [
           0.66796875,
           "#8b882e"
          ],
          [
           0.6689453125,
           "#8b882e"
          ],
          [
           0.6689453125,
           "#8f8e2f"
          ],
          [
           0.669921875,
           "#8f8e2f"
          ],
          [
           0.669921875,
           "#8e8f2f"
          ],
          [
           0.6708984375,
           "#8e8f2f"
          ],
          [
           0.6708984375,
           "#92922f"
          ],
          [
           0.671875,
           "#92922f"
          ],
          [
           0.671875,
           "#95892f"
          ],
          [
           0.6728515625,
           "#95892f"
          ],
          [
           0.6728515625,
           "#9c8436"
          ],
          [
           0.673828125,
           "#9c8436"
          ],
          [
           0.673828125,
           "#a28b39"
          ],
          [
           0.6748046875,
           "#a28b39"
          ],
          [
           0.6748046875,
           "#898830"
          ],
          [
           0.67578125,
           "#898830"
          ],
          [
           0.67578125,
           "#86792e"
          ],
          [
           0.6767578125,
           "#86792e"
          ],
          [
           0.6767578125,
           "#6e6228"
          ],
          [
           0.677734375,
           "#6e6228"
          ],
          [
           0.677734375,
           "#60522b"
          ],
          [
           0.6787109375,
           "#60522b"
          ],
          [
           0.6787109375,
           "#836d29"
          ],
          [
           0.6796875,
           "#836d29"
          ],
          [
           0.6796875,
           "#917a2b"
          ],
          [
           0.6806640625,
           "#917a2b"
          ],
          [
           0.6806640625,
           "#717026"
          ],
          [
           0.681640625,
           "#717026"
          ],
          [
           0.681640625,
           "#6b6d2a"
          ],
          [
           0.6826171875,
           "#6b6d2a"
          ],
          [
           0.6826171875,
           "#86892a"
          ],
          [
           0.68359375,
           "#86892a"
          ],
          [
           0.68359375,
           "#878a26"
          ],
          [
           0.6845703125,
           "#878a26"
          ],
          [
           0.6845703125,
           "#878b28"
          ],
          [
           0.685546875,
           "#878b28"
          ],
          [
           0.685546875,
           "#878c2a"
          ],
          [
           0.6865234375,
           "#878c2a"
          ],
          [
           0.6865234375,
           "#7b8121"
          ],
          [
           0.6875,
           "#7b8121"
          ],
          [
           0.6875,
           "#9b9a30"
          ],
          [
           0.6884765625,
           "#9b9a30"
          ],
          [
           0.6884765625,
           "#939228"
          ],
          [
           0.689453125,
           "#939228"
          ],
          [
           0.689453125,
           "#8f8d2c"
          ],
          [
           0.6904296875,
           "#8f8d2c"
          ],
          [
           0.6904296875,
           "#8b872a"
          ],
          [
           0.69140625,
           "#8b872a"
          ],
          [
           0.69140625,
           "#8b862b"
          ],
          [
           0.6923828125,
           "#8b862b"
          ],
          [
           0.6923828125,
           "#877f29"
          ],
          [
           0.693359375,
           "#877f29"
          ],
          [
           0.693359375,
           "#8b812c"
          ],
          [
           0.6943359375,
           "#8b812c"
          ],
          [
           0.6943359375,
           "#877f29"
          ],
          [
           0.6953125,
           "#877f29"
          ],
          [
           0.6953125,
           "#828126"
          ],
          [
           0.6962890625,
           "#828126"
          ],
          [
           0.6962890625,
           "#808227"
          ],
          [
           0.697265625,
           "#808227"
          ],
          [
           0.697265625,
           "#7f7d26"
          ],
          [
           0.6982421875,
           "#7f7d26"
          ],
          [
           0.6982421875,
           "#7e7c26"
          ],
          [
           0.69921875,
           "#7e7c26"
          ],
          [
           0.69921875,
           "#828029"
          ],
          [
           0.7001953125,
           "#828029"
          ],
          [
           0.7001953125,
           "#838226"
          ],
          [
           0.701171875,
           "#838226"
          ],
          [
           0.701171875,
           "#898627"
          ],
          [
           0.7021484375,
           "#898627"
          ],
          [
           0.7021484375,
           "#8a8a26"
          ],
          [
           0.703125,
           "#8a8a26"
          ],
          [
           0.703125,
           "#8f832b"
          ],
          [
           0.7041015625,
           "#8f832b"
          ],
          [
           0.7041015625,
           "#9d7b37"
          ],
          [
           0.705078125,
           "#9d7b37"
          ],
          [
           0.705078125,
           "#978832"
          ],
          [
           0.7060546875,
           "#978832"
          ],
          [
           0.7060546875,
           "#636231"
          ],
          [
           0.70703125,
           "#636231"
          ],
          [
           0.70703125,
           "#787329"
          ],
          [
           0.7080078125,
           "#787329"
          ],
          [
           0.7080078125,
           "#827f27"
          ],
          [
           0.708984375,
           "#827f27"
          ],
          [
           0.708984375,
           "#4a451e"
          ],
          [
           0.7099609375,
           "#4a451e"
          ],
          [
           0.7099609375,
           "#705128"
          ],
          [
           0.7109375,
           "#705128"
          ],
          [
           0.7109375,
           "#7b5226"
          ],
          [
           0.7119140625,
           "#7b5226"
          ],
          [
           0.7119140625,
           "#442b18"
          ],
          [
           0.712890625,
           "#442b18"
          ],
          [
           0.712890625,
           "#453823"
          ],
          [
           0.7138671875,
           "#453823"
          ],
          [
           0.7138671875,
           "#717526"
          ],
          [
           0.71484375,
           "#717526"
          ],
          [
           0.71484375,
           "#7f8521"
          ],
          [
           0.7158203125,
           "#7f8521"
          ],
          [
           0.7158203125,
           "#828724"
          ],
          [
           0.716796875,
           "#828724"
          ],
          [
           0.716796875,
           "#808623"
          ],
          [
           0.7177734375,
           "#808623"
          ],
          [
           0.7177734375,
           "#757c1f"
          ],
          [
           0.71875,
           "#757c1f"
          ],
          [
           0.71875,
           "#93912b"
          ],
          [
           0.7197265625,
           "#93912b"
          ],
          [
           0.7197265625,
           "#93902d"
          ],
          [
           0.720703125,
           "#93902d"
          ],
          [
           0.720703125,
           "#928d2e"
          ],
          [
           0.7216796875,
           "#928d2e"
          ],
          [
           0.7216796875,
           "#8d892a"
          ],
          [
           0.72265625,
           "#8d892a"
          ],
          [
           0.72265625,
           "#8f8c2b"
          ],
          [
           0.7236328125,
           "#8f8c2b"
          ],
          [
           0.7236328125,
           "#938d2d"
          ],
          [
           0.724609375,
           "#938d2d"
          ],
          [
           0.724609375,
           "#92882e"
          ],
          [
           0.7255859375,
           "#92882e"
          ],
          [
           0.7255859375,
           "#8b812a"
          ],
          [
           0.7265625,
           "#8b812a"
          ],
          [
           0.7265625,
           "#858327"
          ],
          [
           0.7275390625,
           "#858327"
          ],
          [
           0.7275390625,
           "#808327"
          ],
          [
           0.728515625,
           "#808327"
          ],
          [
           0.728515625,
           "#84812a"
          ],
          [
           0.7294921875,
           "#84812a"
          ],
          [
           0.7294921875,
           "#7a7822"
          ],
          [
           0.73046875,
           "#7a7822"
          ],
          [
           0.73046875,
           "#7a7824"
          ],
          [
           0.7314453125,
           "#7a7824"
          ],
          [
           0.7314453125,
           "#7e7c24"
          ],
          [
           0.732421875,
           "#7e7c24"
          ],
          [
           0.732421875,
           "#7d7d24"
          ],
          [
           0.7333984375,
           "#7d7d24"
          ],
          [
           0.7333984375,
           "#818125"
          ],
          [
           0.734375,
           "#818125"
          ],
          [
           0.734375,
           "#8a7b26"
          ],
          [
           0.7353515625,
           "#8a7b26"
          ],
          [
           0.7353515625,
           "#977231"
          ],
          [
           0.736328125,
           "#977231"
          ],
          [
           0.736328125,
           "#7e7324"
          ],
          [
           0.7373046875,
           "#7e7324"
          ],
          [
           0.7373046875,
           "#5a5925"
          ],
          [
           0.73828125,
           "#5a5925"
          ],
          [
           0.73828125,
           "#747b21"
          ],
          [
           0.7392578125,
           "#747b21"
          ],
          [
           0.7392578125,
           "#888321"
          ],
          [
           0.740234375,
           "#888321"
          ],
          [
           0.740234375,
           "#726f1f"
          ],
          [
           0.7412109375,
           "#726f1f"
          ],
          [
           0.7412109375,
           "#7b5f28"
          ],
          [
           0.7421875,
           "#7b5f28"
          ],
          [
           0.7421875,
           "#763a21"
          ],
          [
           0.7431640625,
           "#763a21"
          ],
          [
           0.7431640625,
           "#651d13"
          ],
          [
           0.744140625,
           "#651d13"
          ],
          [
           0.744140625,
           "#5a261e"
          ],
          [
           0.7451171875,
           "#5a261e"
          ],
          [
           0.7451171875,
           "#55591c"
          ],
          [
           0.74609375,
           "#55591c"
          ],
          [
           0.74609375,
           "#747c18"
          ],
          [
           0.7470703125,
           "#747c18"
          ],
          [
           0.7470703125,
           "#808523"
          ],
          [
           0.748046875,
           "#808523"
          ],
          [
           0.748046875,
           "#858a27"
          ],
          [
           0.7490234375,
           "#858a27"
          ],
          [
           0.7490234375,
           "#858a2a"
          ],
          [
           0.75,
           "#858a2a"
          ],
          [
           0.75,
           "#8b8824"
          ],
          [
           0.7509765625,
           "#8b8824"
          ],
          [
           0.7509765625,
           "#878726"
          ],
          [
           0.751953125,
           "#878726"
          ],
          [
           0.751953125,
           "#918a2c"
          ],
          [
           0.7529296875,
           "#918a2c"
          ],
          [
           0.7529296875,
           "#948a2f"
          ],
          [
           0.75390625,
           "#948a2f"
          ],
          [
           0.75390625,
           "#928c33"
          ],
          [
           0.7548828125,
           "#928c33"
          ],
          [
           0.7548828125,
           "#928b30"
          ],
          [
           0.755859375,
           "#928b30"
          ],
          [
           0.755859375,
           "#8d832a"
          ],
          [
           0.7568359375,
           "#8d832a"
          ],
          [
           0.7568359375,
           "#8c832a"
          ],
          [
           0.7578125,
           "#8c832a"
          ],
          [
           0.7578125,
           "#8e872d"
          ],
          [
           0.7587890625,
           "#8e872d"
          ],
          [
           0.7587890625,
           "#878228"
          ],
          [
           0.759765625,
           "#878228"
          ],
          [
           0.759765625,
           "#878528"
          ],
          [
           0.7607421875,
           "#878528"
          ],
          [
           0.7607421875,
           "#787e22"
          ],
          [
           0.76171875,
           "#787e22"
          ],
          [
           0.76171875,
           "#747a22"
          ],
          [
           0.7626953125,
           "#747a22"
          ],
          [
           0.7626953125,
           "#747721"
          ],
          [
           0.763671875,
           "#747721"
          ],
          [
           0.763671875,
           "#6f7520"
          ],
          [
           0.7646484375,
           "#6f7520"
          ],
          [
           0.7646484375,
           "#62622a"
          ],
          [
           0.765625,
           "#62622a"
          ],
          [
           0.765625,
           "#69572e"
          ],
          [
           0.7666015625,
           "#69572e"
          ],
          [
           0.7666015625,
           "#906931"
          ],
          [
           0.767578125,
           "#906931"
          ],
          [
           0.767578125,
           "#7a681f"
          ],
          [
           0.7685546875,
           "#7a681f"
          ],
          [
           0.7685546875,
           "#6d6917"
          ],
          [
           0.76953125,
           "#6d6917"
          ],
          [
           0.76953125,
           "#777b20"
          ],
          [
           0.7705078125,
           "#777b20"
          ],
          [
           0.7705078125,
           "#75741e"
          ],
          [
           0.771484375,
           "#75741e"
          ],
          [
           0.771484375,
           "#75761d"
          ],
          [
           0.7724609375,
           "#75761d"
          ],
          [
           0.7724609375,
           "#767a1e"
          ],
          [
           0.7734375,
           "#767a1e"
          ],
          [
           0.7734375,
           "#724819"
          ],
          [
           0.7744140625,
           "#724819"
          ],
          [
           0.7744140625,
           "#831d11"
          ],
          [
           0.775390625,
           "#831d11"
          ],
          [
           0.775390625,
           "#6f1f18"
          ],
          [
           0.7763671875,
           "#6f1f18"
          ],
          [
           0.7763671875,
           "#504b22"
          ],
          [
           0.77734375,
           "#504b22"
          ],
          [
           0.77734375,
           "#747d17"
          ],
          [
           0.7783203125,
           "#747d17"
          ],
          [
           0.7783203125,
           "#777d1e"
          ],
          [
           0.779296875,
           "#777d1e"
          ],
          [
           0.779296875,
           "#808626"
          ],
          [
           0.7802734375,
           "#808626"
          ],
          [
           0.7802734375,
           "#818425"
          ],
          [
           0.78125,
           "#818425"
          ],
          [
           0.78125,
           "#908a2e"
          ],
          [
           0.7822265625,
           "#908a2e"
          ],
          [
           0.7822265625,
           "#8f872f"
          ],
          [
           0.783203125,
           "#8f872f"
          ],
          [
           0.783203125,
           "#918831"
          ],
          [
           0.7841796875,
           "#918831"
          ],
          [
           0.7841796875,
           "#958832"
          ],
          [
           0.78515625,
           "#958832"
          ],
          [
           0.78515625,
           "#938831"
          ],
          [
           0.7861328125,
           "#938831"
          ],
          [
           0.7861328125,
           "#8e842b"
          ],
          [
           0.787109375,
           "#8e842b"
          ],
          [
           0.787109375,
           "#8d862b"
          ],
          [
           0.7880859375,
           "#8d862b"
          ],
          [
           0.7880859375,
           "#828224"
          ],
          [
           0.7890625,
           "#828224"
          ],
          [
           0.7890625,
           "#828225"
          ],
          [
           0.7900390625,
           "#828225"
          ],
          [
           0.7900390625,
           "#828227"
          ],
          [
           0.791015625,
           "#828227"
          ],
          [
           0.791015625,
           "#7c8122"
          ],
          [
           0.7919921875,
           "#7c8122"
          ],
          [
           0.7919921875,
           "#6d791b"
          ],
          [
           0.79296875,
           "#6d791b"
          ],
          [
           0.79296875,
           "#6c7618"
          ],
          [
           0.7939453125,
           "#6c7618"
          ],
          [
           0.7939453125,
           "#757a21"
          ],
          [
           0.794921875,
           "#757a21"
          ],
          [
           0.794921875,
           "#6b7120"
          ],
          [
           0.7958984375,
           "#6b7120"
          ],
          [
           0.7958984375,
           "#473e1e"
          ],
          [
           0.796875,
           "#473e1e"
          ],
          [
           0.796875,
           "#46372a"
          ],
          [
           0.7978515625,
           "#46372a"
          ],
          [
           0.7978515625,
           "#6f5730"
          ],
          [
           0.798828125,
           "#6f5730"
          ],
          [
           0.798828125,
           "#77681e"
          ],
          [
           0.7998046875,
           "#77681e"
          ],
          [
           0.7998046875,
           "#6e6b19"
          ],
          [
           0.80078125,
           "#6e6b19"
          ],
          [
           0.80078125,
           "#76771f"
          ],
          [
           0.8017578125,
           "#76771f"
          ],
          [
           0.8017578125,
           "#74771f"
          ],
          [
           0.802734375,
           "#74771f"
          ],
          [
           0.802734375,
           "#6b7218"
          ],
          [
           0.8037109375,
           "#6b7218"
          ],
          [
           0.8037109375,
           "#687116"
          ],
          [
           0.8046875,
           "#687116"
          ],
          [
           0.8046875,
           "#555117"
          ],
          [
           0.8056640625,
           "#555117"
          ],
          [
           0.8056640625,
           "#66190f"
          ],
          [
           0.806640625,
           "#66190f"
          ],
          [
           0.806640625,
           "#64150b"
          ],
          [
           0.8076171875,
           "#64150b"
          ],
          [
           0.8076171875,
           "#49451f"
          ],
          [
           0.80859375,
           "#49451f"
          ],
          [
           0.80859375,
           "#757e1d"
          ],
          [
           0.8095703125,
           "#757e1d"
          ],
          [
           0.8095703125,
           "#707619"
          ],
          [
           0.810546875,
           "#707619"
          ],
          [
           0.810546875,
           "#798022"
          ],
          [
           0.8115234375,
           "#798022"
          ],
          [
           0.8115234375,
           "#777e22"
          ],
          [
           0.8125,
           "#777e22"
          ],
          [
           0.8125,
           "#928c31"
          ],
          [
           0.8134765625,
           "#928c31"
          ],
          [
           0.8134765625,
           "#8f8830"
          ],
          [
           0.814453125,
           "#8f8830"
          ],
          [
           0.814453125,
           "#8d862e"
          ],
          [
           0.8154296875,
           "#8d862e"
          ],
          [
           0.8154296875,
           "#928b31"
          ],
          [
           0.81640625,
           "#928b31"
          ],
          [
           0.81640625,
           "#8b862a"
          ],
          [
           0.8173828125,
           "#8b862a"
          ],
          [
           0.8173828125,
           "#878627"
          ],
          [
           0.818359375,
           "#878627"
          ],
          [
           0.818359375,
           "#878726"
          ],
          [
           0.8193359375,
           "#878726"
          ],
          [
           0.8193359375,
           "#808322"
          ],
          [
           0.8203125,
           "#808322"
          ],
          [
           0.8203125,
           "#7d8122"
          ],
          [
           0.8212890625,
           "#7d8122"
          ],
          [
           0.8212890625,
           "#7f8327"
          ],
          [
           0.822265625,
           "#7f8327"
          ],
          [
           0.822265625,
           "#777e21"
          ],
          [
           0.8232421875,
           "#777e21"
          ],
          [
           0.8232421875,
           "#6d751c"
          ],
          [
           0.82421875,
           "#6d751c"
          ],
          [
           0.82421875,
           "#636c11"
          ],
          [
           0.8251953125,
           "#636c11"
          ],
          [
           0.8251953125,
           "#6e731c"
          ],
          [
           0.826171875,
           "#6e731c"
          ],
          [
           0.826171875,
           "#60631b"
          ],
          [
           0.8271484375,
           "#60631b"
          ],
          [
           0.8271484375,
           "#6f2f1e"
          ],
          [
           0.828125,
           "#6f2f1e"
          ],
          [
           0.828125,
           "#6f312a"
          ],
          [
           0.8291015625,
           "#6f312a"
          ],
          [
           0.8291015625,
           "#51452c"
          ],
          [
           0.830078125,
           "#51452c"
          ],
          [
           0.830078125,
           "#736720"
          ],
          [
           0.8310546875,
           "#736720"
          ],
          [
           0.8310546875,
           "#656b1a"
          ],
          [
           0.83203125,
           "#656b1a"
          ],
          [
           0.83203125,
           "#6c701d"
          ],
          [
           0.8330078125,
           "#6c701d"
          ],
          [
           0.8330078125,
           "#656e19"
          ],
          [
           0.833984375,
           "#656e19"
          ],
          [
           0.833984375,
           "#616c16"
          ],
          [
           0.8349609375,
           "#616c16"
          ],
          [
           0.8349609375,
           "#606a15"
          ],
          [
           0.8359375,
           "#606a15"
          ],
          [
           0.8359375,
           "#4c5416"
          ],
          [
           0.8369140625,
           "#4c5416"
          ],
          [
           0.8369140625,
           "#53260f"
          ],
          [
           0.837890625,
           "#53260f"
          ],
          [
           0.837890625,
           "#50170e"
          ],
          [
           0.8388671875,
           "#50170e"
          ],
          [
           0.8388671875,
           "#414515"
          ],
          [
           0.83984375,
           "#414515"
          ],
          [
           0.83984375,
           "#767e20"
          ],
          [
           0.8408203125,
           "#767e20"
          ],
          [
           0.8408203125,
           "#707618"
          ],
          [
           0.841796875,
           "#707618"
          ],
          [
           0.841796875,
           "#717819"
          ],
          [
           0.8427734375,
           "#717819"
          ],
          [
           0.8427734375,
           "#747c1e"
          ],
          [
           0.84375,
           "#747c1e"
          ],
          [
           0.84375,
           "#8c8929"
          ],
          [
           0.8447265625,
           "#8c8929"
          ],
          [
           0.8447265625,
           "#7d8123"
          ],
          [
           0.845703125,
           "#7d8123"
          ],
          [
           0.845703125,
           "#848629"
          ],
          [
           0.8466796875,
           "#848629"
          ],
          [
           0.8466796875,
           "#8b8b2c"
          ],
          [
           0.84765625,
           "#8b8b2c"
          ],
          [
           0.84765625,
           "#7d8221"
          ],
          [
           0.8486328125,
           "#7d8221"
          ],
          [
           0.8486328125,
           "#7c8622"
          ],
          [
           0.849609375,
           "#7c8622"
          ],
          [
           0.849609375,
           "#808623"
          ],
          [
           0.8505859375,
           "#808623"
          ],
          [
           0.8505859375,
           "#828323"
          ],
          [
           0.8515625,
           "#828323"
          ],
          [
           0.8515625,
           "#7e8123"
          ],
          [
           0.8525390625,
           "#7e8123"
          ],
          [
           0.8525390625,
           "#7f8226"
          ],
          [
           0.853515625,
           "#7f8226"
          ],
          [
           0.853515625,
           "#777b20"
          ],
          [
           0.8544921875,
           "#777b20"
          ],
          [
           0.8544921875,
           "#72761f"
          ],
          [
           0.85546875,
           "#72761f"
          ],
          [
           0.85546875,
           "#676e18"
          ],
          [
           0.8564453125,
           "#676e18"
          ],
          [
           0.8564453125,
           "#6d721e"
          ],
          [
           0.857421875,
           "#6d721e"
          ],
          [
           0.857421875,
           "#5e5f1c"
          ],
          [
           0.8583984375,
           "#5e5f1c"
          ],
          [
           0.8583984375,
           "#7a2d17"
          ],
          [
           0.859375,
           "#7a2d17"
          ],
          [
           0.859375,
           "#89291b"
          ],
          [
           0.8603515625,
           "#89291b"
          ],
          [
           0.8603515625,
           "#4c3c27"
          ],
          [
           0.861328125,
           "#4c3c27"
          ],
          [
           0.861328125,
           "#656822"
          ],
          [
           0.8623046875,
           "#656822"
          ],
          [
           0.8623046875,
           "#606919"
          ],
          [
           0.86328125,
           "#606919"
          ],
          [
           0.86328125,
           "#61671c"
          ],
          [
           0.8642578125,
           "#61671c"
          ],
          [
           0.8642578125,
           "#525e11"
          ],
          [
           0.865234375,
           "#525e11"
          ],
          [
           0.865234375,
           "#556213"
          ],
          [
           0.8662109375,
           "#556213"
          ],
          [
           0.8662109375,
           "#596316"
          ],
          [
           0.8671875,
           "#596316"
          ],
          [
           0.8671875,
           "#575e15"
          ],
          [
           0.8681640625,
           "#575e15"
          ],
          [
           0.8681640625,
           "#564e18"
          ],
          [
           0.869140625,
           "#564e18"
          ],
          [
           0.869140625,
           "#423516"
          ],
          [
           0.8701171875,
           "#423516"
          ],
          [
           0.8701171875,
           "#4d5514"
          ],
          [
           0.87109375,
           "#4d5514"
          ],
          [
           0.87109375,
           "#747a1c"
          ],
          [
           0.8720703125,
           "#747a1c"
          ],
          [
           0.8720703125,
           "#757a1c"
          ],
          [
           0.873046875,
           "#757a1c"
          ],
          [
           0.873046875,
           "#7a811f"
          ],
          [
           0.8740234375,
           "#7a811f"
          ],
          [
           0.8740234375,
           "#7e8320"
          ],
          [
           0.875,
           "#7e8320"
          ],
          [
           0.875,
           "#89882a"
          ],
          [
           0.8759765625,
           "#89882a"
          ],
          [
           0.8759765625,
           "#757c20"
          ],
          [
           0.876953125,
           "#757c20"
          ],
          [
           0.876953125,
           "#798123"
          ],
          [
           0.8779296875,
           "#798123"
          ],
          [
           0.8779296875,
           "#838726"
          ],
          [
           0.87890625,
           "#838726"
          ],
          [
           0.87890625,
           "#798020"
          ],
          [
           0.8798828125,
           "#798020"
          ],
          [
           0.8798828125,
           "#7b8325"
          ],
          [
           0.880859375,
           "#7b8325"
          ],
          [
           0.880859375,
           "#808427"
          ],
          [
           0.8818359375,
           "#808427"
          ],
          [
           0.8818359375,
           "#7a7d22"
          ],
          [
           0.8828125,
           "#7a7d22"
          ],
          [
           0.8828125,
           "#777b20"
          ],
          [
           0.8837890625,
           "#777b20"
          ],
          [
           0.8837890625,
           "#777b20"
          ],
          [
           0.884765625,
           "#777b20"
          ],
          [
           0.884765625,
           "#72781b"
          ],
          [
           0.8857421875,
           "#72781b"
          ],
          [
           0.8857421875,
           "#6f771d"
          ],
          [
           0.88671875,
           "#6f771d"
          ],
          [
           0.88671875,
           "#70771e"
          ],
          [
           0.8876953125,
           "#70771e"
          ],
          [
           0.8876953125,
           "#70761d"
          ],
          [
           0.888671875,
           "#70761d"
          ],
          [
           0.888671875,
           "#5f651c"
          ],
          [
           0.8896484375,
           "#5f651c"
          ],
          [
           0.8896484375,
           "#6c3017"
          ],
          [
           0.890625,
           "#6c3017"
          ],
          [
           0.890625,
           "#842113"
          ],
          [
           0.8916015625,
           "#842113"
          ],
          [
           0.8916015625,
           "#442f1d"
          ],
          [
           0.892578125,
           "#442f1d"
          ],
          [
           0.892578125,
           "#535c1b"
          ],
          [
           0.8935546875,
           "#535c1b"
          ],
          [
           0.8935546875,
           "#616a1c"
          ],
          [
           0.89453125,
           "#616a1c"
          ],
          [
           0.89453125,
           "#5e661c"
          ],
          [
           0.8955078125,
           "#5e661c"
          ],
          [
           0.8955078125,
           "#576516"
          ],
          [
           0.896484375,
           "#576516"
          ],
          [
           0.896484375,
           "#5c6917"
          ],
          [
           0.8974609375,
           "#5c6917"
          ],
          [
           0.8974609375,
           "#666e1e"
          ],
          [
           0.8984375,
           "#666e1e"
          ],
          [
           0.8984375,
           "#6a711e"
          ],
          [
           0.8994140625,
           "#6a711e"
          ],
          [
           0.8994140625,
           "#6b7022"
          ],
          [
           0.900390625,
           "#6b7022"
          ],
          [
           0.900390625,
           "#5d6319"
          ],
          [
           0.9013671875,
           "#5d6319"
          ],
          [
           0.9013671875,
           "#6a701c"
          ],
          [
           0.90234375,
           "#6a701c"
          ],
          [
           0.90234375,
           "#7a7d22"
          ],
          [
           0.9033203125,
           "#7a7d22"
          ],
          [
           0.9033203125,
           "#797e1f"
          ],
          [
           0.904296875,
           "#797e1f"
          ],
          [
           0.904296875,
           "#787e1b"
          ],
          [
           0.9052734375,
           "#787e1b"
          ],
          [
           0.9052734375,
           "#808621"
          ],
          [
           0.90625,
           "#808621"
          ],
          [
           0.90625,
           "#858227"
          ],
          [
           0.9072265625,
           "#858227"
          ],
          [
           0.9072265625,
           "#7b7f24"
          ],
          [
           0.908203125,
           "#7b7f24"
          ],
          [
           0.908203125,
           "#7c8223"
          ],
          [
           0.9091796875,
           "#7c8223"
          ],
          [
           0.9091796875,
           "#818523"
          ],
          [
           0.91015625,
           "#818523"
          ],
          [
           0.91015625,
           "#7c8126"
          ],
          [
           0.9111328125,
           "#7c8126"
          ],
          [
           0.9111328125,
           "#7d822b"
          ],
          [
           0.912109375,
           "#7d822b"
          ],
          [
           0.912109375,
           "#81852a"
          ],
          [
           0.9130859375,
           "#81852a"
          ],
          [
           0.9130859375,
           "#7e8028"
          ],
          [
           0.9140625,
           "#7e8028"
          ],
          [
           0.9140625,
           "#7e8128"
          ],
          [
           0.9150390625,
           "#7e8128"
          ],
          [
           0.9150390625,
           "#7a7d24"
          ],
          [
           0.916015625,
           "#7a7d24"
          ],
          [
           0.916015625,
           "#747a1f"
          ],
          [
           0.9169921875,
           "#747a1f"
          ],
          [
           0.9169921875,
           "#6e771e"
          ],
          [
           0.91796875,
           "#6e771e"
          ],
          [
           0.91796875,
           "#6b7519"
          ],
          [
           0.9189453125,
           "#6b7519"
          ],
          [
           0.9189453125,
           "#6c7319"
          ],
          [
           0.919921875,
           "#6c7319"
          ],
          [
           0.919921875,
           "#5e6d1a"
          ],
          [
           0.9208984375,
           "#5e6d1a"
          ],
          [
           0.9208984375,
           "#654018"
          ],
          [
           0.921875,
           "#654018"
          ],
          [
           0.921875,
           "#762013"
          ],
          [
           0.9228515625,
           "#762013"
          ],
          [
           0.9228515625,
           "#392817"
          ],
          [
           0.923828125,
           "#392817"
          ],
          [
           0.923828125,
           "#4c5819"
          ],
          [
           0.9248046875,
           "#4c5819"
          ],
          [
           0.9248046875,
           "#616d1f"
          ],
          [
           0.92578125,
           "#616d1f"
          ],
          [
           0.92578125,
           "#656f1f"
          ],
          [
           0.9267578125,
           "#656f1f"
          ],
          [
           0.9267578125,
           "#62701b"
          ],
          [
           0.927734375,
           "#62701b"
          ],
          [
           0.927734375,
           "#65721d"
          ],
          [
           0.9287109375,
           "#65721d"
          ],
          [
           0.9287109375,
           "#6d7520"
          ],
          [
           0.9296875,
           "#6d7520"
          ],
          [
           0.9296875,
           "#6f7722"
          ],
          [
           0.9306640625,
           "#6f7722"
          ],
          [
           0.9306640625,
           "#6f7623"
          ],
          [
           0.931640625,
           "#6f7623"
          ],
          [
           0.931640625,
           "#687219"
          ],
          [
           0.9326171875,
           "#687219"
          ],
          [
           0.9326171875,
           "#717a1e"
          ],
          [
           0.93359375,
           "#717a1e"
          ],
          [
           0.93359375,
           "#7a7f20"
          ],
          [
           0.9345703125,
           "#7a7f20"
          ],
          [
           0.9345703125,
           "#767d1e"
          ],
          [
           0.935546875,
           "#767d1e"
          ],
          [
           0.935546875,
           "#727a1a"
          ],
          [
           0.9365234375,
           "#727a1a"
          ],
          [
           0.9365234375,
           "#737d1b"
          ],
          [
           0.9375,
           "#737d1b"
          ],
          [
           0.9375,
           "#7b7d24"
          ],
          [
           0.9384765625,
           "#7b7d24"
          ],
          [
           0.9384765625,
           "#7c7f24"
          ],
          [
           0.939453125,
           "#7c7f24"
          ],
          [
           0.939453125,
           "#7e8120"
          ],
          [
           0.9404296875,
           "#7e8120"
          ],
          [
           0.9404296875,
           "#828523"
          ],
          [
           0.94140625,
           "#828523"
          ],
          [
           0.94140625,
           "#808628"
          ],
          [
           0.9423828125,
           "#808628"
          ],
          [
           0.9423828125,
           "#808729"
          ],
          [
           0.943359375,
           "#808729"
          ],
          [
           0.943359375,
           "#858929"
          ],
          [
           0.9443359375,
           "#858929"
          ],
          [
           0.9443359375,
           "#848628"
          ],
          [
           0.9453125,
           "#848628"
          ],
          [
           0.9453125,
           "#8a8a2c"
          ],
          [
           0.9462890625,
           "#8a8a2c"
          ],
          [
           0.9462890625,
           "#848429"
          ],
          [
           0.947265625,
           "#848429"
          ],
          [
           0.947265625,
           "#757a22"
          ],
          [
           0.9482421875,
           "#757a22"
          ],
          [
           0.9482421875,
           "#6a741d"
          ],
          [
           0.94921875,
           "#6a741d"
          ],
          [
           0.94921875,
           "#687417"
          ],
          [
           0.9501953125,
           "#687417"
          ],
          [
           0.9501953125,
           "#65721a"
          ],
          [
           0.951171875,
           "#65721a"
          ],
          [
           0.951171875,
           "#606c18"
          ],
          [
           0.9521484375,
           "#606c18"
          ],
          [
           0.9521484375,
           "#645e1d"
          ],
          [
           0.953125,
           "#645e1d"
          ],
          [
           0.953125,
           "#5a351d"
          ],
          [
           0.9541015625,
           "#5a351d"
          ],
          [
           0.9541015625,
           "#2f2c15"
          ],
          [
           0.955078125,
           "#2f2c15"
          ],
          [
           0.955078125,
           "#526019"
          ],
          [
           0.9560546875,
           "#526019"
          ],
          [
           0.9560546875,
           "#62721e"
          ],
          [
           0.95703125,
           "#62721e"
          ],
          [
           0.95703125,
           "#68741f"
          ],
          [
           0.9580078125,
           "#68741f"
          ],
          [
           0.9580078125,
           "#5f6d18"
          ],
          [
           0.958984375,
           "#5f6d18"
          ],
          [
           0.958984375,
           "#606d17"
          ],
          [
           0.9599609375,
           "#606d17"
          ],
          [
           0.9599609375,
           "#6b731c"
          ],
          [
           0.9609375,
           "#6b731c"
          ],
          [
           0.9609375,
           "#6d771d"
          ],
          [
           0.9619140625,
           "#6d771d"
          ],
          [
           0.9619140625,
           "#6d7920"
          ],
          [
           0.962890625,
           "#6d7920"
          ],
          [
           0.962890625,
           "#69751d"
          ],
          [
           0.9638671875,
           "#69751d"
          ],
          [
           0.9638671875,
           "#6c771d"
          ],
          [
           0.96484375,
           "#6c771d"
          ],
          [
           0.96484375,
           "#757d1f"
          ],
          [
           0.9658203125,
           "#757d1f"
          ],
          [
           0.9658203125,
           "#707a1a"
          ],
          [
           0.966796875,
           "#707a1a"
          ],
          [
           0.966796875,
           "#6c771b"
          ],
          [
           0.9677734375,
           "#6c771b"
          ],
          [
           0.9677734375,
           "#687716"
          ],
          [
           0.96875,
           "#687716"
          ],
          [
           0.96875,
           "#7d802a"
          ],
          [
           0.9697265625,
           "#7d802a"
          ],
          [
           0.9697265625,
           "#81842b"
          ],
          [
           0.970703125,
           "#81842b"
          ],
          [
           0.970703125,
           "#7e8224"
          ],
          [
           0.9716796875,
           "#7e8224"
          ],
          [
           0.9716796875,
           "#828524"
          ],
          [
           0.97265625,
           "#828524"
          ],
          [
           0.97265625,
           "#868c28"
          ],
          [
           0.9736328125,
           "#868c28"
          ],
          [
           0.9736328125,
           "#7c8523"
          ],
          [
           0.974609375,
           "#7c8523"
          ],
          [
           0.974609375,
           "#828923"
          ],
          [
           0.9755859375,
           "#828923"
          ],
          [
           0.9755859375,
           "#848625"
          ],
          [
           0.9765625,
           "#848625"
          ],
          [
           0.9765625,
           "#878a26"
          ],
          [
           0.9775390625,
           "#878a26"
          ],
          [
           0.9775390625,
           "#838626"
          ],
          [
           0.978515625,
           "#838626"
          ],
          [
           0.978515625,
           "#797f23"
          ],
          [
           0.9794921875,
           "#797f23"
          ],
          [
           0.9794921875,
           "#6e781f"
          ],
          [
           0.98046875,
           "#6e781f"
          ],
          [
           0.98046875,
           "#6a781f"
          ],
          [
           0.9814453125,
           "#6a781f"
          ],
          [
           0.9814453125,
           "#63711c"
          ],
          [
           0.982421875,
           "#63711c"
          ],
          [
           0.982421875,
           "#626d1f"
          ],
          [
           0.9833984375,
           "#626d1f"
          ],
          [
           0.9833984375,
           "#687225"
          ],
          [
           0.984375,
           "#687225"
          ],
          [
           0.984375,
           "#595e26"
          ],
          [
           0.9853515625,
           "#595e26"
          ],
          [
           0.9853515625,
           "#424b19"
          ],
          [
           0.986328125,
           "#424b19"
          ],
          [
           0.986328125,
           "#556419"
          ],
          [
           0.9873046875,
           "#556419"
          ],
          [
           0.9873046875,
           "#5d6d19"
          ],
          [
           0.98828125,
           "#5d6d19"
          ],
          [
           0.98828125,
           "#616d1b"
          ],
          [
           0.9892578125,
           "#616d1b"
          ],
          [
           0.9892578125,
           "#5c6c17"
          ],
          [
           0.990234375,
           "#5c6c17"
          ],
          [
           0.990234375,
           "#5b6a13"
          ],
          [
           0.9912109375,
           "#5b6a13"
          ],
          [
           0.9912109375,
           "#66751b"
          ],
          [
           0.9921875,
           "#66751b"
          ],
          [
           0.9921875,
           "#65771b"
          ],
          [
           0.9931640625,
           "#65771b"
          ],
          [
           0.9931640625,
           "#69791c"
          ],
          [
           0.994140625,
           "#69791c"
          ],
          [
           0.994140625,
           "#6b7920"
          ],
          [
           0.9951171875,
           "#6b7920"
          ],
          [
           0.9951171875,
           "#6f7a1e"
          ],
          [
           0.99609375,
           "#6f7a1e"
          ],
          [
           0.99609375,
           "#787e24"
          ],
          [
           0.9970703125,
           "#787e24"
          ],
          [
           0.9970703125,
           "#768023"
          ],
          [
           0.998046875,
           "#768023"
          ],
          [
           0.998046875,
           "#707a21"
          ],
          [
           0.9990234375,
           "#707a21"
          ],
          [
           0.9990234375,
           "#69791a"
          ],
          [
           1,
           "#69791a"
          ]
         ],
         "showscale": false,
         "type": "heatmap",
         "z": [
          [
           0.96923828125,
           0.97021484375,
           0.97119140625,
           0.97216796875,
           0.97314453125,
           0.97412109375,
           0.97509765625,
           0.97607421875,
           0.97705078125,
           0.97802734375,
           0.97900390625,
           0.97998046875,
           0.98095703125,
           0.98193359375,
           0.98291015625,
           0.98388671875,
           0.98486328125,
           0.98583984375,
           0.98681640625,
           0.98779296875,
           0.98876953125,
           0.98974609375,
           0.99072265625,
           0.99169921875,
           0.99267578125,
           0.99365234375,
           0.99462890625,
           0.99560546875,
           0.99658203125,
           0.99755859375,
           0.99853515625,
           0.99951171875
          ],
          [
           0.93798828125,
           0.93896484375,
           0.93994140625,
           0.94091796875,
           0.94189453125,
           0.94287109375,
           0.94384765625,
           0.94482421875,
           0.94580078125,
           0.94677734375,
           0.94775390625,
           0.94873046875,
           0.94970703125,
           0.95068359375,
           0.95166015625,
           0.95263671875,
           0.95361328125,
           0.95458984375,
           0.95556640625,
           0.95654296875,
           0.95751953125,
           0.95849609375,
           0.95947265625,
           0.96044921875,
           0.96142578125,
           0.96240234375,
           0.96337890625,
           0.96435546875,
           0.96533203125,
           0.96630859375,
           0.96728515625,
           0.96826171875
          ],
          [
           0.90673828125,
           0.90771484375,
           0.90869140625,
           0.90966796875,
           0.91064453125,
           0.91162109375,
           0.91259765625,
           0.91357421875,
           0.91455078125,
           0.91552734375,
           0.91650390625,
           0.91748046875,
           0.91845703125,
           0.91943359375,
           0.92041015625,
           0.92138671875,
           0.92236328125,
           0.92333984375,
           0.92431640625,
           0.92529296875,
           0.92626953125,
           0.92724609375,
           0.92822265625,
           0.92919921875,
           0.93017578125,
           0.93115234375,
           0.93212890625,
           0.93310546875,
           0.93408203125,
           0.93505859375,
           0.93603515625,
           0.93701171875
          ],
          [
           0.87548828125,
           0.87646484375,
           0.87744140625,
           0.87841796875,
           0.87939453125,
           0.88037109375,
           0.88134765625,
           0.88232421875,
           0.88330078125,
           0.88427734375,
           0.88525390625,
           0.88623046875,
           0.88720703125,
           0.88818359375,
           0.88916015625,
           0.89013671875,
           0.89111328125,
           0.89208984375,
           0.89306640625,
           0.89404296875,
           0.89501953125,
           0.89599609375,
           0.89697265625,
           0.89794921875,
           0.89892578125,
           0.89990234375,
           0.90087890625,
           0.90185546875,
           0.90283203125,
           0.90380859375,
           0.90478515625,
           0.90576171875
          ],
          [
           0.84423828125,
           0.84521484375,
           0.84619140625,
           0.84716796875,
           0.84814453125,
           0.84912109375,
           0.85009765625,
           0.85107421875,
           0.85205078125,
           0.85302734375,
           0.85400390625,
           0.85498046875,
           0.85595703125,
           0.85693359375,
           0.85791015625,
           0.85888671875,
           0.85986328125,
           0.86083984375,
           0.86181640625,
           0.86279296875,
           0.86376953125,
           0.86474609375,
           0.86572265625,
           0.86669921875,
           0.86767578125,
           0.86865234375,
           0.86962890625,
           0.87060546875,
           0.87158203125,
           0.87255859375,
           0.87353515625,
           0.87451171875
          ],
          [
           0.81298828125,
           0.81396484375,
           0.81494140625,
           0.81591796875,
           0.81689453125,
           0.81787109375,
           0.81884765625,
           0.81982421875,
           0.82080078125,
           0.82177734375,
           0.82275390625,
           0.82373046875,
           0.82470703125,
           0.82568359375,
           0.82666015625,
           0.82763671875,
           0.82861328125,
           0.82958984375,
           0.83056640625,
           0.83154296875,
           0.83251953125,
           0.83349609375,
           0.83447265625,
           0.83544921875,
           0.83642578125,
           0.83740234375,
           0.83837890625,
           0.83935546875,
           0.84033203125,
           0.84130859375,
           0.84228515625,
           0.84326171875
          ],
          [
           0.78173828125,
           0.78271484375,
           0.78369140625,
           0.78466796875,
           0.78564453125,
           0.78662109375,
           0.78759765625,
           0.78857421875,
           0.78955078125,
           0.79052734375,
           0.79150390625,
           0.79248046875,
           0.79345703125,
           0.79443359375,
           0.79541015625,
           0.79638671875,
           0.79736328125,
           0.79833984375,
           0.79931640625,
           0.80029296875,
           0.80126953125,
           0.80224609375,
           0.80322265625,
           0.80419921875,
           0.80517578125,
           0.80615234375,
           0.80712890625,
           0.80810546875,
           0.80908203125,
           0.81005859375,
           0.81103515625,
           0.81201171875
          ],
          [
           0.75048828125,
           0.75146484375,
           0.75244140625,
           0.75341796875,
           0.75439453125,
           0.75537109375,
           0.75634765625,
           0.75732421875,
           0.75830078125,
           0.75927734375,
           0.76025390625,
           0.76123046875,
           0.76220703125,
           0.76318359375,
           0.76416015625,
           0.76513671875,
           0.76611328125,
           0.76708984375,
           0.76806640625,
           0.76904296875,
           0.77001953125,
           0.77099609375,
           0.77197265625,
           0.77294921875,
           0.77392578125,
           0.77490234375,
           0.77587890625,
           0.77685546875,
           0.77783203125,
           0.77880859375,
           0.77978515625,
           0.78076171875
          ],
          [
           0.71923828125,
           0.72021484375,
           0.72119140625,
           0.72216796875,
           0.72314453125,
           0.72412109375,
           0.72509765625,
           0.72607421875,
           0.72705078125,
           0.72802734375,
           0.72900390625,
           0.72998046875,
           0.73095703125,
           0.73193359375,
           0.73291015625,
           0.73388671875,
           0.73486328125,
           0.73583984375,
           0.73681640625,
           0.73779296875,
           0.73876953125,
           0.73974609375,
           0.74072265625,
           0.74169921875,
           0.74267578125,
           0.74365234375,
           0.74462890625,
           0.74560546875,
           0.74658203125,
           0.74755859375,
           0.74853515625,
           0.74951171875
          ],
          [
           0.68798828125,
           0.68896484375,
           0.68994140625,
           0.69091796875,
           0.69189453125,
           0.69287109375,
           0.69384765625,
           0.69482421875,
           0.69580078125,
           0.69677734375,
           0.69775390625,
           0.69873046875,
           0.69970703125,
           0.70068359375,
           0.70166015625,
           0.70263671875,
           0.70361328125,
           0.70458984375,
           0.70556640625,
           0.70654296875,
           0.70751953125,
           0.70849609375,
           0.70947265625,
           0.71044921875,
           0.71142578125,
           0.71240234375,
           0.71337890625,
           0.71435546875,
           0.71533203125,
           0.71630859375,
           0.71728515625,
           0.71826171875
          ],
          [
           0.65673828125,
           0.65771484375,
           0.65869140625,
           0.65966796875,
           0.66064453125,
           0.66162109375,
           0.66259765625,
           0.66357421875,
           0.66455078125,
           0.66552734375,
           0.66650390625,
           0.66748046875,
           0.66845703125,
           0.66943359375,
           0.67041015625,
           0.67138671875,
           0.67236328125,
           0.67333984375,
           0.67431640625,
           0.67529296875,
           0.67626953125,
           0.67724609375,
           0.67822265625,
           0.67919921875,
           0.68017578125,
           0.68115234375,
           0.68212890625,
           0.68310546875,
           0.68408203125,
           0.68505859375,
           0.68603515625,
           0.68701171875
          ],
          [
           0.62548828125,
           0.62646484375,
           0.62744140625,
           0.62841796875,
           0.62939453125,
           0.63037109375,
           0.63134765625,
           0.63232421875,
           0.63330078125,
           0.63427734375,
           0.63525390625,
           0.63623046875,
           0.63720703125,
           0.63818359375,
           0.63916015625,
           0.64013671875,
           0.64111328125,
           0.64208984375,
           0.64306640625,
           0.64404296875,
           0.64501953125,
           0.64599609375,
           0.64697265625,
           0.64794921875,
           0.64892578125,
           0.64990234375,
           0.65087890625,
           0.65185546875,
           0.65283203125,
           0.65380859375,
           0.65478515625,
           0.65576171875
          ],
          [
           0.59423828125,
           0.59521484375,
           0.59619140625,
           0.59716796875,
           0.59814453125,
           0.59912109375,
           0.60009765625,
           0.60107421875,
           0.60205078125,
           0.60302734375,
           0.60400390625,
           0.60498046875,
           0.60595703125,
           0.60693359375,
           0.60791015625,
           0.60888671875,
           0.60986328125,
           0.61083984375,
           0.61181640625,
           0.61279296875,
           0.61376953125,
           0.61474609375,
           0.61572265625,
           0.61669921875,
           0.61767578125,
           0.61865234375,
           0.61962890625,
           0.62060546875,
           0.62158203125,
           0.62255859375,
           0.62353515625,
           0.62451171875
          ],
          [
           0.56298828125,
           0.56396484375,
           0.56494140625,
           0.56591796875,
           0.56689453125,
           0.56787109375,
           0.56884765625,
           0.56982421875,
           0.57080078125,
           0.57177734375,
           0.57275390625,
           0.57373046875,
           0.57470703125,
           0.57568359375,
           0.57666015625,
           0.57763671875,
           0.57861328125,
           0.57958984375,
           0.58056640625,
           0.58154296875,
           0.58251953125,
           0.58349609375,
           0.58447265625,
           0.58544921875,
           0.58642578125,
           0.58740234375,
           0.58837890625,
           0.58935546875,
           0.59033203125,
           0.59130859375,
           0.59228515625,
           0.59326171875
          ],
          [
           0.53173828125,
           0.53271484375,
           0.53369140625,
           0.53466796875,
           0.53564453125,
           0.53662109375,
           0.53759765625,
           0.53857421875,
           0.53955078125,
           0.54052734375,
           0.54150390625,
           0.54248046875,
           0.54345703125,
           0.54443359375,
           0.54541015625,
           0.54638671875,
           0.54736328125,
           0.54833984375,
           0.54931640625,
           0.55029296875,
           0.55126953125,
           0.55224609375,
           0.55322265625,
           0.55419921875,
           0.55517578125,
           0.55615234375,
           0.55712890625,
           0.55810546875,
           0.55908203125,
           0.56005859375,
           0.56103515625,
           0.56201171875
          ],
          [
           0.50048828125,
           0.50146484375,
           0.50244140625,
           0.50341796875,
           0.50439453125,
           0.50537109375,
           0.50634765625,
           0.50732421875,
           0.50830078125,
           0.50927734375,
           0.51025390625,
           0.51123046875,
           0.51220703125,
           0.51318359375,
           0.51416015625,
           0.51513671875,
           0.51611328125,
           0.51708984375,
           0.51806640625,
           0.51904296875,
           0.52001953125,
           0.52099609375,
           0.52197265625,
           0.52294921875,
           0.52392578125,
           0.52490234375,
           0.52587890625,
           0.52685546875,
           0.52783203125,
           0.52880859375,
           0.52978515625,
           0.53076171875
          ],
          [
           0.46923828125,
           0.47021484375,
           0.47119140625,
           0.47216796875,
           0.47314453125,
           0.47412109375,
           0.47509765625,
           0.47607421875,
           0.47705078125,
           0.47802734375,
           0.47900390625,
           0.47998046875,
           0.48095703125,
           0.48193359375,
           0.48291015625,
           0.48388671875,
           0.48486328125,
           0.48583984375,
           0.48681640625,
           0.48779296875,
           0.48876953125,
           0.48974609375,
           0.49072265625,
           0.49169921875,
           0.49267578125,
           0.49365234375,
           0.49462890625,
           0.49560546875,
           0.49658203125,
           0.49755859375,
           0.49853515625,
           0.49951171875
          ],
          [
           0.43798828125,
           0.43896484375,
           0.43994140625,
           0.44091796875,
           0.44189453125,
           0.44287109375,
           0.44384765625,
           0.44482421875,
           0.44580078125,
           0.44677734375,
           0.44775390625,
           0.44873046875,
           0.44970703125,
           0.45068359375,
           0.45166015625,
           0.45263671875,
           0.45361328125,
           0.45458984375,
           0.45556640625,
           0.45654296875,
           0.45751953125,
           0.45849609375,
           0.45947265625,
           0.46044921875,
           0.46142578125,
           0.46240234375,
           0.46337890625,
           0.46435546875,
           0.46533203125,
           0.46630859375,
           0.46728515625,
           0.46826171875
          ],
          [
           0.40673828125,
           0.40771484375,
           0.40869140625,
           0.40966796875,
           0.41064453125,
           0.41162109375,
           0.41259765625,
           0.41357421875,
           0.41455078125,
           0.41552734375,
           0.41650390625,
           0.41748046875,
           0.41845703125,
           0.41943359375,
           0.42041015625,
           0.42138671875,
           0.42236328125,
           0.42333984375,
           0.42431640625,
           0.42529296875,
           0.42626953125,
           0.42724609375,
           0.42822265625,
           0.42919921875,
           0.43017578125,
           0.43115234375,
           0.43212890625,
           0.43310546875,
           0.43408203125,
           0.43505859375,
           0.43603515625,
           0.43701171875
          ],
          [
           0.37548828125,
           0.37646484375,
           0.37744140625,
           0.37841796875,
           0.37939453125,
           0.38037109375,
           0.38134765625,
           0.38232421875,
           0.38330078125,
           0.38427734375,
           0.38525390625,
           0.38623046875,
           0.38720703125,
           0.38818359375,
           0.38916015625,
           0.39013671875,
           0.39111328125,
           0.39208984375,
           0.39306640625,
           0.39404296875,
           0.39501953125,
           0.39599609375,
           0.39697265625,
           0.39794921875,
           0.39892578125,
           0.39990234375,
           0.40087890625,
           0.40185546875,
           0.40283203125,
           0.40380859375,
           0.40478515625,
           0.40576171875
          ],
          [
           0.34423828125,
           0.34521484375,
           0.34619140625,
           0.34716796875,
           0.34814453125,
           0.34912109375,
           0.35009765625,
           0.35107421875,
           0.35205078125,
           0.35302734375,
           0.35400390625,
           0.35498046875,
           0.35595703125,
           0.35693359375,
           0.35791015625,
           0.35888671875,
           0.35986328125,
           0.36083984375,
           0.36181640625,
           0.36279296875,
           0.36376953125,
           0.36474609375,
           0.36572265625,
           0.36669921875,
           0.36767578125,
           0.36865234375,
           0.36962890625,
           0.37060546875,
           0.37158203125,
           0.37255859375,
           0.37353515625,
           0.37451171875
          ],
          [
           0.31298828125,
           0.31396484375,
           0.31494140625,
           0.31591796875,
           0.31689453125,
           0.31787109375,
           0.31884765625,
           0.31982421875,
           0.32080078125,
           0.32177734375,
           0.32275390625,
           0.32373046875,
           0.32470703125,
           0.32568359375,
           0.32666015625,
           0.32763671875,
           0.32861328125,
           0.32958984375,
           0.33056640625,
           0.33154296875,
           0.33251953125,
           0.33349609375,
           0.33447265625,
           0.33544921875,
           0.33642578125,
           0.33740234375,
           0.33837890625,
           0.33935546875,
           0.34033203125,
           0.34130859375,
           0.34228515625,
           0.34326171875
          ],
          [
           0.28173828125,
           0.28271484375,
           0.28369140625,
           0.28466796875,
           0.28564453125,
           0.28662109375,
           0.28759765625,
           0.28857421875,
           0.28955078125,
           0.29052734375,
           0.29150390625,
           0.29248046875,
           0.29345703125,
           0.29443359375,
           0.29541015625,
           0.29638671875,
           0.29736328125,
           0.29833984375,
           0.29931640625,
           0.30029296875,
           0.30126953125,
           0.30224609375,
           0.30322265625,
           0.30419921875,
           0.30517578125,
           0.30615234375,
           0.30712890625,
           0.30810546875,
           0.30908203125,
           0.31005859375,
           0.31103515625,
           0.31201171875
          ],
          [
           0.25048828125,
           0.25146484375,
           0.25244140625,
           0.25341796875,
           0.25439453125,
           0.25537109375,
           0.25634765625,
           0.25732421875,
           0.25830078125,
           0.25927734375,
           0.26025390625,
           0.26123046875,
           0.26220703125,
           0.26318359375,
           0.26416015625,
           0.26513671875,
           0.26611328125,
           0.26708984375,
           0.26806640625,
           0.26904296875,
           0.27001953125,
           0.27099609375,
           0.27197265625,
           0.27294921875,
           0.27392578125,
           0.27490234375,
           0.27587890625,
           0.27685546875,
           0.27783203125,
           0.27880859375,
           0.27978515625,
           0.28076171875
          ],
          [
           0.21923828125,
           0.22021484375,
           0.22119140625,
           0.22216796875,
           0.22314453125,
           0.22412109375,
           0.22509765625,
           0.22607421875,
           0.22705078125,
           0.22802734375,
           0.22900390625,
           0.22998046875,
           0.23095703125,
           0.23193359375,
           0.23291015625,
           0.23388671875,
           0.23486328125,
           0.23583984375,
           0.23681640625,
           0.23779296875,
           0.23876953125,
           0.23974609375,
           0.24072265625,
           0.24169921875,
           0.24267578125,
           0.24365234375,
           0.24462890625,
           0.24560546875,
           0.24658203125,
           0.24755859375,
           0.24853515625,
           0.24951171875
          ],
          [
           0.18798828125,
           0.18896484375,
           0.18994140625,
           0.19091796875,
           0.19189453125,
           0.19287109375,
           0.19384765625,
           0.19482421875,
           0.19580078125,
           0.19677734375,
           0.19775390625,
           0.19873046875,
           0.19970703125,
           0.20068359375,
           0.20166015625,
           0.20263671875,
           0.20361328125,
           0.20458984375,
           0.20556640625,
           0.20654296875,
           0.20751953125,
           0.20849609375,
           0.20947265625,
           0.21044921875,
           0.21142578125,
           0.21240234375,
           0.21337890625,
           0.21435546875,
           0.21533203125,
           0.21630859375,
           0.21728515625,
           0.21826171875
          ],
          [
           0.15673828125,
           0.15771484375,
           0.15869140625,
           0.15966796875,
           0.16064453125,
           0.16162109375,
           0.16259765625,
           0.16357421875,
           0.16455078125,
           0.16552734375,
           0.16650390625,
           0.16748046875,
           0.16845703125,
           0.16943359375,
           0.17041015625,
           0.17138671875,
           0.17236328125,
           0.17333984375,
           0.17431640625,
           0.17529296875,
           0.17626953125,
           0.17724609375,
           0.17822265625,
           0.17919921875,
           0.18017578125,
           0.18115234375,
           0.18212890625,
           0.18310546875,
           0.18408203125,
           0.18505859375,
           0.18603515625,
           0.18701171875
          ],
          [
           0.12548828125,
           0.12646484375,
           0.12744140625,
           0.12841796875,
           0.12939453125,
           0.13037109375,
           0.13134765625,
           0.13232421875,
           0.13330078125,
           0.13427734375,
           0.13525390625,
           0.13623046875,
           0.13720703125,
           0.13818359375,
           0.13916015625,
           0.14013671875,
           0.14111328125,
           0.14208984375,
           0.14306640625,
           0.14404296875,
           0.14501953125,
           0.14599609375,
           0.14697265625,
           0.14794921875,
           0.14892578125,
           0.14990234375,
           0.15087890625,
           0.15185546875,
           0.15283203125,
           0.15380859375,
           0.15478515625,
           0.15576171875
          ],
          [
           0.09423828125,
           0.09521484375,
           0.09619140625,
           0.09716796875,
           0.09814453125,
           0.09912109375,
           0.10009765625,
           0.10107421875,
           0.10205078125,
           0.10302734375,
           0.10400390625,
           0.10498046875,
           0.10595703125,
           0.10693359375,
           0.10791015625,
           0.10888671875,
           0.10986328125,
           0.11083984375,
           0.11181640625,
           0.11279296875,
           0.11376953125,
           0.11474609375,
           0.11572265625,
           0.11669921875,
           0.11767578125,
           0.11865234375,
           0.11962890625,
           0.12060546875,
           0.12158203125,
           0.12255859375,
           0.12353515625,
           0.12451171875
          ],
          [
           0.06298828125,
           0.06396484375,
           0.06494140625,
           0.06591796875,
           0.06689453125,
           0.06787109375,
           0.06884765625,
           0.06982421875,
           0.07080078125,
           0.07177734375,
           0.07275390625,
           0.07373046875,
           0.07470703125,
           0.07568359375,
           0.07666015625,
           0.07763671875,
           0.07861328125,
           0.07958984375,
           0.08056640625,
           0.08154296875,
           0.08251953125,
           0.08349609375,
           0.08447265625,
           0.08544921875,
           0.08642578125,
           0.08740234375,
           0.08837890625,
           0.08935546875,
           0.09033203125,
           0.09130859375,
           0.09228515625,
           0.09326171875
          ],
          [
           0.03173828125,
           0.03271484375,
           0.03369140625,
           0.03466796875,
           0.03564453125,
           0.03662109375,
           0.03759765625,
           0.03857421875,
           0.03955078125,
           0.04052734375,
           0.04150390625,
           0.04248046875,
           0.04345703125,
           0.04443359375,
           0.04541015625,
           0.04638671875,
           0.04736328125,
           0.04833984375,
           0.04931640625,
           0.05029296875,
           0.05126953125,
           0.05224609375,
           0.05322265625,
           0.05419921875,
           0.05517578125,
           0.05615234375,
           0.05712890625,
           0.05810546875,
           0.05908203125,
           0.06005859375,
           0.06103515625,
           0.06201171875
          ],
          [
           0.00048828125,
           0.00146484375,
           0.00244140625,
           0.00341796875,
           0.00439453125,
           0.00537109375,
           0.00634765625,
           0.00732421875,
           0.00830078125,
           0.00927734375,
           0.01025390625,
           0.01123046875,
           0.01220703125,
           0.01318359375,
           0.01416015625,
           0.01513671875,
           0.01611328125,
           0.01708984375,
           0.01806640625,
           0.01904296875,
           0.02001953125,
           0.02099609375,
           0.02197265625,
           0.02294921875,
           0.02392578125,
           0.02490234375,
           0.02587890625,
           0.02685546875,
           0.02783203125,
           0.02880859375,
           0.02978515625,
           0.03076171875
          ]
         ]
        }
       ],
       "layout": {
        "height": 500,
        "template": {
         "data": {
          "bar": [
           {
            "error_x": {
             "color": "#2a3f5f"
            },
            "error_y": {
             "color": "#2a3f5f"
            },
            "marker": {
             "line": {
              "color": "#E5ECF6",
              "width": 0.5
             }
            },
            "type": "bar"
           }
          ],
          "barpolar": [
           {
            "marker": {
             "line": {
              "color": "#E5ECF6",
              "width": 0.5
             }
            },
            "type": "barpolar"
           }
          ],
          "carpet": [
           {
            "aaxis": {
             "endlinecolor": "#2a3f5f",
             "gridcolor": "white",
             "linecolor": "white",
             "minorgridcolor": "white",
             "startlinecolor": "#2a3f5f"
            },
            "baxis": {
             "endlinecolor": "#2a3f5f",
             "gridcolor": "white",
             "linecolor": "white",
             "minorgridcolor": "white",
             "startlinecolor": "#2a3f5f"
            },
            "type": "carpet"
           }
          ],
          "choropleth": [
           {
            "colorbar": {
             "outlinewidth": 0,
             "ticks": ""
            },
            "type": "choropleth"
           }
          ],
          "contour": [
           {
            "colorbar": {
             "outlinewidth": 0,
             "ticks": ""
            },
            "colorscale": [
             [
              0,
              "#0d0887"
             ],
             [
              0.1111111111111111,
              "#46039f"
             ],
             [
              0.2222222222222222,
              "#7201a8"
             ],
             [
              0.3333333333333333,
              "#9c179e"
             ],
             [
              0.4444444444444444,
              "#bd3786"
             ],
             [
              0.5555555555555556,
              "#d8576b"
             ],
             [
              0.6666666666666666,
              "#ed7953"
             ],
             [
              0.7777777777777778,
              "#fb9f3a"
             ],
             [
              0.8888888888888888,
              "#fdca26"
             ],
             [
              1,
              "#f0f921"
             ]
            ],
            "type": "contour"
           }
          ],
          "contourcarpet": [
           {
            "colorbar": {
             "outlinewidth": 0,
             "ticks": ""
            },
            "type": "contourcarpet"
           }
          ],
          "heatmap": [
           {
            "colorbar": {
             "outlinewidth": 0,
             "ticks": ""
            },
            "colorscale": [
             [
              0,
              "#0d0887"
             ],
             [
              0.1111111111111111,
              "#46039f"
             ],
             [
              0.2222222222222222,
              "#7201a8"
             ],
             [
              0.3333333333333333,
              "#9c179e"
             ],
             [
              0.4444444444444444,
              "#bd3786"
             ],
             [
              0.5555555555555556,
              "#d8576b"
             ],
             [
              0.6666666666666666,
              "#ed7953"
             ],
             [
              0.7777777777777778,
              "#fb9f3a"
             ],
             [
              0.8888888888888888,
              "#fdca26"
             ],
             [
              1,
              "#f0f921"
             ]
            ],
            "type": "heatmap"
           }
          ],
          "heatmapgl": [
           {
            "colorbar": {
             "outlinewidth": 0,
             "ticks": ""
            },
            "colorscale": [
             [
              0,
              "#0d0887"
             ],
             [
              0.1111111111111111,
              "#46039f"
             ],
             [
              0.2222222222222222,
              "#7201a8"
             ],
             [
              0.3333333333333333,
              "#9c179e"
             ],
             [
              0.4444444444444444,
              "#bd3786"
             ],
             [
              0.5555555555555556,
              "#d8576b"
             ],
             [
              0.6666666666666666,
              "#ed7953"
             ],
             [
              0.7777777777777778,
              "#fb9f3a"
             ],
             [
              0.8888888888888888,
              "#fdca26"
             ],
             [
              1,
              "#f0f921"
             ]
            ],
            "type": "heatmapgl"
           }
          ],
          "histogram": [
           {
            "marker": {
             "colorbar": {
              "outlinewidth": 0,
              "ticks": ""
             }
            },
            "type": "histogram"
           }
          ],
          "histogram2d": [
           {
            "colorbar": {
             "outlinewidth": 0,
             "ticks": ""
            },
            "colorscale": [
             [
              0,
              "#0d0887"
             ],
             [
              0.1111111111111111,
              "#46039f"
             ],
             [
              0.2222222222222222,
              "#7201a8"
             ],
             [
              0.3333333333333333,
              "#9c179e"
             ],
             [
              0.4444444444444444,
              "#bd3786"
             ],
             [
              0.5555555555555556,
              "#d8576b"
             ],
             [
              0.6666666666666666,
              "#ed7953"
             ],
             [
              0.7777777777777778,
              "#fb9f3a"
             ],
             [
              0.8888888888888888,
              "#fdca26"
             ],
             [
              1,
              "#f0f921"
             ]
            ],
            "type": "histogram2d"
           }
          ],
          "histogram2dcontour": [
           {
            "colorbar": {
             "outlinewidth": 0,
             "ticks": ""
            },
            "colorscale": [
             [
              0,
              "#0d0887"
             ],
             [
              0.1111111111111111,
              "#46039f"
             ],
             [
              0.2222222222222222,
              "#7201a8"
             ],
             [
              0.3333333333333333,
              "#9c179e"
             ],
             [
              0.4444444444444444,
              "#bd3786"
             ],
             [
              0.5555555555555556,
              "#d8576b"
             ],
             [
              0.6666666666666666,
              "#ed7953"
             ],
             [
              0.7777777777777778,
              "#fb9f3a"
             ],
             [
              0.8888888888888888,
              "#fdca26"
             ],
             [
              1,
              "#f0f921"
             ]
            ],
            "type": "histogram2dcontour"
           }
          ],
          "mesh3d": [
           {
            "colorbar": {
             "outlinewidth": 0,
             "ticks": ""
            },
            "type": "mesh3d"
           }
          ],
          "parcoords": [
           {
            "line": {
             "colorbar": {
              "outlinewidth": 0,
              "ticks": ""
             }
            },
            "type": "parcoords"
           }
          ],
          "pie": [
           {
            "automargin": true,
            "type": "pie"
           }
          ],
          "scatter": [
           {
            "marker": {
             "colorbar": {
              "outlinewidth": 0,
              "ticks": ""
             }
            },
            "type": "scatter"
           }
          ],
          "scatter3d": [
           {
            "line": {
             "colorbar": {
              "outlinewidth": 0,
              "ticks": ""
             }
            },
            "marker": {
             "colorbar": {
              "outlinewidth": 0,
              "ticks": ""
             }
            },
            "type": "scatter3d"
           }
          ],
          "scattercarpet": [
           {
            "marker": {
             "colorbar": {
              "outlinewidth": 0,
              "ticks": ""
             }
            },
            "type": "scattercarpet"
           }
          ],
          "scattergeo": [
           {
            "marker": {
             "colorbar": {
              "outlinewidth": 0,
              "ticks": ""
             }
            },
            "type": "scattergeo"
           }
          ],
          "scattergl": [
           {
            "marker": {
             "colorbar": {
              "outlinewidth": 0,
              "ticks": ""
             }
            },
            "type": "scattergl"
           }
          ],
          "scattermapbox": [
           {
            "marker": {
             "colorbar": {
              "outlinewidth": 0,
              "ticks": ""
             }
            },
            "type": "scattermapbox"
           }
          ],
          "scatterpolar": [
           {
            "marker": {
             "colorbar": {
              "outlinewidth": 0,
              "ticks": ""
             }
            },
            "type": "scatterpolar"
           }
          ],
          "scatterpolargl": [
           {
            "marker": {
             "colorbar": {
              "outlinewidth": 0,
              "ticks": ""
             }
            },
            "type": "scatterpolargl"
           }
          ],
          "scatterternary": [
           {
            "marker": {
             "colorbar": {
              "outlinewidth": 0,
              "ticks": ""
             }
            },
            "type": "scatterternary"
           }
          ],
          "surface": [
           {
            "colorbar": {
             "outlinewidth": 0,
             "ticks": ""
            },
            "colorscale": [
             [
              0,
              "#0d0887"
             ],
             [
              0.1111111111111111,
              "#46039f"
             ],
             [
              0.2222222222222222,
              "#7201a8"
             ],
             [
              0.3333333333333333,
              "#9c179e"
             ],
             [
              0.4444444444444444,
              "#bd3786"
             ],
             [
              0.5555555555555556,
              "#d8576b"
             ],
             [
              0.6666666666666666,
              "#ed7953"
             ],
             [
              0.7777777777777778,
              "#fb9f3a"
             ],
             [
              0.8888888888888888,
              "#fdca26"
             ],
             [
              1,
              "#f0f921"
             ]
            ],
            "type": "surface"
           }
          ],
          "table": [
           {
            "cells": {
             "fill": {
              "color": "#EBF0F8"
             },
             "line": {
              "color": "white"
             }
            },
            "header": {
             "fill": {
              "color": "#C8D4E3"
             },
             "line": {
              "color": "white"
             }
            },
            "type": "table"
           }
          ]
         },
         "layout": {
          "annotationdefaults": {
           "arrowcolor": "#2a3f5f",
           "arrowhead": 0,
           "arrowwidth": 1
          },
          "coloraxis": {
           "colorbar": {
            "outlinewidth": 0,
            "ticks": ""
           }
          },
          "colorscale": {
           "diverging": [
            [
             0,
             "#8e0152"
            ],
            [
             0.1,
             "#c51b7d"
            ],
            [
             0.2,
             "#de77ae"
            ],
            [
             0.3,
             "#f1b6da"
            ],
            [
             0.4,
             "#fde0ef"
            ],
            [
             0.5,
             "#f7f7f7"
            ],
            [
             0.6,
             "#e6f5d0"
            ],
            [
             0.7,
             "#b8e186"
            ],
            [
             0.8,
             "#7fbc41"
            ],
            [
             0.9,
             "#4d9221"
            ],
            [
             1,
             "#276419"
            ]
           ],
           "sequential": [
            [
             0,
             "#0d0887"
            ],
            [
             0.1111111111111111,
             "#46039f"
            ],
            [
             0.2222222222222222,
             "#7201a8"
            ],
            [
             0.3333333333333333,
             "#9c179e"
            ],
            [
             0.4444444444444444,
             "#bd3786"
            ],
            [
             0.5555555555555556,
             "#d8576b"
            ],
            [
             0.6666666666666666,
             "#ed7953"
            ],
            [
             0.7777777777777778,
             "#fb9f3a"
            ],
            [
             0.8888888888888888,
             "#fdca26"
            ],
            [
             1,
             "#f0f921"
            ]
           ],
           "sequentialminus": [
            [
             0,
             "#0d0887"
            ],
            [
             0.1111111111111111,
             "#46039f"
            ],
            [
             0.2222222222222222,
             "#7201a8"
            ],
            [
             0.3333333333333333,
             "#9c179e"
            ],
            [
             0.4444444444444444,
             "#bd3786"
            ],
            [
             0.5555555555555556,
             "#d8576b"
            ],
            [
             0.6666666666666666,
             "#ed7953"
            ],
            [
             0.7777777777777778,
             "#fb9f3a"
            ],
            [
             0.8888888888888888,
             "#fdca26"
            ],
            [
             1,
             "#f0f921"
            ]
           ]
          },
          "colorway": [
           "#636efa",
           "#EF553B",
           "#00cc96",
           "#ab63fa",
           "#FFA15A",
           "#19d3f3",
           "#FF6692",
           "#B6E880",
           "#FF97FF",
           "#FECB52"
          ],
          "font": {
           "color": "#2a3f5f"
          },
          "geo": {
           "bgcolor": "white",
           "lakecolor": "white",
           "landcolor": "#E5ECF6",
           "showlakes": true,
           "showland": true,
           "subunitcolor": "white"
          },
          "hoverlabel": {
           "align": "left"
          },
          "hovermode": "closest",
          "mapbox": {
           "style": "light"
          },
          "paper_bgcolor": "white",
          "plot_bgcolor": "#E5ECF6",
          "polar": {
           "angularaxis": {
            "gridcolor": "white",
            "linecolor": "white",
            "ticks": ""
           },
           "bgcolor": "#E5ECF6",
           "radialaxis": {
            "gridcolor": "white",
            "linecolor": "white",
            "ticks": ""
           }
          },
          "scene": {
           "xaxis": {
            "backgroundcolor": "#E5ECF6",
            "gridcolor": "white",
            "gridwidth": 2,
            "linecolor": "white",
            "showbackground": true,
            "ticks": "",
            "zerolinecolor": "white"
           },
           "yaxis": {
            "backgroundcolor": "#E5ECF6",
            "gridcolor": "white",
            "gridwidth": 2,
            "linecolor": "white",
            "showbackground": true,
            "ticks": "",
            "zerolinecolor": "white"
           },
           "zaxis": {
            "backgroundcolor": "#E5ECF6",
            "gridcolor": "white",
            "gridwidth": 2,
            "linecolor": "white",
            "showbackground": true,
            "ticks": "",
            "zerolinecolor": "white"
           }
          },
          "shapedefaults": {
           "line": {
            "color": "#2a3f5f"
           }
          },
          "ternary": {
           "aaxis": {
            "gridcolor": "white",
            "linecolor": "white",
            "ticks": ""
           },
           "baxis": {
            "gridcolor": "white",
            "linecolor": "white",
            "ticks": ""
           },
           "bgcolor": "#E5ECF6",
           "caxis": {
            "gridcolor": "white",
            "linecolor": "white",
            "ticks": ""
           }
          },
          "title": {
           "x": 0.05
          },
          "xaxis": {
           "automargin": true,
           "gridcolor": "white",
           "linecolor": "white",
           "ticks": "",
           "title": {
            "standoff": 15
           },
           "zerolinecolor": "white",
           "zerolinewidth": 2
          },
          "yaxis": {
           "automargin": true,
           "gridcolor": "white",
           "linecolor": "white",
           "ticks": "",
           "title": {
            "standoff": 15
           },
           "zerolinecolor": "white",
           "zerolinewidth": 2
          }
         }
        },
        "width": 500
       }
      },
      "text/html": [
       "<div>\n",
       "        \n",
       "        \n",
       "            <div id=\"270c7dda-605d-4e23-bfc7-e57a5fc07dc5\" class=\"plotly-graph-div\" style=\"height:500px; width:500px;\"></div>\n",
       "            <script type=\"text/javascript\">\n",
       "                require([\"plotly\"], function(Plotly) {\n",
       "                    window.PLOTLYENV=window.PLOTLYENV || {};\n",
       "                    \n",
       "                if (document.getElementById(\"270c7dda-605d-4e23-bfc7-e57a5fc07dc5\")) {\n",
       "                    Plotly.newPlot(\n",
       "                        '270c7dda-605d-4e23-bfc7-e57a5fc07dc5',\n",
       "                        [{\"colorscale\": [[0.0, \"#fbf9fa\"], [0.0009765625, \"#fbf9fa\"], [0.0009765625, \"#f7f5f7\"], [0.001953125, \"#f7f5f7\"], [0.001953125, \"#f7f5f7\"], [0.0029296875, \"#f7f5f7\"], [0.0029296875, \"#f8f6f7\"], [0.00390625, \"#f8f6f7\"], [0.00390625, \"#f9f7f8\"], [0.0048828125, \"#f9f7f8\"], [0.0048828125, \"#f8f6f8\"], [0.005859375, \"#f8f6f8\"], [0.005859375, \"#f8f6f7\"], [0.0068359375, \"#f8f6f7\"], [0.0068359375, \"#f8f6f8\"], [0.0078125, \"#f8f6f8\"], [0.0078125, \"#f9f7fa\"], [0.0087890625, \"#f9f7fa\"], [0.0087890625, \"#f9f6f9\"], [0.009765625, \"#f9f6f9\"], [0.009765625, \"#f8f6f9\"], [0.0107421875, \"#f8f6f9\"], [0.0107421875, \"#f9f7f9\"], [0.01171875, \"#f9f7f9\"], [0.01171875, \"#faf7fa\"], [0.0126953125, \"#faf7fa\"], [0.0126953125, \"#f9f7fa\"], [0.013671875, \"#f9f7fa\"], [0.013671875, \"#f9f7f9\"], [0.0146484375, \"#f9f7f9\"], [0.0146484375, \"#f9f7f8\"], [0.015625, \"#f9f7f8\"], [0.015625, \"#f9f7f8\"], [0.0166015625, \"#f9f7f8\"], [0.0166015625, \"#f8f7f7\"], [0.017578125, \"#f8f7f7\"], [0.017578125, \"#f9f6f7\"], [0.0185546875, \"#f9f6f7\"], [0.0185546875, \"#f9f6f7\"], [0.01953125, \"#f9f6f7\"], [0.01953125, \"#faf5f6\"], [0.0205078125, \"#faf5f6\"], [0.0205078125, \"#faf5f7\"], [0.021484375, \"#faf5f7\"], [0.021484375, \"#faf6f7\"], [0.0224609375, \"#faf6f7\"], [0.0224609375, \"#f9f6f7\"], [0.0234375, \"#f9f6f7\"], [0.0234375, \"#faf6f7\"], [0.0244140625, \"#faf6f7\"], [0.0244140625, \"#faf5f7\"], [0.025390625, \"#faf5f7\"], [0.025390625, \"#faf3f5\"], [0.0263671875, \"#faf3f5\"], [0.0263671875, \"#faf3f5\"], [0.02734375, \"#faf3f5\"], [0.02734375, \"#f5e6e2\"], [0.0283203125, \"#f5e6e2\"], [0.0283203125, \"#e5be92\"], [0.029296875, \"#e5be92\"], [0.029296875, \"#f4e7e0\"], [0.0302734375, \"#f4e7e0\"], [0.0302734375, \"#fbf1f1\"], [0.03125, \"#fbf1f1\"], [0.03125, \"#f9f8f8\"], [0.0322265625, \"#f9f8f8\"], [0.0322265625, \"#f6f4f4\"], [0.033203125, \"#f6f4f4\"], [0.033203125, \"#f6f5f4\"], [0.0341796875, \"#f6f5f4\"], [0.0341796875, \"#f6f5f4\"], [0.03515625, \"#f6f5f4\"], [0.03515625, \"#f7f5f5\"], [0.0361328125, \"#f7f5f5\"], [0.0361328125, \"#f7f5f5\"], [0.037109375, \"#f7f5f5\"], [0.037109375, \"#f7f6f5\"], [0.0380859375, \"#f7f6f5\"], [0.0380859375, \"#f8f6f6\"], [0.0390625, \"#f8f6f6\"], [0.0390625, \"#f8f6f8\"], [0.0400390625, \"#f8f6f8\"], [0.0400390625, \"#f9f7f8\"], [0.041015625, \"#f9f7f8\"], [0.041015625, \"#f9f8f9\"], [0.0419921875, \"#f9f8f9\"], [0.0419921875, \"#fbfafa\"], [0.04296875, \"#fbfafa\"], [0.04296875, \"#fcfafb\"], [0.0439453125, \"#fcfafb\"], [0.0439453125, \"#fcfbfc\"], [0.044921875, \"#fcfbfc\"], [0.044921875, \"#fcfbfb\"], [0.0458984375, \"#fcfbfb\"], [0.0458984375, \"#fefdfc\"], [0.046875, \"#fefdfc\"], [0.046875, \"#fefcfd\"], [0.0478515625, \"#fefcfd\"], [0.0478515625, \"#fdfafb\"], [0.048828125, \"#fdfafb\"], [0.048828125, \"#fef9fb\"], [0.0498046875, \"#fef9fb\"], [0.0498046875, \"#fff9fb\"], [0.05078125, \"#fff9fb\"], [0.05078125, \"#fff7fa\"], [0.0517578125, \"#fff7fa\"], [0.0517578125, \"#fff7fa\"], [0.052734375, \"#fff7fa\"], [0.052734375, \"#fff8fb\"], [0.0537109375, \"#fff8fb\"], [0.0537109375, \"#fff8fb\"], [0.0546875, \"#fff8fb\"], [0.0546875, \"#fff9fb\"], [0.0556640625, \"#fff9fb\"], [0.0556640625, \"#fffafc\"], [0.056640625, \"#fffafc\"], [0.056640625, \"#fff8f9\"], [0.0576171875, \"#fff8f9\"], [0.0576171875, \"#fcfafc\"], [0.05859375, \"#fcfafc\"], [0.05859375, \"#f5d5bf\"], [0.0595703125, \"#f5d5bf\"], [0.0595703125, \"#e9bc8d\"], [0.060546875, \"#e9bc8d\"], [0.060546875, \"#f9ede9\"], [0.0615234375, \"#f9ede9\"], [0.0615234375, \"#fcf2f1\"], [0.0625, \"#fcf2f1\"], [0.0625, \"#a7a594\"], [0.0634765625, \"#a7a594\"], [0.0634765625, \"#a7a494\"], [0.064453125, \"#a7a494\"], [0.064453125, \"#a7a495\"], [0.0654296875, \"#a7a495\"], [0.0654296875, \"#a7a496\"], [0.06640625, \"#a7a496\"], [0.06640625, \"#a8a395\"], [0.0673828125, \"#a8a395\"], [0.0673828125, \"#aaa595\"], [0.068359375, \"#aaa595\"], [0.068359375, \"#aca898\"], [0.0693359375, \"#aca898\"], [0.0693359375, \"#aca89a\"], [0.0703125, \"#aca89a\"], [0.0703125, \"#aea89c\"], [0.0712890625, \"#aea89c\"], [0.0712890625, \"#b0a99e\"], [0.072265625, \"#b0a99e\"], [0.072265625, \"#b2a99e\"], [0.0732421875, \"#b2a99e\"], [0.0732421875, \"#b7aaa1\"], [0.07421875, \"#b7aaa1\"], [0.07421875, \"#b9ada5\"], [0.0751953125, \"#b9ada5\"], [0.0751953125, \"#b9afa5\"], [0.076171875, \"#b9afa5\"], [0.076171875, \"#baafa7\"], [0.0771484375, \"#baafa7\"], [0.0771484375, \"#beb2aa\"], [0.078125, \"#beb2aa\"], [0.078125, \"#c4b2ae\"], [0.0791015625, \"#c4b2ae\"], [0.0791015625, \"#c6b4b1\"], [0.080078125, \"#c6b4b1\"], [0.080078125, \"#cab8b4\"], [0.0810546875, \"#cab8b4\"], [0.0810546875, \"#cabbb3\"], [0.08203125, \"#cabbb3\"], [0.08203125, \"#c8bbb4\"], [0.0830078125, \"#c8bbb4\"], [0.0830078125, \"#cbc1b7\"], [0.083984375, \"#cbc1b7\"], [0.083984375, \"#cec4bc\"], [0.0849609375, \"#cec4bc\"], [0.0849609375, \"#cec5be\"], [0.0859375, \"#cec5be\"], [0.0859375, \"#cec7bf\"], [0.0869140625, \"#cec7bf\"], [0.0869140625, \"#d1cac2\"], [0.087890625, \"#d1cac2\"], [0.087890625, \"#d2cec6\"], [0.0888671875, \"#d2cec6\"], [0.0888671875, \"#d5d3c8\"], [0.08984375, \"#d5d3c8\"], [0.08984375, \"#ecbb92\"], [0.0908203125, \"#ecbb92\"], [0.0908203125, \"#d9b68b\"], [0.091796875, \"#d9b68b\"], [0.091796875, \"#d9d3cb\"], [0.0927734375, \"#d9d3cb\"], [0.0927734375, \"#dcd5d0\"], [0.09375, \"#dcd5d0\"], [0.09375, \"#4e4925\"], [0.0947265625, \"#4e4925\"], [0.0947265625, \"#504827\"], [0.095703125, \"#504827\"], [0.095703125, \"#534a29\"], [0.0966796875, \"#534a29\"], [0.0966796875, \"#554f30\"], [0.09765625, \"#554f30\"], [0.09765625, \"#524628\"], [0.0986328125, \"#524628\"], [0.0986328125, \"#504927\"], [0.099609375, \"#504927\"], [0.099609375, \"#544a29\"], [0.1005859375, \"#544a29\"], [0.1005859375, \"#56462b\"], [0.1015625, \"#56462b\"], [0.1015625, \"#5c452a\"], [0.1025390625, \"#5c452a\"], [0.1025390625, \"#61422b\"], [0.103515625, \"#61422b\"], [0.103515625, \"#65402c\"], [0.1044921875, \"#65402c\"], [0.1044921875, \"#6e422d\"], [0.10546875, \"#6e422d\"], [0.10546875, \"#694231\"], [0.1064453125, \"#694231\"], [0.1064453125, \"#5c402e\"], [0.107421875, \"#5c402e\"], [0.107421875, \"#5a4030\"], [0.1083984375, \"#5a4030\"], [0.1083984375, \"#614332\"], [0.109375, \"#614332\"], [0.109375, \"#644333\"], [0.1103515625, \"#644333\"], [0.1103515625, \"#664634\"], [0.111328125, \"#664634\"], [0.111328125, \"#71543a\"], [0.1123046875, \"#71543a\"], [0.1123046875, \"#755c39\"], [0.11328125, \"#755c39\"], [0.11328125, \"#6e583a\"], [0.1142578125, \"#6e583a\"], [0.1142578125, \"#71623c\"], [0.115234375, \"#71623c\"], [0.115234375, \"#70623e\"], [0.1162109375, \"#70623e\"], [0.1162109375, \"#706642\"], [0.1171875, \"#706642\"], [0.1171875, \"#726949\"], [0.1181640625, \"#726949\"], [0.1181640625, \"#746847\"], [0.119140625, \"#746847\"], [0.119140625, \"#716e49\"], [0.1201171875, \"#716e49\"], [0.1201171875, \"#8b8159\"], [0.12109375, \"#8b8159\"], [0.12109375, \"#e9ae79\"], [0.1220703125, \"#e9ae79\"], [0.1220703125, \"#aa8a5e\"], [0.123046875, \"#aa8a5e\"], [0.123046875, \"#7d7b5b\"], [0.1240234375, \"#7d7b5b\"], [0.1240234375, \"#84805e\"], [0.125, \"#84805e\"], [0.125, \"#4c471c\"], [0.1259765625, \"#4c471c\"], [0.1259765625, \"#4c441b\"], [0.126953125, \"#4c441b\"], [0.126953125, \"#4e451a\"], [0.1279296875, \"#4e451a\"], [0.1279296875, \"#534b26\"], [0.12890625, \"#534b26\"], [0.12890625, \"#583d1f\"], [0.1298828125, \"#583d1f\"], [0.1298828125, \"#50421e\"], [0.130859375, \"#50421e\"], [0.130859375, \"#4c431f\"], [0.1318359375, \"#4c431f\"], [0.1318359375, \"#543a1c\"], [0.1328125, \"#543a1c\"], [0.1328125, \"#633a1e\"], [0.1337890625, \"#633a1e\"], [0.1337890625, \"#733b21\"], [0.134765625, \"#733b21\"], [0.134765625, \"#763b27\"], [0.1357421875, \"#763b27\"], [0.1357421875, \"#834229\"], [0.13671875, \"#834229\"], [0.13671875, \"#7b4227\"], [0.1376953125, \"#7b4227\"], [0.1376953125, \"#5b3a21\"], [0.138671875, \"#5b3a21\"], [0.138671875, \"#4c321c\"], [0.1396484375, \"#4c321c\"], [0.1396484375, \"#51371d\"], [0.140625, \"#51371d\"], [0.140625, \"#573f20\"], [0.1416015625, \"#573f20\"], [0.1416015625, \"#593a1d\"], [0.142578125, \"#593a1d\"], [0.142578125, \"#5f481e\"], [0.1435546875, \"#5f481e\"], [0.1435546875, \"#64551d\"], [0.14453125, \"#64551d\"], [0.14453125, \"#604b1c\"], [0.1455078125, \"#604b1c\"], [0.1455078125, \"#60521b\"], [0.146484375, \"#60521b\"], [0.146484375, \"#5d4e1b\"], [0.1474609375, \"#5d4e1b\"], [0.1474609375, \"#5e4f2b\"], [0.1484375, \"#5e4f2b\"], [0.1484375, \"#52442a\"], [0.1494140625, \"#52442a\"], [0.1494140625, \"#554324\"], [0.150390625, \"#554324\"], [0.150390625, \"#504818\"], [0.1513671875, \"#504818\"], [0.1513671875, \"#8b763b\"], [0.15234375, \"#8b763b\"], [0.15234375, \"#efb177\"], [0.1533203125, \"#efb177\"], [0.1533203125, \"#866434\"], [0.154296875, \"#866434\"], [0.154296875, \"#524e19\"], [0.1552734375, \"#524e19\"], [0.1552734375, \"#56531a\"], [0.15625, \"#56531a\"], [0.15625, \"#514e1b\"], [0.1572265625, \"#514e1b\"], [0.1572265625, \"#50481d\"], [0.158203125, \"#50481d\"], [0.158203125, \"#51481e\"], [0.1591796875, \"#51481e\"], [0.1591796875, \"#534822\"], [0.16015625, \"#534822\"], [0.16015625, \"#5f401e\"], [0.1611328125, \"#5f401e\"], [0.1611328125, \"#674022\"], [0.162109375, \"#674022\"], [0.162109375, \"#584523\"], [0.1630859375, \"#584523\"], [0.1630859375, \"#5a3e1f\"], [0.1640625, \"#5a3e1f\"], [0.1640625, \"#663a22\"], [0.1650390625, \"#663a22\"], [0.1650390625, \"#83422b\"], [0.166015625, \"#83422b\"], [0.166015625, \"#773b29\"], [0.1669921875, \"#773b29\"], [0.1669921875, \"#884a31\"], [0.16796875, \"#884a31\"], [0.16796875, \"#8c522e\"], [0.1689453125, \"#8c522e\"], [0.1689453125, \"#72502a\"], [0.169921875, \"#72502a\"], [0.169921875, \"#5d4724\"], [0.1708984375, \"#5d4724\"], [0.1708984375, \"#615127\"], [0.171875, \"#615127\"], [0.171875, \"#6d5d2b\"], [0.1728515625, \"#6d5d2b\"], [0.1728515625, \"#674425\"], [0.173828125, \"#674425\"], [0.173828125, \"#614f22\"], [0.1748046875, \"#614f22\"], [0.1748046875, \"#695e20\"], [0.17578125, \"#695e20\"], [0.17578125, \"#6c5622\"], [0.1767578125, \"#6c5622\"], [0.1767578125, \"#66591c\"], [0.177734375, \"#66591c\"], [0.177734375, \"#5e5421\"], [0.1787109375, \"#5e5421\"], [0.1787109375, \"#554635\"], [0.1796875, \"#554635\"], [0.1796875, \"#42362f\"], [0.1806640625, \"#42362f\"], [0.1806640625, \"#48382a\"], [0.181640625, \"#48382a\"], [0.181640625, \"#554829\"], [0.1826171875, \"#554829\"], [0.1826171875, \"#be9a66\"], [0.18359375, \"#be9a66\"], [0.18359375, \"#e4a96e\"], [0.1845703125, \"#e4a96e\"], [0.1845703125, \"#705926\"], [0.185546875, \"#705926\"], [0.185546875, \"#5c531b\"], [0.1865234375, \"#5c531b\"], [0.1865234375, \"#5f591e\"], [0.1875, \"#5f591e\"], [0.1875, \"#564f1b\"], [0.1884765625, \"#564f1b\"], [0.1884765625, \"#554a20\"], [0.189453125, \"#554a20\"], [0.189453125, \"#544922\"], [0.1904296875, \"#544922\"], [0.1904296875, \"#595023\"], [0.19140625, \"#595023\"], [0.19140625, \"#594c21\"], [0.1923828125, \"#594c21\"], [0.1923828125, \"#684325\"], [0.193359375, \"#684325\"], [0.193359375, \"#704126\"], [0.1943359375, \"#704126\"], [0.1943359375, \"#604226\"], [0.1953125, \"#604226\"], [0.1953125, \"#623922\"], [0.1962890625, \"#623922\"], [0.1962890625, \"#78422b\"], [0.197265625, \"#78422b\"], [0.197265625, \"#633425\"], [0.1982421875, \"#633425\"], [0.1982421875, \"#844f2f\"], [0.19921875, \"#844f2f\"], [0.19921875, \"#8a5c2b\"], [0.2001953125, \"#8a5c2b\"], [0.2001953125, \"#8e7441\"], [0.201171875, \"#8e7441\"], [0.201171875, \"#897747\"], [0.2021484375, \"#897747\"], [0.2021484375, \"#867649\"], [0.203125, \"#867649\"], [0.203125, \"#8f814e\"], [0.2041015625, \"#8f814e\"], [0.2041015625, \"#634928\"], [0.205078125, \"#634928\"], [0.205078125, \"#5c4629\"], [0.2060546875, \"#5c4629\"], [0.2060546875, \"#8a5326\"], [0.20703125, \"#8a5326\"], [0.20703125, \"#9f502f\"], [0.2080078125, \"#9f502f\"], [0.2080078125, \"#955f3c\"], [0.208984375, \"#955f3c\"], [0.208984375, \"#795e3e\"], [0.2099609375, \"#795e3e\"], [0.2099609375, \"#463429\"], [0.2109375, \"#463429\"], [0.2109375, \"#45382f\"], [0.2119140625, \"#45382f\"], [0.2119140625, \"#695749\"], [0.212890625, \"#695749\"], [0.212890625, \"#77644b\"], [0.2138671875, \"#77644b\"], [0.2138671875, \"#e5b885\"], [0.21484375, \"#e5b885\"], [0.21484375, \"#bb9250\"], [0.2158203125, \"#bb9250\"], [0.2158203125, \"#645e1c\"], [0.216796875, \"#645e1c\"], [0.216796875, \"#645e1d\"], [0.2177734375, \"#645e1d\"], [0.2177734375, \"#635f21\"], [0.21875, \"#635f21\"], [0.21875, \"#5e5a1d\"], [0.2197265625, \"#5e5a1d\"], [0.2197265625, \"#5f5920\"], [0.220703125, \"#5f5920\"], [0.220703125, \"#5d4e1f\"], [0.2216796875, \"#5d4e1f\"], [0.2216796875, \"#5f572b\"], [0.22265625, \"#5f572b\"], [0.22265625, \"#656532\"], [0.2236328125, \"#656532\"], [0.2236328125, \"#6b6533\"], [0.224609375, \"#6b6533\"], [0.224609375, \"#7c5931\"], [0.2255859375, \"#7c5931\"], [0.2255859375, \"#824b31\"], [0.2265625, \"#824b31\"], [0.2265625, \"#90683f\"], [0.2275390625, \"#90683f\"], [0.2275390625, \"#91764d\"], [0.228515625, \"#91764d\"], [0.228515625, \"#564031\"], [0.2294921875, \"#564031\"], [0.2294921875, \"#88753a\"], [0.23046875, \"#88753a\"], [0.23046875, \"#978c3b\"], [0.2314453125, \"#978c3b\"], [0.2314453125, \"#a09b4c\"], [0.232421875, \"#a09b4c\"], [0.232421875, \"#968d41\"], [0.2333984375, \"#968d41\"], [0.2333984375, \"#897a4c\"], [0.234375, \"#897a4c\"], [0.234375, \"#867e53\"], [0.2353515625, \"#867e53\"], [0.2353515625, \"#795432\"], [0.236328125, \"#795432\"], [0.236328125, \"#852b20\"], [0.2373046875, \"#852b20\"], [0.2373046875, \"#c6362c\"], [0.23828125, \"#c6362c\"], [0.23828125, \"#e14c48\"], [0.2392578125, \"#e14c48\"], [0.2392578125, \"#f19087\"], [0.240234375, \"#f19087\"], [0.240234375, \"#d99390\"], [0.2412109375, \"#d99390\"], [0.2412109375, \"#62433f\"], [0.2421875, \"#62433f\"], [0.2421875, \"#564b35\"], [0.2431640625, \"#564b35\"], [0.2431640625, \"#b0977f\"], [0.244140625, \"#b0977f\"], [0.244140625, \"#bc9a7e\"], [0.2451171875, \"#bc9a7e\"], [0.2451171875, \"#bd946a\"], [0.24609375, \"#bd946a\"], [0.24609375, \"#b09754\"], [0.2470703125, \"#b09754\"], [0.2470703125, \"#938d49\"], [0.248046875, \"#938d49\"], [0.248046875, \"#948c49\"], [0.2490234375, \"#948c49\"], [0.2490234375, \"#90864c\"], [0.25, \"#90864c\"], [0.25, \"#9d9952\"], [0.2509765625, \"#9d9952\"], [0.2509765625, \"#9d9852\"], [0.251953125, \"#9d9852\"], [0.251953125, \"#a4955b\"], [0.2529296875, \"#a4955b\"], [0.2529296875, \"#917347\"], [0.25390625, \"#917347\"], [0.25390625, \"#9a884a\"], [0.2548828125, \"#9a884a\"], [0.2548828125, \"#a8a259\"], [0.255859375, \"#a8a259\"], [0.255859375, \"#aea461\"], [0.2568359375, \"#aea461\"], [0.2568359375, \"#a38256\"], [0.2578125, \"#a38256\"], [0.2578125, \"#aa7851\"], [0.2587890625, \"#aa7851\"], [0.2587890625, \"#b99f6d\"], [0.259765625, \"#b99f6d\"], [0.259765625, \"#735c44\"], [0.2607421875, \"#735c44\"], [0.2607421875, \"#a28f6c\"], [0.26171875, \"#a28f6c\"], [0.26171875, \"#baae74\"], [0.2626953125, \"#baae74\"], [0.2626953125, \"#b9aa70\"], [0.263671875, \"#b9aa70\"], [0.263671875, \"#b2a26d\"], [0.2646484375, \"#b2a26d\"], [0.2646484375, \"#a68d67\"], [0.265625, \"#a68d67\"], [0.265625, \"#916d51\"], [0.2666015625, \"#916d51\"], [0.2666015625, \"#813926\"], [0.267578125, \"#813926\"], [0.267578125, \"#a9241e\"], [0.2685546875, \"#a9241e\"], [0.2685546875, \"#c82b25\"], [0.26953125, \"#c82b25\"], [0.26953125, \"#d3403d\"], [0.2705078125, \"#d3403d\"], [0.2705078125, \"#f0867b\"], [0.271484375, \"#f0867b\"], [0.271484375, \"#a3625c\"], [0.2724609375, \"#a3625c\"], [0.2724609375, \"#3e312a\"], [0.2734375, \"#3e312a\"], [0.2734375, \"#75674a\"], [0.2744140625, \"#75674a\"], [0.2744140625, \"#b89f7e\"], [0.275390625, \"#b89f7e\"], [0.275390625, \"#b9895e\"], [0.2763671875, \"#b9895e\"], [0.2763671875, \"#93724b\"], [0.27734375, \"#93724b\"], [0.27734375, \"#b49d78\"], [0.2783203125, \"#b49d78\"], [0.2783203125, \"#b19f78\"], [0.279296875, \"#b19f78\"], [0.279296875, \"#af9d75\"], [0.2802734375, \"#af9d75\"], [0.2802734375, \"#af9c79\"], [0.28125, \"#af9c79\"], [0.28125, \"#b9a781\"], [0.2822265625, \"#b9a781\"], [0.2822265625, \"#b7a37f\"], [0.283203125, \"#b7a37f\"], [0.283203125, \"#baa581\"], [0.2841796875, \"#baa581\"], [0.2841796875, \"#b4997d\"], [0.28515625, \"#b4997d\"], [0.28515625, \"#a17b62\"], [0.2861328125, \"#a17b62\"], [0.2861328125, \"#ac8969\"], [0.287109375, \"#ac8969\"], [0.287109375, \"#bead92\"], [0.2880859375, \"#bead92\"], [0.2880859375, \"#c1b19d\"], [0.2890625, \"#c1b19d\"], [0.2890625, \"#a67b57\"], [0.2900390625, \"#a67b57\"], [0.2900390625, \"#b0825c\"], [0.291015625, \"#b0825c\"], [0.291015625, \"#ac8266\"], [0.2919921875, \"#ac8266\"], [0.2919921875, \"#b89e79\"], [0.29296875, \"#b89e79\"], [0.29296875, \"#c4ab85\"], [0.2939453125, \"#c4ab85\"], [0.2939453125, \"#bda97e\"], [0.294921875, \"#bda97e\"], [0.294921875, \"#ac9570\"], [0.2958984375, \"#ac9570\"], [0.2958984375, \"#95735f\"], [0.296875, \"#95735f\"], [0.296875, \"#774438\"], [0.2978515625, \"#774438\"], [0.2978515625, \"#671a14\"], [0.298828125, \"#671a14\"], [0.298828125, \"#9b221c\"], [0.2998046875, \"#9b221c\"], [0.2998046875, \"#b9281e\"], [0.30078125, \"#b9281e\"], [0.30078125, \"#bd2c24\"], [0.3017578125, \"#bd2c24\"], [0.3017578125, \"#c8433c\"], [0.302734375, \"#c8433c\"], [0.302734375, \"#823b30\"], [0.3037109375, \"#823b30\"], [0.3037109375, \"#281c15\"], [0.3046875, \"#281c15\"], [0.3046875, \"#56472f\"], [0.3056640625, \"#56472f\"], [0.3056640625, \"#8b7250\"], [0.306640625, \"#8b7250\"], [0.306640625, \"#ae7e49\"], [0.3076171875, \"#ae7e49\"], [0.3076171875, \"#998147\"], [0.30859375, \"#998147\"], [0.30859375, \"#b1a15c\"], [0.3095703125, \"#b1a15c\"], [0.3095703125, \"#b2a259\"], [0.310546875, \"#b2a259\"], [0.310546875, \"#b2a258\"], [0.3115234375, \"#b2a258\"], [0.3115234375, \"#afa258\"], [0.3125, \"#afa258\"], [0.3125, \"#c2a986\"], [0.3134765625, \"#c2a986\"], [0.3134765625, \"#bfa67c\"], [0.314453125, \"#bfa67c\"], [0.314453125, \"#bfa877\"], [0.3154296875, \"#bfa877\"], [0.3154296875, \"#c5af7c\"], [0.31640625, \"#c5af7c\"], [0.31640625, \"#c2a574\"], [0.3173828125, \"#c2a574\"], [0.3173828125, \"#ac8856\"], [0.318359375, \"#ac8856\"], [0.318359375, \"#b89a7f\"], [0.3193359375, \"#b89a7f\"], [0.3193359375, \"#c7b5a3\"], [0.3203125, \"#c7b5a3\"], [0.3203125, \"#bba36a\"], [0.3212890625, \"#bba36a\"], [0.3212890625, \"#b59054\"], [0.322265625, \"#b59054\"], [0.322265625, \"#b07c4b\"], [0.3232421875, \"#b07c4b\"], [0.3232421875, \"#c0a25e\"], [0.32421875, \"#c0a25e\"], [0.32421875, \"#ccb874\"], [0.3251953125, \"#ccb874\"], [0.3251953125, \"#a7955c\"], [0.326171875, \"#a7955c\"], [0.326171875, \"#7b6341\"], [0.3271484375, \"#7b6341\"], [0.3271484375, \"#694937\"], [0.328125, \"#694937\"], [0.328125, \"#4c271a\"], [0.3291015625, \"#4c271a\"], [0.3291015625, \"#6b251d\"], [0.330078125, \"#6b251d\"], [0.330078125, \"#98211a\"], [0.3310546875, \"#98211a\"], [0.3310546875, \"#ae251d\"], [0.33203125, \"#ae251d\"], [0.33203125, \"#a8271d\"], [0.3330078125, \"#a8271d\"], [0.3330078125, \"#a3231e\"], [0.333984375, \"#a3231e\"], [0.333984375, \"#7e251d\"], [0.3349609375, \"#7e251d\"], [0.3349609375, \"#3a2019\"], [0.3359375, \"#3a2019\"], [0.3359375, \"#362d1d\"], [0.3369140625, \"#362d1d\"], [0.3369140625, \"#7a5a34\"], [0.337890625, \"#7a5a34\"], [0.337890625, \"#7e5a2e\"], [0.3388671875, \"#7e5a2e\"], [0.3388671875, \"#897d45\"], [0.33984375, \"#897d45\"], [0.33984375, \"#af9f4f\"], [0.3408203125, \"#af9f4f\"], [0.3408203125, \"#ab9d4d\"], [0.341796875, \"#ab9d4d\"], [0.341796875, \"#b19f4f\"], [0.3427734375, \"#b19f4f\"], [0.3427734375, \"#b2a24c\"], [0.34375, \"#b2a24c\"], [0.34375, \"#d5c190\"], [0.3447265625, \"#d5c190\"], [0.3447265625, \"#cdb97e\"], [0.345703125, \"#cdb97e\"], [0.345703125, \"#cab674\"], [0.3466796875, \"#cab674\"], [0.3466796875, \"#cebb79\"], [0.34765625, \"#cebb79\"], [0.34765625, \"#cebc79\"], [0.3486328125, \"#cebc79\"], [0.3486328125, \"#beaa5f\"], [0.349609375, \"#beaa5f\"], [0.349609375, \"#a98e62\"], [0.3505859375, \"#a98e62\"], [0.3505859375, \"#b29682\"], [0.3515625, \"#b29682\"], [0.3515625, \"#b39961\"], [0.3525390625, \"#b39961\"], [0.3525390625, \"#b19e56\"], [0.353515625, \"#b19e56\"], [0.353515625, \"#ae904c\"], [0.3544921875, \"#ae904c\"], [0.3544921875, \"#ad8449\"], [0.35546875, \"#ad8449\"], [0.35546875, \"#c8a574\"], [0.3564453125, \"#c8a574\"], [0.3564453125, \"#7b5e44\"], [0.357421875, \"#7b5e44\"], [0.357421875, \"#553529\"], [0.3583984375, \"#553529\"], [0.3583984375, \"#733f34\"], [0.359375, \"#733f34\"], [0.359375, \"#6d3021\"], [0.3603515625, \"#6d3021\"], [0.3603515625, \"#903b2d\"], [0.361328125, \"#903b2d\"], [0.361328125, \"#97271a\"], [0.3623046875, \"#97271a\"], [0.3623046875, \"#a6261d\"], [0.36328125, \"#a6261d\"], [0.36328125, \"#99271c\"], [0.3642578125, \"#99271c\"], [0.3642578125, \"#a4261d\"], [0.365234375, \"#a4261d\"], [0.365234375, \"#92271a\"], [0.3662109375, \"#92271a\"], [0.3662109375, \"#3d1e17\"], [0.3671875, \"#3d1e17\"], [0.3671875, \"#31271e\"], [0.3681640625, \"#31271e\"], [0.3681640625, \"#855f2f\"], [0.369140625, \"#855f2f\"], [0.369140625, \"#4c371a\"], [0.3701171875, \"#4c371a\"], [0.3701171875, \"#78703e\"], [0.37109375, \"#78703e\"], [0.37109375, \"#b2a050\"], [0.3720703125, \"#b2a050\"], [0.3720703125, \"#ab9b4d\"], [0.373046875, \"#ab9b4d\"], [0.373046875, \"#ae9b4d\"], [0.3740234375, \"#ae9b4d\"], [0.3740234375, \"#aa9c49\"], [0.375, \"#aa9c49\"], [0.375, \"#c9ba7e\"], [0.3759765625, \"#c9ba7e\"], [0.3759765625, \"#c0b169\"], [0.376953125, \"#c0b169\"], [0.376953125, \"#bcae5d\"], [0.3779296875, \"#bcae5d\"], [0.3779296875, \"#bdb25a\"], [0.37890625, \"#bdb25a\"], [0.37890625, \"#bbb05b\"], [0.3798828125, \"#bbb05b\"], [0.3798828125, \"#b6ac51\"], [0.380859375, \"#b6ac51\"], [0.380859375, \"#b4a46d\"], [0.3818359375, \"#b4a46d\"], [0.3818359375, \"#b29786\"], [0.3828125, \"#b29786\"], [0.3828125, \"#a08353\"], [0.3837890625, \"#a08353\"], [0.3837890625, \"#a69646\"], [0.384765625, \"#a69646\"], [0.384765625, \"#b2a649\"], [0.3857421875, \"#b2a649\"], [0.3857421875, \"#b99f5e\"], [0.38671875, \"#b99f5e\"], [0.38671875, \"#c58773\"], [0.3876953125, \"#c58773\"], [0.3876953125, \"#6e3c31\"], [0.388671875, \"#6e3c31\"], [0.388671875, \"#663327\"], [0.3896484375, \"#663327\"], [0.3896484375, \"#934335\"], [0.390625, \"#934335\"], [0.390625, \"#943f2e\"], [0.3916015625, \"#943f2e\"], [0.3916015625, \"#963727\"], [0.392578125, \"#963727\"], [0.392578125, \"#9a2c1e\"], [0.3935546875, \"#9a2c1e\"], [0.3935546875, \"#a6261d\"], [0.39453125, \"#a6261d\"], [0.39453125, \"#a4261c\"], [0.3955078125, \"#a4261c\"], [0.3955078125, \"#ad2c1e\"], [0.396484375, \"#ad2c1e\"], [0.396484375, \"#9a2b1b\"], [0.3974609375, \"#9a2b1b\"], [0.3974609375, \"#341811\"], [0.3984375, \"#341811\"], [0.3984375, \"#423120\"], [0.3994140625, \"#423120\"], [0.3994140625, \"#795327\"], [0.400390625, \"#795327\"], [0.400390625, \"#4d4426\"], [0.4013671875, \"#4d4426\"], [0.4013671875, \"#978e46\"], [0.40234375, \"#978e46\"], [0.40234375, \"#a99e48\"], [0.4033203125, \"#a99e48\"], [0.4033203125, \"#a79c48\"], [0.404296875, \"#a79c48\"], [0.404296875, \"#aa9b49\"], [0.4052734375, \"#aa9b49\"], [0.4052734375, \"#a59947\"], [0.40625, \"#a59947\"], [0.40625, \"#b4a756\"], [0.4072265625, \"#b4a756\"], [0.4072265625, \"#b0a44f\"], [0.408203125, \"#b0a44f\"], [0.408203125, \"#b0a348\"], [0.4091796875, \"#b0a348\"], [0.4091796875, \"#b2a446\"], [0.41015625, \"#b2a446\"], [0.41015625, \"#b1a24d\"], [0.4111328125, \"#b1a24d\"], [0.4111328125, \"#b0a04e\"], [0.412109375, \"#b0a04e\"], [0.412109375, \"#b9ab75\"], [0.4130859375, \"#b9ab75\"], [0.4130859375, \"#c7b9aa\"], [0.4140625, \"#c7b9aa\"], [0.4140625, \"#ac936a\"], [0.4150390625, \"#ac936a\"], [0.4150390625, \"#a27f39\"], [0.416015625, \"#a27f39\"], [0.416015625, \"#bba35d\"], [0.4169921875, \"#bba35d\"], [0.4169921875, \"#e2b49a\"], [0.41796875, \"#e2b49a\"], [0.41796875, \"#c9756a\"], [0.4189453125, \"#c9756a\"], [0.4189453125, \"#8c3728\"], [0.419921875, \"#8c3728\"], [0.419921875, \"#903829\"], [0.4208984375, \"#903829\"], [0.4208984375, \"#9a3c2c\"], [0.421875, \"#9a3c2c\"], [0.421875, \"#943526\"], [0.4228515625, \"#943526\"], [0.4228515625, \"#952b1e\"], [0.423828125, \"#952b1e\"], [0.423828125, \"#9f2a1d\"], [0.4248046875, \"#9f2a1d\"], [0.4248046875, \"#a4221b\"], [0.42578125, \"#a4221b\"], [0.42578125, \"#a42516\"], [0.4267578125, \"#a42516\"], [0.4267578125, \"#ab2918\"], [0.427734375, \"#ab2918\"], [0.427734375, \"#772214\"], [0.4287109375, \"#772214\"], [0.4287109375, \"#27160f\"], [0.4296875, \"#27160f\"], [0.4296875, \"#634b28\"], [0.4306640625, \"#634b28\"], [0.4306640625, \"#64471e\"], [0.431640625, \"#64471e\"], [0.431640625, \"#5b562a\"], [0.4326171875, \"#5b562a\"], [0.4326171875, \"#afa645\"], [0.43359375, \"#afa645\"], [0.43359375, \"#aaa248\"], [0.4345703125, \"#aaa248\"], [0.4345703125, \"#ada44c\"], [0.435546875, \"#ada44c\"], [0.435546875, \"#b0a44c\"], [0.4365234375, \"#b0a44c\"], [0.4365234375, \"#b0a04c\"], [0.4375, \"#b0a04c\"], [0.4375, \"#b49d50\"], [0.4384765625, \"#b49d50\"], [0.4384765625, \"#b79c57\"], [0.439453125, \"#b79c57\"], [0.439453125, \"#ba9a58\"], [0.4404296875, \"#ba9a58\"], [0.4404296875, \"#ba9a56\"], [0.44140625, \"#ba9a56\"], [0.44140625, \"#b39551\"], [0.4423828125, \"#b39551\"], [0.4423828125, \"#b3954f\"], [0.443359375, \"#b3954f\"], [0.443359375, \"#baa575\"], [0.4443359375, \"#baa575\"], [0.4443359375, \"#cabdb0\"], [0.4453125, \"#cabdb0\"], [0.4453125, \"#c0ae7c\"], [0.4462890625, \"#c0ae7c\"], [0.4462890625, \"#a88a4b\"], [0.447265625, \"#a88a4b\"], [0.447265625, \"#bb8268\"], [0.4482421875, \"#bb8268\"], [0.4482421875, \"#d07063\"], [0.44921875, \"#d07063\"], [0.44921875, \"#b94938\"], [0.4501953125, \"#b94938\"], [0.4501953125, \"#a53c2c\"], [0.451171875, \"#a53c2c\"], [0.451171875, \"#973123\"], [0.4521484375, \"#973123\"], [0.4521484375, \"#942f21\"], [0.453125, \"#942f21\"], [0.453125, \"#902b1d\"], [0.4541015625, \"#902b1d\"], [0.4541015625, \"#942718\"], [0.455078125, \"#942718\"], [0.455078125, \"#972212\"], [0.4560546875, \"#972212\"], [0.4560546875, \"#9a2013\"], [0.45703125, \"#9a2013\"], [0.45703125, \"#a52214\"], [0.4580078125, \"#a52214\"], [0.4580078125, \"#832311\"], [0.458984375, \"#832311\"], [0.458984375, \"#411507\"], [0.4599609375, \"#411507\"], [0.4599609375, \"#281a11\"], [0.4609375, \"#281a11\"], [0.4609375, \"#7e612f\"], [0.4619140625, \"#7e612f\"], [0.4619140625, \"#927b3b\"], [0.462890625, \"#927b3b\"], [0.462890625, \"#968f44\"], [0.4638671875, \"#968f44\"], [0.4638671875, \"#b3a54b\"], [0.46484375, \"#b3a54b\"], [0.46484375, \"#b4a64c\"], [0.4658203125, \"#b4a64c\"], [0.4658203125, \"#b4a84e\"], [0.466796875, \"#b4a84e\"], [0.466796875, \"#b3a74b\"], [0.4677734375, \"#b3a74b\"], [0.4677734375, \"#afa249\"], [0.46875, \"#afa249\"], [0.46875, \"#ad9e4b\"], [0.4697265625, \"#ad9e4b\"], [0.4697265625, \"#b49b4f\"], [0.470703125, \"#b49b4f\"], [0.470703125, \"#bf9f58\"], [0.4716796875, \"#bf9f58\"], [0.4716796875, \"#c39f5c\"], [0.47265625, \"#c39f5c\"], [0.47265625, \"#c29d59\"], [0.4736328125, \"#c29d59\"], [0.4736328125, \"#c5a25a\"], [0.474609375, \"#c5a25a\"], [0.474609375, \"#c6ae78\"], [0.4755859375, \"#c6ae78\"], [0.4755859375, \"#c5b7a7\"], [0.4765625, \"#c5b7a7\"], [0.4765625, \"#c6b28f\"], [0.4775390625, \"#c6b28f\"], [0.4775390625, \"#d0895f\"], [0.478515625, \"#d0895f\"], [0.478515625, \"#c1503e\"], [0.4794921875, \"#c1503e\"], [0.4794921875, \"#ac3820\"], [0.48046875, \"#ac3820\"], [0.48046875, \"#b23a24\"], [0.4814453125, \"#b23a24\"], [0.4814453125, \"#a73525\"], [0.482421875, \"#a73525\"], [0.482421875, \"#942f1e\"], [0.4833984375, \"#942f1e\"], [0.4833984375, \"#8b2516\"], [0.484375, \"#8b2516\"], [0.484375, \"#882215\"], [0.4853515625, \"#882215\"], [0.4853515625, \"#8b2111\"], [0.486328125, \"#8b2111\"], [0.486328125, \"#962010\"], [0.4873046875, \"#962010\"], [0.4873046875, \"#9d2011\"], [0.48828125, \"#9d2011\"], [0.48828125, \"#8b2413\"], [0.4892578125, \"#8b2413\"], [0.4892578125, \"#501a09\"], [0.490234375, \"#501a09\"], [0.490234375, \"#3c1607\"], [0.4912109375, \"#3c1607\"], [0.4912109375, \"#4c381a\"], [0.4921875, \"#4c381a\"], [0.4921875, \"#9b7733\"], [0.4931640625, \"#9b7733\"], [0.4931640625, \"#b59b4f\"], [0.494140625, \"#b59b4f\"], [0.494140625, \"#b3a459\"], [0.4951171875, \"#b3a459\"], [0.4951171875, \"#af9f51\"], [0.49609375, \"#af9f51\"], [0.49609375, \"#ada04b\"], [0.4970703125, \"#ada04b\"], [0.4970703125, \"#aea44a\"], [0.498046875, \"#aea44a\"], [0.498046875, \"#aaa244\"], [0.4990234375, \"#aaa244\"], [0.4990234375, \"#a19b3d\"], [0.5, \"#a19b3d\"], [0.5, \"#b6a54b\"], [0.5009765625, \"#b6a54b\"], [0.5009765625, \"#bca651\"], [0.501953125, \"#bca651\"], [0.501953125, \"#c3a861\"], [0.5029296875, \"#c3a861\"], [0.5029296875, \"#bca067\"], [0.50390625, \"#bca067\"], [0.50390625, \"#b79b6c\"], [0.5048828125, \"#b79b6c\"], [0.5048828125, \"#ac9468\"], [0.505859375, \"#ac9468\"], [0.505859375, \"#9e8b66\"], [0.5068359375, \"#9e8b66\"], [0.5068359375, \"#967e6e\"], [0.5078125, \"#967e6e\"], [0.5078125, \"#b16055\"], [0.5087890625, \"#b16055\"], [0.5087890625, \"#c64b3b\"], [0.509765625, \"#c64b3b\"], [0.509765625, \"#c4452e\"], [0.5107421875, \"#c4452e\"], [0.5107421875, \"#b33824\"], [0.51171875, \"#b33824\"], [0.51171875, \"#982d1a\"], [0.5126953125, \"#982d1a\"], [0.5126953125, \"#992815\"], [0.513671875, \"#992815\"], [0.513671875, \"#8e2813\"], [0.5146484375, \"#8e2813\"], [0.5146484375, \"#862410\"], [0.515625, \"#862410\"], [0.515625, \"#801f0e\"], [0.5166015625, \"#801f0e\"], [0.5166015625, \"#7d1f0c\"], [0.517578125, \"#7d1f0c\"], [0.517578125, \"#851c0f\"], [0.5185546875, \"#851c0f\"], [0.5185546875, \"#8a1d10\"], [0.51953125, \"#8a1d10\"], [0.51953125, \"#4f1a07\"], [0.5205078125, \"#4f1a07\"], [0.5205078125, \"#3f1204\"], [0.521484375, \"#3f1204\"], [0.521484375, \"#512f10\"], [0.5224609375, \"#512f10\"], [0.5224609375, \"#8f7c36\"], [0.5234375, \"#8f7c36\"], [0.5234375, \"#ab8438\"], [0.5244140625, \"#ab8438\"], [0.5244140625, \"#ab984a\"], [0.525390625, \"#ab984a\"], [0.525390625, \"#a79b4d\"], [0.5263671875, \"#a79b4d\"], [0.5263671875, \"#a49d49\"], [0.52734375, \"#a49d49\"], [0.52734375, \"#a39c48\"], [0.5283203125, \"#a39c48\"], [0.5283203125, \"#a69f44\"], [0.529296875, \"#a69f44\"], [0.529296875, \"#a59f40\"], [0.5302734375, \"#a59f40\"], [0.5302734375, \"#a49c3c\"], [0.53125, \"#a49c3c\"], [0.53125, \"#c2aa50\"], [0.5322265625, \"#c2aa50\"], [0.5322265625, \"#bca650\"], [0.533203125, \"#bca650\"], [0.533203125, \"#857849\"], [0.5341796875, \"#857849\"], [0.5341796875, \"#574f30\"], [0.53515625, \"#574f30\"], [0.53515625, \"#463d23\"], [0.5361328125, \"#463d23\"], [0.5361328125, \"#3c331c\"], [0.537109375, \"#3c331c\"], [0.537109375, \"#564e30\"], [0.5380859375, \"#564e30\"], [0.5380859375, \"#7e6044\"], [0.5390625, \"#7e6044\"], [0.5390625, \"#992f1d\"], [0.5400390625, \"#992f1d\"], [0.5400390625, \"#b23625\"], [0.541015625, \"#b23625\"], [0.541015625, \"#b53927\"], [0.5419921875, \"#b53927\"], [0.5419921875, \"#b1361e\"], [0.54296875, \"#b1361e\"], [0.54296875, \"#a02c17\"], [0.5439453125, \"#a02c17\"], [0.5439453125, \"#8c2311\"], [0.544921875, \"#8c2311\"], [0.544921875, \"#882310\"], [0.5458984375, \"#882310\"], [0.5458984375, \"#89220f\"], [0.546875, \"#89220f\"], [0.546875, \"#86200d\"], [0.5478515625, \"#86200d\"], [0.5478515625, \"#731f0f\"], [0.548828125, \"#731f0f\"], [0.548828125, \"#6a2112\"], [0.5498046875, \"#6a2112\"], [0.5498046875, \"#5f2911\"], [0.55078125, \"#5f2911\"], [0.55078125, \"#523812\"], [0.5517578125, \"#523812\"], [0.5517578125, \"#5e3f1c\"], [0.552734375, \"#5e3f1c\"], [0.552734375, \"#78632b\"], [0.5537109375, \"#78632b\"], [0.5537109375, \"#a18d37\"], [0.5546875, \"#a18d37\"], [0.5546875, \"#a0852f\"], [0.5556640625, \"#a0852f\"], [0.5556640625, \"#a09a3d\"], [0.556640625, \"#a09a3d\"], [0.556640625, \"#a29a3d\"], [0.5576171875, \"#a29a3d\"], [0.5576171875, \"#9f9a3d\"], [0.55859375, \"#9f9a3d\"], [0.55859375, \"#a29d3a\"], [0.5595703125, \"#a29d3a\"], [0.5595703125, \"#a59e3d\"], [0.560546875, \"#a59e3d\"], [0.560546875, \"#a3a03c\"], [0.5615234375, \"#a3a03c\"], [0.5615234375, \"#a39e3a\"], [0.5625, \"#a39e3a\"], [0.5625, \"#c1ae55\"], [0.5634765625, \"#c1ae55\"], [0.5634765625, \"#ad9c50\"], [0.564453125, \"#ad9c50\"], [0.564453125, \"#49441c\"], [0.5654296875, \"#49441c\"], [0.5654296875, \"#353213\"], [0.56640625, \"#353213\"], [0.56640625, \"#363616\"], [0.5673828125, \"#363616\"], [0.5673828125, \"#413d19\"], [0.568359375, \"#413d19\"], [0.568359375, \"#81794a\"], [0.5693359375, \"#81794a\"], [0.5693359375, \"#90774e\"], [0.5703125, \"#90774e\"], [0.5703125, \"#994825\"], [0.5712890625, \"#994825\"], [0.5712890625, \"#ae4a23\"], [0.572265625, \"#ae4a23\"], [0.572265625, \"#af4524\"], [0.5732421875, \"#af4524\"], [0.5732421875, \"#ad3b20\"], [0.57421875, \"#ad3b20\"], [0.57421875, \"#a8391b\"], [0.5751953125, \"#a8391b\"], [0.5751953125, \"#983218\"], [0.576171875, \"#983218\"], [0.576171875, \"#822d14\"], [0.5771484375, \"#822d14\"], [0.5771484375, \"#802d13\"], [0.578125, \"#802d13\"], [0.578125, \"#7c2e14\"], [0.5791015625, \"#7c2e14\"], [0.5791015625, \"#6a3816\"], [0.580078125, \"#6a3816\"], [0.580078125, \"#744b22\"], [0.5810546875, \"#744b22\"], [0.5810546875, \"#7f652b\"], [0.58203125, \"#7f652b\"], [0.58203125, \"#957b33\"], [0.5830078125, \"#957b33\"], [0.5830078125, \"#a08b3d\"], [0.583984375, \"#a08b3d\"], [0.583984375, \"#8a7435\"], [0.5849609375, \"#8a7435\"], [0.5849609375, \"#977c2e\"], [0.5859375, \"#977c2e\"], [0.5859375, \"#a29331\"], [0.5869140625, \"#a29331\"], [0.5869140625, \"#a69f39\"], [0.587890625, \"#a69f39\"], [0.587890625, \"#a79e3b\"], [0.5888671875, \"#a79e3b\"], [0.5888671875, \"#a5a03c\"], [0.58984375, \"#a5a03c\"], [0.58984375, \"#a5a035\"], [0.5908203125, \"#a5a035\"], [0.5908203125, \"#a39f37\"], [0.591796875, \"#a39f37\"], [0.591796875, \"#9f9e38\"], [0.5927734375, \"#9f9e38\"], [0.5927734375, \"#9d9b37\"], [0.59375, \"#9d9b37\"], [0.59375, \"#c2a85f\"], [0.5947265625, \"#c2a85f\"], [0.5947265625, \"#b7a160\"], [0.595703125, \"#b7a160\"], [0.595703125, \"#7a6f39\"], [0.5966796875, \"#7a6f39\"], [0.5966796875, \"#7f7135\"], [0.59765625, \"#7f7135\"], [0.59765625, \"#887e3c\"], [0.5986328125, \"#887e3c\"], [0.5986328125, \"#827b3a\"], [0.599609375, \"#827b3a\"], [0.599609375, \"#8f8a45\"], [0.6005859375, \"#8f8a45\"], [0.6005859375, \"#7f7538\"], [0.6015625, \"#7f7538\"], [0.6015625, \"#8e6f30\"], [0.6025390625, \"#8e6f30\"], [0.6025390625, \"#9a722a\"], [0.603515625, \"#9a722a\"], [0.603515625, \"#956822\"], [0.6044921875, \"#956822\"], [0.6044921875, \"#9c6726\"], [0.60546875, \"#9c6726\"], [0.60546875, \"#9f6c2a\"], [0.6064453125, \"#9f6c2a\"], [0.6064453125, \"#9b6a28\"], [0.607421875, \"#9b6a28\"], [0.607421875, \"#926c27\"], [0.6083984375, \"#926c27\"], [0.6083984375, \"#816d23\"], [0.609375, \"#816d23\"], [0.609375, \"#846924\"], [0.6103515625, \"#846924\"], [0.6103515625, \"#84722a\"], [0.611328125, \"#84722a\"], [0.611328125, \"#987e37\"], [0.6123046875, \"#987e37\"], [0.6123046875, \"#a29536\"], [0.61328125, \"#a29536\"], [0.61328125, \"#9a7a37\"], [0.6142578125, \"#9a7a37\"], [0.6142578125, \"#a2883a\"], [0.615234375, \"#a2883a\"], [0.615234375, \"#938234\"], [0.6162109375, \"#938234\"], [0.6162109375, \"#8d722c\"], [0.6171875, \"#8d722c\"], [0.6171875, \"#a59c35\"], [0.6181640625, \"#a59c35\"], [0.6181640625, \"#a79e38\"], [0.619140625, \"#a79e38\"], [0.619140625, \"#a39d37\"], [0.6201171875, \"#a39d37\"], [0.6201171875, \"#a29d37\"], [0.62109375, \"#a29d37\"], [0.62109375, \"#a39e37\"], [0.6220703125, \"#a39e37\"], [0.6220703125, \"#9a9932\"], [0.623046875, \"#9a9932\"], [0.623046875, \"#929433\"], [0.6240234375, \"#929433\"], [0.6240234375, \"#959634\"], [0.625, \"#959634\"], [0.625, \"#b5a94a\"], [0.6259765625, \"#b5a94a\"], [0.6259765625, \"#b1a44a\"], [0.626953125, \"#b1a44a\"], [0.626953125, \"#a79f44\"], [0.6279296875, \"#a79f44\"], [0.6279296875, \"#a59b41\"], [0.62890625, \"#a59b41\"], [0.62890625, \"#9c9640\"], [0.6298828125, \"#9c9640\"], [0.6298828125, \"#7d7b2d\"], [0.630859375, \"#7d7b2d\"], [0.630859375, \"#747628\"], [0.6318359375, \"#747628\"], [0.6318359375, \"#727428\"], [0.6328125, \"#727428\"], [0.6328125, \"#777727\"], [0.6337890625, \"#777727\"], [0.6337890625, \"#7c7b28\"], [0.634765625, \"#7c7b28\"], [0.634765625, \"#7c7924\"], [0.6357421875, \"#7c7924\"], [0.6357421875, \"#848128\"], [0.63671875, \"#848128\"], [0.63671875, \"#928f32\"], [0.6376953125, \"#928f32\"], [0.6376953125, \"#969535\"], [0.638671875, \"#969535\"], [0.638671875, \"#9a9a3a\"], [0.6396484375, \"#9a9a3a\"], [0.6396484375, \"#989a38\"], [0.640625, \"#989a38\"], [0.640625, \"#9c8f34\"], [0.6416015625, \"#9c8f34\"], [0.6416015625, \"#9f8d39\"], [0.642578125, \"#9f8d39\"], [0.642578125, \"#a48b3a\"], [0.6435546875, \"#a48b3a\"], [0.6435546875, \"#a09f34\"], [0.64453125, \"#a09f34\"], [0.64453125, \"#967d35\"], [0.6455078125, \"#967d35\"], [0.6455078125, \"#8a6e35\"], [0.646484375, \"#8a6e35\"], [0.646484375, \"#908237\"], [0.6474609375, \"#908237\"], [0.6474609375, \"#8c732e\"], [0.6484375, \"#8c732e\"], [0.6484375, \"#9d9332\"], [0.6494140625, \"#9d9332\"], [0.6494140625, \"#9a9831\"], [0.650390625, \"#9a9831\"], [0.650390625, \"#95952f\"], [0.6513671875, \"#95952f\"], [0.6513671875, \"#979531\"], [0.65234375, \"#979531\"], [0.65234375, \"#979531\"], [0.6533203125, \"#979531\"], [0.6533203125, \"#90922e\"], [0.654296875, \"#90922e\"], [0.654296875, \"#8d9031\"], [0.6552734375, \"#8d9031\"], [0.6552734375, \"#8b8e2d\"], [0.65625, \"#8b8e2d\"], [0.65625, \"#a19f32\"], [0.6572265625, \"#a19f32\"], [0.6572265625, \"#96962c\"], [0.658203125, \"#96962c\"], [0.658203125, \"#91912b\"], [0.6591796875, \"#91912b\"], [0.6591796875, \"#888727\"], [0.66015625, \"#888727\"], [0.66015625, \"#82802a\"], [0.6611328125, \"#82802a\"], [0.6611328125, \"#747125\"], [0.662109375, \"#747125\"], [0.662109375, \"#747225\"], [0.6630859375, \"#747225\"], [0.6630859375, \"#747221\"], [0.6640625, \"#747221\"], [0.6640625, \"#767321\"], [0.6650390625, \"#767321\"], [0.6650390625, \"#7d7a27\"], [0.666015625, \"#7d7a27\"], [0.666015625, \"#807d27\"], [0.6669921875, \"#807d27\"], [0.6669921875, \"#84812a\"], [0.66796875, \"#84812a\"], [0.66796875, \"#8b882e\"], [0.6689453125, \"#8b882e\"], [0.6689453125, \"#8f8e2f\"], [0.669921875, \"#8f8e2f\"], [0.669921875, \"#8e8f2f\"], [0.6708984375, \"#8e8f2f\"], [0.6708984375, \"#92922f\"], [0.671875, \"#92922f\"], [0.671875, \"#95892f\"], [0.6728515625, \"#95892f\"], [0.6728515625, \"#9c8436\"], [0.673828125, \"#9c8436\"], [0.673828125, \"#a28b39\"], [0.6748046875, \"#a28b39\"], [0.6748046875, \"#898830\"], [0.67578125, \"#898830\"], [0.67578125, \"#86792e\"], [0.6767578125, \"#86792e\"], [0.6767578125, \"#6e6228\"], [0.677734375, \"#6e6228\"], [0.677734375, \"#60522b\"], [0.6787109375, \"#60522b\"], [0.6787109375, \"#836d29\"], [0.6796875, \"#836d29\"], [0.6796875, \"#917a2b\"], [0.6806640625, \"#917a2b\"], [0.6806640625, \"#717026\"], [0.681640625, \"#717026\"], [0.681640625, \"#6b6d2a\"], [0.6826171875, \"#6b6d2a\"], [0.6826171875, \"#86892a\"], [0.68359375, \"#86892a\"], [0.68359375, \"#878a26\"], [0.6845703125, \"#878a26\"], [0.6845703125, \"#878b28\"], [0.685546875, \"#878b28\"], [0.685546875, \"#878c2a\"], [0.6865234375, \"#878c2a\"], [0.6865234375, \"#7b8121\"], [0.6875, \"#7b8121\"], [0.6875, \"#9b9a30\"], [0.6884765625, \"#9b9a30\"], [0.6884765625, \"#939228\"], [0.689453125, \"#939228\"], [0.689453125, \"#8f8d2c\"], [0.6904296875, \"#8f8d2c\"], [0.6904296875, \"#8b872a\"], [0.69140625, \"#8b872a\"], [0.69140625, \"#8b862b\"], [0.6923828125, \"#8b862b\"], [0.6923828125, \"#877f29\"], [0.693359375, \"#877f29\"], [0.693359375, \"#8b812c\"], [0.6943359375, \"#8b812c\"], [0.6943359375, \"#877f29\"], [0.6953125, \"#877f29\"], [0.6953125, \"#828126\"], [0.6962890625, \"#828126\"], [0.6962890625, \"#808227\"], [0.697265625, \"#808227\"], [0.697265625, \"#7f7d26\"], [0.6982421875, \"#7f7d26\"], [0.6982421875, \"#7e7c26\"], [0.69921875, \"#7e7c26\"], [0.69921875, \"#828029\"], [0.7001953125, \"#828029\"], [0.7001953125, \"#838226\"], [0.701171875, \"#838226\"], [0.701171875, \"#898627\"], [0.7021484375, \"#898627\"], [0.7021484375, \"#8a8a26\"], [0.703125, \"#8a8a26\"], [0.703125, \"#8f832b\"], [0.7041015625, \"#8f832b\"], [0.7041015625, \"#9d7b37\"], [0.705078125, \"#9d7b37\"], [0.705078125, \"#978832\"], [0.7060546875, \"#978832\"], [0.7060546875, \"#636231\"], [0.70703125, \"#636231\"], [0.70703125, \"#787329\"], [0.7080078125, \"#787329\"], [0.7080078125, \"#827f27\"], [0.708984375, \"#827f27\"], [0.708984375, \"#4a451e\"], [0.7099609375, \"#4a451e\"], [0.7099609375, \"#705128\"], [0.7109375, \"#705128\"], [0.7109375, \"#7b5226\"], [0.7119140625, \"#7b5226\"], [0.7119140625, \"#442b18\"], [0.712890625, \"#442b18\"], [0.712890625, \"#453823\"], [0.7138671875, \"#453823\"], [0.7138671875, \"#717526\"], [0.71484375, \"#717526\"], [0.71484375, \"#7f8521\"], [0.7158203125, \"#7f8521\"], [0.7158203125, \"#828724\"], [0.716796875, \"#828724\"], [0.716796875, \"#808623\"], [0.7177734375, \"#808623\"], [0.7177734375, \"#757c1f\"], [0.71875, \"#757c1f\"], [0.71875, \"#93912b\"], [0.7197265625, \"#93912b\"], [0.7197265625, \"#93902d\"], [0.720703125, \"#93902d\"], [0.720703125, \"#928d2e\"], [0.7216796875, \"#928d2e\"], [0.7216796875, \"#8d892a\"], [0.72265625, \"#8d892a\"], [0.72265625, \"#8f8c2b\"], [0.7236328125, \"#8f8c2b\"], [0.7236328125, \"#938d2d\"], [0.724609375, \"#938d2d\"], [0.724609375, \"#92882e\"], [0.7255859375, \"#92882e\"], [0.7255859375, \"#8b812a\"], [0.7265625, \"#8b812a\"], [0.7265625, \"#858327\"], [0.7275390625, \"#858327\"], [0.7275390625, \"#808327\"], [0.728515625, \"#808327\"], [0.728515625, \"#84812a\"], [0.7294921875, \"#84812a\"], [0.7294921875, \"#7a7822\"], [0.73046875, \"#7a7822\"], [0.73046875, \"#7a7824\"], [0.7314453125, \"#7a7824\"], [0.7314453125, \"#7e7c24\"], [0.732421875, \"#7e7c24\"], [0.732421875, \"#7d7d24\"], [0.7333984375, \"#7d7d24\"], [0.7333984375, \"#818125\"], [0.734375, \"#818125\"], [0.734375, \"#8a7b26\"], [0.7353515625, \"#8a7b26\"], [0.7353515625, \"#977231\"], [0.736328125, \"#977231\"], [0.736328125, \"#7e7324\"], [0.7373046875, \"#7e7324\"], [0.7373046875, \"#5a5925\"], [0.73828125, \"#5a5925\"], [0.73828125, \"#747b21\"], [0.7392578125, \"#747b21\"], [0.7392578125, \"#888321\"], [0.740234375, \"#888321\"], [0.740234375, \"#726f1f\"], [0.7412109375, \"#726f1f\"], [0.7412109375, \"#7b5f28\"], [0.7421875, \"#7b5f28\"], [0.7421875, \"#763a21\"], [0.7431640625, \"#763a21\"], [0.7431640625, \"#651d13\"], [0.744140625, \"#651d13\"], [0.744140625, \"#5a261e\"], [0.7451171875, \"#5a261e\"], [0.7451171875, \"#55591c\"], [0.74609375, \"#55591c\"], [0.74609375, \"#747c18\"], [0.7470703125, \"#747c18\"], [0.7470703125, \"#808523\"], [0.748046875, \"#808523\"], [0.748046875, \"#858a27\"], [0.7490234375, \"#858a27\"], [0.7490234375, \"#858a2a\"], [0.75, \"#858a2a\"], [0.75, \"#8b8824\"], [0.7509765625, \"#8b8824\"], [0.7509765625, \"#878726\"], [0.751953125, \"#878726\"], [0.751953125, \"#918a2c\"], [0.7529296875, \"#918a2c\"], [0.7529296875, \"#948a2f\"], [0.75390625, \"#948a2f\"], [0.75390625, \"#928c33\"], [0.7548828125, \"#928c33\"], [0.7548828125, \"#928b30\"], [0.755859375, \"#928b30\"], [0.755859375, \"#8d832a\"], [0.7568359375, \"#8d832a\"], [0.7568359375, \"#8c832a\"], [0.7578125, \"#8c832a\"], [0.7578125, \"#8e872d\"], [0.7587890625, \"#8e872d\"], [0.7587890625, \"#878228\"], [0.759765625, \"#878228\"], [0.759765625, \"#878528\"], [0.7607421875, \"#878528\"], [0.7607421875, \"#787e22\"], [0.76171875, \"#787e22\"], [0.76171875, \"#747a22\"], [0.7626953125, \"#747a22\"], [0.7626953125, \"#747721\"], [0.763671875, \"#747721\"], [0.763671875, \"#6f7520\"], [0.7646484375, \"#6f7520\"], [0.7646484375, \"#62622a\"], [0.765625, \"#62622a\"], [0.765625, \"#69572e\"], [0.7666015625, \"#69572e\"], [0.7666015625, \"#906931\"], [0.767578125, \"#906931\"], [0.767578125, \"#7a681f\"], [0.7685546875, \"#7a681f\"], [0.7685546875, \"#6d6917\"], [0.76953125, \"#6d6917\"], [0.76953125, \"#777b20\"], [0.7705078125, \"#777b20\"], [0.7705078125, \"#75741e\"], [0.771484375, \"#75741e\"], [0.771484375, \"#75761d\"], [0.7724609375, \"#75761d\"], [0.7724609375, \"#767a1e\"], [0.7734375, \"#767a1e\"], [0.7734375, \"#724819\"], [0.7744140625, \"#724819\"], [0.7744140625, \"#831d11\"], [0.775390625, \"#831d11\"], [0.775390625, \"#6f1f18\"], [0.7763671875, \"#6f1f18\"], [0.7763671875, \"#504b22\"], [0.77734375, \"#504b22\"], [0.77734375, \"#747d17\"], [0.7783203125, \"#747d17\"], [0.7783203125, \"#777d1e\"], [0.779296875, \"#777d1e\"], [0.779296875, \"#808626\"], [0.7802734375, \"#808626\"], [0.7802734375, \"#818425\"], [0.78125, \"#818425\"], [0.78125, \"#908a2e\"], [0.7822265625, \"#908a2e\"], [0.7822265625, \"#8f872f\"], [0.783203125, \"#8f872f\"], [0.783203125, \"#918831\"], [0.7841796875, \"#918831\"], [0.7841796875, \"#958832\"], [0.78515625, \"#958832\"], [0.78515625, \"#938831\"], [0.7861328125, \"#938831\"], [0.7861328125, \"#8e842b\"], [0.787109375, \"#8e842b\"], [0.787109375, \"#8d862b\"], [0.7880859375, \"#8d862b\"], [0.7880859375, \"#828224\"], [0.7890625, \"#828224\"], [0.7890625, \"#828225\"], [0.7900390625, \"#828225\"], [0.7900390625, \"#828227\"], [0.791015625, \"#828227\"], [0.791015625, \"#7c8122\"], [0.7919921875, \"#7c8122\"], [0.7919921875, \"#6d791b\"], [0.79296875, \"#6d791b\"], [0.79296875, \"#6c7618\"], [0.7939453125, \"#6c7618\"], [0.7939453125, \"#757a21\"], [0.794921875, \"#757a21\"], [0.794921875, \"#6b7120\"], [0.7958984375, \"#6b7120\"], [0.7958984375, \"#473e1e\"], [0.796875, \"#473e1e\"], [0.796875, \"#46372a\"], [0.7978515625, \"#46372a\"], [0.7978515625, \"#6f5730\"], [0.798828125, \"#6f5730\"], [0.798828125, \"#77681e\"], [0.7998046875, \"#77681e\"], [0.7998046875, \"#6e6b19\"], [0.80078125, \"#6e6b19\"], [0.80078125, \"#76771f\"], [0.8017578125, \"#76771f\"], [0.8017578125, \"#74771f\"], [0.802734375, \"#74771f\"], [0.802734375, \"#6b7218\"], [0.8037109375, \"#6b7218\"], [0.8037109375, \"#687116\"], [0.8046875, \"#687116\"], [0.8046875, \"#555117\"], [0.8056640625, \"#555117\"], [0.8056640625, \"#66190f\"], [0.806640625, \"#66190f\"], [0.806640625, \"#64150b\"], [0.8076171875, \"#64150b\"], [0.8076171875, \"#49451f\"], [0.80859375, \"#49451f\"], [0.80859375, \"#757e1d\"], [0.8095703125, \"#757e1d\"], [0.8095703125, \"#707619\"], [0.810546875, \"#707619\"], [0.810546875, \"#798022\"], [0.8115234375, \"#798022\"], [0.8115234375, \"#777e22\"], [0.8125, \"#777e22\"], [0.8125, \"#928c31\"], [0.8134765625, \"#928c31\"], [0.8134765625, \"#8f8830\"], [0.814453125, \"#8f8830\"], [0.814453125, \"#8d862e\"], [0.8154296875, \"#8d862e\"], [0.8154296875, \"#928b31\"], [0.81640625, \"#928b31\"], [0.81640625, \"#8b862a\"], [0.8173828125, \"#8b862a\"], [0.8173828125, \"#878627\"], [0.818359375, \"#878627\"], [0.818359375, \"#878726\"], [0.8193359375, \"#878726\"], [0.8193359375, \"#808322\"], [0.8203125, \"#808322\"], [0.8203125, \"#7d8122\"], [0.8212890625, \"#7d8122\"], [0.8212890625, \"#7f8327\"], [0.822265625, \"#7f8327\"], [0.822265625, \"#777e21\"], [0.8232421875, \"#777e21\"], [0.8232421875, \"#6d751c\"], [0.82421875, \"#6d751c\"], [0.82421875, \"#636c11\"], [0.8251953125, \"#636c11\"], [0.8251953125, \"#6e731c\"], [0.826171875, \"#6e731c\"], [0.826171875, \"#60631b\"], [0.8271484375, \"#60631b\"], [0.8271484375, \"#6f2f1e\"], [0.828125, \"#6f2f1e\"], [0.828125, \"#6f312a\"], [0.8291015625, \"#6f312a\"], [0.8291015625, \"#51452c\"], [0.830078125, \"#51452c\"], [0.830078125, \"#736720\"], [0.8310546875, \"#736720\"], [0.8310546875, \"#656b1a\"], [0.83203125, \"#656b1a\"], [0.83203125, \"#6c701d\"], [0.8330078125, \"#6c701d\"], [0.8330078125, \"#656e19\"], [0.833984375, \"#656e19\"], [0.833984375, \"#616c16\"], [0.8349609375, \"#616c16\"], [0.8349609375, \"#606a15\"], [0.8359375, \"#606a15\"], [0.8359375, \"#4c5416\"], [0.8369140625, \"#4c5416\"], [0.8369140625, \"#53260f\"], [0.837890625, \"#53260f\"], [0.837890625, \"#50170e\"], [0.8388671875, \"#50170e\"], [0.8388671875, \"#414515\"], [0.83984375, \"#414515\"], [0.83984375, \"#767e20\"], [0.8408203125, \"#767e20\"], [0.8408203125, \"#707618\"], [0.841796875, \"#707618\"], [0.841796875, \"#717819\"], [0.8427734375, \"#717819\"], [0.8427734375, \"#747c1e\"], [0.84375, \"#747c1e\"], [0.84375, \"#8c8929\"], [0.8447265625, \"#8c8929\"], [0.8447265625, \"#7d8123\"], [0.845703125, \"#7d8123\"], [0.845703125, \"#848629\"], [0.8466796875, \"#848629\"], [0.8466796875, \"#8b8b2c\"], [0.84765625, \"#8b8b2c\"], [0.84765625, \"#7d8221\"], [0.8486328125, \"#7d8221\"], [0.8486328125, \"#7c8622\"], [0.849609375, \"#7c8622\"], [0.849609375, \"#808623\"], [0.8505859375, \"#808623\"], [0.8505859375, \"#828323\"], [0.8515625, \"#828323\"], [0.8515625, \"#7e8123\"], [0.8525390625, \"#7e8123\"], [0.8525390625, \"#7f8226\"], [0.853515625, \"#7f8226\"], [0.853515625, \"#777b20\"], [0.8544921875, \"#777b20\"], [0.8544921875, \"#72761f\"], [0.85546875, \"#72761f\"], [0.85546875, \"#676e18\"], [0.8564453125, \"#676e18\"], [0.8564453125, \"#6d721e\"], [0.857421875, \"#6d721e\"], [0.857421875, \"#5e5f1c\"], [0.8583984375, \"#5e5f1c\"], [0.8583984375, \"#7a2d17\"], [0.859375, \"#7a2d17\"], [0.859375, \"#89291b\"], [0.8603515625, \"#89291b\"], [0.8603515625, \"#4c3c27\"], [0.861328125, \"#4c3c27\"], [0.861328125, \"#656822\"], [0.8623046875, \"#656822\"], [0.8623046875, \"#606919\"], [0.86328125, \"#606919\"], [0.86328125, \"#61671c\"], [0.8642578125, \"#61671c\"], [0.8642578125, \"#525e11\"], [0.865234375, \"#525e11\"], [0.865234375, \"#556213\"], [0.8662109375, \"#556213\"], [0.8662109375, \"#596316\"], [0.8671875, \"#596316\"], [0.8671875, \"#575e15\"], [0.8681640625, \"#575e15\"], [0.8681640625, \"#564e18\"], [0.869140625, \"#564e18\"], [0.869140625, \"#423516\"], [0.8701171875, \"#423516\"], [0.8701171875, \"#4d5514\"], [0.87109375, \"#4d5514\"], [0.87109375, \"#747a1c\"], [0.8720703125, \"#747a1c\"], [0.8720703125, \"#757a1c\"], [0.873046875, \"#757a1c\"], [0.873046875, \"#7a811f\"], [0.8740234375, \"#7a811f\"], [0.8740234375, \"#7e8320\"], [0.875, \"#7e8320\"], [0.875, \"#89882a\"], [0.8759765625, \"#89882a\"], [0.8759765625, \"#757c20\"], [0.876953125, \"#757c20\"], [0.876953125, \"#798123\"], [0.8779296875, \"#798123\"], [0.8779296875, \"#838726\"], [0.87890625, \"#838726\"], [0.87890625, \"#798020\"], [0.8798828125, \"#798020\"], [0.8798828125, \"#7b8325\"], [0.880859375, \"#7b8325\"], [0.880859375, \"#808427\"], [0.8818359375, \"#808427\"], [0.8818359375, \"#7a7d22\"], [0.8828125, \"#7a7d22\"], [0.8828125, \"#777b20\"], [0.8837890625, \"#777b20\"], [0.8837890625, \"#777b20\"], [0.884765625, \"#777b20\"], [0.884765625, \"#72781b\"], [0.8857421875, \"#72781b\"], [0.8857421875, \"#6f771d\"], [0.88671875, \"#6f771d\"], [0.88671875, \"#70771e\"], [0.8876953125, \"#70771e\"], [0.8876953125, \"#70761d\"], [0.888671875, \"#70761d\"], [0.888671875, \"#5f651c\"], [0.8896484375, \"#5f651c\"], [0.8896484375, \"#6c3017\"], [0.890625, \"#6c3017\"], [0.890625, \"#842113\"], [0.8916015625, \"#842113\"], [0.8916015625, \"#442f1d\"], [0.892578125, \"#442f1d\"], [0.892578125, \"#535c1b\"], [0.8935546875, \"#535c1b\"], [0.8935546875, \"#616a1c\"], [0.89453125, \"#616a1c\"], [0.89453125, \"#5e661c\"], [0.8955078125, \"#5e661c\"], [0.8955078125, \"#576516\"], [0.896484375, \"#576516\"], [0.896484375, \"#5c6917\"], [0.8974609375, \"#5c6917\"], [0.8974609375, \"#666e1e\"], [0.8984375, \"#666e1e\"], [0.8984375, \"#6a711e\"], [0.8994140625, \"#6a711e\"], [0.8994140625, \"#6b7022\"], [0.900390625, \"#6b7022\"], [0.900390625, \"#5d6319\"], [0.9013671875, \"#5d6319\"], [0.9013671875, \"#6a701c\"], [0.90234375, \"#6a701c\"], [0.90234375, \"#7a7d22\"], [0.9033203125, \"#7a7d22\"], [0.9033203125, \"#797e1f\"], [0.904296875, \"#797e1f\"], [0.904296875, \"#787e1b\"], [0.9052734375, \"#787e1b\"], [0.9052734375, \"#808621\"], [0.90625, \"#808621\"], [0.90625, \"#858227\"], [0.9072265625, \"#858227\"], [0.9072265625, \"#7b7f24\"], [0.908203125, \"#7b7f24\"], [0.908203125, \"#7c8223\"], [0.9091796875, \"#7c8223\"], [0.9091796875, \"#818523\"], [0.91015625, \"#818523\"], [0.91015625, \"#7c8126\"], [0.9111328125, \"#7c8126\"], [0.9111328125, \"#7d822b\"], [0.912109375, \"#7d822b\"], [0.912109375, \"#81852a\"], [0.9130859375, \"#81852a\"], [0.9130859375, \"#7e8028\"], [0.9140625, \"#7e8028\"], [0.9140625, \"#7e8128\"], [0.9150390625, \"#7e8128\"], [0.9150390625, \"#7a7d24\"], [0.916015625, \"#7a7d24\"], [0.916015625, \"#747a1f\"], [0.9169921875, \"#747a1f\"], [0.9169921875, \"#6e771e\"], [0.91796875, \"#6e771e\"], [0.91796875, \"#6b7519\"], [0.9189453125, \"#6b7519\"], [0.9189453125, \"#6c7319\"], [0.919921875, \"#6c7319\"], [0.919921875, \"#5e6d1a\"], [0.9208984375, \"#5e6d1a\"], [0.9208984375, \"#654018\"], [0.921875, \"#654018\"], [0.921875, \"#762013\"], [0.9228515625, \"#762013\"], [0.9228515625, \"#392817\"], [0.923828125, \"#392817\"], [0.923828125, \"#4c5819\"], [0.9248046875, \"#4c5819\"], [0.9248046875, \"#616d1f\"], [0.92578125, \"#616d1f\"], [0.92578125, \"#656f1f\"], [0.9267578125, \"#656f1f\"], [0.9267578125, \"#62701b\"], [0.927734375, \"#62701b\"], [0.927734375, \"#65721d\"], [0.9287109375, \"#65721d\"], [0.9287109375, \"#6d7520\"], [0.9296875, \"#6d7520\"], [0.9296875, \"#6f7722\"], [0.9306640625, \"#6f7722\"], [0.9306640625, \"#6f7623\"], [0.931640625, \"#6f7623\"], [0.931640625, \"#687219\"], [0.9326171875, \"#687219\"], [0.9326171875, \"#717a1e\"], [0.93359375, \"#717a1e\"], [0.93359375, \"#7a7f20\"], [0.9345703125, \"#7a7f20\"], [0.9345703125, \"#767d1e\"], [0.935546875, \"#767d1e\"], [0.935546875, \"#727a1a\"], [0.9365234375, \"#727a1a\"], [0.9365234375, \"#737d1b\"], [0.9375, \"#737d1b\"], [0.9375, \"#7b7d24\"], [0.9384765625, \"#7b7d24\"], [0.9384765625, \"#7c7f24\"], [0.939453125, \"#7c7f24\"], [0.939453125, \"#7e8120\"], [0.9404296875, \"#7e8120\"], [0.9404296875, \"#828523\"], [0.94140625, \"#828523\"], [0.94140625, \"#808628\"], [0.9423828125, \"#808628\"], [0.9423828125, \"#808729\"], [0.943359375, \"#808729\"], [0.943359375, \"#858929\"], [0.9443359375, \"#858929\"], [0.9443359375, \"#848628\"], [0.9453125, \"#848628\"], [0.9453125, \"#8a8a2c\"], [0.9462890625, \"#8a8a2c\"], [0.9462890625, \"#848429\"], [0.947265625, \"#848429\"], [0.947265625, \"#757a22\"], [0.9482421875, \"#757a22\"], [0.9482421875, \"#6a741d\"], [0.94921875, \"#6a741d\"], [0.94921875, \"#687417\"], [0.9501953125, \"#687417\"], [0.9501953125, \"#65721a\"], [0.951171875, \"#65721a\"], [0.951171875, \"#606c18\"], [0.9521484375, \"#606c18\"], [0.9521484375, \"#645e1d\"], [0.953125, \"#645e1d\"], [0.953125, \"#5a351d\"], [0.9541015625, \"#5a351d\"], [0.9541015625, \"#2f2c15\"], [0.955078125, \"#2f2c15\"], [0.955078125, \"#526019\"], [0.9560546875, \"#526019\"], [0.9560546875, \"#62721e\"], [0.95703125, \"#62721e\"], [0.95703125, \"#68741f\"], [0.9580078125, \"#68741f\"], [0.9580078125, \"#5f6d18\"], [0.958984375, \"#5f6d18\"], [0.958984375, \"#606d17\"], [0.9599609375, \"#606d17\"], [0.9599609375, \"#6b731c\"], [0.9609375, \"#6b731c\"], [0.9609375, \"#6d771d\"], [0.9619140625, \"#6d771d\"], [0.9619140625, \"#6d7920\"], [0.962890625, \"#6d7920\"], [0.962890625, \"#69751d\"], [0.9638671875, \"#69751d\"], [0.9638671875, \"#6c771d\"], [0.96484375, \"#6c771d\"], [0.96484375, \"#757d1f\"], [0.9658203125, \"#757d1f\"], [0.9658203125, \"#707a1a\"], [0.966796875, \"#707a1a\"], [0.966796875, \"#6c771b\"], [0.9677734375, \"#6c771b\"], [0.9677734375, \"#687716\"], [0.96875, \"#687716\"], [0.96875, \"#7d802a\"], [0.9697265625, \"#7d802a\"], [0.9697265625, \"#81842b\"], [0.970703125, \"#81842b\"], [0.970703125, \"#7e8224\"], [0.9716796875, \"#7e8224\"], [0.9716796875, \"#828524\"], [0.97265625, \"#828524\"], [0.97265625, \"#868c28\"], [0.9736328125, \"#868c28\"], [0.9736328125, \"#7c8523\"], [0.974609375, \"#7c8523\"], [0.974609375, \"#828923\"], [0.9755859375, \"#828923\"], [0.9755859375, \"#848625\"], [0.9765625, \"#848625\"], [0.9765625, \"#878a26\"], [0.9775390625, \"#878a26\"], [0.9775390625, \"#838626\"], [0.978515625, \"#838626\"], [0.978515625, \"#797f23\"], [0.9794921875, \"#797f23\"], [0.9794921875, \"#6e781f\"], [0.98046875, \"#6e781f\"], [0.98046875, \"#6a781f\"], [0.9814453125, \"#6a781f\"], [0.9814453125, \"#63711c\"], [0.982421875, \"#63711c\"], [0.982421875, \"#626d1f\"], [0.9833984375, \"#626d1f\"], [0.9833984375, \"#687225\"], [0.984375, \"#687225\"], [0.984375, \"#595e26\"], [0.9853515625, \"#595e26\"], [0.9853515625, \"#424b19\"], [0.986328125, \"#424b19\"], [0.986328125, \"#556419\"], [0.9873046875, \"#556419\"], [0.9873046875, \"#5d6d19\"], [0.98828125, \"#5d6d19\"], [0.98828125, \"#616d1b\"], [0.9892578125, \"#616d1b\"], [0.9892578125, \"#5c6c17\"], [0.990234375, \"#5c6c17\"], [0.990234375, \"#5b6a13\"], [0.9912109375, \"#5b6a13\"], [0.9912109375, \"#66751b\"], [0.9921875, \"#66751b\"], [0.9921875, \"#65771b\"], [0.9931640625, \"#65771b\"], [0.9931640625, \"#69791c\"], [0.994140625, \"#69791c\"], [0.994140625, \"#6b7920\"], [0.9951171875, \"#6b7920\"], [0.9951171875, \"#6f7a1e\"], [0.99609375, \"#6f7a1e\"], [0.99609375, \"#787e24\"], [0.9970703125, \"#787e24\"], [0.9970703125, \"#768023\"], [0.998046875, \"#768023\"], [0.998046875, \"#707a21\"], [0.9990234375, \"#707a21\"], [0.9990234375, \"#69791a\"], [1.0, \"#69791a\"]], \"showscale\": false, \"type\": \"heatmap\", \"z\": [[0.96923828125, 0.97021484375, 0.97119140625, 0.97216796875, 0.97314453125, 0.97412109375, 0.97509765625, 0.97607421875, 0.97705078125, 0.97802734375, 0.97900390625, 0.97998046875, 0.98095703125, 0.98193359375, 0.98291015625, 0.98388671875, 0.98486328125, 0.98583984375, 0.98681640625, 0.98779296875, 0.98876953125, 0.98974609375, 0.99072265625, 0.99169921875, 0.99267578125, 0.99365234375, 0.99462890625, 0.99560546875, 0.99658203125, 0.99755859375, 0.99853515625, 0.99951171875], [0.93798828125, 0.93896484375, 0.93994140625, 0.94091796875, 0.94189453125, 0.94287109375, 0.94384765625, 0.94482421875, 0.94580078125, 0.94677734375, 0.94775390625, 0.94873046875, 0.94970703125, 0.95068359375, 0.95166015625, 0.95263671875, 0.95361328125, 0.95458984375, 0.95556640625, 0.95654296875, 0.95751953125, 0.95849609375, 0.95947265625, 0.96044921875, 0.96142578125, 0.96240234375, 0.96337890625, 0.96435546875, 0.96533203125, 0.96630859375, 0.96728515625, 0.96826171875], [0.90673828125, 0.90771484375, 0.90869140625, 0.90966796875, 0.91064453125, 0.91162109375, 0.91259765625, 0.91357421875, 0.91455078125, 0.91552734375, 0.91650390625, 0.91748046875, 0.91845703125, 0.91943359375, 0.92041015625, 0.92138671875, 0.92236328125, 0.92333984375, 0.92431640625, 0.92529296875, 0.92626953125, 0.92724609375, 0.92822265625, 0.92919921875, 0.93017578125, 0.93115234375, 0.93212890625, 0.93310546875, 0.93408203125, 0.93505859375, 0.93603515625, 0.93701171875], [0.87548828125, 0.87646484375, 0.87744140625, 0.87841796875, 0.87939453125, 0.88037109375, 0.88134765625, 0.88232421875, 0.88330078125, 0.88427734375, 0.88525390625, 0.88623046875, 0.88720703125, 0.88818359375, 0.88916015625, 0.89013671875, 0.89111328125, 0.89208984375, 0.89306640625, 0.89404296875, 0.89501953125, 0.89599609375, 0.89697265625, 0.89794921875, 0.89892578125, 0.89990234375, 0.90087890625, 0.90185546875, 0.90283203125, 0.90380859375, 0.90478515625, 0.90576171875], [0.84423828125, 0.84521484375, 0.84619140625, 0.84716796875, 0.84814453125, 0.84912109375, 0.85009765625, 0.85107421875, 0.85205078125, 0.85302734375, 0.85400390625, 0.85498046875, 0.85595703125, 0.85693359375, 0.85791015625, 0.85888671875, 0.85986328125, 0.86083984375, 0.86181640625, 0.86279296875, 0.86376953125, 0.86474609375, 0.86572265625, 0.86669921875, 0.86767578125, 0.86865234375, 0.86962890625, 0.87060546875, 0.87158203125, 0.87255859375, 0.87353515625, 0.87451171875], [0.81298828125, 0.81396484375, 0.81494140625, 0.81591796875, 0.81689453125, 0.81787109375, 0.81884765625, 0.81982421875, 0.82080078125, 0.82177734375, 0.82275390625, 0.82373046875, 0.82470703125, 0.82568359375, 0.82666015625, 0.82763671875, 0.82861328125, 0.82958984375, 0.83056640625, 0.83154296875, 0.83251953125, 0.83349609375, 0.83447265625, 0.83544921875, 0.83642578125, 0.83740234375, 0.83837890625, 0.83935546875, 0.84033203125, 0.84130859375, 0.84228515625, 0.84326171875], [0.78173828125, 0.78271484375, 0.78369140625, 0.78466796875, 0.78564453125, 0.78662109375, 0.78759765625, 0.78857421875, 0.78955078125, 0.79052734375, 0.79150390625, 0.79248046875, 0.79345703125, 0.79443359375, 0.79541015625, 0.79638671875, 0.79736328125, 0.79833984375, 0.79931640625, 0.80029296875, 0.80126953125, 0.80224609375, 0.80322265625, 0.80419921875, 0.80517578125, 0.80615234375, 0.80712890625, 0.80810546875, 0.80908203125, 0.81005859375, 0.81103515625, 0.81201171875], [0.75048828125, 0.75146484375, 0.75244140625, 0.75341796875, 0.75439453125, 0.75537109375, 0.75634765625, 0.75732421875, 0.75830078125, 0.75927734375, 0.76025390625, 0.76123046875, 0.76220703125, 0.76318359375, 0.76416015625, 0.76513671875, 0.76611328125, 0.76708984375, 0.76806640625, 0.76904296875, 0.77001953125, 0.77099609375, 0.77197265625, 0.77294921875, 0.77392578125, 0.77490234375, 0.77587890625, 0.77685546875, 0.77783203125, 0.77880859375, 0.77978515625, 0.78076171875], [0.71923828125, 0.72021484375, 0.72119140625, 0.72216796875, 0.72314453125, 0.72412109375, 0.72509765625, 0.72607421875, 0.72705078125, 0.72802734375, 0.72900390625, 0.72998046875, 0.73095703125, 0.73193359375, 0.73291015625, 0.73388671875, 0.73486328125, 0.73583984375, 0.73681640625, 0.73779296875, 0.73876953125, 0.73974609375, 0.74072265625, 0.74169921875, 0.74267578125, 0.74365234375, 0.74462890625, 0.74560546875, 0.74658203125, 0.74755859375, 0.74853515625, 0.74951171875], [0.68798828125, 0.68896484375, 0.68994140625, 0.69091796875, 0.69189453125, 0.69287109375, 0.69384765625, 0.69482421875, 0.69580078125, 0.69677734375, 0.69775390625, 0.69873046875, 0.69970703125, 0.70068359375, 0.70166015625, 0.70263671875, 0.70361328125, 0.70458984375, 0.70556640625, 0.70654296875, 0.70751953125, 0.70849609375, 0.70947265625, 0.71044921875, 0.71142578125, 0.71240234375, 0.71337890625, 0.71435546875, 0.71533203125, 0.71630859375, 0.71728515625, 0.71826171875], [0.65673828125, 0.65771484375, 0.65869140625, 0.65966796875, 0.66064453125, 0.66162109375, 0.66259765625, 0.66357421875, 0.66455078125, 0.66552734375, 0.66650390625, 0.66748046875, 0.66845703125, 0.66943359375, 0.67041015625, 0.67138671875, 0.67236328125, 0.67333984375, 0.67431640625, 0.67529296875, 0.67626953125, 0.67724609375, 0.67822265625, 0.67919921875, 0.68017578125, 0.68115234375, 0.68212890625, 0.68310546875, 0.68408203125, 0.68505859375, 0.68603515625, 0.68701171875], [0.62548828125, 0.62646484375, 0.62744140625, 0.62841796875, 0.62939453125, 0.63037109375, 0.63134765625, 0.63232421875, 0.63330078125, 0.63427734375, 0.63525390625, 0.63623046875, 0.63720703125, 0.63818359375, 0.63916015625, 0.64013671875, 0.64111328125, 0.64208984375, 0.64306640625, 0.64404296875, 0.64501953125, 0.64599609375, 0.64697265625, 0.64794921875, 0.64892578125, 0.64990234375, 0.65087890625, 0.65185546875, 0.65283203125, 0.65380859375, 0.65478515625, 0.65576171875], [0.59423828125, 0.59521484375, 0.59619140625, 0.59716796875, 0.59814453125, 0.59912109375, 0.60009765625, 0.60107421875, 0.60205078125, 0.60302734375, 0.60400390625, 0.60498046875, 0.60595703125, 0.60693359375, 0.60791015625, 0.60888671875, 0.60986328125, 0.61083984375, 0.61181640625, 0.61279296875, 0.61376953125, 0.61474609375, 0.61572265625, 0.61669921875, 0.61767578125, 0.61865234375, 0.61962890625, 0.62060546875, 0.62158203125, 0.62255859375, 0.62353515625, 0.62451171875], [0.56298828125, 0.56396484375, 0.56494140625, 0.56591796875, 0.56689453125, 0.56787109375, 0.56884765625, 0.56982421875, 0.57080078125, 0.57177734375, 0.57275390625, 0.57373046875, 0.57470703125, 0.57568359375, 0.57666015625, 0.57763671875, 0.57861328125, 0.57958984375, 0.58056640625, 0.58154296875, 0.58251953125, 0.58349609375, 0.58447265625, 0.58544921875, 0.58642578125, 0.58740234375, 0.58837890625, 0.58935546875, 0.59033203125, 0.59130859375, 0.59228515625, 0.59326171875], [0.53173828125, 0.53271484375, 0.53369140625, 0.53466796875, 0.53564453125, 0.53662109375, 0.53759765625, 0.53857421875, 0.53955078125, 0.54052734375, 0.54150390625, 0.54248046875, 0.54345703125, 0.54443359375, 0.54541015625, 0.54638671875, 0.54736328125, 0.54833984375, 0.54931640625, 0.55029296875, 0.55126953125, 0.55224609375, 0.55322265625, 0.55419921875, 0.55517578125, 0.55615234375, 0.55712890625, 0.55810546875, 0.55908203125, 0.56005859375, 0.56103515625, 0.56201171875], [0.50048828125, 0.50146484375, 0.50244140625, 0.50341796875, 0.50439453125, 0.50537109375, 0.50634765625, 0.50732421875, 0.50830078125, 0.50927734375, 0.51025390625, 0.51123046875, 0.51220703125, 0.51318359375, 0.51416015625, 0.51513671875, 0.51611328125, 0.51708984375, 0.51806640625, 0.51904296875, 0.52001953125, 0.52099609375, 0.52197265625, 0.52294921875, 0.52392578125, 0.52490234375, 0.52587890625, 0.52685546875, 0.52783203125, 0.52880859375, 0.52978515625, 0.53076171875], [0.46923828125, 0.47021484375, 0.47119140625, 0.47216796875, 0.47314453125, 0.47412109375, 0.47509765625, 0.47607421875, 0.47705078125, 0.47802734375, 0.47900390625, 0.47998046875, 0.48095703125, 0.48193359375, 0.48291015625, 0.48388671875, 0.48486328125, 0.48583984375, 0.48681640625, 0.48779296875, 0.48876953125, 0.48974609375, 0.49072265625, 0.49169921875, 0.49267578125, 0.49365234375, 0.49462890625, 0.49560546875, 0.49658203125, 0.49755859375, 0.49853515625, 0.49951171875], [0.43798828125, 0.43896484375, 0.43994140625, 0.44091796875, 0.44189453125, 0.44287109375, 0.44384765625, 0.44482421875, 0.44580078125, 0.44677734375, 0.44775390625, 0.44873046875, 0.44970703125, 0.45068359375, 0.45166015625, 0.45263671875, 0.45361328125, 0.45458984375, 0.45556640625, 0.45654296875, 0.45751953125, 0.45849609375, 0.45947265625, 0.46044921875, 0.46142578125, 0.46240234375, 0.46337890625, 0.46435546875, 0.46533203125, 0.46630859375, 0.46728515625, 0.46826171875], [0.40673828125, 0.40771484375, 0.40869140625, 0.40966796875, 0.41064453125, 0.41162109375, 0.41259765625, 0.41357421875, 0.41455078125, 0.41552734375, 0.41650390625, 0.41748046875, 0.41845703125, 0.41943359375, 0.42041015625, 0.42138671875, 0.42236328125, 0.42333984375, 0.42431640625, 0.42529296875, 0.42626953125, 0.42724609375, 0.42822265625, 0.42919921875, 0.43017578125, 0.43115234375, 0.43212890625, 0.43310546875, 0.43408203125, 0.43505859375, 0.43603515625, 0.43701171875], [0.37548828125, 0.37646484375, 0.37744140625, 0.37841796875, 0.37939453125, 0.38037109375, 0.38134765625, 0.38232421875, 0.38330078125, 0.38427734375, 0.38525390625, 0.38623046875, 0.38720703125, 0.38818359375, 0.38916015625, 0.39013671875, 0.39111328125, 0.39208984375, 0.39306640625, 0.39404296875, 0.39501953125, 0.39599609375, 0.39697265625, 0.39794921875, 0.39892578125, 0.39990234375, 0.40087890625, 0.40185546875, 0.40283203125, 0.40380859375, 0.40478515625, 0.40576171875], [0.34423828125, 0.34521484375, 0.34619140625, 0.34716796875, 0.34814453125, 0.34912109375, 0.35009765625, 0.35107421875, 0.35205078125, 0.35302734375, 0.35400390625, 0.35498046875, 0.35595703125, 0.35693359375, 0.35791015625, 0.35888671875, 0.35986328125, 0.36083984375, 0.36181640625, 0.36279296875, 0.36376953125, 0.36474609375, 0.36572265625, 0.36669921875, 0.36767578125, 0.36865234375, 0.36962890625, 0.37060546875, 0.37158203125, 0.37255859375, 0.37353515625, 0.37451171875], [0.31298828125, 0.31396484375, 0.31494140625, 0.31591796875, 0.31689453125, 0.31787109375, 0.31884765625, 0.31982421875, 0.32080078125, 0.32177734375, 0.32275390625, 0.32373046875, 0.32470703125, 0.32568359375, 0.32666015625, 0.32763671875, 0.32861328125, 0.32958984375, 0.33056640625, 0.33154296875, 0.33251953125, 0.33349609375, 0.33447265625, 0.33544921875, 0.33642578125, 0.33740234375, 0.33837890625, 0.33935546875, 0.34033203125, 0.34130859375, 0.34228515625, 0.34326171875], [0.28173828125, 0.28271484375, 0.28369140625, 0.28466796875, 0.28564453125, 0.28662109375, 0.28759765625, 0.28857421875, 0.28955078125, 0.29052734375, 0.29150390625, 0.29248046875, 0.29345703125, 0.29443359375, 0.29541015625, 0.29638671875, 0.29736328125, 0.29833984375, 0.29931640625, 0.30029296875, 0.30126953125, 0.30224609375, 0.30322265625, 0.30419921875, 0.30517578125, 0.30615234375, 0.30712890625, 0.30810546875, 0.30908203125, 0.31005859375, 0.31103515625, 0.31201171875], [0.25048828125, 0.25146484375, 0.25244140625, 0.25341796875, 0.25439453125, 0.25537109375, 0.25634765625, 0.25732421875, 0.25830078125, 0.25927734375, 0.26025390625, 0.26123046875, 0.26220703125, 0.26318359375, 0.26416015625, 0.26513671875, 0.26611328125, 0.26708984375, 0.26806640625, 0.26904296875, 0.27001953125, 0.27099609375, 0.27197265625, 0.27294921875, 0.27392578125, 0.27490234375, 0.27587890625, 0.27685546875, 0.27783203125, 0.27880859375, 0.27978515625, 0.28076171875], [0.21923828125, 0.22021484375, 0.22119140625, 0.22216796875, 0.22314453125, 0.22412109375, 0.22509765625, 0.22607421875, 0.22705078125, 0.22802734375, 0.22900390625, 0.22998046875, 0.23095703125, 0.23193359375, 0.23291015625, 0.23388671875, 0.23486328125, 0.23583984375, 0.23681640625, 0.23779296875, 0.23876953125, 0.23974609375, 0.24072265625, 0.24169921875, 0.24267578125, 0.24365234375, 0.24462890625, 0.24560546875, 0.24658203125, 0.24755859375, 0.24853515625, 0.24951171875], [0.18798828125, 0.18896484375, 0.18994140625, 0.19091796875, 0.19189453125, 0.19287109375, 0.19384765625, 0.19482421875, 0.19580078125, 0.19677734375, 0.19775390625, 0.19873046875, 0.19970703125, 0.20068359375, 0.20166015625, 0.20263671875, 0.20361328125, 0.20458984375, 0.20556640625, 0.20654296875, 0.20751953125, 0.20849609375, 0.20947265625, 0.21044921875, 0.21142578125, 0.21240234375, 0.21337890625, 0.21435546875, 0.21533203125, 0.21630859375, 0.21728515625, 0.21826171875], [0.15673828125, 0.15771484375, 0.15869140625, 0.15966796875, 0.16064453125, 0.16162109375, 0.16259765625, 0.16357421875, 0.16455078125, 0.16552734375, 0.16650390625, 0.16748046875, 0.16845703125, 0.16943359375, 0.17041015625, 0.17138671875, 0.17236328125, 0.17333984375, 0.17431640625, 0.17529296875, 0.17626953125, 0.17724609375, 0.17822265625, 0.17919921875, 0.18017578125, 0.18115234375, 0.18212890625, 0.18310546875, 0.18408203125, 0.18505859375, 0.18603515625, 0.18701171875], [0.12548828125, 0.12646484375, 0.12744140625, 0.12841796875, 0.12939453125, 0.13037109375, 0.13134765625, 0.13232421875, 0.13330078125, 0.13427734375, 0.13525390625, 0.13623046875, 0.13720703125, 0.13818359375, 0.13916015625, 0.14013671875, 0.14111328125, 0.14208984375, 0.14306640625, 0.14404296875, 0.14501953125, 0.14599609375, 0.14697265625, 0.14794921875, 0.14892578125, 0.14990234375, 0.15087890625, 0.15185546875, 0.15283203125, 0.15380859375, 0.15478515625, 0.15576171875], [0.09423828125, 0.09521484375, 0.09619140625, 0.09716796875, 0.09814453125, 0.09912109375, 0.10009765625, 0.10107421875, 0.10205078125, 0.10302734375, 0.10400390625, 0.10498046875, 0.10595703125, 0.10693359375, 0.10791015625, 0.10888671875, 0.10986328125, 0.11083984375, 0.11181640625, 0.11279296875, 0.11376953125, 0.11474609375, 0.11572265625, 0.11669921875, 0.11767578125, 0.11865234375, 0.11962890625, 0.12060546875, 0.12158203125, 0.12255859375, 0.12353515625, 0.12451171875], [0.06298828125, 0.06396484375, 0.06494140625, 0.06591796875, 0.06689453125, 0.06787109375, 0.06884765625, 0.06982421875, 0.07080078125, 0.07177734375, 0.07275390625, 0.07373046875, 0.07470703125, 0.07568359375, 0.07666015625, 0.07763671875, 0.07861328125, 0.07958984375, 0.08056640625, 0.08154296875, 0.08251953125, 0.08349609375, 0.08447265625, 0.08544921875, 0.08642578125, 0.08740234375, 0.08837890625, 0.08935546875, 0.09033203125, 0.09130859375, 0.09228515625, 0.09326171875], [0.03173828125, 0.03271484375, 0.03369140625, 0.03466796875, 0.03564453125, 0.03662109375, 0.03759765625, 0.03857421875, 0.03955078125, 0.04052734375, 0.04150390625, 0.04248046875, 0.04345703125, 0.04443359375, 0.04541015625, 0.04638671875, 0.04736328125, 0.04833984375, 0.04931640625, 0.05029296875, 0.05126953125, 0.05224609375, 0.05322265625, 0.05419921875, 0.05517578125, 0.05615234375, 0.05712890625, 0.05810546875, 0.05908203125, 0.06005859375, 0.06103515625, 0.06201171875], [0.00048828125, 0.00146484375, 0.00244140625, 0.00341796875, 0.00439453125, 0.00537109375, 0.00634765625, 0.00732421875, 0.00830078125, 0.00927734375, 0.01025390625, 0.01123046875, 0.01220703125, 0.01318359375, 0.01416015625, 0.01513671875, 0.01611328125, 0.01708984375, 0.01806640625, 0.01904296875, 0.02001953125, 0.02099609375, 0.02197265625, 0.02294921875, 0.02392578125, 0.02490234375, 0.02587890625, 0.02685546875, 0.02783203125, 0.02880859375, 0.02978515625, 0.03076171875]]}],\n",
       "                        {\"height\": 500, \"template\": {\"data\": {\"bar\": [{\"error_x\": {\"color\": \"#2a3f5f\"}, \"error_y\": {\"color\": \"#2a3f5f\"}, \"marker\": {\"line\": {\"color\": \"#E5ECF6\", \"width\": 0.5}}, \"type\": \"bar\"}], \"barpolar\": [{\"marker\": {\"line\": {\"color\": \"#E5ECF6\", \"width\": 0.5}}, \"type\": \"barpolar\"}], \"carpet\": [{\"aaxis\": {\"endlinecolor\": \"#2a3f5f\", \"gridcolor\": \"white\", \"linecolor\": \"white\", \"minorgridcolor\": \"white\", \"startlinecolor\": \"#2a3f5f\"}, \"baxis\": {\"endlinecolor\": \"#2a3f5f\", \"gridcolor\": \"white\", \"linecolor\": \"white\", \"minorgridcolor\": \"white\", \"startlinecolor\": \"#2a3f5f\"}, \"type\": \"carpet\"}], \"choropleth\": [{\"colorbar\": {\"outlinewidth\": 0, \"ticks\": \"\"}, \"type\": \"choropleth\"}], \"contour\": [{\"colorbar\": {\"outlinewidth\": 0, \"ticks\": \"\"}, \"colorscale\": [[0.0, \"#0d0887\"], [0.1111111111111111, \"#46039f\"], [0.2222222222222222, \"#7201a8\"], [0.3333333333333333, \"#9c179e\"], [0.4444444444444444, \"#bd3786\"], [0.5555555555555556, \"#d8576b\"], [0.6666666666666666, \"#ed7953\"], [0.7777777777777778, \"#fb9f3a\"], [0.8888888888888888, \"#fdca26\"], [1.0, \"#f0f921\"]], \"type\": \"contour\"}], \"contourcarpet\": [{\"colorbar\": {\"outlinewidth\": 0, \"ticks\": \"\"}, \"type\": \"contourcarpet\"}], \"heatmap\": [{\"colorbar\": {\"outlinewidth\": 0, \"ticks\": \"\"}, \"colorscale\": [[0.0, \"#0d0887\"], [0.1111111111111111, \"#46039f\"], [0.2222222222222222, \"#7201a8\"], [0.3333333333333333, \"#9c179e\"], [0.4444444444444444, \"#bd3786\"], [0.5555555555555556, \"#d8576b\"], [0.6666666666666666, \"#ed7953\"], [0.7777777777777778, \"#fb9f3a\"], [0.8888888888888888, \"#fdca26\"], [1.0, \"#f0f921\"]], \"type\": \"heatmap\"}], \"heatmapgl\": [{\"colorbar\": {\"outlinewidth\": 0, \"ticks\": \"\"}, \"colorscale\": [[0.0, \"#0d0887\"], [0.1111111111111111, \"#46039f\"], [0.2222222222222222, \"#7201a8\"], [0.3333333333333333, \"#9c179e\"], [0.4444444444444444, \"#bd3786\"], [0.5555555555555556, \"#d8576b\"], [0.6666666666666666, \"#ed7953\"], [0.7777777777777778, \"#fb9f3a\"], [0.8888888888888888, \"#fdca26\"], [1.0, \"#f0f921\"]], \"type\": \"heatmapgl\"}], \"histogram\": [{\"marker\": {\"colorbar\": {\"outlinewidth\": 0, \"ticks\": \"\"}}, \"type\": \"histogram\"}], \"histogram2d\": [{\"colorbar\": {\"outlinewidth\": 0, \"ticks\": \"\"}, \"colorscale\": [[0.0, \"#0d0887\"], [0.1111111111111111, \"#46039f\"], [0.2222222222222222, \"#7201a8\"], [0.3333333333333333, \"#9c179e\"], [0.4444444444444444, \"#bd3786\"], [0.5555555555555556, \"#d8576b\"], [0.6666666666666666, \"#ed7953\"], [0.7777777777777778, \"#fb9f3a\"], [0.8888888888888888, \"#fdca26\"], [1.0, \"#f0f921\"]], \"type\": \"histogram2d\"}], \"histogram2dcontour\": [{\"colorbar\": {\"outlinewidth\": 0, \"ticks\": \"\"}, \"colorscale\": [[0.0, \"#0d0887\"], [0.1111111111111111, \"#46039f\"], [0.2222222222222222, \"#7201a8\"], [0.3333333333333333, \"#9c179e\"], [0.4444444444444444, \"#bd3786\"], [0.5555555555555556, \"#d8576b\"], [0.6666666666666666, \"#ed7953\"], [0.7777777777777778, \"#fb9f3a\"], [0.8888888888888888, \"#fdca26\"], [1.0, \"#f0f921\"]], \"type\": \"histogram2dcontour\"}], \"mesh3d\": [{\"colorbar\": {\"outlinewidth\": 0, \"ticks\": \"\"}, \"type\": \"mesh3d\"}], \"parcoords\": [{\"line\": {\"colorbar\": {\"outlinewidth\": 0, \"ticks\": \"\"}}, \"type\": \"parcoords\"}], \"pie\": [{\"automargin\": true, \"type\": \"pie\"}], \"scatter\": [{\"marker\": {\"colorbar\": {\"outlinewidth\": 0, \"ticks\": \"\"}}, \"type\": \"scatter\"}], \"scatter3d\": [{\"line\": {\"colorbar\": {\"outlinewidth\": 0, \"ticks\": \"\"}}, \"marker\": {\"colorbar\": {\"outlinewidth\": 0, \"ticks\": \"\"}}, \"type\": \"scatter3d\"}], \"scattercarpet\": [{\"marker\": {\"colorbar\": {\"outlinewidth\": 0, \"ticks\": \"\"}}, \"type\": \"scattercarpet\"}], \"scattergeo\": [{\"marker\": {\"colorbar\": {\"outlinewidth\": 0, \"ticks\": \"\"}}, \"type\": \"scattergeo\"}], \"scattergl\": [{\"marker\": {\"colorbar\": {\"outlinewidth\": 0, \"ticks\": \"\"}}, \"type\": \"scattergl\"}], \"scattermapbox\": [{\"marker\": {\"colorbar\": {\"outlinewidth\": 0, \"ticks\": \"\"}}, \"type\": \"scattermapbox\"}], \"scatterpolar\": [{\"marker\": {\"colorbar\": {\"outlinewidth\": 0, \"ticks\": \"\"}}, \"type\": \"scatterpolar\"}], \"scatterpolargl\": [{\"marker\": {\"colorbar\": {\"outlinewidth\": 0, \"ticks\": \"\"}}, \"type\": \"scatterpolargl\"}], \"scatterternary\": [{\"marker\": {\"colorbar\": {\"outlinewidth\": 0, \"ticks\": \"\"}}, \"type\": \"scatterternary\"}], \"surface\": [{\"colorbar\": {\"outlinewidth\": 0, \"ticks\": \"\"}, \"colorscale\": [[0.0, \"#0d0887\"], [0.1111111111111111, \"#46039f\"], [0.2222222222222222, \"#7201a8\"], [0.3333333333333333, \"#9c179e\"], [0.4444444444444444, \"#bd3786\"], [0.5555555555555556, \"#d8576b\"], [0.6666666666666666, \"#ed7953\"], [0.7777777777777778, \"#fb9f3a\"], [0.8888888888888888, \"#fdca26\"], [1.0, \"#f0f921\"]], \"type\": \"surface\"}], \"table\": [{\"cells\": {\"fill\": {\"color\": \"#EBF0F8\"}, \"line\": {\"color\": \"white\"}}, \"header\": {\"fill\": {\"color\": \"#C8D4E3\"}, \"line\": {\"color\": \"white\"}}, \"type\": \"table\"}]}, \"layout\": {\"annotationdefaults\": {\"arrowcolor\": \"#2a3f5f\", \"arrowhead\": 0, \"arrowwidth\": 1}, \"coloraxis\": {\"colorbar\": {\"outlinewidth\": 0, \"ticks\": \"\"}}, \"colorscale\": {\"diverging\": [[0, \"#8e0152\"], [0.1, \"#c51b7d\"], [0.2, \"#de77ae\"], [0.3, \"#f1b6da\"], [0.4, \"#fde0ef\"], [0.5, \"#f7f7f7\"], [0.6, \"#e6f5d0\"], [0.7, \"#b8e186\"], [0.8, \"#7fbc41\"], [0.9, \"#4d9221\"], [1, \"#276419\"]], \"sequential\": [[0.0, \"#0d0887\"], [0.1111111111111111, \"#46039f\"], [0.2222222222222222, \"#7201a8\"], [0.3333333333333333, \"#9c179e\"], [0.4444444444444444, \"#bd3786\"], [0.5555555555555556, \"#d8576b\"], [0.6666666666666666, \"#ed7953\"], [0.7777777777777778, \"#fb9f3a\"], [0.8888888888888888, \"#fdca26\"], [1.0, \"#f0f921\"]], \"sequentialminus\": [[0.0, \"#0d0887\"], [0.1111111111111111, \"#46039f\"], [0.2222222222222222, \"#7201a8\"], [0.3333333333333333, \"#9c179e\"], [0.4444444444444444, \"#bd3786\"], [0.5555555555555556, \"#d8576b\"], [0.6666666666666666, \"#ed7953\"], [0.7777777777777778, \"#fb9f3a\"], [0.8888888888888888, \"#fdca26\"], [1.0, \"#f0f921\"]]}, \"colorway\": [\"#636efa\", \"#EF553B\", \"#00cc96\", \"#ab63fa\", \"#FFA15A\", \"#19d3f3\", \"#FF6692\", \"#B6E880\", \"#FF97FF\", \"#FECB52\"], \"font\": {\"color\": \"#2a3f5f\"}, \"geo\": {\"bgcolor\": \"white\", \"lakecolor\": \"white\", \"landcolor\": \"#E5ECF6\", \"showlakes\": true, \"showland\": true, \"subunitcolor\": \"white\"}, \"hoverlabel\": {\"align\": \"left\"}, \"hovermode\": \"closest\", \"mapbox\": {\"style\": \"light\"}, \"paper_bgcolor\": \"white\", \"plot_bgcolor\": \"#E5ECF6\", \"polar\": {\"angularaxis\": {\"gridcolor\": \"white\", \"linecolor\": \"white\", \"ticks\": \"\"}, \"bgcolor\": \"#E5ECF6\", \"radialaxis\": {\"gridcolor\": \"white\", \"linecolor\": \"white\", \"ticks\": \"\"}}, \"scene\": {\"xaxis\": {\"backgroundcolor\": \"#E5ECF6\", \"gridcolor\": \"white\", \"gridwidth\": 2, \"linecolor\": \"white\", \"showbackground\": true, \"ticks\": \"\", \"zerolinecolor\": \"white\"}, \"yaxis\": {\"backgroundcolor\": \"#E5ECF6\", \"gridcolor\": \"white\", \"gridwidth\": 2, \"linecolor\": \"white\", \"showbackground\": true, \"ticks\": \"\", \"zerolinecolor\": \"white\"}, \"zaxis\": {\"backgroundcolor\": \"#E5ECF6\", \"gridcolor\": \"white\", \"gridwidth\": 2, \"linecolor\": \"white\", \"showbackground\": true, \"ticks\": \"\", \"zerolinecolor\": \"white\"}}, \"shapedefaults\": {\"line\": {\"color\": \"#2a3f5f\"}}, \"ternary\": {\"aaxis\": {\"gridcolor\": \"white\", \"linecolor\": \"white\", \"ticks\": \"\"}, \"baxis\": {\"gridcolor\": \"white\", \"linecolor\": \"white\", \"ticks\": \"\"}, \"bgcolor\": \"#E5ECF6\", \"caxis\": {\"gridcolor\": \"white\", \"linecolor\": \"white\", \"ticks\": \"\"}}, \"title\": {\"x\": 0.05}, \"xaxis\": {\"automargin\": true, \"gridcolor\": \"white\", \"linecolor\": \"white\", \"ticks\": \"\", \"title\": {\"standoff\": 15}, \"zerolinecolor\": \"white\", \"zerolinewidth\": 2}, \"yaxis\": {\"automargin\": true, \"gridcolor\": \"white\", \"linecolor\": \"white\", \"ticks\": \"\", \"title\": {\"standoff\": 15}, \"zerolinecolor\": \"white\", \"zerolinewidth\": 2}}}, \"width\": 500},\n",
       "                        {\"responsive\": true}\n",
       "                    ).then(function(){\n",
       "                            \n",
       "var gd = document.getElementById('270c7dda-605d-4e23-bfc7-e57a5fc07dc5');\n",
       "var x = new MutationObserver(function (mutations, observer) {{\n",
       "        var display = window.getComputedStyle(gd).display;\n",
       "        if (!display || display === 'none') {{\n",
       "            console.log([gd, 'removed!']);\n",
       "            Plotly.purge(gd);\n",
       "            observer.disconnect();\n",
       "        }}\n",
       "}});\n",
       "\n",
       "// Listen for the removal of the full notebook cells\n",
       "var notebookContainer = gd.closest('#notebook-container');\n",
       "if (notebookContainer) {{\n",
       "    x.observe(notebookContainer, {childList: true});\n",
       "}}\n",
       "\n",
       "// Listen for the clearing of the current output cell\n",
       "var outputEl = gd.closest('.output');\n",
       "if (outputEl) {{\n",
       "    x.observe(outputEl, {childList: true});\n",
       "}}\n",
       "\n",
       "                        })\n",
       "                };\n",
       "                });\n",
       "            </script>\n",
       "        </div>"
      ]
     },
     "metadata": {},
     "output_type": "display_data"
    }
   ],
   "source": [
    "from PIL import Image\n",
    "\n",
    "def discrete_colorscale(bvals, colors):\n",
    "    \"\"\"\n",
    "    bvals - list of values bounding intervals/ranges of interest\n",
    "    colors - list of rgb or hex colorcodes for values in [bvals[k], bvals[k+1]],0<=k < len(bvals)-1\n",
    "    returns the plotly  discrete colorscale\n",
    "    \"\"\"\n",
    "    if len(bvals) != len(colors)+1:\n",
    "        raise ValueError('len(boundary values) should be equal to  len(colors)+1')\n",
    "    bvals = sorted(bvals)     \n",
    "    nvals = [(v-bvals[0])/(bvals[-1]-bvals[0]) for v in bvals]  #normalized values\n",
    "    \n",
    "    dcolorscale = [] #discrete colorscale\n",
    "    for k in range(len(colors)):\n",
    "        dcolorscale.extend([[nvals[k], colors[k]], [nvals[k+1], colors[k]]])\n",
    "    return dcolorscale    \n",
    "bvals = [2, 15, 40, 65, 90]\n",
    "\n",
    "colors = ['#09ffff', '#19d3f3', '#e763fa' , '#ab63fa']\n",
    "\n",
    "dcolorsc = discrete_colorscale(bvals, colors)\n",
    "\n",
    "bvals = np.array(bvals)\n",
    "tickvals = [np.mean(bvals[k:k+2]) for k in range(len(bvals)-1)] #position with respect to bvals where ticktext is displayed\n",
    "ticktext = [f'<{bvals[1]}'] + [f'{bvals[k]}-{bvals[k+1]}' for k in range(1, len(bvals)-2)]+[f'>{bvals[-2]}']\n",
    "\n",
    "z = np.random.randint(bvals[0],  bvals[-1]+1, size=(20, 20))\n",
    "heatmap = go.Heatmap(z=z, \n",
    "                     colorscale = dcolorsc, \n",
    "                     colorbar = dict(thickness=25, \n",
    "                                     tickvals=tickvals, \n",
    "                                     ticktext=ticktext))\n",
    "fig = go.Figure(data=[heatmap])\n",
    "fig.update_layout(width=500, height=500)\n",
    "\n",
    "#fig.show()\n",
    "#im.show()\n",
    "print(dcolorsc)\n",
    "\n",
    "\n",
    "\n",
    "from PIL import Image\n",
    "\n",
    "def rgb2hex(r, g, b):\n",
    "    return '#{:02x}{:02x}{:02x}'.format(r, g, b)\n",
    "\n",
    "\n",
    "def image2heatmap(image_path,resize = False,size = (32,32)):          #displays image as a plotly heatmap object, with colors preserved \n",
    "    img = Image.open(image_path)\n",
    "    if resize:\n",
    "        img = img.resize(size,resample=Image.NEAREST)\n",
    "    pixels = img.convert('RGBA').load() #rgba values\n",
    "    width, height = img.size   #width and height of image\n",
    "    num_pixels = width*height\n",
    "    step = 1/num_pixels\n",
    "    \n",
    "    colorscale = []           \n",
    "    z = []\n",
    "    \n",
    "    i = 0\n",
    "    for y in range(height):\n",
    "        z.append([])\n",
    "        for x in range(width):\n",
    "            z[-1].append(step*(i+.5))\n",
    "            r, g, b, a = pixels[x, y]\n",
    "            #colorscale.append([step*i,'rgba(%s,%s,%s,%s)'%(r,b,g,a)])\n",
    "            #colorscale.append([step*(i+1),'rgba(%s,%s,%s,%s)'%(r,b,g,a)])\n",
    "            colorscale.append([step*i,rgb2hex(r, g, b)])\n",
    "            colorscale.append([step*(i+1),rgb2hex(r, g, b)])\n",
    "            i+=1\n",
    "    print(colorscale)      \n",
    "    heatmap = go.Heatmap(z=np.flip(np.array(z),0), \n",
    "                     colorscale = colorscale, \n",
    "                     showscale = False)\n",
    "    fig = go.Figure(data=[heatmap])\n",
    "\n",
    "    fig.update_layout(width=500, height=500)\n",
    "    return fig\n",
    "\n",
    "img = Image.open(\"input_images_testing/airplane_0003.png\")\n",
    "img.show()\n",
    "fig = image2heatmap(\"input_images_testing/airplane_0003.png\",resize=True)\n",
    "fig.show()"
   ]
  },
  {
   "cell_type": "code",
   "execution_count": null,
   "metadata": {},
   "outputs": [],
   "source": []
  }
 ],
 "metadata": {
  "kernelspec": {
   "display_name": "Python [conda env:graph_viz]",
   "language": "python",
   "name": "conda-env-graph_viz-py"
  },
  "language_info": {
   "codemirror_mode": {
    "name": "ipython",
    "version": 3
   },
   "file_extension": ".py",
   "mimetype": "text/x-python",
   "name": "python",
   "nbconvert_exporter": "python",
   "pygments_lexer": "ipython3",
   "version": "3.7.6"
  }
 },
 "nbformat": 4,
 "nbformat_minor": 2
}
