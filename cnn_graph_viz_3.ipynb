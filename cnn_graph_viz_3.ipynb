{
 "cells": [
  {
   "cell_type": "code",
   "execution_count": 35,
   "metadata": {},
   "outputs": [
    {
     "data": {
      "text/html": [
       "<div>\n",
       "<style scoped>\n",
       "    .dataframe tbody tr th:only-of-type {\n",
       "        vertical-align: middle;\n",
       "    }\n",
       "\n",
       "    .dataframe tbody tr th {\n",
       "        vertical-align: top;\n",
       "    }\n",
       "\n",
       "    .dataframe thead th {\n",
       "        text-align: right;\n",
       "    }\n",
       "</style>\n",
       "<table border=\"1\" class=\"dataframe\">\n",
       "  <thead>\n",
       "    <tr style=\"text-align: right;\">\n",
       "      <th>class</th>\n",
       "      <th>node_num</th>\n",
       "      <th>airplane</th>\n",
       "      <th>automobile</th>\n",
       "      <th>bird</th>\n",
       "      <th>cat</th>\n",
       "      <th>deer</th>\n",
       "      <th>dog</th>\n",
       "      <th>frog</th>\n",
       "      <th>horse</th>\n",
       "      <th>overall</th>\n",
       "      <th>ship</th>\n",
       "      <th>truck</th>\n",
       "      <th>layer</th>\n",
       "    </tr>\n",
       "  </thead>\n",
       "  <tbody>\n",
       "    <tr>\n",
       "      <th>0</th>\n",
       "      <td>0</td>\n",
       "      <td>0.139876</td>\n",
       "      <td>0.193968</td>\n",
       "      <td>0.281722</td>\n",
       "      <td>0.372537</td>\n",
       "      <td>0.018820</td>\n",
       "      <td>0.267247</td>\n",
       "      <td>0.233566</td>\n",
       "      <td>0.247257</td>\n",
       "      <td>0.187421</td>\n",
       "      <td>0.102997</td>\n",
       "      <td>0.016217</td>\n",
       "      <td>0</td>\n",
       "    </tr>\n",
       "    <tr>\n",
       "      <th>1</th>\n",
       "      <td>1</td>\n",
       "      <td>0.089149</td>\n",
       "      <td>0.197428</td>\n",
       "      <td>0.043106</td>\n",
       "      <td>0.075388</td>\n",
       "      <td>0.018076</td>\n",
       "      <td>0.092912</td>\n",
       "      <td>0.107071</td>\n",
       "      <td>0.046974</td>\n",
       "      <td>0.088193</td>\n",
       "      <td>0.043686</td>\n",
       "      <td>0.168138</td>\n",
       "      <td>0</td>\n",
       "    </tr>\n",
       "    <tr>\n",
       "      <th>2</th>\n",
       "      <td>2</td>\n",
       "      <td>0.015867</td>\n",
       "      <td>0.171214</td>\n",
       "      <td>0.114838</td>\n",
       "      <td>0.220317</td>\n",
       "      <td>0.312640</td>\n",
       "      <td>0.103840</td>\n",
       "      <td>0.166537</td>\n",
       "      <td>0.129406</td>\n",
       "      <td>0.154473</td>\n",
       "      <td>0.171422</td>\n",
       "      <td>0.138648</td>\n",
       "      <td>0</td>\n",
       "    </tr>\n",
       "    <tr>\n",
       "      <th>3</th>\n",
       "      <td>3</td>\n",
       "      <td>0.087441</td>\n",
       "      <td>0.152154</td>\n",
       "      <td>0.076537</td>\n",
       "      <td>0.050961</td>\n",
       "      <td>0.231120</td>\n",
       "      <td>0.224538</td>\n",
       "      <td>0.013231</td>\n",
       "      <td>0.178238</td>\n",
       "      <td>0.119217</td>\n",
       "      <td>0.153142</td>\n",
       "      <td>0.024806</td>\n",
       "      <td>0</td>\n",
       "    </tr>\n",
       "    <tr>\n",
       "      <th>4</th>\n",
       "      <td>4</td>\n",
       "      <td>0.024439</td>\n",
       "      <td>0.037215</td>\n",
       "      <td>0.031089</td>\n",
       "      <td>0.049052</td>\n",
       "      <td>0.099022</td>\n",
       "      <td>0.073753</td>\n",
       "      <td>0.058950</td>\n",
       "      <td>0.071532</td>\n",
       "      <td>0.052207</td>\n",
       "      <td>0.044767</td>\n",
       "      <td>0.032254</td>\n",
       "      <td>0</td>\n",
       "    </tr>\n",
       "    <tr>\n",
       "      <th>5</th>\n",
       "      <td>5</td>\n",
       "      <td>0.201093</td>\n",
       "      <td>0.146416</td>\n",
       "      <td>0.135956</td>\n",
       "      <td>0.168017</td>\n",
       "      <td>0.077592</td>\n",
       "      <td>0.126242</td>\n",
       "      <td>0.301216</td>\n",
       "      <td>0.140233</td>\n",
       "      <td>0.171294</td>\n",
       "      <td>0.098087</td>\n",
       "      <td>0.318082</td>\n",
       "      <td>0</td>\n",
       "    </tr>\n",
       "    <tr>\n",
       "      <th>6</th>\n",
       "      <td>6</td>\n",
       "      <td>0.071586</td>\n",
       "      <td>0.031973</td>\n",
       "      <td>0.185500</td>\n",
       "      <td>0.242435</td>\n",
       "      <td>0.066476</td>\n",
       "      <td>0.171151</td>\n",
       "      <td>0.004216</td>\n",
       "      <td>0.050471</td>\n",
       "      <td>0.083844</td>\n",
       "      <td>0.006577</td>\n",
       "      <td>0.008058</td>\n",
       "      <td>0</td>\n",
       "    </tr>\n",
       "    <tr>\n",
       "      <th>7</th>\n",
       "      <td>7</td>\n",
       "      <td>0.007178</td>\n",
       "      <td>0.059125</td>\n",
       "      <td>0.052104</td>\n",
       "      <td>0.062809</td>\n",
       "      <td>0.028712</td>\n",
       "      <td>0.059987</td>\n",
       "      <td>0.026595</td>\n",
       "      <td>0.031636</td>\n",
       "      <td>0.042558</td>\n",
       "      <td>0.040607</td>\n",
       "      <td>0.056821</td>\n",
       "      <td>0</td>\n",
       "    </tr>\n",
       "    <tr>\n",
       "      <th>8</th>\n",
       "      <td>8</td>\n",
       "      <td>0.016677</td>\n",
       "      <td>0.077632</td>\n",
       "      <td>0.082517</td>\n",
       "      <td>0.096038</td>\n",
       "      <td>0.038893</td>\n",
       "      <td>0.038464</td>\n",
       "      <td>0.114851</td>\n",
       "      <td>0.014182</td>\n",
       "      <td>0.064695</td>\n",
       "      <td>0.092057</td>\n",
       "      <td>0.075643</td>\n",
       "      <td>0</td>\n",
       "    </tr>\n",
       "    <tr>\n",
       "      <th>9</th>\n",
       "      <td>9</td>\n",
       "      <td>0.181237</td>\n",
       "      <td>0.062975</td>\n",
       "      <td>0.070433</td>\n",
       "      <td>0.102134</td>\n",
       "      <td>0.045127</td>\n",
       "      <td>0.049708</td>\n",
       "      <td>0.054966</td>\n",
       "      <td>0.158716</td>\n",
       "      <td>0.079938</td>\n",
       "      <td>0.003610</td>\n",
       "      <td>0.070472</td>\n",
       "      <td>0</td>\n",
       "    </tr>\n",
       "  </tbody>\n",
       "</table>\n",
       "</div>"
      ],
      "text/plain": [
       "class  node_num  airplane  automobile      bird       cat      deer       dog  \\\n",
       "0             0  0.139876    0.193968  0.281722  0.372537  0.018820  0.267247   \n",
       "1             1  0.089149    0.197428  0.043106  0.075388  0.018076  0.092912   \n",
       "2             2  0.015867    0.171214  0.114838  0.220317  0.312640  0.103840   \n",
       "3             3  0.087441    0.152154  0.076537  0.050961  0.231120  0.224538   \n",
       "4             4  0.024439    0.037215  0.031089  0.049052  0.099022  0.073753   \n",
       "5             5  0.201093    0.146416  0.135956  0.168017  0.077592  0.126242   \n",
       "6             6  0.071586    0.031973  0.185500  0.242435  0.066476  0.171151   \n",
       "7             7  0.007178    0.059125  0.052104  0.062809  0.028712  0.059987   \n",
       "8             8  0.016677    0.077632  0.082517  0.096038  0.038893  0.038464   \n",
       "9             9  0.181237    0.062975  0.070433  0.102134  0.045127  0.049708   \n",
       "\n",
       "class      frog     horse   overall      ship     truck  layer  \n",
       "0      0.233566  0.247257  0.187421  0.102997  0.016217      0  \n",
       "1      0.107071  0.046974  0.088193  0.043686  0.168138      0  \n",
       "2      0.166537  0.129406  0.154473  0.171422  0.138648      0  \n",
       "3      0.013231  0.178238  0.119217  0.153142  0.024806      0  \n",
       "4      0.058950  0.071532  0.052207  0.044767  0.032254      0  \n",
       "5      0.301216  0.140233  0.171294  0.098087  0.318082      0  \n",
       "6      0.004216  0.050471  0.083844  0.006577  0.008058      0  \n",
       "7      0.026595  0.031636  0.042558  0.040607  0.056821      0  \n",
       "8      0.114851  0.014182  0.064695  0.092057  0.075643      0  \n",
       "9      0.054966  0.158716  0.079938  0.003610  0.070472      0  "
      ]
     },
     "execution_count": 35,
     "metadata": {},
     "output_type": "execute_result"
    }
   ],
   "source": [
    "import pandas as pd\n",
    "import numpy as np\n",
    "\n",
    "#load nodes df\n",
    "nodes_df = pd.read_csv('prepped_models/cifar10_testing/node_ranks.csv')\n",
    "\n",
    "#make wide version\n",
    "nodes_wide_df = nodes_df.pivot(index = 'node_num',columns='class', values='rank_score')\n",
    "\n",
    "def get_col(node_num, df = nodes_df, idx = 'node_num', col = 'layer'):\n",
    "    return df.loc[(df[idx] == node_num) & (df['class'] == df['class'].unique()[0]), col].item()\n",
    "\n",
    "nodes_wide_df.reset_index(inplace=True)\n",
    "nodes_wide_df['layer'] = nodes_wide_df['node_num'].apply(get_col)\n",
    "nodes_wide_df = nodes_wide_df.rename(columns = {'class':'index'})\n",
    "\n",
    "\n",
    "#list of layer nodes\n",
    "layer_nodes = {}\n",
    "for row in nodes_df[nodes_df['class'] == 'overall'].itertuples(): \n",
    "    if row.layer not in layer_nodes:\n",
    "        layer_nodes[row.layer] = []\n",
    "    layer_nodes[row.layer].append(row.node_num)\n",
    "\n",
    "num_layers = max(layer_nodes.keys()) + 1\n",
    "num_nodes = len(nodes_wide_df.index)\n",
    "\n",
    "#list of classes\n",
    "classes = list(nodes_df['class'].unique())\n",
    "classes.remove('overall')\n",
    "classes.insert(0,'overall')\n",
    "\n",
    "\n",
    "nodes_wide_df.head(10)\n",
    "\n"
   ]
  },
  {
   "cell_type": "code",
   "execution_count": 36,
   "metadata": {},
   "outputs": [
    {
     "name": "stdout",
     "output_type": "stream",
     "text": [
      "      edge_num  layer  out_channel  in_channel  rank_score  class\n",
      "0            0      0            0           0    0.017843   frog\n",
      "1            1      0            0           1    0.016695   frog\n",
      "2            2      0            0           2    0.093749   frog\n",
      "3            3      0            1           0    0.084601   frog\n",
      "4            4      0            1           1    0.043617   frog\n",
      "...        ...    ...          ...         ...         ...    ...\n",
      "4600         0      0            0           0    0.037768  horse\n",
      "4601         1      0            0           1    0.021887  horse\n",
      "4602         2      0            0           2    0.052484  horse\n",
      "4603         3      0            1           0    0.042027  horse\n",
      "4604         4      0            1           1    0.050973  horse\n",
      "\n",
      "[4605 rows x 6 columns]\n"
     ]
    }
   ],
   "source": [
    "edges_df = pd.read_csv('prepped_models/cifar10_testing/edge_ranks.csv')   #load edges\n",
    "\n",
    "#make edges wide format df\n",
    "edges_wide_df = edges_df.pivot(index = 'edge_num',columns='class', values='rank_score')\n",
    "edges_wide_df.reset_index(inplace=True)\n",
    "edges_wide_df['layer'] = edges_wide_df['edge_num'].apply(get_col, df=edges_df,idx='edge_num')\n",
    "edges_wide_df['in_channel'] = edges_wide_df['edge_num'].apply(get_col, df=edges_df,idx='edge_num',col='in_channel')\n",
    "edges_wide_df['out_channel'] = edges_wide_df['edge_num'].apply(get_col, df=edges_df,idx='edge_num',col='out_channel')\n",
    "\n",
    "print(edges_df.head(4605))\n",
    "edges_wide_df.head(165)\n",
    "#edges_df.loc[(edges_df['rank_score'] > .05) & (edges_df['class'] == 'frog')]\n",
    "\n",
    "num_edges = len(edges_wide_df.index) #number of total edges\n"
   ]
  },
  {
   "cell_type": "code",
   "execution_count": 37,
   "metadata": {},
   "outputs": [],
   "source": [
    "#misc formatting functions\n",
    "\n",
    "def nodeid_2_perlayerid(nodeid):    #takes in node unique id outputs tuple of layer and within layer id\n",
    "    if isinstance(nodeid,str):\n",
    "        if not nodeid.isnumeric():\n",
    "            layer = 'img'\n",
    "            within_layer_id = imgnode_names.index(nodeid)\n",
    "            return layer,within_layer_id\n",
    "    nodeid = int(nodeid)\n",
    "    layer = nodes_df[nodes_df['class']=='overall'][nodes_df['node_num'] == nodeid]['layer'].item()\n",
    "    within_layer_id = nodes_df[nodes_df['class']=='overall'][nodes_df['node_num'] == nodeid]['node_num_by_layer'].item()\n",
    "    return layer,within_layer_id\n",
    "\n",
    "def layernum2name(layer,offset=1,title = 'layer'):\n",
    "    return title+' '+str(layer+offset)\n"
   ]
  },
  {
   "cell_type": "code",
   "execution_count": 38,
   "metadata": {},
   "outputs": [
    {
     "name": "stderr",
     "output_type": "stream",
     "text": [
      "/Users/christopherhamblin/anaconda3/envs/graph_viz/lib/python3.7/site-packages/ipykernel/__main__.py:24: SettingWithCopyWarning:\n",
      "\n",
      "\n",
      "A value is trying to be set on a copy of a slice from a DataFrame.\n",
      "Try using .loc[row_indexer,col_indexer] = value instead\n",
      "\n",
      "See the caveats in the documentation: https://pandas.pydata.org/pandas-docs/stable/user_guide/indexing.html#returning-a-view-versus-a-copy\n",
      "\n",
      "/Users/christopherhamblin/anaconda3/envs/graph_viz/lib/python3.7/site-packages/ipykernel/__main__.py:24: SettingWithCopyWarning:\n",
      "\n",
      "\n",
      "A value is trying to be set on a copy of a slice from a DataFrame.\n",
      "Try using .loc[row_indexer,col_indexer] = value instead\n",
      "\n",
      "See the caveats in the documentation: https://pandas.pydata.org/pandas-docs/stable/user_guide/indexing.html#returning-a-view-versus-a-copy\n",
      "\n",
      "/Users/christopherhamblin/anaconda3/envs/graph_viz/lib/python3.7/site-packages/ipykernel/__main__.py:24: SettingWithCopyWarning:\n",
      "\n",
      "\n",
      "A value is trying to be set on a copy of a slice from a DataFrame.\n",
      "Try using .loc[row_indexer,col_indexer] = value instead\n",
      "\n",
      "See the caveats in the documentation: https://pandas.pydata.org/pandas-docs/stable/user_guide/indexing.html#returning-a-view-versus-a-copy\n",
      "\n",
      "/Users/christopherhamblin/anaconda3/envs/graph_viz/lib/python3.7/site-packages/ipykernel/__main__.py:24: SettingWithCopyWarning:\n",
      "\n",
      "\n",
      "A value is trying to be set on a copy of a slice from a DataFrame.\n",
      "Try using .loc[row_indexer,col_indexer] = value instead\n",
      "\n",
      "See the caveats in the documentation: https://pandas.pydata.org/pandas-docs/stable/user_guide/indexing.html#returning-a-view-versus-a-copy\n",
      "\n"
     ]
    },
    {
     "name": "stdout",
     "output_type": "stream",
     "text": [
      "layer: 0\n",
      "layer: 1\n",
      "layer: 2\n",
      "layer: 3\n"
     ]
    }
   ],
   "source": [
    "#generate mds projections of nodes layerwise, as determined by their per class rank scores\n",
    "\n",
    "import numpy as np\n",
    "from sklearn import manifold\n",
    "from sklearn.metrics import euclidean_distances\n",
    "\n",
    "def add_norm_col(df,classes=classes[1:]):\n",
    "    norms = []\n",
    "    norm = 0\n",
    "    for index, row in df.iterrows():\n",
    "        for label in classes:\n",
    "            norm += row[label]**2\n",
    "        norm = np.sqrt(norm)\n",
    "        norms.append(norm)\n",
    "    norms = np.array(norms)\n",
    "    df['class_norm'] = norms\n",
    "\n",
    "add_norm_col(nodes_wide_df)   \n",
    "    \n",
    "layer_similarities = {}\n",
    "for layer in layer_nodes:\n",
    "    layer_df = nodes_wide_df[nodes_wide_df['layer'] == layer]\n",
    "    for label in classes:\n",
    "        layer_df[label] = layer_df.apply(lambda row : row[label]/row['class_norm'], axis = 1)   \n",
    "    layer_similarities[layer] = euclidean_distances(layer_df.iloc[:,1:-2])\n",
    "\n",
    "\n",
    "\n",
    "layer_mds = {}\n",
    "for layer in layer_similarities:\n",
    "\tprint('layer: %s'%str(layer))\n",
    "\tmds = manifold.MDS(n_components=2, max_iter=3000, eps=1e-9, \n",
    "      random_state=2, dissimilarity=\"precomputed\", n_jobs=1)\n",
    "\tpos = mds.fit(layer_similarities[layer]).embedding_\n",
    "\tlayer_mds[layer] = pos\n",
    "\n",
    "#print(layer_mds)\n",
    "\n",
    "\n",
    "\n"
   ]
  },
  {
   "cell_type": "code",
   "execution_count": 39,
   "metadata": {},
   "outputs": [],
   "source": [
    "#generate node colors based on target class (nodes that aren't important should be faded)\n",
    "\n",
    "target_class = 'airplane'\n",
    "\n",
    "#Node Opacity\n",
    "layer_colors = ['rgba(31,119,180,', \n",
    "                'rgba(255,127,14,',\n",
    "                'rgba(44,160,44,', \n",
    "                'rgba(214,39,40,',\n",
    "                'rgba(39, 208, 214,', \n",
    "                'rgba(242, 250, 17,',\n",
    "                'rgba(196, 94, 255,',\n",
    "                'rgba(193, 245, 5,',\n",
    "                'rgba(245, 85, 5,',\n",
    "                'rgba(5, 165, 245,',\n",
    "                'rgba(245, 5, 105,',\n",
    "                'rgba(218, 232, 23,',\n",
    "                'rgba(148, 23, 232,',\n",
    "                'rgba(23, 232, 166,',]\n",
    "\n",
    "\n",
    "def node_color_scaling(x):\n",
    "    return -(x-1)**4+1\n",
    "\n",
    "def gen_node_colors(target_class):\n",
    "\n",
    "    node_colors = {}\n",
    "    for layer in layer_nodes:\n",
    "        node_colors[layer] = []\n",
    "        for node in layer_nodes[layer]:\n",
    "            alpha = node_color_scaling(nodes_df[nodes_df['class']==target_class].iloc[node].rank_score)\n",
    "            node_colors[layer].append(layer_colors[layer%len(layer_colors)]+str(round(alpha,3))+')')\n",
    "    return node_colors\n",
    "\n",
    "node_colors = gen_node_colors(target_class)\n",
    "\n",
    "#print(colors_dict)"
   ]
  },
  {
   "cell_type": "code",
   "execution_count": 40,
   "metadata": {},
   "outputs": [],
   "source": [
    "#Node positions\n",
    "#def gen_node_positions()\n",
    "layer_distance = 1   # distance in X direction each layer is separated by\n",
    "node_positions = {}\n",
    "layer_offset = 0\n",
    "for layer in layer_mds:\n",
    "    node_positions[layer] = {}\n",
    "    node_positions[layer]['X'] = [] \n",
    "    node_positions[layer]['Y'] = [] \n",
    "    node_positions[layer]['Z'] = []  \n",
    "    for i in range(len(layer_mds[layer])): \n",
    "        node_positions[layer]['Y'].append(layer_mds[layer][i][0])\n",
    "        node_positions[layer]['Z'].append(layer_mds[layer][i][1])\n",
    "        node_positions[layer]['X'].append(layer_offset)\n",
    "    layer_offset+=1*layer_distance\n",
    "\n",
    "#print(node_positions[0])"
   ]
  },
  {
   "cell_type": "code",
   "execution_count": 41,
   "metadata": {},
   "outputs": [
    {
     "name": "stdout",
     "output_type": "stream",
     "text": [
      "{'X': [-1, -1, -1], 'Y': [0.0, 0.4330127018922194, -0.4330127018922192], 'Z': [0.5, -0.2499999999999999, -0.2500000000000002]}\n"
     ]
    }
   ],
   "source": [
    "#image nodes (one for each channel of input image)\n",
    "\n",
    "num_img_chan = len(edges_df.loc[edges_df['layer'] == 0]['in_channel'].unique()) #number of channels in input image\n",
    "\n",
    "def gen_imgnode_graphdata(num_chan = num_img_chan):     #returns positions, colors and names for imgnode graph points\n",
    "    if num_chan == 1: #return a centered position, grey square, with 'gs' label\n",
    "        return {'X':[-1],'Y':[0],'Z':[0]}, ['rgba(170,170,170,.7)'], ['gs']\n",
    "    if num_chan == 3:\n",
    "        colors = ['rgba(255,0,0,.7)','rgba(0,255,0,.7)','rgba(0,0,255,.7)']\n",
    "        names = ['r','g','b']\n",
    "    else:\n",
    "        #colors\n",
    "        other_colors = ['rgba(255,0,0,.7)','rgba(0,255,0,.7)','rgba(0,0,255,.7)',\n",
    "                        'rgba(255,150,0,.7)','rgba(0,255,150,.7)','rgba(150,0,255,.7)',\n",
    "                        'rgba(255,0,150,.7)','rgba(150,255,0,.7)','rgba(0,150,255,.7)']\n",
    "        colors = []\n",
    "        for i in num_chan:\n",
    "            colors.append(i%len(other_colors)) \n",
    "        #names\n",
    "        names = []\n",
    "        for i in range(num_chan):\n",
    "            names.append('img_'+str(i))   \n",
    "            \n",
    "    positions = {'X':[],'Y':[],'Z':[]}     #else return points evenly spaced around a unit circle\n",
    "    a = 2*np.pi/num_chan          #angle to rotate each point\n",
    "    for p in range(num_chan):\n",
    "        positions['X'].append(-1)\n",
    "        positions['Y'].append(np.sin(a*p)/2)\n",
    "        positions['Z'].append(np.cos(a*p)/2) \n",
    "    \n",
    "    return positions, colors, names\n",
    "    \n",
    "# def gen_imgnode_positions(num_chan = num_img_chan):\n",
    "\n",
    "#     if num_chan == 1: #return a centered position\n",
    "#         return {'X':[-1],'Y':[0],'Z':[0]}\n",
    "    \n",
    "#     positions = {'X':[],'Y':[],'Z':[]}     #else return points evenly spaced around a unit circle\n",
    "#     a = 2*np.pi/num_chan          #angle to rotate each point\n",
    "#     for p in range(num_chan):\n",
    "#         positions['X'].append(-1)\n",
    "#         positions['Y'].append(np.sin(a*p))\n",
    "#         positions['Z'].append(np.cos(a*p))\n",
    "#     return positions\n",
    "\n",
    "# def gen_imgnode_colors(num_chan = num_img_chan):\n",
    "#     if num_chan == 1:\n",
    "#         return ['rgba(170,170,170,.9)']   #grey\n",
    "#     elif num_chan == 3:\n",
    "#         return ['rgba(255,0,0,.9)','rgba(0,255,0,.9)','rgba(0,0,255,.9)']             #rgb\n",
    "\n",
    "#     else:\n",
    "#         other_colors = ['rgba(255,0,0,.9)','rgba(0,255,0,.9)','rgba(0,0,255,.9)',\n",
    "#                         'rgba(255,150,0,.9)','rgba(0,255,150,.9)','rgba(150,0,255,.9)',\n",
    "#                         'rgba(255,0,150,.9)','rgba(150,255,0,.9)','rgba(0,150,255,.9)']\n",
    "#         colors = []\n",
    "#         for i in num_chan:\n",
    "#             colors.append(i%len(other_colors))\n",
    "#         return colors\n",
    "    \n",
    "# def gen_imgnode_names(num_chan = num_img_chan):\n",
    "#     if num_chan == 1:\n",
    "#         return ['gs'] #grayscale\n",
    "#     elif num_chan == 3:\n",
    "#         return ['r','g','b']\n",
    "#     else:\n",
    "#         names = []\n",
    "#         for i in range(num_chan):\n",
    "#             names.append('img_'+str(i))\n",
    "#         return names\n",
    "\n",
    "imgnode_positions,imgnode_colors,imgnode_names = gen_imgnode_graphdata()\n",
    "\n",
    "print(imgnode_positions)"
   ]
  },
  {
   "cell_type": "code",
   "execution_count": 48,
   "metadata": {},
   "outputs": [
    {
     "name": "stdout",
     "output_type": "stream",
     "text": [
      "Edges\n",
      "{1: [(5, 48, 5, 3), (9, 48, 9, 3), (13, 48, 13, 3), (16, 46, 16, 1), (16, 48, 16, 3), (18, 46, 18, 1), (18, 48, 18, 3), (18, 49, 18, 4), (18, 52, 18, 7), (18, 56, 18, 11), (18, 62, 18, 17), (18, 64, 18, 19), (19, 46, 19, 1), (19, 48, 19, 3), (26, 46, 26, 1), (26, 48, 26, 3), (31, 46, 31, 1), (31, 48, 31, 3), (31, 49, 31, 4), (31, 56, 31, 11), (31, 62, 31, 17), (31, 64, 31, 19), (36, 48, 36, 3), (41, 48, 41, 3), (43, 48, 43, 3)], 2: [(46, 73, 1, 5), (46, 90, 1, 22), (46, 92, 1, 24), (46, 94, 1, 26), (46, 100, 1, 32), (46, 113, 1, 45), (48, 73, 3, 5), (48, 90, 3, 22), (48, 92, 3, 24), (48, 94, 3, 26), (48, 100, 3, 32), (48, 109, 3, 41), (48, 110, 3, 42), (48, 113, 3, 45), (49, 100, 4, 32), (52, 100, 7, 32), (56, 100, 11, 32), (62, 90, 17, 22), (62, 92, 17, 24), (62, 100, 17, 32), (62, 113, 17, 45), (64, 100, 19, 32)], 3: [(73, 143, 5, 26), (90, 143, 22, 26), (92, 143, 24, 26), (94, 143, 26, 26), (100, 121, 32, 4), (100, 123, 32, 6), (100, 140, 32, 23), (100, 143, 32, 26), (100, 156, 32, 39), (100, 162, 32, 45), (109, 143, 41, 26), (110, 143, 42, 26), (113, 143, 45, 26)]}\n",
      "edge_weights\n"
     ]
    }
   ],
   "source": [
    "# #Edge selection\n",
    "\n",
    "# #edges_df.loc[(edges_df['rank_score'] > .05) & (edges_df['class'] == 'frog')]\n",
    "# def get_thresholded_edges(threshold=.1,df=edges_df,target_class=target_class):          #just get those edges that pass the threshold criteria for the target class\n",
    "#     return edges_df.loc[(edges_df['rank_score'] > threshold) & (edges_df['class'] == target_class)]\n",
    "\n",
    "\n",
    "\n",
    "# def gen_edge_subset_and_weights(target_class,edge_threshold=.1):\n",
    "#     edge_weights = {}\n",
    "#     #edge_threshold = .1\n",
    "#     Edges = {}\n",
    "#     for layer in Edges_full:\n",
    "#         Edges[layer] = []\n",
    "#         edge_weights[layer] = []\n",
    "#         for i in range(len(Edges_full[layer])):\n",
    "#             edge_weight = nodes_df[nodes_df['class']==target_class].iloc[Edges_full[layer][i][0]].rank_score*nodes_df[nodes_df['class']==target_class].iloc[Edges_full[layer][i][1]].rank_score\n",
    "#             if edge_weight > edge_threshold:\n",
    "#                 Edges[layer].append(Edges_full[layer][i])\n",
    "#                 edge_weights[layer].append(edge_weight)\n",
    "#     return Edges, edge_weights\n",
    "\n",
    "# Edges,edge_weights = gen_edge_subset_and_weights(target_class)\n",
    "            \n",
    "# #print(Edges)\n",
    "\n",
    "# #Edge Positions\n",
    "# def gen_edge_positions(Edges):\n",
    "#     edge_positions = {}\n",
    "#     for layer in Edges:\n",
    "#         edge_positions[layer] = {}\n",
    "#         edge_positions[layer]['X'] = []\n",
    "#         edge_positions[layer]['Y'] = []\n",
    "#         edge_positions[layer]['Z'] = []\n",
    "#         for edge in Edges[layer]:\n",
    "#             edge_positions[layer]['X']+=([node_positions[layer-1]['X'][edge[2]],node_positions[layer]['X'][edge[3]], None])# x-coordinates of edge ends\n",
    "#             edge_positions[layer]['Y']+=([node_positions[layer-1]['Y'][edge[2]],node_positions[layer]['Y'][edge[3]], None])\n",
    "#             edge_positions[layer]['Z']+=([node_positions[layer-1]['Z'][edge[2]],node_positions[layer]['Z'][edge[3]], None])    \n",
    "#     return edge_positions\n",
    "\n",
    "# edge_positions = gen_edge_positions(Edges)\n",
    "\n",
    "# #print(edge_positions)\n",
    "\n",
    "# print('Edges')\n",
    "# print(Edges)\n",
    "# print('edge_weights')\n",
    "# print(edge_weights)\n",
    "# print('edge_positions')\n",
    "# print(edge_positions)\n",
    "\n",
    "# #Edge Colors\n",
    "# edge_colors_dict = {}\n",
    "# for layer in Edges:\n",
    "#     edge_colors_dict[layer] = []\n",
    "#     for weight in edge_weights[layer]:\n",
    "#         alpha = color_scaling(weight)\n",
    "#         edge_colors_dict[layer].append(layer_colors[layer%len(layer_colors)]+str(round(alpha,3))+')')"
   ]
  },
  {
   "cell_type": "code",
   "execution_count": 42,
   "metadata": {},
   "outputs": [],
   "source": [
    "#Edge selection\n",
    "\n",
    "def edge_width_scaling(x):\n",
    "    return max(.5,(x*5)**1.5)\n",
    "\n",
    "def edge_color_scaling(x):\n",
    "    return max(.4,-(x-1)**4+1)\n",
    "\n",
    "\n",
    "def get_thresholded_edges(threshold=.1,df=edges_df,target_class=target_class):          #just get those edges that pass the threshold criteria for the target class\n",
    "    return edges_df.loc[(edges_df['rank_score'] > threshold) & (edges_df['class'] == target_class)]\n",
    "\n",
    "edges_select_df = get_thresholded_edges()\n",
    "\n",
    "\n",
    "def gen_edge_graphdata(df = edges_select_df, node_positions = node_positions, num_hoverpoints=15,target_class=target_class):\n",
    "    edge_positions = {}\n",
    "    colors = {}\n",
    "    widths = {}\n",
    "    names = {}\n",
    "    for row in edges_select_df.itertuples():\n",
    "        if row.layer not in edge_positions:\n",
    "            edge_positions[row.layer] = {'X':[],'Y':[],'Z':[]}\n",
    "            colors[row.layer] = []\n",
    "            widths[row.layer] = []\n",
    "            names[row.layer] = []        \n",
    "        #position\n",
    "        for dim in ['X','Y','Z']:\n",
    "            end_pos = node_positions[row.layer][dim][row.out_channel]\n",
    "            if row.layer != 0:\n",
    "                start_pos = node_positions[row.layer-1][dim][row.in_channel]\n",
    "            else:\n",
    "                start_pos = imgnode_positions[dim][row.in_channel]\n",
    "            \n",
    "            step = (end_pos-start_pos)/(num_hoverpoints+1)\n",
    "            points = [start_pos]\n",
    "            for i in range(1,num_hoverpoints+1):\n",
    "                points.append(start_pos+i*step)\n",
    "            points.append(end_pos)\n",
    "            edge_positions[row.layer][dim].append(points)\n",
    "        #color\n",
    "        alpha = edge_color_scaling(row.rank_score)\n",
    "        colors[row.layer].append(layer_colors[row.layer%len(layer_colors)]+str(round(alpha,3))+')')\n",
    "        #width\n",
    "        widths[row.layer].append(edge_width_scaling(row.rank_score))\n",
    "        #names\n",
    "        out_node = layer_nodes[row.layer][row.out_channel]\n",
    "        if row.layer != 0:\n",
    "            in_node = layer_nodes[row.layer-1][row.in_channel]\n",
    "        else:\n",
    "            in_node = imgnode_names[row.in_channel]\n",
    "        names[row.layer].append(str(in_node)+'-'+str(out_node))\n",
    "    return edge_positions, colors,widths,names\n",
    "\n",
    "\n",
    "edge_positions, edge_colors, edge_widths, edge_names = gen_edge_graphdata()\n"
   ]
  },
  {
   "cell_type": "code",
   "execution_count": 43,
   "metadata": {},
   "outputs": [
    {
     "name": "stdout",
     "output_type": "stream",
     "text": [
      "(100, 45, 3, 32, 32)\n",
      "(100, 45, 32, 32)\n"
     ]
    }
   ],
   "source": [
    "#Format Node Feature Maps\n",
    "\n",
    "# import pickle\n",
    "\n",
    "# activations = pickle.load(open('activations/cifar_prunned_.816_activations.pkl','rb'))\n",
    "  \n",
    "    \n",
    "# node_ids = []\n",
    "# for layer in layer_nodes:\n",
    "#     for i in range(len(layer_nodes[layer])):\n",
    "#         node_ids.append(str(layer+1)+'_'+str(i))\n",
    "    \n",
    "# print(activations['airplane']['0001.png'][0].shape)\n",
    "\n",
    "import torch\n",
    "activations = torch.load('prepped_models/cifar10_testing/input_img_activations.pt')\n",
    "\n",
    "print(activations['edges'][0].shape)\n",
    "print(activations['nodes'][0].shape)"
   ]
  },
  {
   "cell_type": "code",
   "execution_count": 44,
   "metadata": {},
   "outputs": [
    {
     "name": "stdout",
     "output_type": "stream",
     "text": [
      "(45, 3, 3, 3)\n",
      "[[-0.01040168  0.07258165 -0.02730235]\n",
      " [-0.09874548  0.15988253  0.16769743]\n",
      " [-0.11188427  0.21347913 -0.24422328]]\n",
      "[[-0.01040168  0.07258165 -0.02730235]\n",
      " [-0.09874548  0.15988253  0.16769743]\n",
      " [-0.11188427  0.21347913 -0.24422328]]\n"
     ]
    },
    {
     "name": "stderr",
     "output_type": "stream",
     "text": [
      "/Users/christopherhamblin/anaconda3/envs/graph_viz/lib/python3.7/site-packages/ipykernel/__main__.py:10: UserWarning:\n",
      "\n",
      "Boolean Series key will be reindexed to match DataFrame index.\n",
      "\n",
      "/Users/christopherhamblin/anaconda3/envs/graph_viz/lib/python3.7/site-packages/ipykernel/__main__.py:11: UserWarning:\n",
      "\n",
      "Boolean Series key will be reindexed to match DataFrame index.\n",
      "\n"
     ]
    }
   ],
   "source": [
    "#Format Edge Kernels\n",
    "\n",
    "# kernels = pickle.load(open('kernels/cifar_prunned_.816_kernels.pkl','rb'))\n",
    "# print(kernels[0].shape)\n",
    "\n",
    "kernels = torch.load('prepped_models/cifar10_testing/kernels.pt')\n",
    "\n",
    "print(kernels[0].shape)\n",
    "\n",
    "#Function for taking a string of form 'node1-node2' and outputting edge info\n",
    "def nodestring_2_edge_info(nodestring):\n",
    "    from_node = nodestring.split('-')[0]\n",
    "    to_node = nodestring.split('-')[1]\n",
    "    from_layer,from_within_id = nodeid_2_perlayerid(from_node)\n",
    "    to_layer,to_within_id = nodeid_2_perlayerid(to_node)\n",
    "    kernel = kernels[to_layer][to_within_id][from_within_id]\n",
    "    return np.flip(kernel,0)\n",
    "\n",
    "\n",
    "print(nodestring_2_edge_info('b-0'))\n",
    "print(np.flip(kernels[0][0][2],0))"
   ]
  },
  {
   "cell_type": "code",
   "execution_count": 45,
   "metadata": {},
   "outputs": [],
   "source": [
    "## adding images\n",
    "import glob\n",
    "import os\n",
    "\n",
    "input_image_directory = 'input_images_testing/'\n",
    "list_of_input_images = [os.path.basename(x) for x in glob.glob('{}*.png'.format(input_image_directory))]\n",
    "\n",
    "static_input_image_route = '/static_input_images/'\n",
    "\n",
    "\n",
    "# edge_image_directory = '/Users/chrishamblin/Desktop/graph_viz/edge_images/'\n",
    "# list_of_edge_images = [os.path.basename(x) for x in glob.glob('{}*.png'.format(edge_image_directory))]\n",
    "\n",
    "# edge_static_image_route = '/static_edge/'\n"
   ]
  },
  {
   "cell_type": "code",
   "execution_count": 46,
   "metadata": {
    "scrolled": true
   },
   "outputs": [
    {
     "data": {
      "text/html": [
       "        <script type=\"text/javascript\">\n",
       "        window.PlotlyConfig = {MathJaxConfig: 'local'};\n",
       "        if (window.MathJax) {MathJax.Hub.Config({SVG: {font: \"STIX-Web\"}});}\n",
       "        if (typeof require !== 'undefined') {\n",
       "        require.undef(\"plotly\");\n",
       "        requirejs.config({\n",
       "            paths: {\n",
       "                'plotly': ['https://cdn.plot.ly/plotly-latest.min']\n",
       "            }\n",
       "        });\n",
       "        require(['plotly'], function(Plotly) {\n",
       "            window._Plotly = Plotly;\n",
       "        });\n",
       "        }\n",
       "        </script>\n",
       "        "
      ]
     },
     "metadata": {},
     "output_type": "display_data"
    }
   ],
   "source": [
    "#import chart_studio.plotly as py\n",
    "import plotly.offline as py    #added\n",
    "import plotly.graph_objs as go\n",
    "py.init_notebook_mode(connected=True)   #added\n",
    "\n",
    "\n",
    "\n",
    "#add imgnodes\n",
    "imgnode_trace=go.Scatter3d(x=imgnode_positions['X'],\n",
    "           y=imgnode_positions['Y'],\n",
    "           z=imgnode_positions['Z'],\n",
    "           mode='markers',\n",
    "           name=layernum2name(layer,title = 'nodes'),\n",
    "           marker=dict(symbol='square',\n",
    "                         size=8,\n",
    "                         opacity=.99,\n",
    "                         color=imgnode_colors,\n",
    "                         #colorscale='Viridis',\n",
    "                         line=dict(color='rgb(50,50,50)', width=.5)\n",
    "                         ),\n",
    "           text=imgnode_names,\n",
    "           hoverinfo='text'\n",
    "           )\n",
    "\n",
    "imgnode_traces = [imgnode_trace]\n",
    "\n",
    "\n",
    "node_traces = []\n",
    "for layer in layer_nodes:\n",
    "    #add nodes\n",
    "    node_trace=go.Scatter3d(x=node_positions[layer]['X'],\n",
    "               y=node_positions[layer]['Y'],\n",
    "               z=node_positions[layer]['Z'],\n",
    "               mode='markers',\n",
    "               name=layernum2name(layer,title = 'nodes'),\n",
    "               marker=dict(symbol='circle',\n",
    "                             size=6,\n",
    "                             opacity=.99,\n",
    "                             color=node_colors[layer],\n",
    "                             #colorscale='Viridis',\n",
    "                             line=dict(color='rgb(50,50,50)', width=.5)\n",
    "                             ),\n",
    "               text=layer_nodes[layer],\n",
    "               hoverinfo='text'\n",
    "               )\n",
    "        \n",
    "    node_traces.append(node_trace)\n",
    "    \n",
    "    \n",
    "edge_traces = []    \n",
    "for layer in edge_positions:  \n",
    "    legendgroup = layernum2name(layer ,title = 'edges')\n",
    "    for edge_num in range(len(edge_positions[layer]['X'])): \n",
    "    #add edges      \n",
    "        edge_trace=go.Scatter3d(x=edge_positions[layer]['X'][edge_num],\n",
    "                                y=edge_positions[layer]['Y'][edge_num],\n",
    "                                z=edge_positions[layer]['Z'][edge_num],\n",
    "                                legendgroup=legendgroup,\n",
    "                                name=edge_names[layer][edge_num],\n",
    "                                mode='lines',\n",
    "                                #line=dict(color=edge_colors_dict[layer], width=1.5),\n",
    "                                line=dict(color=edge_colors[layer][edge_num], width=edge_widths[layer][edge_num]),\n",
    "                                text = edge_names[layer][edge_num],\n",
    "                                hoverinfo='text'\n",
    "                                )\n",
    "        edge_traces.append(edge_trace)\n",
    "\n",
    " \n",
    "combined_traces = imgnode_traces+node_traces+edge_traces\n",
    "\n",
    "\n",
    "#layout\n",
    "axis=dict(showbackground=False,\n",
    "          showspikes=False,\n",
    "          showline=False,\n",
    "          zeroline=False,\n",
    "          showgrid=False,\n",
    "          showticklabels=False,\n",
    "          #range=[0,0],\n",
    "          title=''\n",
    "          )\n",
    "\n",
    "graph_layout = go.Layout(\n",
    "         #title=\"%s through Prunned Cifar10 CNN\"%target_class,\n",
    "         #title = target_class,\n",
    "         #width=1000,\n",
    "         clickmode = 'event+select',\n",
    "         transition = {'duration': 500},\n",
    "         height=600,\n",
    "         #showlegend=False,\n",
    "         margin = dict(l=20, r=20, t=20, b=20),\n",
    "         scene=dict(\n",
    "             xaxis=dict(axis),\n",
    "             yaxis=dict(axis),\n",
    "             zaxis=dict(axis),\n",
    "         ),\n",
    "         uirevision =  True   \n",
    "         #hovermode='closest',\n",
    "   )\n",
    "\n",
    "\n",
    "fig=go.Figure(data=combined_traces, layout=graph_layout)\n",
    "\n",
    "\n"
   ]
  },
  {
   "cell_type": "code",
   "execution_count": 47,
   "metadata": {},
   "outputs": [
    {
     "name": "stderr",
     "output_type": "stream",
     "text": [
      "/Users/christopherhamblin/anaconda3/envs/graph_viz/lib/python3.7/site-packages/ipykernel/__main__.py:10: UserWarning:\n",
      "\n",
      "Boolean Series key will be reindexed to match DataFrame index.\n",
      "\n",
      "/Users/christopherhamblin/anaconda3/envs/graph_viz/lib/python3.7/site-packages/ipykernel/__main__.py:11: UserWarning:\n",
      "\n",
      "Boolean Series key will be reindexed to match DataFrame index.\n",
      "\n"
     ]
    }
   ],
   "source": [
    "import dash\n",
    "import dash_core_components as dcc\n",
    "import dash_html_components as html\n",
    "#import utils.dash_reusable_components as drc\n",
    "import flask\n",
    "import os\n",
    "\n",
    "from dash.dependencies import Input, Output, State\n",
    "\n",
    "\n",
    "#external_stylesheets = ['https://codepen.io/amyoshino/pen/jzXypZ.css']\n",
    "external_stylesheets = ['https://codepen.io/chriddyp/pen/bWLwgP.css']\n",
    "\n",
    "app = dash.Dash(external_stylesheets = external_stylesheets)\n",
    "\n",
    "\n",
    "styles = {\n",
    "    'pre': {\n",
    "        'border': 'thin lightgrey solid',\n",
    "        'overflowX': 'scroll'\n",
    "    }\n",
    "}\n",
    "\n",
    "\n",
    "app.layout = html.Div(\n",
    "        [html.Div(         #Left side control panel\n",
    "            children = [\n",
    "             html.Label('Weighting Category'),\n",
    "             dcc.Dropdown(\n",
    "                id='weight-category',\n",
    "                options=[{'label': i, 'value': i} for i in classes],\n",
    "                value=target_class\n",
    "                ),\n",
    "             html.Br(),\n",
    "             html.Label('Weighting Criterion'),\n",
    "             dcc.Dropdown(\n",
    "                id='weight-criterion',\n",
    "                options=[\n",
    "                    {'label': 'Activations*Grads', 'value': 'actgrads'},\n",
    "                    {'label': 'Activations', 'value': 'acts'}\n",
    "                ],\n",
    "                value='actgrads'\n",
    "                ),\n",
    "             html.Br(),   \n",
    "             html.Label('Layer Projection'),\n",
    "             dcc.Dropdown(\n",
    "                id = 'layer-projection',\n",
    "                options=[\n",
    "                    {'label': 'MDS', 'value': 'MDS'},\n",
    "                    {'label': 'Grid', 'value': 'grid'},\n",
    "                    #{'label': 'SOM', 'value': 'SOM'}\n",
    "                ],\n",
    "                value='MDS'\n",
    "                ),\n",
    "\n",
    "            html.Br(),\n",
    "            html.Label('Lower Edge Threshold'),\n",
    "                dcc.Slider(\n",
    "                    id='lower-thresh-slider',\n",
    "                    min=0,\n",
    "                    max=1,\n",
    "                    step=0.01,\n",
    "                    marks={i/10: str(i/10) for i in range(0,12,2)},\n",
    "                    value=.1,\n",
    "                ),\n",
    "                \n",
    "            html.Br(),\n",
    "            html.Label('Upper Edge Threshold'),\n",
    "                dcc.Slider(\n",
    "                    id='upper-thresh-slider',\n",
    "                    min=0,\n",
    "                    max=1,\n",
    "                    step=0.01,\n",
    "                    marks={i/10: str(i/10) for i in range(0,12,2)},\n",
    "                    value=1,\n",
    "                ),\n",
    "                \n",
    "            ], className=\"two columns\"\n",
    "        ),\n",
    "\n",
    "        html.Div(\n",
    "            children = [\n",
    "                \n",
    "            html.Div([\n",
    "                dcc.Graph(\n",
    "                    id='network-graph',\n",
    "                    figure=fig\n",
    "                )\n",
    "            ], className= 'row'\n",
    "            ),\n",
    "                \n",
    "            html.Div([\n",
    "                html.Div([\n",
    "                html.Label('Input Image'),\n",
    "                dcc.Dropdown(\n",
    "                    id='input-image-dropdown',\n",
    "                    options=[{'label': i, 'value': i} for i in list_of_input_images],\n",
    "                    value=list_of_input_images[6]\n",
    "                ),\n",
    "                html.Br(),\n",
    "                html.Br(),\n",
    "                html.Br(),\n",
    "                html.Br(),\n",
    "                html.Img(id='input-image')#,style={'height':'200%', 'width':'200%'}\n",
    "                ], className = \"three columns\"),\n",
    "                \n",
    "                html.Div([\n",
    "                html.Label('Node'),\n",
    "                dcc.Dropdown(\n",
    "                    id='node-actmap-dropdown',\n",
    "                    options=[{'label': str(i), 'value': i} for i in range(num_nodes)],\n",
    "                    value=0\n",
    "                ),\n",
    "                dcc.Graph(\n",
    "                    id='node-actmap-graph',\n",
    "                    figure=go.Figure(data=go.Heatmap(\n",
    "                                        z = np.flip(activations['nodes'][0][0][0],0)),\n",
    "                                        layout=dict(\n",
    "                                            height=500,\n",
    "                                            width=500)\n",
    "                                    ),\n",
    "                    config={\n",
    "                            'displayModeBar': False\n",
    "                            }\n",
    "                )\n",
    "                ], className = \"three columns\"),\n",
    "                \n",
    "                html.Div([\n",
    "                html.Label('Edge'),    \n",
    "                dcc.Input(\n",
    "                    id='edge-kernel-input',value='0-%s'%str(layer_nodes[1][0]), type='text'),\n",
    "                html.Button(id='edge-kernel-button',n_clicks=0, children='Submit'),\n",
    "                dcc.Graph(\n",
    "                    id='edge-kernel-graph',\n",
    "                    figure=go.Figure(data=go.Heatmap(\n",
    "                                        z = nodestring_2_edge_info('0-%s'%str(layer_nodes[1][0]))\n",
    "                                        ),\n",
    "                                        layout=dict(\n",
    "                                            height=500,\n",
    "                                            width=500)\n",
    "                            ),\n",
    "                    config={\n",
    "                            'displayModeBar': False\n",
    "                            }\n",
    "                )\n",
    "                ], className = \"three columns\")\n",
    "                \n",
    "                \n",
    "             ], className= 'row'\n",
    "             ),\n",
    "                \n",
    "                \n",
    "            html.Div([\n",
    "                html.Div([\n",
    "                    dcc.Markdown(\"\"\"\n",
    "                        **Hover Data**\n",
    "\n",
    "                        Mouse over values in the graph.\n",
    "                    \"\"\"),\n",
    "                    html.Pre(id='hover-data', style=styles['pre'])\n",
    "                ], className='two columns'),\n",
    "\n",
    "                html.Div([\n",
    "                    dcc.Markdown(\"\"\"\n",
    "                        **Click Data**\n",
    "\n",
    "                        Click on points in the graph.\n",
    "                    \"\"\"),\n",
    "                    html.Pre(id='click-data', style=styles['pre']),\n",
    "                ], className='two columns'),\n",
    "\n",
    "                html.Div([\n",
    "                    dcc.Markdown(\"\"\"\n",
    "                        **Selection Data**\n",
    "\n",
    "                        Choose the lasso or rectangle tool in the graph's menu\n",
    "                        bar and then select points in the graph.\n",
    "\n",
    "                        Note that if `layout.clickmode = 'event+select'`, selection data also \n",
    "                        accumulates (or un-accumulates) selected data if you hold down the shift\n",
    "                        button while clicking.\n",
    "                    \"\"\"),\n",
    "                    html.Pre(id='selected-data', style=styles['pre']),\n",
    "                ], className='two columns'),\n",
    "\n",
    "#                 html.Div([\n",
    "#                     dcc.Markdown(\"\"\"\n",
    "#                         **Zoom and Relayout Data**\n",
    "\n",
    "#                         Click and drag on the graph to zoom or click on the zoom\n",
    "#                         buttons in the graph's menu bar.\n",
    "#                         Clicking on legend items will also fire\n",
    "#                         this event.\n",
    "#                     \"\"\"),\n",
    "#                     html.Pre(id='relayout-data', style=styles['pre']),\n",
    "#                 ], className='two columns')\n",
    "                \n",
    "                html.Div([\n",
    "                    dcc.Markdown(\"\"\"\n",
    "                        **Figure Data**\n",
    "\n",
    "                        Figure json info.\n",
    "                    \"\"\"),\n",
    "                    html.Pre(id='figure-data', style=styles['pre']),\n",
    "                ], className='four columns')\n",
    "                \n",
    "            ], className= 'row'\n",
    "            )\n",
    "        ], className=\"ten columns\"\n",
    "        )\n",
    "    ]\n",
    ")\n",
    "\n",
    "\n",
    "\n",
    "\n",
    "####Call Back Functions\n",
    "\n",
    "\n",
    "\n",
    "# @app.callback(\n",
    "#     Output('network-graph', 'figure'),\n",
    "#     [Input('network-graph', 'clickData')])\n",
    "# def highlight_on_click(clickData):\n",
    "#     if clickData['points'][0]['curveNumber'] == None:\n",
    "#         raise Exception('no point clicked yet') \n",
    "#     trace_num = int(clickData['points'][0]['curveNumber'])\n",
    "#     if trace_num < num_layers:   #highlight point\n",
    "#         for layer in node_colors:\n",
    "#             if layer == trace_num:\n",
    "#                 new_colors = list(node_colors[trace_num])\n",
    "#                 new_colors[clickData['points'][0]['pointNumber']] = 'rgba(0,0,0,1)'\n",
    "#                 combined_traces[trace_num]['marker']['color'] = new_colors\n",
    "#             else:\n",
    "#                 combined_traces[layer]['marker']['color'] = node_colors[layer]\n",
    "#     else: #highlight edge\n",
    "#         #raise Exception('lets skip edges for now') \n",
    "#         for layer in Edges:\n",
    "#             new_colors = list(['rgb(125,125,125)' for i in range(len(Edges[layer]))])\n",
    "#             #new_colors = edge_colors_dict[layer]\n",
    "#             if layer == trace_num-num_layers+1:\n",
    "#                 new_colors[clickData['points'][0]['text']] = 'rgba(150,0,0,1)'\n",
    "#             combined_traces[layer]['line']['color'] = new_colors\n",
    "    \n",
    "#     layout = graph_layout\n",
    "#     layout['uirevision'] = True\n",
    "#     return {'data': combined_traces,\n",
    "#             'layout': layout}\n",
    "\n",
    "\n",
    "\n",
    "# @app.callback(\n",
    "#     Output('node-actmap-dropdown', 'value'),\n",
    "#     [Input('network-graph', 'clickData')])\n",
    "# def switch_node_actmap_click(clickData):\n",
    "#     if clickData['points'][0]['curveNumber'] == None:\n",
    "#         raise Exception('no point clicked yet') \n",
    "#     if int(clickData['points'][0]['curveNumber']) >= num_layers:\n",
    "#         raise Exception('Do nothing, they clicked an edge')\n",
    "#     return int(clickData['points'][0]['text'])\n",
    "\n",
    "\n",
    "         \n",
    "# #cant currently click edges\n",
    "# # @app.callback(\n",
    "# #     Output('edge-image-dropdown', 'value'),\n",
    "# #     [Input('network-graph', 'clickData')])\n",
    "# # def switch_edge_image_click(clickData):\n",
    "# #     if int(clickData['points'][0]['curveNumber']) < num_layers:\n",
    "# #         raise Exception('Do nothing, they clicked a node')\n",
    "# #     return list_of_edge_images[int(clickData['points'][0]['pointNumber'])]\n",
    "\n",
    "\n",
    "\n",
    "# #Node activation map\n",
    "# @app.callback(\n",
    "#     Output('node-actmap-graph', 'figure'),\n",
    "#     [Input('node-actmap-dropdown', 'value'),\n",
    "#      Input('input-image-dropdown', 'value')])\n",
    "# def update_node_actmap(nodeid,image_name):\n",
    "#     layer, within_id = nodeid_2_perlayerid(nodeid)\n",
    "#     if layer == 'img':\n",
    "#         pass\n",
    "#         #code for returning color channel as activation map\n",
    "        \n",
    "#     return go.Figure(data=go.Heatmap( z = np.flip(activations[image_name.split('_')[0]][image_name.split('_')[1]][layer][within_id],0)),\n",
    "#                      layout=dict(height=500,\n",
    "#                                  width=500,\n",
    "#                                  uirevision=True)) \n",
    "# #     return {'data':go.Heatmap(\n",
    "# #                               z = activations[image_name.split('_')[0]][image_name.split('_')[1]][layer][within_id]),\n",
    "# #             'layout':dict(height=500,width=500)}\n",
    " \n",
    "    \n",
    "      \n",
    "\n",
    "# @app.callback(\n",
    "#     Output('edge-kernel-graph', 'figure'),\n",
    "#     [Input('edge-kernel-button','n_clicks')],\n",
    "#     [State('edge-kernel-input', 'value')])\n",
    "# def update_edge_kernelmap(n_clicks,nodestring):\n",
    "#     return go.Figure(data=go.Heatmap(z = nodestring_2_edge_info(nodestring)),\n",
    "#                      layout=dict(height=500,\n",
    "#                                  width=500,\n",
    "#                                  uirevision=True)) \n",
    "                \n",
    "\n",
    "# #Input Images\n",
    "# @app.callback(\n",
    "#     Output('input-image', 'src'),\n",
    "#     [Input('input-image-dropdown', 'value')])\n",
    "# def update_input_image_src(value):\n",
    "#     return static_input_image_route + value\n",
    "\n",
    "# @app.server.route('{}<image_path>.png'.format(static_input_image_route))\n",
    "# def serve_input_image(image_path):\n",
    "#     image_name = '{}.png'.format(image_path)\n",
    "#     if image_name not in list_of_input_images:\n",
    "#         raise Exception('\"{}\" is excluded from the allowed static files'.format(image_path))\n",
    "#     return flask.send_from_directory(input_image_directory, image_name)\n",
    "\n",
    "\n",
    "\n",
    "\n",
    "# #JSON INFO\n",
    "\n",
    "# @app.callback(\n",
    "#     Output('hover-data', 'children'),\n",
    "#     [Input('network-graph', 'hoverData')])\n",
    "# def display_hover_data(hoverData):\n",
    "#     return json.dumps(hoverData, indent=2)\n",
    "\n",
    "\n",
    "\n",
    "\n",
    "# @app.callback(\n",
    "#     Output('click-data', 'children'),\n",
    "#     [Input('network-graph', 'clickData')])\n",
    "# def display_click_data(clickData):\n",
    "#     return json.dumps(clickData, indent=2)\n",
    "\n",
    "\n",
    "# @app.callback(\n",
    "#     Output('selected-data', 'children'),\n",
    "#     [Input('network-graph', 'selectedData')])\n",
    "# def display_selected_data(selectedData):\n",
    "#     return json.dumps(selectedData, indent=2)\n",
    "\n",
    "\n",
    "\n",
    "# @app.callback(\n",
    "#     Output('network-graph', 'figure'),\n",
    "#     [Input('weight-category', 'value'),\n",
    "#      Input('network-graph', 'clickData'),\n",
    "#      Input('lower-thresh-slider','value')])\n",
    "# def update_figure(target_class,clickData,edge_thresh):\n",
    "#     node_colors = gen_node_colors(target_class)\n",
    "#     Edges,edge_weights = gen_edge_subset_and_weights(target_class,edge_threshold=edge_thresh)\n",
    "#     edge_positions = gen_edge_positions(Edges)\n",
    "#     click_layer = int(clickData['points'][0]['curveNumber'])\n",
    "#     for layer in node_colors:\n",
    "#         if layer == click_layer:\n",
    "#             new_colors = list(node_colors[click_layer])\n",
    "#             new_colors[clickData['points'][0]['pointNumber']] = 'rgba(0,0,0,1)'\n",
    "#             combined_traces[layer]['marker']['color'] = new_colors\n",
    "#         else:\n",
    "#             combined_traces[layer]['marker']['color'] = node_colors[layer]\n",
    "\n",
    "#     for layer in edge_positions:\n",
    "#         combined_traces[layer-1+num_layers] = go.Scatter3d(x=edge_positions[layer]['X'],\n",
    "#                                 y=edge_positions[layer]['Y'],\n",
    "#                                 z=edge_positions[layer]['Z'],\n",
    "#                                 name=layernum2name(layer ,title = 'edges'),\n",
    "#                                 mode='lines',\n",
    "#                                 #line=dict(color=edge_colors_dict[layer], width=1.5),\n",
    "#                                 line=dict(color='rgb(100,100,100)', width=1.5),\n",
    "#                                 text = list(range(len(Edges[layer])))\n",
    "#                                 #hoverinfo='text'\n",
    "#                                 )\n",
    "   \n",
    "#     layout = graph_layout\n",
    "#     layout['uirevision'] = True\n",
    "#     return {'data': combined_traces,\n",
    "#             'layout': layout}\n",
    "\n",
    "\n",
    "\n",
    "\n",
    "\n",
    "\n",
    "\n",
    "\n",
    "\n",
    "\n",
    "\n",
    "\n",
    "\n",
    "\n",
    "\n",
    "\n",
    "# @app.callback(\n",
    "#     Output('relayout-data', 'children'),\n",
    "#     [Input('network-graph', 'relayoutData')])\n",
    "# def display_relayout_data(relayoutData):\n",
    "#     return json.dumps(relayoutData, indent=2)\n",
    "\n",
    "\n",
    "\n",
    "\n",
    "\n",
    "# @app.callback(\n",
    "#     Output('figure-data', 'children'),\n",
    "#     [Input('network-graph', 'figure')])\n",
    "# def display_figure_data(figure):\n",
    "#     return json.dumps(figure, indent=2)\n",
    "\n",
    "\n",
    "\n",
    "\n",
    "\n",
    "\n",
    "# Add a static image route that serves images from desktop\n",
    "# Be *very* careful here - you don't want to serve arbitrary files\n",
    "# from your computer or server\n",
    "\n",
    "# @app.callback(Output('my-div', 'children'),\n",
    "#                      [Input('my-input', 'value')],\n",
    "#                      [State('my-div', 'children')])\n",
    "# def update_div(value, existing_state):\n",
    "#     if some_condition:\n",
    "#          return existing_state\n",
    "\n",
    "\n",
    "#py.iplot(fig, filename='small_net')\n",
    "\n",
    "\n",
    "\n",
    "#             html.Label('Multi-Select Dropdown'),\n",
    "#             dcc.Dropdown(\n",
    "#                 options=[\n",
    "#                     {'label': 'New York City', 'value': 'NYC'},\n",
    "#                     {'label': u'Montréal', 'value': 'MTL'},\n",
    "#                     {'label': 'San Francisco', 'value': 'SF'}\n",
    "#                 ],\n",
    "#                 value=['MTL', 'SF'],\n",
    "#                 multi=True\n",
    "#                 ),\n",
    "\n",
    "#             html.Label('Radio Items'),\n",
    "#             dcc.RadioItems(\n",
    "#                 options=[\n",
    "#                     {'label': 'New York City', 'value': 'NYC'},\n",
    "#                     {'label': u'Montréal', 'value': 'MTL'},\n",
    "#                     {'label': 'San Francisco', 'value': 'SF'}\n",
    "#                 ],\n",
    "#                 value='MTL'\n",
    "#                 ),\n",
    "\n",
    "# @app.callback(Output('output-state', 'children'),\n",
    "#               [Input('submit-button-state', 'n_clicks')],\n",
    "#               [State('input-1-state', 'value'),\n",
    "#                State('input-2-state', 'value')])\n",
    "# def update_output(n_clicks, input1, input2):\n",
    "#     return u'''\n",
    "#         The Button has been pressed {} times,\n",
    "#         Input 1 is \"{}\",\n",
    "#         and Input 2 is \"{}\"\n",
    "#     '''.format(n_clicks, input1, input2)\n",
    "    \n",
    "    \n",
    "# @app.server.route('{}<image_path>.png'.format(node_static_image_route))\n",
    "# def serve_node_image(image_path):\n",
    "#     image_name = '{}.png'.format(image_path)\n",
    "#     if image_name not in list_of_node_images:\n",
    "#         raise Exception('\"{}\" is excluded from the allowed static files'.format(image_path))\n",
    "#     return flask.send_from_directory(node_image_directory, image_name)\n"
   ]
  },
  {
   "cell_type": "code",
   "execution_count": 48,
   "metadata": {},
   "outputs": [
    {
     "name": "stdout",
     "output_type": "stream",
     "text": [
      " * Serving Flask app \"__main__\" (lazy loading)\n",
      " * Environment: production\n",
      "\u001b[31m   WARNING: This is a development server. Do not use it in a production deployment.\u001b[0m\n",
      "\u001b[2m   Use a production WSGI server instead.\u001b[0m\n",
      " * Debug mode: off\n"
     ]
    },
    {
     "name": "stderr",
     "output_type": "stream",
     "text": [
      " * Running on http://127.0.0.1:8050/ (Press CTRL+C to quit)\n",
      "127.0.0.1 - - [18/Jun/2020 00:20:44] \"\u001b[37mGET / HTTP/1.1\u001b[0m\" 200 -\n",
      "127.0.0.1 - - [18/Jun/2020 00:20:45] \"\u001b[37mGET /_dash-dependencies HTTP/1.1\u001b[0m\" 200 -\n",
      "127.0.0.1 - - [18/Jun/2020 00:20:45] \"\u001b[37mGET /_dash-layout HTTP/1.1\u001b[0m\" 200 -\n"
     ]
    }
   ],
   "source": [
    "app.run_server()"
   ]
  },
  {
   "cell_type": "code",
   "execution_count": 216,
   "metadata": {},
   "outputs": [
    {
     "name": "stdout",
     "output_type": "stream",
     "text": [
      "[array([[[ 1.2824656 ,  0.8565904 ,  0.8818083 , ...,  0.87015975,\n",
      "          0.855741  ,  0.7828878 ],\n",
      "        [ 1.2424941 ,  0.23603298,  0.2525151 , ...,  0.23459584,\n",
      "          0.22942215,  0.64034116],\n",
      "        [ 1.301531  ,  0.2654904 ,  0.2696002 , ...,  0.24644026,\n",
      "          0.2499801 ,  0.66129947],\n",
      "        ...,\n",
      "        [ 1.521893  ,  0.34898174,  0.3139554 , ...,  0.30267176,\n",
      "          0.29700178,  0.8708159 ],\n",
      "        [ 1.4859303 ,  0.3290515 ,  0.44562238, ...,  0.2992803 ,\n",
      "          0.2746499 ,  0.86019945],\n",
      "        [ 1.7619598 ,  0.46666557,  0.54549456, ...,  0.6023208 ,\n",
      "          0.5483697 ,  0.691553  ]],\n",
      "\n",
      "       [[-0.03734329,  0.17756009,  0.1765095 , ...,  0.18297783,\n",
      "          0.17204088,  0.16133627],\n",
      "        [-0.37692112, -0.08926529, -0.08464667, ..., -0.09308489,\n",
      "         -0.09154018,  0.12175873],\n",
      "        [-0.4008486 , -0.11605299, -0.10956731, ..., -0.07384205,\n",
      "         -0.07937238,  0.12824655],\n",
      "        ...,\n",
      "        [-0.29320723,  0.17471272,  0.42962372, ..., -0.14880958,\n",
      "         -0.14093038,  0.16946101],\n",
      "        [-0.3956589 , -0.04501414,  0.07325804, ..., -0.16314158,\n",
      "         -0.13710248,  0.16949978],\n",
      "        [-1.067225  , -1.4572251 , -1.4372184 , ..., -1.7309234 ,\n",
      "         -1.7568948 , -1.3288221 ]],\n",
      "\n",
      "       [[-0.8150272 , -0.31506634, -0.3127339 , ..., -0.34513253,\n",
      "         -0.3383371 , -1.2375562 ],\n",
      "        [-0.34891358, -0.11739516, -0.10276756, ..., -0.12608202,\n",
      "         -0.1283057 , -0.96692353],\n",
      "        [-0.35949966, -0.11427278, -0.11045872, ..., -0.13809387,\n",
      "         -0.15238175, -0.999126  ],\n",
      "        ...,\n",
      "        [-0.38517073, -0.15173563, -0.28823197, ..., -0.15527911,\n",
      "         -0.14027067, -1.2730495 ],\n",
      "        [-0.34803084, -0.13481615, -0.18285133, ..., -0.16440153,\n",
      "         -0.14487006, -1.2559156 ],\n",
      "        [-0.1934507 , -0.14170909, -0.13193284, ..., -0.1518044 ,\n",
      "         -0.132309  ,  0.27891424]],\n",
      "\n",
      "       ...,\n",
      "\n",
      "       [[ 0.20654753, -0.00390461, -0.00634768, ..., -0.00207711,\n",
      "         -0.0068743 ,  0.13293433],\n",
      "        [ 0.38083324,  0.04906004,  0.05292543, ...,  0.03472159,\n",
      "          0.02994088,  0.370873  ],\n",
      "        [ 0.39057145,  0.04304124,  0.04426383, ...,  0.03938275,\n",
      "          0.04153471,  0.3831307 ],\n",
      "        ...,\n",
      "        [ 0.47751215,  0.13195351,  0.20287976, ...,  0.04213787,\n",
      "          0.04805953,  0.5616264 ],\n",
      "        [ 0.43536195,  0.07000957,  0.1303542 , ...,  0.06114718,\n",
      "          0.05317497,  0.5690625 ],\n",
      "        [ 0.01473054, -0.2877195 , -0.25473478, ..., -0.36122328,\n",
      "         -0.38423344, -0.13206413]],\n",
      "\n",
      "       [[-1.0062642 , -1.2147315 , -1.2258056 , ..., -1.2567132 ,\n",
      "         -1.2357169 , -0.9628792 ],\n",
      "        [-1.0889106 , -1.174284  , -1.1900814 , ..., -1.194574  ,\n",
      "         -1.176849  , -0.95191383],\n",
      "        [-1.1242989 , -1.2117625 , -1.2232695 , ..., -1.2352923 ,\n",
      "         -1.2179452 , -0.9717938 ],\n",
      "        ...,\n",
      "        [-1.1302223 , -1.129319  , -0.96876144, ..., -1.4460406 ,\n",
      "         -1.4643924 , -1.15092   ],\n",
      "        [-1.1557146 , -1.2261232 , -1.2005823 , ..., -1.4261918 ,\n",
      "         -1.4363114 , -1.1403981 ],\n",
      "        [-1.0170003 , -0.94744337, -0.9621295 , ..., -1.0848585 ,\n",
      "         -1.0865754 , -0.52559435]],\n",
      "\n",
      "       [[-1.2395046 , -0.85216725, -0.8725362 , ..., -0.83226436,\n",
      "         -0.8183533 , -0.08807662],\n",
      "        [-1.0101397 , -0.45013964, -0.46011326, ..., -0.387144  ,\n",
      "         -0.39278927,  0.6342791 ],\n",
      "        [-1.0079206 , -0.4332789 , -0.45955852, ..., -0.38408262,\n",
      "         -0.37236017,  0.6763355 ],\n",
      "        ...,\n",
      "        [-1.0224364 , -0.4307798 , -0.5349696 , ..., -0.35662138,\n",
      "         -0.32786497,  1.1287005 ],\n",
      "        [-1.0002848 , -0.35077745, -0.3719527 , ..., -0.35475552,\n",
      "         -0.32880178,  1.1128283 ],\n",
      "        [ 0.20567489,  0.4339313 ,  0.46247512, ...,  0.6217217 ,\n",
      "          0.62800866,  0.8874964 ]]], dtype=float32), array([[[-0.9648453 , -1.9694368 , -0.8933512 , ..., -0.91903365,\n",
      "         -1.3429826 , -0.76206875],\n",
      "        [-0.03517404, -1.1028848 ,  0.33025062, ...,  0.3113224 ,\n",
      "         -0.5040401 , -0.13856289],\n",
      "        [-0.02545246, -1.4816473 ,  0.01827426, ..., -0.07754156,\n",
      "         -0.9365262 , -0.36455962],\n",
      "        ...,\n",
      "        [-0.38564715, -2.7168915 , -2.1870291 , ...,  0.02195439,\n",
      "         -1.2889684 , -0.4950619 ],\n",
      "        [ 0.7275388 , -0.6656636 ,  0.24372724, ...,  1.0463864 ,\n",
      "         -0.26270854, -0.10949409],\n",
      "        [ 0.34903076, -0.7838955 , -0.03688794, ..., -0.12968153,\n",
      "         -0.704296  , -0.15837383]],\n",
      "\n",
      "       [[-1.7039272 , -0.45567766, -0.5066727 , ..., -0.32021683,\n",
      "         -0.29977766,  0.8441048 ],\n",
      "        [-2.8752437 , -0.7208724 , -0.6801988 , ..., -0.48754704,\n",
      "         -1.2399304 ,  0.4116892 ],\n",
      "        [-2.7777853 , -0.7287295 , -0.44536856, ..., -0.26973274,\n",
      "         -1.2699115 , -0.0593383 ],\n",
      "        ...,\n",
      "        [-3.317332  , -1.245322  , -0.2148196 , ..., -0.5781893 ,\n",
      "         -2.0619335 , -0.32390818],\n",
      "        [-3.932571  , -2.1827807 , -1.7739054 , ..., -1.6064914 ,\n",
      "         -2.77109   , -0.4805129 ],\n",
      "        [-2.6900766 , -2.1595266 , -1.9391098 , ..., -2.001801  ,\n",
      "         -3.530991  , -1.6560433 ]],\n",
      "\n",
      "       [[-0.47244206, -0.18002295, -0.26384386, ..., -0.26090047,\n",
      "         -0.29833218, -0.1450477 ],\n",
      "        [-1.1421303 , -1.0141495 , -1.1788087 , ..., -1.1592314 ,\n",
      "         -1.2876269 , -0.88621294],\n",
      "        [-0.8265392 , -0.52222574, -0.5264922 , ..., -0.4989292 ,\n",
      "         -0.8519779 , -0.77806455],\n",
      "        ...,\n",
      "        [-1.1065997 , -0.8222513 , -0.89955   , ..., -0.69545233,\n",
      "         -1.2182231 , -1.0675491 ],\n",
      "        [-1.2117791 , -0.58626294, -0.82333875, ..., -0.7590575 ,\n",
      "         -1.0122074 , -0.8332522 ],\n",
      "        [-1.1427404 , -0.66541886, -0.46374568, ..., -0.5309875 ,\n",
      "         -0.48190585, -0.3608006 ]],\n",
      "\n",
      "       ...,\n",
      "\n",
      "       [[-0.1209885 , -1.3462725 , -0.8613836 , ..., -0.90202963,\n",
      "         -1.3446372 , -0.7810722 ],\n",
      "        [ 0.04774993, -2.1326005 , -1.2160891 , ..., -1.299246  ,\n",
      "         -1.9431158 , -1.2307612 ],\n",
      "        [ 0.30834335, -1.8361776 , -0.74681216, ..., -0.8005506 ,\n",
      "         -1.5473452 , -0.9782986 ],\n",
      "        ...,\n",
      "        [ 0.37804025, -2.3841603 , -1.1660343 , ..., -0.9847448 ,\n",
      "         -2.070965  , -1.3669611 ],\n",
      "        [ 0.3833192 , -2.3493903 , -1.4876341 , ..., -1.1228801 ,\n",
      "         -2.3168657 , -1.7187097 ],\n",
      "        [ 0.24836963, -1.672851  , -1.109997  , ..., -1.0657237 ,\n",
      "         -1.6794616 , -1.498862  ]],\n",
      "\n",
      "       [[-1.3111475 , -0.916832  , -1.0776457 , ..., -1.0932547 ,\n",
      "         -1.4341356 , -0.3841839 ],\n",
      "        [-0.42578736, -0.3210214 , -0.5494573 , ..., -0.5644791 ,\n",
      "         -0.8927337 ,  0.33218184],\n",
      "        [ 0.00820556, -0.42627057, -0.2990319 , ..., -0.28909367,\n",
      "         -0.490809  ,  0.6111022 ],\n",
      "        ...,\n",
      "        [-0.24285659, -1.1951022 , -1.888777  , ..., -0.17552881,\n",
      "         -0.30965516,  1.1604407 ],\n",
      "        [-0.14786401, -0.89714503, -1.1841624 , ..., -0.14063567,\n",
      "         -0.5890081 ,  1.4243577 ],\n",
      "        [ 0.29716402, -0.31640992, -0.04606546, ...,  0.29996327,\n",
      "          0.73920274,  2.1977274 ]],\n",
      "\n",
      "       [[-2.4633038 , -2.191793  , -2.6443584 , ..., -2.729577  ,\n",
      "         -2.7978349 , -3.059402  ],\n",
      "        [-1.9156083 , -0.01254844, -0.3529993 , ..., -0.41259208,\n",
      "         -0.54378927, -2.1210542 ],\n",
      "        [-1.860139  ,  0.43883768, -0.19366257, ..., -0.21530187,\n",
      "         -0.18572545, -2.2150912 ],\n",
      "        ...,\n",
      "        [-2.6382031 , -1.0862492 , -3.1447158 , ..., -0.21083716,\n",
      "         -0.09002554, -2.9350102 ],\n",
      "        [-2.8762465 , -1.6083106 , -3.5001822 , ..., -2.1009667 ,\n",
      "         -1.8484364 , -3.742177  ],\n",
      "        [-1.5405902 , -0.10774973, -1.0533261 , ..., -0.854651  ,\n",
      "         -0.58243   , -1.7569509 ]]], dtype=float32), array([[[ 1.21986255e-01, -1.93186238e-01, -1.46480277e-01, ...,\n",
      "         -1.05382338e-01,  4.89484072e-02,  1.59735650e-01],\n",
      "        [-5.73145300e-02, -2.90336370e-01,  1.45664752e-01, ...,\n",
      "          5.59400916e-02,  2.56420791e-01,  4.81275618e-02],\n",
      "        [ 2.26554081e-01, -6.63440824e-02,  8.78430456e-02, ...,\n",
      "          2.52293408e-01,  5.18297374e-01,  1.47750974e-03],\n",
      "        ...,\n",
      "        [ 6.32873893e-01, -5.72333515e-01, -4.51068640e-01, ...,\n",
      "         -7.14409769e-01, -2.39713356e-01, -9.23512280e-01],\n",
      "        [ 1.25586838e-02, -9.69157159e-01, -6.87416852e-01, ...,\n",
      "         -1.22249687e+00, -5.94778597e-01, -1.07892466e+00],\n",
      "        [-2.23150566e-01, -6.49666488e-01, -6.65457428e-01, ...,\n",
      "         -5.92685223e-01, -5.83363593e-01, -9.10105526e-01]],\n",
      "\n",
      "       [[-6.05828285e-01,  1.86282396e-02,  2.59647727e-01, ...,\n",
      "          3.20667833e-01,  1.53970122e-02,  1.54496580e-02],\n",
      "        [ 1.06470138e-02,  7.26283371e-01,  4.88024503e-01, ...,\n",
      "          6.00492835e-01,  7.65359640e-01,  6.08809710e-01],\n",
      "        [-2.34963149e-01,  5.46534657e-01, -6.45751834e-01, ...,\n",
      "          2.00660914e-01,  3.36184621e-01,  3.45110893e-01],\n",
      "        ...,\n",
      "        [-6.90082669e-01, -3.81932437e-01,  7.74580538e-02, ...,\n",
      "          7.93295562e-01,  2.05509996e+00,  1.95832837e+00],\n",
      "        [-1.61231267e+00, -1.74358940e+00, -1.42174482e+00, ...,\n",
      "          3.25491965e-01,  2.12730572e-01,  3.80704403e-02],\n",
      "        [ 3.46833557e-01,  5.59902668e-01,  5.36760986e-02, ...,\n",
      "          1.13682318e+00,  1.10797215e+00,  7.05192268e-01]],\n",
      "\n",
      "       [[-3.65714133e-02, -1.88221142e-01, -5.27956724e-01, ...,\n",
      "         -4.17396486e-01, -7.40313232e-01, -1.68306455e-01],\n",
      "        [-2.25772709e-02,  1.63429216e-01, -2.51877248e-01, ...,\n",
      "         -1.20726854e-01, -7.27003992e-01,  1.91917017e-01],\n",
      "        [ 1.09467179e-01,  2.13867471e-01,  3.17015886e-01, ...,\n",
      "         -5.86868674e-02, -7.39840925e-01,  8.78313184e-02],\n",
      "        ...,\n",
      "        [-6.88908756e-01, -7.49354303e-01, -7.00558603e-01, ...,\n",
      "         -2.36389589e+00, -1.81911504e+00,  2.07957581e-01],\n",
      "        [-1.52351677e+00, -1.84687316e+00, -1.37671244e+00, ...,\n",
      "         -1.07329333e+00, -1.24419510e+00, -1.31766722e-01],\n",
      "        [-1.64954281e+00, -2.21271324e+00, -2.28022289e+00, ...,\n",
      "         -1.13036072e+00, -1.64945197e+00, -7.28402197e-01]],\n",
      "\n",
      "       ...,\n",
      "\n",
      "       [[-4.09938574e-01, -1.19296908e+00, -4.73855436e-01, ...,\n",
      "         -4.39271510e-01, -3.75884324e-02, -1.56540656e+00],\n",
      "        [-7.36626804e-01, -1.53819835e+00, -6.52204931e-01, ...,\n",
      "         -6.16987765e-01, -1.02420941e-01, -2.25855970e+00],\n",
      "        [-3.20032239e-01, -9.12625968e-01, -8.28097224e-01, ...,\n",
      "         -4.48730290e-02,  5.05689144e-01, -1.89925873e+00],\n",
      "        ...,\n",
      "        [ 1.29684627e-01, -3.69488955e-01,  1.22012645e-01, ...,\n",
      "         -2.47597718e+00, -1.66500235e+00, -2.91809011e+00],\n",
      "        [-6.85352027e-01, -1.76281202e+00, -1.69730186e+00, ...,\n",
      "         -2.99280286e+00, -1.35161519e+00, -3.28242898e+00],\n",
      "        [-8.49653065e-01, -2.32872510e+00, -1.91038740e+00, ...,\n",
      "         -9.52211797e-01, -8.10495794e-01, -2.13023400e+00]],\n",
      "\n",
      "       [[ 1.24046281e-01,  9.56437111e-01,  3.14893425e-01, ...,\n",
      "          2.49281749e-01,  1.24788240e-01,  2.53566325e-01],\n",
      "        [-5.43203175e-01,  1.27272755e-02, -9.68411118e-02, ...,\n",
      "         -9.24046710e-02, -4.14559543e-01, -4.79849935e-01],\n",
      "        [-5.22684515e-01,  5.05423695e-02,  5.02782464e-01, ...,\n",
      "         -9.45867598e-02, -4.03286636e-01, -2.49452263e-01],\n",
      "        ...,\n",
      "        [-6.64890409e-01, -8.93452764e-01, -3.62225771e-02, ...,\n",
      "          9.10566330e-01, -3.81612241e-01, -6.70413524e-02],\n",
      "        [-4.93575990e-01, -4.15847242e-01,  8.00264031e-02, ...,\n",
      "          3.34618390e-01, -1.49454832e-01,  7.21852332e-02],\n",
      "        [-5.06313264e-01, -9.00941610e-01, -7.76102543e-02, ...,\n",
      "          2.31905237e-01,  3.05520147e-02, -3.32750022e-01]],\n",
      "\n",
      "       [[ 2.62576818e-01,  4.14325953e-01,  1.40229523e-01, ...,\n",
      "          3.14381607e-02,  1.81525260e-01,  3.37544501e-01],\n",
      "        [ 2.60788262e-01,  3.91410887e-01, -5.07573038e-02, ...,\n",
      "         -1.88343808e-01,  3.46200168e-03,  1.39414415e-01],\n",
      "        [ 4.85359550e-01,  2.72506893e-01, -1.05933976e+00, ...,\n",
      "          1.63365871e-01,  2.90940642e-01,  3.74769032e-01],\n",
      "        ...,\n",
      "        [-9.53349620e-02, -6.16627395e-01, -9.59954441e-01, ...,\n",
      "         -5.11441529e-01,  2.54401803e-01,  6.83777511e-01],\n",
      "        [ 3.50767821e-02, -2.35142663e-01, -1.27679479e+00, ...,\n",
      "          9.97153297e-02,  2.94365644e-01,  6.96617365e-03],\n",
      "        [-5.05704224e-01, -8.84387672e-01, -1.25247180e+00, ...,\n",
      "         -3.87623906e-01, -3.59414518e-01, -7.14722455e-01]]],\n",
      "      dtype=float32), array([[[-9.72076118e-01, -9.90967453e-01, -1.18906903e+00, ...,\n",
      "         -7.76704192e-01, -1.12949860e+00, -7.65398562e-01],\n",
      "        [-1.96178305e+00, -2.47766685e+00, -2.55002046e+00, ...,\n",
      "         -1.94688547e+00, -2.73303127e+00, -2.28537488e+00],\n",
      "        [-1.02837479e+00, -1.05707932e+00, -2.46747971e+00, ...,\n",
      "         -1.53247809e+00, -2.10452342e+00, -1.71412563e+00],\n",
      "        ...,\n",
      "        [ 4.62664276e-01, -4.64801341e-02,  1.73208550e-01, ...,\n",
      "         -3.51694155e+00, -4.62261343e+00, -2.26707101e+00],\n",
      "        [-1.10142350e+00, -4.45260406e-01,  1.77793443e+00, ...,\n",
      "         -3.81758690e+00, -3.64261651e+00, -1.58875990e+00],\n",
      "        [-2.86538124e+00, -5.23263121e+00, -4.65623045e+00, ...,\n",
      "         -3.63190961e+00, -3.41687155e+00, -2.01547074e+00]],\n",
      "\n",
      "       [[-8.49550545e-01, -7.71379173e-01,  3.71320069e-01, ...,\n",
      "          3.23882490e-01, -1.89511850e-01, -4.56877321e-01],\n",
      "        [-8.48866463e-01, -8.59801918e-02,  1.33755195e+00, ...,\n",
      "          3.92629392e-03, -7.92508781e-01, -9.21952724e-01],\n",
      "        [-7.99113393e-01, -9.40738678e-01,  1.64348379e-01, ...,\n",
      "         -4.60026503e-01, -1.31305456e+00, -1.32169354e+00],\n",
      "        ...,\n",
      "        [-2.19129872e+00, -4.32314825e+00, -3.74714351e+00, ...,\n",
      "          1.29973769e-01, -4.28461105e-01,  1.23130545e-01],\n",
      "        [-3.77086222e-01, -3.23877907e+00, -5.09993839e+00, ...,\n",
      "         -5.24378419e-01, -5.97731948e-01, -3.50102544e-01],\n",
      "        [ 1.15672991e-01, -7.83040881e-01, -7.70154178e-01, ...,\n",
      "         -8.87614489e-01, -1.01102388e+00, -8.85867238e-01]],\n",
      "\n",
      "       [[-2.39687824e+00, -3.45673418e+00, -3.25051212e+00, ...,\n",
      "         -2.37029433e+00, -2.44056153e+00, -1.79688418e+00],\n",
      "        [-2.80827379e+00, -4.55933428e+00, -4.04984093e+00, ...,\n",
      "         -3.25848842e+00, -3.70700550e+00, -2.38938069e+00],\n",
      "        [-2.26936793e+00, -3.65691566e+00, -2.84675741e+00, ...,\n",
      "         -2.89217830e+00, -3.63443327e+00, -1.89356184e+00],\n",
      "        ...,\n",
      "        [-1.61145985e+00, -3.04319549e+00, -3.41241479e+00, ...,\n",
      "         -6.52639771e+00, -6.99230385e+00, -3.87710953e+00],\n",
      "        [-3.12594748e+00, -4.50348902e+00, -4.32360792e+00, ...,\n",
      "         -6.49562073e+00, -6.47890806e+00, -1.95950472e+00],\n",
      "        [-3.48655009e+00, -4.24139833e+00, -4.63049650e+00, ...,\n",
      "         -4.50388288e+00, -4.22986078e+00, -6.86451316e-01]],\n",
      "\n",
      "       ...,\n",
      "\n",
      "       [[-1.51863885e+00, -1.82339990e+00, -3.03914762e+00, ...,\n",
      "         -1.84646010e+00, -1.86793041e+00, -3.72364908e-01],\n",
      "        [-2.90089631e+00, -4.11241388e+00, -6.80326414e+00, ...,\n",
      "         -3.45518494e+00, -3.09218478e+00, -1.00407779e+00],\n",
      "        [-2.56576037e+00, -2.82124710e+00, -2.74844217e+00, ...,\n",
      "         -3.13336587e+00, -2.93512630e+00, -3.32272440e-01],\n",
      "        ...,\n",
      "        [-2.37217993e-01, -1.05515860e-01, -3.49559736e+00, ...,\n",
      "         -4.18668127e+00, -3.82108331e+00, -8.06535706e-02],\n",
      "        [ 5.85667372e-01,  6.59021199e-01, -1.15885007e+00, ...,\n",
      "         -2.88255572e+00, -2.16666293e+00,  1.34109271e+00],\n",
      "        [-7.07825303e-01, -1.89234483e+00, -2.79628730e+00, ...,\n",
      "         -1.58787787e+00, -1.55451965e+00, -1.18770123e+00]],\n",
      "\n",
      "       [[-9.60939050e-01, -2.63210440e+00, -3.81115007e+00, ...,\n",
      "         -3.49972248e+00, -3.74887729e+00, -3.35412860e+00],\n",
      "        [-1.21870112e+00, -2.97187662e+00, -5.22667933e+00, ...,\n",
      "         -2.81026411e+00, -3.18564916e+00, -2.97329617e+00],\n",
      "        [-1.87833691e+00, -3.15912199e+00, -5.10883856e+00, ...,\n",
      "         -3.00912333e+00, -3.16473889e+00, -2.91948748e+00],\n",
      "        ...,\n",
      "        [-3.81077290e+00, -5.30334902e+00, -4.62448502e+00, ...,\n",
      "         -4.62147760e+00, -4.44865036e+00, -4.44976568e+00],\n",
      "        [-5.13463449e+00, -9.86221695e+00, -1.05819740e+01, ...,\n",
      "         -5.56505489e+00, -6.96136427e+00, -5.43701029e+00],\n",
      "        [-2.77967668e+00, -4.85858965e+00, -5.60966015e+00, ...,\n",
      "         -1.91793227e+00, -2.46467566e+00, -8.54645491e-01]],\n",
      "\n",
      "       [[-3.19452733e-01, -1.33935142e+00, -2.20333624e+00, ...,\n",
      "         -2.17850876e+00, -1.77647400e+00, -1.52386844e+00],\n",
      "        [-1.18072987e-01, -1.33550596e+00, -2.59908700e+00, ...,\n",
      "         -1.90414023e+00, -1.09986699e+00, -1.68427062e+00],\n",
      "        [-8.38377714e-01, -2.14940095e+00, -3.08941579e+00, ...,\n",
      "         -1.92780018e+00, -8.48958433e-01, -1.44659293e+00],\n",
      "        ...,\n",
      "        [-8.52308452e-01, -2.71808076e+00, -2.15215087e+00, ...,\n",
      "         -3.14967585e+00,  1.47527426e-01, -8.56991768e-01],\n",
      "        [-9.35476780e-01, -3.60750842e+00, -4.77293015e+00, ...,\n",
      "         -2.56897831e+00, -2.34903431e+00, -2.72922039e+00],\n",
      "        [ 3.17496181e-01, -6.28694057e-01, -1.00043368e+00, ...,\n",
      "          5.73740959e-01,  3.38057071e-01, -1.10315430e+00]]],\n",
      "      dtype=float32)]\n"
     ]
    },
    {
     "name": "stderr",
     "output_type": "stream",
     "text": [
      "/Users/chrishamblin/miniconda3/envs/graph_viz/lib/python3.7/site-packages/ipykernel_launcher.py:22: UserWarning:\n",
      "\n",
      "Boolean Series key will be reindexed to match DataFrame index.\n",
      "\n",
      "/Users/chrishamblin/miniconda3/envs/graph_viz/lib/python3.7/site-packages/ipykernel_launcher.py:23: UserWarning:\n",
      "\n",
      "Boolean Series key will be reindexed to match DataFrame index.\n",
      "\n"
     ]
    }
   ],
   "source": [
    "image_name = 'airplane_0001.png'\n",
    "layer, within_id = nodeid_2_perlayerid(149)\n",
    "#print(activations[image_name.split('_')[0]][image_name.split('_')[1]])"
   ]
  },
  {
   "cell_type": "code",
   "execution_count": 295,
   "metadata": {},
   "outputs": [
    {
     "name": "stdout",
     "output_type": "stream",
     "text": [
      "{1: [0.13393096771897106, 0.17065674557004942, 0.22843438109956082, 0.21554536803804325, 0.21937029231531824, 0.21865732496510404, 0.1143273308230981, 0.11066470293216926, 0.3083848996134648, 0.11906178153320646, 0.12250828264472524, 0.2549085819787109, 0.10126440253318592], 2: [0.10364892214199276, 0.11814751072434504, 0.2888343040092387, 0.12981509666264301, 0.10236099485570092, 0.1261464246642916, 0.13022122981671022, 0.12924746744562124, 0.22363833715187909, 0.2201996633475538, 0.17473984297618372, 0.12294931867272751, 0.1355681624089815, 0.13662098730953784, 0.10326656722572025, 0.11225775284586524, 0.11832326072405053, 0.11564111721386361, 0.11151365338039465, 0.11474165757599675], 3: [0.12264937774880827, 0.1127526765768474, 0.24119884152364257, 0.10840558234491304, 0.10534195927919754, 0.10874473474096023, 0.1079315683249016, 0.18675519871622193, 0.18388364181848438, 0.14592119810163062, 0.10267213007023734, 0.11320983438133947, 0.11408902408566667]}\n"
     ]
    }
   ],
   "source": [
    "print(edge_weights)"
   ]
  },
  {
   "cell_type": "raw",
   "metadata": {},
   "source": [
    "for layer in edge_colors_dict:\n",
    "    print(layer)\n",
    "    print(len(edge_colors_dict[layer]))\n",
    "    print(edge_colors_dict[layer])\n",
    "\n",
    "    \n",
    "    \n",
    "for layer in edge_positions:\n",
    "    print(layer)\n",
    "    print(edge_positions)\n",
    "    \n",
    "    "
   ]
  },
  {
   "cell_type": "code",
   "execution_count": 339,
   "metadata": {},
   "outputs": [
    {
     "data": {
      "text/plain": [
       "{1: {'X': [0,\n",
       "   1,\n",
       "   None,\n",
       "   0,\n",
       "   1,\n",
       "   None,\n",
       "   0,\n",
       "   1,\n",
       "   None,\n",
       "   0,\n",
       "   1,\n",
       "   None,\n",
       "   0,\n",
       "   1,\n",
       "   None,\n",
       "   0,\n",
       "   1,\n",
       "   None,\n",
       "   0,\n",
       "   1,\n",
       "   None,\n",
       "   0,\n",
       "   1,\n",
       "   None,\n",
       "   0,\n",
       "   1,\n",
       "   None,\n",
       "   0,\n",
       "   1,\n",
       "   None,\n",
       "   0,\n",
       "   1,\n",
       "   None,\n",
       "   0,\n",
       "   1,\n",
       "   None,\n",
       "   0,\n",
       "   1,\n",
       "   None,\n",
       "   0,\n",
       "   1,\n",
       "   None,\n",
       "   0,\n",
       "   1,\n",
       "   None,\n",
       "   0,\n",
       "   1,\n",
       "   None,\n",
       "   0,\n",
       "   1,\n",
       "   None,\n",
       "   0,\n",
       "   1,\n",
       "   None,\n",
       "   0,\n",
       "   1,\n",
       "   None,\n",
       "   0,\n",
       "   1,\n",
       "   None,\n",
       "   0,\n",
       "   1,\n",
       "   None,\n",
       "   0,\n",
       "   1,\n",
       "   None,\n",
       "   0,\n",
       "   1,\n",
       "   None,\n",
       "   0,\n",
       "   1,\n",
       "   None],\n",
       "  'Y': [-0.3580247738363428,\n",
       "   -0.11742886811595352,\n",
       "   None,\n",
       "   -0.3580247738363428,\n",
       "   0.5119787537211334,\n",
       "   None,\n",
       "   -0.3580247738363428,\n",
       "   0.08629212182261396,\n",
       "   None,\n",
       "   -0.14316565219696478,\n",
       "   -0.11742886811595352,\n",
       "   None,\n",
       "   -0.14316565219696478,\n",
       "   0.5119787537211334,\n",
       "   None,\n",
       "   -0.22366249474517383,\n",
       "   -0.11742886811595352,\n",
       "   None,\n",
       "   -0.22366249474517383,\n",
       "   0.5119787537211334,\n",
       "   None,\n",
       "   -0.22366249474517383,\n",
       "   0.08629212182261396,\n",
       "   None,\n",
       "   -0.22366249474517383,\n",
       "   0.1660992401167894,\n",
       "   None,\n",
       "   -0.5347087178098914,\n",
       "   -0.11742886811595352,\n",
       "   None,\n",
       "   -0.5347087178098914,\n",
       "   0.5119787537211334,\n",
       "   None,\n",
       "   -0.5347087178098914,\n",
       "   0.08629212182261396,\n",
       "   None,\n",
       "   -0.5347087178098914,\n",
       "   0.11308507052918133,\n",
       "   None,\n",
       "   -0.5347087178098914,\n",
       "   0.1660992401167894,\n",
       "   None,\n",
       "   -0.06365490086238815,\n",
       "   -0.11742886811595352,\n",
       "   None,\n",
       "   -0.06365490086238815,\n",
       "   0.5119787537211334,\n",
       "   None,\n",
       "   -0.06365490086238815,\n",
       "   0.08629212182261396,\n",
       "   None,\n",
       "   -0.06365490086238815,\n",
       "   0.1660992401167894,\n",
       "   None,\n",
       "   -0.0761861038058761,\n",
       "   0.5119787537211334,\n",
       "   None,\n",
       "   -0.43669677862538275,\n",
       "   -0.11742886811595352,\n",
       "   None,\n",
       "   -0.43669677862538275,\n",
       "   0.5119787537211334,\n",
       "   None,\n",
       "   -0.43669677862538275,\n",
       "   0.08629212182261396,\n",
       "   None,\n",
       "   -0.43669677862538275,\n",
       "   0.1660992401167894,\n",
       "   None,\n",
       "   -0.14052346229168486,\n",
       "   0.5119787537211334,\n",
       "   None],\n",
       "  'Z': [-0.6643748630941957,\n",
       "   -0.3802148857663965,\n",
       "   None,\n",
       "   -0.6643748630941957,\n",
       "   -0.26594403781485776,\n",
       "   None,\n",
       "   -0.6643748630941957,\n",
       "   -0.47815729082302827,\n",
       "   None,\n",
       "   -0.20949348332196718,\n",
       "   -0.3802148857663965,\n",
       "   None,\n",
       "   -0.20949348332196718,\n",
       "   -0.26594403781485776,\n",
       "   None,\n",
       "   -0.16084200032884458,\n",
       "   -0.3802148857663965,\n",
       "   None,\n",
       "   -0.16084200032884458,\n",
       "   -0.26594403781485776,\n",
       "   None,\n",
       "   -0.16084200032884458,\n",
       "   -0.47815729082302827,\n",
       "   None,\n",
       "   -0.16084200032884458,\n",
       "   -0.2365249242387294,\n",
       "   None,\n",
       "   -0.1520361219183844,\n",
       "   -0.3802148857663965,\n",
       "   None,\n",
       "   -0.1520361219183844,\n",
       "   -0.26594403781485776,\n",
       "   None,\n",
       "   -0.1520361219183844,\n",
       "   -0.47815729082302827,\n",
       "   None,\n",
       "   -0.1520361219183844,\n",
       "   -0.05636133513128718,\n",
       "   None,\n",
       "   -0.1520361219183844,\n",
       "   -0.2365249242387294,\n",
       "   None,\n",
       "   -0.21472701067724947,\n",
       "   -0.3802148857663965,\n",
       "   None,\n",
       "   -0.21472701067724947,\n",
       "   -0.26594403781485776,\n",
       "   None,\n",
       "   -0.21472701067724947,\n",
       "   -0.47815729082302827,\n",
       "   None,\n",
       "   -0.21472701067724947,\n",
       "   -0.2365249242387294,\n",
       "   None,\n",
       "   -0.38967573138336703,\n",
       "   -0.26594403781485776,\n",
       "   None,\n",
       "   -0.02220645582879802,\n",
       "   -0.3802148857663965,\n",
       "   None,\n",
       "   -0.02220645582879802,\n",
       "   -0.26594403781485776,\n",
       "   None,\n",
       "   -0.02220645582879802,\n",
       "   -0.47815729082302827,\n",
       "   None,\n",
       "   -0.02220645582879802,\n",
       "   -0.2365249242387294,\n",
       "   None,\n",
       "   -0.023598961448452895,\n",
       "   -0.26594403781485776,\n",
       "   None]},\n",
       " 2: {'X': [1,\n",
       "   2,\n",
       "   None,\n",
       "   1,\n",
       "   2,\n",
       "   None,\n",
       "   1,\n",
       "   2,\n",
       "   None,\n",
       "   1,\n",
       "   2,\n",
       "   None,\n",
       "   1,\n",
       "   2,\n",
       "   None,\n",
       "   1,\n",
       "   2,\n",
       "   None,\n",
       "   1,\n",
       "   2,\n",
       "   None,\n",
       "   1,\n",
       "   2,\n",
       "   None,\n",
       "   1,\n",
       "   2,\n",
       "   None,\n",
       "   1,\n",
       "   2,\n",
       "   None,\n",
       "   1,\n",
       "   2,\n",
       "   None,\n",
       "   1,\n",
       "   2,\n",
       "   None,\n",
       "   1,\n",
       "   2,\n",
       "   None,\n",
       "   1,\n",
       "   2,\n",
       "   None,\n",
       "   1,\n",
       "   2,\n",
       "   None,\n",
       "   1,\n",
       "   2,\n",
       "   None,\n",
       "   1,\n",
       "   2,\n",
       "   None,\n",
       "   1,\n",
       "   2,\n",
       "   None,\n",
       "   1,\n",
       "   2,\n",
       "   None,\n",
       "   1,\n",
       "   2,\n",
       "   None,\n",
       "   1,\n",
       "   2,\n",
       "   None,\n",
       "   1,\n",
       "   2,\n",
       "   None,\n",
       "   1,\n",
       "   2,\n",
       "   None],\n",
       "  'Y': [-0.11742886811595352,\n",
       "   0.17910513796932984,\n",
       "   None,\n",
       "   -0.11742886811595352,\n",
       "   0.4363669102030906,\n",
       "   None,\n",
       "   -0.11742886811595352,\n",
       "   0.2851292109961998,\n",
       "   None,\n",
       "   -0.11742886811595352,\n",
       "   -0.11283821081508795,\n",
       "   None,\n",
       "   -0.11742886811595352,\n",
       "   0.36043757882793453,\n",
       "   None,\n",
       "   -0.11742886811595352,\n",
       "   0.31211764167682193,\n",
       "   None,\n",
       "   -0.11742886811595352,\n",
       "   0.44266494776643844,\n",
       "   None,\n",
       "   0.5119787537211334,\n",
       "   0.17910513796932984,\n",
       "   None,\n",
       "   0.5119787537211334,\n",
       "   0.4363669102030906,\n",
       "   None,\n",
       "   0.5119787537211334,\n",
       "   0.2851292109961998,\n",
       "   None,\n",
       "   0.5119787537211334,\n",
       "   -0.11283821081508795,\n",
       "   None,\n",
       "   0.5119787537211334,\n",
       "   0.36043757882793453,\n",
       "   None,\n",
       "   0.5119787537211334,\n",
       "   0.31211764167682193,\n",
       "   None,\n",
       "   0.5119787537211334,\n",
       "   0.44266494776643844,\n",
       "   None,\n",
       "   0.08629212182261396,\n",
       "   0.17910513796932984,\n",
       "   None,\n",
       "   0.08629212182261396,\n",
       "   0.4363669102030906,\n",
       "   None,\n",
       "   0.08629212182261396,\n",
       "   0.2851292109961998,\n",
       "   None,\n",
       "   0.08629212182261396,\n",
       "   -0.11283821081508795,\n",
       "   None,\n",
       "   0.08629212182261396,\n",
       "   0.36043757882793453,\n",
       "   None,\n",
       "   0.08629212182261396,\n",
       "   0.31211764167682193,\n",
       "   None,\n",
       "   0.08629212182261396,\n",
       "   0.44266494776643844,\n",
       "   None,\n",
       "   0.1660992401167894,\n",
       "   0.36043757882793453,\n",
       "   None,\n",
       "   0.1660992401167894,\n",
       "   0.44266494776643844,\n",
       "   None],\n",
       "  'Z': [-0.3802148857663965,\n",
       "   0.0017142648658386933,\n",
       "   None,\n",
       "   -0.3802148857663965,\n",
       "   -0.0008948073137573377,\n",
       "   None,\n",
       "   -0.3802148857663965,\n",
       "   -0.10278101042785806,\n",
       "   None,\n",
       "   -0.3802148857663965,\n",
       "   0.1277078411243242,\n",
       "   None,\n",
       "   -0.3802148857663965,\n",
       "   -0.1124950085097608,\n",
       "   None,\n",
       "   -0.3802148857663965,\n",
       "   0.1744505515310169,\n",
       "   None,\n",
       "   -0.3802148857663965,\n",
       "   0.19928934816428406,\n",
       "   None,\n",
       "   -0.26594403781485776,\n",
       "   0.0017142648658386933,\n",
       "   None,\n",
       "   -0.26594403781485776,\n",
       "   -0.0008948073137573377,\n",
       "   None,\n",
       "   -0.26594403781485776,\n",
       "   -0.10278101042785806,\n",
       "   None,\n",
       "   -0.26594403781485776,\n",
       "   0.1277078411243242,\n",
       "   None,\n",
       "   -0.26594403781485776,\n",
       "   -0.1124950085097608,\n",
       "   None,\n",
       "   -0.26594403781485776,\n",
       "   0.1744505515310169,\n",
       "   None,\n",
       "   -0.26594403781485776,\n",
       "   0.19928934816428406,\n",
       "   None,\n",
       "   -0.47815729082302827,\n",
       "   0.0017142648658386933,\n",
       "   None,\n",
       "   -0.47815729082302827,\n",
       "   -0.0008948073137573377,\n",
       "   None,\n",
       "   -0.47815729082302827,\n",
       "   -0.10278101042785806,\n",
       "   None,\n",
       "   -0.47815729082302827,\n",
       "   0.1277078411243242,\n",
       "   None,\n",
       "   -0.47815729082302827,\n",
       "   -0.1124950085097608,\n",
       "   None,\n",
       "   -0.47815729082302827,\n",
       "   0.1744505515310169,\n",
       "   None,\n",
       "   -0.47815729082302827,\n",
       "   0.19928934816428406,\n",
       "   None,\n",
       "   -0.2365249242387294,\n",
       "   -0.1124950085097608,\n",
       "   None,\n",
       "   -0.2365249242387294,\n",
       "   0.19928934816428406,\n",
       "   None]},\n",
       " 3: {'X': [2,\n",
       "   3,\n",
       "   None,\n",
       "   2,\n",
       "   3,\n",
       "   None,\n",
       "   2,\n",
       "   3,\n",
       "   None,\n",
       "   2,\n",
       "   3,\n",
       "   None,\n",
       "   2,\n",
       "   3,\n",
       "   None,\n",
       "   2,\n",
       "   3,\n",
       "   None,\n",
       "   2,\n",
       "   3,\n",
       "   None,\n",
       "   2,\n",
       "   3,\n",
       "   None,\n",
       "   2,\n",
       "   3,\n",
       "   None,\n",
       "   2,\n",
       "   3,\n",
       "   None,\n",
       "   2,\n",
       "   3,\n",
       "   None,\n",
       "   2,\n",
       "   3,\n",
       "   None,\n",
       "   2,\n",
       "   3,\n",
       "   None,\n",
       "   2,\n",
       "   3,\n",
       "   None],\n",
       "  'Y': [0.17910513796932984,\n",
       "   0.14827564543397861,\n",
       "   None,\n",
       "   0.4363669102030906,\n",
       "   0.14827564543397861,\n",
       "   None,\n",
       "   0.2851292109961998,\n",
       "   0.14827564543397861,\n",
       "   None,\n",
       "   -0.11283821081508795,\n",
       "   0.14827564543397861,\n",
       "   None,\n",
       "   0.36043757882793453,\n",
       "   -0.1638478174409406,\n",
       "   None,\n",
       "   0.36043757882793453,\n",
       "   -0.003780487778452542,\n",
       "   None,\n",
       "   0.36043757882793453,\n",
       "   0.14827564543397861,\n",
       "   None,\n",
       "   0.36043757882793453,\n",
       "   -0.2309394361874584,\n",
       "   None,\n",
       "   0.36043757882793453,\n",
       "   0.26053623573146,\n",
       "   None,\n",
       "   0.36043757882793453,\n",
       "   -0.020309438594147317,\n",
       "   None,\n",
       "   0.31211764167682193,\n",
       "   0.14827564543397861,\n",
       "   None,\n",
       "   0.44266494776643844,\n",
       "   0.14827564543397861,\n",
       "   None,\n",
       "   0.44266494776643844,\n",
       "   -0.2309394361874584,\n",
       "   None,\n",
       "   0.44266494776643844,\n",
       "   0.26053623573146,\n",
       "   None],\n",
       "  'Z': [0.0017142648658386933,\n",
       "   0.3404405712288363,\n",
       "   None,\n",
       "   -0.0008948073137573377,\n",
       "   0.3404405712288363,\n",
       "   None,\n",
       "   -0.10278101042785806,\n",
       "   0.3404405712288363,\n",
       "   None,\n",
       "   0.1277078411243242,\n",
       "   0.3404405712288363,\n",
       "   None,\n",
       "   -0.1124950085097608,\n",
       "   0.0208042325961846,\n",
       "   None,\n",
       "   -0.1124950085097608,\n",
       "   -0.24088808178367452,\n",
       "   None,\n",
       "   -0.1124950085097608,\n",
       "   0.3404405712288363,\n",
       "   None,\n",
       "   -0.1124950085097608,\n",
       "   0.0775696083858826,\n",
       "   None,\n",
       "   -0.1124950085097608,\n",
       "   -0.1619712692062655,\n",
       "   None,\n",
       "   -0.1124950085097608,\n",
       "   0.30426136919671815,\n",
       "   None,\n",
       "   0.1744505515310169,\n",
       "   0.3404405712288363,\n",
       "   None,\n",
       "   0.19928934816428406,\n",
       "   0.3404405712288363,\n",
       "   None,\n",
       "   0.19928934816428406,\n",
       "   0.0775696083858826,\n",
       "   None,\n",
       "   0.19928934816428406,\n",
       "   -0.1619712692062655,\n",
       "   None]}}"
      ]
     },
     "execution_count": 339,
     "metadata": {},
     "output_type": "execute_result"
    }
   ],
   "source": [
    "edge_positions"
   ]
  },
  {
   "cell_type": "code",
   "execution_count": null,
   "metadata": {},
   "outputs": [],
   "source": [
    "#Hide zoom, pan thingy\n",
    "\n",
    "dcc.Graph(\n",
    "    id='my-graph',\n",
    "    figure={'data': [{'x': [1, 2, 3]}]},\n",
    "    config={\n",
    "        'displayModeBar': False\n",
    "    }\n",
    ")"
   ]
  },
  {
   "cell_type": "code",
   "execution_count": 119,
   "metadata": {},
   "outputs": [
    {
     "data": {
      "application/vnd.plotly.v1+json": {
       "config": {
        "plotlyServerURL": "https://plot.ly"
       },
       "data": [
        {
         "type": "heatmap",
         "z": [
          [
           -0.9720761179924011,
           -0.9909674525260925,
           -1.1890690326690674,
           -1.0655851364135742,
           -0.8939744234085083,
           -1.0958764553070068,
           -1.5519652366638184,
           -1.8584684133529663,
           -1.4022455215454102,
           -1.1863718032836914,
           -1.0524948835372925,
           -0.8575342297554016,
           -0.7688305974006653,
           -0.7767041921615601,
           -1.1294986009597778,
           -0.7653985619544983
          ],
          [
           -1.9617830514907837,
           -2.4776668548583984,
           -2.550020456314087,
           -1.7155921459197998,
           -2.1722419261932373,
           -3.9515950679779053,
           -3.91449236869812,
           -4.697071075439453,
           -2.909308910369873,
           -1.8005691766738892,
           -1.9155712127685547,
           -2.2486937046051025,
           -2.15317964553833,
           -1.9468854665756226,
           -2.7330312728881836,
           -2.285374879837036
          ],
          [
           -1.0283747911453247,
           -1.0570793151855469,
           -2.467479705810547,
           -4.146231651306152,
           -7.071923732757568,
           -9.931361198425293,
           -7.1285481452941895,
           -5.801097869873047,
           -3.403740167617798,
           -1.5313284397125244,
           -2.6988141536712646,
           -2.3570234775543213,
           -1.5017180442810059,
           -1.5324780941009521,
           -2.1045234203338623,
           -1.714125633239746
          ],
          [
           -0.6911526918411255,
           -0.8136712312698364,
           -1.3082077503204346,
           -2.2553999423980713,
           -7.868158340454102,
           -11.970973014831543,
           -9.851036071777344,
           -7.310451030731201,
           -5.757235050201416,
           -6.608819484710693,
           -7.5702805519104,
           -4.610486030578613,
           -2.688157558441162,
           -2.276625156402588,
           -2.854646682739258,
           -2.088165283203125
          ],
          [
           -1.822585105895996,
           -3.0530991554260254,
           -2.467802047729492,
           -0.8800749778747559,
           -2.8209776878356934,
           -7.850949287414551,
           -6.8788161277771,
           -6.702489376068115,
           -6.700220584869385,
           -7.55515193939209,
           -8.414401054382324,
           -5.084489345550537,
           -3.201148509979248,
           -2.445025682449341,
           -3.0644354820251465,
           -2.505934953689575
          ],
          [
           -1.7825393676757812,
           -5.317377090454102,
           -9.642046928405762,
           -8.648539543151855,
           -6.652477264404297,
           -5.52684211730957,
           -2.174318790435791,
           -3.736109495162964,
           -6.0414204597473145,
           -7.660882949829102,
           -8.920465469360352,
           -7.61021614074707,
           -4.5249528884887695,
           -3.1544408798217773,
           -3.344310760498047,
           -2.4935667514801025
          ],
          [
           -2.9347989559173584,
           -4.020988941192627,
           -7.469425201416016,
           -9.472777366638184,
           -10.938050270080566,
           -6.475218772888184,
           -1.7017966508865356,
           -2.525435209274292,
           -3.0779621601104736,
           -5.036565780639648,
           -7.295533180236816,
           -10.005066871643066,
           -7.076982021331787,
           -5.29050874710083,
           -4.215697288513184,
           -2.4837052822113037
          ],
          [
           -3.1702606678009033,
           -4.960989475250244,
           -3.40940523147583,
           -4.342921257019043,
           -10.415080070495605,
           -8.614163398742676,
           -2.5620346069335938,
           -2.20196533203125,
           -1.148952841758728,
           -2.0771806240081787,
           -5.356968879699707,
           -8.064797401428223,
           -7.235419273376465,
           -5.650676727294922,
           -4.659702777862549,
           -2.7308809757232666
          ],
          [
           -3.451368808746338,
           -6.141005516052246,
           -2.659510374069214,
           -3.824934244155884,
           -7.917452335357666,
           -6.455286979675293,
           -1.1996915340423584,
           -1.7749797105789185,
           -1.0939745903015137,
           -1.5756866931915283,
           -4.483911514282227,
           -6.568572044372559,
           -6.6161394119262695,
           -5.6728315353393555,
           -5.1905012130737305,
           -2.5820367336273193
          ],
          [
           -2.230024814605713,
           -2.9870285987854004,
           0.6430705189704895,
           -1.3552265167236328,
           -3.0767247676849365,
           -3.246203660964966,
           -1.0995948314666748,
           -1.4740241765975952,
           -0.9769517183303833,
           -1.1852326393127441,
           -3.4406001567840576,
           -6.196105480194092,
           -7.846407890319824,
           -8.87166976928711,
           -6.643350601196289,
           -3.0839407444000244
          ],
          [
           -3.1426355838775635,
           -3.005211353302002,
           2.5543301105499268,
           2.925522804260254,
           2.777614116668701,
           1.044703483581543,
           0.399573415517807,
           -0.6664259433746338,
           -0.8960442543029785,
           -0.9790987968444824,
           -1.484933853149414,
           -3.8331735134124756,
           -6.971492290496826,
           -9.558798789978027,
           -8.014552116394043,
           -3.116797685623169
          ],
          [
           -3.5659663677215576,
           -5.71796178817749,
           -4.909787654876709,
           -4.613893508911133,
           -3.173928737640381,
           -1.9242032766342163,
           -0.6985485553741455,
           -0.1946798413991928,
           0.5349653363227844,
           0.9511497616767883,
           1.057741403579712,
           0.6248994469642639,
           -2.3615663051605225,
           -4.621668815612793,
           -4.662744522094727,
           -1.8815549612045288
          ],
          [
           -1.7179217338562012,
           -4.092052459716797,
           -3.572549343109131,
           -4.802547454833984,
           -5.182833671569824,
           -4.16899299621582,
           -2.442103624343872,
           -1.7585527896881104,
           -1.6860460042953491,
           -1.297611117362976,
           -0.7448723912239075,
           0.5169006586074829,
           0.3835833668708801,
           -1.6678329706192017,
           -2.5479116439819336,
           -0.6414332389831543
          ],
          [
           0.46266427636146545,
           -0.04648013412952423,
           0.173208549618721,
           -1.3838183879852295,
           -2.180776596069336,
           -2.20688796043396,
           -1.3601123094558716,
           -1.1127963066101074,
           -1.891090750694275,
           -3.152240753173828,
           -4.115242958068848,
           -3.9805455207824707,
           -3.242912530899048,
           -3.516941547393799,
           -4.622613430023193,
           -2.267071008682251
          ],
          [
           -1.1014235019683838,
           -0.4452604055404663,
           1.7779344320297241,
           2.448899507522583,
           1.2854701280593872,
           0.1610720306634903,
           -0.1907099336385727,
           -0.027237357571721077,
           -0.48298943042755127,
           -1.4855225086212158,
           -2.6343612670898438,
           -3.52329683303833,
           -3.7598917484283447,
           -3.817586898803711,
           -3.6426165103912354,
           -1.5887598991394043
          ],
          [
           -2.8653812408447266,
           -5.232631206512451,
           -4.656230449676514,
           -2.7625954151153564,
           -1.7172502279281616,
           -0.8932493925094604,
           -0.5031933188438416,
           -0.5620656609535217,
           -0.7454784512519836,
           -1.1551706790924072,
           -1.6632859706878662,
           -2.397826910018921,
           -3.1000936031341553,
           -3.6319096088409424,
           -3.4168715476989746,
           -2.0154707431793213
          ]
         ]
        }
       ],
       "layout": {
        "height": 500,
        "template": {
         "data": {
          "bar": [
           {
            "error_x": {
             "color": "#2a3f5f"
            },
            "error_y": {
             "color": "#2a3f5f"
            },
            "marker": {
             "line": {
              "color": "#E5ECF6",
              "width": 0.5
             }
            },
            "type": "bar"
           }
          ],
          "barpolar": [
           {
            "marker": {
             "line": {
              "color": "#E5ECF6",
              "width": 0.5
             }
            },
            "type": "barpolar"
           }
          ],
          "carpet": [
           {
            "aaxis": {
             "endlinecolor": "#2a3f5f",
             "gridcolor": "white",
             "linecolor": "white",
             "minorgridcolor": "white",
             "startlinecolor": "#2a3f5f"
            },
            "baxis": {
             "endlinecolor": "#2a3f5f",
             "gridcolor": "white",
             "linecolor": "white",
             "minorgridcolor": "white",
             "startlinecolor": "#2a3f5f"
            },
            "type": "carpet"
           }
          ],
          "choropleth": [
           {
            "colorbar": {
             "outlinewidth": 0,
             "ticks": ""
            },
            "type": "choropleth"
           }
          ],
          "contour": [
           {
            "colorbar": {
             "outlinewidth": 0,
             "ticks": ""
            },
            "colorscale": [
             [
              0,
              "#0d0887"
             ],
             [
              0.1111111111111111,
              "#46039f"
             ],
             [
              0.2222222222222222,
              "#7201a8"
             ],
             [
              0.3333333333333333,
              "#9c179e"
             ],
             [
              0.4444444444444444,
              "#bd3786"
             ],
             [
              0.5555555555555556,
              "#d8576b"
             ],
             [
              0.6666666666666666,
              "#ed7953"
             ],
             [
              0.7777777777777778,
              "#fb9f3a"
             ],
             [
              0.8888888888888888,
              "#fdca26"
             ],
             [
              1,
              "#f0f921"
             ]
            ],
            "type": "contour"
           }
          ],
          "contourcarpet": [
           {
            "colorbar": {
             "outlinewidth": 0,
             "ticks": ""
            },
            "type": "contourcarpet"
           }
          ],
          "heatmap": [
           {
            "colorbar": {
             "outlinewidth": 0,
             "ticks": ""
            },
            "colorscale": [
             [
              0,
              "#0d0887"
             ],
             [
              0.1111111111111111,
              "#46039f"
             ],
             [
              0.2222222222222222,
              "#7201a8"
             ],
             [
              0.3333333333333333,
              "#9c179e"
             ],
             [
              0.4444444444444444,
              "#bd3786"
             ],
             [
              0.5555555555555556,
              "#d8576b"
             ],
             [
              0.6666666666666666,
              "#ed7953"
             ],
             [
              0.7777777777777778,
              "#fb9f3a"
             ],
             [
              0.8888888888888888,
              "#fdca26"
             ],
             [
              1,
              "#f0f921"
             ]
            ],
            "type": "heatmap"
           }
          ],
          "heatmapgl": [
           {
            "colorbar": {
             "outlinewidth": 0,
             "ticks": ""
            },
            "colorscale": [
             [
              0,
              "#0d0887"
             ],
             [
              0.1111111111111111,
              "#46039f"
             ],
             [
              0.2222222222222222,
              "#7201a8"
             ],
             [
              0.3333333333333333,
              "#9c179e"
             ],
             [
              0.4444444444444444,
              "#bd3786"
             ],
             [
              0.5555555555555556,
              "#d8576b"
             ],
             [
              0.6666666666666666,
              "#ed7953"
             ],
             [
              0.7777777777777778,
              "#fb9f3a"
             ],
             [
              0.8888888888888888,
              "#fdca26"
             ],
             [
              1,
              "#f0f921"
             ]
            ],
            "type": "heatmapgl"
           }
          ],
          "histogram": [
           {
            "marker": {
             "colorbar": {
              "outlinewidth": 0,
              "ticks": ""
             }
            },
            "type": "histogram"
           }
          ],
          "histogram2d": [
           {
            "colorbar": {
             "outlinewidth": 0,
             "ticks": ""
            },
            "colorscale": [
             [
              0,
              "#0d0887"
             ],
             [
              0.1111111111111111,
              "#46039f"
             ],
             [
              0.2222222222222222,
              "#7201a8"
             ],
             [
              0.3333333333333333,
              "#9c179e"
             ],
             [
              0.4444444444444444,
              "#bd3786"
             ],
             [
              0.5555555555555556,
              "#d8576b"
             ],
             [
              0.6666666666666666,
              "#ed7953"
             ],
             [
              0.7777777777777778,
              "#fb9f3a"
             ],
             [
              0.8888888888888888,
              "#fdca26"
             ],
             [
              1,
              "#f0f921"
             ]
            ],
            "type": "histogram2d"
           }
          ],
          "histogram2dcontour": [
           {
            "colorbar": {
             "outlinewidth": 0,
             "ticks": ""
            },
            "colorscale": [
             [
              0,
              "#0d0887"
             ],
             [
              0.1111111111111111,
              "#46039f"
             ],
             [
              0.2222222222222222,
              "#7201a8"
             ],
             [
              0.3333333333333333,
              "#9c179e"
             ],
             [
              0.4444444444444444,
              "#bd3786"
             ],
             [
              0.5555555555555556,
              "#d8576b"
             ],
             [
              0.6666666666666666,
              "#ed7953"
             ],
             [
              0.7777777777777778,
              "#fb9f3a"
             ],
             [
              0.8888888888888888,
              "#fdca26"
             ],
             [
              1,
              "#f0f921"
             ]
            ],
            "type": "histogram2dcontour"
           }
          ],
          "mesh3d": [
           {
            "colorbar": {
             "outlinewidth": 0,
             "ticks": ""
            },
            "type": "mesh3d"
           }
          ],
          "parcoords": [
           {
            "line": {
             "colorbar": {
              "outlinewidth": 0,
              "ticks": ""
             }
            },
            "type": "parcoords"
           }
          ],
          "pie": [
           {
            "automargin": true,
            "type": "pie"
           }
          ],
          "scatter": [
           {
            "marker": {
             "colorbar": {
              "outlinewidth": 0,
              "ticks": ""
             }
            },
            "type": "scatter"
           }
          ],
          "scatter3d": [
           {
            "line": {
             "colorbar": {
              "outlinewidth": 0,
              "ticks": ""
             }
            },
            "marker": {
             "colorbar": {
              "outlinewidth": 0,
              "ticks": ""
             }
            },
            "type": "scatter3d"
           }
          ],
          "scattercarpet": [
           {
            "marker": {
             "colorbar": {
              "outlinewidth": 0,
              "ticks": ""
             }
            },
            "type": "scattercarpet"
           }
          ],
          "scattergeo": [
           {
            "marker": {
             "colorbar": {
              "outlinewidth": 0,
              "ticks": ""
             }
            },
            "type": "scattergeo"
           }
          ],
          "scattergl": [
           {
            "marker": {
             "colorbar": {
              "outlinewidth": 0,
              "ticks": ""
             }
            },
            "type": "scattergl"
           }
          ],
          "scattermapbox": [
           {
            "marker": {
             "colorbar": {
              "outlinewidth": 0,
              "ticks": ""
             }
            },
            "type": "scattermapbox"
           }
          ],
          "scatterpolar": [
           {
            "marker": {
             "colorbar": {
              "outlinewidth": 0,
              "ticks": ""
             }
            },
            "type": "scatterpolar"
           }
          ],
          "scatterpolargl": [
           {
            "marker": {
             "colorbar": {
              "outlinewidth": 0,
              "ticks": ""
             }
            },
            "type": "scatterpolargl"
           }
          ],
          "scatterternary": [
           {
            "marker": {
             "colorbar": {
              "outlinewidth": 0,
              "ticks": ""
             }
            },
            "type": "scatterternary"
           }
          ],
          "surface": [
           {
            "colorbar": {
             "outlinewidth": 0,
             "ticks": ""
            },
            "colorscale": [
             [
              0,
              "#0d0887"
             ],
             [
              0.1111111111111111,
              "#46039f"
             ],
             [
              0.2222222222222222,
              "#7201a8"
             ],
             [
              0.3333333333333333,
              "#9c179e"
             ],
             [
              0.4444444444444444,
              "#bd3786"
             ],
             [
              0.5555555555555556,
              "#d8576b"
             ],
             [
              0.6666666666666666,
              "#ed7953"
             ],
             [
              0.7777777777777778,
              "#fb9f3a"
             ],
             [
              0.8888888888888888,
              "#fdca26"
             ],
             [
              1,
              "#f0f921"
             ]
            ],
            "type": "surface"
           }
          ],
          "table": [
           {
            "cells": {
             "fill": {
              "color": "#EBF0F8"
             },
             "line": {
              "color": "white"
             }
            },
            "header": {
             "fill": {
              "color": "#C8D4E3"
             },
             "line": {
              "color": "white"
             }
            },
            "type": "table"
           }
          ]
         },
         "layout": {
          "annotationdefaults": {
           "arrowcolor": "#2a3f5f",
           "arrowhead": 0,
           "arrowwidth": 1
          },
          "coloraxis": {
           "colorbar": {
            "outlinewidth": 0,
            "ticks": ""
           }
          },
          "colorscale": {
           "diverging": [
            [
             0,
             "#8e0152"
            ],
            [
             0.1,
             "#c51b7d"
            ],
            [
             0.2,
             "#de77ae"
            ],
            [
             0.3,
             "#f1b6da"
            ],
            [
             0.4,
             "#fde0ef"
            ],
            [
             0.5,
             "#f7f7f7"
            ],
            [
             0.6,
             "#e6f5d0"
            ],
            [
             0.7,
             "#b8e186"
            ],
            [
             0.8,
             "#7fbc41"
            ],
            [
             0.9,
             "#4d9221"
            ],
            [
             1,
             "#276419"
            ]
           ],
           "sequential": [
            [
             0,
             "#0d0887"
            ],
            [
             0.1111111111111111,
             "#46039f"
            ],
            [
             0.2222222222222222,
             "#7201a8"
            ],
            [
             0.3333333333333333,
             "#9c179e"
            ],
            [
             0.4444444444444444,
             "#bd3786"
            ],
            [
             0.5555555555555556,
             "#d8576b"
            ],
            [
             0.6666666666666666,
             "#ed7953"
            ],
            [
             0.7777777777777778,
             "#fb9f3a"
            ],
            [
             0.8888888888888888,
             "#fdca26"
            ],
            [
             1,
             "#f0f921"
            ]
           ],
           "sequentialminus": [
            [
             0,
             "#0d0887"
            ],
            [
             0.1111111111111111,
             "#46039f"
            ],
            [
             0.2222222222222222,
             "#7201a8"
            ],
            [
             0.3333333333333333,
             "#9c179e"
            ],
            [
             0.4444444444444444,
             "#bd3786"
            ],
            [
             0.5555555555555556,
             "#d8576b"
            ],
            [
             0.6666666666666666,
             "#ed7953"
            ],
            [
             0.7777777777777778,
             "#fb9f3a"
            ],
            [
             0.8888888888888888,
             "#fdca26"
            ],
            [
             1,
             "#f0f921"
            ]
           ]
          },
          "colorway": [
           "#636efa",
           "#EF553B",
           "#00cc96",
           "#ab63fa",
           "#FFA15A",
           "#19d3f3",
           "#FF6692",
           "#B6E880",
           "#FF97FF",
           "#FECB52"
          ],
          "font": {
           "color": "#2a3f5f"
          },
          "geo": {
           "bgcolor": "white",
           "lakecolor": "white",
           "landcolor": "#E5ECF6",
           "showlakes": true,
           "showland": true,
           "subunitcolor": "white"
          },
          "hoverlabel": {
           "align": "left"
          },
          "hovermode": "closest",
          "mapbox": {
           "style": "light"
          },
          "paper_bgcolor": "white",
          "plot_bgcolor": "#E5ECF6",
          "polar": {
           "angularaxis": {
            "gridcolor": "white",
            "linecolor": "white",
            "ticks": ""
           },
           "bgcolor": "#E5ECF6",
           "radialaxis": {
            "gridcolor": "white",
            "linecolor": "white",
            "ticks": ""
           }
          },
          "scene": {
           "xaxis": {
            "backgroundcolor": "#E5ECF6",
            "gridcolor": "white",
            "gridwidth": 2,
            "linecolor": "white",
            "showbackground": true,
            "ticks": "",
            "zerolinecolor": "white"
           },
           "yaxis": {
            "backgroundcolor": "#E5ECF6",
            "gridcolor": "white",
            "gridwidth": 2,
            "linecolor": "white",
            "showbackground": true,
            "ticks": "",
            "zerolinecolor": "white"
           },
           "zaxis": {
            "backgroundcolor": "#E5ECF6",
            "gridcolor": "white",
            "gridwidth": 2,
            "linecolor": "white",
            "showbackground": true,
            "ticks": "",
            "zerolinecolor": "white"
           }
          },
          "shapedefaults": {
           "line": {
            "color": "#2a3f5f"
           }
          },
          "ternary": {
           "aaxis": {
            "gridcolor": "white",
            "linecolor": "white",
            "ticks": ""
           },
           "baxis": {
            "gridcolor": "white",
            "linecolor": "white",
            "ticks": ""
           },
           "bgcolor": "#E5ECF6",
           "caxis": {
            "gridcolor": "white",
            "linecolor": "white",
            "ticks": ""
           }
          },
          "title": {
           "x": 0.05
          },
          "xaxis": {
           "automargin": true,
           "gridcolor": "white",
           "linecolor": "white",
           "ticks": "",
           "title": {
            "standoff": 15
           },
           "zerolinecolor": "white",
           "zerolinewidth": 2
          },
          "yaxis": {
           "automargin": true,
           "gridcolor": "white",
           "linecolor": "white",
           "ticks": "",
           "title": {
            "standoff": 15
           },
           "zerolinecolor": "white",
           "zerolinewidth": 2
          }
         }
        },
        "width": 500
       }
      },
      "text/html": [
       "<div>\n",
       "        \n",
       "        \n",
       "            <div id=\"909b5a72-aa39-4392-b47a-c5333d4e4bc3\" class=\"plotly-graph-div\" style=\"height:500px; width:500px;\"></div>\n",
       "            <script type=\"text/javascript\">\n",
       "                require([\"plotly\"], function(Plotly) {\n",
       "                    window.PLOTLYENV=window.PLOTLYENV || {};\n",
       "                    \n",
       "                if (document.getElementById(\"909b5a72-aa39-4392-b47a-c5333d4e4bc3\")) {\n",
       "                    Plotly.newPlot(\n",
       "                        '909b5a72-aa39-4392-b47a-c5333d4e4bc3',\n",
       "                        [{\"type\": \"heatmap\", \"z\": [[-0.9720761179924011, -0.9909674525260925, -1.1890690326690674, -1.0655851364135742, -0.8939744234085083, -1.0958764553070068, -1.5519652366638184, -1.8584684133529663, -1.4022455215454102, -1.1863718032836914, -1.0524948835372925, -0.8575342297554016, -0.7688305974006653, -0.7767041921615601, -1.1294986009597778, -0.7653985619544983], [-1.9617830514907837, -2.4776668548583984, -2.550020456314087, -1.7155921459197998, -2.1722419261932373, -3.9515950679779053, -3.91449236869812, -4.697071075439453, -2.909308910369873, -1.8005691766738892, -1.9155712127685547, -2.2486937046051025, -2.15317964553833, -1.9468854665756226, -2.7330312728881836, -2.285374879837036], [-1.0283747911453247, -1.0570793151855469, -2.467479705810547, -4.146231651306152, -7.071923732757568, -9.931361198425293, -7.1285481452941895, -5.801097869873047, -3.403740167617798, -1.5313284397125244, -2.6988141536712646, -2.3570234775543213, -1.5017180442810059, -1.5324780941009521, -2.1045234203338623, -1.714125633239746], [-0.6911526918411255, -0.8136712312698364, -1.3082077503204346, -2.2553999423980713, -7.868158340454102, -11.970973014831543, -9.851036071777344, -7.310451030731201, -5.757235050201416, -6.608819484710693, -7.5702805519104, -4.610486030578613, -2.688157558441162, -2.276625156402588, -2.854646682739258, -2.088165283203125], [-1.822585105895996, -3.0530991554260254, -2.467802047729492, -0.8800749778747559, -2.8209776878356934, -7.850949287414551, -6.8788161277771, -6.702489376068115, -6.700220584869385, -7.55515193939209, -8.414401054382324, -5.084489345550537, -3.201148509979248, -2.445025682449341, -3.0644354820251465, -2.505934953689575], [-1.7825393676757812, -5.317377090454102, -9.642046928405762, -8.648539543151855, -6.652477264404297, -5.52684211730957, -2.174318790435791, -3.736109495162964, -6.0414204597473145, -7.660882949829102, -8.920465469360352, -7.61021614074707, -4.5249528884887695, -3.1544408798217773, -3.344310760498047, -2.4935667514801025], [-2.9347989559173584, -4.020988941192627, -7.469425201416016, -9.472777366638184, -10.938050270080566, -6.475218772888184, -1.7017966508865356, -2.525435209274292, -3.0779621601104736, -5.036565780639648, -7.295533180236816, -10.005066871643066, -7.076982021331787, -5.29050874710083, -4.215697288513184, -2.4837052822113037], [-3.1702606678009033, -4.960989475250244, -3.40940523147583, -4.342921257019043, -10.415080070495605, -8.614163398742676, -2.5620346069335938, -2.20196533203125, -1.148952841758728, -2.0771806240081787, -5.356968879699707, -8.064797401428223, -7.235419273376465, -5.650676727294922, -4.659702777862549, -2.7308809757232666], [-3.451368808746338, -6.141005516052246, -2.659510374069214, -3.824934244155884, -7.917452335357666, -6.455286979675293, -1.1996915340423584, -1.7749797105789185, -1.0939745903015137, -1.5756866931915283, -4.483911514282227, -6.568572044372559, -6.6161394119262695, -5.6728315353393555, -5.1905012130737305, -2.5820367336273193], [-2.230024814605713, -2.9870285987854004, 0.6430705189704895, -1.3552265167236328, -3.0767247676849365, -3.246203660964966, -1.0995948314666748, -1.4740241765975952, -0.9769517183303833, -1.1852326393127441, -3.4406001567840576, -6.196105480194092, -7.846407890319824, -8.87166976928711, -6.643350601196289, -3.0839407444000244], [-3.1426355838775635, -3.005211353302002, 2.5543301105499268, 2.925522804260254, 2.777614116668701, 1.044703483581543, 0.399573415517807, -0.6664259433746338, -0.8960442543029785, -0.9790987968444824, -1.484933853149414, -3.8331735134124756, -6.971492290496826, -9.558798789978027, -8.014552116394043, -3.116797685623169], [-3.5659663677215576, -5.71796178817749, -4.909787654876709, -4.613893508911133, -3.173928737640381, -1.9242032766342163, -0.6985485553741455, -0.1946798413991928, 0.5349653363227844, 0.9511497616767883, 1.057741403579712, 0.6248994469642639, -2.3615663051605225, -4.621668815612793, -4.662744522094727, -1.8815549612045288], [-1.7179217338562012, -4.092052459716797, -3.572549343109131, -4.802547454833984, -5.182833671569824, -4.16899299621582, -2.442103624343872, -1.7585527896881104, -1.6860460042953491, -1.297611117362976, -0.7448723912239075, 0.5169006586074829, 0.3835833668708801, -1.6678329706192017, -2.5479116439819336, -0.6414332389831543], [0.46266427636146545, -0.04648013412952423, 0.173208549618721, -1.3838183879852295, -2.180776596069336, -2.20688796043396, -1.3601123094558716, -1.1127963066101074, -1.891090750694275, -3.152240753173828, -4.115242958068848, -3.9805455207824707, -3.242912530899048, -3.516941547393799, -4.622613430023193, -2.267071008682251], [-1.1014235019683838, -0.4452604055404663, 1.7779344320297241, 2.448899507522583, 1.2854701280593872, 0.1610720306634903, -0.1907099336385727, -0.027237357571721077, -0.48298943042755127, -1.4855225086212158, -2.6343612670898438, -3.52329683303833, -3.7598917484283447, -3.817586898803711, -3.6426165103912354, -1.5887598991394043], [-2.8653812408447266, -5.232631206512451, -4.656230449676514, -2.7625954151153564, -1.7172502279281616, -0.8932493925094604, -0.5031933188438416, -0.5620656609535217, -0.7454784512519836, -1.1551706790924072, -1.6632859706878662, -2.397826910018921, -3.1000936031341553, -3.6319096088409424, -3.4168715476989746, -2.0154707431793213]]}],\n",
       "                        {\"height\": 500, \"template\": {\"data\": {\"bar\": [{\"error_x\": {\"color\": \"#2a3f5f\"}, \"error_y\": {\"color\": \"#2a3f5f\"}, \"marker\": {\"line\": {\"color\": \"#E5ECF6\", \"width\": 0.5}}, \"type\": \"bar\"}], \"barpolar\": [{\"marker\": {\"line\": {\"color\": \"#E5ECF6\", \"width\": 0.5}}, \"type\": \"barpolar\"}], \"carpet\": [{\"aaxis\": {\"endlinecolor\": \"#2a3f5f\", \"gridcolor\": \"white\", \"linecolor\": \"white\", \"minorgridcolor\": \"white\", \"startlinecolor\": \"#2a3f5f\"}, \"baxis\": {\"endlinecolor\": \"#2a3f5f\", \"gridcolor\": \"white\", \"linecolor\": \"white\", \"minorgridcolor\": \"white\", \"startlinecolor\": \"#2a3f5f\"}, \"type\": \"carpet\"}], \"choropleth\": [{\"colorbar\": {\"outlinewidth\": 0, \"ticks\": \"\"}, \"type\": \"choropleth\"}], \"contour\": [{\"colorbar\": {\"outlinewidth\": 0, \"ticks\": \"\"}, \"colorscale\": [[0.0, \"#0d0887\"], [0.1111111111111111, \"#46039f\"], [0.2222222222222222, \"#7201a8\"], [0.3333333333333333, \"#9c179e\"], [0.4444444444444444, \"#bd3786\"], [0.5555555555555556, \"#d8576b\"], [0.6666666666666666, \"#ed7953\"], [0.7777777777777778, \"#fb9f3a\"], [0.8888888888888888, \"#fdca26\"], [1.0, \"#f0f921\"]], \"type\": \"contour\"}], \"contourcarpet\": [{\"colorbar\": {\"outlinewidth\": 0, \"ticks\": \"\"}, \"type\": \"contourcarpet\"}], \"heatmap\": [{\"colorbar\": {\"outlinewidth\": 0, \"ticks\": \"\"}, \"colorscale\": [[0.0, \"#0d0887\"], [0.1111111111111111, \"#46039f\"], [0.2222222222222222, \"#7201a8\"], [0.3333333333333333, \"#9c179e\"], [0.4444444444444444, \"#bd3786\"], [0.5555555555555556, \"#d8576b\"], [0.6666666666666666, \"#ed7953\"], [0.7777777777777778, \"#fb9f3a\"], [0.8888888888888888, \"#fdca26\"], [1.0, \"#f0f921\"]], \"type\": \"heatmap\"}], \"heatmapgl\": [{\"colorbar\": {\"outlinewidth\": 0, \"ticks\": \"\"}, \"colorscale\": [[0.0, \"#0d0887\"], [0.1111111111111111, \"#46039f\"], [0.2222222222222222, \"#7201a8\"], [0.3333333333333333, \"#9c179e\"], [0.4444444444444444, \"#bd3786\"], [0.5555555555555556, \"#d8576b\"], [0.6666666666666666, \"#ed7953\"], [0.7777777777777778, \"#fb9f3a\"], [0.8888888888888888, \"#fdca26\"], [1.0, \"#f0f921\"]], \"type\": \"heatmapgl\"}], \"histogram\": [{\"marker\": {\"colorbar\": {\"outlinewidth\": 0, \"ticks\": \"\"}}, \"type\": \"histogram\"}], \"histogram2d\": [{\"colorbar\": {\"outlinewidth\": 0, \"ticks\": \"\"}, \"colorscale\": [[0.0, \"#0d0887\"], [0.1111111111111111, \"#46039f\"], [0.2222222222222222, \"#7201a8\"], [0.3333333333333333, \"#9c179e\"], [0.4444444444444444, \"#bd3786\"], [0.5555555555555556, \"#d8576b\"], [0.6666666666666666, \"#ed7953\"], [0.7777777777777778, \"#fb9f3a\"], [0.8888888888888888, \"#fdca26\"], [1.0, \"#f0f921\"]], \"type\": \"histogram2d\"}], \"histogram2dcontour\": [{\"colorbar\": {\"outlinewidth\": 0, \"ticks\": \"\"}, \"colorscale\": [[0.0, \"#0d0887\"], [0.1111111111111111, \"#46039f\"], [0.2222222222222222, \"#7201a8\"], [0.3333333333333333, \"#9c179e\"], [0.4444444444444444, \"#bd3786\"], [0.5555555555555556, \"#d8576b\"], [0.6666666666666666, \"#ed7953\"], [0.7777777777777778, \"#fb9f3a\"], [0.8888888888888888, \"#fdca26\"], [1.0, \"#f0f921\"]], \"type\": \"histogram2dcontour\"}], \"mesh3d\": [{\"colorbar\": {\"outlinewidth\": 0, \"ticks\": \"\"}, \"type\": \"mesh3d\"}], \"parcoords\": [{\"line\": {\"colorbar\": {\"outlinewidth\": 0, \"ticks\": \"\"}}, \"type\": \"parcoords\"}], \"pie\": [{\"automargin\": true, \"type\": \"pie\"}], \"scatter\": [{\"marker\": {\"colorbar\": {\"outlinewidth\": 0, \"ticks\": \"\"}}, \"type\": \"scatter\"}], \"scatter3d\": [{\"line\": {\"colorbar\": {\"outlinewidth\": 0, \"ticks\": \"\"}}, \"marker\": {\"colorbar\": {\"outlinewidth\": 0, \"ticks\": \"\"}}, \"type\": \"scatter3d\"}], \"scattercarpet\": [{\"marker\": {\"colorbar\": {\"outlinewidth\": 0, \"ticks\": \"\"}}, \"type\": \"scattercarpet\"}], \"scattergeo\": [{\"marker\": {\"colorbar\": {\"outlinewidth\": 0, \"ticks\": \"\"}}, \"type\": \"scattergeo\"}], \"scattergl\": [{\"marker\": {\"colorbar\": {\"outlinewidth\": 0, \"ticks\": \"\"}}, \"type\": \"scattergl\"}], \"scattermapbox\": [{\"marker\": {\"colorbar\": {\"outlinewidth\": 0, \"ticks\": \"\"}}, \"type\": \"scattermapbox\"}], \"scatterpolar\": [{\"marker\": {\"colorbar\": {\"outlinewidth\": 0, \"ticks\": \"\"}}, \"type\": \"scatterpolar\"}], \"scatterpolargl\": [{\"marker\": {\"colorbar\": {\"outlinewidth\": 0, \"ticks\": \"\"}}, \"type\": \"scatterpolargl\"}], \"scatterternary\": [{\"marker\": {\"colorbar\": {\"outlinewidth\": 0, \"ticks\": \"\"}}, \"type\": \"scatterternary\"}], \"surface\": [{\"colorbar\": {\"outlinewidth\": 0, \"ticks\": \"\"}, \"colorscale\": [[0.0, \"#0d0887\"], [0.1111111111111111, \"#46039f\"], [0.2222222222222222, \"#7201a8\"], [0.3333333333333333, \"#9c179e\"], [0.4444444444444444, \"#bd3786\"], [0.5555555555555556, \"#d8576b\"], [0.6666666666666666, \"#ed7953\"], [0.7777777777777778, \"#fb9f3a\"], [0.8888888888888888, \"#fdca26\"], [1.0, \"#f0f921\"]], \"type\": \"surface\"}], \"table\": [{\"cells\": {\"fill\": {\"color\": \"#EBF0F8\"}, \"line\": {\"color\": \"white\"}}, \"header\": {\"fill\": {\"color\": \"#C8D4E3\"}, \"line\": {\"color\": \"white\"}}, \"type\": \"table\"}]}, \"layout\": {\"annotationdefaults\": {\"arrowcolor\": \"#2a3f5f\", \"arrowhead\": 0, \"arrowwidth\": 1}, \"coloraxis\": {\"colorbar\": {\"outlinewidth\": 0, \"ticks\": \"\"}}, \"colorscale\": {\"diverging\": [[0, \"#8e0152\"], [0.1, \"#c51b7d\"], [0.2, \"#de77ae\"], [0.3, \"#f1b6da\"], [0.4, \"#fde0ef\"], [0.5, \"#f7f7f7\"], [0.6, \"#e6f5d0\"], [0.7, \"#b8e186\"], [0.8, \"#7fbc41\"], [0.9, \"#4d9221\"], [1, \"#276419\"]], \"sequential\": [[0.0, \"#0d0887\"], [0.1111111111111111, \"#46039f\"], [0.2222222222222222, \"#7201a8\"], [0.3333333333333333, \"#9c179e\"], [0.4444444444444444, \"#bd3786\"], [0.5555555555555556, \"#d8576b\"], [0.6666666666666666, \"#ed7953\"], [0.7777777777777778, \"#fb9f3a\"], [0.8888888888888888, \"#fdca26\"], [1.0, \"#f0f921\"]], \"sequentialminus\": [[0.0, \"#0d0887\"], [0.1111111111111111, \"#46039f\"], [0.2222222222222222, \"#7201a8\"], [0.3333333333333333, \"#9c179e\"], [0.4444444444444444, \"#bd3786\"], [0.5555555555555556, \"#d8576b\"], [0.6666666666666666, \"#ed7953\"], [0.7777777777777778, \"#fb9f3a\"], [0.8888888888888888, \"#fdca26\"], [1.0, \"#f0f921\"]]}, \"colorway\": [\"#636efa\", \"#EF553B\", \"#00cc96\", \"#ab63fa\", \"#FFA15A\", \"#19d3f3\", \"#FF6692\", \"#B6E880\", \"#FF97FF\", \"#FECB52\"], \"font\": {\"color\": \"#2a3f5f\"}, \"geo\": {\"bgcolor\": \"white\", \"lakecolor\": \"white\", \"landcolor\": \"#E5ECF6\", \"showlakes\": true, \"showland\": true, \"subunitcolor\": \"white\"}, \"hoverlabel\": {\"align\": \"left\"}, \"hovermode\": \"closest\", \"mapbox\": {\"style\": \"light\"}, \"paper_bgcolor\": \"white\", \"plot_bgcolor\": \"#E5ECF6\", \"polar\": {\"angularaxis\": {\"gridcolor\": \"white\", \"linecolor\": \"white\", \"ticks\": \"\"}, \"bgcolor\": \"#E5ECF6\", \"radialaxis\": {\"gridcolor\": \"white\", \"linecolor\": \"white\", \"ticks\": \"\"}}, \"scene\": {\"xaxis\": {\"backgroundcolor\": \"#E5ECF6\", \"gridcolor\": \"white\", \"gridwidth\": 2, \"linecolor\": \"white\", \"showbackground\": true, \"ticks\": \"\", \"zerolinecolor\": \"white\"}, \"yaxis\": {\"backgroundcolor\": \"#E5ECF6\", \"gridcolor\": \"white\", \"gridwidth\": 2, \"linecolor\": \"white\", \"showbackground\": true, \"ticks\": \"\", \"zerolinecolor\": \"white\"}, \"zaxis\": {\"backgroundcolor\": \"#E5ECF6\", \"gridcolor\": \"white\", \"gridwidth\": 2, \"linecolor\": \"white\", \"showbackground\": true, \"ticks\": \"\", \"zerolinecolor\": \"white\"}}, \"shapedefaults\": {\"line\": {\"color\": \"#2a3f5f\"}}, \"ternary\": {\"aaxis\": {\"gridcolor\": \"white\", \"linecolor\": \"white\", \"ticks\": \"\"}, \"baxis\": {\"gridcolor\": \"white\", \"linecolor\": \"white\", \"ticks\": \"\"}, \"bgcolor\": \"#E5ECF6\", \"caxis\": {\"gridcolor\": \"white\", \"linecolor\": \"white\", \"ticks\": \"\"}}, \"title\": {\"x\": 0.05}, \"xaxis\": {\"automargin\": true, \"gridcolor\": \"white\", \"linecolor\": \"white\", \"ticks\": \"\", \"title\": {\"standoff\": 15}, \"zerolinecolor\": \"white\", \"zerolinewidth\": 2}, \"yaxis\": {\"automargin\": true, \"gridcolor\": \"white\", \"linecolor\": \"white\", \"ticks\": \"\", \"title\": {\"standoff\": 15}, \"zerolinecolor\": \"white\", \"zerolinewidth\": 2}}}, \"width\": 500},\n",
       "                        {\"responsive\": true}\n",
       "                    ).then(function(){\n",
       "                            \n",
       "var gd = document.getElementById('909b5a72-aa39-4392-b47a-c5333d4e4bc3');\n",
       "var x = new MutationObserver(function (mutations, observer) {{\n",
       "        var display = window.getComputedStyle(gd).display;\n",
       "        if (!display || display === 'none') {{\n",
       "            console.log([gd, 'removed!']);\n",
       "            Plotly.purge(gd);\n",
       "            observer.disconnect();\n",
       "        }}\n",
       "}});\n",
       "\n",
       "// Listen for the removal of the full notebook cells\n",
       "var notebookContainer = gd.closest('#notebook-container');\n",
       "if (notebookContainer) {{\n",
       "    x.observe(notebookContainer, {childList: true});\n",
       "}}\n",
       "\n",
       "// Listen for the clearing of the current output cell\n",
       "var outputEl = gd.closest('.output');\n",
       "if (outputEl) {{\n",
       "    x.observe(outputEl, {childList: true});\n",
       "}}\n",
       "\n",
       "                        })\n",
       "                };\n",
       "                });\n",
       "            </script>\n",
       "        </div>"
      ]
     },
     "metadata": {},
     "output_type": "display_data"
    }
   ],
   "source": [
    "#image to numpy array\n",
    "from PIL import Image\n",
    "import numpy\n",
    "im = Image.open(\"edge_images/0164.png\").convert('LA')\n",
    "np_im = numpy.array(im)\n",
    "np_im = np_im[:,:,0]\n",
    "np_im = np.flip(np_im,0)\n",
    "\n",
    "#numpy array to plotly heatmap\n",
    "fig = go.Figure(data=go.Heatmap(\n",
    "                    z = activations['airplane']['0001.png'][3][0]),\n",
    "                    #z=np_im),\n",
    "                layout=dict(\n",
    "                    height=300,\n",
    "                    width=300))\n",
    "\n",
    "\n",
    "#fig['layout'].update(scene=dict(aspectmode=\"data\"))\n",
    "fig.show()\n",
    "#im.show()"
   ]
  },
  {
   "cell_type": "code",
   "execution_count": 253,
   "metadata": {},
   "outputs": [],
   "source": [
    "#image to numpy array\n",
    "from PIL import Image\n",
    "import numpy\n",
    "im = Image.open(\"input_images_testing/airplane_0002.png\")\n",
    "im = im.resize((320,320),resample=Image.NEAREST)\n",
    "im.show()\n",
    "\n",
    "\n",
    "# np_im = numpy.array(im)\n",
    "# np_im.shape\n",
    "\n",
    "\n",
    "# new_im = Image.fromarray(np_im)\n",
    "# new_im.save(\"numpy_altered_sample2.png\")\n"
   ]
  },
  {
   "cell_type": "code",
   "execution_count": 249,
   "metadata": {},
   "outputs": [
    {
     "data": {
      "text/plain": [
       "(32, 3)"
      ]
     },
     "execution_count": 249,
     "metadata": {},
     "output_type": "execute_result"
    }
   ],
   "source": [
    "np_im[0].shape\n"
   ]
  },
  {
   "cell_type": "code",
   "execution_count": 195,
   "metadata": {
    "scrolled": true
   },
   "outputs": [
    {
     "data": {
      "application/vnd.plotly.v1+json": {
       "config": {
        "plotlyServerURL": "https://plot.ly"
       },
       "data": [
        {
         "hoverinfo": "text",
         "line": {
          "color": "rgba(255,0,0,0.4623605445561957)",
          "width": 0.6090716866174852
         },
         "mode": "lines",
         "text": "0.14370623230934146",
         "type": "scatter",
         "x": [
          1,
          2,
          3
         ],
         "y": [
          0,
          0,
          0
         ]
        },
        {
         "hoverinfo": "text",
         "line": {
          "color": "rgba(255,0,0,0.4)",
          "width": 0.5
         },
         "mode": "lines",
         "text": "0.11236831545829773",
         "type": "scatter",
         "x": [
          1,
          2,
          3
         ],
         "y": [
          0.1,
          0.1,
          0.1
         ]
        },
        {
         "hoverinfo": "text",
         "line": {
          "color": "rgba(255,0,0,0.4)",
          "width": 0.5
         },
         "mode": "lines",
         "text": "0.10513708740472794",
         "type": "scatter",
         "x": [
          1,
          2,
          3
         ],
         "y": [
          0.2,
          0.2,
          0.2
         ]
        },
        {
         "hoverinfo": "text",
         "line": {
          "color": "rgba(255,0,0,0.4)",
          "width": 0.5
         },
         "mode": "lines",
         "text": "0.11725154519081114",
         "type": "scatter",
         "x": [
          1,
          2,
          3
         ],
         "y": [
          0.30000000000000004,
          0.30000000000000004,
          0.30000000000000004
         ]
        },
        {
         "hoverinfo": "text",
         "line": {
          "color": "rgba(255,0,0,0.4096555299770246)",
          "width": 0.5
         },
         "mode": "lines",
         "text": "0.12345064431428908",
         "type": "scatter",
         "x": [
          1,
          2,
          3
         ],
         "y": [
          0.4,
          0.4,
          0.4
         ]
        },
        {
         "hoverinfo": "text",
         "line": {
          "color": "rgba(255,0,0,0.4)",
          "width": 0.5
         },
         "mode": "lines",
         "text": "0.10219395905733107",
         "type": "scatter",
         "x": [
          1,
          2,
          3
         ],
         "y": [
          0.5,
          0.5,
          0.5
         ]
        },
        {
         "hoverinfo": "text",
         "line": {
          "color": "rgba(255,0,0,0.4)",
          "width": 0.5
         },
         "mode": "lines",
         "text": "0.10290113836526872",
         "type": "scatter",
         "x": [
          1,
          2,
          3
         ],
         "y": [
          0.6000000000000001,
          0.6000000000000001,
          0.6000000000000001
         ]
        },
        {
         "hoverinfo": "text",
         "line": {
          "color": "rgba(255,0,0,0.4)",
          "width": 0.5
         },
         "mode": "lines",
         "text": "0.10136543959379196",
         "type": "scatter",
         "x": [
          1,
          2,
          3
         ],
         "y": [
          0.7000000000000001,
          0.7000000000000001,
          0.7000000000000001
         ]
        },
        {
         "hoverinfo": "text",
         "line": {
          "color": "rgba(255,0,0,0.7336881051527547)",
          "width": 1.6709962263498523
         },
         "mode": "lines",
         "text": "0.28163090348243713",
         "type": "scatter",
         "x": [
          1,
          2,
          3
         ],
         "y": [
          0.8,
          0.8,
          0.8
         ]
        },
        {
         "hoverinfo": "text",
         "line": {
          "color": "rgba(255,0,0,0.4)",
          "width": 0.5
         },
         "mode": "lines",
         "text": "0.1134723499417305",
         "type": "scatter",
         "x": [
          1,
          2,
          3
         ],
         "y": [
          0.9,
          0.9,
          0.9
         ]
        },
        {
         "hoverinfo": "text",
         "line": {
          "color": "rgba(255,0,0,0.4)",
          "width": 0.5
         },
         "mode": "lines",
         "text": "0.11417932808399199",
         "type": "scatter",
         "x": [
          1,
          2,
          3
         ],
         "y": [
          1,
          1,
          1
         ]
        },
        {
         "hoverinfo": "text",
         "line": {
          "color": "rgba(255,0,0,0.46116644156583575)",
          "width": 0.6060539811754182
         },
         "mode": "lines",
         "text": "0.14323116838932035",
         "type": "scatter",
         "x": [
          1,
          2,
          3
         ],
         "y": [
          1.1,
          1.1,
          1.1
         ]
        },
        {
         "hoverinfo": "text",
         "line": {
          "color": "rgba(255,0,0,0.4323702048351241)",
          "width": 0.5362282957639818
         },
         "mode": "lines",
         "text": "0.13200685381889346",
         "type": "scatter",
         "x": [
          1,
          2,
          3
         ],
         "y": [
          1.2000000000000002,
          1.2000000000000002,
          1.2000000000000002
         ]
        },
        {
         "hoverinfo": "text",
         "line": {
          "color": "rgba(255,0,0,0.9018181883188451)",
          "width": 3.265712919350811
         },
         "mode": "lines",
         "text": "0.4402323961257935",
         "type": "scatter",
         "x": [
          1,
          2,
          3
         ],
         "y": [
          1.3,
          1.3,
          1.3
         ]
        },
        {
         "hoverinfo": "text",
         "line": {
          "color": "rgba(255,0,0,0.4)",
          "width": 0.5
         },
         "mode": "lines",
         "text": "0.10349536687135696",
         "type": "scatter",
         "x": [
          1,
          2,
          3
         ],
         "y": [
          1.4000000000000001,
          1.4000000000000001,
          1.4000000000000001
         ]
        },
        {
         "hoverinfo": "text",
         "line": {
          "color": "rgba(255,0,0,0.4216810935497912)",
          "width": 0.5116944738584811
         },
         "mode": "lines",
         "text": "0.1279490739107132",
         "type": "scatter",
         "x": [
          1,
          2,
          3
         ],
         "y": [
          1.5,
          1.5,
          1.5
         ]
        },
        {
         "hoverinfo": "text",
         "line": {
          "color": "rgba(255,0,0,0.4619841864207602)",
          "width": 0.6081194829794102
         },
         "mode": "lines",
         "text": "0.1435564160346985",
         "type": "scatter",
         "x": [
          1,
          2,
          3
         ],
         "y": [
          1.6,
          1.6,
          1.6
         ]
        },
        {
         "hoverinfo": "text",
         "line": {
          "color": "rgba(255,0,0,0.5431342071744814)",
          "width": 0.8386154460176213
         },
         "mode": "lines",
         "text": "0.1778573840856552",
         "type": "scatter",
         "x": [
          1,
          2,
          3
         ],
         "y": [
          1.7000000000000002,
          1.7000000000000002,
          1.7000000000000002
         ]
        },
        {
         "hoverinfo": "text",
         "line": {
          "color": "rgba(255,0,0,0.6553237908813248)",
          "width": 1.263773566715884
         },
         "mode": "lines",
         "text": "0.2337811589241028",
         "type": "scatter",
         "x": [
          1,
          2,
          3
         ],
         "y": [
          1.8,
          1.8,
          1.8
         ]
        },
        {
         "hoverinfo": "text",
         "line": {
          "color": "rgba(255,0,0,0.6416545778855283)",
          "width": 1.2035582867379624
         },
         "mode": "lines",
         "text": "0.2262948900461197",
         "type": "scatter",
         "x": [
          1,
          2,
          3
         ],
         "y": [
          1.9000000000000001,
          1.9000000000000001,
          1.9000000000000001
         ]
        },
        {
         "hoverinfo": "text",
         "line": {
          "color": "rgba(255,0,0,0.4214449957592934)",
          "width": 0.5111607345095733
         },
         "mode": "lines",
         "text": "0.12786008417606354",
         "type": "scatter",
         "x": [
          1,
          2,
          3
         ],
         "y": [
          2,
          2,
          2
         ]
        },
        {
         "hoverinfo": "text",
         "line": {
          "color": "rgba(255,0,0,0.45843361557725604)",
          "width": 0.5991852268747336
         },
         "mode": "lines",
         "text": "0.14214690029621124",
         "type": "scatter",
         "x": [
          1,
          2,
          3
         ],
         "y": [
          2.1,
          2.1,
          2.1
         ]
        },
        {
         "hoverinfo": "text",
         "line": {
          "color": "rgba(255,0,0,0.44398192967861094)",
          "width": 0.5637157646418933
         },
         "mode": "lines",
         "text": "0.13648034632205966",
         "type": "scatter",
         "x": [
          1,
          2,
          3
         ],
         "y": [
          2.2,
          2.2,
          2.2
         ]
        },
        {
         "hoverinfo": "text",
         "line": {
          "color": "rgba(255,0,0,0.4)",
          "width": 0.5
         },
         "mode": "lines",
         "text": "0.10066123306751253",
         "type": "scatter",
         "x": [
          1,
          2,
          3
         ],
         "y": [
          2.3000000000000003,
          2.3000000000000003,
          2.3000000000000003
         ]
        },
        {
         "hoverinfo": "text",
         "line": {
          "color": "rgba(255,0,0,0.4)",
          "width": 0.5
         },
         "mode": "lines",
         "text": "0.11222603172063828",
         "type": "scatter",
         "x": [
          1,
          2,
          3
         ],
         "y": [
          2.4000000000000004,
          2.4000000000000004,
          2.4000000000000004
         ]
        },
        {
         "hoverinfo": "text",
         "line": {
          "color": "rgba(255,0,0,0.4)",
          "width": 0.5
         },
         "mode": "lines",
         "text": "0.10613570362329484",
         "type": "scatter",
         "x": [
          1,
          2,
          3
         ],
         "y": [
          2.5,
          2.5,
          2.5
         ]
        },
        {
         "hoverinfo": "text",
         "line": {
          "color": "rgba(255,0,0,0.6939919518110509)",
          "width": 1.450185900748161
         },
         "mode": "lines",
         "text": "0.2562393248081207",
         "type": "scatter",
         "x": [
          1,
          2,
          3
         ],
         "y": [
          2.6,
          2.6,
          2.6
         ]
        },
        {
         "hoverinfo": "text",
         "line": {
          "color": "rgba(255,0,0,0.47204185307207225)",
          "width": 0.6339117679088435
         },
         "mode": "lines",
         "text": "0.1475873738527298",
         "type": "scatter",
         "x": [
          1,
          2,
          3
         ],
         "y": [
          2.7,
          2.7,
          2.7
         ]
        },
        {
         "hoverinfo": "text",
         "line": {
          "color": "rgba(255,0,0,0.4)",
          "width": 0.5
         },
         "mode": "lines",
         "text": "0.10142996907234192",
         "type": "scatter",
         "x": [
          1,
          2,
          3
         ],
         "y": [
          2.8000000000000003,
          2.8000000000000003,
          2.8000000000000003
         ]
        },
        {
         "hoverinfo": "text",
         "line": {
          "color": "rgba(255,0,0,0.4)",
          "width": 0.5
         },
         "mode": "lines",
         "text": "0.10236532986164093",
         "type": "scatter",
         "x": [
          1,
          2,
          3
         ],
         "y": [
          2.9000000000000004,
          2.9000000000000004,
          2.9000000000000004
         ]
        },
        {
         "hoverinfo": "text",
         "line": {
          "color": "rgba(255,0,0,0.4886096646975906)",
          "width": 0.6780093781091473
         },
         "mode": "lines",
         "text": "0.15435491502285004",
         "type": "scatter",
         "x": [
          1,
          2,
          3
         ],
         "y": [
          3,
          3,
          3
         ]
        },
        {
         "hoverinfo": "text",
         "line": {
          "color": "rgba(255,0,0,0.4)",
          "width": 0.5
         },
         "mode": "lines",
         "text": "0.11042369157075882",
         "type": "scatter",
         "x": [
          1,
          2,
          3
         ],
         "y": [
          3.1,
          3.1,
          3.1
         ]
        },
        {
         "hoverinfo": "text",
         "line": {
          "color": "rgba(255,0,0,0.7640357135392031)",
          "width": 1.865057065440455
         },
         "mode": "lines",
         "text": "0.3030340373516083",
         "type": "scatter",
         "x": [
          1,
          2,
          3
         ],
         "y": [
          3.2,
          3.2,
          3.2
         ]
        },
        {
         "hoverinfo": "text",
         "line": {
          "color": "rgba(255,0,0,0.4)",
          "width": 0.5
         },
         "mode": "lines",
         "text": "0.10074274986982346",
         "type": "scatter",
         "x": [
          1,
          2,
          3
         ],
         "y": [
          3.3000000000000003,
          3.3000000000000003,
          3.3000000000000003
         ]
        },
        {
         "hoverinfo": "text",
         "line": {
          "color": "rgba(255,0,0,0.6001277029843686)",
          "width": 1.0361601422601463
         },
         "mode": "lines",
         "text": "0.20479275286197665",
         "type": "scatter",
         "x": [
          1,
          2,
          3
         ],
         "y": [
          3.4000000000000004,
          3.4000000000000004,
          3.4000000000000004
         ]
        },
        {
         "hoverinfo": "text",
         "line": {
          "color": "rgba(255,0,0,0.5556473345809327)",
          "width": 0.8791659976229097
         },
         "mode": "lines",
         "text": "0.1835455745458603",
         "type": "scatter",
         "x": [
          1,
          2,
          3
         ],
         "y": [
          3.5,
          3.5,
          3.5
         ]
        },
        {
         "hoverinfo": "text",
         "line": {
          "color": "rgba(255,0,0,0.4)",
          "width": 0.5
         },
         "mode": "lines",
         "text": "0.10549190640449524",
         "type": "scatter",
         "x": [
          1,
          2,
          3
         ],
         "y": [
          3.6,
          3.6,
          3.6
         ]
        },
        {
         "hoverinfo": "text",
         "line": {
          "color": "rgba(255,0,0,0.582950964284509)",
          "width": 0.9730276339158025
         },
         "mode": "lines",
         "text": "0.19638732075691226",
         "type": "scatter",
         "x": [
          1,
          2,
          3
         ],
         "y": [
          3.7,
          3.7,
          3.7
         ]
        },
        {
         "hoverinfo": "text",
         "line": {
          "color": "rgba(255,0,0,0.4)",
          "width": 0.5
         },
         "mode": "lines",
         "text": "0.11786869913339615",
         "type": "scatter",
         "x": [
          1,
          2,
          3
         ],
         "y": [
          3.8000000000000003,
          3.8000000000000003,
          3.8000000000000003
         ]
        },
        {
         "hoverinfo": "text",
         "line": {
          "color": "rgba(255,0,0,0.4)",
          "width": 0.5
         },
         "mode": "lines",
         "text": "0.10382822155952454",
         "type": "scatter",
         "x": [
          1,
          2,
          3
         ],
         "y": [
          3.9000000000000004,
          3.9000000000000004,
          3.9000000000000004
         ]
        },
        {
         "hoverinfo": "text",
         "line": {
          "color": "rgba(255,0,0,0.5606589100368844)",
          "width": 0.8958286553915371
         },
         "mode": "lines",
         "text": "0.18585744500160215",
         "type": "scatter",
         "x": [
          1,
          2,
          3
         ],
         "y": [
          4,
          4,
          4
         ]
        },
        {
         "hoverinfo": "text",
         "line": {
          "color": "rgba(255,0,0,0.528938475573826)",
          "width": 0.7943622371429586
         },
         "mode": "lines",
         "text": "0.17154407501220706",
         "type": "scatter",
         "x": [
          1,
          2,
          3
         ],
         "y": [
          4.1000000000000005,
          4.1000000000000005,
          4.1000000000000005
         ]
        },
        {
         "hoverinfo": "text",
         "line": {
          "color": "rgba(255,0,0,0.4)",
          "width": 0.5
         },
         "mode": "lines",
         "text": "0.11396177858114245",
         "type": "scatter",
         "x": [
          1,
          2,
          3
         ],
         "y": [
          4.2,
          4.2,
          4.2
         ]
        },
        {
         "hoverinfo": "text",
         "line": {
          "color": "rgba(255,0,0,0.4)",
          "width": 0.5
         },
         "mode": "lines",
         "text": "0.11859458684921265",
         "type": "scatter",
         "x": [
          1,
          2,
          3
         ],
         "y": [
          4.3,
          4.3,
          4.3
         ]
        },
        {
         "hoverinfo": "text",
         "line": {
          "color": "rgba(255,0,0,0.44947388503035013)",
          "width": 0.5770277088234211
         },
         "mode": "lines",
         "text": "0.13862060010433194",
         "type": "scatter",
         "x": [
          1,
          2,
          3
         ],
         "y": [
          4.4,
          4.4,
          4.4
         ]
        },
        {
         "hoverinfo": "text",
         "line": {
          "color": "rgba(255,0,0,0.5018214549386906)",
          "width": 0.7146729521942479
         },
         "mode": "lines",
         "text": "0.1598704606294632",
         "type": "scatter",
         "x": [
          1,
          2,
          3
         ],
         "y": [
          4.5,
          4.5,
          4.5
         ]
        },
        {
         "hoverinfo": "text",
         "line": {
          "color": "rgba(255,0,0,0.4557545030581375)",
          "width": 0.5925019041705807
         },
         "mode": "lines",
         "text": "0.14108791947364807",
         "type": "scatter",
         "x": [
          1,
          2,
          3
         ],
         "y": [
          4.6000000000000005,
          4.6000000000000005,
          4.6000000000000005
         ]
        },
        {
         "hoverinfo": "text",
         "line": {
          "color": "rgba(255,0,0,0.4)",
          "width": 0.5
         },
         "mode": "lines",
         "text": "0.1163221076130867",
         "type": "scatter",
         "x": [
          1,
          2,
          3
         ],
         "y": [
          4.7,
          4.7,
          4.7
         ]
        },
        {
         "hoverinfo": "text",
         "line": {
          "color": "rgba(255,0,0,0.4404951390523981)",
          "width": 0.5553686920661048
         },
         "mode": "lines",
         "text": "0.13512973487377167",
         "type": "scatter",
         "x": [
          1,
          2,
          3
         ],
         "y": [
          4.800000000000001,
          4.800000000000001,
          4.800000000000001
         ]
        },
        {
         "hoverinfo": "text",
         "line": {
          "color": "rgba(255,0,0,0.4)",
          "width": 0.5
         },
         "mode": "lines",
         "text": "0.11276588588953018",
         "type": "scatter",
         "x": [
          1,
          2,
          3
         ],
         "y": [
          4.9,
          4.9,
          4.9
         ]
        },
        {
         "hoverinfo": "text",
         "line": {
          "color": "rgba(255,0,0,0.4)",
          "width": 0.5
         },
         "mode": "lines",
         "text": "0.1110248789191246",
         "type": "scatter",
         "x": [
          1,
          2,
          3
         ],
         "y": [
          5,
          5,
          5
         ]
        },
        {
         "hoverinfo": "text",
         "line": {
          "color": "rgba(255,0,0,0.4)",
          "width": 0.5
         },
         "mode": "lines",
         "text": "0.11503873020410538",
         "type": "scatter",
         "x": [
          1,
          2,
          3
         ],
         "y": [
          5.1000000000000005,
          5.1000000000000005,
          5.1000000000000005
         ]
        },
        {
         "hoverinfo": "text",
         "line": {
          "color": "rgba(255,0,0,0.5801456027452053)",
          "width": 0.9630264334351964
         },
         "mode": "lines",
         "text": "0.195039302110672",
         "type": "scatter",
         "x": [
          1,
          2,
          3
         ],
         "y": [
          5.2,
          5.2,
          5.2
         ]
        },
        {
         "hoverinfo": "text",
         "line": {
          "color": "rgba(255,0,0,0.4624419368069259)",
          "width": 0.6092777438801225
         },
         "mode": "lines",
         "text": "0.14373864233493805",
         "type": "scatter",
         "x": [
          1,
          2,
          3
         ],
         "y": [
          5.300000000000001,
          5.300000000000001,
          5.300000000000001
         ]
        },
        {
         "hoverinfo": "text",
         "line": {
          "color": "rgba(255,0,0,0.4495345291464339)",
          "width": 0.5771758384434041
         },
         "mode": "lines",
         "text": "0.13864432275295258",
         "type": "scatter",
         "x": [
          1,
          2,
          3
         ],
         "y": [
          5.4,
          5.4,
          5.4
         ]
        },
        {
         "hoverinfo": "text",
         "line": {
          "color": "rgba(255,0,0,0.411294403003049)",
          "width": 0.5
         },
         "mode": "lines",
         "text": "0.12405963242053986",
         "type": "scatter",
         "x": [
          1,
          2,
          3
         ],
         "y": [
          5.5,
          5.5,
          5.5
         ]
        },
        {
         "hoverinfo": "text",
         "line": {
          "color": "rgba(255,0,0,0.4809066910866461)",
          "width": 0.657252547454112
         },
         "mode": "lines",
         "text": "0.15118829905986786",
         "type": "scatter",
         "x": [
          1,
          2,
          3
         ],
         "y": [
          5.6000000000000005,
          5.6000000000000005,
          5.6000000000000005
         ]
        },
        {
         "hoverinfo": "text",
         "line": {
          "color": "rgba(255,0,0,0.45371775809636994)",
          "width": 0.5874541920844936
         },
         "mode": "lines",
         "text": "0.140285462141037",
         "type": "scatter",
         "x": [
          1,
          2,
          3
         ],
         "y": [
          5.7,
          5.7,
          5.7
         ]
        },
        {
         "hoverinfo": "text",
         "line": {
          "color": "rgba(255,0,0,0.7508141830769461)",
          "width": 1.7774597301589066
         },
         "mode": "lines",
         "text": "0.29346963763237",
         "type": "scatter",
         "x": [
          1,
          2,
          3
         ],
         "y": [
          5.800000000000001,
          5.800000000000001,
          5.800000000000001
         ]
        },
        {
         "hoverinfo": "text",
         "line": {
          "color": "rgba(255,0,0,0.4289045626351461)",
          "width": 0.5281941998150642
         },
         "mode": "lines",
         "text": "0.1306850016117096",
         "type": "scatter",
         "x": [
          1,
          2,
          3
         ],
         "y": [
          5.9,
          5.9,
          5.9
         ]
        },
        {
         "hoverinfo": "text",
         "line": {
          "color": "rgba(255,0,0,0.5690199058545501)",
          "width": 0.9241830992920974
         },
         "mode": "lines",
         "text": "0.18975883722305295",
         "type": "scatter",
         "x": [
          1,
          2,
          3
         ],
         "y": [
          6,
          6,
          6
         ]
        },
        {
         "hoverinfo": "text",
         "line": {
          "color": "rgba(255,0,0,0.4)",
          "width": 0.5
         },
         "mode": "lines",
         "text": "0.1023336425423622",
         "type": "scatter",
         "x": [
          1,
          2,
          3
         ],
         "y": [
          6.1000000000000005,
          6.1000000000000005,
          6.1000000000000005
         ]
        },
        {
         "hoverinfo": "text",
         "line": {
          "color": "rgba(255,0,0,0.4)",
          "width": 0.5
         },
         "mode": "lines",
         "text": "0.10919872671365738",
         "type": "scatter",
         "x": [
          1,
          2,
          3
         ],
         "y": [
          6.2,
          6.2,
          6.2
         ]
        },
        {
         "hoverinfo": "text",
         "line": {
          "color": "rgba(255,0,0,0.4882202680404959)",
          "width": 0.6769493017960774
         },
         "mode": "lines",
         "text": "0.15419398248195648",
         "type": "scatter",
         "x": [
          1,
          2,
          3
         ],
         "y": [
          6.300000000000001,
          6.300000000000001,
          6.300000000000001
         ]
        },
        {
         "hoverinfo": "text",
         "line": {
          "color": "rgba(255,0,0,0.4762707391526988)",
          "width": 0.6449742136975131
         },
         "mode": "lines",
         "text": "0.14929945766925812",
         "type": "scatter",
         "x": [
          1,
          2,
          3
         ],
         "y": [
          6.4,
          6.4,
          6.4
         ]
        },
        {
         "hoverinfo": "text",
         "line": {
          "color": "rgba(255,0,0,0.4)",
          "width": 0.5
         },
         "mode": "lines",
         "text": "0.11705926060676575",
         "type": "scatter",
         "x": [
          1,
          2,
          3
         ],
         "y": [
          6.5,
          6.5,
          6.5
         ]
        },
        {
         "hoverinfo": "text",
         "line": {
          "color": "rgba(255,0,0,0.4)",
          "width": 0.5
         },
         "mode": "lines",
         "text": "0.11124771833419801",
         "type": "scatter",
         "x": [
          1,
          2,
          3
         ],
         "y": [
          6.6000000000000005,
          6.6000000000000005,
          6.6000000000000005
         ]
        },
        {
         "hoverinfo": "text",
         "line": {
          "color": "rgba(255,0,0,0.4)",
          "width": 0.5
         },
         "mode": "lines",
         "text": "0.1067403331398964",
         "type": "scatter",
         "x": [
          1,
          2,
          3
         ],
         "y": [
          6.7,
          6.7,
          6.7
         ]
        },
        {
         "hoverinfo": "text",
         "line": {
          "color": "rgba(255,0,0,0.4191208503187006)",
          "width": 0.5059251973045361
         },
         "mode": "lines",
         "text": "0.12698552012443542",
         "type": "scatter",
         "x": [
          1,
          2,
          3
         ],
         "y": [
          6.800000000000001,
          6.800000000000001,
          6.800000000000001
         ]
        },
        {
         "hoverinfo": "text",
         "line": {
          "color": "rgba(255,0,0,0.4)",
          "width": 0.5
         },
         "mode": "lines",
         "text": "0.1009724736213684",
         "type": "scatter",
         "x": [
          1,
          2,
          3
         ],
         "y": [
          6.9,
          6.9,
          6.9
         ]
        },
        {
         "hoverinfo": "text",
         "line": {
          "color": "rgba(255,0,0,0.4)",
          "width": 0.5
         },
         "mode": "lines",
         "text": "0.10716696083545683",
         "type": "scatter",
         "x": [
          1,
          2,
          3
         ],
         "y": [
          7,
          7,
          7
         ]
        },
        {
         "hoverinfo": "text",
         "line": {
          "color": "rgba(255,0,0,0.45840603323470963)",
          "width": 0.599116166217542
         },
         "mode": "lines",
         "text": "0.14213597774505615",
         "type": "scatter",
         "x": [
          1,
          2,
          3
         ],
         "y": [
          7.1000000000000005,
          7.1000000000000005,
          7.1000000000000005
         ]
        },
        {
         "hoverinfo": "text",
         "line": {
          "color": "rgba(255,0,0,0.4906577917179863)",
          "width": 0.6836042200133351
         },
         "mode": "lines",
         "text": "0.15520289540290833",
         "type": "scatter",
         "x": [
          1,
          2,
          3
         ],
         "y": [
          7.2,
          7.2,
          7.2
         ]
        },
        {
         "hoverinfo": "text",
         "line": {
          "color": "rgba(255,0,0,0.5069817669038044)",
          "width": 0.7293682679880675
         },
         "mode": "lines",
         "text": "0.16205455362796786",
         "type": "scatter",
         "x": [
          1,
          2,
          3
         ],
         "y": [
          7.300000000000001,
          7.300000000000001,
          7.300000000000001
         ]
        },
        {
         "hoverinfo": "text",
         "line": {
          "color": "rgba(255,0,0,0.4)",
          "width": 0.5
         },
         "mode": "lines",
         "text": "0.10635922849178314",
         "type": "scatter",
         "x": [
          1,
          2,
          3
         ],
         "y": [
          7.4,
          7.4,
          7.4
         ]
        },
        {
         "hoverinfo": "text",
         "line": {
          "color": "rgba(255,0,0,0.8852071109182268)",
          "width": 3.0206676993009145
         },
         "mode": "lines",
         "text": "0.4179252684116364",
         "type": "scatter",
         "x": [
          1,
          2,
          3
         ],
         "y": [
          7.5,
          7.5,
          7.5
         ]
        },
        {
         "hoverinfo": "text",
         "line": {
          "color": "rgba(255,0,0,0.4)",
          "width": 0.5
         },
         "mode": "lines",
         "text": "0.11294622719287872",
         "type": "scatter",
         "x": [
          1,
          2,
          3
         ],
         "y": [
          7.6000000000000005,
          7.6000000000000005,
          7.6000000000000005
         ]
        },
        {
         "hoverinfo": "text",
         "line": {
          "color": "rgba(255,0,0,0.4)",
          "width": 0.5
         },
         "mode": "lines",
         "text": "0.10203936696052553",
         "type": "scatter",
         "x": [
          1,
          2,
          3
         ],
         "y": [
          7.7,
          7.7,
          7.7
         ]
        },
        {
         "hoverinfo": "text",
         "line": {
          "color": "rgba(255,0,0,0.4)",
          "width": 0.5
         },
         "mode": "lines",
         "text": "0.10601377487182616",
         "type": "scatter",
         "x": [
          1,
          2,
          3
         ],
         "y": [
          7.800000000000001,
          7.800000000000001,
          7.800000000000001
         ]
        },
        {
         "hoverinfo": "text",
         "line": {
          "color": "rgba(255,0,0,0.4)",
          "width": 0.5
         },
         "mode": "lines",
         "text": "0.11428913474082948",
         "type": "scatter",
         "x": [
          1,
          2,
          3
         ],
         "y": [
          7.9,
          7.9,
          7.9
         ]
        },
        {
         "hoverinfo": "text",
         "line": {
          "color": "rgba(255,0,0,0.4)",
          "width": 0.5
         },
         "mode": "lines",
         "text": "0.10498390346765518",
         "type": "scatter",
         "x": [
          1,
          2,
          3
         ],
         "y": [
          8,
          8,
          8
         ]
        },
        {
         "hoverinfo": "text",
         "line": {
          "color": "rgba(255,0,0,0.4)",
          "width": 0.5
         },
         "mode": "lines",
         "text": "0.10214492678642273",
         "type": "scatter",
         "x": [
          1,
          2,
          3
         ],
         "y": [
          8.1,
          8.1,
          8.1
         ]
        }
       ],
       "layout": {
        "template": {
         "data": {
          "bar": [
           {
            "error_x": {
             "color": "#2a3f5f"
            },
            "error_y": {
             "color": "#2a3f5f"
            },
            "marker": {
             "line": {
              "color": "#E5ECF6",
              "width": 0.5
             }
            },
            "type": "bar"
           }
          ],
          "barpolar": [
           {
            "marker": {
             "line": {
              "color": "#E5ECF6",
              "width": 0.5
             }
            },
            "type": "barpolar"
           }
          ],
          "carpet": [
           {
            "aaxis": {
             "endlinecolor": "#2a3f5f",
             "gridcolor": "white",
             "linecolor": "white",
             "minorgridcolor": "white",
             "startlinecolor": "#2a3f5f"
            },
            "baxis": {
             "endlinecolor": "#2a3f5f",
             "gridcolor": "white",
             "linecolor": "white",
             "minorgridcolor": "white",
             "startlinecolor": "#2a3f5f"
            },
            "type": "carpet"
           }
          ],
          "choropleth": [
           {
            "colorbar": {
             "outlinewidth": 0,
             "ticks": ""
            },
            "type": "choropleth"
           }
          ],
          "contour": [
           {
            "colorbar": {
             "outlinewidth": 0,
             "ticks": ""
            },
            "colorscale": [
             [
              0,
              "#0d0887"
             ],
             [
              0.1111111111111111,
              "#46039f"
             ],
             [
              0.2222222222222222,
              "#7201a8"
             ],
             [
              0.3333333333333333,
              "#9c179e"
             ],
             [
              0.4444444444444444,
              "#bd3786"
             ],
             [
              0.5555555555555556,
              "#d8576b"
             ],
             [
              0.6666666666666666,
              "#ed7953"
             ],
             [
              0.7777777777777778,
              "#fb9f3a"
             ],
             [
              0.8888888888888888,
              "#fdca26"
             ],
             [
              1,
              "#f0f921"
             ]
            ],
            "type": "contour"
           }
          ],
          "contourcarpet": [
           {
            "colorbar": {
             "outlinewidth": 0,
             "ticks": ""
            },
            "type": "contourcarpet"
           }
          ],
          "heatmap": [
           {
            "colorbar": {
             "outlinewidth": 0,
             "ticks": ""
            },
            "colorscale": [
             [
              0,
              "#0d0887"
             ],
             [
              0.1111111111111111,
              "#46039f"
             ],
             [
              0.2222222222222222,
              "#7201a8"
             ],
             [
              0.3333333333333333,
              "#9c179e"
             ],
             [
              0.4444444444444444,
              "#bd3786"
             ],
             [
              0.5555555555555556,
              "#d8576b"
             ],
             [
              0.6666666666666666,
              "#ed7953"
             ],
             [
              0.7777777777777778,
              "#fb9f3a"
             ],
             [
              0.8888888888888888,
              "#fdca26"
             ],
             [
              1,
              "#f0f921"
             ]
            ],
            "type": "heatmap"
           }
          ],
          "heatmapgl": [
           {
            "colorbar": {
             "outlinewidth": 0,
             "ticks": ""
            },
            "colorscale": [
             [
              0,
              "#0d0887"
             ],
             [
              0.1111111111111111,
              "#46039f"
             ],
             [
              0.2222222222222222,
              "#7201a8"
             ],
             [
              0.3333333333333333,
              "#9c179e"
             ],
             [
              0.4444444444444444,
              "#bd3786"
             ],
             [
              0.5555555555555556,
              "#d8576b"
             ],
             [
              0.6666666666666666,
              "#ed7953"
             ],
             [
              0.7777777777777778,
              "#fb9f3a"
             ],
             [
              0.8888888888888888,
              "#fdca26"
             ],
             [
              1,
              "#f0f921"
             ]
            ],
            "type": "heatmapgl"
           }
          ],
          "histogram": [
           {
            "marker": {
             "colorbar": {
              "outlinewidth": 0,
              "ticks": ""
             }
            },
            "type": "histogram"
           }
          ],
          "histogram2d": [
           {
            "colorbar": {
             "outlinewidth": 0,
             "ticks": ""
            },
            "colorscale": [
             [
              0,
              "#0d0887"
             ],
             [
              0.1111111111111111,
              "#46039f"
             ],
             [
              0.2222222222222222,
              "#7201a8"
             ],
             [
              0.3333333333333333,
              "#9c179e"
             ],
             [
              0.4444444444444444,
              "#bd3786"
             ],
             [
              0.5555555555555556,
              "#d8576b"
             ],
             [
              0.6666666666666666,
              "#ed7953"
             ],
             [
              0.7777777777777778,
              "#fb9f3a"
             ],
             [
              0.8888888888888888,
              "#fdca26"
             ],
             [
              1,
              "#f0f921"
             ]
            ],
            "type": "histogram2d"
           }
          ],
          "histogram2dcontour": [
           {
            "colorbar": {
             "outlinewidth": 0,
             "ticks": ""
            },
            "colorscale": [
             [
              0,
              "#0d0887"
             ],
             [
              0.1111111111111111,
              "#46039f"
             ],
             [
              0.2222222222222222,
              "#7201a8"
             ],
             [
              0.3333333333333333,
              "#9c179e"
             ],
             [
              0.4444444444444444,
              "#bd3786"
             ],
             [
              0.5555555555555556,
              "#d8576b"
             ],
             [
              0.6666666666666666,
              "#ed7953"
             ],
             [
              0.7777777777777778,
              "#fb9f3a"
             ],
             [
              0.8888888888888888,
              "#fdca26"
             ],
             [
              1,
              "#f0f921"
             ]
            ],
            "type": "histogram2dcontour"
           }
          ],
          "mesh3d": [
           {
            "colorbar": {
             "outlinewidth": 0,
             "ticks": ""
            },
            "type": "mesh3d"
           }
          ],
          "parcoords": [
           {
            "line": {
             "colorbar": {
              "outlinewidth": 0,
              "ticks": ""
             }
            },
            "type": "parcoords"
           }
          ],
          "pie": [
           {
            "automargin": true,
            "type": "pie"
           }
          ],
          "scatter": [
           {
            "marker": {
             "colorbar": {
              "outlinewidth": 0,
              "ticks": ""
             }
            },
            "type": "scatter"
           }
          ],
          "scatter3d": [
           {
            "line": {
             "colorbar": {
              "outlinewidth": 0,
              "ticks": ""
             }
            },
            "marker": {
             "colorbar": {
              "outlinewidth": 0,
              "ticks": ""
             }
            },
            "type": "scatter3d"
           }
          ],
          "scattercarpet": [
           {
            "marker": {
             "colorbar": {
              "outlinewidth": 0,
              "ticks": ""
             }
            },
            "type": "scattercarpet"
           }
          ],
          "scattergeo": [
           {
            "marker": {
             "colorbar": {
              "outlinewidth": 0,
              "ticks": ""
             }
            },
            "type": "scattergeo"
           }
          ],
          "scattergl": [
           {
            "marker": {
             "colorbar": {
              "outlinewidth": 0,
              "ticks": ""
             }
            },
            "type": "scattergl"
           }
          ],
          "scattermapbox": [
           {
            "marker": {
             "colorbar": {
              "outlinewidth": 0,
              "ticks": ""
             }
            },
            "type": "scattermapbox"
           }
          ],
          "scatterpolar": [
           {
            "marker": {
             "colorbar": {
              "outlinewidth": 0,
              "ticks": ""
             }
            },
            "type": "scatterpolar"
           }
          ],
          "scatterpolargl": [
           {
            "marker": {
             "colorbar": {
              "outlinewidth": 0,
              "ticks": ""
             }
            },
            "type": "scatterpolargl"
           }
          ],
          "scatterternary": [
           {
            "marker": {
             "colorbar": {
              "outlinewidth": 0,
              "ticks": ""
             }
            },
            "type": "scatterternary"
           }
          ],
          "surface": [
           {
            "colorbar": {
             "outlinewidth": 0,
             "ticks": ""
            },
            "colorscale": [
             [
              0,
              "#0d0887"
             ],
             [
              0.1111111111111111,
              "#46039f"
             ],
             [
              0.2222222222222222,
              "#7201a8"
             ],
             [
              0.3333333333333333,
              "#9c179e"
             ],
             [
              0.4444444444444444,
              "#bd3786"
             ],
             [
              0.5555555555555556,
              "#d8576b"
             ],
             [
              0.6666666666666666,
              "#ed7953"
             ],
             [
              0.7777777777777778,
              "#fb9f3a"
             ],
             [
              0.8888888888888888,
              "#fdca26"
             ],
             [
              1,
              "#f0f921"
             ]
            ],
            "type": "surface"
           }
          ],
          "table": [
           {
            "cells": {
             "fill": {
              "color": "#EBF0F8"
             },
             "line": {
              "color": "white"
             }
            },
            "header": {
             "fill": {
              "color": "#C8D4E3"
             },
             "line": {
              "color": "white"
             }
            },
            "type": "table"
           }
          ]
         },
         "layout": {
          "annotationdefaults": {
           "arrowcolor": "#2a3f5f",
           "arrowhead": 0,
           "arrowwidth": 1
          },
          "coloraxis": {
           "colorbar": {
            "outlinewidth": 0,
            "ticks": ""
           }
          },
          "colorscale": {
           "diverging": [
            [
             0,
             "#8e0152"
            ],
            [
             0.1,
             "#c51b7d"
            ],
            [
             0.2,
             "#de77ae"
            ],
            [
             0.3,
             "#f1b6da"
            ],
            [
             0.4,
             "#fde0ef"
            ],
            [
             0.5,
             "#f7f7f7"
            ],
            [
             0.6,
             "#e6f5d0"
            ],
            [
             0.7,
             "#b8e186"
            ],
            [
             0.8,
             "#7fbc41"
            ],
            [
             0.9,
             "#4d9221"
            ],
            [
             1,
             "#276419"
            ]
           ],
           "sequential": [
            [
             0,
             "#0d0887"
            ],
            [
             0.1111111111111111,
             "#46039f"
            ],
            [
             0.2222222222222222,
             "#7201a8"
            ],
            [
             0.3333333333333333,
             "#9c179e"
            ],
            [
             0.4444444444444444,
             "#bd3786"
            ],
            [
             0.5555555555555556,
             "#d8576b"
            ],
            [
             0.6666666666666666,
             "#ed7953"
            ],
            [
             0.7777777777777778,
             "#fb9f3a"
            ],
            [
             0.8888888888888888,
             "#fdca26"
            ],
            [
             1,
             "#f0f921"
            ]
           ],
           "sequentialminus": [
            [
             0,
             "#0d0887"
            ],
            [
             0.1111111111111111,
             "#46039f"
            ],
            [
             0.2222222222222222,
             "#7201a8"
            ],
            [
             0.3333333333333333,
             "#9c179e"
            ],
            [
             0.4444444444444444,
             "#bd3786"
            ],
            [
             0.5555555555555556,
             "#d8576b"
            ],
            [
             0.6666666666666666,
             "#ed7953"
            ],
            [
             0.7777777777777778,
             "#fb9f3a"
            ],
            [
             0.8888888888888888,
             "#fdca26"
            ],
            [
             1,
             "#f0f921"
            ]
           ]
          },
          "colorway": [
           "#636efa",
           "#EF553B",
           "#00cc96",
           "#ab63fa",
           "#FFA15A",
           "#19d3f3",
           "#FF6692",
           "#B6E880",
           "#FF97FF",
           "#FECB52"
          ],
          "font": {
           "color": "#2a3f5f"
          },
          "geo": {
           "bgcolor": "white",
           "lakecolor": "white",
           "landcolor": "#E5ECF6",
           "showlakes": true,
           "showland": true,
           "subunitcolor": "white"
          },
          "hoverlabel": {
           "align": "left"
          },
          "hovermode": "closest",
          "mapbox": {
           "style": "light"
          },
          "paper_bgcolor": "white",
          "plot_bgcolor": "#E5ECF6",
          "polar": {
           "angularaxis": {
            "gridcolor": "white",
            "linecolor": "white",
            "ticks": ""
           },
           "bgcolor": "#E5ECF6",
           "radialaxis": {
            "gridcolor": "white",
            "linecolor": "white",
            "ticks": ""
           }
          },
          "scene": {
           "xaxis": {
            "backgroundcolor": "#E5ECF6",
            "gridcolor": "white",
            "gridwidth": 2,
            "linecolor": "white",
            "showbackground": true,
            "ticks": "",
            "zerolinecolor": "white"
           },
           "yaxis": {
            "backgroundcolor": "#E5ECF6",
            "gridcolor": "white",
            "gridwidth": 2,
            "linecolor": "white",
            "showbackground": true,
            "ticks": "",
            "zerolinecolor": "white"
           },
           "zaxis": {
            "backgroundcolor": "#E5ECF6",
            "gridcolor": "white",
            "gridwidth": 2,
            "linecolor": "white",
            "showbackground": true,
            "ticks": "",
            "zerolinecolor": "white"
           }
          },
          "shapedefaults": {
           "line": {
            "color": "#2a3f5f"
           }
          },
          "ternary": {
           "aaxis": {
            "gridcolor": "white",
            "linecolor": "white",
            "ticks": ""
           },
           "baxis": {
            "gridcolor": "white",
            "linecolor": "white",
            "ticks": ""
           },
           "bgcolor": "#E5ECF6",
           "caxis": {
            "gridcolor": "white",
            "linecolor": "white",
            "ticks": ""
           }
          },
          "title": {
           "x": 0.05
          },
          "xaxis": {
           "automargin": true,
           "gridcolor": "white",
           "linecolor": "white",
           "ticks": "",
           "title": {
            "standoff": 15
           },
           "zerolinecolor": "white",
           "zerolinewidth": 2
          },
          "yaxis": {
           "automargin": true,
           "gridcolor": "white",
           "linecolor": "white",
           "ticks": "",
           "title": {
            "standoff": 15
           },
           "zerolinecolor": "white",
           "zerolinewidth": 2
          }
         }
        }
       }
      },
      "text/html": [
       "<div>\n",
       "        \n",
       "        \n",
       "            <div id=\"8a1e6c0c-9c1d-4b2f-817b-05edb31312e3\" class=\"plotly-graph-div\" style=\"height:525px; width:100%;\"></div>\n",
       "            <script type=\"text/javascript\">\n",
       "                require([\"plotly\"], function(Plotly) {\n",
       "                    window.PLOTLYENV=window.PLOTLYENV || {};\n",
       "                    \n",
       "                if (document.getElementById(\"8a1e6c0c-9c1d-4b2f-817b-05edb31312e3\")) {\n",
       "                    Plotly.newPlot(\n",
       "                        '8a1e6c0c-9c1d-4b2f-817b-05edb31312e3',\n",
       "                        [{\"hoverinfo\": \"text\", \"line\": {\"color\": \"rgba(255,0,0,0.4623605445561957)\", \"width\": 0.6090716866174852}, \"mode\": \"lines\", \"text\": \"0.14370623230934146\", \"type\": \"scatter\", \"x\": [1, 2, 3], \"y\": [0.0, 0.0, 0.0]}, {\"hoverinfo\": \"text\", \"line\": {\"color\": \"rgba(255,0,0,0.4)\", \"width\": 0.5}, \"mode\": \"lines\", \"text\": \"0.11236831545829773\", \"type\": \"scatter\", \"x\": [1, 2, 3], \"y\": [0.1, 0.1, 0.1]}, {\"hoverinfo\": \"text\", \"line\": {\"color\": \"rgba(255,0,0,0.4)\", \"width\": 0.5}, \"mode\": \"lines\", \"text\": \"0.10513708740472794\", \"type\": \"scatter\", \"x\": [1, 2, 3], \"y\": [0.2, 0.2, 0.2]}, {\"hoverinfo\": \"text\", \"line\": {\"color\": \"rgba(255,0,0,0.4)\", \"width\": 0.5}, \"mode\": \"lines\", \"text\": \"0.11725154519081114\", \"type\": \"scatter\", \"x\": [1, 2, 3], \"y\": [0.30000000000000004, 0.30000000000000004, 0.30000000000000004]}, {\"hoverinfo\": \"text\", \"line\": {\"color\": \"rgba(255,0,0,0.4096555299770246)\", \"width\": 0.5}, \"mode\": \"lines\", \"text\": \"0.12345064431428908\", \"type\": \"scatter\", \"x\": [1, 2, 3], \"y\": [0.4, 0.4, 0.4]}, {\"hoverinfo\": \"text\", \"line\": {\"color\": \"rgba(255,0,0,0.4)\", \"width\": 0.5}, \"mode\": \"lines\", \"text\": \"0.10219395905733107\", \"type\": \"scatter\", \"x\": [1, 2, 3], \"y\": [0.5, 0.5, 0.5]}, {\"hoverinfo\": \"text\", \"line\": {\"color\": \"rgba(255,0,0,0.4)\", \"width\": 0.5}, \"mode\": \"lines\", \"text\": \"0.10290113836526872\", \"type\": \"scatter\", \"x\": [1, 2, 3], \"y\": [0.6000000000000001, 0.6000000000000001, 0.6000000000000001]}, {\"hoverinfo\": \"text\", \"line\": {\"color\": \"rgba(255,0,0,0.4)\", \"width\": 0.5}, \"mode\": \"lines\", \"text\": \"0.10136543959379196\", \"type\": \"scatter\", \"x\": [1, 2, 3], \"y\": [0.7000000000000001, 0.7000000000000001, 0.7000000000000001]}, {\"hoverinfo\": \"text\", \"line\": {\"color\": \"rgba(255,0,0,0.7336881051527547)\", \"width\": 1.6709962263498523}, \"mode\": \"lines\", \"text\": \"0.28163090348243713\", \"type\": \"scatter\", \"x\": [1, 2, 3], \"y\": [0.8, 0.8, 0.8]}, {\"hoverinfo\": \"text\", \"line\": {\"color\": \"rgba(255,0,0,0.4)\", \"width\": 0.5}, \"mode\": \"lines\", \"text\": \"0.1134723499417305\", \"type\": \"scatter\", \"x\": [1, 2, 3], \"y\": [0.9, 0.9, 0.9]}, {\"hoverinfo\": \"text\", \"line\": {\"color\": \"rgba(255,0,0,0.4)\", \"width\": 0.5}, \"mode\": \"lines\", \"text\": \"0.11417932808399199\", \"type\": \"scatter\", \"x\": [1, 2, 3], \"y\": [1.0, 1.0, 1.0]}, {\"hoverinfo\": \"text\", \"line\": {\"color\": \"rgba(255,0,0,0.46116644156583575)\", \"width\": 0.6060539811754182}, \"mode\": \"lines\", \"text\": \"0.14323116838932035\", \"type\": \"scatter\", \"x\": [1, 2, 3], \"y\": [1.1, 1.1, 1.1]}, {\"hoverinfo\": \"text\", \"line\": {\"color\": \"rgba(255,0,0,0.4323702048351241)\", \"width\": 0.5362282957639818}, \"mode\": \"lines\", \"text\": \"0.13200685381889346\", \"type\": \"scatter\", \"x\": [1, 2, 3], \"y\": [1.2000000000000002, 1.2000000000000002, 1.2000000000000002]}, {\"hoverinfo\": \"text\", \"line\": {\"color\": \"rgba(255,0,0,0.9018181883188451)\", \"width\": 3.265712919350811}, \"mode\": \"lines\", \"text\": \"0.4402323961257935\", \"type\": \"scatter\", \"x\": [1, 2, 3], \"y\": [1.3, 1.3, 1.3]}, {\"hoverinfo\": \"text\", \"line\": {\"color\": \"rgba(255,0,0,0.4)\", \"width\": 0.5}, \"mode\": \"lines\", \"text\": \"0.10349536687135696\", \"type\": \"scatter\", \"x\": [1, 2, 3], \"y\": [1.4000000000000001, 1.4000000000000001, 1.4000000000000001]}, {\"hoverinfo\": \"text\", \"line\": {\"color\": \"rgba(255,0,0,0.4216810935497912)\", \"width\": 0.5116944738584811}, \"mode\": \"lines\", \"text\": \"0.1279490739107132\", \"type\": \"scatter\", \"x\": [1, 2, 3], \"y\": [1.5, 1.5, 1.5]}, {\"hoverinfo\": \"text\", \"line\": {\"color\": \"rgba(255,0,0,0.4619841864207602)\", \"width\": 0.6081194829794102}, \"mode\": \"lines\", \"text\": \"0.1435564160346985\", \"type\": \"scatter\", \"x\": [1, 2, 3], \"y\": [1.6, 1.6, 1.6]}, {\"hoverinfo\": \"text\", \"line\": {\"color\": \"rgba(255,0,0,0.5431342071744814)\", \"width\": 0.8386154460176213}, \"mode\": \"lines\", \"text\": \"0.1778573840856552\", \"type\": \"scatter\", \"x\": [1, 2, 3], \"y\": [1.7000000000000002, 1.7000000000000002, 1.7000000000000002]}, {\"hoverinfo\": \"text\", \"line\": {\"color\": \"rgba(255,0,0,0.6553237908813248)\", \"width\": 1.263773566715884}, \"mode\": \"lines\", \"text\": \"0.2337811589241028\", \"type\": \"scatter\", \"x\": [1, 2, 3], \"y\": [1.8, 1.8, 1.8]}, {\"hoverinfo\": \"text\", \"line\": {\"color\": \"rgba(255,0,0,0.6416545778855283)\", \"width\": 1.2035582867379624}, \"mode\": \"lines\", \"text\": \"0.2262948900461197\", \"type\": \"scatter\", \"x\": [1, 2, 3], \"y\": [1.9000000000000001, 1.9000000000000001, 1.9000000000000001]}, {\"hoverinfo\": \"text\", \"line\": {\"color\": \"rgba(255,0,0,0.4214449957592934)\", \"width\": 0.5111607345095733}, \"mode\": \"lines\", \"text\": \"0.12786008417606354\", \"type\": \"scatter\", \"x\": [1, 2, 3], \"y\": [2.0, 2.0, 2.0]}, {\"hoverinfo\": \"text\", \"line\": {\"color\": \"rgba(255,0,0,0.45843361557725604)\", \"width\": 0.5991852268747336}, \"mode\": \"lines\", \"text\": \"0.14214690029621124\", \"type\": \"scatter\", \"x\": [1, 2, 3], \"y\": [2.1, 2.1, 2.1]}, {\"hoverinfo\": \"text\", \"line\": {\"color\": \"rgba(255,0,0,0.44398192967861094)\", \"width\": 0.5637157646418933}, \"mode\": \"lines\", \"text\": \"0.13648034632205966\", \"type\": \"scatter\", \"x\": [1, 2, 3], \"y\": [2.2, 2.2, 2.2]}, {\"hoverinfo\": \"text\", \"line\": {\"color\": \"rgba(255,0,0,0.4)\", \"width\": 0.5}, \"mode\": \"lines\", \"text\": \"0.10066123306751253\", \"type\": \"scatter\", \"x\": [1, 2, 3], \"y\": [2.3000000000000003, 2.3000000000000003, 2.3000000000000003]}, {\"hoverinfo\": \"text\", \"line\": {\"color\": \"rgba(255,0,0,0.4)\", \"width\": 0.5}, \"mode\": \"lines\", \"text\": \"0.11222603172063828\", \"type\": \"scatter\", \"x\": [1, 2, 3], \"y\": [2.4000000000000004, 2.4000000000000004, 2.4000000000000004]}, {\"hoverinfo\": \"text\", \"line\": {\"color\": \"rgba(255,0,0,0.4)\", \"width\": 0.5}, \"mode\": \"lines\", \"text\": \"0.10613570362329484\", \"type\": \"scatter\", \"x\": [1, 2, 3], \"y\": [2.5, 2.5, 2.5]}, {\"hoverinfo\": \"text\", \"line\": {\"color\": \"rgba(255,0,0,0.6939919518110509)\", \"width\": 1.450185900748161}, \"mode\": \"lines\", \"text\": \"0.2562393248081207\", \"type\": \"scatter\", \"x\": [1, 2, 3], \"y\": [2.6, 2.6, 2.6]}, {\"hoverinfo\": \"text\", \"line\": {\"color\": \"rgba(255,0,0,0.47204185307207225)\", \"width\": 0.6339117679088435}, \"mode\": \"lines\", \"text\": \"0.1475873738527298\", \"type\": \"scatter\", \"x\": [1, 2, 3], \"y\": [2.7, 2.7, 2.7]}, {\"hoverinfo\": \"text\", \"line\": {\"color\": \"rgba(255,0,0,0.4)\", \"width\": 0.5}, \"mode\": \"lines\", \"text\": \"0.10142996907234192\", \"type\": \"scatter\", \"x\": [1, 2, 3], \"y\": [2.8000000000000003, 2.8000000000000003, 2.8000000000000003]}, {\"hoverinfo\": \"text\", \"line\": {\"color\": \"rgba(255,0,0,0.4)\", \"width\": 0.5}, \"mode\": \"lines\", \"text\": \"0.10236532986164093\", \"type\": \"scatter\", \"x\": [1, 2, 3], \"y\": [2.9000000000000004, 2.9000000000000004, 2.9000000000000004]}, {\"hoverinfo\": \"text\", \"line\": {\"color\": \"rgba(255,0,0,0.4886096646975906)\", \"width\": 0.6780093781091473}, \"mode\": \"lines\", \"text\": \"0.15435491502285004\", \"type\": \"scatter\", \"x\": [1, 2, 3], \"y\": [3.0, 3.0, 3.0]}, {\"hoverinfo\": \"text\", \"line\": {\"color\": \"rgba(255,0,0,0.4)\", \"width\": 0.5}, \"mode\": \"lines\", \"text\": \"0.11042369157075882\", \"type\": \"scatter\", \"x\": [1, 2, 3], \"y\": [3.1, 3.1, 3.1]}, {\"hoverinfo\": \"text\", \"line\": {\"color\": \"rgba(255,0,0,0.7640357135392031)\", \"width\": 1.865057065440455}, \"mode\": \"lines\", \"text\": \"0.3030340373516083\", \"type\": \"scatter\", \"x\": [1, 2, 3], \"y\": [3.2, 3.2, 3.2]}, {\"hoverinfo\": \"text\", \"line\": {\"color\": \"rgba(255,0,0,0.4)\", \"width\": 0.5}, \"mode\": \"lines\", \"text\": \"0.10074274986982346\", \"type\": \"scatter\", \"x\": [1, 2, 3], \"y\": [3.3000000000000003, 3.3000000000000003, 3.3000000000000003]}, {\"hoverinfo\": \"text\", \"line\": {\"color\": \"rgba(255,0,0,0.6001277029843686)\", \"width\": 1.0361601422601463}, \"mode\": \"lines\", \"text\": \"0.20479275286197665\", \"type\": \"scatter\", \"x\": [1, 2, 3], \"y\": [3.4000000000000004, 3.4000000000000004, 3.4000000000000004]}, {\"hoverinfo\": \"text\", \"line\": {\"color\": \"rgba(255,0,0,0.5556473345809327)\", \"width\": 0.8791659976229097}, \"mode\": \"lines\", \"text\": \"0.1835455745458603\", \"type\": \"scatter\", \"x\": [1, 2, 3], \"y\": [3.5, 3.5, 3.5]}, {\"hoverinfo\": \"text\", \"line\": {\"color\": \"rgba(255,0,0,0.4)\", \"width\": 0.5}, \"mode\": \"lines\", \"text\": \"0.10549190640449524\", \"type\": \"scatter\", \"x\": [1, 2, 3], \"y\": [3.6, 3.6, 3.6]}, {\"hoverinfo\": \"text\", \"line\": {\"color\": \"rgba(255,0,0,0.582950964284509)\", \"width\": 0.9730276339158025}, \"mode\": \"lines\", \"text\": \"0.19638732075691226\", \"type\": \"scatter\", \"x\": [1, 2, 3], \"y\": [3.7, 3.7, 3.7]}, {\"hoverinfo\": \"text\", \"line\": {\"color\": \"rgba(255,0,0,0.4)\", \"width\": 0.5}, \"mode\": \"lines\", \"text\": \"0.11786869913339615\", \"type\": \"scatter\", \"x\": [1, 2, 3], \"y\": [3.8000000000000003, 3.8000000000000003, 3.8000000000000003]}, {\"hoverinfo\": \"text\", \"line\": {\"color\": \"rgba(255,0,0,0.4)\", \"width\": 0.5}, \"mode\": \"lines\", \"text\": \"0.10382822155952454\", \"type\": \"scatter\", \"x\": [1, 2, 3], \"y\": [3.9000000000000004, 3.9000000000000004, 3.9000000000000004]}, {\"hoverinfo\": \"text\", \"line\": {\"color\": \"rgba(255,0,0,0.5606589100368844)\", \"width\": 0.8958286553915371}, \"mode\": \"lines\", \"text\": \"0.18585744500160215\", \"type\": \"scatter\", \"x\": [1, 2, 3], \"y\": [4.0, 4.0, 4.0]}, {\"hoverinfo\": \"text\", \"line\": {\"color\": \"rgba(255,0,0,0.528938475573826)\", \"width\": 0.7943622371429586}, \"mode\": \"lines\", \"text\": \"0.17154407501220706\", \"type\": \"scatter\", \"x\": [1, 2, 3], \"y\": [4.1000000000000005, 4.1000000000000005, 4.1000000000000005]}, {\"hoverinfo\": \"text\", \"line\": {\"color\": \"rgba(255,0,0,0.4)\", \"width\": 0.5}, \"mode\": \"lines\", \"text\": \"0.11396177858114245\", \"type\": \"scatter\", \"x\": [1, 2, 3], \"y\": [4.2, 4.2, 4.2]}, {\"hoverinfo\": \"text\", \"line\": {\"color\": \"rgba(255,0,0,0.4)\", \"width\": 0.5}, \"mode\": \"lines\", \"text\": \"0.11859458684921265\", \"type\": \"scatter\", \"x\": [1, 2, 3], \"y\": [4.3, 4.3, 4.3]}, {\"hoverinfo\": \"text\", \"line\": {\"color\": \"rgba(255,0,0,0.44947388503035013)\", \"width\": 0.5770277088234211}, \"mode\": \"lines\", \"text\": \"0.13862060010433194\", \"type\": \"scatter\", \"x\": [1, 2, 3], \"y\": [4.4, 4.4, 4.4]}, {\"hoverinfo\": \"text\", \"line\": {\"color\": \"rgba(255,0,0,0.5018214549386906)\", \"width\": 0.7146729521942479}, \"mode\": \"lines\", \"text\": \"0.1598704606294632\", \"type\": \"scatter\", \"x\": [1, 2, 3], \"y\": [4.5, 4.5, 4.5]}, {\"hoverinfo\": \"text\", \"line\": {\"color\": \"rgba(255,0,0,0.4557545030581375)\", \"width\": 0.5925019041705807}, \"mode\": \"lines\", \"text\": \"0.14108791947364807\", \"type\": \"scatter\", \"x\": [1, 2, 3], \"y\": [4.6000000000000005, 4.6000000000000005, 4.6000000000000005]}, {\"hoverinfo\": \"text\", \"line\": {\"color\": \"rgba(255,0,0,0.4)\", \"width\": 0.5}, \"mode\": \"lines\", \"text\": \"0.1163221076130867\", \"type\": \"scatter\", \"x\": [1, 2, 3], \"y\": [4.7, 4.7, 4.7]}, {\"hoverinfo\": \"text\", \"line\": {\"color\": \"rgba(255,0,0,0.4404951390523981)\", \"width\": 0.5553686920661048}, \"mode\": \"lines\", \"text\": \"0.13512973487377167\", \"type\": \"scatter\", \"x\": [1, 2, 3], \"y\": [4.800000000000001, 4.800000000000001, 4.800000000000001]}, {\"hoverinfo\": \"text\", \"line\": {\"color\": \"rgba(255,0,0,0.4)\", \"width\": 0.5}, \"mode\": \"lines\", \"text\": \"0.11276588588953018\", \"type\": \"scatter\", \"x\": [1, 2, 3], \"y\": [4.9, 4.9, 4.9]}, {\"hoverinfo\": \"text\", \"line\": {\"color\": \"rgba(255,0,0,0.4)\", \"width\": 0.5}, \"mode\": \"lines\", \"text\": \"0.1110248789191246\", \"type\": \"scatter\", \"x\": [1, 2, 3], \"y\": [5.0, 5.0, 5.0]}, {\"hoverinfo\": \"text\", \"line\": {\"color\": \"rgba(255,0,0,0.4)\", \"width\": 0.5}, \"mode\": \"lines\", \"text\": \"0.11503873020410538\", \"type\": \"scatter\", \"x\": [1, 2, 3], \"y\": [5.1000000000000005, 5.1000000000000005, 5.1000000000000005]}, {\"hoverinfo\": \"text\", \"line\": {\"color\": \"rgba(255,0,0,0.5801456027452053)\", \"width\": 0.9630264334351964}, \"mode\": \"lines\", \"text\": \"0.195039302110672\", \"type\": \"scatter\", \"x\": [1, 2, 3], \"y\": [5.2, 5.2, 5.2]}, {\"hoverinfo\": \"text\", \"line\": {\"color\": \"rgba(255,0,0,0.4624419368069259)\", \"width\": 0.6092777438801225}, \"mode\": \"lines\", \"text\": \"0.14373864233493805\", \"type\": \"scatter\", \"x\": [1, 2, 3], \"y\": [5.300000000000001, 5.300000000000001, 5.300000000000001]}, {\"hoverinfo\": \"text\", \"line\": {\"color\": \"rgba(255,0,0,0.4495345291464339)\", \"width\": 0.5771758384434041}, \"mode\": \"lines\", \"text\": \"0.13864432275295258\", \"type\": \"scatter\", \"x\": [1, 2, 3], \"y\": [5.4, 5.4, 5.4]}, {\"hoverinfo\": \"text\", \"line\": {\"color\": \"rgba(255,0,0,0.411294403003049)\", \"width\": 0.5}, \"mode\": \"lines\", \"text\": \"0.12405963242053986\", \"type\": \"scatter\", \"x\": [1, 2, 3], \"y\": [5.5, 5.5, 5.5]}, {\"hoverinfo\": \"text\", \"line\": {\"color\": \"rgba(255,0,0,0.4809066910866461)\", \"width\": 0.657252547454112}, \"mode\": \"lines\", \"text\": \"0.15118829905986786\", \"type\": \"scatter\", \"x\": [1, 2, 3], \"y\": [5.6000000000000005, 5.6000000000000005, 5.6000000000000005]}, {\"hoverinfo\": \"text\", \"line\": {\"color\": \"rgba(255,0,0,0.45371775809636994)\", \"width\": 0.5874541920844936}, \"mode\": \"lines\", \"text\": \"0.140285462141037\", \"type\": \"scatter\", \"x\": [1, 2, 3], \"y\": [5.7, 5.7, 5.7]}, {\"hoverinfo\": \"text\", \"line\": {\"color\": \"rgba(255,0,0,0.7508141830769461)\", \"width\": 1.7774597301589066}, \"mode\": \"lines\", \"text\": \"0.29346963763237\", \"type\": \"scatter\", \"x\": [1, 2, 3], \"y\": [5.800000000000001, 5.800000000000001, 5.800000000000001]}, {\"hoverinfo\": \"text\", \"line\": {\"color\": \"rgba(255,0,0,0.4289045626351461)\", \"width\": 0.5281941998150642}, \"mode\": \"lines\", \"text\": \"0.1306850016117096\", \"type\": \"scatter\", \"x\": [1, 2, 3], \"y\": [5.9, 5.9, 5.9]}, {\"hoverinfo\": \"text\", \"line\": {\"color\": \"rgba(255,0,0,0.5690199058545501)\", \"width\": 0.9241830992920974}, \"mode\": \"lines\", \"text\": \"0.18975883722305295\", \"type\": \"scatter\", \"x\": [1, 2, 3], \"y\": [6.0, 6.0, 6.0]}, {\"hoverinfo\": \"text\", \"line\": {\"color\": \"rgba(255,0,0,0.4)\", \"width\": 0.5}, \"mode\": \"lines\", \"text\": \"0.1023336425423622\", \"type\": \"scatter\", \"x\": [1, 2, 3], \"y\": [6.1000000000000005, 6.1000000000000005, 6.1000000000000005]}, {\"hoverinfo\": \"text\", \"line\": {\"color\": \"rgba(255,0,0,0.4)\", \"width\": 0.5}, \"mode\": \"lines\", \"text\": \"0.10919872671365738\", \"type\": \"scatter\", \"x\": [1, 2, 3], \"y\": [6.2, 6.2, 6.2]}, {\"hoverinfo\": \"text\", \"line\": {\"color\": \"rgba(255,0,0,0.4882202680404959)\", \"width\": 0.6769493017960774}, \"mode\": \"lines\", \"text\": \"0.15419398248195648\", \"type\": \"scatter\", \"x\": [1, 2, 3], \"y\": [6.300000000000001, 6.300000000000001, 6.300000000000001]}, {\"hoverinfo\": \"text\", \"line\": {\"color\": \"rgba(255,0,0,0.4762707391526988)\", \"width\": 0.6449742136975131}, \"mode\": \"lines\", \"text\": \"0.14929945766925812\", \"type\": \"scatter\", \"x\": [1, 2, 3], \"y\": [6.4, 6.4, 6.4]}, {\"hoverinfo\": \"text\", \"line\": {\"color\": \"rgba(255,0,0,0.4)\", \"width\": 0.5}, \"mode\": \"lines\", \"text\": \"0.11705926060676575\", \"type\": \"scatter\", \"x\": [1, 2, 3], \"y\": [6.5, 6.5, 6.5]}, {\"hoverinfo\": \"text\", \"line\": {\"color\": \"rgba(255,0,0,0.4)\", \"width\": 0.5}, \"mode\": \"lines\", \"text\": \"0.11124771833419801\", \"type\": \"scatter\", \"x\": [1, 2, 3], \"y\": [6.6000000000000005, 6.6000000000000005, 6.6000000000000005]}, {\"hoverinfo\": \"text\", \"line\": {\"color\": \"rgba(255,0,0,0.4)\", \"width\": 0.5}, \"mode\": \"lines\", \"text\": \"0.1067403331398964\", \"type\": \"scatter\", \"x\": [1, 2, 3], \"y\": [6.7, 6.7, 6.7]}, {\"hoverinfo\": \"text\", \"line\": {\"color\": \"rgba(255,0,0,0.4191208503187006)\", \"width\": 0.5059251973045361}, \"mode\": \"lines\", \"text\": \"0.12698552012443542\", \"type\": \"scatter\", \"x\": [1, 2, 3], \"y\": [6.800000000000001, 6.800000000000001, 6.800000000000001]}, {\"hoverinfo\": \"text\", \"line\": {\"color\": \"rgba(255,0,0,0.4)\", \"width\": 0.5}, \"mode\": \"lines\", \"text\": \"0.1009724736213684\", \"type\": \"scatter\", \"x\": [1, 2, 3], \"y\": [6.9, 6.9, 6.9]}, {\"hoverinfo\": \"text\", \"line\": {\"color\": \"rgba(255,0,0,0.4)\", \"width\": 0.5}, \"mode\": \"lines\", \"text\": \"0.10716696083545683\", \"type\": \"scatter\", \"x\": [1, 2, 3], \"y\": [7.0, 7.0, 7.0]}, {\"hoverinfo\": \"text\", \"line\": {\"color\": \"rgba(255,0,0,0.45840603323470963)\", \"width\": 0.599116166217542}, \"mode\": \"lines\", \"text\": \"0.14213597774505615\", \"type\": \"scatter\", \"x\": [1, 2, 3], \"y\": [7.1000000000000005, 7.1000000000000005, 7.1000000000000005]}, {\"hoverinfo\": \"text\", \"line\": {\"color\": \"rgba(255,0,0,0.4906577917179863)\", \"width\": 0.6836042200133351}, \"mode\": \"lines\", \"text\": \"0.15520289540290833\", \"type\": \"scatter\", \"x\": [1, 2, 3], \"y\": [7.2, 7.2, 7.2]}, {\"hoverinfo\": \"text\", \"line\": {\"color\": \"rgba(255,0,0,0.5069817669038044)\", \"width\": 0.7293682679880675}, \"mode\": \"lines\", \"text\": \"0.16205455362796786\", \"type\": \"scatter\", \"x\": [1, 2, 3], \"y\": [7.300000000000001, 7.300000000000001, 7.300000000000001]}, {\"hoverinfo\": \"text\", \"line\": {\"color\": \"rgba(255,0,0,0.4)\", \"width\": 0.5}, \"mode\": \"lines\", \"text\": \"0.10635922849178314\", \"type\": \"scatter\", \"x\": [1, 2, 3], \"y\": [7.4, 7.4, 7.4]}, {\"hoverinfo\": \"text\", \"line\": {\"color\": \"rgba(255,0,0,0.8852071109182268)\", \"width\": 3.0206676993009145}, \"mode\": \"lines\", \"text\": \"0.4179252684116364\", \"type\": \"scatter\", \"x\": [1, 2, 3], \"y\": [7.5, 7.5, 7.5]}, {\"hoverinfo\": \"text\", \"line\": {\"color\": \"rgba(255,0,0,0.4)\", \"width\": 0.5}, \"mode\": \"lines\", \"text\": \"0.11294622719287872\", \"type\": \"scatter\", \"x\": [1, 2, 3], \"y\": [7.6000000000000005, 7.6000000000000005, 7.6000000000000005]}, {\"hoverinfo\": \"text\", \"line\": {\"color\": \"rgba(255,0,0,0.4)\", \"width\": 0.5}, \"mode\": \"lines\", \"text\": \"0.10203936696052553\", \"type\": \"scatter\", \"x\": [1, 2, 3], \"y\": [7.7, 7.7, 7.7]}, {\"hoverinfo\": \"text\", \"line\": {\"color\": \"rgba(255,0,0,0.4)\", \"width\": 0.5}, \"mode\": \"lines\", \"text\": \"0.10601377487182616\", \"type\": \"scatter\", \"x\": [1, 2, 3], \"y\": [7.800000000000001, 7.800000000000001, 7.800000000000001]}, {\"hoverinfo\": \"text\", \"line\": {\"color\": \"rgba(255,0,0,0.4)\", \"width\": 0.5}, \"mode\": \"lines\", \"text\": \"0.11428913474082948\", \"type\": \"scatter\", \"x\": [1, 2, 3], \"y\": [7.9, 7.9, 7.9]}, {\"hoverinfo\": \"text\", \"line\": {\"color\": \"rgba(255,0,0,0.4)\", \"width\": 0.5}, \"mode\": \"lines\", \"text\": \"0.10498390346765518\", \"type\": \"scatter\", \"x\": [1, 2, 3], \"y\": [8.0, 8.0, 8.0]}, {\"hoverinfo\": \"text\", \"line\": {\"color\": \"rgba(255,0,0,0.4)\", \"width\": 0.5}, \"mode\": \"lines\", \"text\": \"0.10214492678642273\", \"type\": \"scatter\", \"x\": [1, 2, 3], \"y\": [8.1, 8.1, 8.1]}],\n",
       "                        {\"template\": {\"data\": {\"bar\": [{\"error_x\": {\"color\": \"#2a3f5f\"}, \"error_y\": {\"color\": \"#2a3f5f\"}, \"marker\": {\"line\": {\"color\": \"#E5ECF6\", \"width\": 0.5}}, \"type\": \"bar\"}], \"barpolar\": [{\"marker\": {\"line\": {\"color\": \"#E5ECF6\", \"width\": 0.5}}, \"type\": \"barpolar\"}], \"carpet\": [{\"aaxis\": {\"endlinecolor\": \"#2a3f5f\", \"gridcolor\": \"white\", \"linecolor\": \"white\", \"minorgridcolor\": \"white\", \"startlinecolor\": \"#2a3f5f\"}, \"baxis\": {\"endlinecolor\": \"#2a3f5f\", \"gridcolor\": \"white\", \"linecolor\": \"white\", \"minorgridcolor\": \"white\", \"startlinecolor\": \"#2a3f5f\"}, \"type\": \"carpet\"}], \"choropleth\": [{\"colorbar\": {\"outlinewidth\": 0, \"ticks\": \"\"}, \"type\": \"choropleth\"}], \"contour\": [{\"colorbar\": {\"outlinewidth\": 0, \"ticks\": \"\"}, \"colorscale\": [[0.0, \"#0d0887\"], [0.1111111111111111, \"#46039f\"], [0.2222222222222222, \"#7201a8\"], [0.3333333333333333, \"#9c179e\"], [0.4444444444444444, \"#bd3786\"], [0.5555555555555556, \"#d8576b\"], [0.6666666666666666, \"#ed7953\"], [0.7777777777777778, \"#fb9f3a\"], [0.8888888888888888, \"#fdca26\"], [1.0, \"#f0f921\"]], \"type\": \"contour\"}], \"contourcarpet\": [{\"colorbar\": {\"outlinewidth\": 0, \"ticks\": \"\"}, \"type\": \"contourcarpet\"}], \"heatmap\": [{\"colorbar\": {\"outlinewidth\": 0, \"ticks\": \"\"}, \"colorscale\": [[0.0, \"#0d0887\"], [0.1111111111111111, \"#46039f\"], [0.2222222222222222, \"#7201a8\"], [0.3333333333333333, \"#9c179e\"], [0.4444444444444444, \"#bd3786\"], [0.5555555555555556, \"#d8576b\"], [0.6666666666666666, \"#ed7953\"], [0.7777777777777778, \"#fb9f3a\"], [0.8888888888888888, \"#fdca26\"], [1.0, \"#f0f921\"]], \"type\": \"heatmap\"}], \"heatmapgl\": [{\"colorbar\": {\"outlinewidth\": 0, \"ticks\": \"\"}, \"colorscale\": [[0.0, \"#0d0887\"], [0.1111111111111111, \"#46039f\"], [0.2222222222222222, \"#7201a8\"], [0.3333333333333333, \"#9c179e\"], [0.4444444444444444, \"#bd3786\"], [0.5555555555555556, \"#d8576b\"], [0.6666666666666666, \"#ed7953\"], [0.7777777777777778, \"#fb9f3a\"], [0.8888888888888888, \"#fdca26\"], [1.0, \"#f0f921\"]], \"type\": \"heatmapgl\"}], \"histogram\": [{\"marker\": {\"colorbar\": {\"outlinewidth\": 0, \"ticks\": \"\"}}, \"type\": \"histogram\"}], \"histogram2d\": [{\"colorbar\": {\"outlinewidth\": 0, \"ticks\": \"\"}, \"colorscale\": [[0.0, \"#0d0887\"], [0.1111111111111111, \"#46039f\"], [0.2222222222222222, \"#7201a8\"], [0.3333333333333333, \"#9c179e\"], [0.4444444444444444, \"#bd3786\"], [0.5555555555555556, \"#d8576b\"], [0.6666666666666666, \"#ed7953\"], [0.7777777777777778, \"#fb9f3a\"], [0.8888888888888888, \"#fdca26\"], [1.0, \"#f0f921\"]], \"type\": \"histogram2d\"}], \"histogram2dcontour\": [{\"colorbar\": {\"outlinewidth\": 0, \"ticks\": \"\"}, \"colorscale\": [[0.0, \"#0d0887\"], [0.1111111111111111, \"#46039f\"], [0.2222222222222222, \"#7201a8\"], [0.3333333333333333, \"#9c179e\"], [0.4444444444444444, \"#bd3786\"], [0.5555555555555556, \"#d8576b\"], [0.6666666666666666, \"#ed7953\"], [0.7777777777777778, \"#fb9f3a\"], [0.8888888888888888, \"#fdca26\"], [1.0, \"#f0f921\"]], \"type\": \"histogram2dcontour\"}], \"mesh3d\": [{\"colorbar\": {\"outlinewidth\": 0, \"ticks\": \"\"}, \"type\": \"mesh3d\"}], \"parcoords\": [{\"line\": {\"colorbar\": {\"outlinewidth\": 0, \"ticks\": \"\"}}, \"type\": \"parcoords\"}], \"pie\": [{\"automargin\": true, \"type\": \"pie\"}], \"scatter\": [{\"marker\": {\"colorbar\": {\"outlinewidth\": 0, \"ticks\": \"\"}}, \"type\": \"scatter\"}], \"scatter3d\": [{\"line\": {\"colorbar\": {\"outlinewidth\": 0, \"ticks\": \"\"}}, \"marker\": {\"colorbar\": {\"outlinewidth\": 0, \"ticks\": \"\"}}, \"type\": \"scatter3d\"}], \"scattercarpet\": [{\"marker\": {\"colorbar\": {\"outlinewidth\": 0, \"ticks\": \"\"}}, \"type\": \"scattercarpet\"}], \"scattergeo\": [{\"marker\": {\"colorbar\": {\"outlinewidth\": 0, \"ticks\": \"\"}}, \"type\": \"scattergeo\"}], \"scattergl\": [{\"marker\": {\"colorbar\": {\"outlinewidth\": 0, \"ticks\": \"\"}}, \"type\": \"scattergl\"}], \"scattermapbox\": [{\"marker\": {\"colorbar\": {\"outlinewidth\": 0, \"ticks\": \"\"}}, \"type\": \"scattermapbox\"}], \"scatterpolar\": [{\"marker\": {\"colorbar\": {\"outlinewidth\": 0, \"ticks\": \"\"}}, \"type\": \"scatterpolar\"}], \"scatterpolargl\": [{\"marker\": {\"colorbar\": {\"outlinewidth\": 0, \"ticks\": \"\"}}, \"type\": \"scatterpolargl\"}], \"scatterternary\": [{\"marker\": {\"colorbar\": {\"outlinewidth\": 0, \"ticks\": \"\"}}, \"type\": \"scatterternary\"}], \"surface\": [{\"colorbar\": {\"outlinewidth\": 0, \"ticks\": \"\"}, \"colorscale\": [[0.0, \"#0d0887\"], [0.1111111111111111, \"#46039f\"], [0.2222222222222222, \"#7201a8\"], [0.3333333333333333, \"#9c179e\"], [0.4444444444444444, \"#bd3786\"], [0.5555555555555556, \"#d8576b\"], [0.6666666666666666, \"#ed7953\"], [0.7777777777777778, \"#fb9f3a\"], [0.8888888888888888, \"#fdca26\"], [1.0, \"#f0f921\"]], \"type\": \"surface\"}], \"table\": [{\"cells\": {\"fill\": {\"color\": \"#EBF0F8\"}, \"line\": {\"color\": \"white\"}}, \"header\": {\"fill\": {\"color\": \"#C8D4E3\"}, \"line\": {\"color\": \"white\"}}, \"type\": \"table\"}]}, \"layout\": {\"annotationdefaults\": {\"arrowcolor\": \"#2a3f5f\", \"arrowhead\": 0, \"arrowwidth\": 1}, \"coloraxis\": {\"colorbar\": {\"outlinewidth\": 0, \"ticks\": \"\"}}, \"colorscale\": {\"diverging\": [[0, \"#8e0152\"], [0.1, \"#c51b7d\"], [0.2, \"#de77ae\"], [0.3, \"#f1b6da\"], [0.4, \"#fde0ef\"], [0.5, \"#f7f7f7\"], [0.6, \"#e6f5d0\"], [0.7, \"#b8e186\"], [0.8, \"#7fbc41\"], [0.9, \"#4d9221\"], [1, \"#276419\"]], \"sequential\": [[0.0, \"#0d0887\"], [0.1111111111111111, \"#46039f\"], [0.2222222222222222, \"#7201a8\"], [0.3333333333333333, \"#9c179e\"], [0.4444444444444444, \"#bd3786\"], [0.5555555555555556, \"#d8576b\"], [0.6666666666666666, \"#ed7953\"], [0.7777777777777778, \"#fb9f3a\"], [0.8888888888888888, \"#fdca26\"], [1.0, \"#f0f921\"]], \"sequentialminus\": [[0.0, \"#0d0887\"], [0.1111111111111111, \"#46039f\"], [0.2222222222222222, \"#7201a8\"], [0.3333333333333333, \"#9c179e\"], [0.4444444444444444, \"#bd3786\"], [0.5555555555555556, \"#d8576b\"], [0.6666666666666666, \"#ed7953\"], [0.7777777777777778, \"#fb9f3a\"], [0.8888888888888888, \"#fdca26\"], [1.0, \"#f0f921\"]]}, \"colorway\": [\"#636efa\", \"#EF553B\", \"#00cc96\", \"#ab63fa\", \"#FFA15A\", \"#19d3f3\", \"#FF6692\", \"#B6E880\", \"#FF97FF\", \"#FECB52\"], \"font\": {\"color\": \"#2a3f5f\"}, \"geo\": {\"bgcolor\": \"white\", \"lakecolor\": \"white\", \"landcolor\": \"#E5ECF6\", \"showlakes\": true, \"showland\": true, \"subunitcolor\": \"white\"}, \"hoverlabel\": {\"align\": \"left\"}, \"hovermode\": \"closest\", \"mapbox\": {\"style\": \"light\"}, \"paper_bgcolor\": \"white\", \"plot_bgcolor\": \"#E5ECF6\", \"polar\": {\"angularaxis\": {\"gridcolor\": \"white\", \"linecolor\": \"white\", \"ticks\": \"\"}, \"bgcolor\": \"#E5ECF6\", \"radialaxis\": {\"gridcolor\": \"white\", \"linecolor\": \"white\", \"ticks\": \"\"}}, \"scene\": {\"xaxis\": {\"backgroundcolor\": \"#E5ECF6\", \"gridcolor\": \"white\", \"gridwidth\": 2, \"linecolor\": \"white\", \"showbackground\": true, \"ticks\": \"\", \"zerolinecolor\": \"white\"}, \"yaxis\": {\"backgroundcolor\": \"#E5ECF6\", \"gridcolor\": \"white\", \"gridwidth\": 2, \"linecolor\": \"white\", \"showbackground\": true, \"ticks\": \"\", \"zerolinecolor\": \"white\"}, \"zaxis\": {\"backgroundcolor\": \"#E5ECF6\", \"gridcolor\": \"white\", \"gridwidth\": 2, \"linecolor\": \"white\", \"showbackground\": true, \"ticks\": \"\", \"zerolinecolor\": \"white\"}}, \"shapedefaults\": {\"line\": {\"color\": \"#2a3f5f\"}}, \"ternary\": {\"aaxis\": {\"gridcolor\": \"white\", \"linecolor\": \"white\", \"ticks\": \"\"}, \"baxis\": {\"gridcolor\": \"white\", \"linecolor\": \"white\", \"ticks\": \"\"}, \"bgcolor\": \"#E5ECF6\", \"caxis\": {\"gridcolor\": \"white\", \"linecolor\": \"white\", \"ticks\": \"\"}}, \"title\": {\"x\": 0.05}, \"xaxis\": {\"automargin\": true, \"gridcolor\": \"white\", \"linecolor\": \"white\", \"ticks\": \"\", \"title\": {\"standoff\": 15}, \"zerolinecolor\": \"white\", \"zerolinewidth\": 2}, \"yaxis\": {\"automargin\": true, \"gridcolor\": \"white\", \"linecolor\": \"white\", \"ticks\": \"\", \"title\": {\"standoff\": 15}, \"zerolinecolor\": \"white\", \"zerolinewidth\": 2}}}},\n",
       "                        {\"responsive\": true}\n",
       "                    ).then(function(){\n",
       "                            \n",
       "var gd = document.getElementById('8a1e6c0c-9c1d-4b2f-817b-05edb31312e3');\n",
       "var x = new MutationObserver(function (mutations, observer) {{\n",
       "        var display = window.getComputedStyle(gd).display;\n",
       "        if (!display || display === 'none') {{\n",
       "            console.log([gd, 'removed!']);\n",
       "            Plotly.purge(gd);\n",
       "            observer.disconnect();\n",
       "        }}\n",
       "}});\n",
       "\n",
       "// Listen for the removal of the full notebook cells\n",
       "var notebookContainer = gd.closest('#notebook-container');\n",
       "if (notebookContainer) {{\n",
       "    x.observe(notebookContainer, {childList: true});\n",
       "}}\n",
       "\n",
       "// Listen for the clearing of the current output cell\n",
       "var outputEl = gd.closest('.output');\n",
       "if (outputEl) {{\n",
       "    x.observe(outputEl, {childList: true});\n",
       "}}\n",
       "\n",
       "                        })\n",
       "                };\n",
       "                });\n",
       "            </script>\n",
       "        </div>"
      ]
     },
     "metadata": {},
     "output_type": "display_data"
    },
    {
     "data": {
      "text/plain": [
       "0.8704000000000001"
      ]
     },
     "execution_count": 195,
     "metadata": {},
     "output_type": "execute_result"
    }
   ],
   "source": [
    "import plotly.graph_objects as go\n",
    "\n",
    "\n",
    "\n",
    "show = [True,False,False,False,True,False,False,False]\n",
    "\n",
    "widths = [.01,.1,.5,.8,1,2,3,10] \n",
    "\n",
    "\n",
    "layer_colors = ['rgba(31,119,180,', \n",
    "                'rgba(255,127,14,',\n",
    "                'rgba(44,160,44,', \n",
    "                'rgba(214,39,40,',\n",
    "                'rgba(39, 208, 214,', \n",
    "                'rgba(242, 250, 17,',\n",
    "                'rgba(196, 94, 255,',\n",
    "                'rgba(193, 245, 5,',\n",
    "                'rgba(245, 85, 5,',\n",
    "                'rgba(5, 165, 245,',\n",
    "                'rgba(245, 5, 105,',\n",
    "                'rgba(218, 232, 23,',\n",
    "                'rgba(148, 23, 232,',\n",
    "                'rgba(23, 232, 166,',]\n",
    "\n",
    "\n",
    "edges_select_df = get_thresholded_edges(threshold = .1)\n",
    "\n",
    "\n",
    "widths = []\n",
    "for row in edges_select_df.itertuples():\n",
    "    widths.append(row.rank_score)\n",
    "    \n",
    "\n",
    "\n",
    "fig2 = go.Figure()\n",
    "\n",
    "# for i in range(4):\n",
    "#     fig2.add_trace(go.Scatter(\n",
    "#         x=[1+i, 2+i, 3+i],\n",
    "#         y=[2+i, 2+i, 2+i],\n",
    "#         legendgroup=\"group1\",\n",
    "#         name=\"group1\",\n",
    "#         mode=\"lines\",\n",
    "#         line=dict(color=layer_colors[i]+'1)',width = widths[i]),\n",
    "#         text=[None, \"Text B\", None],\n",
    "#         hoverinfo = 'text',\n",
    "#         showlegend= show[i]\n",
    "#     ))\n",
    "\n",
    "# for i in range(4,8):\n",
    "#     fig2.add_trace(go.Scatter(\n",
    "#         x=[1+i, 2+i, 3+i],\n",
    "#         y=[4+i, 9+i, 2+i],\n",
    "#         legendgroup=\"group2\",\n",
    "#         name=\"group2\",\n",
    "#         mode=\"lines\",\n",
    "#         line=dict(color=layer_colors[i]+'1)',width = widths[i]),\n",
    "#         showlegend = show[i]\n",
    "#     ))\n",
    "\n",
    "\n",
    "# fig3 = go.Figure()\n",
    "\n",
    "# for i in range(len(layer_colors)):\n",
    "#     fig3.add_trace(go.Scatter(\n",
    "#         x=[1, 2, 3],\n",
    "#         y=[i, i, i],\n",
    "#         mode=\"lines\",\n",
    "#         line=dict(color=layer_colors[i]+'1)'),\n",
    "\n",
    "#     ))    \n",
    "  \n",
    "fig4 = go.Figure()\n",
    "\n",
    "def edge_width_scaling(x):\n",
    "    return max(.5,(x*5)**1.5)\n",
    "\n",
    "def edge_color_scaling(x):\n",
    "    return max(.4,-(x-1)**4+1)\n",
    "\n",
    "for i in range(len(widths)):\n",
    "    fig4.add_trace(go.Scatter(\n",
    "        x=[1, 2, 3],\n",
    "        y=[.1*i, .1*i, .1*i],\n",
    "        mode=\"lines\",\n",
    "        line=dict(color='rgba(255,0,0,%s)'%edge_color_scaling(widths[i]),width=edge_width_scaling(widths[i])),\n",
    "        text = widths[i],\n",
    "        hoverinfo = 'text'\n",
    "        \n",
    "\n",
    "    ))    \n",
    "\n",
    "    \n",
    "#fig2.show()\n",
    "fig4.show()\n",
    "edge_color_scaling(.4)"
   ]
  },
  {
   "cell_type": "code",
   "execution_count": 86,
   "metadata": {},
   "outputs": [
    {
     "name": "stdout",
     "output_type": "stream",
     "text": [
      "5\n",
      "6\n",
      "7\n",
      "8\n"
     ]
    }
   ],
   "source": [
    "# from PIL import Image\n",
    "# im_names = os.listdir('input_images_testing')\n",
    "\n",
    "# for name in im_names:\n",
    "#     im = Image.open(\"input_images_testing/%s\"%name)\n",
    "#     im = im.resize((320,320),resample=Image.NEAREST)\n",
    "#     im.save(\"input_images/%s\"%name,\"PNG\")\n",
    "\n",
    "for i in range(5,9):\n",
    "    print(i)"
   ]
  }
 ],
 "metadata": {
  "kernelspec": {
   "display_name": "Python [conda env:graph_viz]",
   "language": "python",
   "name": "conda-env-graph_viz-py"
  },
  "language_info": {
   "codemirror_mode": {
    "name": "ipython",
    "version": 3
   },
   "file_extension": ".py",
   "mimetype": "text/x-python",
   "name": "python",
   "nbconvert_exporter": "python",
   "pygments_lexer": "ipython3",
   "version": "3.7.6"
  }
 },
 "nbformat": 4,
 "nbformat_minor": 2
}
